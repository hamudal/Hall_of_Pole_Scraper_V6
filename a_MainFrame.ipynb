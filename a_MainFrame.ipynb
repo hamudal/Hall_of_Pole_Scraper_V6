{
 "cells": [
  {
   "cell_type": "markdown",
   "metadata": {},
   "source": [
    "V3"
   ]
  },
  {
   "cell_type": "code",
   "execution_count": 1,
   "metadata": {},
   "outputs": [
    {
     "name": "stderr",
     "output_type": "stream",
     "text": [
      "Processing URLs:   0%|          | 0/10 [00:00<?, ?it/s]"
     ]
    },
    {
     "name": "stdout",
     "output_type": "stream",
     "text": [
      "Starting URL reconstruction...\n"
     ]
    },
    {
     "name": "stderr",
     "output_type": "stream",
     "text": [
      "2024-02-03 15:43:25,350 - INFO - Processing URL 1/3: https://www.eversports.de/s/pole-statement\n"
     ]
    },
    {
     "name": "stdout",
     "output_type": "stream",
     "text": [
      "Error reconstructing URL for 'Kurse': Unrecognized text: 'Kurse'\n",
      "Error reconstructing URL for 'Events': Unrecognized text: 'Events'\n",
      "Converting to DataFrame...\n",
      "Validating URLs...\n"
     ]
    },
    {
     "name": "stderr",
     "output_type": "stream",
     "text": [
      "2024-02-03 15:43:27,308 - INFO - URL https://www.eversports.de/s/pole-statement is valid.\n",
      "2024-02-03 15:43:27,308 - INFO - Processing URL 2/3: https://www.eversports.de/sp/pole-statement\n",
      "2024-02-03 15:43:28,468 - INFO - URL https://www.eversports.de/sp/pole-statement is valid.\n",
      "2024-02-03 15:43:28,469 - INFO - Processing URL 3/3: https://www.eversports.de/s/pole-statement/team\n",
      "2024-02-03 15:43:30,186 - INFO - URL https://www.eversports.de/s/pole-statement/team is valid.\n"
     ]
    },
    {
     "name": "stdout",
     "output_type": "stream",
     "text": [
      "Scraping Pole Studio Data from https://www.eversports.de/s/pole-statement...\n"
     ]
    },
    {
     "name": "stderr",
     "output_type": "stream",
     "text": [
      "Processing URLs:  10%|█         | 1/10 [00:08<01:16,  8.52s/it, Current URL: https://www.eversports.de/s/pole-statement]"
     ]
    },
    {
     "name": "stdout",
     "output_type": "stream",
     "text": [
      "Processing completed.\n",
      "Pole Studio Data: 1 entries\n",
      "Starting URL reconstruction...\n"
     ]
    },
    {
     "name": "stderr",
     "output_type": "stream",
     "text": [
      "2024-02-03 15:43:33,283 - INFO - Processing URL 1/1: https://www.eversports.de/s/welovepoledance\n"
     ]
    },
    {
     "name": "stdout",
     "output_type": "stream",
     "text": [
      "Converting to DataFrame...\n",
      "Validating URLs...\n"
     ]
    },
    {
     "name": "stderr",
     "output_type": "stream",
     "text": [
      "2024-02-03 15:43:35,212 - INFO - URL https://www.eversports.de/s/welovepoledance is valid.\n"
     ]
    },
    {
     "name": "stdout",
     "output_type": "stream",
     "text": [
      "Scraping Pole Studio Data from https://www.eversports.de/s/welovepoledance...\n"
     ]
    },
    {
     "name": "stderr",
     "output_type": "stream",
     "text": [
      "Processing URLs:  20%|██        | 2/10 [00:11<00:44,  5.54s/it, Current URL: https://www.eversports.de/s/welovepoledance]"
     ]
    },
    {
     "name": "stdout",
     "output_type": "stream",
     "text": [
      "Processing completed.\n",
      "Pole Studio Data: 1 entries\n",
      "Starting URL reconstruction...\n"
     ]
    },
    {
     "name": "stderr",
     "output_type": "stream",
     "text": [
      "Processing URLs:  30%|███       | 3/10 [00:13<00:25,  3.59s/it, Current URL: https://www.eversports.de/s/pole-arts-saarland]"
     ]
    },
    {
     "name": "stdout",
     "output_type": "stream",
     "text": [
      "Error during HTTP request: 404 Client Error: Not Found for url: https://www.eversports.de/s/pole-arts-saarland\n",
      "Converting to DataFrame...\n",
      "Validating URLs...\n",
      "Processing completed.\n",
      "Starting URL reconstruction...\n"
     ]
    },
    {
     "name": "stderr",
     "output_type": "stream",
     "text": [
      "2024-02-03 15:43:38,065 - INFO - Processing URL 1/4: https://www.eversports.de/s/poleside\n"
     ]
    },
    {
     "name": "stdout",
     "output_type": "stream",
     "text": [
      "Error reconstructing URL for 'Kurse': Unrecognized text: 'Kurse'\n",
      "Converting to DataFrame...\n",
      "Validating URLs...\n"
     ]
    },
    {
     "name": "stderr",
     "output_type": "stream",
     "text": [
      "2024-02-03 15:43:39,449 - INFO - URL https://www.eversports.de/s/poleside is valid.\n",
      "2024-02-03 15:43:39,451 - INFO - Processing URL 2/4: https://www.eversports.de/sw/poleside\n",
      "2024-02-03 15:43:40,669 - INFO - URL https://www.eversports.de/sw/poleside is valid.\n",
      "2024-02-03 15:43:40,671 - INFO - Processing URL 3/4: https://www.eversports.de/sp/poleside\n",
      "2024-02-03 15:43:41,775 - INFO - URL https://www.eversports.de/sp/poleside is valid.\n",
      "2024-02-03 15:43:41,776 - INFO - Processing URL 4/4: https://www.eversports.de/s/poleside/team\n",
      "2024-02-03 15:43:43,357 - INFO - URL https://www.eversports.de/s/poleside/team is valid.\n"
     ]
    },
    {
     "name": "stdout",
     "output_type": "stream",
     "text": [
      "Scraping Pole Studio Data from https://www.eversports.de/s/poleside...\n",
      "Scraping Workshops Data from https://www.eversports.de/sw/poleside...\n",
      "Scraping Workshop Details from https://www.eversports.de/e/workshop/llCPKoMLh...\n"
     ]
    },
    {
     "name": "stderr",
     "output_type": "stream",
     "text": [
      "Processing URLs:  40%|████      | 4/10 [00:22<00:35,  5.89s/it, Current URL: https://www.eversports.de/s/poleside]          "
     ]
    },
    {
     "name": "stdout",
     "output_type": "stream",
     "text": [
      "Processing completed.\n",
      "Pole Studio Data: 1 entries\n",
      "Workshops Data: 1 entries\n",
      "Workshop Details: 1 entries\n",
      "Starting URL reconstruction...\n"
     ]
    },
    {
     "name": "stderr",
     "output_type": "stream",
     "text": [
      "2024-02-03 15:43:47,689 - INFO - Processing URL 1/1: https://www.eversports.de/s/pole-heaven\n"
     ]
    },
    {
     "name": "stdout",
     "output_type": "stream",
     "text": [
      "Converting to DataFrame...\n",
      "Validating URLs...\n"
     ]
    },
    {
     "name": "stderr",
     "output_type": "stream",
     "text": [
      "2024-02-03 15:43:49,434 - INFO - URL https://www.eversports.de/s/pole-heaven is valid.\n"
     ]
    },
    {
     "name": "stdout",
     "output_type": "stream",
     "text": [
      "Scraping Pole Studio Data from https://www.eversports.de/s/pole-heaven...\n"
     ]
    },
    {
     "name": "stderr",
     "output_type": "stream",
     "text": [
      "Processing URLs:  50%|█████     | 5/10 [00:26<00:25,  5.10s/it, Current URL: https://www.eversports.de/s/pole-heaven]"
     ]
    },
    {
     "name": "stdout",
     "output_type": "stream",
     "text": [
      "Processing completed.\n",
      "Pole Studio Data: 1 entries\n",
      "Starting URL reconstruction...\n"
     ]
    },
    {
     "name": "stderr",
     "output_type": "stream",
     "text": [
      "2024-02-03 15:43:51,341 - INFO - Processing URL 1/4: https://www.eversports.de/s/pole-and-move-heidelberg\n"
     ]
    },
    {
     "name": "stdout",
     "output_type": "stream",
     "text": [
      "Converting to DataFrame...\n",
      "Validating URLs...\n"
     ]
    },
    {
     "name": "stderr",
     "output_type": "stream",
     "text": [
      "2024-02-03 15:43:52,705 - INFO - URL https://www.eversports.de/s/pole-and-move-heidelberg is valid.\n",
      "2024-02-03 15:43:52,707 - INFO - Processing URL 2/4: https://www.eversports.de/sw/pole-and-move-heidelberg\n",
      "2024-02-03 15:43:54,159 - INFO - URL https://www.eversports.de/sw/pole-and-move-heidelberg is valid.\n",
      "2024-02-03 15:43:54,159 - INFO - Processing URL 3/4: https://www.eversports.de/sp/pole-and-move-heidelberg\n",
      "2024-02-03 15:43:55,306 - INFO - URL https://www.eversports.de/sp/pole-and-move-heidelberg is valid.\n",
      "2024-02-03 15:43:55,307 - INFO - Processing URL 4/4: https://www.eversports.de/s/pole-and-move-heidelberg/team\n",
      "2024-02-03 15:43:56,644 - INFO - URL https://www.eversports.de/s/pole-and-move-heidelberg/team is valid.\n"
     ]
    },
    {
     "name": "stdout",
     "output_type": "stream",
     "text": [
      "Scraping Pole Studio Data from https://www.eversports.de/s/pole-and-move-heidelberg...\n",
      "Scraping Workshops Data from https://www.eversports.de/sw/pole-and-move-heidelberg...\n",
      "Scraping Workshop Details from https://www.eversports.de/e/workshop/VYi81mK...\n",
      "Scraping Workshop Details from https://www.eversports.de/e/workshop/101RSFR...\n",
      "Scraping Workshop Details from https://www.eversports.de/e/workshop/AnumKko...\n",
      "Scraping Workshop Details from https://www.eversports.de/e/workshop/aqDwRxt...\n",
      "Scraping Workshop Details from https://www.eversports.de/e/workshop/xpUUbAx...\n",
      "Scraping Workshop Details from https://www.eversports.de/e/workshop/yXAMy8l...\n",
      "Scraping Workshop Details from https://www.eversports.de/e/workshop/mI91ydw...\n",
      "Scraping Workshop Details from https://www.eversports.de/e/workshop/Ngcpd4l...\n",
      "Scraping Workshop Details from https://www.eversports.de/e/workshop/ij8VZCH...\n"
     ]
    },
    {
     "name": "stderr",
     "output_type": "stream",
     "text": [
      "Processing URLs:  60%|██████    | 6/10 [00:48<00:43, 10.79s/it, Current URL: https://www.eversports.de/s/pole-and-move-heidelberg]"
     ]
    },
    {
     "name": "stdout",
     "output_type": "stream",
     "text": [
      "Processing completed.\n",
      "Pole Studio Data: 1 entries\n",
      "Workshops Data: 9 entries\n",
      "Workshop Details: 9 entries\n",
      "Starting URL reconstruction...\n"
     ]
    },
    {
     "name": "stderr",
     "output_type": "stream",
     "text": [
      "2024-02-03 15:44:12,977 - INFO - Processing URL 1/1: https://www.eversports.de/s/cindys-pole-dance\n"
     ]
    },
    {
     "name": "stdout",
     "output_type": "stream",
     "text": [
      "Converting to DataFrame...\n",
      "Validating URLs...\n"
     ]
    },
    {
     "name": "stderr",
     "output_type": "stream",
     "text": [
      "2024-02-03 15:44:14,339 - INFO - URL https://www.eversports.de/s/cindys-pole-dance is valid.\n"
     ]
    },
    {
     "name": "stdout",
     "output_type": "stream",
     "text": [
      "Scraping Pole Studio Data from https://www.eversports.de/s/cindys-pole-dance...\n"
     ]
    },
    {
     "name": "stderr",
     "output_type": "stream",
     "text": [
      "Processing URLs:  70%|███████   | 7/10 [00:51<00:24,  8.21s/it, Current URL: https://www.eversports.de/s/cindys-pole-dance]       "
     ]
    },
    {
     "name": "stdout",
     "output_type": "stream",
     "text": [
      "Processing completed.\n",
      "Pole Studio Data: 1 entries\n",
      "Starting URL reconstruction...\n"
     ]
    },
    {
     "name": "stderr",
     "output_type": "stream",
     "text": [
      "Processing URLs:  80%|████████  | 8/10 [00:52<00:12,  6.14s/it, Current URL: https://www.eversports.de/s/pole-dance-%26-fitness]"
     ]
    },
    {
     "name": "stdout",
     "output_type": "stream",
     "text": [
      "Error during HTTP request: 404 Client Error: Not Found for url: https://www.eversports.de/s/pole-dance-%26-fitness\n",
      "Converting to DataFrame...\n",
      "Validating URLs...\n",
      "Processing completed.\n",
      "Starting URL reconstruction...\n"
     ]
    },
    {
     "name": "stderr",
     "output_type": "stream",
     "text": [
      "Processing URLs:  90%|█████████ | 9/10 [00:53<00:04,  4.59s/it, Current URL: https://www.eversports.de/s/annaconda-pole-%26-aerial-sports]"
     ]
    },
    {
     "name": "stdout",
     "output_type": "stream",
     "text": [
      "Error during HTTP request: 404 Client Error: Not Found for url: https://www.eversports.de/s/annaconda-pole-%26-aerial-sports\n",
      "Converting to DataFrame...\n",
      "Validating URLs...\n",
      "Processing completed.\n",
      "Starting URL reconstruction...\n"
     ]
    },
    {
     "name": "stderr",
     "output_type": "stream",
     "text": [
      "Processing URLs: 100%|██████████| 10/10 [00:58<00:00,  5.89s/it, Current URL: https://www.eversports.de/s/vertical-pole-aerial-dance-w%c3%bcrzburg]"
     ]
    },
    {
     "name": "stdout",
     "output_type": "stream",
     "text": [
      "Error during HTTP request: Exceeded 30 redirects.\n",
      "Converting to DataFrame...\n",
      "Validating URLs...\n",
      "Processing completed.\n"
     ]
    },
    {
     "name": "stderr",
     "output_type": "stream",
     "text": [
      "\n"
     ]
    }
   ],
   "source": [
    "import pandas as pd\n",
    "from a_PyCaller import process_urls\n",
    "from tqdm import tqdm\n",
    "\n",
    "def process_and_print_results(url, all_pole_studio_data, all_workshops_data, all_workshop_details_data):\n",
    "    data = process_urls([url])\n",
    "\n",
    "    if data:\n",
    "        for key, df in data.items():\n",
    "            if df is not None and not df.empty:\n",
    "                print(f\"{key.replace('_', ' ').title()}: {len(df)} entries\")\n",
    "\n",
    "                # Update the appropriate DataFrame\n",
    "                if key == 'pole_studio_data':\n",
    "                    all_pole_studio_data = pd.concat([all_pole_studio_data, df], ignore_index=True)\n",
    "                elif key == 'workshops_data':\n",
    "                    all_workshops_data = pd.concat([all_workshops_data, df], ignore_index=True)\n",
    "                elif key == 'workshop_details':\n",
    "                    all_workshop_details_data = pd.concat([all_workshop_details_data, df], ignore_index=True)\n",
    "\n",
    "    return all_pole_studio_data, all_workshops_data, all_workshop_details_data\n",
    "\n",
    "def main():\n",
    "    # Load initial URLs\n",
    "    all_found_urls_s = pd.read_csv(\"your_output_file.csv\")\n",
    "    initial_urls = list(set(all_found_urls_s[\"0\"]))[:10]\n",
    "\n",
    "    # Initialize DataFrames\n",
    "    all_pole_studio_data = pd.DataFrame()\n",
    "    all_workshops_data = pd.DataFrame()\n",
    "    all_workshop_details_data = pd.DataFrame()\n",
    "\n",
    "    # Process each URL with tqdm\n",
    "    with tqdm(total=len(initial_urls), desc=\"Processing URLs\", dynamic_ncols=True) as pbar:\n",
    "        for url in initial_urls:\n",
    "            all_pole_studio_data, all_workshops_data, all_workshop_details_data = process_and_print_results(\n",
    "                url, all_pole_studio_data, all_workshops_data, all_workshop_details_data\n",
    "            )\n",
    "            pbar.update(1)\n",
    "            pbar.set_postfix_str(f\"Current URL: {url}\", refresh=True)\n",
    "\n",
    "    # # Export DataFrames to CSV files\n",
    "    all_pole_studio_data.to_csv(\"Pole_Studio_Übersicht_S.csv\", index=False)\n",
    "    all_workshops_data.to_csv(\"Workshop_Liste_SW.csv\", index=False)\n",
    "    all_workshop_details_data.to_csv(\"Workshop_Übersicht_E.csv\", index=False)\n",
    "\n",
    "    # Return the final DataFrames\n",
    "    return all_pole_studio_data, all_workshops_data, all_workshop_details_data\n",
    "\n",
    "# Run the main function and get the final DataFrames\n",
    "result_pole_studio, result_workshops, result_workshop_details = main()\n",
    "\n",
    "# Now you can access result_pole_studio, result_workshops, and result_workshop_details outside the function\n",
    "# print(result_pole_studio)\n",
    "# print(result_workshops)\n",
    "# print(result_workshop_details)\n"
   ]
  },
  {
   "cell_type": "code",
   "execution_count": 2,
   "metadata": {},
   "outputs": [
    {
     "data": {
      "text/html": [
       "<div>\n",
       "<style scoped>\n",
       "    .dataframe tbody tr th:only-of-type {\n",
       "        vertical-align: middle;\n",
       "    }\n",
       "\n",
       "    .dataframe tbody tr th {\n",
       "        vertical-align: top;\n",
       "    }\n",
       "\n",
       "    .dataframe thead th {\n",
       "        text-align: right;\n",
       "    }\n",
       "</style>\n",
       "<table border=\"1\" class=\"dataframe\">\n",
       "  <thead>\n",
       "    <tr style=\"text-align: right;\">\n",
       "      <th></th>\n",
       "      <th>PoleStudio_Name</th>\n",
       "      <th>Adresse</th>\n",
       "      <th>PLZ</th>\n",
       "      <th>Stadt</th>\n",
       "      <th>Straße</th>\n",
       "      <th>Buttons</th>\n",
       "      <th>Pole Studio Beschreibung</th>\n",
       "      <th>E-Mail</th>\n",
       "      <th>Homepage</th>\n",
       "      <th>Telefon</th>\n",
       "      <th>URL_S</th>\n",
       "      <th>Art</th>\n",
       "      <th>Angebot</th>\n",
       "      <th>Created Date</th>\n",
       "      <th>Updated Date</th>\n",
       "    </tr>\n",
       "  </thead>\n",
       "  <tbody>\n",
       "    <tr>\n",
       "      <th>0</th>\n",
       "      <td>Pole Statement</td>\n",
       "      <td>[Siemensstraße 40 ,  69123 Heidelberg]</td>\n",
       "      <td>69123</td>\n",
       "      <td>Heidelberg</td>\n",
       "      <td>Siemensstraße 40</td>\n",
       "      <td>[Übersicht, Klassen, Kurse, Events, Preise, Team]</td>\n",
       "      <td>Bei Pole Statement unterrichten wir Pole Dance...</td>\n",
       "      <td>info@polestatement.de</td>\n",
       "      <td>http://www.polestatement.de</td>\n",
       "      <td>+49 17672506814</td>\n",
       "      <td>https://www.eversports.de/s/pole-statement</td>\n",
       "      <td>[Poledance, Outdoor Fitness, Poledance, Outdoo...</td>\n",
       "      <td>2 Angebote für Neukund:innen</td>\n",
       "      <td>2024-02-03 15:43:32</td>\n",
       "      <td>2024-02-03 15:43:32</td>\n",
       "    </tr>\n",
       "    <tr>\n",
       "      <th>1</th>\n",
       "      <td>WeLovePoledance</td>\n",
       "      <td>[Venloer Straße,  50825 Köln]</td>\n",
       "      <td>50825</td>\n",
       "      <td>Köln</td>\n",
       "      <td>Venloer Straße</td>\n",
       "      <td>[Übersicht]</td>\n",
       "      <td>Diese Sportanlage bietet eine Vielzahl an Spor...</td>\n",
       "      <td>welovepoledance@gmx.de</td>\n",
       "      <td>None</td>\n",
       "      <td>+49 22116869550</td>\n",
       "      <td>https://www.eversports.de/s/welovepoledance</td>\n",
       "      <td>[(Noch keine Bewertungen), Poledance]</td>\n",
       "      <td>None</td>\n",
       "      <td>2024-02-03 15:43:35</td>\n",
       "      <td>2024-02-03 15:43:35</td>\n",
       "    </tr>\n",
       "    <tr>\n",
       "      <th>2</th>\n",
       "      <td>POLEside</td>\n",
       "      <td>[Saline 5 ,  74177 Bad Friedrichshall]</td>\n",
       "      <td>74177</td>\n",
       "      <td>Bad</td>\n",
       "      <td>Saline 5</td>\n",
       "      <td>[Übersicht, Klassen, Kurse, Workshops, Videos,...</td>\n",
       "      <td>Willkommen bei POLEside!Lass Dich von uns mitr...</td>\n",
       "      <td>info@poleside.de</td>\n",
       "      <td>http://poleside.de/</td>\n",
       "      <td>0176 870 191 81</td>\n",
       "      <td>https://www.eversports.de/s/poleside</td>\n",
       "      <td>[Poledance, Fitness, Aerial Yoga, Polesport, P...</td>\n",
       "      <td>Zum Stundenplan</td>\n",
       "      <td>2024-02-03 15:43:43</td>\n",
       "      <td>2024-02-03 15:43:43</td>\n",
       "    </tr>\n",
       "    <tr>\n",
       "      <th>3</th>\n",
       "      <td>Pole Heaven</td>\n",
       "      <td>[Theresiengasse 51/1-3 ,  1180 Wien]</td>\n",
       "      <td>1180</td>\n",
       "      <td>Wien</td>\n",
       "      <td>Theresiengasse 51/1-3</td>\n",
       "      <td>[Übersicht]</td>\n",
       "      <td>Bei Pole Heaven im Wien Währing ist jeder herz...</td>\n",
       "      <td>office@poleheaven.at</td>\n",
       "      <td>http://www.poleheaven.at/</td>\n",
       "      <td>None</td>\n",
       "      <td>https://www.eversports.de/s/pole-heaven</td>\n",
       "      <td>[1 Rezensionen, Poledance, Yoga]</td>\n",
       "      <td>None</td>\n",
       "      <td>2024-02-03 15:43:49</td>\n",
       "      <td>2024-02-03 15:43:49</td>\n",
       "    </tr>\n",
       "    <tr>\n",
       "      <th>4</th>\n",
       "      <td>Pole and Move Heidelberg</td>\n",
       "      <td>[Hauptstraße 58,  69214 Eppelheim]</td>\n",
       "      <td>69214</td>\n",
       "      <td>Eppelheim</td>\n",
       "      <td>Hauptstraße 58</td>\n",
       "      <td>[Übersicht, Klassen, Workshops, Preise, Team]</td>\n",
       "      <td>Willkommen bei Pole and Move. Unser Motto 2022...</td>\n",
       "      <td>team@poleandmove.de</td>\n",
       "      <td>https://poleandmove.de/</td>\n",
       "      <td>+49176 61653663</td>\n",
       "      <td>https://www.eversports.de/s/pole-and-move-heid...</td>\n",
       "      <td>[Fitness, Power Pole, Poledance, Power Pole, P...</td>\n",
       "      <td>2 Angebote für Neukund:innen</td>\n",
       "      <td>2024-02-03 15:43:57</td>\n",
       "      <td>2024-02-03 15:43:57</td>\n",
       "    </tr>\n",
       "    <tr>\n",
       "      <th>5</th>\n",
       "      <td>Cindy´s Pole Dance</td>\n",
       "      <td>[Fließstraße,  12439 Berlin]</td>\n",
       "      <td>12439</td>\n",
       "      <td>Berlin</td>\n",
       "      <td>Fließstraße</td>\n",
       "      <td>[Übersicht]</td>\n",
       "      <td>Diese Sportanlage bietet eine Vielzahl an Spor...</td>\n",
       "      <td>info@cindy-poledance.de</td>\n",
       "      <td>None</td>\n",
       "      <td>None</td>\n",
       "      <td>https://www.eversports.de/s/cindys-pole-dance</td>\n",
       "      <td>[(Noch keine Bewertungen), Poledance]</td>\n",
       "      <td>None</td>\n",
       "      <td>2024-02-03 15:44:14</td>\n",
       "      <td>2024-02-03 15:44:14</td>\n",
       "    </tr>\n",
       "  </tbody>\n",
       "</table>\n",
       "</div>"
      ],
      "text/plain": [
       "            PoleStudio_Name                                 Adresse    PLZ  \\\n",
       "0            Pole Statement  [Siemensstraße 40 ,  69123 Heidelberg]  69123   \n",
       "1           WeLovePoledance           [Venloer Straße,  50825 Köln]  50825   \n",
       "2                  POLEside  [Saline 5 ,  74177 Bad Friedrichshall]  74177   \n",
       "3               Pole Heaven    [Theresiengasse 51/1-3 ,  1180 Wien]   1180   \n",
       "4  Pole and Move Heidelberg      [Hauptstraße 58,  69214 Eppelheim]  69214   \n",
       "5        Cindy´s Pole Dance            [Fließstraße,  12439 Berlin]  12439   \n",
       "\n",
       "        Stadt                  Straße  \\\n",
       "0  Heidelberg       Siemensstraße 40    \n",
       "1        Köln          Venloer Straße   \n",
       "2         Bad               Saline 5    \n",
       "3        Wien  Theresiengasse 51/1-3    \n",
       "4   Eppelheim          Hauptstraße 58   \n",
       "5      Berlin             Fließstraße   \n",
       "\n",
       "                                             Buttons  \\\n",
       "0  [Übersicht, Klassen, Kurse, Events, Preise, Team]   \n",
       "1                                        [Übersicht]   \n",
       "2  [Übersicht, Klassen, Kurse, Workshops, Videos,...   \n",
       "3                                        [Übersicht]   \n",
       "4      [Übersicht, Klassen, Workshops, Preise, Team]   \n",
       "5                                        [Übersicht]   \n",
       "\n",
       "                            Pole Studio Beschreibung  \\\n",
       "0  Bei Pole Statement unterrichten wir Pole Dance...   \n",
       "1  Diese Sportanlage bietet eine Vielzahl an Spor...   \n",
       "2  Willkommen bei POLEside!Lass Dich von uns mitr...   \n",
       "3  Bei Pole Heaven im Wien Währing ist jeder herz...   \n",
       "4  Willkommen bei Pole and Move. Unser Motto 2022...   \n",
       "5  Diese Sportanlage bietet eine Vielzahl an Spor...   \n",
       "\n",
       "                     E-Mail                     Homepage          Telefon  \\\n",
       "0     info@polestatement.de  http://www.polestatement.de  +49 17672506814   \n",
       "1    welovepoledance@gmx.de                         None  +49 22116869550   \n",
       "2          info@poleside.de          http://poleside.de/  0176 870 191 81   \n",
       "3      office@poleheaven.at    http://www.poleheaven.at/             None   \n",
       "4       team@poleandmove.de      https://poleandmove.de/  +49176 61653663   \n",
       "5   info@cindy-poledance.de                         None             None   \n",
       "\n",
       "                                               URL_S  \\\n",
       "0         https://www.eversports.de/s/pole-statement   \n",
       "1        https://www.eversports.de/s/welovepoledance   \n",
       "2               https://www.eversports.de/s/poleside   \n",
       "3            https://www.eversports.de/s/pole-heaven   \n",
       "4  https://www.eversports.de/s/pole-and-move-heid...   \n",
       "5      https://www.eversports.de/s/cindys-pole-dance   \n",
       "\n",
       "                                                 Art  \\\n",
       "0  [Poledance, Outdoor Fitness, Poledance, Outdoo...   \n",
       "1              [(Noch keine Bewertungen), Poledance]   \n",
       "2  [Poledance, Fitness, Aerial Yoga, Polesport, P...   \n",
       "3                   [1 Rezensionen, Poledance, Yoga]   \n",
       "4  [Fitness, Power Pole, Poledance, Power Pole, P...   \n",
       "5              [(Noch keine Bewertungen), Poledance]   \n",
       "\n",
       "                        Angebot         Created Date         Updated Date  \n",
       "0  2 Angebote für Neukund:innen  2024-02-03 15:43:32  2024-02-03 15:43:32  \n",
       "1                          None  2024-02-03 15:43:35  2024-02-03 15:43:35  \n",
       "2               Zum Stundenplan  2024-02-03 15:43:43  2024-02-03 15:43:43  \n",
       "3                          None  2024-02-03 15:43:49  2024-02-03 15:43:49  \n",
       "4  2 Angebote für Neukund:innen  2024-02-03 15:43:57  2024-02-03 15:43:57  \n",
       "5                          None  2024-02-03 15:44:14  2024-02-03 15:44:14  "
      ]
     },
     "execution_count": 2,
     "metadata": {},
     "output_type": "execute_result"
    }
   ],
   "source": [
    "result_pole_studio"
   ]
  },
  {
   "cell_type": "code",
   "execution_count": 3,
   "metadata": {},
   "outputs": [
    {
     "data": {
      "text/html": [
       "<div>\n",
       "<style scoped>\n",
       "    .dataframe tbody tr th:only-of-type {\n",
       "        vertical-align: middle;\n",
       "    }\n",
       "\n",
       "    .dataframe tbody tr th {\n",
       "        vertical-align: top;\n",
       "    }\n",
       "\n",
       "    .dataframe thead th {\n",
       "        text-align: right;\n",
       "    }\n",
       "</style>\n",
       "<table border=\"1\" class=\"dataframe\">\n",
       "  <thead>\n",
       "    <tr style=\"text-align: right;\">\n",
       "      <th></th>\n",
       "      <th>Workshop Name</th>\n",
       "      <th>Description</th>\n",
       "      <th>Studio Name</th>\n",
       "      <th>Location</th>\n",
       "      <th>Level</th>\n",
       "      <th>Date</th>\n",
       "      <th>URL_E</th>\n",
       "      <th>Time</th>\n",
       "    </tr>\n",
       "  </thead>\n",
       "  <tbody>\n",
       "    <tr>\n",
       "      <th>0</th>\n",
       "      <td>Workshop mit @bou_boulette (Janine Hollung)</td>\n",
       "      <td>Am Samstag den 02.03.2024 dürfen wir Janine al...</td>\n",
       "      <td>POLEside</td>\n",
       "      <td>Ticket für Sa. 02.03.2024, 16:00 - 17:30</td>\n",
       "      <td>Poledance</td>\n",
       "      <td>Beginnt am Samstag, 2. März 2024</td>\n",
       "      <td>https://www.eversports.de/e/workshop/llCPKoMLh</td>\n",
       "      <td>Weststraße 1, 74193 Schwaigern</td>\n",
       "    </tr>\n",
       "    <tr>\n",
       "      <th>1</th>\n",
       "      <td>Pole meets Burlesque Workshop</td>\n",
       "      <td>Diamonds are girls best friend In diesem Works...</td>\n",
       "      <td>Pole and Move Heidelberg</td>\n",
       "      <td>Einzelticket</td>\n",
       "      <td>Poledance</td>\n",
       "      <td>Freitag, 9. Februar 2024</td>\n",
       "      <td>https://www.eversports.de/e/workshop/VYi81mK</td>\n",
       "      <td>19:00 - 20:10</td>\n",
       "    </tr>\n",
       "    <tr>\n",
       "      <th>2</th>\n",
       "      <td>Pole Nick - Down to Earth</td>\n",
       "      <td>In diesem Workshop wirst du großartige Moves u...</td>\n",
       "      <td>Pole and Move Heidelberg</td>\n",
       "      <td>Ticket für Sa. 24.02.2024, 12:00 - 13:30</td>\n",
       "      <td>Polesport</td>\n",
       "      <td>Samstag, 24. Februar 2024</td>\n",
       "      <td>https://www.eversports.de/e/workshop/101RSFR</td>\n",
       "      <td>12:00 - 13:30</td>\n",
       "    </tr>\n",
       "    <tr>\n",
       "      <th>3</th>\n",
       "      <td>Pole Nick - Balance Baby</td>\n",
       "      <td>In diesem Workshop dreht sich alles um den Han...</td>\n",
       "      <td>Pole and Move Heidelberg</td>\n",
       "      <td>Ticket für Sa. 24.02.2024, 14:00 - 15:30</td>\n",
       "      <td>Polesport</td>\n",
       "      <td>Samstag, 24. Februar 2024</td>\n",
       "      <td>https://www.eversports.de/e/workshop/AnumKko</td>\n",
       "      <td>14:00 - 15:30</td>\n",
       "    </tr>\n",
       "    <tr>\n",
       "      <th>4</th>\n",
       "      <td>Pole Nick - Alltime Favourites</td>\n",
       "      <td>In diesem Workshop präsentiert dir Nick seine ...</td>\n",
       "      <td>Pole and Move Heidelberg</td>\n",
       "      <td>Ticket für Sa. 24.02.2024, 16:45 - 18:15</td>\n",
       "      <td>Polesport</td>\n",
       "      <td>Samstag, 24. Februar 2024</td>\n",
       "      <td>https://www.eversports.de/e/workshop/aqDwRxt</td>\n",
       "      <td>16:45 - 18:15</td>\n",
       "    </tr>\n",
       "    <tr>\n",
       "      <th>5</th>\n",
       "      <td>Strip Plastic mit BendyGio</td>\n",
       "      <td>Achtung!!! In diesem Workshop wird es heiß! Be...</td>\n",
       "      <td>Pole and Move Heidelberg</td>\n",
       "      <td>Ticket für Fr. 22.03.2024, 17:00 - 18:30</td>\n",
       "      <td>Poledance</td>\n",
       "      <td>Freitag, 22. März 2024</td>\n",
       "      <td>https://www.eversports.de/e/workshop/xpUUbAx</td>\n",
       "      <td>17:00 - 18:30</td>\n",
       "    </tr>\n",
       "    <tr>\n",
       "      <th>6</th>\n",
       "      <td>Spinning Flexy Illusions mit BendyGio</td>\n",
       "      <td>Du wolltest schon immer mal coole flexy Tricks...</td>\n",
       "      <td>Pole and Move Heidelberg</td>\n",
       "      <td>Ticket für Fr. 22.03.2024, 18:45 - 20:15</td>\n",
       "      <td>Poledance</td>\n",
       "      <td>Freitag, 22. März 2024</td>\n",
       "      <td>https://www.eversports.de/e/workshop/yXAMy8l</td>\n",
       "      <td>18:45 - 20:15</td>\n",
       "    </tr>\n",
       "    <tr>\n",
       "      <th>7</th>\n",
       "      <td>Dan Rosen - Dynamic Heels</td>\n",
       "      <td>In diesem Workshop wird dir Polestar Dan Rosen...</td>\n",
       "      <td>Pole and Move Heidelberg</td>\n",
       "      <td>Ticket für So. 28.04.2024, 11:00 - 12:30</td>\n",
       "      <td>Polesport</td>\n",
       "      <td>Sonntag, 28. April 2024</td>\n",
       "      <td>https://www.eversports.de/e/workshop/mI91ydw</td>\n",
       "      <td>11:00 - 12:30</td>\n",
       "    </tr>\n",
       "    <tr>\n",
       "      <th>8</th>\n",
       "      <td>Dan Rosen - Heels Flow</td>\n",
       "      <td>Du liebst Exotik Pole und lässt auch gerne mal...</td>\n",
       "      <td>Pole and Move Heidelberg</td>\n",
       "      <td>Ticket für So. 28.04.2024, 13:00 - 14:30</td>\n",
       "      <td>Polesport</td>\n",
       "      <td>Sonntag, 28. April 2024</td>\n",
       "      <td>https://www.eversports.de/e/workshop/Ngcpd4l</td>\n",
       "      <td>13:00 - 14:30</td>\n",
       "    </tr>\n",
       "    <tr>\n",
       "      <th>9</th>\n",
       "      <td>Dan Rosen - Dan's Favourite Combo's</td>\n",
       "      <td>In diesem Workshop präsentiert Dir Dan seine e...</td>\n",
       "      <td>Pole and Move Heidelberg</td>\n",
       "      <td>Ticket für So. 28.04.2024, 15:00 - 16:30</td>\n",
       "      <td>Polesport</td>\n",
       "      <td>Sonntag, 28. April 2024</td>\n",
       "      <td>https://www.eversports.de/e/workshop/ij8VZCH</td>\n",
       "      <td>15:00 - 16:30</td>\n",
       "    </tr>\n",
       "  </tbody>\n",
       "</table>\n",
       "</div>"
      ],
      "text/plain": [
       "                                 Workshop Name  \\\n",
       "0  Workshop mit @bou_boulette (Janine Hollung)   \n",
       "1                Pole meets Burlesque Workshop   \n",
       "2                    Pole Nick - Down to Earth   \n",
       "3                     Pole Nick - Balance Baby   \n",
       "4               Pole Nick - Alltime Favourites   \n",
       "5                   Strip Plastic mit BendyGio   \n",
       "6        Spinning Flexy Illusions mit BendyGio   \n",
       "7                    Dan Rosen - Dynamic Heels   \n",
       "8                       Dan Rosen - Heels Flow   \n",
       "9          Dan Rosen - Dan's Favourite Combo's   \n",
       "\n",
       "                                         Description  \\\n",
       "0  Am Samstag den 02.03.2024 dürfen wir Janine al...   \n",
       "1  Diamonds are girls best friend In diesem Works...   \n",
       "2  In diesem Workshop wirst du großartige Moves u...   \n",
       "3  In diesem Workshop dreht sich alles um den Han...   \n",
       "4  In diesem Workshop präsentiert dir Nick seine ...   \n",
       "5  Achtung!!! In diesem Workshop wird es heiß! Be...   \n",
       "6  Du wolltest schon immer mal coole flexy Tricks...   \n",
       "7  In diesem Workshop wird dir Polestar Dan Rosen...   \n",
       "8  Du liebst Exotik Pole und lässt auch gerne mal...   \n",
       "9  In diesem Workshop präsentiert Dir Dan seine e...   \n",
       "\n",
       "                Studio Name                                  Location  \\\n",
       "0                  POLEside  Ticket für Sa. 02.03.2024, 16:00 - 17:30   \n",
       "1  Pole and Move Heidelberg                              Einzelticket   \n",
       "2  Pole and Move Heidelberg  Ticket für Sa. 24.02.2024, 12:00 - 13:30   \n",
       "3  Pole and Move Heidelberg  Ticket für Sa. 24.02.2024, 14:00 - 15:30   \n",
       "4  Pole and Move Heidelberg  Ticket für Sa. 24.02.2024, 16:45 - 18:15   \n",
       "5  Pole and Move Heidelberg  Ticket für Fr. 22.03.2024, 17:00 - 18:30   \n",
       "6  Pole and Move Heidelberg  Ticket für Fr. 22.03.2024, 18:45 - 20:15   \n",
       "7  Pole and Move Heidelberg  Ticket für So. 28.04.2024, 11:00 - 12:30   \n",
       "8  Pole and Move Heidelberg  Ticket für So. 28.04.2024, 13:00 - 14:30   \n",
       "9  Pole and Move Heidelberg  Ticket für So. 28.04.2024, 15:00 - 16:30   \n",
       "\n",
       "       Level                              Date  \\\n",
       "0  Poledance  Beginnt am Samstag, 2. März 2024   \n",
       "1  Poledance          Freitag, 9. Februar 2024   \n",
       "2  Polesport         Samstag, 24. Februar 2024   \n",
       "3  Polesport         Samstag, 24. Februar 2024   \n",
       "4  Polesport         Samstag, 24. Februar 2024   \n",
       "5  Poledance            Freitag, 22. März 2024   \n",
       "6  Poledance            Freitag, 22. März 2024   \n",
       "7  Polesport           Sonntag, 28. April 2024   \n",
       "8  Polesport           Sonntag, 28. April 2024   \n",
       "9  Polesport           Sonntag, 28. April 2024   \n",
       "\n",
       "                                            URL_E  \\\n",
       "0  https://www.eversports.de/e/workshop/llCPKoMLh   \n",
       "1    https://www.eversports.de/e/workshop/VYi81mK   \n",
       "2    https://www.eversports.de/e/workshop/101RSFR   \n",
       "3    https://www.eversports.de/e/workshop/AnumKko   \n",
       "4    https://www.eversports.de/e/workshop/aqDwRxt   \n",
       "5    https://www.eversports.de/e/workshop/xpUUbAx   \n",
       "6    https://www.eversports.de/e/workshop/yXAMy8l   \n",
       "7    https://www.eversports.de/e/workshop/mI91ydw   \n",
       "8    https://www.eversports.de/e/workshop/Ngcpd4l   \n",
       "9    https://www.eversports.de/e/workshop/ij8VZCH   \n",
       "\n",
       "                             Time  \n",
       "0  Weststraße 1, 74193 Schwaigern  \n",
       "1                   19:00 - 20:10  \n",
       "2                   12:00 - 13:30  \n",
       "3                   14:00 - 15:30  \n",
       "4                   16:45 - 18:15  \n",
       "5                   17:00 - 18:30  \n",
       "6                   18:45 - 20:15  \n",
       "7                   11:00 - 12:30  \n",
       "8                   13:00 - 14:30  \n",
       "9                   15:00 - 16:30  "
      ]
     },
     "execution_count": 3,
     "metadata": {},
     "output_type": "execute_result"
    }
   ],
   "source": [
    "result_workshop_details"
   ]
  }
 ],
 "metadata": {
  "kernelspec": {
   "display_name": "Python 3",
   "language": "python",
   "name": "python3"
  },
  "language_info": {
   "codemirror_mode": {
    "name": "ipython",
    "version": 3
   },
   "file_extension": ".py",
   "mimetype": "text/x-python",
   "name": "python",
   "nbconvert_exporter": "python",
   "pygments_lexer": "ipython3",
   "version": "3.12.1"
  }
 },
 "nbformat": 4,
 "nbformat_minor": 2
}
