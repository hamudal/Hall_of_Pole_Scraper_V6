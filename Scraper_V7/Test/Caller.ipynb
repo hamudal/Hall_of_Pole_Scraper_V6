{
 "cells": [
  {
   "cell_type": "code",
   "execution_count": 1,
   "metadata": {},
   "outputs": [],
   "source": [
    "from Scraper_V7.d_Workshop_List_SW import scrape_workshops\n",
    "from Scraper_V7.e_Workshop_Overview_E import scrape_workshop_details\n",
    "import pandas as pd"
   ]
  },
  {
   "cell_type": "code",
   "execution_count": 2,
   "metadata": {},
   "outputs": [],
   "source": [
    "url_e = \"https://www.eversports.de/e/workshop/9PbaXsNu8\"\n",
    "url_sw = \"https://www.eversports.de/sw/poda-studio\"\n",
    "\n",
    "workshoplist = scrape_workshops(url_sw)\n",
    "workshop = scrape_workshop_details(url_e)\n",
    "\n",
    "# for url in url_e:\n",
    "#     workshop = scrape_workshop_details(url_e)"
   ]
  },
  {
   "cell_type": "code",
   "execution_count": 3,
   "metadata": {},
   "outputs": [
    {
     "data": {
      "text/html": [
       "<div>\n",
       "<style scoped>\n",
       "    .dataframe tbody tr th:only-of-type {\n",
       "        vertical-align: middle;\n",
       "    }\n",
       "\n",
       "    .dataframe tbody tr th {\n",
       "        vertical-align: top;\n",
       "    }\n",
       "\n",
       "    .dataframe thead th {\n",
       "        text-align: right;\n",
       "    }\n",
       "</style>\n",
       "<table border=\"1\" class=\"dataframe\">\n",
       "  <thead>\n",
       "    <tr style=\"text-align: right;\">\n",
       "      <th></th>\n",
       "      <th>Workshopname</th>\n",
       "      <th>Preis</th>\n",
       "      <th>Einheiten</th>\n",
       "      <th>Pole Studio</th>\n",
       "      <th>URL_E</th>\n",
       "    </tr>\n",
       "  </thead>\n",
       "  <tbody>\n",
       "    <tr>\n",
       "      <th>0</th>\n",
       "      <td>Sexy Floorwork Workshop</td>\n",
       "      <td>ab 35,00 €</td>\n",
       "      <td>1 Einheit</td>\n",
       "      <td>poda Studio</td>\n",
       "      <td>https://www.eversports.de/e/workshop/9PbaXsNu8</td>\n",
       "    </tr>\n",
       "    <tr>\n",
       "      <th>1</th>\n",
       "      <td>Hip Hop Pole Choreo Workshop</td>\n",
       "      <td>ab 35,00 €</td>\n",
       "      <td>1 Einheit</td>\n",
       "      <td>poda Studio</td>\n",
       "      <td>https://www.eversports.de/e/workshop/2f93D4_</td>\n",
       "    </tr>\n",
       "    <tr>\n",
       "      <th>2</th>\n",
       "      <td>High Heels Pole  - Beginner Workshop</td>\n",
       "      <td>ab 35,00 €</td>\n",
       "      <td>1 Einheit</td>\n",
       "      <td>poda Studio</td>\n",
       "      <td>https://www.eversports.de/e/workshop/PvCEvqtn_</td>\n",
       "    </tr>\n",
       "    <tr>\n",
       "      <th>3</th>\n",
       "      <td>Aerial Yoga Workshop</td>\n",
       "      <td>ab 35,00 €</td>\n",
       "      <td>1 Einheit</td>\n",
       "      <td>poda Studio</td>\n",
       "      <td>https://www.eversports.de/e/workshop/MkpHwj8</td>\n",
       "    </tr>\n",
       "  </tbody>\n",
       "</table>\n",
       "</div>"
      ],
      "text/plain": [
       "                           Workshopname       Preis  Einheiten  Pole Studio  \\\n",
       "0               Sexy Floorwork Workshop  ab 35,00 €  1 Einheit  poda Studio   \n",
       "1          Hip Hop Pole Choreo Workshop  ab 35,00 €  1 Einheit  poda Studio   \n",
       "2  High Heels Pole  - Beginner Workshop  ab 35,00 €  1 Einheit  poda Studio   \n",
       "3                  Aerial Yoga Workshop  ab 35,00 €  1 Einheit  poda Studio   \n",
       "\n",
       "                                            URL_E  \n",
       "0  https://www.eversports.de/e/workshop/9PbaXsNu8  \n",
       "1    https://www.eversports.de/e/workshop/2f93D4_  \n",
       "2  https://www.eversports.de/e/workshop/PvCEvqtn_  \n",
       "3    https://www.eversports.de/e/workshop/MkpHwj8  "
      ]
     },
     "execution_count": 3,
     "metadata": {},
     "output_type": "execute_result"
    }
   ],
   "source": [
    "workshoplist"
   ]
  },
  {
   "cell_type": "code",
   "execution_count": 4,
   "metadata": {},
   "outputs": [
    {
     "data": {
      "text/html": [
       "<div>\n",
       "<style scoped>\n",
       "    .dataframe tbody tr th:only-of-type {\n",
       "        vertical-align: middle;\n",
       "    }\n",
       "\n",
       "    .dataframe tbody tr th {\n",
       "        vertical-align: top;\n",
       "    }\n",
       "\n",
       "    .dataframe thead th {\n",
       "        text-align: right;\n",
       "    }\n",
       "</style>\n",
       "<table border=\"1\" class=\"dataframe\">\n",
       "  <thead>\n",
       "    <tr style=\"text-align: right;\">\n",
       "      <th></th>\n",
       "      <th>Workshopname</th>\n",
       "      <th>Kategorie</th>\n",
       "      <th>Datum</th>\n",
       "      <th>Land</th>\n",
       "      <th>Location</th>\n",
       "      <th>Studio Name</th>\n",
       "      <th>URL_E</th>\n",
       "      <th>Art</th>\n",
       "      <th>Level</th>\n",
       "      <th>Beschreibung</th>\n",
       "      <th>Trainer</th>\n",
       "      <th>Uhrzeit</th>\n",
       "    </tr>\n",
       "  </thead>\n",
       "  <tbody>\n",
       "    <tr>\n",
       "      <th>0</th>\n",
       "      <td>Sexy Floorwork Workshop</td>\n",
       "      <td>Floorwork</td>\n",
       "      <td>Sonntag, 17. März 2024</td>\n",
       "      <td></td>\n",
       "      <td>10-12 Martinstraße Innenhof, 52062 Aachen</td>\n",
       "      <td>poda Studio</td>\n",
       "      <td>https://www.eversports.de/e/workshop/9PbaXsNu8</td>\n",
       "      <td>Workshop</td>\n",
       "      <td></td>\n",
       "      <td>Mach den Boden zu deinem Freund und erlerne kr...</td>\n",
       "      <td></td>\n",
       "      <td>20:00 - 21:30</td>\n",
       "    </tr>\n",
       "  </tbody>\n",
       "</table>\n",
       "</div>"
      ],
      "text/plain": [
       "              Workshopname  Kategorie                   Datum Land  \\\n",
       "0  Sexy Floorwork Workshop  Floorwork  Sonntag, 17. März 2024        \n",
       "\n",
       "                                    Location  Studio Name  \\\n",
       "0  10-12 Martinstraße Innenhof, 52062 Aachen  poda Studio   \n",
       "\n",
       "                                            URL_E       Art Level  \\\n",
       "0  https://www.eversports.de/e/workshop/9PbaXsNu8  Workshop         \n",
       "\n",
       "                                        Beschreibung Trainer        Uhrzeit  \n",
       "0  Mach den Boden zu deinem Freund und erlerne kr...          20:00 - 21:30  "
      ]
     },
     "execution_count": 4,
     "metadata": {},
     "output_type": "execute_result"
    }
   ],
   "source": [
    "workshop"
   ]
  },
  {
   "cell_type": "code",
   "execution_count": 5,
   "metadata": {},
   "outputs": [],
   "source": [
    "merged_df = pd.merge(workshop, workshoplist[:1], on=['Workshopname', 'URL_E'], how='inner')"
   ]
  },
  {
   "cell_type": "code",
   "execution_count": 6,
   "metadata": {},
   "outputs": [
    {
     "data": {
      "text/html": [
       "<div>\n",
       "<style scoped>\n",
       "    .dataframe tbody tr th:only-of-type {\n",
       "        vertical-align: middle;\n",
       "    }\n",
       "\n",
       "    .dataframe tbody tr th {\n",
       "        vertical-align: top;\n",
       "    }\n",
       "\n",
       "    .dataframe thead th {\n",
       "        text-align: right;\n",
       "    }\n",
       "</style>\n",
       "<table border=\"1\" class=\"dataframe\">\n",
       "  <thead>\n",
       "    <tr style=\"text-align: right;\">\n",
       "      <th></th>\n",
       "      <th>Workshopname</th>\n",
       "      <th>Kategorie</th>\n",
       "      <th>Datum</th>\n",
       "      <th>Land</th>\n",
       "      <th>Location</th>\n",
       "      <th>Studio Name</th>\n",
       "      <th>URL_E</th>\n",
       "      <th>Art</th>\n",
       "      <th>Level</th>\n",
       "      <th>Beschreibung</th>\n",
       "      <th>Trainer</th>\n",
       "      <th>Uhrzeit</th>\n",
       "      <th>Preis</th>\n",
       "      <th>Einheiten</th>\n",
       "      <th>Pole Studio</th>\n",
       "    </tr>\n",
       "  </thead>\n",
       "  <tbody>\n",
       "    <tr>\n",
       "      <th>0</th>\n",
       "      <td>Sexy Floorwork Workshop</td>\n",
       "      <td>Floorwork</td>\n",
       "      <td>Sonntag, 17. März 2024</td>\n",
       "      <td></td>\n",
       "      <td>10-12 Martinstraße Innenhof, 52062 Aachen</td>\n",
       "      <td>poda Studio</td>\n",
       "      <td>https://www.eversports.de/e/workshop/9PbaXsNu8</td>\n",
       "      <td>Workshop</td>\n",
       "      <td></td>\n",
       "      <td>Mach den Boden zu deinem Freund und erlerne kr...</td>\n",
       "      <td></td>\n",
       "      <td>20:00 - 21:30</td>\n",
       "      <td>ab 35,00 €</td>\n",
       "      <td>1 Einheit</td>\n",
       "      <td>poda Studio</td>\n",
       "    </tr>\n",
       "  </tbody>\n",
       "</table>\n",
       "</div>"
      ],
      "text/plain": [
       "              Workshopname  Kategorie                   Datum Land  \\\n",
       "0  Sexy Floorwork Workshop  Floorwork  Sonntag, 17. März 2024        \n",
       "\n",
       "                                    Location  Studio Name  \\\n",
       "0  10-12 Martinstraße Innenhof, 52062 Aachen  poda Studio   \n",
       "\n",
       "                                            URL_E       Art Level  \\\n",
       "0  https://www.eversports.de/e/workshop/9PbaXsNu8  Workshop         \n",
       "\n",
       "                                        Beschreibung Trainer        Uhrzeit  \\\n",
       "0  Mach den Boden zu deinem Freund und erlerne kr...          20:00 - 21:30   \n",
       "\n",
       "        Preis  Einheiten  Pole Studio  \n",
       "0  ab 35,00 €  1 Einheit  poda Studio  "
      ]
     },
     "execution_count": 6,
     "metadata": {},
     "output_type": "execute_result"
    }
   ],
   "source": [
    "merged_df"
   ]
  }
 ],
 "metadata": {
  "kernelspec": {
   "display_name": "Python 3",
   "language": "python",
   "name": "python3"
  },
  "language_info": {
   "codemirror_mode": {
    "name": "ipython",
    "version": 3
   },
   "file_extension": ".py",
   "mimetype": "text/x-python",
   "name": "python",
   "nbconvert_exporter": "python",
   "pygments_lexer": "ipython3",
   "version": "3.12.2"
  }
 },
 "nbformat": 4,
 "nbformat_minor": 2
}
