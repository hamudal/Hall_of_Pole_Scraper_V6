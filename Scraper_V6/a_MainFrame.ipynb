{
 "cells": [
  {
   "cell_type": "markdown",
   "metadata": {},
   "source": [
    "V3"
   ]
  },
  {
   "cell_type": "code",
   "execution_count": 7,
   "metadata": {},
   "outputs": [
    {
     "name": "stderr",
     "output_type": "stream",
     "text": [
      "Processing URLs:   0%|          | 0/5 [00:00<?, ?it/s]"
     ]
    },
    {
     "name": "stdout",
     "output_type": "stream",
     "text": [
      "Starting URL reconstruction...\n"
     ]
    },
    {
     "name": "stderr",
     "output_type": "stream",
     "text": [
      "2024-02-03 15:46:56,718 - INFO - Processing URL 1/3: https://www.eversports.de/s/pole-statement\n"
     ]
    },
    {
     "name": "stdout",
     "output_type": "stream",
     "text": [
      "Error reconstructing URL for 'Kurse': Unrecognized text: 'Kurse'\n",
      "Error reconstructing URL for 'Events': Unrecognized text: 'Events'\n",
      "Converting to DataFrame...\n",
      "Validating URLs...\n"
     ]
    },
    {
     "name": "stderr",
     "output_type": "stream",
     "text": [
      "2024-02-03 15:46:58,130 - INFO - URL https://www.eversports.de/s/pole-statement is valid.\n",
      "2024-02-03 15:46:58,131 - INFO - Processing URL 2/3: https://www.eversports.de/sp/pole-statement\n",
      "2024-02-03 15:46:59,258 - INFO - URL https://www.eversports.de/sp/pole-statement is valid.\n",
      "2024-02-03 15:46:59,259 - INFO - Processing URL 3/3: https://www.eversports.de/s/pole-statement/team\n",
      "2024-02-03 15:47:00,429 - INFO - URL https://www.eversports.de/s/pole-statement/team is valid.\n"
     ]
    },
    {
     "name": "stdout",
     "output_type": "stream",
     "text": [
      "Scraping Pole Studio Data from https://www.eversports.de/s/pole-statement...\n"
     ]
    },
    {
     "name": "stderr",
     "output_type": "stream",
     "text": [
      "Processing URLs:  20%|██        | 1/5 [00:06<00:24,  6.12s/it, Current URL: https://www.eversports.de/s/pole-statement]"
     ]
    },
    {
     "name": "stdout",
     "output_type": "stream",
     "text": [
      "Processing completed.\n",
      "Pole Studio Data: 1 entries\n",
      "Starting URL reconstruction...\n"
     ]
    },
    {
     "name": "stderr",
     "output_type": "stream",
     "text": [
      "2024-02-03 15:47:02,150 - INFO - Processing URL 1/1: https://www.eversports.de/s/welovepoledance\n"
     ]
    },
    {
     "name": "stdout",
     "output_type": "stream",
     "text": [
      "Converting to DataFrame...\n",
      "Validating URLs...\n"
     ]
    },
    {
     "name": "stderr",
     "output_type": "stream",
     "text": [
      "2024-02-03 15:47:03,406 - INFO - URL https://www.eversports.de/s/welovepoledance is valid.\n"
     ]
    },
    {
     "name": "stdout",
     "output_type": "stream",
     "text": [
      "Scraping Pole Studio Data from https://www.eversports.de/s/welovepoledance...\n"
     ]
    },
    {
     "name": "stderr",
     "output_type": "stream",
     "text": [
      "Processing URLs:  40%|████      | 2/5 [00:09<00:12,  4.28s/it, Current URL: https://www.eversports.de/s/welovepoledance]"
     ]
    },
    {
     "name": "stdout",
     "output_type": "stream",
     "text": [
      "Processing completed.\n",
      "Pole Studio Data: 1 entries\n",
      "Starting URL reconstruction...\n"
     ]
    },
    {
     "name": "stderr",
     "output_type": "stream",
     "text": [
      "Processing URLs:  60%|██████    | 3/5 [00:10<00:06,  3.01s/it, Current URL: https://www.eversports.de/s/pole-arts-saarland]"
     ]
    },
    {
     "name": "stdout",
     "output_type": "stream",
     "text": [
      "Error during HTTP request: 404 Client Error: Not Found for url: https://www.eversports.de/s/pole-arts-saarland\n",
      "Converting to DataFrame...\n",
      "Validating URLs...\n",
      "Processing completed.\n",
      "Starting URL reconstruction...\n"
     ]
    },
    {
     "name": "stderr",
     "output_type": "stream",
     "text": [
      "2024-02-03 15:47:06,853 - INFO - Processing URL 1/4: https://www.eversports.de/s/poleside\n"
     ]
    },
    {
     "name": "stdout",
     "output_type": "stream",
     "text": [
      "Error reconstructing URL for 'Kurse': Unrecognized text: 'Kurse'\n",
      "Converting to DataFrame...\n",
      "Validating URLs...\n"
     ]
    },
    {
     "name": "stderr",
     "output_type": "stream",
     "text": [
      "2024-02-03 15:47:10,845 - INFO - URL https://www.eversports.de/s/poleside is valid.\n",
      "2024-02-03 15:47:10,847 - INFO - Processing URL 2/4: https://www.eversports.de/sw/poleside\n",
      "2024-02-03 15:47:12,240 - INFO - URL https://www.eversports.de/sw/poleside is valid.\n",
      "2024-02-03 15:47:12,242 - INFO - Processing URL 3/4: https://www.eversports.de/sp/poleside\n",
      "2024-02-03 15:47:14,542 - INFO - URL https://www.eversports.de/sp/poleside is valid.\n",
      "2024-02-03 15:47:14,544 - INFO - Processing URL 4/4: https://www.eversports.de/s/poleside/team\n",
      "2024-02-03 15:47:16,380 - INFO - URL https://www.eversports.de/s/poleside/team is valid.\n"
     ]
    },
    {
     "name": "stdout",
     "output_type": "stream",
     "text": [
      "Scraping Pole Studio Data from https://www.eversports.de/s/poleside...\n",
      "Scraping Workshops Data from https://www.eversports.de/sw/poleside...\n",
      "Scraping Workshop Details from https://www.eversports.de/e/workshop/llCPKoMLh...\n"
     ]
    },
    {
     "name": "stderr",
     "output_type": "stream",
     "text": [
      "Processing URLs:  80%|████████  | 4/5 [00:26<00:08,  8.19s/it, Current URL: https://www.eversports.de/s/poleside]          "
     ]
    },
    {
     "name": "stdout",
     "output_type": "stream",
     "text": [
      "Processing completed.\n",
      "Pole Studio Data: 1 entries\n",
      "Workshops Data: 1 entries\n",
      "Workshop Details: 1 entries\n",
      "Starting URL reconstruction...\n"
     ]
    },
    {
     "name": "stderr",
     "output_type": "stream",
     "text": [
      "2024-02-03 15:47:23,191 - INFO - Processing URL 1/1: https://www.eversports.de/s/pole-heaven\n"
     ]
    },
    {
     "name": "stdout",
     "output_type": "stream",
     "text": [
      "Converting to DataFrame...\n",
      "Validating URLs...\n"
     ]
    },
    {
     "name": "stderr",
     "output_type": "stream",
     "text": [
      "2024-02-03 15:47:24,715 - INFO - URL https://www.eversports.de/s/pole-heaven is valid.\n"
     ]
    },
    {
     "name": "stdout",
     "output_type": "stream",
     "text": [
      "Scraping Pole Studio Data from https://www.eversports.de/s/pole-heaven...\n"
     ]
    },
    {
     "name": "stderr",
     "output_type": "stream",
     "text": [
      "Processing URLs: 100%|██████████| 5/5 [00:30<00:00,  6.06s/it, Current URL: https://www.eversports.de/s/pole-heaven]"
     ]
    },
    {
     "name": "stdout",
     "output_type": "stream",
     "text": [
      "Processing completed.\n",
      "Pole Studio Data: 1 entries\n"
     ]
    },
    {
     "name": "stderr",
     "output_type": "stream",
     "text": [
      "\n"
     ]
    }
   ],
   "source": [
    "import pandas as pd\n",
    "from a_PyCaller import process_urls\n",
    "from tqdm import tqdm\n",
    "\n",
    "def process_and_print_results(url, all_pole_studio_data, all_workshops_data, all_workshop_details_data):\n",
    "    data = process_urls([url])\n",
    "\n",
    "    if data:\n",
    "        for key, df in data.items():\n",
    "            if df is not None and not df.empty:\n",
    "                print(f\"{key.replace('_', ' ').title()}: {len(df)} entries\")\n",
    "\n",
    "                # Update the appropriate DataFrame\n",
    "                if key == 'pole_studio_data':\n",
    "                    all_pole_studio_data = pd.concat([all_pole_studio_data, df], ignore_index=True)\n",
    "                elif key == 'workshops_data':\n",
    "                    all_workshops_data = pd.concat([all_workshops_data, df], ignore_index=True)\n",
    "                elif key == 'workshop_details':\n",
    "                    all_workshop_details_data = pd.concat([all_workshop_details_data, df], ignore_index=True)\n",
    "\n",
    "    return all_pole_studio_data, all_workshops_data, all_workshop_details_data\n",
    "\n",
    "def main():\n",
    "    # Load initial URLs\n",
    "    all_found_urls_s = pd.read_csv(\"your_output_file.csv\")\n",
    "    initial_urls = list(set(all_found_urls_s[\"0\"]))[:5] # Delete \"[:3]\" to scrape all Urls\n",
    "\n",
    "    # Initialize DataFrames\n",
    "    all_pole_studio_data = pd.DataFrame()\n",
    "    all_workshops_data = pd.DataFrame()\n",
    "    all_workshop_details_data = pd.DataFrame()\n",
    "\n",
    "    # Process each URL with tqdm\n",
    "    with tqdm(total=len(initial_urls), desc=\"Processing URLs\", dynamic_ncols=True) as pbar:\n",
    "        for url in initial_urls:\n",
    "            all_pole_studio_data, all_workshops_data, all_workshop_details_data = process_and_print_results(\n",
    "                url, all_pole_studio_data, all_workshops_data, all_workshop_details_data\n",
    "            )\n",
    "            pbar.update(1)\n",
    "            pbar.set_postfix_str(f\"Current URL: {url}\", refresh=True)\n",
    "\n",
    "    # # Export DataFrames to CSV files\n",
    "    all_pole_studio_data.to_csv(\"Pole_Studio_Übersicht_S.csv\", index=False)\n",
    "    all_workshops_data.to_csv(\"Workshop_Liste_SW.csv\", index=False)\n",
    "    all_workshop_details_data.to_csv(\"Workshop_Übersicht_E.csv\", index=False)\n",
    "\n",
    "    # Return the final DataFrames\n",
    "    return all_pole_studio_data, all_workshops_data, all_workshop_details_data\n",
    "\n",
    "# Run the main function and get the final DataFrames\n",
    "result_pole_studio, result_workshops, result_workshop_details = main()\n",
    "\n",
    "# Now you can access result_pole_studio, result_workshops, and result_workshop_details outside the function\n",
    "# print(result_pole_studio)\n",
    "# print(result_workshops)\n",
    "# print(result_workshop_details)\n"
   ]
  },
  {
   "cell_type": "code",
   "execution_count": 8,
   "metadata": {},
   "outputs": [
    {
     "data": {
      "text/html": [
       "<div>\n",
       "<style scoped>\n",
       "    .dataframe tbody tr th:only-of-type {\n",
       "        vertical-align: middle;\n",
       "    }\n",
       "\n",
       "    .dataframe tbody tr th {\n",
       "        vertical-align: top;\n",
       "    }\n",
       "\n",
       "    .dataframe thead th {\n",
       "        text-align: right;\n",
       "    }\n",
       "</style>\n",
       "<table border=\"1\" class=\"dataframe\">\n",
       "  <thead>\n",
       "    <tr style=\"text-align: right;\">\n",
       "      <th></th>\n",
       "      <th>PoleStudio_Name</th>\n",
       "      <th>Adresse</th>\n",
       "      <th>PLZ</th>\n",
       "      <th>Stadt</th>\n",
       "      <th>Straße</th>\n",
       "      <th>Buttons</th>\n",
       "      <th>Pole Studio Beschreibung</th>\n",
       "      <th>E-Mail</th>\n",
       "      <th>Homepage</th>\n",
       "      <th>Telefon</th>\n",
       "      <th>URL_S</th>\n",
       "      <th>Art</th>\n",
       "      <th>Angebot</th>\n",
       "      <th>Created Date</th>\n",
       "      <th>Updated Date</th>\n",
       "    </tr>\n",
       "  </thead>\n",
       "  <tbody>\n",
       "    <tr>\n",
       "      <th>0</th>\n",
       "      <td>Pole Statement</td>\n",
       "      <td>[Siemensstraße 40 ,  69123 Heidelberg]</td>\n",
       "      <td>69123</td>\n",
       "      <td>Heidelberg</td>\n",
       "      <td>Siemensstraße 40</td>\n",
       "      <td>[Übersicht, Klassen, Kurse, Events, Preise, Team]</td>\n",
       "      <td>Bei Pole Statement unterrichten wir Pole Dance...</td>\n",
       "      <td>info@polestatement.de</td>\n",
       "      <td>http://www.polestatement.de</td>\n",
       "      <td>+49 17672506814</td>\n",
       "      <td>https://www.eversports.de/s/pole-statement</td>\n",
       "      <td>[Poledance, Outdoor Fitness, Poledance, Outdoo...</td>\n",
       "      <td>2 Angebote für Neukund:innen</td>\n",
       "      <td>2024-02-03 15:47:00</td>\n",
       "      <td>2024-02-03 15:47:00</td>\n",
       "    </tr>\n",
       "    <tr>\n",
       "      <th>1</th>\n",
       "      <td>WeLovePoledance</td>\n",
       "      <td>[Venloer Straße,  50825 Köln]</td>\n",
       "      <td>50825</td>\n",
       "      <td>Köln</td>\n",
       "      <td>Venloer Straße</td>\n",
       "      <td>[Übersicht]</td>\n",
       "      <td>Diese Sportanlage bietet eine Vielzahl an Spor...</td>\n",
       "      <td>welovepoledance@gmx.de</td>\n",
       "      <td>None</td>\n",
       "      <td>+49 22116869550</td>\n",
       "      <td>https://www.eversports.de/s/welovepoledance</td>\n",
       "      <td>[(Noch keine Bewertungen), Poledance]</td>\n",
       "      <td>None</td>\n",
       "      <td>2024-02-03 15:47:03</td>\n",
       "      <td>2024-02-03 15:47:03</td>\n",
       "    </tr>\n",
       "    <tr>\n",
       "      <th>2</th>\n",
       "      <td>POLEside</td>\n",
       "      <td>[Saline 5 ,  74177 Bad Friedrichshall]</td>\n",
       "      <td>74177</td>\n",
       "      <td>Bad</td>\n",
       "      <td>Saline 5</td>\n",
       "      <td>[Übersicht, Klassen, Kurse, Workshops, Videos,...</td>\n",
       "      <td>Willkommen bei POLEside!Lass Dich von uns mitr...</td>\n",
       "      <td>info@poleside.de</td>\n",
       "      <td>http://poleside.de/</td>\n",
       "      <td>0176 870 191 81</td>\n",
       "      <td>https://www.eversports.de/s/poleside</td>\n",
       "      <td>[Poledance, Fitness, Aerial Yoga, Polesport, P...</td>\n",
       "      <td>Zum Stundenplan</td>\n",
       "      <td>2024-02-03 15:47:16</td>\n",
       "      <td>2024-02-03 15:47:16</td>\n",
       "    </tr>\n",
       "    <tr>\n",
       "      <th>3</th>\n",
       "      <td>Pole Heaven</td>\n",
       "      <td>[Theresiengasse 51/1-3 ,  1180 Wien]</td>\n",
       "      <td>1180</td>\n",
       "      <td>Wien</td>\n",
       "      <td>Theresiengasse 51/1-3</td>\n",
       "      <td>[Übersicht]</td>\n",
       "      <td>Bei Pole Heaven im Wien Währing ist jeder herz...</td>\n",
       "      <td>office@poleheaven.at</td>\n",
       "      <td>http://www.poleheaven.at/</td>\n",
       "      <td>None</td>\n",
       "      <td>https://www.eversports.de/s/pole-heaven</td>\n",
       "      <td>[1 Rezensionen, Poledance, Yoga]</td>\n",
       "      <td>None</td>\n",
       "      <td>2024-02-03 15:47:25</td>\n",
       "      <td>2024-02-03 15:47:25</td>\n",
       "    </tr>\n",
       "  </tbody>\n",
       "</table>\n",
       "</div>"
      ],
      "text/plain": [
       "   PoleStudio_Name                                 Adresse    PLZ       Stadt  \\\n",
       "0   Pole Statement  [Siemensstraße 40 ,  69123 Heidelberg]  69123  Heidelberg   \n",
       "1  WeLovePoledance           [Venloer Straße,  50825 Köln]  50825        Köln   \n",
       "2         POLEside  [Saline 5 ,  74177 Bad Friedrichshall]  74177         Bad   \n",
       "3      Pole Heaven    [Theresiengasse 51/1-3 ,  1180 Wien]   1180        Wien   \n",
       "\n",
       "                   Straße                                            Buttons  \\\n",
       "0       Siemensstraße 40   [Übersicht, Klassen, Kurse, Events, Preise, Team]   \n",
       "1          Venloer Straße                                        [Übersicht]   \n",
       "2               Saline 5   [Übersicht, Klassen, Kurse, Workshops, Videos,...   \n",
       "3  Theresiengasse 51/1-3                                         [Übersicht]   \n",
       "\n",
       "                            Pole Studio Beschreibung                   E-Mail  \\\n",
       "0  Bei Pole Statement unterrichten wir Pole Dance...    info@polestatement.de   \n",
       "1  Diese Sportanlage bietet eine Vielzahl an Spor...   welovepoledance@gmx.de   \n",
       "2  Willkommen bei POLEside!Lass Dich von uns mitr...         info@poleside.de   \n",
       "3  Bei Pole Heaven im Wien Währing ist jeder herz...     office@poleheaven.at   \n",
       "\n",
       "                      Homepage          Telefon  \\\n",
       "0  http://www.polestatement.de  +49 17672506814   \n",
       "1                         None  +49 22116869550   \n",
       "2          http://poleside.de/  0176 870 191 81   \n",
       "3    http://www.poleheaven.at/             None   \n",
       "\n",
       "                                         URL_S  \\\n",
       "0   https://www.eversports.de/s/pole-statement   \n",
       "1  https://www.eversports.de/s/welovepoledance   \n",
       "2         https://www.eversports.de/s/poleside   \n",
       "3      https://www.eversports.de/s/pole-heaven   \n",
       "\n",
       "                                                 Art  \\\n",
       "0  [Poledance, Outdoor Fitness, Poledance, Outdoo...   \n",
       "1              [(Noch keine Bewertungen), Poledance]   \n",
       "2  [Poledance, Fitness, Aerial Yoga, Polesport, P...   \n",
       "3                   [1 Rezensionen, Poledance, Yoga]   \n",
       "\n",
       "                        Angebot         Created Date         Updated Date  \n",
       "0  2 Angebote für Neukund:innen  2024-02-03 15:47:00  2024-02-03 15:47:00  \n",
       "1                          None  2024-02-03 15:47:03  2024-02-03 15:47:03  \n",
       "2               Zum Stundenplan  2024-02-03 15:47:16  2024-02-03 15:47:16  \n",
       "3                          None  2024-02-03 15:47:25  2024-02-03 15:47:25  "
      ]
     },
     "execution_count": 8,
     "metadata": {},
     "output_type": "execute_result"
    }
   ],
   "source": [
    "result_pole_studio"
   ]
  },
  {
   "cell_type": "code",
   "execution_count": 9,
   "metadata": {},
   "outputs": [
    {
     "data": {
      "text/html": [
       "<div>\n",
       "<style scoped>\n",
       "    .dataframe tbody tr th:only-of-type {\n",
       "        vertical-align: middle;\n",
       "    }\n",
       "\n",
       "    .dataframe tbody tr th {\n",
       "        vertical-align: top;\n",
       "    }\n",
       "\n",
       "    .dataframe thead th {\n",
       "        text-align: right;\n",
       "    }\n",
       "</style>\n",
       "<table border=\"1\" class=\"dataframe\">\n",
       "  <thead>\n",
       "    <tr style=\"text-align: right;\">\n",
       "      <th></th>\n",
       "      <th>Workshop Name</th>\n",
       "      <th>Description</th>\n",
       "      <th>Studio Name</th>\n",
       "      <th>Location</th>\n",
       "      <th>Level</th>\n",
       "      <th>Date</th>\n",
       "      <th>URL_E</th>\n",
       "      <th>Time</th>\n",
       "    </tr>\n",
       "  </thead>\n",
       "  <tbody>\n",
       "    <tr>\n",
       "      <th>0</th>\n",
       "      <td>Workshop mit @bou_boulette (Janine Hollung)</td>\n",
       "      <td>Am Samstag den 02.03.2024 dürfen wir Janine al...</td>\n",
       "      <td>POLEside</td>\n",
       "      <td>Ticket für Sa. 02.03.2024, 16:00 - 17:30</td>\n",
       "      <td>Poledance</td>\n",
       "      <td>Beginnt am Samstag, 2. März 2024</td>\n",
       "      <td>https://www.eversports.de/e/workshop/llCPKoMLh</td>\n",
       "      <td>Weststraße 1, 74193 Schwaigern</td>\n",
       "    </tr>\n",
       "  </tbody>\n",
       "</table>\n",
       "</div>"
      ],
      "text/plain": [
       "                                 Workshop Name  \\\n",
       "0  Workshop mit @bou_boulette (Janine Hollung)   \n",
       "\n",
       "                                         Description Studio Name  \\\n",
       "0  Am Samstag den 02.03.2024 dürfen wir Janine al...    POLEside   \n",
       "\n",
       "                                   Location      Level  \\\n",
       "0  Ticket für Sa. 02.03.2024, 16:00 - 17:30  Poledance   \n",
       "\n",
       "                               Date  \\\n",
       "0  Beginnt am Samstag, 2. März 2024   \n",
       "\n",
       "                                            URL_E  \\\n",
       "0  https://www.eversports.de/e/workshop/llCPKoMLh   \n",
       "\n",
       "                             Time  \n",
       "0  Weststraße 1, 74193 Schwaigern  "
      ]
     },
     "execution_count": 9,
     "metadata": {},
     "output_type": "execute_result"
    }
   ],
   "source": [
    "result_workshop_details"
   ]
  }
 ],
 "metadata": {
  "kernelspec": {
   "display_name": "Python 3",
   "language": "python",
   "name": "python3"
  },
  "language_info": {
   "codemirror_mode": {
    "name": "ipython",
    "version": 3
   },
   "file_extension": ".py",
   "mimetype": "text/x-python",
   "name": "python",
   "nbconvert_exporter": "python",
   "pygments_lexer": "ipython3",
   "version": "3.12.1"
  }
 },
 "nbformat": 4,
 "nbformat_minor": 2
}
