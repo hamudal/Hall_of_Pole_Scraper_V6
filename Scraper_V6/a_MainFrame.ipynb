{
 "cells": [
  {
   "cell_type": "markdown",
   "metadata": {},
   "source": [
    "---"
   ]
  },
  {
   "cell_type": "markdown",
   "metadata": {},
   "source": [
    "Here use your CSV from WIX: Example! \"Pole Studios (2).csv\", replace the Name of the CSV inside the \"\", Run All Cells!"
   ]
  },
  {
   "cell_type": "code",
   "execution_count": 1,
   "metadata": {},
   "outputs": [
    {
     "data": {
      "text/html": [
       "<div>\n",
       "<style scoped>\n",
       "    .dataframe tbody tr th:only-of-type {\n",
       "        vertical-align: middle;\n",
       "    }\n",
       "\n",
       "    .dataframe tbody tr th {\n",
       "        vertical-align: top;\n",
       "    }\n",
       "\n",
       "    .dataframe thead th {\n",
       "        text-align: right;\n",
       "    }\n",
       "</style>\n",
       "<table border=\"1\" class=\"dataframe\">\n",
       "  <thead>\n",
       "    <tr style=\"text-align: right;\">\n",
       "      <th></th>\n",
       "      <th>Pole Studio</th>\n",
       "      <th>PLZ</th>\n",
       "      <th>Stadt</th>\n",
       "      <th>Land</th>\n",
       "      <th>Adresse</th>\n",
       "      <th>Telefonnummer</th>\n",
       "      <th>E-Mail-Adresse</th>\n",
       "      <th>Webseite</th>\n",
       "      <th>Facebook</th>\n",
       "      <th>Instagram</th>\n",
       "      <th>...</th>\n",
       "      <th>ID</th>\n",
       "      <th>Owner</th>\n",
       "      <th>Created Date</th>\n",
       "      <th>Updated Date</th>\n",
       "      <th>Bildergalerie</th>\n",
       "      <th>Richtigkeit der Angaben</th>\n",
       "      <th>Pole Studios (Pole Studio)</th>\n",
       "      <th>Online Studios (Pole Studio)</th>\n",
       "      <th>Inaktiv</th>\n",
       "      <th>Löschvermerk</th>\n",
       "    </tr>\n",
       "  </thead>\n",
       "  <tbody>\n",
       "    <tr>\n",
       "      <th>0</th>\n",
       "      <td>Seemannsbraut Poledance Flensburg</td>\n",
       "      <td>24941</td>\n",
       "      <td>Flensburg</td>\n",
       "      <td>Deutschland</td>\n",
       "      <td>{\"subdivisions\":[{\"code\":\"SH\",\"name\":\"Schleswi...</td>\n",
       "      <td>15163300769</td>\n",
       "      <td>seemannsbraut-poledance@web.de</td>\n",
       "      <td>https://www.seemannsbraut-poledance.de/</td>\n",
       "      <td>https://www.facebook.com/SeemannsbrautPoledance</td>\n",
       "      <td>https://www.instagram.com/seemannsbraut_poleda...</td>\n",
       "      <td>...</td>\n",
       "      <td>01df35bd-209a-4520-a7bc-d109b9aaf2f6</td>\n",
       "      <td>284241e1-0e53-4183-b67f-34edcfb7c8b1</td>\n",
       "      <td>2022-11-18T11:57:31Z</td>\n",
       "      <td>2024-02-04T18:00:48Z</td>\n",
       "      <td>NaN</td>\n",
       "      <td>NaN</td>\n",
       "      <td>/polestudio/seemannsbraut-poledance-flensburg</td>\n",
       "      <td>/onlinestudio/seemannsbraut-poledance-flensburg</td>\n",
       "      <td>NaN</td>\n",
       "      <td>NaN</td>\n",
       "    </tr>\n",
       "    <tr>\n",
       "      <th>1</th>\n",
       "      <td>TSG Blau Gold Ballett- und Pole-dance- Studio</td>\n",
       "      <td>35390</td>\n",
       "      <td>Gießen</td>\n",
       "      <td>Deutschland</td>\n",
       "      <td>{\"subdivisions\":[{\"code\":\"HE\",\"name\":\"Hessen\",...</td>\n",
       "      <td>0491 621606468</td>\n",
       "      <td>tanz-giessen@gmx.de</td>\n",
       "      <td>https://www.tsg-giessen.de/angebote/tanz/poled...</td>\n",
       "      <td>https://www.facebook.com/poledancegiessen.de</td>\n",
       "      <td>https://www.instagram.com/tsg_blaugoldgiessen....</td>\n",
       "      <td>...</td>\n",
       "      <td>0233997c-a277-4179-990a-347e1cea347e</td>\n",
       "      <td>284241e1-0e53-4183-b67f-34edcfb7c8b1</td>\n",
       "      <td>2022-11-18T11:57:31Z</td>\n",
       "      <td>2024-02-04T18:00:49Z</td>\n",
       "      <td>NaN</td>\n",
       "      <td>NaN</td>\n",
       "      <td>/polestudio/tsg-blau-gold-ballett--und-pole-da...</td>\n",
       "      <td>/onlinestudio/tsg-blau-gold-ballett--und-pole-...</td>\n",
       "      <td>NaN</td>\n",
       "      <td>NaN</td>\n",
       "    </tr>\n",
       "    <tr>\n",
       "      <th>2</th>\n",
       "      <td>Pole Stars Osnabrück</td>\n",
       "      <td>49080</td>\n",
       "      <td>Osnabrück</td>\n",
       "      <td>Deutschland</td>\n",
       "      <td>{\"subdivisions\":[{\"code\":\"NDS\",\"name\":\"Nieders...</td>\n",
       "      <td>01573 1810262</td>\n",
       "      <td>info@polestars-osnabrueck.de</td>\n",
       "      <td>http://www.polestars-osnabrueck.de/</td>\n",
       "      <td>https://www.facebook.com/PoleStarsOsnabrueck.de/</td>\n",
       "      <td>https://www.instagram.com/pole_stars_osnabruec...</td>\n",
       "      <td>...</td>\n",
       "      <td>04673b9d-d8b2-4caf-8632-d349eab2cd4e</td>\n",
       "      <td>284241e1-0e53-4183-b67f-34edcfb7c8b1</td>\n",
       "      <td>2022-11-18T11:57:31Z</td>\n",
       "      <td>2024-02-04T18:00:48Z</td>\n",
       "      <td>NaN</td>\n",
       "      <td>NaN</td>\n",
       "      <td>/polestudio/pole-stars-osnabr%C3%BCck</td>\n",
       "      <td>/onlinestudio/pole-stars-osnabr%C3%BCck</td>\n",
       "      <td>NaN</td>\n",
       "      <td>NaN</td>\n",
       "    </tr>\n",
       "  </tbody>\n",
       "</table>\n",
       "<p>3 rows × 26 columns</p>\n",
       "</div>"
      ],
      "text/plain": [
       "                                     Pole Studio    PLZ      Stadt  \\\n",
       "0              Seemannsbraut Poledance Flensburg  24941  Flensburg   \n",
       "1  TSG Blau Gold Ballett- und Pole-dance- Studio  35390     Gießen   \n",
       "2                           Pole Stars Osnabrück  49080  Osnabrück   \n",
       "\n",
       "          Land                                            Adresse  \\\n",
       "0  Deutschland  {\"subdivisions\":[{\"code\":\"SH\",\"name\":\"Schleswi...   \n",
       "1  Deutschland  {\"subdivisions\":[{\"code\":\"HE\",\"name\":\"Hessen\",...   \n",
       "2  Deutschland  {\"subdivisions\":[{\"code\":\"NDS\",\"name\":\"Nieders...   \n",
       "\n",
       "    Telefonnummer                  E-Mail-Adresse  \\\n",
       "0     15163300769  seemannsbraut-poledance@web.de   \n",
       "1  0491 621606468             tanz-giessen@gmx.de   \n",
       "2   01573 1810262    info@polestars-osnabrueck.de   \n",
       "\n",
       "                                            Webseite  \\\n",
       "0            https://www.seemannsbraut-poledance.de/   \n",
       "1  https://www.tsg-giessen.de/angebote/tanz/poled...   \n",
       "2                http://www.polestars-osnabrueck.de/   \n",
       "\n",
       "                                           Facebook  \\\n",
       "0   https://www.facebook.com/SeemannsbrautPoledance   \n",
       "1      https://www.facebook.com/poledancegiessen.de   \n",
       "2  https://www.facebook.com/PoleStarsOsnabrueck.de/   \n",
       "\n",
       "                                           Instagram  ...  \\\n",
       "0  https://www.instagram.com/seemannsbraut_poleda...  ...   \n",
       "1  https://www.instagram.com/tsg_blaugoldgiessen....  ...   \n",
       "2  https://www.instagram.com/pole_stars_osnabruec...  ...   \n",
       "\n",
       "                                     ID                                 Owner  \\\n",
       "0  01df35bd-209a-4520-a7bc-d109b9aaf2f6  284241e1-0e53-4183-b67f-34edcfb7c8b1   \n",
       "1  0233997c-a277-4179-990a-347e1cea347e  284241e1-0e53-4183-b67f-34edcfb7c8b1   \n",
       "2  04673b9d-d8b2-4caf-8632-d349eab2cd4e  284241e1-0e53-4183-b67f-34edcfb7c8b1   \n",
       "\n",
       "           Created Date          Updated Date Bildergalerie  \\\n",
       "0  2022-11-18T11:57:31Z  2024-02-04T18:00:48Z           NaN   \n",
       "1  2022-11-18T11:57:31Z  2024-02-04T18:00:49Z           NaN   \n",
       "2  2022-11-18T11:57:31Z  2024-02-04T18:00:48Z           NaN   \n",
       "\n",
       "  Richtigkeit der Angaben                         Pole Studios (Pole Studio)  \\\n",
       "0                     NaN      /polestudio/seemannsbraut-poledance-flensburg   \n",
       "1                     NaN  /polestudio/tsg-blau-gold-ballett--und-pole-da...   \n",
       "2                     NaN              /polestudio/pole-stars-osnabr%C3%BCck   \n",
       "\n",
       "                        Online Studios (Pole Studio) Inaktiv Löschvermerk  \n",
       "0    /onlinestudio/seemannsbraut-poledance-flensburg     NaN          NaN  \n",
       "1  /onlinestudio/tsg-blau-gold-ballett--und-pole-...     NaN          NaN  \n",
       "2            /onlinestudio/pole-stars-osnabr%C3%BCck     NaN          NaN  \n",
       "\n",
       "[3 rows x 26 columns]"
      ]
     },
     "execution_count": 1,
     "metadata": {},
     "output_type": "execute_result"
    }
   ],
   "source": [
    "import pandas as pd\n",
    "\n",
    "# Load initial URLs\n",
    "hop_dataframe = pd.read_csv(\"Pole Studios (2).csv\")\n",
    "hop_dataframe.head(3)"
   ]
  },
  {
   "cell_type": "markdown",
   "metadata": {},
   "source": [
    "---"
   ]
  },
  {
   "cell_type": "markdown",
   "metadata": {},
   "source": [
    "Url Reconstruction"
   ]
  },
  {
   "cell_type": "code",
   "execution_count": 2,
   "metadata": {},
   "outputs": [
    {
     "data": {
      "text/plain": [
       "20"
      ]
     },
     "execution_count": 2,
     "metadata": {},
     "output_type": "execute_result"
    }
   ],
   "source": [
    "hop_polestudios = hop_dataframe[\"Pole Studios (Pole Studio)\"][:20].to_list()\n",
    "\n",
    "initial_urls = hop_polestudios\n",
    "\n",
    "base_url = \"https://www.eversports.de/s\"\n",
    "\n",
    "#initial_urls = list(set(hop_dataframe[\"Pole Studios (Pole Studio)\"]))\n",
    "len(initial_urls)"
   ]
  },
  {
   "cell_type": "code",
   "execution_count": 3,
   "metadata": {},
   "outputs": [
    {
     "data": {
      "text/plain": [
       "['https://www.eversports.de/s/seemannsbraut-poledance-flensburg',\n",
       " 'https://www.eversports.de/s/tsg-blau-gold-ballett--und-pole-dance--studio',\n",
       " 'https://www.eversports.de/s/pole-stars-osnabr%C3%BCck',\n",
       " 'https://www.eversports.de/s/aerial-art-studio',\n",
       " 'https://www.eversports.de/s/k%C3%B6rpernah',\n",
       " 'https://www.eversports.de/s/dance-moves-wolfenb%C3%BCttel',\n",
       " 'https://www.eversports.de/s/mypole',\n",
       " 'https://www.eversports.de/s/tanzstudio-michel',\n",
       " 'https://www.eversports.de/s/pole-sensation',\n",
       " 'https://www.eversports.de/s/poledance-rostock']"
      ]
     },
     "execution_count": 3,
     "metadata": {},
     "output_type": "execute_result"
    }
   ],
   "source": [
    "url = []\n",
    "for url_part in initial_urls:\n",
    "    url.append(base_url+url_part[11:])\n",
    "url[:10]"
   ]
  },
  {
   "cell_type": "code",
   "execution_count": 4,
   "metadata": {},
   "outputs": [],
   "source": [
    "initial_urls = url"
   ]
  },
  {
   "cell_type": "markdown",
   "metadata": {},
   "source": [
    "---"
   ]
  },
  {
   "cell_type": "markdown",
   "metadata": {},
   "source": [
    "Scraper Code"
   ]
  },
  {
   "cell_type": "code",
   "execution_count": 5,
   "metadata": {},
   "outputs": [
    {
     "name": "stderr",
     "output_type": "stream",
     "text": [
      "Processing URLs:   0%|          | 0/20 [00:00<?, ?it/s]"
     ]
    },
    {
     "name": "stdout",
     "output_type": "stream",
     "text": [
      "Starting URL reconstruction...\n"
     ]
    },
    {
     "name": "stderr",
     "output_type": "stream",
     "text": [
      "Processing URLs:   5%|▌         | 1/20 [00:02<00:48,  2.53s/it]"
     ]
    },
    {
     "name": "stdout",
     "output_type": "stream",
     "text": [
      "Error during HTTP request: 404 Client Error: Not Found for url: https://www.eversports.de/s/seemannsbraut-poledance-flensburg\n",
      "Converting to DataFrame...\n",
      "Validating URLs...\n",
      "\n",
      "Processing completed.\n",
      "-------------------------------- \n",
      "\n",
      "Starting URL reconstruction...\n"
     ]
    },
    {
     "name": "stderr",
     "output_type": "stream",
     "text": [
      "Processing URLs:  10%|█         | 2/20 [00:03<00:31,  1.76s/it]"
     ]
    },
    {
     "name": "stdout",
     "output_type": "stream",
     "text": [
      "Error during HTTP request: 404 Client Error: Not Found for url: https://www.eversports.de/s/tsg-blau-gold-ballett--und-pole-dance--studio\n",
      "Converting to DataFrame...\n",
      "Validating URLs...\n",
      "\n",
      "Processing completed.\n",
      "-------------------------------- \n",
      "\n",
      "Starting URL reconstruction...\n"
     ]
    },
    {
     "name": "stderr",
     "output_type": "stream",
     "text": [
      "Processing URLs:  15%|█▌        | 3/20 [00:07<00:46,  2.73s/it]"
     ]
    },
    {
     "name": "stdout",
     "output_type": "stream",
     "text": [
      "Error during HTTP request: Exceeded 30 redirects.\n",
      "Converting to DataFrame...\n",
      "Validating URLs...\n",
      "\n",
      "Processing completed.\n",
      "-------------------------------- \n",
      "\n",
      "Starting URL reconstruction...\n"
     ]
    },
    {
     "name": "stderr",
     "output_type": "stream",
     "text": [
      "Processing URLs:  20%|██        | 4/20 [00:08<00:34,  2.17s/it]"
     ]
    },
    {
     "name": "stdout",
     "output_type": "stream",
     "text": [
      "Error during HTTP request: 404 Client Error: Not Found for url: https://www.eversports.de/s/aerial-art-studio\n",
      "Converting to DataFrame...\n",
      "Validating URLs...\n",
      "\n",
      "Processing completed.\n",
      "-------------------------------- \n",
      "\n",
      "Starting URL reconstruction...\n"
     ]
    },
    {
     "name": "stderr",
     "output_type": "stream",
     "text": [
      "Processing URLs:  25%|██▌       | 5/20 [00:12<00:39,  2.65s/it]"
     ]
    },
    {
     "name": "stdout",
     "output_type": "stream",
     "text": [
      "Error during HTTP request: Exceeded 30 redirects.\n",
      "Converting to DataFrame...\n",
      "Validating URLs...\n",
      "\n",
      "Processing completed.\n",
      "-------------------------------- \n",
      "\n",
      "Starting URL reconstruction...\n"
     ]
    },
    {
     "name": "stderr",
     "output_type": "stream",
     "text": [
      "Processing URLs:  30%|███       | 6/20 [00:15<00:38,  2.72s/it]"
     ]
    },
    {
     "name": "stdout",
     "output_type": "stream",
     "text": [
      "Error during HTTP request: Exceeded 30 redirects.\n",
      "Converting to DataFrame...\n",
      "Validating URLs...\n",
      "\n",
      "Processing completed.\n",
      "-------------------------------- \n",
      "\n",
      "Starting URL reconstruction...\n"
     ]
    },
    {
     "name": "stderr",
     "output_type": "stream",
     "text": [
      "Processing URLs:  35%|███▌      | 7/20 [00:16<00:28,  2.19s/it]"
     ]
    },
    {
     "name": "stdout",
     "output_type": "stream",
     "text": [
      "Error during HTTP request: 404 Client Error: Not Found for url: https://www.eversports.de/s/mypole\n",
      "Converting to DataFrame...\n",
      "Validating URLs...\n",
      "\n",
      "Processing completed.\n",
      "-------------------------------- \n",
      "\n",
      "Starting URL reconstruction...\n"
     ]
    },
    {
     "name": "stderr",
     "output_type": "stream",
     "text": [
      "2024-02-20 16:17:00,271 - INFO - Processing URL 1/1: https://www.eversports.de/s/tanzstudio-michel\n"
     ]
    },
    {
     "name": "stdout",
     "output_type": "stream",
     "text": [
      "Converting to DataFrame...\n",
      "Validating URLs...\n"
     ]
    },
    {
     "name": "stderr",
     "output_type": "stream",
     "text": [
      "2024-02-20 16:17:01,468 - INFO - URL https://www.eversports.de/s/tanzstudio-michel is valid.\n"
     ]
    },
    {
     "name": "stdout",
     "output_type": "stream",
     "text": [
      "Scraping Pole Studio Data from https://www.eversports.de/s/tanzstudio-michel...\n"
     ]
    },
    {
     "name": "stderr",
     "output_type": "stream",
     "text": [
      "Processing URLs:  40%|████      | 8/20 [00:20<00:34,  2.89s/it]"
     ]
    },
    {
     "name": "stdout",
     "output_type": "stream",
     "text": [
      "\n",
      "Processing completed.\n",
      "-------------------------------- \n",
      "\n",
      "2024-02-20 16:17:02 - INFO - Scraping Data from: https://www.eversports.de/s/tanzstudio-michel\n",
      "Pole Studio Data: 1 entries\n",
      "Starting URL reconstruction...\n"
     ]
    },
    {
     "name": "stderr",
     "output_type": "stream",
     "text": [
      "Processing URLs:  45%|████▌     | 9/20 [00:34<01:08,  6.19s/it]"
     ]
    },
    {
     "name": "stdout",
     "output_type": "stream",
     "text": [
      "Error during HTTP request: 404 Client Error: Not Found for url: https://www.eversports.de/s/pole-sensation\n",
      "Converting to DataFrame...\n",
      "Validating URLs...\n",
      "\n",
      "Processing completed.\n",
      "-------------------------------- \n",
      "\n",
      "Starting URL reconstruction...\n"
     ]
    },
    {
     "name": "stderr",
     "output_type": "stream",
     "text": [
      "Processing URLs:  50%|█████     | 10/20 [00:35<00:46,  4.62s/it]"
     ]
    },
    {
     "name": "stdout",
     "output_type": "stream",
     "text": [
      "Error during HTTP request: 404 Client Error: Not Found for url: https://www.eversports.de/s/poledance-rostock\n",
      "Converting to DataFrame...\n",
      "Validating URLs...\n",
      "\n",
      "Processing completed.\n",
      "-------------------------------- \n",
      "\n",
      "Starting URL reconstruction...\n"
     ]
    },
    {
     "name": "stderr",
     "output_type": "stream",
     "text": [
      "Processing URLs:  55%|█████▌    | 11/20 [00:36<00:32,  3.56s/it]"
     ]
    },
    {
     "name": "stdout",
     "output_type": "stream",
     "text": [
      "Error during HTTP request: 404 Client Error: Not Found for url: https://www.eversports.de/s/wildheart-yoga-%26-pole-dance\n",
      "Converting to DataFrame...\n",
      "Validating URLs...\n",
      "\n",
      "Processing completed.\n",
      "-------------------------------- \n",
      "\n",
      "Starting URL reconstruction...\n"
     ]
    },
    {
     "name": "stderr",
     "output_type": "stream",
     "text": [
      "Processing URLs:  60%|██████    | 12/20 [00:37<00:22,  2.81s/it]"
     ]
    },
    {
     "name": "stdout",
     "output_type": "stream",
     "text": [
      "Error during HTTP request: 404 Client Error: Not Found for url: https://www.eversports.de/s/studio-beyou\n",
      "Converting to DataFrame...\n",
      "Validating URLs...\n",
      "\n",
      "Processing completed.\n",
      "-------------------------------- \n",
      "\n",
      "Starting URL reconstruction...\n"
     ]
    },
    {
     "name": "stderr",
     "output_type": "stream",
     "text": [
      "2024-02-20 16:17:20,809 - INFO - Processing URL 1/1: https://www.eversports.de/s/polestation-academy\n"
     ]
    },
    {
     "name": "stdout",
     "output_type": "stream",
     "text": [
      "Converting to DataFrame...\n",
      "Validating URLs...\n"
     ]
    },
    {
     "name": "stderr",
     "output_type": "stream",
     "text": [
      "2024-02-20 16:17:22,167 - INFO - URL https://www.eversports.de/s/polestation-academy is valid.\n"
     ]
    },
    {
     "name": "stdout",
     "output_type": "stream",
     "text": [
      "Scraping Pole Studio Data from https://www.eversports.de/s/polestation-academy...\n"
     ]
    },
    {
     "name": "stderr",
     "output_type": "stream",
     "text": [
      "Processing URLs:  65%|██████▌   | 13/20 [00:40<00:19,  2.84s/it]"
     ]
    },
    {
     "name": "stdout",
     "output_type": "stream",
     "text": [
      "\n",
      "Processing completed.\n",
      "-------------------------------- \n",
      "\n",
      "2024-02-20 16:17:22 - INFO - Scraping Data from: https://www.eversports.de/s/polestation-academy\n",
      "Pole Studio Data: 1 entries\n",
      "Starting URL reconstruction...\n"
     ]
    },
    {
     "name": "stderr",
     "output_type": "stream",
     "text": [
      "Processing URLs:  70%|███████   | 14/20 [00:41<00:13,  2.32s/it]"
     ]
    },
    {
     "name": "stdout",
     "output_type": "stream",
     "text": [
      "Error during HTTP request: 404 Client Error: Not Found for url: https://www.eversports.de/s/indeed-unique---studio-wien\n",
      "Converting to DataFrame...\n",
      "Validating URLs...\n",
      "\n",
      "Processing completed.\n",
      "-------------------------------- \n",
      "\n",
      "Starting URL reconstruction...\n"
     ]
    },
    {
     "name": "stderr",
     "output_type": "stream",
     "text": [
      "Processing URLs:  75%|███████▌  | 15/20 [00:44<00:12,  2.45s/it]"
     ]
    },
    {
     "name": "stdout",
     "output_type": "stream",
     "text": [
      "Error during HTTP request: 404 Client Error: Not Found for url: https://www.eversports.de/s/polefitness-by-sophie-m.\n",
      "Converting to DataFrame...\n",
      "Validating URLs...\n",
      "\n",
      "Processing completed.\n",
      "-------------------------------- \n",
      "\n",
      "Starting URL reconstruction...\n"
     ]
    },
    {
     "name": "stderr",
     "output_type": "stream",
     "text": [
      "Processing URLs:  80%|████████  | 16/20 [00:45<00:08,  2.07s/it]"
     ]
    },
    {
     "name": "stdout",
     "output_type": "stream",
     "text": [
      "Error during HTTP request: 404 Client Error: Not Found for url: https://www.eversports.de/s/unique-studios-schweinfurt\n",
      "Converting to DataFrame...\n",
      "Validating URLs...\n",
      "\n",
      "Processing completed.\n",
      "-------------------------------- \n",
      "\n",
      "Starting URL reconstruction...\n"
     ]
    },
    {
     "name": "stderr",
     "output_type": "stream",
     "text": [
      "2024-02-20 16:17:28,842 - INFO - Processing URL 1/1: https://www.eversports.de/s/poledance-4-you\n"
     ]
    },
    {
     "name": "stdout",
     "output_type": "stream",
     "text": [
      "Converting to DataFrame...\n",
      "Validating URLs...\n"
     ]
    },
    {
     "name": "stderr",
     "output_type": "stream",
     "text": [
      "2024-02-20 16:17:30,096 - INFO - URL https://www.eversports.de/s/poledance-4-you is valid.\n"
     ]
    },
    {
     "name": "stdout",
     "output_type": "stream",
     "text": [
      "Scraping Pole Studio Data from https://www.eversports.de/s/poledance-4-you...\n"
     ]
    },
    {
     "name": "stderr",
     "output_type": "stream",
     "text": [
      "Processing URLs:  85%|████████▌ | 17/20 [00:48<00:06,  2.30s/it]"
     ]
    },
    {
     "name": "stdout",
     "output_type": "stream",
     "text": [
      "\n",
      "Processing completed.\n",
      "-------------------------------- \n",
      "\n",
      "2024-02-20 16:17:30 - INFO - Scraping Data from: https://www.eversports.de/s/poledance-4-you\n",
      "Pole Studio Data: 1 entries\n",
      "Starting URL reconstruction...\n"
     ]
    },
    {
     "name": "stderr",
     "output_type": "stream",
     "text": [
      "2024-02-20 16:17:31,609 - INFO - Processing URL 1/2: https://www.eversports.de/s/luftbonbon\n"
     ]
    },
    {
     "name": "stdout",
     "output_type": "stream",
     "text": [
      "Converting to DataFrame...\n",
      "Validating URLs...\n"
     ]
    },
    {
     "name": "stderr",
     "output_type": "stream",
     "text": [
      "2024-02-20 16:17:32,930 - INFO - URL https://www.eversports.de/s/luftbonbon is valid.\n",
      "2024-02-20 16:17:32,931 - INFO - Processing URL 2/2: https://www.eversports.de/sw/luftbonbon\n",
      "2024-02-20 16:17:34,032 - INFO - URL https://www.eversports.de/sw/luftbonbon is valid.\n"
     ]
    },
    {
     "name": "stdout",
     "output_type": "stream",
     "text": [
      "Scraping Pole Studio Data from https://www.eversports.de/s/luftbonbon...\n",
      "Scraping Workshops Data from https://www.eversports.de/sw/luftbonbon...\n",
      "Scraping Workshop Details from https://www.eversports.de/e/workshop/60kU5cU...\n"
     ]
    },
    {
     "name": "stderr",
     "output_type": "stream",
     "text": [
      "Processing URLs:  90%|█████████ | 18/20 [00:55<00:07,  3.82s/it]"
     ]
    },
    {
     "name": "stdout",
     "output_type": "stream",
     "text": [
      "\n",
      "Processing completed.\n",
      "-------------------------------- \n",
      "\n",
      "2024-02-20 16:17:37 - INFO - Scraping Data from: https://www.eversports.de/s/luftbonbon\n",
      "Pole Studio Data: 1 entries\n",
      "2024-02-20 16:17:37 - INFO - Scraping Data from: https://www.eversports.de/s/luftbonbon\n",
      "Workshops Data: 1 entries\n",
      "2024-02-20 16:17:37 - INFO - Scraping Data from: https://www.eversports.de/s/luftbonbon\n",
      "Workshop Details: 1 entries\n",
      "Starting URL reconstruction...\n"
     ]
    },
    {
     "name": "stderr",
     "output_type": "stream",
     "text": [
      "Processing URLs:  95%|█████████▌| 19/20 [00:57<00:03,  3.14s/it]"
     ]
    },
    {
     "name": "stdout",
     "output_type": "stream",
     "text": [
      "Error during HTTP request: 404 Client Error: Not Found for url: https://www.eversports.de/s/exquisuite\n",
      "Converting to DataFrame...\n",
      "Validating URLs...\n",
      "\n",
      "Processing completed.\n",
      "-------------------------------- \n",
      "\n",
      "Starting URL reconstruction...\n"
     ]
    },
    {
     "name": "stderr",
     "output_type": "stream",
     "text": [
      "Processing URLs: 100%|██████████| 20/20 [00:58<00:00,  2.92s/it]"
     ]
    },
    {
     "name": "stdout",
     "output_type": "stream",
     "text": [
      "Error during HTTP request: 404 Client Error: Not Found for url: https://www.eversports.de/s/pole-emotion-bremerhaven\n",
      "Converting to DataFrame...\n",
      "Validating URLs...\n",
      "\n",
      "Processing completed.\n",
      "-------------------------------- \n",
      "\n"
     ]
    },
    {
     "name": "stderr",
     "output_type": "stream",
     "text": [
      "\n"
     ]
    }
   ],
   "source": [
    "import pandas as pd\n",
    "from a_PyCaller import process_urls\n",
    "from tqdm import tqdm\n",
    "from datetime import datetime\n",
    "\n",
    "def process_and_print_results(url, all_pole_studio_data, all_workshops_data, all_workshop_details_data, all_urls_data):\n",
    "    data = process_urls([url])\n",
    "\n",
    "    if data:\n",
    "        for key, df in data.items():\n",
    "            if df is not None and not df.empty:\n",
    "                tqdm.write(f\"{datetime.now().strftime('%Y-%m-%d %H:%M:%S')} - INFO - Scraping Data from: {url}\")\n",
    "                tqdm.write(f\"{key.replace('_', ' ').title()}: {len(df)} entries\")\n",
    "\n",
    "                # Update the appropriate DataFrame\n",
    "                if key == 'pole_studio_data':\n",
    "                    all_pole_studio_data = pd.concat([all_pole_studio_data, df], ignore_index=True)\n",
    "                elif key == 'workshops_data':\n",
    "                    all_workshops_data = pd.concat([all_workshops_data, df], ignore_index=True)\n",
    "                elif key == 'workshop_details':\n",
    "                    all_workshop_details_data = pd.concat([all_workshop_details_data, df], ignore_index=True)\n",
    "\n",
    "    # Add URLs to DataFrame\n",
    "    all_urls_data = pd.concat([all_urls_data, pd.DataFrame({'URL': [url]})], ignore_index=True)\n",
    "\n",
    "    return all_pole_studio_data, all_workshops_data, all_workshop_details_data, all_urls_data\n",
    "\n",
    "def main():\n",
    "    # # Load initial URLs\n",
    "    # all_found_urls_s = pd.read_csv(\"your_output_file.csv\")\n",
    "    # initial_urls = list(set(all_found_urls_s[\"0\"])) # Delete \"[:3]\" to scrape all Urls\n",
    "\n",
    "    # Initialize DataFrames\n",
    "    all_pole_studio_data = pd.DataFrame()\n",
    "    all_workshops_data = pd.DataFrame()\n",
    "    all_workshop_details_data = pd.DataFrame()\n",
    "    all_urls_data = pd.DataFrame(columns=['URL'])\n",
    "\n",
    "    # Process each URL with tqdm\n",
    "    with tqdm(initial_urls, desc=\"Processing URLs\", dynamic_ncols=True) as pbar:\n",
    "        for url in pbar:\n",
    "            all_pole_studio_data, all_workshops_data, all_workshop_details_data, all_urls_data = process_and_print_results(\n",
    "                url, all_pole_studio_data, all_workshops_data, all_workshop_details_data, all_urls_data\n",
    "            )\n",
    "\n",
    "    # Export DataFrames to CSV files\n",
    "    # all_pole_studio_data.to_csv(\"Pole_Studio_Übersicht_S.csv\", index=False)\n",
    "    # all_workshops_data.to_csv(\"Workshop_Liste_SW.csv\", index=False)\n",
    "    # all_workshop_details_data.to_csv(\"Workshop_Übersicht_E.csv\", index=False)\n",
    "    # all_urls_data.to_csv(\"All_URLs.csv\", index=False)\n",
    "\n",
    "    # Return the final DataFrames\n",
    "    return all_pole_studio_data, all_workshops_data, all_workshop_details_data, all_urls_data\n",
    "\n",
    "# Run the main function and get the final DataFrames\n",
    "result_pole_studio, result_workshops, result_workshop_details, result_urls = main()\n"
   ]
  },
  {
   "cell_type": "code",
   "execution_count": 6,
   "metadata": {},
   "outputs": [
    {
     "data": {
      "text/html": [
       "<div>\n",
       "<style scoped>\n",
       "    .dataframe tbody tr th:only-of-type {\n",
       "        vertical-align: middle;\n",
       "    }\n",
       "\n",
       "    .dataframe tbody tr th {\n",
       "        vertical-align: top;\n",
       "    }\n",
       "\n",
       "    .dataframe thead th {\n",
       "        text-align: right;\n",
       "    }\n",
       "</style>\n",
       "<table border=\"1\" class=\"dataframe\">\n",
       "  <thead>\n",
       "    <tr style=\"text-align: right;\">\n",
       "      <th></th>\n",
       "      <th>PoleStudio_Name</th>\n",
       "      <th>Adresse</th>\n",
       "      <th>PLZ</th>\n",
       "      <th>Stadt</th>\n",
       "      <th>Straße</th>\n",
       "      <th>Buttons</th>\n",
       "      <th>Pole Studio Beschreibung</th>\n",
       "      <th>E-Mail</th>\n",
       "      <th>Homepage</th>\n",
       "      <th>Telefon</th>\n",
       "      <th>URL_S</th>\n",
       "      <th>Art</th>\n",
       "      <th>Angebot</th>\n",
       "      <th>Created Date</th>\n",
       "      <th>Updated Date</th>\n",
       "    </tr>\n",
       "  </thead>\n",
       "  <tbody>\n",
       "    <tr>\n",
       "      <th>0</th>\n",
       "      <td>Tanzstudio Michel</td>\n",
       "      <td>[Schmalweg 50 ,  55252 Wiesbaden]</td>\n",
       "      <td>55252</td>\n",
       "      <td>Wiesbaden</td>\n",
       "      <td>Schmalweg 50</td>\n",
       "      <td>[Übersicht, Klassen, Preise, Team]</td>\n",
       "      <td>Das etablierte Tanzstudio in Wiesbaden bietet ...</td>\n",
       "      <td>t.michel.9@gmx.de</td>\n",
       "      <td>https://www.tanzstudio-michel.de/</td>\n",
       "      <td>+49 15115125871</td>\n",
       "      <td>https://www.eversports.de/s/tanzstudio-michel</td>\n",
       "      <td>[1 Rezensionen, Fitness, Tanzen, Poledance, St...</td>\n",
       "      <td>Zum Stundenplan</td>\n",
       "      <td>2024-02-20 16:17:02</td>\n",
       "      <td>2024-02-20 16:17:02</td>\n",
       "    </tr>\n",
       "    <tr>\n",
       "      <th>1</th>\n",
       "      <td>Polestation Academy</td>\n",
       "      <td>[Marktstraße 20b ,  6971 Hard]</td>\n",
       "      <td>6971</td>\n",
       "      <td>Hard</td>\n",
       "      <td>Marktstraße 20b</td>\n",
       "      <td>[Übersicht, Klassen, Videos, Preise, Team]</td>\n",
       "      <td>Polestation Academy ist ein Ort für Pole und A...</td>\n",
       "      <td>blum.n@gmx.at</td>\n",
       "      <td>http://www.polestation.com</td>\n",
       "      <td>+43 6642006568</td>\n",
       "      <td>https://www.eversports.de/s/polestation-academy</td>\n",
       "      <td>[Poledance, Poledance, Poledance, Poledance, P...</td>\n",
       "      <td>Zum Stundenplan</td>\n",
       "      <td>2024-02-20 16:17:22</td>\n",
       "      <td>2024-02-20 16:17:22</td>\n",
       "    </tr>\n",
       "    <tr>\n",
       "      <th>2</th>\n",
       "      <td>Poledance 4 you</td>\n",
       "      <td>[Naugarder Straße 14,  10409 Berlin]</td>\n",
       "      <td>10409</td>\n",
       "      <td>Berlin</td>\n",
       "      <td>Naugarder Straße 14</td>\n",
       "      <td>[Übersicht]</td>\n",
       "      <td>Das Motto des Berliner Pole Dance Studios laut...</td>\n",
       "      <td>info@poledance4you.de</td>\n",
       "      <td>https://www.poledance4you.de/</td>\n",
       "      <td>None</td>\n",
       "      <td>https://www.eversports.de/s/poledance-4-you</td>\n",
       "      <td>[(Noch keine Bewertungen), Poledance]</td>\n",
       "      <td>None</td>\n",
       "      <td>2024-02-20 16:17:30</td>\n",
       "      <td>2024-02-20 16:17:30</td>\n",
       "    </tr>\n",
       "    <tr>\n",
       "      <th>3</th>\n",
       "      <td>Luftbonbon</td>\n",
       "      <td>[Königstraße 45 ,  32547 Bad Oeynhausen]</td>\n",
       "      <td>32547</td>\n",
       "      <td>Bad</td>\n",
       "      <td>Königstraße 45</td>\n",
       "      <td>[Übersicht, Klassen, Workshops, Preise, Team]</td>\n",
       "      <td>Entdecke mit uns die vielseitige Welt der Luft...</td>\n",
       "      <td>info@luftbonbon.com</td>\n",
       "      <td>https://www.luftbonbon.com/</td>\n",
       "      <td>01622572081</td>\n",
       "      <td>https://www.eversports.de/s/luftbonbon</td>\n",
       "      <td>[Poledance, Aerial Hoop, Poledance, Stärkung/F...</td>\n",
       "      <td>Zum Stundenplan</td>\n",
       "      <td>2024-02-20 16:17:34</td>\n",
       "      <td>2024-02-20 16:17:34</td>\n",
       "    </tr>\n",
       "  </tbody>\n",
       "</table>\n",
       "</div>"
      ],
      "text/plain": [
       "       PoleStudio_Name                                   Adresse    PLZ  \\\n",
       "0    Tanzstudio Michel         [Schmalweg 50 ,  55252 Wiesbaden]  55252   \n",
       "1  Polestation Academy            [Marktstraße 20b ,  6971 Hard]   6971   \n",
       "2      Poledance 4 you      [Naugarder Straße 14,  10409 Berlin]  10409   \n",
       "3           Luftbonbon  [Königstraße 45 ,  32547 Bad Oeynhausen]  32547   \n",
       "\n",
       "       Stadt               Straße  \\\n",
       "0  Wiesbaden         Schmalweg 50   \n",
       "1       Hard      Marktstraße 20b   \n",
       "2     Berlin  Naugarder Straße 14   \n",
       "3        Bad       Königstraße 45   \n",
       "\n",
       "                                         Buttons  \\\n",
       "0             [Übersicht, Klassen, Preise, Team]   \n",
       "1     [Übersicht, Klassen, Videos, Preise, Team]   \n",
       "2                                    [Übersicht]   \n",
       "3  [Übersicht, Klassen, Workshops, Preise, Team]   \n",
       "\n",
       "                            Pole Studio Beschreibung                  E-Mail  \\\n",
       "0  Das etablierte Tanzstudio in Wiesbaden bietet ...       t.michel.9@gmx.de   \n",
       "1  Polestation Academy ist ein Ort für Pole und A...           blum.n@gmx.at   \n",
       "2  Das Motto des Berliner Pole Dance Studios laut...   info@poledance4you.de   \n",
       "3  Entdecke mit uns die vielseitige Welt der Luft...     info@luftbonbon.com   \n",
       "\n",
       "                            Homepage          Telefon  \\\n",
       "0  https://www.tanzstudio-michel.de/  +49 15115125871   \n",
       "1         http://www.polestation.com   +43 6642006568   \n",
       "2      https://www.poledance4you.de/             None   \n",
       "3        https://www.luftbonbon.com/      01622572081   \n",
       "\n",
       "                                             URL_S  \\\n",
       "0    https://www.eversports.de/s/tanzstudio-michel   \n",
       "1  https://www.eversports.de/s/polestation-academy   \n",
       "2      https://www.eversports.de/s/poledance-4-you   \n",
       "3           https://www.eversports.de/s/luftbonbon   \n",
       "\n",
       "                                                 Art          Angebot  \\\n",
       "0  [1 Rezensionen, Fitness, Tanzen, Poledance, St...  Zum Stundenplan   \n",
       "1  [Poledance, Poledance, Poledance, Poledance, P...  Zum Stundenplan   \n",
       "2              [(Noch keine Bewertungen), Poledance]             None   \n",
       "3  [Poledance, Aerial Hoop, Poledance, Stärkung/F...  Zum Stundenplan   \n",
       "\n",
       "          Created Date         Updated Date  \n",
       "0  2024-02-20 16:17:02  2024-02-20 16:17:02  \n",
       "1  2024-02-20 16:17:22  2024-02-20 16:17:22  \n",
       "2  2024-02-20 16:17:30  2024-02-20 16:17:30  \n",
       "3  2024-02-20 16:17:34  2024-02-20 16:17:34  "
      ]
     },
     "execution_count": 6,
     "metadata": {},
     "output_type": "execute_result"
    }
   ],
   "source": [
    "result_pole_studio"
   ]
  },
  {
   "cell_type": "code",
   "execution_count": 7,
   "metadata": {},
   "outputs": [
    {
     "data": {
      "text/html": [
       "<div>\n",
       "<style scoped>\n",
       "    .dataframe tbody tr th:only-of-type {\n",
       "        vertical-align: middle;\n",
       "    }\n",
       "\n",
       "    .dataframe tbody tr th {\n",
       "        vertical-align: top;\n",
       "    }\n",
       "\n",
       "    .dataframe thead th {\n",
       "        text-align: right;\n",
       "    }\n",
       "</style>\n",
       "<table border=\"1\" class=\"dataframe\">\n",
       "  <thead>\n",
       "    <tr style=\"text-align: right;\">\n",
       "      <th></th>\n",
       "      <th>Workshop Name</th>\n",
       "      <th>Workshop Date</th>\n",
       "      <th>Workshop Price</th>\n",
       "      <th>Workshop Units</th>\n",
       "      <th>Workshop Studio</th>\n",
       "      <th>Workshop Address</th>\n",
       "      <th>URL_E</th>\n",
       "    </tr>\n",
       "  </thead>\n",
       "  <tbody>\n",
       "    <tr>\n",
       "      <th>0</th>\n",
       "      <td>Spagat</td>\n",
       "      <td>Feb05bis Feb 26</td>\n",
       "      <td>Ausgebucht</td>\n",
       "      <td>4 Einheiten</td>\n",
       "      <td>Luftbonbon</td>\n",
       "      <td>Königstraße 45, 32547 Bad Oeynhausen</td>\n",
       "      <td>https://www.eversports.de/e/workshop/60kU5cU</td>\n",
       "    </tr>\n",
       "  </tbody>\n",
       "</table>\n",
       "</div>"
      ],
      "text/plain": [
       "  Workshop Name    Workshop Date Workshop Price Workshop Units  \\\n",
       "0        Spagat  Feb05bis Feb 26     Ausgebucht    4 Einheiten   \n",
       "\n",
       "  Workshop Studio                      Workshop Address  \\\n",
       "0      Luftbonbon  Königstraße 45, 32547 Bad Oeynhausen   \n",
       "\n",
       "                                          URL_E  \n",
       "0  https://www.eversports.de/e/workshop/60kU5cU  "
      ]
     },
     "execution_count": 7,
     "metadata": {},
     "output_type": "execute_result"
    }
   ],
   "source": [
    "result_workshops"
   ]
  },
  {
   "cell_type": "code",
   "execution_count": 8,
   "metadata": {},
   "outputs": [
    {
     "data": {
      "text/html": [
       "<div>\n",
       "<style scoped>\n",
       "    .dataframe tbody tr th:only-of-type {\n",
       "        vertical-align: middle;\n",
       "    }\n",
       "\n",
       "    .dataframe tbody tr th {\n",
       "        vertical-align: top;\n",
       "    }\n",
       "\n",
       "    .dataframe thead th {\n",
       "        text-align: right;\n",
       "    }\n",
       "</style>\n",
       "<table border=\"1\" class=\"dataframe\">\n",
       "  <thead>\n",
       "    <tr style=\"text-align: right;\">\n",
       "      <th></th>\n",
       "      <th>Workshop Name</th>\n",
       "      <th>Description</th>\n",
       "      <th>Studio Name</th>\n",
       "      <th>Location</th>\n",
       "      <th>Art</th>\n",
       "      <th>Date</th>\n",
       "      <th>URL_E</th>\n",
       "      <th>Time</th>\n",
       "    </tr>\n",
       "  </thead>\n",
       "  <tbody>\n",
       "    <tr>\n",
       "      <th>0</th>\n",
       "      <td>Spagat</td>\n",
       "      <td>Straddle &amp; Middlesplit stehen ganz oben auf De...</td>\n",
       "      <td>Luftbonbon</td>\n",
       "      <td>20:20 - 21:20</td>\n",
       "      <td>Stärkung/Flexibilität</td>\n",
       "      <td>Begann am Montag, 5. Februar 2024</td>\n",
       "      <td>https://www.eversports.de/e/workshop/60kU5cU</td>\n",
       "      <td>Königstraße 45, 32547 Bad Oeynhausen</td>\n",
       "    </tr>\n",
       "  </tbody>\n",
       "</table>\n",
       "</div>"
      ],
      "text/plain": [
       "  Workshop Name                                        Description  \\\n",
       "0        Spagat  Straddle & Middlesplit stehen ganz oben auf De...   \n",
       "\n",
       "  Studio Name       Location                    Art  \\\n",
       "0  Luftbonbon  20:20 - 21:20  Stärkung/Flexibilität   \n",
       "\n",
       "                                Date  \\\n",
       "0  Begann am Montag, 5. Februar 2024   \n",
       "\n",
       "                                          URL_E  \\\n",
       "0  https://www.eversports.de/e/workshop/60kU5cU   \n",
       "\n",
       "                                   Time  \n",
       "0  Königstraße 45, 32547 Bad Oeynhausen  "
      ]
     },
     "execution_count": 8,
     "metadata": {},
     "output_type": "execute_result"
    }
   ],
   "source": [
    "result_workshop_details"
   ]
  },
  {
   "cell_type": "code",
   "execution_count": 9,
   "metadata": {},
   "outputs": [
    {
     "data": {
      "text/html": [
       "<div>\n",
       "<style scoped>\n",
       "    .dataframe tbody tr th:only-of-type {\n",
       "        vertical-align: middle;\n",
       "    }\n",
       "\n",
       "    .dataframe tbody tr th {\n",
       "        vertical-align: top;\n",
       "    }\n",
       "\n",
       "    .dataframe thead th {\n",
       "        text-align: right;\n",
       "    }\n",
       "</style>\n",
       "<table border=\"1\" class=\"dataframe\">\n",
       "  <thead>\n",
       "    <tr style=\"text-align: right;\">\n",
       "      <th></th>\n",
       "      <th>URL</th>\n",
       "    </tr>\n",
       "  </thead>\n",
       "  <tbody>\n",
       "    <tr>\n",
       "      <th>0</th>\n",
       "      <td>https://www.eversports.de/s/seemannsbraut-pole...</td>\n",
       "    </tr>\n",
       "    <tr>\n",
       "      <th>1</th>\n",
       "      <td>https://www.eversports.de/s/tsg-blau-gold-ball...</td>\n",
       "    </tr>\n",
       "    <tr>\n",
       "      <th>2</th>\n",
       "      <td>https://www.eversports.de/s/pole-stars-osnabr%...</td>\n",
       "    </tr>\n",
       "    <tr>\n",
       "      <th>3</th>\n",
       "      <td>https://www.eversports.de/s/aerial-art-studio</td>\n",
       "    </tr>\n",
       "    <tr>\n",
       "      <th>4</th>\n",
       "      <td>https://www.eversports.de/s/k%C3%B6rpernah</td>\n",
       "    </tr>\n",
       "    <tr>\n",
       "      <th>5</th>\n",
       "      <td>https://www.eversports.de/s/dance-moves-wolfen...</td>\n",
       "    </tr>\n",
       "    <tr>\n",
       "      <th>6</th>\n",
       "      <td>https://www.eversports.de/s/mypole</td>\n",
       "    </tr>\n",
       "    <tr>\n",
       "      <th>7</th>\n",
       "      <td>https://www.eversports.de/s/tanzstudio-michel</td>\n",
       "    </tr>\n",
       "    <tr>\n",
       "      <th>8</th>\n",
       "      <td>https://www.eversports.de/s/pole-sensation</td>\n",
       "    </tr>\n",
       "    <tr>\n",
       "      <th>9</th>\n",
       "      <td>https://www.eversports.de/s/poledance-rostock</td>\n",
       "    </tr>\n",
       "    <tr>\n",
       "      <th>10</th>\n",
       "      <td>https://www.eversports.de/s/wildheart-yoga-%26...</td>\n",
       "    </tr>\n",
       "    <tr>\n",
       "      <th>11</th>\n",
       "      <td>https://www.eversports.de/s/studio-beyou</td>\n",
       "    </tr>\n",
       "    <tr>\n",
       "      <th>12</th>\n",
       "      <td>https://www.eversports.de/s/polestation-academy</td>\n",
       "    </tr>\n",
       "    <tr>\n",
       "      <th>13</th>\n",
       "      <td>https://www.eversports.de/s/indeed-unique---st...</td>\n",
       "    </tr>\n",
       "    <tr>\n",
       "      <th>14</th>\n",
       "      <td>https://www.eversports.de/s/polefitness-by-sop...</td>\n",
       "    </tr>\n",
       "    <tr>\n",
       "      <th>15</th>\n",
       "      <td>https://www.eversports.de/s/unique-studios-sch...</td>\n",
       "    </tr>\n",
       "    <tr>\n",
       "      <th>16</th>\n",
       "      <td>https://www.eversports.de/s/poledance-4-you</td>\n",
       "    </tr>\n",
       "    <tr>\n",
       "      <th>17</th>\n",
       "      <td>https://www.eversports.de/s/luftbonbon</td>\n",
       "    </tr>\n",
       "    <tr>\n",
       "      <th>18</th>\n",
       "      <td>https://www.eversports.de/s/exquisuite</td>\n",
       "    </tr>\n",
       "    <tr>\n",
       "      <th>19</th>\n",
       "      <td>https://www.eversports.de/s/pole-emotion-breme...</td>\n",
       "    </tr>\n",
       "  </tbody>\n",
       "</table>\n",
       "</div>"
      ],
      "text/plain": [
       "                                                  URL\n",
       "0   https://www.eversports.de/s/seemannsbraut-pole...\n",
       "1   https://www.eversports.de/s/tsg-blau-gold-ball...\n",
       "2   https://www.eversports.de/s/pole-stars-osnabr%...\n",
       "3       https://www.eversports.de/s/aerial-art-studio\n",
       "4          https://www.eversports.de/s/k%C3%B6rpernah\n",
       "5   https://www.eversports.de/s/dance-moves-wolfen...\n",
       "6                  https://www.eversports.de/s/mypole\n",
       "7       https://www.eversports.de/s/tanzstudio-michel\n",
       "8          https://www.eversports.de/s/pole-sensation\n",
       "9       https://www.eversports.de/s/poledance-rostock\n",
       "10  https://www.eversports.de/s/wildheart-yoga-%26...\n",
       "11           https://www.eversports.de/s/studio-beyou\n",
       "12    https://www.eversports.de/s/polestation-academy\n",
       "13  https://www.eversports.de/s/indeed-unique---st...\n",
       "14  https://www.eversports.de/s/polefitness-by-sop...\n",
       "15  https://www.eversports.de/s/unique-studios-sch...\n",
       "16        https://www.eversports.de/s/poledance-4-you\n",
       "17             https://www.eversports.de/s/luftbonbon\n",
       "18             https://www.eversports.de/s/exquisuite\n",
       "19  https://www.eversports.de/s/pole-emotion-breme..."
      ]
     },
     "execution_count": 9,
     "metadata": {},
     "output_type": "execute_result"
    }
   ],
   "source": [
    "result_urls"
   ]
  },
  {
   "cell_type": "markdown",
   "metadata": {},
   "source": [
    "---"
   ]
  },
  {
   "cell_type": "markdown",
   "metadata": {},
   "source": [
    "Test V7"
   ]
  },
  {
   "cell_type": "code",
   "execution_count": 10,
   "metadata": {},
   "outputs": [
    {
     "data": {
      "text/plain": [
       "(       PoleStudio_Name                                   Adresse    PLZ  \\\n",
       " 0    Tanzstudio Michel         [Schmalweg 50 ,  55252 Wiesbaden]  55252   \n",
       " 1  Polestation Academy            [Marktstraße 20b ,  6971 Hard]   6971   \n",
       " 2      Poledance 4 you      [Naugarder Straße 14,  10409 Berlin]  10409   \n",
       " 3           Luftbonbon  [Königstraße 45 ,  32547 Bad Oeynhausen]  32547   \n",
       " \n",
       "        Stadt               Straße  \\\n",
       " 0  Wiesbaden         Schmalweg 50   \n",
       " 1       Hard      Marktstraße 20b   \n",
       " 2     Berlin  Naugarder Straße 14   \n",
       " 3        Bad       Königstraße 45   \n",
       " \n",
       "                                          Buttons  \\\n",
       " 0             [Übersicht, Klassen, Preise, Team]   \n",
       " 1     [Übersicht, Klassen, Videos, Preise, Team]   \n",
       " 2                                    [Übersicht]   \n",
       " 3  [Übersicht, Klassen, Workshops, Preise, Team]   \n",
       " \n",
       "                             Pole Studio Beschreibung                  E-Mail  \\\n",
       " 0  Das etablierte Tanzstudio in Wiesbaden bietet ...       t.michel.9@gmx.de   \n",
       " 1  Polestation Academy ist ein Ort für Pole und A...           blum.n@gmx.at   \n",
       " 2  Das Motto des Berliner Pole Dance Studios laut...   info@poledance4you.de   \n",
       " 3  Entdecke mit uns die vielseitige Welt der Luft...     info@luftbonbon.com   \n",
       " \n",
       "                             Homepage          Telefon  \\\n",
       " 0  https://www.tanzstudio-michel.de/  +49 15115125871   \n",
       " 1         http://www.polestation.com   +43 6642006568   \n",
       " 2      https://www.poledance4you.de/             None   \n",
       " 3        https://www.luftbonbon.com/      01622572081   \n",
       " \n",
       "                                              URL_S  \\\n",
       " 0    https://www.eversports.de/s/tanzstudio-michel   \n",
       " 1  https://www.eversports.de/s/polestation-academy   \n",
       " 2      https://www.eversports.de/s/poledance-4-you   \n",
       " 3           https://www.eversports.de/s/luftbonbon   \n",
       " \n",
       "                                                  Art          Angebot  \\\n",
       " 0  [1 Rezensionen, Fitness, Tanzen, Poledance, St...  Zum Stundenplan   \n",
       " 1  [Poledance, Poledance, Poledance, Poledance, P...  Zum Stundenplan   \n",
       " 2              [(Noch keine Bewertungen), Poledance]             None   \n",
       " 3  [Poledance, Aerial Hoop, Poledance, Stärkung/F...  Zum Stundenplan   \n",
       " \n",
       "           Created Date         Updated Date  \n",
       " 0  2024-02-20 16:17:02  2024-02-20 16:17:02  \n",
       " 1  2024-02-20 16:17:22  2024-02-20 16:17:22  \n",
       " 2  2024-02-20 16:17:30  2024-02-20 16:17:30  \n",
       " 3  2024-02-20 16:17:34  2024-02-20 16:17:34  ,\n",
       "   Workshop Name    Workshop Date Workshop Price Workshop Units  \\\n",
       " 0        Spagat  Feb05bis Feb 26     Ausgebucht    4 Einheiten   \n",
       " \n",
       "   Workshop Studio                      Workshop Address  \\\n",
       " 0      Luftbonbon  Königstraße 45, 32547 Bad Oeynhausen   \n",
       " \n",
       "                                           URL_E  \n",
       " 0  https://www.eversports.de/e/workshop/60kU5cU  ,\n",
       "   Workshop Name                                        Description  \\\n",
       " 0        Spagat  Straddle & Middlesplit stehen ganz oben auf De...   \n",
       " \n",
       "   Studio Name       Location                    Art  \\\n",
       " 0  Luftbonbon  20:20 - 21:20  Stärkung/Flexibilität   \n",
       " \n",
       "                                 Date  \\\n",
       " 0  Begann am Montag, 5. Februar 2024   \n",
       " \n",
       "                                           URL_E  \\\n",
       " 0  https://www.eversports.de/e/workshop/60kU5cU   \n",
       " \n",
       "                                    Time  \n",
       " 0  Königstraße 45, 32547 Bad Oeynhausen  ,\n",
       "                                                   URL\n",
       " 0   https://www.eversports.de/s/seemannsbraut-pole...\n",
       " 1   https://www.eversports.de/s/tsg-blau-gold-ball...\n",
       " 2   https://www.eversports.de/s/pole-stars-osnabr%...\n",
       " 3       https://www.eversports.de/s/aerial-art-studio\n",
       " 4          https://www.eversports.de/s/k%C3%B6rpernah\n",
       " 5   https://www.eversports.de/s/dance-moves-wolfen...\n",
       " 6                  https://www.eversports.de/s/mypole\n",
       " 7       https://www.eversports.de/s/tanzstudio-michel\n",
       " 8          https://www.eversports.de/s/pole-sensation\n",
       " 9       https://www.eversports.de/s/poledance-rostock\n",
       " 10  https://www.eversports.de/s/wildheart-yoga-%26...\n",
       " 11           https://www.eversports.de/s/studio-beyou\n",
       " 12    https://www.eversports.de/s/polestation-academy\n",
       " 13  https://www.eversports.de/s/indeed-unique---st...\n",
       " 14  https://www.eversports.de/s/polefitness-by-sop...\n",
       " 15  https://www.eversports.de/s/unique-studios-sch...\n",
       " 16        https://www.eversports.de/s/poledance-4-you\n",
       " 17             https://www.eversports.de/s/luftbonbon\n",
       " 18             https://www.eversports.de/s/exquisuite\n",
       " 19  https://www.eversports.de/s/pole-emotion-breme...)"
      ]
     },
     "execution_count": 10,
     "metadata": {},
     "output_type": "execute_result"
    }
   ],
   "source": [
    "result_pole_studio, result_workshops, result_workshop_details, result_urls"
   ]
  },
  {
   "cell_type": "code",
   "execution_count": 11,
   "metadata": {},
   "outputs": [],
   "source": [
    "# import pandas as pd\n",
    "# from a_PyCaller import process_urls\n",
    "# from tqdm import tqdm\n",
    "# from datetime import datetime\n",
    "\n",
    "# def process_and_print_results(url, all_pole_studio_data, all_workshops_data, all_workshop_details_data):\n",
    "#     data = process_urls([url])\n",
    "\n",
    "#     if data:\n",
    "#         for key, df in data.items():\n",
    "#             if df is not None and not df.empty:\n",
    "#                 tqdm.write(f\"{datetime.now().strftime('%Y-%m-%d %H:%M:%S')} - INFO - Scraping Data from: {url}\")\n",
    "#                 tqdm.write(f\"{key.replace('_', ' ').title()}: {len(df)} entries\")\n",
    "\n",
    "#                 # Update the appropriate DataFrame\n",
    "#                 if key == 'pole_studio_data':\n",
    "#                     all_pole_studio_data = pd.concat([all_pole_studio_data, df], ignore_index=True)\n",
    "#                 elif key == 'workshops_data':\n",
    "#                     all_workshops_data = pd.concat([all_workshops_data, df], ignore_index=True)\n",
    "#                 elif key == 'workshop_details':\n",
    "#                     all_workshop_details_data = pd.concat([all_workshop_details_data, df], ignore_index=True)\n",
    "\n",
    "#     return all_pole_studio_data, all_workshops_data, all_workshop_details_data\n",
    "\n",
    "# def main():\n",
    "#     # # Load initial URLs\n",
    "#     # all_found_urls_s = pd.read_csv(\"your_output_file.csv\")\n",
    "#     # initial_urls = list(set(all_found_urls_s[\"0\"])) # Delete \"[:3]\" to scrape all Urls\n",
    "\n",
    "#     # Initialize DataFrames\n",
    "#     all_pole_studio_data = pd.DataFrame()\n",
    "#     all_workshops_data = pd.DataFrame()\n",
    "#     all_workshop_details_data = pd.DataFrame()\n",
    "\n",
    "#     # Process each URL with tqdm\n",
    "#     with tqdm(initial_urls, desc=\"Processing URLs\", dynamic_ncols=True) as pbar:\n",
    "#         for url in pbar:\n",
    "#             all_pole_studio_data, all_workshops_data, all_workshop_details_data = process_and_print_results(\n",
    "#                 url, all_pole_studio_data, all_workshops_data, all_workshop_details_data\n",
    "#             )\n",
    "\n",
    "#     # # Export DataFrames to CSV files\n",
    "#     all_pole_studio_data.to_csv(\"Pole_Studio_Übersicht_S.csv\", index=False)\n",
    "#     all_workshops_data.to_csv(\"Workshop_Liste_SW.csv\", index=False)\n",
    "#     all_workshop_details_data.to_csv(\"Workshop_Übersicht_E.csv\", index=False)\n",
    "\n",
    "#     # Return the final DataFrames\n",
    "#     return all_pole_studio_data, all_workshops_data, all_workshop_details_data\n",
    "\n",
    "# # Run the main function and get the final DataFrames\n",
    "# result_pole_studio, result_workshops, result_workshop_details = main()\n"
   ]
  },
  {
   "cell_type": "code",
   "execution_count": 12,
   "metadata": {},
   "outputs": [],
   "source": [
    "# result_pole_studio"
   ]
  },
  {
   "cell_type": "markdown",
   "metadata": {},
   "source": [
    "---"
   ]
  },
  {
   "cell_type": "code",
   "execution_count": 13,
   "metadata": {},
   "outputs": [],
   "source": [
    "# result_workshops"
   ]
  },
  {
   "cell_type": "code",
   "execution_count": 14,
   "metadata": {},
   "outputs": [],
   "source": [
    "# result_workshop_details"
   ]
  }
 ],
 "metadata": {
  "kernelspec": {
   "display_name": "Python 3",
   "language": "python",
   "name": "python3"
  },
  "language_info": {
   "codemirror_mode": {
    "name": "ipython",
    "version": 3
   },
   "file_extension": ".py",
   "mimetype": "text/x-python",
   "name": "python",
   "nbconvert_exporter": "python",
   "pygments_lexer": "ipython3",
   "version": "3.12.1"
  }
 },
 "nbformat": 4,
 "nbformat_minor": 2
}
