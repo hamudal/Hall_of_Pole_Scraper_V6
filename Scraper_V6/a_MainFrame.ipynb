{
 "cells": [
  {
   "cell_type": "markdown",
   "metadata": {},
   "source": [
    "Load Modules"
   ]
  },
  {
   "cell_type": "code",
   "execution_count": 1,
   "metadata": {},
   "outputs": [],
   "source": [
    "import pandas as pd\n",
    "from a_PyCaller import process_urls\n",
    "from tqdm import tqdm"
   ]
  },
  {
   "cell_type": "markdown",
   "metadata": {},
   "source": [
    "---"
   ]
  },
  {
   "cell_type": "markdown",
   "metadata": {},
   "source": [
    "Here use PoleStudio URL_S Like: \"https://www.eversports.de/s/poda-studio\" , \"s/\" & PoleStudio Name"
   ]
  },
  {
   "cell_type": "code",
   "execution_count": 2,
   "metadata": {},
   "outputs": [],
   "source": [
    "# Load initial URLs\n",
    "all_found_urls_s = pd.read_csv(\"your_output_file.csv\")\n",
    "initial_urls = list(set(all_found_urls_s[\"0\"]))"
   ]
  },
  {
   "cell_type": "markdown",
   "metadata": {},
   "source": [
    "V6"
   ]
  },
  {
   "cell_type": "code",
   "execution_count": 3,
   "metadata": {},
   "outputs": [
    {
     "name": "stderr",
     "output_type": "stream",
     "text": [
      "Processing URLs:   0%|          | 0/337 [00:00<?, ?it/s]"
     ]
    },
    {
     "name": "stdout",
     "output_type": "stream",
     "text": [
      "Starting URL reconstruction...\n"
     ]
    },
    {
     "name": "stderr",
     "output_type": "stream",
     "text": [
      "Processing URLs:   0%|          | 1/337 [00:01<07:44,  1.38s/it, Current URL: https://www.eversports.de/s/freaky-pole-cats-hengersberg]"
     ]
    },
    {
     "name": "stdout",
     "output_type": "stream",
     "text": [
      "Error during HTTP request: 404 Client Error: Not Found for url: https://www.eversports.de/s/freaky-pole-cats-hengersberg\n",
      "Converting to DataFrame...\n",
      "Validating URLs...\n",
      "Processing completed.\n",
      "Starting URL reconstruction...\n"
     ]
    },
    {
     "name": "stderr",
     "output_type": "stream",
     "text": [
      "Processing URLs:   1%|          | 2/337 [00:02<07:19,  1.31s/it, Current URL: https://www.eversports.de/s/poleroom]                    "
     ]
    },
    {
     "name": "stdout",
     "output_type": "stream",
     "text": [
      "Error during HTTP request: 404 Client Error: Not Found for url: https://www.eversports.de/s/poleroom\n",
      "Converting to DataFrame...\n",
      "Validating URLs...\n",
      "Processing completed.\n",
      "Starting URL reconstruction...\n"
     ]
    },
    {
     "name": "stderr",
     "output_type": "stream",
     "text": [
      "2024-02-10 16:20:34,196 - INFO - Processing URL 1/3: https://www.eversports.de/s/koerperformfabrik-gbr\n"
     ]
    },
    {
     "name": "stdout",
     "output_type": "stream",
     "text": [
      "Converting to DataFrame...\n",
      "Validating URLs...\n"
     ]
    },
    {
     "name": "stderr",
     "output_type": "stream",
     "text": [
      "2024-02-10 16:20:40,590 - INFO - URL https://www.eversports.de/s/koerperformfabrik-gbr is valid.\n",
      "2024-02-10 16:20:40,591 - INFO - Processing URL 2/3: https://www.eversports.de/sp/koerperformfabrik-gbr\n",
      "2024-02-10 16:20:41,907 - INFO - URL https://www.eversports.de/sp/koerperformfabrik-gbr is valid.\n",
      "2024-02-10 16:20:41,908 - INFO - Processing URL 3/3: https://www.eversports.de/s/koerperformfabrik-gbr/team\n",
      "2024-02-10 16:20:43,594 - INFO - URL https://www.eversports.de/s/koerperformfabrik-gbr/team is valid.\n"
     ]
    },
    {
     "name": "stdout",
     "output_type": "stream",
     "text": [
      "Scraping Pole Studio Data from https://www.eversports.de/s/koerperformfabrik-gbr...\n"
     ]
    },
    {
     "name": "stderr",
     "output_type": "stream",
     "text": [
      "Processing URLs:   1%|          | 3/337 [00:15<36:17,  6.52s/it, Current URL: https://www.eversports.de/s/koerperformfabrik-gbr]"
     ]
    },
    {
     "name": "stdout",
     "output_type": "stream",
     "text": [
      "Processing completed.\n",
      "Pole Studio Data: 1 entries\n",
      "Starting URL reconstruction...\n"
     ]
    },
    {
     "name": "stderr",
     "output_type": "stream",
     "text": [
      "Processing URLs:   1%|          | 4/337 [00:22<36:50,  6.64s/it, Current URL: https://www.eversports.de/s/feel-good-factory:-pole-•-stretch-•-fly]"
     ]
    },
    {
     "name": "stdout",
     "output_type": "stream",
     "text": [
      "Error during HTTP request: Exceeded 30 redirects.\n",
      "Converting to DataFrame...\n",
      "Validating URLs...\n",
      "Processing completed.\n",
      "Starting URL reconstruction...\n"
     ]
    },
    {
     "name": "stderr",
     "output_type": "stream",
     "text": [
      "Processing URLs:   1%|▏         | 5/337 [00:23<26:03,  4.71s/it, Current URL: https://www.eversports.de/s/pole-position-studio]                   "
     ]
    },
    {
     "name": "stdout",
     "output_type": "stream",
     "text": [
      "Error during HTTP request: 404 Client Error: Not Found for url: https://www.eversports.de/s/pole-position-studio\n",
      "Converting to DataFrame...\n",
      "Validating URLs...\n",
      "Processing completed.\n",
      "Starting URL reconstruction...\n"
     ]
    },
    {
     "name": "stderr",
     "output_type": "stream",
     "text": [
      "Processing URLs:   2%|▏         | 6/337 [00:24<19:51,  3.60s/it, Current URL: https://www.eversports.de/s/polegarage-iserloh]  "
     ]
    },
    {
     "name": "stdout",
     "output_type": "stream",
     "text": [
      "Error during HTTP request: 404 Client Error: Not Found for url: https://www.eversports.de/s/polegarage-iserloh\n",
      "Converting to DataFrame...\n",
      "Validating URLs...\n",
      "Processing completed.\n",
      "Starting URL reconstruction...\n"
     ]
    },
    {
     "name": "stderr",
     "output_type": "stream",
     "text": [
      "Processing URLs:   2%|▏         | 7/337 [00:26<15:36,  2.84s/it, Current URL: https://www.eversports.de/s/studio-mohnblume]  "
     ]
    },
    {
     "name": "stdout",
     "output_type": "stream",
     "text": [
      "Error during HTTP request: 404 Client Error: Not Found for url: https://www.eversports.de/s/studio-mohnblume\n",
      "Converting to DataFrame...\n",
      "Validating URLs...\n",
      "Processing completed.\n",
      "Starting URL reconstruction...\n"
     ]
    },
    {
     "name": "stderr",
     "output_type": "stream",
     "text": [
      "Processing URLs:   2%|▏         | 8/337 [00:27<12:45,  2.33s/it, Current URL: https://www.eversports.de/s/open-aerial-dance]"
     ]
    },
    {
     "name": "stdout",
     "output_type": "stream",
     "text": [
      "Error during HTTP request: 404 Client Error: Not Found for url: https://www.eversports.de/s/open-aerial-dance\n",
      "Converting to DataFrame...\n",
      "Validating URLs...\n",
      "Processing completed.\n",
      "Starting URL reconstruction...\n"
     ]
    },
    {
     "name": "stderr",
     "output_type": "stream",
     "text": [
      "2024-02-10 16:20:58,895 - INFO - Processing URL 1/1: https://www.eversports.de/s/poleworkx\n"
     ]
    },
    {
     "name": "stdout",
     "output_type": "stream",
     "text": [
      "Converting to DataFrame...\n",
      "Validating URLs...\n"
     ]
    },
    {
     "name": "stderr",
     "output_type": "stream",
     "text": [
      "2024-02-10 16:21:00,473 - INFO - URL https://www.eversports.de/s/poleworkx is valid.\n"
     ]
    },
    {
     "name": "stdout",
     "output_type": "stream",
     "text": [
      "Scraping Pole Studio Data from https://www.eversports.de/s/poleworkx...\n"
     ]
    },
    {
     "name": "stderr",
     "output_type": "stream",
     "text": [
      "Processing URLs:   3%|▎         | 9/337 [00:30<14:23,  2.63s/it, Current URL: https://www.eversports.de/s/poleworkx]        "
     ]
    },
    {
     "name": "stdout",
     "output_type": "stream",
     "text": [
      "Processing completed.\n",
      "Pole Studio Data: 1 entries\n",
      "Starting URL reconstruction...\n"
     ]
    },
    {
     "name": "stderr",
     "output_type": "stream",
     "text": [
      "2024-02-10 16:21:02,206 - INFO - Processing URL 1/1: https://www.eversports.de/s/pure-body-concepts\n"
     ]
    },
    {
     "name": "stdout",
     "output_type": "stream",
     "text": [
      "Converting to DataFrame...\n",
      "Validating URLs...\n"
     ]
    },
    {
     "name": "stderr",
     "output_type": "stream",
     "text": [
      "2024-02-10 16:21:03,618 - INFO - URL https://www.eversports.de/s/pure-body-concepts is valid.\n"
     ]
    },
    {
     "name": "stdout",
     "output_type": "stream",
     "text": [
      "Scraping Pole Studio Data from https://www.eversports.de/s/pure-body-concepts...\n"
     ]
    },
    {
     "name": "stderr",
     "output_type": "stream",
     "text": [
      "Processing URLs:   3%|▎         | 10/337 [00:33<15:07,  2.78s/it, Current URL: https://www.eversports.de/s/pure-body-concepts]"
     ]
    },
    {
     "name": "stdout",
     "output_type": "stream",
     "text": [
      "Processing completed.\n",
      "Pole Studio Data: 1 entries\n",
      "Starting URL reconstruction...\n"
     ]
    },
    {
     "name": "stderr",
     "output_type": "stream",
     "text": [
      "Processing URLs:   3%|▎         | 11/337 [00:39<20:18,  3.74s/it, Current URL: https://www.eversports.de/s/t-tanzstück-wolfsburg]"
     ]
    },
    {
     "name": "stdout",
     "output_type": "stream",
     "text": [
      "Error during HTTP request: Exceeded 30 redirects.\n",
      "Converting to DataFrame...\n",
      "Validating URLs...\n",
      "Processing completed.\n",
      "Starting URL reconstruction...\n"
     ]
    },
    {
     "name": "stderr",
     "output_type": "stream",
     "text": [
      "Processing URLs:   4%|▎         | 12/337 [00:41<17:05,  3.16s/it, Current URL: https://www.eversports.de/s/poledance-schule-berlin]"
     ]
    },
    {
     "name": "stdout",
     "output_type": "stream",
     "text": [
      "Error during HTTP request: 404 Client Error: Not Found for url: https://www.eversports.de/s/poledance-schule-berlin\n",
      "Converting to DataFrame...\n",
      "Validating URLs...\n",
      "Processing completed.\n",
      "Starting URL reconstruction...\n"
     ]
    },
    {
     "name": "stderr",
     "output_type": "stream",
     "text": [
      "2024-02-10 16:21:13,159 - INFO - Processing URL 1/3: https://www.eversports.de/s/pole-for-soul-gbr\n"
     ]
    },
    {
     "name": "stdout",
     "output_type": "stream",
     "text": [
      "Converting to DataFrame...\n",
      "Validating URLs...\n"
     ]
    },
    {
     "name": "stderr",
     "output_type": "stream",
     "text": [
      "2024-02-10 16:21:14,522 - INFO - URL https://www.eversports.de/s/pole-for-soul-gbr is valid.\n",
      "2024-02-10 16:21:14,523 - INFO - Processing URL 2/3: https://www.eversports.de/sw/pole-for-soul-gbr\n",
      "2024-02-10 16:21:15,750 - INFO - URL https://www.eversports.de/sw/pole-for-soul-gbr is valid.\n",
      "2024-02-10 16:21:15,751 - INFO - Processing URL 3/3: https://www.eversports.de/s/pole-for-soul-gbr/team\n",
      "2024-02-10 16:21:17,063 - INFO - URL https://www.eversports.de/s/pole-for-soul-gbr/team is valid.\n"
     ]
    },
    {
     "name": "stdout",
     "output_type": "stream",
     "text": [
      "Scraping Pole Studio Data from https://www.eversports.de/s/pole-for-soul-gbr...\n",
      "Scraping Workshops Data from https://www.eversports.de/sw/pole-for-soul-gbr...\n",
      "Scraping Workshop Details from https://www.eversports.de/e/workshop/rnbGVfh...\n"
     ]
    },
    {
     "name": "stderr",
     "output_type": "stream",
     "text": [
      "Processing URLs:   4%|▍         | 13/337 [00:50<26:04,  4.83s/it, Current URL: https://www.eversports.de/s/pole-for-soul-gbr]      "
     ]
    },
    {
     "name": "stdout",
     "output_type": "stream",
     "text": [
      "Processing completed.\n",
      "Pole Studio Data: 1 entries\n",
      "Workshops Data: 1 entries\n",
      "Workshop Details: 1 entries\n",
      "Starting URL reconstruction...\n"
     ]
    },
    {
     "name": "stderr",
     "output_type": "stream",
     "text": [
      "Processing URLs:   4%|▍         | 14/337 [00:52<22:25,  4.17s/it, Current URL: https://www.eversports.de/s/pole-dance-stuttgart]"
     ]
    },
    {
     "name": "stdout",
     "output_type": "stream",
     "text": [
      "Error during HTTP request: 404 Client Error: Not Found for url: https://www.eversports.de/s/pole-dance-stuttgart\n",
      "Converting to DataFrame...\n",
      "Validating URLs...\n",
      "Processing completed.\n",
      "Starting URL reconstruction...\n"
     ]
    },
    {
     "name": "stderr",
     "output_type": "stream",
     "text": [
      "Processing URLs:   4%|▍         | 15/337 [00:54<17:39,  3.29s/it, Current URL: https://www.eversports.de/s/verticalspirit-chemnitz-e.-v.]"
     ]
    },
    {
     "name": "stdout",
     "output_type": "stream",
     "text": [
      "Error during HTTP request: 404 Client Error: Not Found for url: https://www.eversports.de/s/verticalspirit-chemnitz-e.-v.\n",
      "Converting to DataFrame...\n",
      "Validating URLs...\n",
      "Processing completed.\n",
      "Starting URL reconstruction...\n"
     ]
    },
    {
     "name": "stderr",
     "output_type": "stream",
     "text": [
      "2024-02-10 16:21:25,758 - INFO - Processing URL 1/4: https://www.eversports.de/s/pole-paradise\n"
     ]
    },
    {
     "name": "stdout",
     "output_type": "stream",
     "text": [
      "Converting to DataFrame...\n",
      "Validating URLs...\n"
     ]
    },
    {
     "name": "stderr",
     "output_type": "stream",
     "text": [
      "2024-02-10 16:21:27,277 - INFO - URL https://www.eversports.de/s/pole-paradise is valid.\n",
      "2024-02-10 16:21:27,279 - INFO - Processing URL 2/4: https://www.eversports.de/sw/pole-paradise\n",
      "2024-02-10 16:21:28,546 - INFO - URL https://www.eversports.de/sw/pole-paradise is valid.\n",
      "2024-02-10 16:21:28,547 - INFO - Processing URL 3/4: https://www.eversports.de/sp/pole-paradise\n",
      "2024-02-10 16:21:29,845 - INFO - URL https://www.eversports.de/sp/pole-paradise is valid.\n",
      "2024-02-10 16:21:29,847 - INFO - Processing URL 4/4: https://www.eversports.de/s/pole-paradise/team\n",
      "2024-02-10 16:21:31,223 - INFO - URL https://www.eversports.de/s/pole-paradise/team is valid.\n"
     ]
    },
    {
     "name": "stdout",
     "output_type": "stream",
     "text": [
      "Scraping Pole Studio Data from https://www.eversports.de/s/pole-paradise...\n",
      "Scraping Workshops Data from https://www.eversports.de/sw/pole-paradise...\n",
      "Scraping Workshop Details from https://www.eversports.de/e/workshop/NLk1782...\n"
     ]
    },
    {
     "name": "stderr",
     "output_type": "stream",
     "text": [
      "Processing URLs:   5%|▍         | 16/337 [01:04<29:15,  5.47s/it, Current URL: https://www.eversports.de/s/pole-paradise]                "
     ]
    },
    {
     "name": "stdout",
     "output_type": "stream",
     "text": [
      "Processing completed.\n",
      "Pole Studio Data: 1 entries\n",
      "Workshops Data: 1 entries\n",
      "Workshop Details: 1 entries\n",
      "Starting URL reconstruction...\n"
     ]
    },
    {
     "name": "stderr",
     "output_type": "stream",
     "text": [
      "2024-02-10 16:21:36,504 - INFO - Processing URL 1/3: https://www.eversports.de/s/polefamily-koblenz\n"
     ]
    },
    {
     "name": "stdout",
     "output_type": "stream",
     "text": [
      "Converting to DataFrame...\n",
      "Validating URLs...\n"
     ]
    },
    {
     "name": "stderr",
     "output_type": "stream",
     "text": [
      "2024-02-10 16:21:37,941 - INFO - URL https://www.eversports.de/s/polefamily-koblenz is valid.\n",
      "2024-02-10 16:21:37,942 - INFO - Processing URL 2/3: https://www.eversports.de/sp/polefamily-koblenz\n",
      "2024-02-10 16:21:39,206 - INFO - URL https://www.eversports.de/sp/polefamily-koblenz is valid.\n",
      "2024-02-10 16:21:39,207 - INFO - Processing URL 3/3: https://www.eversports.de/s/polefamily-koblenz/team\n",
      "2024-02-10 16:21:40,437 - INFO - URL https://www.eversports.de/s/polefamily-koblenz/team is valid.\n"
     ]
    },
    {
     "name": "stdout",
     "output_type": "stream",
     "text": [
      "Scraping Pole Studio Data from https://www.eversports.de/s/polefamily-koblenz...\n"
     ]
    },
    {
     "name": "stderr",
     "output_type": "stream",
     "text": [
      "Processing URLs:   5%|▌         | 17/337 [01:10<30:10,  5.66s/it, Current URL: https://www.eversports.de/s/polefamily-koblenz]"
     ]
    },
    {
     "name": "stdout",
     "output_type": "stream",
     "text": [
      "Processing completed.\n",
      "Pole Studio Data: 1 entries\n",
      "Starting URL reconstruction...\n"
     ]
    },
    {
     "name": "stderr",
     "output_type": "stream",
     "text": [
      "2024-02-10 16:21:42,370 - INFO - Processing URL 1/4: https://www.eversports.de/s/vertical-pole-aerial-dance\n"
     ]
    },
    {
     "name": "stdout",
     "output_type": "stream",
     "text": [
      "Converting to DataFrame...\n",
      "Validating URLs...\n"
     ]
    },
    {
     "name": "stderr",
     "output_type": "stream",
     "text": [
      "2024-02-10 16:21:43,833 - INFO - URL https://www.eversports.de/s/vertical-pole-aerial-dance is valid.\n",
      "2024-02-10 16:21:43,834 - INFO - Processing URL 2/4: https://www.eversports.de/sw/vertical-pole-aerial-dance\n",
      "2024-02-10 16:21:46,163 - INFO - URL https://www.eversports.de/sw/vertical-pole-aerial-dance is valid.\n",
      "2024-02-10 16:21:46,164 - INFO - Processing URL 3/4: https://www.eversports.de/sp/vertical-pole-aerial-dance\n",
      "2024-02-10 16:21:47,416 - INFO - URL https://www.eversports.de/sp/vertical-pole-aerial-dance is valid.\n",
      "2024-02-10 16:21:47,416 - INFO - Processing URL 4/4: https://www.eversports.de/s/vertical-pole-aerial-dance/team\n",
      "2024-02-10 16:21:48,610 - INFO - URL https://www.eversports.de/s/vertical-pole-aerial-dance/team is valid.\n"
     ]
    },
    {
     "name": "stdout",
     "output_type": "stream",
     "text": [
      "Scraping Pole Studio Data from https://www.eversports.de/s/vertical-pole-aerial-dance...\n",
      "Scraping Workshops Data from https://www.eversports.de/sw/vertical-pole-aerial-dance...\n",
      "Scraping Workshop Details from https://www.eversports.de/e/workshop/mylmioi...\n",
      "Scraping Workshop Details from https://www.eversports.de/e/workshop/Yace1e3...\n"
     ]
    },
    {
     "name": "stderr",
     "output_type": "stream",
     "text": [
      "Processing URLs:   5%|▌         | 18/337 [01:23<41:04,  7.73s/it, Current URL: https://www.eversports.de/s/vertical-pole-aerial-dance]"
     ]
    },
    {
     "name": "stdout",
     "output_type": "stream",
     "text": [
      "Processing completed.\n",
      "Pole Studio Data: 1 entries\n",
      "Workshops Data: 2 entries\n",
      "Workshop Details: 2 entries\n",
      "Starting URL reconstruction...\n"
     ]
    },
    {
     "name": "stderr",
     "output_type": "stream",
     "text": [
      "Processing URLs:   6%|▌         | 19/337 [01:27<35:39,  6.73s/it, Current URL: https://www.eversports.de/s/polemotions-tübingen]      "
     ]
    },
    {
     "name": "stdout",
     "output_type": "stream",
     "text": [
      "Error during HTTP request: Exceeded 30 redirects.\n",
      "Converting to DataFrame...\n",
      "Validating URLs...\n",
      "Processing completed.\n",
      "Starting URL reconstruction...\n"
     ]
    },
    {
     "name": "stderr",
     "output_type": "stream",
     "text": [
      "2024-02-10 16:21:59,402 - INFO - Processing URL 1/3: https://www.eversports.de/s/the-pole-lounge\n"
     ]
    },
    {
     "name": "stdout",
     "output_type": "stream",
     "text": [
      "Error reconstructing URL for 'Kurse': Unrecognized text: 'Kurse'\n",
      "Converting to DataFrame...\n",
      "Validating URLs...\n"
     ]
    },
    {
     "name": "stderr",
     "output_type": "stream",
     "text": [
      "2024-02-10 16:22:01,008 - INFO - URL https://www.eversports.de/s/the-pole-lounge is valid.\n",
      "2024-02-10 16:22:01,009 - INFO - Processing URL 2/3: https://www.eversports.de/sp/the-pole-lounge\n",
      "2024-02-10 16:22:02,276 - INFO - URL https://www.eversports.de/sp/the-pole-lounge is valid.\n",
      "2024-02-10 16:22:02,278 - INFO - Processing URL 3/3: https://www.eversports.de/s/the-pole-lounge/team\n",
      "2024-02-10 16:22:03,546 - INFO - URL https://www.eversports.de/s/the-pole-lounge/team is valid.\n"
     ]
    },
    {
     "name": "stdout",
     "output_type": "stream",
     "text": [
      "Scraping Pole Studio Data from https://www.eversports.de/s/the-pole-lounge...\n"
     ]
    },
    {
     "name": "stderr",
     "output_type": "stream",
     "text": [
      "Processing URLs:   6%|▌         | 20/337 [01:33<34:40,  6.56s/it, Current URL: https://www.eversports.de/s/the-pole-lounge]     "
     ]
    },
    {
     "name": "stdout",
     "output_type": "stream",
     "text": [
      "Processing completed.\n",
      "Pole Studio Data: 1 entries\n",
      "Starting URL reconstruction...\n"
     ]
    },
    {
     "name": "stderr",
     "output_type": "stream",
     "text": [
      "Processing URLs:   6%|▌         | 21/337 [01:35<26:18,  4.99s/it, Current URL: https://www.eversports.de/s/lea-aqua]       "
     ]
    },
    {
     "name": "stdout",
     "output_type": "stream",
     "text": [
      "Error during HTTP request: 404 Client Error: Not Found for url: https://www.eversports.de/s/lea-aqua\n",
      "Converting to DataFrame...\n",
      "Validating URLs...\n",
      "Processing completed.\n",
      "Starting URL reconstruction...\n"
     ]
    },
    {
     "name": "stderr",
     "output_type": "stream",
     "text": [
      "2024-02-10 16:22:06,823 - INFO - Processing URL 1/1: https://www.eversports.de/s/sweatndance\n"
     ]
    },
    {
     "name": "stdout",
     "output_type": "stream",
     "text": [
      "Converting to DataFrame...\n",
      "Validating URLs...\n"
     ]
    },
    {
     "name": "stderr",
     "output_type": "stream",
     "text": [
      "2024-02-10 16:22:08,203 - INFO - URL https://www.eversports.de/s/sweatndance is valid.\n"
     ]
    },
    {
     "name": "stdout",
     "output_type": "stream",
     "text": [
      "Scraping Pole Studio Data from https://www.eversports.de/s/sweatndance...\n"
     ]
    },
    {
     "name": "stderr",
     "output_type": "stream",
     "text": [
      "Processing URLs:   7%|▋         | 22/337 [01:38<23:22,  4.45s/it, Current URL: https://www.eversports.de/s/sweatndance]"
     ]
    },
    {
     "name": "stdout",
     "output_type": "stream",
     "text": [
      "Processing completed.\n",
      "Pole Studio Data: 1 entries\n",
      "Starting URL reconstruction...\n"
     ]
    },
    {
     "name": "stderr",
     "output_type": "stream",
     "text": [
      "2024-02-10 16:22:09,991 - INFO - Processing URL 1/4: https://www.eversports.de/s/luftbonbon\n"
     ]
    },
    {
     "name": "stdout",
     "output_type": "stream",
     "text": [
      "Converting to DataFrame...\n",
      "Validating URLs...\n"
     ]
    },
    {
     "name": "stderr",
     "output_type": "stream",
     "text": [
      "2024-02-10 16:22:11,473 - INFO - URL https://www.eversports.de/s/luftbonbon is valid.\n",
      "2024-02-10 16:22:11,474 - INFO - Processing URL 2/4: https://www.eversports.de/sw/luftbonbon\n",
      "2024-02-10 16:22:13,884 - INFO - URL https://www.eversports.de/sw/luftbonbon is valid.\n",
      "2024-02-10 16:22:13,885 - INFO - Processing URL 3/4: https://www.eversports.de/sp/luftbonbon\n",
      "2024-02-10 16:22:15,141 - INFO - URL https://www.eversports.de/sp/luftbonbon is valid.\n",
      "2024-02-10 16:22:15,142 - INFO - Processing URL 4/4: https://www.eversports.de/s/luftbonbon/team\n",
      "2024-02-10 16:22:16,418 - INFO - URL https://www.eversports.de/s/luftbonbon/team is valid.\n"
     ]
    },
    {
     "name": "stdout",
     "output_type": "stream",
     "text": [
      "Scraping Pole Studio Data from https://www.eversports.de/s/luftbonbon...\n",
      "Scraping Workshops Data from https://www.eversports.de/sw/luftbonbon...\n",
      "Scraping Workshop Details from https://www.eversports.de/e/workshop/60kU5cU...\n"
     ]
    },
    {
     "name": "stderr",
     "output_type": "stream",
     "text": [
      "Processing URLs:   7%|▋         | 23/337 [01:49<33:09,  6.34s/it, Current URL: https://www.eversports.de/s/luftbonbon] "
     ]
    },
    {
     "name": "stdout",
     "output_type": "stream",
     "text": [
      "Processing completed.\n",
      "Pole Studio Data: 1 entries\n",
      "Workshops Data: 1 entries\n",
      "Workshop Details: 1 entries\n",
      "Starting URL reconstruction...\n"
     ]
    },
    {
     "name": "stderr",
     "output_type": "stream",
     "text": [
      "2024-02-10 16:22:21,981 - INFO - Processing URL 1/1: https://www.eversports.de/s/pole-passion-bielefeld\n"
     ]
    },
    {
     "name": "stdout",
     "output_type": "stream",
     "text": [
      "Converting to DataFrame...\n",
      "Validating URLs...\n"
     ]
    },
    {
     "name": "stderr",
     "output_type": "stream",
     "text": [
      "2024-02-10 16:22:23,386 - INFO - URL https://www.eversports.de/s/pole-passion-bielefeld is valid.\n"
     ]
    },
    {
     "name": "stdout",
     "output_type": "stream",
     "text": [
      "Scraping Pole Studio Data from https://www.eversports.de/s/pole-passion-bielefeld...\n"
     ]
    },
    {
     "name": "stderr",
     "output_type": "stream",
     "text": [
      "Processing URLs:   7%|▋         | 24/337 [01:54<32:03,  6.15s/it, Current URL: https://www.eversports.de/s/pole-passion-bielefeld]"
     ]
    },
    {
     "name": "stdout",
     "output_type": "stream",
     "text": [
      "Processing completed.\n",
      "Pole Studio Data: 1 entries\n",
      "Starting URL reconstruction...\n"
     ]
    },
    {
     "name": "stderr",
     "output_type": "stream",
     "text": [
      "Processing URLs:   7%|▋         | 25/337 [01:57<26:53,  5.17s/it, Current URL: https://www.eversports.de/s/metropole-dance-now2]  "
     ]
    },
    {
     "name": "stdout",
     "output_type": "stream",
     "text": [
      "Error during HTTP request: 404 Client Error: Not Found for url: https://www.eversports.de/s/metropole-dance-now2\n",
      "Converting to DataFrame...\n",
      "Validating URLs...\n",
      "Processing completed.\n",
      "Starting URL reconstruction...\n"
     ]
    },
    {
     "name": "stderr",
     "output_type": "stream",
     "text": [
      "Processing URLs:   8%|▊         | 26/337 [01:59<20:59,  4.05s/it, Current URL: https://www.eversports.de/s/saltosandra]         "
     ]
    },
    {
     "name": "stdout",
     "output_type": "stream",
     "text": [
      "Error during HTTP request: 404 Client Error: Not Found for url: https://www.eversports.de/s/saltosandra\n",
      "Converting to DataFrame...\n",
      "Validating URLs...\n",
      "Processing completed.\n",
      "Starting URL reconstruction...\n"
     ]
    },
    {
     "name": "stderr",
     "output_type": "stream",
     "text": [
      "2024-02-10 16:22:30,825 - INFO - Processing URL 1/3: https://www.eversports.de/s/polefriends-halle\n"
     ]
    },
    {
     "name": "stdout",
     "output_type": "stream",
     "text": [
      "Converting to DataFrame...\n",
      "Validating URLs...\n"
     ]
    },
    {
     "name": "stderr",
     "output_type": "stream",
     "text": [
      "2024-02-10 16:22:32,440 - INFO - URL https://www.eversports.de/s/polefriends-halle is valid.\n",
      "2024-02-10 16:22:32,441 - INFO - Processing URL 2/3: https://www.eversports.de/sp/polefriends-halle\n",
      "2024-02-10 16:22:33,638 - INFO - URL https://www.eversports.de/sp/polefriends-halle is valid.\n",
      "2024-02-10 16:22:33,639 - INFO - Processing URL 3/3: https://www.eversports.de/s/polefriends-halle/team\n",
      "2024-02-10 16:22:36,581 - INFO - URL https://www.eversports.de/s/polefriends-halle/team is valid.\n"
     ]
    },
    {
     "name": "stdout",
     "output_type": "stream",
     "text": [
      "Scraping Pole Studio Data from https://www.eversports.de/s/polefriends-halle...\n"
     ]
    },
    {
     "name": "stderr",
     "output_type": "stream",
     "text": [
      "Processing URLs:   8%|▊         | 27/337 [02:06<26:46,  5.18s/it, Current URL: https://www.eversports.de/s/polefriends-halle]"
     ]
    },
    {
     "name": "stdout",
     "output_type": "stream",
     "text": [
      "Processing completed.\n",
      "Pole Studio Data: 1 entries\n",
      "Starting URL reconstruction...\n"
     ]
    },
    {
     "name": "stderr",
     "output_type": "stream",
     "text": [
      "Processing URLs:   8%|▊         | 28/337 [02:08<20:38,  4.01s/it, Current URL: https://www.eversports.de/s/palazzo-sportivo] "
     ]
    },
    {
     "name": "stdout",
     "output_type": "stream",
     "text": [
      "Error during HTTP request: 404 Client Error: Not Found for url: https://www.eversports.de/s/palazzo-sportivo\n",
      "Converting to DataFrame...\n",
      "Validating URLs...\n",
      "Processing completed.\n",
      "Starting URL reconstruction...\n"
     ]
    },
    {
     "name": "stderr",
     "output_type": "stream",
     "text": [
      "Processing URLs:   9%|▊         | 29/337 [02:09<16:20,  3.18s/it, Current URL: https://www.eversports.de/s/pole-dance-academy-hameln]"
     ]
    },
    {
     "name": "stdout",
     "output_type": "stream",
     "text": [
      "Error during HTTP request: 404 Client Error: Not Found for url: https://www.eversports.de/s/pole-dance-academy-hameln\n",
      "Converting to DataFrame...\n",
      "Validating URLs...\n",
      "Processing completed.\n",
      "Starting URL reconstruction...\n"
     ]
    },
    {
     "name": "stderr",
     "output_type": "stream",
     "text": [
      "Processing URLs:   9%|▉         | 30/337 [02:10<13:36,  2.66s/it, Current URL: https://www.eversports.de/s/mmc-dance-studio]         "
     ]
    },
    {
     "name": "stdout",
     "output_type": "stream",
     "text": [
      "Error during HTTP request: 404 Client Error: Not Found for url: https://www.eversports.de/s/mmc-dance-studio\n",
      "Converting to DataFrame...\n",
      "Validating URLs...\n",
      "Processing completed.\n",
      "Starting URL reconstruction...\n"
     ]
    },
    {
     "name": "stderr",
     "output_type": "stream",
     "text": [
      "2024-02-10 16:22:43,396 - INFO - Processing URL 1/3: https://www.eversports.de/s/upsidedown-studio-friedrichsdorf\n"
     ]
    },
    {
     "name": "stdout",
     "output_type": "stream",
     "text": [
      "Error reconstructing URL for 'Kurse': Unrecognized text: 'Kurse'\n",
      "Converting to DataFrame...\n",
      "Validating URLs...\n"
     ]
    },
    {
     "name": "stderr",
     "output_type": "stream",
     "text": [
      "2024-02-10 16:22:45,132 - INFO - URL https://www.eversports.de/s/upsidedown-studio-friedrichsdorf is valid.\n",
      "2024-02-10 16:22:45,133 - INFO - Processing URL 2/3: https://www.eversports.de/sp/upsidedown-studio-friedrichsdorf\n",
      "2024-02-10 16:22:46,453 - INFO - URL https://www.eversports.de/sp/upsidedown-studio-friedrichsdorf is valid.\n",
      "2024-02-10 16:22:46,454 - INFO - Processing URL 3/3: https://www.eversports.de/s/upsidedown-studio-friedrichsdorf/team\n",
      "2024-02-10 16:22:48,038 - INFO - URL https://www.eversports.de/s/upsidedown-studio-friedrichsdorf/team is valid.\n"
     ]
    },
    {
     "name": "stdout",
     "output_type": "stream",
     "text": [
      "Scraping Pole Studio Data from https://www.eversports.de/s/upsidedown-studio-friedrichsdorf...\n"
     ]
    },
    {
     "name": "stderr",
     "output_type": "stream",
     "text": [
      "Processing URLs:   9%|▉         | 31/337 [02:18<20:49,  4.08s/it, Current URL: https://www.eversports.de/s/upsidedown-studio-friedrichsdorf]"
     ]
    },
    {
     "name": "stdout",
     "output_type": "stream",
     "text": [
      "Processing completed.\n",
      "Pole Studio Data: 1 entries\n",
      "Starting URL reconstruction...\n"
     ]
    },
    {
     "name": "stderr",
     "output_type": "stream",
     "text": [
      "Processing URLs:   9%|▉         | 32/337 [02:19<16:20,  3.22s/it, Current URL: https://www.eversports.de/s/crazypole-dresden]               "
     ]
    },
    {
     "name": "stdout",
     "output_type": "stream",
     "text": [
      "Error during HTTP request: 404 Client Error: Not Found for url: https://www.eversports.de/s/crazypole-dresden\n",
      "Converting to DataFrame...\n",
      "Validating URLs...\n",
      "Processing completed.\n",
      "Starting URL reconstruction...\n"
     ]
    },
    {
     "name": "stderr",
     "output_type": "stream",
     "text": [
      "2024-02-10 16:22:51,039 - INFO - Processing URL 1/4: https://www.eversports.de/s/pole-acrobatics\n"
     ]
    },
    {
     "name": "stdout",
     "output_type": "stream",
     "text": [
      "Error reconstructing URL for 'Trainings': Unrecognized text: 'Trainings'\n",
      "Converting to DataFrame...\n",
      "Validating URLs...\n"
     ]
    },
    {
     "name": "stderr",
     "output_type": "stream",
     "text": [
      "2024-02-10 16:22:52,501 - INFO - URL https://www.eversports.de/s/pole-acrobatics is valid.\n",
      "2024-02-10 16:22:52,502 - INFO - Processing URL 2/4: https://www.eversports.de/sw/pole-acrobatics\n",
      "2024-02-10 16:22:53,755 - INFO - URL https://www.eversports.de/sw/pole-acrobatics is valid.\n",
      "2024-02-10 16:22:53,756 - INFO - Processing URL 3/4: https://www.eversports.de/sp/pole-acrobatics\n",
      "2024-02-10 16:22:54,965 - INFO - URL https://www.eversports.de/sp/pole-acrobatics is valid.\n",
      "2024-02-10 16:22:54,966 - INFO - Processing URL 4/4: https://www.eversports.de/s/pole-acrobatics/team\n",
      "2024-02-10 16:22:56,211 - INFO - URL https://www.eversports.de/s/pole-acrobatics/team is valid.\n"
     ]
    },
    {
     "name": "stdout",
     "output_type": "stream",
     "text": [
      "Scraping Pole Studio Data from https://www.eversports.de/s/pole-acrobatics...\n",
      "Scraping Workshops Data from https://www.eversports.de/sw/pole-acrobatics...\n",
      "Scraping Workshop Details from https://www.eversports.de/e/workshop/-wGhAaJ...\n"
     ]
    },
    {
     "name": "stderr",
     "output_type": "stream",
     "text": [
      "Processing URLs:  10%|▉         | 33/337 [02:29<26:10,  5.17s/it, Current URL: https://www.eversports.de/s/pole-acrobatics]  "
     ]
    },
    {
     "name": "stdout",
     "output_type": "stream",
     "text": [
      "Processing completed.\n",
      "Pole Studio Data: 1 entries\n",
      "Workshops Data: 1 entries\n",
      "Workshop Details: 1 entries\n",
      "Starting URL reconstruction...\n"
     ]
    },
    {
     "name": "stderr",
     "output_type": "stream",
     "text": [
      "Processing URLs:  10%|█         | 34/337 [02:30<20:05,  3.98s/it, Current URL: https://www.eversports.de/s/lift-off-poledance-academy]"
     ]
    },
    {
     "name": "stdout",
     "output_type": "stream",
     "text": [
      "Error during HTTP request: 404 Client Error: Not Found for url: https://www.eversports.de/s/lift-off-poledance-academy\n",
      "Converting to DataFrame...\n",
      "Validating URLs...\n",
      "Processing completed.\n",
      "Starting URL reconstruction...\n"
     ]
    },
    {
     "name": "stderr",
     "output_type": "stream",
     "text": [
      "2024-02-10 16:23:02,058 - INFO - Processing URL 1/3: https://www.eversports.de/s/dance-and-pole-deltawerk\n"
     ]
    },
    {
     "name": "stdout",
     "output_type": "stream",
     "text": [
      "Converting to DataFrame...\n",
      "Validating URLs...\n"
     ]
    },
    {
     "name": "stderr",
     "output_type": "stream",
     "text": [
      "2024-02-10 16:23:03,456 - INFO - URL https://www.eversports.de/s/dance-and-pole-deltawerk is valid.\n",
      "2024-02-10 16:23:03,456 - INFO - Processing URL 2/3: https://www.eversports.de/sp/dance-and-pole-deltawerk\n",
      "2024-02-10 16:23:05,113 - INFO - URL https://www.eversports.de/sp/dance-and-pole-deltawerk is valid.\n",
      "2024-02-10 16:23:05,115 - INFO - Processing URL 3/3: https://www.eversports.de/s/dance-and-pole-deltawerk/team\n",
      "2024-02-10 16:23:06,449 - INFO - URL https://www.eversports.de/s/dance-and-pole-deltawerk/team is valid.\n"
     ]
    },
    {
     "name": "stdout",
     "output_type": "stream",
     "text": [
      "Scraping Pole Studio Data from https://www.eversports.de/s/dance-and-pole-deltawerk...\n"
     ]
    },
    {
     "name": "stderr",
     "output_type": "stream",
     "text": [
      "Processing URLs:  10%|█         | 35/337 [02:36<23:24,  4.65s/it, Current URL: https://www.eversports.de/s/dance-and-pole-deltawerk]  "
     ]
    },
    {
     "name": "stdout",
     "output_type": "stream",
     "text": [
      "Processing completed.\n",
      "Pole Studio Data: 1 entries\n",
      "Starting URL reconstruction...\n"
     ]
    },
    {
     "name": "stderr",
     "output_type": "stream",
     "text": [
      "2024-02-10 16:23:08,282 - INFO - Processing URL 1/3: https://www.eversports.de/s/airobics\n"
     ]
    },
    {
     "name": "stdout",
     "output_type": "stream",
     "text": [
      "Error reconstructing URL for 'Kurse': Unrecognized text: 'Kurse'\n",
      "Converting to DataFrame...\n",
      "Validating URLs...\n"
     ]
    },
    {
     "name": "stderr",
     "output_type": "stream",
     "text": [
      "2024-02-10 16:23:09,752 - INFO - URL https://www.eversports.de/s/airobics is valid.\n",
      "2024-02-10 16:23:09,753 - INFO - Processing URL 2/3: https://www.eversports.de/sp/airobics\n",
      "2024-02-10 16:23:10,992 - INFO - URL https://www.eversports.de/sp/airobics is valid.\n",
      "2024-02-10 16:23:10,993 - INFO - Processing URL 3/3: https://www.eversports.de/s/airobics/team\n",
      "2024-02-10 16:23:12,376 - INFO - URL https://www.eversports.de/s/airobics/team is valid.\n"
     ]
    },
    {
     "name": "stdout",
     "output_type": "stream",
     "text": [
      "Scraping Pole Studio Data from https://www.eversports.de/s/airobics...\n"
     ]
    },
    {
     "name": "stderr",
     "output_type": "stream",
     "text": [
      "Processing URLs:  11%|█         | 36/337 [02:42<25:25,  5.07s/it, Current URL: https://www.eversports.de/s/airobics]                "
     ]
    },
    {
     "name": "stdout",
     "output_type": "stream",
     "text": [
      "Processing completed.\n",
      "Pole Studio Data: 1 entries\n",
      "Starting URL reconstruction...\n"
     ]
    },
    {
     "name": "stderr",
     "output_type": "stream",
     "text": [
      "Processing URLs:  11%|█         | 37/337 [02:44<19:42,  3.94s/it, Current URL: https://www.eversports.de/s/la-familia-poleclub]"
     ]
    },
    {
     "name": "stdout",
     "output_type": "stream",
     "text": [
      "Error during HTTP request: 404 Client Error: Not Found for url: https://www.eversports.de/s/la-familia-poleclub\n",
      "Converting to DataFrame...\n",
      "Validating URLs...\n",
      "Processing completed.\n",
      "Starting URL reconstruction...\n"
     ]
    },
    {
     "name": "stderr",
     "output_type": "stream",
     "text": [
      "Processing URLs:  11%|█▏        | 38/337 [02:45<15:39,  3.14s/it, Current URL: https://www.eversports.de/s/home-of-pole]       "
     ]
    },
    {
     "name": "stdout",
     "output_type": "stream",
     "text": [
      "Error during HTTP request: 404 Client Error: Not Found for url: https://www.eversports.de/s/home-of-pole\n",
      "Converting to DataFrame...\n",
      "Validating URLs...\n",
      "Processing completed.\n",
      "Starting URL reconstruction...\n"
     ]
    },
    {
     "name": "stderr",
     "output_type": "stream",
     "text": [
      "2024-02-10 16:23:18,198 - INFO - Processing URL 1/3: https://www.eversports.de/s/health-and-shape-muenchen\n"
     ]
    },
    {
     "name": "stdout",
     "output_type": "stream",
     "text": [
      "Converting to DataFrame...\n",
      "Validating URLs...\n"
     ]
    },
    {
     "name": "stderr",
     "output_type": "stream",
     "text": [
      "2024-02-10 16:23:19,603 - INFO - URL https://www.eversports.de/s/health-and-shape-muenchen is valid.\n",
      "2024-02-10 16:23:19,604 - INFO - Processing URL 2/3: https://www.eversports.de/sp/health-and-shape-muenchen\n",
      "2024-02-10 16:23:20,841 - INFO - URL https://www.eversports.de/sp/health-and-shape-muenchen is valid.\n",
      "2024-02-10 16:23:20,842 - INFO - Processing URL 3/3: https://www.eversports.de/s/health-and-shape-muenchen/team\n",
      "2024-02-10 16:23:22,146 - INFO - URL https://www.eversports.de/s/health-and-shape-muenchen/team is valid.\n"
     ]
    },
    {
     "name": "stdout",
     "output_type": "stream",
     "text": [
      "Scraping Pole Studio Data from https://www.eversports.de/s/health-and-shape-muenchen...\n"
     ]
    },
    {
     "name": "stderr",
     "output_type": "stream",
     "text": [
      "Processing URLs:  12%|█▏        | 39/337 [02:52<21:37,  4.35s/it, Current URL: https://www.eversports.de/s/health-and-shape-muenchen]"
     ]
    },
    {
     "name": "stdout",
     "output_type": "stream",
     "text": [
      "Processing completed.\n",
      "Pole Studio Data: 1 entries\n",
      "Starting URL reconstruction...\n"
     ]
    },
    {
     "name": "stderr",
     "output_type": "stream",
     "text": [
      "Processing URLs:  12%|█▏        | 40/337 [02:53<16:55,  3.42s/it, Current URL: https://www.eversports.de/s/luftfabrik-dresden]       "
     ]
    },
    {
     "name": "stdout",
     "output_type": "stream",
     "text": [
      "Error during HTTP request: 404 Client Error: Not Found for url: https://www.eversports.de/s/luftfabrik-dresden\n",
      "Converting to DataFrame...\n",
      "Validating URLs...\n",
      "Processing completed.\n",
      "Starting URL reconstruction...\n"
     ]
    },
    {
     "name": "stderr",
     "output_type": "stream",
     "text": [
      "Processing URLs:  12%|█▏        | 41/337 [02:55<13:38,  2.77s/it, Current URL: https://www.eversports.de/s/pole-sensation]    "
     ]
    },
    {
     "name": "stdout",
     "output_type": "stream",
     "text": [
      "Error during HTTP request: 404 Client Error: Not Found for url: https://www.eversports.de/s/pole-sensation\n",
      "Converting to DataFrame...\n",
      "Validating URLs...\n",
      "Processing completed.\n",
      "Starting URL reconstruction...\n"
     ]
    },
    {
     "name": "stderr",
     "output_type": "stream",
     "text": [
      "2024-02-10 16:23:26,666 - INFO - Processing URL 1/4: https://www.eversports.de/s/aerial-art-poledance\n"
     ]
    },
    {
     "name": "stdout",
     "output_type": "stream",
     "text": [
      "Error reconstructing URL for 'Events': Unrecognized text: 'Events'\n",
      "Converting to DataFrame...\n",
      "Validating URLs...\n"
     ]
    },
    {
     "name": "stderr",
     "output_type": "stream",
     "text": [
      "2024-02-10 16:23:28,042 - INFO - URL https://www.eversports.de/s/aerial-art-poledance is valid.\n",
      "2024-02-10 16:23:28,043 - INFO - Processing URL 2/4: https://www.eversports.de/sw/aerial-art-poledance\n",
      "2024-02-10 16:23:29,332 - INFO - URL https://www.eversports.de/sw/aerial-art-poledance is valid.\n",
      "2024-02-10 16:23:29,333 - INFO - Processing URL 3/4: https://www.eversports.de/sp/aerial-art-poledance\n",
      "2024-02-10 16:23:30,575 - INFO - URL https://www.eversports.de/sp/aerial-art-poledance is valid.\n",
      "2024-02-10 16:23:30,576 - INFO - Processing URL 4/4: https://www.eversports.de/s/aerial-art-poledance/team\n",
      "2024-02-10 16:23:31,840 - INFO - URL https://www.eversports.de/s/aerial-art-poledance/team is valid.\n"
     ]
    },
    {
     "name": "stdout",
     "output_type": "stream",
     "text": [
      "Scraping Pole Studio Data from https://www.eversports.de/s/aerial-art-poledance...\n",
      "Scraping Workshops Data from https://www.eversports.de/sw/aerial-art-poledance...\n",
      "Scraping Workshop Details from https://www.eversports.de/e/workshop/HLSPtEf...\n",
      "Scraping Workshop Details from https://www.eversports.de/e/workshop/-xFs2y7...\n",
      "Scraping Workshop Details from https://www.eversports.de/e/workshop/XIjmMIv...\n"
     ]
    },
    {
     "name": "stderr",
     "output_type": "stream",
     "text": [
      "Processing URLs:  12%|█▏        | 42/337 [03:08<29:22,  5.97s/it, Current URL: https://www.eversports.de/s/aerial-art-poledance]"
     ]
    },
    {
     "name": "stdout",
     "output_type": "stream",
     "text": [
      "Processing completed.\n",
      "Pole Studio Data: 1 entries\n",
      "Workshops Data: 3 entries\n",
      "Workshop Details: 3 entries\n",
      "Starting URL reconstruction...\n"
     ]
    },
    {
     "name": "stderr",
     "output_type": "stream",
     "text": [
      "2024-02-10 16:23:39,931 - INFO - Processing URL 1/3: https://www.eversports.de/s/st-polestudio\n"
     ]
    },
    {
     "name": "stdout",
     "output_type": "stream",
     "text": [
      "Converting to DataFrame...\n",
      "Validating URLs...\n"
     ]
    },
    {
     "name": "stderr",
     "output_type": "stream",
     "text": [
      "2024-02-10 16:23:41,833 - INFO - URL https://www.eversports.de/s/st-polestudio is valid.\n",
      "2024-02-10 16:23:41,834 - INFO - Processing URL 2/3: https://www.eversports.de/sp/st-polestudio\n",
      "2024-02-10 16:23:43,014 - INFO - URL https://www.eversports.de/sp/st-polestudio is valid.\n",
      "2024-02-10 16:23:43,015 - INFO - Processing URL 3/3: https://www.eversports.de/s/st-polestudio/team\n",
      "2024-02-10 16:23:44,732 - INFO - URL https://www.eversports.de/s/st-polestudio/team is valid.\n"
     ]
    },
    {
     "name": "stdout",
     "output_type": "stream",
     "text": [
      "Scraping Pole Studio Data from https://www.eversports.de/s/st-polestudio...\n"
     ]
    },
    {
     "name": "stderr",
     "output_type": "stream",
     "text": [
      "Processing URLs:  13%|█▎        | 43/337 [03:15<30:11,  6.16s/it, Current URL: https://www.eversports.de/s/st-polestudio]       "
     ]
    },
    {
     "name": "stdout",
     "output_type": "stream",
     "text": [
      "Processing completed.\n",
      "Pole Studio Data: 1 entries\n",
      "Starting URL reconstruction...\n"
     ]
    },
    {
     "name": "stderr",
     "output_type": "stream",
     "text": [
      "Processing URLs:  13%|█▎        | 44/337 [03:16<23:15,  4.76s/it, Current URL: https://www.eversports.de/s/aerial-balance]"
     ]
    },
    {
     "name": "stdout",
     "output_type": "stream",
     "text": [
      "Error during HTTP request: 404 Client Error: Not Found for url: https://www.eversports.de/s/aerial-balance\n",
      "Converting to DataFrame...\n",
      "Validating URLs...\n",
      "Processing completed.\n",
      "Starting URL reconstruction...\n"
     ]
    },
    {
     "name": "stderr",
     "output_type": "stream",
     "text": [
      "Processing URLs:  13%|█▎        | 45/337 [03:17<18:06,  3.72s/it, Current URL: https://www.eversports.de/s/polelove-bremen]"
     ]
    },
    {
     "name": "stdout",
     "output_type": "stream",
     "text": [
      "Error during HTTP request: 404 Client Error: Not Found for url: https://www.eversports.de/s/polelove-bremen\n",
      "Converting to DataFrame...\n",
      "Validating URLs...\n",
      "Processing completed.\n",
      "Starting URL reconstruction...\n"
     ]
    },
    {
     "name": "stderr",
     "output_type": "stream",
     "text": [
      "Processing URLs:  14%|█▎        | 46/337 [03:19<14:29,  2.99s/it, Current URL: https://www.eversports.de/s/flyhigh]        "
     ]
    },
    {
     "name": "stdout",
     "output_type": "stream",
     "text": [
      "Error during HTTP request: 404 Client Error: Not Found for url: https://www.eversports.de/s/flyhigh\n",
      "Converting to DataFrame...\n",
      "Validating URLs...\n",
      "Processing completed.\n",
      "Starting URL reconstruction...\n"
     ]
    },
    {
     "name": "stderr",
     "output_type": "stream",
     "text": [
      "Processing URLs:  14%|█▍        | 47/337 [03:20<11:57,  2.47s/it, Current URL: https://www.eversports.de/s/flexx-arts-aerial-dance-&-fitness]"
     ]
    },
    {
     "name": "stdout",
     "output_type": "stream",
     "text": [
      "Error during HTTP request: 404 Client Error: Not Found for url: https://www.eversports.de/s/flexx-arts-aerial-dance-&-fitness\n",
      "Converting to DataFrame...\n",
      "Validating URLs...\n",
      "Processing completed.\n",
      "Starting URL reconstruction...\n"
     ]
    },
    {
     "name": "stderr",
     "output_type": "stream",
     "text": [
      "2024-02-10 16:23:51,923 - INFO - Processing URL 1/1: https://www.eversports.de/s/muse-pole-dance\n"
     ]
    },
    {
     "name": "stdout",
     "output_type": "stream",
     "text": [
      "Converting to DataFrame...\n",
      "Validating URLs...\n"
     ]
    },
    {
     "name": "stderr",
     "output_type": "stream",
     "text": [
      "2024-02-10 16:23:54,317 - INFO - URL https://www.eversports.de/s/muse-pole-dance is valid.\n"
     ]
    },
    {
     "name": "stdout",
     "output_type": "stream",
     "text": [
      "Scraping Pole Studio Data from https://www.eversports.de/s/muse-pole-dance...\n"
     ]
    },
    {
     "name": "stderr",
     "output_type": "stream",
     "text": [
      "Processing URLs:  14%|█▍        | 48/337 [03:24<14:14,  2.96s/it, Current URL: https://www.eversports.de/s/muse-pole-dance]                  "
     ]
    },
    {
     "name": "stdout",
     "output_type": "stream",
     "text": [
      "Processing completed.\n",
      "Pole Studio Data: 1 entries\n",
      "Starting URL reconstruction...\n"
     ]
    },
    {
     "name": "stderr",
     "output_type": "stream",
     "text": [
      "Processing URLs:  15%|█▍        | 49/337 [03:25<11:45,  2.45s/it, Current URL: https://www.eversports.de/s/satori-pole-dance-potsdam]"
     ]
    },
    {
     "name": "stdout",
     "output_type": "stream",
     "text": [
      "Error during HTTP request: 404 Client Error: Not Found for url: https://www.eversports.de/s/satori-pole-dance-potsdam\n",
      "Converting to DataFrame...\n",
      "Validating URLs...\n",
      "Processing completed.\n",
      "Starting URL reconstruction...\n"
     ]
    },
    {
     "name": "stderr",
     "output_type": "stream",
     "text": [
      "2024-02-10 16:23:57,242 - INFO - Processing URL 1/4: https://www.eversports.de/s/da-becca-flow-and-fit\n"
     ]
    },
    {
     "name": "stdout",
     "output_type": "stream",
     "text": [
      "Converting to DataFrame...\n",
      "Validating URLs...\n"
     ]
    },
    {
     "name": "stderr",
     "output_type": "stream",
     "text": [
      "2024-02-10 16:23:58,730 - INFO - URL https://www.eversports.de/s/da-becca-flow-and-fit is valid.\n",
      "2024-02-10 16:23:58,731 - INFO - Processing URL 2/4: https://www.eversports.de/sw/da-becca-flow-and-fit\n",
      "2024-02-10 16:24:02,037 - INFO - URL https://www.eversports.de/sw/da-becca-flow-and-fit is valid.\n",
      "2024-02-10 16:24:02,038 - INFO - Processing URL 3/4: https://www.eversports.de/sp/da-becca-flow-and-fit\n",
      "2024-02-10 16:24:03,269 - INFO - URL https://www.eversports.de/sp/da-becca-flow-and-fit is valid.\n",
      "2024-02-10 16:24:03,271 - INFO - Processing URL 4/4: https://www.eversports.de/s/da-becca-flow-and-fit/team\n",
      "2024-02-10 16:24:05,063 - INFO - URL https://www.eversports.de/s/da-becca-flow-and-fit/team is valid.\n"
     ]
    },
    {
     "name": "stdout",
     "output_type": "stream",
     "text": [
      "Scraping Pole Studio Data from https://www.eversports.de/s/da-becca-flow-and-fit...\n",
      "Scraping Workshops Data from https://www.eversports.de/sw/da-becca-flow-and-fit...\n",
      "Scraping Workshop Details from https://www.eversports.de/e/workshop/2z_srY0...\n",
      "Scraping Workshop Details from https://www.eversports.de/e/workshop/o5_MV7J...\n",
      "Scraping Workshop Details from https://www.eversports.de/e/workshop/0u01Mza...\n",
      "Scraping Workshop Details from https://www.eversports.de/e/workshop/DBxar8u...\n",
      "Scraping Workshop Details from https://www.eversports.de/e/workshop/GlPG304...\n",
      "Scraping Workshop Details from https://www.eversports.de/e/workshop/wj20M8W...\n",
      "Scraping Workshop Details from https://www.eversports.de/e/workshop/113IYbR...\n",
      "Scraping Workshop Details from https://www.eversports.de/e/workshop/vyTj8JR...\n",
      "Scraping Workshop Details from https://www.eversports.de/e/workshop/GMeuKSV...\n",
      "Scraping Workshop Details from https://www.eversports.de/e/workshop/461op6s...\n",
      "Scraping Workshop Details from https://www.eversports.de/e/workshop/NrFmto0...\n",
      "Scraping Workshop Details from https://www.eversports.de/e/workshop/km4K7Yv...\n",
      "Scraping Workshop Details from https://www.eversports.de/e/workshop/B2Sz3mv...\n",
      "Scraping Workshop Details from https://www.eversports.de/e/workshop/HhyMbSA...\n",
      "Scraping Workshop Details from https://www.eversports.de/e/workshop/WBlAegH...\n"
     ]
    },
    {
     "name": "stderr",
     "output_type": "stream",
     "text": [
      "Processing URLs:  15%|█▍        | 50/337 [03:57<54:25, 11.38s/it, Current URL: https://www.eversports.de/s/da-becca-flow-and-fit]    "
     ]
    },
    {
     "name": "stdout",
     "output_type": "stream",
     "text": [
      "Processing completed.\n",
      "Pole Studio Data: 1 entries\n",
      "Workshops Data: 15 entries\n",
      "Workshop Details: 15 entries\n",
      "Starting URL reconstruction...\n"
     ]
    },
    {
     "name": "stderr",
     "output_type": "stream",
     "text": [
      "Processing URLs:  15%|█▌        | 51/337 [03:59<39:53,  8.37s/it, Current URL: https://www.eversports.de/s/nordpole-studio]      "
     ]
    },
    {
     "name": "stdout",
     "output_type": "stream",
     "text": [
      "Error during HTTP request: 404 Client Error: Not Found for url: https://www.eversports.de/s/nordpole-studio\n",
      "Converting to DataFrame...\n",
      "Validating URLs...\n",
      "Processing completed.\n",
      "Starting URL reconstruction...\n"
     ]
    },
    {
     "name": "stderr",
     "output_type": "stream",
     "text": [
      "Processing URLs:  15%|█▌        | 52/337 [04:00<29:41,  6.25s/it, Current URL: https://www.eversports.de/s/dance-department]"
     ]
    },
    {
     "name": "stdout",
     "output_type": "stream",
     "text": [
      "Error during HTTP request: 404 Client Error: Not Found for url: https://www.eversports.de/s/dance-department\n",
      "Converting to DataFrame...\n",
      "Validating URLs...\n",
      "Processing completed.\n",
      "Starting URL reconstruction...\n"
     ]
    },
    {
     "name": "stderr",
     "output_type": "stream",
     "text": [
      "Processing URLs:  16%|█▌        | 53/337 [04:01<22:25,  4.74s/it, Current URL: https://www.eversports.de/s/les.pole]        "
     ]
    },
    {
     "name": "stdout",
     "output_type": "stream",
     "text": [
      "Error during HTTP request: 404 Client Error: Not Found for url: https://www.eversports.de/s/les.pole\n",
      "Converting to DataFrame...\n",
      "Validating URLs...\n",
      "Processing completed.\n",
      "Starting URL reconstruction...\n"
     ]
    },
    {
     "name": "stderr",
     "output_type": "stream",
     "text": [
      "Processing URLs:  16%|█▌        | 54/337 [04:03<17:22,  3.68s/it, Current URL: https://www.eversports.de/s/just-fly]"
     ]
    },
    {
     "name": "stdout",
     "output_type": "stream",
     "text": [
      "Error during HTTP request: 404 Client Error: Not Found for url: https://www.eversports.de/s/just-fly\n",
      "Converting to DataFrame...\n",
      "Validating URLs...\n",
      "Processing completed.\n",
      "Starting URL reconstruction...\n"
     ]
    },
    {
     "name": "stderr",
     "output_type": "stream",
     "text": [
      "2024-02-10 16:24:34,574 - INFO - Processing URL 1/3: https://www.eversports.de/s/divapole\n"
     ]
    },
    {
     "name": "stdout",
     "output_type": "stream",
     "text": [
      "Error reconstructing URL for 'Trainings': Unrecognized text: 'Trainings'\n",
      "Converting to DataFrame...\n",
      "Validating URLs...\n"
     ]
    },
    {
     "name": "stderr",
     "output_type": "stream",
     "text": [
      "2024-02-10 16:24:35,930 - INFO - URL https://www.eversports.de/s/divapole is valid.\n",
      "2024-02-10 16:24:35,931 - INFO - Processing URL 2/3: https://www.eversports.de/sp/divapole\n",
      "2024-02-10 16:24:37,099 - INFO - URL https://www.eversports.de/sp/divapole is valid.\n",
      "2024-02-10 16:24:37,100 - INFO - Processing URL 3/3: https://www.eversports.de/s/divapole/team\n",
      "2024-02-10 16:24:38,388 - INFO - URL https://www.eversports.de/s/divapole/team is valid.\n"
     ]
    },
    {
     "name": "stdout",
     "output_type": "stream",
     "text": [
      "Scraping Pole Studio Data from https://www.eversports.de/s/divapole...\n"
     ]
    },
    {
     "name": "stderr",
     "output_type": "stream",
     "text": [
      "Processing URLs:  16%|█▋        | 55/337 [04:08<20:02,  4.26s/it, Current URL: https://www.eversports.de/s/divapole]"
     ]
    },
    {
     "name": "stdout",
     "output_type": "stream",
     "text": [
      "Processing completed.\n",
      "Pole Studio Data: 1 entries\n",
      "Starting URL reconstruction...\n"
     ]
    },
    {
     "name": "stderr",
     "output_type": "stream",
     "text": [
      "Processing URLs:  17%|█▋        | 56/337 [04:09<15:29,  3.31s/it, Current URL: https://www.eversports.de/s/dance-&-pole-leverkusen]"
     ]
    },
    {
     "name": "stdout",
     "output_type": "stream",
     "text": [
      "Error during HTTP request: 404 Client Error: Not Found for url: https://www.eversports.de/s/dance-&-pole-leverkusen\n",
      "Converting to DataFrame...\n",
      "Validating URLs...\n",
      "Processing completed.\n",
      "Starting URL reconstruction...\n"
     ]
    },
    {
     "name": "stderr",
     "output_type": "stream",
     "text": [
      "2024-02-10 16:24:44,058 - INFO - Processing URL 1/4: https://www.eversports.de/s/pole-and-move-ketsch\n"
     ]
    },
    {
     "name": "stdout",
     "output_type": "stream",
     "text": [
      "Converting to DataFrame...\n",
      "Validating URLs...\n"
     ]
    },
    {
     "name": "stderr",
     "output_type": "stream",
     "text": [
      "2024-02-10 16:24:45,650 - INFO - URL https://www.eversports.de/s/pole-and-move-ketsch is valid.\n",
      "2024-02-10 16:24:45,651 - INFO - Processing URL 2/4: https://www.eversports.de/sw/pole-and-move-ketsch\n",
      "2024-02-10 16:24:46,973 - INFO - URL https://www.eversports.de/sw/pole-and-move-ketsch is valid.\n",
      "2024-02-10 16:24:46,974 - INFO - Processing URL 3/4: https://www.eversports.de/sp/pole-and-move-ketsch\n",
      "2024-02-10 16:24:48,747 - INFO - URL https://www.eversports.de/sp/pole-and-move-ketsch is valid.\n",
      "2024-02-10 16:24:48,748 - INFO - Processing URL 4/4: https://www.eversports.de/s/pole-and-move-ketsch/team\n",
      "2024-02-10 16:24:50,137 - INFO - URL https://www.eversports.de/s/pole-and-move-ketsch/team is valid.\n"
     ]
    },
    {
     "name": "stdout",
     "output_type": "stream",
     "text": [
      "Scraping Pole Studio Data from https://www.eversports.de/s/pole-and-move-ketsch...\n",
      "Scraping Workshops Data from https://www.eversports.de/sw/pole-and-move-ketsch...\n",
      "Scraping Workshop Details from https://www.eversports.de/e/workshop/nZwqDWw...\n",
      "Scraping Workshop Details from https://www.eversports.de/e/workshop/NCNYd8p...\n",
      "Scraping Workshop Details from https://www.eversports.de/e/workshop/nz_DDh6...\n",
      "Scraping Workshop Details from https://www.eversports.de/e/workshop/DGu8Tq6...\n"
     ]
    },
    {
     "name": "stderr",
     "output_type": "stream",
     "text": [
      "Processing URLs:  17%|█▋        | 57/337 [04:28<37:13,  7.98s/it, Current URL: https://www.eversports.de/s/pole-and-move-ketsch]   "
     ]
    },
    {
     "name": "stdout",
     "output_type": "stream",
     "text": [
      "Processing completed.\n",
      "Pole Studio Data: 1 entries\n",
      "Workshops Data: 4 entries\n",
      "Workshop Details: 4 entries\n",
      "Starting URL reconstruction...\n"
     ]
    },
    {
     "name": "stderr",
     "output_type": "stream",
     "text": [
      "2024-02-10 16:25:00,326 - INFO - Processing URL 1/3: https://www.eversports.de/s/polefitness-leipzig\n"
     ]
    },
    {
     "name": "stdout",
     "output_type": "stream",
     "text": [
      "Converting to DataFrame...\n",
      "Validating URLs...\n"
     ]
    },
    {
     "name": "stderr",
     "output_type": "stream",
     "text": [
      "2024-02-10 16:25:01,634 - INFO - URL https://www.eversports.de/s/polefitness-leipzig is valid.\n",
      "2024-02-10 16:25:01,635 - INFO - Processing URL 2/3: https://www.eversports.de/sp/polefitness-leipzig\n",
      "2024-02-10 16:25:02,823 - INFO - URL https://www.eversports.de/sp/polefitness-leipzig is valid.\n",
      "2024-02-10 16:25:02,824 - INFO - Processing URL 3/3: https://www.eversports.de/s/polefitness-leipzig/team\n",
      "2024-02-10 16:25:04,147 - INFO - URL https://www.eversports.de/s/polefitness-leipzig/team is valid.\n"
     ]
    },
    {
     "name": "stdout",
     "output_type": "stream",
     "text": [
      "Scraping Pole Studio Data from https://www.eversports.de/s/polefitness-leipzig...\n"
     ]
    },
    {
     "name": "stderr",
     "output_type": "stream",
     "text": [
      "Processing URLs:  17%|█▋        | 58/337 [04:35<35:25,  7.62s/it, Current URL: https://www.eversports.de/s/polefitness-leipzig] "
     ]
    },
    {
     "name": "stdout",
     "output_type": "stream",
     "text": [
      "Processing completed.\n",
      "Pole Studio Data: 1 entries\n",
      "Starting URL reconstruction...\n"
     ]
    },
    {
     "name": "stderr",
     "output_type": "stream",
     "text": [
      "Processing URLs:  18%|█▊        | 59/337 [04:36<26:28,  5.71s/it, Current URL: https://www.eversports.de/s/mmc-dance-&-event-studio]"
     ]
    },
    {
     "name": "stdout",
     "output_type": "stream",
     "text": [
      "Error during HTTP request: 404 Client Error: Not Found for url: https://www.eversports.de/s/mmc-dance-&-event-studio\n",
      "Converting to DataFrame...\n",
      "Validating URLs...\n",
      "Processing completed.\n",
      "Starting URL reconstruction...\n"
     ]
    },
    {
     "name": "stderr",
     "output_type": "stream",
     "text": [
      "2024-02-10 16:25:09,815 - INFO - Processing URL 1/4: https://www.eversports.de/s/pura-studio\n"
     ]
    },
    {
     "name": "stdout",
     "output_type": "stream",
     "text": [
      "Converting to DataFrame...\n",
      "Validating URLs...\n"
     ]
    },
    {
     "name": "stderr",
     "output_type": "stream",
     "text": [
      "2024-02-10 16:25:11,306 - INFO - URL https://www.eversports.de/s/pura-studio is valid.\n",
      "2024-02-10 16:25:11,306 - INFO - Processing URL 2/4: https://www.eversports.de/sw/pura-studio\n",
      "2024-02-10 16:25:12,665 - INFO - URL https://www.eversports.de/sw/pura-studio is valid.\n",
      "2024-02-10 16:25:12,666 - INFO - Processing URL 3/4: https://www.eversports.de/sp/pura-studio\n",
      "2024-02-10 16:25:13,889 - INFO - URL https://www.eversports.de/sp/pura-studio is valid.\n",
      "2024-02-10 16:25:13,889 - INFO - Processing URL 4/4: https://www.eversports.de/s/pura-studio/team\n",
      "2024-02-10 16:25:15,130 - INFO - URL https://www.eversports.de/s/pura-studio/team is valid.\n"
     ]
    },
    {
     "name": "stdout",
     "output_type": "stream",
     "text": [
      "Scraping Pole Studio Data from https://www.eversports.de/s/pura-studio...\n",
      "Scraping Workshops Data from https://www.eversports.de/sw/pura-studio...\n",
      "Scraping Workshop Details from https://www.eversports.de/e/workshop/BItjT7x...\n",
      "Scraping Workshop Details from https://www.eversports.de/e/workshop/7N6VOLN...\n",
      "Scraping Workshop Details from https://www.eversports.de/e/workshop/aaXFGLh...\n",
      "Scraping Workshop Details from https://www.eversports.de/e/workshop/LAlnDd-...\n",
      "Scraping Workshop Details from https://www.eversports.de/e/workshop/1sQFEoE...\n",
      "Scraping Workshop Details from https://www.eversports.de/e/workshop/qz-Llq1...\n",
      "Scraping Workshop Details from https://www.eversports.de/e/workshop/zjrAzNO...\n",
      "Scraping Workshop Details from https://www.eversports.de/e/workshop/827gEoq...\n"
     ]
    },
    {
     "name": "stderr",
     "output_type": "stream",
     "text": [
      "Processing URLs:  18%|█▊        | 60/337 [04:57<47:51, 10.36s/it, Current URL: https://www.eversports.de/s/pura-studio]             "
     ]
    },
    {
     "name": "stdout",
     "output_type": "stream",
     "text": [
      "Processing completed.\n",
      "Pole Studio Data: 1 entries\n",
      "Workshops Data: 8 entries\n",
      "Workshop Details: 8 entries\n",
      "Starting URL reconstruction...\n"
     ]
    },
    {
     "name": "stderr",
     "output_type": "stream",
     "text": [
      "2024-02-10 16:25:29,480 - INFO - Processing URL 1/4: https://www.eversports.de/s/pole-heroes\n"
     ]
    },
    {
     "name": "stdout",
     "output_type": "stream",
     "text": [
      "Converting to DataFrame...\n",
      "Validating URLs...\n"
     ]
    },
    {
     "name": "stderr",
     "output_type": "stream",
     "text": [
      "2024-02-10 16:25:31,094 - INFO - URL https://www.eversports.de/s/pole-heroes is valid.\n",
      "2024-02-10 16:25:31,096 - INFO - Processing URL 2/4: https://www.eversports.de/sw/pole-heroes\n",
      "2024-02-10 16:25:32,365 - INFO - URL https://www.eversports.de/sw/pole-heroes is valid.\n",
      "2024-02-10 16:25:32,366 - INFO - Processing URL 3/4: https://www.eversports.de/sp/pole-heroes\n",
      "2024-02-10 16:25:33,582 - INFO - URL https://www.eversports.de/sp/pole-heroes is valid.\n",
      "2024-02-10 16:25:33,583 - INFO - Processing URL 4/4: https://www.eversports.de/s/pole-heroes/team\n",
      "2024-02-10 16:25:34,896 - INFO - URL https://www.eversports.de/s/pole-heroes/team is valid.\n"
     ]
    },
    {
     "name": "stdout",
     "output_type": "stream",
     "text": [
      "Scraping Pole Studio Data from https://www.eversports.de/s/pole-heroes...\n",
      "Scraping Workshops Data from https://www.eversports.de/sw/pole-heroes...\n",
      "Scraping Workshop Details from https://www.eversports.de/e/workshop/qyrtCxT...\n",
      "Scraping Workshop Details from https://www.eversports.de/e/workshop/XbedbNM...\n",
      "Scraping Workshop Details from https://www.eversports.de/e/workshop/_cVfx28...\n",
      "Scraping Workshop Details from https://www.eversports.de/e/workshop/vPqMS0U...\n"
     ]
    },
    {
     "name": "stderr",
     "output_type": "stream",
     "text": [
      "Processing URLs:  18%|█▊        | 61/337 [05:13<55:28, 12.06s/it, Current URL: https://www.eversports.de/s/pole-heroes]"
     ]
    },
    {
     "name": "stdout",
     "output_type": "stream",
     "text": [
      "Processing completed.\n",
      "Pole Studio Data: 1 entries\n",
      "Workshops Data: 4 entries\n",
      "Workshop Details: 4 entries\n",
      "Starting URL reconstruction...\n"
     ]
    },
    {
     "name": "stderr",
     "output_type": "stream",
     "text": [
      "2024-02-10 16:25:45,405 - INFO - Processing URL 1/4: https://www.eversports.de/s/a-heart-for-poledance-1\n"
     ]
    },
    {
     "name": "stdout",
     "output_type": "stream",
     "text": [
      "Error reconstructing URL for 'Trainings': Unrecognized text: 'Trainings'\n",
      "Converting to DataFrame...\n",
      "Validating URLs...\n"
     ]
    },
    {
     "name": "stderr",
     "output_type": "stream",
     "text": [
      "2024-02-10 16:25:46,851 - INFO - URL https://www.eversports.de/s/a-heart-for-poledance-1 is valid.\n",
      "2024-02-10 16:25:46,851 - INFO - Processing URL 2/4: https://www.eversports.de/sw/a-heart-for-poledance-1\n",
      "2024-02-10 16:25:48,447 - INFO - URL https://www.eversports.de/sw/a-heart-for-poledance-1 is valid.\n",
      "2024-02-10 16:25:48,448 - INFO - Processing URL 3/4: https://www.eversports.de/sp/a-heart-for-poledance-1\n",
      "2024-02-10 16:25:49,665 - INFO - URL https://www.eversports.de/sp/a-heart-for-poledance-1 is valid.\n",
      "2024-02-10 16:25:49,665 - INFO - Processing URL 4/4: https://www.eversports.de/s/a-heart-for-poledance-1/team\n",
      "2024-02-10 16:25:50,943 - INFO - URL https://www.eversports.de/s/a-heart-for-poledance-1/team is valid.\n"
     ]
    },
    {
     "name": "stdout",
     "output_type": "stream",
     "text": [
      "Scraping Pole Studio Data from https://www.eversports.de/s/a-heart-for-poledance-1...\n",
      "Scraping Workshops Data from https://www.eversports.de/sw/a-heart-for-poledance-1...\n",
      "Scraping Workshop Details from https://www.eversports.de/e/workshop/5VJvMXI...\n",
      "Scraping Workshop Details from https://www.eversports.de/e/workshop/jQOaOC3...\n",
      "Scraping Workshop Details from https://www.eversports.de/e/workshop/H4Qz_fT...\n",
      "Scraping Workshop Details from https://www.eversports.de/e/workshop/nOac6zt...\n",
      "Scraping Workshop Details from https://www.eversports.de/e/workshop/yMiXoIi...\n"
     ]
    },
    {
     "name": "stderr",
     "output_type": "stream",
     "text": [
      "Processing URLs:  18%|█▊        | 62/337 [05:29<59:51, 13.06s/it, Current URL: https://www.eversports.de/s/a-heart-for-poledance-1]"
     ]
    },
    {
     "name": "stdout",
     "output_type": "stream",
     "text": [
      "Processing completed.\n",
      "Pole Studio Data: 1 entries\n",
      "Workshops Data: 5 entries\n",
      "Workshop Details: 5 entries\n",
      "Starting URL reconstruction...\n"
     ]
    },
    {
     "name": "stderr",
     "output_type": "stream",
     "text": [
      "2024-02-10 16:26:00,871 - INFO - Processing URL 1/3: https://www.eversports.de/s/pure-body-concepts-1\n"
     ]
    },
    {
     "name": "stdout",
     "output_type": "stream",
     "text": [
      "Converting to DataFrame...\n",
      "Validating URLs...\n"
     ]
    },
    {
     "name": "stderr",
     "output_type": "stream",
     "text": [
      "2024-02-10 16:26:03,442 - INFO - URL https://www.eversports.de/s/pure-body-concepts-1 is valid.\n",
      "2024-02-10 16:26:03,444 - INFO - Processing URL 2/3: https://www.eversports.de/sp/pure-body-concepts-1\n",
      "2024-02-10 16:26:05,438 - INFO - URL https://www.eversports.de/sp/pure-body-concepts-1 is valid.\n",
      "2024-02-10 16:26:05,438 - INFO - Processing URL 3/3: https://www.eversports.de/s/pure-body-concepts-1/team\n",
      "2024-02-10 16:26:06,708 - INFO - URL https://www.eversports.de/s/pure-body-concepts-1/team is valid.\n"
     ]
    },
    {
     "name": "stdout",
     "output_type": "stream",
     "text": [
      "Scraping Pole Studio Data from https://www.eversports.de/s/pure-body-concepts-1...\n"
     ]
    },
    {
     "name": "stderr",
     "output_type": "stream",
     "text": [
      "Processing URLs:  19%|█▊        | 63/337 [05:37<52:21, 11.46s/it, Current URL: https://www.eversports.de/s/pure-body-concepts-1]   "
     ]
    },
    {
     "name": "stdout",
     "output_type": "stream",
     "text": [
      "Processing completed.\n",
      "Pole Studio Data: 1 entries\n",
      "Starting URL reconstruction...\n"
     ]
    },
    {
     "name": "stderr",
     "output_type": "stream",
     "text": [
      "Processing URLs:  19%|█▉        | 64/337 [05:38<38:53,  8.55s/it, Current URL: https://www.eversports.de/s/lift-off-poledance-academy-viersen]"
     ]
    },
    {
     "name": "stdout",
     "output_type": "stream",
     "text": [
      "Error during HTTP request: 404 Client Error: Not Found for url: https://www.eversports.de/s/lift-off-poledance-academy-viersen\n",
      "Converting to DataFrame...\n",
      "Validating URLs...\n",
      "Processing completed.\n",
      "Starting URL reconstruction...\n"
     ]
    },
    {
     "name": "stderr",
     "output_type": "stream",
     "text": [
      "Processing URLs:  19%|█▉        | 65/337 [05:40<28:51,  6.36s/it, Current URL: https://www.eversports.de/s/poledance-zwickau-e.-v.]           "
     ]
    },
    {
     "name": "stdout",
     "output_type": "stream",
     "text": [
      "Error during HTTP request: 404 Client Error: Not Found for url: https://www.eversports.de/s/poledance-zwickau-e.-v.\n",
      "Converting to DataFrame...\n",
      "Validating URLs...\n",
      "Processing completed.\n",
      "Starting URL reconstruction...\n"
     ]
    },
    {
     "name": "stderr",
     "output_type": "stream",
     "text": [
      "Processing URLs:  20%|█▉        | 66/337 [05:41<21:52,  4.84s/it, Current URL: https://www.eversports.de/s/orbit-studio]           "
     ]
    },
    {
     "name": "stdout",
     "output_type": "stream",
     "text": [
      "Error during HTTP request: 404 Client Error: Not Found for url: https://www.eversports.de/s/orbit-studio\n",
      "Converting to DataFrame...\n",
      "Validating URLs...\n",
      "Processing completed.\n",
      "Starting URL reconstruction...\n"
     ]
    },
    {
     "name": "stderr",
     "output_type": "stream",
     "text": [
      "Processing URLs:  20%|█▉        | 67/337 [05:42<17:30,  3.89s/it, Current URL: https://www.eversports.de/s/verticalarts-pole-&-aerial-fitness]"
     ]
    },
    {
     "name": "stdout",
     "output_type": "stream",
     "text": [
      "Error during HTTP request: 404 Client Error: Not Found for url: https://www.eversports.de/s/verticalarts-pole-&-aerial-fitness\n",
      "Converting to DataFrame...\n",
      "Validating URLs...\n",
      "Processing completed.\n",
      "Starting URL reconstruction...\n"
     ]
    },
    {
     "name": "stderr",
     "output_type": "stream",
     "text": [
      "Processing URLs:  20%|██        | 68/337 [05:44<14:01,  3.13s/it, Current URL: https://www.eversports.de/s/pole-dance-hechingen]              "
     ]
    },
    {
     "name": "stdout",
     "output_type": "stream",
     "text": [
      "Error during HTTP request: 404 Client Error: Not Found for url: https://www.eversports.de/s/pole-dance-hechingen\n",
      "Converting to DataFrame...\n",
      "Validating URLs...\n",
      "Processing completed.\n",
      "Starting URL reconstruction...\n"
     ]
    },
    {
     "name": "stderr",
     "output_type": "stream",
     "text": [
      "Processing URLs:  20%|██        | 69/337 [05:45<11:28,  2.57s/it, Current URL: https://www.eversports.de/s/sky-move-pole-sport] "
     ]
    },
    {
     "name": "stdout",
     "output_type": "stream",
     "text": [
      "Error during HTTP request: 404 Client Error: Not Found for url: https://www.eversports.de/s/sky-move-pole-sport\n",
      "Converting to DataFrame...\n",
      "Validating URLs...\n",
      "Processing completed.\n",
      "Starting URL reconstruction...\n"
     ]
    },
    {
     "name": "stderr",
     "output_type": "stream",
     "text": [
      "2024-02-10 16:26:17,317 - INFO - Processing URL 1/3: https://www.eversports.de/s/center-of-moving-arts\n"
     ]
    },
    {
     "name": "stdout",
     "output_type": "stream",
     "text": [
      "Converting to DataFrame...\n",
      "Validating URLs...\n"
     ]
    },
    {
     "name": "stderr",
     "output_type": "stream",
     "text": [
      "2024-02-10 16:26:18,941 - INFO - URL https://www.eversports.de/s/center-of-moving-arts is valid.\n",
      "2024-02-10 16:26:18,942 - INFO - Processing URL 2/3: https://www.eversports.de/sp/center-of-moving-arts\n",
      "2024-02-10 16:26:20,165 - INFO - URL https://www.eversports.de/sp/center-of-moving-arts is valid.\n",
      "2024-02-10 16:26:20,166 - INFO - Processing URL 3/3: https://www.eversports.de/s/center-of-moving-arts/team\n",
      "2024-02-10 16:26:21,442 - INFO - URL https://www.eversports.de/s/center-of-moving-arts/team is valid.\n"
     ]
    },
    {
     "name": "stdout",
     "output_type": "stream",
     "text": [
      "Scraping Pole Studio Data from https://www.eversports.de/s/center-of-moving-arts...\n"
     ]
    },
    {
     "name": "stderr",
     "output_type": "stream",
     "text": [
      "Processing URLs:  21%|██        | 70/337 [05:51<16:07,  3.62s/it, Current URL: https://www.eversports.de/s/center-of-moving-arts]"
     ]
    },
    {
     "name": "stdout",
     "output_type": "stream",
     "text": [
      "Processing completed.\n",
      "Pole Studio Data: 1 entries\n",
      "Starting URL reconstruction...\n"
     ]
    },
    {
     "name": "stderr",
     "output_type": "stream",
     "text": [
      "2024-02-10 16:26:23,293 - INFO - Processing URL 1/3: https://www.eversports.de/s/upsidedown-studio-bad-homburg\n"
     ]
    },
    {
     "name": "stdout",
     "output_type": "stream",
     "text": [
      "Error reconstructing URL for 'Kurse': Unrecognized text: 'Kurse'\n",
      "Converting to DataFrame...\n",
      "Validating URLs...\n"
     ]
    },
    {
     "name": "stderr",
     "output_type": "stream",
     "text": [
      "2024-02-10 16:26:24,750 - INFO - URL https://www.eversports.de/s/upsidedown-studio-bad-homburg is valid.\n",
      "2024-02-10 16:26:24,751 - INFO - Processing URL 2/3: https://www.eversports.de/sp/upsidedown-studio-bad-homburg\n",
      "2024-02-10 16:26:25,992 - INFO - URL https://www.eversports.de/sp/upsidedown-studio-bad-homburg is valid.\n",
      "2024-02-10 16:26:25,993 - INFO - Processing URL 3/3: https://www.eversports.de/s/upsidedown-studio-bad-homburg/team\n",
      "2024-02-10 16:26:27,435 - INFO - URL https://www.eversports.de/s/upsidedown-studio-bad-homburg/team is valid.\n"
     ]
    },
    {
     "name": "stdout",
     "output_type": "stream",
     "text": [
      "Scraping Pole Studio Data from https://www.eversports.de/s/upsidedown-studio-bad-homburg...\n"
     ]
    },
    {
     "name": "stderr",
     "output_type": "stream",
     "text": [
      "Processing URLs:  21%|██        | 71/337 [05:57<19:20,  4.36s/it, Current URL: https://www.eversports.de/s/upsidedown-studio-bad-homburg]"
     ]
    },
    {
     "name": "stdout",
     "output_type": "stream",
     "text": [
      "Processing completed.\n",
      "Pole Studio Data: 1 entries\n",
      "Starting URL reconstruction...\n"
     ]
    },
    {
     "name": "stderr",
     "output_type": "stream",
     "text": [
      "Processing URLs:  21%|██▏       | 72/337 [05:59<15:12,  3.44s/it, Current URL: https://www.eversports.de/s/pole-dance-power]             "
     ]
    },
    {
     "name": "stdout",
     "output_type": "stream",
     "text": [
      "Error during HTTP request: 404 Client Error: Not Found for url: https://www.eversports.de/s/pole-dance-power\n",
      "Converting to DataFrame...\n",
      "Validating URLs...\n",
      "Processing completed.\n",
      "Starting URL reconstruction...\n"
     ]
    },
    {
     "name": "stderr",
     "output_type": "stream",
     "text": [
      "2024-02-10 16:26:30,633 - INFO - Processing URL 1/1: https://www.eversports.de/s/firstsports-polefitness\n"
     ]
    },
    {
     "name": "stdout",
     "output_type": "stream",
     "text": [
      "Converting to DataFrame...\n",
      "Validating URLs...\n"
     ]
    },
    {
     "name": "stderr",
     "output_type": "stream",
     "text": [
      "2024-02-10 16:26:32,635 - INFO - URL https://www.eversports.de/s/firstsports-polefitness is valid.\n"
     ]
    },
    {
     "name": "stdout",
     "output_type": "stream",
     "text": [
      "Scraping Pole Studio Data from https://www.eversports.de/s/firstsports-polefitness...\n"
     ]
    },
    {
     "name": "stderr",
     "output_type": "stream",
     "text": [
      "Processing URLs:  22%|██▏       | 73/337 [06:03<16:11,  3.68s/it, Current URL: https://www.eversports.de/s/firstsports-polefitness]"
     ]
    },
    {
     "name": "stdout",
     "output_type": "stream",
     "text": [
      "Processing completed.\n",
      "Pole Studio Data: 1 entries\n",
      "Starting URL reconstruction...\n"
     ]
    },
    {
     "name": "stderr",
     "output_type": "stream",
     "text": [
      "2024-02-10 16:26:34,959 - INFO - Processing URL 1/3: https://www.eversports.de/s/polemotions-filderstadt\n"
     ]
    },
    {
     "name": "stdout",
     "output_type": "stream",
     "text": [
      "Converting to DataFrame...\n",
      "Validating URLs...\n"
     ]
    },
    {
     "name": "stderr",
     "output_type": "stream",
     "text": [
      "2024-02-10 16:26:36,353 - INFO - URL https://www.eversports.de/s/polemotions-filderstadt is valid.\n",
      "2024-02-10 16:26:36,354 - INFO - Processing URL 2/3: https://www.eversports.de/sp/polemotions-filderstadt\n",
      "2024-02-10 16:26:37,757 - INFO - URL https://www.eversports.de/sp/polemotions-filderstadt is valid.\n",
      "2024-02-10 16:26:37,758 - INFO - Processing URL 3/3: https://www.eversports.de/s/polemotions-filderstadt/team\n",
      "2024-02-10 16:26:39,122 - INFO - URL https://www.eversports.de/s/polemotions-filderstadt/team is valid.\n"
     ]
    },
    {
     "name": "stdout",
     "output_type": "stream",
     "text": [
      "Scraping Pole Studio Data from https://www.eversports.de/s/polemotions-filderstadt...\n"
     ]
    },
    {
     "name": "stderr",
     "output_type": "stream",
     "text": [
      "Processing URLs:  22%|██▏       | 74/337 [06:09<19:22,  4.42s/it, Current URL: https://www.eversports.de/s/polemotions-filderstadt]"
     ]
    },
    {
     "name": "stdout",
     "output_type": "stream",
     "text": [
      "Processing completed.\n",
      "Pole Studio Data: 1 entries\n",
      "Starting URL reconstruction...\n"
     ]
    },
    {
     "name": "stderr",
     "output_type": "stream",
     "text": [
      "2024-02-10 16:26:40,908 - INFO - Processing URL 1/1: https://www.eversports.de/s/polefriends-magdeburg\n"
     ]
    },
    {
     "name": "stdout",
     "output_type": "stream",
     "text": [
      "Converting to DataFrame...\n",
      "Validating URLs...\n"
     ]
    },
    {
     "name": "stderr",
     "output_type": "stream",
     "text": [
      "2024-02-10 16:26:42,382 - INFO - URL https://www.eversports.de/s/polefriends-magdeburg is valid.\n"
     ]
    },
    {
     "name": "stdout",
     "output_type": "stream",
     "text": [
      "Scraping Pole Studio Data from https://www.eversports.de/s/polefriends-magdeburg...\n"
     ]
    },
    {
     "name": "stderr",
     "output_type": "stream",
     "text": [
      "Processing URLs:  22%|██▏       | 75/337 [06:12<17:39,  4.05s/it, Current URL: https://www.eversports.de/s/polefriends-magdeburg]  "
     ]
    },
    {
     "name": "stdout",
     "output_type": "stream",
     "text": [
      "Processing completed.\n",
      "Pole Studio Data: 1 entries\n",
      "Starting URL reconstruction...\n"
     ]
    },
    {
     "name": "stderr",
     "output_type": "stream",
     "text": [
      "2024-02-10 16:26:44,515 - INFO - Processing URL 1/4: https://www.eversports.de/s/poleroom-braunschweig\n"
     ]
    },
    {
     "name": "stdout",
     "output_type": "stream",
     "text": [
      "Error reconstructing URL for 'Trainings': Unrecognized text: 'Trainings'\n",
      "Converting to DataFrame...\n",
      "Validating URLs...\n"
     ]
    },
    {
     "name": "stderr",
     "output_type": "stream",
     "text": [
      "2024-02-10 16:26:46,243 - INFO - URL https://www.eversports.de/s/poleroom-braunschweig is valid.\n",
      "2024-02-10 16:26:46,244 - INFO - Processing URL 2/4: https://www.eversports.de/sw/poleroom-braunschweig\n",
      "2024-02-10 16:26:47,622 - INFO - URL https://www.eversports.de/sw/poleroom-braunschweig is valid.\n",
      "2024-02-10 16:26:47,623 - INFO - Processing URL 3/4: https://www.eversports.de/sp/poleroom-braunschweig\n",
      "2024-02-10 16:26:48,873 - INFO - URL https://www.eversports.de/sp/poleroom-braunschweig is valid.\n",
      "2024-02-10 16:26:48,874 - INFO - Processing URL 4/4: https://www.eversports.de/s/poleroom-braunschweig/team\n",
      "2024-02-10 16:26:50,151 - INFO - URL https://www.eversports.de/s/poleroom-braunschweig/team is valid.\n"
     ]
    },
    {
     "name": "stdout",
     "output_type": "stream",
     "text": [
      "Scraping Pole Studio Data from https://www.eversports.de/s/poleroom-braunschweig...\n",
      "Scraping Workshops Data from https://www.eversports.de/sw/poleroom-braunschweig...\n",
      "Scraping Workshop Details from https://www.eversports.de/e/workshop/5FIBkpe...\n",
      "Scraping Workshop Details from https://www.eversports.de/e/workshop/GB5CNr0...\n",
      "Scraping Workshop Details from https://www.eversports.de/e/workshop/gvgi_OF...\n",
      "Scraping Workshop Details from https://www.eversports.de/e/workshop/1pzXUtZ...\n",
      "Scraping Workshop Details from https://www.eversports.de/e/workshop/fx6DrZ8...\n"
     ]
    },
    {
     "name": "stderr",
     "output_type": "stream",
     "text": [
      "Processing URLs:  23%|██▎       | 76/337 [06:30<36:04,  8.29s/it, Current URL: https://www.eversports.de/s/poleroom-braunschweig]"
     ]
    },
    {
     "name": "stdout",
     "output_type": "stream",
     "text": [
      "Processing completed.\n",
      "Pole Studio Data: 1 entries\n",
      "Workshops Data: 5 entries\n",
      "Workshop Details: 5 entries\n",
      "Starting URL reconstruction...\n"
     ]
    },
    {
     "name": "stderr",
     "output_type": "stream",
     "text": [
      "2024-02-10 16:27:02,786 - INFO - Processing URL 1/3: https://www.eversports.de/s/yh-pole-and-sports-berlin\n"
     ]
    },
    {
     "name": "stdout",
     "output_type": "stream",
     "text": [
      "Converting to DataFrame...\n",
      "Validating URLs...\n"
     ]
    },
    {
     "name": "stderr",
     "output_type": "stream",
     "text": [
      "2024-02-10 16:27:04,582 - INFO - URL https://www.eversports.de/s/yh-pole-and-sports-berlin is valid.\n",
      "2024-02-10 16:27:04,583 - INFO - Processing URL 2/3: https://www.eversports.de/sp/yh-pole-and-sports-berlin\n",
      "2024-02-10 16:27:05,863 - INFO - URL https://www.eversports.de/sp/yh-pole-and-sports-berlin is valid.\n",
      "2024-02-10 16:27:05,864 - INFO - Processing URL 3/3: https://www.eversports.de/s/yh-pole-and-sports-berlin/team\n",
      "2024-02-10 16:27:07,161 - INFO - URL https://www.eversports.de/s/yh-pole-and-sports-berlin/team is valid.\n"
     ]
    },
    {
     "name": "stdout",
     "output_type": "stream",
     "text": [
      "Scraping Pole Studio Data from https://www.eversports.de/s/yh-pole-and-sports-berlin...\n"
     ]
    },
    {
     "name": "stderr",
     "output_type": "stream",
     "text": [
      "Processing URLs:  23%|██▎       | 77/337 [06:37<33:46,  7.79s/it, Current URL: https://www.eversports.de/s/yh-pole-and-sports-berlin]"
     ]
    },
    {
     "name": "stdout",
     "output_type": "stream",
     "text": [
      "Processing completed.\n",
      "Pole Studio Data: 1 entries\n",
      "Starting URL reconstruction...\n"
     ]
    },
    {
     "name": "stderr",
     "output_type": "stream",
     "text": [
      "Processing URLs:  23%|██▎       | 78/337 [06:38<25:07,  5.82s/it, Current URL: https://www.eversports.de/s/tanzstudio-redlightdance-berlin]"
     ]
    },
    {
     "name": "stdout",
     "output_type": "stream",
     "text": [
      "Error during HTTP request: 404 Client Error: Not Found for url: https://www.eversports.de/s/tanzstudio-redlightdance-berlin\n",
      "Converting to DataFrame...\n",
      "Validating URLs...\n",
      "Processing completed.\n",
      "Starting URL reconstruction...\n"
     ]
    },
    {
     "name": "stderr",
     "output_type": "stream",
     "text": [
      "2024-02-10 16:27:10,469 - INFO - Processing URL 1/3: https://www.eversports.de/s/passionate-pole-and-sports\n"
     ]
    },
    {
     "name": "stdout",
     "output_type": "stream",
     "text": [
      "Converting to DataFrame...\n",
      "Validating URLs...\n"
     ]
    },
    {
     "name": "stderr",
     "output_type": "stream",
     "text": [
      "2024-02-10 16:27:13,426 - INFO - URL https://www.eversports.de/s/passionate-pole-and-sports is valid.\n",
      "2024-02-10 16:27:13,428 - INFO - Processing URL 2/3: https://www.eversports.de/sp/passionate-pole-and-sports\n",
      "2024-02-10 16:27:14,617 - INFO - URL https://www.eversports.de/sp/passionate-pole-and-sports is valid.\n",
      "2024-02-10 16:27:14,618 - INFO - Processing URL 3/3: https://www.eversports.de/s/passionate-pole-and-sports/team\n",
      "2024-02-10 16:27:15,908 - INFO - URL https://www.eversports.de/s/passionate-pole-and-sports/team is valid.\n"
     ]
    },
    {
     "name": "stdout",
     "output_type": "stream",
     "text": [
      "Scraping Pole Studio Data from https://www.eversports.de/s/passionate-pole-and-sports...\n"
     ]
    },
    {
     "name": "stderr",
     "output_type": "stream",
     "text": [
      "Processing URLs:  23%|██▎       | 79/337 [06:46<27:16,  6.34s/it, Current URL: https://www.eversports.de/s/passionate-pole-and-sports]     "
     ]
    },
    {
     "name": "stdout",
     "output_type": "stream",
     "text": [
      "Processing completed.\n",
      "Pole Studio Data: 1 entries\n",
      "Starting URL reconstruction...\n"
     ]
    },
    {
     "name": "stderr",
     "output_type": "stream",
     "text": [
      "2024-02-10 16:27:17,722 - INFO - Processing URL 1/1: https://www.eversports.de/s/the-basement-pole-dance-and-movement\n"
     ]
    },
    {
     "name": "stdout",
     "output_type": "stream",
     "text": [
      "Converting to DataFrame...\n",
      "Validating URLs...\n"
     ]
    },
    {
     "name": "stderr",
     "output_type": "stream",
     "text": [
      "2024-02-10 16:27:19,750 - INFO - URL https://www.eversports.de/s/the-basement-pole-dance-and-movement is valid.\n"
     ]
    },
    {
     "name": "stdout",
     "output_type": "stream",
     "text": [
      "Scraping Pole Studio Data from https://www.eversports.de/s/the-basement-pole-dance-and-movement...\n"
     ]
    },
    {
     "name": "stderr",
     "output_type": "stream",
     "text": [
      "Processing URLs:  24%|██▎       | 80/337 [06:50<24:19,  5.68s/it, Current URL: https://www.eversports.de/s/the-basement-pole-dance-and-movement]"
     ]
    },
    {
     "name": "stdout",
     "output_type": "stream",
     "text": [
      "Processing completed.\n",
      "Pole Studio Data: 1 entries\n",
      "Starting URL reconstruction...\n"
     ]
    },
    {
     "name": "stderr",
     "output_type": "stream",
     "text": [
      "2024-02-10 16:27:22,098 - INFO - Processing URL 1/4: https://www.eversports.de/s/lespole\n"
     ]
    },
    {
     "name": "stdout",
     "output_type": "stream",
     "text": [
      "Converting to DataFrame...\n",
      "Validating URLs...\n"
     ]
    },
    {
     "name": "stderr",
     "output_type": "stream",
     "text": [
      "2024-02-10 16:27:23,533 - INFO - URL https://www.eversports.de/s/lespole is valid.\n",
      "2024-02-10 16:27:23,534 - INFO - Processing URL 2/4: https://www.eversports.de/sw/lespole\n",
      "2024-02-10 16:27:24,811 - INFO - URL https://www.eversports.de/sw/lespole is valid.\n",
      "2024-02-10 16:27:24,813 - INFO - Processing URL 3/4: https://www.eversports.de/sp/lespole\n",
      "2024-02-10 16:27:26,098 - INFO - URL https://www.eversports.de/sp/lespole is valid.\n",
      "2024-02-10 16:27:26,098 - INFO - Processing URL 4/4: https://www.eversports.de/s/lespole/team\n",
      "2024-02-10 16:27:27,448 - INFO - URL https://www.eversports.de/s/lespole/team is valid.\n"
     ]
    },
    {
     "name": "stdout",
     "output_type": "stream",
     "text": [
      "Scraping Pole Studio Data from https://www.eversports.de/s/lespole...\n",
      "Scraping Workshops Data from https://www.eversports.de/sw/lespole...\n",
      "Scraping Workshop Details from https://www.eversports.de/e/workshop/ph8TlfO...\n",
      "Scraping Workshop Details from https://www.eversports.de/e/workshop/4lKTG4R...\n",
      "Scraping Workshop Details from https://www.eversports.de/e/workshop/lByHwWr...\n",
      "Scraping Workshop Details from https://www.eversports.de/e/workshop/VC_twiJ...\n",
      "Scraping Workshop Details from https://www.eversports.de/e/workshop/L-VuR9j...\n"
     ]
    },
    {
     "name": "stderr",
     "output_type": "stream",
     "text": [
      "Processing URLs:  24%|██▍       | 81/337 [07:06<37:17,  8.74s/it, Current URL: https://www.eversports.de/s/lespole]                             "
     ]
    },
    {
     "name": "stdout",
     "output_type": "stream",
     "text": [
      "Processing completed.\n",
      "Pole Studio Data: 1 entries\n",
      "Workshops Data: 5 entries\n",
      "Workshop Details: 5 entries\n",
      "Starting URL reconstruction...\n"
     ]
    },
    {
     "name": "stderr",
     "output_type": "stream",
     "text": [
      "Processing URLs:  24%|██▍       | 82/337 [07:07<27:53,  6.56s/it, Current URL: https://www.eversports.de/s/flexx-arts-memmingen]"
     ]
    },
    {
     "name": "stdout",
     "output_type": "stream",
     "text": [
      "Error during HTTP request: 404 Client Error: Not Found for url: https://www.eversports.de/s/flexx-arts-memmingen\n",
      "Converting to DataFrame...\n",
      "Validating URLs...\n",
      "Processing completed.\n",
      "Starting URL reconstruction...\n"
     ]
    },
    {
     "name": "stderr",
     "output_type": "stream",
     "text": [
      "Processing URLs:  25%|██▍       | 83/337 [07:09<21:03,  4.97s/it, Current URL: https://www.eversports.de/s/exotic-academy]      "
     ]
    },
    {
     "name": "stdout",
     "output_type": "stream",
     "text": [
      "Error during HTTP request: 404 Client Error: Not Found for url: https://www.eversports.de/s/exotic-academy\n",
      "Converting to DataFrame...\n",
      "Validating URLs...\n",
      "Processing completed.\n",
      "Starting URL reconstruction...\n"
     ]
    },
    {
     "name": "stderr",
     "output_type": "stream",
     "text": [
      "2024-02-10 16:27:40,749 - INFO - Processing URL 1/4: https://www.eversports.de/s/royal-pole\n"
     ]
    },
    {
     "name": "stdout",
     "output_type": "stream",
     "text": [
      "Error reconstructing URL for 'Freie Trainings': Unrecognized text: 'Freie Trainings'\n",
      "Converting to DataFrame...\n",
      "Validating URLs...\n"
     ]
    },
    {
     "name": "stderr",
     "output_type": "stream",
     "text": [
      "2024-02-10 16:27:43,748 - INFO - URL https://www.eversports.de/s/royal-pole is valid.\n",
      "2024-02-10 16:27:43,749 - INFO - Processing URL 2/4: https://www.eversports.de/sw/royal-pole\n",
      "2024-02-10 16:27:44,955 - INFO - URL https://www.eversports.de/sw/royal-pole is not valid.\n",
      "2024-02-10 16:27:44,955 - INFO - Processing URL 3/4: https://www.eversports.de/sp/royal-pole\n",
      "2024-02-10 16:27:46,383 - INFO - URL https://www.eversports.de/sp/royal-pole is not valid.\n",
      "2024-02-10 16:27:46,384 - INFO - Processing URL 4/4: https://www.eversports.de/s/royal-pole/team\n",
      "2024-02-10 16:27:47,697 - INFO - URL https://www.eversports.de/s/royal-pole/team is valid.\n"
     ]
    },
    {
     "name": "stdout",
     "output_type": "stream",
     "text": [
      "Scraping Pole Studio Data from https://www.eversports.de/s/royal-pole...\n"
     ]
    },
    {
     "name": "stderr",
     "output_type": "stream",
     "text": [
      "Processing URLs:  25%|██▍       | 84/337 [07:18<26:04,  6.18s/it, Current URL: https://www.eversports.de/s/royal-pole]    "
     ]
    },
    {
     "name": "stdout",
     "output_type": "stream",
     "text": [
      "Processing completed.\n",
      "Pole Studio Data: 1 entries\n",
      "Starting URL reconstruction...\n"
     ]
    },
    {
     "name": "stderr",
     "output_type": "stream",
     "text": [
      "2024-02-10 16:27:49,686 - INFO - Processing URL 1/3: https://www.eversports.de/s/spin-up\n"
     ]
    },
    {
     "name": "stdout",
     "output_type": "stream",
     "text": [
      "Converting to DataFrame...\n",
      "Validating URLs...\n"
     ]
    },
    {
     "name": "stderr",
     "output_type": "stream",
     "text": [
      "2024-02-10 16:27:50,989 - INFO - URL https://www.eversports.de/s/spin-up is valid.\n",
      "2024-02-10 16:27:50,990 - INFO - Processing URL 2/3: https://www.eversports.de/sp/spin-up\n",
      "2024-02-10 16:27:52,198 - INFO - URL https://www.eversports.de/sp/spin-up is not valid.\n",
      "2024-02-10 16:27:52,198 - INFO - Processing URL 3/3: https://www.eversports.de/s/spin-up/team\n",
      "2024-02-10 16:27:53,456 - INFO - URL https://www.eversports.de/s/spin-up/team is valid.\n"
     ]
    },
    {
     "name": "stdout",
     "output_type": "stream",
     "text": [
      "Scraping Pole Studio Data from https://www.eversports.de/s/spin-up...\n"
     ]
    },
    {
     "name": "stderr",
     "output_type": "stream",
     "text": [
      "Processing URLs:  25%|██▌       | 85/337 [07:23<25:23,  6.05s/it, Current URL: https://www.eversports.de/s/spin-up]   "
     ]
    },
    {
     "name": "stdout",
     "output_type": "stream",
     "text": [
      "Processing completed.\n",
      "Pole Studio Data: 1 entries\n",
      "Starting URL reconstruction...\n"
     ]
    },
    {
     "name": "stderr",
     "output_type": "stream",
     "text": [
      "2024-02-10 16:27:55,276 - INFO - Processing URL 1/3: https://www.eversports.de/s/polestructions\n"
     ]
    },
    {
     "name": "stdout",
     "output_type": "stream",
     "text": [
      "Converting to DataFrame...\n",
      "Validating URLs...\n"
     ]
    },
    {
     "name": "stderr",
     "output_type": "stream",
     "text": [
      "2024-02-10 16:27:58,441 - INFO - URL https://www.eversports.de/s/polestructions is valid.\n",
      "2024-02-10 16:27:58,441 - INFO - Processing URL 2/3: https://www.eversports.de/sp/polestructions\n",
      "2024-02-10 16:27:59,673 - INFO - URL https://www.eversports.de/sp/polestructions is valid.\n",
      "2024-02-10 16:27:59,674 - INFO - Processing URL 3/3: https://www.eversports.de/s/polestructions/team\n",
      "2024-02-10 16:28:01,247 - INFO - URL https://www.eversports.de/s/polestructions/team is valid.\n"
     ]
    },
    {
     "name": "stdout",
     "output_type": "stream",
     "text": [
      "Scraping Pole Studio Data from https://www.eversports.de/s/polestructions...\n"
     ]
    },
    {
     "name": "stderr",
     "output_type": "stream",
     "text": [
      "Processing URLs:  26%|██▌       | 86/337 [07:31<27:38,  6.61s/it, Current URL: https://www.eversports.de/s/polestructions]"
     ]
    },
    {
     "name": "stdout",
     "output_type": "stream",
     "text": [
      "Processing completed.\n",
      "Pole Studio Data: 1 entries\n",
      "Starting URL reconstruction...\n"
     ]
    },
    {
     "name": "stderr",
     "output_type": "stream",
     "text": [
      "Processing URLs:  26%|██▌       | 87/337 [07:32<20:57,  5.03s/it, Current URL: https://www.eversports.de/s/tanzstudio-vi-dance-dortmund]"
     ]
    },
    {
     "name": "stdout",
     "output_type": "stream",
     "text": [
      "Error during HTTP request: 404 Client Error: Not Found for url: https://www.eversports.de/s/tanzstudio-vi-dance-dortmund\n",
      "Converting to DataFrame...\n",
      "Validating URLs...\n",
      "Processing completed.\n",
      "Starting URL reconstruction...\n"
     ]
    },
    {
     "name": "stderr",
     "output_type": "stream",
     "text": [
      "2024-02-10 16:28:04,620 - INFO - Processing URL 1/4: https://www.eversports.de/s/pole-and-move-mannheim\n"
     ]
    },
    {
     "name": "stdout",
     "output_type": "stream",
     "text": [
      "Converting to DataFrame...\n",
      "Validating URLs...\n"
     ]
    },
    {
     "name": "stderr",
     "output_type": "stream",
     "text": [
      "2024-02-10 16:28:06,169 - INFO - URL https://www.eversports.de/s/pole-and-move-mannheim is valid.\n",
      "2024-02-10 16:28:06,170 - INFO - Processing URL 2/4: https://www.eversports.de/sw/pole-and-move-mannheim\n",
      "2024-02-10 16:28:07,794 - INFO - URL https://www.eversports.de/sw/pole-and-move-mannheim is valid.\n",
      "2024-02-10 16:28:07,795 - INFO - Processing URL 3/4: https://www.eversports.de/sp/pole-and-move-mannheim\n",
      "2024-02-10 16:28:09,105 - INFO - URL https://www.eversports.de/sp/pole-and-move-mannheim is valid.\n",
      "2024-02-10 16:28:09,107 - INFO - Processing URL 4/4: https://www.eversports.de/s/pole-and-move-mannheim/team\n",
      "2024-02-10 16:28:10,440 - INFO - URL https://www.eversports.de/s/pole-and-move-mannheim/team is valid.\n"
     ]
    },
    {
     "name": "stdout",
     "output_type": "stream",
     "text": [
      "Scraping Pole Studio Data from https://www.eversports.de/s/pole-and-move-mannheim...\n",
      "Scraping Workshops Data from https://www.eversports.de/sw/pole-and-move-mannheim...\n",
      "Scraping Workshop Details from https://www.eversports.de/e/workshop/gbofUBp...\n",
      "Scraping Workshop Details from https://www.eversports.de/e/workshop/NFfn_y6...\n",
      "Scraping Workshop Details from https://www.eversports.de/e/workshop/miY7n0b...\n",
      "Scraping Workshop Details from https://www.eversports.de/e/workshop/C9b62JT...\n",
      "Scraping Workshop Details from https://www.eversports.de/e/workshop/0fonSE4...\n"
     ]
    },
    {
     "name": "stderr",
     "output_type": "stream",
     "text": [
      "Processing URLs:  26%|██▌       | 88/337 [07:49<35:28,  8.55s/it, Current URL: https://www.eversports.de/s/pole-and-move-mannheim]      "
     ]
    },
    {
     "name": "stdout",
     "output_type": "stream",
     "text": [
      "Processing completed.\n",
      "Pole Studio Data: 1 entries\n",
      "Workshops Data: 5 entries\n",
      "Workshop Details: 5 entries\n",
      "Starting URL reconstruction...\n"
     ]
    },
    {
     "name": "stderr",
     "output_type": "stream",
     "text": [
      "2024-02-10 16:28:21,416 - INFO - Processing URL 1/4: https://www.eversports.de/s/tsg-blau-gold-giessen-ev\n"
     ]
    },
    {
     "name": "stdout",
     "output_type": "stream",
     "text": [
      "Converting to DataFrame...\n",
      "Validating URLs...\n"
     ]
    },
    {
     "name": "stderr",
     "output_type": "stream",
     "text": [
      "2024-02-10 16:28:22,872 - INFO - URL https://www.eversports.de/s/tsg-blau-gold-giessen-ev is valid.\n",
      "2024-02-10 16:28:22,873 - INFO - Processing URL 2/4: https://www.eversports.de/sw/tsg-blau-gold-giessen-ev\n",
      "2024-02-10 16:28:24,302 - INFO - URL https://www.eversports.de/sw/tsg-blau-gold-giessen-ev is valid.\n",
      "2024-02-10 16:28:24,303 - INFO - Processing URL 3/4: https://www.eversports.de/sp/tsg-blau-gold-giessen-ev\n",
      "2024-02-10 16:28:25,578 - INFO - URL https://www.eversports.de/sp/tsg-blau-gold-giessen-ev is valid.\n",
      "2024-02-10 16:28:25,579 - INFO - Processing URL 4/4: https://www.eversports.de/s/tsg-blau-gold-giessen-ev/team\n",
      "2024-02-10 16:28:27,059 - INFO - URL https://www.eversports.de/s/tsg-blau-gold-giessen-ev/team is valid.\n"
     ]
    },
    {
     "name": "stdout",
     "output_type": "stream",
     "text": [
      "Scraping Pole Studio Data from https://www.eversports.de/s/tsg-blau-gold-giessen-ev...\n",
      "Scraping Workshops Data from https://www.eversports.de/sw/tsg-blau-gold-giessen-ev...\n",
      "Scraping Workshop Details from https://www.eversports.de/e/workshop/dYSdw7b...\n",
      "Scraping Workshop Details from https://www.eversports.de/e/workshop/1LJamzo...\n",
      "Scraping Workshop Details from https://www.eversports.de/e/workshop/tFkZ7tt...\n",
      "Scraping Workshop Details from https://www.eversports.de/e/workshop/kTY0ERN...\n"
     ]
    },
    {
     "name": "stderr",
     "output_type": "stream",
     "text": [
      "Processing URLs:  26%|██▋       | 89/337 [08:04<42:50, 10.37s/it, Current URL: https://www.eversports.de/s/tsg-blau-gold-giessen-ev]"
     ]
    },
    {
     "name": "stdout",
     "output_type": "stream",
     "text": [
      "Processing completed.\n",
      "Pole Studio Data: 1 entries\n",
      "Workshops Data: 4 entries\n",
      "Workshop Details: 4 entries\n",
      "Starting URL reconstruction...\n"
     ]
    },
    {
     "name": "stderr",
     "output_type": "stream",
     "text": [
      "2024-02-10 16:28:35,893 - INFO - Processing URL 1/3: https://www.eversports.de/s/pole-dance-beauties\n"
     ]
    },
    {
     "name": "stdout",
     "output_type": "stream",
     "text": [
      "Error reconstructing URL for 'Trainings': Unrecognized text: 'Trainings'\n",
      "Error reconstructing URL for 'Kurse': Unrecognized text: 'Kurse'\n",
      "Converting to DataFrame...\n",
      "Validating URLs...\n"
     ]
    },
    {
     "name": "stderr",
     "output_type": "stream",
     "text": [
      "2024-02-10 16:28:37,267 - INFO - URL https://www.eversports.de/s/pole-dance-beauties is valid.\n",
      "2024-02-10 16:28:37,268 - INFO - Processing URL 2/3: https://www.eversports.de/sp/pole-dance-beauties\n",
      "2024-02-10 16:28:38,492 - INFO - URL https://www.eversports.de/sp/pole-dance-beauties is valid.\n",
      "2024-02-10 16:28:38,494 - INFO - Processing URL 3/3: https://www.eversports.de/s/pole-dance-beauties/team\n",
      "2024-02-10 16:28:39,794 - INFO - URL https://www.eversports.de/s/pole-dance-beauties/team is valid.\n"
     ]
    },
    {
     "name": "stdout",
     "output_type": "stream",
     "text": [
      "Scraping Pole Studio Data from https://www.eversports.de/s/pole-dance-beauties...\n"
     ]
    },
    {
     "name": "stderr",
     "output_type": "stream",
     "text": [
      "Processing URLs:  27%|██▋       | 90/337 [08:11<38:17,  9.30s/it, Current URL: https://www.eversports.de/s/pole-dance-beauties]     "
     ]
    },
    {
     "name": "stdout",
     "output_type": "stream",
     "text": [
      "Processing completed.\n",
      "Pole Studio Data: 1 entries\n",
      "Starting URL reconstruction...\n"
     ]
    },
    {
     "name": "stderr",
     "output_type": "stream",
     "text": [
      "2024-02-10 16:28:43,275 - INFO - Processing URL 1/1: https://www.eversports.de/s/polesensation\n"
     ]
    },
    {
     "name": "stdout",
     "output_type": "stream",
     "text": [
      "Converting to DataFrame...\n",
      "Validating URLs...\n"
     ]
    },
    {
     "name": "stderr",
     "output_type": "stream",
     "text": [
      "2024-02-10 16:28:44,656 - INFO - URL https://www.eversports.de/s/polesensation is valid.\n"
     ]
    },
    {
     "name": "stdout",
     "output_type": "stream",
     "text": [
      "Scraping Pole Studio Data from https://www.eversports.de/s/polesensation...\n"
     ]
    },
    {
     "name": "stderr",
     "output_type": "stream",
     "text": [
      "Processing URLs:  27%|██▋       | 91/337 [08:14<31:09,  7.60s/it, Current URL: https://www.eversports.de/s/polesensation]      "
     ]
    },
    {
     "name": "stdout",
     "output_type": "stream",
     "text": [
      "Processing completed.\n",
      "Pole Studio Data: 1 entries\n",
      "Starting URL reconstruction...\n"
     ]
    },
    {
     "name": "stderr",
     "output_type": "stream",
     "text": [
      "Processing URLs:  27%|██▋       | 92/337 [08:16<23:13,  5.69s/it, Current URL: https://www.eversports.de/s/dance-&-pole-deltawerk]"
     ]
    },
    {
     "name": "stdout",
     "output_type": "stream",
     "text": [
      "Error during HTTP request: 404 Client Error: Not Found for url: https://www.eversports.de/s/dance-&-pole-deltawerk\n",
      "Converting to DataFrame...\n",
      "Validating URLs...\n",
      "Processing completed.\n",
      "Starting URL reconstruction...\n"
     ]
    },
    {
     "name": "stderr",
     "output_type": "stream",
     "text": [
      "Processing URLs:  28%|██▊       | 93/337 [08:18<18:41,  4.60s/it, Current URL: https://www.eversports.de/s/poledance-leipzig]     "
     ]
    },
    {
     "name": "stdout",
     "output_type": "stream",
     "text": [
      "Error during HTTP request: 404 Client Error: Not Found for url: https://www.eversports.de/s/poledance-leipzig\n",
      "Converting to DataFrame...\n",
      "Validating URLs...\n",
      "Processing completed.\n",
      "Starting URL reconstruction...\n"
     ]
    },
    {
     "name": "stderr",
     "output_type": "stream",
     "text": [
      "2024-02-10 16:28:49,568 - INFO - Processing URL 1/3: https://www.eversports.de/s/indeed-unique-studio-wien\n"
     ]
    },
    {
     "name": "stdout",
     "output_type": "stream",
     "text": [
      "Error reconstructing URL for 'Kurse': Unrecognized text: 'Kurse'\n",
      "Converting to DataFrame...\n",
      "Validating URLs...\n"
     ]
    },
    {
     "name": "stderr",
     "output_type": "stream",
     "text": [
      "2024-02-10 16:28:50,933 - INFO - URL https://www.eversports.de/s/indeed-unique-studio-wien is valid.\n",
      "2024-02-10 16:28:50,934 - INFO - Processing URL 2/3: https://www.eversports.de/sp/indeed-unique-studio-wien\n",
      "2024-02-10 16:28:52,118 - INFO - URL https://www.eversports.de/sp/indeed-unique-studio-wien is not valid.\n",
      "2024-02-10 16:28:52,119 - INFO - Processing URL 3/3: https://www.eversports.de/s/indeed-unique-studio-wien/team\n",
      "2024-02-10 16:28:53,415 - INFO - URL https://www.eversports.de/s/indeed-unique-studio-wien/team is valid.\n"
     ]
    },
    {
     "name": "stdout",
     "output_type": "stream",
     "text": [
      "Scraping Pole Studio Data from https://www.eversports.de/s/indeed-unique-studio-wien...\n"
     ]
    },
    {
     "name": "stderr",
     "output_type": "stream",
     "text": [
      "Processing URLs:  28%|██▊       | 94/337 [08:23<19:54,  4.91s/it, Current URL: https://www.eversports.de/s/indeed-unique-studio-wien]"
     ]
    },
    {
     "name": "stdout",
     "output_type": "stream",
     "text": [
      "Processing completed.\n",
      "Pole Studio Data: 1 entries\n",
      "Starting URL reconstruction...\n"
     ]
    },
    {
     "name": "stderr",
     "output_type": "stream",
     "text": [
      "2024-02-10 16:28:55,253 - INFO - Processing URL 1/2: https://www.eversports.de/s/pole-werk-by-nelly\n"
     ]
    },
    {
     "name": "stdout",
     "output_type": "stream",
     "text": [
      "Error reconstructing URL for 'Kurse': Unrecognized text: 'Kurse'\n",
      "Converting to DataFrame...\n",
      "Validating URLs...\n"
     ]
    },
    {
     "name": "stderr",
     "output_type": "stream",
     "text": [
      "2024-02-10 16:28:58,147 - INFO - URL https://www.eversports.de/s/pole-werk-by-nelly is valid.\n",
      "2024-02-10 16:28:58,148 - INFO - Processing URL 2/2: https://www.eversports.de/s/pole-werk-by-nelly/team\n",
      "2024-02-10 16:28:59,449 - INFO - URL https://www.eversports.de/s/pole-werk-by-nelly/team is valid.\n"
     ]
    },
    {
     "name": "stdout",
     "output_type": "stream",
     "text": [
      "Scraping Pole Studio Data from https://www.eversports.de/s/pole-werk-by-nelly...\n"
     ]
    },
    {
     "name": "stderr",
     "output_type": "stream",
     "text": [
      "Processing URLs:  28%|██▊       | 95/337 [08:29<21:09,  5.25s/it, Current URL: https://www.eversports.de/s/pole-werk-by-nelly]       "
     ]
    },
    {
     "name": "stdout",
     "output_type": "stream",
     "text": [
      "Processing completed.\n",
      "Pole Studio Data: 1 entries\n",
      "Starting URL reconstruction...\n"
     ]
    },
    {
     "name": "stderr",
     "output_type": "stream",
     "text": [
      "2024-02-10 16:29:01,291 - INFO - Processing URL 1/1: https://www.eversports.de/s/poleart_inspiration\n"
     ]
    },
    {
     "name": "stdout",
     "output_type": "stream",
     "text": [
      "Converting to DataFrame...\n",
      "Validating URLs...\n"
     ]
    },
    {
     "name": "stderr",
     "output_type": "stream",
     "text": [
      "2024-02-10 16:29:02,520 - INFO - URL https://www.eversports.de/s/poleart_inspiration is valid.\n"
     ]
    },
    {
     "name": "stdout",
     "output_type": "stream",
     "text": [
      "Scraping Pole Studio Data from https://www.eversports.de/s/poleart_inspiration...\n"
     ]
    },
    {
     "name": "stderr",
     "output_type": "stream",
     "text": [
      "Processing URLs:  28%|██▊       | 96/337 [08:32<18:17,  4.55s/it, Current URL: https://www.eversports.de/s/poleart_inspiration]"
     ]
    },
    {
     "name": "stdout",
     "output_type": "stream",
     "text": [
      "Processing completed.\n",
      "Pole Studio Data: 1 entries\n",
      "Starting URL reconstruction...\n"
     ]
    },
    {
     "name": "stderr",
     "output_type": "stream",
     "text": [
      "Processing URLs:  29%|██▉       | 97/337 [08:34<14:30,  3.63s/it, Current URL: https://www.eversports.de/s/pole-yourself]      "
     ]
    },
    {
     "name": "stdout",
     "output_type": "stream",
     "text": [
      "Error during HTTP request: 404 Client Error: Not Found for url: https://www.eversports.de/s/pole-yourself\n",
      "Converting to DataFrame...\n",
      "Validating URLs...\n",
      "Processing completed.\n",
      "Starting URL reconstruction...\n"
     ]
    },
    {
     "name": "stderr",
     "output_type": "stream",
     "text": [
      "2024-02-10 16:29:06,172 - INFO - Processing URL 1/1: https://www.eversports.de/s/nisa-verticals\n"
     ]
    },
    {
     "name": "stdout",
     "output_type": "stream",
     "text": [
      "Converting to DataFrame...\n",
      "Validating URLs...\n"
     ]
    },
    {
     "name": "stderr",
     "output_type": "stream",
     "text": [
      "2024-02-10 16:29:07,617 - INFO - URL https://www.eversports.de/s/nisa-verticals is valid.\n"
     ]
    },
    {
     "name": "stdout",
     "output_type": "stream",
     "text": [
      "Scraping Pole Studio Data from https://www.eversports.de/s/nisa-verticals...\n"
     ]
    },
    {
     "name": "stderr",
     "output_type": "stream",
     "text": [
      "Processing URLs:  29%|██▉       | 98/337 [08:37<14:30,  3.64s/it, Current URL: https://www.eversports.de/s/nisa-verticals]"
     ]
    },
    {
     "name": "stdout",
     "output_type": "stream",
     "text": [
      "Processing completed.\n",
      "Pole Studio Data: 1 entries\n",
      "Starting URL reconstruction...\n"
     ]
    },
    {
     "name": "stderr",
     "output_type": "stream",
     "text": [
      "2024-02-10 16:29:09,499 - INFO - Processing URL 1/3: https://www.eversports.de/s/la-belle\n"
     ]
    },
    {
     "name": "stdout",
     "output_type": "stream",
     "text": [
      "Error reconstructing URL for 'Kurse': Unrecognized text: 'Kurse'\n",
      "Converting to DataFrame...\n",
      "Validating URLs...\n"
     ]
    },
    {
     "name": "stderr",
     "output_type": "stream",
     "text": [
      "2024-02-10 16:29:10,898 - INFO - URL https://www.eversports.de/s/la-belle is valid.\n",
      "2024-02-10 16:29:10,899 - INFO - Processing URL 2/3: https://www.eversports.de/sp/la-belle\n",
      "2024-02-10 16:29:12,149 - INFO - URL https://www.eversports.de/sp/la-belle is valid.\n",
      "2024-02-10 16:29:12,150 - INFO - Processing URL 3/3: https://www.eversports.de/s/la-belle/team\n",
      "2024-02-10 16:29:14,683 - INFO - URL https://www.eversports.de/s/la-belle/team is valid.\n"
     ]
    },
    {
     "name": "stdout",
     "output_type": "stream",
     "text": [
      "Scraping Pole Studio Data from https://www.eversports.de/s/la-belle...\n"
     ]
    },
    {
     "name": "stderr",
     "output_type": "stream",
     "text": [
      "Processing URLs:  29%|██▉       | 99/337 [08:45<18:57,  4.78s/it, Current URL: https://www.eversports.de/s/la-belle]      "
     ]
    },
    {
     "name": "stdout",
     "output_type": "stream",
     "text": [
      "Processing completed.\n",
      "Pole Studio Data: 1 entries\n",
      "Starting URL reconstruction...\n"
     ]
    },
    {
     "name": "stderr",
     "output_type": "stream",
     "text": [
      "Processing URLs:  30%|██▉       | 100/337 [08:46<14:43,  3.73s/it, Current URL: https://www.eversports.de/s/pole-fit-nes]"
     ]
    },
    {
     "name": "stdout",
     "output_type": "stream",
     "text": [
      "Error during HTTP request: 404 Client Error: Not Found for url: https://www.eversports.de/s/pole-fit-nes\n",
      "Converting to DataFrame...\n",
      "Validating URLs...\n",
      "Processing completed.\n",
      "Starting URL reconstruction...\n"
     ]
    },
    {
     "name": "stderr",
     "output_type": "stream",
     "text": [
      "2024-02-10 16:29:18,290 - INFO - Processing URL 1/1: https://www.eversports.de/s/kaifu-lodge\n"
     ]
    },
    {
     "name": "stdout",
     "output_type": "stream",
     "text": [
      "Converting to DataFrame...\n",
      "Validating URLs...\n"
     ]
    },
    {
     "name": "stderr",
     "output_type": "stream",
     "text": [
      "2024-02-10 16:29:21,591 - INFO - URL https://www.eversports.de/s/kaifu-lodge is valid.\n"
     ]
    },
    {
     "name": "stdout",
     "output_type": "stream",
     "text": [
      "Scraping Pole Studio Data from https://www.eversports.de/s/kaifu-lodge...\n"
     ]
    },
    {
     "name": "stderr",
     "output_type": "stream",
     "text": [
      "Processing URLs:  30%|██▉       | 101/337 [09:21<51:49, 13.17s/it, Current URL: https://www.eversports.de/s/kaifu-lodge] "
     ]
    },
    {
     "name": "stdout",
     "output_type": "stream",
     "text": [
      "Processing completed.\n",
      "Pole Studio Data: 1 entries\n",
      "Starting URL reconstruction...\n"
     ]
    },
    {
     "name": "stderr",
     "output_type": "stream",
     "text": [
      "Processing URLs:  30%|███       | 102/337 [09:23<37:33,  9.59s/it, Current URL: https://www.eversports.de/s/pole-dance-studio-karlsruhe]"
     ]
    },
    {
     "name": "stdout",
     "output_type": "stream",
     "text": [
      "Error during HTTP request: 404 Client Error: Not Found for url: https://www.eversports.de/s/pole-dance-studio-karlsruhe\n",
      "Converting to DataFrame...\n",
      "Validating URLs...\n",
      "Processing completed.\n",
      "Starting URL reconstruction...\n"
     ]
    },
    {
     "name": "stderr",
     "output_type": "stream",
     "text": [
      "Processing URLs:  31%|███       | 103/337 [09:25<28:36,  7.34s/it, Current URL: https://www.eversports.de/s/anni's-pole-dance-uetersen] "
     ]
    },
    {
     "name": "stdout",
     "output_type": "stream",
     "text": [
      "Error during HTTP request: 404 Client Error: Not Found for url: https://www.eversports.de/s/anni's-pole-dance-uetersen\n",
      "Converting to DataFrame...\n",
      "Validating URLs...\n",
      "Processing completed.\n",
      "Starting URL reconstruction...\n"
     ]
    },
    {
     "name": "stderr",
     "output_type": "stream",
     "text": [
      "2024-02-10 16:29:56,795 - INFO - Processing URL 1/4: https://www.eversports.de/s/yoga-and-pole-art-by-selina\n"
     ]
    },
    {
     "name": "stdout",
     "output_type": "stream",
     "text": [
      "Converting to DataFrame...\n",
      "Validating URLs...\n"
     ]
    },
    {
     "name": "stderr",
     "output_type": "stream",
     "text": [
      "2024-02-10 16:30:00,392 - INFO - URL https://www.eversports.de/s/yoga-and-pole-art-by-selina is valid.\n",
      "2024-02-10 16:30:00,394 - INFO - Processing URL 2/4: https://www.eversports.de/sw/yoga-and-pole-art-by-selina\n",
      "2024-02-10 16:30:02,379 - INFO - URL https://www.eversports.de/sw/yoga-and-pole-art-by-selina is valid.\n",
      "2024-02-10 16:30:02,380 - INFO - Processing URL 3/4: https://www.eversports.de/sp/yoga-and-pole-art-by-selina\n",
      "2024-02-10 16:30:03,588 - INFO - URL https://www.eversports.de/sp/yoga-and-pole-art-by-selina is valid.\n",
      "2024-02-10 16:30:03,589 - INFO - Processing URL 4/4: https://www.eversports.de/s/yoga-and-pole-art-by-selina/team\n",
      "2024-02-10 16:30:09,447 - INFO - URL https://www.eversports.de/s/yoga-and-pole-art-by-selina/team is valid.\n"
     ]
    },
    {
     "name": "stdout",
     "output_type": "stream",
     "text": [
      "Scraping Pole Studio Data from https://www.eversports.de/s/yoga-and-pole-art-by-selina...\n",
      "Scraping Workshops Data from https://www.eversports.de/sw/yoga-and-pole-art-by-selina...\n",
      "Scraping Workshop Details from https://www.eversports.de/e/workshop/p_eKWTW...\n",
      "Scraping Workshop Details from https://www.eversports.de/e/workshop/1PmB24I...\n",
      "Scraping Workshop Details from https://www.eversports.de/e/workshop/Zk4neM3...\n",
      "Scraping Workshop Details from https://www.eversports.de/e/workshop/VnmCBGD...\n",
      "Scraping Workshop Details from https://www.eversports.de/e/workshop/qdYG4WC...\n",
      "Scraping Workshop Details from https://www.eversports.de/e/workshop/M4MjCdo...\n",
      "Scraping Workshop Details from https://www.eversports.de/e/workshop/bi8m5zs...\n",
      "Scraping Workshop Details from https://www.eversports.de/e/workshop/B_H90J1...\n",
      "Scraping Workshop Details from https://www.eversports.de/e/workshop/ccLkJAE...\n"
     ]
    },
    {
     "name": "stderr",
     "output_type": "stream",
     "text": [
      "Processing URLs:  31%|███       | 104/337 [10:03<1:04:48, 16.69s/it, Current URL: https://www.eversports.de/s/yoga-and-pole-art-by-selina]"
     ]
    },
    {
     "name": "stdout",
     "output_type": "stream",
     "text": [
      "Processing completed.\n",
      "Pole Studio Data: 1 entries\n",
      "Workshops Data: 9 entries\n",
      "Workshop Details: 9 entries\n",
      "Starting URL reconstruction...\n"
     ]
    },
    {
     "name": "stderr",
     "output_type": "stream",
     "text": [
      "2024-02-10 16:30:35,328 - INFO - Processing URL 1/3: https://www.eversports.de/s/css-aerial-dance-studio\n"
     ]
    },
    {
     "name": "stdout",
     "output_type": "stream",
     "text": [
      "Error reconstructing URL for 'Kurse': Unrecognized text: 'Kurse'\n",
      "Converting to DataFrame...\n",
      "Validating URLs...\n"
     ]
    },
    {
     "name": "stderr",
     "output_type": "stream",
     "text": [
      "2024-02-10 16:30:36,768 - INFO - URL https://www.eversports.de/s/css-aerial-dance-studio is valid.\n",
      "2024-02-10 16:30:36,769 - INFO - Processing URL 2/3: https://www.eversports.de/sp/css-aerial-dance-studio\n",
      "2024-02-10 16:30:38,097 - INFO - URL https://www.eversports.de/sp/css-aerial-dance-studio is valid.\n",
      "2024-02-10 16:30:38,098 - INFO - Processing URL 3/3: https://www.eversports.de/s/css-aerial-dance-studio/team\n",
      "2024-02-10 16:30:39,312 - INFO - URL https://www.eversports.de/s/css-aerial-dance-studio/team is valid.\n"
     ]
    },
    {
     "name": "stdout",
     "output_type": "stream",
     "text": [
      "Scraping Pole Studio Data from https://www.eversports.de/s/css-aerial-dance-studio...\n"
     ]
    },
    {
     "name": "stderr",
     "output_type": "stream",
     "text": [
      "Processing URLs:  31%|███       | 105/337 [10:09<52:09, 13.49s/it, Current URL: https://www.eversports.de/s/css-aerial-dance-studio]      "
     ]
    },
    {
     "name": "stdout",
     "output_type": "stream",
     "text": [
      "Processing completed.\n",
      "Pole Studio Data: 1 entries\n",
      "Starting URL reconstruction...\n"
     ]
    },
    {
     "name": "stderr",
     "output_type": "stream",
     "text": [
      "2024-02-10 16:30:42,340 - INFO - Processing URL 1/4: https://www.eversports.de/s/vertical-pole-aerial-dance-1\n"
     ]
    },
    {
     "name": "stdout",
     "output_type": "stream",
     "text": [
      "Converting to DataFrame...\n",
      "Validating URLs...\n"
     ]
    },
    {
     "name": "stderr",
     "output_type": "stream",
     "text": [
      "2024-02-10 16:30:44,004 - INFO - URL https://www.eversports.de/s/vertical-pole-aerial-dance-1 is valid.\n",
      "2024-02-10 16:30:44,005 - INFO - Processing URL 2/4: https://www.eversports.de/sw/vertical-pole-aerial-dance-1\n",
      "2024-02-10 16:30:45,352 - INFO - URL https://www.eversports.de/sw/vertical-pole-aerial-dance-1 is valid.\n",
      "2024-02-10 16:30:45,353 - INFO - Processing URL 3/4: https://www.eversports.de/sp/vertical-pole-aerial-dance-1\n",
      "2024-02-10 16:30:46,610 - INFO - URL https://www.eversports.de/sp/vertical-pole-aerial-dance-1 is valid.\n",
      "2024-02-10 16:30:46,611 - INFO - Processing URL 4/4: https://www.eversports.de/s/vertical-pole-aerial-dance-1/team\n",
      "2024-02-10 16:30:47,815 - INFO - URL https://www.eversports.de/s/vertical-pole-aerial-dance-1/team is valid.\n"
     ]
    },
    {
     "name": "stdout",
     "output_type": "stream",
     "text": [
      "Scraping Pole Studio Data from https://www.eversports.de/s/vertical-pole-aerial-dance-1...\n",
      "Scraping Workshops Data from https://www.eversports.de/sw/vertical-pole-aerial-dance-1...\n",
      "Scraping Workshop Details from https://www.eversports.de/e/workshop/ogqaXAU...\n",
      "Scraping Workshop Details from https://www.eversports.de/e/workshop/wxLGaOO...\n",
      "Scraping Workshop Details from https://www.eversports.de/e/workshop/j_dm47B...\n",
      "Scraping Workshop Details from https://www.eversports.de/e/workshop/oZL9Vcu...\n"
     ]
    },
    {
     "name": "stderr",
     "output_type": "stream",
     "text": [
      "Processing URLs:  31%|███▏      | 106/337 [10:25<55:13, 14.34s/it, Current URL: https://www.eversports.de/s/vertical-pole-aerial-dance-1]"
     ]
    },
    {
     "name": "stdout",
     "output_type": "stream",
     "text": [
      "Processing completed.\n",
      "Pole Studio Data: 1 entries\n",
      "Workshops Data: 4 entries\n",
      "Workshop Details: 4 entries\n",
      "Starting URL reconstruction...\n"
     ]
    },
    {
     "name": "stderr",
     "output_type": "stream",
     "text": [
      "Processing URLs:  32%|███▏      | 107/337 [10:27<39:58, 10.43s/it, Current URL: https://www.eversports.de/s/drehmoment-pole.aerial.dance]"
     ]
    },
    {
     "name": "stdout",
     "output_type": "stream",
     "text": [
      "Error during HTTP request: 404 Client Error: Not Found for url: https://www.eversports.de/s/drehmoment-pole.aerial.dance\n",
      "Converting to DataFrame...\n",
      "Validating URLs...\n",
      "Processing completed.\n",
      "Starting URL reconstruction...\n"
     ]
    },
    {
     "name": "stderr",
     "output_type": "stream",
     "text": [
      "2024-02-10 16:30:59,241 - INFO - Processing URL 1/1: https://www.eversports.de/s/pole-your-body\n"
     ]
    },
    {
     "name": "stdout",
     "output_type": "stream",
     "text": [
      "Converting to DataFrame...\n",
      "Validating URLs...\n"
     ]
    },
    {
     "name": "stderr",
     "output_type": "stream",
     "text": [
      "2024-02-10 16:31:00,702 - INFO - URL https://www.eversports.de/s/pole-your-body is valid.\n"
     ]
    },
    {
     "name": "stdout",
     "output_type": "stream",
     "text": [
      "Scraping Pole Studio Data from https://www.eversports.de/s/pole-your-body...\n"
     ]
    },
    {
     "name": "stderr",
     "output_type": "stream",
     "text": [
      "Processing URLs:  32%|███▏      | 108/337 [10:31<33:16,  8.72s/it, Current URL: https://www.eversports.de/s/pole-your-body]              "
     ]
    },
    {
     "name": "stdout",
     "output_type": "stream",
     "text": [
      "Processing completed.\n",
      "Pole Studio Data: 1 entries\n",
      "Starting URL reconstruction...\n"
     ]
    },
    {
     "name": "stderr",
     "output_type": "stream",
     "text": [
      "Processing URLs:  32%|███▏      | 109/337 [10:33<25:26,  6.70s/it, Current URL: https://www.eversports.de/s/poledreams]    "
     ]
    },
    {
     "name": "stdout",
     "output_type": "stream",
     "text": [
      "Error during HTTP request: 404 Client Error: Not Found for url: https://www.eversports.de/s/poledreams\n",
      "Converting to DataFrame...\n",
      "Validating URLs...\n",
      "Processing completed.\n",
      "Starting URL reconstruction...\n"
     ]
    },
    {
     "name": "stderr",
     "output_type": "stream",
     "text": [
      "Processing URLs:  33%|███▎      | 110/337 [10:35<19:11,  5.07s/it, Current URL: https://www.eversports.de/s/crazysports-augsburg]"
     ]
    },
    {
     "name": "stdout",
     "output_type": "stream",
     "text": [
      "Error during HTTP request: 404 Client Error: Not Found for url: https://www.eversports.de/s/crazysports-augsburg\n",
      "Converting to DataFrame...\n",
      "Validating URLs...\n",
      "Processing completed.\n",
      "Starting URL reconstruction...\n"
     ]
    },
    {
     "name": "stderr",
     "output_type": "stream",
     "text": [
      "Processing URLs:  33%|███▎      | 111/337 [10:43<23:00,  6.11s/it, Current URL: https://www.eversports.de/s/pole-acrobatics-deggingen]"
     ]
    },
    {
     "name": "stdout",
     "output_type": "stream",
     "text": [
      "Error during HTTP request: 404 Client Error: Not Found for url: https://www.eversports.de/s/pole-acrobatics-deggingen\n",
      "Converting to DataFrame...\n",
      "Validating URLs...\n",
      "Processing completed.\n",
      "Starting URL reconstruction...\n"
     ]
    },
    {
     "name": "stderr",
     "output_type": "stream",
     "text": [
      "Processing URLs:  33%|███▎      | 112/337 [10:45<17:32,  4.68s/it, Current URL: https://www.eversports.de/s/lustforlife.studio]       "
     ]
    },
    {
     "name": "stdout",
     "output_type": "stream",
     "text": [
      "Error during HTTP request: 404 Client Error: Not Found for url: https://www.eversports.de/s/lustforlife.studio\n",
      "Converting to DataFrame...\n",
      "Validating URLs...\n",
      "Processing completed.\n",
      "Starting URL reconstruction...\n"
     ]
    },
    {
     "name": "stderr",
     "output_type": "stream",
     "text": [
      "2024-02-10 16:31:16,776 - INFO - Processing URL 1/3: https://www.eversports.de/s/stadtgazellen-studio\n"
     ]
    },
    {
     "name": "stdout",
     "output_type": "stream",
     "text": [
      "Error reconstructing URL for 'Kurse': Unrecognized text: 'Kurse'\n",
      "Converting to DataFrame...\n",
      "Validating URLs...\n"
     ]
    },
    {
     "name": "stderr",
     "output_type": "stream",
     "text": [
      "2024-02-10 16:31:18,291 - INFO - URL https://www.eversports.de/s/stadtgazellen-studio is valid.\n",
      "2024-02-10 16:31:18,292 - INFO - Processing URL 2/3: https://www.eversports.de/sp/stadtgazellen-studio\n",
      "2024-02-10 16:31:19,473 - INFO - URL https://www.eversports.de/sp/stadtgazellen-studio is valid.\n",
      "2024-02-10 16:31:19,474 - INFO - Processing URL 3/3: https://www.eversports.de/s/stadtgazellen-studio/team\n",
      "2024-02-10 16:31:20,814 - INFO - URL https://www.eversports.de/s/stadtgazellen-studio/team is valid.\n"
     ]
    },
    {
     "name": "stdout",
     "output_type": "stream",
     "text": [
      "Scraping Pole Studio Data from https://www.eversports.de/s/stadtgazellen-studio...\n"
     ]
    },
    {
     "name": "stderr",
     "output_type": "stream",
     "text": [
      "Processing URLs:  34%|███▎      | 113/337 [10:51<19:10,  5.14s/it, Current URL: https://www.eversports.de/s/stadtgazellen-studio]"
     ]
    },
    {
     "name": "stdout",
     "output_type": "stream",
     "text": [
      "Processing completed.\n",
      "Pole Studio Data: 1 entries\n",
      "Starting URL reconstruction...\n"
     ]
    },
    {
     "name": "stderr",
     "output_type": "stream",
     "text": [
      "2024-02-10 16:31:22,975 - INFO - Processing URL 1/4: https://www.eversports.de/s/aerial-loft\n"
     ]
    },
    {
     "name": "stdout",
     "output_type": "stream",
     "text": [
      "Error reconstructing URL for 'Kurse': Unrecognized text: 'Kurse'\n",
      "Error reconstructing URL for 'Events': Unrecognized text: 'Events'\n",
      "Error reconstructing URL for 'Ausbildungen': Unrecognized text: 'Ausbildungen'\n",
      "Converting to DataFrame...\n",
      "Validating URLs...\n"
     ]
    },
    {
     "name": "stderr",
     "output_type": "stream",
     "text": [
      "2024-02-10 16:31:24,414 - INFO - URL https://www.eversports.de/s/aerial-loft is valid.\n",
      "2024-02-10 16:31:24,415 - INFO - Processing URL 2/4: https://www.eversports.de/sw/aerial-loft\n",
      "2024-02-10 16:31:26,018 - INFO - URL https://www.eversports.de/sw/aerial-loft is valid.\n",
      "2024-02-10 16:31:26,019 - INFO - Processing URL 3/4: https://www.eversports.de/sp/aerial-loft\n",
      "2024-02-10 16:31:27,211 - INFO - URL https://www.eversports.de/sp/aerial-loft is valid.\n",
      "2024-02-10 16:31:27,212 - INFO - Processing URL 4/4: https://www.eversports.de/s/aerial-loft/team\n",
      "2024-02-10 16:31:28,548 - INFO - URL https://www.eversports.de/s/aerial-loft/team is valid.\n"
     ]
    },
    {
     "name": "stdout",
     "output_type": "stream",
     "text": [
      "Scraping Pole Studio Data from https://www.eversports.de/s/aerial-loft...\n",
      "Scraping Workshops Data from https://www.eversports.de/sw/aerial-loft...\n",
      "Scraping Workshop Details from https://www.eversports.de/e/workshop/w5oSMy4...\n",
      "Scraping Workshop Details from https://www.eversports.de/e/workshop/tM6w_bx...\n",
      "Scraping Workshop Details from https://www.eversports.de/e/workshop/Uf4VM65...\n",
      "Scraping Workshop Details from https://www.eversports.de/e/workshop/N4v8WV0...\n",
      "Scraping Workshop Details from https://www.eversports.de/e/workshop/onN7Doj...\n",
      "Scraping Workshop Details from https://www.eversports.de/e/workshop/rhsldmK...\n",
      "Scraping Workshop Details from https://www.eversports.de/e/workshop/9jN2M0O...\n",
      "Scraping Workshop Details from https://www.eversports.de/e/workshop/arPk7c0...\n",
      "Scraping Workshop Details from https://www.eversports.de/e/workshop/r3elm4w...\n"
     ]
    },
    {
     "name": "stderr",
     "output_type": "stream",
     "text": [
      "Processing URLs:  34%|███▍      | 114/337 [11:14<39:17, 10.57s/it, Current URL: https://www.eversports.de/s/aerial-loft]         "
     ]
    },
    {
     "name": "stdout",
     "output_type": "stream",
     "text": [
      "Processing completed.\n",
      "Pole Studio Data: 1 entries\n",
      "Workshops Data: 9 entries\n",
      "Workshop Details: 9 entries\n",
      "Starting URL reconstruction...\n"
     ]
    },
    {
     "name": "stderr",
     "output_type": "stream",
     "text": [
      "2024-02-10 16:31:45,977 - INFO - Processing URL 1/1: https://www.eversports.de/s/soul-flight\n"
     ]
    },
    {
     "name": "stdout",
     "output_type": "stream",
     "text": [
      "Converting to DataFrame...\n",
      "Validating URLs...\n"
     ]
    },
    {
     "name": "stderr",
     "output_type": "stream",
     "text": [
      "2024-02-10 16:31:47,613 - INFO - URL https://www.eversports.de/s/soul-flight is valid.\n"
     ]
    },
    {
     "name": "stdout",
     "output_type": "stream",
     "text": [
      "Scraping Pole Studio Data from https://www.eversports.de/s/soul-flight...\n"
     ]
    },
    {
     "name": "stderr",
     "output_type": "stream",
     "text": [
      "Processing URLs:  34%|███▍      | 115/337 [11:17<31:05,  8.41s/it, Current URL: https://www.eversports.de/s/soul-flight]"
     ]
    },
    {
     "name": "stdout",
     "output_type": "stream",
     "text": [
      "Processing completed.\n",
      "Pole Studio Data: 1 entries\n",
      "Starting URL reconstruction...\n"
     ]
    },
    {
     "name": "stderr",
     "output_type": "stream",
     "text": [
      "2024-02-10 16:31:49,661 - INFO - Processing URL 1/2: https://www.eversports.de/s/annis-pole-dance-uetersen\n"
     ]
    },
    {
     "name": "stdout",
     "output_type": "stream",
     "text": [
      "Error reconstructing URL for 'Trainings': Unrecognized text: 'Trainings'\n",
      "Error reconstructing URL for 'Kurse': Unrecognized text: 'Kurse'\n",
      "Converting to DataFrame...\n",
      "Validating URLs...\n"
     ]
    },
    {
     "name": "stderr",
     "output_type": "stream",
     "text": [
      "2024-02-10 16:31:51,124 - INFO - URL https://www.eversports.de/s/annis-pole-dance-uetersen is valid.\n",
      "2024-02-10 16:31:51,126 - INFO - Processing URL 2/2: https://www.eversports.de/s/annis-pole-dance-uetersen/team\n",
      "2024-02-10 16:31:52,429 - INFO - URL https://www.eversports.de/s/annis-pole-dance-uetersen/team is valid.\n"
     ]
    },
    {
     "name": "stdout",
     "output_type": "stream",
     "text": [
      "Scraping Pole Studio Data from https://www.eversports.de/s/annis-pole-dance-uetersen...\n"
     ]
    },
    {
     "name": "stderr",
     "output_type": "stream",
     "text": [
      "Processing URLs:  34%|███▍      | 116/337 [11:22<26:59,  7.33s/it, Current URL: https://www.eversports.de/s/annis-pole-dance-uetersen]"
     ]
    },
    {
     "name": "stdout",
     "output_type": "stream",
     "text": [
      "Processing completed.\n",
      "Pole Studio Data: 1 entries\n",
      "Starting URL reconstruction...\n"
     ]
    },
    {
     "name": "stderr",
     "output_type": "stream",
     "text": [
      "Processing URLs:  35%|███▍      | 117/337 [11:23<20:06,  5.48s/it, Current URL: https://www.eversports.de/s/dance-&-pole-langenfeld]  "
     ]
    },
    {
     "name": "stdout",
     "output_type": "stream",
     "text": [
      "Error during HTTP request: 404 Client Error: Not Found for url: https://www.eversports.de/s/dance-&-pole-langenfeld\n",
      "Converting to DataFrame...\n",
      "Validating URLs...\n",
      "Processing completed.\n",
      "Starting URL reconstruction...\n"
     ]
    },
    {
     "name": "stderr",
     "output_type": "stream",
     "text": [
      "Processing URLs:  35%|███▌      | 118/337 [11:25<15:47,  4.33s/it, Current URL: https://www.eversports.de/s/metropole-dance-now1]   "
     ]
    },
    {
     "name": "stdout",
     "output_type": "stream",
     "text": [
      "Error during HTTP request: 404 Client Error: Not Found for url: https://www.eversports.de/s/metropole-dance-now1\n",
      "Converting to DataFrame...\n",
      "Validating URLs...\n",
      "Processing completed.\n",
      "Starting URL reconstruction...\n"
     ]
    },
    {
     "name": "stderr",
     "output_type": "stream",
     "text": [
      "2024-02-10 16:31:57,170 - INFO - Processing URL 1/4: https://www.eversports.de/s/stadtgazellen-bremen\n"
     ]
    },
    {
     "name": "stdout",
     "output_type": "stream",
     "text": [
      "Converting to DataFrame...\n",
      "Validating URLs...\n"
     ]
    },
    {
     "name": "stderr",
     "output_type": "stream",
     "text": [
      "2024-02-10 16:31:58,690 - INFO - URL https://www.eversports.de/s/stadtgazellen-bremen is valid.\n",
      "2024-02-10 16:31:58,691 - INFO - Processing URL 2/4: https://www.eversports.de/sw/stadtgazellen-bremen\n",
      "2024-02-10 16:31:59,887 - INFO - URL https://www.eversports.de/sw/stadtgazellen-bremen is valid.\n",
      "2024-02-10 16:31:59,888 - INFO - Processing URL 3/4: https://www.eversports.de/sp/stadtgazellen-bremen\n",
      "2024-02-10 16:32:01,148 - INFO - URL https://www.eversports.de/sp/stadtgazellen-bremen is valid.\n",
      "2024-02-10 16:32:01,149 - INFO - Processing URL 4/4: https://www.eversports.de/s/stadtgazellen-bremen/team\n",
      "2024-02-10 16:32:02,382 - INFO - URL https://www.eversports.de/s/stadtgazellen-bremen/team is valid.\n"
     ]
    },
    {
     "name": "stdout",
     "output_type": "stream",
     "text": [
      "Scraping Pole Studio Data from https://www.eversports.de/s/stadtgazellen-bremen...\n",
      "Scraping Workshops Data from https://www.eversports.de/sw/stadtgazellen-bremen...\n",
      "Scraping Workshop Details from https://www.eversports.de/e/workshop/KWx3LyO...\n",
      "Scraping Workshop Details from https://www.eversports.de/e/workshop/WRl24o5...\n",
      "Scraping Workshop Details from https://www.eversports.de/e/workshop/wrZkEQ3...\n"
     ]
    },
    {
     "name": "stderr",
     "output_type": "stream",
     "text": [
      "Processing URLs:  35%|███▌      | 119/337 [11:38<24:53,  6.85s/it, Current URL: https://www.eversports.de/s/stadtgazellen-bremen]"
     ]
    },
    {
     "name": "stdout",
     "output_type": "stream",
     "text": [
      "Processing completed.\n",
      "Pole Studio Data: 1 entries\n",
      "Workshops Data: 3 entries\n",
      "Workshop Details: 3 entries\n",
      "Starting URL reconstruction...\n"
     ]
    },
    {
     "name": "stderr",
     "output_type": "stream",
     "text": [
      "2024-02-10 16:32:09,905 - INFO - Processing URL 1/3: https://www.eversports.de/s/pole-arts\n"
     ]
    },
    {
     "name": "stdout",
     "output_type": "stream",
     "text": [
      "Error reconstructing URL for 'Kurse': Unrecognized text: 'Kurse'\n",
      "Converting to DataFrame...\n",
      "Validating URLs...\n"
     ]
    },
    {
     "name": "stderr",
     "output_type": "stream",
     "text": [
      "2024-02-10 16:32:11,352 - INFO - URL https://www.eversports.de/s/pole-arts is valid.\n",
      "2024-02-10 16:32:11,353 - INFO - Processing URL 2/3: https://www.eversports.de/sp/pole-arts\n",
      "2024-02-10 16:32:13,713 - INFO - URL https://www.eversports.de/sp/pole-arts is valid.\n",
      "2024-02-10 16:32:13,714 - INFO - Processing URL 3/3: https://www.eversports.de/s/pole-arts/team\n",
      "2024-02-10 16:32:14,997 - INFO - URL https://www.eversports.de/s/pole-arts/team is valid.\n"
     ]
    },
    {
     "name": "stdout",
     "output_type": "stream",
     "text": [
      "Scraping Pole Studio Data from https://www.eversports.de/s/pole-arts...\n"
     ]
    },
    {
     "name": "stderr",
     "output_type": "stream",
     "text": [
      "Processing URLs:  36%|███▌      | 120/337 [11:46<26:42,  7.38s/it, Current URL: https://www.eversports.de/s/pole-arts]           "
     ]
    },
    {
     "name": "stdout",
     "output_type": "stream",
     "text": [
      "Processing completed.\n",
      "Pole Studio Data: 1 entries\n",
      "Starting URL reconstruction...\n"
     ]
    },
    {
     "name": "stderr",
     "output_type": "stream",
     "text": [
      "Processing URLs:  36%|███▌      | 121/337 [11:48<20:35,  5.72s/it, Current URL: https://www.eversports.de/s/polegarage-hagen]"
     ]
    },
    {
     "name": "stdout",
     "output_type": "stream",
     "text": [
      "Error during HTTP request: 404 Client Error: Not Found for url: https://www.eversports.de/s/polegarage-hagen\n",
      "Converting to DataFrame...\n",
      "Validating URLs...\n",
      "Processing completed.\n",
      "Starting URL reconstruction...\n"
     ]
    },
    {
     "name": "stderr",
     "output_type": "stream",
     "text": [
      "2024-02-10 16:32:20,403 - INFO - Processing URL 1/3: https://www.eversports.de/s/flow-fusion-pole-aerial-dance-studio\n"
     ]
    },
    {
     "name": "stdout",
     "output_type": "stream",
     "text": [
      "Converting to DataFrame...\n",
      "Validating URLs...\n"
     ]
    },
    {
     "name": "stderr",
     "output_type": "stream",
     "text": [
      "2024-02-10 16:32:21,755 - INFO - URL https://www.eversports.de/s/flow-fusion-pole-aerial-dance-studio is valid.\n",
      "2024-02-10 16:32:21,756 - INFO - Processing URL 2/3: https://www.eversports.de/sp/flow-fusion-pole-aerial-dance-studio\n",
      "2024-02-10 16:32:23,080 - INFO - URL https://www.eversports.de/sp/flow-fusion-pole-aerial-dance-studio is valid.\n",
      "2024-02-10 16:32:23,081 - INFO - Processing URL 3/3: https://www.eversports.de/s/flow-fusion-pole-aerial-dance-studio/team\n",
      "2024-02-10 16:32:24,364 - INFO - URL https://www.eversports.de/s/flow-fusion-pole-aerial-dance-studio/team is valid.\n"
     ]
    },
    {
     "name": "stdout",
     "output_type": "stream",
     "text": [
      "Scraping Pole Studio Data from https://www.eversports.de/s/flow-fusion-pole-aerial-dance-studio...\n"
     ]
    },
    {
     "name": "stderr",
     "output_type": "stream",
     "text": [
      "Processing URLs:  36%|███▌      | 122/337 [11:54<20:41,  5.77s/it, Current URL: https://www.eversports.de/s/flow-fusion-pole-aerial-dance-studio]"
     ]
    },
    {
     "name": "stdout",
     "output_type": "stream",
     "text": [
      "Processing completed.\n",
      "Pole Studio Data: 1 entries\n",
      "Starting URL reconstruction...\n"
     ]
    },
    {
     "name": "stderr",
     "output_type": "stream",
     "text": [
      "Processing URLs:  36%|███▋      | 123/337 [11:55<15:45,  4.42s/it, Current URL: https://www.eversports.de/s/souldance]                           "
     ]
    },
    {
     "name": "stdout",
     "output_type": "stream",
     "text": [
      "Error during HTTP request: 404 Client Error: Not Found for url: https://www.eversports.de/s/souldance\n",
      "Converting to DataFrame...\n",
      "Validating URLs...\n",
      "Processing completed.\n",
      "Starting URL reconstruction...\n"
     ]
    },
    {
     "name": "stderr",
     "output_type": "stream",
     "text": [
      "Processing URLs:  37%|███▋      | 124/337 [11:57<12:21,  3.48s/it, Current URL: https://www.eversports.de/s/polepoint-dance-studio]"
     ]
    },
    {
     "name": "stdout",
     "output_type": "stream",
     "text": [
      "Error during HTTP request: 404 Client Error: Not Found for url: https://www.eversports.de/s/polepoint-dance-studio\n",
      "Converting to DataFrame...\n",
      "Validating URLs...\n",
      "Processing completed.\n",
      "Starting URL reconstruction...\n"
     ]
    },
    {
     "name": "stderr",
     "output_type": "stream",
     "text": [
      "Processing URLs:  37%|███▋      | 125/337 [11:58<09:51,  2.79s/it, Current URL: https://www.eversports.de/s/pole-dance-studio-waiblingen]"
     ]
    },
    {
     "name": "stdout",
     "output_type": "stream",
     "text": [
      "Error during HTTP request: 404 Client Error: Not Found for url: https://www.eversports.de/s/pole-dance-studio-waiblingen\n",
      "Converting to DataFrame...\n",
      "Validating URLs...\n",
      "Processing completed.\n",
      "Starting URL reconstruction...\n"
     ]
    },
    {
     "name": "stderr",
     "output_type": "stream",
     "text": [
      "2024-02-10 16:32:29,924 - INFO - Processing URL 1/1: https://www.eversports.de/s/poleaddict\n"
     ]
    },
    {
     "name": "stdout",
     "output_type": "stream",
     "text": [
      "Converting to DataFrame...\n",
      "Validating URLs...\n"
     ]
    },
    {
     "name": "stderr",
     "output_type": "stream",
     "text": [
      "2024-02-10 16:32:31,242 - INFO - URL https://www.eversports.de/s/poleaddict is valid.\n"
     ]
    },
    {
     "name": "stdout",
     "output_type": "stream",
     "text": [
      "Scraping Pole Studio Data from https://www.eversports.de/s/poleaddict...\n"
     ]
    },
    {
     "name": "stderr",
     "output_type": "stream",
     "text": [
      "Processing URLs:  37%|███▋      | 126/337 [12:02<11:15,  3.20s/it, Current URL: https://www.eversports.de/s/poleaddict]                  "
     ]
    },
    {
     "name": "stdout",
     "output_type": "stream",
     "text": [
      "Processing completed.\n",
      "Pole Studio Data: 1 entries\n",
      "Starting URL reconstruction...\n"
     ]
    },
    {
     "name": "stderr",
     "output_type": "stream",
     "text": [
      "Processing URLs:  38%|███▊      | 127/337 [12:04<09:32,  2.73s/it, Current URL: https://www.eversports.de/s/pole-circus-a-+-k]"
     ]
    },
    {
     "name": "stdout",
     "output_type": "stream",
     "text": [
      "Error during HTTP request: 404 Client Error: Not Found for url: https://www.eversports.de/s/pole-circus-a-+-k\n",
      "Converting to DataFrame...\n",
      "Validating URLs...\n",
      "Processing completed.\n",
      "Starting URL reconstruction...\n"
     ]
    },
    {
     "name": "stderr",
     "output_type": "stream",
     "text": [
      "2024-02-10 16:32:35,772 - INFO - Processing URL 1/4: https://www.eversports.de/s/polea-pole-and-aerial-dance\n"
     ]
    },
    {
     "name": "stdout",
     "output_type": "stream",
     "text": [
      "Converting to DataFrame...\n",
      "Validating URLs...\n"
     ]
    },
    {
     "name": "stderr",
     "output_type": "stream",
     "text": [
      "2024-02-10 16:32:37,153 - INFO - URL https://www.eversports.de/s/polea-pole-and-aerial-dance is valid.\n",
      "2024-02-10 16:32:37,154 - INFO - Processing URL 2/4: https://www.eversports.de/sw/polea-pole-and-aerial-dance\n",
      "2024-02-10 16:32:38,465 - INFO - URL https://www.eversports.de/sw/polea-pole-and-aerial-dance is valid.\n",
      "2024-02-10 16:32:38,465 - INFO - Processing URL 3/4: https://www.eversports.de/sp/polea-pole-and-aerial-dance\n",
      "2024-02-10 16:32:39,670 - INFO - URL https://www.eversports.de/sp/polea-pole-and-aerial-dance is valid.\n",
      "2024-02-10 16:32:39,671 - INFO - Processing URL 4/4: https://www.eversports.de/s/polea-pole-and-aerial-dance/team\n",
      "2024-02-10 16:32:40,912 - INFO - URL https://www.eversports.de/s/polea-pole-and-aerial-dance/team is valid.\n"
     ]
    },
    {
     "name": "stdout",
     "output_type": "stream",
     "text": [
      "Scraping Pole Studio Data from https://www.eversports.de/s/polea-pole-and-aerial-dance...\n",
      "Scraping Workshops Data from https://www.eversports.de/sw/polea-pole-and-aerial-dance...\n",
      "Scraping Workshop Details from https://www.eversports.de/e/workshop/u3m9tGL...\n",
      "Scraping Workshop Details from https://www.eversports.de/e/workshop/xXl3mKf...\n"
     ]
    },
    {
     "name": "stderr",
     "output_type": "stream",
     "text": [
      "Processing URLs:  38%|███▊      | 128/337 [12:15<18:21,  5.27s/it, Current URL: https://www.eversports.de/s/polea-pole-and-aerial-dance]"
     ]
    },
    {
     "name": "stdout",
     "output_type": "stream",
     "text": [
      "Processing completed.\n",
      "Pole Studio Data: 1 entries\n",
      "Workshops Data: 2 entries\n",
      "Workshop Details: 2 entries\n",
      "Starting URL reconstruction...\n"
     ]
    },
    {
     "name": "stderr",
     "output_type": "stream",
     "text": [
      "Processing URLs:  38%|███▊      | 129/337 [12:16<13:59,  4.04s/it, Current URL: https://www.eversports.de/s/pole-sisters]               "
     ]
    },
    {
     "name": "stdout",
     "output_type": "stream",
     "text": [
      "Error during HTTP request: 404 Client Error: Not Found for url: https://www.eversports.de/s/pole-sisters\n",
      "Converting to DataFrame...\n",
      "Validating URLs...\n",
      "Processing completed.\n",
      "Starting URL reconstruction...\n"
     ]
    },
    {
     "name": "stderr",
     "output_type": "stream",
     "text": [
      "Processing URLs:  39%|███▊      | 130/337 [12:17<10:54,  3.16s/it, Current URL: https://www.eversports.de/s/activo-polefitness]"
     ]
    },
    {
     "name": "stdout",
     "output_type": "stream",
     "text": [
      "Error during HTTP request: 404 Client Error: Not Found for url: https://www.eversports.de/s/activo-polefitness\n",
      "Converting to DataFrame...\n",
      "Validating URLs...\n",
      "Processing completed.\n",
      "Starting URL reconstruction...\n"
     ]
    },
    {
     "name": "stderr",
     "output_type": "stream",
     "text": [
      "2024-02-10 16:32:49,154 - INFO - Processing URL 1/3: https://www.eversports.de/s/-pole-aerial-dance-souldance\n"
     ]
    },
    {
     "name": "stdout",
     "output_type": "stream",
     "text": [
      "Converting to DataFrame...\n",
      "Validating URLs...\n"
     ]
    },
    {
     "name": "stderr",
     "output_type": "stream",
     "text": [
      "2024-02-10 16:32:50,904 - INFO - URL https://www.eversports.de/s/-pole-aerial-dance-souldance is valid.\n",
      "2024-02-10 16:32:50,906 - INFO - Processing URL 2/3: https://www.eversports.de/sp/-pole-aerial-dance-souldance\n",
      "2024-02-10 16:32:52,162 - INFO - URL https://www.eversports.de/sp/-pole-aerial-dance-souldance is valid.\n",
      "2024-02-10 16:32:52,163 - INFO - Processing URL 3/3: https://www.eversports.de/s/-pole-aerial-dance-souldance/team\n",
      "2024-02-10 16:32:53,444 - INFO - URL https://www.eversports.de/s/-pole-aerial-dance-souldance/team is valid.\n"
     ]
    },
    {
     "name": "stdout",
     "output_type": "stream",
     "text": [
      "Scraping Pole Studio Data from https://www.eversports.de/s/-pole-aerial-dance-souldance...\n"
     ]
    },
    {
     "name": "stderr",
     "output_type": "stream",
     "text": [
      "Processing URLs:  39%|███▉      | 131/337 [12:23<13:53,  4.04s/it, Current URL: https://www.eversports.de/s/-pole-aerial-dance-souldance]"
     ]
    },
    {
     "name": "stdout",
     "output_type": "stream",
     "text": [
      "Processing completed.\n",
      "Pole Studio Data: 1 entries\n",
      "Starting URL reconstruction...\n"
     ]
    },
    {
     "name": "stderr",
     "output_type": "stream",
     "text": [
      "Processing URLs:  39%|███▉      | 132/337 [12:24<10:47,  3.16s/it, Current URL: https://www.eversports.de/s/dayuma-pole-&-acrobatics]    "
     ]
    },
    {
     "name": "stdout",
     "output_type": "stream",
     "text": [
      "Error during HTTP request: 404 Client Error: Not Found for url: https://www.eversports.de/s/dayuma-pole-&-acrobatics\n",
      "Converting to DataFrame...\n",
      "Validating URLs...\n",
      "Processing completed.\n",
      "Starting URL reconstruction...\n"
     ]
    },
    {
     "name": "stderr",
     "output_type": "stream",
     "text": [
      "2024-02-10 16:32:56,211 - INFO - Processing URL 1/1: https://www.eversports.de/s/pole-flow-berlin\n"
     ]
    },
    {
     "name": "stdout",
     "output_type": "stream",
     "text": [
      "Converting to DataFrame...\n",
      "Validating URLs...\n"
     ]
    },
    {
     "name": "stderr",
     "output_type": "stream",
     "text": [
      "2024-02-10 16:32:57,570 - INFO - URL https://www.eversports.de/s/pole-flow-berlin is valid.\n"
     ]
    },
    {
     "name": "stdout",
     "output_type": "stream",
     "text": [
      "Scraping Pole Studio Data from https://www.eversports.de/s/pole-flow-berlin...\n"
     ]
    },
    {
     "name": "stderr",
     "output_type": "stream",
     "text": [
      "Processing URLs:  39%|███▉      | 133/337 [12:27<10:28,  3.08s/it, Current URL: https://www.eversports.de/s/pole-flow-berlin]        "
     ]
    },
    {
     "name": "stdout",
     "output_type": "stream",
     "text": [
      "Processing completed.\n",
      "Pole Studio Data: 1 entries\n",
      "Starting URL reconstruction...\n"
     ]
    },
    {
     "name": "stderr",
     "output_type": "stream",
     "text": [
      "Processing URLs:  40%|███▉      | 134/337 [12:28<08:30,  2.52s/it, Current URL: https://www.eversports.de/s/aerial-art-poledance-country-base]"
     ]
    },
    {
     "name": "stdout",
     "output_type": "stream",
     "text": [
      "Error during HTTP request: 404 Client Error: Not Found for url: https://www.eversports.de/s/aerial-art-poledance-country-base\n",
      "Converting to DataFrame...\n",
      "Validating URLs...\n",
      "Processing completed.\n",
      "Starting URL reconstruction...\n"
     ]
    },
    {
     "name": "stderr",
     "output_type": "stream",
     "text": [
      "2024-02-10 16:33:00,408 - INFO - Processing URL 1/1: https://www.eversports.de/s/pole-circus\n"
     ]
    },
    {
     "name": "stdout",
     "output_type": "stream",
     "text": [
      "Converting to DataFrame...\n",
      "Validating URLs...\n"
     ]
    },
    {
     "name": "stderr",
     "output_type": "stream",
     "text": [
      "2024-02-10 16:33:01,698 - INFO - URL https://www.eversports.de/s/pole-circus is valid.\n"
     ]
    },
    {
     "name": "stdout",
     "output_type": "stream",
     "text": [
      "Scraping Pole Studio Data from https://www.eversports.de/s/pole-circus...\n"
     ]
    },
    {
     "name": "stderr",
     "output_type": "stream",
     "text": [
      "Processing URLs:  40%|████      | 135/337 [12:31<08:54,  2.64s/it, Current URL: https://www.eversports.de/s/pole-circus]                      "
     ]
    },
    {
     "name": "stdout",
     "output_type": "stream",
     "text": [
      "Processing completed.\n",
      "Pole Studio Data: 1 entries\n",
      "Starting URL reconstruction...\n"
     ]
    },
    {
     "name": "stderr",
     "output_type": "stream",
     "text": [
      "Processing URLs:  40%|████      | 136/337 [12:33<07:22,  2.20s/it, Current URL: https://www.eversports.de/s/poledance-worms]"
     ]
    },
    {
     "name": "stdout",
     "output_type": "stream",
     "text": [
      "Error during HTTP request: 404 Client Error: Not Found for url: https://www.eversports.de/s/poledance-worms\n",
      "Converting to DataFrame...\n",
      "Validating URLs...\n",
      "Processing completed.\n",
      "Starting URL reconstruction...\n"
     ]
    },
    {
     "name": "stderr",
     "output_type": "stream",
     "text": [
      "Processing URLs:  41%|████      | 137/337 [12:34<06:20,  1.90s/it, Current URL: https://www.eversports.de/s/infinity-polesports-burgkirchen]"
     ]
    },
    {
     "name": "stdout",
     "output_type": "stream",
     "text": [
      "Error during HTTP request: 404 Client Error: Not Found for url: https://www.eversports.de/s/infinity-polesports-burgkirchen\n",
      "Converting to DataFrame...\n",
      "Validating URLs...\n",
      "Processing completed.\n",
      "Starting URL reconstruction...\n"
     ]
    },
    {
     "name": "stderr",
     "output_type": "stream",
     "text": [
      "Processing URLs:  41%|████      | 138/337 [12:36<06:52,  2.07s/it, Current URL: https://www.eversports.de/s/poleplace]                      "
     ]
    },
    {
     "name": "stdout",
     "output_type": "stream",
     "text": [
      "Error during HTTP request: 404 Client Error: Not Found for url: https://www.eversports.de/s/poleplace\n",
      "Converting to DataFrame...\n",
      "Validating URLs...\n",
      "Processing completed.\n",
      "Starting URL reconstruction...\n"
     ]
    },
    {
     "name": "stderr",
     "output_type": "stream",
     "text": [
      "Processing URLs:  41%|████      | 139/337 [12:38<06:49,  2.07s/it, Current URL: https://www.eversports.de/s/pole-shape-studio]"
     ]
    },
    {
     "name": "stdout",
     "output_type": "stream",
     "text": [
      "Error during HTTP request: 404 Client Error: Not Found for url: https://www.eversports.de/s/pole-shape-studio\n",
      "Converting to DataFrame...\n",
      "Validating URLs...\n",
      "Processing completed.\n",
      "Starting URL reconstruction...\n"
     ]
    },
    {
     "name": "stderr",
     "output_type": "stream",
     "text": [
      "Processing URLs:  42%|████▏     | 140/337 [12:40<06:05,  1.86s/it, Current URL: https://www.eversports.de/s/polemotions]      "
     ]
    },
    {
     "name": "stdout",
     "output_type": "stream",
     "text": [
      "Error during HTTP request: 404 Client Error: Not Found for url: https://www.eversports.de/s/polemotions\n",
      "Converting to DataFrame...\n",
      "Validating URLs...\n",
      "Processing completed.\n",
      "Starting URL reconstruction...\n"
     ]
    },
    {
     "name": "stderr",
     "output_type": "stream",
     "text": [
      "2024-02-10 16:33:11,635 - INFO - Processing URL 1/4: https://www.eversports.de/s/move-on-dance-studio-and-polemotions\n"
     ]
    },
    {
     "name": "stdout",
     "output_type": "stream",
     "text": [
      "Error reconstructing URL for 'Kurse': Unrecognized text: 'Kurse'\n",
      "Converting to DataFrame...\n",
      "Validating URLs...\n"
     ]
    },
    {
     "name": "stderr",
     "output_type": "stream",
     "text": [
      "2024-02-10 16:33:13,011 - INFO - URL https://www.eversports.de/s/move-on-dance-studio-and-polemotions is valid.\n",
      "2024-02-10 16:33:13,013 - INFO - Processing URL 2/4: https://www.eversports.de/sw/move-on-dance-studio-and-polemotions\n",
      "2024-02-10 16:33:14,205 - INFO - URL https://www.eversports.de/sw/move-on-dance-studio-and-polemotions is valid.\n",
      "2024-02-10 16:33:14,206 - INFO - Processing URL 3/4: https://www.eversports.de/sp/move-on-dance-studio-and-polemotions\n",
      "2024-02-10 16:33:15,521 - INFO - URL https://www.eversports.de/sp/move-on-dance-studio-and-polemotions is valid.\n",
      "2024-02-10 16:33:15,523 - INFO - Processing URL 4/4: https://www.eversports.de/s/move-on-dance-studio-and-polemotions/team\n",
      "2024-02-10 16:33:17,227 - INFO - URL https://www.eversports.de/s/move-on-dance-studio-and-polemotions/team is valid.\n"
     ]
    },
    {
     "name": "stdout",
     "output_type": "stream",
     "text": [
      "Scraping Pole Studio Data from https://www.eversports.de/s/move-on-dance-studio-and-polemotions...\n",
      "Scraping Workshops Data from https://www.eversports.de/sw/move-on-dance-studio-and-polemotions...\n",
      "Scraping Workshop Details from https://www.eversports.de/e/workshop/1i9L-3q...\n"
     ]
    },
    {
     "name": "stderr",
     "output_type": "stream",
     "text": [
      "Processing URLs:  42%|████▏     | 141/337 [12:50<14:49,  4.54s/it, Current URL: https://www.eversports.de/s/move-on-dance-studio-and-polemotions]"
     ]
    },
    {
     "name": "stdout",
     "output_type": "stream",
     "text": [
      "Processing completed.\n",
      "Pole Studio Data: 1 entries\n",
      "Workshops Data: 1 entries\n",
      "Workshop Details: 1 entries\n",
      "Starting URL reconstruction...\n"
     ]
    },
    {
     "name": "stderr",
     "output_type": "stream",
     "text": [
      "2024-02-10 16:33:22,306 - INFO - Processing URL 1/4: https://www.eversports.de/s/polespirit\n"
     ]
    },
    {
     "name": "stdout",
     "output_type": "stream",
     "text": [
      "Converting to DataFrame...\n",
      "Validating URLs...\n"
     ]
    },
    {
     "name": "stderr",
     "output_type": "stream",
     "text": [
      "2024-02-10 16:33:23,628 - INFO - URL https://www.eversports.de/s/polespirit is valid.\n",
      "2024-02-10 16:33:23,629 - INFO - Processing URL 2/4: https://www.eversports.de/sw/polespirit\n",
      "2024-02-10 16:33:24,797 - INFO - URL https://www.eversports.de/sw/polespirit is valid.\n",
      "2024-02-10 16:33:24,798 - INFO - Processing URL 3/4: https://www.eversports.de/sp/polespirit\n",
      "2024-02-10 16:33:26,046 - INFO - URL https://www.eversports.de/sp/polespirit is valid.\n",
      "2024-02-10 16:33:26,047 - INFO - Processing URL 4/4: https://www.eversports.de/s/polespirit/team\n",
      "2024-02-10 16:33:27,337 - INFO - URL https://www.eversports.de/s/polespirit/team is valid.\n"
     ]
    },
    {
     "name": "stdout",
     "output_type": "stream",
     "text": [
      "Scraping Pole Studio Data from https://www.eversports.de/s/polespirit...\n",
      "Scraping Workshops Data from https://www.eversports.de/sw/polespirit...\n",
      "Scraping Workshop Details from https://www.eversports.de/e/workshop/xUH0CLo...\n",
      "Scraping Workshop Details from https://www.eversports.de/e/workshop/GpBpifi...\n"
     ]
    },
    {
     "name": "stderr",
     "output_type": "stream",
     "text": [
      "Processing URLs:  42%|████▏     | 142/337 [13:02<21:21,  6.57s/it, Current URL: https://www.eversports.de/s/polespirit]                          "
     ]
    },
    {
     "name": "stdout",
     "output_type": "stream",
     "text": [
      "Processing completed.\n",
      "Pole Studio Data: 1 entries\n",
      "Workshops Data: 2 entries\n",
      "Workshop Details: 2 entries\n",
      "Starting URL reconstruction...\n"
     ]
    },
    {
     "name": "stderr",
     "output_type": "stream",
     "text": [
      "Processing URLs:  42%|████▏     | 143/337 [13:04<17:09,  5.31s/it, Current URL: https://www.eversports.de/s/pole-emotion-bremerhaven]"
     ]
    },
    {
     "name": "stdout",
     "output_type": "stream",
     "text": [
      "Error during HTTP request: 404 Client Error: Not Found for url: https://www.eversports.de/s/pole-emotion-bremerhaven\n",
      "Converting to DataFrame...\n",
      "Validating URLs...\n",
      "Processing completed.\n",
      "Starting URL reconstruction...\n"
     ]
    },
    {
     "name": "stderr",
     "output_type": "stream",
     "text": [
      "2024-02-10 16:33:36,087 - INFO - Processing URL 1/3: https://www.eversports.de/s/polefly-academy\n"
     ]
    },
    {
     "name": "stdout",
     "output_type": "stream",
     "text": [
      "Converting to DataFrame...\n",
      "Validating URLs...\n"
     ]
    },
    {
     "name": "stderr",
     "output_type": "stream",
     "text": [
      "2024-02-10 16:33:37,355 - INFO - URL https://www.eversports.de/s/polefly-academy is valid.\n",
      "2024-02-10 16:33:37,355 - INFO - Processing URL 2/3: https://www.eversports.de/sp/polefly-academy\n",
      "2024-02-10 16:33:38,584 - INFO - URL https://www.eversports.de/sp/polefly-academy is valid.\n",
      "2024-02-10 16:33:38,585 - INFO - Processing URL 3/3: https://www.eversports.de/s/polefly-academy/team\n",
      "2024-02-10 16:33:39,832 - INFO - URL https://www.eversports.de/s/polefly-academy/team is valid.\n"
     ]
    },
    {
     "name": "stdout",
     "output_type": "stream",
     "text": [
      "Scraping Pole Studio Data from https://www.eversports.de/s/polefly-academy...\n"
     ]
    },
    {
     "name": "stderr",
     "output_type": "stream",
     "text": [
      "Processing URLs:  43%|████▎     | 144/337 [13:10<17:58,  5.59s/it, Current URL: https://www.eversports.de/s/polefly-academy]         "
     ]
    },
    {
     "name": "stdout",
     "output_type": "stream",
     "text": [
      "Processing completed.\n",
      "Pole Studio Data: 1 entries\n",
      "Starting URL reconstruction...\n"
     ]
    },
    {
     "name": "stderr",
     "output_type": "stream",
     "text": [
      "Processing URLs:  43%|████▎     | 145/337 [13:12<13:41,  4.28s/it, Current URL: https://www.eversports.de/s/empire-pole]    "
     ]
    },
    {
     "name": "stdout",
     "output_type": "stream",
     "text": [
      "Error during HTTP request: 404 Client Error: Not Found for url: https://www.eversports.de/s/empire-pole\n",
      "Converting to DataFrame...\n",
      "Validating URLs...\n",
      "Processing completed.\n",
      "Starting URL reconstruction...\n"
     ]
    },
    {
     "name": "stderr",
     "output_type": "stream",
     "text": [
      "Processing URLs:  43%|████▎     | 146/337 [13:14<11:39,  3.66s/it, Current URL: https://www.eversports.de/s/pole-for-soul]"
     ]
    },
    {
     "name": "stdout",
     "output_type": "stream",
     "text": [
      "Error during HTTP request: 404 Client Error: Not Found for url: https://www.eversports.de/s/pole-for-soul\n",
      "Converting to DataFrame...\n",
      "Validating URLs...\n",
      "Processing completed.\n",
      "Starting URL reconstruction...\n"
     ]
    },
    {
     "name": "stderr",
     "output_type": "stream",
     "text": [
      "Processing URLs:  44%|████▎     | 147/337 [13:15<09:35,  3.03s/it, Current URL: https://www.eversports.de/s/poledancestar-leipzig]"
     ]
    },
    {
     "name": "stdout",
     "output_type": "stream",
     "text": [
      "Error during HTTP request: 404 Client Error: Not Found for url: https://www.eversports.de/s/poledancestar-leipzig\n",
      "Converting to DataFrame...\n",
      "Validating URLs...\n",
      "Processing completed.\n",
      "Starting URL reconstruction...\n"
     ]
    },
    {
     "name": "stderr",
     "output_type": "stream",
     "text": [
      "2024-02-10 16:33:47,827 - INFO - Processing URL 1/3: https://www.eversports.de/s/pole-and-move-online-studio\n"
     ]
    },
    {
     "name": "stdout",
     "output_type": "stream",
     "text": [
      "Converting to DataFrame...\n",
      "Validating URLs...\n"
     ]
    },
    {
     "name": "stderr",
     "output_type": "stream",
     "text": [
      "2024-02-10 16:33:49,158 - INFO - URL https://www.eversports.de/s/pole-and-move-online-studio is valid.\n",
      "2024-02-10 16:33:49,159 - INFO - Processing URL 2/3: https://www.eversports.de/sp/pole-and-move-online-studio\n",
      "2024-02-10 16:33:52,722 - INFO - URL https://www.eversports.de/sp/pole-and-move-online-studio is valid.\n",
      "2024-02-10 16:33:52,723 - INFO - Processing URL 3/3: https://www.eversports.de/s/pole-and-move-online-studio/team\n",
      "2024-02-10 16:33:54,046 - INFO - URL https://www.eversports.de/s/pole-and-move-online-studio/team is valid.\n"
     ]
    },
    {
     "name": "stdout",
     "output_type": "stream",
     "text": [
      "Scraping Pole Studio Data from https://www.eversports.de/s/pole-and-move-online-studio...\n"
     ]
    },
    {
     "name": "stderr",
     "output_type": "stream",
     "text": [
      "Processing URLs:  44%|████▍     | 148/337 [13:24<14:41,  4.66s/it, Current URL: https://www.eversports.de/s/pole-and-move-online-studio]"
     ]
    },
    {
     "name": "stdout",
     "output_type": "stream",
     "text": [
      "Processing completed.\n",
      "Pole Studio Data: 1 entries\n",
      "Starting URL reconstruction...\n"
     ]
    },
    {
     "name": "stderr",
     "output_type": "stream",
     "text": [
      "2024-02-10 16:33:55,861 - INFO - Processing URL 1/4: https://www.eversports.de/s/pole-land\n"
     ]
    },
    {
     "name": "stdout",
     "output_type": "stream",
     "text": [
      "Error reconstructing URL for 'Events': Unrecognized text: 'Events'\n",
      "Converting to DataFrame...\n",
      "Validating URLs...\n"
     ]
    },
    {
     "name": "stderr",
     "output_type": "stream",
     "text": [
      "2024-02-10 16:33:57,313 - INFO - URL https://www.eversports.de/s/pole-land is valid.\n",
      "2024-02-10 16:33:57,314 - INFO - Processing URL 2/4: https://www.eversports.de/sw/pole-land\n",
      "2024-02-10 16:33:58,634 - INFO - URL https://www.eversports.de/sw/pole-land is valid.\n",
      "2024-02-10 16:33:58,635 - INFO - Processing URL 3/4: https://www.eversports.de/sp/pole-land\n",
      "2024-02-10 16:33:59,802 - INFO - URL https://www.eversports.de/sp/pole-land is valid.\n",
      "2024-02-10 16:33:59,802 - INFO - Processing URL 4/4: https://www.eversports.de/s/pole-land/team\n",
      "2024-02-10 16:34:01,238 - INFO - URL https://www.eversports.de/s/pole-land/team is valid.\n"
     ]
    },
    {
     "name": "stdout",
     "output_type": "stream",
     "text": [
      "Scraping Pole Studio Data from https://www.eversports.de/s/pole-land...\n",
      "Scraping Workshops Data from https://www.eversports.de/sw/pole-land...\n",
      "Scraping Workshop Details from https://www.eversports.de/e/workshop/ezegoNQ...\n",
      "Scraping Workshop Details from https://www.eversports.de/e/workshop/S8noX1Z...\n",
      "Scraping Workshop Details from https://www.eversports.de/e/workshop/WccIM2q...\n",
      "Scraping Workshop Details from https://www.eversports.de/e/workshop/SqEYfO3...\n",
      "Scraping Workshop Details from https://www.eversports.de/e/workshop/OGUBUS8...\n",
      "Scraping Workshop Details from https://www.eversports.de/e/workshop/VVXdiD8...\n"
     ]
    },
    {
     "name": "stderr",
     "output_type": "stream",
     "text": [
      "Processing URLs:  44%|████▍     | 149/337 [13:41<26:15,  8.38s/it, Current URL: https://www.eversports.de/s/pole-land]                  "
     ]
    },
    {
     "name": "stdout",
     "output_type": "stream",
     "text": [
      "Processing completed.\n",
      "Pole Studio Data: 1 entries\n",
      "Workshops Data: 6 entries\n",
      "Workshop Details: 6 entries\n",
      "Starting URL reconstruction...\n"
     ]
    },
    {
     "name": "stderr",
     "output_type": "stream",
     "text": [
      "2024-02-10 16:34:12,768 - INFO - Processing URL 1/1: https://www.eversports.de/s/poledance-area\n"
     ]
    },
    {
     "name": "stdout",
     "output_type": "stream",
     "text": [
      "Converting to DataFrame...\n",
      "Validating URLs...\n"
     ]
    },
    {
     "name": "stderr",
     "output_type": "stream",
     "text": [
      "2024-02-10 16:34:14,102 - INFO - URL https://www.eversports.de/s/poledance-area is valid.\n"
     ]
    },
    {
     "name": "stdout",
     "output_type": "stream",
     "text": [
      "Scraping Pole Studio Data from https://www.eversports.de/s/poledance-area...\n"
     ]
    },
    {
     "name": "stderr",
     "output_type": "stream",
     "text": [
      "Processing URLs:  45%|████▍     | 150/337 [13:45<22:07,  7.10s/it, Current URL: https://www.eversports.de/s/poledance-area]"
     ]
    },
    {
     "name": "stdout",
     "output_type": "stream",
     "text": [
      "Processing completed.\n",
      "Pole Studio Data: 1 entries\n",
      "Starting URL reconstruction...\n"
     ]
    },
    {
     "name": "stderr",
     "output_type": "stream",
     "text": [
      "Processing URLs:  45%|████▍     | 151/337 [13:47<17:14,  5.56s/it, Current URL: https://www.eversports.de/s/polemagique]   "
     ]
    },
    {
     "name": "stdout",
     "output_type": "stream",
     "text": [
      "Error during HTTP request: 404 Client Error: Not Found for url: https://www.eversports.de/s/polemagique\n",
      "Converting to DataFrame...\n",
      "Validating URLs...\n",
      "Processing completed.\n",
      "Starting URL reconstruction...\n"
     ]
    },
    {
     "name": "stderr",
     "output_type": "stream",
     "text": [
      "2024-02-10 16:34:18,901 - INFO - Processing URL 1/3: https://www.eversports.de/s/feel-good-factory-pole-stretch-fly\n"
     ]
    },
    {
     "name": "stdout",
     "output_type": "stream",
     "text": [
      "Error reconstructing URL for 'Kurse': Unrecognized text: 'Kurse'\n",
      "Error reconstructing URL for 'Events': Unrecognized text: 'Events'\n",
      "Converting to DataFrame...\n",
      "Validating URLs...\n"
     ]
    },
    {
     "name": "stderr",
     "output_type": "stream",
     "text": [
      "2024-02-10 16:34:21,452 - INFO - URL https://www.eversports.de/s/feel-good-factory-pole-stretch-fly is valid.\n",
      "2024-02-10 16:34:21,453 - INFO - Processing URL 2/3: https://www.eversports.de/sp/feel-good-factory-pole-stretch-fly\n",
      "2024-02-10 16:34:22,695 - INFO - URL https://www.eversports.de/sp/feel-good-factory-pole-stretch-fly is valid.\n",
      "2024-02-10 16:34:22,696 - INFO - Processing URL 3/3: https://www.eversports.de/s/feel-good-factory-pole-stretch-fly/team\n",
      "2024-02-10 16:34:24,928 - INFO - URL https://www.eversports.de/s/feel-good-factory-pole-stretch-fly/team is valid.\n"
     ]
    },
    {
     "name": "stdout",
     "output_type": "stream",
     "text": [
      "Scraping Pole Studio Data from https://www.eversports.de/s/feel-good-factory-pole-stretch-fly...\n"
     ]
    },
    {
     "name": "stderr",
     "output_type": "stream",
     "text": [
      "Processing URLs:  45%|████▌     | 152/337 [13:55<19:08,  6.21s/it, Current URL: https://www.eversports.de/s/feel-good-factory-pole-stretch-fly]"
     ]
    },
    {
     "name": "stdout",
     "output_type": "stream",
     "text": [
      "Processing completed.\n",
      "Pole Studio Data: 1 entries\n",
      "Starting URL reconstruction...\n"
     ]
    },
    {
     "name": "stderr",
     "output_type": "stream",
     "text": [
      "2024-02-10 16:34:26,562 - INFO - Processing URL 1/1: https://www.eversports.de/s/a-heart-for-poledance\n"
     ]
    },
    {
     "name": "stdout",
     "output_type": "stream",
     "text": [
      "Converting to DataFrame...\n",
      "Validating URLs...\n"
     ]
    },
    {
     "name": "stderr",
     "output_type": "stream",
     "text": [
      "2024-02-10 16:34:27,771 - INFO - URL https://www.eversports.de/s/a-heart-for-poledance is valid.\n"
     ]
    },
    {
     "name": "stdout",
     "output_type": "stream",
     "text": [
      "Scraping Pole Studio Data from https://www.eversports.de/s/a-heart-for-poledance...\n"
     ]
    },
    {
     "name": "stderr",
     "output_type": "stream",
     "text": [
      "Processing URLs:  45%|████▌     | 153/337 [13:57<15:52,  5.17s/it, Current URL: https://www.eversports.de/s/a-heart-for-poledance]             "
     ]
    },
    {
     "name": "stdout",
     "output_type": "stream",
     "text": [
      "Processing completed.\n",
      "Pole Studio Data: 1 entries\n",
      "Starting URL reconstruction...\n"
     ]
    },
    {
     "name": "stderr",
     "output_type": "stream",
     "text": [
      "Processing URLs:  46%|████▌     | 154/337 [13:59<12:04,  3.96s/it, Current URL: https://www.eversports.de/s/divas-dance-studio]   "
     ]
    },
    {
     "name": "stdout",
     "output_type": "stream",
     "text": [
      "Error during HTTP request: 404 Client Error: Not Found for url: https://www.eversports.de/s/divas-dance-studio\n",
      "Converting to DataFrame...\n",
      "Validating URLs...\n",
      "Processing completed.\n",
      "Starting URL reconstruction...\n"
     ]
    },
    {
     "name": "stderr",
     "output_type": "stream",
     "text": [
      "2024-02-10 16:34:30,503 - INFO - Processing URL 1/3: https://www.eversports.de/s/flow-academy\n"
     ]
    },
    {
     "name": "stdout",
     "output_type": "stream",
     "text": [
      "Converting to DataFrame...\n",
      "Validating URLs...\n"
     ]
    },
    {
     "name": "stderr",
     "output_type": "stream",
     "text": [
      "2024-02-10 16:34:31,722 - INFO - URL https://www.eversports.de/s/flow-academy is valid.\n",
      "2024-02-10 16:34:31,723 - INFO - Processing URL 2/3: https://www.eversports.de/sp/flow-academy\n",
      "2024-02-10 16:34:32,866 - INFO - URL https://www.eversports.de/sp/flow-academy is valid.\n",
      "2024-02-10 16:34:32,867 - INFO - Processing URL 3/3: https://www.eversports.de/s/flow-academy/team\n",
      "2024-02-10 16:34:34,095 - INFO - URL https://www.eversports.de/s/flow-academy/team is valid.\n"
     ]
    },
    {
     "name": "stdout",
     "output_type": "stream",
     "text": [
      "Scraping Pole Studio Data from https://www.eversports.de/s/flow-academy...\n"
     ]
    },
    {
     "name": "stderr",
     "output_type": "stream",
     "text": [
      "Processing URLs:  46%|████▌     | 155/337 [14:04<13:19,  4.39s/it, Current URL: https://www.eversports.de/s/flow-academy]      "
     ]
    },
    {
     "name": "stdout",
     "output_type": "stream",
     "text": [
      "Processing completed.\n",
      "Pole Studio Data: 1 entries\n",
      "Starting URL reconstruction...\n"
     ]
    },
    {
     "name": "stderr",
     "output_type": "stream",
     "text": [
      "Processing URLs:  46%|████▋     | 156/337 [14:05<10:33,  3.50s/it, Current URL: https://www.eversports.de/s/dalibravita] "
     ]
    },
    {
     "name": "stdout",
     "output_type": "stream",
     "text": [
      "Error during HTTP request: 404 Client Error: Not Found for url: https://www.eversports.de/s/dalibravita\n",
      "Converting to DataFrame...\n",
      "Validating URLs...\n",
      "Processing completed.\n",
      "Starting URL reconstruction...\n"
     ]
    },
    {
     "name": "stderr",
     "output_type": "stream",
     "text": [
      "Processing URLs:  47%|████▋     | 157/337 [14:07<08:26,  2.82s/it, Current URL: https://www.eversports.de/s/pole-fit-plauen]"
     ]
    },
    {
     "name": "stdout",
     "output_type": "stream",
     "text": [
      "Error during HTTP request: 404 Client Error: Not Found for url: https://www.eversports.de/s/pole-fit-plauen\n",
      "Converting to DataFrame...\n",
      "Validating URLs...\n",
      "Processing completed.\n",
      "Starting URL reconstruction...\n"
     ]
    },
    {
     "name": "stderr",
     "output_type": "stream",
     "text": [
      "Processing URLs:  47%|████▋     | 158/337 [14:08<06:57,  2.34s/it, Current URL: https://www.eversports.de/s/pole-fun-wehr]  "
     ]
    },
    {
     "name": "stdout",
     "output_type": "stream",
     "text": [
      "Error during HTTP request: 404 Client Error: Not Found for url: https://www.eversports.de/s/pole-fun-wehr\n",
      "Converting to DataFrame...\n",
      "Validating URLs...\n",
      "Processing completed.\n",
      "Starting URL reconstruction...\n"
     ]
    },
    {
     "name": "stderr",
     "output_type": "stream",
     "text": [
      "Processing URLs:  47%|████▋     | 159/337 [14:10<06:43,  2.26s/it, Current URL: https://www.eversports.de/s/pole.physio-eppelheim]"
     ]
    },
    {
     "name": "stdout",
     "output_type": "stream",
     "text": [
      "Error during HTTP request: 404 Client Error: Not Found for url: https://www.eversports.de/s/pole.physio-eppelheim\n",
      "Converting to DataFrame...\n",
      "Validating URLs...\n",
      "Processing completed.\n",
      "Starting URL reconstruction...\n"
     ]
    },
    {
     "name": "stderr",
     "output_type": "stream",
     "text": [
      "2024-02-10 16:34:42,098 - INFO - Processing URL 1/3: https://www.eversports.de/s/loft1-basel-city\n"
     ]
    },
    {
     "name": "stdout",
     "output_type": "stream",
     "text": [
      "Converting to DataFrame...\n",
      "Validating URLs...\n"
     ]
    },
    {
     "name": "stderr",
     "output_type": "stream",
     "text": [
      "2024-02-10 16:34:43,434 - INFO - URL https://www.eversports.de/s/loft1-basel-city is valid.\n",
      "2024-02-10 16:34:43,436 - INFO - Processing URL 2/3: https://www.eversports.de/sp/loft1-basel-city\n",
      "2024-02-10 16:34:44,667 - INFO - URL https://www.eversports.de/sp/loft1-basel-city is not valid.\n",
      "2024-02-10 16:34:44,669 - INFO - Processing URL 3/3: https://www.eversports.de/s/loft1-basel-city/team\n",
      "2024-02-10 16:34:45,890 - INFO - URL https://www.eversports.de/s/loft1-basel-city/team is valid.\n"
     ]
    },
    {
     "name": "stdout",
     "output_type": "stream",
     "text": [
      "Scraping Pole Studio Data from https://www.eversports.de/s/loft1-basel-city...\n"
     ]
    },
    {
     "name": "stderr",
     "output_type": "stream",
     "text": [
      "Processing URLs:  47%|████▋     | 160/337 [14:16<09:47,  3.32s/it, Current URL: https://www.eversports.de/s/loft1-basel-city]     "
     ]
    },
    {
     "name": "stdout",
     "output_type": "stream",
     "text": [
      "Processing completed.\n",
      "Pole Studio Data: 1 entries\n",
      "Starting URL reconstruction...\n"
     ]
    },
    {
     "name": "stderr",
     "output_type": "stream",
     "text": [
      "Processing URLs:  48%|████▊     | 161/337 [14:17<07:55,  2.70s/it, Current URL: https://www.eversports.de/s/move-with-ana]   "
     ]
    },
    {
     "name": "stdout",
     "output_type": "stream",
     "text": [
      "Error during HTTP request: 404 Client Error: Not Found for url: https://www.eversports.de/s/move-with-ana\n",
      "Converting to DataFrame...\n",
      "Validating URLs...\n",
      "Processing completed.\n",
      "Starting URL reconstruction...\n"
     ]
    },
    {
     "name": "stderr",
     "output_type": "stream",
     "text": [
      "2024-02-10 16:34:48,990 - INFO - Processing URL 1/4: https://www.eversports.de/s/pure-motion-kiel\n"
     ]
    },
    {
     "name": "stdout",
     "output_type": "stream",
     "text": [
      "Error reconstructing URL for 'Kurse': Unrecognized text: 'Kurse'\n",
      "Converting to DataFrame...\n",
      "Validating URLs...\n"
     ]
    },
    {
     "name": "stderr",
     "output_type": "stream",
     "text": [
      "2024-02-10 16:34:50,392 - INFO - URL https://www.eversports.de/s/pure-motion-kiel is valid.\n",
      "2024-02-10 16:34:50,394 - INFO - Processing URL 2/4: https://www.eversports.de/sw/pure-motion-kiel\n",
      "2024-02-10 16:34:51,778 - INFO - URL https://www.eversports.de/sw/pure-motion-kiel is valid.\n",
      "2024-02-10 16:34:51,779 - INFO - Processing URL 3/4: https://www.eversports.de/sp/pure-motion-kiel\n",
      "2024-02-10 16:34:53,024 - INFO - URL https://www.eversports.de/sp/pure-motion-kiel is valid.\n",
      "2024-02-10 16:34:53,024 - INFO - Processing URL 4/4: https://www.eversports.de/s/pure-motion-kiel/team\n",
      "2024-02-10 16:34:54,284 - INFO - URL https://www.eversports.de/s/pure-motion-kiel/team is valid.\n"
     ]
    },
    {
     "name": "stdout",
     "output_type": "stream",
     "text": [
      "Scraping Pole Studio Data from https://www.eversports.de/s/pure-motion-kiel...\n",
      "Scraping Workshops Data from https://www.eversports.de/sw/pure-motion-kiel...\n",
      "Scraping Workshop Details from https://www.eversports.de/e/workshop/Z1qnkVh...\n"
     ]
    },
    {
     "name": "stderr",
     "output_type": "stream",
     "text": [
      "Processing URLs:  48%|████▊     | 162/337 [14:29<15:44,  5.40s/it, Current URL: https://www.eversports.de/s/pure-motion-kiel]"
     ]
    },
    {
     "name": "stdout",
     "output_type": "stream",
     "text": [
      "Processing completed.\n",
      "Pole Studio Data: 1 entries\n",
      "Workshops Data: 1 entries\n",
      "Workshop Details: 1 entries\n",
      "Starting URL reconstruction...\n"
     ]
    },
    {
     "name": "stderr",
     "output_type": "stream",
     "text": [
      "2024-02-10 16:35:00,589 - INFO - Processing URL 1/4: https://www.eversports.de/s/t-tanzstueck-braunschweig\n"
     ]
    },
    {
     "name": "stdout",
     "output_type": "stream",
     "text": [
      "Error reconstructing URL for 'Kurse': Unrecognized text: 'Kurse'\n",
      "Converting to DataFrame...\n",
      "Validating URLs...\n"
     ]
    },
    {
     "name": "stderr",
     "output_type": "stream",
     "text": [
      "2024-02-10 16:35:01,951 - INFO - URL https://www.eversports.de/s/t-tanzstueck-braunschweig is valid.\n",
      "2024-02-10 16:35:01,952 - INFO - Processing URL 2/4: https://www.eversports.de/sw/t-tanzstueck-braunschweig\n",
      "2024-02-10 16:35:03,133 - INFO - URL https://www.eversports.de/sw/t-tanzstueck-braunschweig is valid.\n",
      "2024-02-10 16:35:03,134 - INFO - Processing URL 3/4: https://www.eversports.de/sp/t-tanzstueck-braunschweig\n",
      "2024-02-10 16:35:04,509 - INFO - URL https://www.eversports.de/sp/t-tanzstueck-braunschweig is valid.\n",
      "2024-02-10 16:35:04,511 - INFO - Processing URL 4/4: https://www.eversports.de/s/t-tanzstueck-braunschweig/team\n",
      "2024-02-10 16:35:06,144 - INFO - URL https://www.eversports.de/s/t-tanzstueck-braunschweig/team is valid.\n"
     ]
    },
    {
     "name": "stdout",
     "output_type": "stream",
     "text": [
      "Scraping Pole Studio Data from https://www.eversports.de/s/t-tanzstueck-braunschweig...\n",
      "Scraping Workshops Data from https://www.eversports.de/sw/t-tanzstueck-braunschweig...\n",
      "Scraping Workshop Details from https://www.eversports.de/e/workshop/itCOcd3...\n"
     ]
    },
    {
     "name": "stderr",
     "output_type": "stream",
     "text": [
      "Processing URLs:  48%|████▊     | 163/337 [14:40<20:42,  7.14s/it, Current URL: https://www.eversports.de/s/t-tanzstueck-braunschweig]"
     ]
    },
    {
     "name": "stdout",
     "output_type": "stream",
     "text": [
      "Processing completed.\n",
      "Pole Studio Data: 1 entries\n",
      "Workshops Data: 1 entries\n",
      "Workshop Details: 1 entries\n",
      "Starting URL reconstruction...\n"
     ]
    },
    {
     "name": "stderr",
     "output_type": "stream",
     "text": [
      "2024-02-10 16:35:12,451 - INFO - Processing URL 1/4: https://www.eversports.de/s/ramonas-tanzschmiede\n"
     ]
    },
    {
     "name": "stdout",
     "output_type": "stream",
     "text": [
      "Converting to DataFrame...\n",
      "Validating URLs...\n"
     ]
    },
    {
     "name": "stderr",
     "output_type": "stream",
     "text": [
      "2024-02-10 16:35:13,773 - INFO - URL https://www.eversports.de/s/ramonas-tanzschmiede is valid.\n",
      "2024-02-10 16:35:13,773 - INFO - Processing URL 2/4: https://www.eversports.de/sw/ramonas-tanzschmiede\n",
      "2024-02-10 16:35:14,996 - INFO - URL https://www.eversports.de/sw/ramonas-tanzschmiede is valid.\n",
      "2024-02-10 16:35:14,998 - INFO - Processing URL 3/4: https://www.eversports.de/sp/ramonas-tanzschmiede\n",
      "2024-02-10 16:35:16,665 - INFO - URL https://www.eversports.de/sp/ramonas-tanzschmiede is valid.\n",
      "2024-02-10 16:35:16,666 - INFO - Processing URL 4/4: https://www.eversports.de/s/ramonas-tanzschmiede/team\n",
      "2024-02-10 16:35:17,849 - INFO - URL https://www.eversports.de/s/ramonas-tanzschmiede/team is valid.\n"
     ]
    },
    {
     "name": "stdout",
     "output_type": "stream",
     "text": [
      "Scraping Pole Studio Data from https://www.eversports.de/s/ramonas-tanzschmiede...\n",
      "Scraping Workshops Data from https://www.eversports.de/sw/ramonas-tanzschmiede...\n",
      "Scraping Workshop Details from https://www.eversports.de/e/workshop/NUbP_o2...\n",
      "Scraping Workshop Details from https://www.eversports.de/e/workshop/h6T780l...\n",
      "Scraping Workshop Details from https://www.eversports.de/e/workshop/HZmJGaW...\n"
     ]
    },
    {
     "name": "stderr",
     "output_type": "stream",
     "text": [
      "Processing URLs:  49%|████▊     | 164/337 [15:01<32:36, 11.31s/it, Current URL: https://www.eversports.de/s/ramonas-tanzschmiede]     "
     ]
    },
    {
     "name": "stdout",
     "output_type": "stream",
     "text": [
      "Processing completed.\n",
      "Pole Studio Data: 1 entries\n",
      "Workshops Data: 3 entries\n",
      "Workshop Details: 3 entries\n",
      "Starting URL reconstruction...\n"
     ]
    },
    {
     "name": "stderr",
     "output_type": "stream",
     "text": [
      "2024-02-10 16:35:32,831 - INFO - Processing URL 1/2: https://www.eversports.de/s/dunya-pole-dance-school\n"
     ]
    },
    {
     "name": "stdout",
     "output_type": "stream",
     "text": [
      "Converting to DataFrame...\n",
      "Validating URLs...\n"
     ]
    },
    {
     "name": "stderr",
     "output_type": "stream",
     "text": [
      "2024-02-10 16:35:34,232 - INFO - URL https://www.eversports.de/s/dunya-pole-dance-school is valid.\n",
      "2024-02-10 16:35:34,234 - INFO - Processing URL 2/2: https://www.eversports.de/s/dunya-pole-dance-school/team\n",
      "2024-02-10 16:35:35,418 - INFO - URL https://www.eversports.de/s/dunya-pole-dance-school/team is valid.\n"
     ]
    },
    {
     "name": "stdout",
     "output_type": "stream",
     "text": [
      "Scraping Pole Studio Data from https://www.eversports.de/s/dunya-pole-dance-school...\n"
     ]
    },
    {
     "name": "stderr",
     "output_type": "stream",
     "text": [
      "Processing URLs:  49%|████▉     | 165/337 [15:05<26:22,  9.20s/it, Current URL: https://www.eversports.de/s/dunya-pole-dance-school]"
     ]
    },
    {
     "name": "stdout",
     "output_type": "stream",
     "text": [
      "Processing completed.\n",
      "Pole Studio Data: 1 entries\n",
      "Starting URL reconstruction...\n"
     ]
    },
    {
     "name": "stderr",
     "output_type": "stream",
     "text": [
      "Processing URLs:  49%|████▉     | 166/337 [15:06<19:25,  6.82s/it, Current URL: https://www.eversports.de/s/le-chat-noir-berlin]    "
     ]
    },
    {
     "name": "stdout",
     "output_type": "stream",
     "text": [
      "Error during HTTP request: 404 Client Error: Not Found for url: https://www.eversports.de/s/le-chat-noir-berlin\n",
      "Converting to DataFrame...\n",
      "Validating URLs...\n",
      "Processing completed.\n",
      "Starting URL reconstruction...\n"
     ]
    },
    {
     "name": "stderr",
     "output_type": "stream",
     "text": [
      "2024-02-10 16:35:38,391 - INFO - Processing URL 1/1: https://www.eversports.de/s/pole-heaven\n"
     ]
    },
    {
     "name": "stdout",
     "output_type": "stream",
     "text": [
      "Converting to DataFrame...\n",
      "Validating URLs...\n"
     ]
    },
    {
     "name": "stderr",
     "output_type": "stream",
     "text": [
      "2024-02-10 16:35:39,683 - INFO - URL https://www.eversports.de/s/pole-heaven is valid.\n"
     ]
    },
    {
     "name": "stdout",
     "output_type": "stream",
     "text": [
      "Scraping Pole Studio Data from https://www.eversports.de/s/pole-heaven...\n"
     ]
    },
    {
     "name": "stderr",
     "output_type": "stream",
     "text": [
      "Processing URLs:  50%|████▉     | 167/337 [15:10<16:09,  5.71s/it, Current URL: https://www.eversports.de/s/pole-heaven]        "
     ]
    },
    {
     "name": "stdout",
     "output_type": "stream",
     "text": [
      "Processing completed.\n",
      "Pole Studio Data: 1 entries\n",
      "Starting URL reconstruction...\n"
     ]
    },
    {
     "name": "stderr",
     "output_type": "stream",
     "text": [
      "2024-02-10 16:35:42,030 - INFO - Processing URL 1/4: https://www.eversports.de/s/dance-and-pole-leverkusen\n"
     ]
    },
    {
     "name": "stdout",
     "output_type": "stream",
     "text": [
      "Converting to DataFrame...\n",
      "Validating URLs...\n"
     ]
    },
    {
     "name": "stderr",
     "output_type": "stream",
     "text": [
      "2024-02-10 16:35:43,361 - INFO - URL https://www.eversports.de/s/dance-and-pole-leverkusen is valid.\n",
      "2024-02-10 16:35:43,362 - INFO - Processing URL 2/4: https://www.eversports.de/sw/dance-and-pole-leverkusen\n",
      "2024-02-10 16:35:44,647 - INFO - URL https://www.eversports.de/sw/dance-and-pole-leverkusen is valid.\n",
      "2024-02-10 16:35:44,648 - INFO - Processing URL 3/4: https://www.eversports.de/sp/dance-and-pole-leverkusen\n",
      "2024-02-10 16:35:45,831 - INFO - URL https://www.eversports.de/sp/dance-and-pole-leverkusen is valid.\n",
      "2024-02-10 16:35:45,831 - INFO - Processing URL 4/4: https://www.eversports.de/s/dance-and-pole-leverkusen/team\n",
      "2024-02-10 16:35:47,050 - INFO - URL https://www.eversports.de/s/dance-and-pole-leverkusen/team is valid.\n"
     ]
    },
    {
     "name": "stdout",
     "output_type": "stream",
     "text": [
      "Scraping Pole Studio Data from https://www.eversports.de/s/dance-and-pole-leverkusen...\n",
      "Scraping Workshops Data from https://www.eversports.de/sw/dance-and-pole-leverkusen...\n",
      "Scraping Workshop Details from https://www.eversports.de/e/workshop/II-gWEL...\n"
     ]
    },
    {
     "name": "stderr",
     "output_type": "stream",
     "text": [
      "Processing URLs:  50%|████▉     | 168/337 [15:19<19:33,  6.94s/it, Current URL: https://www.eversports.de/s/dance-and-pole-leverkusen]"
     ]
    },
    {
     "name": "stdout",
     "output_type": "stream",
     "text": [
      "Processing completed.\n",
      "Pole Studio Data: 1 entries\n",
      "Workshops Data: 1 entries\n",
      "Workshop Details: 1 entries\n",
      "Starting URL reconstruction...\n"
     ]
    },
    {
     "name": "stderr",
     "output_type": "stream",
     "text": [
      "Processing URLs:  50%|█████     | 169/337 [15:21<14:34,  5.21s/it, Current URL: https://www.eversports.de/s/polesition]               "
     ]
    },
    {
     "name": "stdout",
     "output_type": "stream",
     "text": [
      "Error during HTTP request: 404 Client Error: Not Found for url: https://www.eversports.de/s/polesition\n",
      "Converting to DataFrame...\n",
      "Validating URLs...\n",
      "Processing completed.\n",
      "Starting URL reconstruction...\n"
     ]
    },
    {
     "name": "stderr",
     "output_type": "stream",
     "text": [
      "2024-02-10 16:35:52,574 - INFO - Processing URL 1/3: https://www.eversports.de/s/one8dance-studio\n"
     ]
    },
    {
     "name": "stdout",
     "output_type": "stream",
     "text": [
      "Error reconstructing URL for 'Kurse': Unrecognized text: 'Kurse'\n",
      "Converting to DataFrame...\n",
      "Validating URLs...\n"
     ]
    },
    {
     "name": "stderr",
     "output_type": "stream",
     "text": [
      "2024-02-10 16:35:53,897 - INFO - URL https://www.eversports.de/s/one8dance-studio is valid.\n",
      "2024-02-10 16:35:53,898 - INFO - Processing URL 2/3: https://www.eversports.de/sp/one8dance-studio\n",
      "2024-02-10 16:35:55,069 - INFO - URL https://www.eversports.de/sp/one8dance-studio is valid.\n",
      "2024-02-10 16:35:55,070 - INFO - Processing URL 3/3: https://www.eversports.de/s/one8dance-studio/team\n",
      "2024-02-10 16:35:56,320 - INFO - URL https://www.eversports.de/s/one8dance-studio/team is valid.\n"
     ]
    },
    {
     "name": "stdout",
     "output_type": "stream",
     "text": [
      "Scraping Pole Studio Data from https://www.eversports.de/s/one8dance-studio...\n"
     ]
    },
    {
     "name": "stderr",
     "output_type": "stream",
     "text": [
      "Processing URLs:  50%|█████     | 170/337 [15:26<14:52,  5.35s/it, Current URL: https://www.eversports.de/s/one8dance-studio]"
     ]
    },
    {
     "name": "stdout",
     "output_type": "stream",
     "text": [
      "Processing completed.\n",
      "Pole Studio Data: 1 entries\n",
      "Starting URL reconstruction...\n"
     ]
    },
    {
     "name": "stderr",
     "output_type": "stream",
     "text": [
      "2024-02-10 16:35:58,172 - INFO - Processing URL 1/3: https://www.eversports.de/s/aerial-circus\n"
     ]
    },
    {
     "name": "stdout",
     "output_type": "stream",
     "text": [
      "Converting to DataFrame...\n",
      "Validating URLs...\n"
     ]
    },
    {
     "name": "stderr",
     "output_type": "stream",
     "text": [
      "2024-02-10 16:35:59,478 - INFO - URL https://www.eversports.de/s/aerial-circus is valid.\n",
      "2024-02-10 16:35:59,479 - INFO - Processing URL 2/3: https://www.eversports.de/sp/aerial-circus\n",
      "2024-02-10 16:36:00,753 - INFO - URL https://www.eversports.de/sp/aerial-circus is valid.\n",
      "2024-02-10 16:36:00,753 - INFO - Processing URL 3/3: https://www.eversports.de/s/aerial-circus/team\n",
      "2024-02-10 16:36:01,957 - INFO - URL https://www.eversports.de/s/aerial-circus/team is valid.\n"
     ]
    },
    {
     "name": "stdout",
     "output_type": "stream",
     "text": [
      "Scraping Pole Studio Data from https://www.eversports.de/s/aerial-circus...\n"
     ]
    },
    {
     "name": "stderr",
     "output_type": "stream",
     "text": [
      "Processing URLs:  51%|█████     | 171/337 [15:32<15:12,  5.50s/it, Current URL: https://www.eversports.de/s/aerial-circus]   "
     ]
    },
    {
     "name": "stdout",
     "output_type": "stream",
     "text": [
      "Processing completed.\n",
      "Pole Studio Data: 1 entries\n",
      "Starting URL reconstruction...\n"
     ]
    },
    {
     "name": "stderr",
     "output_type": "stream",
     "text": [
      "2024-02-10 16:36:04,416 - INFO - Processing URL 1/4: https://www.eversports.de/s/seemannsbraut-poledance\n"
     ]
    },
    {
     "name": "stdout",
     "output_type": "stream",
     "text": [
      "Error reconstructing URL for 'Kurse': Unrecognized text: 'Kurse'\n",
      "Converting to DataFrame...\n",
      "Validating URLs...\n"
     ]
    },
    {
     "name": "stderr",
     "output_type": "stream",
     "text": [
      "2024-02-10 16:36:05,787 - INFO - URL https://www.eversports.de/s/seemannsbraut-poledance is valid.\n",
      "2024-02-10 16:36:05,788 - INFO - Processing URL 2/4: https://www.eversports.de/sw/seemannsbraut-poledance\n",
      "2024-02-10 16:36:07,108 - INFO - URL https://www.eversports.de/sw/seemannsbraut-poledance is valid.\n",
      "2024-02-10 16:36:07,110 - INFO - Processing URL 3/4: https://www.eversports.de/sp/seemannsbraut-poledance\n",
      "2024-02-10 16:36:08,347 - INFO - URL https://www.eversports.de/sp/seemannsbraut-poledance is valid.\n",
      "2024-02-10 16:36:08,347 - INFO - Processing URL 4/4: https://www.eversports.de/s/seemannsbraut-poledance/team\n",
      "2024-02-10 16:36:09,618 - INFO - URL https://www.eversports.de/s/seemannsbraut-poledance/team is valid.\n"
     ]
    },
    {
     "name": "stdout",
     "output_type": "stream",
     "text": [
      "Scraping Pole Studio Data from https://www.eversports.de/s/seemannsbraut-poledance...\n",
      "Scraping Workshops Data from https://www.eversports.de/sw/seemannsbraut-poledance...\n",
      "Scraping Workshop Details from https://www.eversports.de/e/workshop/tjSmCEx...\n",
      "Scraping Workshop Details from https://www.eversports.de/e/workshop/mQPzgO-...\n",
      "Scraping Workshop Details from https://www.eversports.de/e/workshop/ziaHmeW...\n",
      "Scraping Workshop Details from https://www.eversports.de/e/workshop/zBoJPTa...\n"
     ]
    },
    {
     "name": "stderr",
     "output_type": "stream",
     "text": [
      "Processing URLs:  51%|█████     | 172/337 [15:47<23:03,  8.38s/it, Current URL: https://www.eversports.de/s/seemannsbraut-poledance]"
     ]
    },
    {
     "name": "stdout",
     "output_type": "stream",
     "text": [
      "Processing completed.\n",
      "Pole Studio Data: 1 entries\n",
      "Workshops Data: 4 entries\n",
      "Workshop Details: 4 entries\n",
      "Starting URL reconstruction...\n"
     ]
    },
    {
     "name": "stderr",
     "output_type": "stream",
     "text": [
      "2024-02-10 16:36:19,276 - INFO - Processing URL 1/2: https://www.eversports.de/s/poledance-nrw\n"
     ]
    },
    {
     "name": "stdout",
     "output_type": "stream",
     "text": [
      "Converting to DataFrame...\n",
      "Validating URLs...\n"
     ]
    },
    {
     "name": "stderr",
     "output_type": "stream",
     "text": [
      "2024-02-10 16:36:20,886 - INFO - URL https://www.eversports.de/s/poledance-nrw is valid.\n",
      "2024-02-10 16:36:20,888 - INFO - Processing URL 2/2: https://www.eversports.de/sp/poledance-nrw\n",
      "2024-02-10 16:36:22,460 - INFO - URL https://www.eversports.de/sp/poledance-nrw is valid.\n"
     ]
    },
    {
     "name": "stdout",
     "output_type": "stream",
     "text": [
      "Scraping Pole Studio Data from https://www.eversports.de/s/poledance-nrw...\n"
     ]
    },
    {
     "name": "stderr",
     "output_type": "stream",
     "text": [
      "Processing URLs:  51%|█████▏    | 173/337 [15:53<20:27,  7.49s/it, Current URL: https://www.eversports.de/s/poledance-nrw]          "
     ]
    },
    {
     "name": "stdout",
     "output_type": "stream",
     "text": [
      "Processing completed.\n",
      "Pole Studio Data: 1 entries\n",
      "Starting URL reconstruction...\n"
     ]
    },
    {
     "name": "stderr",
     "output_type": "stream",
     "text": [
      "2024-02-10 16:36:24,553 - INFO - Processing URL 1/3: https://www.eversports.de/s/janine-hollung\n"
     ]
    },
    {
     "name": "stdout",
     "output_type": "stream",
     "text": [
      "Converting to DataFrame...\n",
      "Validating URLs...\n"
     ]
    },
    {
     "name": "stderr",
     "output_type": "stream",
     "text": [
      "2024-02-10 16:36:25,821 - INFO - URL https://www.eversports.de/s/janine-hollung is valid.\n",
      "2024-02-10 16:36:25,822 - INFO - Processing URL 2/3: https://www.eversports.de/sp/janine-hollung\n",
      "2024-02-10 16:36:27,262 - INFO - URL https://www.eversports.de/sp/janine-hollung is valid.\n",
      "2024-02-10 16:36:27,264 - INFO - Processing URL 3/3: https://www.eversports.de/s/janine-hollung/team\n",
      "2024-02-10 16:36:29,178 - INFO - URL https://www.eversports.de/s/janine-hollung/team is valid.\n"
     ]
    },
    {
     "name": "stdout",
     "output_type": "stream",
     "text": [
      "Scraping Pole Studio Data from https://www.eversports.de/s/janine-hollung...\n"
     ]
    },
    {
     "name": "stderr",
     "output_type": "stream",
     "text": [
      "Processing URLs:  52%|█████▏    | 174/337 [16:00<20:05,  7.40s/it, Current URL: https://www.eversports.de/s/janine-hollung]"
     ]
    },
    {
     "name": "stdout",
     "output_type": "stream",
     "text": [
      "Processing completed.\n",
      "Pole Studio Data: 1 entries\n",
      "Starting URL reconstruction...\n"
     ]
    },
    {
     "name": "stderr",
     "output_type": "stream",
     "text": [
      "2024-02-10 16:36:31,826 - INFO - Processing URL 1/3: https://www.eversports.de/s/sportheim-abensberg\n"
     ]
    },
    {
     "name": "stdout",
     "output_type": "stream",
     "text": [
      "Converting to DataFrame...\n",
      "Validating URLs...\n"
     ]
    },
    {
     "name": "stderr",
     "output_type": "stream",
     "text": [
      "2024-02-10 16:36:33,200 - INFO - URL https://www.eversports.de/s/sportheim-abensberg is valid.\n",
      "2024-02-10 16:36:33,200 - INFO - Processing URL 2/3: https://www.eversports.de/sp/sportheim-abensberg\n",
      "2024-02-10 16:36:34,466 - INFO - URL https://www.eversports.de/sp/sportheim-abensberg is valid.\n",
      "2024-02-10 16:36:34,467 - INFO - Processing URL 3/3: https://www.eversports.de/s/sportheim-abensberg/team\n",
      "2024-02-10 16:36:35,730 - INFO - URL https://www.eversports.de/s/sportheim-abensberg/team is valid.\n"
     ]
    },
    {
     "name": "stdout",
     "output_type": "stream",
     "text": [
      "Scraping Pole Studio Data from https://www.eversports.de/s/sportheim-abensberg...\n"
     ]
    },
    {
     "name": "stderr",
     "output_type": "stream",
     "text": [
      "Processing URLs:  52%|█████▏    | 175/337 [16:06<18:57,  7.02s/it, Current URL: https://www.eversports.de/s/sportheim-abensberg]"
     ]
    },
    {
     "name": "stdout",
     "output_type": "stream",
     "text": [
      "Processing completed.\n",
      "Pole Studio Data: 1 entries\n",
      "Starting URL reconstruction...\n"
     ]
    },
    {
     "name": "stderr",
     "output_type": "stream",
     "text": [
      "Processing URLs:  52%|█████▏    | 176/337 [16:10<16:26,  6.13s/it, Current URL: https://www.eversports.de/s/schönheitstanz-studio]"
     ]
    },
    {
     "name": "stdout",
     "output_type": "stream",
     "text": [
      "Error during HTTP request: 502 Server Error: Bad Gateway for url: https://www.eversports.de/s/sch%c3%b6nheitstanz-studio\n",
      "Converting to DataFrame...\n",
      "Validating URLs...\n",
      "Processing completed.\n",
      "Starting URL reconstruction...\n"
     ]
    },
    {
     "name": "stderr",
     "output_type": "stream",
     "text": [
      "Processing URLs:  53%|█████▎    | 177/337 [16:11<12:19,  4.62s/it, Current URL: https://www.eversports.de/s/health-&-shape-münchen]"
     ]
    },
    {
     "name": "stdout",
     "output_type": "stream",
     "text": [
      "Error during HTTP request: 404 Client Error: Not Found for url: https://www.eversports.de/s/health-&-shape-m%C3%BCnchen\n",
      "Converting to DataFrame...\n",
      "Validating URLs...\n",
      "Processing completed.\n",
      "Starting URL reconstruction...\n"
     ]
    },
    {
     "name": "stderr",
     "output_type": "stream",
     "text": [
      "2024-02-10 16:36:42,940 - INFO - Processing URL 1/4: https://www.eversports.de/s/pole-oase\n"
     ]
    },
    {
     "name": "stdout",
     "output_type": "stream",
     "text": [
      "Converting to DataFrame...\n",
      "Validating URLs...\n"
     ]
    },
    {
     "name": "stderr",
     "output_type": "stream",
     "text": [
      "2024-02-10 16:36:44,250 - INFO - URL https://www.eversports.de/s/pole-oase is valid.\n",
      "2024-02-10 16:36:44,251 - INFO - Processing URL 2/4: https://www.eversports.de/sw/pole-oase\n",
      "2024-02-10 16:36:45,365 - INFO - URL https://www.eversports.de/sw/pole-oase is valid.\n",
      "2024-02-10 16:36:45,366 - INFO - Processing URL 3/4: https://www.eversports.de/sp/pole-oase\n",
      "2024-02-10 16:36:46,586 - INFO - URL https://www.eversports.de/sp/pole-oase is valid.\n",
      "2024-02-10 16:36:46,587 - INFO - Processing URL 4/4: https://www.eversports.de/s/pole-oase/team\n",
      "2024-02-10 16:36:47,827 - INFO - URL https://www.eversports.de/s/pole-oase/team is valid.\n"
     ]
    },
    {
     "name": "stdout",
     "output_type": "stream",
     "text": [
      "Scraping Pole Studio Data from https://www.eversports.de/s/pole-oase...\n",
      "Scraping Workshops Data from https://www.eversports.de/sw/pole-oase...\n",
      "Scraping Workshop Details from https://www.eversports.de/e/workshop/9cNbxVS...\n",
      "Scraping Workshop Details from https://www.eversports.de/e/workshop/FkutCDr...\n",
      "Scraping Workshop Details from https://www.eversports.de/e/workshop/qzt25WB...\n"
     ]
    },
    {
     "name": "stderr",
     "output_type": "stream",
     "text": [
      "Processing URLs:  53%|█████▎    | 178/337 [16:23<17:44,  6.70s/it, Current URL: https://www.eversports.de/s/pole-oase]             "
     ]
    },
    {
     "name": "stdout",
     "output_type": "stream",
     "text": [
      "Processing completed.\n",
      "Pole Studio Data: 1 entries\n",
      "Workshops Data: 3 entries\n",
      "Workshop Details: 3 entries\n",
      "Starting URL reconstruction...\n"
     ]
    },
    {
     "name": "stderr",
     "output_type": "stream",
     "text": [
      "2024-02-10 16:36:54,573 - INFO - Processing URL 1/3: https://www.eversports.de/s/glow-sports-club\n"
     ]
    },
    {
     "name": "stdout",
     "output_type": "stream",
     "text": [
      "Error reconstructing URL for 'Trainings': Unrecognized text: 'Trainings'\n",
      "Error reconstructing URL for 'Kurse': Unrecognized text: 'Kurse'\n",
      "Converting to DataFrame...\n",
      "Validating URLs...\n"
     ]
    },
    {
     "name": "stderr",
     "output_type": "stream",
     "text": [
      "2024-02-10 16:36:55,870 - INFO - URL https://www.eversports.de/s/glow-sports-club is valid.\n",
      "2024-02-10 16:36:55,870 - INFO - Processing URL 2/3: https://www.eversports.de/sp/glow-sports-club\n",
      "2024-02-10 16:36:57,672 - INFO - URL https://www.eversports.de/sp/glow-sports-club is valid.\n",
      "2024-02-10 16:36:57,673 - INFO - Processing URL 3/3: https://www.eversports.de/s/glow-sports-club/team\n",
      "2024-02-10 16:36:59,440 - INFO - URL https://www.eversports.de/s/glow-sports-club/team is valid.\n"
     ]
    },
    {
     "name": "stdout",
     "output_type": "stream",
     "text": [
      "Scraping Pole Studio Data from https://www.eversports.de/s/glow-sports-club...\n"
     ]
    },
    {
     "name": "stderr",
     "output_type": "stream",
     "text": [
      "Processing URLs:  53%|█████▎    | 179/337 [16:29<17:36,  6.68s/it, Current URL: https://www.eversports.de/s/glow-sports-club]"
     ]
    },
    {
     "name": "stdout",
     "output_type": "stream",
     "text": [
      "Processing completed.\n",
      "Pole Studio Data: 1 entries\n",
      "Starting URL reconstruction...\n"
     ]
    },
    {
     "name": "stderr",
     "output_type": "stream",
     "text": [
      "Processing URLs:  53%|█████▎    | 180/337 [16:30<13:12,  5.05s/it, Current URL: https://www.eversports.de/s/pole-faction-pole-dance-and-fitness]"
     ]
    },
    {
     "name": "stdout",
     "output_type": "stream",
     "text": [
      "Error during HTTP request: 404 Client Error: Not Found for url: https://www.eversports.de/s/pole-faction-pole-dance-and-fitness\n",
      "Converting to DataFrame...\n",
      "Validating URLs...\n",
      "Processing completed.\n",
      "Starting URL reconstruction...\n"
     ]
    },
    {
     "name": "stderr",
     "output_type": "stream",
     "text": [
      "Processing URLs:  54%|█████▎    | 181/337 [16:32<10:07,  3.90s/it, Current URL: https://www.eversports.de/s/seemannsbraut-poledance-flensburg]  "
     ]
    },
    {
     "name": "stdout",
     "output_type": "stream",
     "text": [
      "Error during HTTP request: 404 Client Error: Not Found for url: https://www.eversports.de/s/seemannsbraut-poledance-flensburg\n",
      "Converting to DataFrame...\n",
      "Validating URLs...\n",
      "Processing completed.\n",
      "Starting URL reconstruction...\n"
     ]
    },
    {
     "name": "stderr",
     "output_type": "stream",
     "text": [
      "2024-02-10 16:37:03,696 - INFO - Processing URL 1/4: https://www.eversports.de/s/poleathletix\n"
     ]
    },
    {
     "name": "stdout",
     "output_type": "stream",
     "text": [
      "Error reconstructing URL for 'Trainings': Unrecognized text: 'Trainings'\n",
      "Converting to DataFrame...\n",
      "Validating URLs...\n"
     ]
    },
    {
     "name": "stderr",
     "output_type": "stream",
     "text": [
      "2024-02-10 16:37:05,061 - INFO - URL https://www.eversports.de/s/poleathletix is valid.\n",
      "2024-02-10 16:37:05,062 - INFO - Processing URL 2/4: https://www.eversports.de/sw/poleathletix\n",
      "2024-02-10 16:37:06,536 - INFO - URL https://www.eversports.de/sw/poleathletix is valid.\n",
      "2024-02-10 16:37:06,537 - INFO - Processing URL 3/4: https://www.eversports.de/sp/poleathletix\n",
      "2024-02-10 16:37:07,711 - INFO - URL https://www.eversports.de/sp/poleathletix is valid.\n",
      "2024-02-10 16:37:07,712 - INFO - Processing URL 4/4: https://www.eversports.de/s/poleathletix/team\n",
      "2024-02-10 16:37:08,934 - INFO - URL https://www.eversports.de/s/poleathletix/team is valid.\n"
     ]
    },
    {
     "name": "stdout",
     "output_type": "stream",
     "text": [
      "Scraping Pole Studio Data from https://www.eversports.de/s/poleathletix...\n",
      "Scraping Workshops Data from https://www.eversports.de/sw/poleathletix...\n",
      "Scraping Workshop Details from https://www.eversports.de/e/workshop/fWcLCKr...\n",
      "Scraping Workshop Details from https://www.eversports.de/e/workshop/BCHRRb3...\n",
      "Scraping Workshop Details from https://www.eversports.de/e/workshop/wpcpX0U...\n",
      "Scraping Workshop Details from https://www.eversports.de/e/workshop/csrqGyT...\n",
      "Scraping Workshop Details from https://www.eversports.de/e/workshop/rXgOpSM...\n",
      "Scraping Workshop Details from https://www.eversports.de/e/workshop/GPwT8hl...\n",
      "Scraping Workshop Details from https://www.eversports.de/e/workshop/U0ioQ4p...\n",
      "Scraping Workshop Details from https://www.eversports.de/e/workshop/Q4B35ej...\n"
     ]
    },
    {
     "name": "stderr",
     "output_type": "stream",
     "text": [
      "Processing URLs:  54%|█████▍    | 182/337 [16:54<24:04,  9.32s/it, Current URL: https://www.eversports.de/s/poleathletix]                     "
     ]
    },
    {
     "name": "stdout",
     "output_type": "stream",
     "text": [
      "Processing completed.\n",
      "Pole Studio Data: 1 entries\n",
      "Workshops Data: 8 entries\n",
      "Workshop Details: 8 entries\n",
      "Starting URL reconstruction...\n"
     ]
    },
    {
     "name": "stderr",
     "output_type": "stream",
     "text": [
      "2024-02-10 16:37:25,756 - INFO - Processing URL 1/3: https://www.eversports.de/s/aerial-studio\n"
     ]
    },
    {
     "name": "stdout",
     "output_type": "stream",
     "text": [
      "Converting to DataFrame...\n",
      "Validating URLs...\n"
     ]
    },
    {
     "name": "stderr",
     "output_type": "stream",
     "text": [
      "2024-02-10 16:37:27,187 - INFO - URL https://www.eversports.de/s/aerial-studio is valid.\n",
      "2024-02-10 16:37:27,187 - INFO - Processing URL 2/3: https://www.eversports.de/sp/aerial-studio\n",
      "2024-02-10 16:37:28,304 - INFO - URL https://www.eversports.de/sp/aerial-studio is not valid.\n",
      "2024-02-10 16:37:28,305 - INFO - Processing URL 3/3: https://www.eversports.de/s/aerial-studio/team\n",
      "2024-02-10 16:37:29,530 - INFO - URL https://www.eversports.de/s/aerial-studio/team is valid.\n"
     ]
    },
    {
     "name": "stdout",
     "output_type": "stream",
     "text": [
      "Scraping Pole Studio Data from https://www.eversports.de/s/aerial-studio...\n"
     ]
    },
    {
     "name": "stderr",
     "output_type": "stream",
     "text": [
      "Processing URLs:  54%|█████▍    | 183/337 [16:59<21:06,  8.22s/it, Current URL: https://www.eversports.de/s/aerial-studio]"
     ]
    },
    {
     "name": "stdout",
     "output_type": "stream",
     "text": [
      "Processing completed.\n",
      "Pole Studio Data: 1 entries\n",
      "Starting URL reconstruction...\n"
     ]
    },
    {
     "name": "stderr",
     "output_type": "stream",
     "text": [
      "Processing URLs:  55%|█████▍    | 184/337 [17:00<15:31,  6.09s/it, Current URL: https://www.eversports.de/s/move-lounge-pilates,-powerplate,-trx,-personaltraining]"
     ]
    },
    {
     "name": "stdout",
     "output_type": "stream",
     "text": [
      "Error during HTTP request: 404 Client Error: Not Found for url: https://www.eversports.de/s/move-lounge-pilates,-powerplate,-trx,-personaltraining\n",
      "Converting to DataFrame...\n",
      "Validating URLs...\n",
      "Processing completed.\n",
      "Starting URL reconstruction...\n"
     ]
    },
    {
     "name": "stderr",
     "output_type": "stream",
     "text": [
      "Processing URLs:  55%|█████▍    | 185/337 [17:02<11:41,  4.61s/it, Current URL: https://www.eversports.de/s/papillon-pole-dance-studio]                            "
     ]
    },
    {
     "name": "stdout",
     "output_type": "stream",
     "text": [
      "Error during HTTP request: 404 Client Error: Not Found for url: https://www.eversports.de/s/papillon-pole-dance-studio\n",
      "Converting to DataFrame...\n",
      "Validating URLs...\n",
      "Processing completed.\n",
      "Starting URL reconstruction...\n"
     ]
    },
    {
     "name": "stderr",
     "output_type": "stream",
     "text": [
      "2024-02-10 16:37:33,617 - INFO - Processing URL 1/3: https://www.eversports.de/s/tanzteufel\n"
     ]
    },
    {
     "name": "stdout",
     "output_type": "stream",
     "text": [
      "Converting to DataFrame...\n",
      "Validating URLs...\n"
     ]
    },
    {
     "name": "stderr",
     "output_type": "stream",
     "text": [
      "2024-02-10 16:37:34,947 - INFO - URL https://www.eversports.de/s/tanzteufel is valid.\n",
      "2024-02-10 16:37:34,948 - INFO - Processing URL 2/3: https://www.eversports.de/sp/tanzteufel\n",
      "2024-02-10 16:37:36,319 - INFO - URL https://www.eversports.de/sp/tanzteufel is valid.\n",
      "2024-02-10 16:37:36,319 - INFO - Processing URL 3/3: https://www.eversports.de/s/tanzteufel/team\n",
      "2024-02-10 16:37:37,615 - INFO - URL https://www.eversports.de/s/tanzteufel/team is valid.\n"
     ]
    },
    {
     "name": "stdout",
     "output_type": "stream",
     "text": [
      "Scraping Pole Studio Data from https://www.eversports.de/s/tanzteufel...\n"
     ]
    },
    {
     "name": "stderr",
     "output_type": "stream",
     "text": [
      "Processing URLs:  55%|█████▌    | 186/337 [17:07<12:34,  5.00s/it, Current URL: https://www.eversports.de/s/tanzteufel]                "
     ]
    },
    {
     "name": "stdout",
     "output_type": "stream",
     "text": [
      "Processing completed.\n",
      "Pole Studio Data: 1 entries\n",
      "Starting URL reconstruction...\n"
     ]
    },
    {
     "name": "stderr",
     "output_type": "stream",
     "text": [
      "2024-02-10 16:37:39,418 - INFO - Processing URL 1/4: https://www.eversports.de/s/schwerelos-muenster\n"
     ]
    },
    {
     "name": "stdout",
     "output_type": "stream",
     "text": [
      "Error reconstructing URL for 'Trainings': Unrecognized text: 'Trainings'\n",
      "Error reconstructing URL for 'Kurse': Unrecognized text: 'Kurse'\n",
      "Converting to DataFrame...\n",
      "Validating URLs...\n"
     ]
    },
    {
     "name": "stderr",
     "output_type": "stream",
     "text": [
      "2024-02-10 16:37:41,227 - INFO - URL https://www.eversports.de/s/schwerelos-muenster is valid.\n",
      "2024-02-10 16:37:41,228 - INFO - Processing URL 2/4: https://www.eversports.de/sw/schwerelos-muenster\n",
      "2024-02-10 16:37:42,641 - INFO - URL https://www.eversports.de/sw/schwerelos-muenster is valid.\n",
      "2024-02-10 16:37:42,642 - INFO - Processing URL 3/4: https://www.eversports.de/sp/schwerelos-muenster\n",
      "2024-02-10 16:37:43,915 - INFO - URL https://www.eversports.de/sp/schwerelos-muenster is valid.\n",
      "2024-02-10 16:37:43,917 - INFO - Processing URL 4/4: https://www.eversports.de/s/schwerelos-muenster/team\n",
      "2024-02-10 16:37:45,199 - INFO - URL https://www.eversports.de/s/schwerelos-muenster/team is valid.\n"
     ]
    },
    {
     "name": "stdout",
     "output_type": "stream",
     "text": [
      "Scraping Pole Studio Data from https://www.eversports.de/s/schwerelos-muenster...\n",
      "Scraping Workshops Data from https://www.eversports.de/sw/schwerelos-muenster...\n",
      "Scraping Workshop Details from https://www.eversports.de/e/workshop/sJO5aQ1...\n",
      "Scraping Workshop Details from https://www.eversports.de/e/workshop/ZP_skji...\n",
      "Scraping Workshop Details from https://www.eversports.de/e/workshop/T2iJuZb...\n",
      "Scraping Workshop Details from https://www.eversports.de/e/workshop/JKD4cQ5...\n",
      "Scraping Workshop Details from https://www.eversports.de/e/workshop/fVM0ULF...\n",
      "Scraping Workshop Details from https://www.eversports.de/e/workshop/9fkoAyU...\n",
      "Scraping Workshop Details from https://www.eversports.de/e/workshop/leDNfNr...\n",
      "Scraping Workshop Details from https://www.eversports.de/e/workshop/ahCVYvh...\n",
      "Scraping Workshop Details from https://www.eversports.de/e/workshop/RjsCf5S...\n",
      "Scraping Workshop Details from https://www.eversports.de/e/workshop/ZOxKKrM...\n",
      "Scraping Workshop Details from https://www.eversports.de/e/workshop/Zq0GQNB...\n",
      "Scraping Workshop Details from https://www.eversports.de/e/workshop/xPGUjbS...\n"
     ]
    },
    {
     "name": "stderr",
     "output_type": "stream",
     "text": [
      "Processing URLs:  55%|█████▌    | 187/337 [17:32<27:30, 11.00s/it, Current URL: https://www.eversports.de/s/schwerelos-muenster]"
     ]
    },
    {
     "name": "stdout",
     "output_type": "stream",
     "text": [
      "Processing completed.\n",
      "Pole Studio Data: 1 entries\n",
      "Workshops Data: 12 entries\n",
      "Workshop Details: 12 entries\n",
      "Starting URL reconstruction...\n"
     ]
    },
    {
     "name": "stderr",
     "output_type": "stream",
     "text": [
      "2024-02-10 16:38:04,556 - INFO - Processing URL 1/3: https://www.eversports.de/s/mmc-dance-and-event-studio\n"
     ]
    },
    {
     "name": "stdout",
     "output_type": "stream",
     "text": [
      "Converting to DataFrame...\n",
      "Validating URLs...\n"
     ]
    },
    {
     "name": "stderr",
     "output_type": "stream",
     "text": [
      "2024-02-10 16:38:05,979 - INFO - URL https://www.eversports.de/s/mmc-dance-and-event-studio is valid.\n",
      "2024-02-10 16:38:05,980 - INFO - Processing URL 2/3: https://www.eversports.de/sp/mmc-dance-and-event-studio\n",
      "2024-02-10 16:38:08,046 - INFO - URL https://www.eversports.de/sp/mmc-dance-and-event-studio is valid.\n",
      "2024-02-10 16:38:08,047 - INFO - Processing URL 3/3: https://www.eversports.de/s/mmc-dance-and-event-studio/team\n",
      "2024-02-10 16:38:09,631 - INFO - URL https://www.eversports.de/s/mmc-dance-and-event-studio/team is valid.\n"
     ]
    },
    {
     "name": "stdout",
     "output_type": "stream",
     "text": [
      "Scraping Pole Studio Data from https://www.eversports.de/s/mmc-dance-and-event-studio...\n"
     ]
    },
    {
     "name": "stderr",
     "output_type": "stream",
     "text": [
      "Processing URLs:  56%|█████▌    | 188/337 [17:39<24:18,  9.79s/it, Current URL: https://www.eversports.de/s/mmc-dance-and-event-studio]"
     ]
    },
    {
     "name": "stdout",
     "output_type": "stream",
     "text": [
      "Processing completed.\n",
      "Pole Studio Data: 1 entries\n",
      "Starting URL reconstruction...\n"
     ]
    },
    {
     "name": "stderr",
     "output_type": "stream",
     "text": [
      "Processing URLs:  56%|█████▌    | 189/337 [17:41<17:43,  7.18s/it, Current URL: https://www.eversports.de/s/das-tanz-center]           "
     ]
    },
    {
     "name": "stdout",
     "output_type": "stream",
     "text": [
      "Error during HTTP request: 404 Client Error: Not Found for url: https://www.eversports.de/s/das-tanz-center\n",
      "Converting to DataFrame...\n",
      "Validating URLs...\n",
      "Processing completed.\n",
      "Starting URL reconstruction...\n"
     ]
    },
    {
     "name": "stderr",
     "output_type": "stream",
     "text": [
      "Processing URLs:  56%|█████▋    | 190/337 [17:42<13:10,  5.38s/it, Current URL: https://www.eversports.de/s/pole-dance-nrw] "
     ]
    },
    {
     "name": "stdout",
     "output_type": "stream",
     "text": [
      "Error during HTTP request: 404 Client Error: Not Found for url: https://www.eversports.de/s/pole-dance-nrw\n",
      "Converting to DataFrame...\n",
      "Validating URLs...\n",
      "Processing completed.\n",
      "Starting URL reconstruction...\n"
     ]
    },
    {
     "name": "stderr",
     "output_type": "stream",
     "text": [
      "2024-02-10 16:38:13,793 - INFO - Processing URL 1/4: https://www.eversports.de/s/poledancestar\n"
     ]
    },
    {
     "name": "stdout",
     "output_type": "stream",
     "text": [
      "Error reconstructing URL for 'Trainings': Unrecognized text: 'Trainings'\n",
      "Error reconstructing URL for 'Kurse': Unrecognized text: 'Kurse'\n",
      "Converting to DataFrame...\n",
      "Validating URLs...\n"
     ]
    },
    {
     "name": "stderr",
     "output_type": "stream",
     "text": [
      "2024-02-10 16:38:15,181 - INFO - URL https://www.eversports.de/s/poledancestar is valid.\n",
      "2024-02-10 16:38:15,181 - INFO - Processing URL 2/4: https://www.eversports.de/sw/poledancestar\n",
      "2024-02-10 16:38:16,411 - INFO - URL https://www.eversports.de/sw/poledancestar is valid.\n",
      "2024-02-10 16:38:16,412 - INFO - Processing URL 3/4: https://www.eversports.de/sp/poledancestar\n",
      "2024-02-10 16:38:17,628 - INFO - URL https://www.eversports.de/sp/poledancestar is valid.\n",
      "2024-02-10 16:38:17,629 - INFO - Processing URL 4/4: https://www.eversports.de/s/poledancestar/team\n",
      "2024-02-10 16:38:18,862 - INFO - URL https://www.eversports.de/s/poledancestar/team is valid.\n"
     ]
    },
    {
     "name": "stdout",
     "output_type": "stream",
     "text": [
      "Scraping Pole Studio Data from https://www.eversports.de/s/poledancestar...\n",
      "Scraping Workshops Data from https://www.eversports.de/sw/poledancestar...\n",
      "Scraping Workshop Details from https://www.eversports.de/e/workshop/xo0WbhK...\n"
     ]
    },
    {
     "name": "stderr",
     "output_type": "stream",
     "text": [
      "Processing URLs:  57%|█████▋    | 191/337 [17:51<16:17,  6.69s/it, Current URL: https://www.eversports.de/s/poledancestar] "
     ]
    },
    {
     "name": "stdout",
     "output_type": "stream",
     "text": [
      "Processing completed.\n",
      "Pole Studio Data: 1 entries\n",
      "Workshops Data: 1 entries\n",
      "Workshop Details: 1 entries\n",
      "Starting URL reconstruction...\n"
     ]
    },
    {
     "name": "stderr",
     "output_type": "stream",
     "text": [
      "2024-02-10 16:38:23,716 - INFO - Processing URL 1/4: https://www.eversports.de/s/poda-studio\n"
     ]
    },
    {
     "name": "stdout",
     "output_type": "stream",
     "text": [
      "Converting to DataFrame...\n",
      "Validating URLs...\n"
     ]
    },
    {
     "name": "stderr",
     "output_type": "stream",
     "text": [
      "2024-02-10 16:38:25,038 - INFO - URL https://www.eversports.de/s/poda-studio is valid.\n",
      "2024-02-10 16:38:25,039 - INFO - Processing URL 2/4: https://www.eversports.de/sw/poda-studio\n",
      "2024-02-10 16:38:26,240 - INFO - URL https://www.eversports.de/sw/poda-studio is valid.\n",
      "2024-02-10 16:38:26,241 - INFO - Processing URL 3/4: https://www.eversports.de/sp/poda-studio\n",
      "2024-02-10 16:38:27,478 - INFO - URL https://www.eversports.de/sp/poda-studio is valid.\n",
      "2024-02-10 16:38:27,479 - INFO - Processing URL 4/4: https://www.eversports.de/s/poda-studio/team\n",
      "2024-02-10 16:38:28,765 - INFO - URL https://www.eversports.de/s/poda-studio/team is valid.\n"
     ]
    },
    {
     "name": "stdout",
     "output_type": "stream",
     "text": [
      "Scraping Pole Studio Data from https://www.eversports.de/s/poda-studio...\n",
      "Scraping Workshops Data from https://www.eversports.de/sw/poda-studio...\n",
      "Scraping Workshop Details from https://www.eversports.de/e/workshop/JM68hgK...\n",
      "Scraping Workshop Details from https://www.eversports.de/e/workshop/9PbaXsNu8...\n",
      "Scraping Workshop Details from https://www.eversports.de/e/workshop/2f93D4_...\n"
     ]
    },
    {
     "name": "stderr",
     "output_type": "stream",
     "text": [
      "Processing URLs:  57%|█████▋    | 192/337 [18:06<22:11,  9.18s/it, Current URL: https://www.eversports.de/s/poda-studio]  "
     ]
    },
    {
     "name": "stdout",
     "output_type": "stream",
     "text": [
      "Processing completed.\n",
      "Pole Studio Data: 1 entries\n",
      "Workshops Data: 3 entries\n",
      "Workshop Details: 3 entries\n",
      "Starting URL reconstruction...\n"
     ]
    },
    {
     "name": "stderr",
     "output_type": "stream",
     "text": [
      "Processing URLs:  57%|█████▋    | 193/337 [18:08<16:25,  6.84s/it, Current URL: https://www.eversports.de/s/unique-studios-schweinfurt]"
     ]
    },
    {
     "name": "stdout",
     "output_type": "stream",
     "text": [
      "Error during HTTP request: 404 Client Error: Not Found for url: https://www.eversports.de/s/unique-studios-schweinfurt\n",
      "Converting to DataFrame...\n",
      "Validating URLs...\n",
      "Processing completed.\n",
      "Starting URL reconstruction...\n"
     ]
    },
    {
     "name": "stderr",
     "output_type": "stream",
     "text": [
      "2024-02-10 16:38:39,813 - INFO - Processing URL 1/3: https://www.eversports.de/s/bodysoul-studio-duesseldorf\n"
     ]
    },
    {
     "name": "stdout",
     "output_type": "stream",
     "text": [
      "Converting to DataFrame...\n",
      "Validating URLs...\n"
     ]
    },
    {
     "name": "stderr",
     "output_type": "stream",
     "text": [
      "2024-02-10 16:38:41,521 - INFO - URL https://www.eversports.de/s/bodysoul-studio-duesseldorf is valid.\n",
      "2024-02-10 16:38:41,521 - INFO - Processing URL 2/3: https://www.eversports.de/sp/bodysoul-studio-duesseldorf\n",
      "2024-02-10 16:38:42,697 - INFO - URL https://www.eversports.de/sp/bodysoul-studio-duesseldorf is valid.\n",
      "2024-02-10 16:38:42,697 - INFO - Processing URL 3/3: https://www.eversports.de/s/bodysoul-studio-duesseldorf/team\n",
      "2024-02-10 16:38:43,958 - INFO - URL https://www.eversports.de/s/bodysoul-studio-duesseldorf/team is valid.\n"
     ]
    },
    {
     "name": "stdout",
     "output_type": "stream",
     "text": [
      "Scraping Pole Studio Data from https://www.eversports.de/s/bodysoul-studio-duesseldorf...\n"
     ]
    },
    {
     "name": "stderr",
     "output_type": "stream",
     "text": [
      "Processing URLs:  58%|█████▊    | 194/337 [18:15<16:35,  6.96s/it, Current URL: https://www.eversports.de/s/bodysoul-studio-duesseldorf]"
     ]
    },
    {
     "name": "stdout",
     "output_type": "stream",
     "text": [
      "Processing completed.\n",
      "Pole Studio Data: 1 entries\n",
      "Starting URL reconstruction...\n"
     ]
    },
    {
     "name": "stderr",
     "output_type": "stream",
     "text": [
      "Processing URLs:  58%|█████▊    | 195/337 [18:16<12:21,  5.22s/it, Current URL: https://www.eversports.de/s/pole-fit-britt]             "
     ]
    },
    {
     "name": "stdout",
     "output_type": "stream",
     "text": [
      "Error during HTTP request: 404 Client Error: Not Found for url: https://www.eversports.de/s/pole-fit-britt\n",
      "Converting to DataFrame...\n",
      "Validating URLs...\n",
      "Processing completed.\n",
      "Starting URL reconstruction...\n"
     ]
    },
    {
     "name": "stderr",
     "output_type": "stream",
     "text": [
      "Processing URLs:  58%|█████▊    | 196/337 [18:17<09:25,  4.01s/it, Current URL: https://www.eversports.de/s/schwerelos]    "
     ]
    },
    {
     "name": "stdout",
     "output_type": "stream",
     "text": [
      "Error during HTTP request: 404 Client Error: Not Found for url: https://www.eversports.de/s/schwerelos\n",
      "Converting to DataFrame...\n",
      "Validating URLs...\n",
      "Processing completed.\n",
      "Starting URL reconstruction...\n"
     ]
    },
    {
     "name": "stderr",
     "output_type": "stream",
     "text": [
      "Processing URLs:  58%|█████▊    | 197/337 [18:19<07:23,  3.17s/it, Current URL: https://www.eversports.de/s/vertical-pole-aerial-dance-aschaffenburg]"
     ]
    },
    {
     "name": "stdout",
     "output_type": "stream",
     "text": [
      "Error during HTTP request: 404 Client Error: Not Found for url: https://www.eversports.de/s/vertical-pole-aerial-dance-aschaffenburg\n",
      "Converting to DataFrame...\n",
      "Validating URLs...\n",
      "Processing completed.\n",
      "Starting URL reconstruction...\n"
     ]
    },
    {
     "name": "stderr",
     "output_type": "stream",
     "text": [
      "Processing URLs:  59%|█████▉    | 198/337 [18:20<06:05,  2.63s/it, Current URL: https://www.eversports.de/s/exquisuite]                              "
     ]
    },
    {
     "name": "stdout",
     "output_type": "stream",
     "text": [
      "Error during HTTP request: 404 Client Error: Not Found for url: https://www.eversports.de/s/exquisuite\n",
      "Converting to DataFrame...\n",
      "Validating URLs...\n",
      "Processing completed.\n",
      "Starting URL reconstruction...\n"
     ]
    },
    {
     "name": "stderr",
     "output_type": "stream",
     "text": [
      "Processing URLs:  59%|█████▉    | 199/337 [18:27<09:11,  3.99s/it, Current URL: https://www.eversports.de/s/schwerelos-münster]"
     ]
    },
    {
     "name": "stdout",
     "output_type": "stream",
     "text": [
      "Error during HTTP request: Exceeded 30 redirects.\n",
      "Converting to DataFrame...\n",
      "Validating URLs...\n",
      "Processing completed.\n",
      "Starting URL reconstruction...\n"
     ]
    },
    {
     "name": "stderr",
     "output_type": "stream",
     "text": [
      "Processing URLs:  59%|█████▉    | 200/337 [18:29<07:16,  3.19s/it, Current URL: https://www.eversports.de/s/pole-arts-saarland]"
     ]
    },
    {
     "name": "stdout",
     "output_type": "stream",
     "text": [
      "Error during HTTP request: 404 Client Error: Not Found for url: https://www.eversports.de/s/pole-arts-saarland\n",
      "Converting to DataFrame...\n",
      "Validating URLs...\n",
      "Processing completed.\n",
      "Starting URL reconstruction...\n"
     ]
    },
    {
     "name": "stderr",
     "output_type": "stream",
     "text": [
      "Processing URLs:  60%|█████▉    | 201/337 [18:30<05:51,  2.58s/it, Current URL: https://www.eversports.de/s/polemotion-freiburg]"
     ]
    },
    {
     "name": "stdout",
     "output_type": "stream",
     "text": [
      "Error during HTTP request: 404 Client Error: Not Found for url: https://www.eversports.de/s/polemotion-freiburg\n",
      "Converting to DataFrame...\n",
      "Validating URLs...\n",
      "Processing completed.\n",
      "Starting URL reconstruction...\n"
     ]
    },
    {
     "name": "stderr",
     "output_type": "stream",
     "text": [
      "2024-02-10 16:39:01,665 - INFO - Processing URL 1/3: https://www.eversports.de/s/ima-intentional-movement-academy\n"
     ]
    },
    {
     "name": "stdout",
     "output_type": "stream",
     "text": [
      "Error reconstructing URL for 'Retreats': Unrecognized text: 'Retreats'\n",
      "Converting to DataFrame...\n",
      "Validating URLs...\n"
     ]
    },
    {
     "name": "stderr",
     "output_type": "stream",
     "text": [
      "2024-02-10 16:39:02,930 - INFO - URL https://www.eversports.de/s/ima-intentional-movement-academy is valid.\n",
      "2024-02-10 16:39:02,931 - INFO - Processing URL 2/3: https://www.eversports.de/sp/ima-intentional-movement-academy\n",
      "2024-02-10 16:39:04,228 - INFO - URL https://www.eversports.de/sp/ima-intentional-movement-academy is valid.\n",
      "2024-02-10 16:39:04,229 - INFO - Processing URL 3/3: https://www.eversports.de/s/ima-intentional-movement-academy/team\n",
      "2024-02-10 16:39:05,549 - INFO - URL https://www.eversports.de/s/ima-intentional-movement-academy/team is valid.\n"
     ]
    },
    {
     "name": "stdout",
     "output_type": "stream",
     "text": [
      "Scraping Pole Studio Data from https://www.eversports.de/s/ima-intentional-movement-academy...\n"
     ]
    },
    {
     "name": "stderr",
     "output_type": "stream",
     "text": [
      "Processing URLs:  60%|█████▉    | 202/337 [18:35<07:54,  3.52s/it, Current URL: https://www.eversports.de/s/ima-intentional-movement-academy]"
     ]
    },
    {
     "name": "stdout",
     "output_type": "stream",
     "text": [
      "Processing completed.\n",
      "Pole Studio Data: 1 entries\n",
      "Starting URL reconstruction...\n"
     ]
    },
    {
     "name": "stderr",
     "output_type": "stream",
     "text": [
      "Processing URLs:  60%|██████    | 203/337 [18:37<06:16,  2.81s/it, Current URL: https://www.eversports.de/s/studio-aria-arte]                "
     ]
    },
    {
     "name": "stdout",
     "output_type": "stream",
     "text": [
      "Error during HTTP request: 404 Client Error: Not Found for url: https://www.eversports.de/s/studio-aria-arte\n",
      "Converting to DataFrame...\n",
      "Validating URLs...\n",
      "Processing completed.\n",
      "Starting URL reconstruction...\n"
     ]
    },
    {
     "name": "stderr",
     "output_type": "stream",
     "text": [
      "2024-02-10 16:39:09,715 - INFO - Processing URL 1/4: https://www.eversports.de/s/cheesy-heaven\n"
     ]
    },
    {
     "name": "stdout",
     "output_type": "stream",
     "text": [
      "Converting to DataFrame...\n",
      "Validating URLs...\n"
     ]
    },
    {
     "name": "stderr",
     "output_type": "stream",
     "text": [
      "2024-02-10 16:39:11,038 - INFO - URL https://www.eversports.de/s/cheesy-heaven is valid.\n",
      "2024-02-10 16:39:11,039 - INFO - Processing URL 2/4: https://www.eversports.de/sw/cheesy-heaven\n",
      "2024-02-10 16:39:12,328 - INFO - URL https://www.eversports.de/sw/cheesy-heaven is valid.\n",
      "2024-02-10 16:39:12,329 - INFO - Processing URL 3/4: https://www.eversports.de/sp/cheesy-heaven\n",
      "2024-02-10 16:39:13,522 - INFO - URL https://www.eversports.de/sp/cheesy-heaven is valid.\n",
      "2024-02-10 16:39:13,522 - INFO - Processing URL 4/4: https://www.eversports.de/s/cheesy-heaven/team\n",
      "2024-02-10 16:39:14,715 - INFO - URL https://www.eversports.de/s/cheesy-heaven/team is valid.\n"
     ]
    },
    {
     "name": "stdout",
     "output_type": "stream",
     "text": [
      "Scraping Pole Studio Data from https://www.eversports.de/s/cheesy-heaven...\n",
      "Scraping Workshops Data from https://www.eversports.de/sw/cheesy-heaven...\n",
      "Scraping Workshop Details from https://www.eversports.de/e/workshop/FPhYm4m...\n",
      "Scraping Workshop Details from https://www.eversports.de/e/workshop/YUDNvHE...\n",
      "Scraping Workshop Details from https://www.eversports.de/e/workshop/wLNZTsC...\n",
      "Scraping Workshop Details from https://www.eversports.de/e/workshop/GZK4IEa...\n"
     ]
    },
    {
     "name": "stderr",
     "output_type": "stream",
     "text": [
      "Processing URLs:  61%|██████    | 204/337 [18:51<14:05,  6.35s/it, Current URL: https://www.eversports.de/s/cheesy-heaven]   "
     ]
    },
    {
     "name": "stdout",
     "output_type": "stream",
     "text": [
      "Processing completed.\n",
      "Pole Studio Data: 1 entries\n",
      "Workshops Data: 4 entries\n",
      "Workshop Details: 4 entries\n",
      "Starting URL reconstruction...\n"
     ]
    },
    {
     "name": "stderr",
     "output_type": "stream",
     "text": [
      "2024-02-10 16:39:24,198 - INFO - Processing URL 1/4: https://www.eversports.de/s/soultide\n"
     ]
    },
    {
     "name": "stdout",
     "output_type": "stream",
     "text": [
      "Error reconstructing URL for 'Retreats': Unrecognized text: 'Retreats'\n",
      "Converting to DataFrame...\n",
      "Validating URLs...\n"
     ]
    },
    {
     "name": "stderr",
     "output_type": "stream",
     "text": [
      "2024-02-10 16:39:25,532 - INFO - URL https://www.eversports.de/s/soultide is valid.\n",
      "2024-02-10 16:39:25,534 - INFO - Processing URL 2/4: https://www.eversports.de/sw/soultide\n",
      "2024-02-10 16:39:26,739 - INFO - URL https://www.eversports.de/sw/soultide is valid.\n",
      "2024-02-10 16:39:26,739 - INFO - Processing URL 3/4: https://www.eversports.de/sp/soultide\n",
      "2024-02-10 16:39:27,941 - INFO - URL https://www.eversports.de/sp/soultide is valid.\n",
      "2024-02-10 16:39:27,942 - INFO - Processing URL 4/4: https://www.eversports.de/s/soultide/team\n",
      "2024-02-10 16:39:29,271 - INFO - URL https://www.eversports.de/s/soultide/team is valid.\n"
     ]
    },
    {
     "name": "stdout",
     "output_type": "stream",
     "text": [
      "Scraping Pole Studio Data from https://www.eversports.de/s/soultide...\n",
      "Scraping Workshops Data from https://www.eversports.de/sw/soultide...\n",
      "Scraping Workshop Details from https://www.eversports.de/e/workshop/U2ElOtm...\n",
      "Scraping Workshop Details from https://www.eversports.de/e/workshop/npdGKjQ...\n"
     ]
    },
    {
     "name": "stderr",
     "output_type": "stream",
     "text": [
      "Processing URLs:  61%|██████    | 205/337 [19:04<18:19,  8.33s/it, Current URL: https://www.eversports.de/s/soultide]     "
     ]
    },
    {
     "name": "stdout",
     "output_type": "stream",
     "text": [
      "Processing completed.\n",
      "Pole Studio Data: 1 entries\n",
      "Workshops Data: 2 entries\n",
      "Workshop Details: 2 entries\n",
      "Starting URL reconstruction...\n"
     ]
    },
    {
     "name": "stderr",
     "output_type": "stream",
     "text": [
      "Processing URLs:  61%|██████    | 206/337 [19:06<14:04,  6.45s/it, Current URL: https://www.eversports.de/s/vi-dance-essen]"
     ]
    },
    {
     "name": "stdout",
     "output_type": "stream",
     "text": [
      "Error during HTTP request: 404 Client Error: Not Found for url: https://www.eversports.de/s/vi-dance-essen\n",
      "Converting to DataFrame...\n",
      "Validating URLs...\n",
      "Processing completed.\n",
      "Starting URL reconstruction...\n"
     ]
    },
    {
     "name": "stderr",
     "output_type": "stream",
     "text": [
      "2024-02-10 16:39:38,562 - INFO - Processing URL 1/3: https://www.eversports.de/s/pole-statement\n"
     ]
    },
    {
     "name": "stdout",
     "output_type": "stream",
     "text": [
      "Error reconstructing URL for 'Kurse': Unrecognized text: 'Kurse'\n",
      "Error reconstructing URL for 'Events': Unrecognized text: 'Events'\n",
      "Converting to DataFrame...\n",
      "Validating URLs...\n"
     ]
    },
    {
     "name": "stderr",
     "output_type": "stream",
     "text": [
      "2024-02-10 16:39:40,156 - INFO - URL https://www.eversports.de/s/pole-statement is valid.\n",
      "2024-02-10 16:39:40,157 - INFO - Processing URL 2/3: https://www.eversports.de/sp/pole-statement\n",
      "2024-02-10 16:39:41,472 - INFO - URL https://www.eversports.de/sp/pole-statement is valid.\n",
      "2024-02-10 16:39:41,473 - INFO - Processing URL 3/3: https://www.eversports.de/s/pole-statement/team\n",
      "2024-02-10 16:39:42,811 - INFO - URL https://www.eversports.de/s/pole-statement/team is valid.\n"
     ]
    },
    {
     "name": "stdout",
     "output_type": "stream",
     "text": [
      "Scraping Pole Studio Data from https://www.eversports.de/s/pole-statement...\n"
     ]
    },
    {
     "name": "stderr",
     "output_type": "stream",
     "text": [
      "Processing URLs:  61%|██████▏   | 207/337 [19:13<13:58,  6.45s/it, Current URL: https://www.eversports.de/s/pole-statement]"
     ]
    },
    {
     "name": "stdout",
     "output_type": "stream",
     "text": [
      "Processing completed.\n",
      "Pole Studio Data: 1 entries\n",
      "Starting URL reconstruction...\n"
     ]
    },
    {
     "name": "stderr",
     "output_type": "stream",
     "text": [
      "Processing URLs:  62%|██████▏   | 208/337 [19:14<10:26,  4.86s/it, Current URL: https://www.eversports.de/s/polestudio-neuss]"
     ]
    },
    {
     "name": "stdout",
     "output_type": "stream",
     "text": [
      "Error during HTTP request: 404 Client Error: Not Found for url: https://www.eversports.de/s/polestudio-neuss\n",
      "Converting to DataFrame...\n",
      "Validating URLs...\n",
      "Processing completed.\n",
      "Starting URL reconstruction...\n"
     ]
    },
    {
     "name": "stderr",
     "output_type": "stream",
     "text": [
      "2024-02-10 16:39:45,861 - INFO - Processing URL 1/3: https://www.eversports.de/s/infinity-polesports\n"
     ]
    },
    {
     "name": "stdout",
     "output_type": "stream",
     "text": [
      "Converting to DataFrame...\n",
      "Validating URLs...\n"
     ]
    },
    {
     "name": "stderr",
     "output_type": "stream",
     "text": [
      "2024-02-10 16:39:47,147 - INFO - URL https://www.eversports.de/s/infinity-polesports is valid.\n",
      "2024-02-10 16:39:47,148 - INFO - Processing URL 2/3: https://www.eversports.de/sp/infinity-polesports\n",
      "2024-02-10 16:39:48,399 - INFO - URL https://www.eversports.de/sp/infinity-polesports is valid.\n",
      "2024-02-10 16:39:48,399 - INFO - Processing URL 3/3: https://www.eversports.de/s/infinity-polesports/team\n",
      "2024-02-10 16:39:49,640 - INFO - URL https://www.eversports.de/s/infinity-polesports/team is valid.\n"
     ]
    },
    {
     "name": "stdout",
     "output_type": "stream",
     "text": [
      "Scraping Pole Studio Data from https://www.eversports.de/s/infinity-polesports...\n"
     ]
    },
    {
     "name": "stderr",
     "output_type": "stream",
     "text": [
      "Processing URLs:  62%|██████▏   | 209/337 [19:19<10:52,  5.10s/it, Current URL: https://www.eversports.de/s/infinity-polesports]"
     ]
    },
    {
     "name": "stdout",
     "output_type": "stream",
     "text": [
      "Processing completed.\n",
      "Pole Studio Data: 1 entries\n",
      "Starting URL reconstruction...\n"
     ]
    },
    {
     "name": "stderr",
     "output_type": "stream",
     "text": [
      "Processing URLs:  62%|██████▏   | 210/337 [19:21<08:15,  3.90s/it, Current URL: https://www.eversports.de/s/fl'air-studios-berlin]"
     ]
    },
    {
     "name": "stdout",
     "output_type": "stream",
     "text": [
      "Error during HTTP request: 404 Client Error: Not Found for url: https://www.eversports.de/s/fl'air-studios-berlin\n",
      "Converting to DataFrame...\n",
      "Validating URLs...\n",
      "Processing completed.\n",
      "Starting URL reconstruction...\n"
     ]
    },
    {
     "name": "stderr",
     "output_type": "stream",
     "text": [
      "Processing URLs:  63%|██████▎   | 211/337 [19:22<06:26,  3.07s/it, Current URL: https://www.eversports.de/s/moving-art-studios]   "
     ]
    },
    {
     "name": "stdout",
     "output_type": "stream",
     "text": [
      "Error during HTTP request: 404 Client Error: Not Found for url: https://www.eversports.de/s/moving-art-studios\n",
      "Converting to DataFrame...\n",
      "Validating URLs...\n",
      "Processing completed.\n",
      "Starting URL reconstruction...\n"
     ]
    },
    {
     "name": "stderr",
     "output_type": "stream",
     "text": [
      "2024-02-10 16:39:53,657 - INFO - Processing URL 1/4: https://www.eversports.de/s/pole-and-move-heidelberg\n"
     ]
    },
    {
     "name": "stdout",
     "output_type": "stream",
     "text": [
      "Converting to DataFrame...\n",
      "Validating URLs...\n"
     ]
    },
    {
     "name": "stderr",
     "output_type": "stream",
     "text": [
      "2024-02-10 16:39:55,026 - INFO - URL https://www.eversports.de/s/pole-and-move-heidelberg is valid.\n",
      "2024-02-10 16:39:55,027 - INFO - Processing URL 2/4: https://www.eversports.de/sw/pole-and-move-heidelberg\n",
      "2024-02-10 16:39:56,406 - INFO - URL https://www.eversports.de/sw/pole-and-move-heidelberg is valid.\n",
      "2024-02-10 16:39:56,407 - INFO - Processing URL 3/4: https://www.eversports.de/sp/pole-and-move-heidelberg\n",
      "2024-02-10 16:39:57,683 - INFO - URL https://www.eversports.de/sp/pole-and-move-heidelberg is valid.\n",
      "2024-02-10 16:39:57,684 - INFO - Processing URL 4/4: https://www.eversports.de/s/pole-and-move-heidelberg/team\n",
      "2024-02-10 16:39:58,929 - INFO - URL https://www.eversports.de/s/pole-and-move-heidelberg/team is valid.\n"
     ]
    },
    {
     "name": "stdout",
     "output_type": "stream",
     "text": [
      "Scraping Pole Studio Data from https://www.eversports.de/s/pole-and-move-heidelberg...\n",
      "Scraping Workshops Data from https://www.eversports.de/sw/pole-and-move-heidelberg...\n",
      "Scraping Workshop Details from https://www.eversports.de/e/workshop/101RSFR...\n",
      "Scraping Workshop Details from https://www.eversports.de/e/workshop/AnumKko...\n",
      "Scraping Workshop Details from https://www.eversports.de/e/workshop/aqDwRxt...\n",
      "Scraping Workshop Details from https://www.eversports.de/e/workshop/xpUUbAx...\n",
      "Scraping Workshop Details from https://www.eversports.de/e/workshop/yXAMy8l...\n",
      "Scraping Workshop Details from https://www.eversports.de/e/workshop/mI91ydw...\n",
      "Scraping Workshop Details from https://www.eversports.de/e/workshop/Ngcpd4l...\n",
      "Scraping Workshop Details from https://www.eversports.de/e/workshop/ij8VZCH...\n"
     ]
    },
    {
     "name": "stderr",
     "output_type": "stream",
     "text": [
      "Processing URLs:  63%|██████▎   | 212/337 [19:43<17:35,  8.44s/it, Current URL: https://www.eversports.de/s/pole-and-move-heidelberg]"
     ]
    },
    {
     "name": "stdout",
     "output_type": "stream",
     "text": [
      "Processing completed.\n",
      "Pole Studio Data: 1 entries\n",
      "Workshops Data: 8 entries\n",
      "Workshop Details: 8 entries\n",
      "Starting URL reconstruction...\n"
     ]
    },
    {
     "name": "stderr",
     "output_type": "stream",
     "text": [
      "2024-02-10 16:40:14,578 - INFO - Processing URL 1/3: https://www.eversports.de/s/polewirbel\n"
     ]
    },
    {
     "name": "stdout",
     "output_type": "stream",
     "text": [
      "Converting to DataFrame...\n",
      "Validating URLs...\n"
     ]
    },
    {
     "name": "stderr",
     "output_type": "stream",
     "text": [
      "2024-02-10 16:40:15,820 - INFO - URL https://www.eversports.de/s/polewirbel is valid.\n",
      "2024-02-10 16:40:15,820 - INFO - Processing URL 2/3: https://www.eversports.de/sp/polewirbel\n",
      "2024-02-10 16:40:17,169 - INFO - URL https://www.eversports.de/sp/polewirbel is valid.\n",
      "2024-02-10 16:40:17,170 - INFO - Processing URL 3/3: https://www.eversports.de/s/polewirbel/team\n",
      "2024-02-10 16:40:18,335 - INFO - URL https://www.eversports.de/s/polewirbel/team is valid.\n"
     ]
    },
    {
     "name": "stdout",
     "output_type": "stream",
     "text": [
      "Scraping Pole Studio Data from https://www.eversports.de/s/polewirbel...\n"
     ]
    },
    {
     "name": "stderr",
     "output_type": "stream",
     "text": [
      "Processing URLs:  63%|██████▎   | 213/337 [19:49<15:53,  7.69s/it, Current URL: https://www.eversports.de/s/polewirbel]              "
     ]
    },
    {
     "name": "stdout",
     "output_type": "stream",
     "text": [
      "Processing completed.\n",
      "Pole Studio Data: 1 entries\n",
      "Starting URL reconstruction...\n"
     ]
    },
    {
     "name": "stderr",
     "output_type": "stream",
     "text": [
      "2024-02-10 16:40:20,815 - INFO - Processing URL 1/4: https://www.eversports.de/s/polearize\n"
     ]
    },
    {
     "name": "stdout",
     "output_type": "stream",
     "text": [
      "Converting to DataFrame...\n",
      "Validating URLs...\n"
     ]
    },
    {
     "name": "stderr",
     "output_type": "stream",
     "text": [
      "2024-02-10 16:40:24,091 - INFO - URL https://www.eversports.de/s/polearize is valid.\n",
      "2024-02-10 16:40:24,092 - INFO - Processing URL 2/4: https://www.eversports.de/sw/polearize\n",
      "2024-02-10 16:40:25,393 - INFO - URL https://www.eversports.de/sw/polearize is valid.\n",
      "2024-02-10 16:40:25,394 - INFO - Processing URL 3/4: https://www.eversports.de/sp/polearize\n",
      "2024-02-10 16:40:26,544 - INFO - URL https://www.eversports.de/sp/polearize is valid.\n",
      "2024-02-10 16:40:26,546 - INFO - Processing URL 4/4: https://www.eversports.de/s/polearize/team\n",
      "2024-02-10 16:40:27,739 - INFO - URL https://www.eversports.de/s/polearize/team is valid.\n"
     ]
    },
    {
     "name": "stdout",
     "output_type": "stream",
     "text": [
      "Scraping Pole Studio Data from https://www.eversports.de/s/polearize...\n",
      "Scraping Workshops Data from https://www.eversports.de/sw/polearize...\n",
      "Scraping Workshop Details from https://www.eversports.de/e/workshop/516yIHG...\n",
      "Scraping Workshop Details from https://www.eversports.de/e/workshop/vmkQFeK...\n",
      "Scraping Workshop Details from https://www.eversports.de/e/workshop/4gGolhi...\n"
     ]
    },
    {
     "name": "stderr",
     "output_type": "stream",
     "text": [
      "Processing URLs:  64%|██████▎   | 214/337 [20:06<21:28, 10.47s/it, Current URL: https://www.eversports.de/s/polearize] "
     ]
    },
    {
     "name": "stdout",
     "output_type": "stream",
     "text": [
      "Processing completed.\n",
      "Pole Studio Data: 1 entries\n",
      "Workshops Data: 3 entries\n",
      "Workshop Details: 3 entries\n",
      "Starting URL reconstruction...\n"
     ]
    },
    {
     "name": "stderr",
     "output_type": "stream",
     "text": [
      "Processing URLs:  64%|██████▍   | 215/337 [20:07<15:36,  7.67s/it, Current URL: https://www.eversports.de/s/studio-yh-pole-(and)-sports-berlin]"
     ]
    },
    {
     "name": "stdout",
     "output_type": "stream",
     "text": [
      "Error during HTTP request: 404 Client Error: Not Found for url: https://www.eversports.de/s/studio-yh-pole-(and)-sports-berlin\n",
      "Converting to DataFrame...\n",
      "Validating URLs...\n",
      "Processing completed.\n",
      "Starting URL reconstruction...\n"
     ]
    },
    {
     "name": "stderr",
     "output_type": "stream",
     "text": [
      "2024-02-10 16:40:38,671 - INFO - Processing URL 1/4: https://www.eversports.de/s/pole-and-move-ludwigshafen\n"
     ]
    },
    {
     "name": "stdout",
     "output_type": "stream",
     "text": [
      "Converting to DataFrame...\n",
      "Validating URLs...\n"
     ]
    },
    {
     "name": "stderr",
     "output_type": "stream",
     "text": [
      "2024-02-10 16:40:40,027 - INFO - URL https://www.eversports.de/s/pole-and-move-ludwigshafen is valid.\n",
      "2024-02-10 16:40:40,028 - INFO - Processing URL 2/4: https://www.eversports.de/sw/pole-and-move-ludwigshafen\n",
      "2024-02-10 16:40:41,419 - INFO - URL https://www.eversports.de/sw/pole-and-move-ludwigshafen is valid.\n",
      "2024-02-10 16:40:41,420 - INFO - Processing URL 3/4: https://www.eversports.de/sp/pole-and-move-ludwigshafen\n",
      "2024-02-10 16:40:42,660 - INFO - URL https://www.eversports.de/sp/pole-and-move-ludwigshafen is valid.\n",
      "2024-02-10 16:40:42,661 - INFO - Processing URL 4/4: https://www.eversports.de/s/pole-and-move-ludwigshafen/team\n",
      "2024-02-10 16:40:43,939 - INFO - URL https://www.eversports.de/s/pole-and-move-ludwigshafen/team is valid.\n"
     ]
    },
    {
     "name": "stdout",
     "output_type": "stream",
     "text": [
      "Scraping Pole Studio Data from https://www.eversports.de/s/pole-and-move-ludwigshafen...\n",
      "Scraping Workshops Data from https://www.eversports.de/sw/pole-and-move-ludwigshafen...\n",
      "Scraping Workshop Details from https://www.eversports.de/e/workshop/QSBryP0...\n",
      "Scraping Workshop Details from https://www.eversports.de/e/workshop/VBYd7ZF...\n",
      "Scraping Workshop Details from https://www.eversports.de/e/workshop/zTbGfLi...\n",
      "Scraping Workshop Details from https://www.eversports.de/e/workshop/fUoSQuY...\n"
     ]
    },
    {
     "name": "stderr",
     "output_type": "stream",
     "text": [
      "Processing URLs:  64%|██████▍   | 216/337 [20:23<20:31, 10.18s/it, Current URL: https://www.eversports.de/s/pole-and-move-ludwigshafen]        "
     ]
    },
    {
     "name": "stdout",
     "output_type": "stream",
     "text": [
      "Processing completed.\n",
      "Pole Studio Data: 1 entries\n",
      "Workshops Data: 4 entries\n",
      "Workshop Details: 4 entries\n",
      "Starting URL reconstruction...\n"
     ]
    },
    {
     "name": "stderr",
     "output_type": "stream",
     "text": [
      "Processing URLs:  64%|██████▍   | 217/337 [20:24<14:55,  7.46s/it, Current URL: https://www.eversports.de/s/vanilla-sky-pole-atelier]  "
     ]
    },
    {
     "name": "stdout",
     "output_type": "stream",
     "text": [
      "Error during HTTP request: 404 Client Error: Not Found for url: https://www.eversports.de/s/vanilla-sky-pole-atelier\n",
      "Converting to DataFrame...\n",
      "Validating URLs...\n",
      "Processing completed.\n",
      "Starting URL reconstruction...\n"
     ]
    },
    {
     "name": "stderr",
     "output_type": "stream",
     "text": [
      "2024-02-10 16:40:55,738 - INFO - Processing URL 1/4: https://www.eversports.de/s/star-poledance\n"
     ]
    },
    {
     "name": "stdout",
     "output_type": "stream",
     "text": [
      "Converting to DataFrame...\n",
      "Validating URLs...\n"
     ]
    },
    {
     "name": "stderr",
     "output_type": "stream",
     "text": [
      "2024-02-10 16:40:57,081 - INFO - URL https://www.eversports.de/s/star-poledance is valid.\n",
      "2024-02-10 16:40:57,082 - INFO - Processing URL 2/4: https://www.eversports.de/sw/star-poledance\n",
      "2024-02-10 16:40:59,100 - INFO - URL https://www.eversports.de/sw/star-poledance is valid.\n",
      "2024-02-10 16:40:59,101 - INFO - Processing URL 3/4: https://www.eversports.de/sp/star-poledance\n",
      "2024-02-10 16:41:00,243 - INFO - URL https://www.eversports.de/sp/star-poledance is valid.\n",
      "2024-02-10 16:41:00,245 - INFO - Processing URL 4/4: https://www.eversports.de/s/star-poledance/team\n",
      "2024-02-10 16:41:01,424 - INFO - URL https://www.eversports.de/s/star-poledance/team is valid.\n"
     ]
    },
    {
     "name": "stdout",
     "output_type": "stream",
     "text": [
      "Scraping Pole Studio Data from https://www.eversports.de/s/star-poledance...\n",
      "Scraping Workshops Data from https://www.eversports.de/sw/star-poledance...\n",
      "Scraping Workshop Details from https://www.eversports.de/e/workshop/jZ6LjEO...\n"
     ]
    },
    {
     "name": "stderr",
     "output_type": "stream",
     "text": [
      "Processing URLs:  65%|██████▍   | 218/337 [20:37<18:01,  9.09s/it, Current URL: https://www.eversports.de/s/star-poledance]          "
     ]
    },
    {
     "name": "stdout",
     "output_type": "stream",
     "text": [
      "Processing completed.\n",
      "Pole Studio Data: 1 entries\n",
      "Workshops Data: 1 entries\n",
      "Workshop Details: 1 entries\n",
      "Starting URL reconstruction...\n"
     ]
    },
    {
     "name": "stderr",
     "output_type": "stream",
     "text": [
      "2024-02-10 16:41:08,880 - INFO - Processing URL 1/3: https://www.eversports.de/s/studio-nienke\n"
     ]
    },
    {
     "name": "stdout",
     "output_type": "stream",
     "text": [
      "Error reconstructing URL for 'Kurse': Unrecognized text: 'Kurse'\n",
      "Converting to DataFrame...\n",
      "Validating URLs...\n"
     ]
    },
    {
     "name": "stderr",
     "output_type": "stream",
     "text": [
      "2024-02-10 16:41:10,247 - INFO - URL https://www.eversports.de/s/studio-nienke is valid.\n",
      "2024-02-10 16:41:10,248 - INFO - Processing URL 2/3: https://www.eversports.de/sp/studio-nienke\n",
      "2024-02-10 16:41:11,497 - INFO - URL https://www.eversports.de/sp/studio-nienke is not valid.\n",
      "2024-02-10 16:41:11,498 - INFO - Processing URL 3/3: https://www.eversports.de/s/studio-nienke/team\n",
      "2024-02-10 16:41:12,714 - INFO - URL https://www.eversports.de/s/studio-nienke/team is valid.\n"
     ]
    },
    {
     "name": "stdout",
     "output_type": "stream",
     "text": [
      "Scraping Pole Studio Data from https://www.eversports.de/s/studio-nienke...\n"
     ]
    },
    {
     "name": "stderr",
     "output_type": "stream",
     "text": [
      "Processing URLs:  65%|██████▍   | 219/337 [20:42<15:54,  8.09s/it, Current URL: https://www.eversports.de/s/studio-nienke] "
     ]
    },
    {
     "name": "stdout",
     "output_type": "stream",
     "text": [
      "Processing completed.\n",
      "Pole Studio Data: 1 entries\n",
      "Starting URL reconstruction...\n"
     ]
    },
    {
     "name": "stderr",
     "output_type": "stream",
     "text": [
      "Processing URLs:  65%|██████▌   | 220/337 [20:44<11:42,  6.00s/it, Current URL: https://www.eversports.de/s/polefitness-by-sophie-m.]"
     ]
    },
    {
     "name": "stdout",
     "output_type": "stream",
     "text": [
      "Error during HTTP request: 404 Client Error: Not Found for url: https://www.eversports.de/s/polefitness-by-sophie-m.\n",
      "Converting to DataFrame...\n",
      "Validating URLs...\n",
      "Processing completed.\n",
      "Starting URL reconstruction...\n"
     ]
    },
    {
     "name": "stderr",
     "output_type": "stream",
     "text": [
      "2024-02-10 16:41:16,312 - INFO - Processing URL 1/4: https://www.eversports.de/s/balance-neumarkt\n"
     ]
    },
    {
     "name": "stdout",
     "output_type": "stream",
     "text": [
      "Error reconstructing URL for 'Kurse': Unrecognized text: 'Kurse'\n",
      "Converting to DataFrame...\n",
      "Validating URLs...\n"
     ]
    },
    {
     "name": "stderr",
     "output_type": "stream",
     "text": [
      "2024-02-10 16:41:17,973 - INFO - URL https://www.eversports.de/s/balance-neumarkt is valid.\n",
      "2024-02-10 16:41:17,975 - INFO - Processing URL 2/4: https://www.eversports.de/sw/balance-neumarkt\n",
      "2024-02-10 16:41:19,716 - INFO - URL https://www.eversports.de/sw/balance-neumarkt is valid.\n",
      "2024-02-10 16:41:19,717 - INFO - Processing URL 3/4: https://www.eversports.de/sp/balance-neumarkt\n",
      "2024-02-10 16:41:21,283 - INFO - URL https://www.eversports.de/sp/balance-neumarkt is valid.\n",
      "2024-02-10 16:41:21,284 - INFO - Processing URL 4/4: https://www.eversports.de/s/balance-neumarkt/team\n",
      "2024-02-10 16:41:22,578 - INFO - URL https://www.eversports.de/s/balance-neumarkt/team is valid.\n"
     ]
    },
    {
     "name": "stdout",
     "output_type": "stream",
     "text": [
      "Scraping Pole Studio Data from https://www.eversports.de/s/balance-neumarkt...\n",
      "Scraping Workshops Data from https://www.eversports.de/sw/balance-neumarkt...\n",
      "Scraping Workshop Details from https://www.eversports.de/e/workshop/OWKdsKA...\n",
      "Scraping Workshop Details from https://www.eversports.de/e/workshop/qtwNW3p...\n",
      "Scraping Workshop Details from https://www.eversports.de/e/workshop/vnjpjso...\n",
      "Scraping Workshop Details from https://www.eversports.de/e/workshop/s-CvYfY...\n",
      "Scraping Workshop Details from https://www.eversports.de/e/workshop/lIzIIH9...\n",
      "Scraping Workshop Details from https://www.eversports.de/e/workshop/1hwRppH...\n",
      "Scraping Workshop Details from https://www.eversports.de/e/workshop/FWO9nVb...\n",
      "Scraping Workshop Details from https://www.eversports.de/e/workshop/wHwtdS-...\n",
      "Scraping Workshop Details from https://www.eversports.de/e/workshop/D7_g8hU...\n",
      "Scraping Workshop Details from https://www.eversports.de/e/workshop/yXJE2Qf...\n",
      "Scraping Workshop Details from https://www.eversports.de/e/workshop/AL0d8uV...\n",
      "Scraping Workshop Details from https://www.eversports.de/e/workshop/WpCq6MN...\n",
      "Scraping Workshop Details from https://www.eversports.de/e/workshop/uE03gmT...\n",
      "Scraping Workshop Details from https://www.eversports.de/e/workshop/Nm33K4u...\n",
      "Scraping Workshop Details from https://www.eversports.de/e/workshop/DmdrEre...\n",
      "Scraping Workshop Details from https://www.eversports.de/e/workshop/U27XEmo...\n",
      "Scraping Workshop Details from https://www.eversports.de/e/workshop/DujyYDr...\n"
     ]
    },
    {
     "name": "stderr",
     "output_type": "stream",
     "text": [
      "Processing URLs:  66%|██████▌   | 221/337 [21:21<29:41, 15.36s/it, Current URL: https://www.eversports.de/s/balance-neumarkt]        "
     ]
    },
    {
     "name": "stdout",
     "output_type": "stream",
     "text": [
      "Processing completed.\n",
      "Pole Studio Data: 1 entries\n",
      "Workshops Data: 17 entries\n",
      "Workshop Details: 17 entries\n",
      "Starting URL reconstruction...\n"
     ]
    },
    {
     "name": "stderr",
     "output_type": "stream",
     "text": [
      "2024-02-10 16:41:52,780 - INFO - Processing URL 1/1: https://www.eversports.de/s/lush-motion\n"
     ]
    },
    {
     "name": "stdout",
     "output_type": "stream",
     "text": [
      "Converting to DataFrame...\n",
      "Validating URLs...\n"
     ]
    },
    {
     "name": "stderr",
     "output_type": "stream",
     "text": [
      "2024-02-10 16:41:54,131 - INFO - URL https://www.eversports.de/s/lush-motion is valid.\n"
     ]
    },
    {
     "name": "stdout",
     "output_type": "stream",
     "text": [
      "Scraping Pole Studio Data from https://www.eversports.de/s/lush-motion...\n"
     ]
    },
    {
     "name": "stderr",
     "output_type": "stream",
     "text": [
      "Processing URLs:  66%|██████▌   | 222/337 [21:24<22:22, 11.68s/it, Current URL: https://www.eversports.de/s/lush-motion]     "
     ]
    },
    {
     "name": "stdout",
     "output_type": "stream",
     "text": [
      "Processing completed.\n",
      "Pole Studio Data: 1 entries\n",
      "Starting URL reconstruction...\n"
     ]
    },
    {
     "name": "stderr",
     "output_type": "stream",
     "text": [
      "2024-02-10 16:41:55,772 - INFO - Processing URL 1/4: https://www.eversports.de/s/polefit-aline-sustrath\n"
     ]
    },
    {
     "name": "stdout",
     "output_type": "stream",
     "text": [
      "Error reconstructing URL for 'Kurse': Unrecognized text: 'Kurse'\n",
      "Converting to DataFrame...\n",
      "Validating URLs...\n"
     ]
    },
    {
     "name": "stderr",
     "output_type": "stream",
     "text": [
      "2024-02-10 16:41:57,093 - INFO - URL https://www.eversports.de/s/polefit-aline-sustrath is valid.\n",
      "2024-02-10 16:41:57,094 - INFO - Processing URL 2/4: https://www.eversports.de/sw/polefit-aline-sustrath\n",
      "2024-02-10 16:41:58,254 - INFO - URL https://www.eversports.de/sw/polefit-aline-sustrath is valid.\n",
      "2024-02-10 16:41:58,255 - INFO - Processing URL 3/4: https://www.eversports.de/sp/polefit-aline-sustrath\n",
      "2024-02-10 16:41:59,407 - INFO - URL https://www.eversports.de/sp/polefit-aline-sustrath is valid.\n",
      "2024-02-10 16:41:59,408 - INFO - Processing URL 4/4: https://www.eversports.de/s/polefit-aline-sustrath/team\n",
      "2024-02-10 16:42:00,712 - INFO - URL https://www.eversports.de/s/polefit-aline-sustrath/team is valid.\n"
     ]
    },
    {
     "name": "stdout",
     "output_type": "stream",
     "text": [
      "Scraping Pole Studio Data from https://www.eversports.de/s/polefit-aline-sustrath...\n",
      "Scraping Workshops Data from https://www.eversports.de/sw/polefit-aline-sustrath...\n",
      "Scraping Workshop Details from https://www.eversports.de/e/workshop/F0nh2br...\n"
     ]
    },
    {
     "name": "stderr",
     "output_type": "stream",
     "text": [
      "Processing URLs:  66%|██████▌   | 223/337 [21:33<20:40, 10.89s/it, Current URL: https://www.eversports.de/s/polefit-aline-sustrath]"
     ]
    },
    {
     "name": "stdout",
     "output_type": "stream",
     "text": [
      "Processing completed.\n",
      "Pole Studio Data: 1 entries\n",
      "Workshops Data: 1 entries\n",
      "Workshop Details: 1 entries\n",
      "Starting URL reconstruction...\n"
     ]
    },
    {
     "name": "stderr",
     "output_type": "stream",
     "text": [
      "Processing URLs:  66%|██████▋   | 224/337 [21:34<15:01,  7.98s/it, Current URL: https://www.eversports.de/s/vi-dance-hamm]         "
     ]
    },
    {
     "name": "stdout",
     "output_type": "stream",
     "text": [
      "Error during HTTP request: 404 Client Error: Not Found for url: https://www.eversports.de/s/vi-dance-hamm\n",
      "Converting to DataFrame...\n",
      "Validating URLs...\n",
      "Processing completed.\n",
      "Starting URL reconstruction...\n"
     ]
    },
    {
     "name": "stderr",
     "output_type": "stream",
     "text": [
      "Processing URLs:  67%|██████▋   | 225/337 [21:35<11:05,  5.94s/it, Current URL: https://www.eversports.de/s/pole-dance-academy-neuburg]"
     ]
    },
    {
     "name": "stdout",
     "output_type": "stream",
     "text": [
      "Error during HTTP request: 404 Client Error: Not Found for url: https://www.eversports.de/s/pole-dance-academy-neuburg\n",
      "Converting to DataFrame...\n",
      "Validating URLs...\n",
      "Processing completed.\n",
      "Starting URL reconstruction...\n"
     ]
    },
    {
     "name": "stderr",
     "output_type": "stream",
     "text": [
      "Processing URLs:  67%|██████▋   | 226/337 [21:37<08:21,  4.52s/it, Current URL: https://www.eversports.de/s/move-on!-dance-studio-&-polemotions]"
     ]
    },
    {
     "name": "stdout",
     "output_type": "stream",
     "text": [
      "Error during HTTP request: 404 Client Error: Not Found for url: https://www.eversports.de/s/move-on!-dance-studio-&-polemotions\n",
      "Converting to DataFrame...\n",
      "Validating URLs...\n",
      "Processing completed.\n",
      "Starting URL reconstruction...\n"
     ]
    },
    {
     "name": "stderr",
     "output_type": "stream",
     "text": [
      "2024-02-10 16:42:08,536 - INFO - Processing URL 1/4: https://www.eversports.de/s/pole-faction-darmstadt\n"
     ]
    },
    {
     "name": "stdout",
     "output_type": "stream",
     "text": [
      "Converting to DataFrame...\n",
      "Validating URLs...\n"
     ]
    },
    {
     "name": "stderr",
     "output_type": "stream",
     "text": [
      "2024-02-10 16:42:09,913 - INFO - URL https://www.eversports.de/s/pole-faction-darmstadt is valid.\n",
      "2024-02-10 16:42:09,914 - INFO - Processing URL 2/4: https://www.eversports.de/sw/pole-faction-darmstadt\n",
      "2024-02-10 16:42:11,176 - INFO - URL https://www.eversports.de/sw/pole-faction-darmstadt is valid.\n",
      "2024-02-10 16:42:11,177 - INFO - Processing URL 3/4: https://www.eversports.de/sp/pole-faction-darmstadt\n",
      "2024-02-10 16:42:12,525 - INFO - URL https://www.eversports.de/sp/pole-faction-darmstadt is valid.\n",
      "2024-02-10 16:42:12,526 - INFO - Processing URL 4/4: https://www.eversports.de/s/pole-faction-darmstadt/team\n",
      "2024-02-10 16:42:13,843 - INFO - URL https://www.eversports.de/s/pole-faction-darmstadt/team is valid.\n"
     ]
    },
    {
     "name": "stdout",
     "output_type": "stream",
     "text": [
      "Scraping Pole Studio Data from https://www.eversports.de/s/pole-faction-darmstadt...\n",
      "Scraping Workshops Data from https://www.eversports.de/sw/pole-faction-darmstadt...\n",
      "Scraping Workshop Details from https://www.eversports.de/e/workshop/FP-cEyn...\n"
     ]
    },
    {
     "name": "stderr",
     "output_type": "stream",
     "text": [
      "Processing URLs:  67%|██████▋   | 227/337 [21:49<12:36,  6.88s/it, Current URL: https://www.eversports.de/s/pole-faction-darmstadt]             "
     ]
    },
    {
     "name": "stdout",
     "output_type": "stream",
     "text": [
      "Processing completed.\n",
      "Pole Studio Data: 1 entries\n",
      "Workshops Data: 1 entries\n",
      "Workshop Details: 1 entries\n",
      "Starting URL reconstruction...\n"
     ]
    },
    {
     "name": "stderr",
     "output_type": "stream",
     "text": [
      "Processing URLs:  68%|██████▊   | 228/337 [21:50<09:22,  5.16s/it, Current URL: https://www.eversports.de/s/passionate-pole-&-sports]"
     ]
    },
    {
     "name": "stdout",
     "output_type": "stream",
     "text": [
      "Error during HTTP request: 404 Client Error: Not Found for url: https://www.eversports.de/s/passionate-pole-&-sports\n",
      "Converting to DataFrame...\n",
      "Validating URLs...\n",
      "Processing completed.\n",
      "Starting URL reconstruction...\n"
     ]
    },
    {
     "name": "stderr",
     "output_type": "stream",
     "text": [
      "Processing URLs:  68%|██████▊   | 229/337 [21:51<07:06,  3.95s/it, Current URL: https://www.eversports.de/s/aerial-athletix]         "
     ]
    },
    {
     "name": "stdout",
     "output_type": "stream",
     "text": [
      "Error during HTTP request: 404 Client Error: Not Found for url: https://www.eversports.de/s/aerial-athletix\n",
      "Converting to DataFrame...\n",
      "Validating URLs...\n",
      "Processing completed.\n",
      "Starting URL reconstruction...\n"
     ]
    },
    {
     "name": "stderr",
     "output_type": "stream",
     "text": [
      "Processing URLs:  68%|██████▊   | 230/337 [21:52<05:35,  3.14s/it, Current URL: https://www.eversports.de/s/freaky-pole-cats-straubing]"
     ]
    },
    {
     "name": "stdout",
     "output_type": "stream",
     "text": [
      "Error during HTTP request: 404 Client Error: Not Found for url: https://www.eversports.de/s/freaky-pole-cats-straubing\n",
      "Converting to DataFrame...\n",
      "Validating URLs...\n",
      "Processing completed.\n",
      "Starting URL reconstruction...\n"
     ]
    },
    {
     "name": "stderr",
     "output_type": "stream",
     "text": [
      "2024-02-10 16:42:24,515 - INFO - Processing URL 1/1: https://www.eversports.de/s/artletik-ug-laufen-und-meer\n"
     ]
    },
    {
     "name": "stdout",
     "output_type": "stream",
     "text": [
      "Converting to DataFrame...\n",
      "Validating URLs...\n"
     ]
    },
    {
     "name": "stderr",
     "output_type": "stream",
     "text": [
      "2024-02-10 16:42:25,734 - INFO - URL https://www.eversports.de/s/artletik-ug-laufen-und-meer is valid.\n"
     ]
    },
    {
     "name": "stdout",
     "output_type": "stream",
     "text": [
      "Scraping Pole Studio Data from https://www.eversports.de/s/artletik-ug-laufen-und-meer...\n"
     ]
    },
    {
     "name": "stderr",
     "output_type": "stream",
     "text": [
      "Processing URLs:  69%|██████▊   | 231/337 [21:55<05:28,  3.10s/it, Current URL: https://www.eversports.de/s/artletik-ug-laufen-und-meer]"
     ]
    },
    {
     "name": "stdout",
     "output_type": "stream",
     "text": [
      "Processing completed.\n",
      "Pole Studio Data: 1 entries\n",
      "Starting URL reconstruction...\n"
     ]
    },
    {
     "name": "stderr",
     "output_type": "stream",
     "text": [
      "2024-02-10 16:42:27,473 - INFO - Processing URL 1/4: https://www.eversports.de/s/pole-plus\n"
     ]
    },
    {
     "name": "stdout",
     "output_type": "stream",
     "text": [
      "Converting to DataFrame...\n",
      "Validating URLs...\n"
     ]
    },
    {
     "name": "stderr",
     "output_type": "stream",
     "text": [
      "2024-02-10 16:42:28,838 - INFO - URL https://www.eversports.de/s/pole-plus is valid.\n",
      "2024-02-10 16:42:28,839 - INFO - Processing URL 2/4: https://www.eversports.de/sw/pole-plus\n",
      "2024-02-10 16:42:30,092 - INFO - URL https://www.eversports.de/sw/pole-plus is valid.\n",
      "2024-02-10 16:42:30,095 - INFO - Processing URL 3/4: https://www.eversports.de/sp/pole-plus\n",
      "2024-02-10 16:42:31,244 - INFO - URL https://www.eversports.de/sp/pole-plus is valid.\n",
      "2024-02-10 16:42:31,246 - INFO - Processing URL 4/4: https://www.eversports.de/s/pole-plus/team\n",
      "2024-02-10 16:42:32,479 - INFO - URL https://www.eversports.de/s/pole-plus/team is valid.\n"
     ]
    },
    {
     "name": "stdout",
     "output_type": "stream",
     "text": [
      "Scraping Pole Studio Data from https://www.eversports.de/s/pole-plus...\n",
      "Scraping Workshops Data from https://www.eversports.de/sw/pole-plus...\n",
      "Scraping Workshop Details from https://www.eversports.de/e/workshop/upSDQIA...\n",
      "Scraping Workshop Details from https://www.eversports.de/e/workshop/lBLI7xf...\n"
     ]
    },
    {
     "name": "stderr",
     "output_type": "stream",
     "text": [
      "Processing URLs:  69%|██████▉   | 232/337 [22:07<09:51,  5.63s/it, Current URL: https://www.eversports.de/s/pole-plus]                  "
     ]
    },
    {
     "name": "stdout",
     "output_type": "stream",
     "text": [
      "Processing completed.\n",
      "Pole Studio Data: 1 entries\n",
      "Workshops Data: 2 entries\n",
      "Workshop Details: 2 entries\n",
      "Starting URL reconstruction...\n"
     ]
    },
    {
     "name": "stderr",
     "output_type": "stream",
     "text": [
      "2024-02-10 16:42:39,034 - INFO - Processing URL 1/4: https://www.eversports.de/s/pole-dance-krefeld\n"
     ]
    },
    {
     "name": "stdout",
     "output_type": "stream",
     "text": [
      "Error reconstructing URL for 'Trainings': Unrecognized text: 'Trainings'\n",
      "Converting to DataFrame...\n",
      "Validating URLs...\n"
     ]
    },
    {
     "name": "stderr",
     "output_type": "stream",
     "text": [
      "2024-02-10 16:42:40,429 - INFO - URL https://www.eversports.de/s/pole-dance-krefeld is valid.\n",
      "2024-02-10 16:42:40,430 - INFO - Processing URL 2/4: https://www.eversports.de/sw/pole-dance-krefeld\n",
      "2024-02-10 16:42:41,669 - INFO - URL https://www.eversports.de/sw/pole-dance-krefeld is valid.\n",
      "2024-02-10 16:42:41,670 - INFO - Processing URL 3/4: https://www.eversports.de/sp/pole-dance-krefeld\n",
      "2024-02-10 16:42:45,171 - INFO - URL https://www.eversports.de/sp/pole-dance-krefeld is valid.\n",
      "2024-02-10 16:42:45,172 - INFO - Processing URL 4/4: https://www.eversports.de/s/pole-dance-krefeld/team\n",
      "2024-02-10 16:42:46,397 - INFO - URL https://www.eversports.de/s/pole-dance-krefeld/team is valid.\n"
     ]
    },
    {
     "name": "stdout",
     "output_type": "stream",
     "text": [
      "Scraping Pole Studio Data from https://www.eversports.de/s/pole-dance-krefeld...\n",
      "Scraping Workshops Data from https://www.eversports.de/sw/pole-dance-krefeld...\n",
      "Scraping Workshop Details from https://www.eversports.de/e/workshop/WkTS9HS...\n",
      "Scraping Workshop Details from https://www.eversports.de/e/workshop/_LQRruK...\n"
     ]
    },
    {
     "name": "stderr",
     "output_type": "stream",
     "text": [
      "Processing URLs:  69%|██████▉   | 233/337 [22:20<13:46,  7.95s/it, Current URL: https://www.eversports.de/s/pole-dance-krefeld]"
     ]
    },
    {
     "name": "stdout",
     "output_type": "stream",
     "text": [
      "Processing completed.\n",
      "Pole Studio Data: 1 entries\n",
      "Workshops Data: 2 entries\n",
      "Workshop Details: 2 entries\n",
      "Starting URL reconstruction...\n"
     ]
    },
    {
     "name": "stderr",
     "output_type": "stream",
     "text": [
      "Processing URLs:  69%|██████▉   | 234/337 [22:22<10:12,  5.95s/it, Current URL: https://www.eversports.de/s/tanzteufel-denzlingen]"
     ]
    },
    {
     "name": "stdout",
     "output_type": "stream",
     "text": [
      "Error during HTTP request: 404 Client Error: Not Found for url: https://www.eversports.de/s/tanzteufel-denzlingen\n",
      "Converting to DataFrame...\n",
      "Validating URLs...\n",
      "Processing completed.\n",
      "Starting URL reconstruction...\n"
     ]
    },
    {
     "name": "stderr",
     "output_type": "stream",
     "text": [
      "2024-02-10 16:42:53,542 - INFO - Processing URL 1/1: https://www.eversports.de/s/polesition-regensburg\n"
     ]
    },
    {
     "name": "stdout",
     "output_type": "stream",
     "text": [
      "Converting to DataFrame...\n",
      "Validating URLs...\n"
     ]
    },
    {
     "name": "stderr",
     "output_type": "stream",
     "text": [
      "2024-02-10 16:42:54,837 - INFO - URL https://www.eversports.de/s/polesition-regensburg is valid.\n"
     ]
    },
    {
     "name": "stdout",
     "output_type": "stream",
     "text": [
      "Scraping Pole Studio Data from https://www.eversports.de/s/polesition-regensburg...\n"
     ]
    },
    {
     "name": "stderr",
     "output_type": "stream",
     "text": [
      "Processing URLs:  70%|██████▉   | 235/337 [22:25<08:36,  5.07s/it, Current URL: https://www.eversports.de/s/polesition-regensburg]"
     ]
    },
    {
     "name": "stdout",
     "output_type": "stream",
     "text": [
      "Processing completed.\n",
      "Pole Studio Data: 1 entries\n",
      "Starting URL reconstruction...\n"
     ]
    },
    {
     "name": "stderr",
     "output_type": "stream",
     "text": [
      "Processing URLs:  70%|███████   | 236/337 [22:26<06:34,  3.90s/it, Current URL: https://www.eversports.de/s/tanzvisionen]         "
     ]
    },
    {
     "name": "stdout",
     "output_type": "stream",
     "text": [
      "Error during HTTP request: 404 Client Error: Not Found for url: https://www.eversports.de/s/tanzvisionen\n",
      "Converting to DataFrame...\n",
      "Validating URLs...\n",
      "Processing completed.\n",
      "Starting URL reconstruction...\n"
     ]
    },
    {
     "name": "stderr",
     "output_type": "stream",
     "text": [
      "2024-02-10 16:42:57,751 - INFO - Processing URL 1/3: https://www.eversports.de/s/pole-loft\n"
     ]
    },
    {
     "name": "stdout",
     "output_type": "stream",
     "text": [
      "Converting to DataFrame...\n",
      "Validating URLs...\n"
     ]
    },
    {
     "name": "stderr",
     "output_type": "stream",
     "text": [
      "2024-02-10 16:42:59,230 - INFO - URL https://www.eversports.de/s/pole-loft is valid.\n",
      "2024-02-10 16:42:59,231 - INFO - Processing URL 2/3: https://www.eversports.de/sp/pole-loft\n",
      "2024-02-10 16:43:00,392 - INFO - URL https://www.eversports.de/sp/pole-loft is valid.\n",
      "2024-02-10 16:43:00,394 - INFO - Processing URL 3/3: https://www.eversports.de/s/pole-loft/team\n",
      "2024-02-10 16:43:01,896 - INFO - URL https://www.eversports.de/s/pole-loft/team is valid.\n"
     ]
    },
    {
     "name": "stdout",
     "output_type": "stream",
     "text": [
      "Scraping Pole Studio Data from https://www.eversports.de/s/pole-loft...\n"
     ]
    },
    {
     "name": "stderr",
     "output_type": "stream",
     "text": [
      "Processing URLs:  70%|███████   | 237/337 [22:32<07:32,  4.53s/it, Current URL: https://www.eversports.de/s/pole-loft]   "
     ]
    },
    {
     "name": "stdout",
     "output_type": "stream",
     "text": [
      "Processing completed.\n",
      "Pole Studio Data: 1 entries\n",
      "Starting URL reconstruction...\n"
     ]
    },
    {
     "name": "stderr",
     "output_type": "stream",
     "text": [
      "2024-02-10 16:43:03,721 - INFO - Processing URL 1/1: https://www.eversports.de/s/pole-dance-palazzo-sportivo\n"
     ]
    },
    {
     "name": "stdout",
     "output_type": "stream",
     "text": [
      "Converting to DataFrame...\n",
      "Validating URLs...\n"
     ]
    },
    {
     "name": "stderr",
     "output_type": "stream",
     "text": [
      "2024-02-10 16:43:04,978 - INFO - URL https://www.eversports.de/s/pole-dance-palazzo-sportivo is valid.\n"
     ]
    },
    {
     "name": "stdout",
     "output_type": "stream",
     "text": [
      "Scraping Pole Studio Data from https://www.eversports.de/s/pole-dance-palazzo-sportivo...\n"
     ]
    },
    {
     "name": "stderr",
     "output_type": "stream",
     "text": [
      "Processing URLs:  71%|███████   | 238/337 [22:35<06:40,  4.05s/it, Current URL: https://www.eversports.de/s/pole-dance-palazzo-sportivo]"
     ]
    },
    {
     "name": "stdout",
     "output_type": "stream",
     "text": [
      "Processing completed.\n",
      "Pole Studio Data: 1 entries\n",
      "Starting URL reconstruction...\n"
     ]
    },
    {
     "name": "stderr",
     "output_type": "stream",
     "text": [
      "2024-02-10 16:43:06,683 - INFO - Processing URL 1/2: https://www.eversports.de/s/pole-dance-balance\n"
     ]
    },
    {
     "name": "stdout",
     "output_type": "stream",
     "text": [
      "Converting to DataFrame...\n",
      "Validating URLs...\n"
     ]
    },
    {
     "name": "stderr",
     "output_type": "stream",
     "text": [
      "2024-02-10 16:43:07,987 - INFO - URL https://www.eversports.de/s/pole-dance-balance is valid.\n",
      "2024-02-10 16:43:07,988 - INFO - Processing URL 2/2: https://www.eversports.de/sp/pole-dance-balance\n",
      "2024-02-10 16:43:09,229 - INFO - URL https://www.eversports.de/sp/pole-dance-balance is valid.\n"
     ]
    },
    {
     "name": "stdout",
     "output_type": "stream",
     "text": [
      "Scraping Pole Studio Data from https://www.eversports.de/s/pole-dance-balance...\n"
     ]
    },
    {
     "name": "stderr",
     "output_type": "stream",
     "text": [
      "Processing URLs:  71%|███████   | 239/337 [22:39<06:43,  4.11s/it, Current URL: https://www.eversports.de/s/pole-dance-balance]         "
     ]
    },
    {
     "name": "stdout",
     "output_type": "stream",
     "text": [
      "Processing completed.\n",
      "Pole Studio Data: 1 entries\n",
      "Starting URL reconstruction...\n"
     ]
    },
    {
     "name": "stderr",
     "output_type": "stream",
     "text": [
      "2024-02-10 16:43:10,848 - INFO - Processing URL 1/1: https://www.eversports.de/s/cindys-pole-dance\n"
     ]
    },
    {
     "name": "stdout",
     "output_type": "stream",
     "text": [
      "Converting to DataFrame...\n",
      "Validating URLs...\n"
     ]
    },
    {
     "name": "stderr",
     "output_type": "stream",
     "text": [
      "2024-02-10 16:43:12,336 - INFO - URL https://www.eversports.de/s/cindys-pole-dance is valid.\n"
     ]
    },
    {
     "name": "stdout",
     "output_type": "stream",
     "text": [
      "Scraping Pole Studio Data from https://www.eversports.de/s/cindys-pole-dance...\n"
     ]
    },
    {
     "name": "stderr",
     "output_type": "stream",
     "text": [
      "Processing URLs:  71%|███████   | 240/337 [22:42<06:09,  3.81s/it, Current URL: https://www.eversports.de/s/cindys-pole-dance] "
     ]
    },
    {
     "name": "stdout",
     "output_type": "stream",
     "text": [
      "Processing completed.\n",
      "Pole Studio Data: 1 entries\n",
      "Starting URL reconstruction...\n"
     ]
    },
    {
     "name": "stderr",
     "output_type": "stream",
     "text": [
      "2024-02-10 16:43:14,051 - INFO - Processing URL 1/3: https://www.eversports.de/s/polestation-academy\n"
     ]
    },
    {
     "name": "stdout",
     "output_type": "stream",
     "text": [
      "Converting to DataFrame...\n",
      "Validating URLs...\n"
     ]
    },
    {
     "name": "stderr",
     "output_type": "stream",
     "text": [
      "2024-02-10 16:43:15,407 - INFO - URL https://www.eversports.de/s/polestation-academy is valid.\n",
      "2024-02-10 16:43:15,408 - INFO - Processing URL 2/3: https://www.eversports.de/sp/polestation-academy\n",
      "2024-02-10 16:43:16,624 - INFO - URL https://www.eversports.de/sp/polestation-academy is not valid.\n",
      "2024-02-10 16:43:16,625 - INFO - Processing URL 3/3: https://www.eversports.de/s/polestation-academy/team\n",
      "2024-02-10 16:43:17,819 - INFO - URL https://www.eversports.de/s/polestation-academy/team is valid.\n"
     ]
    },
    {
     "name": "stdout",
     "output_type": "stream",
     "text": [
      "Scraping Pole Studio Data from https://www.eversports.de/s/polestation-academy...\n"
     ]
    },
    {
     "name": "stderr",
     "output_type": "stream",
     "text": [
      "Processing URLs:  72%|███████▏  | 241/337 [22:48<06:53,  4.31s/it, Current URL: https://www.eversports.de/s/polestation-academy]"
     ]
    },
    {
     "name": "stdout",
     "output_type": "stream",
     "text": [
      "Processing completed.\n",
      "Pole Studio Data: 1 entries\n",
      "Starting URL reconstruction...\n"
     ]
    },
    {
     "name": "stderr",
     "output_type": "stream",
     "text": [
      "2024-02-10 16:43:20,184 - INFO - Processing URL 1/3: https://www.eversports.de/s/calipso-studio\n"
     ]
    },
    {
     "name": "stdout",
     "output_type": "stream",
     "text": [
      "Error reconstructing URL for 'Kurse': Unrecognized text: 'Kurse'\n",
      "Converting to DataFrame...\n",
      "Validating URLs...\n"
     ]
    },
    {
     "name": "stderr",
     "output_type": "stream",
     "text": [
      "2024-02-10 16:43:21,527 - INFO - URL https://www.eversports.de/s/calipso-studio is valid.\n",
      "2024-02-10 16:43:21,528 - INFO - Processing URL 2/3: https://www.eversports.de/sp/calipso-studio\n",
      "2024-02-10 16:43:22,728 - INFO - URL https://www.eversports.de/sp/calipso-studio is not valid.\n",
      "2024-02-10 16:43:22,729 - INFO - Processing URL 3/3: https://www.eversports.de/s/calipso-studio/team\n",
      "2024-02-10 16:43:23,967 - INFO - URL https://www.eversports.de/s/calipso-studio/team is valid.\n"
     ]
    },
    {
     "name": "stdout",
     "output_type": "stream",
     "text": [
      "Scraping Pole Studio Data from https://www.eversports.de/s/calipso-studio...\n"
     ]
    },
    {
     "name": "stderr",
     "output_type": "stream",
     "text": [
      "Processing URLs:  72%|███████▏  | 242/337 [22:54<07:44,  4.89s/it, Current URL: https://www.eversports.de/s/calipso-studio]     "
     ]
    },
    {
     "name": "stdout",
     "output_type": "stream",
     "text": [
      "Processing completed.\n",
      "Pole Studio Data: 1 entries\n",
      "Starting URL reconstruction...\n"
     ]
    },
    {
     "name": "stderr",
     "output_type": "stream",
     "text": [
      "2024-02-10 16:43:25,770 - INFO - Processing URL 1/4: https://www.eversports.de/s/pole-formance\n"
     ]
    },
    {
     "name": "stdout",
     "output_type": "stream",
     "text": [
      "Error reconstructing URL for 'Kurse': Unrecognized text: 'Kurse'\n",
      "Converting to DataFrame...\n",
      "Validating URLs...\n"
     ]
    },
    {
     "name": "stderr",
     "output_type": "stream",
     "text": [
      "2024-02-10 16:43:27,107 - INFO - URL https://www.eversports.de/s/pole-formance is valid.\n",
      "2024-02-10 16:43:27,108 - INFO - Processing URL 2/4: https://www.eversports.de/sw/pole-formance\n",
      "2024-02-10 16:43:28,346 - INFO - URL https://www.eversports.de/sw/pole-formance is valid.\n",
      "2024-02-10 16:43:28,346 - INFO - Processing URL 3/4: https://www.eversports.de/sp/pole-formance\n",
      "2024-02-10 16:43:29,580 - INFO - URL https://www.eversports.de/sp/pole-formance is valid.\n",
      "2024-02-10 16:43:29,581 - INFO - Processing URL 4/4: https://www.eversports.de/s/pole-formance/team\n",
      "2024-02-10 16:43:32,136 - INFO - URL https://www.eversports.de/s/pole-formance/team is valid.\n"
     ]
    },
    {
     "name": "stdout",
     "output_type": "stream",
     "text": [
      "Scraping Pole Studio Data from https://www.eversports.de/s/pole-formance...\n",
      "Scraping Workshops Data from https://www.eversports.de/sw/pole-formance...\n",
      "Scraping Workshop Details from https://www.eversports.de/e/workshop/AieRNXP...\n",
      "Scraping Workshop Details from https://www.eversports.de/e/workshop/NA0fA-V...\n",
      "Scraping Workshop Details from https://www.eversports.de/e/workshop/KDYKHQf...\n",
      "Scraping Workshop Details from https://www.eversports.de/e/workshop/BjFbe-z...\n",
      "Scraping Workshop Details from https://www.eversports.de/e/workshop/U58r9aD...\n"
     ]
    },
    {
     "name": "stderr",
     "output_type": "stream",
     "text": [
      "Processing URLs:  72%|███████▏  | 243/337 [23:17<16:22, 10.45s/it, Current URL: https://www.eversports.de/s/pole-formance] "
     ]
    },
    {
     "name": "stdout",
     "output_type": "stream",
     "text": [
      "Processing completed.\n",
      "Pole Studio Data: 1 entries\n",
      "Workshops Data: 5 entries\n",
      "Workshop Details: 5 entries\n",
      "Starting URL reconstruction...\n"
     ]
    },
    {
     "name": "stderr",
     "output_type": "stream",
     "text": [
      "Processing URLs:  72%|███████▏  | 244/337 [23:18<11:55,  7.69s/it, Current URL: https://www.eversports.de/s/slow-motion]  "
     ]
    },
    {
     "name": "stdout",
     "output_type": "stream",
     "text": [
      "Error during HTTP request: 404 Client Error: Not Found for url: https://www.eversports.de/s/slow-motion\n",
      "Converting to DataFrame...\n",
      "Validating URLs...\n",
      "Processing completed.\n",
      "Starting URL reconstruction...\n"
     ]
    },
    {
     "name": "stderr",
     "output_type": "stream",
     "text": [
      "2024-02-10 16:43:50,439 - INFO - Processing URL 1/3: https://www.eversports.de/s/papillon-dance-and-sport-academy\n"
     ]
    },
    {
     "name": "stdout",
     "output_type": "stream",
     "text": [
      "Converting to DataFrame...\n",
      "Validating URLs...\n"
     ]
    },
    {
     "name": "stderr",
     "output_type": "stream",
     "text": [
      "2024-02-10 16:43:51,888 - INFO - URL https://www.eversports.de/s/papillon-dance-and-sport-academy is valid.\n",
      "2024-02-10 16:43:51,889 - INFO - Processing URL 2/3: https://www.eversports.de/sp/papillon-dance-and-sport-academy\n",
      "2024-02-10 16:43:53,130 - INFO - URL https://www.eversports.de/sp/papillon-dance-and-sport-academy is valid.\n",
      "2024-02-10 16:43:53,131 - INFO - Processing URL 3/3: https://www.eversports.de/s/papillon-dance-and-sport-academy/team\n",
      "2024-02-10 16:43:54,407 - INFO - URL https://www.eversports.de/s/papillon-dance-and-sport-academy/team is valid.\n"
     ]
    },
    {
     "name": "stdout",
     "output_type": "stream",
     "text": [
      "Scraping Pole Studio Data from https://www.eversports.de/s/papillon-dance-and-sport-academy...\n"
     ]
    },
    {
     "name": "stderr",
     "output_type": "stream",
     "text": [
      "Processing URLs:  73%|███████▎  | 245/337 [23:24<10:52,  7.10s/it, Current URL: https://www.eversports.de/s/papillon-dance-and-sport-academy]"
     ]
    },
    {
     "name": "stdout",
     "output_type": "stream",
     "text": [
      "Processing completed.\n",
      "Pole Studio Data: 1 entries\n",
      "Starting URL reconstruction...\n"
     ]
    },
    {
     "name": "stderr",
     "output_type": "stream",
     "text": [
      "Processing URLs:  73%|███████▎  | 246/337 [23:25<08:04,  5.32s/it, Current URL: https://www.eversports.de/s/le-serpent-rouge]                "
     ]
    },
    {
     "name": "stdout",
     "output_type": "stream",
     "text": [
      "Error during HTTP request: 404 Client Error: Not Found for url: https://www.eversports.de/s/le-serpent-rouge\n",
      "Converting to DataFrame...\n",
      "Validating URLs...\n",
      "Processing completed.\n",
      "Starting URL reconstruction...\n"
     ]
    },
    {
     "name": "stderr",
     "output_type": "stream",
     "text": [
      "2024-02-10 16:43:57,248 - INFO - Processing URL 1/1: https://www.eversports.de/s/aerial-sportstudio\n"
     ]
    },
    {
     "name": "stdout",
     "output_type": "stream",
     "text": [
      "Converting to DataFrame...\n",
      "Validating URLs...\n"
     ]
    },
    {
     "name": "stderr",
     "output_type": "stream",
     "text": [
      "2024-02-10 16:43:58,569 - INFO - URL https://www.eversports.de/s/aerial-sportstudio is valid.\n"
     ]
    },
    {
     "name": "stdout",
     "output_type": "stream",
     "text": [
      "Scraping Pole Studio Data from https://www.eversports.de/s/aerial-sportstudio...\n"
     ]
    },
    {
     "name": "stderr",
     "output_type": "stream",
     "text": [
      "Processing URLs:  73%|███████▎  | 247/337 [23:28<06:53,  4.60s/it, Current URL: https://www.eversports.de/s/aerial-sportstudio]"
     ]
    },
    {
     "name": "stdout",
     "output_type": "stream",
     "text": [
      "Processing completed.\n",
      "Pole Studio Data: 1 entries\n",
      "Starting URL reconstruction...\n"
     ]
    },
    {
     "name": "stderr",
     "output_type": "stream",
     "text": [
      "Processing URLs:  74%|███████▎  | 248/337 [23:29<05:18,  3.58s/it, Current URL: https://www.eversports.de/s/studio-elodie-tanzbewegung]"
     ]
    },
    {
     "name": "stdout",
     "output_type": "stream",
     "text": [
      "Error during HTTP request: 404 Client Error: Not Found for url: https://www.eversports.de/s/studio-elodie-tanzbewegung\n",
      "Converting to DataFrame...\n",
      "Validating URLs...\n",
      "Processing completed.\n",
      "Starting URL reconstruction...\n"
     ]
    },
    {
     "name": "stderr",
     "output_type": "stream",
     "text": [
      "Processing URLs:  74%|███████▍  | 249/337 [23:31<04:11,  2.86s/it, Current URL: https://www.eversports.de/s/femella-studio]            "
     ]
    },
    {
     "name": "stdout",
     "output_type": "stream",
     "text": [
      "Error during HTTP request: 404 Client Error: Not Found for url: https://www.eversports.de/s/femella-studio\n",
      "Converting to DataFrame...\n",
      "Validating URLs...\n",
      "Processing completed.\n",
      "Starting URL reconstruction...\n"
     ]
    },
    {
     "name": "stderr",
     "output_type": "stream",
     "text": [
      "2024-02-10 16:44:02,625 - INFO - Processing URL 1/4: https://www.eversports.de/s/t-tanzstueck-wolfsburg\n"
     ]
    },
    {
     "name": "stdout",
     "output_type": "stream",
     "text": [
      "Error reconstructing URL for 'Kurse': Unrecognized text: 'Kurse'\n",
      "Converting to DataFrame...\n",
      "Validating URLs...\n"
     ]
    },
    {
     "name": "stderr",
     "output_type": "stream",
     "text": [
      "2024-02-10 16:44:03,965 - INFO - URL https://www.eversports.de/s/t-tanzstueck-wolfsburg is valid.\n",
      "2024-02-10 16:44:03,967 - INFO - Processing URL 2/4: https://www.eversports.de/sw/t-tanzstueck-wolfsburg\n",
      "2024-02-10 16:44:05,101 - INFO - URL https://www.eversports.de/sw/t-tanzstueck-wolfsburg is valid.\n",
      "2024-02-10 16:44:05,103 - INFO - Processing URL 3/4: https://www.eversports.de/sp/t-tanzstueck-wolfsburg\n",
      "2024-02-10 16:44:06,329 - INFO - URL https://www.eversports.de/sp/t-tanzstueck-wolfsburg is valid.\n",
      "2024-02-10 16:44:06,330 - INFO - Processing URL 4/4: https://www.eversports.de/s/t-tanzstueck-wolfsburg/team\n",
      "2024-02-10 16:44:07,713 - INFO - URL https://www.eversports.de/s/t-tanzstueck-wolfsburg/team is valid.\n"
     ]
    },
    {
     "name": "stdout",
     "output_type": "stream",
     "text": [
      "Scraping Pole Studio Data from https://www.eversports.de/s/t-tanzstueck-wolfsburg...\n",
      "Scraping Workshops Data from https://www.eversports.de/sw/t-tanzstueck-wolfsburg...\n",
      "Scraping Workshop Details from https://www.eversports.de/e/workshop/jg7fLUb...\n"
     ]
    },
    {
     "name": "stderr",
     "output_type": "stream",
     "text": [
      "Processing URLs:  74%|███████▍  | 250/337 [24:31<29:03, 20.04s/it, Current URL: https://www.eversports.de/s/t-tanzstueck-wolfsburg]"
     ]
    },
    {
     "name": "stdout",
     "output_type": "stream",
     "text": [
      "Processing completed.\n",
      "Pole Studio Data: 1 entries\n",
      "Workshops Data: 1 entries\n",
      "Workshop Details: 1 entries\n",
      "Starting URL reconstruction...\n"
     ]
    },
    {
     "name": "stderr",
     "output_type": "stream",
     "text": [
      "Processing URLs:  74%|███████▍  | 251/337 [24:32<20:42, 14.45s/it, Current URL: https://www.eversports.de/s/zero-gravity-pole]     "
     ]
    },
    {
     "name": "stdout",
     "output_type": "stream",
     "text": [
      "Error during HTTP request: 404 Client Error: Not Found for url: https://www.eversports.de/s/zero-gravity-pole\n",
      "Converting to DataFrame...\n",
      "Validating URLs...\n",
      "Processing completed.\n",
      "Starting URL reconstruction...\n"
     ]
    },
    {
     "name": "stderr",
     "output_type": "stream",
     "text": [
      "Processing URLs:  75%|███████▍  | 252/337 [24:34<14:59, 10.59s/it, Current URL: https://www.eversports.de/s/pole-dream]       "
     ]
    },
    {
     "name": "stdout",
     "output_type": "stream",
     "text": [
      "Error during HTTP request: 404 Client Error: Not Found for url: https://www.eversports.de/s/pole-dream\n",
      "Converting to DataFrame...\n",
      "Validating URLs...\n",
      "Processing completed.\n",
      "Starting URL reconstruction...\n"
     ]
    },
    {
     "name": "stderr",
     "output_type": "stream",
     "text": [
      "Processing URLs:  75%|███████▌  | 253/337 [24:35<11:02,  7.89s/it, Current URL: https://www.eversports.de/s/ironx]     "
     ]
    },
    {
     "name": "stdout",
     "output_type": "stream",
     "text": [
      "Error during HTTP request: 404 Client Error: Not Found for url: https://www.eversports.de/s/ironx\n",
      "Converting to DataFrame...\n",
      "Validating URLs...\n",
      "Processing completed.\n",
      "Starting URL reconstruction...\n"
     ]
    },
    {
     "name": "stderr",
     "output_type": "stream",
     "text": [
      "Processing URLs:  75%|███████▌  | 254/337 [24:37<08:19,  6.02s/it, Current URL: https://www.eversports.de/s/polefitness-premium]"
     ]
    },
    {
     "name": "stdout",
     "output_type": "stream",
     "text": [
      "Error during HTTP request: 404 Client Error: Not Found for url: https://www.eversports.de/s/polefitness-premium\n",
      "Converting to DataFrame...\n",
      "Validating URLs...\n",
      "Processing completed.\n",
      "Starting URL reconstruction...\n"
     ]
    },
    {
     "name": "stderr",
     "output_type": "stream",
     "text": [
      "Processing URLs:  76%|███████▌  | 255/337 [24:42<07:36,  5.57s/it, Current URL: https://www.eversports.de/s/tsg-blau-gold-gießen-e.v.]"
     ]
    },
    {
     "name": "stdout",
     "output_type": "stream",
     "text": [
      "Error during HTTP request: Exceeded 30 redirects.\n",
      "Converting to DataFrame...\n",
      "Validating URLs...\n",
      "Processing completed.\n",
      "Starting URL reconstruction...\n"
     ]
    },
    {
     "name": "stderr",
     "output_type": "stream",
     "text": [
      "Processing URLs:  76%|███████▌  | 256/337 [24:45<06:51,  5.08s/it, Current URL: https://www.eversports.de/s/t-tanzstück-braunschweig] "
     ]
    },
    {
     "name": "stdout",
     "output_type": "stream",
     "text": [
      "Error during HTTP request: Exceeded 30 redirects.\n",
      "Converting to DataFrame...\n",
      "Validating URLs...\n",
      "Processing completed.\n",
      "Starting URL reconstruction...\n"
     ]
    },
    {
     "name": "stderr",
     "output_type": "stream",
     "text": [
      "Processing URLs:  76%|███████▋  | 257/337 [24:47<05:12,  3.91s/it, Current URL: https://www.eversports.de/s/pole2dance-vertical-fitness-and-dance-company]"
     ]
    },
    {
     "name": "stdout",
     "output_type": "stream",
     "text": [
      "Error during HTTP request: 404 Client Error: Not Found for url: https://www.eversports.de/s/pole2dance-vertical-fitness-and-dance-company\n",
      "Converting to DataFrame...\n",
      "Validating URLs...\n",
      "Processing completed.\n",
      "Starting URL reconstruction...\n"
     ]
    },
    {
     "name": "stderr",
     "output_type": "stream",
     "text": [
      "2024-02-10 16:45:18,538 - INFO - Processing URL 1/3: https://www.eversports.de/s/pole-dance-studio-passion-hannover\n"
     ]
    },
    {
     "name": "stdout",
     "output_type": "stream",
     "text": [
      "Converting to DataFrame...\n",
      "Validating URLs...\n"
     ]
    },
    {
     "name": "stderr",
     "output_type": "stream",
     "text": [
      "2024-02-10 16:45:19,883 - INFO - URL https://www.eversports.de/s/pole-dance-studio-passion-hannover is valid.\n",
      "2024-02-10 16:45:19,884 - INFO - Processing URL 2/3: https://www.eversports.de/sp/pole-dance-studio-passion-hannover\n",
      "2024-02-10 16:45:21,084 - INFO - URL https://www.eversports.de/sp/pole-dance-studio-passion-hannover is valid.\n",
      "2024-02-10 16:45:21,084 - INFO - Processing URL 3/3: https://www.eversports.de/s/pole-dance-studio-passion-hannover/team\n",
      "2024-02-10 16:45:22,573 - INFO - URL https://www.eversports.de/s/pole-dance-studio-passion-hannover/team is valid.\n"
     ]
    },
    {
     "name": "stdout",
     "output_type": "stream",
     "text": [
      "Scraping Pole Studio Data from https://www.eversports.de/s/pole-dance-studio-passion-hannover...\n"
     ]
    },
    {
     "name": "stderr",
     "output_type": "stream",
     "text": [
      "Processing URLs:  77%|███████▋  | 258/337 [24:52<05:50,  4.44s/it, Current URL: https://www.eversports.de/s/pole-dance-studio-passion-hannover]           "
     ]
    },
    {
     "name": "stdout",
     "output_type": "stream",
     "text": [
      "Processing completed.\n",
      "Pole Studio Data: 1 entries\n",
      "Starting URL reconstruction...\n"
     ]
    },
    {
     "name": "stderr",
     "output_type": "stream",
     "text": [
      "2024-02-10 16:45:25,234 - INFO - Processing URL 1/1: https://www.eversports.de/s/freaky-fitness\n"
     ]
    },
    {
     "name": "stdout",
     "output_type": "stream",
     "text": [
      "Converting to DataFrame...\n",
      "Validating URLs...\n"
     ]
    },
    {
     "name": "stderr",
     "output_type": "stream",
     "text": [
      "2024-02-10 16:45:26,914 - INFO - URL https://www.eversports.de/s/freaky-fitness is valid.\n"
     ]
    },
    {
     "name": "stdout",
     "output_type": "stream",
     "text": [
      "Scraping Pole Studio Data from https://www.eversports.de/s/freaky-fitness...\n"
     ]
    },
    {
     "name": "stderr",
     "output_type": "stream",
     "text": [
      "Processing URLs:  77%|███████▋  | 259/337 [24:57<05:44,  4.42s/it, Current URL: https://www.eversports.de/s/freaky-fitness]                    "
     ]
    },
    {
     "name": "stdout",
     "output_type": "stream",
     "text": [
      "Processing completed.\n",
      "Pole Studio Data: 1 entries\n",
      "Starting URL reconstruction...\n"
     ]
    },
    {
     "name": "stderr",
     "output_type": "stream",
     "text": [
      "2024-02-10 16:45:28,762 - INFO - Processing URL 1/4: https://www.eversports.de/s/niyaha-yoga-susann-kind\n"
     ]
    },
    {
     "name": "stdout",
     "output_type": "stream",
     "text": [
      "Error reconstructing URL for 'Events': Unrecognized text: 'Events'\n",
      "Converting to DataFrame...\n",
      "Validating URLs...\n"
     ]
    },
    {
     "name": "stderr",
     "output_type": "stream",
     "text": [
      "2024-02-10 16:45:30,091 - INFO - URL https://www.eversports.de/s/niyaha-yoga-susann-kind is valid.\n",
      "2024-02-10 16:45:30,094 - INFO - Processing URL 2/4: https://www.eversports.de/sw/niyaha-yoga-susann-kind\n",
      "2024-02-10 16:45:31,412 - INFO - URL https://www.eversports.de/sw/niyaha-yoga-susann-kind is valid.\n",
      "2024-02-10 16:45:31,414 - INFO - Processing URL 3/4: https://www.eversports.de/sp/niyaha-yoga-susann-kind\n",
      "2024-02-10 16:45:33,612 - INFO - URL https://www.eversports.de/sp/niyaha-yoga-susann-kind is valid.\n",
      "2024-02-10 16:45:33,613 - INFO - Processing URL 4/4: https://www.eversports.de/s/niyaha-yoga-susann-kind/team\n",
      "2024-02-10 16:45:34,888 - INFO - URL https://www.eversports.de/s/niyaha-yoga-susann-kind/team is valid.\n"
     ]
    },
    {
     "name": "stdout",
     "output_type": "stream",
     "text": [
      "Scraping Pole Studio Data from https://www.eversports.de/s/niyaha-yoga-susann-kind...\n",
      "Scraping Workshops Data from https://www.eversports.de/sw/niyaha-yoga-susann-kind...\n",
      "Scraping Workshop Details from https://www.eversports.de/e/workshop/u0m4PpJ...\n",
      "Scraping Workshop Details from https://www.eversports.de/e/workshop/Qph3Nhi...\n",
      "Scraping Workshop Details from https://www.eversports.de/e/workshop/cnaEonv...\n",
      "Scraping Workshop Details from https://www.eversports.de/e/workshop/VVUAlSC...\n"
     ]
    },
    {
     "name": "stderr",
     "output_type": "stream",
     "text": [
      "Processing URLs:  77%|███████▋  | 260/337 [25:11<09:33,  7.45s/it, Current URL: https://www.eversports.de/s/niyaha-yoga-susann-kind]"
     ]
    },
    {
     "name": "stdout",
     "output_type": "stream",
     "text": [
      "Processing completed.\n",
      "Pole Studio Data: 1 entries\n",
      "Workshops Data: 4 entries\n",
      "Workshop Details: 4 entries\n",
      "Starting URL reconstruction...\n"
     ]
    },
    {
     "name": "stderr",
     "output_type": "stream",
     "text": [
      "2024-02-10 16:45:43,239 - INFO - Processing URL 1/3: https://www.eversports.de/s/dance-and-pole-langenfeld\n"
     ]
    },
    {
     "name": "stdout",
     "output_type": "stream",
     "text": [
      "Converting to DataFrame...\n",
      "Validating URLs...\n"
     ]
    },
    {
     "name": "stderr",
     "output_type": "stream",
     "text": [
      "2024-02-10 16:45:44,629 - INFO - URL https://www.eversports.de/s/dance-and-pole-langenfeld is valid.\n",
      "2024-02-10 16:45:44,630 - INFO - Processing URL 2/3: https://www.eversports.de/sp/dance-and-pole-langenfeld\n",
      "2024-02-10 16:45:46,773 - INFO - URL https://www.eversports.de/sp/dance-and-pole-langenfeld is valid.\n",
      "2024-02-10 16:45:46,774 - INFO - Processing URL 3/3: https://www.eversports.de/s/dance-and-pole-langenfeld/team\n",
      "2024-02-10 16:45:48,270 - INFO - URL https://www.eversports.de/s/dance-and-pole-langenfeld/team is valid.\n"
     ]
    },
    {
     "name": "stdout",
     "output_type": "stream",
     "text": [
      "Scraping Pole Studio Data from https://www.eversports.de/s/dance-and-pole-langenfeld...\n"
     ]
    },
    {
     "name": "stderr",
     "output_type": "stream",
     "text": [
      "Processing URLs:  77%|███████▋  | 261/337 [25:18<09:14,  7.29s/it, Current URL: https://www.eversports.de/s/dance-and-pole-langenfeld]"
     ]
    },
    {
     "name": "stdout",
     "output_type": "stream",
     "text": [
      "Processing completed.\n",
      "Pole Studio Data: 1 entries\n",
      "Starting URL reconstruction...\n"
     ]
    },
    {
     "name": "stderr",
     "output_type": "stream",
     "text": [
      "2024-02-10 16:46:20,034 - INFO - Processing URL 1/4: https://www.eversports.de/s/pole-faction-rhein-neckar\n"
     ]
    },
    {
     "name": "stdout",
     "output_type": "stream",
     "text": [
      "Converting to DataFrame...\n",
      "Validating URLs...\n"
     ]
    },
    {
     "name": "stderr",
     "output_type": "stream",
     "text": [
      "2024-02-10 16:46:23,265 - INFO - URL https://www.eversports.de/s/pole-faction-rhein-neckar is valid.\n",
      "2024-02-10 16:46:23,265 - INFO - Processing URL 2/4: https://www.eversports.de/sw/pole-faction-rhein-neckar\n",
      "2024-02-10 16:46:24,882 - INFO - URL https://www.eversports.de/sw/pole-faction-rhein-neckar is valid.\n",
      "2024-02-10 16:46:24,884 - INFO - Processing URL 3/4: https://www.eversports.de/sp/pole-faction-rhein-neckar\n",
      "2024-02-10 16:46:26,075 - INFO - URL https://www.eversports.de/sp/pole-faction-rhein-neckar is valid.\n",
      "2024-02-10 16:46:26,076 - INFO - Processing URL 4/4: https://www.eversports.de/s/pole-faction-rhein-neckar/team\n",
      "2024-02-10 16:46:27,785 - INFO - URL https://www.eversports.de/s/pole-faction-rhein-neckar/team is valid.\n"
     ]
    },
    {
     "name": "stdout",
     "output_type": "stream",
     "text": [
      "Scraping Pole Studio Data from https://www.eversports.de/s/pole-faction-rhein-neckar...\n",
      "Scraping Workshops Data from https://www.eversports.de/sw/pole-faction-rhein-neckar...\n",
      "Scraping Workshop Details from https://www.eversports.de/e/workshop/PETMN6i...\n",
      "Scraping Workshop Details from https://www.eversports.de/e/workshop/VtQCbbh...\n"
     ]
    },
    {
     "name": "stderr",
     "output_type": "stream",
     "text": [
      "Processing URLs:  78%|███████▊  | 262/337 [26:02<22:45, 18.21s/it, Current URL: https://www.eversports.de/s/pole-faction-rhein-neckar]"
     ]
    },
    {
     "name": "stdout",
     "output_type": "stream",
     "text": [
      "Processing completed.\n",
      "Pole Studio Data: 1 entries\n",
      "Workshops Data: 2 entries\n",
      "Workshop Details: 2 entries\n",
      "Starting URL reconstruction...\n"
     ]
    },
    {
     "name": "stderr",
     "output_type": "stream",
     "text": [
      "Processing URLs:  78%|███████▊  | 263/337 [26:03<16:13, 13.16s/it, Current URL: https://www.eversports.de/s/polevybe]                 "
     ]
    },
    {
     "name": "stdout",
     "output_type": "stream",
     "text": [
      "Error during HTTP request: 404 Client Error: Not Found for url: https://www.eversports.de/s/polevybe\n",
      "Converting to DataFrame...\n",
      "Validating URLs...\n",
      "Processing completed.\n",
      "Starting URL reconstruction...\n"
     ]
    },
    {
     "name": "stderr",
     "output_type": "stream",
     "text": [
      "2024-02-10 16:46:35,084 - INFO - Processing URL 1/1: https://www.eversports.de/s/poledance-4-you\n"
     ]
    },
    {
     "name": "stdout",
     "output_type": "stream",
     "text": [
      "Converting to DataFrame...\n",
      "Validating URLs...\n"
     ]
    },
    {
     "name": "stderr",
     "output_type": "stream",
     "text": [
      "2024-02-10 16:46:36,285 - INFO - URL https://www.eversports.de/s/poledance-4-you is valid.\n"
     ]
    },
    {
     "name": "stdout",
     "output_type": "stream",
     "text": [
      "Scraping Pole Studio Data from https://www.eversports.de/s/poledance-4-you...\n"
     ]
    },
    {
     "name": "stderr",
     "output_type": "stream",
     "text": [
      "Processing URLs:  78%|███████▊  | 264/337 [26:06<12:12, 10.04s/it, Current URL: https://www.eversports.de/s/poledance-4-you]"
     ]
    },
    {
     "name": "stdout",
     "output_type": "stream",
     "text": [
      "Processing completed.\n",
      "Pole Studio Data: 1 entries\n",
      "Starting URL reconstruction...\n"
     ]
    },
    {
     "name": "stderr",
     "output_type": "stream",
     "text": [
      "Processing URLs:  79%|███████▊  | 265/337 [26:07<08:52,  7.40s/it, Current URL: https://www.eversports.de/s/tanzteufel-emmendingen]"
     ]
    },
    {
     "name": "stdout",
     "output_type": "stream",
     "text": [
      "Error during HTTP request: 404 Client Error: Not Found for url: https://www.eversports.de/s/tanzteufel-emmendingen\n",
      "Converting to DataFrame...\n",
      "Validating URLs...\n",
      "Processing completed.\n",
      "Starting URL reconstruction...\n"
     ]
    },
    {
     "name": "stderr",
     "output_type": "stream",
     "text": [
      "Processing URLs:  79%|███████▉  | 266/337 [26:08<06:35,  5.57s/it, Current URL: https://www.eversports.de/s/pole-studio-koblenz]   "
     ]
    },
    {
     "name": "stdout",
     "output_type": "stream",
     "text": [
      "Error during HTTP request: 404 Client Error: Not Found for url: https://www.eversports.de/s/pole-studio-koblenz\n",
      "Converting to DataFrame...\n",
      "Validating URLs...\n",
      "Processing completed.\n",
      "Starting URL reconstruction...\n"
     ]
    },
    {
     "name": "stderr",
     "output_type": "stream",
     "text": [
      "Processing URLs:  79%|███████▉  | 267/337 [26:10<04:59,  4.28s/it, Current URL: https://www.eversports.de/s/dancexotic]         "
     ]
    },
    {
     "name": "stdout",
     "output_type": "stream",
     "text": [
      "Error during HTTP request: 404 Client Error: Not Found for url: https://www.eversports.de/s/dancexotic\n",
      "Converting to DataFrame...\n",
      "Validating URLs...\n",
      "Processing completed.\n",
      "Starting URL reconstruction...\n"
     ]
    },
    {
     "name": "stderr",
     "output_type": "stream",
     "text": [
      "2024-02-10 16:46:42,821 - INFO - Processing URL 1/4: https://www.eversports.de/s/yoga-at-lobe-block\n"
     ]
    },
    {
     "name": "stdout",
     "output_type": "stream",
     "text": [
      "Converting to DataFrame...\n",
      "Validating URLs...\n"
     ]
    },
    {
     "name": "stderr",
     "output_type": "stream",
     "text": [
      "2024-02-10 16:46:45,673 - INFO - URL https://www.eversports.de/s/yoga-at-lobe-block is valid.\n",
      "2024-02-10 16:46:45,674 - INFO - Processing URL 2/4: https://www.eversports.de/sw/yoga-at-lobe-block\n",
      "2024-02-10 16:46:47,061 - INFO - URL https://www.eversports.de/sw/yoga-at-lobe-block is valid.\n",
      "2024-02-10 16:46:47,062 - INFO - Processing URL 3/4: https://www.eversports.de/sp/yoga-at-lobe-block\n",
      "2024-02-10 16:46:48,306 - INFO - URL https://www.eversports.de/sp/yoga-at-lobe-block is valid.\n",
      "2024-02-10 16:46:48,307 - INFO - Processing URL 4/4: https://www.eversports.de/s/yoga-at-lobe-block/team\n",
      "2024-02-10 16:46:49,688 - INFO - URL https://www.eversports.de/s/yoga-at-lobe-block/team is valid.\n"
     ]
    },
    {
     "name": "stdout",
     "output_type": "stream",
     "text": [
      "Scraping Pole Studio Data from https://www.eversports.de/s/yoga-at-lobe-block...\n",
      "Scraping Workshops Data from https://www.eversports.de/sw/yoga-at-lobe-block...\n",
      "Scraping Workshop Details from https://www.eversports.de/e/workshop/vmr79nD...\n",
      "Scraping Workshop Details from https://www.eversports.de/e/workshop/rCwCWqT...\n",
      "Scraping Workshop Details from https://www.eversports.de/e/workshop/5WFQ4Sn...\n",
      "Scraping Workshop Details from https://www.eversports.de/e/workshop/RTbWXKh...\n",
      "Scraping Workshop Details from https://www.eversports.de/e/workshop/OUz8GEH...\n",
      "Scraping Workshop Details from https://www.eversports.de/e/workshop/BjV3WGc...\n",
      "Scraping Workshop Details from https://www.eversports.de/e/workshop/XBkvMd1...\n"
     ]
    },
    {
     "name": "stderr",
     "output_type": "stream",
     "text": [
      "Processing URLs:  80%|███████▉  | 268/337 [26:31<10:56,  9.51s/it, Current URL: https://www.eversports.de/s/yoga-at-lobe-block]"
     ]
    },
    {
     "name": "stdout",
     "output_type": "stream",
     "text": [
      "Processing completed.\n",
      "Pole Studio Data: 1 entries\n",
      "Workshops Data: 7 entries\n",
      "Workshop Details: 7 entries\n",
      "Starting URL reconstruction...\n"
     ]
    },
    {
     "name": "stderr",
     "output_type": "stream",
     "text": [
      "2024-02-10 16:47:05,165 - INFO - Processing URL 1/3: https://www.eversports.de/s/polemotions-tuebingen\n"
     ]
    },
    {
     "name": "stdout",
     "output_type": "stream",
     "text": [
      "Converting to DataFrame...\n",
      "Validating URLs...\n"
     ]
    },
    {
     "name": "stderr",
     "output_type": "stream",
     "text": [
      "2024-02-10 16:47:06,582 - INFO - URL https://www.eversports.de/s/polemotions-tuebingen is valid.\n",
      "2024-02-10 16:47:06,582 - INFO - Processing URL 2/3: https://www.eversports.de/sp/polemotions-tuebingen\n",
      "2024-02-10 16:47:07,806 - INFO - URL https://www.eversports.de/sp/polemotions-tuebingen is valid.\n",
      "2024-02-10 16:47:07,807 - INFO - Processing URL 3/3: https://www.eversports.de/s/polemotions-tuebingen/team\n",
      "2024-02-10 16:47:09,260 - INFO - URL https://www.eversports.de/s/polemotions-tuebingen/team is valid.\n"
     ]
    },
    {
     "name": "stdout",
     "output_type": "stream",
     "text": [
      "Scraping Pole Studio Data from https://www.eversports.de/s/polemotions-tuebingen...\n"
     ]
    },
    {
     "name": "stderr",
     "output_type": "stream",
     "text": [
      "Processing URLs:  80%|███████▉  | 269/337 [26:39<10:07,  8.93s/it, Current URL: https://www.eversports.de/s/polemotions-tuebingen]"
     ]
    },
    {
     "name": "stdout",
     "output_type": "stream",
     "text": [
      "Processing completed.\n",
      "Pole Studio Data: 1 entries\n",
      "Starting URL reconstruction...\n"
     ]
    },
    {
     "name": "stderr",
     "output_type": "stream",
     "text": [
      "Processing URLs:  80%|████████  | 270/337 [26:40<07:23,  6.62s/it, Current URL: https://www.eversports.de/s/aerial-amazons]       "
     ]
    },
    {
     "name": "stdout",
     "output_type": "stream",
     "text": [
      "Error during HTTP request: 404 Client Error: Not Found for url: https://www.eversports.de/s/aerial-amazons\n",
      "Converting to DataFrame...\n",
      "Validating URLs...\n",
      "Processing completed.\n",
      "Starting URL reconstruction...\n"
     ]
    },
    {
     "name": "stderr",
     "output_type": "stream",
     "text": [
      "2024-02-10 16:47:12,228 - INFO - Processing URL 1/3: https://www.eversports.de/s/tanzstudio-michel\n"
     ]
    },
    {
     "name": "stdout",
     "output_type": "stream",
     "text": [
      "Converting to DataFrame...\n",
      "Validating URLs...\n"
     ]
    },
    {
     "name": "stderr",
     "output_type": "stream",
     "text": [
      "2024-02-10 16:47:13,609 - INFO - URL https://www.eversports.de/s/tanzstudio-michel is valid.\n",
      "2024-02-10 16:47:13,610 - INFO - Processing URL 2/3: https://www.eversports.de/sp/tanzstudio-michel\n",
      "2024-02-10 16:47:14,809 - INFO - URL https://www.eversports.de/sp/tanzstudio-michel is valid.\n",
      "2024-02-10 16:47:14,811 - INFO - Processing URL 3/3: https://www.eversports.de/s/tanzstudio-michel/team\n",
      "2024-02-10 16:47:15,996 - INFO - URL https://www.eversports.de/s/tanzstudio-michel/team is valid.\n"
     ]
    },
    {
     "name": "stdout",
     "output_type": "stream",
     "text": [
      "Scraping Pole Studio Data from https://www.eversports.de/s/tanzstudio-michel...\n"
     ]
    },
    {
     "name": "stderr",
     "output_type": "stream",
     "text": [
      "Processing URLs:  80%|████████  | 271/337 [26:46<06:53,  6.27s/it, Current URL: https://www.eversports.de/s/tanzstudio-michel]"
     ]
    },
    {
     "name": "stdout",
     "output_type": "stream",
     "text": [
      "Processing completed.\n",
      "Pole Studio Data: 1 entries\n",
      "Starting URL reconstruction...\n"
     ]
    },
    {
     "name": "stderr",
     "output_type": "stream",
     "text": [
      "2024-02-10 16:47:17,722 - INFO - Processing URL 1/3: https://www.eversports.de/s/the-supergirl-studio\n"
     ]
    },
    {
     "name": "stdout",
     "output_type": "stream",
     "text": [
      "Converting to DataFrame...\n",
      "Validating URLs...\n"
     ]
    },
    {
     "name": "stderr",
     "output_type": "stream",
     "text": [
      "2024-02-10 16:47:19,148 - INFO - URL https://www.eversports.de/s/the-supergirl-studio is valid.\n",
      "2024-02-10 16:47:19,148 - INFO - Processing URL 2/3: https://www.eversports.de/sp/the-supergirl-studio\n",
      "2024-02-10 16:47:20,847 - INFO - URL https://www.eversports.de/sp/the-supergirl-studio is valid.\n",
      "2024-02-10 16:47:20,848 - INFO - Processing URL 3/3: https://www.eversports.de/s/the-supergirl-studio/team\n",
      "2024-02-10 16:47:22,530 - INFO - URL https://www.eversports.de/s/the-supergirl-studio/team is valid.\n"
     ]
    },
    {
     "name": "stdout",
     "output_type": "stream",
     "text": [
      "Scraping Pole Studio Data from https://www.eversports.de/s/the-supergirl-studio...\n"
     ]
    },
    {
     "name": "stderr",
     "output_type": "stream",
     "text": [
      "Processing URLs:  81%|████████  | 272/337 [26:53<07:12,  6.66s/it, Current URL: https://www.eversports.de/s/the-supergirl-studio]"
     ]
    },
    {
     "name": "stdout",
     "output_type": "stream",
     "text": [
      "Processing completed.\n",
      "Pole Studio Data: 1 entries\n",
      "Starting URL reconstruction...\n"
     ]
    },
    {
     "name": "stderr",
     "output_type": "stream",
     "text": [
      "Processing URLs:  81%|████████  | 273/337 [26:54<05:20,  5.01s/it, Current URL: https://www.eversports.de/s/aerial-art-studio]   "
     ]
    },
    {
     "name": "stdout",
     "output_type": "stream",
     "text": [
      "Error during HTTP request: 404 Client Error: Not Found for url: https://www.eversports.de/s/aerial-art-studio\n",
      "Converting to DataFrame...\n",
      "Validating URLs...\n",
      "Processing completed.\n",
      "Starting URL reconstruction...\n"
     ]
    },
    {
     "name": "stderr",
     "output_type": "stream",
     "text": [
      "Processing URLs:  81%|████████▏ | 274/337 [26:56<04:04,  3.88s/it, Current URL: https://www.eversports.de/s/monopole-dance]   "
     ]
    },
    {
     "name": "stdout",
     "output_type": "stream",
     "text": [
      "Error during HTTP request: 404 Client Error: Not Found for url: https://www.eversports.de/s/monopole-dance\n",
      "Converting to DataFrame...\n",
      "Validating URLs...\n",
      "Processing completed.\n",
      "Starting URL reconstruction...\n"
     ]
    },
    {
     "name": "stderr",
     "output_type": "stream",
     "text": [
      "Processing URLs:  82%|████████▏ | 275/337 [26:57<03:10,  3.07s/it, Current URL: https://www.eversports.de/s/poledance-rostock]"
     ]
    },
    {
     "name": "stdout",
     "output_type": "stream",
     "text": [
      "Error during HTTP request: 404 Client Error: Not Found for url: https://www.eversports.de/s/poledance-rostock\n",
      "Converting to DataFrame...\n",
      "Validating URLs...\n",
      "Processing completed.\n",
      "Starting URL reconstruction...\n"
     ]
    },
    {
     "name": "stderr",
     "output_type": "stream",
     "text": [
      "2024-02-10 16:47:28,868 - INFO - Processing URL 1/1: https://www.eversports.de/s/x-step-berlin\n"
     ]
    },
    {
     "name": "stdout",
     "output_type": "stream",
     "text": [
      "Converting to DataFrame...\n",
      "Validating URLs...\n"
     ]
    },
    {
     "name": "stderr",
     "output_type": "stream",
     "text": [
      "2024-02-10 16:47:30,876 - INFO - URL https://www.eversports.de/s/x-step-berlin is valid.\n"
     ]
    },
    {
     "name": "stdout",
     "output_type": "stream",
     "text": [
      "Scraping Pole Studio Data from https://www.eversports.de/s/x-step-berlin...\n"
     ]
    },
    {
     "name": "stderr",
     "output_type": "stream",
     "text": [
      "Processing URLs:  82%|████████▏ | 276/337 [27:01<03:33,  3.50s/it, Current URL: https://www.eversports.de/s/x-step-berlin]    "
     ]
    },
    {
     "name": "stdout",
     "output_type": "stream",
     "text": [
      "Processing completed.\n",
      "Pole Studio Data: 1 entries\n",
      "Starting URL reconstruction...\n"
     ]
    },
    {
     "name": "stderr",
     "output_type": "stream",
     "text": [
      "2024-02-10 16:47:33,890 - INFO - Processing URL 1/4: https://www.eversports.de/s/studio-aeris\n"
     ]
    },
    {
     "name": "stdout",
     "output_type": "stream",
     "text": [
      "Error reconstructing URL for 'Kurse': Unrecognized text: 'Kurse'\n",
      "Converting to DataFrame...\n",
      "Validating URLs...\n"
     ]
    },
    {
     "name": "stderr",
     "output_type": "stream",
     "text": [
      "2024-02-10 16:47:35,279 - INFO - URL https://www.eversports.de/s/studio-aeris is valid.\n",
      "2024-02-10 16:47:35,279 - INFO - Processing URL 2/4: https://www.eversports.de/sw/studio-aeris\n",
      "2024-02-10 16:47:36,557 - INFO - URL https://www.eversports.de/sw/studio-aeris is not valid.\n",
      "2024-02-10 16:47:36,559 - INFO - Processing URL 3/4: https://www.eversports.de/sp/studio-aeris\n",
      "2024-02-10 16:47:37,804 - INFO - URL https://www.eversports.de/sp/studio-aeris is not valid.\n",
      "2024-02-10 16:47:37,805 - INFO - Processing URL 4/4: https://www.eversports.de/s/studio-aeris/team\n",
      "2024-02-10 16:47:39,063 - INFO - URL https://www.eversports.de/s/studio-aeris/team is valid.\n"
     ]
    },
    {
     "name": "stdout",
     "output_type": "stream",
     "text": [
      "Scraping Pole Studio Data from https://www.eversports.de/s/studio-aeris...\n"
     ]
    },
    {
     "name": "stderr",
     "output_type": "stream",
     "text": [
      "Processing URLs:  82%|████████▏ | 277/337 [27:09<04:41,  4.70s/it, Current URL: https://www.eversports.de/s/studio-aeris] "
     ]
    },
    {
     "name": "stdout",
     "output_type": "stream",
     "text": [
      "Processing completed.\n",
      "Pole Studio Data: 1 entries\n",
      "Starting URL reconstruction...\n"
     ]
    },
    {
     "name": "stderr",
     "output_type": "stream",
     "text": [
      "2024-02-10 16:47:40,903 - INFO - Processing URL 1/3: https://www.eversports.de/s/nordpole\n"
     ]
    },
    {
     "name": "stdout",
     "output_type": "stream",
     "text": [
      "Error reconstructing URL for 'Events': Unrecognized text: 'Events'\n",
      "Converting to DataFrame...\n",
      "Validating URLs...\n"
     ]
    },
    {
     "name": "stderr",
     "output_type": "stream",
     "text": [
      "2024-02-10 16:47:42,560 - INFO - URL https://www.eversports.de/s/nordpole is valid.\n",
      "2024-02-10 16:47:42,561 - INFO - Processing URL 2/3: https://www.eversports.de/sp/nordpole\n",
      "2024-02-10 16:47:43,775 - INFO - URL https://www.eversports.de/sp/nordpole is valid.\n",
      "2024-02-10 16:47:43,776 - INFO - Processing URL 3/3: https://www.eversports.de/s/nordpole/team\n",
      "2024-02-10 16:47:45,025 - INFO - URL https://www.eversports.de/s/nordpole/team is valid.\n"
     ]
    },
    {
     "name": "stdout",
     "output_type": "stream",
     "text": [
      "Scraping Pole Studio Data from https://www.eversports.de/s/nordpole...\n"
     ]
    },
    {
     "name": "stderr",
     "output_type": "stream",
     "text": [
      "Processing URLs:  82%|████████▏ | 278/337 [27:15<04:59,  5.08s/it, Current URL: https://www.eversports.de/s/nordpole]    "
     ]
    },
    {
     "name": "stdout",
     "output_type": "stream",
     "text": [
      "Processing completed.\n",
      "Pole Studio Data: 1 entries\n",
      "Starting URL reconstruction...\n"
     ]
    },
    {
     "name": "stderr",
     "output_type": "stream",
     "text": [
      "Processing URLs:  83%|████████▎ | 279/337 [27:16<03:48,  3.93s/it, Current URL: https://www.eversports.de/s/verticalarts-pole-and-aerial-fitness]"
     ]
    },
    {
     "name": "stdout",
     "output_type": "stream",
     "text": [
      "Error during HTTP request: 404 Client Error: Not Found for url: https://www.eversports.de/s/verticalarts-pole-and-aerial-fitness\n",
      "Converting to DataFrame...\n",
      "Validating URLs...\n",
      "Processing completed.\n",
      "Starting URL reconstruction...\n"
     ]
    },
    {
     "name": "stderr",
     "output_type": "stream",
     "text": [
      "Processing URLs:  83%|████████▎ | 280/337 [27:17<02:57,  3.11s/it, Current URL: https://www.eversports.de/s/lift-off-poledance-academy-frankfurt]"
     ]
    },
    {
     "name": "stdout",
     "output_type": "stream",
     "text": [
      "Error during HTTP request: 404 Client Error: Not Found for url: https://www.eversports.de/s/lift-off-poledance-academy-frankfurt\n",
      "Converting to DataFrame...\n",
      "Validating URLs...\n",
      "Processing completed.\n",
      "Starting URL reconstruction...\n"
     ]
    },
    {
     "name": "stderr",
     "output_type": "stream",
     "text": [
      "2024-02-10 16:47:49,383 - INFO - Processing URL 1/3: https://www.eversports.de/s/janardana-yoga\n"
     ]
    },
    {
     "name": "stdout",
     "output_type": "stream",
     "text": [
      "Error reconstructing URL for 'Ausbildungen': Unrecognized text: 'Ausbildungen'\n",
      "Converting to DataFrame...\n",
      "Validating URLs...\n"
     ]
    },
    {
     "name": "stderr",
     "output_type": "stream",
     "text": [
      "2024-02-10 16:47:50,775 - INFO - URL https://www.eversports.de/s/janardana-yoga is valid.\n",
      "2024-02-10 16:47:50,777 - INFO - Processing URL 2/3: https://www.eversports.de/sp/janardana-yoga\n",
      "2024-02-10 16:47:52,069 - INFO - URL https://www.eversports.de/sp/janardana-yoga is valid.\n",
      "2024-02-10 16:47:52,070 - INFO - Processing URL 3/3: https://www.eversports.de/s/janardana-yoga/team\n",
      "2024-02-10 16:47:54,438 - INFO - URL https://www.eversports.de/s/janardana-yoga/team is valid.\n"
     ]
    },
    {
     "name": "stdout",
     "output_type": "stream",
     "text": [
      "Scraping Pole Studio Data from https://www.eversports.de/s/janardana-yoga...\n"
     ]
    },
    {
     "name": "stderr",
     "output_type": "stream",
     "text": [
      "Processing URLs:  83%|████████▎ | 281/337 [27:25<04:08,  4.43s/it, Current URL: https://www.eversports.de/s/janardana-yoga]                      "
     ]
    },
    {
     "name": "stdout",
     "output_type": "stream",
     "text": [
      "Processing completed.\n",
      "Pole Studio Data: 1 entries\n",
      "Starting URL reconstruction...\n"
     ]
    },
    {
     "name": "stderr",
     "output_type": "stream",
     "text": [
      "Processing URLs:  84%|████████▎ | 282/337 [27:26<03:10,  3.46s/it, Current URL: https://www.eversports.de/s/360-grad-soulsports]"
     ]
    },
    {
     "name": "stdout",
     "output_type": "stream",
     "text": [
      "Error during HTTP request: 404 Client Error: Not Found for url: https://www.eversports.de/s/360-grad-soulsports\n",
      "Converting to DataFrame...\n",
      "Validating URLs...\n",
      "Processing completed.\n",
      "Starting URL reconstruction...\n"
     ]
    },
    {
     "name": "stderr",
     "output_type": "stream",
     "text": [
      "Processing URLs:  84%|████████▍ | 283/337 [27:27<02:30,  2.78s/it, Current URL: https://www.eversports.de/s/pole-dance-trier]   "
     ]
    },
    {
     "name": "stdout",
     "output_type": "stream",
     "text": [
      "Error during HTTP request: 404 Client Error: Not Found for url: https://www.eversports.de/s/pole-dance-trier\n",
      "Converting to DataFrame...\n",
      "Validating URLs...\n",
      "Processing completed.\n",
      "Starting URL reconstruction...\n"
     ]
    },
    {
     "name": "stderr",
     "output_type": "stream",
     "text": [
      "2024-02-10 16:47:59,434 - INFO - Processing URL 1/3: https://www.eversports.de/s/munich-poledance\n"
     ]
    },
    {
     "name": "stdout",
     "output_type": "stream",
     "text": [
      "Converting to DataFrame...\n",
      "Validating URLs...\n"
     ]
    },
    {
     "name": "stderr",
     "output_type": "stream",
     "text": [
      "2024-02-10 16:48:01,586 - INFO - URL https://www.eversports.de/s/munich-poledance is valid.\n",
      "2024-02-10 16:48:01,586 - INFO - Processing URL 2/3: https://www.eversports.de/sp/munich-poledance\n",
      "2024-02-10 16:48:02,879 - INFO - URL https://www.eversports.de/sp/munich-poledance is valid.\n",
      "2024-02-10 16:48:02,880 - INFO - Processing URL 3/3: https://www.eversports.de/s/munich-poledance/team\n",
      "2024-02-10 16:48:04,132 - INFO - URL https://www.eversports.de/s/munich-poledance/team is valid.\n"
     ]
    },
    {
     "name": "stdout",
     "output_type": "stream",
     "text": [
      "Scraping Pole Studio Data from https://www.eversports.de/s/munich-poledance...\n"
     ]
    },
    {
     "name": "stderr",
     "output_type": "stream",
     "text": [
      "Processing URLs:  84%|████████▍ | 284/337 [27:34<03:30,  3.98s/it, Current URL: https://www.eversports.de/s/munich-poledance]"
     ]
    },
    {
     "name": "stdout",
     "output_type": "stream",
     "text": [
      "Processing completed.\n",
      "Pole Studio Data: 1 entries\n",
      "Starting URL reconstruction...\n"
     ]
    },
    {
     "name": "stderr",
     "output_type": "stream",
     "text": [
      "2024-02-10 16:48:06,050 - INFO - Processing URL 1/4: https://www.eversports.de/s/schoenheitstanz-studio\n"
     ]
    },
    {
     "name": "stdout",
     "output_type": "stream",
     "text": [
      "Error reconstructing URL for 'Events': Unrecognized text: 'Events'\n",
      "Converting to DataFrame...\n",
      "Validating URLs...\n"
     ]
    },
    {
     "name": "stderr",
     "output_type": "stream",
     "text": [
      "2024-02-10 16:48:07,414 - INFO - URL https://www.eversports.de/s/schoenheitstanz-studio is valid.\n",
      "2024-02-10 16:48:07,414 - INFO - Processing URL 2/4: https://www.eversports.de/sw/schoenheitstanz-studio\n",
      "2024-02-10 16:48:11,101 - INFO - URL https://www.eversports.de/sw/schoenheitstanz-studio is valid.\n",
      "2024-02-10 16:48:11,101 - INFO - Processing URL 3/4: https://www.eversports.de/sp/schoenheitstanz-studio\n",
      "2024-02-10 16:48:12,443 - INFO - URL https://www.eversports.de/sp/schoenheitstanz-studio is valid.\n",
      "2024-02-10 16:48:12,444 - INFO - Processing URL 4/4: https://www.eversports.de/s/schoenheitstanz-studio/team\n",
      "2024-02-10 16:48:13,780 - INFO - URL https://www.eversports.de/s/schoenheitstanz-studio/team is valid.\n"
     ]
    },
    {
     "name": "stdout",
     "output_type": "stream",
     "text": [
      "Scraping Pole Studio Data from https://www.eversports.de/s/schoenheitstanz-studio...\n",
      "Scraping Workshops Data from https://www.eversports.de/sw/schoenheitstanz-studio...\n",
      "Scraping Workshop Details from https://www.eversports.de/e/workshop/U7zlEnt...\n",
      "Scraping Workshop Details from https://www.eversports.de/e/workshop/o_XLfIC...\n",
      "Scraping Workshop Details from https://www.eversports.de/e/workshop/npP7JVG...\n",
      "Scraping Workshop Details from https://www.eversports.de/e/workshop/5sKuQHR...\n",
      "Scraping Workshop Details from https://www.eversports.de/e/workshop/nY-OhUe...\n",
      "Scraping Workshop Details from https://www.eversports.de/e/workshop/LD103vJ...\n",
      "Scraping Workshop Details from https://www.eversports.de/e/workshop/e0T0khi...\n",
      "Scraping Workshop Details from https://www.eversports.de/e/workshop/2Kqmr49...\n",
      "Scraping Workshop Details from https://www.eversports.de/e/workshop/xCayZIW...\n",
      "Scraping Workshop Details from https://www.eversports.de/e/workshop/hqM1pKm...\n",
      "Scraping Workshop Details from https://www.eversports.de/e/workshop/nM6r0Ic...\n",
      "Scraping Workshop Details from https://www.eversports.de/e/workshop/hQ8U2tE...\n",
      "Scraping Workshop Details from https://www.eversports.de/e/workshop/CVUleH8...\n",
      "Error retrieving the webpage: 502 Server Error: Bad Gateway for url: https://www.eversports.de/e/workshop/CVUleH8\n",
      "Scraping Workshop Details from https://www.eversports.de/e/workshop/ZqXA7Y8...\n",
      "Scraping Workshop Details from https://www.eversports.de/e/workshop/VU5c6C_...\n",
      "Scraping Workshop Details from https://www.eversports.de/e/workshop/hgCxZm6...\n",
      "Scraping Workshop Details from https://www.eversports.de/e/workshop/inR_xoX...\n",
      "Scraping Workshop Details from https://www.eversports.de/e/workshop/3CN7roB...\n",
      "Scraping Workshop Details from https://www.eversports.de/e/workshop/hONC_aO...\n",
      "Scraping Workshop Details from https://www.eversports.de/e/workshop/A5lJjTH...\n",
      "Scraping Workshop Details from https://www.eversports.de/e/workshop/6p_z1vi...\n",
      "Scraping Workshop Details from https://www.eversports.de/e/workshop/HEIImah...\n",
      "Scraping Workshop Details from https://www.eversports.de/e/workshop/ygw2_TL...\n",
      "Scraping Workshop Details from https://www.eversports.de/e/workshop/hYh8ik3...\n",
      "Scraping Workshop Details from https://www.eversports.de/e/workshop/Tqtzdzb...\n",
      "Scraping Workshop Details from https://www.eversports.de/e/workshop/EBZuEA1...\n",
      "Scraping Workshop Details from https://www.eversports.de/e/workshop/bkSlugn...\n",
      "Scraping Workshop Details from https://www.eversports.de/e/workshop/LAN7VDW...\n",
      "Scraping Workshop Details from https://www.eversports.de/e/workshop/Nv15_mw...\n",
      "Scraping Workshop Details from https://www.eversports.de/e/workshop/SLy-s_i...\n",
      "Scraping Workshop Details from https://www.eversports.de/e/workshop/dcD4Lin...\n",
      "Scraping Workshop Details from https://www.eversports.de/e/workshop/I09unU9...\n",
      "Scraping Workshop Details from https://www.eversports.de/e/workshop/1GkBeDT...\n",
      "Scraping Workshop Details from https://www.eversports.de/e/workshop/kYpFiaE...\n",
      "Scraping Workshop Details from https://www.eversports.de/e/workshop/uHk1KUg...\n",
      "Scraping Workshop Details from https://www.eversports.de/e/workshop/wTDOHkH...\n",
      "Scraping Workshop Details from https://www.eversports.de/e/workshop/J_WWezC...\n",
      "Scraping Workshop Details from https://www.eversports.de/e/workshop/hW3O71v...\n",
      "Scraping Workshop Details from https://www.eversports.de/e/workshop/54itEaz...\n",
      "Scraping Workshop Details from https://www.eversports.de/e/workshop/EDBeHyX...\n",
      "Scraping Workshop Details from https://www.eversports.de/e/workshop/rvq2QWJ...\n",
      "Scraping Workshop Details from https://www.eversports.de/e/workshop/z4rC1sa...\n",
      "Scraping Workshop Details from https://www.eversports.de/e/workshop/AN_9D9F...\n",
      "Scraping Workshop Details from https://www.eversports.de/e/workshop/_kWyZFK...\n",
      "Scraping Workshop Details from https://www.eversports.de/e/workshop/QPoxv4i...\n",
      "Scraping Workshop Details from https://www.eversports.de/e/workshop/3yk1t8C...\n",
      "Scraping Workshop Details from https://www.eversports.de/e/workshop/kVDtH76...\n",
      "Scraping Workshop Details from https://www.eversports.de/e/workshop/4egslRX...\n",
      "Scraping Workshop Details from https://www.eversports.de/e/workshop/UYgHVwy...\n",
      "Scraping Workshop Details from https://www.eversports.de/e/workshop/YpJqTDS...\n",
      "Scraping Workshop Details from https://www.eversports.de/e/workshop/82dGR1f...\n",
      "Scraping Workshop Details from https://www.eversports.de/e/workshop/7uJPxgC...\n",
      "Scraping Workshop Details from https://www.eversports.de/e/workshop/pDjMaOI...\n",
      "Scraping Workshop Details from https://www.eversports.de/e/workshop/xUJF8zC...\n",
      "Scraping Workshop Details from https://www.eversports.de/e/workshop/ot643qA...\n",
      "Scraping Workshop Details from https://www.eversports.de/e/workshop/oCv_Dwa...\n",
      "Scraping Workshop Details from https://www.eversports.de/e/workshop/drIG2eI...\n",
      "Scraping Workshop Details from https://www.eversports.de/e/workshop/iuE5Wsa...\n",
      "Scraping Workshop Details from https://www.eversports.de/e/workshop/nT2TC19...\n",
      "Scraping Workshop Details from https://www.eversports.de/e/workshop/n6KRMjB...\n",
      "Scraping Workshop Details from https://www.eversports.de/e/workshop/i2UXxMl...\n",
      "Scraping Workshop Details from https://www.eversports.de/e/workshop/qNpxqi5...\n",
      "Scraping Workshop Details from https://www.eversports.de/e/workshop/GaGNoGx...\n",
      "Scraping Workshop Details from https://www.eversports.de/e/workshop/gOdtqrR...\n"
     ]
    },
    {
     "name": "stderr",
     "output_type": "stream",
     "text": [
      "Processing URLs:  85%|████████▍ | 285/337 [29:29<32:13, 37.18s/it, Current URL: https://www.eversports.de/s/schoenheitstanz-studio]"
     ]
    },
    {
     "name": "stdout",
     "output_type": "stream",
     "text": [
      "Processing completed.\n",
      "Pole Studio Data: 1 entries\n",
      "Workshops Data: 64 entries\n",
      "Workshop Details: 63 entries\n",
      "Starting URL reconstruction...\n"
     ]
    },
    {
     "name": "stderr",
     "output_type": "stream",
     "text": [
      "Processing URLs:  85%|████████▍ | 286/337 [29:30<22:26, 26.40s/it, Current URL: https://www.eversports.de/s/unique-studios]        "
     ]
    },
    {
     "name": "stdout",
     "output_type": "stream",
     "text": [
      "Error during HTTP request: 404 Client Error: Not Found for url: https://www.eversports.de/s/unique-studios\n",
      "Converting to DataFrame...\n",
      "Validating URLs...\n",
      "Processing completed.\n",
      "Starting URL reconstruction...\n"
     ]
    },
    {
     "name": "stderr",
     "output_type": "stream",
     "text": [
      "Processing URLs:  85%|████████▌ | 287/337 [29:31<15:40, 18.81s/it, Current URL: https://www.eversports.de/s/rock'n'pole-regensburg]"
     ]
    },
    {
     "name": "stdout",
     "output_type": "stream",
     "text": [
      "Error during HTTP request: 404 Client Error: Not Found for url: https://www.eversports.de/s/rock'n'pole-regensburg\n",
      "Converting to DataFrame...\n",
      "Validating URLs...\n",
      "Processing completed.\n",
      "Starting URL reconstruction...\n"
     ]
    },
    {
     "name": "stderr",
     "output_type": "stream",
     "text": [
      "2024-02-10 16:50:02,868 - INFO - Processing URL 1/1: https://www.eversports.de/s/infinity-polesports-eggenfelden\n"
     ]
    },
    {
     "name": "stdout",
     "output_type": "stream",
     "text": [
      "Converting to DataFrame...\n",
      "Validating URLs...\n"
     ]
    },
    {
     "name": "stderr",
     "output_type": "stream",
     "text": [
      "2024-02-10 16:50:04,382 - INFO - URL https://www.eversports.de/s/infinity-polesports-eggenfelden is valid.\n"
     ]
    },
    {
     "name": "stdout",
     "output_type": "stream",
     "text": [
      "Scraping Pole Studio Data from https://www.eversports.de/s/infinity-polesports-eggenfelden...\n"
     ]
    },
    {
     "name": "stderr",
     "output_type": "stream",
     "text": [
      "Processing URLs:  85%|████████▌ | 288/337 [29:34<11:31, 14.11s/it, Current URL: https://www.eversports.de/s/infinity-polesports-eggenfelden]"
     ]
    },
    {
     "name": "stdout",
     "output_type": "stream",
     "text": [
      "Processing completed.\n",
      "Pole Studio Data: 1 entries\n",
      "Starting URL reconstruction...\n"
     ]
    },
    {
     "name": "stderr",
     "output_type": "stream",
     "text": [
      "Processing URLs:  86%|████████▌ | 289/337 [29:35<08:12, 10.27s/it, Current URL: https://www.eversports.de/s/happy-pole-place]               "
     ]
    },
    {
     "name": "stdout",
     "output_type": "stream",
     "text": [
      "Error during HTTP request: 404 Client Error: Not Found for url: https://www.eversports.de/s/happy-pole-place\n",
      "Converting to DataFrame...\n",
      "Validating URLs...\n",
      "Processing completed.\n",
      "Starting URL reconstruction...\n"
     ]
    },
    {
     "name": "stderr",
     "output_type": "stream",
     "text": [
      "2024-02-10 16:50:07,568 - INFO - Processing URL 1/3: https://www.eversports.de/s/tanzschule-poledance-reutlingen\n"
     ]
    },
    {
     "name": "stdout",
     "output_type": "stream",
     "text": [
      "Converting to DataFrame...\n",
      "Validating URLs...\n"
     ]
    },
    {
     "name": "stderr",
     "output_type": "stream",
     "text": [
      "2024-02-10 16:50:08,914 - INFO - URL https://www.eversports.de/s/tanzschule-poledance-reutlingen is valid.\n",
      "2024-02-10 16:50:08,915 - INFO - Processing URL 2/3: https://www.eversports.de/sp/tanzschule-poledance-reutlingen\n",
      "2024-02-10 16:50:10,186 - INFO - URL https://www.eversports.de/sp/tanzschule-poledance-reutlingen is valid.\n",
      "2024-02-10 16:50:10,187 - INFO - Processing URL 3/3: https://www.eversports.de/s/tanzschule-poledance-reutlingen/team\n",
      "2024-02-10 16:50:11,381 - INFO - URL https://www.eversports.de/s/tanzschule-poledance-reutlingen/team is valid.\n"
     ]
    },
    {
     "name": "stdout",
     "output_type": "stream",
     "text": [
      "Scraping Pole Studio Data from https://www.eversports.de/s/tanzschule-poledance-reutlingen...\n"
     ]
    },
    {
     "name": "stderr",
     "output_type": "stream",
     "text": [
      "Processing URLs:  86%|████████▌ | 290/337 [29:41<06:58,  8.91s/it, Current URL: https://www.eversports.de/s/tanzschule-poledance-reutlingen]"
     ]
    },
    {
     "name": "stdout",
     "output_type": "stream",
     "text": [
      "Processing completed.\n",
      "Pole Studio Data: 1 entries\n",
      "Starting URL reconstruction...\n"
     ]
    },
    {
     "name": "stderr",
     "output_type": "stream",
     "text": [
      "2024-02-10 16:50:13,331 - INFO - Processing URL 1/4: https://www.eversports.de/s/body-meets-soul-leipzig\n"
     ]
    },
    {
     "name": "stdout",
     "output_type": "stream",
     "text": [
      "Converting to DataFrame...\n",
      "Validating URLs...\n"
     ]
    },
    {
     "name": "stderr",
     "output_type": "stream",
     "text": [
      "2024-02-10 16:50:14,718 - INFO - URL https://www.eversports.de/s/body-meets-soul-leipzig is valid.\n",
      "2024-02-10 16:50:14,719 - INFO - Processing URL 2/4: https://www.eversports.de/sw/body-meets-soul-leipzig\n",
      "2024-02-10 16:50:16,055 - INFO - URL https://www.eversports.de/sw/body-meets-soul-leipzig is valid.\n",
      "2024-02-10 16:50:16,056 - INFO - Processing URL 3/4: https://www.eversports.de/sp/body-meets-soul-leipzig\n",
      "2024-02-10 16:50:17,302 - INFO - URL https://www.eversports.de/sp/body-meets-soul-leipzig is valid.\n",
      "2024-02-10 16:50:17,303 - INFO - Processing URL 4/4: https://www.eversports.de/s/body-meets-soul-leipzig/team\n",
      "2024-02-10 16:50:18,533 - INFO - URL https://www.eversports.de/s/body-meets-soul-leipzig/team is valid.\n"
     ]
    },
    {
     "name": "stdout",
     "output_type": "stream",
     "text": [
      "Scraping Pole Studio Data from https://www.eversports.de/s/body-meets-soul-leipzig...\n",
      "Scraping Workshops Data from https://www.eversports.de/sw/body-meets-soul-leipzig...\n",
      "Scraping Workshop Details from https://www.eversports.de/e/workshop/uO9N1VQ...\n"
     ]
    },
    {
     "name": "stderr",
     "output_type": "stream",
     "text": [
      "Processing URLs:  86%|████████▋ | 291/337 [29:51<07:00,  9.13s/it, Current URL: https://www.eversports.de/s/body-meets-soul-leipzig]        "
     ]
    },
    {
     "name": "stdout",
     "output_type": "stream",
     "text": [
      "Processing completed.\n",
      "Pole Studio Data: 1 entries\n",
      "Workshops Data: 1 entries\n",
      "Workshop Details: 1 entries\n",
      "Starting URL reconstruction...\n"
     ]
    },
    {
     "name": "stderr",
     "output_type": "stream",
     "text": [
      "2024-02-10 16:50:22,990 - INFO - Processing URL 1/4: https://www.eversports.de/s/koerpernah\n"
     ]
    },
    {
     "name": "stdout",
     "output_type": "stream",
     "text": [
      "Converting to DataFrame...\n",
      "Validating URLs...\n"
     ]
    },
    {
     "name": "stderr",
     "output_type": "stream",
     "text": [
      "2024-02-10 16:50:24,895 - INFO - URL https://www.eversports.de/s/koerpernah is valid.\n",
      "2024-02-10 16:50:24,896 - INFO - Processing URL 2/4: https://www.eversports.de/sw/koerpernah\n",
      "2024-02-10 16:50:26,078 - INFO - URL https://www.eversports.de/sw/koerpernah is valid.\n",
      "2024-02-10 16:50:26,079 - INFO - Processing URL 3/4: https://www.eversports.de/sp/koerpernah\n",
      "2024-02-10 16:50:27,501 - INFO - URL https://www.eversports.de/sp/koerpernah is valid.\n",
      "2024-02-10 16:50:27,502 - INFO - Processing URL 4/4: https://www.eversports.de/s/koerpernah/team\n",
      "2024-02-10 16:50:28,724 - INFO - URL https://www.eversports.de/s/koerpernah/team is valid.\n"
     ]
    },
    {
     "name": "stdout",
     "output_type": "stream",
     "text": [
      "Scraping Pole Studio Data from https://www.eversports.de/s/koerpernah...\n",
      "Scraping Workshops Data from https://www.eversports.de/sw/koerpernah...\n",
      "Scraping Workshop Details from https://www.eversports.de/e/workshop/MfhCem5...\n",
      "Scraping Workshop Details from https://www.eversports.de/e/workshop/ETuGX5O...\n",
      "Scraping Workshop Details from https://www.eversports.de/e/workshop/Js7a_FB...\n"
     ]
    },
    {
     "name": "stderr",
     "output_type": "stream",
     "text": [
      "Processing URLs:  87%|████████▋ | 292/337 [30:04<07:47, 10.38s/it, Current URL: https://www.eversports.de/s/koerpernah]             "
     ]
    },
    {
     "name": "stdout",
     "output_type": "stream",
     "text": [
      "Processing completed.\n",
      "Pole Studio Data: 1 entries\n",
      "Workshops Data: 3 entries\n",
      "Workshop Details: 3 entries\n",
      "Starting URL reconstruction...\n"
     ]
    },
    {
     "name": "stderr",
     "output_type": "stream",
     "text": [
      "Processing URLs:  87%|████████▋ | 293/337 [30:09<06:19,  8.63s/it, Current URL: https://www.eversports.de/s/körperformfabrik-gbr]"
     ]
    },
    {
     "name": "stdout",
     "output_type": "stream",
     "text": [
      "Error during HTTP request: Exceeded 30 redirects.\n",
      "Converting to DataFrame...\n",
      "Validating URLs...\n",
      "Processing completed.\n",
      "Starting URL reconstruction...\n"
     ]
    },
    {
     "name": "stderr",
     "output_type": "stream",
     "text": [
      "Processing URLs:  87%|████████▋ | 294/337 [30:10<04:38,  6.49s/it, Current URL: https://www.eversports.de/s/freaky-pole-cats-schwandorf]"
     ]
    },
    {
     "name": "stdout",
     "output_type": "stream",
     "text": [
      "Error during HTTP request: 404 Client Error: Not Found for url: https://www.eversports.de/s/freaky-pole-cats-schwandorf\n",
      "Converting to DataFrame...\n",
      "Validating URLs...\n",
      "Processing completed.\n",
      "Starting URL reconstruction...\n"
     ]
    },
    {
     "name": "stderr",
     "output_type": "stream",
     "text": [
      "Processing URLs:  88%|████████▊ | 295/337 [30:11<03:24,  4.87s/it, Current URL: https://www.eversports.de/s/polerina's-poledance]       "
     ]
    },
    {
     "name": "stdout",
     "output_type": "stream",
     "text": [
      "Error during HTTP request: 404 Client Error: Not Found for url: https://www.eversports.de/s/polerina's-poledance\n",
      "Converting to DataFrame...\n",
      "Validating URLs...\n",
      "Processing completed.\n",
      "Starting URL reconstruction...\n"
     ]
    },
    {
     "name": "stderr",
     "output_type": "stream",
     "text": [
      "Processing URLs:  88%|████████▊ | 296/337 [30:12<02:32,  3.73s/it, Current URL: https://www.eversports.de/s/anni's-pole-dance-neumünster]"
     ]
    },
    {
     "name": "stdout",
     "output_type": "stream",
     "text": [
      "Error during HTTP request: 404 Client Error: Not Found for url: https://www.eversports.de/s/anni's-pole-dance-neum%C3%BCnster\n",
      "Converting to DataFrame...\n",
      "Validating URLs...\n",
      "Processing completed.\n",
      "Starting URL reconstruction...\n"
     ]
    },
    {
     "name": "stderr",
     "output_type": "stream",
     "text": [
      "Processing URLs:  88%|████████▊ | 297/337 [30:14<02:01,  3.05s/it, Current URL: https://www.eversports.de/s/tanzschule-step-up]          "
     ]
    },
    {
     "name": "stdout",
     "output_type": "stream",
     "text": [
      "Error during HTTP request: 404 Client Error: Not Found for url: https://www.eversports.de/s/tanzschule-step-up\n",
      "Converting to DataFrame...\n",
      "Validating URLs...\n",
      "Processing completed.\n",
      "Starting URL reconstruction...\n"
     ]
    },
    {
     "name": "stderr",
     "output_type": "stream",
     "text": [
      "2024-02-10 16:50:45,786 - INFO - Processing URL 1/4: https://www.eversports.de/s/flexx-arts-aerial-dance-and-fitness\n"
     ]
    },
    {
     "name": "stdout",
     "output_type": "stream",
     "text": [
      "Error reconstructing URL for 'Kurse': Unrecognized text: 'Kurse'\n",
      "Converting to DataFrame...\n",
      "Validating URLs...\n"
     ]
    },
    {
     "name": "stderr",
     "output_type": "stream",
     "text": [
      "2024-02-10 16:50:48,526 - INFO - URL https://www.eversports.de/s/flexx-arts-aerial-dance-and-fitness is valid.\n",
      "2024-02-10 16:50:48,527 - INFO - Processing URL 2/4: https://www.eversports.de/sw/flexx-arts-aerial-dance-and-fitness\n",
      "2024-02-10 16:50:49,728 - INFO - URL https://www.eversports.de/sw/flexx-arts-aerial-dance-and-fitness is valid.\n",
      "2024-02-10 16:50:49,728 - INFO - Processing URL 3/4: https://www.eversports.de/sp/flexx-arts-aerial-dance-and-fitness\n",
      "2024-02-10 16:50:51,002 - INFO - URL https://www.eversports.de/sp/flexx-arts-aerial-dance-and-fitness is valid.\n",
      "2024-02-10 16:50:51,002 - INFO - Processing URL 4/4: https://www.eversports.de/s/flexx-arts-aerial-dance-and-fitness/team\n",
      "2024-02-10 16:50:52,218 - INFO - URL https://www.eversports.de/s/flexx-arts-aerial-dance-and-fitness/team is valid.\n"
     ]
    },
    {
     "name": "stdout",
     "output_type": "stream",
     "text": [
      "Scraping Pole Studio Data from https://www.eversports.de/s/flexx-arts-aerial-dance-and-fitness...\n",
      "Scraping Workshops Data from https://www.eversports.de/sw/flexx-arts-aerial-dance-and-fitness...\n",
      "Scraping Workshop Details from https://www.eversports.de/e/workshop/_EBraSK...\n",
      "Scraping Workshop Details from https://www.eversports.de/e/workshop/BOoVP_a...\n",
      "Scraping Workshop Details from https://www.eversports.de/e/workshop/M_fy619...\n"
     ]
    },
    {
     "name": "stderr",
     "output_type": "stream",
     "text": [
      "Processing URLs:  88%|████████▊ | 298/337 [30:27<03:57,  6.08s/it, Current URL: https://www.eversports.de/s/flexx-arts-aerial-dance-and-fitness]"
     ]
    },
    {
     "name": "stdout",
     "output_type": "stream",
     "text": [
      "Processing completed.\n",
      "Pole Studio Data: 1 entries\n",
      "Workshops Data: 3 entries\n",
      "Workshop Details: 3 entries\n",
      "Starting URL reconstruction...\n"
     ]
    },
    {
     "name": "stderr",
     "output_type": "stream",
     "text": [
      "Processing URLs:  89%|████████▊ | 299/337 [30:28<02:55,  4.62s/it, Current URL: https://www.eversports.de/s/studio-fitnessdarling]              "
     ]
    },
    {
     "name": "stdout",
     "output_type": "stream",
     "text": [
      "Error during HTTP request: 404 Client Error: Not Found for url: https://www.eversports.de/s/studio-fitnessdarling\n",
      "Converting to DataFrame...\n",
      "Validating URLs...\n",
      "Processing completed.\n",
      "Starting URL reconstruction...\n"
     ]
    },
    {
     "name": "stderr",
     "output_type": "stream",
     "text": [
      "2024-02-10 16:51:00,105 - INFO - Processing URL 1/4: https://www.eversports.de/s/aerialflow\n"
     ]
    },
    {
     "name": "stdout",
     "output_type": "stream",
     "text": [
      "Error reconstructing URL for 'Trainings': Unrecognized text: 'Trainings'\n",
      "Error reconstructing URL for 'Kurse': Unrecognized text: 'Kurse'\n",
      "Converting to DataFrame...\n",
      "Validating URLs...\n"
     ]
    },
    {
     "name": "stderr",
     "output_type": "stream",
     "text": [
      "2024-02-10 16:51:01,501 - INFO - URL https://www.eversports.de/s/aerialflow is valid.\n",
      "2024-02-10 16:51:01,502 - INFO - Processing URL 2/4: https://www.eversports.de/sw/aerialflow\n",
      "2024-02-10 16:51:02,661 - INFO - URL https://www.eversports.de/sw/aerialflow is valid.\n",
      "2024-02-10 16:51:02,662 - INFO - Processing URL 3/4: https://www.eversports.de/sp/aerialflow\n",
      "2024-02-10 16:51:03,906 - INFO - URL https://www.eversports.de/sp/aerialflow is valid.\n",
      "2024-02-10 16:51:03,907 - INFO - Processing URL 4/4: https://www.eversports.de/s/aerialflow/team\n",
      "2024-02-10 16:51:05,209 - INFO - URL https://www.eversports.de/s/aerialflow/team is valid.\n"
     ]
    },
    {
     "name": "stdout",
     "output_type": "stream",
     "text": [
      "Scraping Pole Studio Data from https://www.eversports.de/s/aerialflow...\n",
      "Scraping Workshops Data from https://www.eversports.de/sw/aerialflow...\n",
      "Scraping Workshop Details from https://www.eversports.de/e/workshop/OQN28ZD...\n"
     ]
    },
    {
     "name": "stderr",
     "output_type": "stream",
     "text": [
      "Processing URLs:  89%|████████▉ | 300/337 [30:38<03:45,  6.10s/it, Current URL: https://www.eversports.de/s/aerialflow]           "
     ]
    },
    {
     "name": "stdout",
     "output_type": "stream",
     "text": [
      "Processing completed.\n",
      "Pole Studio Data: 1 entries\n",
      "Workshops Data: 1 entries\n",
      "Workshop Details: 1 entries\n",
      "Starting URL reconstruction...\n"
     ]
    },
    {
     "name": "stderr",
     "output_type": "stream",
     "text": [
      "Processing URLs:  89%|████████▉ | 301/337 [30:39<02:46,  4.63s/it, Current URL: https://www.eversports.de/s/annaconda-pole-&-fitness]"
     ]
    },
    {
     "name": "stdout",
     "output_type": "stream",
     "text": [
      "Error during HTTP request: 404 Client Error: Not Found for url: https://www.eversports.de/s/annaconda-pole-&-fitness\n",
      "Converting to DataFrame...\n",
      "Validating URLs...\n",
      "Processing completed.\n",
      "Starting URL reconstruction...\n"
     ]
    },
    {
     "name": "stderr",
     "output_type": "stream",
     "text": [
      "Processing URLs:  90%|████████▉ | 302/337 [30:40<02:05,  3.59s/it, Current URL: https://www.eversports.de/s/aerial-art-poledance-city-base]"
     ]
    },
    {
     "name": "stdout",
     "output_type": "stream",
     "text": [
      "Error during HTTP request: 404 Client Error: Not Found for url: https://www.eversports.de/s/aerial-art-poledance-city-base\n",
      "Converting to DataFrame...\n",
      "Validating URLs...\n",
      "Processing completed.\n",
      "Starting URL reconstruction...\n"
     ]
    },
    {
     "name": "stderr",
     "output_type": "stream",
     "text": [
      "Processing URLs:  90%|████████▉ | 303/337 [30:42<01:41,  2.97s/it, Current URL: https://www.eversports.de/s/tsg-blau-gold-ballett-und-pole-dance-studio]"
     ]
    },
    {
     "name": "stdout",
     "output_type": "stream",
     "text": [
      "Error during HTTP request: 404 Client Error: Not Found for url: https://www.eversports.de/s/tsg-blau-gold-ballett-und-pole-dance-studio\n",
      "Converting to DataFrame...\n",
      "Validating URLs...\n",
      "Processing completed.\n",
      "Starting URL reconstruction...\n"
     ]
    },
    {
     "name": "stderr",
     "output_type": "stream",
     "text": [
      "Processing URLs:  90%|█████████ | 304/337 [30:43<01:27,  2.64s/it, Current URL: https://www.eversports.de/s/dance-in-the-city-remscheid]                "
     ]
    },
    {
     "name": "stdout",
     "output_type": "stream",
     "text": [
      "Error during HTTP request: 404 Client Error: Not Found for url: https://www.eversports.de/s/dance-in-the-city-remscheid\n",
      "Converting to DataFrame...\n",
      "Validating URLs...\n",
      "Processing completed.\n",
      "Starting URL reconstruction...\n"
     ]
    },
    {
     "name": "stderr",
     "output_type": "stream",
     "text": [
      "Processing URLs:  91%|█████████ | 305/337 [30:45<01:11,  2.22s/it, Current URL: https://www.eversports.de/s/pole-circus-a-k]            "
     ]
    },
    {
     "name": "stdout",
     "output_type": "stream",
     "text": [
      "Error during HTTP request: 404 Client Error: Not Found for url: https://www.eversports.de/s/pole-circus-a-k\n",
      "Converting to DataFrame...\n",
      "Validating URLs...\n",
      "Processing completed.\n",
      "Starting URL reconstruction...\n"
     ]
    },
    {
     "name": "stderr",
     "output_type": "stream",
     "text": [
      "Processing URLs:  91%|█████████ | 306/337 [30:46<01:00,  1.96s/it, Current URL: https://www.eversports.de/s/schwerelos-bochum]"
     ]
    },
    {
     "name": "stdout",
     "output_type": "stream",
     "text": [
      "Error during HTTP request: 404 Client Error: Not Found for url: https://www.eversports.de/s/schwerelos-bochum\n",
      "Converting to DataFrame...\n",
      "Validating URLs...\n",
      "Processing completed.\n",
      "Starting URL reconstruction...\n"
     ]
    },
    {
     "name": "stderr",
     "output_type": "stream",
     "text": [
      "Processing URLs:  91%|█████████ | 307/337 [30:48<00:54,  1.83s/it, Current URL: https://www.eversports.de/s/drehimpuls-aachen]"
     ]
    },
    {
     "name": "stdout",
     "output_type": "stream",
     "text": [
      "Error during HTTP request: 404 Client Error: Not Found for url: https://www.eversports.de/s/drehimpuls-aachen\n",
      "Converting to DataFrame...\n",
      "Validating URLs...\n",
      "Processing completed.\n",
      "Starting URL reconstruction...\n"
     ]
    },
    {
     "name": "stderr",
     "output_type": "stream",
     "text": [
      "Processing URLs:  91%|█████████▏| 308/337 [30:49<00:47,  1.64s/it, Current URL: https://www.eversports.de/s/pole-dance-mettingen]"
     ]
    },
    {
     "name": "stdout",
     "output_type": "stream",
     "text": [
      "Error during HTTP request: 404 Client Error: Not Found for url: https://www.eversports.de/s/pole-dance-mettingen\n",
      "Converting to DataFrame...\n",
      "Validating URLs...\n",
      "Processing completed.\n",
      "Starting URL reconstruction...\n"
     ]
    },
    {
     "name": "stderr",
     "output_type": "stream",
     "text": [
      "2024-02-10 16:51:20,907 - INFO - Processing URL 1/4: https://www.eversports.de/s/polecreation\n"
     ]
    },
    {
     "name": "stdout",
     "output_type": "stream",
     "text": [
      "Converting to DataFrame...\n",
      "Validating URLs...\n"
     ]
    },
    {
     "name": "stderr",
     "output_type": "stream",
     "text": [
      "2024-02-10 16:51:22,226 - INFO - URL https://www.eversports.de/s/polecreation is valid.\n",
      "2024-02-10 16:51:22,227 - INFO - Processing URL 2/4: https://www.eversports.de/sw/polecreation\n",
      "2024-02-10 16:51:23,392 - INFO - URL https://www.eversports.de/sw/polecreation is valid.\n",
      "2024-02-10 16:51:23,393 - INFO - Processing URL 3/4: https://www.eversports.de/sp/polecreation\n",
      "2024-02-10 16:51:24,500 - INFO - URL https://www.eversports.de/sp/polecreation is valid.\n",
      "2024-02-10 16:51:24,501 - INFO - Processing URL 4/4: https://www.eversports.de/s/polecreation/team\n",
      "2024-02-10 16:51:25,710 - INFO - URL https://www.eversports.de/s/polecreation/team is valid.\n"
     ]
    },
    {
     "name": "stdout",
     "output_type": "stream",
     "text": [
      "Scraping Pole Studio Data from https://www.eversports.de/s/polecreation...\n",
      "Scraping Workshops Data from https://www.eversports.de/sw/polecreation...\n",
      "Scraping Workshop Details from https://www.eversports.de/e/workshop/bmZxua4...\n",
      "Scraping Workshop Details from https://www.eversports.de/e/workshop/qcRMhzd...\n",
      "Scraping Workshop Details from https://www.eversports.de/e/workshop/Zj0NETg...\n"
     ]
    },
    {
     "name": "stderr",
     "output_type": "stream",
     "text": [
      "Processing URLs:  92%|█████████▏| 309/337 [31:00<02:09,  4.63s/it, Current URL: https://www.eversports.de/s/polecreation]        "
     ]
    },
    {
     "name": "stdout",
     "output_type": "stream",
     "text": [
      "Processing completed.\n",
      "Pole Studio Data: 1 entries\n",
      "Workshops Data: 3 entries\n",
      "Workshop Details: 3 entries\n",
      "Starting URL reconstruction...\n"
     ]
    },
    {
     "name": "stderr",
     "output_type": "stream",
     "text": [
      "Processing URLs:  92%|█████████▏| 310/337 [31:04<01:57,  4.35s/it, Current URL: https://www.eversports.de/s/bodysoul-studio-düsseldorf]"
     ]
    },
    {
     "name": "stdout",
     "output_type": "stream",
     "text": [
      "Error during HTTP request: Exceeded 30 redirects.\n",
      "Converting to DataFrame...\n",
      "Validating URLs...\n",
      "Processing completed.\n",
      "Starting URL reconstruction...\n"
     ]
    },
    {
     "name": "stderr",
     "output_type": "stream",
     "text": [
      "2024-02-10 16:51:35,892 - INFO - Processing URL 1/1: https://www.eversports.de/s/welovepoledance\n"
     ]
    },
    {
     "name": "stdout",
     "output_type": "stream",
     "text": [
      "Converting to DataFrame...\n",
      "Validating URLs...\n"
     ]
    },
    {
     "name": "stderr",
     "output_type": "stream",
     "text": [
      "2024-02-10 16:51:37,161 - INFO - URL https://www.eversports.de/s/welovepoledance is valid.\n"
     ]
    },
    {
     "name": "stdout",
     "output_type": "stream",
     "text": [
      "Scraping Pole Studio Data from https://www.eversports.de/s/welovepoledance...\n"
     ]
    },
    {
     "name": "stderr",
     "output_type": "stream",
     "text": [
      "Processing URLs:  92%|█████████▏| 311/337 [31:07<01:40,  3.87s/it, Current URL: https://www.eversports.de/s/welovepoledance]           "
     ]
    },
    {
     "name": "stdout",
     "output_type": "stream",
     "text": [
      "Processing completed.\n",
      "Pole Studio Data: 1 entries\n",
      "Starting URL reconstruction...\n"
     ]
    },
    {
     "name": "stderr",
     "output_type": "stream",
     "text": [
      "2024-02-10 16:51:38,772 - INFO - Processing URL 1/1: https://www.eversports.de/s/dancingstyle\n"
     ]
    },
    {
     "name": "stdout",
     "output_type": "stream",
     "text": [
      "Converting to DataFrame...\n",
      "Validating URLs...\n"
     ]
    },
    {
     "name": "stderr",
     "output_type": "stream",
     "text": [
      "2024-02-10 16:51:39,999 - INFO - URL https://www.eversports.de/s/dancingstyle is valid.\n"
     ]
    },
    {
     "name": "stdout",
     "output_type": "stream",
     "text": [
      "Scraping Pole Studio Data from https://www.eversports.de/s/dancingstyle...\n"
     ]
    },
    {
     "name": "stderr",
     "output_type": "stream",
     "text": [
      "Processing URLs:  93%|█████████▎| 312/337 [31:10<01:31,  3.66s/it, Current URL: https://www.eversports.de/s/dancingstyle]   "
     ]
    },
    {
     "name": "stdout",
     "output_type": "stream",
     "text": [
      "Processing completed.\n",
      "Pole Studio Data: 1 entries\n",
      "Starting URL reconstruction...\n"
     ]
    },
    {
     "name": "stderr",
     "output_type": "stream",
     "text": [
      "Processing URLs:  93%|█████████▎| 313/337 [31:11<01:09,  2.89s/it, Current URL: https://www.eversports.de/s/mstage-tanzart-bewegung]"
     ]
    },
    {
     "name": "stdout",
     "output_type": "stream",
     "text": [
      "Error during HTTP request: 404 Client Error: Not Found for url: https://www.eversports.de/s/mstage-tanzart-bewegung\n",
      "Converting to DataFrame...\n",
      "Validating URLs...\n",
      "Processing completed.\n",
      "Starting URL reconstruction...\n"
     ]
    },
    {
     "name": "stderr",
     "output_type": "stream",
     "text": [
      "Processing URLs:  93%|█████████▎| 314/337 [31:13<00:59,  2.59s/it, Current URL: https://www.eversports.de/s/polemotions-gp]         "
     ]
    },
    {
     "name": "stdout",
     "output_type": "stream",
     "text": [
      "Error during HTTP request: 404 Client Error: Not Found for url: https://www.eversports.de/s/polemotions-gp\n",
      "Converting to DataFrame...\n",
      "Validating URLs...\n",
      "Processing completed.\n",
      "Starting URL reconstruction...\n"
     ]
    },
    {
     "name": "stderr",
     "output_type": "stream",
     "text": [
      "Processing URLs:  93%|█████████▎| 315/337 [31:17<01:08,  3.13s/it, Current URL: https://www.eversports.de/s/körpernah]     "
     ]
    },
    {
     "name": "stdout",
     "output_type": "stream",
     "text": [
      "Error during HTTP request: Exceeded 30 redirects.\n",
      "Converting to DataFrame...\n",
      "Validating URLs...\n",
      "Processing completed.\n",
      "Starting URL reconstruction...\n"
     ]
    },
    {
     "name": "stderr",
     "output_type": "stream",
     "text": [
      "Processing URLs:  94%|█████████▍| 316/337 [31:19<00:53,  2.54s/it, Current URL: https://www.eversports.de/s/open-aerial-dance-wiesbaden]"
     ]
    },
    {
     "name": "stdout",
     "output_type": "stream",
     "text": [
      "Error during HTTP request: 404 Client Error: Not Found for url: https://www.eversports.de/s/open-aerial-dance-wiesbaden\n",
      "Converting to DataFrame...\n",
      "Validating URLs...\n",
      "Processing completed.\n",
      "Starting URL reconstruction...\n"
     ]
    },
    {
     "name": "stderr",
     "output_type": "stream",
     "text": [
      "Processing URLs:  94%|█████████▍| 317/337 [31:20<00:42,  2.12s/it, Current URL: https://www.eversports.de/s/polefriends]                "
     ]
    },
    {
     "name": "stdout",
     "output_type": "stream",
     "text": [
      "Error during HTTP request: 404 Client Error: Not Found for url: https://www.eversports.de/s/polefriends\n",
      "Converting to DataFrame...\n",
      "Validating URLs...\n",
      "Processing completed.\n",
      "Starting URL reconstruction...\n"
     ]
    },
    {
     "name": "stderr",
     "output_type": "stream",
     "text": [
      "Processing URLs:  94%|█████████▍| 318/337 [31:21<00:37,  1.97s/it, Current URL: https://www.eversports.de/s/wonderpole] "
     ]
    },
    {
     "name": "stdout",
     "output_type": "stream",
     "text": [
      "Error during HTTP request: 404 Client Error: Not Found for url: https://www.eversports.de/s/wonderpole\n",
      "Converting to DataFrame...\n",
      "Validating URLs...\n",
      "Processing completed.\n",
      "Starting URL reconstruction...\n"
     ]
    },
    {
     "name": "stderr",
     "output_type": "stream",
     "text": [
      "Processing URLs:  95%|█████████▍| 319/337 [31:22<00:30,  1.70s/it, Current URL: https://www.eversports.de/s/yh-pole-(and)-sports-berlin]"
     ]
    },
    {
     "name": "stdout",
     "output_type": "stream",
     "text": [
      "Error during HTTP request: 404 Client Error: Not Found for url: https://www.eversports.de/s/yh-pole-(and)-sports-berlin\n",
      "Converting to DataFrame...\n",
      "Validating URLs...\n",
      "Processing completed.\n",
      "Starting URL reconstruction...\n"
     ]
    },
    {
     "name": "stderr",
     "output_type": "stream",
     "text": [
      "2024-02-10 16:51:54,364 - INFO - Processing URL 1/3: https://www.eversports.de/s/secret-moves-athletic-dance-studio\n"
     ]
    },
    {
     "name": "stdout",
     "output_type": "stream",
     "text": [
      "Converting to DataFrame...\n",
      "Validating URLs...\n"
     ]
    },
    {
     "name": "stderr",
     "output_type": "stream",
     "text": [
      "2024-02-10 16:51:55,722 - INFO - URL https://www.eversports.de/s/secret-moves-athletic-dance-studio is valid.\n",
      "2024-02-10 16:51:55,723 - INFO - Processing URL 2/3: https://www.eversports.de/sp/secret-moves-athletic-dance-studio\n",
      "2024-02-10 16:51:56,934 - INFO - URL https://www.eversports.de/sp/secret-moves-athletic-dance-studio is valid.\n",
      "2024-02-10 16:51:56,935 - INFO - Processing URL 3/3: https://www.eversports.de/s/secret-moves-athletic-dance-studio/team\n",
      "2024-02-10 16:51:58,166 - INFO - URL https://www.eversports.de/s/secret-moves-athletic-dance-studio/team is valid.\n"
     ]
    },
    {
     "name": "stdout",
     "output_type": "stream",
     "text": [
      "Scraping Pole Studio Data from https://www.eversports.de/s/secret-moves-athletic-dance-studio...\n"
     ]
    },
    {
     "name": "stderr",
     "output_type": "stream",
     "text": [
      "Processing URLs:  95%|█████████▍| 320/337 [31:28<00:48,  2.88s/it, Current URL: https://www.eversports.de/s/secret-moves-athletic-dance-studio]"
     ]
    },
    {
     "name": "stdout",
     "output_type": "stream",
     "text": [
      "Processing completed.\n",
      "Pole Studio Data: 1 entries\n",
      "Starting URL reconstruction...\n"
     ]
    },
    {
     "name": "stderr",
     "output_type": "stream",
     "text": [
      "Processing URLs:  95%|█████████▌| 321/337 [31:29<00:37,  2.37s/it, Current URL: https://www.eversports.de/s/freaky-pole-cats-cham]             "
     ]
    },
    {
     "name": "stdout",
     "output_type": "stream",
     "text": [
      "Error during HTTP request: 404 Client Error: Not Found for url: https://www.eversports.de/s/freaky-pole-cats-cham\n",
      "Converting to DataFrame...\n",
      "Validating URLs...\n",
      "Processing completed.\n",
      "Starting URL reconstruction...\n"
     ]
    },
    {
     "name": "stderr",
     "output_type": "stream",
     "text": [
      "Processing URLs:  96%|█████████▌| 322/337 [31:30<00:30,  2.01s/it, Current URL: https://www.eversports.de/s/unique-pole-art]      "
     ]
    },
    {
     "name": "stdout",
     "output_type": "stream",
     "text": [
      "Error during HTTP request: 404 Client Error: Not Found for url: https://www.eversports.de/s/unique-pole-art\n",
      "Converting to DataFrame...\n",
      "Validating URLs...\n",
      "Processing completed.\n",
      "Starting URL reconstruction...\n"
     ]
    },
    {
     "name": "stderr",
     "output_type": "stream",
     "text": [
      "2024-02-10 16:52:02,513 - INFO - Processing URL 1/4: https://www.eversports.de/s/yoga-vidya-burgdorf\n"
     ]
    },
    {
     "name": "stdout",
     "output_type": "stream",
     "text": [
      "Error reconstructing URL for 'Kurse': Unrecognized text: 'Kurse'\n",
      "Converting to DataFrame...\n",
      "Validating URLs...\n"
     ]
    },
    {
     "name": "stderr",
     "output_type": "stream",
     "text": [
      "2024-02-10 16:52:04,004 - INFO - URL https://www.eversports.de/s/yoga-vidya-burgdorf is valid.\n",
      "2024-02-10 16:52:04,005 - INFO - Processing URL 2/4: https://www.eversports.de/sw/yoga-vidya-burgdorf\n",
      "2024-02-10 16:52:05,205 - INFO - URL https://www.eversports.de/sw/yoga-vidya-burgdorf is valid.\n",
      "2024-02-10 16:52:05,206 - INFO - Processing URL 3/4: https://www.eversports.de/sp/yoga-vidya-burgdorf\n",
      "2024-02-10 16:52:06,395 - INFO - URL https://www.eversports.de/sp/yoga-vidya-burgdorf is valid.\n",
      "2024-02-10 16:52:06,396 - INFO - Processing URL 4/4: https://www.eversports.de/s/yoga-vidya-burgdorf/team\n",
      "2024-02-10 16:52:07,685 - INFO - URL https://www.eversports.de/s/yoga-vidya-burgdorf/team is valid.\n"
     ]
    },
    {
     "name": "stdout",
     "output_type": "stream",
     "text": [
      "Scraping Pole Studio Data from https://www.eversports.de/s/yoga-vidya-burgdorf...\n",
      "Scraping Workshops Data from https://www.eversports.de/sw/yoga-vidya-burgdorf...\n",
      "Scraping Workshop Details from https://www.eversports.de/e/workshop/0E9ASI_...\n"
     ]
    },
    {
     "name": "stderr",
     "output_type": "stream",
     "text": [
      "Processing URLs:  96%|█████████▌| 323/337 [31:40<00:59,  4.27s/it, Current URL: https://www.eversports.de/s/yoga-vidya-burgdorf]"
     ]
    },
    {
     "name": "stdout",
     "output_type": "stream",
     "text": [
      "Processing completed.\n",
      "Pole Studio Data: 1 entries\n",
      "Workshops Data: 1 entries\n",
      "Workshop Details: 1 entries\n",
      "Starting URL reconstruction...\n"
     ]
    },
    {
     "name": "stderr",
     "output_type": "stream",
     "text": [
      "Processing URLs:  96%|█████████▌| 324/337 [31:41<00:43,  3.36s/it, Current URL: https://www.eversports.de/s/die-dance-academy-by-wipper]"
     ]
    },
    {
     "name": "stdout",
     "output_type": "stream",
     "text": [
      "Error during HTTP request: 404 Client Error: Not Found for url: https://www.eversports.de/s/die-dance-academy-by-wipper\n",
      "Converting to DataFrame...\n",
      "Validating URLs...\n",
      "Processing completed.\n",
      "Starting URL reconstruction...\n"
     ]
    },
    {
     "name": "stderr",
     "output_type": "stream",
     "text": [
      "Processing URLs:  96%|█████████▋| 325/337 [31:42<00:32,  2.69s/it, Current URL: https://www.eversports.de/s/health-and-shape]           "
     ]
    },
    {
     "name": "stdout",
     "output_type": "stream",
     "text": [
      "Error during HTTP request: 404 Client Error: Not Found for url: https://www.eversports.de/s/health-and-shape\n",
      "Converting to DataFrame...\n",
      "Validating URLs...\n",
      "Processing completed.\n",
      "Starting URL reconstruction...\n"
     ]
    },
    {
     "name": "stderr",
     "output_type": "stream",
     "text": [
      "2024-02-10 16:52:14,286 - INFO - Processing URL 1/3: https://www.eversports.de/s/the-pole-jungle\n"
     ]
    },
    {
     "name": "stdout",
     "output_type": "stream",
     "text": [
      "Error reconstructing URL for 'Trainings': Unrecognized text: 'Trainings'\n",
      "Error reconstructing URL for 'Kurse': Unrecognized text: 'Kurse'\n",
      "Converting to DataFrame...\n",
      "Validating URLs...\n"
     ]
    },
    {
     "name": "stderr",
     "output_type": "stream",
     "text": [
      "2024-02-10 16:52:16,135 - INFO - URL https://www.eversports.de/s/the-pole-jungle is valid.\n",
      "2024-02-10 16:52:16,136 - INFO - Processing URL 2/3: https://www.eversports.de/sp/the-pole-jungle\n",
      "2024-02-10 16:52:17,344 - INFO - URL https://www.eversports.de/sp/the-pole-jungle is not valid.\n",
      "2024-02-10 16:52:17,345 - INFO - Processing URL 3/3: https://www.eversports.de/s/the-pole-jungle/team\n",
      "2024-02-10 16:52:18,504 - INFO - URL https://www.eversports.de/s/the-pole-jungle/team is valid.\n"
     ]
    },
    {
     "name": "stdout",
     "output_type": "stream",
     "text": [
      "Scraping Pole Studio Data from https://www.eversports.de/s/the-pole-jungle...\n"
     ]
    },
    {
     "name": "stderr",
     "output_type": "stream",
     "text": [
      "Processing URLs:  97%|█████████▋| 326/337 [31:48<00:40,  3.69s/it, Current URL: https://www.eversports.de/s/the-pole-jungle] "
     ]
    },
    {
     "name": "stdout",
     "output_type": "stream",
     "text": [
      "Processing completed.\n",
      "Pole Studio Data: 1 entries\n",
      "Starting URL reconstruction...\n"
     ]
    },
    {
     "name": "stderr",
     "output_type": "stream",
     "text": [
      "Processing URLs:  97%|█████████▋| 327/337 [31:50<00:31,  3.13s/it, Current URL: https://www.eversports.de/s/pole-box]       "
     ]
    },
    {
     "name": "stdout",
     "output_type": "stream",
     "text": [
      "Error during HTTP request: 404 Client Error: Not Found for url: https://www.eversports.de/s/pole-box\n",
      "Converting to DataFrame...\n",
      "Validating URLs...\n",
      "Processing completed.\n",
      "Starting URL reconstruction...\n"
     ]
    },
    {
     "name": "stderr",
     "output_type": "stream",
     "text": [
      "2024-02-10 16:52:22,195 - INFO - Processing URL 1/4: https://www.eversports.de/s/dayuma-pole-and-acrobatics\n"
     ]
    },
    {
     "name": "stdout",
     "output_type": "stream",
     "text": [
      "Converting to DataFrame...\n",
      "Validating URLs...\n"
     ]
    },
    {
     "name": "stderr",
     "output_type": "stream",
     "text": [
      "2024-02-10 16:52:24,757 - INFO - URL https://www.eversports.de/s/dayuma-pole-and-acrobatics is valid.\n",
      "2024-02-10 16:52:24,758 - INFO - Processing URL 2/4: https://www.eversports.de/sw/dayuma-pole-and-acrobatics\n",
      "2024-02-10 16:52:25,919 - INFO - URL https://www.eversports.de/sw/dayuma-pole-and-acrobatics is not valid.\n",
      "2024-02-10 16:52:25,920 - INFO - Processing URL 3/4: https://www.eversports.de/sp/dayuma-pole-and-acrobatics\n",
      "2024-02-10 16:52:27,279 - INFO - URL https://www.eversports.de/sp/dayuma-pole-and-acrobatics is not valid.\n",
      "2024-02-10 16:52:27,280 - INFO - Processing URL 4/4: https://www.eversports.de/s/dayuma-pole-and-acrobatics/team\n",
      "2024-02-10 16:52:28,773 - INFO - URL https://www.eversports.de/s/dayuma-pole-and-acrobatics/team is valid.\n"
     ]
    },
    {
     "name": "stdout",
     "output_type": "stream",
     "text": [
      "Scraping Pole Studio Data from https://www.eversports.de/s/dayuma-pole-and-acrobatics...\n"
     ]
    },
    {
     "name": "stderr",
     "output_type": "stream",
     "text": [
      "Processing URLs:  97%|█████████▋| 328/337 [31:59<00:43,  4.86s/it, Current URL: https://www.eversports.de/s/dayuma-pole-and-acrobatics]"
     ]
    },
    {
     "name": "stdout",
     "output_type": "stream",
     "text": [
      "Processing completed.\n",
      "Pole Studio Data: 1 entries\n",
      "Starting URL reconstruction...\n"
     ]
    },
    {
     "name": "stderr",
     "output_type": "stream",
     "text": [
      "Processing URLs:  98%|█████████▊| 329/337 [32:00<00:29,  3.73s/it, Current URL: https://www.eversports.de/s/pole-faction-pole-dance-&-fitness]"
     ]
    },
    {
     "name": "stdout",
     "output_type": "stream",
     "text": [
      "Error during HTTP request: 404 Client Error: Not Found for url: https://www.eversports.de/s/pole-faction-pole-dance-&-fitness\n",
      "Converting to DataFrame...\n",
      "Validating URLs...\n",
      "Processing completed.\n",
      "Starting URL reconstruction...\n"
     ]
    },
    {
     "name": "stderr",
     "output_type": "stream",
     "text": [
      "Processing URLs:  98%|█████████▊| 330/337 [32:01<00:20,  2.95s/it, Current URL: https://www.eversports.de/s/polesports-studio-bremen]         "
     ]
    },
    {
     "name": "stdout",
     "output_type": "stream",
     "text": [
      "Error during HTTP request: 404 Client Error: Not Found for url: https://www.eversports.de/s/polesports-studio-bremen\n",
      "Converting to DataFrame...\n",
      "Validating URLs...\n",
      "Processing completed.\n",
      "Starting URL reconstruction...\n"
     ]
    },
    {
     "name": "stderr",
     "output_type": "stream",
     "text": [
      "2024-02-10 16:52:33,122 - INFO - Processing URL 1/4: https://www.eversports.de/s/poleside\n"
     ]
    },
    {
     "name": "stdout",
     "output_type": "stream",
     "text": [
      "Error reconstructing URL for 'Kurse': Unrecognized text: 'Kurse'\n",
      "Converting to DataFrame...\n",
      "Validating URLs...\n"
     ]
    },
    {
     "name": "stderr",
     "output_type": "stream",
     "text": [
      "2024-02-10 16:52:45,115 - INFO - URL https://www.eversports.de/s/poleside is valid.\n",
      "2024-02-10 16:52:45,116 - INFO - Processing URL 2/4: https://www.eversports.de/sw/poleside\n",
      "2024-02-10 16:52:46,212 - INFO - URL https://www.eversports.de/sw/poleside is valid.\n",
      "2024-02-10 16:52:46,213 - INFO - Processing URL 3/4: https://www.eversports.de/sp/poleside\n",
      "2024-02-10 16:52:47,387 - INFO - URL https://www.eversports.de/sp/poleside is valid.\n",
      "2024-02-10 16:52:47,388 - INFO - Processing URL 4/4: https://www.eversports.de/s/poleside/team\n",
      "2024-02-10 16:52:48,621 - INFO - URL https://www.eversports.de/s/poleside/team is valid.\n"
     ]
    },
    {
     "name": "stdout",
     "output_type": "stream",
     "text": [
      "Scraping Pole Studio Data from https://www.eversports.de/s/poleside...\n",
      "Scraping Workshops Data from https://www.eversports.de/sw/poleside...\n",
      "Scraping Workshop Details from https://www.eversports.de/e/workshop/llCPKoMLh...\n"
     ]
    },
    {
     "name": "stderr",
     "output_type": "stream",
     "text": [
      "Processing URLs:  98%|█████████▊| 331/337 [32:21<00:47,  7.98s/it, Current URL: https://www.eversports.de/s/poleside]                "
     ]
    },
    {
     "name": "stdout",
     "output_type": "stream",
     "text": [
      "Processing completed.\n",
      "Pole Studio Data: 1 entries\n",
      "Workshops Data: 1 entries\n",
      "Workshop Details: 1 entries\n",
      "Starting URL reconstruction...\n"
     ]
    },
    {
     "name": "stderr",
     "output_type": "stream",
     "text": [
      "Processing URLs:  99%|█████████▊| 332/337 [32:22<00:29,  5.94s/it, Current URL: https://www.eversports.de/s/mypole]  "
     ]
    },
    {
     "name": "stdout",
     "output_type": "stream",
     "text": [
      "Error during HTTP request: 404 Client Error: Not Found for url: https://www.eversports.de/s/mypole\n",
      "Converting to DataFrame...\n",
      "Validating URLs...\n",
      "Processing completed.\n",
      "Starting URL reconstruction...\n"
     ]
    },
    {
     "name": "stderr",
     "output_type": "stream",
     "text": [
      "2024-02-10 16:52:54,264 - INFO - Processing URL 1/1: https://www.eversports.de/s/swiss-mega-park\n"
     ]
    },
    {
     "name": "stdout",
     "output_type": "stream",
     "text": [
      "Error reconstructing URL for 'Sportplätze': Unrecognized text: 'Sportplätze'\n",
      "Error reconstructing URL for 'Matches': Unrecognized text: 'Matches'\n",
      "Converting to DataFrame...\n",
      "Validating URLs...\n"
     ]
    },
    {
     "name": "stderr",
     "output_type": "stream",
     "text": [
      "2024-02-10 16:52:56,025 - INFO - URL https://www.eversports.de/s/swiss-mega-park is valid.\n"
     ]
    },
    {
     "name": "stdout",
     "output_type": "stream",
     "text": [
      "Scraping Pole Studio Data from https://www.eversports.de/s/swiss-mega-park...\n"
     ]
    },
    {
     "name": "stderr",
     "output_type": "stream",
     "text": [
      "Processing URLs:  99%|█████████▉| 333/337 [32:26<00:21,  5.27s/it, Current URL: https://www.eversports.de/s/swiss-mega-park]"
     ]
    },
    {
     "name": "stdout",
     "output_type": "stream",
     "text": [
      "Processing completed.\n",
      "Pole Studio Data: 1 entries\n",
      "Starting URL reconstruction...\n"
     ]
    },
    {
     "name": "stderr",
     "output_type": "stream",
     "text": [
      "Processing URLs:  99%|█████████▉| 334/337 [32:27<00:12,  4.06s/it, Current URL: https://www.eversports.de/s/lioness-lodge]  "
     ]
    },
    {
     "name": "stdout",
     "output_type": "stream",
     "text": [
      "Error during HTTP request: 404 Client Error: Not Found for url: https://www.eversports.de/s/lioness-lodge\n",
      "Converting to DataFrame...\n",
      "Validating URLs...\n",
      "Processing completed.\n",
      "Starting URL reconstruction...\n"
     ]
    },
    {
     "name": "stderr",
     "output_type": "stream",
     "text": [
      "Processing URLs:  99%|█████████▉| 335/337 [32:28<00:06,  3.22s/it, Current URL: https://www.eversports.de/s/polesports-studio-buchholz]"
     ]
    },
    {
     "name": "stdout",
     "output_type": "stream",
     "text": [
      "Error during HTTP request: 404 Client Error: Not Found for url: https://www.eversports.de/s/polesports-studio-buchholz\n",
      "Converting to DataFrame...\n",
      "Validating URLs...\n",
      "Processing completed.\n",
      "Starting URL reconstruction...\n"
     ]
    },
    {
     "name": "stderr",
     "output_type": "stream",
     "text": [
      "2024-02-10 16:53:00,249 - INFO - Processing URL 1/2: https://www.eversports.de/s/annis-pole-dance-neumuenster\n"
     ]
    },
    {
     "name": "stdout",
     "output_type": "stream",
     "text": [
      "Error reconstructing URL for 'Trainings': Unrecognized text: 'Trainings'\n",
      "Error reconstructing URL for 'Kurse': Unrecognized text: 'Kurse'\n",
      "Converting to DataFrame...\n",
      "Validating URLs...\n"
     ]
    },
    {
     "name": "stderr",
     "output_type": "stream",
     "text": [
      "2024-02-10 16:53:01,486 - INFO - URL https://www.eversports.de/s/annis-pole-dance-neumuenster is valid.\n",
      "2024-02-10 16:53:01,487 - INFO - Processing URL 2/2: https://www.eversports.de/s/annis-pole-dance-neumuenster/team\n",
      "2024-02-10 16:53:02,650 - INFO - URL https://www.eversports.de/s/annis-pole-dance-neumuenster/team is valid.\n"
     ]
    },
    {
     "name": "stdout",
     "output_type": "stream",
     "text": [
      "Scraping Pole Studio Data from https://www.eversports.de/s/annis-pole-dance-neumuenster...\n"
     ]
    },
    {
     "name": "stderr",
     "output_type": "stream",
     "text": [
      "Processing URLs: 100%|█████████▉| 336/337 [32:32<00:03,  3.50s/it, Current URL: https://www.eversports.de/s/annis-pole-dance-neumuenster]"
     ]
    },
    {
     "name": "stdout",
     "output_type": "stream",
     "text": [
      "Processing completed.\n",
      "Pole Studio Data: 1 entries\n",
      "Starting URL reconstruction...\n"
     ]
    },
    {
     "name": "stderr",
     "output_type": "stream",
     "text": [
      "Processing URLs: 100%|██████████| 337/337 [32:34<00:00,  5.80s/it, Current URL: https://www.eversports.de/s/poleria]                     "
     ]
    },
    {
     "name": "stdout",
     "output_type": "stream",
     "text": [
      "Error during HTTP request: 404 Client Error: Not Found for url: https://www.eversports.de/s/poleria\n",
      "Converting to DataFrame...\n",
      "Validating URLs...\n",
      "Processing completed.\n"
     ]
    },
    {
     "name": "stderr",
     "output_type": "stream",
     "text": [
      "\n"
     ]
    }
   ],
   "source": [
    "def process_and_print_results(url, all_pole_studio_data, all_workshops_data, all_workshop_details_data):\n",
    "    data = process_urls([url])\n",
    "\n",
    "    if data:\n",
    "        for key, df in data.items():\n",
    "            if df is not None and not df.empty:\n",
    "                print(f\"{key.replace('_', ' ').title()}: {len(df)} entries\")\n",
    "\n",
    "                # Update the appropriate DataFrame\n",
    "                if key == 'pole_studio_data':\n",
    "                    all_pole_studio_data = pd.concat([all_pole_studio_data, df], ignore_index=True)\n",
    "                elif key == 'workshops_data':\n",
    "                    all_workshops_data = pd.concat([all_workshops_data, df], ignore_index=True)\n",
    "                elif key == 'workshop_details':\n",
    "                    all_workshop_details_data = pd.concat([all_workshop_details_data, df], ignore_index=True)\n",
    "\n",
    "    return all_pole_studio_data, all_workshops_data, all_workshop_details_data\n",
    "\n",
    "def main():\n",
    "    # # Load initial URLs\n",
    "    # all_found_urls_s = pd.read_csv(\"your_output_file.csv\")\n",
    "    # initial_urls = list(set(all_found_urls_s[\"0\"])) # Delete \"[:3]\" to scrape all Urls\n",
    "\n",
    "    # Initialize DataFrames\n",
    "    all_pole_studio_data = pd.DataFrame()\n",
    "    all_workshops_data = pd.DataFrame()\n",
    "    all_workshop_details_data = pd.DataFrame()\n",
    "\n",
    "    # Process each URL with tqdm\n",
    "    with tqdm(total=len(initial_urls), desc=\"Processing URLs\", dynamic_ncols=True) as pbar:\n",
    "        for url in initial_urls:\n",
    "            all_pole_studio_data, all_workshops_data, all_workshop_details_data = process_and_print_results(\n",
    "                url, all_pole_studio_data, all_workshops_data, all_workshop_details_data\n",
    "            )\n",
    "            pbar.update(1)\n",
    "            pbar.set_postfix_str(f\"Current URL: {url}\", refresh=True)\n",
    "\n",
    "    # # Export DataFrames to CSV files\n",
    "    all_pole_studio_data.to_csv(\"Pole_Studio_Übersicht_S.csv\", index=False)\n",
    "    all_workshops_data.to_csv(\"Workshop_Liste_SW.csv\", index=False)\n",
    "    all_workshop_details_data.to_csv(\"Workshop_Übersicht_E.csv\", index=False)\n",
    "\n",
    "    # Return the final DataFrames\n",
    "    return all_pole_studio_data, all_workshops_data, all_workshop_details_data\n",
    "\n",
    "# Run the main function and get the final DataFrames\n",
    "result_pole_studio, result_workshops, result_workshop_details = main()\n",
    "\n",
    "# Now you can access result_pole_studio, result_workshops, and result_workshop_details outside the function\n",
    "# print(result_pole_studio)\n",
    "# print(result_workshops)\n",
    "# print(result_workshop_details)\n"
   ]
  },
  {
   "cell_type": "code",
   "execution_count": 4,
   "metadata": {},
   "outputs": [
    {
     "data": {
      "text/html": [
       "<div>\n",
       "<style scoped>\n",
       "    .dataframe tbody tr th:only-of-type {\n",
       "        vertical-align: middle;\n",
       "    }\n",
       "\n",
       "    .dataframe tbody tr th {\n",
       "        vertical-align: top;\n",
       "    }\n",
       "\n",
       "    .dataframe thead th {\n",
       "        text-align: right;\n",
       "    }\n",
       "</style>\n",
       "<table border=\"1\" class=\"dataframe\">\n",
       "  <thead>\n",
       "    <tr style=\"text-align: right;\">\n",
       "      <th></th>\n",
       "      <th>PoleStudio_Name</th>\n",
       "      <th>Adresse</th>\n",
       "      <th>PLZ</th>\n",
       "      <th>Stadt</th>\n",
       "      <th>Straße</th>\n",
       "      <th>Buttons</th>\n",
       "      <th>Pole Studio Beschreibung</th>\n",
       "      <th>E-Mail</th>\n",
       "      <th>Homepage</th>\n",
       "      <th>Telefon</th>\n",
       "      <th>URL_S</th>\n",
       "      <th>Art</th>\n",
       "      <th>Angebot</th>\n",
       "      <th>Created Date</th>\n",
       "      <th>Updated Date</th>\n",
       "    </tr>\n",
       "  </thead>\n",
       "  <tbody>\n",
       "    <tr>\n",
       "      <th>0</th>\n",
       "      <td>Körperformfabrik GbR</td>\n",
       "      <td>[Hauptstraße 108 ,  77855 Achern]</td>\n",
       "      <td>77855</td>\n",
       "      <td>Achern</td>\n",
       "      <td>Hauptstraße 108</td>\n",
       "      <td>[Übersicht, Klassen, Preise, Team]</td>\n",
       "      <td>Pole Dance oder Pylon Dance ist Körperkunst un...</td>\n",
       "      <td>alexander.malyschkin@web.de</td>\n",
       "      <td>http://www.koerperformfabrik.de</td>\n",
       "      <td>+49 17672823704</td>\n",
       "      <td>https://www.eversports.de/s/koerperformfabrik-gbr</td>\n",
       "      <td>[TRX®, TRX® Yoga, Exotic, Poledance, Poledance...</td>\n",
       "      <td>Kostenlos Schnuppern</td>\n",
       "      <td>2024-02-10 16:20:45</td>\n",
       "      <td>2024-02-10 16:20:45</td>\n",
       "    </tr>\n",
       "    <tr>\n",
       "      <th>1</th>\n",
       "      <td>PoleworkX</td>\n",
       "      <td>[Schleißheimer Straße 523,  80933 München]</td>\n",
       "      <td>80933</td>\n",
       "      <td>München</td>\n",
       "      <td>Schleißheimer Straße 523</td>\n",
       "      <td>[Übersicht]</td>\n",
       "      <td>Komme ins PoleworkX München für Poledancetrain...</td>\n",
       "      <td>info@poleworkx.de</td>\n",
       "      <td>None</td>\n",
       "      <td>+49 1520 8865607</td>\n",
       "      <td>https://www.eversports.de/s/poleworkx</td>\n",
       "      <td>[(Noch keine Bewertungen), Poledance]</td>\n",
       "      <td>None</td>\n",
       "      <td>2024-02-10 16:21:00</td>\n",
       "      <td>2024-02-10 16:21:00</td>\n",
       "    </tr>\n",
       "    <tr>\n",
       "      <th>2</th>\n",
       "      <td>pure body concepts OLD</td>\n",
       "      <td>[Zugspitzstraße 2A,  85591 Vaterstetten]</td>\n",
       "      <td>85591</td>\n",
       "      <td>Vaterstetten</td>\n",
       "      <td>Zugspitzstraße 2A</td>\n",
       "      <td>[Übersicht]</td>\n",
       "      <td>Diese Sportanlage bietet eine Vielzahl an Spor...</td>\n",
       "      <td>info@pure-body-concepts.de</td>\n",
       "      <td>None</td>\n",
       "      <td>+49 8106 3774499</td>\n",
       "      <td>https://www.eversports.de/s/pure-body-concepts</td>\n",
       "      <td>[(Noch keine Bewertungen), Pilates, Tanzen, Yo...</td>\n",
       "      <td>None</td>\n",
       "      <td>2024-02-10 16:21:03</td>\n",
       "      <td>2024-02-10 16:21:03</td>\n",
       "    </tr>\n",
       "    <tr>\n",
       "      <th>3</th>\n",
       "      <td>Pole for Soul GbR</td>\n",
       "      <td>[Die Schlagd 1 ,  34125 Kassel]</td>\n",
       "      <td>34125</td>\n",
       "      <td>Kassel</td>\n",
       "      <td>Die Schlagd 1</td>\n",
       "      <td>[Übersicht, Klassen, Workshops, Videos, Team]</td>\n",
       "      <td>Dein Studio für Poledance, Tanz, Aerial Hoop &amp;...</td>\n",
       "      <td>info@poleforsoul.de</td>\n",
       "      <td>http://www.poleforsoul.com</td>\n",
       "      <td>0176 56826749</td>\n",
       "      <td>https://www.eversports.de/s/pole-for-soul-gbr</td>\n",
       "      <td>[Poledance, Aerial Yoga, Poledance, Aerial Yog...</td>\n",
       "      <td>Zum Stundenplan</td>\n",
       "      <td>2024-02-10 16:21:17</td>\n",
       "      <td>2024-02-10 16:21:17</td>\n",
       "    </tr>\n",
       "    <tr>\n",
       "      <th>4</th>\n",
       "      <td>Pole Paradise</td>\n",
       "      <td>[Ravensburgerstraße 110-112 ,  50739 Köln]</td>\n",
       "      <td>50739</td>\n",
       "      <td>Köln</td>\n",
       "      <td>Ravensburgerstraße 110-112</td>\n",
       "      <td>[Übersicht, Klassen, Workshops, Videos, Preise...</td>\n",
       "      <td>Das Pole Paradise in Köln ist ein Studio, in d...</td>\n",
       "      <td>poleparadise@gmx.de</td>\n",
       "      <td>https://www.pole-paradise.com</td>\n",
       "      <td>+491774616007</td>\n",
       "      <td>https://www.eversports.de/s/pole-paradise</td>\n",
       "      <td>[Gymnastik, Turnen, Fitness, Gymnastik, Fitnes...</td>\n",
       "      <td>Zum Stundenplan</td>\n",
       "      <td>2024-02-10 16:21:31</td>\n",
       "      <td>2024-02-10 16:21:31</td>\n",
       "    </tr>\n",
       "    <tr>\n",
       "      <th>...</th>\n",
       "      <td>...</td>\n",
       "      <td>...</td>\n",
       "      <td>...</td>\n",
       "      <td>...</td>\n",
       "      <td>...</td>\n",
       "      <td>...</td>\n",
       "      <td>...</td>\n",
       "      <td>...</td>\n",
       "      <td>...</td>\n",
       "      <td>...</td>\n",
       "      <td>...</td>\n",
       "      <td>...</td>\n",
       "      <td>...</td>\n",
       "      <td>...</td>\n",
       "      <td>...</td>\n",
       "    </tr>\n",
       "    <tr>\n",
       "      <th>155</th>\n",
       "      <td>The Pole Jungle</td>\n",
       "      <td>[Volksgartenstraße 19,  4020 Linz]</td>\n",
       "      <td>4020</td>\n",
       "      <td>Linz</td>\n",
       "      <td>Volksgartenstraße 19</td>\n",
       "      <td>[Übersicht, Klassen, Trainings, Kurse, Preise,...</td>\n",
       "      <td>Wie der Name bereits sagt erwartet euch ein gr...</td>\n",
       "      <td>hello@thepolejungle.com</td>\n",
       "      <td>http://www.thepolejungle.com</td>\n",
       "      <td>+43 677 647 33 8 00</td>\n",
       "      <td>https://www.eversports.de/s/the-pole-jungle</td>\n",
       "      <td>[Poledance, Poledance, Poledance, Poledance, P...</td>\n",
       "      <td>Zum Stundenplan</td>\n",
       "      <td>2024-02-10 16:52:18</td>\n",
       "      <td>2024-02-10 16:52:18</td>\n",
       "    </tr>\n",
       "    <tr>\n",
       "      <th>156</th>\n",
       "      <td>Dayuma - Pole &amp; Acrobatics</td>\n",
       "      <td>[Auf dem Wolf 18 ,  4052 Basel]</td>\n",
       "      <td>4052</td>\n",
       "      <td>Basel</td>\n",
       "      <td>Auf dem Wolf 18</td>\n",
       "      <td>[Übersicht, Klassen, Workshops, Preise, Team]</td>\n",
       "      <td>Das aufgestellte Frauenteam legt grossen Wert ...</td>\n",
       "      <td>info@studio-dayuma.ch</td>\n",
       "      <td>http://www.studio-dayuma.ch</td>\n",
       "      <td>+41 76 537 39 99</td>\n",
       "      <td>https://www.eversports.de/s/dayuma-pole-and-ac...</td>\n",
       "      <td>[Poledance, Akrobatik, Akrobatik, Poledance, A...</td>\n",
       "      <td>Kostenlos Schnuppern</td>\n",
       "      <td>2024-02-10 16:52:29</td>\n",
       "      <td>2024-02-10 16:52:29</td>\n",
       "    </tr>\n",
       "    <tr>\n",
       "      <th>157</th>\n",
       "      <td>POLEside</td>\n",
       "      <td>[Saline 5 ,  74177 Bad Friedrichshall]</td>\n",
       "      <td>74177</td>\n",
       "      <td>Bad</td>\n",
       "      <td>Saline 5</td>\n",
       "      <td>[Übersicht, Klassen, Kurse, Workshops, Videos,...</td>\n",
       "      <td>Willkommen bei POLEside!Lass Dich von uns mitr...</td>\n",
       "      <td>info@poleside.de</td>\n",
       "      <td>http://poleside.de/</td>\n",
       "      <td>0176 870 191 81</td>\n",
       "      <td>https://www.eversports.de/s/poleside</td>\n",
       "      <td>[Fitness, Aerial Yoga, Poledance, Poledance, A...</td>\n",
       "      <td>Zum Stundenplan</td>\n",
       "      <td>2024-02-10 16:52:49</td>\n",
       "      <td>2024-02-10 16:52:49</td>\n",
       "    </tr>\n",
       "    <tr>\n",
       "      <th>158</th>\n",
       "      <td>SWISS MEGA PARK</td>\n",
       "      <td>[Schützenstrasse 2,  4402 Frenkendorf]</td>\n",
       "      <td>4402</td>\n",
       "      <td>Frenkendorf</td>\n",
       "      <td>Schützenstrasse 2</td>\n",
       "      <td>[Übersicht, Sportplätze, Matches]</td>\n",
       "      <td>Der SWISS MEGA PARK in Frenkendorf ist nicht n...</td>\n",
       "      <td>kontakt@swissmegapark.ch</td>\n",
       "      <td>http://www.swissmegapark.ch/</td>\n",
       "      <td>+41 61 901 76 64</td>\n",
       "      <td>https://www.eversports.de/s/swiss-mega-park</td>\n",
       "      <td>[12 Rezensionen, Tennis, Badminton, Basketball...</td>\n",
       "      <td>None</td>\n",
       "      <td>2024-02-10 16:52:56</td>\n",
       "      <td>2024-02-10 16:52:56</td>\n",
       "    </tr>\n",
       "    <tr>\n",
       "      <th>159</th>\n",
       "      <td>Anni's Pole-Dance Neumünster</td>\n",
       "      <td>[Kieler Straße 52 ,  24534 Neumünster]</td>\n",
       "      <td>24534</td>\n",
       "      <td>Neumünster</td>\n",
       "      <td>Kieler Straße 52</td>\n",
       "      <td>[Übersicht, Klassen, Trainings, Kurse, Team]</td>\n",
       "      <td>Hallo lieber Schüler,schön, dass du zu mir gef...</td>\n",
       "      <td>anni@annis-poledance.de</td>\n",
       "      <td>https://www.annis-poledance.de/</td>\n",
       "      <td>+49 15253821082</td>\n",
       "      <td>https://www.eversports.de/s/annis-pole-dance-n...</td>\n",
       "      <td>[Poledance, Handstand, Poledance, Aerial Hoop,...</td>\n",
       "      <td>Zum Stundenplan</td>\n",
       "      <td>2024-02-10 16:53:03</td>\n",
       "      <td>2024-02-10 16:53:03</td>\n",
       "    </tr>\n",
       "  </tbody>\n",
       "</table>\n",
       "<p>160 rows × 15 columns</p>\n",
       "</div>"
      ],
      "text/plain": [
       "                  PoleStudio_Name                                     Adresse  \\\n",
       "0            Körperformfabrik GbR           [Hauptstraße 108 ,  77855 Achern]   \n",
       "1                       PoleworkX  [Schleißheimer Straße 523,  80933 München]   \n",
       "2          pure body concepts OLD    [Zugspitzstraße 2A,  85591 Vaterstetten]   \n",
       "3               Pole for Soul GbR             [Die Schlagd 1 ,  34125 Kassel]   \n",
       "4                   Pole Paradise  [Ravensburgerstraße 110-112 ,  50739 Köln]   \n",
       "..                            ...                                         ...   \n",
       "155               The Pole Jungle          [Volksgartenstraße 19,  4020 Linz]   \n",
       "156    Dayuma - Pole & Acrobatics             [Auf dem Wolf 18 ,  4052 Basel]   \n",
       "157                      POLEside      [Saline 5 ,  74177 Bad Friedrichshall]   \n",
       "158               SWISS MEGA PARK      [Schützenstrasse 2,  4402 Frenkendorf]   \n",
       "159  Anni's Pole-Dance Neumünster      [Kieler Straße 52 ,  24534 Neumünster]   \n",
       "\n",
       "       PLZ         Stadt                      Straße  \\\n",
       "0    77855        Achern             Hauptstraße 108   \n",
       "1    80933       München    Schleißheimer Straße 523   \n",
       "2    85591  Vaterstetten           Zugspitzstraße 2A   \n",
       "3    34125        Kassel               Die Schlagd 1   \n",
       "4    50739          Köln  Ravensburgerstraße 110-112   \n",
       "..     ...           ...                         ...   \n",
       "155   4020          Linz        Volksgartenstraße 19   \n",
       "156   4052         Basel             Auf dem Wolf 18   \n",
       "157  74177           Bad                    Saline 5   \n",
       "158   4402   Frenkendorf           Schützenstrasse 2   \n",
       "159  24534    Neumünster            Kieler Straße 52   \n",
       "\n",
       "                                               Buttons  \\\n",
       "0                   [Übersicht, Klassen, Preise, Team]   \n",
       "1                                          [Übersicht]   \n",
       "2                                          [Übersicht]   \n",
       "3        [Übersicht, Klassen, Workshops, Videos, Team]   \n",
       "4    [Übersicht, Klassen, Workshops, Videos, Preise...   \n",
       "..                                                 ...   \n",
       "155  [Übersicht, Klassen, Trainings, Kurse, Preise,...   \n",
       "156      [Übersicht, Klassen, Workshops, Preise, Team]   \n",
       "157  [Übersicht, Klassen, Kurse, Workshops, Videos,...   \n",
       "158                  [Übersicht, Sportplätze, Matches]   \n",
       "159       [Übersicht, Klassen, Trainings, Kurse, Team]   \n",
       "\n",
       "                              Pole Studio Beschreibung  \\\n",
       "0    Pole Dance oder Pylon Dance ist Körperkunst un...   \n",
       "1    Komme ins PoleworkX München für Poledancetrain...   \n",
       "2    Diese Sportanlage bietet eine Vielzahl an Spor...   \n",
       "3    Dein Studio für Poledance, Tanz, Aerial Hoop &...   \n",
       "4    Das Pole Paradise in Köln ist ein Studio, in d...   \n",
       "..                                                 ...   \n",
       "155  Wie der Name bereits sagt erwartet euch ein gr...   \n",
       "156  Das aufgestellte Frauenteam legt grossen Wert ...   \n",
       "157  Willkommen bei POLEside!Lass Dich von uns mitr...   \n",
       "158  Der SWISS MEGA PARK in Frenkendorf ist nicht n...   \n",
       "159  Hallo lieber Schüler,schön, dass du zu mir gef...   \n",
       "\n",
       "                           E-Mail                         Homepage  \\\n",
       "0     alexander.malyschkin@web.de  http://www.koerperformfabrik.de   \n",
       "1               info@poleworkx.de                             None   \n",
       "2      info@pure-body-concepts.de                             None   \n",
       "3             info@poleforsoul.de       http://www.poleforsoul.com   \n",
       "4             poleparadise@gmx.de    https://www.pole-paradise.com   \n",
       "..                            ...                              ...   \n",
       "155       hello@thepolejungle.com     http://www.thepolejungle.com   \n",
       "156         info@studio-dayuma.ch      http://www.studio-dayuma.ch   \n",
       "157              info@poleside.de              http://poleside.de/   \n",
       "158      kontakt@swissmegapark.ch     http://www.swissmegapark.ch/   \n",
       "159       anni@annis-poledance.de  https://www.annis-poledance.de/   \n",
       "\n",
       "                 Telefon                                              URL_S  \\\n",
       "0        +49 17672823704  https://www.eversports.de/s/koerperformfabrik-gbr   \n",
       "1       +49 1520 8865607              https://www.eversports.de/s/poleworkx   \n",
       "2       +49 8106 3774499     https://www.eversports.de/s/pure-body-concepts   \n",
       "3          0176 56826749      https://www.eversports.de/s/pole-for-soul-gbr   \n",
       "4          +491774616007          https://www.eversports.de/s/pole-paradise   \n",
       "..                   ...                                                ...   \n",
       "155  +43 677 647 33 8 00        https://www.eversports.de/s/the-pole-jungle   \n",
       "156     +41 76 537 39 99  https://www.eversports.de/s/dayuma-pole-and-ac...   \n",
       "157      0176 870 191 81               https://www.eversports.de/s/poleside   \n",
       "158     +41 61 901 76 64        https://www.eversports.de/s/swiss-mega-park   \n",
       "159      +49 15253821082  https://www.eversports.de/s/annis-pole-dance-n...   \n",
       "\n",
       "                                                   Art               Angebot  \\\n",
       "0    [TRX®, TRX® Yoga, Exotic, Poledance, Poledance...  Kostenlos Schnuppern   \n",
       "1                [(Noch keine Bewertungen), Poledance]                  None   \n",
       "2    [(Noch keine Bewertungen), Pilates, Tanzen, Yo...                  None   \n",
       "3    [Poledance, Aerial Yoga, Poledance, Aerial Yog...       Zum Stundenplan   \n",
       "4    [Gymnastik, Turnen, Fitness, Gymnastik, Fitnes...       Zum Stundenplan   \n",
       "..                                                 ...                   ...   \n",
       "155  [Poledance, Poledance, Poledance, Poledance, P...       Zum Stundenplan   \n",
       "156  [Poledance, Akrobatik, Akrobatik, Poledance, A...  Kostenlos Schnuppern   \n",
       "157  [Fitness, Aerial Yoga, Poledance, Poledance, A...       Zum Stundenplan   \n",
       "158  [12 Rezensionen, Tennis, Badminton, Basketball...                  None   \n",
       "159  [Poledance, Handstand, Poledance, Aerial Hoop,...       Zum Stundenplan   \n",
       "\n",
       "            Created Date         Updated Date  \n",
       "0    2024-02-10 16:20:45  2024-02-10 16:20:45  \n",
       "1    2024-02-10 16:21:00  2024-02-10 16:21:00  \n",
       "2    2024-02-10 16:21:03  2024-02-10 16:21:03  \n",
       "3    2024-02-10 16:21:17  2024-02-10 16:21:17  \n",
       "4    2024-02-10 16:21:31  2024-02-10 16:21:31  \n",
       "..                   ...                  ...  \n",
       "155  2024-02-10 16:52:18  2024-02-10 16:52:18  \n",
       "156  2024-02-10 16:52:29  2024-02-10 16:52:29  \n",
       "157  2024-02-10 16:52:49  2024-02-10 16:52:49  \n",
       "158  2024-02-10 16:52:56  2024-02-10 16:52:56  \n",
       "159  2024-02-10 16:53:03  2024-02-10 16:53:03  \n",
       "\n",
       "[160 rows x 15 columns]"
      ]
     },
     "execution_count": 4,
     "metadata": {},
     "output_type": "execute_result"
    }
   ],
   "source": [
    "result_pole_studio"
   ]
  },
  {
   "cell_type": "code",
   "execution_count": 5,
   "metadata": {},
   "outputs": [
    {
     "data": {
      "text/html": [
       "<div>\n",
       "<style scoped>\n",
       "    .dataframe tbody tr th:only-of-type {\n",
       "        vertical-align: middle;\n",
       "    }\n",
       "\n",
       "    .dataframe tbody tr th {\n",
       "        vertical-align: top;\n",
       "    }\n",
       "\n",
       "    .dataframe thead th {\n",
       "        text-align: right;\n",
       "    }\n",
       "</style>\n",
       "<table border=\"1\" class=\"dataframe\">\n",
       "  <thead>\n",
       "    <tr style=\"text-align: right;\">\n",
       "      <th></th>\n",
       "      <th>Workshop Name</th>\n",
       "      <th>Description</th>\n",
       "      <th>Studio Name</th>\n",
       "      <th>Location</th>\n",
       "      <th>Level</th>\n",
       "      <th>Date</th>\n",
       "      <th>URL_E</th>\n",
       "      <th>Time</th>\n",
       "    </tr>\n",
       "  </thead>\n",
       "  <tbody>\n",
       "    <tr>\n",
       "      <th>0</th>\n",
       "      <td>Schnupperstunde Poledance</td>\n",
       "      <td>Trau dich und beginne jetzt! Damit du uns und ...</td>\n",
       "      <td>Pole for Soul GbR</td>\n",
       "      <td>13:30 - 14:30</td>\n",
       "      <td>Poledance</td>\n",
       "      <td>Sonntag, 3. März 2024</td>\n",
       "      <td>https://www.eversports.de/e/workshop/rnbGVfh</td>\n",
       "      <td>13:30 - 14:30</td>\n",
       "    </tr>\n",
       "    <tr>\n",
       "      <th>1</th>\n",
       "      <td>Exotic Valentins Choreo</td>\n",
       "      <td>-Be my Exotic Valentine- Das ist das Motto für...</td>\n",
       "      <td>Pole Paradise</td>\n",
       "      <td>Ticket Abo Mitglieder</td>\n",
       "      <td>Tanzen</td>\n",
       "      <td>Samstag, 17. Februar 2024</td>\n",
       "      <td>https://www.eversports.de/e/workshop/NLk1782</td>\n",
       "      <td>17:30 - 19:30</td>\n",
       "    </tr>\n",
       "    <tr>\n",
       "      <th>2</th>\n",
       "      <td>Stripped</td>\n",
       "      <td>ohne Pole / alle LevelEgal, ob du deine:n Lieb...</td>\n",
       "      <td>Vertical - Pole Aerial Dance</td>\n",
       "      <td>Einzelticket</td>\n",
       "      <td>Poledance</td>\n",
       "      <td>Samstag, 10. Februar 2024</td>\n",
       "      <td>https://www.eversports.de/e/workshop/mylmioi</td>\n",
       "      <td>17:00 - 18:30</td>\n",
       "    </tr>\n",
       "    <tr>\n",
       "      <th>3</th>\n",
       "      <td>Stripped</td>\n",
       "      <td>ohne Pole / alle LevelEgal, ob du deine:n Lieb...</td>\n",
       "      <td>Vertical - Pole Aerial Dance</td>\n",
       "      <td>Einzelticket</td>\n",
       "      <td>Poledance</td>\n",
       "      <td>Samstag, 10. Februar 2024</td>\n",
       "      <td>https://www.eversports.de/e/workshop/Yace1e3</td>\n",
       "      <td>19:00 - 20:30</td>\n",
       "    </tr>\n",
       "    <tr>\n",
       "      <th>4</th>\n",
       "      <td>Spagat</td>\n",
       "      <td>Straddle &amp; Middlesplit stehen ganz oben auf De...</td>\n",
       "      <td>Luftbonbon</td>\n",
       "      <td>20:20 - 21:20</td>\n",
       "      <td>Stärkung/Flexibilität</td>\n",
       "      <td>Begann am Montag, 5. Februar 2024</td>\n",
       "      <td>https://www.eversports.de/e/workshop/60kU5cU</td>\n",
       "      <td>Königstraße 45, 32547 Bad Oeynhausen</td>\n",
       "    </tr>\n",
       "    <tr>\n",
       "      <th>...</th>\n",
       "      <td>...</td>\n",
       "      <td>...</td>\n",
       "      <td>...</td>\n",
       "      <td>...</td>\n",
       "      <td>...</td>\n",
       "      <td>...</td>\n",
       "      <td>...</td>\n",
       "      <td>...</td>\n",
       "    </tr>\n",
       "    <tr>\n",
       "      <th>272</th>\n",
       "      <td>Lapdance Valentine's Special</td>\n",
       "      <td>Woman only Valentins Special! It's getting hot...</td>\n",
       "      <td>PoleCreation</td>\n",
       "      <td>Einzelticket</td>\n",
       "      <td>Fitness</td>\n",
       "      <td>Samstag, 17. Februar 2024</td>\n",
       "      <td>https://www.eversports.de/e/workshop/bmZxua4</td>\n",
       "      <td>17:00 - 18:30</td>\n",
       "    </tr>\n",
       "    <tr>\n",
       "      <th>273</th>\n",
       "      <td>Lapdance Valentine's Special</td>\n",
       "      <td>Woman only Valentins Special! It's getting hot...</td>\n",
       "      <td>PoleCreation</td>\n",
       "      <td>Einzelticket</td>\n",
       "      <td>Fitness</td>\n",
       "      <td>Samstag, 17. Februar 2024</td>\n",
       "      <td>https://www.eversports.de/e/workshop/qcRMhzd</td>\n",
       "      <td>18:45 - 20:15</td>\n",
       "    </tr>\n",
       "    <tr>\n",
       "      <th>274</th>\n",
       "      <td>Lapdance Valentine's Special</td>\n",
       "      <td>Woman only Valentins Special! It's getting hot...</td>\n",
       "      <td>PoleCreation</td>\n",
       "      <td>Einzelticket</td>\n",
       "      <td>Fitness</td>\n",
       "      <td>Samstag, 24. Februar 2024</td>\n",
       "      <td>https://www.eversports.de/e/workshop/Zj0NETg</td>\n",
       "      <td>15:30 - 17:00</td>\n",
       "    </tr>\n",
       "    <tr>\n",
       "      <th>275</th>\n",
       "      <td>Kopfstand mal ganz einfach: FeetUp Workshop mi...</td>\n",
       "      <td>Wer die Welt auf den Kopf stellt, dem liegt de...</td>\n",
       "      <td>Yoga Vidya Burgdorf</td>\n",
       "      <td>Ticketpreis für Abo-Mitglieder von YV Burgdorf</td>\n",
       "      <td>Yoga</td>\n",
       "      <td>Samstag, 2. März 2024</td>\n",
       "      <td>https://www.eversports.de/e/workshop/0E9ASI_</td>\n",
       "      <td>14:00 - 17:00</td>\n",
       "    </tr>\n",
       "    <tr>\n",
       "      <th>276</th>\n",
       "      <td>Workshop mit @bou_boulette (Janine Hollung)</td>\n",
       "      <td>Am Samstag den 02.03.2024 dürfen wir Janine al...</td>\n",
       "      <td>POLEside</td>\n",
       "      <td>Ticket für Sa. 02.03.2024, 16:00 - 17:30</td>\n",
       "      <td>Poledance</td>\n",
       "      <td>Beginnt am Samstag, 2. März 2024</td>\n",
       "      <td>https://www.eversports.de/e/workshop/llCPKoMLh</td>\n",
       "      <td>Weststraße 1, 74193 Schwaigern</td>\n",
       "    </tr>\n",
       "  </tbody>\n",
       "</table>\n",
       "<p>277 rows × 8 columns</p>\n",
       "</div>"
      ],
      "text/plain": [
       "                                         Workshop Name  \\\n",
       "0                            Schnupperstunde Poledance   \n",
       "1                              Exotic Valentins Choreo   \n",
       "2                                             Stripped   \n",
       "3                                             Stripped   \n",
       "4                                               Spagat   \n",
       "..                                                 ...   \n",
       "272                       Lapdance Valentine's Special   \n",
       "273                       Lapdance Valentine's Special   \n",
       "274                       Lapdance Valentine's Special   \n",
       "275  Kopfstand mal ganz einfach: FeetUp Workshop mi...   \n",
       "276        Workshop mit @bou_boulette (Janine Hollung)   \n",
       "\n",
       "                                           Description  \\\n",
       "0    Trau dich und beginne jetzt! Damit du uns und ...   \n",
       "1    -Be my Exotic Valentine- Das ist das Motto für...   \n",
       "2    ohne Pole / alle LevelEgal, ob du deine:n Lieb...   \n",
       "3    ohne Pole / alle LevelEgal, ob du deine:n Lieb...   \n",
       "4    Straddle & Middlesplit stehen ganz oben auf De...   \n",
       "..                                                 ...   \n",
       "272  Woman only Valentins Special! It's getting hot...   \n",
       "273  Woman only Valentins Special! It's getting hot...   \n",
       "274  Woman only Valentins Special! It's getting hot...   \n",
       "275  Wer die Welt auf den Kopf stellt, dem liegt de...   \n",
       "276  Am Samstag den 02.03.2024 dürfen wir Janine al...   \n",
       "\n",
       "                      Studio Name  \\\n",
       "0               Pole for Soul GbR   \n",
       "1                   Pole Paradise   \n",
       "2    Vertical - Pole Aerial Dance   \n",
       "3    Vertical - Pole Aerial Dance   \n",
       "4                      Luftbonbon   \n",
       "..                            ...   \n",
       "272                  PoleCreation   \n",
       "273                  PoleCreation   \n",
       "274                  PoleCreation   \n",
       "275           Yoga Vidya Burgdorf   \n",
       "276                      POLEside   \n",
       "\n",
       "                                           Location                  Level  \\\n",
       "0                                     13:30 - 14:30              Poledance   \n",
       "1                             Ticket Abo Mitglieder                 Tanzen   \n",
       "2                                      Einzelticket              Poledance   \n",
       "3                                      Einzelticket              Poledance   \n",
       "4                                     20:20 - 21:20  Stärkung/Flexibilität   \n",
       "..                                              ...                    ...   \n",
       "272                                    Einzelticket                Fitness   \n",
       "273                                    Einzelticket                Fitness   \n",
       "274                                    Einzelticket                Fitness   \n",
       "275  Ticketpreis für Abo-Mitglieder von YV Burgdorf                   Yoga   \n",
       "276        Ticket für Sa. 02.03.2024, 16:00 - 17:30              Poledance   \n",
       "\n",
       "                                  Date  \\\n",
       "0                Sonntag, 3. März 2024   \n",
       "1            Samstag, 17. Februar 2024   \n",
       "2            Samstag, 10. Februar 2024   \n",
       "3            Samstag, 10. Februar 2024   \n",
       "4    Begann am Montag, 5. Februar 2024   \n",
       "..                                 ...   \n",
       "272          Samstag, 17. Februar 2024   \n",
       "273          Samstag, 17. Februar 2024   \n",
       "274          Samstag, 24. Februar 2024   \n",
       "275              Samstag, 2. März 2024   \n",
       "276   Beginnt am Samstag, 2. März 2024   \n",
       "\n",
       "                                              URL_E  \\\n",
       "0      https://www.eversports.de/e/workshop/rnbGVfh   \n",
       "1      https://www.eversports.de/e/workshop/NLk1782   \n",
       "2      https://www.eversports.de/e/workshop/mylmioi   \n",
       "3      https://www.eversports.de/e/workshop/Yace1e3   \n",
       "4      https://www.eversports.de/e/workshop/60kU5cU   \n",
       "..                                              ...   \n",
       "272    https://www.eversports.de/e/workshop/bmZxua4   \n",
       "273    https://www.eversports.de/e/workshop/qcRMhzd   \n",
       "274    https://www.eversports.de/e/workshop/Zj0NETg   \n",
       "275    https://www.eversports.de/e/workshop/0E9ASI_   \n",
       "276  https://www.eversports.de/e/workshop/llCPKoMLh   \n",
       "\n",
       "                                     Time  \n",
       "0                           13:30 - 14:30  \n",
       "1                           17:30 - 19:30  \n",
       "2                           17:00 - 18:30  \n",
       "3                           19:00 - 20:30  \n",
       "4    Königstraße 45, 32547 Bad Oeynhausen  \n",
       "..                                    ...  \n",
       "272                         17:00 - 18:30  \n",
       "273                         18:45 - 20:15  \n",
       "274                         15:30 - 17:00  \n",
       "275                         14:00 - 17:00  \n",
       "276        Weststraße 1, 74193 Schwaigern  \n",
       "\n",
       "[277 rows x 8 columns]"
      ]
     },
     "execution_count": 5,
     "metadata": {},
     "output_type": "execute_result"
    }
   ],
   "source": [
    "result_workshop_details"
   ]
  }
 ],
 "metadata": {
  "kernelspec": {
   "display_name": "Python 3",
   "language": "python",
   "name": "python3"
  },
  "language_info": {
   "codemirror_mode": {
    "name": "ipython",
    "version": 3
   },
   "file_extension": ".py",
   "mimetype": "text/x-python",
   "name": "python",
   "nbconvert_exporter": "python",
   "pygments_lexer": "ipython3",
   "version": "3.12.1"
  }
 },
 "nbformat": 4,
 "nbformat_minor": 2
}
