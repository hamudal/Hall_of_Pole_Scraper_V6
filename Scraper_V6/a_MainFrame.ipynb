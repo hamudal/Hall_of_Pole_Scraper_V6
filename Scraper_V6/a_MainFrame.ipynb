{
 "cells": [
  {
   "cell_type": "markdown",
   "metadata": {},
   "source": [
    "V6"
   ]
  },
  {
   "cell_type": "code",
   "execution_count": 4,
   "metadata": {},
   "outputs": [
    {
     "name": "stderr",
     "output_type": "stream",
     "text": [
      "Processing URLs:   0%|          | 0/337 [00:00<?, ?it/s]"
     ]
    },
    {
     "name": "stdout",
     "output_type": "stream",
     "text": [
      "Starting URL reconstruction...\n"
     ]
    },
    {
     "name": "stderr",
     "output_type": "stream",
     "text": [
      "Processing URLs:   0%|          | 1/337 [00:01<05:49,  1.04s/it, Current URL: https://www.eversports.de/s/fl'air-studios-berlin]"
     ]
    },
    {
     "name": "stdout",
     "output_type": "stream",
     "text": [
      "Error during HTTP request: 404 Client Error: Not Found for url: https://www.eversports.de/s/fl'air-studios-berlin\n",
      "Converting to DataFrame...\n",
      "Validating URLs...\n",
      "Processing completed.\n",
      "Starting URL reconstruction...\n"
     ]
    },
    {
     "name": "stderr",
     "output_type": "stream",
     "text": [
      "2024-02-03 16:26:53,771 - INFO - Processing URL 1/4: https://www.eversports.de/s/pole-faction-darmstadt\n"
     ]
    },
    {
     "name": "stdout",
     "output_type": "stream",
     "text": [
      "Converting to DataFrame...\n",
      "Validating URLs...\n"
     ]
    },
    {
     "name": "stderr",
     "output_type": "stream",
     "text": [
      "2024-02-03 16:26:55,114 - INFO - URL https://www.eversports.de/s/pole-faction-darmstadt is valid.\n",
      "2024-02-03 16:26:55,115 - INFO - Processing URL 2/4: https://www.eversports.de/sw/pole-faction-darmstadt\n",
      "2024-02-03 16:26:56,272 - INFO - URL https://www.eversports.de/sw/pole-faction-darmstadt is valid.\n",
      "2024-02-03 16:26:56,273 - INFO - Processing URL 3/4: https://www.eversports.de/sp/pole-faction-darmstadt\n",
      "2024-02-03 16:26:57,444 - INFO - URL https://www.eversports.de/sp/pole-faction-darmstadt is valid.\n",
      "2024-02-03 16:26:57,445 - INFO - Processing URL 4/4: https://www.eversports.de/s/pole-faction-darmstadt/team\n",
      "2024-02-03 16:26:58,659 - INFO - URL https://www.eversports.de/s/pole-faction-darmstadt/team is valid.\n"
     ]
    },
    {
     "name": "stdout",
     "output_type": "stream",
     "text": [
      "Scraping Pole Studio Data from https://www.eversports.de/s/pole-faction-darmstadt...\n",
      "Scraping Workshops Data from https://www.eversports.de/sw/pole-faction-darmstadt...\n",
      "Scraping Workshop Details from https://www.eversports.de/e/workshop/FP-cEyn...\n"
     ]
    },
    {
     "name": "stderr",
     "output_type": "stream",
     "text": [
      "Processing URLs:   1%|          | 2/337 [00:10<34:35,  6.20s/it, Current URL: https://www.eversports.de/s/pole-faction-darmstadt]"
     ]
    },
    {
     "name": "stdout",
     "output_type": "stream",
     "text": [
      "Processing completed.\n",
      "Pole Studio Data: 1 entries\n",
      "Workshops Data: 1 entries\n",
      "Workshop Details: 1 entries\n",
      "Starting URL reconstruction...\n"
     ]
    },
    {
     "name": "stderr",
     "output_type": "stream",
     "text": [
      "2024-02-03 16:27:03,678 - INFO - Processing URL 1/1: https://www.eversports.de/s/pole-dance-palazzo-sportivo\n"
     ]
    },
    {
     "name": "stdout",
     "output_type": "stream",
     "text": [
      "Converting to DataFrame...\n",
      "Validating URLs...\n"
     ]
    },
    {
     "name": "stderr",
     "output_type": "stream",
     "text": [
      "2024-02-03 16:27:04,906 - INFO - URL https://www.eversports.de/s/pole-dance-palazzo-sportivo is valid.\n"
     ]
    },
    {
     "name": "stdout",
     "output_type": "stream",
     "text": [
      "Scraping Pole Studio Data from https://www.eversports.de/s/pole-dance-palazzo-sportivo...\n"
     ]
    },
    {
     "name": "stderr",
     "output_type": "stream",
     "text": [
      "Processing URLs:   1%|          | 3/337 [00:14<27:34,  4.95s/it, Current URL: https://www.eversports.de/s/pole-dance-palazzo-sportivo]"
     ]
    },
    {
     "name": "stdout",
     "output_type": "stream",
     "text": [
      "Processing completed.\n",
      "Pole Studio Data: 1 entries\n",
      "Starting URL reconstruction...\n"
     ]
    },
    {
     "name": "stderr",
     "output_type": "stream",
     "text": [
      "Processing URLs:   1%|          | 4/337 [00:17<24:28,  4.41s/it, Current URL: https://www.eversports.de/s/polemotions-tübingen]       "
     ]
    },
    {
     "name": "stdout",
     "output_type": "stream",
     "text": [
      "Error during HTTP request: Exceeded 30 redirects.\n",
      "Converting to DataFrame...\n",
      "Validating URLs...\n",
      "Processing completed.\n",
      "Starting URL reconstruction...\n"
     ]
    },
    {
     "name": "stderr",
     "output_type": "stream",
     "text": [
      "2024-02-03 16:27:10,150 - INFO - Processing URL 1/3: https://www.eversports.de/s/pole-statement\n"
     ]
    },
    {
     "name": "stdout",
     "output_type": "stream",
     "text": [
      "Error reconstructing URL for 'Kurse': Unrecognized text: 'Kurse'\n",
      "Error reconstructing URL for 'Events': Unrecognized text: 'Events'\n",
      "Converting to DataFrame...\n",
      "Validating URLs...\n"
     ]
    },
    {
     "name": "stderr",
     "output_type": "stream",
     "text": [
      "2024-02-03 16:27:12,275 - INFO - URL https://www.eversports.de/s/pole-statement is valid.\n",
      "2024-02-03 16:27:12,276 - INFO - Processing URL 2/3: https://www.eversports.de/sp/pole-statement\n",
      "2024-02-03 16:27:13,778 - INFO - URL https://www.eversports.de/sp/pole-statement is valid.\n",
      "2024-02-03 16:27:13,779 - INFO - Processing URL 3/3: https://www.eversports.de/s/pole-statement/team\n",
      "2024-02-03 16:27:14,946 - INFO - URL https://www.eversports.de/s/pole-statement/team is valid.\n"
     ]
    },
    {
     "name": "stdout",
     "output_type": "stream",
     "text": [
      "Scraping Pole Studio Data from https://www.eversports.de/s/pole-statement...\n"
     ]
    },
    {
     "name": "stderr",
     "output_type": "stream",
     "text": [
      "Processing URLs:   1%|▏         | 5/337 [00:24<28:32,  5.16s/it, Current URL: https://www.eversports.de/s/pole-statement]      "
     ]
    },
    {
     "name": "stdout",
     "output_type": "stream",
     "text": [
      "Processing completed.\n",
      "Pole Studio Data: 1 entries\n",
      "Starting URL reconstruction...\n"
     ]
    },
    {
     "name": "stderr",
     "output_type": "stream",
     "text": [
      "Processing URLs:   2%|▏         | 6/337 [00:25<20:49,  3.78s/it, Current URL: https://www.eversports.de/s/metropole-dance-now2]"
     ]
    },
    {
     "name": "stdout",
     "output_type": "stream",
     "text": [
      "Error during HTTP request: 404 Client Error: Not Found for url: https://www.eversports.de/s/metropole-dance-now2\n",
      "Converting to DataFrame...\n",
      "Validating URLs...\n",
      "Processing completed.\n",
      "Starting URL reconstruction...\n"
     ]
    },
    {
     "name": "stderr",
     "output_type": "stream",
     "text": [
      "2024-02-03 16:27:17,602 - INFO - Processing URL 1/1: https://www.eversports.de/s/artletik-ug-laufen-und-meer\n"
     ]
    },
    {
     "name": "stdout",
     "output_type": "stream",
     "text": [
      "Converting to DataFrame...\n",
      "Validating URLs...\n"
     ]
    },
    {
     "name": "stderr",
     "output_type": "stream",
     "text": [
      "2024-02-03 16:27:18,811 - INFO - URL https://www.eversports.de/s/artletik-ug-laufen-und-meer is valid.\n"
     ]
    },
    {
     "name": "stdout",
     "output_type": "stream",
     "text": [
      "Scraping Pole Studio Data from https://www.eversports.de/s/artletik-ug-laufen-und-meer...\n"
     ]
    },
    {
     "name": "stderr",
     "output_type": "stream",
     "text": [
      "Processing URLs:   2%|▏         | 7/337 [00:28<18:44,  3.41s/it, Current URL: https://www.eversports.de/s/artletik-ug-laufen-und-meer]"
     ]
    },
    {
     "name": "stdout",
     "output_type": "stream",
     "text": [
      "Processing completed.\n",
      "Pole Studio Data: 1 entries\n",
      "Starting URL reconstruction...\n"
     ]
    },
    {
     "name": "stderr",
     "output_type": "stream",
     "text": [
      "Processing URLs:   2%|▏         | 8/337 [00:29<14:29,  2.64s/it, Current URL: https://www.eversports.de/s/dance-&-pole-deltawerk]     "
     ]
    },
    {
     "name": "stdout",
     "output_type": "stream",
     "text": [
      "Error during HTTP request: 404 Client Error: Not Found for url: https://www.eversports.de/s/dance-&-pole-deltawerk\n",
      "Converting to DataFrame...\n",
      "Validating URLs...\n",
      "Processing completed.\n",
      "Starting URL reconstruction...\n"
     ]
    },
    {
     "name": "stderr",
     "output_type": "stream",
     "text": [
      "Processing URLs:   3%|▎         | 9/337 [00:32<15:53,  2.91s/it, Current URL: https://www.eversports.de/s/schönheitstanz-studio] "
     ]
    },
    {
     "name": "stdout",
     "output_type": "stream",
     "text": [
      "Error during HTTP request: Exceeded 30 redirects.\n",
      "Converting to DataFrame...\n",
      "Validating URLs...\n",
      "Processing completed.\n",
      "Starting URL reconstruction...\n"
     ]
    },
    {
     "name": "stderr",
     "output_type": "stream",
     "text": [
      "2024-02-03 16:27:24,783 - INFO - Processing URL 1/4: https://www.eversports.de/s/lespole\n"
     ]
    },
    {
     "name": "stdout",
     "output_type": "stream",
     "text": [
      "Converting to DataFrame...\n",
      "Validating URLs...\n"
     ]
    },
    {
     "name": "stderr",
     "output_type": "stream",
     "text": [
      "2024-02-03 16:27:26,007 - INFO - URL https://www.eversports.de/s/lespole is valid.\n",
      "2024-02-03 16:27:26,009 - INFO - Processing URL 2/4: https://www.eversports.de/sw/lespole\n",
      "2024-02-03 16:27:27,208 - INFO - URL https://www.eversports.de/sw/lespole is valid.\n",
      "2024-02-03 16:27:27,209 - INFO - Processing URL 3/4: https://www.eversports.de/sp/lespole\n",
      "2024-02-03 16:27:28,443 - INFO - URL https://www.eversports.de/sp/lespole is valid.\n",
      "2024-02-03 16:27:28,444 - INFO - Processing URL 4/4: https://www.eversports.de/s/lespole/team\n",
      "2024-02-03 16:27:29,547 - INFO - URL https://www.eversports.de/s/lespole/team is valid.\n"
     ]
    },
    {
     "name": "stdout",
     "output_type": "stream",
     "text": [
      "Scraping Pole Studio Data from https://www.eversports.de/s/lespole...\n",
      "Scraping Workshops Data from https://www.eversports.de/sw/lespole...\n",
      "Scraping Workshop Details from https://www.eversports.de/e/workshop/ph8TlfO...\n",
      "Scraping Workshop Details from https://www.eversports.de/e/workshop/4lKTG4R...\n",
      "Scraping Workshop Details from https://www.eversports.de/e/workshop/lByHwWr...\n",
      "Scraping Workshop Details from https://www.eversports.de/e/workshop/VC_twiJ...\n",
      "Scraping Workshop Details from https://www.eversports.de/e/workshop/L-VuR9j...\n"
     ]
    },
    {
     "name": "stderr",
     "output_type": "stream",
     "text": [
      "Processing URLs:   3%|▎         | 10/337 [00:47<35:19,  6.48s/it, Current URL: https://www.eversports.de/s/lespole]              "
     ]
    },
    {
     "name": "stdout",
     "output_type": "stream",
     "text": [
      "Processing completed.\n",
      "Pole Studio Data: 1 entries\n",
      "Workshops Data: 5 entries\n",
      "Workshop Details: 5 entries\n",
      "Starting URL reconstruction...\n"
     ]
    },
    {
     "name": "stderr",
     "output_type": "stream",
     "text": [
      "2024-02-03 16:27:40,809 - INFO - Processing URL 1/2: https://www.eversports.de/s/dunya-pole-dance-school\n"
     ]
    },
    {
     "name": "stdout",
     "output_type": "stream",
     "text": [
      "Converting to DataFrame...\n",
      "Validating URLs...\n"
     ]
    },
    {
     "name": "stderr",
     "output_type": "stream",
     "text": [
      "2024-02-03 16:27:42,187 - INFO - URL https://www.eversports.de/s/dunya-pole-dance-school is valid.\n",
      "2024-02-03 16:27:42,188 - INFO - Processing URL 2/2: https://www.eversports.de/s/dunya-pole-dance-school/team\n",
      "2024-02-03 16:27:43,881 - INFO - URL https://www.eversports.de/s/dunya-pole-dance-school/team is valid.\n"
     ]
    },
    {
     "name": "stdout",
     "output_type": "stream",
     "text": [
      "Scraping Pole Studio Data from https://www.eversports.de/s/dunya-pole-dance-school...\n"
     ]
    },
    {
     "name": "stderr",
     "output_type": "stream",
     "text": [
      "Processing URLs:   3%|▎         | 11/337 [00:54<35:56,  6.61s/it, Current URL: https://www.eversports.de/s/dunya-pole-dance-school]"
     ]
    },
    {
     "name": "stdout",
     "output_type": "stream",
     "text": [
      "Processing completed.\n",
      "Pole Studio Data: 1 entries\n",
      "Starting URL reconstruction...\n"
     ]
    },
    {
     "name": "stderr",
     "output_type": "stream",
     "text": [
      "Processing URLs:   4%|▎         | 12/337 [00:55<26:34,  4.91s/it, Current URL: https://www.eversports.de/s/yh-pole-(and)-sports-berlin]"
     ]
    },
    {
     "name": "stdout",
     "output_type": "stream",
     "text": [
      "Error during HTTP request: 404 Client Error: Not Found for url: https://www.eversports.de/s/yh-pole-(and)-sports-berlin\n",
      "Converting to DataFrame...\n",
      "Validating URLs...\n",
      "Processing completed.\n",
      "Starting URL reconstruction...\n"
     ]
    },
    {
     "name": "stderr",
     "output_type": "stream",
     "text": [
      "2024-02-03 16:27:47,050 - INFO - Processing URL 1/1: https://www.eversports.de/s/kaifu-lodge\n"
     ]
    },
    {
     "name": "stdout",
     "output_type": "stream",
     "text": [
      "Converting to DataFrame...\n",
      "Validating URLs...\n"
     ]
    },
    {
     "name": "stderr",
     "output_type": "stream",
     "text": [
      "2024-02-03 16:27:48,166 - INFO - URL https://www.eversports.de/s/kaifu-lodge is valid.\n"
     ]
    },
    {
     "name": "stdout",
     "output_type": "stream",
     "text": [
      "Scraping Pole Studio Data from https://www.eversports.de/s/kaifu-lodge...\n"
     ]
    },
    {
     "name": "stderr",
     "output_type": "stream",
     "text": [
      "Processing URLs:   4%|▍         | 13/337 [00:57<22:31,  4.17s/it, Current URL: https://www.eversports.de/s/kaifu-lodge]                "
     ]
    },
    {
     "name": "stdout",
     "output_type": "stream",
     "text": [
      "Processing completed.\n",
      "Pole Studio Data: 1 entries\n",
      "Starting URL reconstruction...\n"
     ]
    },
    {
     "name": "stderr",
     "output_type": "stream",
     "text": [
      "2024-02-03 16:27:49,783 - INFO - Processing URL 1/1: https://www.eversports.de/s/x-step-berlin\n"
     ]
    },
    {
     "name": "stdout",
     "output_type": "stream",
     "text": [
      "Converting to DataFrame...\n",
      "Validating URLs...\n"
     ]
    },
    {
     "name": "stderr",
     "output_type": "stream",
     "text": [
      "2024-02-03 16:27:51,063 - INFO - URL https://www.eversports.de/s/x-step-berlin is valid.\n"
     ]
    },
    {
     "name": "stdout",
     "output_type": "stream",
     "text": [
      "Scraping Pole Studio Data from https://www.eversports.de/s/x-step-berlin...\n"
     ]
    },
    {
     "name": "stderr",
     "output_type": "stream",
     "text": [
      "Processing URLs:   4%|▍         | 14/337 [01:00<20:30,  3.81s/it, Current URL: https://www.eversports.de/s/x-step-berlin]"
     ]
    },
    {
     "name": "stdout",
     "output_type": "stream",
     "text": [
      "Processing completed.\n",
      "Pole Studio Data: 1 entries\n",
      "Starting URL reconstruction...\n"
     ]
    },
    {
     "name": "stderr",
     "output_type": "stream",
     "text": [
      "2024-02-03 16:27:53,087 - INFO - Processing URL 1/4: https://www.eversports.de/s/aerialflow\n"
     ]
    },
    {
     "name": "stdout",
     "output_type": "stream",
     "text": [
      "Error reconstructing URL for 'Trainings': Unrecognized text: 'Trainings'\n",
      "Error reconstructing URL for 'Kurse': Unrecognized text: 'Kurse'\n",
      "Converting to DataFrame...\n",
      "Validating URLs...\n"
     ]
    },
    {
     "name": "stderr",
     "output_type": "stream",
     "text": [
      "2024-02-03 16:27:54,562 - INFO - URL https://www.eversports.de/s/aerialflow is valid.\n",
      "2024-02-03 16:27:54,563 - INFO - Processing URL 2/4: https://www.eversports.de/sw/aerialflow\n",
      "2024-02-03 16:27:55,673 - INFO - URL https://www.eversports.de/sw/aerialflow is valid.\n",
      "2024-02-03 16:27:55,674 - INFO - Processing URL 3/4: https://www.eversports.de/sp/aerialflow\n",
      "2024-02-03 16:27:56,899 - INFO - URL https://www.eversports.de/sp/aerialflow is valid.\n",
      "2024-02-03 16:27:56,900 - INFO - Processing URL 4/4: https://www.eversports.de/s/aerialflow/team\n",
      "2024-02-03 16:27:58,227 - INFO - URL https://www.eversports.de/s/aerialflow/team is valid.\n"
     ]
    },
    {
     "name": "stdout",
     "output_type": "stream",
     "text": [
      "Scraping Pole Studio Data from https://www.eversports.de/s/aerialflow...\n",
      "Scraping Workshops Data from https://www.eversports.de/sw/aerialflow...\n",
      "Scraping Workshop Details from https://www.eversports.de/e/workshop/OQN28ZD...\n"
     ]
    },
    {
     "name": "stderr",
     "output_type": "stream",
     "text": [
      "Processing URLs:   4%|▍         | 15/337 [01:12<33:45,  6.29s/it, Current URL: https://www.eversports.de/s/aerialflow]   "
     ]
    },
    {
     "name": "stdout",
     "output_type": "stream",
     "text": [
      "Processing completed.\n",
      "Pole Studio Data: 1 entries\n",
      "Workshops Data: 1 entries\n",
      "Workshop Details: 1 entries\n",
      "Starting URL reconstruction...\n"
     ]
    },
    {
     "name": "stderr",
     "output_type": "stream",
     "text": [
      "2024-02-03 16:28:04,753 - INFO - Processing URL 1/3: https://www.eversports.de/s/feel-good-factory-pole-stretch-fly\n"
     ]
    },
    {
     "name": "stdout",
     "output_type": "stream",
     "text": [
      "Error reconstructing URL for 'Kurse': Unrecognized text: 'Kurse'\n",
      "Error reconstructing URL for 'Events': Unrecognized text: 'Events'\n",
      "Converting to DataFrame...\n",
      "Validating URLs...\n"
     ]
    },
    {
     "name": "stderr",
     "output_type": "stream",
     "text": [
      "2024-02-03 16:28:05,994 - INFO - URL https://www.eversports.de/s/feel-good-factory-pole-stretch-fly is valid.\n",
      "2024-02-03 16:28:05,995 - INFO - Processing URL 2/3: https://www.eversports.de/sp/feel-good-factory-pole-stretch-fly\n",
      "2024-02-03 16:28:07,594 - INFO - URL https://www.eversports.de/sp/feel-good-factory-pole-stretch-fly is valid.\n",
      "2024-02-03 16:28:07,595 - INFO - Processing URL 3/3: https://www.eversports.de/s/feel-good-factory-pole-stretch-fly/team\n",
      "2024-02-03 16:28:08,749 - INFO - URL https://www.eversports.de/s/feel-good-factory-pole-stretch-fly/team is valid.\n"
     ]
    },
    {
     "name": "stdout",
     "output_type": "stream",
     "text": [
      "Scraping Pole Studio Data from https://www.eversports.de/s/feel-good-factory-pole-stretch-fly...\n"
     ]
    },
    {
     "name": "stderr",
     "output_type": "stream",
     "text": [
      "Processing URLs:   5%|▍         | 16/337 [01:18<32:45,  6.12s/it, Current URL: https://www.eversports.de/s/feel-good-factory-pole-stretch-fly]"
     ]
    },
    {
     "name": "stdout",
     "output_type": "stream",
     "text": [
      "Processing completed.\n",
      "Pole Studio Data: 1 entries\n",
      "Starting URL reconstruction...\n"
     ]
    },
    {
     "name": "stderr",
     "output_type": "stream",
     "text": [
      "Processing URLs:   5%|▌         | 17/337 [01:19<24:40,  4.63s/it, Current URL: https://www.eversports.de/s/drehimpuls-aachen]                 "
     ]
    },
    {
     "name": "stdout",
     "output_type": "stream",
     "text": [
      "Error during HTTP request: 404 Client Error: Not Found for url: https://www.eversports.de/s/drehimpuls-aachen\n",
      "Converting to DataFrame...\n",
      "Validating URLs...\n",
      "Processing completed.\n",
      "Starting URL reconstruction...\n"
     ]
    },
    {
     "name": "stderr",
     "output_type": "stream",
     "text": [
      "2024-02-03 16:28:11,586 - INFO - Processing URL 1/3: https://www.eversports.de/s/polefly-academy\n"
     ]
    },
    {
     "name": "stdout",
     "output_type": "stream",
     "text": [
      "Converting to DataFrame...\n",
      "Validating URLs...\n"
     ]
    },
    {
     "name": "stderr",
     "output_type": "stream",
     "text": [
      "2024-02-03 16:28:12,777 - INFO - URL https://www.eversports.de/s/polefly-academy is valid.\n",
      "2024-02-03 16:28:12,778 - INFO - Processing URL 2/3: https://www.eversports.de/sp/polefly-academy\n",
      "2024-02-03 16:28:13,925 - INFO - URL https://www.eversports.de/sp/polefly-academy is valid.\n",
      "2024-02-03 16:28:13,926 - INFO - Processing URL 3/3: https://www.eversports.de/s/polefly-academy/team\n",
      "2024-02-03 16:28:15,101 - INFO - URL https://www.eversports.de/s/polefly-academy/team is valid.\n"
     ]
    },
    {
     "name": "stdout",
     "output_type": "stream",
     "text": [
      "Scraping Pole Studio Data from https://www.eversports.de/s/polefly-academy...\n"
     ]
    },
    {
     "name": "stderr",
     "output_type": "stream",
     "text": [
      "Processing URLs:   5%|▌         | 18/337 [01:24<25:26,  4.79s/it, Current URL: https://www.eversports.de/s/polefly-academy]  "
     ]
    },
    {
     "name": "stdout",
     "output_type": "stream",
     "text": [
      "Processing completed.\n",
      "Pole Studio Data: 1 entries\n",
      "Starting URL reconstruction...\n"
     ]
    },
    {
     "name": "stderr",
     "output_type": "stream",
     "text": [
      "Processing URLs:   6%|▌         | 19/337 [01:29<25:44,  4.86s/it, Current URL: https://www.eversports.de/s/körperformfabrik-gbr]"
     ]
    },
    {
     "name": "stdout",
     "output_type": "stream",
     "text": [
      "Error during HTTP request: Exceeded 30 redirects.\n",
      "Converting to DataFrame...\n",
      "Validating URLs...\n",
      "Processing completed.\n",
      "Starting URL reconstruction...\n"
     ]
    },
    {
     "name": "stderr",
     "output_type": "stream",
     "text": [
      "2024-02-03 16:28:21,798 - INFO - Processing URL 1/3: https://www.eversports.de/s/polefamily-koblenz\n"
     ]
    },
    {
     "name": "stdout",
     "output_type": "stream",
     "text": [
      "Converting to DataFrame...\n",
      "Validating URLs...\n"
     ]
    },
    {
     "name": "stderr",
     "output_type": "stream",
     "text": [
      "2024-02-03 16:28:23,197 - INFO - URL https://www.eversports.de/s/polefamily-koblenz is valid.\n",
      "2024-02-03 16:28:23,199 - INFO - Processing URL 2/3: https://www.eversports.de/sp/polefamily-koblenz\n",
      "2024-02-03 16:28:24,258 - INFO - URL https://www.eversports.de/sp/polefamily-koblenz is valid.\n",
      "2024-02-03 16:28:24,258 - INFO - Processing URL 3/3: https://www.eversports.de/s/polefamily-koblenz/team\n",
      "2024-02-03 16:28:25,354 - INFO - URL https://www.eversports.de/s/polefamily-koblenz/team is valid.\n"
     ]
    },
    {
     "name": "stdout",
     "output_type": "stream",
     "text": [
      "Scraping Pole Studio Data from https://www.eversports.de/s/polefamily-koblenz...\n"
     ]
    },
    {
     "name": "stderr",
     "output_type": "stream",
     "text": [
      "Processing URLs:   6%|▌         | 20/337 [01:34<26:13,  4.96s/it, Current URL: https://www.eversports.de/s/polefamily-koblenz]  "
     ]
    },
    {
     "name": "stdout",
     "output_type": "stream",
     "text": [
      "Processing completed.\n",
      "Pole Studio Data: 1 entries\n",
      "Starting URL reconstruction...\n"
     ]
    },
    {
     "name": "stderr",
     "output_type": "stream",
     "text": [
      "2024-02-03 16:28:26,928 - INFO - Processing URL 1/3: https://www.eversports.de/s/dance-and-pole-langenfeld\n"
     ]
    },
    {
     "name": "stdout",
     "output_type": "stream",
     "text": [
      "Converting to DataFrame...\n",
      "Validating URLs...\n"
     ]
    },
    {
     "name": "stderr",
     "output_type": "stream",
     "text": [
      "2024-02-03 16:28:28,157 - INFO - URL https://www.eversports.de/s/dance-and-pole-langenfeld is valid.\n",
      "2024-02-03 16:28:28,158 - INFO - Processing URL 2/3: https://www.eversports.de/sp/dance-and-pole-langenfeld\n",
      "2024-02-03 16:28:29,172 - INFO - URL https://www.eversports.de/sp/dance-and-pole-langenfeld is valid.\n",
      "2024-02-03 16:28:29,173 - INFO - Processing URL 3/3: https://www.eversports.de/s/dance-and-pole-langenfeld/team\n",
      "2024-02-03 16:28:30,286 - INFO - URL https://www.eversports.de/s/dance-and-pole-langenfeld/team is valid.\n"
     ]
    },
    {
     "name": "stdout",
     "output_type": "stream",
     "text": [
      "Scraping Pole Studio Data from https://www.eversports.de/s/dance-and-pole-langenfeld...\n"
     ]
    },
    {
     "name": "stderr",
     "output_type": "stream",
     "text": [
      "Processing URLs:   6%|▌         | 21/337 [01:39<26:18,  5.00s/it, Current URL: https://www.eversports.de/s/dance-and-pole-langenfeld]"
     ]
    },
    {
     "name": "stdout",
     "output_type": "stream",
     "text": [
      "Processing completed.\n",
      "Pole Studio Data: 1 entries\n",
      "Starting URL reconstruction...\n"
     ]
    },
    {
     "name": "stderr",
     "output_type": "stream",
     "text": [
      "2024-02-03 16:28:32,051 - INFO - Processing URL 1/3: https://www.eversports.de/s/tanzteufel\n"
     ]
    },
    {
     "name": "stdout",
     "output_type": "stream",
     "text": [
      "Converting to DataFrame...\n",
      "Validating URLs...\n"
     ]
    },
    {
     "name": "stderr",
     "output_type": "stream",
     "text": [
      "2024-02-03 16:28:33,300 - INFO - URL https://www.eversports.de/s/tanzteufel is valid.\n",
      "2024-02-03 16:28:33,300 - INFO - Processing URL 2/3: https://www.eversports.de/sp/tanzteufel\n",
      "2024-02-03 16:28:34,400 - INFO - URL https://www.eversports.de/sp/tanzteufel is valid.\n",
      "2024-02-03 16:28:34,401 - INFO - Processing URL 3/3: https://www.eversports.de/s/tanzteufel/team\n",
      "2024-02-03 16:28:35,649 - INFO - URL https://www.eversports.de/s/tanzteufel/team is valid.\n"
     ]
    },
    {
     "name": "stdout",
     "output_type": "stream",
     "text": [
      "Scraping Pole Studio Data from https://www.eversports.de/s/tanzteufel...\n"
     ]
    },
    {
     "name": "stderr",
     "output_type": "stream",
     "text": [
      "Processing URLs:   7%|▋         | 22/337 [01:45<26:38,  5.08s/it, Current URL: https://www.eversports.de/s/tanzteufel]               "
     ]
    },
    {
     "name": "stdout",
     "output_type": "stream",
     "text": [
      "Processing completed.\n",
      "Pole Studio Data: 1 entries\n",
      "Starting URL reconstruction...\n"
     ]
    },
    {
     "name": "stderr",
     "output_type": "stream",
     "text": [
      "Processing URLs:   7%|▋         | 23/337 [01:49<25:43,  4.92s/it, Current URL: https://www.eversports.de/s/t-tanzstück-braunschweig]"
     ]
    },
    {
     "name": "stdout",
     "output_type": "stream",
     "text": [
      "Error during HTTP request: Exceeded 30 redirects.\n",
      "Converting to DataFrame...\n",
      "Validating URLs...\n",
      "Processing completed.\n",
      "Starting URL reconstruction...\n"
     ]
    },
    {
     "name": "stderr",
     "output_type": "stream",
     "text": [
      "Processing URLs:   7%|▋         | 24/337 [01:51<20:14,  3.88s/it, Current URL: https://www.eversports.de/s/pole2dance-vertical-fitness-and-dance-company]"
     ]
    },
    {
     "name": "stdout",
     "output_type": "stream",
     "text": [
      "Error during HTTP request: 404 Client Error: Not Found for url: https://www.eversports.de/s/pole2dance-vertical-fitness-and-dance-company\n",
      "Converting to DataFrame...\n",
      "Validating URLs...\n",
      "Processing completed.\n",
      "Starting URL reconstruction...\n"
     ]
    },
    {
     "name": "stderr",
     "output_type": "stream",
     "text": [
      "2024-02-03 16:28:43,296 - INFO - Processing URL 1/4: https://www.eversports.de/s/luftbonbon\n"
     ]
    },
    {
     "name": "stdout",
     "output_type": "stream",
     "text": [
      "Converting to DataFrame...\n",
      "Validating URLs...\n"
     ]
    },
    {
     "name": "stderr",
     "output_type": "stream",
     "text": [
      "2024-02-03 16:28:44,664 - INFO - URL https://www.eversports.de/s/luftbonbon is valid.\n",
      "2024-02-03 16:28:44,664 - INFO - Processing URL 2/4: https://www.eversports.de/sw/luftbonbon\n",
      "2024-02-03 16:28:45,735 - INFO - URL https://www.eversports.de/sw/luftbonbon is valid.\n",
      "2024-02-03 16:28:45,736 - INFO - Processing URL 3/4: https://www.eversports.de/sp/luftbonbon\n",
      "2024-02-03 16:28:46,864 - INFO - URL https://www.eversports.de/sp/luftbonbon is valid.\n",
      "2024-02-03 16:28:46,865 - INFO - Processing URL 4/4: https://www.eversports.de/s/luftbonbon/team\n",
      "2024-02-03 16:28:48,108 - INFO - URL https://www.eversports.de/s/luftbonbon/team is valid.\n"
     ]
    },
    {
     "name": "stdout",
     "output_type": "stream",
     "text": [
      "Scraping Pole Studio Data from https://www.eversports.de/s/luftbonbon...\n",
      "Scraping Workshops Data from https://www.eversports.de/sw/luftbonbon...\n",
      "Scraping Workshop Details from https://www.eversports.de/e/workshop/60kU5cU...\n"
     ]
    },
    {
     "name": "stderr",
     "output_type": "stream",
     "text": [
      "Processing URLs:   7%|▋         | 25/337 [02:02<31:26,  6.05s/it, Current URL: https://www.eversports.de/s/luftbonbon]                                   "
     ]
    },
    {
     "name": "stdout",
     "output_type": "stream",
     "text": [
      "Processing completed.\n",
      "Pole Studio Data: 1 entries\n",
      "Workshops Data: 1 entries\n",
      "Workshop Details: 1 entries\n",
      "Starting URL reconstruction...\n"
     ]
    },
    {
     "name": "stderr",
     "output_type": "stream",
     "text": [
      "2024-02-03 16:28:54,448 - INFO - Processing URL 1/3: https://www.eversports.de/s/passionate-pole-and-sports\n"
     ]
    },
    {
     "name": "stdout",
     "output_type": "stream",
     "text": [
      "Converting to DataFrame...\n",
      "Validating URLs...\n"
     ]
    },
    {
     "name": "stderr",
     "output_type": "stream",
     "text": [
      "2024-02-03 16:28:55,789 - INFO - URL https://www.eversports.de/s/passionate-pole-and-sports is valid.\n",
      "2024-02-03 16:28:55,790 - INFO - Processing URL 2/3: https://www.eversports.de/sp/passionate-pole-and-sports\n",
      "2024-02-03 16:28:57,019 - INFO - URL https://www.eversports.de/sp/passionate-pole-and-sports is valid.\n",
      "2024-02-03 16:28:57,020 - INFO - Processing URL 3/3: https://www.eversports.de/s/passionate-pole-and-sports/team\n",
      "2024-02-03 16:28:58,332 - INFO - URL https://www.eversports.de/s/passionate-pole-and-sports/team is valid.\n"
     ]
    },
    {
     "name": "stdout",
     "output_type": "stream",
     "text": [
      "Scraping Pole Studio Data from https://www.eversports.de/s/passionate-pole-and-sports...\n"
     ]
    },
    {
     "name": "stderr",
     "output_type": "stream",
     "text": [
      "Processing URLs:   8%|▊         | 26/337 [02:07<30:37,  5.91s/it, Current URL: https://www.eversports.de/s/passionate-pole-and-sports]"
     ]
    },
    {
     "name": "stdout",
     "output_type": "stream",
     "text": [
      "Processing completed.\n",
      "Pole Studio Data: 1 entries\n",
      "Starting URL reconstruction...\n"
     ]
    },
    {
     "name": "stderr",
     "output_type": "stream",
     "text": [
      "Processing URLs:   8%|▊         | 27/337 [02:09<23:13,  4.50s/it, Current URL: https://www.eversports.de/s/pole.physio-eppelheim]     "
     ]
    },
    {
     "name": "stdout",
     "output_type": "stream",
     "text": [
      "Error during HTTP request: 404 Client Error: Not Found for url: https://www.eversports.de/s/pole.physio-eppelheim\n",
      "Converting to DataFrame...\n",
      "Validating URLs...\n",
      "Processing completed.\n",
      "Starting URL reconstruction...\n"
     ]
    },
    {
     "name": "stderr",
     "output_type": "stream",
     "text": [
      "2024-02-03 16:29:02,349 - INFO - Processing URL 1/4: https://www.eversports.de/s/dance-and-pole-leverkusen\n"
     ]
    },
    {
     "name": "stdout",
     "output_type": "stream",
     "text": [
      "Converting to DataFrame...\n",
      "Validating URLs...\n"
     ]
    },
    {
     "name": "stderr",
     "output_type": "stream",
     "text": [
      "2024-02-03 16:29:03,653 - INFO - URL https://www.eversports.de/s/dance-and-pole-leverkusen is valid.\n",
      "2024-02-03 16:29:03,654 - INFO - Processing URL 2/4: https://www.eversports.de/sw/dance-and-pole-leverkusen\n",
      "2024-02-03 16:29:04,808 - INFO - URL https://www.eversports.de/sw/dance-and-pole-leverkusen is valid.\n",
      "2024-02-03 16:29:04,809 - INFO - Processing URL 3/4: https://www.eversports.de/sp/dance-and-pole-leverkusen\n",
      "2024-02-03 16:29:05,926 - INFO - URL https://www.eversports.de/sp/dance-and-pole-leverkusen is valid.\n",
      "2024-02-03 16:29:05,927 - INFO - Processing URL 4/4: https://www.eversports.de/s/dance-and-pole-leverkusen/team\n",
      "2024-02-03 16:29:07,072 - INFO - URL https://www.eversports.de/s/dance-and-pole-leverkusen/team is valid.\n"
     ]
    },
    {
     "name": "stdout",
     "output_type": "stream",
     "text": [
      "Scraping Pole Studio Data from https://www.eversports.de/s/dance-and-pole-leverkusen...\n",
      "Scraping Workshops Data from https://www.eversports.de/sw/dance-and-pole-leverkusen...\n",
      "Scraping Workshop Details from https://www.eversports.de/e/workshop/II-gWEL...\n"
     ]
    },
    {
     "name": "stderr",
     "output_type": "stream",
     "text": [
      "Processing URLs:   8%|▊         | 28/337 [02:20<34:18,  6.66s/it, Current URL: https://www.eversports.de/s/dance-and-pole-leverkusen]"
     ]
    },
    {
     "name": "stdout",
     "output_type": "stream",
     "text": [
      "Processing completed.\n",
      "Pole Studio Data: 1 entries\n",
      "Workshops Data: 1 entries\n",
      "Workshop Details: 1 entries\n",
      "Starting URL reconstruction...\n"
     ]
    },
    {
     "name": "stderr",
     "output_type": "stream",
     "text": [
      "Processing URLs:   9%|▊         | 29/337 [02:22<26:22,  5.14s/it, Current URL: https://www.eversports.de/s/studio-aria-arte]         "
     ]
    },
    {
     "name": "stdout",
     "output_type": "stream",
     "text": [
      "Error during HTTP request: 404 Client Error: Not Found for url: https://www.eversports.de/s/studio-aria-arte\n",
      "Converting to DataFrame...\n",
      "Validating URLs...\n",
      "Processing completed.\n",
      "Starting URL reconstruction...\n"
     ]
    },
    {
     "name": "stderr",
     "output_type": "stream",
     "text": [
      "2024-02-03 16:29:15,079 - INFO - Processing URL 1/4: https://www.eversports.de/s/polearize\n"
     ]
    },
    {
     "name": "stdout",
     "output_type": "stream",
     "text": [
      "Converting to DataFrame...\n",
      "Validating URLs...\n"
     ]
    },
    {
     "name": "stderr",
     "output_type": "stream",
     "text": [
      "2024-02-03 16:29:17,769 - INFO - URL https://www.eversports.de/s/polearize is valid.\n",
      "2024-02-03 16:29:17,770 - INFO - Processing URL 2/4: https://www.eversports.de/sw/polearize\n",
      "2024-02-03 16:29:19,980 - INFO - URL https://www.eversports.de/sw/polearize is valid.\n",
      "2024-02-03 16:29:19,981 - INFO - Processing URL 3/4: https://www.eversports.de/sp/polearize\n",
      "2024-02-03 16:29:21,636 - INFO - URL https://www.eversports.de/sp/polearize is valid.\n",
      "2024-02-03 16:29:21,637 - INFO - Processing URL 4/4: https://www.eversports.de/s/polearize/team\n",
      "2024-02-03 16:29:23,146 - INFO - URL https://www.eversports.de/s/polearize/team is valid.\n"
     ]
    },
    {
     "name": "stdout",
     "output_type": "stream",
     "text": [
      "Scraping Pole Studio Data from https://www.eversports.de/s/polearize...\n",
      "Scraping Workshops Data from https://www.eversports.de/sw/polearize...\n",
      "Scraping Workshop Details from https://www.eversports.de/e/workshop/5N9aoto...\n",
      "Scraping Workshop Details from https://www.eversports.de/e/workshop/7QwFsx3...\n",
      "Scraping Workshop Details from https://www.eversports.de/e/workshop/516yIHG...\n",
      "Scraping Workshop Details from https://www.eversports.de/e/workshop/vmkQFeK...\n",
      "Scraping Workshop Details from https://www.eversports.de/e/workshop/4gGolhi...\n"
     ]
    },
    {
     "name": "stderr",
     "output_type": "stream",
     "text": [
      "Processing URLs:   9%|▉         | 30/337 [02:41<47:12,  9.23s/it, Current URL: https://www.eversports.de/s/polearize]       "
     ]
    },
    {
     "name": "stdout",
     "output_type": "stream",
     "text": [
      "Processing completed.\n",
      "Pole Studio Data: 1 entries\n",
      "Workshops Data: 5 entries\n",
      "Workshop Details: 5 entries\n",
      "Starting URL reconstruction...\n"
     ]
    },
    {
     "name": "stderr",
     "output_type": "stream",
     "text": [
      "Processing URLs:   9%|▉         | 31/337 [02:42<35:06,  6.89s/it, Current URL: https://www.eversports.de/s/drehmoment-pole.aerial.dance]"
     ]
    },
    {
     "name": "stdout",
     "output_type": "stream",
     "text": [
      "Error during HTTP request: 404 Client Error: Not Found for url: https://www.eversports.de/s/drehmoment-pole.aerial.dance\n",
      "Converting to DataFrame...\n",
      "Validating URLs...\n",
      "Processing completed.\n",
      "Starting URL reconstruction...\n"
     ]
    },
    {
     "name": "stderr",
     "output_type": "stream",
     "text": [
      "2024-02-03 16:29:34,883 - INFO - Processing URL 1/4: https://www.eversports.de/s/stadtgazellen-bremen\n"
     ]
    },
    {
     "name": "stdout",
     "output_type": "stream",
     "text": [
      "Converting to DataFrame...\n",
      "Validating URLs...\n"
     ]
    },
    {
     "name": "stderr",
     "output_type": "stream",
     "text": [
      "2024-02-03 16:29:36,409 - INFO - URL https://www.eversports.de/s/stadtgazellen-bremen is valid.\n",
      "2024-02-03 16:29:36,410 - INFO - Processing URL 2/4: https://www.eversports.de/sw/stadtgazellen-bremen\n",
      "2024-02-03 16:29:37,615 - INFO - URL https://www.eversports.de/sw/stadtgazellen-bremen is valid.\n",
      "2024-02-03 16:29:37,616 - INFO - Processing URL 3/4: https://www.eversports.de/sp/stadtgazellen-bremen\n",
      "2024-02-03 16:29:39,147 - INFO - URL https://www.eversports.de/sp/stadtgazellen-bremen is valid.\n",
      "2024-02-03 16:29:39,149 - INFO - Processing URL 4/4: https://www.eversports.de/s/stadtgazellen-bremen/team\n",
      "2024-02-03 16:29:40,961 - INFO - URL https://www.eversports.de/s/stadtgazellen-bremen/team is valid.\n"
     ]
    },
    {
     "name": "stdout",
     "output_type": "stream",
     "text": [
      "Scraping Pole Studio Data from https://www.eversports.de/s/stadtgazellen-bremen...\n",
      "Scraping Workshops Data from https://www.eversports.de/sw/stadtgazellen-bremen...\n",
      "Scraping Workshop Details from https://www.eversports.de/e/workshop/YiU_KF8...\n",
      "Scraping Workshop Details from https://www.eversports.de/e/workshop/Vnofur2...\n",
      "Scraping Workshop Details from https://www.eversports.de/e/workshop/wFn4PaN...\n",
      "Scraping Workshop Details from https://www.eversports.de/e/workshop/6ZllXAZ...\n",
      "Scraping Workshop Details from https://www.eversports.de/e/workshop/L5UxsO9...\n",
      "Scraping Workshop Details from https://www.eversports.de/e/workshop/7blW22y...\n",
      "Scraping Workshop Details from https://www.eversports.de/e/workshop/v4tYN09...\n",
      "Scraping Workshop Details from https://www.eversports.de/e/workshop/KWx3LyO...\n",
      "Scraping Workshop Details from https://www.eversports.de/e/workshop/WRl24o5...\n",
      "Scraping Workshop Details from https://www.eversports.de/e/workshop/wrZkEQ3...\n"
     ]
    },
    {
     "name": "stderr",
     "output_type": "stream",
     "text": [
      "Processing URLs:   9%|▉         | 32/337 [03:05<1:00:15, 11.85s/it, Current URL: https://www.eversports.de/s/stadtgazellen-bremen]        "
     ]
    },
    {
     "name": "stdout",
     "output_type": "stream",
     "text": [
      "Processing completed.\n",
      "Pole Studio Data: 1 entries\n",
      "Workshops Data: 10 entries\n",
      "Workshop Details: 10 entries\n",
      "Starting URL reconstruction...\n"
     ]
    },
    {
     "name": "stderr",
     "output_type": "stream",
     "text": [
      "Processing URLs:  10%|▉         | 33/337 [03:07<44:03,  8.70s/it, Current URL: https://www.eversports.de/s/polesports-studio-buchholz]"
     ]
    },
    {
     "name": "stdout",
     "output_type": "stream",
     "text": [
      "Error during HTTP request: 404 Client Error: Not Found for url: https://www.eversports.de/s/polesports-studio-buchholz\n",
      "Converting to DataFrame...\n",
      "Validating URLs...\n",
      "Processing completed.\n",
      "Starting URL reconstruction...\n"
     ]
    },
    {
     "name": "stderr",
     "output_type": "stream",
     "text": [
      "Processing URLs:  10%|█         | 34/337 [03:08<32:31,  6.44s/it, Current URL: https://www.eversports.de/s/verticalarts-pole-and-aerial-fitness]"
     ]
    },
    {
     "name": "stdout",
     "output_type": "stream",
     "text": [
      "Error during HTTP request: 404 Client Error: Not Found for url: https://www.eversports.de/s/verticalarts-pole-and-aerial-fitness\n",
      "Converting to DataFrame...\n",
      "Validating URLs...\n",
      "Processing completed.\n",
      "Starting URL reconstruction...\n"
     ]
    },
    {
     "name": "stderr",
     "output_type": "stream",
     "text": [
      "Processing URLs:  10%|█         | 35/337 [03:09<24:26,  4.86s/it, Current URL: https://www.eversports.de/s/poledance-schule-berlin]             "
     ]
    },
    {
     "name": "stdout",
     "output_type": "stream",
     "text": [
      "Error during HTTP request: 404 Client Error: Not Found for url: https://www.eversports.de/s/poledance-schule-berlin\n",
      "Converting to DataFrame...\n",
      "Validating URLs...\n",
      "Processing completed.\n",
      "Starting URL reconstruction...\n"
     ]
    },
    {
     "name": "stderr",
     "output_type": "stream",
     "text": [
      "Processing URLs:  11%|█         | 36/337 [03:10<19:01,  3.79s/it, Current URL: https://www.eversports.de/s/satori-pole-dance-potsdam]"
     ]
    },
    {
     "name": "stdout",
     "output_type": "stream",
     "text": [
      "Error during HTTP request: 404 Client Error: Not Found for url: https://www.eversports.de/s/satori-pole-dance-potsdam\n",
      "Converting to DataFrame...\n",
      "Validating URLs...\n",
      "Processing completed.\n",
      "Starting URL reconstruction...\n"
     ]
    },
    {
     "name": "stderr",
     "output_type": "stream",
     "text": [
      "Processing URLs:  11%|█         | 37/337 [03:12<14:57,  2.99s/it, Current URL: https://www.eversports.de/s/aerial-art-studio]        "
     ]
    },
    {
     "name": "stdout",
     "output_type": "stream",
     "text": [
      "Error during HTTP request: 404 Client Error: Not Found for url: https://www.eversports.de/s/aerial-art-studio\n",
      "Converting to DataFrame...\n",
      "Validating URLs...\n",
      "Processing completed.\n",
      "Starting URL reconstruction...\n"
     ]
    },
    {
     "name": "stderr",
     "output_type": "stream",
     "text": [
      "2024-02-03 16:30:04,721 - INFO - Processing URL 1/3: https://www.eversports.de/s/polemotions-filderstadt\n"
     ]
    },
    {
     "name": "stdout",
     "output_type": "stream",
     "text": [
      "Converting to DataFrame...\n",
      "Validating URLs...\n"
     ]
    },
    {
     "name": "stderr",
     "output_type": "stream",
     "text": [
      "2024-02-03 16:30:06,202 - INFO - URL https://www.eversports.de/s/polemotions-filderstadt is valid.\n",
      "2024-02-03 16:30:06,202 - INFO - Processing URL 2/3: https://www.eversports.de/sp/polemotions-filderstadt\n",
      "2024-02-03 16:30:07,545 - INFO - URL https://www.eversports.de/sp/polemotions-filderstadt is valid.\n",
      "2024-02-03 16:30:07,546 - INFO - Processing URL 3/3: https://www.eversports.de/s/polemotions-filderstadt/team\n",
      "2024-02-03 16:30:08,970 - INFO - URL https://www.eversports.de/s/polemotions-filderstadt/team is valid.\n"
     ]
    },
    {
     "name": "stdout",
     "output_type": "stream",
     "text": [
      "Scraping Pole Studio Data from https://www.eversports.de/s/polemotions-filderstadt...\n"
     ]
    },
    {
     "name": "stderr",
     "output_type": "stream",
     "text": [
      "Processing URLs:  11%|█▏        | 38/337 [03:18<19:57,  4.00s/it, Current URL: https://www.eversports.de/s/polemotions-filderstadt]"
     ]
    },
    {
     "name": "stdout",
     "output_type": "stream",
     "text": [
      "Processing completed.\n",
      "Pole Studio Data: 1 entries\n",
      "Starting URL reconstruction...\n"
     ]
    },
    {
     "name": "stderr",
     "output_type": "stream",
     "text": [
      "Processing URLs:  12%|█▏        | 39/337 [03:19<15:48,  3.18s/it, Current URL: https://www.eversports.de/s/health-and-shape]       "
     ]
    },
    {
     "name": "stdout",
     "output_type": "stream",
     "text": [
      "Error during HTTP request: 404 Client Error: Not Found for url: https://www.eversports.de/s/health-and-shape\n",
      "Converting to DataFrame...\n",
      "Validating URLs...\n",
      "Processing completed.\n",
      "Starting URL reconstruction...\n"
     ]
    },
    {
     "name": "stderr",
     "output_type": "stream",
     "text": [
      "2024-02-03 16:30:15,160 - INFO - Processing URL 1/2: https://www.eversports.de/s/poledance-nrw\n"
     ]
    },
    {
     "name": "stdout",
     "output_type": "stream",
     "text": [
      "Converting to DataFrame...\n",
      "Validating URLs...\n"
     ]
    },
    {
     "name": "stderr",
     "output_type": "stream",
     "text": [
      "2024-02-03 16:30:17,085 - INFO - URL https://www.eversports.de/s/poledance-nrw is valid.\n",
      "2024-02-03 16:30:17,086 - INFO - Processing URL 2/2: https://www.eversports.de/sp/poledance-nrw\n",
      "2024-02-03 16:30:27,237 - INFO - URL https://www.eversports.de/sp/poledance-nrw is valid.\n"
     ]
    },
    {
     "name": "stdout",
     "output_type": "stream",
     "text": [
      "Scraping Pole Studio Data from https://www.eversports.de/s/poledance-nrw...\n"
     ]
    },
    {
     "name": "stderr",
     "output_type": "stream",
     "text": [
      "Processing URLs:  12%|█▏        | 40/337 [03:36<36:28,  7.37s/it, Current URL: https://www.eversports.de/s/poledance-nrw]   "
     ]
    },
    {
     "name": "stdout",
     "output_type": "stream",
     "text": [
      "Processing completed.\n",
      "Pole Studio Data: 1 entries\n",
      "Starting URL reconstruction...\n"
     ]
    },
    {
     "name": "stderr",
     "output_type": "stream",
     "text": [
      "Processing URLs:  12%|█▏        | 41/337 [03:38<27:59,  5.67s/it, Current URL: https://www.eversports.de/s/pole-dance-nrw]"
     ]
    },
    {
     "name": "stdout",
     "output_type": "stream",
     "text": [
      "Error during HTTP request: 404 Client Error: Not Found for url: https://www.eversports.de/s/pole-dance-nrw\n",
      "Converting to DataFrame...\n",
      "Validating URLs...\n",
      "Processing completed.\n",
      "Starting URL reconstruction...\n"
     ]
    },
    {
     "name": "stderr",
     "output_type": "stream",
     "text": [
      "Processing URLs:  12%|█▏        | 42/337 [03:39<21:34,  4.39s/it, Current URL: https://www.eversports.de/s/schwerelos]    "
     ]
    },
    {
     "name": "stdout",
     "output_type": "stream",
     "text": [
      "Error during HTTP request: 404 Client Error: Not Found for url: https://www.eversports.de/s/schwerelos\n",
      "Converting to DataFrame...\n",
      "Validating URLs...\n",
      "Processing completed.\n",
      "Starting URL reconstruction...\n"
     ]
    },
    {
     "name": "stderr",
     "output_type": "stream",
     "text": [
      "2024-02-03 16:30:32,361 - INFO - Processing URL 1/3: https://www.eversports.de/s/center-of-moving-arts\n"
     ]
    },
    {
     "name": "stdout",
     "output_type": "stream",
     "text": [
      "Converting to DataFrame...\n",
      "Validating URLs...\n"
     ]
    },
    {
     "name": "stderr",
     "output_type": "stream",
     "text": [
      "2024-02-03 16:30:33,881 - INFO - URL https://www.eversports.de/s/center-of-moving-arts is valid.\n",
      "2024-02-03 16:30:33,882 - INFO - Processing URL 2/3: https://www.eversports.de/sp/center-of-moving-arts\n",
      "2024-02-03 16:30:35,299 - INFO - URL https://www.eversports.de/sp/center-of-moving-arts is valid.\n",
      "2024-02-03 16:30:35,301 - INFO - Processing URL 3/3: https://www.eversports.de/s/center-of-moving-arts/team\n",
      "2024-02-03 16:30:36,695 - INFO - URL https://www.eversports.de/s/center-of-moving-arts/team is valid.\n"
     ]
    },
    {
     "name": "stdout",
     "output_type": "stream",
     "text": [
      "Scraping Pole Studio Data from https://www.eversports.de/s/center-of-moving-arts...\n"
     ]
    },
    {
     "name": "stderr",
     "output_type": "stream",
     "text": [
      "Processing URLs:  13%|█▎        | 43/337 [03:46<24:24,  4.98s/it, Current URL: https://www.eversports.de/s/center-of-moving-arts]"
     ]
    },
    {
     "name": "stdout",
     "output_type": "stream",
     "text": [
      "Processing completed.\n",
      "Pole Studio Data: 1 entries\n",
      "Starting URL reconstruction...\n"
     ]
    },
    {
     "name": "stderr",
     "output_type": "stream",
     "text": [
      "Processing URLs:  13%|█▎        | 44/337 [03:47<18:59,  3.89s/it, Current URL: https://www.eversports.de/s/anni's-pole-dance-uetersen]"
     ]
    },
    {
     "name": "stdout",
     "output_type": "stream",
     "text": [
      "Error during HTTP request: 404 Client Error: Not Found for url: https://www.eversports.de/s/anni's-pole-dance-uetersen\n",
      "Converting to DataFrame...\n",
      "Validating URLs...\n",
      "Processing completed.\n",
      "Starting URL reconstruction...\n"
     ]
    },
    {
     "name": "stderr",
     "output_type": "stream",
     "text": [
      "Processing URLs:  13%|█▎        | 45/337 [03:49<15:36,  3.21s/it, Current URL: https://www.eversports.de/s/aerial-athletix]           "
     ]
    },
    {
     "name": "stdout",
     "output_type": "stream",
     "text": [
      "Error during HTTP request: 404 Client Error: Not Found for url: https://www.eversports.de/s/aerial-athletix\n",
      "Converting to DataFrame...\n",
      "Validating URLs...\n",
      "Processing completed.\n",
      "Starting URL reconstruction...\n"
     ]
    },
    {
     "name": "stderr",
     "output_type": "stream",
     "text": [
      "Processing URLs:  14%|█▎        | 46/337 [03:50<12:56,  2.67s/it, Current URL: https://www.eversports.de/s/pole-dance-stuttgart]"
     ]
    },
    {
     "name": "stdout",
     "output_type": "stream",
     "text": [
      "Error during HTTP request: 404 Client Error: Not Found for url: https://www.eversports.de/s/pole-dance-stuttgart\n",
      "Converting to DataFrame...\n",
      "Validating URLs...\n",
      "Processing completed.\n",
      "Starting URL reconstruction...\n"
     ]
    },
    {
     "name": "stderr",
     "output_type": "stream",
     "text": [
      "Processing URLs:  14%|█▍        | 47/337 [03:52<11:26,  2.37s/it, Current URL: https://www.eversports.de/s/dancexotic]          "
     ]
    },
    {
     "name": "stdout",
     "output_type": "stream",
     "text": [
      "Error during HTTP request: 404 Client Error: Not Found for url: https://www.eversports.de/s/dancexotic\n",
      "Converting to DataFrame...\n",
      "Validating URLs...\n",
      "Processing completed.\n",
      "Starting URL reconstruction...\n"
     ]
    },
    {
     "name": "stderr",
     "output_type": "stream",
     "text": [
      "2024-02-03 16:30:44,860 - INFO - Processing URL 1/4: https://www.eversports.de/s/pole-formance\n"
     ]
    },
    {
     "name": "stdout",
     "output_type": "stream",
     "text": [
      "Error reconstructing URL for 'Kurse': Unrecognized text: 'Kurse'\n",
      "Converting to DataFrame...\n",
      "Validating URLs...\n"
     ]
    },
    {
     "name": "stderr",
     "output_type": "stream",
     "text": [
      "2024-02-03 16:30:46,356 - INFO - URL https://www.eversports.de/s/pole-formance is valid.\n",
      "2024-02-03 16:30:46,357 - INFO - Processing URL 2/4: https://www.eversports.de/sw/pole-formance\n",
      "2024-02-03 16:30:47,637 - INFO - URL https://www.eversports.de/sw/pole-formance is valid.\n",
      "2024-02-03 16:30:47,638 - INFO - Processing URL 3/4: https://www.eversports.de/sp/pole-formance\n",
      "2024-02-03 16:30:49,032 - INFO - URL https://www.eversports.de/sp/pole-formance is valid.\n",
      "2024-02-03 16:30:49,033 - INFO - Processing URL 4/4: https://www.eversports.de/s/pole-formance/team\n",
      "2024-02-03 16:30:51,037 - INFO - URL https://www.eversports.de/s/pole-formance/team is valid.\n"
     ]
    },
    {
     "name": "stdout",
     "output_type": "stream",
     "text": [
      "Scraping Pole Studio Data from https://www.eversports.de/s/pole-formance...\n",
      "Scraping Workshops Data from https://www.eversports.de/sw/pole-formance...\n",
      "Scraping Workshop Details from https://www.eversports.de/e/workshop/AieRNXP...\n",
      "Scraping Workshop Details from https://www.eversports.de/e/workshop/NA0fA-V...\n",
      "Scraping Workshop Details from https://www.eversports.de/e/workshop/KDYKHQf...\n",
      "Scraping Workshop Details from https://www.eversports.de/e/workshop/BjFbe-z...\n",
      "Scraping Workshop Details from https://www.eversports.de/e/workshop/U58r9aD...\n"
     ]
    },
    {
     "name": "stderr",
     "output_type": "stream",
     "text": [
      "Processing URLs:  14%|█▍        | 48/337 [04:11<35:11,  7.31s/it, Current URL: https://www.eversports.de/s/pole-formance]"
     ]
    },
    {
     "name": "stdout",
     "output_type": "stream",
     "text": [
      "Processing completed.\n",
      "Pole Studio Data: 1 entries\n",
      "Workshops Data: 5 entries\n",
      "Workshop Details: 5 entries\n",
      "Starting URL reconstruction...\n"
     ]
    },
    {
     "name": "stderr",
     "output_type": "stream",
     "text": [
      "2024-02-03 16:31:04,016 - INFO - Processing URL 1/3: https://www.eversports.de/s/nordpole\n"
     ]
    },
    {
     "name": "stdout",
     "output_type": "stream",
     "text": [
      "Error reconstructing URL for 'Events': Unrecognized text: 'Events'\n",
      "Converting to DataFrame...\n",
      "Validating URLs...\n"
     ]
    },
    {
     "name": "stderr",
     "output_type": "stream",
     "text": [
      "2024-02-03 16:31:05,450 - INFO - URL https://www.eversports.de/s/nordpole is valid.\n",
      "2024-02-03 16:31:05,451 - INFO - Processing URL 2/3: https://www.eversports.de/sp/nordpole\n",
      "2024-02-03 16:31:06,704 - INFO - URL https://www.eversports.de/sp/nordpole is valid.\n",
      "2024-02-03 16:31:06,704 - INFO - Processing URL 3/3: https://www.eversports.de/s/nordpole/team\n",
      "2024-02-03 16:31:07,912 - INFO - URL https://www.eversports.de/s/nordpole/team is valid.\n"
     ]
    },
    {
     "name": "stdout",
     "output_type": "stream",
     "text": [
      "Scraping Pole Studio Data from https://www.eversports.de/s/nordpole...\n"
     ]
    },
    {
     "name": "stderr",
     "output_type": "stream",
     "text": [
      "Processing URLs:  15%|█▍        | 49/337 [04:17<33:38,  7.01s/it, Current URL: https://www.eversports.de/s/nordpole]     "
     ]
    },
    {
     "name": "stdout",
     "output_type": "stream",
     "text": [
      "Processing completed.\n",
      "Pole Studio Data: 1 entries\n",
      "Starting URL reconstruction...\n"
     ]
    },
    {
     "name": "stderr",
     "output_type": "stream",
     "text": [
      "2024-02-03 16:31:10,307 - INFO - Processing URL 1/4: https://www.eversports.de/s/the-pole-lounge\n"
     ]
    },
    {
     "name": "stdout",
     "output_type": "stream",
     "text": [
      "Error reconstructing URL for 'Kurse': Unrecognized text: 'Kurse'\n",
      "Converting to DataFrame...\n",
      "Validating URLs...\n"
     ]
    },
    {
     "name": "stderr",
     "output_type": "stream",
     "text": [
      "2024-02-03 16:31:18,811 - INFO - URL https://www.eversports.de/s/the-pole-lounge is valid.\n",
      "2024-02-03 16:31:18,812 - INFO - Processing URL 2/4: https://www.eversports.de/sw/the-pole-lounge\n",
      "2024-02-03 16:31:20,060 - INFO - URL https://www.eversports.de/sw/the-pole-lounge is valid.\n",
      "2024-02-03 16:31:20,061 - INFO - Processing URL 3/4: https://www.eversports.de/sp/the-pole-lounge\n",
      "2024-02-03 16:31:21,230 - INFO - URL https://www.eversports.de/sp/the-pole-lounge is valid.\n",
      "2024-02-03 16:31:21,231 - INFO - Processing URL 4/4: https://www.eversports.de/s/the-pole-lounge/team\n",
      "2024-02-03 16:31:22,529 - INFO - URL https://www.eversports.de/s/the-pole-lounge/team is valid.\n"
     ]
    },
    {
     "name": "stdout",
     "output_type": "stream",
     "text": [
      "Scraping Pole Studio Data from https://www.eversports.de/s/the-pole-lounge...\n",
      "Scraping Workshops Data from https://www.eversports.de/sw/the-pole-lounge...\n",
      "Scraping Workshop Details from https://www.eversports.de/e/workshop/QD21QTN...\n"
     ]
    },
    {
     "name": "stderr",
     "output_type": "stream",
     "text": [
      "Processing URLs:  15%|█▍        | 50/337 [04:34<48:12, 10.08s/it, Current URL: https://www.eversports.de/s/the-pole-lounge]"
     ]
    },
    {
     "name": "stdout",
     "output_type": "stream",
     "text": [
      "Processing completed.\n",
      "Pole Studio Data: 1 entries\n",
      "Workshops Data: 1 entries\n",
      "Workshop Details: 1 entries\n",
      "Starting URL reconstruction...\n"
     ]
    },
    {
     "name": "stderr",
     "output_type": "stream",
     "text": [
      "Processing URLs:  15%|█▌        | 51/337 [04:36<35:45,  7.50s/it, Current URL: https://www.eversports.de/s/studio-fitnessdarling]"
     ]
    },
    {
     "name": "stdout",
     "output_type": "stream",
     "text": [
      "Error during HTTP request: 404 Client Error: Not Found for url: https://www.eversports.de/s/studio-fitnessdarling\n",
      "Converting to DataFrame...\n",
      "Validating URLs...\n",
      "Processing completed.\n",
      "Starting URL reconstruction...\n"
     ]
    },
    {
     "name": "stderr",
     "output_type": "stream",
     "text": [
      "2024-02-03 16:31:28,519 - INFO - Processing URL 1/3: https://www.eversports.de/s/tanzstudio-michel\n"
     ]
    },
    {
     "name": "stdout",
     "output_type": "stream",
     "text": [
      "Converting to DataFrame...\n",
      "Validating URLs...\n"
     ]
    },
    {
     "name": "stderr",
     "output_type": "stream",
     "text": [
      "2024-02-03 16:31:29,820 - INFO - URL https://www.eversports.de/s/tanzstudio-michel is valid.\n",
      "2024-02-03 16:31:29,822 - INFO - Processing URL 2/3: https://www.eversports.de/sp/tanzstudio-michel\n",
      "2024-02-03 16:31:31,009 - INFO - URL https://www.eversports.de/sp/tanzstudio-michel is valid.\n",
      "2024-02-03 16:31:31,010 - INFO - Processing URL 3/3: https://www.eversports.de/s/tanzstudio-michel/team\n",
      "2024-02-03 16:31:32,194 - INFO - URL https://www.eversports.de/s/tanzstudio-michel/team is valid.\n"
     ]
    },
    {
     "name": "stdout",
     "output_type": "stream",
     "text": [
      "Scraping Pole Studio Data from https://www.eversports.de/s/tanzstudio-michel...\n"
     ]
    },
    {
     "name": "stderr",
     "output_type": "stream",
     "text": [
      "Processing URLs:  15%|█▌        | 52/337 [04:41<32:41,  6.88s/it, Current URL: https://www.eversports.de/s/tanzstudio-michel]    "
     ]
    },
    {
     "name": "stdout",
     "output_type": "stream",
     "text": [
      "Processing completed.\n",
      "Pole Studio Data: 1 entries\n",
      "Starting URL reconstruction...\n"
     ]
    },
    {
     "name": "stderr",
     "output_type": "stream",
     "text": [
      "Processing URLs:  16%|█▌        | 53/337 [04:42<24:31,  5.18s/it, Current URL: https://www.eversports.de/s/pole-faction-pole-dance-and-fitness]"
     ]
    },
    {
     "name": "stdout",
     "output_type": "stream",
     "text": [
      "Error during HTTP request: 404 Client Error: Not Found for url: https://www.eversports.de/s/pole-faction-pole-dance-and-fitness\n",
      "Converting to DataFrame...\n",
      "Validating URLs...\n",
      "Processing completed.\n",
      "Starting URL reconstruction...\n"
     ]
    },
    {
     "name": "stderr",
     "output_type": "stream",
     "text": [
      "Processing URLs:  16%|█▌        | 54/337 [04:44<19:24,  4.11s/it, Current URL: https://www.eversports.de/s/infinity-polesports-burgkirchen]    "
     ]
    },
    {
     "name": "stdout",
     "output_type": "stream",
     "text": [
      "Error during HTTP request: 404 Client Error: Not Found for url: https://www.eversports.de/s/infinity-polesports-burgkirchen\n",
      "Converting to DataFrame...\n",
      "Validating URLs...\n",
      "Processing completed.\n",
      "Starting URL reconstruction...\n"
     ]
    },
    {
     "name": "stderr",
     "output_type": "stream",
     "text": [
      "Processing URLs:  16%|█▋        | 55/337 [04:45<15:13,  3.24s/it, Current URL: https://www.eversports.de/s/freaky-pole-cats-hengersberg]   "
     ]
    },
    {
     "name": "stdout",
     "output_type": "stream",
     "text": [
      "Error during HTTP request: 404 Client Error: Not Found for url: https://www.eversports.de/s/freaky-pole-cats-hengersberg\n",
      "Converting to DataFrame...\n",
      "Validating URLs...\n",
      "Processing completed.\n",
      "Starting URL reconstruction...\n"
     ]
    },
    {
     "name": "stderr",
     "output_type": "stream",
     "text": [
      "2024-02-03 16:31:37,877 - INFO - Processing URL 1/1: https://www.eversports.de/s/aerial-sportstudio\n"
     ]
    },
    {
     "name": "stdout",
     "output_type": "stream",
     "text": [
      "Converting to DataFrame...\n",
      "Validating URLs...\n"
     ]
    },
    {
     "name": "stderr",
     "output_type": "stream",
     "text": [
      "2024-02-03 16:31:39,242 - INFO - URL https://www.eversports.de/s/aerial-sportstudio is valid.\n"
     ]
    },
    {
     "name": "stdout",
     "output_type": "stream",
     "text": [
      "Scraping Pole Studio Data from https://www.eversports.de/s/aerial-sportstudio...\n"
     ]
    },
    {
     "name": "stderr",
     "output_type": "stream",
     "text": [
      "Processing URLs:  17%|█▋        | 56/337 [04:48<14:45,  3.15s/it, Current URL: https://www.eversports.de/s/aerial-sportstudio]          "
     ]
    },
    {
     "name": "stdout",
     "output_type": "stream",
     "text": [
      "Processing completed.\n",
      "Pole Studio Data: 1 entries\n",
      "Starting URL reconstruction...\n"
     ]
    },
    {
     "name": "stderr",
     "output_type": "stream",
     "text": [
      "2024-02-03 16:31:40,964 - INFO - Processing URL 1/1: https://www.eversports.de/s/the-basement-pole-dance-and-movement\n"
     ]
    },
    {
     "name": "stdout",
     "output_type": "stream",
     "text": [
      "Converting to DataFrame...\n",
      "Validating URLs...\n"
     ]
    },
    {
     "name": "stderr",
     "output_type": "stream",
     "text": [
      "2024-02-03 16:31:42,282 - INFO - URL https://www.eversports.de/s/the-basement-pole-dance-and-movement is valid.\n"
     ]
    },
    {
     "name": "stdout",
     "output_type": "stream",
     "text": [
      "Scraping Pole Studio Data from https://www.eversports.de/s/the-basement-pole-dance-and-movement...\n"
     ]
    },
    {
     "name": "stderr",
     "output_type": "stream",
     "text": [
      "Processing URLs:  17%|█▋        | 57/337 [04:52<15:34,  3.34s/it, Current URL: https://www.eversports.de/s/the-basement-pole-dance-and-movement]"
     ]
    },
    {
     "name": "stdout",
     "output_type": "stream",
     "text": [
      "Processing completed.\n",
      "Pole Studio Data: 1 entries\n",
      "Starting URL reconstruction...\n"
     ]
    },
    {
     "name": "stderr",
     "output_type": "stream",
     "text": [
      "Processing URLs:  17%|█▋        | 58/337 [04:53<12:29,  2.68s/it, Current URL: https://www.eversports.de/s/zero-gravity-pole]                   "
     ]
    },
    {
     "name": "stdout",
     "output_type": "stream",
     "text": [
      "Error during HTTP request: 404 Client Error: Not Found for url: https://www.eversports.de/s/zero-gravity-pole\n",
      "Converting to DataFrame...\n",
      "Validating URLs...\n",
      "Processing completed.\n",
      "Starting URL reconstruction...\n"
     ]
    },
    {
     "name": "stderr",
     "output_type": "stream",
     "text": [
      "2024-02-03 16:31:46,426 - INFO - Processing URL 1/4: https://www.eversports.de/s/t-tanzstueck-braunschweig\n"
     ]
    },
    {
     "name": "stdout",
     "output_type": "stream",
     "text": [
      "Error reconstructing URL for 'Kurse': Unrecognized text: 'Kurse'\n",
      "Converting to DataFrame...\n",
      "Validating URLs...\n"
     ]
    },
    {
     "name": "stderr",
     "output_type": "stream",
     "text": [
      "2024-02-03 16:31:47,873 - INFO - URL https://www.eversports.de/s/t-tanzstueck-braunschweig is valid.\n",
      "2024-02-03 16:31:47,874 - INFO - Processing URL 2/4: https://www.eversports.de/sw/t-tanzstueck-braunschweig\n",
      "2024-02-03 16:31:49,193 - INFO - URL https://www.eversports.de/sw/t-tanzstueck-braunschweig is valid.\n",
      "2024-02-03 16:31:49,194 - INFO - Processing URL 3/4: https://www.eversports.de/sp/t-tanzstueck-braunschweig\n",
      "2024-02-03 16:31:50,482 - INFO - URL https://www.eversports.de/sp/t-tanzstueck-braunschweig is valid.\n",
      "2024-02-03 16:31:50,483 - INFO - Processing URL 4/4: https://www.eversports.de/s/t-tanzstueck-braunschweig/team\n",
      "2024-02-03 16:31:51,743 - INFO - URL https://www.eversports.de/s/t-tanzstueck-braunschweig/team is valid.\n"
     ]
    },
    {
     "name": "stdout",
     "output_type": "stream",
     "text": [
      "Scraping Pole Studio Data from https://www.eversports.de/s/t-tanzstueck-braunschweig...\n",
      "Scraping Workshops Data from https://www.eversports.de/sw/t-tanzstueck-braunschweig...\n",
      "Scraping Workshop Details from https://www.eversports.de/e/workshop/itCOcd3...\n"
     ]
    },
    {
     "name": "stderr",
     "output_type": "stream",
     "text": [
      "Processing URLs:  18%|█▊        | 59/337 [05:03<23:11,  5.00s/it, Current URL: https://www.eversports.de/s/t-tanzstueck-braunschweig]"
     ]
    },
    {
     "name": "stdout",
     "output_type": "stream",
     "text": [
      "Processing completed.\n",
      "Pole Studio Data: 1 entries\n",
      "Workshops Data: 1 entries\n",
      "Workshop Details: 1 entries\n",
      "Starting URL reconstruction...\n"
     ]
    },
    {
     "name": "stderr",
     "output_type": "stream",
     "text": [
      "Processing URLs:  18%|█▊        | 60/337 [05:05<17:45,  3.85s/it, Current URL: https://www.eversports.de/s/souldance]                "
     ]
    },
    {
     "name": "stdout",
     "output_type": "stream",
     "text": [
      "Error during HTTP request: 404 Client Error: Not Found for url: https://www.eversports.de/s/souldance\n",
      "Converting to DataFrame...\n",
      "Validating URLs...\n",
      "Processing completed.\n",
      "Starting URL reconstruction...\n"
     ]
    },
    {
     "name": "stderr",
     "output_type": "stream",
     "text": [
      "2024-02-03 16:31:57,534 - INFO - Processing URL 1/3: https://www.eversports.de/s/polewirbel\n"
     ]
    },
    {
     "name": "stdout",
     "output_type": "stream",
     "text": [
      "Converting to DataFrame...\n",
      "Validating URLs...\n"
     ]
    },
    {
     "name": "stderr",
     "output_type": "stream",
     "text": [
      "2024-02-03 16:31:59,111 - INFO - URL https://www.eversports.de/s/polewirbel is valid.\n",
      "2024-02-03 16:31:59,112 - INFO - Processing URL 2/3: https://www.eversports.de/sp/polewirbel\n",
      "2024-02-03 16:32:00,303 - INFO - URL https://www.eversports.de/sp/polewirbel is valid.\n",
      "2024-02-03 16:32:00,304 - INFO - Processing URL 3/3: https://www.eversports.de/s/polewirbel/team\n",
      "2024-02-03 16:32:01,509 - INFO - URL https://www.eversports.de/s/polewirbel/team is valid.\n"
     ]
    },
    {
     "name": "stdout",
     "output_type": "stream",
     "text": [
      "Scraping Pole Studio Data from https://www.eversports.de/s/polewirbel...\n"
     ]
    },
    {
     "name": "stderr",
     "output_type": "stream",
     "text": [
      "Processing URLs:  18%|█▊        | 61/337 [05:10<20:23,  4.43s/it, Current URL: https://www.eversports.de/s/polewirbel]"
     ]
    },
    {
     "name": "stdout",
     "output_type": "stream",
     "text": [
      "Processing completed.\n",
      "Pole Studio Data: 1 entries\n",
      "Starting URL reconstruction...\n"
     ]
    },
    {
     "name": "stderr",
     "output_type": "stream",
     "text": [
      "Processing URLs:  18%|█▊        | 62/337 [05:12<15:51,  3.46s/it, Current URL: https://www.eversports.de/s/crazypole-dresden]"
     ]
    },
    {
     "name": "stdout",
     "output_type": "stream",
     "text": [
      "Error during HTTP request: 404 Client Error: Not Found for url: https://www.eversports.de/s/crazypole-dresden\n",
      "Converting to DataFrame...\n",
      "Validating URLs...\n",
      "Processing completed.\n",
      "Starting URL reconstruction...\n"
     ]
    },
    {
     "name": "stderr",
     "output_type": "stream",
     "text": [
      "Processing URLs:  19%|█▊        | 63/337 [05:13<12:53,  2.82s/it, Current URL: https://www.eversports.de/s/lift-off-poledance-academy-frankfurt]"
     ]
    },
    {
     "name": "stdout",
     "output_type": "stream",
     "text": [
      "Error during HTTP request: 404 Client Error: Not Found for url: https://www.eversports.de/s/lift-off-poledance-academy-frankfurt\n",
      "Converting to DataFrame...\n",
      "Validating URLs...\n",
      "Processing completed.\n",
      "Starting URL reconstruction...\n"
     ]
    },
    {
     "name": "stderr",
     "output_type": "stream",
     "text": [
      "2024-02-03 16:32:05,674 - INFO - Processing URL 1/4: https://www.eversports.de/s/poleside\n"
     ]
    },
    {
     "name": "stdout",
     "output_type": "stream",
     "text": [
      "Error reconstructing URL for 'Kurse': Unrecognized text: 'Kurse'\n",
      "Converting to DataFrame...\n",
      "Validating URLs...\n"
     ]
    },
    {
     "name": "stderr",
     "output_type": "stream",
     "text": [
      "2024-02-03 16:32:07,485 - INFO - URL https://www.eversports.de/s/poleside is valid.\n",
      "2024-02-03 16:32:07,486 - INFO - Processing URL 2/4: https://www.eversports.de/sw/poleside\n",
      "2024-02-03 16:32:09,215 - INFO - URL https://www.eversports.de/sw/poleside is valid.\n",
      "2024-02-03 16:32:09,216 - INFO - Processing URL 3/4: https://www.eversports.de/sp/poleside\n",
      "2024-02-03 16:32:10,426 - INFO - URL https://www.eversports.de/sp/poleside is valid.\n",
      "2024-02-03 16:32:10,427 - INFO - Processing URL 4/4: https://www.eversports.de/s/poleside/team\n",
      "2024-02-03 16:32:11,645 - INFO - URL https://www.eversports.de/s/poleside/team is valid.\n"
     ]
    },
    {
     "name": "stdout",
     "output_type": "stream",
     "text": [
      "Scraping Pole Studio Data from https://www.eversports.de/s/poleside...\n",
      "Scraping Workshops Data from https://www.eversports.de/sw/poleside...\n",
      "Scraping Workshop Details from https://www.eversports.de/e/workshop/llCPKoMLh...\n"
     ]
    },
    {
     "name": "stderr",
     "output_type": "stream",
     "text": [
      "Processing URLs:  19%|█▉        | 64/337 [05:23<22:53,  5.03s/it, Current URL: https://www.eversports.de/s/poleside]                            "
     ]
    },
    {
     "name": "stdout",
     "output_type": "stream",
     "text": [
      "Processing completed.\n",
      "Pole Studio Data: 1 entries\n",
      "Workshops Data: 1 entries\n",
      "Workshop Details: 1 entries\n",
      "Starting URL reconstruction...\n"
     ]
    },
    {
     "name": "stderr",
     "output_type": "stream",
     "text": [
      "Processing URLs:  19%|█▉        | 65/337 [05:24<17:37,  3.89s/it, Current URL: https://www.eversports.de/s/slow-motion]"
     ]
    },
    {
     "name": "stdout",
     "output_type": "stream",
     "text": [
      "Error during HTTP request: 404 Client Error: Not Found for url: https://www.eversports.de/s/slow-motion\n",
      "Converting to DataFrame...\n",
      "Validating URLs...\n",
      "Processing completed.\n",
      "Starting URL reconstruction...\n"
     ]
    },
    {
     "name": "stderr",
     "output_type": "stream",
     "text": [
      "2024-02-03 16:32:17,252 - INFO - Processing URL 1/4: https://www.eversports.de/s/pure-motion-kiel\n"
     ]
    },
    {
     "name": "stdout",
     "output_type": "stream",
     "text": [
      "Error reconstructing URL for 'Kurse': Unrecognized text: 'Kurse'\n",
      "Converting to DataFrame...\n",
      "Validating URLs...\n"
     ]
    },
    {
     "name": "stderr",
     "output_type": "stream",
     "text": [
      "2024-02-03 16:32:18,650 - INFO - URL https://www.eversports.de/s/pure-motion-kiel is valid.\n",
      "2024-02-03 16:32:18,652 - INFO - Processing URL 2/4: https://www.eversports.de/sw/pure-motion-kiel\n",
      "2024-02-03 16:32:19,932 - INFO - URL https://www.eversports.de/sw/pure-motion-kiel is valid.\n",
      "2024-02-03 16:32:19,933 - INFO - Processing URL 3/4: https://www.eversports.de/sp/pure-motion-kiel\n",
      "2024-02-03 16:32:21,175 - INFO - URL https://www.eversports.de/sp/pure-motion-kiel is valid.\n",
      "2024-02-03 16:32:21,176 - INFO - Processing URL 4/4: https://www.eversports.de/s/pure-motion-kiel/team\n",
      "2024-02-03 16:32:22,519 - INFO - URL https://www.eversports.de/s/pure-motion-kiel/team is valid.\n"
     ]
    },
    {
     "name": "stdout",
     "output_type": "stream",
     "text": [
      "Scraping Pole Studio Data from https://www.eversports.de/s/pure-motion-kiel...\n",
      "Scraping Workshops Data from https://www.eversports.de/sw/pure-motion-kiel...\n",
      "Scraping Workshop Details from https://www.eversports.de/e/workshop/Z1qnkVh...\n"
     ]
    },
    {
     "name": "stderr",
     "output_type": "stream",
     "text": [
      "Processing URLs:  20%|█▉        | 66/337 [05:34<25:35,  5.67s/it, Current URL: https://www.eversports.de/s/pure-motion-kiel]"
     ]
    },
    {
     "name": "stdout",
     "output_type": "stream",
     "text": [
      "Processing completed.\n",
      "Pole Studio Data: 1 entries\n",
      "Workshops Data: 1 entries\n",
      "Workshop Details: 1 entries\n",
      "Starting URL reconstruction...\n"
     ]
    },
    {
     "name": "stderr",
     "output_type": "stream",
     "text": [
      "Processing URLs:  20%|█▉        | 67/337 [05:36<20:43,  4.61s/it, Current URL: https://www.eversports.de/s/dalibravita]     "
     ]
    },
    {
     "name": "stdout",
     "output_type": "stream",
     "text": [
      "Error during HTTP request: 404 Client Error: Not Found for url: https://www.eversports.de/s/dalibravita\n",
      "Converting to DataFrame...\n",
      "Validating URLs...\n",
      "Processing completed.\n",
      "Starting URL reconstruction...\n"
     ]
    },
    {
     "name": "stderr",
     "output_type": "stream",
     "text": [
      "2024-02-03 16:32:29,110 - INFO - Processing URL 1/3: https://www.eversports.de/s/pole-arts\n"
     ]
    },
    {
     "name": "stdout",
     "output_type": "stream",
     "text": [
      "Error reconstructing URL for 'Kurse': Unrecognized text: 'Kurse'\n",
      "Converting to DataFrame...\n",
      "Validating URLs...\n"
     ]
    },
    {
     "name": "stderr",
     "output_type": "stream",
     "text": [
      "2024-02-03 16:32:30,645 - INFO - URL https://www.eversports.de/s/pole-arts is valid.\n",
      "2024-02-03 16:32:30,646 - INFO - Processing URL 2/3: https://www.eversports.de/sp/pole-arts\n",
      "2024-02-03 16:32:31,780 - INFO - URL https://www.eversports.de/sp/pole-arts is valid.\n",
      "2024-02-03 16:32:31,781 - INFO - Processing URL 3/3: https://www.eversports.de/s/pole-arts/team\n",
      "2024-02-03 16:32:32,984 - INFO - URL https://www.eversports.de/s/pole-arts/team is valid.\n"
     ]
    },
    {
     "name": "stdout",
     "output_type": "stream",
     "text": [
      "Scraping Pole Studio Data from https://www.eversports.de/s/pole-arts...\n"
     ]
    },
    {
     "name": "stderr",
     "output_type": "stream",
     "text": [
      "Processing URLs:  20%|██        | 68/337 [05:42<22:06,  4.93s/it, Current URL: https://www.eversports.de/s/pole-arts]  "
     ]
    },
    {
     "name": "stdout",
     "output_type": "stream",
     "text": [
      "Processing completed.\n",
      "Pole Studio Data: 1 entries\n",
      "Starting URL reconstruction...\n"
     ]
    },
    {
     "name": "stderr",
     "output_type": "stream",
     "text": [
      "Processing URLs:  20%|██        | 69/337 [05:43<16:56,  3.79s/it, Current URL: https://www.eversports.de/s/flexx-arts-aerial-dance-&-fitness]"
     ]
    },
    {
     "name": "stdout",
     "output_type": "stream",
     "text": [
      "Error during HTTP request: 404 Client Error: Not Found for url: https://www.eversports.de/s/flexx-arts-aerial-dance-&-fitness\n",
      "Converting to DataFrame...\n",
      "Validating URLs...\n",
      "Processing completed.\n",
      "Starting URL reconstruction...\n"
     ]
    },
    {
     "name": "stderr",
     "output_type": "stream",
     "text": [
      "Processing URLs:  21%|██        | 70/337 [05:44<13:22,  3.01s/it, Current URL: https://www.eversports.de/s/dance-&-pole-langenfeld]          "
     ]
    },
    {
     "name": "stdout",
     "output_type": "stream",
     "text": [
      "Error during HTTP request: 404 Client Error: Not Found for url: https://www.eversports.de/s/dance-&-pole-langenfeld\n",
      "Converting to DataFrame...\n",
      "Validating URLs...\n",
      "Processing completed.\n",
      "Starting URL reconstruction...\n"
     ]
    },
    {
     "name": "stderr",
     "output_type": "stream",
     "text": [
      "2024-02-03 16:32:37,085 - INFO - Processing URL 1/1: https://www.eversports.de/s/a-heart-for-poledance\n"
     ]
    },
    {
     "name": "stdout",
     "output_type": "stream",
     "text": [
      "Converting to DataFrame...\n",
      "Validating URLs...\n"
     ]
    },
    {
     "name": "stderr",
     "output_type": "stream",
     "text": [
      "2024-02-03 16:32:38,456 - INFO - URL https://www.eversports.de/s/a-heart-for-poledance is valid.\n"
     ]
    },
    {
     "name": "stdout",
     "output_type": "stream",
     "text": [
      "Scraping Pole Studio Data from https://www.eversports.de/s/a-heart-for-poledance...\n"
     ]
    },
    {
     "name": "stderr",
     "output_type": "stream",
     "text": [
      "Processing URLs:  21%|██        | 71/337 [05:48<14:11,  3.20s/it, Current URL: https://www.eversports.de/s/a-heart-for-poledance]  "
     ]
    },
    {
     "name": "stdout",
     "output_type": "stream",
     "text": [
      "Processing completed.\n",
      "Pole Studio Data: 1 entries\n",
      "Starting URL reconstruction...\n"
     ]
    },
    {
     "name": "stderr",
     "output_type": "stream",
     "text": [
      "2024-02-03 16:32:41,487 - INFO - Processing URL 1/3: https://www.eversports.de/s/studio-nienke\n"
     ]
    },
    {
     "name": "stdout",
     "output_type": "stream",
     "text": [
      "Error reconstructing URL for 'Kurse': Unrecognized text: 'Kurse'\n",
      "Converting to DataFrame...\n",
      "Validating URLs...\n"
     ]
    },
    {
     "name": "stderr",
     "output_type": "stream",
     "text": [
      "2024-02-03 16:32:43,670 - INFO - URL https://www.eversports.de/s/studio-nienke is valid.\n",
      "2024-02-03 16:32:43,671 - INFO - Processing URL 2/3: https://www.eversports.de/sp/studio-nienke\n",
      "2024-02-03 16:32:44,873 - INFO - URL https://www.eversports.de/sp/studio-nienke is not valid.\n",
      "2024-02-03 16:32:44,874 - INFO - Processing URL 3/3: https://www.eversports.de/s/studio-nienke/team\n",
      "2024-02-03 16:32:46,137 - INFO - URL https://www.eversports.de/s/studio-nienke/team is valid.\n"
     ]
    },
    {
     "name": "stdout",
     "output_type": "stream",
     "text": [
      "Scraping Pole Studio Data from https://www.eversports.de/s/studio-nienke...\n"
     ]
    },
    {
     "name": "stderr",
     "output_type": "stream",
     "text": [
      "Processing URLs:  21%|██▏       | 72/337 [05:55<19:30,  4.42s/it, Current URL: https://www.eversports.de/s/studio-nienke]        "
     ]
    },
    {
     "name": "stdout",
     "output_type": "stream",
     "text": [
      "Processing completed.\n",
      "Pole Studio Data: 1 entries\n",
      "Starting URL reconstruction...\n"
     ]
    },
    {
     "name": "stderr",
     "output_type": "stream",
     "text": [
      "Processing URLs:  22%|██▏       | 73/337 [05:56<15:11,  3.45s/it, Current URL: https://www.eversports.de/s/tanzstudio-redlightdance-berlin]"
     ]
    },
    {
     "name": "stdout",
     "output_type": "stream",
     "text": [
      "Error during HTTP request: 404 Client Error: Not Found for url: https://www.eversports.de/s/tanzstudio-redlightdance-berlin\n",
      "Converting to DataFrame...\n",
      "Validating URLs...\n",
      "Processing completed.\n",
      "Starting URL reconstruction...\n"
     ]
    },
    {
     "name": "stderr",
     "output_type": "stream",
     "text": [
      "Processing URLs:  22%|██▏       | 74/337 [05:58<12:09,  2.77s/it, Current URL: https://www.eversports.de/s/vi-dance-hamm]                  "
     ]
    },
    {
     "name": "stdout",
     "output_type": "stream",
     "text": [
      "Error during HTTP request: 404 Client Error: Not Found for url: https://www.eversports.de/s/vi-dance-hamm\n",
      "Converting to DataFrame...\n",
      "Validating URLs...\n",
      "Processing completed.\n",
      "Starting URL reconstruction...\n"
     ]
    },
    {
     "name": "stderr",
     "output_type": "stream",
     "text": [
      "Processing URLs:  22%|██▏       | 75/337 [05:59<10:05,  2.31s/it, Current URL: https://www.eversports.de/s/mmc-dance-studio]"
     ]
    },
    {
     "name": "stdout",
     "output_type": "stream",
     "text": [
      "Error during HTTP request: 404 Client Error: Not Found for url: https://www.eversports.de/s/mmc-dance-studio\n",
      "Converting to DataFrame...\n",
      "Validating URLs...\n",
      "Processing completed.\n",
      "Starting URL reconstruction...\n"
     ]
    },
    {
     "name": "stderr",
     "output_type": "stream",
     "text": [
      "Processing URLs:  23%|██▎       | 76/337 [06:00<08:36,  1.98s/it, Current URL: https://www.eversports.de/s/pole-acrobatics-deggingen]"
     ]
    },
    {
     "name": "stdout",
     "output_type": "stream",
     "text": [
      "Error during HTTP request: 404 Client Error: Not Found for url: https://www.eversports.de/s/pole-acrobatics-deggingen\n",
      "Converting to DataFrame...\n",
      "Validating URLs...\n",
      "Processing completed.\n",
      "Starting URL reconstruction...\n"
     ]
    },
    {
     "name": "stderr",
     "output_type": "stream",
     "text": [
      "2024-02-03 16:32:52,989 - INFO - Processing URL 1/3: https://www.eversports.de/s/janardana-yoga\n"
     ]
    },
    {
     "name": "stdout",
     "output_type": "stream",
     "text": [
      "Error reconstructing URL for 'Ausbildungen': Unrecognized text: 'Ausbildungen'\n",
      "Converting to DataFrame...\n",
      "Validating URLs...\n"
     ]
    },
    {
     "name": "stderr",
     "output_type": "stream",
     "text": [
      "2024-02-03 16:32:55,342 - INFO - URL https://www.eversports.de/s/janardana-yoga is valid.\n",
      "2024-02-03 16:32:55,343 - INFO - Processing URL 2/3: https://www.eversports.de/sp/janardana-yoga\n",
      "2024-02-03 16:32:56,575 - INFO - URL https://www.eversports.de/sp/janardana-yoga is valid.\n",
      "2024-02-03 16:32:56,576 - INFO - Processing URL 3/3: https://www.eversports.de/s/janardana-yoga/team\n",
      "2024-02-03 16:32:57,916 - INFO - URL https://www.eversports.de/s/janardana-yoga/team is valid.\n"
     ]
    },
    {
     "name": "stdout",
     "output_type": "stream",
     "text": [
      "Scraping Pole Studio Data from https://www.eversports.de/s/janardana-yoga...\n"
     ]
    },
    {
     "name": "stderr",
     "output_type": "stream",
     "text": [
      "Processing URLs:  23%|██▎       | 77/337 [06:07<14:52,  3.43s/it, Current URL: https://www.eversports.de/s/janardana-yoga]           "
     ]
    },
    {
     "name": "stdout",
     "output_type": "stream",
     "text": [
      "Processing completed.\n",
      "Pole Studio Data: 1 entries\n",
      "Starting URL reconstruction...\n"
     ]
    },
    {
     "name": "stderr",
     "output_type": "stream",
     "text": [
      "2024-02-03 16:33:00,110 - INFO - Processing URL 1/3: https://www.eversports.de/s/ima-intentional-movement-academy\n"
     ]
    },
    {
     "name": "stdout",
     "output_type": "stream",
     "text": [
      "Error reconstructing URL for 'Retreats': Unrecognized text: 'Retreats'\n",
      "Converting to DataFrame...\n",
      "Validating URLs...\n"
     ]
    },
    {
     "name": "stderr",
     "output_type": "stream",
     "text": [
      "2024-02-03 16:33:01,552 - INFO - URL https://www.eversports.de/s/ima-intentional-movement-academy is valid.\n",
      "2024-02-03 16:33:01,553 - INFO - Processing URL 2/3: https://www.eversports.de/sp/ima-intentional-movement-academy\n",
      "2024-02-03 16:33:02,758 - INFO - URL https://www.eversports.de/sp/ima-intentional-movement-academy is valid.\n",
      "2024-02-03 16:33:02,759 - INFO - Processing URL 3/3: https://www.eversports.de/s/ima-intentional-movement-academy/team\n",
      "2024-02-03 16:33:03,982 - INFO - URL https://www.eversports.de/s/ima-intentional-movement-academy/team is valid.\n"
     ]
    },
    {
     "name": "stdout",
     "output_type": "stream",
     "text": [
      "Scraping Pole Studio Data from https://www.eversports.de/s/ima-intentional-movement-academy...\n"
     ]
    },
    {
     "name": "stderr",
     "output_type": "stream",
     "text": [
      "Processing URLs:  23%|██▎       | 78/337 [06:13<18:34,  4.30s/it, Current URL: https://www.eversports.de/s/ima-intentional-movement-academy]"
     ]
    },
    {
     "name": "stdout",
     "output_type": "stream",
     "text": [
      "Processing completed.\n",
      "Pole Studio Data: 1 entries\n",
      "Starting URL reconstruction...\n"
     ]
    },
    {
     "name": "stderr",
     "output_type": "stream",
     "text": [
      "Processing URLs:  23%|██▎       | 79/337 [06:14<14:36,  3.40s/it, Current URL: https://www.eversports.de/s/tanzteufel-emmendingen]          "
     ]
    },
    {
     "name": "stdout",
     "output_type": "stream",
     "text": [
      "Error during HTTP request: 404 Client Error: Not Found for url: https://www.eversports.de/s/tanzteufel-emmendingen\n",
      "Converting to DataFrame...\n",
      "Validating URLs...\n",
      "Processing completed.\n",
      "Starting URL reconstruction...\n"
     ]
    },
    {
     "name": "stderr",
     "output_type": "stream",
     "text": [
      "Processing URLs:  24%|██▎       | 80/337 [06:16<12:06,  2.83s/it, Current URL: https://www.eversports.de/s/le-serpent-rouge]      "
     ]
    },
    {
     "name": "stdout",
     "output_type": "stream",
     "text": [
      "Error during HTTP request: 404 Client Error: Not Found for url: https://www.eversports.de/s/le-serpent-rouge\n",
      "Converting to DataFrame...\n",
      "Validating URLs...\n",
      "Processing completed.\n",
      "Starting URL reconstruction...\n"
     ]
    },
    {
     "name": "stderr",
     "output_type": "stream",
     "text": [
      "Processing URLs:  24%|██▍       | 81/337 [06:17<10:03,  2.36s/it, Current URL: https://www.eversports.de/s/monopole-dance]  "
     ]
    },
    {
     "name": "stdout",
     "output_type": "stream",
     "text": [
      "Error during HTTP request: 404 Client Error: Not Found for url: https://www.eversports.de/s/monopole-dance\n",
      "Converting to DataFrame...\n",
      "Validating URLs...\n",
      "Processing completed.\n",
      "Starting URL reconstruction...\n"
     ]
    },
    {
     "name": "stderr",
     "output_type": "stream",
     "text": [
      "2024-02-03 16:33:10,363 - INFO - Processing URL 1/4: https://www.eversports.de/s/soultide\n"
     ]
    },
    {
     "name": "stdout",
     "output_type": "stream",
     "text": [
      "Error reconstructing URL for 'Retreats': Unrecognized text: 'Retreats'\n",
      "Converting to DataFrame...\n",
      "Validating URLs...\n"
     ]
    },
    {
     "name": "stderr",
     "output_type": "stream",
     "text": [
      "2024-02-03 16:33:11,765 - INFO - URL https://www.eversports.de/s/soultide is valid.\n",
      "2024-02-03 16:33:11,767 - INFO - Processing URL 2/4: https://www.eversports.de/sw/soultide\n",
      "2024-02-03 16:33:13,047 - INFO - URL https://www.eversports.de/sw/soultide is valid.\n",
      "2024-02-03 16:33:13,047 - INFO - Processing URL 3/4: https://www.eversports.de/sp/soultide\n",
      "2024-02-03 16:33:14,321 - INFO - URL https://www.eversports.de/sp/soultide is valid.\n",
      "2024-02-03 16:33:14,322 - INFO - Processing URL 4/4: https://www.eversports.de/s/soultide/team\n",
      "2024-02-03 16:33:15,632 - INFO - URL https://www.eversports.de/s/soultide/team is valid.\n"
     ]
    },
    {
     "name": "stdout",
     "output_type": "stream",
     "text": [
      "Scraping Pole Studio Data from https://www.eversports.de/s/soultide...\n",
      "Scraping Workshops Data from https://www.eversports.de/sw/soultide...\n",
      "Scraping Workshop Details from https://www.eversports.de/e/workshop/Q5aPZDK...\n",
      "Scraping Workshop Details from https://www.eversports.de/e/workshop/U2ElOtm...\n",
      "Scraping Workshop Details from https://www.eversports.de/e/workshop/npdGKjQ...\n"
     ]
    },
    {
     "name": "stderr",
     "output_type": "stream",
     "text": [
      "Processing URLs:  24%|██▍       | 82/337 [06:30<23:27,  5.52s/it, Current URL: https://www.eversports.de/s/soultide]      "
     ]
    },
    {
     "name": "stdout",
     "output_type": "stream",
     "text": [
      "Processing completed.\n",
      "Pole Studio Data: 1 entries\n",
      "Workshops Data: 3 entries\n",
      "Workshop Details: 3 entries\n",
      "Starting URL reconstruction...\n"
     ]
    },
    {
     "name": "stderr",
     "output_type": "stream",
     "text": [
      "Processing URLs:  25%|██▍       | 83/337 [06:31<17:54,  4.23s/it, Current URL: https://www.eversports.de/s/lea-aqua]"
     ]
    },
    {
     "name": "stdout",
     "output_type": "stream",
     "text": [
      "Error during HTTP request: 404 Client Error: Not Found for url: https://www.eversports.de/s/lea-aqua\n",
      "Converting to DataFrame...\n",
      "Validating URLs...\n",
      "Processing completed.\n",
      "Starting URL reconstruction...\n"
     ]
    },
    {
     "name": "stderr",
     "output_type": "stream",
     "text": [
      "2024-02-03 16:33:24,121 - INFO - Processing URL 1/1: https://www.eversports.de/s/poledance-4-you\n"
     ]
    },
    {
     "name": "stdout",
     "output_type": "stream",
     "text": [
      "Converting to DataFrame...\n",
      "Validating URLs...\n"
     ]
    },
    {
     "name": "stderr",
     "output_type": "stream",
     "text": [
      "2024-02-03 16:33:25,387 - INFO - URL https://www.eversports.de/s/poledance-4-you is valid.\n"
     ]
    },
    {
     "name": "stdout",
     "output_type": "stream",
     "text": [
      "Scraping Pole Studio Data from https://www.eversports.de/s/poledance-4-you...\n"
     ]
    },
    {
     "name": "stderr",
     "output_type": "stream",
     "text": [
      "Processing URLs:  25%|██▍       | 84/337 [06:34<16:10,  3.84s/it, Current URL: https://www.eversports.de/s/poledance-4-you]"
     ]
    },
    {
     "name": "stdout",
     "output_type": "stream",
     "text": [
      "Processing completed.\n",
      "Pole Studio Data: 1 entries\n",
      "Starting URL reconstruction...\n"
     ]
    },
    {
     "name": "stderr",
     "output_type": "stream",
     "text": [
      "Processing URLs:  25%|██▌       | 85/337 [06:36<13:26,  3.20s/it, Current URL: https://www.eversports.de/s/pole-dance-academy-hameln]"
     ]
    },
    {
     "name": "stdout",
     "output_type": "stream",
     "text": [
      "Error during HTTP request: 404 Client Error: Not Found for url: https://www.eversports.de/s/pole-dance-academy-hameln\n",
      "Converting to DataFrame...\n",
      "Validating URLs...\n",
      "Processing completed.\n",
      "Starting URL reconstruction...\n"
     ]
    },
    {
     "name": "stderr",
     "output_type": "stream",
     "text": [
      "Processing URLs:  26%|██▌       | 86/337 [06:38<11:48,  2.82s/it, Current URL: https://www.eversports.de/s/poledreams]               "
     ]
    },
    {
     "name": "stdout",
     "output_type": "stream",
     "text": [
      "Error during HTTP request: 404 Client Error: Not Found for url: https://www.eversports.de/s/poledreams\n",
      "Converting to DataFrame...\n",
      "Validating URLs...\n",
      "Processing completed.\n",
      "Starting URL reconstruction...\n"
     ]
    },
    {
     "name": "stderr",
     "output_type": "stream",
     "text": [
      "Processing URLs:  26%|██▌       | 87/337 [06:39<09:40,  2.32s/it, Current URL: https://www.eversports.de/s/dance-&-pole-leverkusen]"
     ]
    },
    {
     "name": "stdout",
     "output_type": "stream",
     "text": [
      "Error during HTTP request: 404 Client Error: Not Found for url: https://www.eversports.de/s/dance-&-pole-leverkusen\n",
      "Converting to DataFrame...\n",
      "Validating URLs...\n",
      "Processing completed.\n",
      "Starting URL reconstruction...\n"
     ]
    },
    {
     "name": "stderr",
     "output_type": "stream",
     "text": [
      "Processing URLs:  26%|██▌       | 88/337 [06:40<08:18,  2.00s/it, Current URL: https://www.eversports.de/s/nordpole-studio]        "
     ]
    },
    {
     "name": "stdout",
     "output_type": "stream",
     "text": [
      "Error during HTTP request: 404 Client Error: Not Found for url: https://www.eversports.de/s/nordpole-studio\n",
      "Converting to DataFrame...\n",
      "Validating URLs...\n",
      "Processing completed.\n",
      "Starting URL reconstruction...\n"
     ]
    },
    {
     "name": "stderr",
     "output_type": "stream",
     "text": [
      "Processing URLs:  26%|██▋       | 89/337 [06:42<07:25,  1.80s/it, Current URL: https://www.eversports.de/s/polemagique]    "
     ]
    },
    {
     "name": "stdout",
     "output_type": "stream",
     "text": [
      "Error during HTTP request: 404 Client Error: Not Found for url: https://www.eversports.de/s/polemagique\n",
      "Converting to DataFrame...\n",
      "Validating URLs...\n",
      "Processing completed.\n",
      "Starting URL reconstruction...\n"
     ]
    },
    {
     "name": "stderr",
     "output_type": "stream",
     "text": [
      "2024-02-03 16:33:34,640 - INFO - Processing URL 1/4: https://www.eversports.de/s/schoenheitstanz-studio\n"
     ]
    },
    {
     "name": "stdout",
     "output_type": "stream",
     "text": [
      "Error reconstructing URL for 'Events': Unrecognized text: 'Events'\n",
      "Converting to DataFrame...\n",
      "Validating URLs...\n"
     ]
    },
    {
     "name": "stderr",
     "output_type": "stream",
     "text": [
      "2024-02-03 16:33:36,123 - INFO - URL https://www.eversports.de/s/schoenheitstanz-studio is valid.\n",
      "2024-02-03 16:33:36,125 - INFO - Processing URL 2/4: https://www.eversports.de/sw/schoenheitstanz-studio\n",
      "2024-02-03 16:33:41,602 - INFO - URL https://www.eversports.de/sw/schoenheitstanz-studio is valid.\n",
      "2024-02-03 16:33:41,602 - INFO - Processing URL 3/4: https://www.eversports.de/sp/schoenheitstanz-studio\n",
      "2024-02-03 16:33:42,884 - INFO - URL https://www.eversports.de/sp/schoenheitstanz-studio is valid.\n",
      "2024-02-03 16:33:42,885 - INFO - Processing URL 4/4: https://www.eversports.de/s/schoenheitstanz-studio/team\n",
      "2024-02-03 16:33:44,423 - INFO - URL https://www.eversports.de/s/schoenheitstanz-studio/team is valid.\n"
     ]
    },
    {
     "name": "stdout",
     "output_type": "stream",
     "text": [
      "Scraping Pole Studio Data from https://www.eversports.de/s/schoenheitstanz-studio...\n",
      "Scraping Workshops Data from https://www.eversports.de/sw/schoenheitstanz-studio...\n",
      "Scraping Workshop Details from https://www.eversports.de/e/workshop/U7zlEnt...\n",
      "Scraping Workshop Details from https://www.eversports.de/e/workshop/FWAxvoS...\n",
      "Scraping Workshop Details from https://www.eversports.de/e/workshop/YHVJqpe...\n",
      "Scraping Workshop Details from https://www.eversports.de/e/workshop/7TGSxs7...\n",
      "Scraping Workshop Details from https://www.eversports.de/e/workshop/PJH8px9...\n",
      "Scraping Workshop Details from https://www.eversports.de/e/workshop/TIB5eun...\n",
      "Scraping Workshop Details from https://www.eversports.de/e/workshop/AusEWhX...\n",
      "Scraping Workshop Details from https://www.eversports.de/e/workshop/EXI9bhu...\n",
      "Scraping Workshop Details from https://www.eversports.de/e/workshop/-fUr-r3...\n",
      "Scraping Workshop Details from https://www.eversports.de/e/workshop/8ZaKFif...\n",
      "Scraping Workshop Details from https://www.eversports.de/e/workshop/ENyQnil...\n",
      "Scraping Workshop Details from https://www.eversports.de/e/workshop/k-lte3C...\n",
      "Scraping Workshop Details from https://www.eversports.de/e/workshop/W4EOuNp...\n",
      "Scraping Workshop Details from https://www.eversports.de/e/workshop/6bAW9KR...\n",
      "Scraping Workshop Details from https://www.eversports.de/e/workshop/o_XLfIC...\n",
      "Scraping Workshop Details from https://www.eversports.de/e/workshop/npP7JVG...\n",
      "Scraping Workshop Details from https://www.eversports.de/e/workshop/5sKuQHR...\n",
      "Scraping Workshop Details from https://www.eversports.de/e/workshop/nY-OhUe...\n",
      "Scraping Workshop Details from https://www.eversports.de/e/workshop/e0T0khi...\n",
      "Scraping Workshop Details from https://www.eversports.de/e/workshop/LD103vJ...\n",
      "Scraping Workshop Details from https://www.eversports.de/e/workshop/xCayZIW...\n",
      "Scraping Workshop Details from https://www.eversports.de/e/workshop/nM6r0Ic...\n",
      "Scraping Workshop Details from https://www.eversports.de/e/workshop/hQ8U2tE...\n",
      "Scraping Workshop Details from https://www.eversports.de/e/workshop/CVUleH8...\n",
      "Scraping Workshop Details from https://www.eversports.de/e/workshop/ZqXA7Y8...\n",
      "Scraping Workshop Details from https://www.eversports.de/e/workshop/hgCxZm6...\n",
      "Scraping Workshop Details from https://www.eversports.de/e/workshop/VU5c6C_...\n",
      "Scraping Workshop Details from https://www.eversports.de/e/workshop/inR_xoX...\n",
      "Scraping Workshop Details from https://www.eversports.de/e/workshop/3CN7roB...\n",
      "Scraping Workshop Details from https://www.eversports.de/e/workshop/hONC_aO...\n",
      "Scraping Workshop Details from https://www.eversports.de/e/workshop/A5lJjTH...\n",
      "Scraping Workshop Details from https://www.eversports.de/e/workshop/ygw2_TL...\n",
      "Scraping Workshop Details from https://www.eversports.de/e/workshop/6p_z1vi...\n",
      "Scraping Workshop Details from https://www.eversports.de/e/workshop/hYh8ik3...\n",
      "Scraping Workshop Details from https://www.eversports.de/e/workshop/Tqtzdzb...\n",
      "Scraping Workshop Details from https://www.eversports.de/e/workshop/EBZuEA1...\n",
      "Scraping Workshop Details from https://www.eversports.de/e/workshop/bkSlugn...\n",
      "Scraping Workshop Details from https://www.eversports.de/e/workshop/Nv15_mw...\n",
      "Scraping Workshop Details from https://www.eversports.de/e/workshop/SLy-s_i...\n",
      "Scraping Workshop Details from https://www.eversports.de/e/workshop/I09unU9...\n",
      "Scraping Workshop Details from https://www.eversports.de/e/workshop/dcD4Lin...\n",
      "Scraping Workshop Details from https://www.eversports.de/e/workshop/kYpFiaE...\n",
      "Scraping Workshop Details from https://www.eversports.de/e/workshop/1GkBeDT...\n",
      "Scraping Workshop Details from https://www.eversports.de/e/workshop/wTDOHkH...\n",
      "Scraping Workshop Details from https://www.eversports.de/e/workshop/uHk1KUg...\n",
      "Scraping Workshop Details from https://www.eversports.de/e/workshop/hW3O71v...\n",
      "Scraping Workshop Details from https://www.eversports.de/e/workshop/J_WWezC...\n",
      "Scraping Workshop Details from https://www.eversports.de/e/workshop/54itEaz...\n",
      "Scraping Workshop Details from https://www.eversports.de/e/workshop/EDBeHyX...\n",
      "Scraping Workshop Details from https://www.eversports.de/e/workshop/z4rC1sa...\n",
      "Scraping Workshop Details from https://www.eversports.de/e/workshop/rvq2QWJ...\n",
      "Scraping Workshop Details from https://www.eversports.de/e/workshop/_kWyZFK...\n",
      "Scraping Workshop Details from https://www.eversports.de/e/workshop/AN_9D9F...\n",
      "Scraping Workshop Details from https://www.eversports.de/e/workshop/QPoxv4i...\n",
      "Scraping Workshop Details from https://www.eversports.de/e/workshop/3yk1t8C...\n",
      "Scraping Workshop Details from https://www.eversports.de/e/workshop/kVDtH76...\n",
      "Scraping Workshop Details from https://www.eversports.de/e/workshop/4egslRX...\n",
      "Scraping Workshop Details from https://www.eversports.de/e/workshop/UYgHVwy...\n",
      "Scraping Workshop Details from https://www.eversports.de/e/workshop/YpJqTDS...\n",
      "Scraping Workshop Details from https://www.eversports.de/e/workshop/82dGR1f...\n",
      "Scraping Workshop Details from https://www.eversports.de/e/workshop/7uJPxgC...\n",
      "Scraping Workshop Details from https://www.eversports.de/e/workshop/pDjMaOI...\n",
      "Scraping Workshop Details from https://www.eversports.de/e/workshop/xUJF8zC...\n",
      "Scraping Workshop Details from https://www.eversports.de/e/workshop/oCv_Dwa...\n",
      "Scraping Workshop Details from https://www.eversports.de/e/workshop/ot643qA...\n",
      "Scraping Workshop Details from https://www.eversports.de/e/workshop/drIG2eI...\n",
      "Scraping Workshop Details from https://www.eversports.de/e/workshop/iuE5Wsa...\n",
      "Scraping Workshop Details from https://www.eversports.de/e/workshop/nT2TC19...\n",
      "Scraping Workshop Details from https://www.eversports.de/e/workshop/n6KRMjB...\n",
      "Scraping Workshop Details from https://www.eversports.de/e/workshop/qNpxqi5...\n",
      "Scraping Workshop Details from https://www.eversports.de/e/workshop/i2UXxMl...\n",
      "Scraping Workshop Details from https://www.eversports.de/e/workshop/GaGNoGx...\n",
      "Scraping Workshop Details from https://www.eversports.de/e/workshop/gOdtqrR...\n"
     ]
    },
    {
     "name": "stderr",
     "output_type": "stream",
     "text": [
      "Processing URLs:  27%|██▋       | 90/337 [08:52<2:46:05, 40.35s/it, Current URL: https://www.eversports.de/s/schoenheitstanz-studio]"
     ]
    },
    {
     "name": "stdout",
     "output_type": "stream",
     "text": [
      "Processing completed.\n",
      "Pole Studio Data: 1 entries\n",
      "Workshops Data: 73 entries\n",
      "Workshop Details: 73 entries\n",
      "Starting URL reconstruction...\n"
     ]
    },
    {
     "name": "stderr",
     "output_type": "stream",
     "text": [
      "2024-02-03 16:35:44,897 - INFO - Processing URL 1/3: https://www.eversports.de/s/polemotions-tuebingen\n"
     ]
    },
    {
     "name": "stdout",
     "output_type": "stream",
     "text": [
      "Converting to DataFrame...\n",
      "Validating URLs...\n"
     ]
    },
    {
     "name": "stderr",
     "output_type": "stream",
     "text": [
      "2024-02-03 16:35:46,264 - INFO - URL https://www.eversports.de/s/polemotions-tuebingen is valid.\n",
      "2024-02-03 16:35:46,265 - INFO - Processing URL 2/3: https://www.eversports.de/sp/polemotions-tuebingen\n",
      "2024-02-03 16:35:47,559 - INFO - URL https://www.eversports.de/sp/polemotions-tuebingen is valid.\n",
      "2024-02-03 16:35:47,560 - INFO - Processing URL 3/3: https://www.eversports.de/s/polemotions-tuebingen/team\n",
      "2024-02-03 16:35:49,898 - INFO - URL https://www.eversports.de/s/polemotions-tuebingen/team is valid.\n"
     ]
    },
    {
     "name": "stdout",
     "output_type": "stream",
     "text": [
      "Scraping Pole Studio Data from https://www.eversports.de/s/polemotions-tuebingen...\n"
     ]
    },
    {
     "name": "stderr",
     "output_type": "stream",
     "text": [
      "Processing URLs:  27%|██▋       | 91/337 [08:59<2:04:21, 30.33s/it, Current URL: https://www.eversports.de/s/polemotions-tuebingen] "
     ]
    },
    {
     "name": "stdout",
     "output_type": "stream",
     "text": [
      "Processing completed.\n",
      "Pole Studio Data: 1 entries\n",
      "Starting URL reconstruction...\n"
     ]
    },
    {
     "name": "stderr",
     "output_type": "stream",
     "text": [
      "Processing URLs:  27%|██▋       | 92/337 [09:00<1:28:10, 21.60s/it, Current URL: https://www.eversports.de/s/aerial-balance]       "
     ]
    },
    {
     "name": "stdout",
     "output_type": "stream",
     "text": [
      "Error during HTTP request: 404 Client Error: Not Found for url: https://www.eversports.de/s/aerial-balance\n",
      "Converting to DataFrame...\n",
      "Validating URLs...\n",
      "Processing completed.\n",
      "Starting URL reconstruction...\n"
     ]
    },
    {
     "name": "stderr",
     "output_type": "stream",
     "text": [
      "2024-02-03 16:35:53,095 - INFO - Processing URL 1/3: https://www.eversports.de/s/css-aerial-dance-studio\n"
     ]
    },
    {
     "name": "stdout",
     "output_type": "stream",
     "text": [
      "Error reconstructing URL for 'Kurse': Unrecognized text: 'Kurse'\n",
      "Converting to DataFrame...\n",
      "Validating URLs...\n"
     ]
    },
    {
     "name": "stderr",
     "output_type": "stream",
     "text": [
      "2024-02-03 16:35:54,560 - INFO - URL https://www.eversports.de/s/css-aerial-dance-studio is valid.\n",
      "2024-02-03 16:35:54,562 - INFO - Processing URL 2/3: https://www.eversports.de/sp/css-aerial-dance-studio\n",
      "2024-02-03 16:35:55,800 - INFO - URL https://www.eversports.de/sp/css-aerial-dance-studio is valid.\n",
      "2024-02-03 16:35:55,801 - INFO - Processing URL 3/3: https://www.eversports.de/s/css-aerial-dance-studio/team\n",
      "2024-02-03 16:35:57,622 - INFO - URL https://www.eversports.de/s/css-aerial-dance-studio/team is valid.\n"
     ]
    },
    {
     "name": "stdout",
     "output_type": "stream",
     "text": [
      "Scraping Pole Studio Data from https://www.eversports.de/s/css-aerial-dance-studio...\n"
     ]
    },
    {
     "name": "stderr",
     "output_type": "stream",
     "text": [
      "Processing URLs:  28%|██▊       | 93/337 [09:07<1:09:26, 17.08s/it, Current URL: https://www.eversports.de/s/css-aerial-dance-studio]"
     ]
    },
    {
     "name": "stdout",
     "output_type": "stream",
     "text": [
      "Processing completed.\n",
      "Pole Studio Data: 1 entries\n",
      "Starting URL reconstruction...\n"
     ]
    },
    {
     "name": "stderr",
     "output_type": "stream",
     "text": [
      "Processing URLs:  28%|██▊       | 94/337 [09:08<49:53, 12.32s/it, Current URL: https://www.eversports.de/s/pole-fit-nes]             "
     ]
    },
    {
     "name": "stdout",
     "output_type": "stream",
     "text": [
      "Error during HTTP request: 404 Client Error: Not Found for url: https://www.eversports.de/s/pole-fit-nes\n",
      "Converting to DataFrame...\n",
      "Validating URLs...\n",
      "Processing completed.\n",
      "Starting URL reconstruction...\n"
     ]
    },
    {
     "name": "stderr",
     "output_type": "stream",
     "text": [
      "2024-02-03 16:36:00,770 - INFO - Processing URL 1/4: https://www.eversports.de/s/pole-land\n"
     ]
    },
    {
     "name": "stdout",
     "output_type": "stream",
     "text": [
      "Error reconstructing URL for 'Events': Unrecognized text: 'Events'\n",
      "Converting to DataFrame...\n",
      "Validating URLs...\n"
     ]
    },
    {
     "name": "stderr",
     "output_type": "stream",
     "text": [
      "2024-02-03 16:36:02,177 - INFO - URL https://www.eversports.de/s/pole-land is valid.\n",
      "2024-02-03 16:36:02,178 - INFO - Processing URL 2/4: https://www.eversports.de/sw/pole-land\n",
      "2024-02-03 16:36:03,598 - INFO - URL https://www.eversports.de/sw/pole-land is valid.\n",
      "2024-02-03 16:36:03,598 - INFO - Processing URL 3/4: https://www.eversports.de/sp/pole-land\n",
      "2024-02-03 16:36:04,739 - INFO - URL https://www.eversports.de/sp/pole-land is valid.\n",
      "2024-02-03 16:36:04,740 - INFO - Processing URL 4/4: https://www.eversports.de/s/pole-land/team\n",
      "2024-02-03 16:36:06,016 - INFO - URL https://www.eversports.de/s/pole-land/team is valid.\n"
     ]
    },
    {
     "name": "stdout",
     "output_type": "stream",
     "text": [
      "Scraping Pole Studio Data from https://www.eversports.de/s/pole-land...\n",
      "Scraping Workshops Data from https://www.eversports.de/sw/pole-land...\n",
      "Scraping Workshop Details from https://www.eversports.de/e/workshop/ezegoNQ...\n",
      "Scraping Workshop Details from https://www.eversports.de/e/workshop/S8noX1Z...\n",
      "Scraping Workshop Details from https://www.eversports.de/e/workshop/SqEYfO3...\n",
      "Scraping Workshop Details from https://www.eversports.de/e/workshop/OGUBUS8...\n",
      "Scraping Workshop Details from https://www.eversports.de/e/workshop/VVXdiD8...\n"
     ]
    },
    {
     "name": "stderr",
     "output_type": "stream",
     "text": [
      "Processing URLs:  28%|██▊       | 95/337 [09:24<53:59, 13.39s/it, Current URL: https://www.eversports.de/s/pole-land]   "
     ]
    },
    {
     "name": "stdout",
     "output_type": "stream",
     "text": [
      "Processing completed.\n",
      "Pole Studio Data: 1 entries\n",
      "Workshops Data: 5 entries\n",
      "Workshop Details: 5 entries\n",
      "Starting URL reconstruction...\n"
     ]
    },
    {
     "name": "stderr",
     "output_type": "stream",
     "text": [
      "2024-02-03 16:36:17,585 - INFO - Processing URL 1/3: https://www.eversports.de/s/calipso-studio\n"
     ]
    },
    {
     "name": "stdout",
     "output_type": "stream",
     "text": [
      "Error reconstructing URL for 'Kurse': Unrecognized text: 'Kurse'\n",
      "Converting to DataFrame...\n",
      "Validating URLs...\n"
     ]
    },
    {
     "name": "stderr",
     "output_type": "stream",
     "text": [
      "2024-02-03 16:36:19,055 - INFO - URL https://www.eversports.de/s/calipso-studio is valid.\n",
      "2024-02-03 16:36:19,057 - INFO - Processing URL 2/3: https://www.eversports.de/sp/calipso-studio\n",
      "2024-02-03 16:36:21,486 - INFO - URL https://www.eversports.de/sp/calipso-studio is not valid.\n",
      "2024-02-03 16:36:21,486 - INFO - Processing URL 3/3: https://www.eversports.de/s/calipso-studio/team\n",
      "2024-02-03 16:36:22,750 - INFO - URL https://www.eversports.de/s/calipso-studio/team is valid.\n"
     ]
    },
    {
     "name": "stdout",
     "output_type": "stream",
     "text": [
      "Scraping Pole Studio Data from https://www.eversports.de/s/calipso-studio...\n"
     ]
    },
    {
     "name": "stderr",
     "output_type": "stream",
     "text": [
      "Processing URLs:  28%|██▊       | 96/337 [09:32<47:13, 11.76s/it, Current URL: https://www.eversports.de/s/calipso-studio]"
     ]
    },
    {
     "name": "stdout",
     "output_type": "stream",
     "text": [
      "Processing completed.\n",
      "Pole Studio Data: 1 entries\n",
      "Starting URL reconstruction...\n"
     ]
    },
    {
     "name": "stderr",
     "output_type": "stream",
     "text": [
      "Processing URLs:  29%|██▉       | 97/337 [09:33<34:21,  8.59s/it, Current URL: https://www.eversports.de/s/poledance-worms]"
     ]
    },
    {
     "name": "stdout",
     "output_type": "stream",
     "text": [
      "Error during HTTP request: 404 Client Error: Not Found for url: https://www.eversports.de/s/poledance-worms\n",
      "Converting to DataFrame...\n",
      "Validating URLs...\n",
      "Processing completed.\n",
      "Starting URL reconstruction...\n"
     ]
    },
    {
     "name": "stderr",
     "output_type": "stream",
     "text": [
      "2024-02-03 16:36:25,735 - INFO - Processing URL 1/2: https://www.eversports.de/s/annis-pole-dance-uetersen\n"
     ]
    },
    {
     "name": "stdout",
     "output_type": "stream",
     "text": [
      "Error reconstructing URL for 'Trainings': Unrecognized text: 'Trainings'\n",
      "Error reconstructing URL for 'Kurse': Unrecognized text: 'Kurse'\n",
      "Converting to DataFrame...\n",
      "Validating URLs...\n"
     ]
    },
    {
     "name": "stderr",
     "output_type": "stream",
     "text": [
      "2024-02-03 16:36:27,055 - INFO - URL https://www.eversports.de/s/annis-pole-dance-uetersen is valid.\n",
      "2024-02-03 16:36:27,057 - INFO - Processing URL 2/2: https://www.eversports.de/s/annis-pole-dance-uetersen/team\n",
      "2024-02-03 16:36:28,336 - INFO - URL https://www.eversports.de/s/annis-pole-dance-uetersen/team is valid.\n"
     ]
    },
    {
     "name": "stdout",
     "output_type": "stream",
     "text": [
      "Scraping Pole Studio Data from https://www.eversports.de/s/annis-pole-dance-uetersen...\n"
     ]
    },
    {
     "name": "stderr",
     "output_type": "stream",
     "text": [
      "Processing URLs:  29%|██▉       | 98/337 [09:37<29:15,  7.34s/it, Current URL: https://www.eversports.de/s/annis-pole-dance-uetersen]"
     ]
    },
    {
     "name": "stdout",
     "output_type": "stream",
     "text": [
      "Processing completed.\n",
      "Pole Studio Data: 1 entries\n",
      "Starting URL reconstruction...\n"
     ]
    },
    {
     "name": "stderr",
     "output_type": "stream",
     "text": [
      "2024-02-03 16:36:30,325 - INFO - Processing URL 1/1: https://www.eversports.de/s/pole-heaven\n"
     ]
    },
    {
     "name": "stdout",
     "output_type": "stream",
     "text": [
      "Converting to DataFrame...\n",
      "Validating URLs...\n"
     ]
    },
    {
     "name": "stderr",
     "output_type": "stream",
     "text": [
      "2024-02-03 16:36:32,802 - INFO - URL https://www.eversports.de/s/pole-heaven is valid.\n"
     ]
    },
    {
     "name": "stdout",
     "output_type": "stream",
     "text": [
      "Scraping Pole Studio Data from https://www.eversports.de/s/pole-heaven...\n"
     ]
    },
    {
     "name": "stderr",
     "output_type": "stream",
     "text": [
      "Processing URLs:  29%|██▉       | 99/337 [09:42<25:33,  6.44s/it, Current URL: https://www.eversports.de/s/pole-heaven]              "
     ]
    },
    {
     "name": "stdout",
     "output_type": "stream",
     "text": [
      "Processing completed.\n",
      "Pole Studio Data: 1 entries\n",
      "Starting URL reconstruction...\n"
     ]
    },
    {
     "name": "stderr",
     "output_type": "stream",
     "text": [
      "2024-02-03 16:36:34,730 - INFO - Processing URL 1/4: https://www.eversports.de/s/polespirit\n"
     ]
    },
    {
     "name": "stdout",
     "output_type": "stream",
     "text": [
      "Converting to DataFrame...\n",
      "Validating URLs...\n"
     ]
    },
    {
     "name": "stderr",
     "output_type": "stream",
     "text": [
      "2024-02-03 16:36:35,987 - INFO - URL https://www.eversports.de/s/polespirit is valid.\n",
      "2024-02-03 16:36:35,988 - INFO - Processing URL 2/4: https://www.eversports.de/sw/polespirit\n",
      "2024-02-03 16:36:37,319 - INFO - URL https://www.eversports.de/sw/polespirit is valid.\n",
      "2024-02-03 16:36:37,320 - INFO - Processing URL 3/4: https://www.eversports.de/sp/polespirit\n",
      "2024-02-03 16:36:38,735 - INFO - URL https://www.eversports.de/sp/polespirit is valid.\n",
      "2024-02-03 16:36:38,737 - INFO - Processing URL 4/4: https://www.eversports.de/s/polespirit/team\n",
      "2024-02-03 16:36:40,802 - INFO - URL https://www.eversports.de/s/polespirit/team is valid.\n"
     ]
    },
    {
     "name": "stdout",
     "output_type": "stream",
     "text": [
      "Scraping Pole Studio Data from https://www.eversports.de/s/polespirit...\n",
      "Scraping Workshops Data from https://www.eversports.de/sw/polespirit...\n",
      "Scraping Workshop Details from https://www.eversports.de/e/workshop/xUH0CLo...\n",
      "Scraping Workshop Details from https://www.eversports.de/e/workshop/GpBpifi...\n"
     ]
    },
    {
     "name": "stderr",
     "output_type": "stream",
     "text": [
      "Processing URLs:  30%|██▉       | 100/337 [09:54<31:54,  8.08s/it, Current URL: https://www.eversports.de/s/polespirit] "
     ]
    },
    {
     "name": "stdout",
     "output_type": "stream",
     "text": [
      "Processing completed.\n",
      "Pole Studio Data: 1 entries\n",
      "Workshops Data: 2 entries\n",
      "Workshop Details: 2 entries\n",
      "Starting URL reconstruction...\n"
     ]
    },
    {
     "name": "stderr",
     "output_type": "stream",
     "text": [
      "Processing URLs:  30%|██▉       | 101/337 [09:55<23:39,  6.02s/it, Current URL: https://www.eversports.de/s/360-grad-soulsports]"
     ]
    },
    {
     "name": "stdout",
     "output_type": "stream",
     "text": [
      "Error during HTTP request: 404 Client Error: Not Found for url: https://www.eversports.de/s/360-grad-soulsports\n",
      "Converting to DataFrame...\n",
      "Validating URLs...\n",
      "Processing completed.\n",
      "Starting URL reconstruction...\n"
     ]
    },
    {
     "name": "stderr",
     "output_type": "stream",
     "text": [
      "Processing URLs:  30%|███       | 102/337 [09:59<21:12,  5.41s/it, Current URL: https://www.eversports.de/s/t-tanzstück-wolfsburg]"
     ]
    },
    {
     "name": "stdout",
     "output_type": "stream",
     "text": [
      "Error during HTTP request: Exceeded 30 redirects.\n",
      "Converting to DataFrame...\n",
      "Validating URLs...\n",
      "Processing completed.\n",
      "Starting URL reconstruction...\n"
     ]
    },
    {
     "name": "stderr",
     "output_type": "stream",
     "text": [
      "Processing URLs:  31%|███       | 103/337 [10:00<16:13,  4.16s/it, Current URL: https://www.eversports.de/s/metropole-dance-now1] "
     ]
    },
    {
     "name": "stdout",
     "output_type": "stream",
     "text": [
      "Error during HTTP request: 404 Client Error: Not Found for url: https://www.eversports.de/s/metropole-dance-now1\n",
      "Converting to DataFrame...\n",
      "Validating URLs...\n",
      "Processing completed.\n",
      "Starting URL reconstruction...\n"
     ]
    },
    {
     "name": "stderr",
     "output_type": "stream",
     "text": [
      "Processing URLs:  31%|███       | 104/337 [10:01<12:42,  3.27s/it, Current URL: https://www.eversports.de/s/pole-dance-power]    "
     ]
    },
    {
     "name": "stdout",
     "output_type": "stream",
     "text": [
      "Error during HTTP request: 404 Client Error: Not Found for url: https://www.eversports.de/s/pole-dance-power\n",
      "Converting to DataFrame...\n",
      "Validating URLs...\n",
      "Processing completed.\n",
      "Starting URL reconstruction...\n"
     ]
    },
    {
     "name": "stderr",
     "output_type": "stream",
     "text": [
      "2024-02-03 16:36:54,131 - INFO - Processing URL 1/4: https://www.eversports.de/s/schwerelos-muenster\n"
     ]
    },
    {
     "name": "stdout",
     "output_type": "stream",
     "text": [
      "Error reconstructing URL for 'Trainings': Unrecognized text: 'Trainings'\n",
      "Error reconstructing URL for 'Kurse': Unrecognized text: 'Kurse'\n",
      "Converting to DataFrame...\n",
      "Validating URLs...\n"
     ]
    },
    {
     "name": "stderr",
     "output_type": "stream",
     "text": [
      "2024-02-03 16:36:55,484 - INFO - URL https://www.eversports.de/s/schwerelos-muenster is valid.\n",
      "2024-02-03 16:36:55,485 - INFO - Processing URL 2/4: https://www.eversports.de/sw/schwerelos-muenster\n",
      "2024-02-03 16:36:56,798 - INFO - URL https://www.eversports.de/sw/schwerelos-muenster is valid.\n",
      "2024-02-03 16:36:56,798 - INFO - Processing URL 3/4: https://www.eversports.de/sp/schwerelos-muenster\n",
      "2024-02-03 16:36:58,029 - INFO - URL https://www.eversports.de/sp/schwerelos-muenster is valid.\n",
      "2024-02-03 16:36:58,029 - INFO - Processing URL 4/4: https://www.eversports.de/s/schwerelos-muenster/team\n",
      "2024-02-03 16:36:59,651 - INFO - URL https://www.eversports.de/s/schwerelos-muenster/team is valid.\n"
     ]
    },
    {
     "name": "stdout",
     "output_type": "stream",
     "text": [
      "Scraping Pole Studio Data from https://www.eversports.de/s/schwerelos-muenster...\n",
      "Scraping Workshops Data from https://www.eversports.de/sw/schwerelos-muenster...\n",
      "Scraping Workshop Details from https://www.eversports.de/e/workshop/sJO5aQ1...\n",
      "Scraping Workshop Details from https://www.eversports.de/e/workshop/ZP_skji...\n",
      "Scraping Workshop Details from https://www.eversports.de/e/workshop/T2iJuZb...\n",
      "Scraping Workshop Details from https://www.eversports.de/e/workshop/JKD4cQ5...\n",
      "Scraping Workshop Details from https://www.eversports.de/e/workshop/fVM0ULF...\n",
      "Scraping Workshop Details from https://www.eversports.de/e/workshop/9fkoAyU...\n",
      "Scraping Workshop Details from https://www.eversports.de/e/workshop/leDNfNr...\n",
      "Scraping Workshop Details from https://www.eversports.de/e/workshop/ahCVYvh...\n",
      "Scraping Workshop Details from https://www.eversports.de/e/workshop/RjsCf5S...\n",
      "Scraping Workshop Details from https://www.eversports.de/e/workshop/ZOxKKrM...\n",
      "Scraping Workshop Details from https://www.eversports.de/e/workshop/Zq0GQNB...\n",
      "Scraping Workshop Details from https://www.eversports.de/e/workshop/xPGUjbS...\n"
     ]
    },
    {
     "name": "stderr",
     "output_type": "stream",
     "text": [
      "Processing URLs:  31%|███       | 105/337 [10:41<55:11, 14.27s/it, Current URL: https://www.eversports.de/s/schwerelos-muenster]"
     ]
    },
    {
     "name": "stdout",
     "output_type": "stream",
     "text": [
      "Processing completed.\n",
      "Pole Studio Data: 1 entries\n",
      "Workshops Data: 12 entries\n",
      "Workshop Details: 12 entries\n",
      "Starting URL reconstruction...\n"
     ]
    },
    {
     "name": "stderr",
     "output_type": "stream",
     "text": [
      "2024-02-03 16:37:33,972 - INFO - Processing URL 1/1: https://www.eversports.de/s/lush-motion\n"
     ]
    },
    {
     "name": "stdout",
     "output_type": "stream",
     "text": [
      "Converting to DataFrame...\n",
      "Validating URLs...\n"
     ]
    },
    {
     "name": "stderr",
     "output_type": "stream",
     "text": [
      "2024-02-03 16:37:35,236 - INFO - URL https://www.eversports.de/s/lush-motion is valid.\n"
     ]
    },
    {
     "name": "stdout",
     "output_type": "stream",
     "text": [
      "Scraping Pole Studio Data from https://www.eversports.de/s/lush-motion...\n"
     ]
    },
    {
     "name": "stderr",
     "output_type": "stream",
     "text": [
      "Processing URLs:  31%|███▏      | 106/337 [10:44<41:51, 10.87s/it, Current URL: https://www.eversports.de/s/lush-motion]        "
     ]
    },
    {
     "name": "stdout",
     "output_type": "stream",
     "text": [
      "Processing completed.\n",
      "Pole Studio Data: 1 entries\n",
      "Starting URL reconstruction...\n"
     ]
    },
    {
     "name": "stderr",
     "output_type": "stream",
     "text": [
      "2024-02-03 16:37:38,077 - INFO - Processing URL 1/3: https://www.eversports.de/s/infinity-polesports\n"
     ]
    },
    {
     "name": "stdout",
     "output_type": "stream",
     "text": [
      "Converting to DataFrame...\n",
      "Validating URLs...\n"
     ]
    },
    {
     "name": "stderr",
     "output_type": "stream",
     "text": [
      "2024-02-03 16:37:40,014 - INFO - URL https://www.eversports.de/s/infinity-polesports is valid.\n",
      "2024-02-03 16:37:40,015 - INFO - Processing URL 2/3: https://www.eversports.de/sp/infinity-polesports\n",
      "2024-02-03 16:37:41,234 - INFO - URL https://www.eversports.de/sp/infinity-polesports is valid.\n",
      "2024-02-03 16:37:41,235 - INFO - Processing URL 3/3: https://www.eversports.de/s/infinity-polesports/team\n",
      "2024-02-03 16:37:42,487 - INFO - URL https://www.eversports.de/s/infinity-polesports/team is valid.\n"
     ]
    },
    {
     "name": "stdout",
     "output_type": "stream",
     "text": [
      "Scraping Pole Studio Data from https://www.eversports.de/s/infinity-polesports...\n"
     ]
    },
    {
     "name": "stderr",
     "output_type": "stream",
     "text": [
      "Processing URLs:  32%|███▏      | 107/337 [10:51<37:35,  9.80s/it, Current URL: https://www.eversports.de/s/infinity-polesports]"
     ]
    },
    {
     "name": "stdout",
     "output_type": "stream",
     "text": [
      "Processing completed.\n",
      "Pole Studio Data: 1 entries\n",
      "Starting URL reconstruction...\n"
     ]
    },
    {
     "name": "stderr",
     "output_type": "stream",
     "text": [
      "Processing URLs:  32%|███▏      | 108/337 [10:53<27:40,  7.25s/it, Current URL: https://www.eversports.de/s/mstage-tanzart-bewegung]"
     ]
    },
    {
     "name": "stdout",
     "output_type": "stream",
     "text": [
      "Error during HTTP request: 404 Client Error: Not Found for url: https://www.eversports.de/s/mstage-tanzart-bewegung\n",
      "Converting to DataFrame...\n",
      "Validating URLs...\n",
      "Processing completed.\n",
      "Starting URL reconstruction...\n"
     ]
    },
    {
     "name": "stderr",
     "output_type": "stream",
     "text": [
      "Processing URLs:  32%|███▏      | 109/337 [10:54<20:43,  5.45s/it, Current URL: https://www.eversports.de/s/pole-dance-mettingen]   "
     ]
    },
    {
     "name": "stdout",
     "output_type": "stream",
     "text": [
      "Error during HTTP request: 404 Client Error: Not Found for url: https://www.eversports.de/s/pole-dance-mettingen\n",
      "Converting to DataFrame...\n",
      "Validating URLs...\n",
      "Processing completed.\n",
      "Starting URL reconstruction...\n"
     ]
    },
    {
     "name": "stderr",
     "output_type": "stream",
     "text": [
      "Processing URLs:  33%|███▎      | 110/337 [10:59<20:29,  5.42s/it, Current URL: https://www.eversports.de/s/schwerelos-münster]  "
     ]
    },
    {
     "name": "stdout",
     "output_type": "stream",
     "text": [
      "Error during HTTP request: Exceeded 30 redirects.\n",
      "Converting to DataFrame...\n",
      "Validating URLs...\n",
      "Processing completed.\n",
      "Starting URL reconstruction...\n"
     ]
    },
    {
     "name": "stderr",
     "output_type": "stream",
     "text": [
      "Processing URLs:  33%|███▎      | 111/337 [11:01<15:42,  4.17s/it, Current URL: https://www.eversports.de/s/palazzo-sportivo]  "
     ]
    },
    {
     "name": "stdout",
     "output_type": "stream",
     "text": [
      "Error during HTTP request: 404 Client Error: Not Found for url: https://www.eversports.de/s/palazzo-sportivo\n",
      "Converting to DataFrame...\n",
      "Validating URLs...\n",
      "Processing completed.\n",
      "Starting URL reconstruction...\n"
     ]
    },
    {
     "name": "stderr",
     "output_type": "stream",
     "text": [
      "2024-02-03 16:37:54,093 - INFO - Processing URL 1/4: https://www.eversports.de/s/tsg-blau-gold-giessen-ev\n"
     ]
    },
    {
     "name": "stdout",
     "output_type": "stream",
     "text": [
      "Converting to DataFrame...\n",
      "Validating URLs...\n"
     ]
    },
    {
     "name": "stderr",
     "output_type": "stream",
     "text": [
      "2024-02-03 16:37:55,601 - INFO - URL https://www.eversports.de/s/tsg-blau-gold-giessen-ev is valid.\n",
      "2024-02-03 16:37:55,602 - INFO - Processing URL 2/4: https://www.eversports.de/sw/tsg-blau-gold-giessen-ev\n",
      "2024-02-03 16:37:57,070 - INFO - URL https://www.eversports.de/sw/tsg-blau-gold-giessen-ev is valid.\n",
      "2024-02-03 16:37:57,070 - INFO - Processing URL 3/4: https://www.eversports.de/sp/tsg-blau-gold-giessen-ev\n",
      "2024-02-03 16:37:58,382 - INFO - URL https://www.eversports.de/sp/tsg-blau-gold-giessen-ev is valid.\n",
      "2024-02-03 16:37:58,383 - INFO - Processing URL 4/4: https://www.eversports.de/s/tsg-blau-gold-giessen-ev/team\n",
      "2024-02-03 16:37:59,925 - INFO - URL https://www.eversports.de/s/tsg-blau-gold-giessen-ev/team is valid.\n"
     ]
    },
    {
     "name": "stdout",
     "output_type": "stream",
     "text": [
      "Scraping Pole Studio Data from https://www.eversports.de/s/tsg-blau-gold-giessen-ev...\n",
      "Scraping Workshops Data from https://www.eversports.de/sw/tsg-blau-gold-giessen-ev...\n",
      "Scraping Workshop Details from https://www.eversports.de/e/workshop/Yv4ZcEK...\n",
      "Scraping Workshop Details from https://www.eversports.de/e/workshop/1LJamzo...\n",
      "Scraping Workshop Details from https://www.eversports.de/e/workshop/tFkZ7tt...\n",
      "Scraping Workshop Details from https://www.eversports.de/e/workshop/kTY0ERN...\n"
     ]
    },
    {
     "name": "stderr",
     "output_type": "stream",
     "text": [
      "Processing URLs:  33%|███▎      | 112/337 [11:16<28:30,  7.60s/it, Current URL: https://www.eversports.de/s/tsg-blau-gold-giessen-ev]"
     ]
    },
    {
     "name": "stdout",
     "output_type": "stream",
     "text": [
      "Processing completed.\n",
      "Pole Studio Data: 1 entries\n",
      "Workshops Data: 4 entries\n",
      "Workshop Details: 4 entries\n",
      "Starting URL reconstruction...\n"
     ]
    },
    {
     "name": "stderr",
     "output_type": "stream",
     "text": [
      "Processing URLs:  34%|███▎      | 113/337 [11:18<21:36,  5.79s/it, Current URL: https://www.eversports.de/s/dance-department]        "
     ]
    },
    {
     "name": "stdout",
     "output_type": "stream",
     "text": [
      "Error during HTTP request: 404 Client Error: Not Found for url: https://www.eversports.de/s/dance-department\n",
      "Converting to DataFrame...\n",
      "Validating URLs...\n",
      "Processing completed.\n",
      "Starting URL reconstruction...\n"
     ]
    },
    {
     "name": "stderr",
     "output_type": "stream",
     "text": [
      "Processing URLs:  34%|███▍      | 114/337 [11:19<16:23,  4.41s/it, Current URL: https://www.eversports.de/s/polefriends]     "
     ]
    },
    {
     "name": "stdout",
     "output_type": "stream",
     "text": [
      "Error during HTTP request: 404 Client Error: Not Found for url: https://www.eversports.de/s/polefriends\n",
      "Converting to DataFrame...\n",
      "Validating URLs...\n",
      "Processing completed.\n",
      "Starting URL reconstruction...\n"
     ]
    },
    {
     "name": "stderr",
     "output_type": "stream",
     "text": [
      "2024-02-03 16:38:11,878 - INFO - Processing URL 1/4: https://www.eversports.de/s/pole-acrobatics\n"
     ]
    },
    {
     "name": "stdout",
     "output_type": "stream",
     "text": [
      "Error reconstructing URL for 'Trainings': Unrecognized text: 'Trainings'\n",
      "Converting to DataFrame...\n",
      "Validating URLs...\n"
     ]
    },
    {
     "name": "stderr",
     "output_type": "stream",
     "text": [
      "2024-02-03 16:38:13,348 - INFO - URL https://www.eversports.de/s/pole-acrobatics is valid.\n",
      "2024-02-03 16:38:13,349 - INFO - Processing URL 2/4: https://www.eversports.de/sw/pole-acrobatics\n",
      "2024-02-03 16:38:14,558 - INFO - URL https://www.eversports.de/sw/pole-acrobatics is valid.\n",
      "2024-02-03 16:38:14,559 - INFO - Processing URL 3/4: https://www.eversports.de/sp/pole-acrobatics\n",
      "2024-02-03 16:38:15,778 - INFO - URL https://www.eversports.de/sp/pole-acrobatics is valid.\n",
      "2024-02-03 16:38:15,780 - INFO - Processing URL 4/4: https://www.eversports.de/s/pole-acrobatics/team\n",
      "2024-02-03 16:38:17,048 - INFO - URL https://www.eversports.de/s/pole-acrobatics/team is valid.\n"
     ]
    },
    {
     "name": "stdout",
     "output_type": "stream",
     "text": [
      "Scraping Pole Studio Data from https://www.eversports.de/s/pole-acrobatics...\n",
      "Scraping Workshops Data from https://www.eversports.de/sw/pole-acrobatics...\n",
      "Scraping Workshop Details from https://www.eversports.de/e/workshop/-wGhAaJ...\n"
     ]
    },
    {
     "name": "stderr",
     "output_type": "stream",
     "text": [
      "Processing URLs:  34%|███▍      | 115/337 [11:29<22:07,  5.98s/it, Current URL: https://www.eversports.de/s/pole-acrobatics]"
     ]
    },
    {
     "name": "stdout",
     "output_type": "stream",
     "text": [
      "Processing completed.\n",
      "Pole Studio Data: 1 entries\n",
      "Workshops Data: 1 entries\n",
      "Workshop Details: 1 entries\n",
      "Starting URL reconstruction...\n"
     ]
    },
    {
     "name": "stderr",
     "output_type": "stream",
     "text": [
      "2024-02-03 16:38:21,426 - INFO - Processing URL 1/4: https://www.eversports.de/s/pole-oase\n"
     ]
    },
    {
     "name": "stdout",
     "output_type": "stream",
     "text": [
      "Converting to DataFrame...\n",
      "Validating URLs...\n"
     ]
    },
    {
     "name": "stderr",
     "output_type": "stream",
     "text": [
      "2024-02-03 16:38:22,832 - INFO - URL https://www.eversports.de/s/pole-oase is valid.\n",
      "2024-02-03 16:38:22,833 - INFO - Processing URL 2/4: https://www.eversports.de/sw/pole-oase\n",
      "2024-02-03 16:38:24,083 - INFO - URL https://www.eversports.de/sw/pole-oase is valid.\n",
      "2024-02-03 16:38:24,084 - INFO - Processing URL 3/4: https://www.eversports.de/sp/pole-oase\n",
      "2024-02-03 16:38:25,690 - INFO - URL https://www.eversports.de/sp/pole-oase is valid.\n",
      "2024-02-03 16:38:25,691 - INFO - Processing URL 4/4: https://www.eversports.de/s/pole-oase/team\n",
      "2024-02-03 16:38:26,996 - INFO - URL https://www.eversports.de/s/pole-oase/team is valid.\n"
     ]
    },
    {
     "name": "stdout",
     "output_type": "stream",
     "text": [
      "Scraping Pole Studio Data from https://www.eversports.de/s/pole-oase...\n",
      "Scraping Workshops Data from https://www.eversports.de/sw/pole-oase...\n",
      "Scraping Workshop Details from https://www.eversports.de/e/workshop/9cNbxVS...\n",
      "Scraping Workshop Details from https://www.eversports.de/e/workshop/FkutCDr...\n",
      "Scraping Workshop Details from https://www.eversports.de/e/workshop/qzt25WB...\n"
     ]
    },
    {
     "name": "stderr",
     "output_type": "stream",
     "text": [
      "Processing URLs:  34%|███▍      | 116/337 [11:41<29:20,  7.97s/it, Current URL: https://www.eversports.de/s/pole-oase]      "
     ]
    },
    {
     "name": "stdout",
     "output_type": "stream",
     "text": [
      "Processing completed.\n",
      "Pole Studio Data: 1 entries\n",
      "Workshops Data: 3 entries\n",
      "Workshop Details: 3 entries\n",
      "Starting URL reconstruction...\n"
     ]
    },
    {
     "name": "stderr",
     "output_type": "stream",
     "text": [
      "2024-02-03 16:38:33,968 - INFO - Processing URL 1/3: https://www.eversports.de/s/papillon-dance-and-sport-academy\n"
     ]
    },
    {
     "name": "stdout",
     "output_type": "stream",
     "text": [
      "Converting to DataFrame...\n",
      "Validating URLs...\n"
     ]
    },
    {
     "name": "stderr",
     "output_type": "stream",
     "text": [
      "2024-02-03 16:38:35,379 - INFO - URL https://www.eversports.de/s/papillon-dance-and-sport-academy is valid.\n",
      "2024-02-03 16:38:35,381 - INFO - Processing URL 2/3: https://www.eversports.de/sp/papillon-dance-and-sport-academy\n",
      "2024-02-03 16:38:36,991 - INFO - URL https://www.eversports.de/sp/papillon-dance-and-sport-academy is valid.\n",
      "2024-02-03 16:38:36,992 - INFO - Processing URL 3/3: https://www.eversports.de/s/papillon-dance-and-sport-academy/team\n",
      "2024-02-03 16:38:38,261 - INFO - URL https://www.eversports.de/s/papillon-dance-and-sport-academy/team is valid.\n"
     ]
    },
    {
     "name": "stdout",
     "output_type": "stream",
     "text": [
      "Scraping Pole Studio Data from https://www.eversports.de/s/papillon-dance-and-sport-academy...\n"
     ]
    },
    {
     "name": "stderr",
     "output_type": "stream",
     "text": [
      "Processing URLs:  35%|███▍      | 117/337 [11:55<36:06,  9.85s/it, Current URL: https://www.eversports.de/s/papillon-dance-and-sport-academy]"
     ]
    },
    {
     "name": "stdout",
     "output_type": "stream",
     "text": [
      "Processing completed.\n",
      "Pole Studio Data: 1 entries\n",
      "Starting URL reconstruction...\n"
     ]
    },
    {
     "name": "stderr",
     "output_type": "stream",
     "text": [
      "2024-02-03 16:38:48,246 - INFO - Processing URL 1/4: https://www.eversports.de/s/da-becca-flow-and-fit\n"
     ]
    },
    {
     "name": "stdout",
     "output_type": "stream",
     "text": [
      "Converting to DataFrame...\n",
      "Validating URLs...\n"
     ]
    },
    {
     "name": "stderr",
     "output_type": "stream",
     "text": [
      "2024-02-03 16:38:49,601 - INFO - URL https://www.eversports.de/s/da-becca-flow-and-fit is valid.\n",
      "2024-02-03 16:38:49,602 - INFO - Processing URL 2/4: https://www.eversports.de/sw/da-becca-flow-and-fit\n",
      "2024-02-03 16:38:51,422 - INFO - URL https://www.eversports.de/sw/da-becca-flow-and-fit is valid.\n",
      "2024-02-03 16:38:51,423 - INFO - Processing URL 3/4: https://www.eversports.de/sp/da-becca-flow-and-fit\n",
      "2024-02-03 16:38:53,546 - INFO - URL https://www.eversports.de/sp/da-becca-flow-and-fit is valid.\n",
      "2024-02-03 16:38:53,547 - INFO - Processing URL 4/4: https://www.eversports.de/s/da-becca-flow-and-fit/team\n",
      "2024-02-03 16:38:54,864 - INFO - URL https://www.eversports.de/s/da-becca-flow-and-fit/team is valid.\n"
     ]
    },
    {
     "name": "stdout",
     "output_type": "stream",
     "text": [
      "Scraping Pole Studio Data from https://www.eversports.de/s/da-becca-flow-and-fit...\n",
      "Scraping Workshops Data from https://www.eversports.de/sw/da-becca-flow-and-fit...\n",
      "Scraping Workshop Details from https://www.eversports.de/e/workshop/2z_srY0...\n",
      "Scraping Workshop Details from https://www.eversports.de/e/workshop/o5_MV7J...\n",
      "Scraping Workshop Details from https://www.eversports.de/e/workshop/0u01Mza...\n",
      "Scraping Workshop Details from https://www.eversports.de/e/workshop/DBxar8u...\n",
      "Scraping Workshop Details from https://www.eversports.de/e/workshop/GlPG304...\n",
      "Scraping Workshop Details from https://www.eversports.de/e/workshop/wj20M8W...\n",
      "Scraping Workshop Details from https://www.eversports.de/e/workshop/113IYbR...\n",
      "Scraping Workshop Details from https://www.eversports.de/e/workshop/vyTj8JR...\n",
      "Scraping Workshop Details from https://www.eversports.de/e/workshop/GMeuKSV...\n",
      "Scraping Workshop Details from https://www.eversports.de/e/workshop/461op6s...\n",
      "Scraping Workshop Details from https://www.eversports.de/e/workshop/NrFmto0...\n",
      "Scraping Workshop Details from https://www.eversports.de/e/workshop/km4K7Yv...\n",
      "Scraping Workshop Details from https://www.eversports.de/e/workshop/B2Sz3mv...\n",
      "Scraping Workshop Details from https://www.eversports.de/e/workshop/HhyMbSA...\n",
      "Scraping Workshop Details from https://www.eversports.de/e/workshop/WBlAegH...\n"
     ]
    },
    {
     "name": "stderr",
     "output_type": "stream",
     "text": [
      "Processing URLs:  35%|███▌      | 118/337 [12:28<1:00:28, 16.57s/it, Current URL: https://www.eversports.de/s/da-becca-flow-and-fit]           "
     ]
    },
    {
     "name": "stdout",
     "output_type": "stream",
     "text": [
      "Processing completed.\n",
      "Pole Studio Data: 1 entries\n",
      "Workshops Data: 15 entries\n",
      "Workshop Details: 15 entries\n",
      "Starting URL reconstruction...\n"
     ]
    },
    {
     "name": "stderr",
     "output_type": "stream",
     "text": [
      "2024-02-03 16:39:20,620 - INFO - Processing URL 1/4: https://www.eversports.de/s/poleroom-braunschweig\n"
     ]
    },
    {
     "name": "stdout",
     "output_type": "stream",
     "text": [
      "Error reconstructing URL for 'Trainings': Unrecognized text: 'Trainings'\n",
      "Converting to DataFrame...\n",
      "Validating URLs...\n"
     ]
    },
    {
     "name": "stderr",
     "output_type": "stream",
     "text": [
      "2024-02-03 16:39:22,203 - INFO - URL https://www.eversports.de/s/poleroom-braunschweig is valid.\n",
      "2024-02-03 16:39:22,203 - INFO - Processing URL 2/4: https://www.eversports.de/sw/poleroom-braunschweig\n",
      "2024-02-03 16:39:24,217 - INFO - URL https://www.eversports.de/sw/poleroom-braunschweig is valid.\n",
      "2024-02-03 16:39:24,218 - INFO - Processing URL 3/4: https://www.eversports.de/sp/poleroom-braunschweig\n",
      "2024-02-03 16:39:25,445 - INFO - URL https://www.eversports.de/sp/poleroom-braunschweig is valid.\n",
      "2024-02-03 16:39:25,447 - INFO - Processing URL 4/4: https://www.eversports.de/s/poleroom-braunschweig/team\n",
      "2024-02-03 16:39:26,824 - INFO - URL https://www.eversports.de/s/poleroom-braunschweig/team is valid.\n"
     ]
    },
    {
     "name": "stdout",
     "output_type": "stream",
     "text": [
      "Scraping Pole Studio Data from https://www.eversports.de/s/poleroom-braunschweig...\n",
      "Scraping Workshops Data from https://www.eversports.de/sw/poleroom-braunschweig...\n",
      "Scraping Workshop Details from https://www.eversports.de/e/workshop/5FIBkpe...\n",
      "Scraping Workshop Details from https://www.eversports.de/e/workshop/GB5CNr0...\n",
      "Scraping Workshop Details from https://www.eversports.de/e/workshop/gvgi_OF...\n",
      "Scraping Workshop Details from https://www.eversports.de/e/workshop/1pzXUtZ...\n",
      "Scraping Workshop Details from https://www.eversports.de/e/workshop/fx6DrZ8...\n"
     ]
    },
    {
     "name": "stderr",
     "output_type": "stream",
     "text": [
      "Processing URLs:  35%|███▌      | 119/337 [12:50<1:06:13, 18.23s/it, Current URL: https://www.eversports.de/s/poleroom-braunschweig]"
     ]
    },
    {
     "name": "stdout",
     "output_type": "stream",
     "text": [
      "Processing completed.\n",
      "Pole Studio Data: 1 entries\n",
      "Workshops Data: 5 entries\n",
      "Workshop Details: 5 entries\n",
      "Starting URL reconstruction...\n"
     ]
    },
    {
     "name": "stderr",
     "output_type": "stream",
     "text": [
      "Processing URLs:  36%|███▌      | 120/337 [12:51<47:50, 13.23s/it, Current URL: https://www.eversports.de/s/poledance-leipzig]      "
     ]
    },
    {
     "name": "stdout",
     "output_type": "stream",
     "text": [
      "Error during HTTP request: 404 Client Error: Not Found for url: https://www.eversports.de/s/poledance-leipzig\n",
      "Converting to DataFrame...\n",
      "Validating URLs...\n",
      "Processing completed.\n",
      "Starting URL reconstruction...\n"
     ]
    },
    {
     "name": "stderr",
     "output_type": "stream",
     "text": [
      "2024-02-03 16:39:44,130 - INFO - Processing URL 1/1: https://www.eversports.de/s/poleworkx\n"
     ]
    },
    {
     "name": "stdout",
     "output_type": "stream",
     "text": [
      "Converting to DataFrame...\n",
      "Validating URLs...\n"
     ]
    },
    {
     "name": "stderr",
     "output_type": "stream",
     "text": [
      "2024-02-03 16:39:45,373 - INFO - URL https://www.eversports.de/s/poleworkx is valid.\n"
     ]
    },
    {
     "name": "stdout",
     "output_type": "stream",
     "text": [
      "Scraping Pole Studio Data from https://www.eversports.de/s/poleworkx...\n"
     ]
    },
    {
     "name": "stderr",
     "output_type": "stream",
     "text": [
      "Processing URLs:  36%|███▌      | 121/337 [12:54<36:28, 10.13s/it, Current URL: https://www.eversports.de/s/poleworkx]        "
     ]
    },
    {
     "name": "stdout",
     "output_type": "stream",
     "text": [
      "Processing completed.\n",
      "Pole Studio Data: 1 entries\n",
      "Starting URL reconstruction...\n"
     ]
    },
    {
     "name": "stderr",
     "output_type": "stream",
     "text": [
      "2024-02-03 16:39:46,985 - INFO - Processing URL 1/3: https://www.eversports.de/s/pole-werk-by-nelly\n"
     ]
    },
    {
     "name": "stdout",
     "output_type": "stream",
     "text": [
      "Error reconstructing URL for 'Kurse': Unrecognized text: 'Kurse'\n",
      "Converting to DataFrame...\n",
      "Validating URLs...\n"
     ]
    },
    {
     "name": "stderr",
     "output_type": "stream",
     "text": [
      "2024-02-03 16:39:48,440 - INFO - URL https://www.eversports.de/s/pole-werk-by-nelly is valid.\n",
      "2024-02-03 16:39:48,440 - INFO - Processing URL 2/3: https://www.eversports.de/sw/pole-werk-by-nelly\n",
      "2024-02-03 16:39:49,618 - INFO - URL https://www.eversports.de/sw/pole-werk-by-nelly is valid.\n",
      "2024-02-03 16:39:49,619 - INFO - Processing URL 3/3: https://www.eversports.de/s/pole-werk-by-nelly/team\n",
      "2024-02-03 16:39:50,920 - INFO - URL https://www.eversports.de/s/pole-werk-by-nelly/team is valid.\n"
     ]
    },
    {
     "name": "stdout",
     "output_type": "stream",
     "text": [
      "Scraping Pole Studio Data from https://www.eversports.de/s/pole-werk-by-nelly...\n",
      "Scraping Workshops Data from https://www.eversports.de/sw/pole-werk-by-nelly...\n",
      "Scraping Workshop Details from https://www.eversports.de/e/workshop/HlobVZo...\n"
     ]
    },
    {
     "name": "stderr",
     "output_type": "stream",
     "text": [
      "Processing URLs:  36%|███▌      | 122/337 [13:03<34:21,  9.59s/it, Current URL: https://www.eversports.de/s/pole-werk-by-nelly]"
     ]
    },
    {
     "name": "stdout",
     "output_type": "stream",
     "text": [
      "Processing completed.\n",
      "Pole Studio Data: 1 entries\n",
      "Workshops Data: 1 entries\n",
      "Workshop Details: 1 entries\n",
      "Starting URL reconstruction...\n"
     ]
    },
    {
     "name": "stderr",
     "output_type": "stream",
     "text": [
      "2024-02-03 16:39:55,665 - INFO - Processing URL 1/3: https://www.eversports.de/s/-pole-aerial-dance-souldance\n"
     ]
    },
    {
     "name": "stdout",
     "output_type": "stream",
     "text": [
      "Converting to DataFrame...\n",
      "Validating URLs...\n"
     ]
    },
    {
     "name": "stderr",
     "output_type": "stream",
     "text": [
      "2024-02-03 16:39:57,067 - INFO - URL https://www.eversports.de/s/-pole-aerial-dance-souldance is valid.\n",
      "2024-02-03 16:39:57,069 - INFO - Processing URL 2/3: https://www.eversports.de/sp/-pole-aerial-dance-souldance\n",
      "2024-02-03 16:39:58,396 - INFO - URL https://www.eversports.de/sp/-pole-aerial-dance-souldance is valid.\n",
      "2024-02-03 16:39:58,397 - INFO - Processing URL 3/3: https://www.eversports.de/s/-pole-aerial-dance-souldance/team\n",
      "2024-02-03 16:40:00,715 - INFO - URL https://www.eversports.de/s/-pole-aerial-dance-souldance/team is valid.\n"
     ]
    },
    {
     "name": "stdout",
     "output_type": "stream",
     "text": [
      "Scraping Pole Studio Data from https://www.eversports.de/s/-pole-aerial-dance-souldance...\n"
     ]
    },
    {
     "name": "stderr",
     "output_type": "stream",
     "text": [
      "Processing URLs:  36%|███▋      | 123/337 [13:10<31:48,  8.92s/it, Current URL: https://www.eversports.de/s/-pole-aerial-dance-souldance]"
     ]
    },
    {
     "name": "stdout",
     "output_type": "stream",
     "text": [
      "Processing completed.\n",
      "Pole Studio Data: 1 entries\n",
      "Starting URL reconstruction...\n"
     ]
    },
    {
     "name": "stderr",
     "output_type": "stream",
     "text": [
      "2024-02-03 16:40:02,735 - INFO - Processing URL 1/4: https://www.eversports.de/s/polecreation\n"
     ]
    },
    {
     "name": "stdout",
     "output_type": "stream",
     "text": [
      "Converting to DataFrame...\n",
      "Validating URLs...\n"
     ]
    },
    {
     "name": "stderr",
     "output_type": "stream",
     "text": [
      "2024-02-03 16:40:04,108 - INFO - URL https://www.eversports.de/s/polecreation is valid.\n",
      "2024-02-03 16:40:04,109 - INFO - Processing URL 2/4: https://www.eversports.de/sw/polecreation\n",
      "2024-02-03 16:40:05,327 - INFO - URL https://www.eversports.de/sw/polecreation is valid.\n",
      "2024-02-03 16:40:05,327 - INFO - Processing URL 3/4: https://www.eversports.de/sp/polecreation\n",
      "2024-02-03 16:40:06,616 - INFO - URL https://www.eversports.de/sp/polecreation is valid.\n",
      "2024-02-03 16:40:06,617 - INFO - Processing URL 4/4: https://www.eversports.de/s/polecreation/team\n",
      "2024-02-03 16:40:07,890 - INFO - URL https://www.eversports.de/s/polecreation/team is valid.\n"
     ]
    },
    {
     "name": "stdout",
     "output_type": "stream",
     "text": [
      "Scraping Pole Studio Data from https://www.eversports.de/s/polecreation...\n",
      "Scraping Workshops Data from https://www.eversports.de/sw/polecreation...\n",
      "Scraping Workshop Details from https://www.eversports.de/e/workshop/bmZxua4...\n",
      "Scraping Workshop Details from https://www.eversports.de/e/workshop/qcRMhzd...\n",
      "Scraping Workshop Details from https://www.eversports.de/e/workshop/Zj0NETg...\n"
     ]
    },
    {
     "name": "stderr",
     "output_type": "stream",
     "text": [
      "Processing URLs:  37%|███▋      | 124/337 [13:22<35:22,  9.96s/it, Current URL: https://www.eversports.de/s/polecreation]                "
     ]
    },
    {
     "name": "stdout",
     "output_type": "stream",
     "text": [
      "Processing completed.\n",
      "Pole Studio Data: 1 entries\n",
      "Workshops Data: 3 entries\n",
      "Workshop Details: 3 entries\n",
      "Starting URL reconstruction...\n"
     ]
    },
    {
     "name": "stderr",
     "output_type": "stream",
     "text": [
      "2024-02-03 16:40:15,706 - INFO - Processing URL 1/1: https://www.eversports.de/s/firstsports-polefitness\n"
     ]
    },
    {
     "name": "stdout",
     "output_type": "stream",
     "text": [
      "Converting to DataFrame...\n",
      "Validating URLs...\n"
     ]
    },
    {
     "name": "stderr",
     "output_type": "stream",
     "text": [
      "2024-02-03 16:40:17,141 - INFO - URL https://www.eversports.de/s/firstsports-polefitness is valid.\n"
     ]
    },
    {
     "name": "stdout",
     "output_type": "stream",
     "text": [
      "Scraping Pole Studio Data from https://www.eversports.de/s/firstsports-polefitness...\n"
     ]
    },
    {
     "name": "stderr",
     "output_type": "stream",
     "text": [
      "Processing URLs:  37%|███▋      | 125/337 [13:26<28:43,  8.13s/it, Current URL: https://www.eversports.de/s/firstsports-polefitness]"
     ]
    },
    {
     "name": "stdout",
     "output_type": "stream",
     "text": [
      "Processing completed.\n",
      "Pole Studio Data: 1 entries\n",
      "Starting URL reconstruction...\n"
     ]
    },
    {
     "name": "stderr",
     "output_type": "stream",
     "text": [
      "Processing URLs:  37%|███▋      | 126/337 [13:27<21:19,  6.06s/it, Current URL: https://www.eversports.de/s/polegarage-hagen]       "
     ]
    },
    {
     "name": "stdout",
     "output_type": "stream",
     "text": [
      "Error during HTTP request: 404 Client Error: Not Found for url: https://www.eversports.de/s/polegarage-hagen\n",
      "Converting to DataFrame...\n",
      "Validating URLs...\n",
      "Processing completed.\n",
      "Starting URL reconstruction...\n"
     ]
    },
    {
     "name": "stderr",
     "output_type": "stream",
     "text": [
      "2024-02-03 16:40:21,176 - INFO - Processing URL 1/4: https://www.eversports.de/s/pole-paradise\n"
     ]
    },
    {
     "name": "stdout",
     "output_type": "stream",
     "text": [
      "Converting to DataFrame...\n",
      "Validating URLs...\n"
     ]
    },
    {
     "name": "stderr",
     "output_type": "stream",
     "text": [
      "2024-02-03 16:40:22,597 - INFO - URL https://www.eversports.de/s/pole-paradise is valid.\n",
      "2024-02-03 16:40:22,598 - INFO - Processing URL 2/4: https://www.eversports.de/sw/pole-paradise\n",
      "2024-02-03 16:40:23,864 - INFO - URL https://www.eversports.de/sw/pole-paradise is valid.\n",
      "2024-02-03 16:40:23,865 - INFO - Processing URL 3/4: https://www.eversports.de/sp/pole-paradise\n",
      "2024-02-03 16:40:25,135 - INFO - URL https://www.eversports.de/sp/pole-paradise is valid.\n",
      "2024-02-03 16:40:25,136 - INFO - Processing URL 4/4: https://www.eversports.de/s/pole-paradise/team\n",
      "2024-02-03 16:40:26,457 - INFO - URL https://www.eversports.de/s/pole-paradise/team is valid.\n"
     ]
    },
    {
     "name": "stdout",
     "output_type": "stream",
     "text": [
      "Scraping Pole Studio Data from https://www.eversports.de/s/pole-paradise...\n",
      "Scraping Workshops Data from https://www.eversports.de/sw/pole-paradise...\n",
      "Scraping Workshop Details from https://www.eversports.de/e/workshop/1zI8wYx...\n",
      "Scraping Workshop Details from https://www.eversports.de/e/workshop/NLk1782...\n"
     ]
    },
    {
     "name": "stderr",
     "output_type": "stream",
     "text": [
      "Processing URLs:  38%|███▊      | 127/337 [13:40<27:51,  7.96s/it, Current URL: https://www.eversports.de/s/pole-paradise]   "
     ]
    },
    {
     "name": "stdout",
     "output_type": "stream",
     "text": [
      "Processing completed.\n",
      "Pole Studio Data: 1 entries\n",
      "Workshops Data: 2 entries\n",
      "Workshop Details: 2 entries\n",
      "Starting URL reconstruction...\n"
     ]
    },
    {
     "name": "stderr",
     "output_type": "stream",
     "text": [
      "Processing URLs:  38%|███▊      | 128/337 [13:41<20:41,  5.94s/it, Current URL: https://www.eversports.de/s/polegarage-iserloh]"
     ]
    },
    {
     "name": "stdout",
     "output_type": "stream",
     "text": [
      "Error during HTTP request: 404 Client Error: Not Found for url: https://www.eversports.de/s/polegarage-iserloh\n",
      "Converting to DataFrame...\n",
      "Validating URLs...\n",
      "Processing completed.\n",
      "Starting URL reconstruction...\n"
     ]
    },
    {
     "name": "stderr",
     "output_type": "stream",
     "text": [
      "Processing URLs:  38%|███▊      | 129/337 [13:42<15:44,  4.54s/it, Current URL: https://www.eversports.de/s/les.pole]          "
     ]
    },
    {
     "name": "stdout",
     "output_type": "stream",
     "text": [
      "Error during HTTP request: 404 Client Error: Not Found for url: https://www.eversports.de/s/les.pole\n",
      "Converting to DataFrame...\n",
      "Validating URLs...\n",
      "Processing completed.\n",
      "Starting URL reconstruction...\n"
     ]
    },
    {
     "name": "stderr",
     "output_type": "stream",
     "text": [
      "Processing URLs:  39%|███▊      | 130/337 [13:43<12:13,  3.54s/it, Current URL: https://www.eversports.de/s/lift-off-poledance-academy]"
     ]
    },
    {
     "name": "stdout",
     "output_type": "stream",
     "text": [
      "Error during HTTP request: 404 Client Error: Not Found for url: https://www.eversports.de/s/lift-off-poledance-academy\n",
      "Converting to DataFrame...\n",
      "Validating URLs...\n",
      "Processing completed.\n",
      "Starting URL reconstruction...\n"
     ]
    },
    {
     "name": "stderr",
     "output_type": "stream",
     "text": [
      "Processing URLs:  39%|███▉      | 131/337 [13:45<10:01,  2.92s/it, Current URL: https://www.eversports.de/s/sky-move-pole-sport]       "
     ]
    },
    {
     "name": "stdout",
     "output_type": "stream",
     "text": [
      "Error during HTTP request: 404 Client Error: Not Found for url: https://www.eversports.de/s/sky-move-pole-sport\n",
      "Converting to DataFrame...\n",
      "Validating URLs...\n",
      "Processing completed.\n",
      "Starting URL reconstruction...\n"
     ]
    },
    {
     "name": "stderr",
     "output_type": "stream",
     "text": [
      "2024-02-03 16:40:37,943 - INFO - Processing URL 1/3: https://www.eversports.de/s/st-polestudio\n"
     ]
    },
    {
     "name": "stdout",
     "output_type": "stream",
     "text": [
      "Converting to DataFrame...\n",
      "Validating URLs...\n"
     ]
    },
    {
     "name": "stderr",
     "output_type": "stream",
     "text": [
      "2024-02-03 16:40:39,296 - INFO - URL https://www.eversports.de/s/st-polestudio is valid.\n",
      "2024-02-03 16:40:39,297 - INFO - Processing URL 2/3: https://www.eversports.de/sp/st-polestudio\n",
      "2024-02-03 16:40:40,523 - INFO - URL https://www.eversports.de/sp/st-polestudio is valid.\n",
      "2024-02-03 16:40:40,524 - INFO - Processing URL 3/3: https://www.eversports.de/s/st-polestudio/team\n",
      "2024-02-03 16:40:41,783 - INFO - URL https://www.eversports.de/s/st-polestudio/team is valid.\n"
     ]
    },
    {
     "name": "stdout",
     "output_type": "stream",
     "text": [
      "Scraping Pole Studio Data from https://www.eversports.de/s/st-polestudio...\n"
     ]
    },
    {
     "name": "stderr",
     "output_type": "stream",
     "text": [
      "Processing URLs:  39%|███▉      | 132/337 [13:51<12:52,  3.77s/it, Current URL: https://www.eversports.de/s/st-polestudio]      "
     ]
    },
    {
     "name": "stdout",
     "output_type": "stream",
     "text": [
      "Processing completed.\n",
      "Pole Studio Data: 1 entries\n",
      "Starting URL reconstruction...\n"
     ]
    },
    {
     "name": "stderr",
     "output_type": "stream",
     "text": [
      "2024-02-03 16:40:44,379 - INFO - Processing URL 1/3: https://www.eversports.de/s/koerperformfabrik-gbr\n"
     ]
    },
    {
     "name": "stdout",
     "output_type": "stream",
     "text": [
      "Converting to DataFrame...\n",
      "Validating URLs...\n"
     ]
    },
    {
     "name": "stderr",
     "output_type": "stream",
     "text": [
      "2024-02-03 16:40:45,681 - INFO - URL https://www.eversports.de/s/koerperformfabrik-gbr is valid.\n",
      "2024-02-03 16:40:45,682 - INFO - Processing URL 2/3: https://www.eversports.de/sp/koerperformfabrik-gbr\n",
      "2024-02-03 16:40:47,991 - INFO - URL https://www.eversports.de/sp/koerperformfabrik-gbr is valid.\n",
      "2024-02-03 16:40:47,991 - INFO - Processing URL 3/3: https://www.eversports.de/s/koerperformfabrik-gbr/team\n",
      "2024-02-03 16:40:49,270 - INFO - URL https://www.eversports.de/s/koerperformfabrik-gbr/team is valid.\n"
     ]
    },
    {
     "name": "stdout",
     "output_type": "stream",
     "text": [
      "Scraping Pole Studio Data from https://www.eversports.de/s/koerperformfabrik-gbr...\n"
     ]
    },
    {
     "name": "stderr",
     "output_type": "stream",
     "text": [
      "Processing URLs:  39%|███▉      | 133/337 [13:58<16:37,  4.89s/it, Current URL: https://www.eversports.de/s/koerperformfabrik-gbr]"
     ]
    },
    {
     "name": "stdout",
     "output_type": "stream",
     "text": [
      "Processing completed.\n",
      "Pole Studio Data: 1 entries\n",
      "Starting URL reconstruction...\n"
     ]
    },
    {
     "name": "stderr",
     "output_type": "stream",
     "text": [
      "Processing URLs:  40%|███▉      | 134/337 [14:00<13:00,  3.84s/it, Current URL: https://www.eversports.de/s/pole-box]             "
     ]
    },
    {
     "name": "stdout",
     "output_type": "stream",
     "text": [
      "Error during HTTP request: 404 Client Error: Not Found for url: https://www.eversports.de/s/pole-box\n",
      "Converting to DataFrame...\n",
      "Validating URLs...\n",
      "Processing completed.\n",
      "Starting URL reconstruction...\n"
     ]
    },
    {
     "name": "stderr",
     "output_type": "stream",
     "text": [
      "2024-02-03 16:40:52,656 - INFO - Processing URL 1/3: https://www.eversports.de/s/glow-sports-club\n"
     ]
    },
    {
     "name": "stdout",
     "output_type": "stream",
     "text": [
      "Error reconstructing URL for 'Trainings': Unrecognized text: 'Trainings'\n",
      "Error reconstructing URL for 'Kurse': Unrecognized text: 'Kurse'\n",
      "Converting to DataFrame...\n",
      "Validating URLs...\n"
     ]
    },
    {
     "name": "stderr",
     "output_type": "stream",
     "text": [
      "2024-02-03 16:40:54,112 - INFO - URL https://www.eversports.de/s/glow-sports-club is valid.\n",
      "2024-02-03 16:40:54,113 - INFO - Processing URL 2/3: https://www.eversports.de/sp/glow-sports-club\n",
      "2024-02-03 16:40:55,340 - INFO - URL https://www.eversports.de/sp/glow-sports-club is valid.\n",
      "2024-02-03 16:40:55,341 - INFO - Processing URL 3/3: https://www.eversports.de/s/glow-sports-club/team\n",
      "2024-02-03 16:40:56,636 - INFO - URL https://www.eversports.de/s/glow-sports-club/team is valid.\n"
     ]
    },
    {
     "name": "stdout",
     "output_type": "stream",
     "text": [
      "Scraping Pole Studio Data from https://www.eversports.de/s/glow-sports-club...\n"
     ]
    },
    {
     "name": "stderr",
     "output_type": "stream",
     "text": [
      "Processing URLs:  40%|████      | 135/337 [14:07<16:14,  4.83s/it, Current URL: https://www.eversports.de/s/glow-sports-club]"
     ]
    },
    {
     "name": "stdout",
     "output_type": "stream",
     "text": [
      "Processing completed.\n",
      "Pole Studio Data: 1 entries\n",
      "Starting URL reconstruction...\n"
     ]
    },
    {
     "name": "stderr",
     "output_type": "stream",
     "text": [
      "Processing URLs:  40%|████      | 136/337 [14:08<12:30,  3.74s/it, Current URL: https://www.eversports.de/s/pole-emotion-bremerhaven]"
     ]
    },
    {
     "name": "stdout",
     "output_type": "stream",
     "text": [
      "Error during HTTP request: 404 Client Error: Not Found for url: https://www.eversports.de/s/pole-emotion-bremerhaven\n",
      "Converting to DataFrame...\n",
      "Validating URLs...\n",
      "Processing completed.\n",
      "Starting URL reconstruction...\n"
     ]
    },
    {
     "name": "stderr",
     "output_type": "stream",
     "text": [
      "Processing URLs:  41%|████      | 137/337 [14:09<09:54,  2.97s/it, Current URL: https://www.eversports.de/s/pole-dream]              "
     ]
    },
    {
     "name": "stdout",
     "output_type": "stream",
     "text": [
      "Error during HTTP request: 404 Client Error: Not Found for url: https://www.eversports.de/s/pole-dream\n",
      "Converting to DataFrame...\n",
      "Validating URLs...\n",
      "Processing completed.\n",
      "Starting URL reconstruction...\n"
     ]
    },
    {
     "name": "stderr",
     "output_type": "stream",
     "text": [
      "Processing URLs:  41%|████      | 138/337 [14:10<08:07,  2.45s/it, Current URL: https://www.eversports.de/s/polefitness-premium]"
     ]
    },
    {
     "name": "stdout",
     "output_type": "stream",
     "text": [
      "Error during HTTP request: 404 Client Error: Not Found for url: https://www.eversports.de/s/polefitness-premium\n",
      "Converting to DataFrame...\n",
      "Validating URLs...\n",
      "Processing completed.\n",
      "Starting URL reconstruction...\n"
     ]
    },
    {
     "name": "stderr",
     "output_type": "stream",
     "text": [
      "2024-02-03 16:41:03,383 - INFO - Processing URL 1/3: https://www.eversports.de/s/stadtgazellen-studio\n"
     ]
    },
    {
     "name": "stdout",
     "output_type": "stream",
     "text": [
      "Error reconstructing URL for 'Kurse': Unrecognized text: 'Kurse'\n",
      "Converting to DataFrame...\n",
      "Validating URLs...\n"
     ]
    },
    {
     "name": "stderr",
     "output_type": "stream",
     "text": [
      "2024-02-03 16:41:05,219 - INFO - URL https://www.eversports.de/s/stadtgazellen-studio is valid.\n",
      "2024-02-03 16:41:05,220 - INFO - Processing URL 2/3: https://www.eversports.de/sp/stadtgazellen-studio\n",
      "2024-02-03 16:41:06,659 - INFO - URL https://www.eversports.de/sp/stadtgazellen-studio is valid.\n",
      "2024-02-03 16:41:06,660 - INFO - Processing URL 3/3: https://www.eversports.de/s/stadtgazellen-studio/team\n",
      "2024-02-03 16:41:08,043 - INFO - URL https://www.eversports.de/s/stadtgazellen-studio/team is valid.\n"
     ]
    },
    {
     "name": "stdout",
     "output_type": "stream",
     "text": [
      "Scraping Pole Studio Data from https://www.eversports.de/s/stadtgazellen-studio...\n"
     ]
    },
    {
     "name": "stderr",
     "output_type": "stream",
     "text": [
      "Processing URLs:  41%|████      | 139/337 [14:17<12:43,  3.86s/it, Current URL: https://www.eversports.de/s/stadtgazellen-studio]"
     ]
    },
    {
     "name": "stdout",
     "output_type": "stream",
     "text": [
      "Processing completed.\n",
      "Pole Studio Data: 1 entries\n",
      "Starting URL reconstruction...\n"
     ]
    },
    {
     "name": "stderr",
     "output_type": "stream",
     "text": [
      "Processing URLs:  42%|████▏     | 140/337 [14:19<10:45,  3.28s/it, Current URL: https://www.eversports.de/s/exotic-academy]      "
     ]
    },
    {
     "name": "stdout",
     "output_type": "stream",
     "text": [
      "Error during HTTP request: 404 Client Error: Not Found for url: https://www.eversports.de/s/exotic-academy\n",
      "Converting to DataFrame...\n",
      "Validating URLs...\n",
      "Processing completed.\n",
      "Starting URL reconstruction...\n"
     ]
    },
    {
     "name": "stderr",
     "output_type": "stream",
     "text": [
      "2024-02-03 16:41:12,196 - INFO - Processing URL 1/1: https://www.eversports.de/s/pole-circus\n"
     ]
    },
    {
     "name": "stdout",
     "output_type": "stream",
     "text": [
      "Converting to DataFrame...\n",
      "Validating URLs...\n"
     ]
    },
    {
     "name": "stderr",
     "output_type": "stream",
     "text": [
      "2024-02-03 16:41:13,804 - INFO - URL https://www.eversports.de/s/pole-circus is valid.\n"
     ]
    },
    {
     "name": "stdout",
     "output_type": "stream",
     "text": [
      "Scraping Pole Studio Data from https://www.eversports.de/s/pole-circus...\n"
     ]
    },
    {
     "name": "stderr",
     "output_type": "stream",
     "text": [
      "Processing URLs:  42%|████▏     | 141/337 [14:23<10:40,  3.27s/it, Current URL: https://www.eversports.de/s/pole-circus]   "
     ]
    },
    {
     "name": "stdout",
     "output_type": "stream",
     "text": [
      "Processing completed.\n",
      "Pole Studio Data: 1 entries\n",
      "Starting URL reconstruction...\n"
     ]
    },
    {
     "name": "stderr",
     "output_type": "stream",
     "text": [
      "Processing URLs:  42%|████▏     | 142/337 [14:24<08:40,  2.67s/it, Current URL: https://www.eversports.de/s/papillon-pole-dance-studio]"
     ]
    },
    {
     "name": "stdout",
     "output_type": "stream",
     "text": [
      "Error during HTTP request: 404 Client Error: Not Found for url: https://www.eversports.de/s/papillon-pole-dance-studio\n",
      "Converting to DataFrame...\n",
      "Validating URLs...\n",
      "Processing completed.\n",
      "Starting URL reconstruction...\n"
     ]
    },
    {
     "name": "stderr",
     "output_type": "stream",
     "text": [
      "2024-02-03 16:41:17,268 - INFO - Processing URL 1/3: https://www.eversports.de/s/pole-loft\n"
     ]
    },
    {
     "name": "stdout",
     "output_type": "stream",
     "text": [
      "Converting to DataFrame...\n",
      "Validating URLs...\n"
     ]
    },
    {
     "name": "stderr",
     "output_type": "stream",
     "text": [
      "2024-02-03 16:41:18,694 - INFO - URL https://www.eversports.de/s/pole-loft is valid.\n",
      "2024-02-03 16:41:18,695 - INFO - Processing URL 2/3: https://www.eversports.de/sp/pole-loft\n",
      "2024-02-03 16:41:20,014 - INFO - URL https://www.eversports.de/sp/pole-loft is valid.\n",
      "2024-02-03 16:41:20,015 - INFO - Processing URL 3/3: https://www.eversports.de/s/pole-loft/team\n",
      "2024-02-03 16:41:21,333 - INFO - URL https://www.eversports.de/s/pole-loft/team is valid.\n"
     ]
    },
    {
     "name": "stdout",
     "output_type": "stream",
     "text": [
      "Scraping Pole Studio Data from https://www.eversports.de/s/pole-loft...\n"
     ]
    },
    {
     "name": "stderr",
     "output_type": "stream",
     "text": [
      "Processing URLs:  42%|████▏     | 143/337 [14:30<12:13,  3.78s/it, Current URL: https://www.eversports.de/s/pole-loft]                 "
     ]
    },
    {
     "name": "stdout",
     "output_type": "stream",
     "text": [
      "Processing completed.\n",
      "Pole Studio Data: 1 entries\n",
      "Starting URL reconstruction...\n"
     ]
    },
    {
     "name": "stderr",
     "output_type": "stream",
     "text": [
      "Processing URLs:  43%|████▎     | 144/337 [14:32<09:40,  3.01s/it, Current URL: https://www.eversports.de/s/tsg-blau-gold-ballett-und-pole-dance-studio]"
     ]
    },
    {
     "name": "stdout",
     "output_type": "stream",
     "text": [
      "Error during HTTP request: 404 Client Error: Not Found for url: https://www.eversports.de/s/tsg-blau-gold-ballett-und-pole-dance-studio\n",
      "Converting to DataFrame...\n",
      "Validating URLs...\n",
      "Processing completed.\n",
      "Starting URL reconstruction...\n"
     ]
    },
    {
     "name": "stderr",
     "output_type": "stream",
     "text": [
      "2024-02-03 16:41:24,393 - INFO - Processing URL 1/4: https://www.eversports.de/s/koerpernah\n"
     ]
    },
    {
     "name": "stdout",
     "output_type": "stream",
     "text": [
      "Converting to DataFrame...\n",
      "Validating URLs...\n"
     ]
    },
    {
     "name": "stderr",
     "output_type": "stream",
     "text": [
      "2024-02-03 16:41:25,759 - INFO - URL https://www.eversports.de/s/koerpernah is valid.\n",
      "2024-02-03 16:41:25,760 - INFO - Processing URL 2/4: https://www.eversports.de/sw/koerpernah\n",
      "2024-02-03 16:41:27,033 - INFO - URL https://www.eversports.de/sw/koerpernah is valid.\n",
      "2024-02-03 16:41:27,033 - INFO - Processing URL 3/4: https://www.eversports.de/sp/koerpernah\n",
      "2024-02-03 16:41:28,724 - INFO - URL https://www.eversports.de/sp/koerpernah is valid.\n",
      "2024-02-03 16:41:28,726 - INFO - Processing URL 4/4: https://www.eversports.de/s/koerpernah/team\n",
      "2024-02-03 16:41:30,038 - INFO - URL https://www.eversports.de/s/koerpernah/team is valid.\n"
     ]
    },
    {
     "name": "stdout",
     "output_type": "stream",
     "text": [
      "Scraping Pole Studio Data from https://www.eversports.de/s/koerpernah...\n",
      "Scraping Workshops Data from https://www.eversports.de/sw/koerpernah...\n",
      "Scraping Workshop Details from https://www.eversports.de/e/workshop/MfhCem5...\n"
     ]
    },
    {
     "name": "stderr",
     "output_type": "stream",
     "text": [
      "Processing URLs:  43%|████▎     | 145/337 [14:42<16:24,  5.13s/it, Current URL: https://www.eversports.de/s/koerpernah]                                 "
     ]
    },
    {
     "name": "stdout",
     "output_type": "stream",
     "text": [
      "Processing completed.\n",
      "Pole Studio Data: 1 entries\n",
      "Workshops Data: 1 entries\n",
      "Workshop Details: 1 entries\n",
      "Starting URL reconstruction...\n"
     ]
    },
    {
     "name": "stderr",
     "output_type": "stream",
     "text": [
      "2024-02-03 16:41:34,552 - INFO - Processing URL 1/3: https://www.eversports.de/s/dance-and-pole-deltawerk\n"
     ]
    },
    {
     "name": "stdout",
     "output_type": "stream",
     "text": [
      "Converting to DataFrame...\n",
      "Validating URLs...\n"
     ]
    },
    {
     "name": "stderr",
     "output_type": "stream",
     "text": [
      "2024-02-03 16:41:35,892 - INFO - URL https://www.eversports.de/s/dance-and-pole-deltawerk is valid.\n",
      "2024-02-03 16:41:35,893 - INFO - Processing URL 2/3: https://www.eversports.de/sp/dance-and-pole-deltawerk\n",
      "2024-02-03 16:41:37,151 - INFO - URL https://www.eversports.de/sp/dance-and-pole-deltawerk is valid.\n",
      "2024-02-03 16:41:37,152 - INFO - Processing URL 3/3: https://www.eversports.de/s/dance-and-pole-deltawerk/team\n",
      "2024-02-03 16:41:38,405 - INFO - URL https://www.eversports.de/s/dance-and-pole-deltawerk/team is valid.\n"
     ]
    },
    {
     "name": "stdout",
     "output_type": "stream",
     "text": [
      "Scraping Pole Studio Data from https://www.eversports.de/s/dance-and-pole-deltawerk...\n"
     ]
    },
    {
     "name": "stderr",
     "output_type": "stream",
     "text": [
      "Processing URLs:  43%|████▎     | 146/337 [14:47<16:53,  5.30s/it, Current URL: https://www.eversports.de/s/dance-and-pole-deltawerk]"
     ]
    },
    {
     "name": "stdout",
     "output_type": "stream",
     "text": [
      "Processing completed.\n",
      "Pole Studio Data: 1 entries\n",
      "Starting URL reconstruction...\n"
     ]
    },
    {
     "name": "stderr",
     "output_type": "stream",
     "text": [
      "2024-02-03 16:41:40,725 - INFO - Processing URL 1/4: https://www.eversports.de/s/body-meets-soul-leipzig\n"
     ]
    },
    {
     "name": "stdout",
     "output_type": "stream",
     "text": [
      "Converting to DataFrame...\n",
      "Validating URLs...\n"
     ]
    },
    {
     "name": "stderr",
     "output_type": "stream",
     "text": [
      "2024-02-03 16:41:42,002 - INFO - URL https://www.eversports.de/s/body-meets-soul-leipzig is valid.\n",
      "2024-02-03 16:41:42,003 - INFO - Processing URL 2/4: https://www.eversports.de/sw/body-meets-soul-leipzig\n",
      "2024-02-03 16:41:43,204 - INFO - URL https://www.eversports.de/sw/body-meets-soul-leipzig is valid.\n",
      "2024-02-03 16:41:43,206 - INFO - Processing URL 3/4: https://www.eversports.de/sp/body-meets-soul-leipzig\n",
      "2024-02-03 16:41:44,403 - INFO - URL https://www.eversports.de/sp/body-meets-soul-leipzig is valid.\n",
      "2024-02-03 16:41:44,404 - INFO - Processing URL 4/4: https://www.eversports.de/s/body-meets-soul-leipzig/team\n",
      "2024-02-03 16:41:45,637 - INFO - URL https://www.eversports.de/s/body-meets-soul-leipzig/team is valid.\n"
     ]
    },
    {
     "name": "stdout",
     "output_type": "stream",
     "text": [
      "Scraping Pole Studio Data from https://www.eversports.de/s/body-meets-soul-leipzig...\n",
      "Scraping Workshops Data from https://www.eversports.de/sw/body-meets-soul-leipzig...\n",
      "Scraping Workshop Details from https://www.eversports.de/e/workshop/uO9N1VQ...\n"
     ]
    },
    {
     "name": "stderr",
     "output_type": "stream",
     "text": [
      "Processing URLs:  44%|████▎     | 147/337 [14:57<21:04,  6.65s/it, Current URL: https://www.eversports.de/s/body-meets-soul-leipzig] "
     ]
    },
    {
     "name": "stdout",
     "output_type": "stream",
     "text": [
      "Processing completed.\n",
      "Pole Studio Data: 1 entries\n",
      "Workshops Data: 1 entries\n",
      "Workshop Details: 1 entries\n",
      "Starting URL reconstruction...\n"
     ]
    },
    {
     "name": "stderr",
     "output_type": "stream",
     "text": [
      "Processing URLs:  44%|████▍     | 148/337 [14:58<15:51,  5.03s/it, Current URL: https://www.eversports.de/s/freaky-pole-cats-schwandorf]"
     ]
    },
    {
     "name": "stdout",
     "output_type": "stream",
     "text": [
      "Error during HTTP request: 404 Client Error: Not Found for url: https://www.eversports.de/s/freaky-pole-cats-schwandorf\n",
      "Converting to DataFrame...\n",
      "Validating URLs...\n",
      "Processing completed.\n",
      "Starting URL reconstruction...\n"
     ]
    },
    {
     "name": "stderr",
     "output_type": "stream",
     "text": [
      "2024-02-03 16:41:51,235 - INFO - Processing URL 1/4: https://www.eversports.de/s/star-poledance\n"
     ]
    },
    {
     "name": "stdout",
     "output_type": "stream",
     "text": [
      "Converting to DataFrame...\n",
      "Validating URLs...\n"
     ]
    },
    {
     "name": "stderr",
     "output_type": "stream",
     "text": [
      "2024-02-03 16:41:52,580 - INFO - URL https://www.eversports.de/s/star-poledance is valid.\n",
      "2024-02-03 16:41:52,581 - INFO - Processing URL 2/4: https://www.eversports.de/sw/star-poledance\n",
      "2024-02-03 16:41:53,806 - INFO - URL https://www.eversports.de/sw/star-poledance is valid.\n",
      "2024-02-03 16:41:53,807 - INFO - Processing URL 3/4: https://www.eversports.de/sp/star-poledance\n",
      "2024-02-03 16:41:55,039 - INFO - URL https://www.eversports.de/sp/star-poledance is valid.\n",
      "2024-02-03 16:41:55,041 - INFO - Processing URL 4/4: https://www.eversports.de/s/star-poledance/team\n",
      "2024-02-03 16:41:56,338 - INFO - URL https://www.eversports.de/s/star-poledance/team is valid.\n"
     ]
    },
    {
     "name": "stdout",
     "output_type": "stream",
     "text": [
      "Scraping Pole Studio Data from https://www.eversports.de/s/star-poledance...\n",
      "Scraping Workshops Data from https://www.eversports.de/sw/star-poledance...\n",
      "Scraping Workshop Details from https://www.eversports.de/e/workshop/jZ6LjEO...\n"
     ]
    },
    {
     "name": "stderr",
     "output_type": "stream",
     "text": [
      "Processing URLs:  44%|████▍     | 149/337 [15:08<20:11,  6.45s/it, Current URL: https://www.eversports.de/s/star-poledance]             "
     ]
    },
    {
     "name": "stdout",
     "output_type": "stream",
     "text": [
      "Processing completed.\n",
      "Pole Studio Data: 1 entries\n",
      "Workshops Data: 1 entries\n",
      "Workshop Details: 1 entries\n",
      "Starting URL reconstruction...\n"
     ]
    },
    {
     "name": "stderr",
     "output_type": "stream",
     "text": [
      "Processing URLs:  45%|████▍     | 150/337 [15:09<15:18,  4.91s/it, Current URL: https://www.eversports.de/s/pole-dance-trier]"
     ]
    },
    {
     "name": "stdout",
     "output_type": "stream",
     "text": [
      "Error during HTTP request: 404 Client Error: Not Found for url: https://www.eversports.de/s/pole-dance-trier\n",
      "Converting to DataFrame...\n",
      "Validating URLs...\n",
      "Processing completed.\n",
      "Starting URL reconstruction...\n"
     ]
    },
    {
     "name": "stderr",
     "output_type": "stream",
     "text": [
      "Processing URLs:  45%|████▍     | 151/337 [15:11<11:46,  3.80s/it, Current URL: https://www.eversports.de/s/unique-studios]  "
     ]
    },
    {
     "name": "stdout",
     "output_type": "stream",
     "text": [
      "Error during HTTP request: 404 Client Error: Not Found for url: https://www.eversports.de/s/unique-studios\n",
      "Converting to DataFrame...\n",
      "Validating URLs...\n",
      "Processing completed.\n",
      "Starting URL reconstruction...\n"
     ]
    },
    {
     "name": "stderr",
     "output_type": "stream",
     "text": [
      "2024-02-03 16:42:03,700 - INFO - Processing URL 1/3: https://www.eversports.de/s/pole-and-move-online-studio\n"
     ]
    },
    {
     "name": "stdout",
     "output_type": "stream",
     "text": [
      "Converting to DataFrame...\n",
      "Validating URLs...\n"
     ]
    },
    {
     "name": "stderr",
     "output_type": "stream",
     "text": [
      "2024-02-03 16:42:05,084 - INFO - URL https://www.eversports.de/s/pole-and-move-online-studio is valid.\n",
      "2024-02-03 16:42:05,085 - INFO - Processing URL 2/3: https://www.eversports.de/sp/pole-and-move-online-studio\n",
      "2024-02-03 16:42:06,356 - INFO - URL https://www.eversports.de/sp/pole-and-move-online-studio is valid.\n",
      "2024-02-03 16:42:06,357 - INFO - Processing URL 3/3: https://www.eversports.de/s/pole-and-move-online-studio/team\n",
      "2024-02-03 16:42:07,632 - INFO - URL https://www.eversports.de/s/pole-and-move-online-studio/team is valid.\n"
     ]
    },
    {
     "name": "stdout",
     "output_type": "stream",
     "text": [
      "Scraping Pole Studio Data from https://www.eversports.de/s/pole-and-move-online-studio...\n"
     ]
    },
    {
     "name": "stderr",
     "output_type": "stream",
     "text": [
      "Processing URLs:  45%|████▌     | 152/337 [15:17<13:45,  4.46s/it, Current URL: https://www.eversports.de/s/pole-and-move-online-studio]"
     ]
    },
    {
     "name": "stdout",
     "output_type": "stream",
     "text": [
      "Processing completed.\n",
      "Pole Studio Data: 1 entries\n",
      "Starting URL reconstruction...\n"
     ]
    },
    {
     "name": "stderr",
     "output_type": "stream",
     "text": [
      "Processing URLs:  45%|████▌     | 153/337 [15:18<10:39,  3.47s/it, Current URL: https://www.eversports.de/s/femella-studio]             "
     ]
    },
    {
     "name": "stdout",
     "output_type": "stream",
     "text": [
      "Error during HTTP request: 404 Client Error: Not Found for url: https://www.eversports.de/s/femella-studio\n",
      "Converting to DataFrame...\n",
      "Validating URLs...\n",
      "Processing completed.\n",
      "Starting URL reconstruction...\n"
     ]
    },
    {
     "name": "stderr",
     "output_type": "stream",
     "text": [
      "Processing URLs:  46%|████▌     | 154/337 [15:19<08:29,  2.79s/it, Current URL: https://www.eversports.de/s/annaconda-pole-&-fitness]"
     ]
    },
    {
     "name": "stdout",
     "output_type": "stream",
     "text": [
      "Error during HTTP request: 404 Client Error: Not Found for url: https://www.eversports.de/s/annaconda-pole-&-fitness\n",
      "Converting to DataFrame...\n",
      "Validating URLs...\n",
      "Processing completed.\n",
      "Starting URL reconstruction...\n"
     ]
    },
    {
     "name": "stderr",
     "output_type": "stream",
     "text": [
      "2024-02-03 16:42:11,999 - INFO - Processing URL 1/4: https://www.eversports.de/s/polefriends-halle\n"
     ]
    },
    {
     "name": "stdout",
     "output_type": "stream",
     "text": [
      "Converting to DataFrame...\n",
      "Validating URLs...\n"
     ]
    },
    {
     "name": "stderr",
     "output_type": "stream",
     "text": [
      "2024-02-03 16:42:13,647 - INFO - URL https://www.eversports.de/s/polefriends-halle is valid.\n",
      "2024-02-03 16:42:13,648 - INFO - Processing URL 2/4: https://www.eversports.de/sw/polefriends-halle\n",
      "2024-02-03 16:42:14,910 - INFO - URL https://www.eversports.de/sw/polefriends-halle is valid.\n",
      "2024-02-03 16:42:14,911 - INFO - Processing URL 3/4: https://www.eversports.de/sp/polefriends-halle\n",
      "2024-02-03 16:42:16,077 - INFO - URL https://www.eversports.de/sp/polefriends-halle is valid.\n",
      "2024-02-03 16:42:16,079 - INFO - Processing URL 4/4: https://www.eversports.de/s/polefriends-halle/team\n",
      "2024-02-03 16:42:18,430 - INFO - URL https://www.eversports.de/s/polefriends-halle/team is valid.\n"
     ]
    },
    {
     "name": "stdout",
     "output_type": "stream",
     "text": [
      "Scraping Pole Studio Data from https://www.eversports.de/s/polefriends-halle...\n",
      "Scraping Workshops Data from https://www.eversports.de/sw/polefriends-halle...\n",
      "Scraping Workshop Details from https://www.eversports.de/e/workshop/NMiVGZD...\n"
     ]
    },
    {
     "name": "stderr",
     "output_type": "stream",
     "text": [
      "Processing URLs:  46%|████▌     | 155/337 [15:31<16:38,  5.49s/it, Current URL: https://www.eversports.de/s/polefriends-halle]       "
     ]
    },
    {
     "name": "stdout",
     "output_type": "stream",
     "text": [
      "Processing completed.\n",
      "Pole Studio Data: 1 entries\n",
      "Workshops Data: 1 entries\n",
      "Workshop Details: 1 entries\n",
      "Starting URL reconstruction...\n"
     ]
    },
    {
     "name": "stderr",
     "output_type": "stream",
     "text": [
      "2024-02-03 16:42:23,765 - INFO - Processing URL 1/4: https://www.eversports.de/s/vertical-pole-aerial-dance\n"
     ]
    },
    {
     "name": "stdout",
     "output_type": "stream",
     "text": [
      "Converting to DataFrame...\n",
      "Validating URLs...\n"
     ]
    },
    {
     "name": "stderr",
     "output_type": "stream",
     "text": [
      "2024-02-03 16:42:25,233 - INFO - URL https://www.eversports.de/s/vertical-pole-aerial-dance is valid.\n",
      "2024-02-03 16:42:25,234 - INFO - Processing URL 2/4: https://www.eversports.de/sw/vertical-pole-aerial-dance\n",
      "2024-02-03 16:42:26,414 - INFO - URL https://www.eversports.de/sw/vertical-pole-aerial-dance is valid.\n",
      "2024-02-03 16:42:26,415 - INFO - Processing URL 3/4: https://www.eversports.de/sp/vertical-pole-aerial-dance\n",
      "2024-02-03 16:42:27,635 - INFO - URL https://www.eversports.de/sp/vertical-pole-aerial-dance is valid.\n",
      "2024-02-03 16:42:27,636 - INFO - Processing URL 4/4: https://www.eversports.de/s/vertical-pole-aerial-dance/team\n",
      "2024-02-03 16:42:29,242 - INFO - URL https://www.eversports.de/s/vertical-pole-aerial-dance/team is valid.\n"
     ]
    },
    {
     "name": "stdout",
     "output_type": "stream",
     "text": [
      "Scraping Pole Studio Data from https://www.eversports.de/s/vertical-pole-aerial-dance...\n",
      "Scraping Workshops Data from https://www.eversports.de/sw/vertical-pole-aerial-dance...\n",
      "Scraping Workshop Details from https://www.eversports.de/e/workshop/mylmioi...\n",
      "Scraping Workshop Details from https://www.eversports.de/e/workshop/Yace1e3...\n"
     ]
    },
    {
     "name": "stderr",
     "output_type": "stream",
     "text": [
      "Processing URLs:  46%|████▋     | 156/337 [15:43<22:14,  7.37s/it, Current URL: https://www.eversports.de/s/vertical-pole-aerial-dance]"
     ]
    },
    {
     "name": "stdout",
     "output_type": "stream",
     "text": [
      "Processing completed.\n",
      "Pole Studio Data: 1 entries\n",
      "Workshops Data: 2 entries\n",
      "Workshop Details: 2 entries\n",
      "Starting URL reconstruction...\n"
     ]
    },
    {
     "name": "stderr",
     "output_type": "stream",
     "text": [
      "2024-02-03 16:42:35,515 - INFO - Processing URL 1/4: https://www.eversports.de/s/royal-pole\n"
     ]
    },
    {
     "name": "stdout",
     "output_type": "stream",
     "text": [
      "Error reconstructing URL for 'Freie Trainings': Unrecognized text: 'Freie Trainings'\n",
      "Converting to DataFrame...\n",
      "Validating URLs...\n"
     ]
    },
    {
     "name": "stderr",
     "output_type": "stream",
     "text": [
      "2024-02-03 16:42:37,235 - INFO - URL https://www.eversports.de/s/royal-pole is valid.\n",
      "2024-02-03 16:42:37,236 - INFO - Processing URL 2/4: https://www.eversports.de/sw/royal-pole\n",
      "2024-02-03 16:42:38,556 - INFO - URL https://www.eversports.de/sw/royal-pole is not valid.\n",
      "2024-02-03 16:42:38,557 - INFO - Processing URL 3/4: https://www.eversports.de/sp/royal-pole\n",
      "2024-02-03 16:42:39,907 - INFO - URL https://www.eversports.de/sp/royal-pole is not valid.\n",
      "2024-02-03 16:42:39,908 - INFO - Processing URL 4/4: https://www.eversports.de/s/royal-pole/team\n",
      "2024-02-03 16:42:41,240 - INFO - URL https://www.eversports.de/s/royal-pole/team is valid.\n"
     ]
    },
    {
     "name": "stdout",
     "output_type": "stream",
     "text": [
      "Scraping Pole Studio Data from https://www.eversports.de/s/royal-pole...\n"
     ]
    },
    {
     "name": "stderr",
     "output_type": "stream",
     "text": [
      "Processing URLs:  47%|████▋     | 157/337 [15:52<23:32,  7.85s/it, Current URL: https://www.eversports.de/s/royal-pole]                "
     ]
    },
    {
     "name": "stdout",
     "output_type": "stream",
     "text": [
      "Processing completed.\n",
      "Pole Studio Data: 1 entries\n",
      "Starting URL reconstruction...\n"
     ]
    },
    {
     "name": "stderr",
     "output_type": "stream",
     "text": [
      "Processing URLs:  47%|████▋     | 158/337 [15:53<17:36,  5.90s/it, Current URL: https://www.eversports.de/s/vertical-pole-aerial-dance-aschaffenburg]"
     ]
    },
    {
     "name": "stdout",
     "output_type": "stream",
     "text": [
      "Error during HTTP request: 404 Client Error: Not Found for url: https://www.eversports.de/s/vertical-pole-aerial-dance-aschaffenburg\n",
      "Converting to DataFrame...\n",
      "Validating URLs...\n",
      "Processing completed.\n",
      "Starting URL reconstruction...\n"
     ]
    },
    {
     "name": "stderr",
     "output_type": "stream",
     "text": [
      "2024-02-03 16:42:46,569 - INFO - Processing URL 1/4: https://www.eversports.de/s/pole-and-move-ludwigshafen\n"
     ]
    },
    {
     "name": "stdout",
     "output_type": "stream",
     "text": [
      "Converting to DataFrame...\n",
      "Validating URLs...\n"
     ]
    },
    {
     "name": "stderr",
     "output_type": "stream",
     "text": [
      "2024-02-03 16:42:47,978 - INFO - URL https://www.eversports.de/s/pole-and-move-ludwigshafen is valid.\n",
      "2024-02-03 16:42:47,979 - INFO - Processing URL 2/4: https://www.eversports.de/sw/pole-and-move-ludwigshafen\n",
      "2024-02-03 16:42:49,441 - INFO - URL https://www.eversports.de/sw/pole-and-move-ludwigshafen is valid.\n",
      "2024-02-03 16:42:49,442 - INFO - Processing URL 3/4: https://www.eversports.de/sp/pole-and-move-ludwigshafen\n",
      "2024-02-03 16:42:50,603 - INFO - URL https://www.eversports.de/sp/pole-and-move-ludwigshafen is valid.\n",
      "2024-02-03 16:42:50,605 - INFO - Processing URL 4/4: https://www.eversports.de/s/pole-and-move-ludwigshafen/team\n",
      "2024-02-03 16:42:51,935 - INFO - URL https://www.eversports.de/s/pole-and-move-ludwigshafen/team is valid.\n"
     ]
    },
    {
     "name": "stdout",
     "output_type": "stream",
     "text": [
      "Scraping Pole Studio Data from https://www.eversports.de/s/pole-and-move-ludwigshafen...\n",
      "Scraping Workshops Data from https://www.eversports.de/sw/pole-and-move-ludwigshafen...\n",
      "Scraping Workshop Details from https://www.eversports.de/e/workshop/M1wKpZR...\n",
      "Scraping Workshop Details from https://www.eversports.de/e/workshop/xAIHC25...\n",
      "Scraping Workshop Details from https://www.eversports.de/e/workshop/QSBryP0...\n",
      "Scraping Workshop Details from https://www.eversports.de/e/workshop/VBYd7ZF...\n",
      "Scraping Workshop Details from https://www.eversports.de/e/workshop/zTbGfLi...\n",
      "Scraping Workshop Details from https://www.eversports.de/e/workshop/fUoSQuY...\n"
     ]
    },
    {
     "name": "stderr",
     "output_type": "stream",
     "text": [
      "Processing URLs:  47%|████▋     | 159/337 [16:11<28:08,  9.48s/it, Current URL: https://www.eversports.de/s/pole-and-move-ludwigshafen]              "
     ]
    },
    {
     "name": "stdout",
     "output_type": "stream",
     "text": [
      "Processing completed.\n",
      "Pole Studio Data: 1 entries\n",
      "Workshops Data: 6 entries\n",
      "Workshop Details: 6 entries\n",
      "Starting URL reconstruction...\n"
     ]
    },
    {
     "name": "stderr",
     "output_type": "stream",
     "text": [
      "Processing URLs:  47%|████▋     | 160/337 [16:13<22:01,  7.47s/it, Current URL: https://www.eversports.de/s/open-aerial-dance]         "
     ]
    },
    {
     "name": "stdout",
     "output_type": "stream",
     "text": [
      "Error during HTTP request: 404 Client Error: Not Found for url: https://www.eversports.de/s/open-aerial-dance\n",
      "Converting to DataFrame...\n",
      "Validating URLs...\n",
      "Processing completed.\n",
      "Starting URL reconstruction...\n"
     ]
    },
    {
     "name": "stderr",
     "output_type": "stream",
     "text": [
      "Processing URLs:  48%|████▊     | 161/337 [16:15<16:21,  5.57s/it, Current URL: https://www.eversports.de/s/polestudio-neuss] "
     ]
    },
    {
     "name": "stdout",
     "output_type": "stream",
     "text": [
      "Error during HTTP request: 404 Client Error: Not Found for url: https://www.eversports.de/s/polestudio-neuss\n",
      "Converting to DataFrame...\n",
      "Validating URLs...\n",
      "Processing completed.\n",
      "Starting URL reconstruction...\n"
     ]
    },
    {
     "name": "stderr",
     "output_type": "stream",
     "text": [
      "2024-02-03 16:43:07,323 - INFO - Processing URL 1/1: https://www.eversports.de/s/sweatndance\n"
     ]
    },
    {
     "name": "stdout",
     "output_type": "stream",
     "text": [
      "Converting to DataFrame...\n",
      "Validating URLs...\n"
     ]
    },
    {
     "name": "stderr",
     "output_type": "stream",
     "text": [
      "2024-02-03 16:43:08,585 - INFO - URL https://www.eversports.de/s/sweatndance is valid.\n"
     ]
    },
    {
     "name": "stdout",
     "output_type": "stream",
     "text": [
      "Scraping Pole Studio Data from https://www.eversports.de/s/sweatndance...\n"
     ]
    },
    {
     "name": "stderr",
     "output_type": "stream",
     "text": [
      "Processing URLs:  48%|████▊     | 162/337 [16:18<13:54,  4.77s/it, Current URL: https://www.eversports.de/s/sweatndance]     "
     ]
    },
    {
     "name": "stdout",
     "output_type": "stream",
     "text": [
      "Processing completed.\n",
      "Pole Studio Data: 1 entries\n",
      "Starting URL reconstruction...\n"
     ]
    },
    {
     "name": "stderr",
     "output_type": "stream",
     "text": [
      "2024-02-03 16:43:10,327 - INFO - Processing URL 1/1: https://www.eversports.de/s/pole-your-body\n"
     ]
    },
    {
     "name": "stdout",
     "output_type": "stream",
     "text": [
      "Converting to DataFrame...\n",
      "Validating URLs...\n"
     ]
    },
    {
     "name": "stderr",
     "output_type": "stream",
     "text": [
      "2024-02-03 16:43:11,739 - INFO - URL https://www.eversports.de/s/pole-your-body is valid.\n"
     ]
    },
    {
     "name": "stdout",
     "output_type": "stream",
     "text": [
      "Scraping Pole Studio Data from https://www.eversports.de/s/pole-your-body...\n"
     ]
    },
    {
     "name": "stderr",
     "output_type": "stream",
     "text": [
      "Processing URLs:  48%|████▊     | 163/337 [16:21<12:45,  4.40s/it, Current URL: https://www.eversports.de/s/pole-your-body]"
     ]
    },
    {
     "name": "stdout",
     "output_type": "stream",
     "text": [
      "Processing completed.\n",
      "Pole Studio Data: 1 entries\n",
      "Starting URL reconstruction...\n"
     ]
    },
    {
     "name": "stderr",
     "output_type": "stream",
     "text": [
      "Processing URLs:  49%|████▊     | 164/337 [16:23<10:12,  3.54s/it, Current URL: https://www.eversports.de/s/pole-sisters]  "
     ]
    },
    {
     "name": "stdout",
     "output_type": "stream",
     "text": [
      "Error during HTTP request: 404 Client Error: Not Found for url: https://www.eversports.de/s/pole-sisters\n",
      "Converting to DataFrame...\n",
      "Validating URLs...\n",
      "Processing completed.\n",
      "Starting URL reconstruction...\n"
     ]
    },
    {
     "name": "stderr",
     "output_type": "stream",
     "text": [
      "2024-02-03 16:43:15,375 - INFO - Processing URL 1/4: https://www.eversports.de/s/poleathletix\n"
     ]
    },
    {
     "name": "stdout",
     "output_type": "stream",
     "text": [
      "Error reconstructing URL for 'Trainings': Unrecognized text: 'Trainings'\n",
      "Converting to DataFrame...\n",
      "Validating URLs...\n"
     ]
    },
    {
     "name": "stderr",
     "output_type": "stream",
     "text": [
      "2024-02-03 16:43:16,748 - INFO - URL https://www.eversports.de/s/poleathletix is valid.\n",
      "2024-02-03 16:43:16,749 - INFO - Processing URL 2/4: https://www.eversports.de/sw/poleathletix\n",
      "2024-02-03 16:43:18,313 - INFO - URL https://www.eversports.de/sw/poleathletix is valid.\n",
      "2024-02-03 16:43:18,314 - INFO - Processing URL 3/4: https://www.eversports.de/sp/poleathletix\n",
      "2024-02-03 16:43:19,685 - INFO - URL https://www.eversports.de/sp/poleathletix is valid.\n",
      "2024-02-03 16:43:19,686 - INFO - Processing URL 4/4: https://www.eversports.de/s/poleathletix/team\n",
      "2024-02-03 16:43:20,923 - INFO - URL https://www.eversports.de/s/poleathletix/team is valid.\n"
     ]
    },
    {
     "name": "stdout",
     "output_type": "stream",
     "text": [
      "Scraping Pole Studio Data from https://www.eversports.de/s/poleathletix...\n",
      "Scraping Workshops Data from https://www.eversports.de/sw/poleathletix...\n",
      "Scraping Workshop Details from https://www.eversports.de/e/workshop/fWcLCKr...\n",
      "Scraping Workshop Details from https://www.eversports.de/e/workshop/BCHRRb3...\n",
      "Scraping Workshop Details from https://www.eversports.de/e/workshop/LuQ-jUD...\n",
      "Scraping Workshop Details from https://www.eversports.de/e/workshop/wpcpX0U...\n",
      "Scraping Workshop Details from https://www.eversports.de/e/workshop/csrqGyT...\n",
      "Scraping Workshop Details from https://www.eversports.de/e/workshop/rXgOpSM...\n",
      "Scraping Workshop Details from https://www.eversports.de/e/workshop/GPwT8hl...\n",
      "Scraping Workshop Details from https://www.eversports.de/e/workshop/Q4B35ej...\n"
     ]
    },
    {
     "name": "stderr",
     "output_type": "stream",
     "text": [
      "Processing URLs:  49%|████▉     | 165/337 [16:43<24:50,  8.66s/it, Current URL: https://www.eversports.de/s/poleathletix]"
     ]
    },
    {
     "name": "stdout",
     "output_type": "stream",
     "text": [
      "Processing completed.\n",
      "Pole Studio Data: 1 entries\n",
      "Workshops Data: 8 entries\n",
      "Workshop Details: 8 entries\n",
      "Starting URL reconstruction...\n"
     ]
    },
    {
     "name": "stderr",
     "output_type": "stream",
     "text": [
      "2024-02-03 16:43:37,396 - INFO - Processing URL 1/3: https://www.eversports.de/s/munich-poledance\n"
     ]
    },
    {
     "name": "stdout",
     "output_type": "stream",
     "text": [
      "Converting to DataFrame...\n",
      "Validating URLs...\n"
     ]
    },
    {
     "name": "stderr",
     "output_type": "stream",
     "text": [
      "2024-02-03 16:43:39,157 - INFO - URL https://www.eversports.de/s/munich-poledance is valid.\n",
      "2024-02-03 16:43:39,158 - INFO - Processing URL 2/3: https://www.eversports.de/sp/munich-poledance\n",
      "2024-02-03 16:43:40,364 - INFO - URL https://www.eversports.de/sp/munich-poledance is valid.\n",
      "2024-02-03 16:43:40,364 - INFO - Processing URL 3/3: https://www.eversports.de/s/munich-poledance/team\n",
      "2024-02-03 16:43:41,730 - INFO - URL https://www.eversports.de/s/munich-poledance/team is valid.\n"
     ]
    },
    {
     "name": "stdout",
     "output_type": "stream",
     "text": [
      "Scraping Pole Studio Data from https://www.eversports.de/s/munich-poledance...\n"
     ]
    },
    {
     "name": "stderr",
     "output_type": "stream",
     "text": [
      "Processing URLs:  49%|████▉     | 166/337 [16:51<23:49,  8.36s/it, Current URL: https://www.eversports.de/s/munich-poledance]"
     ]
    },
    {
     "name": "stdout",
     "output_type": "stream",
     "text": [
      "Processing completed.\n",
      "Pole Studio Data: 1 entries\n",
      "Starting URL reconstruction...\n"
     ]
    },
    {
     "name": "stderr",
     "output_type": "stream",
     "text": [
      "Processing URLs:  50%|████▉     | 167/337 [16:52<17:47,  6.28s/it, Current URL: https://www.eversports.de/s/move-with-ana]   "
     ]
    },
    {
     "name": "stdout",
     "output_type": "stream",
     "text": [
      "Error during HTTP request: 404 Client Error: Not Found for url: https://www.eversports.de/s/move-with-ana\n",
      "Converting to DataFrame...\n",
      "Validating URLs...\n",
      "Processing completed.\n",
      "Starting URL reconstruction...\n"
     ]
    },
    {
     "name": "stderr",
     "output_type": "stream",
     "text": [
      "Processing URLs:  50%|████▉     | 168/337 [16:54<13:25,  4.77s/it, Current URL: https://www.eversports.de/s/flexx-arts-memmingen]"
     ]
    },
    {
     "name": "stdout",
     "output_type": "stream",
     "text": [
      "Error during HTTP request: 404 Client Error: Not Found for url: https://www.eversports.de/s/flexx-arts-memmingen\n",
      "Converting to DataFrame...\n",
      "Validating URLs...\n",
      "Processing completed.\n",
      "Starting URL reconstruction...\n"
     ]
    },
    {
     "name": "stderr",
     "output_type": "stream",
     "text": [
      "2024-02-03 16:43:46,529 - INFO - Processing URL 1/3: https://www.eversports.de/s/la-belle\n"
     ]
    },
    {
     "name": "stdout",
     "output_type": "stream",
     "text": [
      "Error reconstructing URL for 'Kurse': Unrecognized text: 'Kurse'\n",
      "Converting to DataFrame...\n",
      "Validating URLs...\n"
     ]
    },
    {
     "name": "stderr",
     "output_type": "stream",
     "text": [
      "2024-02-03 16:43:47,992 - INFO - URL https://www.eversports.de/s/la-belle is valid.\n",
      "2024-02-03 16:43:47,993 - INFO - Processing URL 2/3: https://www.eversports.de/sp/la-belle\n",
      "2024-02-03 16:43:49,211 - INFO - URL https://www.eversports.de/sp/la-belle is valid.\n",
      "2024-02-03 16:43:49,212 - INFO - Processing URL 3/3: https://www.eversports.de/s/la-belle/team\n",
      "2024-02-03 16:43:50,536 - INFO - URL https://www.eversports.de/s/la-belle/team is valid.\n"
     ]
    },
    {
     "name": "stdout",
     "output_type": "stream",
     "text": [
      "Scraping Pole Studio Data from https://www.eversports.de/s/la-belle...\n"
     ]
    },
    {
     "name": "stderr",
     "output_type": "stream",
     "text": [
      "Processing URLs:  50%|█████     | 169/337 [17:00<14:48,  5.29s/it, Current URL: https://www.eversports.de/s/la-belle]            "
     ]
    },
    {
     "name": "stdout",
     "output_type": "stream",
     "text": [
      "Processing completed.\n",
      "Pole Studio Data: 1 entries\n",
      "Starting URL reconstruction...\n"
     ]
    },
    {
     "name": "stderr",
     "output_type": "stream",
     "text": [
      "Processing URLs:  50%|█████     | 170/337 [17:01<11:18,  4.06s/it, Current URL: https://www.eversports.de/s/happy-pole-place]"
     ]
    },
    {
     "name": "stdout",
     "output_type": "stream",
     "text": [
      "Error during HTTP request: 404 Client Error: Not Found for url: https://www.eversports.de/s/happy-pole-place\n",
      "Converting to DataFrame...\n",
      "Validating URLs...\n",
      "Processing completed.\n",
      "Starting URL reconstruction...\n"
     ]
    },
    {
     "name": "stderr",
     "output_type": "stream",
     "text": [
      "Processing URLs:  51%|█████     | 171/337 [17:02<08:51,  3.20s/it, Current URL: https://www.eversports.de/s/lioness-lodge]   "
     ]
    },
    {
     "name": "stdout",
     "output_type": "stream",
     "text": [
      "Error during HTTP request: 404 Client Error: Not Found for url: https://www.eversports.de/s/lioness-lodge\n",
      "Converting to DataFrame...\n",
      "Validating URLs...\n",
      "Processing completed.\n",
      "Starting URL reconstruction...\n"
     ]
    },
    {
     "name": "stderr",
     "output_type": "stream",
     "text": [
      "Processing URLs:  51%|█████     | 172/337 [17:04<07:10,  2.61s/it, Current URL: https://www.eversports.de/s/home-of-pole] "
     ]
    },
    {
     "name": "stdout",
     "output_type": "stream",
     "text": [
      "Error during HTTP request: 404 Client Error: Not Found for url: https://www.eversports.de/s/home-of-pole\n",
      "Converting to DataFrame...\n",
      "Validating URLs...\n",
      "Processing completed.\n",
      "Starting URL reconstruction...\n"
     ]
    },
    {
     "name": "stderr",
     "output_type": "stream",
     "text": [
      "2024-02-03 16:43:56,899 - INFO - Processing URL 1/4: https://www.eversports.de/s/the-pole-jungle\n"
     ]
    },
    {
     "name": "stdout",
     "output_type": "stream",
     "text": [
      "Error reconstructing URL for 'Trainings': Unrecognized text: 'Trainings'\n",
      "Error reconstructing URL for 'Kurse': Unrecognized text: 'Kurse'\n",
      "Converting to DataFrame...\n",
      "Validating URLs...\n"
     ]
    },
    {
     "name": "stderr",
     "output_type": "stream",
     "text": [
      "2024-02-03 16:43:58,966 - INFO - URL https://www.eversports.de/s/the-pole-jungle is valid.\n",
      "2024-02-03 16:43:58,968 - INFO - Processing URL 2/4: https://www.eversports.de/sw/the-pole-jungle\n",
      "2024-02-03 16:44:00,418 - INFO - URL https://www.eversports.de/sw/the-pole-jungle is not valid.\n",
      "2024-02-03 16:44:00,420 - INFO - Processing URL 3/4: https://www.eversports.de/sp/the-pole-jungle\n",
      "2024-02-03 16:44:01,780 - INFO - URL https://www.eversports.de/sp/the-pole-jungle is not valid.\n",
      "2024-02-03 16:44:01,781 - INFO - Processing URL 4/4: https://www.eversports.de/s/the-pole-jungle/team\n",
      "2024-02-03 16:44:03,038 - INFO - URL https://www.eversports.de/s/the-pole-jungle/team is valid.\n"
     ]
    },
    {
     "name": "stdout",
     "output_type": "stream",
     "text": [
      "Scraping Pole Studio Data from https://www.eversports.de/s/the-pole-jungle...\n"
     ]
    },
    {
     "name": "stderr",
     "output_type": "stream",
     "text": [
      "Processing URLs:  51%|█████▏    | 173/337 [17:12<11:51,  4.34s/it, Current URL: https://www.eversports.de/s/the-pole-jungle]"
     ]
    },
    {
     "name": "stdout",
     "output_type": "stream",
     "text": [
      "Processing completed.\n",
      "Pole Studio Data: 1 entries\n",
      "Starting URL reconstruction...\n"
     ]
    },
    {
     "name": "stderr",
     "output_type": "stream",
     "text": [
      "2024-02-03 16:44:05,063 - INFO - Processing URL 1/4: https://www.eversports.de/s/aerial-loft\n"
     ]
    },
    {
     "name": "stdout",
     "output_type": "stream",
     "text": [
      "Error reconstructing URL for 'Kurse': Unrecognized text: 'Kurse'\n",
      "Error reconstructing URL for 'Events': Unrecognized text: 'Events'\n",
      "Converting to DataFrame...\n",
      "Validating URLs...\n"
     ]
    },
    {
     "name": "stderr",
     "output_type": "stream",
     "text": [
      "2024-02-03 16:44:06,606 - INFO - URL https://www.eversports.de/s/aerial-loft is valid.\n",
      "2024-02-03 16:44:06,606 - INFO - Processing URL 2/4: https://www.eversports.de/sw/aerial-loft\n",
      "2024-02-03 16:44:09,045 - INFO - URL https://www.eversports.de/sw/aerial-loft is valid.\n",
      "2024-02-03 16:44:09,046 - INFO - Processing URL 3/4: https://www.eversports.de/sp/aerial-loft\n",
      "2024-02-03 16:44:10,263 - INFO - URL https://www.eversports.de/sp/aerial-loft is valid.\n",
      "2024-02-03 16:44:10,265 - INFO - Processing URL 4/4: https://www.eversports.de/s/aerial-loft/team\n",
      "2024-02-03 16:44:11,562 - INFO - URL https://www.eversports.de/s/aerial-loft/team is valid.\n"
     ]
    },
    {
     "name": "stdout",
     "output_type": "stream",
     "text": [
      "Scraping Pole Studio Data from https://www.eversports.de/s/aerial-loft...\n",
      "Scraping Workshops Data from https://www.eversports.de/sw/aerial-loft...\n",
      "Scraping Workshop Details from https://www.eversports.de/e/workshop/tM6w_bx...\n",
      "Scraping Workshop Details from https://www.eversports.de/e/workshop/Uf4VM65...\n",
      "Scraping Workshop Details from https://www.eversports.de/e/workshop/N4v8WV0...\n",
      "Scraping Workshop Details from https://www.eversports.de/e/workshop/onN7Doj...\n",
      "Scraping Workshop Details from https://www.eversports.de/e/workshop/arPk7c0...\n",
      "Scraping Workshop Details from https://www.eversports.de/e/workshop/r3elm4w...\n"
     ]
    },
    {
     "name": "stderr",
     "output_type": "stream",
     "text": [
      "Processing URLs:  52%|█████▏    | 174/337 [17:31<23:51,  8.78s/it, Current URL: https://www.eversports.de/s/aerial-loft]    "
     ]
    },
    {
     "name": "stdout",
     "output_type": "stream",
     "text": [
      "Processing completed.\n",
      "Pole Studio Data: 1 entries\n",
      "Workshops Data: 6 entries\n",
      "Workshop Details: 6 entries\n",
      "Starting URL reconstruction...\n"
     ]
    },
    {
     "name": "stderr",
     "output_type": "stream",
     "text": [
      "2024-02-03 16:44:24,114 - INFO - Processing URL 1/4: https://www.eversports.de/s/balance-neumarkt\n"
     ]
    },
    {
     "name": "stdout",
     "output_type": "stream",
     "text": [
      "Error reconstructing URL for 'Kurse': Unrecognized text: 'Kurse'\n",
      "Converting to DataFrame...\n",
      "Validating URLs...\n"
     ]
    },
    {
     "name": "stderr",
     "output_type": "stream",
     "text": [
      "2024-02-03 16:44:25,773 - INFO - URL https://www.eversports.de/s/balance-neumarkt is valid.\n",
      "2024-02-03 16:44:25,774 - INFO - Processing URL 2/4: https://www.eversports.de/sw/balance-neumarkt\n",
      "2024-02-03 16:44:27,561 - INFO - URL https://www.eversports.de/sw/balance-neumarkt is valid.\n",
      "2024-02-03 16:44:27,562 - INFO - Processing URL 3/4: https://www.eversports.de/sp/balance-neumarkt\n",
      "2024-02-03 16:44:28,819 - INFO - URL https://www.eversports.de/sp/balance-neumarkt is valid.\n",
      "2024-02-03 16:44:28,820 - INFO - Processing URL 4/4: https://www.eversports.de/s/balance-neumarkt/team\n",
      "2024-02-03 16:44:30,177 - INFO - URL https://www.eversports.de/s/balance-neumarkt/team is valid.\n"
     ]
    },
    {
     "name": "stdout",
     "output_type": "stream",
     "text": [
      "Scraping Pole Studio Data from https://www.eversports.de/s/balance-neumarkt...\n",
      "Scraping Workshops Data from https://www.eversports.de/sw/balance-neumarkt...\n",
      "Scraping Workshop Details from https://www.eversports.de/e/workshop/OWKdsKA...\n",
      "Scraping Workshop Details from https://www.eversports.de/e/workshop/qtwNW3p...\n",
      "Scraping Workshop Details from https://www.eversports.de/e/workshop/-lRCjR7...\n",
      "Scraping Workshop Details from https://www.eversports.de/e/workshop/DmdrEre...\n",
      "Scraping Workshop Details from https://www.eversports.de/e/workshop/vnjpjso...\n",
      "Scraping Workshop Details from https://www.eversports.de/e/workshop/s-CvYfY...\n",
      "Scraping Workshop Details from https://www.eversports.de/e/workshop/lIzIIH9...\n",
      "Scraping Workshop Details from https://www.eversports.de/e/workshop/1hwRppH...\n",
      "Scraping Workshop Details from https://www.eversports.de/e/workshop/FWO9nVb...\n",
      "Scraping Workshop Details from https://www.eversports.de/e/workshop/wHwtdS-...\n",
      "Scraping Workshop Details from https://www.eversports.de/e/workshop/D7_g8hU...\n",
      "Scraping Workshop Details from https://www.eversports.de/e/workshop/yXJE2Qf...\n",
      "Scraping Workshop Details from https://www.eversports.de/e/workshop/AL0d8uV...\n",
      "Scraping Workshop Details from https://www.eversports.de/e/workshop/WpCq6MN...\n",
      "Scraping Workshop Details from https://www.eversports.de/e/workshop/uE03gmT...\n",
      "Scraping Workshop Details from https://www.eversports.de/e/workshop/Nm33K4u...\n",
      "Scraping Workshop Details from https://www.eversports.de/e/workshop/U27XEmo...\n",
      "Scraping Workshop Details from https://www.eversports.de/e/workshop/DujyYDr...\n"
     ]
    },
    {
     "name": "stderr",
     "output_type": "stream",
     "text": [
      "Processing URLs:  52%|█████▏    | 175/337 [18:07<45:57, 17.02s/it, Current URL: https://www.eversports.de/s/balance-neumarkt]"
     ]
    },
    {
     "name": "stdout",
     "output_type": "stream",
     "text": [
      "Processing completed.\n",
      "Pole Studio Data: 1 entries\n",
      "Workshops Data: 18 entries\n",
      "Workshop Details: 18 entries\n",
      "Starting URL reconstruction...\n"
     ]
    },
    {
     "name": "stderr",
     "output_type": "stream",
     "text": [
      "Processing URLs:  52%|█████▏    | 176/337 [18:10<33:44, 12.57s/it, Current URL: https://www.eversports.de/s/lift-off-poledance-academy-viersen]"
     ]
    },
    {
     "name": "stdout",
     "output_type": "stream",
     "text": [
      "Error during HTTP request: 404 Client Error: Not Found for url: https://www.eversports.de/s/lift-off-poledance-academy-viersen\n",
      "Converting to DataFrame...\n",
      "Validating URLs...\n",
      "Processing completed.\n",
      "Starting URL reconstruction...\n"
     ]
    },
    {
     "name": "stderr",
     "output_type": "stream",
     "text": [
      "2024-02-03 16:45:02,501 - INFO - Processing URL 1/4: https://www.eversports.de/s/t-tanzstueck-wolfsburg\n"
     ]
    },
    {
     "name": "stdout",
     "output_type": "stream",
     "text": [
      "Error reconstructing URL for 'Kurse': Unrecognized text: 'Kurse'\n",
      "Converting to DataFrame...\n",
      "Validating URLs...\n"
     ]
    },
    {
     "name": "stderr",
     "output_type": "stream",
     "text": [
      "2024-02-03 16:45:04,295 - INFO - URL https://www.eversports.de/s/t-tanzstueck-wolfsburg is valid.\n",
      "2024-02-03 16:45:04,296 - INFO - Processing URL 2/4: https://www.eversports.de/sw/t-tanzstueck-wolfsburg\n",
      "2024-02-03 16:45:05,537 - INFO - URL https://www.eversports.de/sw/t-tanzstueck-wolfsburg is valid.\n",
      "2024-02-03 16:45:05,538 - INFO - Processing URL 3/4: https://www.eversports.de/sp/t-tanzstueck-wolfsburg\n",
      "2024-02-03 16:45:06,711 - INFO - URL https://www.eversports.de/sp/t-tanzstueck-wolfsburg is valid.\n",
      "2024-02-03 16:45:06,712 - INFO - Processing URL 4/4: https://www.eversports.de/s/t-tanzstueck-wolfsburg/team\n",
      "2024-02-03 16:45:08,028 - INFO - URL https://www.eversports.de/s/t-tanzstueck-wolfsburg/team is valid.\n"
     ]
    },
    {
     "name": "stdout",
     "output_type": "stream",
     "text": [
      "Scraping Pole Studio Data from https://www.eversports.de/s/t-tanzstueck-wolfsburg...\n",
      "Scraping Workshops Data from https://www.eversports.de/sw/t-tanzstueck-wolfsburg...\n",
      "Scraping Workshop Details from https://www.eversports.de/e/workshop/jg7fLUb...\n"
     ]
    },
    {
     "name": "stderr",
     "output_type": "stream",
     "text": [
      "Processing URLs:  53%|█████▎    | 177/337 [18:20<31:32, 11.83s/it, Current URL: https://www.eversports.de/s/t-tanzstueck-wolfsburg]            "
     ]
    },
    {
     "name": "stdout",
     "output_type": "stream",
     "text": [
      "Processing completed.\n",
      "Pole Studio Data: 1 entries\n",
      "Workshops Data: 1 entries\n",
      "Workshop Details: 1 entries\n",
      "Starting URL reconstruction...\n"
     ]
    },
    {
     "name": "stderr",
     "output_type": "stream",
     "text": [
      "2024-02-03 16:45:12,449 - INFO - Processing URL 1/3: https://www.eversports.de/s/divapole\n"
     ]
    },
    {
     "name": "stdout",
     "output_type": "stream",
     "text": [
      "Error reconstructing URL for 'Trainings': Unrecognized text: 'Trainings'\n",
      "Converting to DataFrame...\n",
      "Validating URLs...\n"
     ]
    },
    {
     "name": "stderr",
     "output_type": "stream",
     "text": [
      "2024-02-03 16:45:13,829 - INFO - URL https://www.eversports.de/s/divapole is valid.\n",
      "2024-02-03 16:45:13,830 - INFO - Processing URL 2/3: https://www.eversports.de/sp/divapole\n",
      "2024-02-03 16:45:15,188 - INFO - URL https://www.eversports.de/sp/divapole is valid.\n",
      "2024-02-03 16:45:15,189 - INFO - Processing URL 3/3: https://www.eversports.de/s/divapole/team\n",
      "2024-02-03 16:45:17,263 - INFO - URL https://www.eversports.de/s/divapole/team is valid.\n"
     ]
    },
    {
     "name": "stdout",
     "output_type": "stream",
     "text": [
      "Scraping Pole Studio Data from https://www.eversports.de/s/divapole...\n"
     ]
    },
    {
     "name": "stderr",
     "output_type": "stream",
     "text": [
      "Processing URLs:  53%|█████▎    | 178/337 [18:26<27:05, 10.23s/it, Current URL: https://www.eversports.de/s/divapole]              "
     ]
    },
    {
     "name": "stdout",
     "output_type": "stream",
     "text": [
      "Processing completed.\n",
      "Pole Studio Data: 1 entries\n",
      "Starting URL reconstruction...\n"
     ]
    },
    {
     "name": "stderr",
     "output_type": "stream",
     "text": [
      "2024-02-03 16:45:18,889 - INFO - Processing URL 1/1: https://www.eversports.de/s/pole-passion-bielefeld\n"
     ]
    },
    {
     "name": "stdout",
     "output_type": "stream",
     "text": [
      "Converting to DataFrame...\n",
      "Validating URLs...\n"
     ]
    },
    {
     "name": "stderr",
     "output_type": "stream",
     "text": [
      "2024-02-03 16:45:20,378 - INFO - URL https://www.eversports.de/s/pole-passion-bielefeld is valid.\n"
     ]
    },
    {
     "name": "stdout",
     "output_type": "stream",
     "text": [
      "Scraping Pole Studio Data from https://www.eversports.de/s/pole-passion-bielefeld...\n"
     ]
    },
    {
     "name": "stderr",
     "output_type": "stream",
     "text": [
      "Processing URLs:  53%|█████▎    | 179/337 [18:29<21:17,  8.09s/it, Current URL: https://www.eversports.de/s/pole-passion-bielefeld]"
     ]
    },
    {
     "name": "stdout",
     "output_type": "stream",
     "text": [
      "Processing completed.\n",
      "Pole Studio Data: 1 entries\n",
      "Starting URL reconstruction...\n"
     ]
    },
    {
     "name": "stderr",
     "output_type": "stream",
     "text": [
      "2024-02-03 16:45:22,445 - INFO - Processing URL 1/3: https://www.eversports.de/s/mmc-dance-and-event-studio\n"
     ]
    },
    {
     "name": "stdout",
     "output_type": "stream",
     "text": [
      "Converting to DataFrame...\n",
      "Validating URLs...\n"
     ]
    },
    {
     "name": "stderr",
     "output_type": "stream",
     "text": [
      "2024-02-03 16:45:24,203 - INFO - URL https://www.eversports.de/s/mmc-dance-and-event-studio is valid.\n",
      "2024-02-03 16:45:24,204 - INFO - Processing URL 2/3: https://www.eversports.de/sp/mmc-dance-and-event-studio\n",
      "2024-02-03 16:45:25,375 - INFO - URL https://www.eversports.de/sp/mmc-dance-and-event-studio is valid.\n",
      "2024-02-03 16:45:25,376 - INFO - Processing URL 3/3: https://www.eversports.de/s/mmc-dance-and-event-studio/team\n",
      "2024-02-03 16:45:27,532 - INFO - URL https://www.eversports.de/s/mmc-dance-and-event-studio/team is valid.\n"
     ]
    },
    {
     "name": "stdout",
     "output_type": "stream",
     "text": [
      "Scraping Pole Studio Data from https://www.eversports.de/s/mmc-dance-and-event-studio...\n"
     ]
    },
    {
     "name": "stderr",
     "output_type": "stream",
     "text": [
      "Processing URLs:  53%|█████▎    | 180/337 [18:38<21:27,  8.20s/it, Current URL: https://www.eversports.de/s/mmc-dance-and-event-studio]"
     ]
    },
    {
     "name": "stdout",
     "output_type": "stream",
     "text": [
      "Processing completed.\n",
      "Pole Studio Data: 1 entries\n",
      "Starting URL reconstruction...\n"
     ]
    },
    {
     "name": "stderr",
     "output_type": "stream",
     "text": [
      "2024-02-03 16:45:30,612 - INFO - Processing URL 1/3: https://www.eversports.de/s/pole-dance-beauties\n"
     ]
    },
    {
     "name": "stdout",
     "output_type": "stream",
     "text": [
      "Error reconstructing URL for 'Kurse': Unrecognized text: 'Kurse'\n",
      "Converting to DataFrame...\n",
      "Validating URLs...\n"
     ]
    },
    {
     "name": "stderr",
     "output_type": "stream",
     "text": [
      "2024-02-03 16:45:32,022 - INFO - URL https://www.eversports.de/s/pole-dance-beauties is valid.\n",
      "2024-02-03 16:45:32,023 - INFO - Processing URL 2/3: https://www.eversports.de/sp/pole-dance-beauties\n",
      "2024-02-03 16:45:33,350 - INFO - URL https://www.eversports.de/sp/pole-dance-beauties is valid.\n",
      "2024-02-03 16:45:33,351 - INFO - Processing URL 3/3: https://www.eversports.de/s/pole-dance-beauties/team\n",
      "2024-02-03 16:45:34,630 - INFO - URL https://www.eversports.de/s/pole-dance-beauties/team is valid.\n"
     ]
    },
    {
     "name": "stdout",
     "output_type": "stream",
     "text": [
      "Scraping Pole Studio Data from https://www.eversports.de/s/pole-dance-beauties...\n"
     ]
    },
    {
     "name": "stderr",
     "output_type": "stream",
     "text": [
      "Processing URLs:  54%|█████▎    | 181/337 [18:44<19:30,  7.50s/it, Current URL: https://www.eversports.de/s/pole-dance-beauties]       "
     ]
    },
    {
     "name": "stdout",
     "output_type": "stream",
     "text": [
      "Processing completed.\n",
      "Pole Studio Data: 1 entries\n",
      "Starting URL reconstruction...\n"
     ]
    },
    {
     "name": "stderr",
     "output_type": "stream",
     "text": [
      "Processing URLs:  54%|█████▍    | 182/337 [18:45<14:33,  5.63s/it, Current URL: https://www.eversports.de/s/pole-position-studio]"
     ]
    },
    {
     "name": "stdout",
     "output_type": "stream",
     "text": [
      "Error during HTTP request: 404 Client Error: Not Found for url: https://www.eversports.de/s/pole-position-studio\n",
      "Converting to DataFrame...\n",
      "Validating URLs...\n",
      "Processing completed.\n",
      "Starting URL reconstruction...\n"
     ]
    },
    {
     "name": "stderr",
     "output_type": "stream",
     "text": [
      "Processing URLs:  54%|█████▍    | 183/337 [18:46<11:11,  4.36s/it, Current URL: https://www.eversports.de/s/moving-art-studios]  "
     ]
    },
    {
     "name": "stdout",
     "output_type": "stream",
     "text": [
      "Error during HTTP request: 404 Client Error: Not Found for url: https://www.eversports.de/s/moving-art-studios\n",
      "Converting to DataFrame...\n",
      "Validating URLs...\n",
      "Processing completed.\n",
      "Starting URL reconstruction...\n"
     ]
    },
    {
     "name": "stderr",
     "output_type": "stream",
     "text": [
      "Processing URLs:  55%|█████▍    | 184/337 [18:48<09:09,  3.59s/it, Current URL: https://www.eversports.de/s/ironx]             "
     ]
    },
    {
     "name": "stdout",
     "output_type": "stream",
     "text": [
      "Error during HTTP request: 404 Client Error: Not Found for url: https://www.eversports.de/s/ironx\n",
      "Converting to DataFrame...\n",
      "Validating URLs...\n",
      "Processing completed.\n",
      "Starting URL reconstruction...\n"
     ]
    },
    {
     "name": "stderr",
     "output_type": "stream",
     "text": [
      "2024-02-03 16:45:42,010 - INFO - Processing URL 1/3: https://www.eversports.de/s/yh-pole-and-sports-berlin\n"
     ]
    },
    {
     "name": "stdout",
     "output_type": "stream",
     "text": [
      "Converting to DataFrame...\n",
      "Validating URLs...\n"
     ]
    },
    {
     "name": "stderr",
     "output_type": "stream",
     "text": [
      "2024-02-03 16:45:43,438 - INFO - URL https://www.eversports.de/s/yh-pole-and-sports-berlin is valid.\n",
      "2024-02-03 16:45:43,439 - INFO - Processing URL 2/3: https://www.eversports.de/sp/yh-pole-and-sports-berlin\n",
      "2024-02-03 16:45:44,708 - INFO - URL https://www.eversports.de/sp/yh-pole-and-sports-berlin is valid.\n",
      "2024-02-03 16:45:44,709 - INFO - Processing URL 3/3: https://www.eversports.de/s/yh-pole-and-sports-berlin/team\n",
      "2024-02-03 16:45:46,117 - INFO - URL https://www.eversports.de/s/yh-pole-and-sports-berlin/team is valid.\n"
     ]
    },
    {
     "name": "stdout",
     "output_type": "stream",
     "text": [
      "Scraping Pole Studio Data from https://www.eversports.de/s/yh-pole-and-sports-berlin...\n"
     ]
    },
    {
     "name": "stderr",
     "output_type": "stream",
     "text": [
      "Processing URLs:  55%|█████▍    | 185/337 [18:55<11:43,  4.63s/it, Current URL: https://www.eversports.de/s/yh-pole-and-sports-berlin]"
     ]
    },
    {
     "name": "stdout",
     "output_type": "stream",
     "text": [
      "Processing completed.\n",
      "Pole Studio Data: 1 entries\n",
      "Starting URL reconstruction...\n"
     ]
    },
    {
     "name": "stderr",
     "output_type": "stream",
     "text": [
      "Processing URLs:  55%|█████▌    | 186/337 [18:56<09:05,  3.61s/it, Current URL: https://www.eversports.de/s/polemotion-freiburg]      "
     ]
    },
    {
     "name": "stdout",
     "output_type": "stream",
     "text": [
      "Error during HTTP request: 404 Client Error: Not Found for url: https://www.eversports.de/s/polemotion-freiburg\n",
      "Converting to DataFrame...\n",
      "Validating URLs...\n",
      "Processing completed.\n",
      "Starting URL reconstruction...\n"
     ]
    },
    {
     "name": "stderr",
     "output_type": "stream",
     "text": [
      "2024-02-03 16:45:49,159 - INFO - Processing URL 1/4: https://www.eversports.de/s/dayuma-pole-and-acrobatics\n"
     ]
    },
    {
     "name": "stdout",
     "output_type": "stream",
     "text": [
      "Converting to DataFrame...\n",
      "Validating URLs...\n"
     ]
    },
    {
     "name": "stderr",
     "output_type": "stream",
     "text": [
      "2024-02-03 16:45:50,502 - INFO - URL https://www.eversports.de/s/dayuma-pole-and-acrobatics is valid.\n",
      "2024-02-03 16:45:50,503 - INFO - Processing URL 2/4: https://www.eversports.de/sw/dayuma-pole-and-acrobatics\n",
      "2024-02-03 16:45:51,677 - INFO - URL https://www.eversports.de/sw/dayuma-pole-and-acrobatics is not valid.\n",
      "2024-02-03 16:45:51,678 - INFO - Processing URL 3/4: https://www.eversports.de/sp/dayuma-pole-and-acrobatics\n",
      "2024-02-03 16:45:52,912 - INFO - URL https://www.eversports.de/sp/dayuma-pole-and-acrobatics is not valid.\n",
      "2024-02-03 16:45:52,913 - INFO - Processing URL 4/4: https://www.eversports.de/s/dayuma-pole-and-acrobatics/team\n",
      "2024-02-03 16:45:54,131 - INFO - URL https://www.eversports.de/s/dayuma-pole-and-acrobatics/team is valid.\n"
     ]
    },
    {
     "name": "stdout",
     "output_type": "stream",
     "text": [
      "Scraping Pole Studio Data from https://www.eversports.de/s/dayuma-pole-and-acrobatics...\n"
     ]
    },
    {
     "name": "stderr",
     "output_type": "stream",
     "text": [
      "Processing URLs:  55%|█████▌    | 187/337 [19:03<11:26,  4.57s/it, Current URL: https://www.eversports.de/s/dayuma-pole-and-acrobatics]"
     ]
    },
    {
     "name": "stdout",
     "output_type": "stream",
     "text": [
      "Processing completed.\n",
      "Pole Studio Data: 1 entries\n",
      "Starting URL reconstruction...\n"
     ]
    },
    {
     "name": "stderr",
     "output_type": "stream",
     "text": [
      "2024-02-03 16:45:56,011 - INFO - Processing URL 1/1: https://www.eversports.de/s/nisa-verticals\n"
     ]
    },
    {
     "name": "stdout",
     "output_type": "stream",
     "text": [
      "Converting to DataFrame...\n",
      "Validating URLs...\n"
     ]
    },
    {
     "name": "stderr",
     "output_type": "stream",
     "text": [
      "2024-02-03 16:45:57,299 - INFO - URL https://www.eversports.de/s/nisa-verticals is valid.\n"
     ]
    },
    {
     "name": "stdout",
     "output_type": "stream",
     "text": [
      "Scraping Pole Studio Data from https://www.eversports.de/s/nisa-verticals...\n"
     ]
    },
    {
     "name": "stderr",
     "output_type": "stream",
     "text": [
      "Processing URLs:  56%|█████▌    | 188/337 [19:07<10:33,  4.25s/it, Current URL: https://www.eversports.de/s/nisa-verticals]            "
     ]
    },
    {
     "name": "stdout",
     "output_type": "stream",
     "text": [
      "Processing completed.\n",
      "Pole Studio Data: 1 entries\n",
      "Starting URL reconstruction...\n"
     ]
    },
    {
     "name": "stderr",
     "output_type": "stream",
     "text": [
      "Processing URLs:  56%|█████▌    | 189/337 [19:08<08:13,  3.33s/it, Current URL: https://www.eversports.de/s/polefitness-by-sophie-m.]"
     ]
    },
    {
     "name": "stdout",
     "output_type": "stream",
     "text": [
      "Error during HTTP request: 404 Client Error: Not Found for url: https://www.eversports.de/s/polefitness-by-sophie-m.\n",
      "Converting to DataFrame...\n",
      "Validating URLs...\n",
      "Processing completed.\n",
      "Starting URL reconstruction...\n"
     ]
    },
    {
     "name": "stderr",
     "output_type": "stream",
     "text": [
      "2024-02-03 16:46:00,699 - INFO - Processing URL 1/1: https://www.eversports.de/s/freaky-fitness\n"
     ]
    },
    {
     "name": "stdout",
     "output_type": "stream",
     "text": [
      "Converting to DataFrame...\n",
      "Validating URLs...\n"
     ]
    },
    {
     "name": "stderr",
     "output_type": "stream",
     "text": [
      "2024-02-03 16:46:02,233 - INFO - URL https://www.eversports.de/s/freaky-fitness is valid.\n"
     ]
    },
    {
     "name": "stdout",
     "output_type": "stream",
     "text": [
      "Scraping Pole Studio Data from https://www.eversports.de/s/freaky-fitness...\n"
     ]
    },
    {
     "name": "stderr",
     "output_type": "stream",
     "text": [
      "Processing URLs:  56%|█████▋    | 190/337 [19:11<08:07,  3.32s/it, Current URL: https://www.eversports.de/s/freaky-fitness]          "
     ]
    },
    {
     "name": "stdout",
     "output_type": "stream",
     "text": [
      "Processing completed.\n",
      "Pole Studio Data: 1 entries\n",
      "Starting URL reconstruction...\n"
     ]
    },
    {
     "name": "stderr",
     "output_type": "stream",
     "text": [
      "Processing URLs:  57%|█████▋    | 191/337 [19:12<06:36,  2.72s/it, Current URL: https://www.eversports.de/s/orbit-studio]  "
     ]
    },
    {
     "name": "stdout",
     "output_type": "stream",
     "text": [
      "Error during HTTP request: 404 Client Error: Not Found for url: https://www.eversports.de/s/orbit-studio\n",
      "Converting to DataFrame...\n",
      "Validating URLs...\n",
      "Processing completed.\n",
      "Starting URL reconstruction...\n"
     ]
    },
    {
     "name": "stderr",
     "output_type": "stream",
     "text": [
      "Processing URLs:  57%|█████▋    | 192/337 [19:14<05:27,  2.26s/it, Current URL: https://www.eversports.de/s/unique-pole-art]"
     ]
    },
    {
     "name": "stdout",
     "output_type": "stream",
     "text": [
      "Error during HTTP request: 404 Client Error: Not Found for url: https://www.eversports.de/s/unique-pole-art\n",
      "Converting to DataFrame...\n",
      "Validating URLs...\n",
      "Processing completed.\n",
      "Starting URL reconstruction...\n"
     ]
    },
    {
     "name": "stderr",
     "output_type": "stream",
     "text": [
      "Processing URLs:  57%|█████▋    | 193/337 [19:15<04:38,  1.93s/it, Current URL: https://www.eversports.de/s/health-&-shape-münchen]"
     ]
    },
    {
     "name": "stdout",
     "output_type": "stream",
     "text": [
      "Error during HTTP request: 404 Client Error: Not Found for url: https://www.eversports.de/s/health-&-shape-m%C3%BCnchen\n",
      "Converting to DataFrame...\n",
      "Validating URLs...\n",
      "Processing completed.\n",
      "Starting URL reconstruction...\n"
     ]
    },
    {
     "name": "stderr",
     "output_type": "stream",
     "text": [
      "2024-02-03 16:46:08,402 - INFO - Processing URL 1/3: https://www.eversports.de/s/spin-up\n"
     ]
    },
    {
     "name": "stdout",
     "output_type": "stream",
     "text": [
      "Converting to DataFrame...\n",
      "Validating URLs...\n"
     ]
    },
    {
     "name": "stderr",
     "output_type": "stream",
     "text": [
      "2024-02-03 16:46:09,714 - INFO - URL https://www.eversports.de/s/spin-up is valid.\n",
      "2024-02-03 16:46:09,714 - INFO - Processing URL 2/3: https://www.eversports.de/sp/spin-up\n",
      "2024-02-03 16:46:10,997 - INFO - URL https://www.eversports.de/sp/spin-up is not valid.\n",
      "2024-02-03 16:46:10,997 - INFO - Processing URL 3/3: https://www.eversports.de/s/spin-up/team\n",
      "2024-02-03 16:46:12,337 - INFO - URL https://www.eversports.de/s/spin-up/team is valid.\n"
     ]
    },
    {
     "name": "stdout",
     "output_type": "stream",
     "text": [
      "Scraping Pole Studio Data from https://www.eversports.de/s/spin-up...\n"
     ]
    },
    {
     "name": "stderr",
     "output_type": "stream",
     "text": [
      "Processing URLs:  58%|█████▊    | 194/337 [19:22<08:17,  3.48s/it, Current URL: https://www.eversports.de/s/spin-up]               "
     ]
    },
    {
     "name": "stdout",
     "output_type": "stream",
     "text": [
      "Processing completed.\n",
      "Pole Studio Data: 1 entries\n",
      "Starting URL reconstruction...\n"
     ]
    },
    {
     "name": "stderr",
     "output_type": "stream",
     "text": [
      "Processing URLs:  58%|█████▊    | 195/337 [19:26<08:48,  3.72s/it, Current URL: https://www.eversports.de/s/körpernah]"
     ]
    },
    {
     "name": "stdout",
     "output_type": "stream",
     "text": [
      "Error during HTTP request: Exceeded 30 redirects.\n",
      "Converting to DataFrame...\n",
      "Validating URLs...\n",
      "Processing completed.\n",
      "Starting URL reconstruction...\n"
     ]
    },
    {
     "name": "stderr",
     "output_type": "stream",
     "text": [
      "Processing URLs:  58%|█████▊    | 196/337 [19:27<06:57,  2.96s/it, Current URL: https://www.eversports.de/s/mypole]   "
     ]
    },
    {
     "name": "stdout",
     "output_type": "stream",
     "text": [
      "Error during HTTP request: 404 Client Error: Not Found for url: https://www.eversports.de/s/mypole\n",
      "Converting to DataFrame...\n",
      "Validating URLs...\n",
      "Processing completed.\n",
      "Starting URL reconstruction...\n"
     ]
    },
    {
     "name": "stderr",
     "output_type": "stream",
     "text": [
      "Processing URLs:  58%|█████▊    | 197/337 [19:29<05:38,  2.42s/it, Current URL: https://www.eversports.de/s/seemannsbraut-poledance-flensburg]"
     ]
    },
    {
     "name": "stdout",
     "output_type": "stream",
     "text": [
      "Error during HTTP request: 404 Client Error: Not Found for url: https://www.eversports.de/s/seemannsbraut-poledance-flensburg\n",
      "Converting to DataFrame...\n",
      "Validating URLs...\n",
      "Processing completed.\n",
      "Starting URL reconstruction...\n"
     ]
    },
    {
     "name": "stderr",
     "output_type": "stream",
     "text": [
      "2024-02-03 16:46:21,381 - INFO - Processing URL 1/4: https://www.eversports.de/s/studio-aeris\n"
     ]
    },
    {
     "name": "stdout",
     "output_type": "stream",
     "text": [
      "Error reconstructing URL for 'Kurse': Unrecognized text: 'Kurse'\n",
      "Converting to DataFrame...\n",
      "Validating URLs...\n"
     ]
    },
    {
     "name": "stderr",
     "output_type": "stream",
     "text": [
      "2024-02-03 16:46:22,746 - INFO - URL https://www.eversports.de/s/studio-aeris is valid.\n",
      "2024-02-03 16:46:22,747 - INFO - Processing URL 2/4: https://www.eversports.de/sw/studio-aeris\n",
      "2024-02-03 16:46:23,880 - INFO - URL https://www.eversports.de/sw/studio-aeris is not valid.\n",
      "2024-02-03 16:46:23,881 - INFO - Processing URL 3/4: https://www.eversports.de/sp/studio-aeris\n",
      "2024-02-03 16:46:25,081 - INFO - URL https://www.eversports.de/sp/studio-aeris is not valid.\n",
      "2024-02-03 16:46:25,082 - INFO - Processing URL 4/4: https://www.eversports.de/s/studio-aeris/team\n",
      "2024-02-03 16:46:27,074 - INFO - URL https://www.eversports.de/s/studio-aeris/team is valid.\n"
     ]
    },
    {
     "name": "stdout",
     "output_type": "stream",
     "text": [
      "Scraping Pole Studio Data from https://www.eversports.de/s/studio-aeris...\n"
     ]
    },
    {
     "name": "stderr",
     "output_type": "stream",
     "text": [
      "Processing URLs:  59%|█████▉    | 198/337 [19:36<09:07,  3.94s/it, Current URL: https://www.eversports.de/s/studio-aeris]                     "
     ]
    },
    {
     "name": "stdout",
     "output_type": "stream",
     "text": [
      "Processing completed.\n",
      "Pole Studio Data: 1 entries\n",
      "Starting URL reconstruction...\n"
     ]
    },
    {
     "name": "stderr",
     "output_type": "stream",
     "text": [
      "2024-02-03 16:46:28,874 - INFO - Processing URL 1/4: https://www.eversports.de/s/pole-and-move-heidelberg\n"
     ]
    },
    {
     "name": "stdout",
     "output_type": "stream",
     "text": [
      "Converting to DataFrame...\n",
      "Validating URLs...\n"
     ]
    },
    {
     "name": "stderr",
     "output_type": "stream",
     "text": [
      "2024-02-03 16:46:30,189 - INFO - URL https://www.eversports.de/s/pole-and-move-heidelberg is valid.\n",
      "2024-02-03 16:46:30,191 - INFO - Processing URL 2/4: https://www.eversports.de/sw/pole-and-move-heidelberg\n",
      "2024-02-03 16:46:31,572 - INFO - URL https://www.eversports.de/sw/pole-and-move-heidelberg is valid.\n",
      "2024-02-03 16:46:31,573 - INFO - Processing URL 3/4: https://www.eversports.de/sp/pole-and-move-heidelberg\n",
      "2024-02-03 16:46:32,830 - INFO - URL https://www.eversports.de/sp/pole-and-move-heidelberg is valid.\n",
      "2024-02-03 16:46:32,831 - INFO - Processing URL 4/4: https://www.eversports.de/s/pole-and-move-heidelberg/team\n",
      "2024-02-03 16:46:34,229 - INFO - URL https://www.eversports.de/s/pole-and-move-heidelberg/team is valid.\n"
     ]
    },
    {
     "name": "stdout",
     "output_type": "stream",
     "text": [
      "Scraping Pole Studio Data from https://www.eversports.de/s/pole-and-move-heidelberg...\n",
      "Scraping Workshops Data from https://www.eversports.de/sw/pole-and-move-heidelberg...\n",
      "Scraping Workshop Details from https://www.eversports.de/e/workshop/VYi81mK...\n",
      "Scraping Workshop Details from https://www.eversports.de/e/workshop/101RSFR...\n",
      "Scraping Workshop Details from https://www.eversports.de/e/workshop/AnumKko...\n",
      "Scraping Workshop Details from https://www.eversports.de/e/workshop/aqDwRxt...\n",
      "Scraping Workshop Details from https://www.eversports.de/e/workshop/xpUUbAx...\n",
      "Scraping Workshop Details from https://www.eversports.de/e/workshop/yXAMy8l...\n",
      "Scraping Workshop Details from https://www.eversports.de/e/workshop/mI91ydw...\n",
      "Scraping Workshop Details from https://www.eversports.de/e/workshop/Ngcpd4l...\n",
      "Scraping Workshop Details from https://www.eversports.de/e/workshop/ij8VZCH...\n"
     ]
    },
    {
     "name": "stderr",
     "output_type": "stream",
     "text": [
      "Processing URLs:  59%|█████▉    | 199/337 [19:57<20:49,  9.05s/it, Current URL: https://www.eversports.de/s/pole-and-move-heidelberg]"
     ]
    },
    {
     "name": "stdout",
     "output_type": "stream",
     "text": [
      "Processing completed.\n",
      "Pole Studio Data: 1 entries\n",
      "Workshops Data: 9 entries\n",
      "Workshop Details: 9 entries\n",
      "Starting URL reconstruction...\n"
     ]
    },
    {
     "name": "stderr",
     "output_type": "stream",
     "text": [
      "Processing URLs:  59%|█████▉    | 200/337 [19:58<15:18,  6.70s/it, Current URL: https://www.eversports.de/s/polevybe]                "
     ]
    },
    {
     "name": "stdout",
     "output_type": "stream",
     "text": [
      "Error during HTTP request: 404 Client Error: Not Found for url: https://www.eversports.de/s/polevybe\n",
      "Converting to DataFrame...\n",
      "Validating URLs...\n",
      "Processing completed.\n",
      "Starting URL reconstruction...\n"
     ]
    },
    {
     "name": "stderr",
     "output_type": "stream",
     "text": [
      "Processing URLs:  60%|█████▉    | 201/337 [19:59<11:25,  5.04s/it, Current URL: https://www.eversports.de/s/le-chat-noir-berlin]"
     ]
    },
    {
     "name": "stdout",
     "output_type": "stream",
     "text": [
      "Error during HTTP request: 404 Client Error: Not Found for url: https://www.eversports.de/s/le-chat-noir-berlin\n",
      "Converting to DataFrame...\n",
      "Validating URLs...\n",
      "Processing completed.\n",
      "Starting URL reconstruction...\n"
     ]
    },
    {
     "name": "stderr",
     "output_type": "stream",
     "text": [
      "Processing URLs:  60%|█████▉    | 202/337 [20:01<08:44,  3.89s/it, Current URL: https://www.eversports.de/s/tanzstudio-vi-dance-dortmund]"
     ]
    },
    {
     "name": "stdout",
     "output_type": "stream",
     "text": [
      "Error during HTTP request: 404 Client Error: Not Found for url: https://www.eversports.de/s/tanzstudio-vi-dance-dortmund\n",
      "Converting to DataFrame...\n",
      "Validating URLs...\n",
      "Processing completed.\n",
      "Starting URL reconstruction...\n"
     ]
    },
    {
     "name": "stderr",
     "output_type": "stream",
     "text": [
      "2024-02-03 16:46:53,480 - INFO - Processing URL 1/4: https://www.eversports.de/s/a-heart-for-poledance-1\n"
     ]
    },
    {
     "name": "stdout",
     "output_type": "stream",
     "text": [
      "Error reconstructing URL for 'Trainings': Unrecognized text: 'Trainings'\n",
      "Converting to DataFrame...\n",
      "Validating URLs...\n"
     ]
    },
    {
     "name": "stderr",
     "output_type": "stream",
     "text": [
      "2024-02-03 16:46:55,255 - INFO - URL https://www.eversports.de/s/a-heart-for-poledance-1 is valid.\n",
      "2024-02-03 16:46:55,257 - INFO - Processing URL 2/4: https://www.eversports.de/sw/a-heart-for-poledance-1\n",
      "2024-02-03 16:46:56,750 - INFO - URL https://www.eversports.de/sw/a-heart-for-poledance-1 is valid.\n",
      "2024-02-03 16:46:56,751 - INFO - Processing URL 3/4: https://www.eversports.de/sp/a-heart-for-poledance-1\n",
      "2024-02-03 16:46:57,902 - INFO - URL https://www.eversports.de/sp/a-heart-for-poledance-1 is valid.\n",
      "2024-02-03 16:46:57,903 - INFO - Processing URL 4/4: https://www.eversports.de/s/a-heart-for-poledance-1/team\n",
      "2024-02-03 16:47:00,634 - INFO - URL https://www.eversports.de/s/a-heart-for-poledance-1/team is valid.\n"
     ]
    },
    {
     "name": "stdout",
     "output_type": "stream",
     "text": [
      "Scraping Pole Studio Data from https://www.eversports.de/s/a-heart-for-poledance-1...\n",
      "Scraping Workshops Data from https://www.eversports.de/sw/a-heart-for-poledance-1...\n",
      "Scraping Workshop Details from https://www.eversports.de/e/workshop/5VJvMXI...\n",
      "Scraping Workshop Details from https://www.eversports.de/e/workshop/jQOaOC3...\n",
      "Scraping Workshop Details from https://www.eversports.de/e/workshop/H4Qz_fT...\n",
      "Scraping Workshop Details from https://www.eversports.de/e/workshop/nOac6zt...\n",
      "Scraping Workshop Details from https://www.eversports.de/e/workshop/yMiXoIi...\n"
     ]
    },
    {
     "name": "stderr",
     "output_type": "stream",
     "text": [
      "Processing URLs:  60%|██████    | 203/337 [20:19<18:21,  8.22s/it, Current URL: https://www.eversports.de/s/a-heart-for-poledance-1]     "
     ]
    },
    {
     "name": "stdout",
     "output_type": "stream",
     "text": [
      "Processing completed.\n",
      "Pole Studio Data: 1 entries\n",
      "Workshops Data: 5 entries\n",
      "Workshop Details: 5 entries\n",
      "Starting URL reconstruction...\n"
     ]
    },
    {
     "name": "stderr",
     "output_type": "stream",
     "text": [
      "Processing URLs:  61%|██████    | 204/337 [20:20<13:33,  6.12s/it, Current URL: https://www.eversports.de/s/pole-studio-koblenz]    "
     ]
    },
    {
     "name": "stdout",
     "output_type": "stream",
     "text": [
      "Error during HTTP request: 404 Client Error: Not Found for url: https://www.eversports.de/s/pole-studio-koblenz\n",
      "Converting to DataFrame...\n",
      "Validating URLs...\n",
      "Processing completed.\n",
      "Starting URL reconstruction...\n"
     ]
    },
    {
     "name": "stderr",
     "output_type": "stream",
     "text": [
      "Processing URLs:  61%|██████    | 205/337 [20:21<10:16,  4.67s/it, Current URL: https://www.eversports.de/s/just-fly]           "
     ]
    },
    {
     "name": "stdout",
     "output_type": "stream",
     "text": [
      "Error during HTTP request: 404 Client Error: Not Found for url: https://www.eversports.de/s/just-fly\n",
      "Converting to DataFrame...\n",
      "Validating URLs...\n",
      "Processing completed.\n",
      "Starting URL reconstruction...\n"
     ]
    },
    {
     "name": "stderr",
     "output_type": "stream",
     "text": [
      "2024-02-03 16:47:14,271 - INFO - Processing URL 1/4: https://www.eversports.de/s/flow-fusion-pole-aerial-dance-studio\n"
     ]
    },
    {
     "name": "stdout",
     "output_type": "stream",
     "text": [
      "Converting to DataFrame...\n",
      "Validating URLs...\n"
     ]
    },
    {
     "name": "stderr",
     "output_type": "stream",
     "text": [
      "2024-02-03 16:47:15,573 - INFO - URL https://www.eversports.de/s/flow-fusion-pole-aerial-dance-studio is valid.\n",
      "2024-02-03 16:47:15,574 - INFO - Processing URL 2/4: https://www.eversports.de/sw/flow-fusion-pole-aerial-dance-studio\n",
      "2024-02-03 16:47:16,833 - INFO - URL https://www.eversports.de/sw/flow-fusion-pole-aerial-dance-studio is valid.\n",
      "2024-02-03 16:47:16,834 - INFO - Processing URL 3/4: https://www.eversports.de/sp/flow-fusion-pole-aerial-dance-studio\n",
      "2024-02-03 16:47:18,054 - INFO - URL https://www.eversports.de/sp/flow-fusion-pole-aerial-dance-studio is valid.\n",
      "2024-02-03 16:47:18,056 - INFO - Processing URL 4/4: https://www.eversports.de/s/flow-fusion-pole-aerial-dance-studio/team\n",
      "2024-02-03 16:47:19,310 - INFO - URL https://www.eversports.de/s/flow-fusion-pole-aerial-dance-studio/team is valid.\n"
     ]
    },
    {
     "name": "stdout",
     "output_type": "stream",
     "text": [
      "Scraping Pole Studio Data from https://www.eversports.de/s/flow-fusion-pole-aerial-dance-studio...\n",
      "Scraping Workshops Data from https://www.eversports.de/sw/flow-fusion-pole-aerial-dance-studio...\n",
      "Scraping Workshop Details from https://www.eversports.de/e/workshop/dv_M_IE...\n"
     ]
    },
    {
     "name": "stderr",
     "output_type": "stream",
     "text": [
      "Processing URLs:  61%|██████    | 206/337 [20:31<13:17,  6.09s/it, Current URL: https://www.eversports.de/s/flow-fusion-pole-aerial-dance-studio]"
     ]
    },
    {
     "name": "stdout",
     "output_type": "stream",
     "text": [
      "Processing completed.\n",
      "Pole Studio Data: 1 entries\n",
      "Workshops Data: 1 entries\n",
      "Workshop Details: 1 entries\n",
      "Starting URL reconstruction...\n"
     ]
    },
    {
     "name": "stderr",
     "output_type": "stream",
     "text": [
      "2024-02-03 16:47:23,746 - INFO - Processing URL 1/3: https://www.eversports.de/s/polestructions\n"
     ]
    },
    {
     "name": "stdout",
     "output_type": "stream",
     "text": [
      "Converting to DataFrame...\n",
      "Validating URLs...\n"
     ]
    },
    {
     "name": "stderr",
     "output_type": "stream",
     "text": [
      "2024-02-03 16:47:25,197 - INFO - URL https://www.eversports.de/s/polestructions is valid.\n",
      "2024-02-03 16:47:25,198 - INFO - Processing URL 2/3: https://www.eversports.de/sp/polestructions\n",
      "2024-02-03 16:47:26,388 - INFO - URL https://www.eversports.de/sp/polestructions is valid.\n",
      "2024-02-03 16:47:26,390 - INFO - Processing URL 3/3: https://www.eversports.de/s/polestructions/team\n",
      "2024-02-03 16:47:27,742 - INFO - URL https://www.eversports.de/s/polestructions/team is valid.\n"
     ]
    },
    {
     "name": "stdout",
     "output_type": "stream",
     "text": [
      "Scraping Pole Studio Data from https://www.eversports.de/s/polestructions...\n"
     ]
    },
    {
     "name": "stderr",
     "output_type": "stream",
     "text": [
      "Processing URLs:  61%|██████▏   | 207/337 [20:37<13:08,  6.07s/it, Current URL: https://www.eversports.de/s/polestructions]                      "
     ]
    },
    {
     "name": "stdout",
     "output_type": "stream",
     "text": [
      "Processing completed.\n",
      "Pole Studio Data: 1 entries\n",
      "Starting URL reconstruction...\n"
     ]
    },
    {
     "name": "stderr",
     "output_type": "stream",
     "text": [
      "Processing URLs:  62%|██████▏   | 208/337 [20:38<09:54,  4.61s/it, Current URL: https://www.eversports.de/s/tanzschule-step-up]"
     ]
    },
    {
     "name": "stdout",
     "output_type": "stream",
     "text": [
      "Error during HTTP request: 404 Client Error: Not Found for url: https://www.eversports.de/s/tanzschule-step-up\n",
      "Converting to DataFrame...\n",
      "Validating URLs...\n",
      "Processing completed.\n",
      "Starting URL reconstruction...\n"
     ]
    },
    {
     "name": "stderr",
     "output_type": "stream",
     "text": [
      "Processing URLs:  62%|██████▏   | 209/337 [20:39<07:37,  3.57s/it, Current URL: https://www.eversports.de/s/mmc-dance-&-event-studio]"
     ]
    },
    {
     "name": "stdout",
     "output_type": "stream",
     "text": [
      "Error during HTTP request: 404 Client Error: Not Found for url: https://www.eversports.de/s/mmc-dance-&-event-studio\n",
      "Converting to DataFrame...\n",
      "Validating URLs...\n",
      "Processing completed.\n",
      "Starting URL reconstruction...\n"
     ]
    },
    {
     "name": "stderr",
     "output_type": "stream",
     "text": [
      "Processing URLs:  62%|██████▏   | 210/337 [20:41<06:09,  2.91s/it, Current URL: https://www.eversports.de/s/exquisuite]              "
     ]
    },
    {
     "name": "stdout",
     "output_type": "stream",
     "text": [
      "Error during HTTP request: 404 Client Error: Not Found for url: https://www.eversports.de/s/exquisuite\n",
      "Converting to DataFrame...\n",
      "Validating URLs...\n",
      "Processing completed.\n",
      "Starting URL reconstruction...\n"
     ]
    },
    {
     "name": "stderr",
     "output_type": "stream",
     "text": [
      "2024-02-03 16:47:33,490 - INFO - Processing URL 1/4: https://www.eversports.de/s/pole-heroes\n"
     ]
    },
    {
     "name": "stdout",
     "output_type": "stream",
     "text": [
      "Converting to DataFrame...\n",
      "Validating URLs...\n"
     ]
    },
    {
     "name": "stderr",
     "output_type": "stream",
     "text": [
      "2024-02-03 16:47:35,322 - INFO - URL https://www.eversports.de/s/pole-heroes is valid.\n",
      "2024-02-03 16:47:35,322 - INFO - Processing URL 2/4: https://www.eversports.de/sw/pole-heroes\n",
      "2024-02-03 16:47:36,586 - INFO - URL https://www.eversports.de/sw/pole-heroes is valid.\n",
      "2024-02-03 16:47:36,587 - INFO - Processing URL 3/4: https://www.eversports.de/sp/pole-heroes\n",
      "2024-02-03 16:47:37,877 - INFO - URL https://www.eversports.de/sp/pole-heroes is valid.\n",
      "2024-02-03 16:47:37,878 - INFO - Processing URL 4/4: https://www.eversports.de/s/pole-heroes/team\n",
      "2024-02-03 16:47:39,081 - INFO - URL https://www.eversports.de/s/pole-heroes/team is valid.\n"
     ]
    },
    {
     "name": "stdout",
     "output_type": "stream",
     "text": [
      "Scraping Pole Studio Data from https://www.eversports.de/s/pole-heroes...\n",
      "Scraping Workshops Data from https://www.eversports.de/sw/pole-heroes...\n",
      "Scraping Workshop Details from https://www.eversports.de/e/workshop/qyrtCxT...\n",
      "Scraping Workshop Details from https://www.eversports.de/e/workshop/XbedbNM...\n",
      "Scraping Workshop Details from https://www.eversports.de/e/workshop/_cVfx28...\n",
      "Scraping Workshop Details from https://www.eversports.de/e/workshop/vPqMS0U...\n"
     ]
    },
    {
     "name": "stderr",
     "output_type": "stream",
     "text": [
      "Processing URLs:  63%|██████▎   | 211/337 [20:56<13:43,  6.54s/it, Current URL: https://www.eversports.de/s/pole-heroes]"
     ]
    },
    {
     "name": "stdout",
     "output_type": "stream",
     "text": [
      "Processing completed.\n",
      "Pole Studio Data: 1 entries\n",
      "Workshops Data: 4 entries\n",
      "Workshop Details: 4 entries\n",
      "Starting URL reconstruction...\n"
     ]
    },
    {
     "name": "stderr",
     "output_type": "stream",
     "text": [
      "Processing URLs:  63%|██████▎   | 212/337 [20:57<10:12,  4.90s/it, Current URL: https://www.eversports.de/s/move-lounge-pilates,-powerplate,-trx,-personaltraining]"
     ]
    },
    {
     "name": "stdout",
     "output_type": "stream",
     "text": [
      "Error during HTTP request: 404 Client Error: Not Found for url: https://www.eversports.de/s/move-lounge-pilates,-powerplate,-trx,-personaltraining\n",
      "Converting to DataFrame...\n",
      "Validating URLs...\n",
      "Processing completed.\n",
      "Starting URL reconstruction...\n"
     ]
    },
    {
     "name": "stderr",
     "output_type": "stream",
     "text": [
      "Processing URLs:  63%|██████▎   | 213/337 [20:58<07:54,  3.83s/it, Current URL: https://www.eversports.de/s/pole-dance-hechingen]                                  "
     ]
    },
    {
     "name": "stdout",
     "output_type": "stream",
     "text": [
      "Error during HTTP request: 404 Client Error: Not Found for url: https://www.eversports.de/s/pole-dance-hechingen\n",
      "Converting to DataFrame...\n",
      "Validating URLs...\n",
      "Processing completed.\n",
      "Starting URL reconstruction...\n"
     ]
    },
    {
     "name": "stderr",
     "output_type": "stream",
     "text": [
      "Processing URLs:  64%|██████▎   | 214/337 [20:59<06:15,  3.05s/it, Current URL: https://www.eversports.de/s/pole-dance-studio-karlsruhe]"
     ]
    },
    {
     "name": "stdout",
     "output_type": "stream",
     "text": [
      "Error during HTTP request: 404 Client Error: Not Found for url: https://www.eversports.de/s/pole-dance-studio-karlsruhe\n",
      "Converting to DataFrame...\n",
      "Validating URLs...\n",
      "Processing completed.\n",
      "Starting URL reconstruction...\n"
     ]
    },
    {
     "name": "stderr",
     "output_type": "stream",
     "text": [
      "Processing URLs:  64%|██████▍   | 215/337 [21:00<05:04,  2.49s/it, Current URL: https://www.eversports.de/s/pole-yourself]              "
     ]
    },
    {
     "name": "stdout",
     "output_type": "stream",
     "text": [
      "Error during HTTP request: 404 Client Error: Not Found for url: https://www.eversports.de/s/pole-yourself\n",
      "Converting to DataFrame...\n",
      "Validating URLs...\n",
      "Processing completed.\n",
      "Starting URL reconstruction...\n"
     ]
    },
    {
     "name": "stderr",
     "output_type": "stream",
     "text": [
      "2024-02-03 16:47:53,089 - INFO - Processing URL 1/2: https://www.eversports.de/s/pole-dance-balance\n"
     ]
    },
    {
     "name": "stdout",
     "output_type": "stream",
     "text": [
      "Converting to DataFrame...\n",
      "Validating URLs...\n"
     ]
    },
    {
     "name": "stderr",
     "output_type": "stream",
     "text": [
      "2024-02-03 16:47:54,363 - INFO - URL https://www.eversports.de/s/pole-dance-balance is valid.\n",
      "2024-02-03 16:47:54,364 - INFO - Processing URL 2/2: https://www.eversports.de/sp/pole-dance-balance\n",
      "2024-02-03 16:47:55,503 - INFO - URL https://www.eversports.de/sp/pole-dance-balance is valid.\n"
     ]
    },
    {
     "name": "stdout",
     "output_type": "stream",
     "text": [
      "Scraping Pole Studio Data from https://www.eversports.de/s/pole-dance-balance...\n"
     ]
    },
    {
     "name": "stderr",
     "output_type": "stream",
     "text": [
      "Processing URLs:  64%|██████▍   | 216/337 [21:04<05:53,  2.92s/it, Current URL: https://www.eversports.de/s/pole-dance-balance]"
     ]
    },
    {
     "name": "stdout",
     "output_type": "stream",
     "text": [
      "Processing completed.\n",
      "Pole Studio Data: 1 entries\n",
      "Starting URL reconstruction...\n"
     ]
    },
    {
     "name": "stderr",
     "output_type": "stream",
     "text": [
      "2024-02-03 16:47:58,472 - INFO - Processing URL 1/3: https://www.eversports.de/s/the-supergirl-studio\n"
     ]
    },
    {
     "name": "stdout",
     "output_type": "stream",
     "text": [
      "Converting to DataFrame...\n",
      "Validating URLs...\n"
     ]
    },
    {
     "name": "stderr",
     "output_type": "stream",
     "text": [
      "2024-02-03 16:47:59,954 - INFO - URL https://www.eversports.de/s/the-supergirl-studio is valid.\n",
      "2024-02-03 16:47:59,955 - INFO - Processing URL 2/3: https://www.eversports.de/sp/the-supergirl-studio\n",
      "2024-02-03 16:48:01,579 - INFO - URL https://www.eversports.de/sp/the-supergirl-studio is valid.\n",
      "2024-02-03 16:48:01,580 - INFO - Processing URL 3/3: https://www.eversports.de/s/the-supergirl-studio/team\n",
      "2024-02-03 16:48:03,642 - INFO - URL https://www.eversports.de/s/the-supergirl-studio/team is valid.\n"
     ]
    },
    {
     "name": "stdout",
     "output_type": "stream",
     "text": [
      "Scraping Pole Studio Data from https://www.eversports.de/s/the-supergirl-studio...\n"
     ]
    },
    {
     "name": "stderr",
     "output_type": "stream",
     "text": [
      "Processing URLs:  64%|██████▍   | 217/337 [21:13<09:15,  4.63s/it, Current URL: https://www.eversports.de/s/the-supergirl-studio]"
     ]
    },
    {
     "name": "stdout",
     "output_type": "stream",
     "text": [
      "Processing completed.\n",
      "Pole Studio Data: 1 entries\n",
      "Starting URL reconstruction...\n"
     ]
    },
    {
     "name": "stderr",
     "output_type": "stream",
     "text": [
      "Processing URLs:  65%|██████▍   | 218/337 [21:14<07:06,  3.58s/it, Current URL: https://www.eversports.de/s/pole-fit-plauen]     "
     ]
    },
    {
     "name": "stdout",
     "output_type": "stream",
     "text": [
      "Error during HTTP request: 404 Client Error: Not Found for url: https://www.eversports.de/s/pole-fit-plauen\n",
      "Converting to DataFrame...\n",
      "Validating URLs...\n",
      "Processing completed.\n",
      "Starting URL reconstruction...\n"
     ]
    },
    {
     "name": "stderr",
     "output_type": "stream",
     "text": [
      "2024-02-03 16:48:06,765 - INFO - Processing URL 1/1: https://www.eversports.de/s/poleaddict\n"
     ]
    },
    {
     "name": "stdout",
     "output_type": "stream",
     "text": [
      "Converting to DataFrame...\n",
      "Validating URLs...\n"
     ]
    },
    {
     "name": "stderr",
     "output_type": "stream",
     "text": [
      "2024-02-03 16:48:08,374 - INFO - URL https://www.eversports.de/s/poleaddict is valid.\n"
     ]
    },
    {
     "name": "stdout",
     "output_type": "stream",
     "text": [
      "Scraping Pole Studio Data from https://www.eversports.de/s/poleaddict...\n"
     ]
    },
    {
     "name": "stderr",
     "output_type": "stream",
     "text": [
      "Processing URLs:  65%|██████▍   | 219/337 [21:17<06:48,  3.46s/it, Current URL: https://www.eversports.de/s/poleaddict]     "
     ]
    },
    {
     "name": "stdout",
     "output_type": "stream",
     "text": [
      "Processing completed.\n",
      "Pole Studio Data: 1 entries\n",
      "Starting URL reconstruction...\n"
     ]
    },
    {
     "name": "stderr",
     "output_type": "stream",
     "text": [
      "Processing URLs:  65%|██████▌   | 220/337 [21:19<05:37,  2.88s/it, Current URL: https://www.eversports.de/s/polepoint-dance-studio]"
     ]
    },
    {
     "name": "stdout",
     "output_type": "stream",
     "text": [
      "Error during HTTP request: 404 Client Error: Not Found for url: https://www.eversports.de/s/polepoint-dance-studio\n",
      "Converting to DataFrame...\n",
      "Validating URLs...\n",
      "Processing completed.\n",
      "Starting URL reconstruction...\n"
     ]
    },
    {
     "name": "stderr",
     "output_type": "stream",
     "text": [
      "2024-02-03 16:48:11,614 - INFO - Processing URL 1/3: https://www.eversports.de/s/polestation-academy\n"
     ]
    },
    {
     "name": "stdout",
     "output_type": "stream",
     "text": [
      "Converting to DataFrame...\n",
      "Validating URLs...\n"
     ]
    },
    {
     "name": "stderr",
     "output_type": "stream",
     "text": [
      "2024-02-03 16:48:12,944 - INFO - URL https://www.eversports.de/s/polestation-academy is valid.\n",
      "2024-02-03 16:48:12,947 - INFO - Processing URL 2/3: https://www.eversports.de/sp/polestation-academy\n",
      "2024-02-03 16:48:14,111 - INFO - URL https://www.eversports.de/sp/polestation-academy is not valid.\n",
      "2024-02-03 16:48:14,112 - INFO - Processing URL 3/3: https://www.eversports.de/s/polestation-academy/team\n",
      "2024-02-03 16:48:15,357 - INFO - URL https://www.eversports.de/s/polestation-academy/team is valid.\n"
     ]
    },
    {
     "name": "stdout",
     "output_type": "stream",
     "text": [
      "Scraping Pole Studio Data from https://www.eversports.de/s/polestation-academy...\n"
     ]
    },
    {
     "name": "stderr",
     "output_type": "stream",
     "text": [
      "Processing URLs:  66%|██████▌   | 221/337 [21:24<07:04,  3.66s/it, Current URL: https://www.eversports.de/s/polestation-academy]   "
     ]
    },
    {
     "name": "stdout",
     "output_type": "stream",
     "text": [
      "Processing completed.\n",
      "Pole Studio Data: 1 entries\n",
      "Starting URL reconstruction...\n"
     ]
    },
    {
     "name": "stderr",
     "output_type": "stream",
     "text": [
      "2024-02-03 16:48:17,191 - INFO - Processing URL 1/4: https://www.eversports.de/s/aerial-art-poledance\n"
     ]
    },
    {
     "name": "stdout",
     "output_type": "stream",
     "text": [
      "Converting to DataFrame...\n",
      "Validating URLs...\n"
     ]
    },
    {
     "name": "stderr",
     "output_type": "stream",
     "text": [
      "2024-02-03 16:48:18,552 - INFO - URL https://www.eversports.de/s/aerial-art-poledance is valid.\n",
      "2024-02-03 16:48:18,554 - INFO - Processing URL 2/4: https://www.eversports.de/sw/aerial-art-poledance\n",
      "2024-02-03 16:48:19,837 - INFO - URL https://www.eversports.de/sw/aerial-art-poledance is valid.\n",
      "2024-02-03 16:48:19,838 - INFO - Processing URL 3/4: https://www.eversports.de/sp/aerial-art-poledance\n",
      "2024-02-03 16:48:21,097 - INFO - URL https://www.eversports.de/sp/aerial-art-poledance is valid.\n",
      "2024-02-03 16:48:21,097 - INFO - Processing URL 4/4: https://www.eversports.de/s/aerial-art-poledance/team\n",
      "2024-02-03 16:48:22,641 - INFO - URL https://www.eversports.de/s/aerial-art-poledance/team is valid.\n"
     ]
    },
    {
     "name": "stdout",
     "output_type": "stream",
     "text": [
      "Scraping Pole Studio Data from https://www.eversports.de/s/aerial-art-poledance...\n",
      "Scraping Workshops Data from https://www.eversports.de/sw/aerial-art-poledance...\n",
      "Scraping Workshop Details from https://www.eversports.de/e/workshop/1pLUOJO...\n",
      "Scraping Workshop Details from https://www.eversports.de/e/workshop/HLSPtEf...\n"
     ]
    },
    {
     "name": "stderr",
     "output_type": "stream",
     "text": [
      "Processing URLs:  66%|██████▌   | 222/337 [21:36<11:44,  6.12s/it, Current URL: https://www.eversports.de/s/aerial-art-poledance]"
     ]
    },
    {
     "name": "stdout",
     "output_type": "stream",
     "text": [
      "Processing completed.\n",
      "Pole Studio Data: 1 entries\n",
      "Workshops Data: 2 entries\n",
      "Workshop Details: 2 entries\n",
      "Starting URL reconstruction...\n"
     ]
    },
    {
     "name": "stderr",
     "output_type": "stream",
     "text": [
      "Processing URLs:  66%|██████▌   | 223/337 [21:37<08:49,  4.65s/it, Current URL: https://www.eversports.de/s/polesition]          "
     ]
    },
    {
     "name": "stdout",
     "output_type": "stream",
     "text": [
      "Error during HTTP request: 404 Client Error: Not Found for url: https://www.eversports.de/s/polesition\n",
      "Converting to DataFrame...\n",
      "Validating URLs...\n",
      "Processing completed.\n",
      "Starting URL reconstruction...\n"
     ]
    },
    {
     "name": "stderr",
     "output_type": "stream",
     "text": [
      "Processing URLs:  66%|██████▋   | 224/337 [21:38<06:46,  3.60s/it, Current URL: https://www.eversports.de/s/divas-dance-studio]"
     ]
    },
    {
     "name": "stdout",
     "output_type": "stream",
     "text": [
      "Error during HTTP request: 404 Client Error: Not Found for url: https://www.eversports.de/s/divas-dance-studio\n",
      "Converting to DataFrame...\n",
      "Validating URLs...\n",
      "Processing completed.\n",
      "Starting URL reconstruction...\n"
     ]
    },
    {
     "name": "stderr",
     "output_type": "stream",
     "text": [
      "2024-02-03 16:48:31,878 - INFO - Processing URL 1/1: https://www.eversports.de/s/pole-flow-berlin\n"
     ]
    },
    {
     "name": "stdout",
     "output_type": "stream",
     "text": [
      "Converting to DataFrame...\n",
      "Validating URLs...\n"
     ]
    },
    {
     "name": "stderr",
     "output_type": "stream",
     "text": [
      "2024-02-03 16:48:33,213 - INFO - URL https://www.eversports.de/s/pole-flow-berlin is valid.\n"
     ]
    },
    {
     "name": "stdout",
     "output_type": "stream",
     "text": [
      "Scraping Pole Studio Data from https://www.eversports.de/s/pole-flow-berlin...\n"
     ]
    },
    {
     "name": "stderr",
     "output_type": "stream",
     "text": [
      "Processing URLs:  67%|██████▋   | 225/337 [21:42<06:41,  3.59s/it, Current URL: https://www.eversports.de/s/pole-flow-berlin]  "
     ]
    },
    {
     "name": "stdout",
     "output_type": "stream",
     "text": [
      "Processing completed.\n",
      "Pole Studio Data: 1 entries\n",
      "Starting URL reconstruction...\n"
     ]
    },
    {
     "name": "stderr",
     "output_type": "stream",
     "text": [
      "Processing URLs:  67%|██████▋   | 226/337 [21:44<05:44,  3.10s/it, Current URL: https://www.eversports.de/s/verticalspirit-chemnitz-e.-v.]"
     ]
    },
    {
     "name": "stdout",
     "output_type": "stream",
     "text": [
      "Error during HTTP request: 404 Client Error: Not Found for url: https://www.eversports.de/s/verticalspirit-chemnitz-e.-v.\n",
      "Converting to DataFrame...\n",
      "Validating URLs...\n",
      "Processing completed.\n",
      "Starting URL reconstruction...\n"
     ]
    },
    {
     "name": "stderr",
     "output_type": "stream",
     "text": [
      "Processing URLs:  67%|██████▋   | 227/337 [21:45<04:41,  2.56s/it, Current URL: https://www.eversports.de/s/passionate-pole-&-sports]     "
     ]
    },
    {
     "name": "stdout",
     "output_type": "stream",
     "text": [
      "Error during HTTP request: 404 Client Error: Not Found for url: https://www.eversports.de/s/passionate-pole-&-sports\n",
      "Converting to DataFrame...\n",
      "Validating URLs...\n",
      "Processing completed.\n",
      "Starting URL reconstruction...\n"
     ]
    },
    {
     "name": "stderr",
     "output_type": "stream",
     "text": [
      "Processing URLs:  68%|██████▊   | 228/337 [21:47<03:57,  2.17s/it, Current URL: https://www.eversports.de/s/la-familia-poleclub]     "
     ]
    },
    {
     "name": "stdout",
     "output_type": "stream",
     "text": [
      "Error during HTTP request: 404 Client Error: Not Found for url: https://www.eversports.de/s/la-familia-poleclub\n",
      "Converting to DataFrame...\n",
      "Validating URLs...\n",
      "Processing completed.\n",
      "Starting URL reconstruction...\n"
     ]
    },
    {
     "name": "stderr",
     "output_type": "stream",
     "text": [
      "Processing URLs:  68%|██████▊   | 229/337 [21:48<03:21,  1.87s/it, Current URL: https://www.eversports.de/s/polemotions]        "
     ]
    },
    {
     "name": "stdout",
     "output_type": "stream",
     "text": [
      "Error during HTTP request: 404 Client Error: Not Found for url: https://www.eversports.de/s/polemotions\n",
      "Converting to DataFrame...\n",
      "Validating URLs...\n",
      "Processing completed.\n",
      "Starting URL reconstruction...\n"
     ]
    },
    {
     "name": "stderr",
     "output_type": "stream",
     "text": [
      "2024-02-03 16:48:40,598 - INFO - Processing URL 1/4: https://www.eversports.de/s/poda-studio\n"
     ]
    },
    {
     "name": "stdout",
     "output_type": "stream",
     "text": [
      "Converting to DataFrame...\n",
      "Validating URLs...\n"
     ]
    },
    {
     "name": "stderr",
     "output_type": "stream",
     "text": [
      "2024-02-03 16:48:42,095 - INFO - URL https://www.eversports.de/s/poda-studio is valid.\n",
      "2024-02-03 16:48:42,097 - INFO - Processing URL 2/4: https://www.eversports.de/sw/poda-studio\n",
      "2024-02-03 16:48:43,485 - INFO - URL https://www.eversports.de/sw/poda-studio is valid.\n",
      "2024-02-03 16:48:43,486 - INFO - Processing URL 3/4: https://www.eversports.de/sp/poda-studio\n",
      "2024-02-03 16:48:44,790 - INFO - URL https://www.eversports.de/sp/poda-studio is valid.\n",
      "2024-02-03 16:48:44,791 - INFO - Processing URL 4/4: https://www.eversports.de/s/poda-studio/team\n",
      "2024-02-03 16:48:46,156 - INFO - URL https://www.eversports.de/s/poda-studio/team is valid.\n"
     ]
    },
    {
     "name": "stdout",
     "output_type": "stream",
     "text": [
      "Scraping Pole Studio Data from https://www.eversports.de/s/poda-studio...\n",
      "Scraping Workshops Data from https://www.eversports.de/sw/poda-studio...\n",
      "Scraping Workshop Details from https://www.eversports.de/e/workshop/LAHNDF-...\n",
      "Scraping Workshop Details from https://www.eversports.de/e/workshop/JM68hgK...\n",
      "Scraping Workshop Details from https://www.eversports.de/e/workshop/9PbaXsNu8...\n",
      "Scraping Workshop Details from https://www.eversports.de/e/workshop/2f93D4_...\n"
     ]
    },
    {
     "name": "stderr",
     "output_type": "stream",
     "text": [
      "Processing URLs:  68%|██████▊   | 230/337 [22:02<10:10,  5.71s/it, Current URL: https://www.eversports.de/s/poda-studio]"
     ]
    },
    {
     "name": "stdout",
     "output_type": "stream",
     "text": [
      "Processing completed.\n",
      "Pole Studio Data: 1 entries\n",
      "Workshops Data: 4 entries\n",
      "Workshop Details: 4 entries\n",
      "Starting URL reconstruction...\n"
     ]
    },
    {
     "name": "stderr",
     "output_type": "stream",
     "text": [
      "Processing URLs:  69%|██████▊   | 231/337 [22:04<07:43,  4.37s/it, Current URL: https://www.eversports.de/s/pole-circus-a-+-k]"
     ]
    },
    {
     "name": "stdout",
     "output_type": "stream",
     "text": [
      "Error during HTTP request: 404 Client Error: Not Found for url: https://www.eversports.de/s/pole-circus-a-+-k\n",
      "Converting to DataFrame...\n",
      "Validating URLs...\n",
      "Processing completed.\n",
      "Starting URL reconstruction...\n"
     ]
    },
    {
     "name": "stderr",
     "output_type": "stream",
     "text": [
      "Processing URLs:  69%|██████▉   | 232/337 [22:05<06:03,  3.46s/it, Current URL: https://www.eversports.de/s/studio-elodie-tanzbewegung]"
     ]
    },
    {
     "name": "stdout",
     "output_type": "stream",
     "text": [
      "Error during HTTP request: 404 Client Error: Not Found for url: https://www.eversports.de/s/studio-elodie-tanzbewegung\n",
      "Converting to DataFrame...\n",
      "Validating URLs...\n",
      "Processing completed.\n",
      "Starting URL reconstruction...\n"
     ]
    },
    {
     "name": "stderr",
     "output_type": "stream",
     "text": [
      "2024-02-03 16:48:57,909 - INFO - Processing URL 1/3: https://www.eversports.de/s/airobics\n"
     ]
    },
    {
     "name": "stdout",
     "output_type": "stream",
     "text": [
      "Error reconstructing URL for 'Kurse': Unrecognized text: 'Kurse'\n",
      "Converting to DataFrame...\n",
      "Validating URLs...\n"
     ]
    },
    {
     "name": "stderr",
     "output_type": "stream",
     "text": [
      "2024-02-03 16:48:59,402 - INFO - URL https://www.eversports.de/s/airobics is valid.\n",
      "2024-02-03 16:48:59,403 - INFO - Processing URL 2/3: https://www.eversports.de/sp/airobics\n",
      "2024-02-03 16:49:00,693 - INFO - URL https://www.eversports.de/sp/airobics is valid.\n",
      "2024-02-03 16:49:00,694 - INFO - Processing URL 3/3: https://www.eversports.de/s/airobics/team\n",
      "2024-02-03 16:49:02,065 - INFO - URL https://www.eversports.de/s/airobics/team is valid.\n"
     ]
    },
    {
     "name": "stdout",
     "output_type": "stream",
     "text": [
      "Scraping Pole Studio Data from https://www.eversports.de/s/airobics...\n"
     ]
    },
    {
     "name": "stderr",
     "output_type": "stream",
     "text": [
      "Processing URLs:  69%|██████▉   | 233/337 [22:11<07:23,  4.26s/it, Current URL: https://www.eversports.de/s/airobics]                  "
     ]
    },
    {
     "name": "stdout",
     "output_type": "stream",
     "text": [
      "Processing completed.\n",
      "Pole Studio Data: 1 entries\n",
      "Starting URL reconstruction...\n"
     ]
    },
    {
     "name": "stderr",
     "output_type": "stream",
     "text": [
      "2024-02-03 16:49:04,103 - INFO - Processing URL 1/3: https://www.eversports.de/s/loft1-basel-city\n"
     ]
    },
    {
     "name": "stdout",
     "output_type": "stream",
     "text": [
      "Converting to DataFrame...\n",
      "Validating URLs...\n"
     ]
    },
    {
     "name": "stderr",
     "output_type": "stream",
     "text": [
      "2024-02-03 16:49:05,509 - INFO - URL https://www.eversports.de/s/loft1-basel-city is valid.\n",
      "2024-02-03 16:49:05,510 - INFO - Processing URL 2/3: https://www.eversports.de/sp/loft1-basel-city\n",
      "2024-02-03 16:49:06,694 - INFO - URL https://www.eversports.de/sp/loft1-basel-city is not valid.\n",
      "2024-02-03 16:49:06,695 - INFO - Processing URL 3/3: https://www.eversports.de/s/loft1-basel-city/team\n",
      "2024-02-03 16:49:08,288 - INFO - URL https://www.eversports.de/s/loft1-basel-city/team is valid.\n"
     ]
    },
    {
     "name": "stdout",
     "output_type": "stream",
     "text": [
      "Scraping Pole Studio Data from https://www.eversports.de/s/loft1-basel-city...\n"
     ]
    },
    {
     "name": "stderr",
     "output_type": "stream",
     "text": [
      "Processing URLs:  69%|██████▉   | 234/337 [22:18<08:33,  4.99s/it, Current URL: https://www.eversports.de/s/loft1-basel-city]"
     ]
    },
    {
     "name": "stdout",
     "output_type": "stream",
     "text": [
      "Processing completed.\n",
      "Pole Studio Data: 1 entries\n",
      "Starting URL reconstruction...\n"
     ]
    },
    {
     "name": "stderr",
     "output_type": "stream",
     "text": [
      "2024-02-03 16:49:10,763 - INFO - Processing URL 1/3: https://www.eversports.de/s/aerial-circus\n"
     ]
    },
    {
     "name": "stdout",
     "output_type": "stream",
     "text": [
      "Converting to DataFrame...\n",
      "Validating URLs...\n"
     ]
    },
    {
     "name": "stderr",
     "output_type": "stream",
     "text": [
      "2024-02-03 16:49:12,222 - INFO - URL https://www.eversports.de/s/aerial-circus is valid.\n",
      "2024-02-03 16:49:12,223 - INFO - Processing URL 2/3: https://www.eversports.de/sp/aerial-circus\n",
      "2024-02-03 16:49:13,445 - INFO - URL https://www.eversports.de/sp/aerial-circus is valid.\n",
      "2024-02-03 16:49:13,446 - INFO - Processing URL 3/3: https://www.eversports.de/s/aerial-circus/team\n",
      "2024-02-03 16:49:14,752 - INFO - URL https://www.eversports.de/s/aerial-circus/team is valid.\n"
     ]
    },
    {
     "name": "stdout",
     "output_type": "stream",
     "text": [
      "Scraping Pole Studio Data from https://www.eversports.de/s/aerial-circus...\n"
     ]
    },
    {
     "name": "stderr",
     "output_type": "stream",
     "text": [
      "Processing URLs:  70%|██████▉   | 235/337 [22:24<08:56,  5.26s/it, Current URL: https://www.eversports.de/s/aerial-circus]   "
     ]
    },
    {
     "name": "stdout",
     "output_type": "stream",
     "text": [
      "Processing completed.\n",
      "Pole Studio Data: 1 entries\n",
      "Starting URL reconstruction...\n"
     ]
    },
    {
     "name": "stderr",
     "output_type": "stream",
     "text": [
      "2024-02-03 16:49:16,635 - INFO - Processing URL 1/1: https://www.eversports.de/s/infinity-polesports-eggenfelden\n"
     ]
    },
    {
     "name": "stdout",
     "output_type": "stream",
     "text": [
      "Converting to DataFrame...\n",
      "Validating URLs...\n"
     ]
    },
    {
     "name": "stderr",
     "output_type": "stream",
     "text": [
      "2024-02-03 16:49:17,963 - INFO - URL https://www.eversports.de/s/infinity-polesports-eggenfelden is valid.\n"
     ]
    },
    {
     "name": "stdout",
     "output_type": "stream",
     "text": [
      "Scraping Pole Studio Data from https://www.eversports.de/s/infinity-polesports-eggenfelden...\n"
     ]
    },
    {
     "name": "stderr",
     "output_type": "stream",
     "text": [
      "Processing URLs:  70%|███████   | 236/337 [22:27<07:51,  4.66s/it, Current URL: https://www.eversports.de/s/infinity-polesports-eggenfelden]"
     ]
    },
    {
     "name": "stdout",
     "output_type": "stream",
     "text": [
      "Processing completed.\n",
      "Pole Studio Data: 1 entries\n",
      "Starting URL reconstruction...\n"
     ]
    },
    {
     "name": "stderr",
     "output_type": "stream",
     "text": [
      "2024-02-03 16:49:19,839 - INFO - Processing URL 1/4: https://www.eversports.de/s/yoga-and-pole-art-by-selina\n"
     ]
    },
    {
     "name": "stdout",
     "output_type": "stream",
     "text": [
      "Converting to DataFrame...\n",
      "Validating URLs...\n"
     ]
    },
    {
     "name": "stderr",
     "output_type": "stream",
     "text": [
      "2024-02-03 16:49:21,310 - INFO - URL https://www.eversports.de/s/yoga-and-pole-art-by-selina is valid.\n",
      "2024-02-03 16:49:21,311 - INFO - Processing URL 2/4: https://www.eversports.de/sw/yoga-and-pole-art-by-selina\n",
      "2024-02-03 16:49:22,648 - INFO - URL https://www.eversports.de/sw/yoga-and-pole-art-by-selina is valid.\n",
      "2024-02-03 16:49:22,649 - INFO - Processing URL 3/4: https://www.eversports.de/sp/yoga-and-pole-art-by-selina\n",
      "2024-02-03 16:49:23,928 - INFO - URL https://www.eversports.de/sp/yoga-and-pole-art-by-selina is valid.\n",
      "2024-02-03 16:49:23,930 - INFO - Processing URL 4/4: https://www.eversports.de/s/yoga-and-pole-art-by-selina/team\n",
      "2024-02-03 16:49:25,204 - INFO - URL https://www.eversports.de/s/yoga-and-pole-art-by-selina/team is valid.\n"
     ]
    },
    {
     "name": "stdout",
     "output_type": "stream",
     "text": [
      "Scraping Pole Studio Data from https://www.eversports.de/s/yoga-and-pole-art-by-selina...\n",
      "Scraping Workshops Data from https://www.eversports.de/sw/yoga-and-pole-art-by-selina...\n",
      "Scraping Workshop Details from https://www.eversports.de/e/workshop/dhAWne_...\n",
      "Scraping Workshop Details from https://www.eversports.de/e/workshop/p_eKWTW...\n",
      "Scraping Workshop Details from https://www.eversports.de/e/workshop/1PmB24I...\n",
      "Scraping Workshop Details from https://www.eversports.de/e/workshop/Zk4neM3...\n",
      "Scraping Workshop Details from https://www.eversports.de/e/workshop/VnmCBGD...\n",
      "Scraping Workshop Details from https://www.eversports.de/e/workshop/qdYG4WC...\n",
      "Scraping Workshop Details from https://www.eversports.de/e/workshop/M4MjCdo...\n",
      "Scraping Workshop Details from https://www.eversports.de/e/workshop/bi8m5zs...\n",
      "Scraping Workshop Details from https://www.eversports.de/e/workshop/ccLkJAE...\n"
     ]
    },
    {
     "name": "stderr",
     "output_type": "stream",
     "text": [
      "Processing URLs:  70%|███████   | 237/337 [22:49<16:24,  9.84s/it, Current URL: https://www.eversports.de/s/yoga-and-pole-art-by-selina]    "
     ]
    },
    {
     "name": "stdout",
     "output_type": "stream",
     "text": [
      "Processing completed.\n",
      "Pole Studio Data: 1 entries\n",
      "Workshops Data: 9 entries\n",
      "Workshop Details: 9 entries\n",
      "Starting URL reconstruction...\n"
     ]
    },
    {
     "name": "stderr",
     "output_type": "stream",
     "text": [
      "Processing URLs:  71%|███████   | 238/337 [22:50<11:54,  7.22s/it, Current URL: https://www.eversports.de/s/verticalarts-pole-&-aerial-fitness]"
     ]
    },
    {
     "name": "stdout",
     "output_type": "stream",
     "text": [
      "Error during HTTP request: 404 Client Error: Not Found for url: https://www.eversports.de/s/verticalarts-pole-&-aerial-fitness\n",
      "Converting to DataFrame...\n",
      "Validating URLs...\n",
      "Processing completed.\n",
      "Starting URL reconstruction...\n"
     ]
    },
    {
     "name": "stderr",
     "output_type": "stream",
     "text": [
      "2024-02-03 16:49:44,259 - INFO - Processing URL 1/3: https://www.eversports.de/s/flow-academy\n"
     ]
    },
    {
     "name": "stdout",
     "output_type": "stream",
     "text": [
      "Converting to DataFrame...\n",
      "Validating URLs...\n"
     ]
    },
    {
     "name": "stderr",
     "output_type": "stream",
     "text": [
      "2024-02-03 16:49:45,779 - INFO - URL https://www.eversports.de/s/flow-academy is valid.\n",
      "2024-02-03 16:49:45,780 - INFO - Processing URL 2/3: https://www.eversports.de/sp/flow-academy\n",
      "2024-02-03 16:49:46,943 - INFO - URL https://www.eversports.de/sp/flow-academy is valid.\n",
      "2024-02-03 16:49:46,944 - INFO - Processing URL 3/3: https://www.eversports.de/s/flow-academy/team\n",
      "2024-02-03 16:49:48,126 - INFO - URL https://www.eversports.de/s/flow-academy/team is valid.\n"
     ]
    },
    {
     "name": "stdout",
     "output_type": "stream",
     "text": [
      "Scraping Pole Studio Data from https://www.eversports.de/s/flow-academy...\n"
     ]
    },
    {
     "name": "stderr",
     "output_type": "stream",
     "text": [
      "Processing URLs:  71%|███████   | 239/337 [22:57<11:41,  7.16s/it, Current URL: https://www.eversports.de/s/flow-academy]                      "
     ]
    },
    {
     "name": "stdout",
     "output_type": "stream",
     "text": [
      "Processing completed.\n",
      "Pole Studio Data: 1 entries\n",
      "Starting URL reconstruction...\n"
     ]
    },
    {
     "name": "stderr",
     "output_type": "stream",
     "text": [
      "Processing URLs:  71%|███████   | 240/337 [22:58<08:39,  5.36s/it, Current URL: https://www.eversports.de/s/aerial-art-poledance-country-base]"
     ]
    },
    {
     "name": "stdout",
     "output_type": "stream",
     "text": [
      "Error during HTTP request: 404 Client Error: Not Found for url: https://www.eversports.de/s/aerial-art-poledance-country-base\n",
      "Converting to DataFrame...\n",
      "Validating URLs...\n",
      "Processing completed.\n",
      "Starting URL reconstruction...\n"
     ]
    },
    {
     "name": "stderr",
     "output_type": "stream",
     "text": [
      "2024-02-03 16:49:50,968 - INFO - Processing URL 1/4: https://www.eversports.de/s/vertical-pole-aerial-dance-1\n"
     ]
    },
    {
     "name": "stdout",
     "output_type": "stream",
     "text": [
      "Converting to DataFrame...\n",
      "Validating URLs...\n"
     ]
    },
    {
     "name": "stderr",
     "output_type": "stream",
     "text": [
      "2024-02-03 16:49:52,429 - INFO - URL https://www.eversports.de/s/vertical-pole-aerial-dance-1 is valid.\n",
      "2024-02-03 16:49:52,430 - INFO - Processing URL 2/4: https://www.eversports.de/sw/vertical-pole-aerial-dance-1\n",
      "2024-02-03 16:49:53,654 - INFO - URL https://www.eversports.de/sw/vertical-pole-aerial-dance-1 is valid.\n",
      "2024-02-03 16:49:53,655 - INFO - Processing URL 3/4: https://www.eversports.de/sp/vertical-pole-aerial-dance-1\n",
      "2024-02-03 16:49:54,873 - INFO - URL https://www.eversports.de/sp/vertical-pole-aerial-dance-1 is valid.\n",
      "2024-02-03 16:49:54,874 - INFO - Processing URL 4/4: https://www.eversports.de/s/vertical-pole-aerial-dance-1/team\n",
      "2024-02-03 16:49:56,129 - INFO - URL https://www.eversports.de/s/vertical-pole-aerial-dance-1/team is valid.\n"
     ]
    },
    {
     "name": "stdout",
     "output_type": "stream",
     "text": [
      "Scraping Pole Studio Data from https://www.eversports.de/s/vertical-pole-aerial-dance-1...\n",
      "Scraping Workshops Data from https://www.eversports.de/sw/vertical-pole-aerial-dance-1...\n",
      "Scraping Workshop Details from https://www.eversports.de/e/workshop/ogqaXAU...\n",
      "Scraping Workshop Details from https://www.eversports.de/e/workshop/j_dm47B...\n",
      "Scraping Workshop Details from https://www.eversports.de/e/workshop/oZL9Vcu...\n"
     ]
    },
    {
     "name": "stderr",
     "output_type": "stream",
     "text": [
      "Processing URLs:  72%|███████▏  | 241/337 [23:10<11:48,  7.39s/it, Current URL: https://www.eversports.de/s/vertical-pole-aerial-dance-1]     "
     ]
    },
    {
     "name": "stdout",
     "output_type": "stream",
     "text": [
      "Processing completed.\n",
      "Pole Studio Data: 1 entries\n",
      "Workshops Data: 3 entries\n",
      "Workshop Details: 3 entries\n",
      "Starting URL reconstruction...\n"
     ]
    },
    {
     "name": "stderr",
     "output_type": "stream",
     "text": [
      "Processing URLs:  72%|███████▏  | 242/337 [23:13<09:27,  5.97s/it, Current URL: https://www.eversports.de/s/poleplace]                   "
     ]
    },
    {
     "name": "stdout",
     "output_type": "stream",
     "text": [
      "Error during HTTP request: 404 Client Error: Not Found for url: https://www.eversports.de/s/poleplace\n",
      "Converting to DataFrame...\n",
      "Validating URLs...\n",
      "Processing completed.\n",
      "Starting URL reconstruction...\n"
     ]
    },
    {
     "name": "stderr",
     "output_type": "stream",
     "text": [
      "2024-02-03 16:50:09,473 - INFO - Processing URL 1/3: https://www.eversports.de/s/polefitness-leipzig\n"
     ]
    },
    {
     "name": "stdout",
     "output_type": "stream",
     "text": [
      "Converting to DataFrame...\n",
      "Validating URLs...\n"
     ]
    },
    {
     "name": "stderr",
     "output_type": "stream",
     "text": [
      "2024-02-03 16:50:10,841 - INFO - URL https://www.eversports.de/s/polefitness-leipzig is valid.\n",
      "2024-02-03 16:50:10,842 - INFO - Processing URL 2/3: https://www.eversports.de/sp/polefitness-leipzig\n",
      "2024-02-03 16:50:12,029 - INFO - URL https://www.eversports.de/sp/polefitness-leipzig is valid.\n",
      "2024-02-03 16:50:12,030 - INFO - Processing URL 3/3: https://www.eversports.de/s/polefitness-leipzig/team\n",
      "2024-02-03 16:50:13,362 - INFO - URL https://www.eversports.de/s/polefitness-leipzig/team is valid.\n"
     ]
    },
    {
     "name": "stdout",
     "output_type": "stream",
     "text": [
      "Scraping Pole Studio Data from https://www.eversports.de/s/polefitness-leipzig...\n"
     ]
    },
    {
     "name": "stderr",
     "output_type": "stream",
     "text": [
      "Processing URLs:  72%|███████▏  | 243/337 [23:22<10:55,  6.97s/it, Current URL: https://www.eversports.de/s/polefitness-leipzig]"
     ]
    },
    {
     "name": "stdout",
     "output_type": "stream",
     "text": [
      "Processing completed.\n",
      "Pole Studio Data: 1 entries\n",
      "Starting URL reconstruction...\n"
     ]
    },
    {
     "name": "stderr",
     "output_type": "stream",
     "text": [
      "Processing URLs:  72%|███████▏  | 244/337 [23:26<09:24,  6.07s/it, Current URL: https://www.eversports.de/s/tsg-blau-gold-gießen-e.v.]"
     ]
    },
    {
     "name": "stdout",
     "output_type": "stream",
     "text": [
      "Error during HTTP request: Exceeded 30 redirects.\n",
      "Converting to DataFrame...\n",
      "Validating URLs...\n",
      "Processing completed.\n",
      "Starting URL reconstruction...\n"
     ]
    },
    {
     "name": "stderr",
     "output_type": "stream",
     "text": [
      "Processing URLs:  73%|███████▎  | 245/337 [23:27<07:03,  4.60s/it, Current URL: https://www.eversports.de/s/vanilla-sky-pole-atelier] "
     ]
    },
    {
     "name": "stdout",
     "output_type": "stream",
     "text": [
      "Error during HTTP request: 404 Client Error: Not Found for url: https://www.eversports.de/s/vanilla-sky-pole-atelier\n",
      "Converting to DataFrame...\n",
      "Validating URLs...\n",
      "Processing completed.\n",
      "Starting URL reconstruction...\n"
     ]
    },
    {
     "name": "stderr",
     "output_type": "stream",
     "text": [
      "Processing URLs:  73%|███████▎  | 246/337 [24:04<21:25, 14.13s/it, Current URL: https://www.eversports.de/s/freaky-pole-cats-straubing]"
     ]
    },
    {
     "name": "stdout",
     "output_type": "stream",
     "text": [
      "Error during HTTP request: 404 Client Error: Not Found for url: https://www.eversports.de/s/freaky-pole-cats-straubing\n",
      "Converting to DataFrame...\n",
      "Validating URLs...\n",
      "Processing completed.\n",
      "Starting URL reconstruction...\n"
     ]
    },
    {
     "name": "stderr",
     "output_type": "stream",
     "text": [
      "Processing URLs:  73%|███████▎  | 247/337 [24:05<15:24, 10.27s/it, Current URL: https://www.eversports.de/s/das-tanz-center]           "
     ]
    },
    {
     "name": "stdout",
     "output_type": "stream",
     "text": [
      "Error during HTTP request: 404 Client Error: Not Found for url: https://www.eversports.de/s/das-tanz-center\n",
      "Converting to DataFrame...\n",
      "Validating URLs...\n",
      "Processing completed.\n",
      "Starting URL reconstruction...\n"
     ]
    },
    {
     "name": "stderr",
     "output_type": "stream",
     "text": [
      "2024-02-03 16:50:58,174 - INFO - Processing URL 1/4: https://www.eversports.de/s/poledancestar\n"
     ]
    },
    {
     "name": "stdout",
     "output_type": "stream",
     "text": [
      "Error reconstructing URL for 'Trainings': Unrecognized text: 'Trainings'\n",
      "Error reconstructing URL for 'Kurse': Unrecognized text: 'Kurse'\n",
      "Converting to DataFrame...\n",
      "Validating URLs...\n"
     ]
    },
    {
     "name": "stderr",
     "output_type": "stream",
     "text": [
      "2024-02-03 16:50:59,587 - INFO - URL https://www.eversports.de/s/poledancestar is valid.\n",
      "2024-02-03 16:50:59,588 - INFO - Processing URL 2/4: https://www.eversports.de/sw/poledancestar\n",
      "2024-02-03 16:51:01,502 - INFO - URL https://www.eversports.de/sw/poledancestar is valid.\n",
      "2024-02-03 16:51:01,503 - INFO - Processing URL 3/4: https://www.eversports.de/sp/poledancestar\n",
      "2024-02-03 16:51:03,416 - INFO - URL https://www.eversports.de/sp/poledancestar is valid.\n",
      "2024-02-03 16:51:03,418 - INFO - Processing URL 4/4: https://www.eversports.de/s/poledancestar/team\n",
      "2024-02-03 16:51:04,679 - INFO - URL https://www.eversports.de/s/poledancestar/team is valid.\n"
     ]
    },
    {
     "name": "stdout",
     "output_type": "stream",
     "text": [
      "Scraping Pole Studio Data from https://www.eversports.de/s/poledancestar...\n",
      "Scraping Workshops Data from https://www.eversports.de/sw/poledancestar...\n",
      "Scraping Workshop Details from https://www.eversports.de/e/workshop/gdRuiO9...\n",
      "Scraping Workshop Details from https://www.eversports.de/e/workshop/edFh1ih...\n",
      "Scraping Workshop Details from https://www.eversports.de/e/workshop/l467buh...\n",
      "Scraping Workshop Details from https://www.eversports.de/e/workshop/fvmjDvJ...\n",
      "Scraping Workshop Details from https://www.eversports.de/e/workshop/_YEPqgy...\n",
      "Scraping Workshop Details from https://www.eversports.de/e/workshop/J71eKxz...\n"
     ]
    },
    {
     "name": "stderr",
     "output_type": "stream",
     "text": [
      "Processing URLs:  74%|███████▎  | 248/337 [24:27<20:15, 13.66s/it, Current URL: https://www.eversports.de/s/poledancestar]  "
     ]
    },
    {
     "name": "stdout",
     "output_type": "stream",
     "text": [
      "Processing completed.\n",
      "Pole Studio Data: 1 entries\n",
      "Workshops Data: 6 entries\n",
      "Workshop Details: 6 entries\n",
      "Starting URL reconstruction...\n"
     ]
    },
    {
     "name": "stderr",
     "output_type": "stream",
     "text": [
      "Processing URLs:  74%|███████▍  | 249/337 [24:28<14:35,  9.95s/it, Current URL: https://www.eversports.de/s/empire-pole]  "
     ]
    },
    {
     "name": "stdout",
     "output_type": "stream",
     "text": [
      "Error during HTTP request: 404 Client Error: Not Found for url: https://www.eversports.de/s/empire-pole\n",
      "Converting to DataFrame...\n",
      "Validating URLs...\n",
      "Processing completed.\n",
      "Starting URL reconstruction...\n"
     ]
    },
    {
     "name": "stderr",
     "output_type": "stream",
     "text": [
      "2024-02-03 16:51:20,619 - INFO - Processing URL 1/4: https://www.eversports.de/s/polefit-aline-sustrath\n"
     ]
    },
    {
     "name": "stdout",
     "output_type": "stream",
     "text": [
      "Error reconstructing URL for 'Kurse': Unrecognized text: 'Kurse'\n",
      "Converting to DataFrame...\n",
      "Validating URLs...\n"
     ]
    },
    {
     "name": "stderr",
     "output_type": "stream",
     "text": [
      "2024-02-03 16:51:22,071 - INFO - URL https://www.eversports.de/s/polefit-aline-sustrath is valid.\n",
      "2024-02-03 16:51:22,072 - INFO - Processing URL 2/4: https://www.eversports.de/sw/polefit-aline-sustrath\n",
      "2024-02-03 16:51:23,253 - INFO - URL https://www.eversports.de/sw/polefit-aline-sustrath is valid.\n",
      "2024-02-03 16:51:23,255 - INFO - Processing URL 3/4: https://www.eversports.de/sp/polefit-aline-sustrath\n",
      "2024-02-03 16:51:24,430 - INFO - URL https://www.eversports.de/sp/polefit-aline-sustrath is valid.\n",
      "2024-02-03 16:51:24,431 - INFO - Processing URL 4/4: https://www.eversports.de/s/polefit-aline-sustrath/team\n",
      "2024-02-03 16:51:25,656 - INFO - URL https://www.eversports.de/s/polefit-aline-sustrath/team is valid.\n"
     ]
    },
    {
     "name": "stdout",
     "output_type": "stream",
     "text": [
      "Scraping Pole Studio Data from https://www.eversports.de/s/polefit-aline-sustrath...\n",
      "Scraping Workshops Data from https://www.eversports.de/sw/polefit-aline-sustrath...\n",
      "Scraping Workshop Details from https://www.eversports.de/e/workshop/F0nh2br...\n"
     ]
    },
    {
     "name": "stderr",
     "output_type": "stream",
     "text": [
      "Processing URLs:  74%|███████▍  | 250/337 [24:37<14:16,  9.84s/it, Current URL: https://www.eversports.de/s/polefit-aline-sustrath]"
     ]
    },
    {
     "name": "stdout",
     "output_type": "stream",
     "text": [
      "Processing completed.\n",
      "Pole Studio Data: 1 entries\n",
      "Workshops Data: 1 entries\n",
      "Workshop Details: 1 entries\n",
      "Starting URL reconstruction...\n"
     ]
    },
    {
     "name": "stderr",
     "output_type": "stream",
     "text": [
      "Processing URLs:  74%|███████▍  | 251/337 [24:39<10:21,  7.22s/it, Current URL: https://www.eversports.de/s/pole-circus-a-k]       "
     ]
    },
    {
     "name": "stdout",
     "output_type": "stream",
     "text": [
      "Error during HTTP request: 404 Client Error: Not Found for url: https://www.eversports.de/s/pole-circus-a-k\n",
      "Converting to DataFrame...\n",
      "Validating URLs...\n",
      "Processing completed.\n",
      "Starting URL reconstruction...\n"
     ]
    },
    {
     "name": "stderr",
     "output_type": "stream",
     "text": [
      "2024-02-03 16:51:31,504 - INFO - Processing URL 1/3: https://www.eversports.de/s/pure-body-concepts-1\n"
     ]
    },
    {
     "name": "stdout",
     "output_type": "stream",
     "text": [
      "Converting to DataFrame...\n",
      "Validating URLs...\n"
     ]
    },
    {
     "name": "stderr",
     "output_type": "stream",
     "text": [
      "2024-02-03 16:51:32,892 - INFO - URL https://www.eversports.de/s/pure-body-concepts-1 is valid.\n",
      "2024-02-03 16:51:32,893 - INFO - Processing URL 2/3: https://www.eversports.de/sp/pure-body-concepts-1\n",
      "2024-02-03 16:51:34,350 - INFO - URL https://www.eversports.de/sp/pure-body-concepts-1 is valid.\n",
      "2024-02-03 16:51:34,351 - INFO - Processing URL 3/3: https://www.eversports.de/s/pure-body-concepts-1/team\n",
      "2024-02-03 16:51:36,625 - INFO - URL https://www.eversports.de/s/pure-body-concepts-1/team is valid.\n"
     ]
    },
    {
     "name": "stdout",
     "output_type": "stream",
     "text": [
      "Scraping Pole Studio Data from https://www.eversports.de/s/pure-body-concepts-1...\n"
     ]
    },
    {
     "name": "stderr",
     "output_type": "stream",
     "text": [
      "Processing URLs:  75%|███████▍  | 252/337 [24:46<10:10,  7.18s/it, Current URL: https://www.eversports.de/s/pure-body-concepts-1]"
     ]
    },
    {
     "name": "stdout",
     "output_type": "stream",
     "text": [
      "Processing completed.\n",
      "Pole Studio Data: 1 entries\n",
      "Starting URL reconstruction...\n"
     ]
    },
    {
     "name": "stderr",
     "output_type": "stream",
     "text": [
      "Processing URLs:  75%|███████▌  | 253/337 [24:47<07:34,  5.41s/it, Current URL: https://www.eversports.de/s/unique-studios-schweinfurt]"
     ]
    },
    {
     "name": "stdout",
     "output_type": "stream",
     "text": [
      "Error during HTTP request: 404 Client Error: Not Found for url: https://www.eversports.de/s/unique-studios-schweinfurt\n",
      "Converting to DataFrame...\n",
      "Validating URLs...\n",
      "Processing completed.\n",
      "Starting URL reconstruction...\n"
     ]
    },
    {
     "name": "stderr",
     "output_type": "stream",
     "text": [
      "2024-02-03 16:51:40,344 - INFO - Processing URL 1/4: https://www.eversports.de/s/yoga-at-lobe-block\n"
     ]
    },
    {
     "name": "stdout",
     "output_type": "stream",
     "text": [
      "Converting to DataFrame...\n",
      "Validating URLs...\n"
     ]
    },
    {
     "name": "stderr",
     "output_type": "stream",
     "text": [
      "2024-02-03 16:51:43,074 - INFO - URL https://www.eversports.de/s/yoga-at-lobe-block is valid.\n",
      "2024-02-03 16:51:43,076 - INFO - Processing URL 2/4: https://www.eversports.de/sw/yoga-at-lobe-block\n",
      "2024-02-03 16:51:44,453 - INFO - URL https://www.eversports.de/sw/yoga-at-lobe-block is valid.\n",
      "2024-02-03 16:51:44,455 - INFO - Processing URL 3/4: https://www.eversports.de/sp/yoga-at-lobe-block\n",
      "2024-02-03 16:51:45,964 - INFO - URL https://www.eversports.de/sp/yoga-at-lobe-block is valid.\n",
      "2024-02-03 16:51:45,965 - INFO - Processing URL 4/4: https://www.eversports.de/s/yoga-at-lobe-block/team\n",
      "2024-02-03 16:51:47,440 - INFO - URL https://www.eversports.de/s/yoga-at-lobe-block/team is valid.\n"
     ]
    },
    {
     "name": "stdout",
     "output_type": "stream",
     "text": [
      "Scraping Pole Studio Data from https://www.eversports.de/s/yoga-at-lobe-block...\n",
      "Scraping Workshops Data from https://www.eversports.de/sw/yoga-at-lobe-block...\n",
      "Scraping Workshop Details from https://www.eversports.de/e/workshop/vmr79nD...\n",
      "Scraping Workshop Details from https://www.eversports.de/e/workshop/5WFQ4Sn...\n"
     ]
    },
    {
     "name": "stderr",
     "output_type": "stream",
     "text": [
      "Processing URLs:  75%|███████▌  | 254/337 [25:01<11:12,  8.10s/it, Current URL: https://www.eversports.de/s/yoga-at-lobe-block]        "
     ]
    },
    {
     "name": "stdout",
     "output_type": "stream",
     "text": [
      "Processing completed.\n",
      "Pole Studio Data: 1 entries\n",
      "Workshops Data: 2 entries\n",
      "Workshop Details: 2 entries\n",
      "Starting URL reconstruction...\n"
     ]
    },
    {
     "name": "stderr",
     "output_type": "stream",
     "text": [
      "Processing URLs:  76%|███████▌  | 255/337 [25:03<08:13,  6.02s/it, Current URL: https://www.eversports.de/s/schwerelos-bochum] "
     ]
    },
    {
     "name": "stdout",
     "output_type": "stream",
     "text": [
      "Error during HTTP request: 404 Client Error: Not Found for url: https://www.eversports.de/s/schwerelos-bochum\n",
      "Converting to DataFrame...\n",
      "Validating URLs...\n",
      "Processing completed.\n",
      "Starting URL reconstruction...\n"
     ]
    },
    {
     "name": "stderr",
     "output_type": "stream",
     "text": [
      "2024-02-03 16:51:56,010 - INFO - Processing URL 1/3: https://www.eversports.de/s/one8dance-studio\n"
     ]
    },
    {
     "name": "stdout",
     "output_type": "stream",
     "text": [
      "Error reconstructing URL for 'Kurse': Unrecognized text: 'Kurse'\n",
      "Converting to DataFrame...\n",
      "Validating URLs...\n"
     ]
    },
    {
     "name": "stderr",
     "output_type": "stream",
     "text": [
      "2024-02-03 16:51:57,370 - INFO - URL https://www.eversports.de/s/one8dance-studio is valid.\n",
      "2024-02-03 16:51:57,371 - INFO - Processing URL 2/3: https://www.eversports.de/sp/one8dance-studio\n",
      "2024-02-03 16:51:58,577 - INFO - URL https://www.eversports.de/sp/one8dance-studio is valid.\n",
      "2024-02-03 16:51:58,578 - INFO - Processing URL 3/3: https://www.eversports.de/s/one8dance-studio/team\n",
      "2024-02-03 16:51:59,853 - INFO - URL https://www.eversports.de/s/one8dance-studio/team is valid.\n"
     ]
    },
    {
     "name": "stdout",
     "output_type": "stream",
     "text": [
      "Scraping Pole Studio Data from https://www.eversports.de/s/one8dance-studio...\n"
     ]
    },
    {
     "name": "stderr",
     "output_type": "stream",
     "text": [
      "Processing URLs:  76%|███████▌  | 256/337 [25:09<08:13,  6.10s/it, Current URL: https://www.eversports.de/s/one8dance-studio] "
     ]
    },
    {
     "name": "stdout",
     "output_type": "stream",
     "text": [
      "Processing completed.\n",
      "Pole Studio Data: 1 entries\n",
      "Starting URL reconstruction...\n"
     ]
    },
    {
     "name": "stderr",
     "output_type": "stream",
     "text": [
      "2024-02-03 16:52:01,579 - INFO - Processing URL 1/4: https://www.eversports.de/s/ramonas-tanzschmiede\n"
     ]
    },
    {
     "name": "stdout",
     "output_type": "stream",
     "text": [
      "Converting to DataFrame...\n",
      "Validating URLs...\n"
     ]
    },
    {
     "name": "stderr",
     "output_type": "stream",
     "text": [
      "2024-02-03 16:52:03,197 - INFO - URL https://www.eversports.de/s/ramonas-tanzschmiede is valid.\n",
      "2024-02-03 16:52:03,198 - INFO - Processing URL 2/4: https://www.eversports.de/sw/ramonas-tanzschmiede\n",
      "2024-02-03 16:52:04,716 - INFO - URL https://www.eversports.de/sw/ramonas-tanzschmiede is valid.\n",
      "2024-02-03 16:52:04,717 - INFO - Processing URL 3/4: https://www.eversports.de/sp/ramonas-tanzschmiede\n",
      "2024-02-03 16:52:05,898 - INFO - URL https://www.eversports.de/sp/ramonas-tanzschmiede is valid.\n",
      "2024-02-03 16:52:05,899 - INFO - Processing URL 4/4: https://www.eversports.de/s/ramonas-tanzschmiede/team\n",
      "2024-02-03 16:52:07,259 - INFO - URL https://www.eversports.de/s/ramonas-tanzschmiede/team is valid.\n"
     ]
    },
    {
     "name": "stdout",
     "output_type": "stream",
     "text": [
      "Scraping Pole Studio Data from https://www.eversports.de/s/ramonas-tanzschmiede...\n",
      "Scraping Workshops Data from https://www.eversports.de/sw/ramonas-tanzschmiede...\n",
      "Scraping Workshop Details from https://www.eversports.de/e/workshop/NUbP_o2...\n",
      "Scraping Workshop Details from https://www.eversports.de/e/workshop/h6T780l...\n",
      "Scraping Workshop Details from https://www.eversports.de/e/workshop/HZmJGaW...\n"
     ]
    },
    {
     "name": "stderr",
     "output_type": "stream",
     "text": [
      "Processing URLs:  76%|███████▋  | 257/337 [25:22<10:47,  8.09s/it, Current URL: https://www.eversports.de/s/ramonas-tanzschmiede]"
     ]
    },
    {
     "name": "stdout",
     "output_type": "stream",
     "text": [
      "Processing completed.\n",
      "Pole Studio Data: 1 entries\n",
      "Workshops Data: 3 entries\n",
      "Workshop Details: 3 entries\n",
      "Starting URL reconstruction...\n"
     ]
    },
    {
     "name": "stderr",
     "output_type": "stream",
     "text": [
      "2024-02-03 16:52:14,303 - INFO - Processing URL 1/4: https://www.eversports.de/s/flexx-arts-aerial-dance-and-fitness\n"
     ]
    },
    {
     "name": "stdout",
     "output_type": "stream",
     "text": [
      "Error reconstructing URL for 'Kurse': Unrecognized text: 'Kurse'\n",
      "Converting to DataFrame...\n",
      "Validating URLs...\n"
     ]
    },
    {
     "name": "stderr",
     "output_type": "stream",
     "text": [
      "2024-02-03 16:52:16,376 - INFO - URL https://www.eversports.de/s/flexx-arts-aerial-dance-and-fitness is valid.\n",
      "2024-02-03 16:52:16,377 - INFO - Processing URL 2/4: https://www.eversports.de/sw/flexx-arts-aerial-dance-and-fitness\n",
      "2024-02-03 16:52:17,563 - INFO - URL https://www.eversports.de/sw/flexx-arts-aerial-dance-and-fitness is valid.\n",
      "2024-02-03 16:52:17,564 - INFO - Processing URL 3/4: https://www.eversports.de/sp/flexx-arts-aerial-dance-and-fitness\n",
      "2024-02-03 16:52:18,871 - INFO - URL https://www.eversports.de/sp/flexx-arts-aerial-dance-and-fitness is valid.\n",
      "2024-02-03 16:52:18,872 - INFO - Processing URL 4/4: https://www.eversports.de/s/flexx-arts-aerial-dance-and-fitness/team\n",
      "2024-02-03 16:52:20,282 - INFO - URL https://www.eversports.de/s/flexx-arts-aerial-dance-and-fitness/team is valid.\n"
     ]
    },
    {
     "name": "stdout",
     "output_type": "stream",
     "text": [
      "Scraping Pole Studio Data from https://www.eversports.de/s/flexx-arts-aerial-dance-and-fitness...\n",
      "Scraping Workshops Data from https://www.eversports.de/sw/flexx-arts-aerial-dance-and-fitness...\n",
      "Scraping Workshop Details from https://www.eversports.de/e/workshop/_EBraSK...\n"
     ]
    },
    {
     "name": "stderr",
     "output_type": "stream",
     "text": [
      "Processing URLs:  77%|███████▋  | 258/337 [25:32<11:37,  8.83s/it, Current URL: https://www.eversports.de/s/flexx-arts-aerial-dance-and-fitness]"
     ]
    },
    {
     "name": "stdout",
     "output_type": "stream",
     "text": [
      "Processing completed.\n",
      "Pole Studio Data: 1 entries\n",
      "Workshops Data: 1 entries\n",
      "Workshop Details: 1 entries\n",
      "Starting URL reconstruction...\n"
     ]
    },
    {
     "name": "stderr",
     "output_type": "stream",
     "text": [
      "Processing URLs:  77%|███████▋  | 259/337 [25:33<08:33,  6.59s/it, Current URL: https://www.eversports.de/s/poledance-zwickau-e.-v.]            "
     ]
    },
    {
     "name": "stdout",
     "output_type": "stream",
     "text": [
      "Error during HTTP request: 404 Client Error: Not Found for url: https://www.eversports.de/s/poledance-zwickau-e.-v.\n",
      "Converting to DataFrame...\n",
      "Validating URLs...\n",
      "Processing completed.\n",
      "Starting URL reconstruction...\n"
     ]
    },
    {
     "name": "stderr",
     "output_type": "stream",
     "text": [
      "Processing URLs:  77%|███████▋  | 260/337 [25:35<06:23,  4.98s/it, Current URL: https://www.eversports.de/s/polerina's-poledance]   "
     ]
    },
    {
     "name": "stdout",
     "output_type": "stream",
     "text": [
      "Error during HTTP request: 404 Client Error: Not Found for url: https://www.eversports.de/s/polerina's-poledance\n",
      "Converting to DataFrame...\n",
      "Validating URLs...\n",
      "Processing completed.\n",
      "Starting URL reconstruction...\n"
     ]
    },
    {
     "name": "stderr",
     "output_type": "stream",
     "text": [
      "2024-02-03 16:52:27,614 - INFO - Processing URL 1/3: https://www.eversports.de/s/bodysoul-studio-duesseldorf\n"
     ]
    },
    {
     "name": "stdout",
     "output_type": "stream",
     "text": [
      "Converting to DataFrame...\n",
      "Validating URLs...\n"
     ]
    },
    {
     "name": "stderr",
     "output_type": "stream",
     "text": [
      "2024-02-03 16:52:29,078 - INFO - URL https://www.eversports.de/s/bodysoul-studio-duesseldorf is valid.\n",
      "2024-02-03 16:52:29,079 - INFO - Processing URL 2/3: https://www.eversports.de/sp/bodysoul-studio-duesseldorf\n",
      "2024-02-03 16:52:30,574 - INFO - URL https://www.eversports.de/sp/bodysoul-studio-duesseldorf is valid.\n",
      "2024-02-03 16:52:30,575 - INFO - Processing URL 3/3: https://www.eversports.de/s/bodysoul-studio-duesseldorf/team\n",
      "2024-02-03 16:52:32,009 - INFO - URL https://www.eversports.de/s/bodysoul-studio-duesseldorf/team is valid.\n"
     ]
    },
    {
     "name": "stdout",
     "output_type": "stream",
     "text": [
      "Scraping Pole Studio Data from https://www.eversports.de/s/bodysoul-studio-duesseldorf...\n"
     ]
    },
    {
     "name": "stderr",
     "output_type": "stream",
     "text": [
      "Processing URLs:  77%|███████▋  | 261/337 [25:41<06:51,  5.41s/it, Current URL: https://www.eversports.de/s/bodysoul-studio-duesseldorf]"
     ]
    },
    {
     "name": "stdout",
     "output_type": "stream",
     "text": [
      "Processing completed.\n",
      "Pole Studio Data: 1 entries\n",
      "Starting URL reconstruction...\n"
     ]
    },
    {
     "name": "stderr",
     "output_type": "stream",
     "text": [
      "2024-02-03 16:52:34,066 - INFO - Processing URL 1/4: https://www.eversports.de/s/pole-dance-krefeld\n"
     ]
    },
    {
     "name": "stdout",
     "output_type": "stream",
     "text": [
      "Error reconstructing URL for 'Trainings': Unrecognized text: 'Trainings'\n",
      "Converting to DataFrame...\n",
      "Validating URLs...\n"
     ]
    },
    {
     "name": "stderr",
     "output_type": "stream",
     "text": [
      "2024-02-03 16:52:35,537 - INFO - URL https://www.eversports.de/s/pole-dance-krefeld is valid.\n",
      "2024-02-03 16:52:35,538 - INFO - Processing URL 2/4: https://www.eversports.de/sw/pole-dance-krefeld\n",
      "2024-02-03 16:52:36,727 - INFO - URL https://www.eversports.de/sw/pole-dance-krefeld is valid.\n",
      "2024-02-03 16:52:36,728 - INFO - Processing URL 3/4: https://www.eversports.de/sp/pole-dance-krefeld\n",
      "2024-02-03 16:52:37,976 - INFO - URL https://www.eversports.de/sp/pole-dance-krefeld is valid.\n",
      "2024-02-03 16:52:37,977 - INFO - Processing URL 4/4: https://www.eversports.de/s/pole-dance-krefeld/team\n",
      "2024-02-03 16:52:39,308 - INFO - URL https://www.eversports.de/s/pole-dance-krefeld/team is valid.\n"
     ]
    },
    {
     "name": "stdout",
     "output_type": "stream",
     "text": [
      "Scraping Pole Studio Data from https://www.eversports.de/s/pole-dance-krefeld...\n",
      "Scraping Workshops Data from https://www.eversports.de/sw/pole-dance-krefeld...\n",
      "Scraping Workshop Details from https://www.eversports.de/e/workshop/WkTS9HS...\n",
      "Scraping Workshop Details from https://www.eversports.de/e/workshop/_LQRruK...\n"
     ]
    },
    {
     "name": "stderr",
     "output_type": "stream",
     "text": [
      "Processing URLs:  78%|███████▊  | 262/337 [25:52<08:58,  7.18s/it, Current URL: https://www.eversports.de/s/pole-dance-krefeld]         "
     ]
    },
    {
     "name": "stdout",
     "output_type": "stream",
     "text": [
      "Processing completed.\n",
      "Pole Studio Data: 1 entries\n",
      "Workshops Data: 2 entries\n",
      "Workshop Details: 2 entries\n",
      "Starting URL reconstruction...\n"
     ]
    },
    {
     "name": "stderr",
     "output_type": "stream",
     "text": [
      "2024-02-03 16:52:45,348 - INFO - Processing URL 1/3: https://www.eversports.de/s/aerial-studio\n"
     ]
    },
    {
     "name": "stdout",
     "output_type": "stream",
     "text": [
      "Converting to DataFrame...\n",
      "Validating URLs...\n"
     ]
    },
    {
     "name": "stderr",
     "output_type": "stream",
     "text": [
      "2024-02-03 16:52:47,646 - INFO - URL https://www.eversports.de/s/aerial-studio is valid.\n",
      "2024-02-03 16:52:47,647 - INFO - Processing URL 2/3: https://www.eversports.de/sp/aerial-studio\n",
      "2024-02-03 16:52:49,254 - INFO - URL https://www.eversports.de/sp/aerial-studio is not valid.\n",
      "2024-02-03 16:52:49,254 - INFO - Processing URL 3/3: https://www.eversports.de/s/aerial-studio/team\n",
      "2024-02-03 16:52:50,930 - INFO - URL https://www.eversports.de/s/aerial-studio/team is valid.\n"
     ]
    },
    {
     "name": "stdout",
     "output_type": "stream",
     "text": [
      "Scraping Pole Studio Data from https://www.eversports.de/s/aerial-studio...\n"
     ]
    },
    {
     "name": "stderr",
     "output_type": "stream",
     "text": [
      "Processing URLs:  78%|███████▊  | 263/337 [26:00<09:07,  7.40s/it, Current URL: https://www.eversports.de/s/aerial-studio]     "
     ]
    },
    {
     "name": "stdout",
     "output_type": "stream",
     "text": [
      "Processing completed.\n",
      "Pole Studio Data: 1 entries\n",
      "Starting URL reconstruction...\n"
     ]
    },
    {
     "name": "stderr",
     "output_type": "stream",
     "text": [
      "2024-02-03 16:52:52,994 - INFO - Processing URL 1/1: https://www.eversports.de/s/poledance-area\n"
     ]
    },
    {
     "name": "stdout",
     "output_type": "stream",
     "text": [
      "Converting to DataFrame...\n",
      "Validating URLs...\n"
     ]
    },
    {
     "name": "stderr",
     "output_type": "stream",
     "text": [
      "2024-02-03 16:52:54,305 - INFO - URL https://www.eversports.de/s/poledance-area is valid.\n"
     ]
    },
    {
     "name": "stdout",
     "output_type": "stream",
     "text": [
      "Scraping Pole Studio Data from https://www.eversports.de/s/poledance-area...\n"
     ]
    },
    {
     "name": "stderr",
     "output_type": "stream",
     "text": [
      "Processing URLs:  78%|███████▊  | 264/337 [26:03<07:22,  6.06s/it, Current URL: https://www.eversports.de/s/poledance-area]"
     ]
    },
    {
     "name": "stdout",
     "output_type": "stream",
     "text": [
      "Processing completed.\n",
      "Pole Studio Data: 1 entries\n",
      "Starting URL reconstruction...\n"
     ]
    },
    {
     "name": "stderr",
     "output_type": "stream",
     "text": [
      "Processing URLs:  79%|███████▊  | 265/337 [26:05<05:33,  4.63s/it, Current URL: https://www.eversports.de/s/poledance-rostock]"
     ]
    },
    {
     "name": "stdout",
     "output_type": "stream",
     "text": [
      "Error during HTTP request: 404 Client Error: Not Found for url: https://www.eversports.de/s/poledance-rostock\n",
      "Converting to DataFrame...\n",
      "Validating URLs...\n",
      "Processing completed.\n",
      "Starting URL reconstruction...\n"
     ]
    },
    {
     "name": "stderr",
     "output_type": "stream",
     "text": [
      "Processing URLs:  79%|███████▉  | 266/337 [26:06<04:16,  3.61s/it, Current URL: https://www.eversports.de/s/poledancestar-leipzig]"
     ]
    },
    {
     "name": "stdout",
     "output_type": "stream",
     "text": [
      "Error during HTTP request: 404 Client Error: Not Found for url: https://www.eversports.de/s/poledancestar-leipzig\n",
      "Converting to DataFrame...\n",
      "Validating URLs...\n",
      "Processing completed.\n",
      "Starting URL reconstruction...\n"
     ]
    },
    {
     "name": "stderr",
     "output_type": "stream",
     "text": [
      "Processing URLs:  79%|███████▉  | 267/337 [26:10<04:35,  3.94s/it, Current URL: https://www.eversports.de/s/feel-good-factory:-pole-•-stretch-•-fly]"
     ]
    },
    {
     "name": "stdout",
     "output_type": "stream",
     "text": [
      "Error during HTTP request: Exceeded 30 redirects.\n",
      "Converting to DataFrame...\n",
      "Validating URLs...\n",
      "Processing completed.\n",
      "Starting URL reconstruction...\n"
     ]
    },
    {
     "name": "stderr",
     "output_type": "stream",
     "text": [
      "2024-02-03 16:53:03,607 - INFO - Processing URL 1/4: https://www.eversports.de/s/pole-plus\n"
     ]
    },
    {
     "name": "stdout",
     "output_type": "stream",
     "text": [
      "Converting to DataFrame...\n",
      "Validating URLs...\n"
     ]
    },
    {
     "name": "stderr",
     "output_type": "stream",
     "text": [
      "2024-02-03 16:53:05,222 - INFO - URL https://www.eversports.de/s/pole-plus is valid.\n",
      "2024-02-03 16:53:05,225 - INFO - Processing URL 2/4: https://www.eversports.de/sw/pole-plus\n",
      "2024-02-03 16:53:07,182 - INFO - URL https://www.eversports.de/sw/pole-plus is valid.\n",
      "2024-02-03 16:53:07,182 - INFO - Processing URL 3/4: https://www.eversports.de/sp/pole-plus\n",
      "2024-02-03 16:53:08,378 - INFO - URL https://www.eversports.de/sp/pole-plus is valid.\n",
      "2024-02-03 16:53:08,379 - INFO - Processing URL 4/4: https://www.eversports.de/s/pole-plus/team\n",
      "2024-02-03 16:53:09,633 - INFO - URL https://www.eversports.de/s/pole-plus/team is valid.\n"
     ]
    },
    {
     "name": "stdout",
     "output_type": "stream",
     "text": [
      "Scraping Pole Studio Data from https://www.eversports.de/s/pole-plus...\n",
      "Scraping Workshops Data from https://www.eversports.de/sw/pole-plus...\n",
      "Scraping Workshop Details from https://www.eversports.de/e/workshop/upSDQIA...\n",
      "Scraping Workshop Details from https://www.eversports.de/e/workshop/lBLI7xf...\n"
     ]
    },
    {
     "name": "stderr",
     "output_type": "stream",
     "text": [
      "Processing URLs:  80%|███████▉  | 268/337 [26:23<07:23,  6.43s/it, Current URL: https://www.eversports.de/s/pole-plus]                              "
     ]
    },
    {
     "name": "stdout",
     "output_type": "stream",
     "text": [
      "Processing completed.\n",
      "Pole Studio Data: 1 entries\n",
      "Workshops Data: 2 entries\n",
      "Workshop Details: 2 entries\n",
      "Starting URL reconstruction...\n"
     ]
    },
    {
     "name": "stderr",
     "output_type": "stream",
     "text": [
      "Processing URLs:  80%|███████▉  | 269/337 [26:24<05:31,  4.87s/it, Current URL: https://www.eversports.de/s/open-aerial-dance-wiesbaden]"
     ]
    },
    {
     "name": "stdout",
     "output_type": "stream",
     "text": [
      "Error during HTTP request: 404 Client Error: Not Found for url: https://www.eversports.de/s/open-aerial-dance-wiesbaden\n",
      "Converting to DataFrame...\n",
      "Validating URLs...\n",
      "Processing completed.\n",
      "Starting URL reconstruction...\n"
     ]
    },
    {
     "name": "stderr",
     "output_type": "stream",
     "text": [
      "2024-02-03 16:53:16,799 - INFO - Processing URL 1/3: https://www.eversports.de/s/tanzschule-poledance-reutlingen\n"
     ]
    },
    {
     "name": "stdout",
     "output_type": "stream",
     "text": [
      "Converting to DataFrame...\n",
      "Validating URLs...\n"
     ]
    },
    {
     "name": "stderr",
     "output_type": "stream",
     "text": [
      "2024-02-03 16:53:18,477 - INFO - URL https://www.eversports.de/s/tanzschule-poledance-reutlingen is valid.\n",
      "2024-02-03 16:53:18,479 - INFO - Processing URL 2/3: https://www.eversports.de/sp/tanzschule-poledance-reutlingen\n",
      "2024-02-03 16:53:19,677 - INFO - URL https://www.eversports.de/sp/tanzschule-poledance-reutlingen is valid.\n",
      "2024-02-03 16:53:19,678 - INFO - Processing URL 3/3: https://www.eversports.de/s/tanzschule-poledance-reutlingen/team\n",
      "2024-02-03 16:53:20,962 - INFO - URL https://www.eversports.de/s/tanzschule-poledance-reutlingen/team is valid.\n"
     ]
    },
    {
     "name": "stdout",
     "output_type": "stream",
     "text": [
      "Scraping Pole Studio Data from https://www.eversports.de/s/tanzschule-poledance-reutlingen...\n"
     ]
    },
    {
     "name": "stderr",
     "output_type": "stream",
     "text": [
      "Processing URLs:  80%|████████  | 270/337 [26:30<05:52,  5.26s/it, Current URL: https://www.eversports.de/s/tanzschule-poledance-reutlingen]"
     ]
    },
    {
     "name": "stdout",
     "output_type": "stream",
     "text": [
      "Processing completed.\n",
      "Pole Studio Data: 1 entries\n",
      "Starting URL reconstruction...\n"
     ]
    },
    {
     "name": "stderr",
     "output_type": "stream",
     "text": [
      "Processing URLs:  80%|████████  | 271/337 [26:31<04:25,  4.03s/it, Current URL: https://www.eversports.de/s/pole-faction-pole-dance-&-fitness]"
     ]
    },
    {
     "name": "stdout",
     "output_type": "stream",
     "text": [
      "Error during HTTP request: 404 Client Error: Not Found for url: https://www.eversports.de/s/pole-faction-pole-dance-&-fitness\n",
      "Converting to DataFrame...\n",
      "Validating URLs...\n",
      "Processing completed.\n",
      "Starting URL reconstruction...\n"
     ]
    },
    {
     "name": "stderr",
     "output_type": "stream",
     "text": [
      "2024-02-03 16:53:24,166 - INFO - Processing URL 1/1: https://www.eversports.de/s/polesition-regensburg\n"
     ]
    },
    {
     "name": "stdout",
     "output_type": "stream",
     "text": [
      "Converting to DataFrame...\n",
      "Validating URLs...\n"
     ]
    },
    {
     "name": "stderr",
     "output_type": "stream",
     "text": [
      "2024-02-03 16:53:25,489 - INFO - URL https://www.eversports.de/s/polesition-regensburg is valid.\n"
     ]
    },
    {
     "name": "stdout",
     "output_type": "stream",
     "text": [
      "Scraping Pole Studio Data from https://www.eversports.de/s/polesition-regensburg...\n"
     ]
    },
    {
     "name": "stderr",
     "output_type": "stream",
     "text": [
      "Processing URLs:  81%|████████  | 272/337 [26:35<04:07,  3.81s/it, Current URL: https://www.eversports.de/s/polesition-regensburg]            "
     ]
    },
    {
     "name": "stdout",
     "output_type": "stream",
     "text": [
      "Processing completed.\n",
      "Pole Studio Data: 1 entries\n",
      "Starting URL reconstruction...\n"
     ]
    },
    {
     "name": "stderr",
     "output_type": "stream",
     "text": [
      "Processing URLs:  81%|████████  | 273/337 [26:36<03:12,  3.01s/it, Current URL: https://www.eversports.de/s/studio-yh-pole-(and)-sports-berlin]"
     ]
    },
    {
     "name": "stdout",
     "output_type": "stream",
     "text": [
      "Error during HTTP request: 404 Client Error: Not Found for url: https://www.eversports.de/s/studio-yh-pole-(and)-sports-berlin\n",
      "Converting to DataFrame...\n",
      "Validating URLs...\n",
      "Processing completed.\n",
      "Starting URL reconstruction...\n"
     ]
    },
    {
     "name": "stderr",
     "output_type": "stream",
     "text": [
      "2024-02-03 16:53:28,719 - INFO - Processing URL 1/4: https://www.eversports.de/s/pole-and-move-mannheim\n"
     ]
    },
    {
     "name": "stdout",
     "output_type": "stream",
     "text": [
      "Converting to DataFrame...\n",
      "Validating URLs...\n"
     ]
    },
    {
     "name": "stderr",
     "output_type": "stream",
     "text": [
      "2024-02-03 16:53:30,190 - INFO - URL https://www.eversports.de/s/pole-and-move-mannheim is valid.\n",
      "2024-02-03 16:53:30,193 - INFO - Processing URL 2/4: https://www.eversports.de/sw/pole-and-move-mannheim\n",
      "2024-02-03 16:53:31,641 - INFO - URL https://www.eversports.de/sw/pole-and-move-mannheim is valid.\n",
      "2024-02-03 16:53:31,642 - INFO - Processing URL 3/4: https://www.eversports.de/sp/pole-and-move-mannheim\n",
      "2024-02-03 16:53:32,827 - INFO - URL https://www.eversports.de/sp/pole-and-move-mannheim is valid.\n",
      "2024-02-03 16:53:32,828 - INFO - Processing URL 4/4: https://www.eversports.de/s/pole-and-move-mannheim/team\n",
      "2024-02-03 16:53:34,108 - INFO - URL https://www.eversports.de/s/pole-and-move-mannheim/team is valid.\n"
     ]
    },
    {
     "name": "stdout",
     "output_type": "stream",
     "text": [
      "Scraping Pole Studio Data from https://www.eversports.de/s/pole-and-move-mannheim...\n",
      "Scraping Workshops Data from https://www.eversports.de/sw/pole-and-move-mannheim...\n",
      "Scraping Workshop Details from https://www.eversports.de/e/workshop/gbofUBp...\n",
      "Scraping Workshop Details from https://www.eversports.de/e/workshop/NFfn_y6...\n",
      "Scraping Workshop Details from https://www.eversports.de/e/workshop/miY7n0b...\n",
      "Scraping Workshop Details from https://www.eversports.de/e/workshop/C9b62JT...\n",
      "Scraping Workshop Details from https://www.eversports.de/e/workshop/0fonSE4...\n"
     ]
    },
    {
     "name": "stderr",
     "output_type": "stream",
     "text": [
      "Processing URLs:  81%|████████▏ | 274/337 [26:51<07:07,  6.79s/it, Current URL: https://www.eversports.de/s/pole-and-move-mannheim]            "
     ]
    },
    {
     "name": "stdout",
     "output_type": "stream",
     "text": [
      "Processing completed.\n",
      "Pole Studio Data: 1 entries\n",
      "Workshops Data: 5 entries\n",
      "Workshop Details: 5 entries\n",
      "Starting URL reconstruction...\n"
     ]
    },
    {
     "name": "stderr",
     "output_type": "stream",
     "text": [
      "Processing URLs:  82%|████████▏ | 275/337 [26:52<05:16,  5.10s/it, Current URL: https://www.eversports.de/s/tanzteufel-denzlingen] "
     ]
    },
    {
     "name": "stdout",
     "output_type": "stream",
     "text": [
      "Error during HTTP request: 404 Client Error: Not Found for url: https://www.eversports.de/s/tanzteufel-denzlingen\n",
      "Converting to DataFrame...\n",
      "Validating URLs...\n",
      "Processing completed.\n",
      "Starting URL reconstruction...\n"
     ]
    },
    {
     "name": "stderr",
     "output_type": "stream",
     "text": [
      "Processing URLs:  82%|████████▏ | 276/337 [26:54<04:00,  3.94s/it, Current URL: https://www.eversports.de/s/pole-sensation]       "
     ]
    },
    {
     "name": "stdout",
     "output_type": "stream",
     "text": [
      "Error during HTTP request: 404 Client Error: Not Found for url: https://www.eversports.de/s/pole-sensation\n",
      "Converting to DataFrame...\n",
      "Validating URLs...\n",
      "Processing completed.\n",
      "Starting URL reconstruction...\n"
     ]
    },
    {
     "name": "stderr",
     "output_type": "stream",
     "text": [
      "Processing URLs:  82%|████████▏ | 277/337 [26:56<03:23,  3.40s/it, Current URL: https://www.eversports.de/s/pole-arts-saarland]"
     ]
    },
    {
     "name": "stdout",
     "output_type": "stream",
     "text": [
      "Error during HTTP request: 404 Client Error: Not Found for url: https://www.eversports.de/s/pole-arts-saarland\n",
      "Converting to DataFrame...\n",
      "Validating URLs...\n",
      "Processing completed.\n",
      "Starting URL reconstruction...\n"
     ]
    },
    {
     "name": "stderr",
     "output_type": "stream",
     "text": [
      "Processing URLs:  82%|████████▏ | 278/337 [26:57<02:40,  2.73s/it, Current URL: https://www.eversports.de/s/dance-in-the-city-remscheid]"
     ]
    },
    {
     "name": "stdout",
     "output_type": "stream",
     "text": [
      "Error during HTTP request: 404 Client Error: Not Found for url: https://www.eversports.de/s/dance-in-the-city-remscheid\n",
      "Converting to DataFrame...\n",
      "Validating URLs...\n",
      "Processing completed.\n",
      "Starting URL reconstruction...\n"
     ]
    },
    {
     "name": "stderr",
     "output_type": "stream",
     "text": [
      "Processing URLs:  83%|████████▎ | 279/337 [26:58<02:10,  2.25s/it, Current URL: https://www.eversports.de/s/crazysports-augsburg]       "
     ]
    },
    {
     "name": "stdout",
     "output_type": "stream",
     "text": [
      "Error during HTTP request: 404 Client Error: Not Found for url: https://www.eversports.de/s/crazysports-augsburg\n",
      "Converting to DataFrame...\n",
      "Validating URLs...\n",
      "Processing completed.\n",
      "Starting URL reconstruction...\n"
     ]
    },
    {
     "name": "stderr",
     "output_type": "stream",
     "text": [
      "2024-02-03 16:53:51,301 - INFO - Processing URL 1/3: https://www.eversports.de/s/health-and-shape-muenchen\n"
     ]
    },
    {
     "name": "stdout",
     "output_type": "stream",
     "text": [
      "Converting to DataFrame...\n",
      "Validating URLs...\n"
     ]
    },
    {
     "name": "stderr",
     "output_type": "stream",
     "text": [
      "2024-02-03 16:53:53,247 - INFO - URL https://www.eversports.de/s/health-and-shape-muenchen is valid.\n",
      "2024-02-03 16:53:53,248 - INFO - Processing URL 2/3: https://www.eversports.de/sp/health-and-shape-muenchen\n",
      "2024-02-03 16:53:54,512 - INFO - URL https://www.eversports.de/sp/health-and-shape-muenchen is valid.\n",
      "2024-02-03 16:53:54,514 - INFO - Processing URL 3/3: https://www.eversports.de/s/health-and-shape-muenchen/team\n",
      "2024-02-03 16:53:55,761 - INFO - URL https://www.eversports.de/s/health-and-shape-muenchen/team is valid.\n"
     ]
    },
    {
     "name": "stdout",
     "output_type": "stream",
     "text": [
      "Scraping Pole Studio Data from https://www.eversports.de/s/health-and-shape-muenchen...\n"
     ]
    },
    {
     "name": "stderr",
     "output_type": "stream",
     "text": [
      "Processing URLs:  83%|████████▎ | 280/337 [27:05<03:22,  3.55s/it, Current URL: https://www.eversports.de/s/health-and-shape-muenchen]"
     ]
    },
    {
     "name": "stdout",
     "output_type": "stream",
     "text": [
      "Processing completed.\n",
      "Pole Studio Data: 1 entries\n",
      "Starting URL reconstruction...\n"
     ]
    },
    {
     "name": "stderr",
     "output_type": "stream",
     "text": [
      "2024-02-03 16:53:57,772 - INFO - Processing URL 1/3: https://www.eversports.de/s/indeed-unique-studio-wien\n"
     ]
    },
    {
     "name": "stdout",
     "output_type": "stream",
     "text": [
      "Error reconstructing URL for 'Kurse': Unrecognized text: 'Kurse'\n",
      "Converting to DataFrame...\n",
      "Validating URLs...\n"
     ]
    },
    {
     "name": "stderr",
     "output_type": "stream",
     "text": [
      "2024-02-03 16:53:58,968 - INFO - URL https://www.eversports.de/s/indeed-unique-studio-wien is valid.\n",
      "2024-02-03 16:53:58,968 - INFO - Processing URL 2/3: https://www.eversports.de/sp/indeed-unique-studio-wien\n",
      "2024-02-03 16:54:00,045 - INFO - URL https://www.eversports.de/sp/indeed-unique-studio-wien is not valid.\n",
      "2024-02-03 16:54:00,046 - INFO - Processing URL 3/3: https://www.eversports.de/s/indeed-unique-studio-wien/team\n",
      "2024-02-03 16:54:01,196 - INFO - URL https://www.eversports.de/s/indeed-unique-studio-wien/team is valid.\n"
     ]
    },
    {
     "name": "stdout",
     "output_type": "stream",
     "text": [
      "Scraping Pole Studio Data from https://www.eversports.de/s/indeed-unique-studio-wien...\n"
     ]
    },
    {
     "name": "stderr",
     "output_type": "stream",
     "text": [
      "Processing URLs:  83%|████████▎ | 281/337 [27:10<03:49,  4.09s/it, Current URL: https://www.eversports.de/s/indeed-unique-studio-wien]"
     ]
    },
    {
     "name": "stdout",
     "output_type": "stream",
     "text": [
      "Processing completed.\n",
      "Pole Studio Data: 1 entries\n",
      "Starting URL reconstruction...\n"
     ]
    },
    {
     "name": "stderr",
     "output_type": "stream",
     "text": [
      "2024-02-03 16:54:02,826 - INFO - Processing URL 1/3: https://www.eversports.de/s/yoga-vidya-burgdorf\n"
     ]
    },
    {
     "name": "stdout",
     "output_type": "stream",
     "text": [
      "Error reconstructing URL for 'Kurse': Unrecognized text: 'Kurse'\n",
      "Error reconstructing URL for 'Retreats': Unrecognized text: 'Retreats'\n",
      "Converting to DataFrame...\n",
      "Validating URLs...\n"
     ]
    },
    {
     "name": "stderr",
     "output_type": "stream",
     "text": [
      "2024-02-03 16:54:04,192 - INFO - URL https://www.eversports.de/s/yoga-vidya-burgdorf is valid.\n",
      "2024-02-03 16:54:04,193 - INFO - Processing URL 2/3: https://www.eversports.de/sp/yoga-vidya-burgdorf\n",
      "2024-02-03 16:54:05,299 - INFO - URL https://www.eversports.de/sp/yoga-vidya-burgdorf is valid.\n",
      "2024-02-03 16:54:05,300 - INFO - Processing URL 3/3: https://www.eversports.de/s/yoga-vidya-burgdorf/team\n",
      "2024-02-03 16:54:06,523 - INFO - URL https://www.eversports.de/s/yoga-vidya-burgdorf/team is valid.\n"
     ]
    },
    {
     "name": "stdout",
     "output_type": "stream",
     "text": [
      "Scraping Pole Studio Data from https://www.eversports.de/s/yoga-vidya-burgdorf...\n"
     ]
    },
    {
     "name": "stderr",
     "output_type": "stream",
     "text": [
      "Processing URLs:  84%|████████▎ | 282/337 [27:16<04:07,  4.49s/it, Current URL: https://www.eversports.de/s/yoga-vidya-burgdorf]      "
     ]
    },
    {
     "name": "stdout",
     "output_type": "stream",
     "text": [
      "Processing completed.\n",
      "Pole Studio Data: 1 entries\n",
      "Starting URL reconstruction...\n"
     ]
    },
    {
     "name": "stderr",
     "output_type": "stream",
     "text": [
      "2024-02-03 16:54:08,202 - INFO - Processing URL 1/4: https://www.eversports.de/s/cheesy-heaven\n"
     ]
    },
    {
     "name": "stdout",
     "output_type": "stream",
     "text": [
      "Converting to DataFrame...\n",
      "Validating URLs...\n"
     ]
    },
    {
     "name": "stderr",
     "output_type": "stream",
     "text": [
      "2024-02-03 16:54:09,443 - INFO - URL https://www.eversports.de/s/cheesy-heaven is valid.\n",
      "2024-02-03 16:54:09,443 - INFO - Processing URL 2/4: https://www.eversports.de/sw/cheesy-heaven\n",
      "2024-02-03 16:54:10,763 - INFO - URL https://www.eversports.de/sw/cheesy-heaven is valid.\n",
      "2024-02-03 16:54:10,764 - INFO - Processing URL 3/4: https://www.eversports.de/sp/cheesy-heaven\n",
      "2024-02-03 16:54:11,880 - INFO - URL https://www.eversports.de/sp/cheesy-heaven is valid.\n",
      "2024-02-03 16:54:11,881 - INFO - Processing URL 4/4: https://www.eversports.de/s/cheesy-heaven/team\n",
      "2024-02-03 16:54:13,066 - INFO - URL https://www.eversports.de/s/cheesy-heaven/team is valid.\n"
     ]
    },
    {
     "name": "stdout",
     "output_type": "stream",
     "text": [
      "Scraping Pole Studio Data from https://www.eversports.de/s/cheesy-heaven...\n",
      "Scraping Workshops Data from https://www.eversports.de/sw/cheesy-heaven...\n",
      "Scraping Workshop Details from https://www.eversports.de/e/workshop/FPhYm4m...\n",
      "Scraping Workshop Details from https://www.eversports.de/e/workshop/YUDNvHE...\n",
      "Scraping Workshop Details from https://www.eversports.de/e/workshop/_TKMrS6...\n",
      "Scraping Workshop Details from https://www.eversports.de/e/workshop/wLNZTsC...\n"
     ]
    },
    {
     "name": "stderr",
     "output_type": "stream",
     "text": [
      "Processing URLs:  84%|████████▍ | 283/337 [27:30<06:39,  7.41s/it, Current URL: https://www.eversports.de/s/cheesy-heaven]      "
     ]
    },
    {
     "name": "stdout",
     "output_type": "stream",
     "text": [
      "Processing completed.\n",
      "Pole Studio Data: 1 entries\n",
      "Workshops Data: 4 entries\n",
      "Workshop Details: 4 entries\n",
      "Starting URL reconstruction...\n"
     ]
    },
    {
     "name": "stderr",
     "output_type": "stream",
     "text": [
      "2024-02-03 16:54:22,800 - INFO - Processing URL 1/4: https://www.eversports.de/s/pura-studio\n"
     ]
    },
    {
     "name": "stdout",
     "output_type": "stream",
     "text": [
      "Converting to DataFrame...\n",
      "Validating URLs...\n"
     ]
    },
    {
     "name": "stderr",
     "output_type": "stream",
     "text": [
      "2024-02-03 16:54:24,427 - INFO - URL https://www.eversports.de/s/pura-studio is valid.\n",
      "2024-02-03 16:54:24,429 - INFO - Processing URL 2/4: https://www.eversports.de/sw/pura-studio\n",
      "2024-02-03 16:54:26,608 - INFO - URL https://www.eversports.de/sw/pura-studio is valid.\n",
      "2024-02-03 16:54:26,609 - INFO - Processing URL 3/4: https://www.eversports.de/sp/pura-studio\n",
      "2024-02-03 16:54:28,218 - INFO - URL https://www.eversports.de/sp/pura-studio is valid.\n",
      "2024-02-03 16:54:28,219 - INFO - Processing URL 4/4: https://www.eversports.de/s/pura-studio/team\n",
      "2024-02-03 16:54:29,554 - INFO - URL https://www.eversports.de/s/pura-studio/team is valid.\n"
     ]
    },
    {
     "name": "stdout",
     "output_type": "stream",
     "text": [
      "Scraping Pole Studio Data from https://www.eversports.de/s/pura-studio...\n",
      "Scraping Workshops Data from https://www.eversports.de/sw/pura-studio...\n",
      "Scraping Workshop Details from https://www.eversports.de/e/workshop/Gc0_BuG...\n",
      "Scraping Workshop Details from https://www.eversports.de/e/workshop/BItjT7x...\n",
      "Scraping Workshop Details from https://www.eversports.de/e/workshop/7N6VOLN...\n",
      "Scraping Workshop Details from https://www.eversports.de/e/workshop/fIWcXIY...\n",
      "Scraping Workshop Details from https://www.eversports.de/e/workshop/aaXFGLh...\n"
     ]
    },
    {
     "name": "stderr",
     "output_type": "stream",
     "text": [
      "Processing URLs:  84%|████████▍ | 284/337 [27:48<09:32, 10.81s/it, Current URL: https://www.eversports.de/s/pura-studio]  "
     ]
    },
    {
     "name": "stdout",
     "output_type": "stream",
     "text": [
      "Processing completed.\n",
      "Pole Studio Data: 1 entries\n",
      "Workshops Data: 5 entries\n",
      "Workshop Details: 5 entries\n",
      "Starting URL reconstruction...\n"
     ]
    },
    {
     "name": "stderr",
     "output_type": "stream",
     "text": [
      "Processing URLs:  85%|████████▍ | 285/337 [27:51<07:18,  8.43s/it, Current URL: https://www.eversports.de/s/freaky-pole-cats-cham]"
     ]
    },
    {
     "name": "stdout",
     "output_type": "stream",
     "text": [
      "Error during HTTP request: 404 Client Error: Not Found for url: https://www.eversports.de/s/freaky-pole-cats-cham\n",
      "Converting to DataFrame...\n",
      "Validating URLs...\n",
      "Processing completed.\n",
      "Starting URL reconstruction...\n"
     ]
    },
    {
     "name": "stderr",
     "output_type": "stream",
     "text": [
      "2024-02-03 16:54:44,769 - INFO - Processing URL 1/1: https://www.eversports.de/s/swiss-mega-park\n"
     ]
    },
    {
     "name": "stdout",
     "output_type": "stream",
     "text": [
      "Error reconstructing URL for 'Sportplätze': Unrecognized text: 'Sportplätze'\n",
      "Error reconstructing URL for 'Matches': Unrecognized text: 'Matches'\n",
      "Converting to DataFrame...\n",
      "Validating URLs...\n"
     ]
    },
    {
     "name": "stderr",
     "output_type": "stream",
     "text": [
      "2024-02-03 16:54:46,526 - INFO - URL https://www.eversports.de/s/swiss-mega-park is valid.\n"
     ]
    },
    {
     "name": "stdout",
     "output_type": "stream",
     "text": [
      "Scraping Pole Studio Data from https://www.eversports.de/s/swiss-mega-park...\n"
     ]
    },
    {
     "name": "stderr",
     "output_type": "stream",
     "text": [
      "Processing URLs:  85%|████████▍ | 286/337 [27:56<06:07,  7.20s/it, Current URL: https://www.eversports.de/s/swiss-mega-park]      "
     ]
    },
    {
     "name": "stdout",
     "output_type": "stream",
     "text": [
      "Processing completed.\n",
      "Pole Studio Data: 1 entries\n",
      "Starting URL reconstruction...\n"
     ]
    },
    {
     "name": "stderr",
     "output_type": "stream",
     "text": [
      "2024-02-03 16:54:49,042 - INFO - Processing URL 1/4: https://www.eversports.de/s/polea-pole-and-aerial-dance\n"
     ]
    },
    {
     "name": "stdout",
     "output_type": "stream",
     "text": [
      "Converting to DataFrame...\n",
      "Validating URLs...\n"
     ]
    },
    {
     "name": "stderr",
     "output_type": "stream",
     "text": [
      "2024-02-03 16:54:51,126 - INFO - URL https://www.eversports.de/s/polea-pole-and-aerial-dance is valid.\n",
      "2024-02-03 16:54:51,127 - INFO - Processing URL 2/4: https://www.eversports.de/sw/polea-pole-and-aerial-dance\n",
      "2024-02-03 16:54:52,490 - INFO - URL https://www.eversports.de/sw/polea-pole-and-aerial-dance is valid.\n",
      "2024-02-03 16:54:52,491 - INFO - Processing URL 3/4: https://www.eversports.de/sp/polea-pole-and-aerial-dance\n",
      "2024-02-03 16:54:53,938 - INFO - URL https://www.eversports.de/sp/polea-pole-and-aerial-dance is valid.\n",
      "2024-02-03 16:54:53,939 - INFO - Processing URL 4/4: https://www.eversports.de/s/polea-pole-and-aerial-dance/team\n",
      "2024-02-03 16:54:55,592 - INFO - URL https://www.eversports.de/s/polea-pole-and-aerial-dance/team is valid.\n"
     ]
    },
    {
     "name": "stdout",
     "output_type": "stream",
     "text": [
      "Scraping Pole Studio Data from https://www.eversports.de/s/polea-pole-and-aerial-dance...\n",
      "Scraping Workshops Data from https://www.eversports.de/sw/polea-pole-and-aerial-dance...\n",
      "Scraping Workshop Details from https://www.eversports.de/e/workshop/-BAz15m...\n",
      "Scraping Workshop Details from https://www.eversports.de/e/workshop/u3m9tGL...\n"
     ]
    },
    {
     "name": "stderr",
     "output_type": "stream",
     "text": [
      "Processing URLs:  85%|████████▌ | 287/337 [28:11<07:57,  9.56s/it, Current URL: https://www.eversports.de/s/polea-pole-and-aerial-dance]"
     ]
    },
    {
     "name": "stdout",
     "output_type": "stream",
     "text": [
      "Processing completed.\n",
      "Pole Studio Data: 1 entries\n",
      "Workshops Data: 2 entries\n",
      "Workshop Details: 2 entries\n",
      "Starting URL reconstruction...\n"
     ]
    },
    {
     "name": "stderr",
     "output_type": "stream",
     "text": [
      "Processing URLs:  85%|████████▌ | 288/337 [28:12<05:48,  7.12s/it, Current URL: https://www.eversports.de/s/pole-dance-studio-waiblingen]"
     ]
    },
    {
     "name": "stdout",
     "output_type": "stream",
     "text": [
      "Error during HTTP request: 404 Client Error: Not Found for url: https://www.eversports.de/s/pole-dance-studio-waiblingen\n",
      "Converting to DataFrame...\n",
      "Validating URLs...\n",
      "Processing completed.\n",
      "Starting URL reconstruction...\n"
     ]
    },
    {
     "name": "stderr",
     "output_type": "stream",
     "text": [
      "2024-02-03 16:55:05,466 - INFO - Processing URL 1/3: https://www.eversports.de/s/pole-dance-studio-passion-hannover\n"
     ]
    },
    {
     "name": "stdout",
     "output_type": "stream",
     "text": [
      "Converting to DataFrame...\n",
      "Validating URLs...\n"
     ]
    },
    {
     "name": "stderr",
     "output_type": "stream",
     "text": [
      "2024-02-03 16:55:06,732 - INFO - URL https://www.eversports.de/s/pole-dance-studio-passion-hannover is valid.\n",
      "2024-02-03 16:55:06,733 - INFO - Processing URL 2/3: https://www.eversports.de/sp/pole-dance-studio-passion-hannover\n",
      "2024-02-03 16:55:08,017 - INFO - URL https://www.eversports.de/sp/pole-dance-studio-passion-hannover is valid.\n",
      "2024-02-03 16:55:08,019 - INFO - Processing URL 3/3: https://www.eversports.de/s/pole-dance-studio-passion-hannover/team\n",
      "2024-02-03 16:55:09,564 - INFO - URL https://www.eversports.de/s/pole-dance-studio-passion-hannover/team is valid.\n"
     ]
    },
    {
     "name": "stdout",
     "output_type": "stream",
     "text": [
      "Scraping Pole Studio Data from https://www.eversports.de/s/pole-dance-studio-passion-hannover...\n"
     ]
    },
    {
     "name": "stderr",
     "output_type": "stream",
     "text": [
      "Processing URLs:  86%|████████▌ | 289/337 [28:19<05:31,  6.91s/it, Current URL: https://www.eversports.de/s/pole-dance-studio-passion-hannover]"
     ]
    },
    {
     "name": "stdout",
     "output_type": "stream",
     "text": [
      "Processing completed.\n",
      "Pole Studio Data: 1 entries\n",
      "Starting URL reconstruction...\n"
     ]
    },
    {
     "name": "stderr",
     "output_type": "stream",
     "text": [
      "2024-02-03 16:55:11,467 - INFO - Processing URL 1/1: https://www.eversports.de/s/cindys-pole-dance\n"
     ]
    },
    {
     "name": "stdout",
     "output_type": "stream",
     "text": [
      "Converting to DataFrame...\n",
      "Validating URLs...\n"
     ]
    },
    {
     "name": "stderr",
     "output_type": "stream",
     "text": [
      "2024-02-03 16:55:12,849 - INFO - URL https://www.eversports.de/s/cindys-pole-dance is valid.\n"
     ]
    },
    {
     "name": "stdout",
     "output_type": "stream",
     "text": [
      "Scraping Pole Studio Data from https://www.eversports.de/s/cindys-pole-dance...\n"
     ]
    },
    {
     "name": "stderr",
     "output_type": "stream",
     "text": [
      "Processing URLs:  86%|████████▌ | 290/337 [28:22<04:31,  5.78s/it, Current URL: https://www.eversports.de/s/cindys-pole-dance]                 "
     ]
    },
    {
     "name": "stdout",
     "output_type": "stream",
     "text": [
      "Processing completed.\n",
      "Pole Studio Data: 1 entries\n",
      "Starting URL reconstruction...\n"
     ]
    },
    {
     "name": "stderr",
     "output_type": "stream",
     "text": [
      "2024-02-03 16:55:14,429 - INFO - Processing URL 1/1: https://www.eversports.de/s/polesensation\n"
     ]
    },
    {
     "name": "stdout",
     "output_type": "stream",
     "text": [
      "Converting to DataFrame...\n",
      "Validating URLs...\n"
     ]
    },
    {
     "name": "stderr",
     "output_type": "stream",
     "text": [
      "2024-02-03 16:55:15,828 - INFO - URL https://www.eversports.de/s/polesensation is valid.\n"
     ]
    },
    {
     "name": "stdout",
     "output_type": "stream",
     "text": [
      "Scraping Pole Studio Data from https://www.eversports.de/s/polesensation...\n"
     ]
    },
    {
     "name": "stderr",
     "output_type": "stream",
     "text": [
      "Processing URLs:  86%|████████▋ | 291/337 [28:25<03:46,  4.93s/it, Current URL: https://www.eversports.de/s/polesensation]    "
     ]
    },
    {
     "name": "stdout",
     "output_type": "stream",
     "text": [
      "Processing completed.\n",
      "Pole Studio Data: 1 entries\n",
      "Starting URL reconstruction...\n"
     ]
    },
    {
     "name": "stderr",
     "output_type": "stream",
     "text": [
      "2024-02-03 16:55:17,454 - INFO - Processing URL 1/3: https://www.eversports.de/s/sportheim-abensberg\n"
     ]
    },
    {
     "name": "stdout",
     "output_type": "stream",
     "text": [
      "Converting to DataFrame...\n",
      "Validating URLs...\n"
     ]
    },
    {
     "name": "stderr",
     "output_type": "stream",
     "text": [
      "2024-02-03 16:55:18,852 - INFO - URL https://www.eversports.de/s/sportheim-abensberg is valid.\n",
      "2024-02-03 16:55:18,853 - INFO - Processing URL 2/3: https://www.eversports.de/sp/sportheim-abensberg\n",
      "2024-02-03 16:55:19,989 - INFO - URL https://www.eversports.de/sp/sportheim-abensberg is valid.\n",
      "2024-02-03 16:55:19,990 - INFO - Processing URL 3/3: https://www.eversports.de/s/sportheim-abensberg/team\n",
      "2024-02-03 16:55:21,268 - INFO - URL https://www.eversports.de/s/sportheim-abensberg/team is valid.\n"
     ]
    },
    {
     "name": "stdout",
     "output_type": "stream",
     "text": [
      "Scraping Pole Studio Data from https://www.eversports.de/s/sportheim-abensberg...\n"
     ]
    },
    {
     "name": "stderr",
     "output_type": "stream",
     "text": [
      "Processing URLs:  87%|████████▋ | 292/337 [28:31<03:54,  5.20s/it, Current URL: https://www.eversports.de/s/sportheim-abensberg]"
     ]
    },
    {
     "name": "stdout",
     "output_type": "stream",
     "text": [
      "Processing completed.\n",
      "Pole Studio Data: 1 entries\n",
      "Starting URL reconstruction...\n"
     ]
    },
    {
     "name": "stderr",
     "output_type": "stream",
     "text": [
      "Processing URLs:  87%|████████▋ | 293/337 [28:32<02:54,  3.97s/it, Current URL: https://www.eversports.de/s/rock'n'pole-regensburg]"
     ]
    },
    {
     "name": "stdout",
     "output_type": "stream",
     "text": [
      "Error during HTTP request: 404 Client Error: Not Found for url: https://www.eversports.de/s/rock'n'pole-regensburg\n",
      "Converting to DataFrame...\n",
      "Validating URLs...\n",
      "Processing completed.\n",
      "Starting URL reconstruction...\n"
     ]
    },
    {
     "name": "stderr",
     "output_type": "stream",
     "text": [
      "Processing URLs:  87%|████████▋ | 294/337 [28:33<02:14,  3.12s/it, Current URL: https://www.eversports.de/s/tanzvisionen]          "
     ]
    },
    {
     "name": "stdout",
     "output_type": "stream",
     "text": [
      "Error during HTTP request: 404 Client Error: Not Found for url: https://www.eversports.de/s/tanzvisionen\n",
      "Converting to DataFrame...\n",
      "Validating URLs...\n",
      "Processing completed.\n",
      "Starting URL reconstruction...\n"
     ]
    },
    {
     "name": "stderr",
     "output_type": "stream",
     "text": [
      "Processing URLs:  88%|████████▊ | 295/337 [28:34<01:47,  2.55s/it, Current URL: https://www.eversports.de/s/polesports-studio-bremen]"
     ]
    },
    {
     "name": "stdout",
     "output_type": "stream",
     "text": [
      "Error during HTTP request: 404 Client Error: Not Found for url: https://www.eversports.de/s/polesports-studio-bremen\n",
      "Converting to DataFrame...\n",
      "Validating URLs...\n",
      "Processing completed.\n",
      "Starting URL reconstruction...\n"
     ]
    },
    {
     "name": "stderr",
     "output_type": "stream",
     "text": [
      "Processing URLs:  88%|████████▊ | 296/337 [28:35<01:28,  2.16s/it, Current URL: https://www.eversports.de/s/lustforlife.studio]      "
     ]
    },
    {
     "name": "stdout",
     "output_type": "stream",
     "text": [
      "Error during HTTP request: 404 Client Error: Not Found for url: https://www.eversports.de/s/lustforlife.studio\n",
      "Converting to DataFrame...\n",
      "Validating URLs...\n",
      "Processing completed.\n",
      "Starting URL reconstruction...\n"
     ]
    },
    {
     "name": "stderr",
     "output_type": "stream",
     "text": [
      "Processing URLs:  88%|████████▊ | 297/337 [28:37<01:19,  2.00s/it, Current URL: https://www.eversports.de/s/aerial-art-poledance-city-base]"
     ]
    },
    {
     "name": "stdout",
     "output_type": "stream",
     "text": [
      "Error during HTTP request: 404 Client Error: Not Found for url: https://www.eversports.de/s/aerial-art-poledance-city-base\n",
      "Converting to DataFrame...\n",
      "Validating URLs...\n",
      "Processing completed.\n",
      "Starting URL reconstruction...\n"
     ]
    },
    {
     "name": "stderr",
     "output_type": "stream",
     "text": [
      "2024-02-03 16:55:29,481 - INFO - Processing URL 1/1: https://www.eversports.de/s/dancingstyle\n"
     ]
    },
    {
     "name": "stdout",
     "output_type": "stream",
     "text": [
      "Converting to DataFrame...\n",
      "Validating URLs...\n"
     ]
    },
    {
     "name": "stderr",
     "output_type": "stream",
     "text": [
      "2024-02-03 16:55:30,824 - INFO - URL https://www.eversports.de/s/dancingstyle is valid.\n"
     ]
    },
    {
     "name": "stdout",
     "output_type": "stream",
     "text": [
      "Scraping Pole Studio Data from https://www.eversports.de/s/dancingstyle...\n"
     ]
    },
    {
     "name": "stderr",
     "output_type": "stream",
     "text": [
      "Processing URLs:  88%|████████▊ | 298/337 [28:41<01:42,  2.63s/it, Current URL: https://www.eversports.de/s/dancingstyle]                  "
     ]
    },
    {
     "name": "stdout",
     "output_type": "stream",
     "text": [
      "Processing completed.\n",
      "Pole Studio Data: 1 entries\n",
      "Starting URL reconstruction...\n"
     ]
    },
    {
     "name": "stderr",
     "output_type": "stream",
     "text": [
      "Processing URLs:  89%|████████▊ | 299/337 [28:42<01:22,  2.17s/it, Current URL: https://www.eversports.de/s/dayuma-pole-&-acrobatics]"
     ]
    },
    {
     "name": "stdout",
     "output_type": "stream",
     "text": [
      "Error during HTTP request: 404 Client Error: Not Found for url: https://www.eversports.de/s/dayuma-pole-&-acrobatics\n",
      "Converting to DataFrame...\n",
      "Validating URLs...\n",
      "Processing completed.\n",
      "Starting URL reconstruction...\n"
     ]
    },
    {
     "name": "stderr",
     "output_type": "stream",
     "text": [
      "Processing URLs:  89%|████████▉ | 300/337 [28:43<01:08,  1.85s/it, Current URL: https://www.eversports.de/s/die-dance-academy-by-wipper]"
     ]
    },
    {
     "name": "stdout",
     "output_type": "stream",
     "text": [
      "Error during HTTP request: 404 Client Error: Not Found for url: https://www.eversports.de/s/die-dance-academy-by-wipper\n",
      "Converting to DataFrame...\n",
      "Validating URLs...\n",
      "Processing completed.\n",
      "Starting URL reconstruction...\n"
     ]
    },
    {
     "name": "stderr",
     "output_type": "stream",
     "text": [
      "Processing URLs:  89%|████████▉ | 301/337 [28:44<00:58,  1.63s/it, Current URL: https://www.eversports.de/s/vi-dance-essen]             "
     ]
    },
    {
     "name": "stdout",
     "output_type": "stream",
     "text": [
      "Error during HTTP request: 404 Client Error: Not Found for url: https://www.eversports.de/s/vi-dance-essen\n",
      "Converting to DataFrame...\n",
      "Validating URLs...\n",
      "Processing completed.\n",
      "Starting URL reconstruction...\n"
     ]
    },
    {
     "name": "stderr",
     "output_type": "stream",
     "text": [
      "Processing URLs:  90%|████████▉ | 302/337 [28:45<00:51,  1.49s/it, Current URL: https://www.eversports.de/s/pole-fun-wehr] "
     ]
    },
    {
     "name": "stdout",
     "output_type": "stream",
     "text": [
      "Error during HTTP request: 404 Client Error: Not Found for url: https://www.eversports.de/s/pole-fun-wehr\n",
      "Converting to DataFrame...\n",
      "Validating URLs...\n",
      "Processing completed.\n",
      "Starting URL reconstruction...\n"
     ]
    },
    {
     "name": "stderr",
     "output_type": "stream",
     "text": [
      "Processing URLs:  90%|████████▉ | 303/337 [28:47<00:46,  1.38s/it, Current URL: https://www.eversports.de/s/polelove-bremen]"
     ]
    },
    {
     "name": "stdout",
     "output_type": "stream",
     "text": [
      "Error during HTTP request: 404 Client Error: Not Found for url: https://www.eversports.de/s/polelove-bremen\n",
      "Converting to DataFrame...\n",
      "Validating URLs...\n",
      "Processing completed.\n",
      "Starting URL reconstruction...\n"
     ]
    },
    {
     "name": "stderr",
     "output_type": "stream",
     "text": [
      "Processing URLs:  90%|█████████ | 304/337 [28:49<00:54,  1.64s/it, Current URL: https://www.eversports.de/s/aerial-amazons] "
     ]
    },
    {
     "name": "stdout",
     "output_type": "stream",
     "text": [
      "Error during HTTP request: 404 Client Error: Not Found for url: https://www.eversports.de/s/aerial-amazons\n",
      "Converting to DataFrame...\n",
      "Validating URLs...\n",
      "Processing completed.\n",
      "Starting URL reconstruction...\n"
     ]
    },
    {
     "name": "stderr",
     "output_type": "stream",
     "text": [
      "Processing URLs:  91%|█████████ | 305/337 [28:50<00:47,  1.50s/it, Current URL: https://www.eversports.de/s/pole-shape-studio]"
     ]
    },
    {
     "name": "stdout",
     "output_type": "stream",
     "text": [
      "Error during HTTP request: 404 Client Error: Not Found for url: https://www.eversports.de/s/pole-shape-studio\n",
      "Converting to DataFrame...\n",
      "Validating URLs...\n",
      "Processing completed.\n",
      "Starting URL reconstruction...\n"
     ]
    },
    {
     "name": "stderr",
     "output_type": "stream",
     "text": [
      "2024-02-03 16:55:42,708 - INFO - Processing URL 1/4: https://www.eversports.de/s/niyaha-yoga-susann-kind\n"
     ]
    },
    {
     "name": "stdout",
     "output_type": "stream",
     "text": [
      "Error reconstructing URL for 'Events': Unrecognized text: 'Events'\n",
      "Converting to DataFrame...\n",
      "Validating URLs...\n"
     ]
    },
    {
     "name": "stderr",
     "output_type": "stream",
     "text": [
      "2024-02-03 16:55:43,981 - INFO - URL https://www.eversports.de/s/niyaha-yoga-susann-kind is valid.\n",
      "2024-02-03 16:55:43,982 - INFO - Processing URL 2/4: https://www.eversports.de/sw/niyaha-yoga-susann-kind\n",
      "2024-02-03 16:55:45,143 - INFO - URL https://www.eversports.de/sw/niyaha-yoga-susann-kind is valid.\n",
      "2024-02-03 16:55:45,144 - INFO - Processing URL 3/4: https://www.eversports.de/sp/niyaha-yoga-susann-kind\n",
      "2024-02-03 16:55:46,279 - INFO - URL https://www.eversports.de/sp/niyaha-yoga-susann-kind is valid.\n",
      "2024-02-03 16:55:46,280 - INFO - Processing URL 4/4: https://www.eversports.de/s/niyaha-yoga-susann-kind/team\n",
      "2024-02-03 16:55:47,471 - INFO - URL https://www.eversports.de/s/niyaha-yoga-susann-kind/team is valid.\n"
     ]
    },
    {
     "name": "stdout",
     "output_type": "stream",
     "text": [
      "Scraping Pole Studio Data from https://www.eversports.de/s/niyaha-yoga-susann-kind...\n",
      "Scraping Workshops Data from https://www.eversports.de/sw/niyaha-yoga-susann-kind...\n",
      "Scraping Workshop Details from https://www.eversports.de/e/workshop/u0m4PpJ...\n",
      "Scraping Workshop Details from https://www.eversports.de/e/workshop/Qph3Nhi...\n",
      "Scraping Workshop Details from https://www.eversports.de/e/workshop/cnaEonv...\n",
      "Scraping Workshop Details from https://www.eversports.de/e/workshop/VVUAlSC...\n"
     ]
    },
    {
     "name": "stderr",
     "output_type": "stream",
     "text": [
      "Processing URLs:  91%|█████████ | 306/337 [29:03<02:35,  5.02s/it, Current URL: https://www.eversports.de/s/niyaha-yoga-susann-kind]"
     ]
    },
    {
     "name": "stdout",
     "output_type": "stream",
     "text": [
      "Processing completed.\n",
      "Pole Studio Data: 1 entries\n",
      "Workshops Data: 4 entries\n",
      "Workshop Details: 4 entries\n",
      "Starting URL reconstruction...\n"
     ]
    },
    {
     "name": "stderr",
     "output_type": "stream",
     "text": [
      "Processing URLs:  91%|█████████ | 307/337 [29:04<01:55,  3.86s/it, Current URL: https://www.eversports.de/s/flyhigh]                "
     ]
    },
    {
     "name": "stdout",
     "output_type": "stream",
     "text": [
      "Error during HTTP request: 404 Client Error: Not Found for url: https://www.eversports.de/s/flyhigh\n",
      "Converting to DataFrame...\n",
      "Validating URLs...\n",
      "Processing completed.\n",
      "Starting URL reconstruction...\n"
     ]
    },
    {
     "name": "stderr",
     "output_type": "stream",
     "text": [
      "2024-02-03 16:55:57,180 - INFO - Processing URL 1/4: https://www.eversports.de/s/move-on-dance-studio-and-polemotions\n"
     ]
    },
    {
     "name": "stdout",
     "output_type": "stream",
     "text": [
      "Error reconstructing URL for 'Kurse': Unrecognized text: 'Kurse'\n",
      "Converting to DataFrame...\n",
      "Validating URLs...\n"
     ]
    },
    {
     "name": "stderr",
     "output_type": "stream",
     "text": [
      "2024-02-03 16:55:58,537 - INFO - URL https://www.eversports.de/s/move-on-dance-studio-and-polemotions is valid.\n",
      "2024-02-03 16:55:58,538 - INFO - Processing URL 2/4: https://www.eversports.de/sw/move-on-dance-studio-and-polemotions\n",
      "2024-02-03 16:55:59,669 - INFO - URL https://www.eversports.de/sw/move-on-dance-studio-and-polemotions is valid.\n",
      "2024-02-03 16:55:59,670 - INFO - Processing URL 3/4: https://www.eversports.de/sp/move-on-dance-studio-and-polemotions\n",
      "2024-02-03 16:56:00,821 - INFO - URL https://www.eversports.de/sp/move-on-dance-studio-and-polemotions is valid.\n",
      "2024-02-03 16:56:00,822 - INFO - Processing URL 4/4: https://www.eversports.de/s/move-on-dance-studio-and-polemotions/team\n",
      "2024-02-03 16:56:02,048 - INFO - URL https://www.eversports.de/s/move-on-dance-studio-and-polemotions/team is valid.\n"
     ]
    },
    {
     "name": "stdout",
     "output_type": "stream",
     "text": [
      "Scraping Pole Studio Data from https://www.eversports.de/s/move-on-dance-studio-and-polemotions...\n",
      "Scraping Workshops Data from https://www.eversports.de/sw/move-on-dance-studio-and-polemotions...\n",
      "Scraping Workshop Details from https://www.eversports.de/e/workshop/1i9L-3q...\n"
     ]
    },
    {
     "name": "stderr",
     "output_type": "stream",
     "text": [
      "Processing URLs:  91%|█████████▏| 308/337 [29:14<02:40,  5.54s/it, Current URL: https://www.eversports.de/s/move-on-dance-studio-and-polemotions]"
     ]
    },
    {
     "name": "stdout",
     "output_type": "stream",
     "text": [
      "Processing completed.\n",
      "Pole Studio Data: 1 entries\n",
      "Workshops Data: 1 entries\n",
      "Workshop Details: 1 entries\n",
      "Starting URL reconstruction...\n"
     ]
    },
    {
     "name": "stderr",
     "output_type": "stream",
     "text": [
      "Processing URLs:  92%|█████████▏| 309/337 [29:15<01:57,  4.21s/it, Current URL: https://www.eversports.de/s/poleroom]                            "
     ]
    },
    {
     "name": "stdout",
     "output_type": "stream",
     "text": [
      "Error during HTTP request: 404 Client Error: Not Found for url: https://www.eversports.de/s/poleroom\n",
      "Converting to DataFrame...\n",
      "Validating URLs...\n",
      "Processing completed.\n",
      "Starting URL reconstruction...\n"
     ]
    },
    {
     "name": "stderr",
     "output_type": "stream",
     "text": [
      "2024-02-03 16:56:07,646 - INFO - Processing URL 1/3: https://www.eversports.de/s/pole-for-soul-gbr\n"
     ]
    },
    {
     "name": "stdout",
     "output_type": "stream",
     "text": [
      "Converting to DataFrame...\n",
      "Validating URLs...\n"
     ]
    },
    {
     "name": "stderr",
     "output_type": "stream",
     "text": [
      "2024-02-03 16:56:08,931 - INFO - URL https://www.eversports.de/s/pole-for-soul-gbr is valid.\n",
      "2024-02-03 16:56:08,932 - INFO - Processing URL 2/3: https://www.eversports.de/sw/pole-for-soul-gbr\n",
      "2024-02-03 16:56:10,027 - INFO - URL https://www.eversports.de/sw/pole-for-soul-gbr is valid.\n",
      "2024-02-03 16:56:10,028 - INFO - Processing URL 3/3: https://www.eversports.de/s/pole-for-soul-gbr/team\n",
      "2024-02-03 16:56:11,271 - INFO - URL https://www.eversports.de/s/pole-for-soul-gbr/team is valid.\n"
     ]
    },
    {
     "name": "stdout",
     "output_type": "stream",
     "text": [
      "Scraping Pole Studio Data from https://www.eversports.de/s/pole-for-soul-gbr...\n",
      "Scraping Workshops Data from https://www.eversports.de/sw/pole-for-soul-gbr...\n",
      "Scraping Workshop Details from https://www.eversports.de/e/workshop/rnbGVfh...\n"
     ]
    },
    {
     "name": "stderr",
     "output_type": "stream",
     "text": [
      "Processing URLs:  92%|█████████▏| 310/337 [29:23<02:21,  5.23s/it, Current URL: https://www.eversports.de/s/pole-for-soul-gbr]"
     ]
    },
    {
     "name": "stdout",
     "output_type": "stream",
     "text": [
      "Processing completed.\n",
      "Pole Studio Data: 1 entries\n",
      "Workshops Data: 1 entries\n",
      "Workshop Details: 1 entries\n",
      "Starting URL reconstruction...\n"
     ]
    },
    {
     "name": "stderr",
     "output_type": "stream",
     "text": [
      "Processing URLs:  92%|█████████▏| 311/337 [29:24<01:43,  3.99s/it, Current URL: https://www.eversports.de/s/luftfabrik-dresden]"
     ]
    },
    {
     "name": "stdout",
     "output_type": "stream",
     "text": [
      "Error during HTTP request: 404 Client Error: Not Found for url: https://www.eversports.de/s/luftfabrik-dresden\n",
      "Converting to DataFrame...\n",
      "Validating URLs...\n",
      "Processing completed.\n",
      "Starting URL reconstruction...\n"
     ]
    },
    {
     "name": "stderr",
     "output_type": "stream",
     "text": [
      "Processing URLs:  93%|█████████▎| 312/337 [29:25<01:18,  3.13s/it, Current URL: https://www.eversports.de/s/pole-for-soul]     "
     ]
    },
    {
     "name": "stdout",
     "output_type": "stream",
     "text": [
      "Error during HTTP request: 404 Client Error: Not Found for url: https://www.eversports.de/s/pole-for-soul\n",
      "Converting to DataFrame...\n",
      "Validating URLs...\n",
      "Processing completed.\n",
      "Starting URL reconstruction...\n"
     ]
    },
    {
     "name": "stderr",
     "output_type": "stream",
     "text": [
      "2024-02-03 16:56:17,362 - INFO - Processing URL 1/1: https://www.eversports.de/s/poleart_inspiration\n"
     ]
    },
    {
     "name": "stdout",
     "output_type": "stream",
     "text": [
      "Converting to DataFrame...\n",
      "Validating URLs...\n"
     ]
    },
    {
     "name": "stderr",
     "output_type": "stream",
     "text": [
      "2024-02-03 16:56:18,529 - INFO - URL https://www.eversports.de/s/poleart_inspiration is valid.\n"
     ]
    },
    {
     "name": "stdout",
     "output_type": "stream",
     "text": [
      "Scraping Pole Studio Data from https://www.eversports.de/s/poleart_inspiration...\n"
     ]
    },
    {
     "name": "stderr",
     "output_type": "stream",
     "text": [
      "Processing URLs:  93%|█████████▎| 313/337 [29:27<01:11,  2.98s/it, Current URL: https://www.eversports.de/s/poleart_inspiration]"
     ]
    },
    {
     "name": "stdout",
     "output_type": "stream",
     "text": [
      "Processing completed.\n",
      "Pole Studio Data: 1 entries\n",
      "Starting URL reconstruction...\n"
     ]
    },
    {
     "name": "stderr",
     "output_type": "stream",
     "text": [
      "2024-02-03 16:56:20,080 - INFO - Processing URL 1/4: https://www.eversports.de/s/pole-faction-rhein-neckar\n"
     ]
    },
    {
     "name": "stdout",
     "output_type": "stream",
     "text": [
      "Converting to DataFrame...\n",
      "Validating URLs...\n"
     ]
    },
    {
     "name": "stderr",
     "output_type": "stream",
     "text": [
      "2024-02-03 16:56:21,444 - INFO - URL https://www.eversports.de/s/pole-faction-rhein-neckar is valid.\n",
      "2024-02-03 16:56:21,445 - INFO - Processing URL 2/4: https://www.eversports.de/sw/pole-faction-rhein-neckar\n",
      "2024-02-03 16:56:22,636 - INFO - URL https://www.eversports.de/sw/pole-faction-rhein-neckar is valid.\n",
      "2024-02-03 16:56:22,638 - INFO - Processing URL 3/4: https://www.eversports.de/sp/pole-faction-rhein-neckar\n",
      "2024-02-03 16:56:23,726 - INFO - URL https://www.eversports.de/sp/pole-faction-rhein-neckar is valid.\n",
      "2024-02-03 16:56:23,727 - INFO - Processing URL 4/4: https://www.eversports.de/s/pole-faction-rhein-neckar/team\n",
      "2024-02-03 16:56:24,972 - INFO - URL https://www.eversports.de/s/pole-faction-rhein-neckar/team is valid.\n"
     ]
    },
    {
     "name": "stdout",
     "output_type": "stream",
     "text": [
      "Scraping Pole Studio Data from https://www.eversports.de/s/pole-faction-rhein-neckar...\n",
      "Scraping Workshops Data from https://www.eversports.de/sw/pole-faction-rhein-neckar...\n",
      "Scraping Workshop Details from https://www.eversports.de/e/workshop/ykldhbJ...\n",
      "Scraping Workshop Details from https://www.eversports.de/e/workshop/PETMN6i...\n",
      "Scraping Workshop Details from https://www.eversports.de/e/workshop/VtQCbbh...\n"
     ]
    },
    {
     "name": "stderr",
     "output_type": "stream",
     "text": [
      "Processing URLs:  93%|█████████▎| 314/337 [29:39<02:06,  5.49s/it, Current URL: https://www.eversports.de/s/pole-faction-rhein-neckar]"
     ]
    },
    {
     "name": "stdout",
     "output_type": "stream",
     "text": [
      "Processing completed.\n",
      "Pole Studio Data: 1 entries\n",
      "Workshops Data: 3 entries\n",
      "Workshop Details: 3 entries\n",
      "Starting URL reconstruction...\n"
     ]
    },
    {
     "name": "stderr",
     "output_type": "stream",
     "text": [
      "2024-02-03 16:56:32,347 - INFO - Processing URL 1/1: https://www.eversports.de/s/polefriends-magdeburg\n"
     ]
    },
    {
     "name": "stdout",
     "output_type": "stream",
     "text": [
      "Converting to DataFrame...\n",
      "Validating URLs...\n"
     ]
    },
    {
     "name": "stderr",
     "output_type": "stream",
     "text": [
      "2024-02-03 16:56:33,537 - INFO - URL https://www.eversports.de/s/polefriends-magdeburg is valid.\n"
     ]
    },
    {
     "name": "stdout",
     "output_type": "stream",
     "text": [
      "Scraping Pole Studio Data from https://www.eversports.de/s/polefriends-magdeburg...\n"
     ]
    },
    {
     "name": "stderr",
     "output_type": "stream",
     "text": [
      "Processing URLs:  93%|█████████▎| 315/337 [29:43<01:53,  5.17s/it, Current URL: https://www.eversports.de/s/polefriends-magdeburg]    "
     ]
    },
    {
     "name": "stdout",
     "output_type": "stream",
     "text": [
      "Processing completed.\n",
      "Pole Studio Data: 1 entries\n",
      "Starting URL reconstruction...\n"
     ]
    },
    {
     "name": "stderr",
     "output_type": "stream",
     "text": [
      "2024-02-03 16:56:36,348 - INFO - Processing URL 1/3: https://www.eversports.de/s/secret-moves-athletic-dance-studio\n"
     ]
    },
    {
     "name": "stdout",
     "output_type": "stream",
     "text": [
      "Converting to DataFrame...\n",
      "Validating URLs...\n"
     ]
    },
    {
     "name": "stderr",
     "output_type": "stream",
     "text": [
      "2024-02-03 16:56:37,726 - INFO - URL https://www.eversports.de/s/secret-moves-athletic-dance-studio is valid.\n",
      "2024-02-03 16:56:37,727 - INFO - Processing URL 2/3: https://www.eversports.de/sp/secret-moves-athletic-dance-studio\n",
      "2024-02-03 16:56:38,875 - INFO - URL https://www.eversports.de/sp/secret-moves-athletic-dance-studio is valid.\n",
      "2024-02-03 16:56:38,876 - INFO - Processing URL 3/3: https://www.eversports.de/s/secret-moves-athletic-dance-studio/team\n",
      "2024-02-03 16:56:40,076 - INFO - URL https://www.eversports.de/s/secret-moves-athletic-dance-studio/team is valid.\n"
     ]
    },
    {
     "name": "stdout",
     "output_type": "stream",
     "text": [
      "Scraping Pole Studio Data from https://www.eversports.de/s/secret-moves-athletic-dance-studio...\n"
     ]
    },
    {
     "name": "stderr",
     "output_type": "stream",
     "text": [
      "Processing URLs:  94%|█████████▍| 316/337 [29:49<01:53,  5.40s/it, Current URL: https://www.eversports.de/s/secret-moves-athletic-dance-studio]"
     ]
    },
    {
     "name": "stdout",
     "output_type": "stream",
     "text": [
      "Processing completed.\n",
      "Pole Studio Data: 1 entries\n",
      "Starting URL reconstruction...\n"
     ]
    },
    {
     "name": "stderr",
     "output_type": "stream",
     "text": [
      "Processing URLs:  94%|█████████▍| 317/337 [29:50<01:21,  4.10s/it, Current URL: https://www.eversports.de/s/move-on!-dance-studio-&-polemotions]"
     ]
    },
    {
     "name": "stdout",
     "output_type": "stream",
     "text": [
      "Error during HTTP request: 404 Client Error: Not Found for url: https://www.eversports.de/s/move-on!-dance-studio-&-polemotions\n",
      "Converting to DataFrame...\n",
      "Validating URLs...\n",
      "Processing completed.\n",
      "Starting URL reconstruction...\n"
     ]
    },
    {
     "name": "stderr",
     "output_type": "stream",
     "text": [
      "2024-02-03 16:56:44,115 - INFO - Processing URL 1/1: https://www.eversports.de/s/soul-flight\n"
     ]
    },
    {
     "name": "stdout",
     "output_type": "stream",
     "text": [
      "Converting to DataFrame...\n",
      "Validating URLs...\n"
     ]
    },
    {
     "name": "stderr",
     "output_type": "stream",
     "text": [
      "2024-02-03 16:56:45,724 - INFO - URL https://www.eversports.de/s/soul-flight is valid.\n"
     ]
    },
    {
     "name": "stdout",
     "output_type": "stream",
     "text": [
      "Scraping Pole Studio Data from https://www.eversports.de/s/soul-flight...\n"
     ]
    },
    {
     "name": "stderr",
     "output_type": "stream",
     "text": [
      "Processing URLs:  94%|█████████▍| 318/337 [29:55<01:22,  4.36s/it, Current URL: https://www.eversports.de/s/soul-flight]                        "
     ]
    },
    {
     "name": "stdout",
     "output_type": "stream",
     "text": [
      "Processing completed.\n",
      "Pole Studio Data: 1 entries\n",
      "Starting URL reconstruction...\n"
     ]
    },
    {
     "name": "stderr",
     "output_type": "stream",
     "text": [
      "Processing URLs:  95%|█████████▍| 319/337 [29:56<01:01,  3.41s/it, Current URL: https://www.eversports.de/s/pole-dance-academy-neuburg]"
     ]
    },
    {
     "name": "stdout",
     "output_type": "stream",
     "text": [
      "Error during HTTP request: 404 Client Error: Not Found for url: https://www.eversports.de/s/pole-dance-academy-neuburg\n",
      "Converting to DataFrame...\n",
      "Validating URLs...\n",
      "Processing completed.\n",
      "Starting URL reconstruction...\n"
     ]
    },
    {
     "name": "stderr",
     "output_type": "stream",
     "text": [
      "2024-02-03 16:56:49,013 - INFO - Processing URL 1/1: https://www.eversports.de/s/muse-pole-dance\n"
     ]
    },
    {
     "name": "stdout",
     "output_type": "stream",
     "text": [
      "Converting to DataFrame...\n",
      "Validating URLs...\n"
     ]
    },
    {
     "name": "stderr",
     "output_type": "stream",
     "text": [
      "2024-02-03 16:56:50,247 - INFO - URL https://www.eversports.de/s/muse-pole-dance is valid.\n"
     ]
    },
    {
     "name": "stdout",
     "output_type": "stream",
     "text": [
      "Scraping Pole Studio Data from https://www.eversports.de/s/muse-pole-dance...\n"
     ]
    },
    {
     "name": "stderr",
     "output_type": "stream",
     "text": [
      "Processing URLs:  95%|█████████▍| 320/337 [29:59<00:54,  3.23s/it, Current URL: https://www.eversports.de/s/muse-pole-dance]           "
     ]
    },
    {
     "name": "stdout",
     "output_type": "stream",
     "text": [
      "Processing completed.\n",
      "Pole Studio Data: 1 entries\n",
      "Starting URL reconstruction...\n"
     ]
    },
    {
     "name": "stderr",
     "output_type": "stream",
     "text": [
      "Processing URLs:  95%|█████████▌| 321/337 [30:00<00:41,  2.59s/it, Current URL: https://www.eversports.de/s/anni's-pole-dance-neumünster]"
     ]
    },
    {
     "name": "stdout",
     "output_type": "stream",
     "text": [
      "Error during HTTP request: 404 Client Error: Not Found for url: https://www.eversports.de/s/anni's-pole-dance-neum%C3%BCnster\n",
      "Converting to DataFrame...\n",
      "Validating URLs...\n",
      "Processing completed.\n",
      "Starting URL reconstruction...\n"
     ]
    },
    {
     "name": "stderr",
     "output_type": "stream",
     "text": [
      "Processing URLs:  96%|█████████▌| 322/337 [30:01<00:32,  2.14s/it, Current URL: https://www.eversports.de/s/wonderpole]                  "
     ]
    },
    {
     "name": "stdout",
     "output_type": "stream",
     "text": [
      "Error during HTTP request: 404 Client Error: Not Found for url: https://www.eversports.de/s/wonderpole\n",
      "Converting to DataFrame...\n",
      "Validating URLs...\n",
      "Processing completed.\n",
      "Starting URL reconstruction...\n"
     ]
    },
    {
     "name": "stderr",
     "output_type": "stream",
     "text": [
      "Processing URLs:  96%|█████████▌| 323/337 [30:05<00:35,  2.55s/it, Current URL: https://www.eversports.de/s/bodysoul-studio-düsseldorf]"
     ]
    },
    {
     "name": "stdout",
     "output_type": "stream",
     "text": [
      "Error during HTTP request: Exceeded 30 redirects.\n",
      "Converting to DataFrame...\n",
      "Validating URLs...\n",
      "Processing completed.\n",
      "Starting URL reconstruction...\n"
     ]
    },
    {
     "name": "stderr",
     "output_type": "stream",
     "text": [
      "2024-02-03 16:56:57,487 - INFO - Processing URL 1/1: https://www.eversports.de/s/pure-body-concepts\n"
     ]
    },
    {
     "name": "stdout",
     "output_type": "stream",
     "text": [
      "Converting to DataFrame...\n",
      "Validating URLs...\n"
     ]
    },
    {
     "name": "stderr",
     "output_type": "stream",
     "text": [
      "2024-02-03 16:56:58,712 - INFO - URL https://www.eversports.de/s/pure-body-concepts is valid.\n"
     ]
    },
    {
     "name": "stdout",
     "output_type": "stream",
     "text": [
      "Scraping Pole Studio Data from https://www.eversports.de/s/pure-body-concepts...\n"
     ]
    },
    {
     "name": "stderr",
     "output_type": "stream",
     "text": [
      "Processing URLs:  96%|█████████▌| 324/337 [30:08<00:34,  2.63s/it, Current URL: https://www.eversports.de/s/pure-body-concepts]        "
     ]
    },
    {
     "name": "stdout",
     "output_type": "stream",
     "text": [
      "Processing completed.\n",
      "Pole Studio Data: 1 entries\n",
      "Starting URL reconstruction...\n"
     ]
    },
    {
     "name": "stderr",
     "output_type": "stream",
     "text": [
      "Processing URLs:  96%|█████████▋| 325/337 [30:09<00:26,  2.18s/it, Current URL: https://www.eversports.de/s/saltosandra]       "
     ]
    },
    {
     "name": "stdout",
     "output_type": "stream",
     "text": [
      "Error during HTTP request: 404 Client Error: Not Found for url: https://www.eversports.de/s/saltosandra\n",
      "Converting to DataFrame...\n",
      "Validating URLs...\n",
      "Processing completed.\n",
      "Starting URL reconstruction...\n"
     ]
    },
    {
     "name": "stderr",
     "output_type": "stream",
     "text": [
      "Processing URLs:  97%|█████████▋| 326/337 [30:10<00:20,  1.88s/it, Current URL: https://www.eversports.de/s/activo-polefitness]"
     ]
    },
    {
     "name": "stdout",
     "output_type": "stream",
     "text": [
      "Error during HTTP request: 404 Client Error: Not Found for url: https://www.eversports.de/s/activo-polefitness\n",
      "Converting to DataFrame...\n",
      "Validating URLs...\n",
      "Processing completed.\n",
      "Starting URL reconstruction...\n"
     ]
    },
    {
     "name": "stderr",
     "output_type": "stream",
     "text": [
      "2024-02-03 16:57:02,709 - INFO - Processing URL 1/4: https://www.eversports.de/s/pole-and-move-ketsch\n"
     ]
    },
    {
     "name": "stdout",
     "output_type": "stream",
     "text": [
      "Converting to DataFrame...\n",
      "Validating URLs...\n"
     ]
    },
    {
     "name": "stderr",
     "output_type": "stream",
     "text": [
      "2024-02-03 16:57:04,056 - INFO - URL https://www.eversports.de/s/pole-and-move-ketsch is valid.\n",
      "2024-02-03 16:57:04,057 - INFO - Processing URL 2/4: https://www.eversports.de/sw/pole-and-move-ketsch\n",
      "2024-02-03 16:57:05,504 - INFO - URL https://www.eversports.de/sw/pole-and-move-ketsch is valid.\n",
      "2024-02-03 16:57:05,505 - INFO - Processing URL 3/4: https://www.eversports.de/sp/pole-and-move-ketsch\n",
      "2024-02-03 16:57:06,634 - INFO - URL https://www.eversports.de/sp/pole-and-move-ketsch is valid.\n",
      "2024-02-03 16:57:06,635 - INFO - Processing URL 4/4: https://www.eversports.de/s/pole-and-move-ketsch/team\n",
      "2024-02-03 16:57:07,863 - INFO - URL https://www.eversports.de/s/pole-and-move-ketsch/team is valid.\n"
     ]
    },
    {
     "name": "stdout",
     "output_type": "stream",
     "text": [
      "Scraping Pole Studio Data from https://www.eversports.de/s/pole-and-move-ketsch...\n",
      "Scraping Workshops Data from https://www.eversports.de/sw/pole-and-move-ketsch...\n",
      "Scraping Workshop Details from https://www.eversports.de/e/workshop/nZwqDWw...\n",
      "Scraping Workshop Details from https://www.eversports.de/e/workshop/NCNYd8p...\n"
     ]
    },
    {
     "name": "stderr",
     "output_type": "stream",
     "text": [
      "Processing URLs:  97%|█████████▋| 327/337 [30:21<00:47,  4.76s/it, Current URL: https://www.eversports.de/s/pole-and-move-ketsch]"
     ]
    },
    {
     "name": "stdout",
     "output_type": "stream",
     "text": [
      "Processing completed.\n",
      "Pole Studio Data: 1 entries\n",
      "Workshops Data: 2 entries\n",
      "Workshop Details: 2 entries\n",
      "Starting URL reconstruction...\n"
     ]
    },
    {
     "name": "stderr",
     "output_type": "stream",
     "text": [
      "2024-02-03 16:57:14,407 - INFO - Processing URL 1/3: https://www.eversports.de/s/janine-hollung\n"
     ]
    },
    {
     "name": "stdout",
     "output_type": "stream",
     "text": [
      "Converting to DataFrame...\n",
      "Validating URLs...\n"
     ]
    },
    {
     "name": "stderr",
     "output_type": "stream",
     "text": [
      "2024-02-03 16:57:15,652 - INFO - URL https://www.eversports.de/s/janine-hollung is valid.\n",
      "2024-02-03 16:57:15,653 - INFO - Processing URL 2/3: https://www.eversports.de/sp/janine-hollung\n",
      "2024-02-03 16:57:16,862 - INFO - URL https://www.eversports.de/sp/janine-hollung is valid.\n",
      "2024-02-03 16:57:16,863 - INFO - Processing URL 3/3: https://www.eversports.de/s/janine-hollung/team\n",
      "2024-02-03 16:57:18,032 - INFO - URL https://www.eversports.de/s/janine-hollung/team is valid.\n"
     ]
    },
    {
     "name": "stdout",
     "output_type": "stream",
     "text": [
      "Scraping Pole Studio Data from https://www.eversports.de/s/janine-hollung...\n"
     ]
    },
    {
     "name": "stderr",
     "output_type": "stream",
     "text": [
      "Processing URLs:  97%|█████████▋| 328/337 [30:27<00:44,  5.00s/it, Current URL: https://www.eversports.de/s/janine-hollung]      "
     ]
    },
    {
     "name": "stdout",
     "output_type": "stream",
     "text": [
      "Processing completed.\n",
      "Pole Studio Data: 1 entries\n",
      "Starting URL reconstruction...\n"
     ]
    },
    {
     "name": "stderr",
     "output_type": "stream",
     "text": [
      "2024-02-03 16:57:19,728 - INFO - Processing URL 1/2: https://www.eversports.de/s/annis-pole-dance-neumuenster\n"
     ]
    },
    {
     "name": "stdout",
     "output_type": "stream",
     "text": [
      "Error reconstructing URL for 'Trainings': Unrecognized text: 'Trainings'\n",
      "Error reconstructing URL for 'Kurse': Unrecognized text: 'Kurse'\n",
      "Converting to DataFrame...\n",
      "Validating URLs...\n"
     ]
    },
    {
     "name": "stderr",
     "output_type": "stream",
     "text": [
      "2024-02-03 16:57:20,995 - INFO - URL https://www.eversports.de/s/annis-pole-dance-neumuenster is valid.\n",
      "2024-02-03 16:57:20,995 - INFO - Processing URL 2/2: https://www.eversports.de/s/annis-pole-dance-neumuenster/team\n",
      "2024-02-03 16:57:22,149 - INFO - URL https://www.eversports.de/s/annis-pole-dance-neumuenster/team is valid.\n"
     ]
    },
    {
     "name": "stdout",
     "output_type": "stream",
     "text": [
      "Scraping Pole Studio Data from https://www.eversports.de/s/annis-pole-dance-neumuenster...\n"
     ]
    },
    {
     "name": "stderr",
     "output_type": "stream",
     "text": [
      "Processing URLs:  98%|█████████▊| 329/337 [30:31<00:37,  4.73s/it, Current URL: https://www.eversports.de/s/annis-pole-dance-neumuenster]"
     ]
    },
    {
     "name": "stdout",
     "output_type": "stream",
     "text": [
      "Processing completed.\n",
      "Pole Studio Data: 1 entries\n",
      "Starting URL reconstruction...\n"
     ]
    },
    {
     "name": "stderr",
     "output_type": "stream",
     "text": [
      "2024-02-03 16:57:23,859 - INFO - Processing URL 1/3: https://www.eversports.de/s/upsidedown-studio-friedrichsdorf\n"
     ]
    },
    {
     "name": "stdout",
     "output_type": "stream",
     "text": [
      "Error reconstructing URL for 'Kurse': Unrecognized text: 'Kurse'\n",
      "Converting to DataFrame...\n",
      "Validating URLs...\n"
     ]
    },
    {
     "name": "stderr",
     "output_type": "stream",
     "text": [
      "2024-02-03 16:57:25,137 - INFO - URL https://www.eversports.de/s/upsidedown-studio-friedrichsdorf is valid.\n",
      "2024-02-03 16:57:25,138 - INFO - Processing URL 2/3: https://www.eversports.de/sp/upsidedown-studio-friedrichsdorf\n",
      "2024-02-03 16:57:26,340 - INFO - URL https://www.eversports.de/sp/upsidedown-studio-friedrichsdorf is valid.\n",
      "2024-02-03 16:57:26,341 - INFO - Processing URL 3/3: https://www.eversports.de/s/upsidedown-studio-friedrichsdorf/team\n",
      "2024-02-03 16:57:27,559 - INFO - URL https://www.eversports.de/s/upsidedown-studio-friedrichsdorf/team is valid.\n"
     ]
    },
    {
     "name": "stdout",
     "output_type": "stream",
     "text": [
      "Scraping Pole Studio Data from https://www.eversports.de/s/upsidedown-studio-friedrichsdorf...\n"
     ]
    },
    {
     "name": "stderr",
     "output_type": "stream",
     "text": [
      "Processing URLs:  98%|█████████▊| 330/337 [30:37<00:35,  5.08s/it, Current URL: https://www.eversports.de/s/upsidedown-studio-friedrichsdorf]"
     ]
    },
    {
     "name": "stdout",
     "output_type": "stream",
     "text": [
      "Processing completed.\n",
      "Pole Studio Data: 1 entries\n",
      "Starting URL reconstruction...\n"
     ]
    },
    {
     "name": "stderr",
     "output_type": "stream",
     "text": [
      "Processing URLs:  98%|█████████▊| 331/337 [30:38<00:23,  3.89s/it, Current URL: https://www.eversports.de/s/pole-fit-britt]                  "
     ]
    },
    {
     "name": "stdout",
     "output_type": "stream",
     "text": [
      "Error during HTTP request: 404 Client Error: Not Found for url: https://www.eversports.de/s/pole-fit-britt\n",
      "Converting to DataFrame...\n",
      "Validating URLs...\n",
      "Processing completed.\n",
      "Starting URL reconstruction...\n"
     ]
    },
    {
     "name": "stderr",
     "output_type": "stream",
     "text": [
      "2024-02-03 16:57:30,843 - INFO - Processing URL 1/4: https://www.eversports.de/s/seemannsbraut-poledance\n"
     ]
    },
    {
     "name": "stdout",
     "output_type": "stream",
     "text": [
      "Error reconstructing URL for 'Kurse': Unrecognized text: 'Kurse'\n",
      "Converting to DataFrame...\n",
      "Validating URLs...\n"
     ]
    },
    {
     "name": "stderr",
     "output_type": "stream",
     "text": [
      "2024-02-03 16:57:33,040 - INFO - URL https://www.eversports.de/s/seemannsbraut-poledance is valid.\n",
      "2024-02-03 16:57:33,040 - INFO - Processing URL 2/4: https://www.eversports.de/sw/seemannsbraut-poledance\n",
      "2024-02-03 16:57:34,354 - INFO - URL https://www.eversports.de/sw/seemannsbraut-poledance is valid.\n",
      "2024-02-03 16:57:34,354 - INFO - Processing URL 3/4: https://www.eversports.de/sp/seemannsbraut-poledance\n",
      "2024-02-03 16:57:35,457 - INFO - URL https://www.eversports.de/sp/seemannsbraut-poledance is valid.\n",
      "2024-02-03 16:57:35,458 - INFO - Processing URL 4/4: https://www.eversports.de/s/seemannsbraut-poledance/team\n",
      "2024-02-03 16:57:36,628 - INFO - URL https://www.eversports.de/s/seemannsbraut-poledance/team is valid.\n"
     ]
    },
    {
     "name": "stdout",
     "output_type": "stream",
     "text": [
      "Scraping Pole Studio Data from https://www.eversports.de/s/seemannsbraut-poledance...\n",
      "Scraping Workshops Data from https://www.eversports.de/sw/seemannsbraut-poledance...\n",
      "Scraping Workshop Details from https://www.eversports.de/e/workshop/tjSmCEx...\n",
      "Scraping Workshop Details from https://www.eversports.de/e/workshop/mQPzgO-...\n",
      "Scraping Workshop Details from https://www.eversports.de/e/workshop/ziaHmeW...\n",
      "Scraping Workshop Details from https://www.eversports.de/e/workshop/zBoJPTa...\n"
     ]
    },
    {
     "name": "stderr",
     "output_type": "stream",
     "text": [
      "Processing URLs:  99%|█████████▊| 332/337 [30:53<00:35,  7.11s/it, Current URL: https://www.eversports.de/s/seemannsbraut-poledance]"
     ]
    },
    {
     "name": "stdout",
     "output_type": "stream",
     "text": [
      "Processing completed.\n",
      "Pole Studio Data: 1 entries\n",
      "Workshops Data: 4 entries\n",
      "Workshop Details: 4 entries\n",
      "Starting URL reconstruction...\n"
     ]
    },
    {
     "name": "stderr",
     "output_type": "stream",
     "text": [
      "Processing URLs:  99%|█████████▉| 333/337 [30:54<00:21,  5.31s/it, Current URL: https://www.eversports.de/s/poleria]                "
     ]
    },
    {
     "name": "stdout",
     "output_type": "stream",
     "text": [
      "Error during HTTP request: 404 Client Error: Not Found for url: https://www.eversports.de/s/poleria\n",
      "Converting to DataFrame...\n",
      "Validating URLs...\n",
      "Processing completed.\n",
      "Starting URL reconstruction...\n"
     ]
    },
    {
     "name": "stderr",
     "output_type": "stream",
     "text": [
      "Processing URLs:  99%|█████████▉| 334/337 [30:55<00:12,  4.05s/it, Current URL: https://www.eversports.de/s/polemotions-gp]"
     ]
    },
    {
     "name": "stdout",
     "output_type": "stream",
     "text": [
      "Error during HTTP request: 404 Client Error: Not Found for url: https://www.eversports.de/s/polemotions-gp\n",
      "Converting to DataFrame...\n",
      "Validating URLs...\n",
      "Processing completed.\n",
      "Starting URL reconstruction...\n"
     ]
    },
    {
     "name": "stderr",
     "output_type": "stream",
     "text": [
      "2024-02-03 16:57:47,799 - INFO - Processing URL 1/3: https://www.eversports.de/s/upsidedown-studio-bad-homburg\n"
     ]
    },
    {
     "name": "stdout",
     "output_type": "stream",
     "text": [
      "Error reconstructing URL for 'Kurse': Unrecognized text: 'Kurse'\n",
      "Converting to DataFrame...\n",
      "Validating URLs...\n"
     ]
    },
    {
     "name": "stderr",
     "output_type": "stream",
     "text": [
      "2024-02-03 16:57:49,082 - INFO - URL https://www.eversports.de/s/upsidedown-studio-bad-homburg is valid.\n",
      "2024-02-03 16:57:49,083 - INFO - Processing URL 2/3: https://www.eversports.de/sp/upsidedown-studio-bad-homburg\n",
      "2024-02-03 16:57:50,267 - INFO - URL https://www.eversports.de/sp/upsidedown-studio-bad-homburg is valid.\n",
      "2024-02-03 16:57:50,268 - INFO - Processing URL 3/3: https://www.eversports.de/s/upsidedown-studio-bad-homburg/team\n",
      "2024-02-03 16:57:51,792 - INFO - URL https://www.eversports.de/s/upsidedown-studio-bad-homburg/team is valid.\n"
     ]
    },
    {
     "name": "stdout",
     "output_type": "stream",
     "text": [
      "Scraping Pole Studio Data from https://www.eversports.de/s/upsidedown-studio-bad-homburg...\n"
     ]
    },
    {
     "name": "stderr",
     "output_type": "stream",
     "text": [
      "Processing URLs:  99%|█████████▉| 335/337 [31:01<00:09,  4.59s/it, Current URL: https://www.eversports.de/s/upsidedown-studio-bad-homburg]"
     ]
    },
    {
     "name": "stdout",
     "output_type": "stream",
     "text": [
      "Processing completed.\n",
      "Pole Studio Data: 1 entries\n",
      "Starting URL reconstruction...\n"
     ]
    },
    {
     "name": "stderr",
     "output_type": "stream",
     "text": [
      "Processing URLs: 100%|█████████▉| 336/337 [31:02<00:03,  3.63s/it, Current URL: https://www.eversports.de/s/studio-mohnblume]             "
     ]
    },
    {
     "name": "stdout",
     "output_type": "stream",
     "text": [
      "Error during HTTP request: 404 Client Error: Not Found for url: https://www.eversports.de/s/studio-mohnblume\n",
      "Converting to DataFrame...\n",
      "Validating URLs...\n",
      "Processing completed.\n",
      "Starting URL reconstruction...\n"
     ]
    },
    {
     "name": "stderr",
     "output_type": "stream",
     "text": [
      "2024-02-03 16:57:54,931 - INFO - Processing URL 1/1: https://www.eversports.de/s/welovepoledance\n"
     ]
    },
    {
     "name": "stdout",
     "output_type": "stream",
     "text": [
      "Converting to DataFrame...\n",
      "Validating URLs...\n"
     ]
    },
    {
     "name": "stderr",
     "output_type": "stream",
     "text": [
      "2024-02-03 16:57:56,233 - INFO - URL https://www.eversports.de/s/welovepoledance is valid.\n"
     ]
    },
    {
     "name": "stdout",
     "output_type": "stream",
     "text": [
      "Scraping Pole Studio Data from https://www.eversports.de/s/welovepoledance...\n"
     ]
    },
    {
     "name": "stderr",
     "output_type": "stream",
     "text": [
      "Processing URLs: 100%|██████████| 337/337 [31:05<00:00,  5.54s/it, Current URL: https://www.eversports.de/s/welovepoledance] "
     ]
    },
    {
     "name": "stdout",
     "output_type": "stream",
     "text": [
      "Processing completed.\n",
      "Pole Studio Data: 1 entries\n"
     ]
    },
    {
     "name": "stderr",
     "output_type": "stream",
     "text": [
      "\n"
     ]
    }
   ],
   "source": [
    "import pandas as pd\n",
    "from a_PyCaller import process_urls\n",
    "from tqdm import tqdm\n",
    "\n",
    "def process_and_print_results(url, all_pole_studio_data, all_workshops_data, all_workshop_details_data):\n",
    "    data = process_urls([url])\n",
    "\n",
    "    if data:\n",
    "        for key, df in data.items():\n",
    "            if df is not None and not df.empty:\n",
    "                print(f\"{key.replace('_', ' ').title()}: {len(df)} entries\")\n",
    "\n",
    "                # Update the appropriate DataFrame\n",
    "                if key == 'pole_studio_data':\n",
    "                    all_pole_studio_data = pd.concat([all_pole_studio_data, df], ignore_index=True)\n",
    "                elif key == 'workshops_data':\n",
    "                    all_workshops_data = pd.concat([all_workshops_data, df], ignore_index=True)\n",
    "                elif key == 'workshop_details':\n",
    "                    all_workshop_details_data = pd.concat([all_workshop_details_data, df], ignore_index=True)\n",
    "\n",
    "    return all_pole_studio_data, all_workshops_data, all_workshop_details_data\n",
    "\n",
    "def main():\n",
    "    # Load initial URLs\n",
    "    all_found_urls_s = pd.read_csv(\"your_output_file.csv\")\n",
    "    initial_urls = list(set(all_found_urls_s[\"0\"])) # Delete \"[:3]\" to scrape all Urls\n",
    "\n",
    "    # Initialize DataFrames\n",
    "    all_pole_studio_data = pd.DataFrame()\n",
    "    all_workshops_data = pd.DataFrame()\n",
    "    all_workshop_details_data = pd.DataFrame()\n",
    "\n",
    "    # Process each URL with tqdm\n",
    "    with tqdm(total=len(initial_urls), desc=\"Processing URLs\", dynamic_ncols=True) as pbar:\n",
    "        for url in initial_urls:\n",
    "            all_pole_studio_data, all_workshops_data, all_workshop_details_data = process_and_print_results(\n",
    "                url, all_pole_studio_data, all_workshops_data, all_workshop_details_data\n",
    "            )\n",
    "            pbar.update(1)\n",
    "            pbar.set_postfix_str(f\"Current URL: {url}\", refresh=True)\n",
    "\n",
    "    # # Export DataFrames to CSV files\n",
    "    all_pole_studio_data.to_csv(\"Pole_Studio_Übersicht_S.csv\", index=False)\n",
    "    all_workshops_data.to_csv(\"Workshop_Liste_SW.csv\", index=False)\n",
    "    all_workshop_details_data.to_csv(\"Workshop_Übersicht_E.csv\", index=False)\n",
    "\n",
    "    # Return the final DataFrames\n",
    "    return all_pole_studio_data, all_workshops_data, all_workshop_details_data\n",
    "\n",
    "# Run the main function and get the final DataFrames\n",
    "result_pole_studio, result_workshops, result_workshop_details = main()\n",
    "\n",
    "# Now you can access result_pole_studio, result_workshops, and result_workshop_details outside the function\n",
    "# print(result_pole_studio)\n",
    "# print(result_workshops)\n",
    "# print(result_workshop_details)\n"
   ]
  },
  {
   "cell_type": "code",
   "execution_count": 5,
   "metadata": {},
   "outputs": [
    {
     "data": {
      "text/html": [
       "<div>\n",
       "<style scoped>\n",
       "    .dataframe tbody tr th:only-of-type {\n",
       "        vertical-align: middle;\n",
       "    }\n",
       "\n",
       "    .dataframe tbody tr th {\n",
       "        vertical-align: top;\n",
       "    }\n",
       "\n",
       "    .dataframe thead th {\n",
       "        text-align: right;\n",
       "    }\n",
       "</style>\n",
       "<table border=\"1\" class=\"dataframe\">\n",
       "  <thead>\n",
       "    <tr style=\"text-align: right;\">\n",
       "      <th></th>\n",
       "      <th>PoleStudio_Name</th>\n",
       "      <th>Adresse</th>\n",
       "      <th>PLZ</th>\n",
       "      <th>Stadt</th>\n",
       "      <th>Straße</th>\n",
       "      <th>Buttons</th>\n",
       "      <th>Pole Studio Beschreibung</th>\n",
       "      <th>E-Mail</th>\n",
       "      <th>Homepage</th>\n",
       "      <th>Telefon</th>\n",
       "      <th>URL_S</th>\n",
       "      <th>Art</th>\n",
       "      <th>Angebot</th>\n",
       "      <th>Created Date</th>\n",
       "      <th>Updated Date</th>\n",
       "    </tr>\n",
       "  </thead>\n",
       "  <tbody>\n",
       "    <tr>\n",
       "      <th>0</th>\n",
       "      <td>Pole Faction - Darmstadt</td>\n",
       "      <td>[Heidelberger Landstrasse ,  64297 Darmstadt]</td>\n",
       "      <td>64297</td>\n",
       "      <td>Darmstadt</td>\n",
       "      <td>Heidelberger Landstrasse</td>\n",
       "      <td>[Übersicht, Klassen, Workshops, Preise, Team]</td>\n",
       "      <td>Wir sind ein Pole Dance Studio mit einem gemis...</td>\n",
       "      <td>info@pole-faction.de</td>\n",
       "      <td>https://www.pole-faction.de</td>\n",
       "      <td>+49 15225933500</td>\n",
       "      <td>https://www.eversports.de/s/pole-faction-darms...</td>\n",
       "      <td>[Poledance, Aerial Hoop, Aerial Hoop, Poledanc...</td>\n",
       "      <td>2 Angebote für Neukund:innen</td>\n",
       "      <td>2024-02-03 16:26:59</td>\n",
       "      <td>2024-02-03 16:26:59</td>\n",
       "    </tr>\n",
       "    <tr>\n",
       "      <th>1</th>\n",
       "      <td>Pole Dance Palazzo Sportivo</td>\n",
       "      <td>[Rudolf-Diesel-Straße 54 ,  69190 Walldorf]</td>\n",
       "      <td>69190</td>\n",
       "      <td>Walldorf</td>\n",
       "      <td>Rudolf-Diesel-Straße 54</td>\n",
       "      <td>[Übersicht]</td>\n",
       "      <td>Herzlich Willkommen zum Online Buchungssystem ...</td>\n",
       "      <td>pole@palazzo-sportivo.de</td>\n",
       "      <td>http://www.poledance-rheinneckar.de</td>\n",
       "      <td>+49 15678684972</td>\n",
       "      <td>https://www.eversports.de/s/pole-dance-palazzo...</td>\n",
       "      <td>[16 Rezensionen, Aerial Hoop, Aerial Hammock, ...</td>\n",
       "      <td>1 Angebot für Neukund:innen</td>\n",
       "      <td>2024-02-03 16:27:05</td>\n",
       "      <td>2024-02-03 16:27:05</td>\n",
       "    </tr>\n",
       "    <tr>\n",
       "      <th>2</th>\n",
       "      <td>Pole Statement</td>\n",
       "      <td>[Siemensstraße 40 ,  69123 Heidelberg]</td>\n",
       "      <td>69123</td>\n",
       "      <td>Heidelberg</td>\n",
       "      <td>Siemensstraße 40</td>\n",
       "      <td>[Übersicht, Klassen, Kurse, Events, Preise, Team]</td>\n",
       "      <td>Bei Pole Statement unterrichten wir Pole Dance...</td>\n",
       "      <td>info@polestatement.de</td>\n",
       "      <td>http://www.polestatement.de</td>\n",
       "      <td>+49 17672506814</td>\n",
       "      <td>https://www.eversports.de/s/pole-statement</td>\n",
       "      <td>[Poledance, Outdoor Fitness, Poledance, Outdoo...</td>\n",
       "      <td>2 Angebote für Neukund:innen</td>\n",
       "      <td>2024-02-03 16:27:15</td>\n",
       "      <td>2024-02-03 16:27:15</td>\n",
       "    </tr>\n",
       "    <tr>\n",
       "      <th>3</th>\n",
       "      <td>ArtLetik UG Laufen und Meer</td>\n",
       "      <td>[Arentestraße 15,  26607 Aurich]</td>\n",
       "      <td>26607</td>\n",
       "      <td>Aurich</td>\n",
       "      <td>Arentestraße 15</td>\n",
       "      <td>[Übersicht]</td>\n",
       "      <td>Unter der Leitung von Anja Musiol werden profe...</td>\n",
       "      <td>office@artletik.de</td>\n",
       "      <td>https://www.artletik.de/</td>\n",
       "      <td>+49 1705837103</td>\n",
       "      <td>https://www.eversports.de/s/artletik-ug-laufen...</td>\n",
       "      <td>[(Noch keine Bewertungen), Fitness]</td>\n",
       "      <td>None</td>\n",
       "      <td>2024-02-03 16:27:19</td>\n",
       "      <td>2024-02-03 16:27:19</td>\n",
       "    </tr>\n",
       "    <tr>\n",
       "      <th>4</th>\n",
       "      <td>Les.Pole</td>\n",
       "      <td>[Bellingerstraße 12 ,  36043 Fulda]</td>\n",
       "      <td>36043</td>\n",
       "      <td>Fulda</td>\n",
       "      <td>Bellingerstraße 12</td>\n",
       "      <td>[Übersicht, Klassen, Workshops, Preise, Team]</td>\n",
       "      <td>Poledance, Chairdance, Exotic, Floorwork.........</td>\n",
       "      <td>info@les-pole.de</td>\n",
       "      <td>https://www.instagram.com/les.pole</td>\n",
       "      <td>+49 15730850054</td>\n",
       "      <td>https://www.eversports.de/s/lespole</td>\n",
       "      <td>[Poledance, Power Pole, Poledance, Poledance, ...</td>\n",
       "      <td>1 Angebot für Neukund:innen</td>\n",
       "      <td>2024-02-03 16:27:29</td>\n",
       "      <td>2024-02-03 16:27:29</td>\n",
       "    </tr>\n",
       "    <tr>\n",
       "      <th>...</th>\n",
       "      <td>...</td>\n",
       "      <td>...</td>\n",
       "      <td>...</td>\n",
       "      <td>...</td>\n",
       "      <td>...</td>\n",
       "      <td>...</td>\n",
       "      <td>...</td>\n",
       "      <td>...</td>\n",
       "      <td>...</td>\n",
       "      <td>...</td>\n",
       "      <td>...</td>\n",
       "      <td>...</td>\n",
       "      <td>...</td>\n",
       "      <td>...</td>\n",
       "      <td>...</td>\n",
       "    </tr>\n",
       "    <tr>\n",
       "      <th>155</th>\n",
       "      <td>Anni's Pole-Dance Neumünster</td>\n",
       "      <td>[Kieler Straße 52 ,  24534 Neumünster]</td>\n",
       "      <td>24534</td>\n",
       "      <td>Neumünster</td>\n",
       "      <td>Kieler Straße 52</td>\n",
       "      <td>[Übersicht, Klassen, Trainings, Kurse, Team]</td>\n",
       "      <td>Hallo lieber Schüler,schön, dass du zu mir gef...</td>\n",
       "      <td>anni@annis-poledance.de</td>\n",
       "      <td>https://www.annis-poledance.de/</td>\n",
       "      <td>+49 15253821082</td>\n",
       "      <td>https://www.eversports.de/s/annis-pole-dance-n...</td>\n",
       "      <td>[Poledance, Handstand, Poledance, Aerial Hoop,...</td>\n",
       "      <td>Zum Stundenplan</td>\n",
       "      <td>2024-02-03 16:57:22</td>\n",
       "      <td>2024-02-03 16:57:22</td>\n",
       "    </tr>\n",
       "    <tr>\n",
       "      <th>156</th>\n",
       "      <td>UpsideDown Studio Friedrichsdorf</td>\n",
       "      <td>[Am Houiller Platz 4D ,  61381 Friedrichsdorf]</td>\n",
       "      <td>61381</td>\n",
       "      <td>Friedrichsdorf</td>\n",
       "      <td>Am Houiller Platz 4D</td>\n",
       "      <td>[Übersicht, Klassen, Kurse, Preise, Team]</td>\n",
       "      <td>Das Studio UpsideDown ist in Friedrichsdorf zu...</td>\n",
       "      <td>info@upsidedown-studio.de</td>\n",
       "      <td>https://www.upsidedown-studio.de/</td>\n",
       "      <td>+491724519252</td>\n",
       "      <td>https://www.eversports.de/s/upsidedown-studio-...</td>\n",
       "      <td>[Yoga, Yoga, Yoga, Poledance, Krafttraining, 4...</td>\n",
       "      <td>1 Angebot für Neukund:innen</td>\n",
       "      <td>2024-02-03 16:57:28</td>\n",
       "      <td>2024-02-03 16:57:28</td>\n",
       "    </tr>\n",
       "    <tr>\n",
       "      <th>157</th>\n",
       "      <td>Seemannsbraut Poledance</td>\n",
       "      <td>[Ochsenweg 27-29 ,  24941 Flensburg]</td>\n",
       "      <td>24941</td>\n",
       "      <td>Flensburg</td>\n",
       "      <td>Ochsenweg 27-29</td>\n",
       "      <td>[Übersicht, Klassen, Kurse, Workshops, Preise,...</td>\n",
       "      <td>Moin und willkommen an Bord in unserem Poledan...</td>\n",
       "      <td>seemannsbraut-poledance@web.de</td>\n",
       "      <td>http://www.seemannsbraut-poledance.de</td>\n",
       "      <td>None</td>\n",
       "      <td>https://www.eversports.de/s/seemannsbraut-pole...</td>\n",
       "      <td>[Poledance, HIIT, Yoga, Poledance, Poledance, ...</td>\n",
       "      <td>1 Angebot für Neukund:innen</td>\n",
       "      <td>2024-02-03 16:57:36</td>\n",
       "      <td>2024-02-03 16:57:36</td>\n",
       "    </tr>\n",
       "    <tr>\n",
       "      <th>158</th>\n",
       "      <td>UpsideDown Studio Bad Homburg</td>\n",
       "      <td>[Louisenstraße 98 ,  61348 Bad Homburg vor der...</td>\n",
       "      <td>61348</td>\n",
       "      <td>Bad</td>\n",
       "      <td>Louisenstraße 98</td>\n",
       "      <td>[Übersicht, Klassen, Kurse, Preise, Team]</td>\n",
       "      <td>Das Studio UpsideDown ist in Bad Homburg vor d...</td>\n",
       "      <td>info@upsidedown-studio.de</td>\n",
       "      <td>https://www.upsidedown-studio.de/</td>\n",
       "      <td>+491724519252</td>\n",
       "      <td>https://www.eversports.de/s/upsidedown-studio-...</td>\n",
       "      <td>[Fitness, Tanzen, Yoga, Fitness, Tanzen, Yoga,...</td>\n",
       "      <td>1 Angebot für Neukund:innen</td>\n",
       "      <td>2024-02-03 16:57:52</td>\n",
       "      <td>2024-02-03 16:57:52</td>\n",
       "    </tr>\n",
       "    <tr>\n",
       "      <th>159</th>\n",
       "      <td>WeLovePoledance</td>\n",
       "      <td>[Venloer Straße,  50825 Köln]</td>\n",
       "      <td>50825</td>\n",
       "      <td>Köln</td>\n",
       "      <td>Venloer Straße</td>\n",
       "      <td>[Übersicht]</td>\n",
       "      <td>Diese Sportanlage bietet eine Vielzahl an Spor...</td>\n",
       "      <td>welovepoledance@gmx.de</td>\n",
       "      <td>None</td>\n",
       "      <td>+49 22116869550</td>\n",
       "      <td>https://www.eversports.de/s/welovepoledance</td>\n",
       "      <td>[(Noch keine Bewertungen), Poledance]</td>\n",
       "      <td>None</td>\n",
       "      <td>2024-02-03 16:57:56</td>\n",
       "      <td>2024-02-03 16:57:56</td>\n",
       "    </tr>\n",
       "  </tbody>\n",
       "</table>\n",
       "<p>160 rows × 15 columns</p>\n",
       "</div>"
      ],
      "text/plain": [
       "                      PoleStudio_Name  \\\n",
       "0            Pole Faction - Darmstadt   \n",
       "1         Pole Dance Palazzo Sportivo   \n",
       "2                      Pole Statement   \n",
       "3         ArtLetik UG Laufen und Meer   \n",
       "4                            Les.Pole   \n",
       "..                                ...   \n",
       "155      Anni's Pole-Dance Neumünster   \n",
       "156  UpsideDown Studio Friedrichsdorf   \n",
       "157           Seemannsbraut Poledance   \n",
       "158     UpsideDown Studio Bad Homburg   \n",
       "159                   WeLovePoledance   \n",
       "\n",
       "                                               Adresse    PLZ           Stadt  \\\n",
       "0        [Heidelberger Landstrasse ,  64297 Darmstadt]  64297       Darmstadt   \n",
       "1          [Rudolf-Diesel-Straße 54 ,  69190 Walldorf]  69190        Walldorf   \n",
       "2               [Siemensstraße 40 ,  69123 Heidelberg]  69123      Heidelberg   \n",
       "3                     [Arentestraße 15,  26607 Aurich]  26607          Aurich   \n",
       "4                  [Bellingerstraße 12 ,  36043 Fulda]  36043           Fulda   \n",
       "..                                                 ...    ...             ...   \n",
       "155             [Kieler Straße 52 ,  24534 Neumünster]  24534      Neumünster   \n",
       "156     [Am Houiller Platz 4D ,  61381 Friedrichsdorf]  61381  Friedrichsdorf   \n",
       "157               [Ochsenweg 27-29 ,  24941 Flensburg]  24941       Flensburg   \n",
       "158  [Louisenstraße 98 ,  61348 Bad Homburg vor der...  61348             Bad   \n",
       "159                      [Venloer Straße,  50825 Köln]  50825            Köln   \n",
       "\n",
       "                       Straße  \\\n",
       "0    Heidelberger Landstrasse   \n",
       "1     Rudolf-Diesel-Straße 54   \n",
       "2            Siemensstraße 40   \n",
       "3             Arentestraße 15   \n",
       "4          Bellingerstraße 12   \n",
       "..                        ...   \n",
       "155          Kieler Straße 52   \n",
       "156      Am Houiller Platz 4D   \n",
       "157           Ochsenweg 27-29   \n",
       "158          Louisenstraße 98   \n",
       "159            Venloer Straße   \n",
       "\n",
       "                                               Buttons  \\\n",
       "0        [Übersicht, Klassen, Workshops, Preise, Team]   \n",
       "1                                          [Übersicht]   \n",
       "2    [Übersicht, Klassen, Kurse, Events, Preise, Team]   \n",
       "3                                          [Übersicht]   \n",
       "4        [Übersicht, Klassen, Workshops, Preise, Team]   \n",
       "..                                                 ...   \n",
       "155       [Übersicht, Klassen, Trainings, Kurse, Team]   \n",
       "156          [Übersicht, Klassen, Kurse, Preise, Team]   \n",
       "157  [Übersicht, Klassen, Kurse, Workshops, Preise,...   \n",
       "158          [Übersicht, Klassen, Kurse, Preise, Team]   \n",
       "159                                        [Übersicht]   \n",
       "\n",
       "                              Pole Studio Beschreibung  \\\n",
       "0    Wir sind ein Pole Dance Studio mit einem gemis...   \n",
       "1    Herzlich Willkommen zum Online Buchungssystem ...   \n",
       "2    Bei Pole Statement unterrichten wir Pole Dance...   \n",
       "3    Unter der Leitung von Anja Musiol werden profe...   \n",
       "4    Poledance, Chairdance, Exotic, Floorwork.........   \n",
       "..                                                 ...   \n",
       "155  Hallo lieber Schüler,schön, dass du zu mir gef...   \n",
       "156  Das Studio UpsideDown ist in Friedrichsdorf zu...   \n",
       "157  Moin und willkommen an Bord in unserem Poledan...   \n",
       "158  Das Studio UpsideDown ist in Bad Homburg vor d...   \n",
       "159  Diese Sportanlage bietet eine Vielzahl an Spor...   \n",
       "\n",
       "                              E-Mail                               Homepage  \\\n",
       "0               info@pole-faction.de            https://www.pole-faction.de   \n",
       "1           pole@palazzo-sportivo.de    http://www.poledance-rheinneckar.de   \n",
       "2              info@polestatement.de            http://www.polestatement.de   \n",
       "3                 office@artletik.de               https://www.artletik.de/   \n",
       "4                   info@les-pole.de     https://www.instagram.com/les.pole   \n",
       "..                               ...                                    ...   \n",
       "155          anni@annis-poledance.de        https://www.annis-poledance.de/   \n",
       "156        info@upsidedown-studio.de      https://www.upsidedown-studio.de/   \n",
       "157   seemannsbraut-poledance@web.de  http://www.seemannsbraut-poledance.de   \n",
       "158        info@upsidedown-studio.de      https://www.upsidedown-studio.de/   \n",
       "159           welovepoledance@gmx.de                                   None   \n",
       "\n",
       "             Telefon                                              URL_S  \\\n",
       "0    +49 15225933500  https://www.eversports.de/s/pole-faction-darms...   \n",
       "1    +49 15678684972  https://www.eversports.de/s/pole-dance-palazzo...   \n",
       "2    +49 17672506814         https://www.eversports.de/s/pole-statement   \n",
       "3     +49 1705837103  https://www.eversports.de/s/artletik-ug-laufen...   \n",
       "4    +49 15730850054                https://www.eversports.de/s/lespole   \n",
       "..               ...                                                ...   \n",
       "155  +49 15253821082  https://www.eversports.de/s/annis-pole-dance-n...   \n",
       "156    +491724519252  https://www.eversports.de/s/upsidedown-studio-...   \n",
       "157             None  https://www.eversports.de/s/seemannsbraut-pole...   \n",
       "158    +491724519252  https://www.eversports.de/s/upsidedown-studio-...   \n",
       "159  +49 22116869550        https://www.eversports.de/s/welovepoledance   \n",
       "\n",
       "                                                   Art  \\\n",
       "0    [Poledance, Aerial Hoop, Aerial Hoop, Poledanc...   \n",
       "1    [16 Rezensionen, Aerial Hoop, Aerial Hammock, ...   \n",
       "2    [Poledance, Outdoor Fitness, Poledance, Outdoo...   \n",
       "3                  [(Noch keine Bewertungen), Fitness]   \n",
       "4    [Poledance, Power Pole, Poledance, Poledance, ...   \n",
       "..                                                 ...   \n",
       "155  [Poledance, Handstand, Poledance, Aerial Hoop,...   \n",
       "156  [Yoga, Yoga, Yoga, Poledance, Krafttraining, 4...   \n",
       "157  [Poledance, HIIT, Yoga, Poledance, Poledance, ...   \n",
       "158  [Fitness, Tanzen, Yoga, Fitness, Tanzen, Yoga,...   \n",
       "159              [(Noch keine Bewertungen), Poledance]   \n",
       "\n",
       "                          Angebot         Created Date         Updated Date  \n",
       "0    2 Angebote für Neukund:innen  2024-02-03 16:26:59  2024-02-03 16:26:59  \n",
       "1     1 Angebot für Neukund:innen  2024-02-03 16:27:05  2024-02-03 16:27:05  \n",
       "2    2 Angebote für Neukund:innen  2024-02-03 16:27:15  2024-02-03 16:27:15  \n",
       "3                            None  2024-02-03 16:27:19  2024-02-03 16:27:19  \n",
       "4     1 Angebot für Neukund:innen  2024-02-03 16:27:29  2024-02-03 16:27:29  \n",
       "..                            ...                  ...                  ...  \n",
       "155               Zum Stundenplan  2024-02-03 16:57:22  2024-02-03 16:57:22  \n",
       "156   1 Angebot für Neukund:innen  2024-02-03 16:57:28  2024-02-03 16:57:28  \n",
       "157   1 Angebot für Neukund:innen  2024-02-03 16:57:36  2024-02-03 16:57:36  \n",
       "158   1 Angebot für Neukund:innen  2024-02-03 16:57:52  2024-02-03 16:57:52  \n",
       "159                          None  2024-02-03 16:57:56  2024-02-03 16:57:56  \n",
       "\n",
       "[160 rows x 15 columns]"
      ]
     },
     "execution_count": 5,
     "metadata": {},
     "output_type": "execute_result"
    }
   ],
   "source": [
    "result_pole_studio"
   ]
  },
  {
   "cell_type": "code",
   "execution_count": 6,
   "metadata": {},
   "outputs": [
    {
     "data": {
      "text/html": [
       "<div>\n",
       "<style scoped>\n",
       "    .dataframe tbody tr th:only-of-type {\n",
       "        vertical-align: middle;\n",
       "    }\n",
       "\n",
       "    .dataframe tbody tr th {\n",
       "        vertical-align: top;\n",
       "    }\n",
       "\n",
       "    .dataframe thead th {\n",
       "        text-align: right;\n",
       "    }\n",
       "</style>\n",
       "<table border=\"1\" class=\"dataframe\">\n",
       "  <thead>\n",
       "    <tr style=\"text-align: right;\">\n",
       "      <th></th>\n",
       "      <th>Workshop Name</th>\n",
       "      <th>Description</th>\n",
       "      <th>Studio Name</th>\n",
       "      <th>Location</th>\n",
       "      <th>Level</th>\n",
       "      <th>Date</th>\n",
       "      <th>URL_E</th>\n",
       "      <th>Time</th>\n",
       "    </tr>\n",
       "  </thead>\n",
       "  <tbody>\n",
       "    <tr>\n",
       "      <th>0</th>\n",
       "      <td>Twerk it</td>\n",
       "      <td>Es kommt Schwung in die Kiste! Möchtet ihr eur...</td>\n",
       "      <td>Pole Faction - Darmstadt</td>\n",
       "      <td>Twerk Ticket für So. 24.03.2024, 18:00 - 19:30</td>\n",
       "      <td>Choreographie</td>\n",
       "      <td>Begann am Sonntag, 28. Januar 2024</td>\n",
       "      <td>https://www.eversports.de/e/workshop/FP-cEyn</td>\n",
       "      <td>Heidelberger Landstrasse 237, 64297 Darmstadt</td>\n",
       "    </tr>\n",
       "    <tr>\n",
       "      <th>1</th>\n",
       "      <td>ONLINE Heels Flow | Pole Workshop</td>\n",
       "      <td>Tauche ein in die sinnliche Welt des Pole Danc...</td>\n",
       "      <td>Les.Pole</td>\n",
       "      <td>Online</td>\n",
       "      <td>Poledance</td>\n",
       "      <td>Samstag, 24. Februar 2024</td>\n",
       "      <td>https://www.eversports.de/e/workshop/ph8TlfO</td>\n",
       "      <td>12:00 - 13:30</td>\n",
       "    </tr>\n",
       "    <tr>\n",
       "      <th>2</th>\n",
       "      <td>ONLINE Perfect Pictures  | Pole Workshop</td>\n",
       "      <td>Bei dir steht ein Fotoshooting an, aber dir fe...</td>\n",
       "      <td>Les.Pole</td>\n",
       "      <td>Online</td>\n",
       "      <td>Poledance</td>\n",
       "      <td>Freitag, 26. April 2024</td>\n",
       "      <td>https://www.eversports.de/e/workshop/4lKTG4R</td>\n",
       "      <td>19:00 - 20:30</td>\n",
       "    </tr>\n",
       "    <tr>\n",
       "      <th>3</th>\n",
       "      <td>KASSEL+ONLINE Chairdance Perfect Pictures Work...</td>\n",
       "      <td>Bei dir steht ein Fotoshooting an, aber dir fe...</td>\n",
       "      <td>Les.Pole</td>\n",
       "      <td>Online</td>\n",
       "      <td>Poledance</td>\n",
       "      <td>Samstag, 4. Mai 2024</td>\n",
       "      <td>https://www.eversports.de/e/workshop/lByHwWr</td>\n",
       "      <td>12:00 - 13:30</td>\n",
       "    </tr>\n",
       "    <tr>\n",
       "      <th>4</th>\n",
       "      <td>BREMEN Pole X Heels</td>\n",
       "      <td>Musik an, jetzt wird getanzt!... Leg Swirls, B...</td>\n",
       "      <td>Les.Pole</td>\n",
       "      <td>Einzelticket</td>\n",
       "      <td>Poledance</td>\n",
       "      <td>Samstag, 18. Mai 2024</td>\n",
       "      <td>https://www.eversports.de/e/workshop/VC_twiJ</td>\n",
       "      <td>15:00 - 16:30</td>\n",
       "    </tr>\n",
       "    <tr>\n",
       "      <th>...</th>\n",
       "      <td>...</td>\n",
       "      <td>...</td>\n",
       "      <td>...</td>\n",
       "      <td>...</td>\n",
       "      <td>...</td>\n",
       "      <td>...</td>\n",
       "      <td>...</td>\n",
       "      <td>...</td>\n",
       "    </tr>\n",
       "    <tr>\n",
       "      <th>287</th>\n",
       "      <td>Handstand</td>\n",
       "      <td>Du möchtest gerne den Handstand lernen und dir...</td>\n",
       "      <td>Pole and Move Ketsch</td>\n",
       "      <td>Einzelticket</td>\n",
       "      <td>Fitness</td>\n",
       "      <td>Samstag, 2. März 2024</td>\n",
       "      <td>https://www.eversports.de/e/workshop/NCNYd8p</td>\n",
       "      <td>13:45 - 14:55</td>\n",
       "    </tr>\n",
       "    <tr>\n",
       "      <th>288</th>\n",
       "      <td>VALENTINS WORKSHOPS</td>\n",
       "      <td>Entdeckt im Februar die Magie der Liebe mit un...</td>\n",
       "      <td>Seemannsbraut Poledance</td>\n",
       "      <td>Chairdance, 09.02.2024, 17.15 - 18.45 Uhr</td>\n",
       "      <td>Poledance</td>\n",
       "      <td>Beginnt am Freitag, 9. Februar 2024</td>\n",
       "      <td>https://www.eversports.de/e/workshop/tjSmCEx</td>\n",
       "      <td>Ochsenweg 27-29, 24941 Flensburg</td>\n",
       "    </tr>\n",
       "    <tr>\n",
       "      <th>289</th>\n",
       "      <td>Lea Roth - Favorite Tricks &amp; Combos</td>\n",
       "      <td>Favorite Tricks and Combos : 90 min Hier zeige...</td>\n",
       "      <td>Seemannsbraut Poledance</td>\n",
       "      <td>Ochsenweg 27-29, 24941 Flensburg</td>\n",
       "      <td>Poledance</td>\n",
       "      <td>Samstag, 17. Februar 2024</td>\n",
       "      <td>https://www.eversports.de/e/workshop/mQPzgO-</td>\n",
       "      <td>18:00 - 19:30</td>\n",
       "    </tr>\n",
       "    <tr>\n",
       "      <th>290</th>\n",
       "      <td>POLE NICK „Recent Favorite Tricks &amp; Transition...</td>\n",
       "      <td>Nick zeigt dir seine Lieblingstricks und -Komb...</td>\n",
       "      <td>Seemannsbraut Poledance</td>\n",
       "      <td>Ochsenweg 27-29, 24941 Flensburg</td>\n",
       "      <td>Poledance</td>\n",
       "      <td>Freitag, 10. Mai 2024</td>\n",
       "      <td>https://www.eversports.de/e/workshop/ziaHmeW</td>\n",
       "      <td>13:00 - 14:30</td>\n",
       "    </tr>\n",
       "    <tr>\n",
       "      <th>291</th>\n",
       "      <td>POLE NICK „Recent Favorite Tricks &amp; Transition...</td>\n",
       "      <td>Nick zeigt dir seine Lieblingstricks und -Komb...</td>\n",
       "      <td>Seemannsbraut Poledance</td>\n",
       "      <td>Ochsenweg 27-29, 24941 Flensburg</td>\n",
       "      <td>Poledance</td>\n",
       "      <td>Freitag, 10. Mai 2024</td>\n",
       "      <td>https://www.eversports.de/e/workshop/zBoJPTa</td>\n",
       "      <td>14:45 - 16:15</td>\n",
       "    </tr>\n",
       "  </tbody>\n",
       "</table>\n",
       "<p>292 rows × 8 columns</p>\n",
       "</div>"
      ],
      "text/plain": [
       "                                         Workshop Name  \\\n",
       "0                                             Twerk it   \n",
       "1                    ONLINE Heels Flow | Pole Workshop   \n",
       "2             ONLINE Perfect Pictures  | Pole Workshop   \n",
       "3    KASSEL+ONLINE Chairdance Perfect Pictures Work...   \n",
       "4                                  BREMEN Pole X Heels   \n",
       "..                                                 ...   \n",
       "287                                          Handstand   \n",
       "288                                VALENTINS WORKSHOPS   \n",
       "289                Lea Roth - Favorite Tricks & Combos   \n",
       "290  POLE NICK „Recent Favorite Tricks & Transition...   \n",
       "291  POLE NICK „Recent Favorite Tricks & Transition...   \n",
       "\n",
       "                                           Description  \\\n",
       "0    Es kommt Schwung in die Kiste! Möchtet ihr eur...   \n",
       "1    Tauche ein in die sinnliche Welt des Pole Danc...   \n",
       "2    Bei dir steht ein Fotoshooting an, aber dir fe...   \n",
       "3    Bei dir steht ein Fotoshooting an, aber dir fe...   \n",
       "4    Musik an, jetzt wird getanzt!... Leg Swirls, B...   \n",
       "..                                                 ...   \n",
       "287  Du möchtest gerne den Handstand lernen und dir...   \n",
       "288  Entdeckt im Februar die Magie der Liebe mit un...   \n",
       "289  Favorite Tricks and Combos : 90 min Hier zeige...   \n",
       "290  Nick zeigt dir seine Lieblingstricks und -Komb...   \n",
       "291  Nick zeigt dir seine Lieblingstricks und -Komb...   \n",
       "\n",
       "                  Studio Name                                        Location  \\\n",
       "0    Pole Faction - Darmstadt  Twerk Ticket für So. 24.03.2024, 18:00 - 19:30   \n",
       "1                    Les.Pole                                          Online   \n",
       "2                    Les.Pole                                          Online   \n",
       "3                    Les.Pole                                          Online   \n",
       "4                    Les.Pole                                    Einzelticket   \n",
       "..                        ...                                             ...   \n",
       "287      Pole and Move Ketsch                                    Einzelticket   \n",
       "288   Seemannsbraut Poledance       Chairdance, 09.02.2024, 17.15 - 18.45 Uhr   \n",
       "289   Seemannsbraut Poledance                Ochsenweg 27-29, 24941 Flensburg   \n",
       "290   Seemannsbraut Poledance                Ochsenweg 27-29, 24941 Flensburg   \n",
       "291   Seemannsbraut Poledance                Ochsenweg 27-29, 24941 Flensburg   \n",
       "\n",
       "             Level                                 Date  \\\n",
       "0    Choreographie   Begann am Sonntag, 28. Januar 2024   \n",
       "1        Poledance            Samstag, 24. Februar 2024   \n",
       "2        Poledance              Freitag, 26. April 2024   \n",
       "3        Poledance                 Samstag, 4. Mai 2024   \n",
       "4        Poledance                Samstag, 18. Mai 2024   \n",
       "..             ...                                  ...   \n",
       "287        Fitness                Samstag, 2. März 2024   \n",
       "288      Poledance  Beginnt am Freitag, 9. Februar 2024   \n",
       "289      Poledance            Samstag, 17. Februar 2024   \n",
       "290      Poledance                Freitag, 10. Mai 2024   \n",
       "291      Poledance                Freitag, 10. Mai 2024   \n",
       "\n",
       "                                            URL_E  \\\n",
       "0    https://www.eversports.de/e/workshop/FP-cEyn   \n",
       "1    https://www.eversports.de/e/workshop/ph8TlfO   \n",
       "2    https://www.eversports.de/e/workshop/4lKTG4R   \n",
       "3    https://www.eversports.de/e/workshop/lByHwWr   \n",
       "4    https://www.eversports.de/e/workshop/VC_twiJ   \n",
       "..                                            ...   \n",
       "287  https://www.eversports.de/e/workshop/NCNYd8p   \n",
       "288  https://www.eversports.de/e/workshop/tjSmCEx   \n",
       "289  https://www.eversports.de/e/workshop/mQPzgO-   \n",
       "290  https://www.eversports.de/e/workshop/ziaHmeW   \n",
       "291  https://www.eversports.de/e/workshop/zBoJPTa   \n",
       "\n",
       "                                              Time  \n",
       "0    Heidelberger Landstrasse 237, 64297 Darmstadt  \n",
       "1                                    12:00 - 13:30  \n",
       "2                                    19:00 - 20:30  \n",
       "3                                    12:00 - 13:30  \n",
       "4                                    15:00 - 16:30  \n",
       "..                                             ...  \n",
       "287                                  13:45 - 14:55  \n",
       "288               Ochsenweg 27-29, 24941 Flensburg  \n",
       "289                                  18:00 - 19:30  \n",
       "290                                  13:00 - 14:30  \n",
       "291                                  14:45 - 16:15  \n",
       "\n",
       "[292 rows x 8 columns]"
      ]
     },
     "execution_count": 6,
     "metadata": {},
     "output_type": "execute_result"
    }
   ],
   "source": [
    "result_workshop_details"
   ]
  }
 ],
 "metadata": {
  "kernelspec": {
   "display_name": "Python 3",
   "language": "python",
   "name": "python3"
  },
  "language_info": {
   "codemirror_mode": {
    "name": "ipython",
    "version": 3
   },
   "file_extension": ".py",
   "mimetype": "text/x-python",
   "name": "python",
   "nbconvert_exporter": "python",
   "pygments_lexer": "ipython3",
   "version": "3.12.1"
  }
 },
 "nbformat": 4,
 "nbformat_minor": 2
}
