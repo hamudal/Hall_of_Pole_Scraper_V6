{
 "cells": [
  {
   "cell_type": "markdown",
   "metadata": {},
   "source": [
    "V6"
   ]
  },
  {
   "cell_type": "code",
   "execution_count": 4,
   "metadata": {},
   "outputs": [
    {
     "name": "stderr",
     "output_type": "stream",
     "text": [
      "Processing URLs:   0%|          | 0/337 [00:00<?, ?it/s]"
     ]
    },
    {
     "name": "stdout",
     "output_type": "stream",
     "text": [
      "Starting URL reconstruction...\n"
     ]
    },
    {
     "name": "stderr",
     "output_type": "stream",
     "text": [
      "Processing URLs:   0%|          | 1/337 [00:01<05:49,  1.04s/it, Current URL: https://www.eversports.de/s/fl'air-studios-berlin]"
     ]
    },
    {
     "name": "stdout",
     "output_type": "stream",
     "text": [
      "Error during HTTP request: 404 Client Error: Not Found for url: https://www.eversports.de/s/fl'air-studios-berlin\n",
      "Converting to DataFrame...\n",
      "Validating URLs...\n",
      "Processing completed.\n",
      "Starting URL reconstruction...\n"
     ]
    },
    {
     "name": "stderr",
     "output_type": "stream",
     "text": [
      "2024-02-03 16:26:53,771 - INFO - Processing URL 1/4: https://www.eversports.de/s/pole-faction-darmstadt\n"
     ]
    },
    {
     "name": "stdout",
     "output_type": "stream",
     "text": [
      "Converting to DataFrame...\n",
      "Validating URLs...\n"
     ]
    },
    {
     "name": "stderr",
     "output_type": "stream",
     "text": [
      "2024-02-03 16:26:55,114 - INFO - URL https://www.eversports.de/s/pole-faction-darmstadt is valid.\n",
      "2024-02-03 16:26:55,115 - INFO - Processing URL 2/4: https://www.eversports.de/sw/pole-faction-darmstadt\n",
      "2024-02-03 16:26:56,272 - INFO - URL https://www.eversports.de/sw/pole-faction-darmstadt is valid.\n",
      "2024-02-03 16:26:56,273 - INFO - Processing URL 3/4: https://www.eversports.de/sp/pole-faction-darmstadt\n",
      "2024-02-03 16:26:57,444 - INFO - URL https://www.eversports.de/sp/pole-faction-darmstadt is valid.\n",
      "2024-02-03 16:26:57,445 - INFO - Processing URL 4/4: https://www.eversports.de/s/pole-faction-darmstadt/team\n",
      "2024-02-03 16:26:58,659 - INFO - URL https://www.eversports.de/s/pole-faction-darmstadt/team is valid.\n"
     ]
    },
    {
     "name": "stdout",
     "output_type": "stream",
     "text": [
      "Scraping Pole Studio Data from https://www.eversports.de/s/pole-faction-darmstadt...\n",
      "Scraping Workshops Data from https://www.eversports.de/sw/pole-faction-darmstadt...\n",
      "Scraping Workshop Details from https://www.eversports.de/e/workshop/FP-cEyn...\n"
     ]
    },
    {
     "name": "stderr",
     "output_type": "stream",
     "text": [
      "Processing URLs:   1%|          | 2/337 [00:10<34:35,  6.20s/it, Current URL: https://www.eversports.de/s/pole-faction-darmstadt]"
     ]
    },
    {
     "name": "stdout",
     "output_type": "stream",
     "text": [
      "Processing completed.\n",
      "Pole Studio Data: 1 entries\n",
      "Workshops Data: 1 entries\n",
      "Workshop Details: 1 entries\n",
      "Starting URL reconstruction...\n"
     ]
    },
    {
     "name": "stderr",
     "output_type": "stream",
     "text": [
      "2024-02-03 16:27:03,678 - INFO - Processing URL 1/1: https://www.eversports.de/s/pole-dance-palazzo-sportivo\n"
     ]
    },
    {
     "name": "stdout",
     "output_type": "stream",
     "text": [
      "Converting to DataFrame...\n",
      "Validating URLs...\n"
     ]
    },
    {
     "name": "stderr",
     "output_type": "stream",
     "text": [
      "2024-02-03 16:27:04,906 - INFO - URL https://www.eversports.de/s/pole-dance-palazzo-sportivo is valid.\n"
     ]
    },
    {
     "name": "stdout",
     "output_type": "stream",
     "text": [
      "Scraping Pole Studio Data from https://www.eversports.de/s/pole-dance-palazzo-sportivo...\n"
     ]
    },
    {
     "name": "stderr",
     "output_type": "stream",
     "text": [
      "Processing URLs:   1%|          | 3/337 [00:14<27:34,  4.95s/it, Current URL: https://www.eversports.de/s/pole-dance-palazzo-sportivo]"
     ]
    },
    {
     "name": "stdout",
     "output_type": "stream",
     "text": [
      "Processing completed.\n",
      "Pole Studio Data: 1 entries\n",
      "Starting URL reconstruction...\n"
     ]
    },
    {
     "name": "stderr",
     "output_type": "stream",
     "text": [
      "Processing URLs:   1%|          | 4/337 [00:17<24:28,  4.41s/it, Current URL: https://www.eversports.de/s/polemotions-tübingen]       "
     ]
    },
    {
     "name": "stdout",
     "output_type": "stream",
     "text": [
      "Error during HTTP request: Exceeded 30 redirects.\n",
      "Converting to DataFrame...\n",
      "Validating URLs...\n",
      "Processing completed.\n",
      "Starting URL reconstruction...\n"
     ]
    },
    {
     "name": "stderr",
     "output_type": "stream",
     "text": [
      "2024-02-03 16:27:10,150 - INFO - Processing URL 1/3: https://www.eversports.de/s/pole-statement\n"
     ]
    },
    {
     "name": "stdout",
     "output_type": "stream",
     "text": [
      "Error reconstructing URL for 'Kurse': Unrecognized text: 'Kurse'\n",
      "Error reconstructing URL for 'Events': Unrecognized text: 'Events'\n",
      "Converting to DataFrame...\n",
      "Validating URLs...\n"
     ]
    },
    {
     "name": "stderr",
     "output_type": "stream",
     "text": [
      "2024-02-03 16:27:12,275 - INFO - URL https://www.eversports.de/s/pole-statement is valid.\n",
      "2024-02-03 16:27:12,276 - INFO - Processing URL 2/3: https://www.eversports.de/sp/pole-statement\n",
      "2024-02-03 16:27:13,778 - INFO - URL https://www.eversports.de/sp/pole-statement is valid.\n",
      "2024-02-03 16:27:13,779 - INFO - Processing URL 3/3: https://www.eversports.de/s/pole-statement/team\n",
      "2024-02-03 16:27:14,946 - INFO - URL https://www.eversports.de/s/pole-statement/team is valid.\n"
     ]
    },
    {
     "name": "stdout",
     "output_type": "stream",
     "text": [
      "Scraping Pole Studio Data from https://www.eversports.de/s/pole-statement...\n"
     ]
    },
    {
     "name": "stderr",
     "output_type": "stream",
     "text": [
      "Processing URLs:   1%|▏         | 5/337 [00:24<28:32,  5.16s/it, Current URL: https://www.eversports.de/s/pole-statement]      "
     ]
    },
    {
     "name": "stdout",
     "output_type": "stream",
     "text": [
      "Processing completed.\n",
      "Pole Studio Data: 1 entries\n",
      "Starting URL reconstruction...\n"
     ]
    },
    {
     "name": "stderr",
     "output_type": "stream",
     "text": [
      "Processing URLs:   2%|▏         | 6/337 [00:25<20:49,  3.78s/it, Current URL: https://www.eversports.de/s/metropole-dance-now2]"
     ]
    },
    {
     "name": "stdout",
     "output_type": "stream",
     "text": [
      "Error during HTTP request: 404 Client Error: Not Found for url: https://www.eversports.de/s/metropole-dance-now2\n",
      "Converting to DataFrame...\n",
      "Validating URLs...\n",
      "Processing completed.\n",
      "Starting URL reconstruction...\n"
     ]
    },
    {
     "name": "stderr",
     "output_type": "stream",
     "text": [
      "2024-02-03 16:27:17,602 - INFO - Processing URL 1/1: https://www.eversports.de/s/artletik-ug-laufen-und-meer\n"
     ]
    },
    {
     "name": "stdout",
     "output_type": "stream",
     "text": [
      "Converting to DataFrame...\n",
      "Validating URLs...\n"
     ]
    },
    {
     "name": "stderr",
     "output_type": "stream",
     "text": [
      "2024-02-03 16:27:18,811 - INFO - URL https://www.eversports.de/s/artletik-ug-laufen-und-meer is valid.\n"
     ]
    },
    {
     "name": "stdout",
     "output_type": "stream",
     "text": [
      "Scraping Pole Studio Data from https://www.eversports.de/s/artletik-ug-laufen-und-meer...\n"
     ]
    },
    {
     "name": "stderr",
     "output_type": "stream",
     "text": [
      "Processing URLs:   2%|▏         | 7/337 [00:28<18:44,  3.41s/it, Current URL: https://www.eversports.de/s/artletik-ug-laufen-und-meer]"
     ]
    },
    {
     "name": "stdout",
     "output_type": "stream",
     "text": [
      "Processing completed.\n",
      "Pole Studio Data: 1 entries\n",
      "Starting URL reconstruction...\n"
     ]
    },
    {
     "name": "stderr",
     "output_type": "stream",
     "text": [
      "Processing URLs:   2%|▏         | 8/337 [00:29<14:29,  2.64s/it, Current URL: https://www.eversports.de/s/dance-&-pole-deltawerk]     "
     ]
    },
    {
     "name": "stdout",
     "output_type": "stream",
     "text": [
      "Error during HTTP request: 404 Client Error: Not Found for url: https://www.eversports.de/s/dance-&-pole-deltawerk\n",
      "Converting to DataFrame...\n",
      "Validating URLs...\n",
      "Processing completed.\n",
      "Starting URL reconstruction...\n"
     ]
    },
    {
     "name": "stderr",
     "output_type": "stream",
     "text": [
      "Processing URLs:   3%|▎         | 9/337 [00:32<15:53,  2.91s/it, Current URL: https://www.eversports.de/s/schönheitstanz-studio] "
     ]
    },
    {
     "name": "stdout",
     "output_type": "stream",
     "text": [
      "Error during HTTP request: Exceeded 30 redirects.\n",
      "Converting to DataFrame...\n",
      "Validating URLs...\n",
      "Processing completed.\n",
      "Starting URL reconstruction...\n"
     ]
    },
    {
     "name": "stderr",
     "output_type": "stream",
     "text": [
      "2024-02-03 16:27:24,783 - INFO - Processing URL 1/4: https://www.eversports.de/s/lespole\n"
     ]
    },
    {
     "name": "stdout",
     "output_type": "stream",
     "text": [
      "Converting to DataFrame...\n",
      "Validating URLs...\n"
     ]
    },
    {
     "name": "stderr",
     "output_type": "stream",
     "text": [
      "2024-02-03 16:27:26,007 - INFO - URL https://www.eversports.de/s/lespole is valid.\n",
      "2024-02-03 16:27:26,009 - INFO - Processing URL 2/4: https://www.eversports.de/sw/lespole\n",
      "2024-02-03 16:27:27,208 - INFO - URL https://www.eversports.de/sw/lespole is valid.\n",
      "2024-02-03 16:27:27,209 - INFO - Processing URL 3/4: https://www.eversports.de/sp/lespole\n",
      "2024-02-03 16:27:28,443 - INFO - URL https://www.eversports.de/sp/lespole is valid.\n",
      "2024-02-03 16:27:28,444 - INFO - Processing URL 4/4: https://www.eversports.de/s/lespole/team\n",
      "2024-02-03 16:27:29,547 - INFO - URL https://www.eversports.de/s/lespole/team is valid.\n"
     ]
    },
    {
     "name": "stdout",
     "output_type": "stream",
     "text": [
      "Scraping Pole Studio Data from https://www.eversports.de/s/lespole...\n",
      "Scraping Workshops Data from https://www.eversports.de/sw/lespole...\n"
     ]
    }
   ],
   "source": [
    "import pandas as pd\n",
    "from a_PyCaller import process_urls\n",
    "from tqdm import tqdm\n",
    "\n",
    "def process_and_print_results(url, all_pole_studio_data, all_workshops_data, all_workshop_details_data):\n",
    "    data = process_urls([url])\n",
    "\n",
    "    if data:\n",
    "        for key, df in data.items():\n",
    "            if df is not None and not df.empty:\n",
    "                print(f\"{key.replace('_', ' ').title()}: {len(df)} entries\")\n",
    "\n",
    "                # Update the appropriate DataFrame\n",
    "                if key == 'pole_studio_data':\n",
    "                    all_pole_studio_data = pd.concat([all_pole_studio_data, df], ignore_index=True)\n",
    "                elif key == 'workshops_data':\n",
    "                    all_workshops_data = pd.concat([all_workshops_data, df], ignore_index=True)\n",
    "                elif key == 'workshop_details':\n",
    "                    all_workshop_details_data = pd.concat([all_workshop_details_data, df], ignore_index=True)\n",
    "\n",
    "    return all_pole_studio_data, all_workshops_data, all_workshop_details_data\n",
    "\n",
    "def main():\n",
    "    # Load initial URLs\n",
    "    all_found_urls_s = pd.read_csv(\"your_output_file.csv\")\n",
    "    initial_urls = list(set(all_found_urls_s[\"0\"])) # Delete \"[:3]\" to scrape all Urls\n",
    "\n",
    "    # Initialize DataFrames\n",
    "    all_pole_studio_data = pd.DataFrame()\n",
    "    all_workshops_data = pd.DataFrame()\n",
    "    all_workshop_details_data = pd.DataFrame()\n",
    "\n",
    "    # Process each URL with tqdm\n",
    "    with tqdm(total=len(initial_urls), desc=\"Processing URLs\", dynamic_ncols=True) as pbar:\n",
    "        for url in initial_urls:\n",
    "            all_pole_studio_data, all_workshops_data, all_workshop_details_data = process_and_print_results(\n",
    "                url, all_pole_studio_data, all_workshops_data, all_workshop_details_data\n",
    "            )\n",
    "            pbar.update(1)\n",
    "            pbar.set_postfix_str(f\"Current URL: {url}\", refresh=True)\n",
    "\n",
    "    # # Export DataFrames to CSV files\n",
    "    all_pole_studio_data.to_csv(\"Pole_Studio_Übersicht_S.csv\", index=False)\n",
    "    all_workshops_data.to_csv(\"Workshop_Liste_SW.csv\", index=False)\n",
    "    all_workshop_details_data.to_csv(\"Workshop_Übersicht_E.csv\", index=False)\n",
    "\n",
    "    # Return the final DataFrames\n",
    "    return all_pole_studio_data, all_workshops_data, all_workshop_details_data\n",
    "\n",
    "# Run the main function and get the final DataFrames\n",
    "result_pole_studio, result_workshops, result_workshop_details = main()\n",
    "\n",
    "# Now you can access result_pole_studio, result_workshops, and result_workshop_details outside the function\n",
    "# print(result_pole_studio)\n",
    "# print(result_workshops)\n",
    "# print(result_workshop_details)\n"
   ]
  },
  {
   "cell_type": "code",
   "execution_count": 2,
   "metadata": {},
   "outputs": [
    {
     "data": {
      "text/html": [
       "<div>\n",
       "<style scoped>\n",
       "    .dataframe tbody tr th:only-of-type {\n",
       "        vertical-align: middle;\n",
       "    }\n",
       "\n",
       "    .dataframe tbody tr th {\n",
       "        vertical-align: top;\n",
       "    }\n",
       "\n",
       "    .dataframe thead th {\n",
       "        text-align: right;\n",
       "    }\n",
       "</style>\n",
       "<table border=\"1\" class=\"dataframe\">\n",
       "  <thead>\n",
       "    <tr style=\"text-align: right;\">\n",
       "      <th></th>\n",
       "      <th>PoleStudio_Name</th>\n",
       "      <th>Adresse</th>\n",
       "      <th>PLZ</th>\n",
       "      <th>Stadt</th>\n",
       "      <th>Straße</th>\n",
       "      <th>Buttons</th>\n",
       "      <th>Pole Studio Beschreibung</th>\n",
       "      <th>E-Mail</th>\n",
       "      <th>Homepage</th>\n",
       "      <th>Telefon</th>\n",
       "      <th>URL_S</th>\n",
       "      <th>Art</th>\n",
       "      <th>Angebot</th>\n",
       "      <th>Created Date</th>\n",
       "      <th>Updated Date</th>\n",
       "    </tr>\n",
       "  </thead>\n",
       "  <tbody>\n",
       "    <tr>\n",
       "      <th>0</th>\n",
       "      <td>Pole Faction - Darmstadt</td>\n",
       "      <td>[Heidelberger Landstrasse ,  64297 Darmstadt]</td>\n",
       "      <td>64297</td>\n",
       "      <td>Darmstadt</td>\n",
       "      <td>Heidelberger Landstrasse</td>\n",
       "      <td>[Übersicht, Klassen, Workshops, Preise, Team]</td>\n",
       "      <td>Wir sind ein Pole Dance Studio mit einem gemis...</td>\n",
       "      <td>info@pole-faction.de</td>\n",
       "      <td>https://www.pole-faction.de</td>\n",
       "      <td>+49 15225933500</td>\n",
       "      <td>https://www.eversports.de/s/pole-faction-darms...</td>\n",
       "      <td>[Poledance, Aerial Hoop, Aerial Hoop, Poledanc...</td>\n",
       "      <td>2 Angebote für Neukund:innen</td>\n",
       "      <td>2024-02-03 16:25:47</td>\n",
       "      <td>2024-02-03 16:25:47</td>\n",
       "    </tr>\n",
       "    <tr>\n",
       "      <th>1</th>\n",
       "      <td>Pole Dance Palazzo Sportivo</td>\n",
       "      <td>[Rudolf-Diesel-Straße 54 ,  69190 Walldorf]</td>\n",
       "      <td>69190</td>\n",
       "      <td>Walldorf</td>\n",
       "      <td>Rudolf-Diesel-Straße 54</td>\n",
       "      <td>[Übersicht]</td>\n",
       "      <td>Herzlich Willkommen zum Online Buchungssystem ...</td>\n",
       "      <td>pole@palazzo-sportivo.de</td>\n",
       "      <td>http://www.poledance-rheinneckar.de</td>\n",
       "      <td>+49 15678684972</td>\n",
       "      <td>https://www.eversports.de/s/pole-dance-palazzo...</td>\n",
       "      <td>[16 Rezensionen, Aerial Hoop, Aerial Hammock, ...</td>\n",
       "      <td>1 Angebot für Neukund:innen</td>\n",
       "      <td>2024-02-03 16:25:52</td>\n",
       "      <td>2024-02-03 16:25:52</td>\n",
       "    </tr>\n",
       "    <tr>\n",
       "      <th>2</th>\n",
       "      <td>Pole Statement</td>\n",
       "      <td>[Siemensstraße 40 ,  69123 Heidelberg]</td>\n",
       "      <td>69123</td>\n",
       "      <td>Heidelberg</td>\n",
       "      <td>Siemensstraße 40</td>\n",
       "      <td>[Übersicht, Klassen, Kurse, Events, Preise, Team]</td>\n",
       "      <td>Bei Pole Statement unterrichten wir Pole Dance...</td>\n",
       "      <td>info@polestatement.de</td>\n",
       "      <td>http://www.polestatement.de</td>\n",
       "      <td>+49 17672506814</td>\n",
       "      <td>https://www.eversports.de/s/pole-statement</td>\n",
       "      <td>[Poledance, Outdoor Fitness, Poledance, Outdoo...</td>\n",
       "      <td>2 Angebote für Neukund:innen</td>\n",
       "      <td>2024-02-03 16:26:03</td>\n",
       "      <td>2024-02-03 16:26:03</td>\n",
       "    </tr>\n",
       "    <tr>\n",
       "      <th>3</th>\n",
       "      <td>ArtLetik UG Laufen und Meer</td>\n",
       "      <td>[Arentestraße 15,  26607 Aurich]</td>\n",
       "      <td>26607</td>\n",
       "      <td>Aurich</td>\n",
       "      <td>Arentestraße 15</td>\n",
       "      <td>[Übersicht]</td>\n",
       "      <td>Unter der Leitung von Anja Musiol werden profe...</td>\n",
       "      <td>office@artletik.de</td>\n",
       "      <td>https://www.artletik.de/</td>\n",
       "      <td>+49 1705837103</td>\n",
       "      <td>https://www.eversports.de/s/artletik-ug-laufen...</td>\n",
       "      <td>[(Noch keine Bewertungen), Fitness]</td>\n",
       "      <td>None</td>\n",
       "      <td>2024-02-03 16:26:07</td>\n",
       "      <td>2024-02-03 16:26:07</td>\n",
       "    </tr>\n",
       "    <tr>\n",
       "      <th>4</th>\n",
       "      <td>Les.Pole</td>\n",
       "      <td>[Bellingerstraße 12 ,  36043 Fulda]</td>\n",
       "      <td>36043</td>\n",
       "      <td>Fulda</td>\n",
       "      <td>Bellingerstraße 12</td>\n",
       "      <td>[Übersicht, Klassen, Workshops, Preise, Team]</td>\n",
       "      <td>Poledance, Chairdance, Exotic, Floorwork.........</td>\n",
       "      <td>info@les-pole.de</td>\n",
       "      <td>https://www.instagram.com/les.pole</td>\n",
       "      <td>+49 15730850054</td>\n",
       "      <td>https://www.eversports.de/s/lespole</td>\n",
       "      <td>[Poledance, Power Pole, Poledance, Poledance, ...</td>\n",
       "      <td>1 Angebot für Neukund:innen</td>\n",
       "      <td>2024-02-03 16:26:20</td>\n",
       "      <td>2024-02-03 16:26:20</td>\n",
       "    </tr>\n",
       "  </tbody>\n",
       "</table>\n",
       "</div>"
      ],
      "text/plain": [
       "               PoleStudio_Name                                        Adresse  \\\n",
       "0     Pole Faction - Darmstadt  [Heidelberger Landstrasse ,  64297 Darmstadt]   \n",
       "1  Pole Dance Palazzo Sportivo    [Rudolf-Diesel-Straße 54 ,  69190 Walldorf]   \n",
       "2               Pole Statement         [Siemensstraße 40 ,  69123 Heidelberg]   \n",
       "3  ArtLetik UG Laufen und Meer               [Arentestraße 15,  26607 Aurich]   \n",
       "4                     Les.Pole            [Bellingerstraße 12 ,  36043 Fulda]   \n",
       "\n",
       "     PLZ       Stadt                    Straße  \\\n",
       "0  64297   Darmstadt  Heidelberger Landstrasse   \n",
       "1  69190    Walldorf   Rudolf-Diesel-Straße 54   \n",
       "2  69123  Heidelberg          Siemensstraße 40   \n",
       "3  26607      Aurich           Arentestraße 15   \n",
       "4  36043       Fulda        Bellingerstraße 12   \n",
       "\n",
       "                                             Buttons  \\\n",
       "0      [Übersicht, Klassen, Workshops, Preise, Team]   \n",
       "1                                        [Übersicht]   \n",
       "2  [Übersicht, Klassen, Kurse, Events, Preise, Team]   \n",
       "3                                        [Übersicht]   \n",
       "4      [Übersicht, Klassen, Workshops, Preise, Team]   \n",
       "\n",
       "                            Pole Studio Beschreibung  \\\n",
       "0  Wir sind ein Pole Dance Studio mit einem gemis...   \n",
       "1  Herzlich Willkommen zum Online Buchungssystem ...   \n",
       "2  Bei Pole Statement unterrichten wir Pole Dance...   \n",
       "3  Unter der Leitung von Anja Musiol werden profe...   \n",
       "4  Poledance, Chairdance, Exotic, Floorwork.........   \n",
       "\n",
       "                      E-Mail                             Homepage  \\\n",
       "0       info@pole-faction.de          https://www.pole-faction.de   \n",
       "1   pole@palazzo-sportivo.de  http://www.poledance-rheinneckar.de   \n",
       "2      info@polestatement.de          http://www.polestatement.de   \n",
       "3         office@artletik.de             https://www.artletik.de/   \n",
       "4           info@les-pole.de   https://www.instagram.com/les.pole   \n",
       "\n",
       "           Telefon                                              URL_S  \\\n",
       "0  +49 15225933500  https://www.eversports.de/s/pole-faction-darms...   \n",
       "1  +49 15678684972  https://www.eversports.de/s/pole-dance-palazzo...   \n",
       "2  +49 17672506814         https://www.eversports.de/s/pole-statement   \n",
       "3   +49 1705837103  https://www.eversports.de/s/artletik-ug-laufen...   \n",
       "4  +49 15730850054                https://www.eversports.de/s/lespole   \n",
       "\n",
       "                                                 Art  \\\n",
       "0  [Poledance, Aerial Hoop, Aerial Hoop, Poledanc...   \n",
       "1  [16 Rezensionen, Aerial Hoop, Aerial Hammock, ...   \n",
       "2  [Poledance, Outdoor Fitness, Poledance, Outdoo...   \n",
       "3                [(Noch keine Bewertungen), Fitness]   \n",
       "4  [Poledance, Power Pole, Poledance, Poledance, ...   \n",
       "\n",
       "                        Angebot         Created Date         Updated Date  \n",
       "0  2 Angebote für Neukund:innen  2024-02-03 16:25:47  2024-02-03 16:25:47  \n",
       "1   1 Angebot für Neukund:innen  2024-02-03 16:25:52  2024-02-03 16:25:52  \n",
       "2  2 Angebote für Neukund:innen  2024-02-03 16:26:03  2024-02-03 16:26:03  \n",
       "3                          None  2024-02-03 16:26:07  2024-02-03 16:26:07  \n",
       "4   1 Angebot für Neukund:innen  2024-02-03 16:26:20  2024-02-03 16:26:20  "
      ]
     },
     "execution_count": 2,
     "metadata": {},
     "output_type": "execute_result"
    }
   ],
   "source": [
    "result_pole_studio"
   ]
  },
  {
   "cell_type": "code",
   "execution_count": 3,
   "metadata": {},
   "outputs": [
    {
     "data": {
      "text/html": [
       "<div>\n",
       "<style scoped>\n",
       "    .dataframe tbody tr th:only-of-type {\n",
       "        vertical-align: middle;\n",
       "    }\n",
       "\n",
       "    .dataframe tbody tr th {\n",
       "        vertical-align: top;\n",
       "    }\n",
       "\n",
       "    .dataframe thead th {\n",
       "        text-align: right;\n",
       "    }\n",
       "</style>\n",
       "<table border=\"1\" class=\"dataframe\">\n",
       "  <thead>\n",
       "    <tr style=\"text-align: right;\">\n",
       "      <th></th>\n",
       "      <th>Workshop Name</th>\n",
       "      <th>Description</th>\n",
       "      <th>Studio Name</th>\n",
       "      <th>Location</th>\n",
       "      <th>Level</th>\n",
       "      <th>Date</th>\n",
       "      <th>URL_E</th>\n",
       "      <th>Time</th>\n",
       "    </tr>\n",
       "  </thead>\n",
       "  <tbody>\n",
       "    <tr>\n",
       "      <th>0</th>\n",
       "      <td>Twerk it</td>\n",
       "      <td>Es kommt Schwung in die Kiste! Möchtet ihr eur...</td>\n",
       "      <td>Pole Faction - Darmstadt</td>\n",
       "      <td>Twerk Ticket für So. 24.03.2024, 18:00 - 19:30</td>\n",
       "      <td>Choreographie</td>\n",
       "      <td>Begann am Sonntag, 28. Januar 2024</td>\n",
       "      <td>https://www.eversports.de/e/workshop/FP-cEyn</td>\n",
       "      <td>Heidelberger Landstrasse 237, 64297 Darmstadt</td>\n",
       "    </tr>\n",
       "    <tr>\n",
       "      <th>1</th>\n",
       "      <td>ONLINE Heels Flow | Pole Workshop</td>\n",
       "      <td>Tauche ein in die sinnliche Welt des Pole Danc...</td>\n",
       "      <td>Les.Pole</td>\n",
       "      <td>Online</td>\n",
       "      <td>Poledance</td>\n",
       "      <td>Samstag, 24. Februar 2024</td>\n",
       "      <td>https://www.eversports.de/e/workshop/ph8TlfO</td>\n",
       "      <td>12:00 - 13:30</td>\n",
       "    </tr>\n",
       "    <tr>\n",
       "      <th>2</th>\n",
       "      <td>ONLINE Perfect Pictures  | Pole Workshop</td>\n",
       "      <td>Bei dir steht ein Fotoshooting an, aber dir fe...</td>\n",
       "      <td>Les.Pole</td>\n",
       "      <td>Online</td>\n",
       "      <td>Poledance</td>\n",
       "      <td>Freitag, 26. April 2024</td>\n",
       "      <td>https://www.eversports.de/e/workshop/4lKTG4R</td>\n",
       "      <td>19:00 - 20:30</td>\n",
       "    </tr>\n",
       "    <tr>\n",
       "      <th>3</th>\n",
       "      <td>KASSEL+ONLINE Chairdance Perfect Pictures Work...</td>\n",
       "      <td>Bei dir steht ein Fotoshooting an, aber dir fe...</td>\n",
       "      <td>Les.Pole</td>\n",
       "      <td>Online</td>\n",
       "      <td>Poledance</td>\n",
       "      <td>Samstag, 4. Mai 2024</td>\n",
       "      <td>https://www.eversports.de/e/workshop/lByHwWr</td>\n",
       "      <td>12:00 - 13:30</td>\n",
       "    </tr>\n",
       "    <tr>\n",
       "      <th>4</th>\n",
       "      <td>BREMEN Pole X Heels</td>\n",
       "      <td>Musik an, jetzt wird getanzt!... Leg Swirls, B...</td>\n",
       "      <td>Les.Pole</td>\n",
       "      <td>Einzelticket</td>\n",
       "      <td>Poledance</td>\n",
       "      <td>Samstag, 18. Mai 2024</td>\n",
       "      <td>https://www.eversports.de/e/workshop/VC_twiJ</td>\n",
       "      <td>15:00 - 16:30</td>\n",
       "    </tr>\n",
       "    <tr>\n",
       "      <th>5</th>\n",
       "      <td>BREMEN Handbalance Essentials Pole Edition</td>\n",
       "      <td>Wir lernen gemeinsam die Grundlagen zu den The...</td>\n",
       "      <td>Les.Pole</td>\n",
       "      <td>Einzelticket</td>\n",
       "      <td>Akrobatik</td>\n",
       "      <td>Samstag, 18. Mai 2024</td>\n",
       "      <td>https://www.eversports.de/e/workshop/L-VuR9j</td>\n",
       "      <td>16:45 - 18:15</td>\n",
       "    </tr>\n",
       "  </tbody>\n",
       "</table>\n",
       "</div>"
      ],
      "text/plain": [
       "                                       Workshop Name  \\\n",
       "0                                           Twerk it   \n",
       "1                  ONLINE Heels Flow | Pole Workshop   \n",
       "2           ONLINE Perfect Pictures  | Pole Workshop   \n",
       "3  KASSEL+ONLINE Chairdance Perfect Pictures Work...   \n",
       "4                                BREMEN Pole X Heels   \n",
       "5         BREMEN Handbalance Essentials Pole Edition   \n",
       "\n",
       "                                         Description  \\\n",
       "0  Es kommt Schwung in die Kiste! Möchtet ihr eur...   \n",
       "1  Tauche ein in die sinnliche Welt des Pole Danc...   \n",
       "2  Bei dir steht ein Fotoshooting an, aber dir fe...   \n",
       "3  Bei dir steht ein Fotoshooting an, aber dir fe...   \n",
       "4  Musik an, jetzt wird getanzt!... Leg Swirls, B...   \n",
       "5  Wir lernen gemeinsam die Grundlagen zu den The...   \n",
       "\n",
       "                Studio Name                                        Location  \\\n",
       "0  Pole Faction - Darmstadt  Twerk Ticket für So. 24.03.2024, 18:00 - 19:30   \n",
       "1                  Les.Pole                                          Online   \n",
       "2                  Les.Pole                                          Online   \n",
       "3                  Les.Pole                                          Online   \n",
       "4                  Les.Pole                                    Einzelticket   \n",
       "5                  Les.Pole                                    Einzelticket   \n",
       "\n",
       "           Level                                Date  \\\n",
       "0  Choreographie  Begann am Sonntag, 28. Januar 2024   \n",
       "1      Poledance           Samstag, 24. Februar 2024   \n",
       "2      Poledance             Freitag, 26. April 2024   \n",
       "3      Poledance                Samstag, 4. Mai 2024   \n",
       "4      Poledance               Samstag, 18. Mai 2024   \n",
       "5      Akrobatik               Samstag, 18. Mai 2024   \n",
       "\n",
       "                                          URL_E  \\\n",
       "0  https://www.eversports.de/e/workshop/FP-cEyn   \n",
       "1  https://www.eversports.de/e/workshop/ph8TlfO   \n",
       "2  https://www.eversports.de/e/workshop/4lKTG4R   \n",
       "3  https://www.eversports.de/e/workshop/lByHwWr   \n",
       "4  https://www.eversports.de/e/workshop/VC_twiJ   \n",
       "5  https://www.eversports.de/e/workshop/L-VuR9j   \n",
       "\n",
       "                                            Time  \n",
       "0  Heidelberger Landstrasse 237, 64297 Darmstadt  \n",
       "1                                  12:00 - 13:30  \n",
       "2                                  19:00 - 20:30  \n",
       "3                                  12:00 - 13:30  \n",
       "4                                  15:00 - 16:30  \n",
       "5                                  16:45 - 18:15  "
      ]
     },
     "execution_count": 3,
     "metadata": {},
     "output_type": "execute_result"
    }
   ],
   "source": [
    "result_workshop_details"
   ]
  }
 ],
 "metadata": {
  "kernelspec": {
   "display_name": "Python 3",
   "language": "python",
   "name": "python3"
  },
  "language_info": {
   "codemirror_mode": {
    "name": "ipython",
    "version": 3
   },
   "file_extension": ".py",
   "mimetype": "text/x-python",
   "name": "python",
   "nbconvert_exporter": "python",
   "pygments_lexer": "ipython3",
   "version": "3.12.1"
  }
 },
 "nbformat": 4,
 "nbformat_minor": 2
}
