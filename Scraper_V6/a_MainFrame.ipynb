{
 "cells": [
  {
   "cell_type": "markdown",
   "metadata": {},
   "source": [
    "---"
   ]
  },
  {
   "cell_type": "markdown",
   "metadata": {},
   "source": [
    "Here use your CSV from WIX: Example! \"Pole Studios (2).csv\", replace the Name of the CSV inside the \"\", Run All Cells!"
   ]
  },
  {
   "cell_type": "code",
   "execution_count": 15,
   "metadata": {},
   "outputs": [
    {
     "data": {
      "text/html": [
       "<div>\n",
       "<style scoped>\n",
       "    .dataframe tbody tr th:only-of-type {\n",
       "        vertical-align: middle;\n",
       "    }\n",
       "\n",
       "    .dataframe tbody tr th {\n",
       "        vertical-align: top;\n",
       "    }\n",
       "\n",
       "    .dataframe thead th {\n",
       "        text-align: right;\n",
       "    }\n",
       "</style>\n",
       "<table border=\"1\" class=\"dataframe\">\n",
       "  <thead>\n",
       "    <tr style=\"text-align: right;\">\n",
       "      <th></th>\n",
       "      <th>Quelle</th>\n",
       "      <th>Pole Studio</th>\n",
       "      <th>PLZ</th>\n",
       "      <th>Stadt</th>\n",
       "      <th>Land</th>\n",
       "      <th>Adresse</th>\n",
       "      <th>Telefonnummer</th>\n",
       "      <th>E-Mail-Adresse</th>\n",
       "      <th>Webseite</th>\n",
       "      <th>Facebook</th>\n",
       "      <th>...</th>\n",
       "      <th>ID</th>\n",
       "      <th>Owner</th>\n",
       "      <th>Created Date</th>\n",
       "      <th>Updated Date</th>\n",
       "      <th>Bildergalerie</th>\n",
       "      <th>Richtigkeit der Angaben</th>\n",
       "      <th>Pole Studios (Pole Studio)</th>\n",
       "      <th>Online Studios (Pole Studio)</th>\n",
       "      <th>Inaktiv</th>\n",
       "      <th>Löschvermerk</th>\n",
       "    </tr>\n",
       "  </thead>\n",
       "  <tbody>\n",
       "    <tr>\n",
       "      <th>0</th>\n",
       "      <td>https://www.eversports.de/sw/seemannsbraut-pol...</td>\n",
       "      <td>Seemannsbraut Poledance Flensburg</td>\n",
       "      <td>24941</td>\n",
       "      <td>Flensburg</td>\n",
       "      <td>Deutschland</td>\n",
       "      <td>{\"subdivisions\":[{\"code\":\"SH\",\"name\":\"Schleswi...</td>\n",
       "      <td>15163300769</td>\n",
       "      <td>seemannsbraut-poledance@web.de</td>\n",
       "      <td>https://www.seemannsbraut-poledance.de/</td>\n",
       "      <td>https://www.facebook.com/SeemannsbrautPoledance</td>\n",
       "      <td>...</td>\n",
       "      <td>01df35bd-209a-4520-a7bc-d109b9aaf2f6</td>\n",
       "      <td>284241e1-0e53-4183-b67f-34edcfb7c8b1</td>\n",
       "      <td>2022-11-18T11:57:31Z</td>\n",
       "      <td>2024-02-04T18:00:48Z</td>\n",
       "      <td>NaN</td>\n",
       "      <td>NaN</td>\n",
       "      <td>/polestudio/seemannsbraut-poledance-flensburg</td>\n",
       "      <td>/onlinestudio/seemannsbraut-poledance-flensburg</td>\n",
       "      <td>NaN</td>\n",
       "      <td>NaN</td>\n",
       "    </tr>\n",
       "    <tr>\n",
       "      <th>1</th>\n",
       "      <td>https://www.eversports.de/sw/tsg-blau-gold-gie...</td>\n",
       "      <td>TSG Blau Gold Ballett- und Pole-dance- Studio</td>\n",
       "      <td>35390</td>\n",
       "      <td>Gießen</td>\n",
       "      <td>Deutschland</td>\n",
       "      <td>{\"subdivisions\":[{\"code\":\"HE\",\"name\":\"Hessen\",...</td>\n",
       "      <td>0491 621606468</td>\n",
       "      <td>tanz-giessen@gmx.de</td>\n",
       "      <td>https://www.tsg-giessen.de/angebote/tanz/poled...</td>\n",
       "      <td>https://www.facebook.com/poledancegiessen.de</td>\n",
       "      <td>...</td>\n",
       "      <td>0233997c-a277-4179-990a-347e1cea347e</td>\n",
       "      <td>284241e1-0e53-4183-b67f-34edcfb7c8b1</td>\n",
       "      <td>2022-11-18T11:57:31Z</td>\n",
       "      <td>2024-02-04T18:00:49Z</td>\n",
       "      <td>NaN</td>\n",
       "      <td>NaN</td>\n",
       "      <td>/polestudio/tsg-blau-gold-ballett--und-pole-da...</td>\n",
       "      <td>/onlinestudio/tsg-blau-gold-ballett--und-pole-...</td>\n",
       "      <td>NaN</td>\n",
       "      <td>NaN</td>\n",
       "    </tr>\n",
       "    <tr>\n",
       "      <th>2</th>\n",
       "      <td>NaN</td>\n",
       "      <td>Pole Stars Osnabrück</td>\n",
       "      <td>49080</td>\n",
       "      <td>Osnabrück</td>\n",
       "      <td>Deutschland</td>\n",
       "      <td>{\"subdivisions\":[{\"code\":\"NDS\",\"name\":\"Nieders...</td>\n",
       "      <td>01573 1810262</td>\n",
       "      <td>info@polestars-osnabrueck.de</td>\n",
       "      <td>http://www.polestars-osnabrueck.de/</td>\n",
       "      <td>https://www.facebook.com/PoleStarsOsnabrueck.de/</td>\n",
       "      <td>...</td>\n",
       "      <td>04673b9d-d8b2-4caf-8632-d349eab2cd4e</td>\n",
       "      <td>284241e1-0e53-4183-b67f-34edcfb7c8b1</td>\n",
       "      <td>2022-11-18T11:57:31Z</td>\n",
       "      <td>2024-02-04T18:00:48Z</td>\n",
       "      <td>NaN</td>\n",
       "      <td>NaN</td>\n",
       "      <td>/polestudio/pole-stars-osnabr%C3%BCck</td>\n",
       "      <td>/onlinestudio/pole-stars-osnabr%C3%BCck</td>\n",
       "      <td>NaN</td>\n",
       "      <td>NaN</td>\n",
       "    </tr>\n",
       "  </tbody>\n",
       "</table>\n",
       "<p>3 rows × 26 columns</p>\n",
       "</div>"
      ],
      "text/plain": [
       "                                              Quelle  \\\n",
       "0  https://www.eversports.de/sw/seemannsbraut-pol...   \n",
       "1  https://www.eversports.de/sw/tsg-blau-gold-gie...   \n",
       "2                                                NaN   \n",
       "\n",
       "                                     Pole Studio    PLZ      Stadt  \\\n",
       "0              Seemannsbraut Poledance Flensburg  24941  Flensburg   \n",
       "1  TSG Blau Gold Ballett- und Pole-dance- Studio  35390     Gießen   \n",
       "2                           Pole Stars Osnabrück  49080  Osnabrück   \n",
       "\n",
       "          Land                                            Adresse  \\\n",
       "0  Deutschland  {\"subdivisions\":[{\"code\":\"SH\",\"name\":\"Schleswi...   \n",
       "1  Deutschland  {\"subdivisions\":[{\"code\":\"HE\",\"name\":\"Hessen\",...   \n",
       "2  Deutschland  {\"subdivisions\":[{\"code\":\"NDS\",\"name\":\"Nieders...   \n",
       "\n",
       "    Telefonnummer                  E-Mail-Adresse  \\\n",
       "0     15163300769  seemannsbraut-poledance@web.de   \n",
       "1  0491 621606468             tanz-giessen@gmx.de   \n",
       "2   01573 1810262    info@polestars-osnabrueck.de   \n",
       "\n",
       "                                            Webseite  \\\n",
       "0            https://www.seemannsbraut-poledance.de/   \n",
       "1  https://www.tsg-giessen.de/angebote/tanz/poled...   \n",
       "2                http://www.polestars-osnabrueck.de/   \n",
       "\n",
       "                                           Facebook  ...  \\\n",
       "0   https://www.facebook.com/SeemannsbrautPoledance  ...   \n",
       "1      https://www.facebook.com/poledancegiessen.de  ...   \n",
       "2  https://www.facebook.com/PoleStarsOsnabrueck.de/  ...   \n",
       "\n",
       "                                     ID                                 Owner  \\\n",
       "0  01df35bd-209a-4520-a7bc-d109b9aaf2f6  284241e1-0e53-4183-b67f-34edcfb7c8b1   \n",
       "1  0233997c-a277-4179-990a-347e1cea347e  284241e1-0e53-4183-b67f-34edcfb7c8b1   \n",
       "2  04673b9d-d8b2-4caf-8632-d349eab2cd4e  284241e1-0e53-4183-b67f-34edcfb7c8b1   \n",
       "\n",
       "           Created Date          Updated Date Bildergalerie  \\\n",
       "0  2022-11-18T11:57:31Z  2024-02-04T18:00:48Z           NaN   \n",
       "1  2022-11-18T11:57:31Z  2024-02-04T18:00:49Z           NaN   \n",
       "2  2022-11-18T11:57:31Z  2024-02-04T18:00:48Z           NaN   \n",
       "\n",
       "  Richtigkeit der Angaben                         Pole Studios (Pole Studio)  \\\n",
       "0                     NaN      /polestudio/seemannsbraut-poledance-flensburg   \n",
       "1                     NaN  /polestudio/tsg-blau-gold-ballett--und-pole-da...   \n",
       "2                     NaN              /polestudio/pole-stars-osnabr%C3%BCck   \n",
       "\n",
       "                        Online Studios (Pole Studio) Inaktiv Löschvermerk  \n",
       "0    /onlinestudio/seemannsbraut-poledance-flensburg     NaN          NaN  \n",
       "1  /onlinestudio/tsg-blau-gold-ballett--und-pole-...     NaN          NaN  \n",
       "2            /onlinestudio/pole-stars-osnabr%C3%BCck     NaN          NaN  \n",
       "\n",
       "[3 rows x 26 columns]"
      ]
     },
     "execution_count": 15,
     "metadata": {},
     "output_type": "execute_result"
    }
   ],
   "source": [
    "import pandas as pd\n",
    "\n",
    "# Load initial URLs\n",
    "hop_dataframe = pd.read_csv(\"Pole Studios.csv\")\n",
    "hop_dataframe.head(3)"
   ]
  },
  {
   "cell_type": "markdown",
   "metadata": {},
   "source": [
    "---"
   ]
  },
  {
   "cell_type": "markdown",
   "metadata": {},
   "source": [
    "Url Reconstruction"
   ]
  },
  {
   "cell_type": "code",
   "execution_count": 16,
   "metadata": {},
   "outputs": [
    {
     "data": {
      "text/plain": [
       "330"
      ]
     },
     "execution_count": 16,
     "metadata": {},
     "output_type": "execute_result"
    }
   ],
   "source": [
    "hop_polestudios = hop_dataframe[\"Pole Studios (Pole Studio)\"].to_list()\n",
    "\n",
    "initial_urls = hop_polestudios\n",
    "\n",
    "base_url = \"https://www.eversports.de/s\"\n",
    "\n",
    "#initial_urls = list(set(hop_dataframe[\"Pole Studios (Pole Studio)\"]))\n",
    "len(initial_urls)"
   ]
  },
  {
   "cell_type": "code",
   "execution_count": 17,
   "metadata": {},
   "outputs": [
    {
     "data": {
      "text/plain": [
       "['https://www.eversports.de/s/seemannsbraut-poledance-flensburg',\n",
       " 'https://www.eversports.de/s/tsg-blau-gold-ballett--und-pole-dance--studio',\n",
       " 'https://www.eversports.de/s/pole-stars-osnabr%C3%BCck',\n",
       " 'https://www.eversports.de/s/aerial-art-studio',\n",
       " 'https://www.eversports.de/s/k%C3%B6rpernah',\n",
       " 'https://www.eversports.de/s/dance-moves-wolfenb%C3%BCttel',\n",
       " 'https://www.eversports.de/s/mypole',\n",
       " 'https://www.eversports.de/s/tanzstudio-michel',\n",
       " 'https://www.eversports.de/s/pole-sensation',\n",
       " 'https://www.eversports.de/s/poledance-rostock']"
      ]
     },
     "execution_count": 17,
     "metadata": {},
     "output_type": "execute_result"
    }
   ],
   "source": [
    "url = []\n",
    "for url_part in initial_urls:\n",
    "    url.append(base_url+url_part[11:])\n",
    "url[:10]"
   ]
  },
  {
   "cell_type": "code",
   "execution_count": 18,
   "metadata": {},
   "outputs": [],
   "source": [
    "initial_urls = url"
   ]
  },
  {
   "cell_type": "markdown",
   "metadata": {},
   "source": [
    "---"
   ]
  },
  {
   "cell_type": "markdown",
   "metadata": {},
   "source": [
    "Scraper Code"
   ]
  },
  {
   "cell_type": "code",
   "execution_count": 19,
   "metadata": {},
   "outputs": [
    {
     "name": "stderr",
     "output_type": "stream",
     "text": [
      "Processing URLs:   0%|          | 0/330 [00:00<?, ?it/s]"
     ]
    },
    {
     "name": "stdout",
     "output_type": "stream",
     "text": [
      "Starting URL reconstruction...\n"
     ]
    },
    {
     "name": "stderr",
     "output_type": "stream",
     "text": [
      "Processing URLs:   0%|          | 1/330 [00:01<10:04,  1.84s/it]"
     ]
    },
    {
     "name": "stdout",
     "output_type": "stream",
     "text": [
      "Error during HTTP request: 404 Client Error: Not Found for url: https://www.eversports.de/s/seemannsbraut-poledance-flensburg\n",
      "Converting to DataFrame...\n",
      "Validating URLs...\n",
      "\n",
      "Processing completed.\n",
      "-------------------------------- \n",
      "\n",
      "Starting URL reconstruction...\n"
     ]
    },
    {
     "name": "stderr",
     "output_type": "stream",
     "text": [
      "Processing URLs:   1%|          | 2/330 [00:03<10:05,  1.85s/it]"
     ]
    },
    {
     "name": "stdout",
     "output_type": "stream",
     "text": [
      "Error during HTTP request: 404 Client Error: Not Found for url: https://www.eversports.de/s/tsg-blau-gold-ballett--und-pole-dance--studio\n",
      "Converting to DataFrame...\n",
      "Validating URLs...\n",
      "\n",
      "Processing completed.\n",
      "-------------------------------- \n",
      "\n",
      "Starting URL reconstruction...\n"
     ]
    },
    {
     "name": "stderr",
     "output_type": "stream",
     "text": [
      "Processing URLs:   1%|          | 3/330 [00:09<19:18,  3.54s/it]"
     ]
    },
    {
     "name": "stdout",
     "output_type": "stream",
     "text": [
      "Error during HTTP request: Exceeded 30 redirects.\n",
      "Converting to DataFrame...\n",
      "Validating URLs...\n",
      "\n",
      "Processing completed.\n",
      "-------------------------------- \n",
      "\n",
      "Starting URL reconstruction...\n"
     ]
    },
    {
     "name": "stderr",
     "output_type": "stream",
     "text": [
      "Processing URLs:   1%|          | 4/330 [00:10<14:17,  2.63s/it]"
     ]
    },
    {
     "name": "stdout",
     "output_type": "stream",
     "text": [
      "Error during HTTP request: 404 Client Error: Not Found for url: https://www.eversports.de/s/aerial-art-studio\n",
      "Converting to DataFrame...\n",
      "Validating URLs...\n",
      "\n",
      "Processing completed.\n",
      "-------------------------------- \n",
      "\n",
      "Starting URL reconstruction...\n"
     ]
    },
    {
     "name": "stderr",
     "output_type": "stream",
     "text": [
      "Processing URLs:   2%|▏         | 5/330 [00:13<15:52,  2.93s/it]"
     ]
    },
    {
     "name": "stdout",
     "output_type": "stream",
     "text": [
      "Error during HTTP request: Exceeded 30 redirects.\n",
      "Converting to DataFrame...\n",
      "Validating URLs...\n",
      "\n",
      "Processing completed.\n",
      "-------------------------------- \n",
      "\n",
      "Starting URL reconstruction...\n"
     ]
    },
    {
     "name": "stderr",
     "output_type": "stream",
     "text": [
      "Processing URLs:   2%|▏         | 6/330 [00:17<17:12,  3.19s/it]"
     ]
    },
    {
     "name": "stdout",
     "output_type": "stream",
     "text": [
      "Error during HTTP request: Exceeded 30 redirects.\n",
      "Converting to DataFrame...\n",
      "Validating URLs...\n",
      "\n",
      "Processing completed.\n",
      "-------------------------------- \n",
      "\n",
      "Starting URL reconstruction...\n"
     ]
    },
    {
     "name": "stderr",
     "output_type": "stream",
     "text": [
      "Processing URLs:   2%|▏         | 7/330 [00:18<13:51,  2.58s/it]"
     ]
    },
    {
     "name": "stdout",
     "output_type": "stream",
     "text": [
      "Error during HTTP request: 404 Client Error: Not Found for url: https://www.eversports.de/s/mypole\n",
      "Converting to DataFrame...\n",
      "Validating URLs...\n",
      "\n",
      "Processing completed.\n",
      "-------------------------------- \n",
      "\n",
      "Starting URL reconstruction...\n"
     ]
    },
    {
     "name": "stderr",
     "output_type": "stream",
     "text": [
      "2024-02-21 13:41:52,293 - INFO - Processing URL 1/1: https://www.eversports.de/s/tanzstudio-michel\n"
     ]
    },
    {
     "name": "stdout",
     "output_type": "stream",
     "text": [
      "Converting to DataFrame...\n",
      "Validating URLs...\n"
     ]
    },
    {
     "name": "stderr",
     "output_type": "stream",
     "text": [
      "2024-02-21 13:41:54,078 - INFO - URL https://www.eversports.de/s/tanzstudio-michel is valid.\n"
     ]
    },
    {
     "name": "stdout",
     "output_type": "stream",
     "text": [
      "Scraping Pole Studio Data from https://www.eversports.de/s/tanzstudio-michel...\n"
     ]
    },
    {
     "name": "stderr",
     "output_type": "stream",
     "text": [
      "Processing URLs:   2%|▏         | 8/330 [00:22<15:24,  2.87s/it]"
     ]
    },
    {
     "name": "stdout",
     "output_type": "stream",
     "text": [
      "\n",
      "Processing completed.\n",
      "-------------------------------- \n",
      "\n",
      "2024-02-21 13:41:54 - INFO - Scraping Data from: https://www.eversports.de/s/tanzstudio-michel\n",
      "Pole Studio Data: 1 entries\n",
      "Starting URL reconstruction...\n"
     ]
    },
    {
     "name": "stderr",
     "output_type": "stream",
     "text": [
      "Processing URLs:   3%|▎         | 9/330 [00:23<12:39,  2.37s/it]"
     ]
    },
    {
     "name": "stdout",
     "output_type": "stream",
     "text": [
      "Error during HTTP request: 404 Client Error: Not Found for url: https://www.eversports.de/s/pole-sensation\n",
      "Converting to DataFrame...\n",
      "Validating URLs...\n",
      "\n",
      "Processing completed.\n",
      "-------------------------------- \n",
      "\n",
      "Starting URL reconstruction...\n"
     ]
    },
    {
     "name": "stderr",
     "output_type": "stream",
     "text": [
      "Processing URLs:   3%|▎         | 10/330 [00:25<11:19,  2.12s/it]"
     ]
    },
    {
     "name": "stdout",
     "output_type": "stream",
     "text": [
      "Error during HTTP request: 404 Client Error: Not Found for url: https://www.eversports.de/s/poledance-rostock\n",
      "Converting to DataFrame...\n",
      "Validating URLs...\n",
      "\n",
      "Processing completed.\n",
      "-------------------------------- \n",
      "\n",
      "Starting URL reconstruction...\n"
     ]
    },
    {
     "name": "stderr",
     "output_type": "stream",
     "text": [
      "Processing URLs:   3%|▎         | 11/330 [00:26<09:44,  1.83s/it]"
     ]
    },
    {
     "name": "stdout",
     "output_type": "stream",
     "text": [
      "Error during HTTP request: 404 Client Error: Not Found for url: https://www.eversports.de/s/wildheart-yoga-%26-pole-dance\n",
      "Converting to DataFrame...\n",
      "Validating URLs...\n",
      "\n",
      "Processing completed.\n",
      "-------------------------------- \n",
      "\n",
      "Starting URL reconstruction...\n"
     ]
    },
    {
     "name": "stderr",
     "output_type": "stream",
     "text": [
      "Processing URLs:   4%|▎         | 12/330 [00:28<10:34,  2.00s/it]"
     ]
    },
    {
     "name": "stdout",
     "output_type": "stream",
     "text": [
      "Error during HTTP request: 404 Client Error: Not Found for url: https://www.eversports.de/s/studio-beyou\n",
      "Converting to DataFrame...\n",
      "Validating URLs...\n",
      "\n",
      "Processing completed.\n",
      "-------------------------------- \n",
      "\n",
      "Starting URL reconstruction...\n"
     ]
    },
    {
     "name": "stderr",
     "output_type": "stream",
     "text": [
      "2024-02-21 13:42:02,146 - INFO - Processing URL 1/1: https://www.eversports.de/s/polestation-academy\n"
     ]
    },
    {
     "name": "stdout",
     "output_type": "stream",
     "text": [
      "Converting to DataFrame...\n",
      "Validating URLs...\n"
     ]
    },
    {
     "name": "stderr",
     "output_type": "stream",
     "text": [
      "2024-02-21 13:42:03,412 - INFO - URL https://www.eversports.de/s/polestation-academy is valid.\n"
     ]
    },
    {
     "name": "stdout",
     "output_type": "stream",
     "text": [
      "Scraping Pole Studio Data from https://www.eversports.de/s/polestation-academy...\n"
     ]
    },
    {
     "name": "stderr",
     "output_type": "stream",
     "text": [
      "Processing URLs:   4%|▍         | 13/330 [00:31<12:18,  2.33s/it]"
     ]
    },
    {
     "name": "stdout",
     "output_type": "stream",
     "text": [
      "\n",
      "Processing completed.\n",
      "-------------------------------- \n",
      "\n",
      "2024-02-21 13:42:03 - INFO - Scraping Data from: https://www.eversports.de/s/polestation-academy\n",
      "Pole Studio Data: 1 entries\n",
      "Starting URL reconstruction...\n"
     ]
    },
    {
     "name": "stderr",
     "output_type": "stream",
     "text": [
      "Processing URLs:   4%|▍         | 14/330 [00:33<10:27,  1.99s/it]"
     ]
    },
    {
     "name": "stdout",
     "output_type": "stream",
     "text": [
      "Error during HTTP request: 404 Client Error: Not Found for url: https://www.eversports.de/s/indeed-unique---studio-wien\n",
      "Converting to DataFrame...\n",
      "Validating URLs...\n",
      "\n",
      "Processing completed.\n",
      "-------------------------------- \n",
      "\n",
      "Starting URL reconstruction...\n"
     ]
    },
    {
     "name": "stderr",
     "output_type": "stream",
     "text": [
      "Processing URLs:   5%|▍         | 15/330 [00:34<09:05,  1.73s/it]"
     ]
    },
    {
     "name": "stdout",
     "output_type": "stream",
     "text": [
      "Error during HTTP request: 404 Client Error: Not Found for url: https://www.eversports.de/s/polefitness-by-sophie-m.\n",
      "Converting to DataFrame...\n",
      "Validating URLs...\n",
      "\n",
      "Processing completed.\n",
      "-------------------------------- \n",
      "\n",
      "Starting URL reconstruction...\n"
     ]
    },
    {
     "name": "stderr",
     "output_type": "stream",
     "text": [
      "Processing URLs:   5%|▍         | 16/330 [00:35<08:35,  1.64s/it]"
     ]
    },
    {
     "name": "stdout",
     "output_type": "stream",
     "text": [
      "Error during HTTP request: 404 Client Error: Not Found for url: https://www.eversports.de/s/unique-studios-schweinfurt\n",
      "Converting to DataFrame...\n",
      "Validating URLs...\n",
      "\n",
      "Processing completed.\n",
      "-------------------------------- \n",
      "\n",
      "Starting URL reconstruction...\n"
     ]
    },
    {
     "name": "stderr",
     "output_type": "stream",
     "text": [
      "2024-02-21 13:42:08,872 - INFO - Processing URL 1/1: https://www.eversports.de/s/poledance-4-you\n"
     ]
    },
    {
     "name": "stdout",
     "output_type": "stream",
     "text": [
      "Converting to DataFrame...\n",
      "Validating URLs...\n"
     ]
    },
    {
     "name": "stderr",
     "output_type": "stream",
     "text": [
      "2024-02-21 13:42:10,080 - INFO - URL https://www.eversports.de/s/poledance-4-you is valid.\n"
     ]
    },
    {
     "name": "stdout",
     "output_type": "stream",
     "text": [
      "Scraping Pole Studio Data from https://www.eversports.de/s/poledance-4-you...\n"
     ]
    },
    {
     "name": "stderr",
     "output_type": "stream",
     "text": [
      "Processing URLs:   5%|▌         | 17/330 [00:38<10:13,  1.96s/it]"
     ]
    },
    {
     "name": "stdout",
     "output_type": "stream",
     "text": [
      "\n",
      "Processing completed.\n",
      "-------------------------------- \n",
      "\n",
      "2024-02-21 13:42:10 - INFO - Scraping Data from: https://www.eversports.de/s/poledance-4-you\n",
      "Pole Studio Data: 1 entries\n",
      "Starting URL reconstruction...\n"
     ]
    },
    {
     "name": "stderr",
     "output_type": "stream",
     "text": [
      "2024-02-21 13:42:11,612 - INFO - Processing URL 1/2: https://www.eversports.de/s/luftbonbon\n"
     ]
    },
    {
     "name": "stdout",
     "output_type": "stream",
     "text": [
      "Converting to DataFrame...\n",
      "Validating URLs...\n"
     ]
    },
    {
     "name": "stderr",
     "output_type": "stream",
     "text": [
      "2024-02-21 13:42:12,987 - INFO - URL https://www.eversports.de/s/luftbonbon is valid.\n",
      "2024-02-21 13:42:12,988 - INFO - Processing URL 2/2: https://www.eversports.de/sw/luftbonbon\n",
      "2024-02-21 13:42:14,148 - INFO - URL https://www.eversports.de/sw/luftbonbon is valid.\n"
     ]
    },
    {
     "name": "stdout",
     "output_type": "stream",
     "text": [
      "Scraping Pole Studio Data from https://www.eversports.de/s/luftbonbon...\n",
      "Scraping Workshops Data from https://www.eversports.de/sw/luftbonbon...\n",
      "Scraping Workshop Details from https://www.eversports.de/e/workshop/60kU5cU...\n"
     ]
    },
    {
     "name": "stderr",
     "output_type": "stream",
     "text": [
      "Processing URLs:   5%|▌         | 18/330 [00:45<17:36,  3.39s/it]"
     ]
    },
    {
     "name": "stdout",
     "output_type": "stream",
     "text": [
      "\n",
      "Processing completed.\n",
      "-------------------------------- \n",
      "\n",
      "2024-02-21 13:42:17 - INFO - Scraping Data from: https://www.eversports.de/s/luftbonbon\n",
      "Pole Studio Data: 1 entries\n",
      "2024-02-21 13:42:17 - INFO - Scraping Data from: https://www.eversports.de/s/luftbonbon\n",
      "Workshops Data: 1 entries\n",
      "2024-02-21 13:42:17 - INFO - Scraping Data from: https://www.eversports.de/s/luftbonbon\n",
      "Workshop Details: 1 entries\n",
      "Starting URL reconstruction...\n"
     ]
    },
    {
     "name": "stderr",
     "output_type": "stream",
     "text": [
      "Processing URLs:   6%|▌         | 19/330 [00:46<14:14,  2.75s/it]"
     ]
    },
    {
     "name": "stdout",
     "output_type": "stream",
     "text": [
      "Error during HTTP request: 404 Client Error: Not Found for url: https://www.eversports.de/s/chromotion---aerial-dance-studio\n",
      "Converting to DataFrame...\n",
      "Validating URLs...\n",
      "\n",
      "Processing completed.\n",
      "-------------------------------- \n",
      "\n",
      "Starting URL reconstruction...\n"
     ]
    },
    {
     "name": "stderr",
     "output_type": "stream",
     "text": [
      "Processing URLs:   6%|▌         | 20/330 [00:47<11:38,  2.25s/it]"
     ]
    },
    {
     "name": "stdout",
     "output_type": "stream",
     "text": [
      "Error during HTTP request: 404 Client Error: Not Found for url: https://www.eversports.de/s/exquisuite\n",
      "Converting to DataFrame...\n",
      "Validating URLs...\n",
      "\n",
      "Processing completed.\n",
      "-------------------------------- \n",
      "\n",
      "Starting URL reconstruction...\n"
     ]
    },
    {
     "name": "stderr",
     "output_type": "stream",
     "text": [
      "Processing URLs:   6%|▋         | 21/330 [00:50<12:09,  2.36s/it]"
     ]
    },
    {
     "name": "stdout",
     "output_type": "stream",
     "text": [
      "Error during HTTP request: 404 Client Error: Not Found for url: https://www.eversports.de/s/pole-emotion-bremerhaven\n",
      "Converting to DataFrame...\n",
      "Validating URLs...\n",
      "\n",
      "Processing completed.\n",
      "-------------------------------- \n",
      "\n",
      "Starting URL reconstruction...\n"
     ]
    },
    {
     "name": "stderr",
     "output_type": "stream",
     "text": [
      "Processing URLs:   7%|▋         | 22/330 [00:51<10:24,  2.03s/it]"
     ]
    },
    {
     "name": "stdout",
     "output_type": "stream",
     "text": [
      "Error during HTTP request: 404 Client Error: Not Found for url: https://www.eversports.de/s/polegarage-hagen\n",
      "Converting to DataFrame...\n",
      "Validating URLs...\n",
      "\n",
      "Processing completed.\n",
      "-------------------------------- \n",
      "\n",
      "Starting URL reconstruction...\n"
     ]
    },
    {
     "name": "stderr",
     "output_type": "stream",
     "text": [
      "2024-02-21 13:42:24,720 - INFO - Processing URL 1/1: https://www.eversports.de/s/pole-dance-beauties\n"
     ]
    },
    {
     "name": "stdout",
     "output_type": "stream",
     "text": [
      "Converting to DataFrame...\n",
      "Validating URLs...\n"
     ]
    },
    {
     "name": "stderr",
     "output_type": "stream",
     "text": [
      "2024-02-21 13:42:26,833 - INFO - URL https://www.eversports.de/s/pole-dance-beauties is valid.\n"
     ]
    },
    {
     "name": "stdout",
     "output_type": "stream",
     "text": [
      "Scraping Pole Studio Data from https://www.eversports.de/s/pole-dance-beauties...\n"
     ]
    },
    {
     "name": "stderr",
     "output_type": "stream",
     "text": [
      "Processing URLs:   7%|▋         | 23/330 [00:55<13:16,  2.60s/it]"
     ]
    },
    {
     "name": "stdout",
     "output_type": "stream",
     "text": [
      "\n",
      "Processing completed.\n",
      "-------------------------------- \n",
      "\n",
      "2024-02-21 13:42:27 - INFO - Scraping Data from: https://www.eversports.de/s/pole-dance-beauties\n",
      "Pole Studio Data: 1 entries\n",
      "Starting URL reconstruction...\n"
     ]
    },
    {
     "name": "stderr",
     "output_type": "stream",
     "text": [
      "Processing URLs:   7%|▋         | 24/330 [00:56<11:02,  2.16s/it]"
     ]
    },
    {
     "name": "stdout",
     "output_type": "stream",
     "text": [
      "Error during HTTP request: 404 Client Error: Not Found for url: https://www.eversports.de/s/freaky-pole-cats-schwandorf\n",
      "Converting to DataFrame...\n",
      "Validating URLs...\n",
      "\n",
      "Processing completed.\n",
      "-------------------------------- \n",
      "\n",
      "Starting URL reconstruction...\n"
     ]
    },
    {
     "name": "stderr",
     "output_type": "stream",
     "text": [
      "2024-02-21 13:42:29,704 - INFO - Processing URL 1/1: https://www.eversports.de/s/glow-sports-club\n"
     ]
    },
    {
     "name": "stdout",
     "output_type": "stream",
     "text": [
      "Converting to DataFrame...\n",
      "Validating URLs...\n"
     ]
    },
    {
     "name": "stderr",
     "output_type": "stream",
     "text": [
      "2024-02-21 13:42:31,054 - INFO - URL https://www.eversports.de/s/glow-sports-club is valid.\n"
     ]
    },
    {
     "name": "stdout",
     "output_type": "stream",
     "text": [
      "Scraping Pole Studio Data from https://www.eversports.de/s/glow-sports-club...\n"
     ]
    },
    {
     "name": "stderr",
     "output_type": "stream",
     "text": [
      "Processing URLs:   8%|▊         | 25/330 [00:59<12:29,  2.46s/it]"
     ]
    },
    {
     "name": "stdout",
     "output_type": "stream",
     "text": [
      "\n",
      "Processing completed.\n",
      "-------------------------------- \n",
      "\n",
      "2024-02-21 13:42:31 - INFO - Scraping Data from: https://www.eversports.de/s/glow-sports-club\n",
      "Pole Studio Data: 1 entries\n",
      "Starting URL reconstruction...\n"
     ]
    },
    {
     "name": "stderr",
     "output_type": "stream",
     "text": [
      "2024-02-21 13:42:32,919 - INFO - Processing URL 1/1: https://www.eversports.de/s/aerial-circus\n"
     ]
    },
    {
     "name": "stdout",
     "output_type": "stream",
     "text": [
      "Converting to DataFrame...\n",
      "Validating URLs...\n"
     ]
    },
    {
     "name": "stderr",
     "output_type": "stream",
     "text": [
      "2024-02-21 13:42:34,506 - INFO - URL https://www.eversports.de/s/aerial-circus is valid.\n"
     ]
    },
    {
     "name": "stdout",
     "output_type": "stream",
     "text": [
      "Scraping Pole Studio Data from https://www.eversports.de/s/aerial-circus...\n"
     ]
    },
    {
     "name": "stderr",
     "output_type": "stream",
     "text": [
      "Processing URLs:   8%|▊         | 26/330 [01:03<14:22,  2.84s/it]"
     ]
    },
    {
     "name": "stdout",
     "output_type": "stream",
     "text": [
      "\n",
      "Processing completed.\n",
      "-------------------------------- \n",
      "\n",
      "2024-02-21 13:42:35 - INFO - Scraping Data from: https://www.eversports.de/s/aerial-circus\n",
      "Pole Studio Data: 1 entries\n",
      "Starting URL reconstruction...\n"
     ]
    },
    {
     "name": "stderr",
     "output_type": "stream",
     "text": [
      "2024-02-21 13:42:36,861 - INFO - Processing URL 1/2: https://www.eversports.de/s/yoga-and-pole-art-by-selina\n"
     ]
    },
    {
     "name": "stdout",
     "output_type": "stream",
     "text": [
      "Converting to DataFrame...\n",
      "Validating URLs...\n"
     ]
    },
    {
     "name": "stderr",
     "output_type": "stream",
     "text": [
      "2024-02-21 13:42:38,437 - INFO - URL https://www.eversports.de/s/yoga-and-pole-art-by-selina is valid.\n",
      "2024-02-21 13:42:38,438 - INFO - Processing URL 2/2: https://www.eversports.de/sw/yoga-and-pole-art-by-selina\n",
      "2024-02-21 13:42:39,899 - INFO - URL https://www.eversports.de/sw/yoga-and-pole-art-by-selina is valid.\n"
     ]
    },
    {
     "name": "stdout",
     "output_type": "stream",
     "text": [
      "Scraping Pole Studio Data from https://www.eversports.de/s/yoga-and-pole-art-by-selina...\n",
      "Scraping Workshops Data from https://www.eversports.de/sw/yoga-and-pole-art-by-selina...\n",
      "Scraping Workshop Details from https://www.eversports.de/e/workshop/p_eKWTW...\n",
      "Scraping Workshop Details from https://www.eversports.de/e/workshop/1PmB24I...\n",
      "Scraping Workshop Details from https://www.eversports.de/e/workshop/Zk4neM3...\n",
      "Scraping Workshop Details from https://www.eversports.de/e/workshop/VnmCBGD...\n",
      "Scraping Workshop Details from https://www.eversports.de/e/workshop/qdYG4WC...\n",
      "Scraping Workshop Details from https://www.eversports.de/e/workshop/M4MjCdo...\n",
      "Scraping Workshop Details from https://www.eversports.de/e/workshop/bi8m5zs...\n",
      "Scraping Workshop Details from https://www.eversports.de/e/workshop/B_H90J1...\n",
      "Scraping Workshop Details from https://www.eversports.de/e/workshop/ccLkJAE...\n"
     ]
    },
    {
     "name": "stderr",
     "output_type": "stream",
     "text": [
      "Processing URLs:   8%|▊         | 27/330 [01:24<41:36,  8.24s/it]"
     ]
    },
    {
     "name": "stdout",
     "output_type": "stream",
     "text": [
      "\n",
      "Processing completed.\n",
      "-------------------------------- \n",
      "\n",
      "2024-02-21 13:42:56 - INFO - Scraping Data from: https://www.eversports.de/s/yoga-and-pole-art-by-selina\n",
      "Pole Studio Data: 1 entries\n",
      "2024-02-21 13:42:56 - INFO - Scraping Data from: https://www.eversports.de/s/yoga-and-pole-art-by-selina\n",
      "Workshops Data: 9 entries\n",
      "2024-02-21 13:42:56 - INFO - Scraping Data from: https://www.eversports.de/s/yoga-and-pole-art-by-selina\n",
      "Workshop Details: 9 entries\n",
      "Starting URL reconstruction...\n"
     ]
    },
    {
     "name": "stderr",
     "output_type": "stream",
     "text": [
      "Processing URLs:   8%|▊         | 28/330 [01:25<31:10,  6.19s/it]"
     ]
    },
    {
     "name": "stdout",
     "output_type": "stream",
     "text": [
      "Error during HTTP request: 404 Client Error: Not Found for url: https://www.eversports.de/s/dance-department\n",
      "Converting to DataFrame...\n",
      "Validating URLs...\n",
      "\n",
      "Processing completed.\n",
      "-------------------------------- \n",
      "\n",
      "Starting URL reconstruction...\n"
     ]
    },
    {
     "name": "stderr",
     "output_type": "stream",
     "text": [
      "Processing URLs:   9%|▉         | 29/330 [01:27<24:01,  4.79s/it]"
     ]
    },
    {
     "name": "stdout",
     "output_type": "stream",
     "text": [
      "Error during HTTP request: 404 Client Error: Not Found for url: https://www.eversports.de/s/pole-position-studio\n",
      "Converting to DataFrame...\n",
      "Validating URLs...\n",
      "\n",
      "Processing completed.\n",
      "-------------------------------- \n",
      "\n",
      "Starting URL reconstruction...\n"
     ]
    },
    {
     "name": "stderr",
     "output_type": "stream",
     "text": [
      "2024-02-21 13:43:00,475 - INFO - Processing URL 1/1: https://www.eversports.de/s/the-supergirl-studio\n"
     ]
    },
    {
     "name": "stdout",
     "output_type": "stream",
     "text": [
      "Converting to DataFrame...\n",
      "Validating URLs...\n"
     ]
    },
    {
     "name": "stderr",
     "output_type": "stream",
     "text": [
      "2024-02-21 13:43:01,827 - INFO - URL https://www.eversports.de/s/the-supergirl-studio is valid.\n"
     ]
    },
    {
     "name": "stdout",
     "output_type": "stream",
     "text": [
      "Scraping Pole Studio Data from https://www.eversports.de/s/the-supergirl-studio...\n"
     ]
    },
    {
     "name": "stderr",
     "output_type": "stream",
     "text": [
      "Processing URLs:   9%|▉         | 30/330 [01:30<22:19,  4.47s/it]"
     ]
    },
    {
     "name": "stdout",
     "output_type": "stream",
     "text": [
      "\n",
      "Processing completed.\n",
      "-------------------------------- \n",
      "\n",
      "2024-02-21 13:43:02 - INFO - Scraping Data from: https://www.eversports.de/s/the-supergirl-studio\n",
      "Pole Studio Data: 1 entries\n",
      "Starting URL reconstruction...\n"
     ]
    },
    {
     "name": "stderr",
     "output_type": "stream",
     "text": [
      "Processing URLs:   9%|▉         | 31/330 [01:32<17:25,  3.50s/it]"
     ]
    },
    {
     "name": "stdout",
     "output_type": "stream",
     "text": [
      "Error during HTTP request: 404 Client Error: Not Found for url: https://www.eversports.de/s/pole-yourself\n",
      "Converting to DataFrame...\n",
      "Validating URLs...\n",
      "\n",
      "Processing completed.\n",
      "-------------------------------- \n",
      "\n",
      "Starting URL reconstruction...\n"
     ]
    },
    {
     "name": "stderr",
     "output_type": "stream",
     "text": [
      "2024-02-21 13:43:05,268 - INFO - Processing URL 1/1: https://www.eversports.de/s/flow-academy\n"
     ]
    },
    {
     "name": "stdout",
     "output_type": "stream",
     "text": [
      "Converting to DataFrame...\n",
      "Validating URLs...\n"
     ]
    },
    {
     "name": "stderr",
     "output_type": "stream",
     "text": [
      "2024-02-21 13:43:06,567 - INFO - URL https://www.eversports.de/s/flow-academy is valid.\n"
     ]
    },
    {
     "name": "stdout",
     "output_type": "stream",
     "text": [
      "Scraping Pole Studio Data from https://www.eversports.de/s/flow-academy...\n"
     ]
    },
    {
     "name": "stderr",
     "output_type": "stream",
     "text": [
      "Processing URLs:  10%|▉         | 32/330 [01:34<16:31,  3.33s/it]"
     ]
    },
    {
     "name": "stdout",
     "output_type": "stream",
     "text": [
      "\n",
      "Processing completed.\n",
      "-------------------------------- \n",
      "\n",
      "2024-02-21 13:43:06 - INFO - Scraping Data from: https://www.eversports.de/s/flow-academy\n",
      "Pole Studio Data: 1 entries\n",
      "Starting URL reconstruction...\n"
     ]
    },
    {
     "name": "stderr",
     "output_type": "stream",
     "text": [
      "Processing URLs:  10%|█         | 33/330 [01:37<15:59,  3.23s/it]"
     ]
    },
    {
     "name": "stdout",
     "output_type": "stream",
     "text": [
      "Error during HTTP request: Exceeded 30 redirects.\n",
      "Converting to DataFrame...\n",
      "Validating URLs...\n",
      "\n",
      "Processing completed.\n",
      "-------------------------------- \n",
      "\n",
      "Starting URL reconstruction...\n"
     ]
    },
    {
     "name": "stderr",
     "output_type": "stream",
     "text": [
      "Processing URLs:  10%|█         | 34/330 [01:39<13:00,  2.64s/it]"
     ]
    },
    {
     "name": "stdout",
     "output_type": "stream",
     "text": [
      "Error during HTTP request: 404 Client Error: Not Found for url: https://www.eversports.de/s/vertical-moves---pole-dance-%26-sports\n",
      "Converting to DataFrame...\n",
      "Validating URLs...\n",
      "\n",
      "Processing completed.\n",
      "-------------------------------- \n",
      "\n",
      "Starting URL reconstruction...\n"
     ]
    },
    {
     "name": "stderr",
     "output_type": "stream",
     "text": [
      "Processing URLs:  11%|█         | 35/330 [01:41<11:55,  2.42s/it]"
     ]
    },
    {
     "name": "stdout",
     "output_type": "stream",
     "text": [
      "Error during HTTP request: 404 Client Error: Not Found for url: https://www.eversports.de/s/dance-%26-pole-leverkusen\n",
      "Converting to DataFrame...\n",
      "Validating URLs...\n",
      "\n",
      "Processing completed.\n",
      "-------------------------------- \n",
      "\n",
      "Starting URL reconstruction...\n"
     ]
    },
    {
     "name": "stderr",
     "output_type": "stream",
     "text": [
      "Processing URLs:  11%|█         | 36/330 [01:44<12:35,  2.57s/it]"
     ]
    },
    {
     "name": "stdout",
     "output_type": "stream",
     "text": [
      "Error during HTTP request: Exceeded 30 redirects.\n",
      "Converting to DataFrame...\n",
      "Validating URLs...\n",
      "\n",
      "Processing completed.\n",
      "-------------------------------- \n",
      "\n",
      "Starting URL reconstruction...\n"
     ]
    },
    {
     "name": "stderr",
     "output_type": "stream",
     "text": [
      "2024-02-21 13:43:17,470 - INFO - Processing URL 1/1: https://www.eversports.de/s/pole-dance-balance\n"
     ]
    },
    {
     "name": "stdout",
     "output_type": "stream",
     "text": [
      "Converting to DataFrame...\n",
      "Validating URLs...\n"
     ]
    },
    {
     "name": "stderr",
     "output_type": "stream",
     "text": [
      "2024-02-21 13:43:18,888 - INFO - URL https://www.eversports.de/s/pole-dance-balance is valid.\n"
     ]
    },
    {
     "name": "stdout",
     "output_type": "stream",
     "text": [
      "Scraping Pole Studio Data from https://www.eversports.de/s/pole-dance-balance...\n"
     ]
    },
    {
     "name": "stderr",
     "output_type": "stream",
     "text": [
      "Processing URLs:  11%|█         | 37/330 [01:47<14:01,  2.87s/it]"
     ]
    },
    {
     "name": "stdout",
     "output_type": "stream",
     "text": [
      "\n",
      "Processing completed.\n",
      "-------------------------------- \n",
      "\n",
      "2024-02-21 13:43:19 - INFO - Scraping Data from: https://www.eversports.de/s/pole-dance-balance\n",
      "Pole Studio Data: 1 entries\n",
      "Starting URL reconstruction...\n"
     ]
    },
    {
     "name": "stderr",
     "output_type": "stream",
     "text": [
      "2024-02-21 13:43:21,103 - INFO - Processing URL 1/2: https://www.eversports.de/s/cheesy-heaven\n"
     ]
    },
    {
     "name": "stdout",
     "output_type": "stream",
     "text": [
      "Converting to DataFrame...\n",
      "Validating URLs...\n"
     ]
    },
    {
     "name": "stderr",
     "output_type": "stream",
     "text": [
      "2024-02-21 13:43:22,491 - INFO - URL https://www.eversports.de/s/cheesy-heaven is valid.\n",
      "2024-02-21 13:43:22,492 - INFO - Processing URL 2/2: https://www.eversports.de/sw/cheesy-heaven\n",
      "2024-02-21 13:43:23,939 - INFO - URL https://www.eversports.de/sw/cheesy-heaven is valid.\n"
     ]
    },
    {
     "name": "stdout",
     "output_type": "stream",
     "text": [
      "Scraping Pole Studio Data from https://www.eversports.de/s/cheesy-heaven...\n",
      "Scraping Workshops Data from https://www.eversports.de/sw/cheesy-heaven...\n",
      "Scraping Workshop Details from https://www.eversports.de/e/workshop/GZK4IEa...\n",
      "Scraping Workshop Details from https://www.eversports.de/e/workshop/JPGCNnm...\n",
      "Scraping Workshop Details from https://www.eversports.de/e/workshop/Uh-BQlV...\n",
      "Scraping Workshop Details from https://www.eversports.de/e/workshop/ff2oqQO...\n",
      "Scraping Workshop Details from https://www.eversports.de/e/workshop/eHIKSwb...\n",
      "Scraping Workshop Details from https://www.eversports.de/e/workshop/nXOy05m...\n",
      "Scraping Workshop Details from https://www.eversports.de/e/workshop/-4WimeZ...\n"
     ]
    },
    {
     "name": "stderr",
     "output_type": "stream",
     "text": [
      "Processing URLs:  12%|█▏        | 38/330 [02:04<34:05,  7.01s/it]"
     ]
    },
    {
     "name": "stdout",
     "output_type": "stream",
     "text": [
      "\n",
      "Processing completed.\n",
      "-------------------------------- \n",
      "\n",
      "2024-02-21 13:43:36 - INFO - Scraping Data from: https://www.eversports.de/s/cheesy-heaven\n",
      "Pole Studio Data: 1 entries\n",
      "2024-02-21 13:43:36 - INFO - Scraping Data from: https://www.eversports.de/s/cheesy-heaven\n",
      "Workshops Data: 7 entries\n",
      "2024-02-21 13:43:36 - INFO - Scraping Data from: https://www.eversports.de/s/cheesy-heaven\n",
      "Workshop Details: 7 entries\n",
      "Starting URL reconstruction...\n"
     ]
    },
    {
     "name": "stderr",
     "output_type": "stream",
     "text": [
      "2024-02-21 13:43:37,488 - INFO - Processing URL 1/1: https://www.eversports.de/s/polefly-academy\n"
     ]
    },
    {
     "name": "stdout",
     "output_type": "stream",
     "text": [
      "Converting to DataFrame...\n",
      "Validating URLs...\n"
     ]
    },
    {
     "name": "stderr",
     "output_type": "stream",
     "text": [
      "2024-02-21 13:43:38,903 - INFO - URL https://www.eversports.de/s/polefly-academy is valid.\n"
     ]
    },
    {
     "name": "stdout",
     "output_type": "stream",
     "text": [
      "Scraping Pole Studio Data from https://www.eversports.de/s/polefly-academy...\n"
     ]
    },
    {
     "name": "stderr",
     "output_type": "stream",
     "text": [
      "Processing URLs:  12%|█▏        | 39/330 [02:08<29:18,  6.04s/it]"
     ]
    },
    {
     "name": "stdout",
     "output_type": "stream",
     "text": [
      "\n",
      "Processing completed.\n",
      "-------------------------------- \n",
      "\n",
      "2024-02-21 13:43:39 - INFO - Scraping Data from: https://www.eversports.de/s/polefly-academy\n",
      "Pole Studio Data: 1 entries\n",
      "Starting URL reconstruction...\n"
     ]
    },
    {
     "name": "stderr",
     "output_type": "stream",
     "text": [
      "Processing URLs:  12%|█▏        | 40/330 [02:10<23:22,  4.84s/it]"
     ]
    },
    {
     "name": "stdout",
     "output_type": "stream",
     "text": [
      "Error during HTTP request: 404 Client Error: Not Found for url: https://www.eversports.de/s/vi-dance-essen\n",
      "Converting to DataFrame...\n",
      "Validating URLs...\n",
      "\n",
      "Processing completed.\n",
      "-------------------------------- \n",
      "\n",
      "Starting URL reconstruction...\n"
     ]
    },
    {
     "name": "stderr",
     "output_type": "stream",
     "text": [
      "2024-02-21 13:43:44,197 - INFO - Processing URL 1/1: https://www.eversports.de/s/firstsports-polefitness\n"
     ]
    },
    {
     "name": "stdout",
     "output_type": "stream",
     "text": [
      "Converting to DataFrame...\n",
      "Validating URLs...\n"
     ]
    },
    {
     "name": "stderr",
     "output_type": "stream",
     "text": [
      "2024-02-21 13:43:45,710 - INFO - URL https://www.eversports.de/s/firstsports-polefitness is valid.\n"
     ]
    },
    {
     "name": "stdout",
     "output_type": "stream",
     "text": [
      "Scraping Pole Studio Data from https://www.eversports.de/s/firstsports-polefitness...\n"
     ]
    },
    {
     "name": "stderr",
     "output_type": "stream",
     "text": [
      "Processing URLs:  12%|█▏        | 41/330 [02:14<22:08,  4.60s/it]"
     ]
    },
    {
     "name": "stdout",
     "output_type": "stream",
     "text": [
      "\n",
      "Processing completed.\n",
      "-------------------------------- \n",
      "\n",
      "2024-02-21 13:43:46 - INFO - Scraping Data from: https://www.eversports.de/s/firstsports-polefitness\n",
      "Pole Studio Data: 1 entries\n",
      "Starting URL reconstruction...\n"
     ]
    },
    {
     "name": "stderr",
     "output_type": "stream",
     "text": [
      "Processing URLs:  13%|█▎        | 42/330 [02:17<20:24,  4.25s/it]"
     ]
    },
    {
     "name": "stdout",
     "output_type": "stream",
     "text": [
      "Error during HTTP request: Exceeded 30 redirects.\n",
      "Converting to DataFrame...\n",
      "Validating URLs...\n",
      "\n",
      "Processing completed.\n",
      "-------------------------------- \n",
      "\n",
      "Starting URL reconstruction...\n"
     ]
    },
    {
     "name": "stderr",
     "output_type": "stream",
     "text": [
      "Processing URLs:  13%|█▎        | 43/330 [02:18<15:51,  3.32s/it]"
     ]
    },
    {
     "name": "stdout",
     "output_type": "stream",
     "text": [
      "Error during HTTP request: 404 Client Error: Not Found for url: https://www.eversports.de/s/move-on!-dance-studio-%26-polemotions\n",
      "Converting to DataFrame...\n",
      "Validating URLs...\n",
      "\n",
      "Processing completed.\n",
      "-------------------------------- \n",
      "\n",
      "Starting URL reconstruction...\n"
     ]
    },
    {
     "name": "stderr",
     "output_type": "stream",
     "text": [
      "2024-02-21 13:43:52,144 - INFO - Processing URL 1/1: https://www.eversports.de/s/divapole\n"
     ]
    },
    {
     "name": "stdout",
     "output_type": "stream",
     "text": [
      "Converting to DataFrame...\n",
      "Validating URLs...\n"
     ]
    },
    {
     "name": "stderr",
     "output_type": "stream",
     "text": [
      "2024-02-21 13:43:54,111 - INFO - URL https://www.eversports.de/s/divapole is valid.\n"
     ]
    },
    {
     "name": "stdout",
     "output_type": "stream",
     "text": [
      "Scraping Pole Studio Data from https://www.eversports.de/s/divapole...\n"
     ]
    },
    {
     "name": "stderr",
     "output_type": "stream",
     "text": [
      "Processing URLs:  13%|█▎        | 44/330 [02:23<17:49,  3.74s/it]"
     ]
    },
    {
     "name": "stdout",
     "output_type": "stream",
     "text": [
      "\n",
      "Processing completed.\n",
      "-------------------------------- \n",
      "\n",
      "2024-02-21 13:43:55 - INFO - Scraping Data from: https://www.eversports.de/s/divapole\n",
      "Pole Studio Data: 1 entries\n",
      "Starting URL reconstruction...\n"
     ]
    },
    {
     "name": "stderr",
     "output_type": "stream",
     "text": [
      "2024-02-21 13:43:56,745 - INFO - Processing URL 1/1: https://www.eversports.de/s/studio-nienke\n"
     ]
    },
    {
     "name": "stdout",
     "output_type": "stream",
     "text": [
      "Converting to DataFrame...\n",
      "Validating URLs...\n"
     ]
    },
    {
     "name": "stderr",
     "output_type": "stream",
     "text": [
      "2024-02-21 13:43:58,174 - INFO - URL https://www.eversports.de/s/studio-nienke is valid.\n"
     ]
    },
    {
     "name": "stdout",
     "output_type": "stream",
     "text": [
      "Scraping Pole Studio Data from https://www.eversports.de/s/studio-nienke...\n"
     ]
    },
    {
     "name": "stderr",
     "output_type": "stream",
     "text": [
      "Processing URLs:  14%|█▎        | 45/330 [02:26<16:59,  3.58s/it]"
     ]
    },
    {
     "name": "stdout",
     "output_type": "stream",
     "text": [
      "\n",
      "Processing completed.\n",
      "-------------------------------- \n",
      "\n",
      "2024-02-21 13:43:58 - INFO - Scraping Data from: https://www.eversports.de/s/studio-nienke\n",
      "Pole Studio Data: 1 entries\n",
      "Starting URL reconstruction...\n"
     ]
    },
    {
     "name": "stderr",
     "output_type": "stream",
     "text": [
      "Processing URLs:  14%|█▍        | 46/330 [02:30<16:54,  3.57s/it]"
     ]
    },
    {
     "name": "stdout",
     "output_type": "stream",
     "text": [
      "Error during HTTP request: 404 Client Error: Not Found for url: https://www.eversports.de/s/pole-dance-stuttgart\n",
      "Converting to DataFrame...\n",
      "Validating URLs...\n",
      "\n",
      "Processing completed.\n",
      "-------------------------------- \n",
      "\n",
      "Starting URL reconstruction...\n"
     ]
    },
    {
     "name": "stderr",
     "output_type": "stream",
     "text": [
      "Processing URLs:  14%|█▍        | 47/330 [02:31<13:39,  2.89s/it]"
     ]
    },
    {
     "name": "stdout",
     "output_type": "stream",
     "text": [
      "Error during HTTP request: 404 Client Error: Not Found for url: https://www.eversports.de/s/verticalarts-pole-%26-aerial-fitness\n",
      "Converting to DataFrame...\n",
      "Validating URLs...\n",
      "\n",
      "Processing completed.\n",
      "-------------------------------- \n",
      "\n",
      "Starting URL reconstruction...\n"
     ]
    },
    {
     "name": "stderr",
     "output_type": "stream",
     "text": [
      "2024-02-21 13:44:05,404 - INFO - Processing URL 1/2: https://www.eversports.de/s/pole-dance-factory-amsterdam-oost\n"
     ]
    },
    {
     "name": "stdout",
     "output_type": "stream",
     "text": [
      "Converting to DataFrame...\n",
      "Validating URLs...\n"
     ]
    },
    {
     "name": "stderr",
     "output_type": "stream",
     "text": [
      "2024-02-21 13:44:06,822 - INFO - URL https://www.eversports.de/s/pole-dance-factory-amsterdam-oost is valid.\n",
      "2024-02-21 13:44:06,823 - INFO - Processing URL 2/2: https://www.eversports.de/sw/pole-dance-factory-amsterdam-oost\n",
      "2024-02-21 13:44:08,060 - INFO - URL https://www.eversports.de/sw/pole-dance-factory-amsterdam-oost is not valid.\n"
     ]
    },
    {
     "name": "stdout",
     "output_type": "stream",
     "text": [
      "Scraping Pole Studio Data from https://www.eversports.de/s/pole-dance-factory-amsterdam-oost...\n"
     ]
    },
    {
     "name": "stderr",
     "output_type": "stream",
     "text": [
      "Processing URLs:  15%|█▍        | 48/330 [02:36<16:47,  3.57s/it]"
     ]
    },
    {
     "name": "stdout",
     "output_type": "stream",
     "text": [
      "\n",
      "Processing completed.\n",
      "-------------------------------- \n",
      "\n",
      "2024-02-21 13:44:08 - INFO - Scraping Data from: https://www.eversports.de/s/pole-dance-factory-amsterdam-oost\n",
      "Pole Studio Data: 1 entries\n",
      "Starting URL reconstruction...\n"
     ]
    },
    {
     "name": "stderr",
     "output_type": "stream",
     "text": [
      "Processing URLs:  15%|█▍        | 49/330 [02:37<13:18,  2.84s/it]"
     ]
    },
    {
     "name": "stdout",
     "output_type": "stream",
     "text": [
      "Error during HTTP request: 404 Client Error: Not Found for url: https://www.eversports.de/s/stretch-%26-pole\n",
      "Converting to DataFrame...\n",
      "Validating URLs...\n",
      "\n",
      "Processing completed.\n",
      "-------------------------------- \n",
      "\n",
      "Starting URL reconstruction...\n"
     ]
    },
    {
     "name": "stderr",
     "output_type": "stream",
     "text": [
      "Processing URLs:  15%|█▌        | 50/330 [02:39<11:08,  2.39s/it]"
     ]
    },
    {
     "name": "stdout",
     "output_type": "stream",
     "text": [
      "Error during HTTP request: 404 Client Error: Not Found for url: https://www.eversports.de/s/poledance-worms\n",
      "Converting to DataFrame...\n",
      "Validating URLs...\n",
      "\n",
      "Processing completed.\n",
      "-------------------------------- \n",
      "\n",
      "Starting URL reconstruction...\n"
     ]
    },
    {
     "name": "stderr",
     "output_type": "stream",
     "text": [
      "2024-02-21 13:44:12,396 - INFO - Processing URL 1/2: https://www.eversports.de/s/pole-formance\n"
     ]
    },
    {
     "name": "stdout",
     "output_type": "stream",
     "text": [
      "Converting to DataFrame...\n",
      "Validating URLs...\n"
     ]
    },
    {
     "name": "stderr",
     "output_type": "stream",
     "text": [
      "2024-02-21 13:44:14,087 - INFO - URL https://www.eversports.de/s/pole-formance is valid.\n",
      "2024-02-21 13:44:14,088 - INFO - Processing URL 2/2: https://www.eversports.de/sw/pole-formance\n",
      "2024-02-21 13:44:15,261 - INFO - URL https://www.eversports.de/sw/pole-formance is valid.\n"
     ]
    },
    {
     "name": "stdout",
     "output_type": "stream",
     "text": [
      "Scraping Pole Studio Data from https://www.eversports.de/s/pole-formance...\n",
      "Scraping Workshops Data from https://www.eversports.de/sw/pole-formance...\n",
      "Scraping Workshop Details from https://www.eversports.de/e/workshop/KDYKHQf...\n",
      "Scraping Workshop Details from https://www.eversports.de/e/workshop/BjFbe-z...\n",
      "Scraping Workshop Details from https://www.eversports.de/e/workshop/U58r9aD...\n"
     ]
    },
    {
     "name": "stderr",
     "output_type": "stream",
     "text": [
      "Processing URLs:  15%|█▌        | 51/330 [02:49<22:27,  4.83s/it]"
     ]
    },
    {
     "name": "stdout",
     "output_type": "stream",
     "text": [
      "\n",
      "Processing completed.\n",
      "-------------------------------- \n",
      "\n",
      "2024-02-21 13:44:21 - INFO - Scraping Data from: https://www.eversports.de/s/pole-formance\n",
      "Pole Studio Data: 1 entries\n",
      "2024-02-21 13:44:21 - INFO - Scraping Data from: https://www.eversports.de/s/pole-formance\n",
      "Workshops Data: 3 entries\n",
      "2024-02-21 13:44:21 - INFO - Scraping Data from: https://www.eversports.de/s/pole-formance\n",
      "Workshop Details: 3 entries\n",
      "Starting URL reconstruction...\n"
     ]
    },
    {
     "name": "stderr",
     "output_type": "stream",
     "text": [
      "Processing URLs:  16%|█▌        | 52/330 [02:50<17:17,  3.73s/it]"
     ]
    },
    {
     "name": "stdout",
     "output_type": "stream",
     "text": [
      "Error during HTTP request: 404 Client Error: Not Found for url: https://www.eversports.de/s/vertical-kay-poledance-%26-aerialarts-studio\n",
      "Converting to DataFrame...\n",
      "Validating URLs...\n",
      "\n",
      "Processing completed.\n",
      "-------------------------------- \n",
      "\n",
      "Starting URL reconstruction...\n"
     ]
    },
    {
     "name": "stderr",
     "output_type": "stream",
     "text": [
      "Processing URLs:  16%|█▌        | 53/330 [02:53<16:04,  3.48s/it]"
     ]
    },
    {
     "name": "stdout",
     "output_type": "stream",
     "text": [
      "Error during HTTP request: Exceeded 30 redirects.\n",
      "Converting to DataFrame...\n",
      "Validating URLs...\n",
      "\n",
      "Processing completed.\n",
      "-------------------------------- \n",
      "\n",
      "Starting URL reconstruction...\n"
     ]
    },
    {
     "name": "stderr",
     "output_type": "stream",
     "text": [
      "Processing URLs:  16%|█▋        | 54/330 [02:56<15:14,  3.31s/it]"
     ]
    },
    {
     "name": "stdout",
     "output_type": "stream",
     "text": [
      "Error during HTTP request: 404 Client Error: Not Found for url: https://www.eversports.de/s/home-of-pole\n",
      "Converting to DataFrame...\n",
      "Validating URLs...\n",
      "\n",
      "Processing completed.\n",
      "-------------------------------- \n",
      "\n",
      "Starting URL reconstruction...\n"
     ]
    },
    {
     "name": "stderr",
     "output_type": "stream",
     "text": [
      "Processing URLs:  17%|█▋        | 55/330 [02:57<12:22,  2.70s/it]"
     ]
    },
    {
     "name": "stdout",
     "output_type": "stream",
     "text": [
      "Error during HTTP request: 404 Client Error: Not Found for url: https://www.eversports.de/s/dance-%26-pole-deltawerk\n",
      "Converting to DataFrame...\n",
      "Validating URLs...\n",
      "\n",
      "Processing completed.\n",
      "-------------------------------- \n",
      "\n",
      "Starting URL reconstruction...\n"
     ]
    },
    {
     "name": "stderr",
     "output_type": "stream",
     "text": [
      "Processing URLs:  17%|█▋        | 56/330 [02:59<10:21,  2.27s/it]"
     ]
    },
    {
     "name": "stdout",
     "output_type": "stream",
     "text": [
      "Error during HTTP request: 404 Client Error: Not Found for url: https://www.eversports.de/s/pole-place-imst\n",
      "Converting to DataFrame...\n",
      "Validating URLs...\n",
      "\n",
      "Processing completed.\n",
      "-------------------------------- \n",
      "\n",
      "Starting URL reconstruction...\n"
     ]
    },
    {
     "name": "stderr",
     "output_type": "stream",
     "text": [
      "2024-02-21 13:44:33,029 - INFO - Processing URL 1/2: https://www.eversports.de/s/pole-and-move-ludwigshafen\n"
     ]
    },
    {
     "name": "stdout",
     "output_type": "stream",
     "text": [
      "Converting to DataFrame...\n",
      "Validating URLs...\n"
     ]
    },
    {
     "name": "stderr",
     "output_type": "stream",
     "text": [
      "2024-02-21 13:44:34,427 - INFO - URL https://www.eversports.de/s/pole-and-move-ludwigshafen is valid.\n",
      "2024-02-21 13:44:34,427 - INFO - Processing URL 2/2: https://www.eversports.de/sw/pole-and-move-ludwigshafen\n",
      "2024-02-21 13:44:35,915 - INFO - URL https://www.eversports.de/sw/pole-and-move-ludwigshafen is valid.\n"
     ]
    },
    {
     "name": "stdout",
     "output_type": "stream",
     "text": [
      "Scraping Pole Studio Data from https://www.eversports.de/s/pole-and-move-ludwigshafen...\n",
      "Scraping Workshops Data from https://www.eversports.de/sw/pole-and-move-ludwigshafen...\n",
      "Scraping Workshop Details from https://www.eversports.de/e/workshop/QSBryP0...\n",
      "Scraping Workshop Details from https://www.eversports.de/e/workshop/VBYd7ZF...\n",
      "Scraping Workshop Details from https://www.eversports.de/e/workshop/zTbGfLi...\n",
      "Scraping Workshop Details from https://www.eversports.de/e/workshop/fUoSQuY...\n",
      "Scraping Workshop Details from https://www.eversports.de/e/workshop/Bq8SWzC...\n",
      "Scraping Workshop Details from https://www.eversports.de/e/workshop/ePH29kU...\n",
      "Scraping Workshop Details from https://www.eversports.de/e/workshop/fMcJ4cb...\n",
      "Scraping Workshop Details from https://www.eversports.de/e/workshop/ixC-WNj...\n"
     ]
    },
    {
     "name": "stderr",
     "output_type": "stream",
     "text": [
      "Processing URLs:  17%|█▋        | 57/330 [03:17<32:06,  7.06s/it]"
     ]
    },
    {
     "name": "stdout",
     "output_type": "stream",
     "text": [
      "\n",
      "Processing completed.\n",
      "-------------------------------- \n",
      "\n",
      "2024-02-21 13:44:49 - INFO - Scraping Data from: https://www.eversports.de/s/pole-and-move-ludwigshafen\n",
      "Pole Studio Data: 1 entries\n",
      "2024-02-21 13:44:49 - INFO - Scraping Data from: https://www.eversports.de/s/pole-and-move-ludwigshafen\n",
      "Workshops Data: 8 entries\n",
      "2024-02-21 13:44:49 - INFO - Scraping Data from: https://www.eversports.de/s/pole-and-move-ludwigshafen\n",
      "Workshop Details: 8 entries\n",
      "Starting URL reconstruction...\n"
     ]
    },
    {
     "name": "stderr",
     "output_type": "stream",
     "text": [
      "Processing URLs:  18%|█▊        | 58/330 [03:18<24:08,  5.32s/it]"
     ]
    },
    {
     "name": "stdout",
     "output_type": "stream",
     "text": [
      "Error during HTTP request: 404 Client Error: Not Found for url: https://www.eversports.de/s/aerial-balance\n",
      "Converting to DataFrame...\n",
      "Validating URLs...\n",
      "\n",
      "Processing completed.\n",
      "-------------------------------- \n",
      "\n",
      "Starting URL reconstruction...\n"
     ]
    },
    {
     "name": "stderr",
     "output_type": "stream",
     "text": [
      "2024-02-21 13:44:54,145 - INFO - Processing URL 1/2: https://www.eversports.de/s/body-meets-soul-leipzig\n"
     ]
    },
    {
     "name": "stdout",
     "output_type": "stream",
     "text": [
      "Converting to DataFrame...\n",
      "Validating URLs...\n"
     ]
    },
    {
     "name": "stderr",
     "output_type": "stream",
     "text": [
      "2024-02-21 13:44:55,809 - INFO - URL https://www.eversports.de/s/body-meets-soul-leipzig is valid.\n",
      "2024-02-21 13:44:55,810 - INFO - Processing URL 2/2: https://www.eversports.de/sw/body-meets-soul-leipzig\n",
      "2024-02-21 13:44:57,029 - INFO - URL https://www.eversports.de/sw/body-meets-soul-leipzig is valid.\n"
     ]
    },
    {
     "name": "stdout",
     "output_type": "stream",
     "text": [
      "Scraping Pole Studio Data from https://www.eversports.de/s/body-meets-soul-leipzig...\n",
      "Scraping Workshops Data from https://www.eversports.de/sw/body-meets-soul-leipzig...\n",
      "Scraping Workshop Details from https://www.eversports.de/e/workshop/uO9N1VQ...\n"
     ]
    },
    {
     "name": "stderr",
     "output_type": "stream",
     "text": [
      "Processing URLs:  18%|█▊        | 59/330 [03:28<29:42,  6.58s/it]"
     ]
    },
    {
     "name": "stdout",
     "output_type": "stream",
     "text": [
      "\n",
      "Processing completed.\n",
      "-------------------------------- \n",
      "\n",
      "2024-02-21 13:45:00 - INFO - Scraping Data from: https://www.eversports.de/s/body-meets-soul-leipzig\n",
      "Pole Studio Data: 1 entries\n",
      "2024-02-21 13:45:00 - INFO - Scraping Data from: https://www.eversports.de/s/body-meets-soul-leipzig\n",
      "Workshops Data: 1 entries\n",
      "2024-02-21 13:45:00 - INFO - Scraping Data from: https://www.eversports.de/s/body-meets-soul-leipzig\n",
      "Workshop Details: 1 entries\n",
      "Starting URL reconstruction...\n"
     ]
    },
    {
     "name": "stderr",
     "output_type": "stream",
     "text": [
      "2024-02-21 13:45:02,293 - INFO - Processing URL 1/1: https://www.eversports.de/s/upsidedown-studio-bad-homburg\n"
     ]
    },
    {
     "name": "stdout",
     "output_type": "stream",
     "text": [
      "Converting to DataFrame...\n",
      "Validating URLs...\n"
     ]
    },
    {
     "name": "stderr",
     "output_type": "stream",
     "text": [
      "2024-02-21 13:45:03,672 - INFO - URL https://www.eversports.de/s/upsidedown-studio-bad-homburg is valid.\n"
     ]
    },
    {
     "name": "stdout",
     "output_type": "stream",
     "text": [
      "Scraping Pole Studio Data from https://www.eversports.de/s/upsidedown-studio-bad-homburg...\n"
     ]
    },
    {
     "name": "stderr",
     "output_type": "stream",
     "text": [
      "Processing URLs:  18%|█▊        | 60/330 [03:32<26:13,  5.83s/it]"
     ]
    },
    {
     "name": "stdout",
     "output_type": "stream",
     "text": [
      "\n",
      "Processing completed.\n",
      "-------------------------------- \n",
      "\n",
      "2024-02-21 13:45:04 - INFO - Scraping Data from: https://www.eversports.de/s/upsidedown-studio-bad-homburg\n",
      "Pole Studio Data: 1 entries\n",
      "Starting URL reconstruction...\n"
     ]
    },
    {
     "name": "stderr",
     "output_type": "stream",
     "text": [
      "Processing URLs:  18%|█▊        | 61/330 [03:33<20:06,  4.48s/it]"
     ]
    },
    {
     "name": "stdout",
     "output_type": "stream",
     "text": [
      "Error during HTTP request: 404 Client Error: Not Found for url: https://www.eversports.de/s/orbit-studio\n",
      "Converting to DataFrame...\n",
      "Validating URLs...\n",
      "\n",
      "Processing completed.\n",
      "-------------------------------- \n",
      "\n",
      "Starting URL reconstruction...\n"
     ]
    },
    {
     "name": "stderr",
     "output_type": "stream",
     "text": [
      "2024-02-21 13:45:06,932 - INFO - Processing URL 1/2: https://www.eversports.de/s/poleathletix\n"
     ]
    },
    {
     "name": "stdout",
     "output_type": "stream",
     "text": [
      "Converting to DataFrame...\n",
      "Validating URLs...\n"
     ]
    },
    {
     "name": "stderr",
     "output_type": "stream",
     "text": [
      "2024-02-21 13:45:09,385 - INFO - URL https://www.eversports.de/s/poleathletix is valid.\n",
      "2024-02-21 13:45:09,386 - INFO - Processing URL 2/2: https://www.eversports.de/sw/poleathletix\n",
      "2024-02-21 13:45:12,339 - INFO - URL https://www.eversports.de/sw/poleathletix is valid.\n"
     ]
    },
    {
     "name": "stdout",
     "output_type": "stream",
     "text": [
      "Scraping Pole Studio Data from https://www.eversports.de/s/poleathletix...\n",
      "Scraping Workshops Data from https://www.eversports.de/sw/poleathletix...\n",
      "Scraping Workshop Details from https://www.eversports.de/e/workshop/fWcLCKr...\n",
      "Scraping Workshop Details from https://www.eversports.de/e/workshop/wpcpX0U...\n",
      "Scraping Workshop Details from https://www.eversports.de/e/workshop/csrqGyT...\n",
      "Scraping Workshop Details from https://www.eversports.de/e/workshop/B5-Mkby...\n",
      "Scraping Workshop Details from https://www.eversports.de/e/workshop/U0ioQ4p...\n",
      "Scraping Workshop Details from https://www.eversports.de/e/workshop/GM0YnVC...\n",
      "Scraping Workshop Details from https://www.eversports.de/e/workshop/jad2gf2...\n",
      "Scraping Workshop Details from https://www.eversports.de/e/workshop/3qRUP97...\n",
      "Scraping Workshop Details from https://www.eversports.de/e/workshop/Q4B35ej...\n"
     ]
    },
    {
     "name": "stderr",
     "output_type": "stream",
     "text": [
      "Processing URLs:  19%|█▉        | 62/330 [03:55<42:53,  9.60s/it]"
     ]
    },
    {
     "name": "stdout",
     "output_type": "stream",
     "text": [
      "\n",
      "Processing completed.\n",
      "-------------------------------- \n",
      "\n",
      "2024-02-21 13:45:27 - INFO - Scraping Data from: https://www.eversports.de/s/poleathletix\n",
      "Pole Studio Data: 1 entries\n",
      "2024-02-21 13:45:27 - INFO - Scraping Data from: https://www.eversports.de/s/poleathletix\n",
      "Workshops Data: 9 entries\n",
      "2024-02-21 13:45:27 - INFO - Scraping Data from: https://www.eversports.de/s/poleathletix\n",
      "Workshop Details: 9 entries\n",
      "Starting URL reconstruction...\n"
     ]
    },
    {
     "name": "stderr",
     "output_type": "stream",
     "text": [
      "Processing URLs:  19%|█▉        | 63/330 [03:56<31:31,  7.08s/it]"
     ]
    },
    {
     "name": "stdout",
     "output_type": "stream",
     "text": [
      "Error during HTTP request: 404 Client Error: Not Found for url: https://www.eversports.de/s/drehmoment-pole.aerial.dance\n",
      "Converting to DataFrame...\n",
      "Validating URLs...\n",
      "\n",
      "Processing completed.\n",
      "-------------------------------- \n",
      "\n",
      "Starting URL reconstruction...\n"
     ]
    },
    {
     "name": "stderr",
     "output_type": "stream",
     "text": [
      "2024-02-21 13:45:29,736 - INFO - Processing URL 1/2: https://www.eversports.de/s/center-of-moving-arts\n"
     ]
    },
    {
     "name": "stdout",
     "output_type": "stream",
     "text": [
      "Converting to DataFrame...\n",
      "Validating URLs...\n"
     ]
    },
    {
     "name": "stderr",
     "output_type": "stream",
     "text": [
      "2024-02-21 13:45:31,088 - INFO - URL https://www.eversports.de/s/center-of-moving-arts is valid.\n",
      "2024-02-21 13:45:31,090 - INFO - Processing URL 2/2: https://www.eversports.de/sw/center-of-moving-arts\n",
      "2024-02-21 13:45:32,268 - INFO - URL https://www.eversports.de/sw/center-of-moving-arts is valid.\n"
     ]
    },
    {
     "name": "stdout",
     "output_type": "stream",
     "text": [
      "Scraping Pole Studio Data from https://www.eversports.de/s/center-of-moving-arts...\n",
      "Scraping Workshops Data from https://www.eversports.de/sw/center-of-moving-arts...\n",
      "Scraping Workshop Details from https://www.eversports.de/e/workshop/nXn3jc_...\n"
     ]
    },
    {
     "name": "stderr",
     "output_type": "stream",
     "text": [
      "Processing URLs:  19%|█▉        | 64/330 [04:06<35:53,  8.10s/it]"
     ]
    },
    {
     "name": "stdout",
     "output_type": "stream",
     "text": [
      "\n",
      "Processing completed.\n",
      "-------------------------------- \n",
      "\n",
      "2024-02-21 13:45:38 - INFO - Scraping Data from: https://www.eversports.de/s/center-of-moving-arts\n",
      "Pole Studio Data: 1 entries\n",
      "2024-02-21 13:45:38 - INFO - Scraping Data from: https://www.eversports.de/s/center-of-moving-arts\n",
      "Workshops Data: 1 entries\n",
      "2024-02-21 13:45:38 - INFO - Scraping Data from: https://www.eversports.de/s/center-of-moving-arts\n",
      "Workshop Details: 1 entries\n",
      "Starting URL reconstruction...\n"
     ]
    },
    {
     "name": "stderr",
     "output_type": "stream",
     "text": [
      "Processing URLs:  20%|█▉        | 65/330 [04:08<26:37,  6.03s/it]"
     ]
    },
    {
     "name": "stdout",
     "output_type": "stream",
     "text": [
      "Error during HTTP request: 404 Client Error: Not Found for url: https://www.eversports.de/s/pole-dance-hechingen\n",
      "Converting to DataFrame...\n",
      "Validating URLs...\n",
      "\n",
      "Processing completed.\n",
      "-------------------------------- \n",
      "\n",
      "Starting URL reconstruction...\n"
     ]
    },
    {
     "name": "stderr",
     "output_type": "stream",
     "text": [
      "Processing URLs:  20%|██        | 66/330 [04:09<20:10,  4.58s/it]"
     ]
    },
    {
     "name": "stdout",
     "output_type": "stream",
     "text": [
      "Error during HTTP request: 404 Client Error: Not Found for url: https://www.eversports.de/s/palazzo-sportivo\n",
      "Converting to DataFrame...\n",
      "Validating URLs...\n",
      "\n",
      "Processing completed.\n",
      "-------------------------------- \n",
      "\n",
      "Starting URL reconstruction...\n"
     ]
    },
    {
     "name": "stderr",
     "output_type": "stream",
     "text": [
      "Processing URLs:  20%|██        | 67/330 [04:12<18:24,  4.20s/it]"
     ]
    },
    {
     "name": "stdout",
     "output_type": "stream",
     "text": [
      "Error during HTTP request: Exceeded 30 redirects.\n",
      "Converting to DataFrame...\n",
      "Validating URLs...\n",
      "\n",
      "Processing completed.\n",
      "-------------------------------- \n",
      "\n",
      "Starting URL reconstruction...\n"
     ]
    },
    {
     "name": "stderr",
     "output_type": "stream",
     "text": [
      "Processing URLs:  21%|██        | 68/330 [04:13<14:28,  3.32s/it]"
     ]
    },
    {
     "name": "stdout",
     "output_type": "stream",
     "text": [
      "Error during HTTP request: 404 Client Error: Not Found for url: https://www.eversports.de/s/poledance!-aerial-%26-fitness-schleswig\n",
      "Converting to DataFrame...\n",
      "Validating URLs...\n",
      "\n",
      "Processing completed.\n",
      "-------------------------------- \n",
      "\n",
      "Starting URL reconstruction...\n"
     ]
    },
    {
     "name": "stderr",
     "output_type": "stream",
     "text": [
      "Processing URLs:  21%|██        | 69/330 [04:14<11:38,  2.68s/it]"
     ]
    },
    {
     "name": "stdout",
     "output_type": "stream",
     "text": [
      "Error during HTTP request: 404 Client Error: Not Found for url: https://www.eversports.de/s/poledance-zwickau-e.-v.\n",
      "Converting to DataFrame...\n",
      "Validating URLs...\n",
      "\n",
      "Processing completed.\n",
      "-------------------------------- \n",
      "\n",
      "Starting URL reconstruction...\n"
     ]
    },
    {
     "name": "stderr",
     "output_type": "stream",
     "text": [
      "Processing URLs:  21%|██        | 70/330 [04:16<09:43,  2.24s/it]"
     ]
    },
    {
     "name": "stdout",
     "output_type": "stream",
     "text": [
      "Error during HTTP request: 404 Client Error: Not Found for url: https://www.eversports.de/s/polerinas-art-pole-%26aerial-fitness\n",
      "Converting to DataFrame...\n",
      "Validating URLs...\n",
      "\n",
      "Processing completed.\n",
      "-------------------------------- \n",
      "\n",
      "Starting URL reconstruction...\n"
     ]
    },
    {
     "name": "stderr",
     "output_type": "stream",
     "text": [
      "Processing URLs:  22%|██▏       | 71/330 [04:17<08:21,  1.94s/it]"
     ]
    },
    {
     "name": "stdout",
     "output_type": "stream",
     "text": [
      "Error during HTTP request: 404 Client Error: Not Found for url: https://www.eversports.de/s/pole-dance-studio-waiblingen\n",
      "Converting to DataFrame...\n",
      "Validating URLs...\n",
      "\n",
      "Processing completed.\n",
      "-------------------------------- \n",
      "\n",
      "Starting URL reconstruction...\n"
     ]
    },
    {
     "name": "stderr",
     "output_type": "stream",
     "text": [
      "Processing URLs:  22%|██▏       | 72/330 [04:18<07:22,  1.71s/it]"
     ]
    },
    {
     "name": "stdout",
     "output_type": "stream",
     "text": [
      "Error during HTTP request: 404 Client Error: Not Found for url: https://www.eversports.de/s/lea-aqua\n",
      "Converting to DataFrame...\n",
      "Validating URLs...\n",
      "\n",
      "Processing completed.\n",
      "-------------------------------- \n",
      "\n",
      "Starting URL reconstruction...\n"
     ]
    },
    {
     "name": "stderr",
     "output_type": "stream",
     "text": [
      "2024-02-21 13:45:51,984 - INFO - Processing URL 1/1: https://www.eversports.de/s/polemotions-filderstadt\n"
     ]
    },
    {
     "name": "stdout",
     "output_type": "stream",
     "text": [
      "Converting to DataFrame...\n",
      "Validating URLs...\n"
     ]
    },
    {
     "name": "stderr",
     "output_type": "stream",
     "text": [
      "2024-02-21 13:45:54,011 - INFO - URL https://www.eversports.de/s/polemotions-filderstadt is valid.\n"
     ]
    },
    {
     "name": "stdout",
     "output_type": "stream",
     "text": [
      "Scraping Pole Studio Data from https://www.eversports.de/s/polemotions-filderstadt...\n"
     ]
    },
    {
     "name": "stderr",
     "output_type": "stream",
     "text": [
      "Processing URLs:  22%|██▏       | 73/330 [04:22<10:06,  2.36s/it]"
     ]
    },
    {
     "name": "stdout",
     "output_type": "stream",
     "text": [
      "\n",
      "Processing completed.\n",
      "-------------------------------- \n",
      "\n",
      "2024-02-21 13:45:54 - INFO - Scraping Data from: https://www.eversports.de/s/polemotions-filderstadt\n",
      "Pole Studio Data: 1 entries\n",
      "Starting URL reconstruction...\n"
     ]
    },
    {
     "name": "stderr",
     "output_type": "stream",
     "text": [
      "2024-02-21 13:45:55,763 - INFO - Processing URL 1/1: https://www.eversports.de/s/pole-flow-berlin\n"
     ]
    },
    {
     "name": "stdout",
     "output_type": "stream",
     "text": [
      "Converting to DataFrame...\n",
      "Validating URLs...\n"
     ]
    },
    {
     "name": "stderr",
     "output_type": "stream",
     "text": [
      "2024-02-21 13:45:57,004 - INFO - URL https://www.eversports.de/s/pole-flow-berlin is valid.\n"
     ]
    },
    {
     "name": "stdout",
     "output_type": "stream",
     "text": [
      "Scraping Pole Studio Data from https://www.eversports.de/s/pole-flow-berlin...\n",
      "\n",
      "Processing completed.\n",
      "-------------------------------- \n",
      "\n"
     ]
    },
    {
     "name": "stderr",
     "output_type": "stream",
     "text": [
      "Processing URLs:  22%|██▏       | 74/330 [04:25<10:39,  2.50s/it]"
     ]
    },
    {
     "name": "stdout",
     "output_type": "stream",
     "text": [
      "2024-02-21 13:45:57 - INFO - Scraping Data from: https://www.eversports.de/s/pole-flow-berlin\n",
      "Pole Studio Data: 1 entries\n",
      "Starting URL reconstruction...\n"
     ]
    },
    {
     "name": "stderr",
     "output_type": "stream",
     "text": [
      "2024-02-21 13:45:58,941 - INFO - Processing URL 1/1: https://www.eversports.de/s/artletik-ug-laufen-und-meer\n"
     ]
    },
    {
     "name": "stdout",
     "output_type": "stream",
     "text": [
      "Converting to DataFrame...\n",
      "Validating URLs...\n"
     ]
    },
    {
     "name": "stderr",
     "output_type": "stream",
     "text": [
      "2024-02-21 13:46:00,171 - INFO - URL https://www.eversports.de/s/artletik-ug-laufen-und-meer is valid.\n"
     ]
    },
    {
     "name": "stdout",
     "output_type": "stream",
     "text": [
      "Scraping Pole Studio Data from https://www.eversports.de/s/artletik-ug-laufen-und-meer...\n"
     ]
    },
    {
     "name": "stderr",
     "output_type": "stream",
     "text": [
      "Processing URLs:  23%|██▎       | 75/330 [04:28<11:31,  2.71s/it]"
     ]
    },
    {
     "name": "stdout",
     "output_type": "stream",
     "text": [
      "\n",
      "Processing completed.\n",
      "-------------------------------- \n",
      "\n",
      "2024-02-21 13:46:00 - INFO - Scraping Data from: https://www.eversports.de/s/artletik-ug-laufen-und-meer\n",
      "Pole Studio Data: 1 entries\n",
      "Starting URL reconstruction...\n"
     ]
    },
    {
     "name": "stderr",
     "output_type": "stream",
     "text": [
      "Processing URLs:  23%|██▎       | 76/330 [04:29<09:53,  2.34s/it]"
     ]
    },
    {
     "name": "stdout",
     "output_type": "stream",
     "text": [
      "Error during HTTP request: 404 Client Error: Not Found for url: https://www.eversports.de/s/tanzteufel-emmendingen\n",
      "Converting to DataFrame...\n",
      "Validating URLs...\n",
      "\n",
      "Processing completed.\n",
      "-------------------------------- \n",
      "\n",
      "Starting URL reconstruction...\n"
     ]
    },
    {
     "name": "stderr",
     "output_type": "stream",
     "text": [
      "Processing URLs:  23%|██▎       | 77/330 [04:31<08:21,  1.98s/it]"
     ]
    },
    {
     "name": "stdout",
     "output_type": "stream",
     "text": [
      "Error during HTTP request: 404 Client Error: Not Found for url: https://www.eversports.de/s/just-fly\n",
      "Converting to DataFrame...\n",
      "Validating URLs...\n",
      "\n",
      "Processing completed.\n",
      "-------------------------------- \n",
      "\n",
      "Starting URL reconstruction...\n"
     ]
    },
    {
     "name": "stderr",
     "output_type": "stream",
     "text": [
      "Processing URLs:  24%|██▎       | 78/330 [04:32<07:18,  1.74s/it]"
     ]
    },
    {
     "name": "stdout",
     "output_type": "stream",
     "text": [
      "Error during HTTP request: 404 Client Error: Not Found for url: https://www.eversports.de/s/pole-%40-bremerhaven\n",
      "Converting to DataFrame...\n",
      "Validating URLs...\n",
      "\n",
      "Processing completed.\n",
      "-------------------------------- \n",
      "\n",
      "Starting URL reconstruction...\n"
     ]
    },
    {
     "name": "stderr",
     "output_type": "stream",
     "text": [
      "Processing URLs:  24%|██▍       | 79/330 [04:33<06:34,  1.57s/it]"
     ]
    },
    {
     "name": "stdout",
     "output_type": "stream",
     "text": [
      "Error during HTTP request: 404 Client Error: Not Found for url: https://www.eversports.de/s/schwerelos-bochum\n",
      "Converting to DataFrame...\n",
      "Validating URLs...\n",
      "\n",
      "Processing completed.\n",
      "-------------------------------- \n",
      "\n",
      "Starting URL reconstruction...\n"
     ]
    },
    {
     "name": "stderr",
     "output_type": "stream",
     "text": [
      "2024-02-21 13:46:06,868 - INFO - Processing URL 1/1: https://www.eversports.de/s/nisa-verticals\n"
     ]
    },
    {
     "name": "stdout",
     "output_type": "stream",
     "text": [
      "Converting to DataFrame...\n",
      "Validating URLs...\n"
     ]
    },
    {
     "name": "stderr",
     "output_type": "stream",
     "text": [
      "2024-02-21 13:46:08,121 - INFO - URL https://www.eversports.de/s/nisa-verticals is valid.\n"
     ]
    },
    {
     "name": "stdout",
     "output_type": "stream",
     "text": [
      "Scraping Pole Studio Data from https://www.eversports.de/s/nisa-verticals...\n"
     ]
    },
    {
     "name": "stderr",
     "output_type": "stream",
     "text": [
      "Processing URLs:  24%|██▍       | 80/330 [04:36<08:22,  2.01s/it]"
     ]
    },
    {
     "name": "stdout",
     "output_type": "stream",
     "text": [
      "\n",
      "Processing completed.\n",
      "-------------------------------- \n",
      "\n",
      "2024-02-21 13:46:08 - INFO - Scraping Data from: https://www.eversports.de/s/nisa-verticals\n",
      "Pole Studio Data: 1 entries\n",
      "Starting URL reconstruction...\n"
     ]
    },
    {
     "name": "stderr",
     "output_type": "stream",
     "text": [
      "Processing URLs:  25%|██▍       | 81/330 [04:38<08:02,  1.94s/it]"
     ]
    },
    {
     "name": "stdout",
     "output_type": "stream",
     "text": [
      "Error during HTTP request: 404 Client Error: Not Found for url: https://www.eversports.de/s/tanzschule-step-up\n",
      "Converting to DataFrame...\n",
      "Validating URLs...\n",
      "\n",
      "Processing completed.\n",
      "-------------------------------- \n",
      "\n",
      "Starting URL reconstruction...\n"
     ]
    },
    {
     "name": "stderr",
     "output_type": "stream",
     "text": [
      "Processing URLs:  25%|██▍       | 82/330 [04:44<13:16,  3.21s/it]"
     ]
    },
    {
     "name": "stdout",
     "output_type": "stream",
     "text": [
      "Error during HTTP request: Exceeded 30 redirects.\n",
      "Converting to DataFrame...\n",
      "Validating URLs...\n",
      "\n",
      "Processing completed.\n",
      "-------------------------------- \n",
      "\n",
      "Starting URL reconstruction...\n"
     ]
    },
    {
     "name": "stderr",
     "output_type": "stream",
     "text": [
      "Processing URLs:  25%|██▌       | 83/330 [04:45<10:49,  2.63s/it]"
     ]
    },
    {
     "name": "stdout",
     "output_type": "stream",
     "text": [
      "Error during HTTP request: 404 Client Error: Not Found for url: https://www.eversports.de/s/nordpole-studio\n",
      "Converting to DataFrame...\n",
      "Validating URLs...\n",
      "\n",
      "Processing completed.\n",
      "-------------------------------- \n",
      "\n",
      "Starting URL reconstruction...\n"
     ]
    },
    {
     "name": "stderr",
     "output_type": "stream",
     "text": [
      "2024-02-21 13:46:19,119 - INFO - Processing URL 1/2: https://www.eversports.de/s/css-aerial-dance-studio\n"
     ]
    },
    {
     "name": "stdout",
     "output_type": "stream",
     "text": [
      "Converting to DataFrame...\n",
      "Validating URLs...\n"
     ]
    },
    {
     "name": "stderr",
     "output_type": "stream",
     "text": [
      "2024-02-21 13:46:20,603 - INFO - URL https://www.eversports.de/s/css-aerial-dance-studio is valid.\n",
      "2024-02-21 13:46:20,604 - INFO - Processing URL 2/2: https://www.eversports.de/sw/css-aerial-dance-studio\n",
      "2024-02-21 13:46:22,434 - INFO - URL https://www.eversports.de/sw/css-aerial-dance-studio is valid.\n"
     ]
    },
    {
     "name": "stdout",
     "output_type": "stream",
     "text": [
      "Scraping Pole Studio Data from https://www.eversports.de/s/css-aerial-dance-studio...\n",
      "Scraping Workshops Data from https://www.eversports.de/sw/css-aerial-dance-studio...\n",
      "Scraping Workshop Details from https://www.eversports.de/e/workshop/1nKl3tW...\n",
      "Scraping Workshop Details from https://www.eversports.de/e/workshop/T4W36_s...\n",
      "Scraping Workshop Details from https://www.eversports.de/e/workshop/4UBPXcv...\n",
      "Scraping Workshop Details from https://www.eversports.de/e/workshop/JIRXZ-d...\n",
      "Scraping Workshop Details from https://www.eversports.de/e/workshop/MZYsjj7...\n"
     ]
    },
    {
     "name": "stderr",
     "output_type": "stream",
     "text": [
      "Processing URLs:  25%|██▌       | 84/330 [04:59<24:05,  5.87s/it]"
     ]
    },
    {
     "name": "stdout",
     "output_type": "stream",
     "text": [
      "\n",
      "Processing completed.\n",
      "-------------------------------- \n",
      "\n",
      "2024-02-21 13:46:31 - INFO - Scraping Data from: https://www.eversports.de/s/css-aerial-dance-studio\n",
      "Pole Studio Data: 1 entries\n",
      "2024-02-21 13:46:31 - INFO - Scraping Data from: https://www.eversports.de/s/css-aerial-dance-studio\n",
      "Workshops Data: 5 entries\n",
      "2024-02-21 13:46:31 - INFO - Scraping Data from: https://www.eversports.de/s/css-aerial-dance-studio\n",
      "Workshop Details: 5 entries\n",
      "Starting URL reconstruction...\n"
     ]
    },
    {
     "name": "stderr",
     "output_type": "stream",
     "text": [
      "2024-02-21 13:46:32,610 - INFO - Processing URL 1/2: https://www.eversports.de/s/pole-and-move-ketsch\n"
     ]
    },
    {
     "name": "stdout",
     "output_type": "stream",
     "text": [
      "Converting to DataFrame...\n",
      "Validating URLs...\n"
     ]
    },
    {
     "name": "stderr",
     "output_type": "stream",
     "text": [
      "2024-02-21 13:46:34,026 - INFO - URL https://www.eversports.de/s/pole-and-move-ketsch is valid.\n",
      "2024-02-21 13:46:34,027 - INFO - Processing URL 2/2: https://www.eversports.de/sw/pole-and-move-ketsch\n",
      "2024-02-21 13:46:36,664 - INFO - URL https://www.eversports.de/sw/pole-and-move-ketsch is valid.\n"
     ]
    },
    {
     "name": "stdout",
     "output_type": "stream",
     "text": [
      "Scraping Pole Studio Data from https://www.eversports.de/s/pole-and-move-ketsch...\n",
      "Scraping Workshops Data from https://www.eversports.de/sw/pole-and-move-ketsch...\n",
      "Scraping Workshop Details from https://www.eversports.de/e/workshop/nZwqDWw...\n",
      "Scraping Workshop Details from https://www.eversports.de/e/workshop/NCNYd8p...\n",
      "Scraping Workshop Details from https://www.eversports.de/e/workshop/nz_DDh6...\n",
      "Scraping Workshop Details from https://www.eversports.de/e/workshop/DGu8Tq6...\n"
     ]
    },
    {
     "name": "stderr",
     "output_type": "stream",
     "text": [
      "Processing URLs:  26%|██▌       | 85/330 [05:11<32:23,  7.93s/it]"
     ]
    },
    {
     "name": "stdout",
     "output_type": "stream",
     "text": [
      "\n",
      "Processing completed.\n",
      "-------------------------------- \n",
      "\n",
      "2024-02-21 13:46:43 - INFO - Scraping Data from: https://www.eversports.de/s/pole-and-move-ketsch\n",
      "Pole Studio Data: 1 entries\n",
      "2024-02-21 13:46:43 - INFO - Scraping Data from: https://www.eversports.de/s/pole-and-move-ketsch\n",
      "Workshops Data: 4 entries\n",
      "2024-02-21 13:46:43 - INFO - Scraping Data from: https://www.eversports.de/s/pole-and-move-ketsch\n",
      "Workshop Details: 4 entries\n",
      "Starting URL reconstruction...\n"
     ]
    },
    {
     "name": "stderr",
     "output_type": "stream",
     "text": [
      "Processing URLs:  26%|██▌       | 86/330 [05:13<23:54,  5.88s/it]"
     ]
    },
    {
     "name": "stdout",
     "output_type": "stream",
     "text": [
      "Error during HTTP request: 404 Client Error: Not Found for url: https://www.eversports.de/s/poledance!-aerial-%26-fitness-kiel\n",
      "Converting to DataFrame...\n",
      "Validating URLs...\n",
      "\n",
      "Processing completed.\n",
      "-------------------------------- \n",
      "\n",
      "Starting URL reconstruction...\n"
     ]
    },
    {
     "name": "stderr",
     "output_type": "stream",
     "text": [
      "Processing URLs:  26%|██▋       | 87/330 [05:14<18:03,  4.46s/it]"
     ]
    },
    {
     "name": "stdout",
     "output_type": "stream",
     "text": [
      "Error during HTTP request: 404 Client Error: Not Found for url: https://www.eversports.de/s/empire-pole\n",
      "Converting to DataFrame...\n",
      "Validating URLs...\n",
      "\n",
      "Processing completed.\n",
      "-------------------------------- \n",
      "\n",
      "Starting URL reconstruction...\n"
     ]
    },
    {
     "name": "stderr",
     "output_type": "stream",
     "text": [
      "Processing URLs:  27%|██▋       | 88/330 [05:15<14:06,  3.50s/it]"
     ]
    },
    {
     "name": "stdout",
     "output_type": "stream",
     "text": [
      "Error during HTTP request: 404 Client Error: Not Found for url: https://www.eversports.de/s/poleria\n",
      "Converting to DataFrame...\n",
      "Validating URLs...\n",
      "\n",
      "Processing completed.\n",
      "-------------------------------- \n",
      "\n",
      "Starting URL reconstruction...\n"
     ]
    },
    {
     "name": "stderr",
     "output_type": "stream",
     "text": [
      "Processing URLs:  27%|██▋       | 89/330 [05:16<11:16,  2.81s/it]"
     ]
    },
    {
     "name": "stdout",
     "output_type": "stream",
     "text": [
      "Error during HTTP request: 404 Client Error: Not Found for url: https://www.eversports.de/s/happy-pole-place\n",
      "Converting to DataFrame...\n",
      "Validating URLs...\n",
      "\n",
      "Processing completed.\n",
      "-------------------------------- \n",
      "\n",
      "Starting URL reconstruction...\n"
     ]
    },
    {
     "name": "stderr",
     "output_type": "stream",
     "text": [
      "2024-02-21 13:46:49,814 - INFO - Processing URL 1/1: https://www.eversports.de/s/flow-fusion-pole-aerial-dance-studio\n"
     ]
    },
    {
     "name": "stdout",
     "output_type": "stream",
     "text": [
      "Converting to DataFrame...\n",
      "Validating URLs...\n"
     ]
    },
    {
     "name": "stderr",
     "output_type": "stream",
     "text": [
      "2024-02-21 13:46:51,260 - INFO - URL https://www.eversports.de/s/flow-fusion-pole-aerial-dance-studio is valid.\n"
     ]
    },
    {
     "name": "stdout",
     "output_type": "stream",
     "text": [
      "Scraping Pole Studio Data from https://www.eversports.de/s/flow-fusion-pole-aerial-dance-studio...\n"
     ]
    },
    {
     "name": "stderr",
     "output_type": "stream",
     "text": [
      "Processing URLs:  27%|██▋       | 90/330 [05:19<11:32,  2.88s/it]"
     ]
    },
    {
     "name": "stdout",
     "output_type": "stream",
     "text": [
      "\n",
      "Processing completed.\n",
      "-------------------------------- \n",
      "\n",
      "2024-02-21 13:46:51 - INFO - Scraping Data from: https://www.eversports.de/s/flow-fusion-pole-aerial-dance-studio\n",
      "Pole Studio Data: 1 entries\n",
      "Starting URL reconstruction...\n"
     ]
    },
    {
     "name": "stderr",
     "output_type": "stream",
     "text": [
      "Processing URLs:  28%|██▊       | 91/330 [05:20<09:28,  2.38s/it]"
     ]
    },
    {
     "name": "stdout",
     "output_type": "stream",
     "text": [
      "Error during HTTP request: 404 Client Error: Not Found for url: https://www.eversports.de/s/metropole-dance---now2\n",
      "Converting to DataFrame...\n",
      "Validating URLs...\n",
      "\n",
      "Processing completed.\n",
      "-------------------------------- \n",
      "\n",
      "Starting URL reconstruction...\n"
     ]
    },
    {
     "name": "stderr",
     "output_type": "stream",
     "text": [
      "2024-02-21 13:46:54,201 - INFO - Processing URL 1/2: https://www.eversports.de/s/pole-faction-rhein-neckar\n"
     ]
    },
    {
     "name": "stdout",
     "output_type": "stream",
     "text": [
      "Converting to DataFrame...\n",
      "Validating URLs...\n"
     ]
    },
    {
     "name": "stderr",
     "output_type": "stream",
     "text": [
      "2024-02-21 13:46:55,491 - INFO - URL https://www.eversports.de/s/pole-faction-rhein-neckar is valid.\n",
      "2024-02-21 13:46:55,492 - INFO - Processing URL 2/2: https://www.eversports.de/sw/pole-faction-rhein-neckar\n",
      "2024-02-21 13:46:56,702 - INFO - URL https://www.eversports.de/sw/pole-faction-rhein-neckar is valid.\n"
     ]
    },
    {
     "name": "stdout",
     "output_type": "stream",
     "text": [
      "Scraping Pole Studio Data from https://www.eversports.de/s/pole-faction-rhein-neckar...\n",
      "Scraping Workshops Data from https://www.eversports.de/sw/pole-faction-rhein-neckar...\n",
      "Scraping Workshop Details from https://www.eversports.de/e/workshop/VtQCbbh...\n",
      "Scraping Workshop Details from https://www.eversports.de/e/workshop/Pi9Ivxi...\n"
     ]
    },
    {
     "name": "stderr",
     "output_type": "stream",
     "text": [
      "Processing URLs:  28%|██▊       | 92/330 [05:30<17:29,  4.41s/it]"
     ]
    },
    {
     "name": "stdout",
     "output_type": "stream",
     "text": [
      "\n",
      "Processing completed.\n",
      "-------------------------------- \n",
      "\n",
      "2024-02-21 13:47:01 - INFO - Scraping Data from: https://www.eversports.de/s/pole-faction-rhein-neckar\n",
      "Pole Studio Data: 1 entries\n",
      "2024-02-21 13:47:01 - INFO - Scraping Data from: https://www.eversports.de/s/pole-faction-rhein-neckar\n",
      "Workshops Data: 2 entries\n",
      "2024-02-21 13:47:01 - INFO - Scraping Data from: https://www.eversports.de/s/pole-faction-rhein-neckar\n",
      "Workshop Details: 2 entries\n",
      "Starting URL reconstruction...\n"
     ]
    },
    {
     "name": "stderr",
     "output_type": "stream",
     "text": [
      "2024-02-21 13:47:03,962 - INFO - Processing URL 1/2: https://www.eversports.de/s/ramonas-tanzschmiede\n"
     ]
    },
    {
     "name": "stdout",
     "output_type": "stream",
     "text": [
      "Converting to DataFrame...\n",
      "Validating URLs...\n"
     ]
    },
    {
     "name": "stderr",
     "output_type": "stream",
     "text": [
      "2024-02-21 13:47:05,466 - INFO - URL https://www.eversports.de/s/ramonas-tanzschmiede is valid.\n",
      "2024-02-21 13:47:05,467 - INFO - Processing URL 2/2: https://www.eversports.de/sw/ramonas-tanzschmiede\n",
      "2024-02-21 13:47:06,651 - INFO - URL https://www.eversports.de/sw/ramonas-tanzschmiede is valid.\n"
     ]
    },
    {
     "name": "stdout",
     "output_type": "stream",
     "text": [
      "Scraping Pole Studio Data from https://www.eversports.de/s/ramonas-tanzschmiede...\n",
      "Scraping Workshops Data from https://www.eversports.de/sw/ramonas-tanzschmiede...\n",
      "Scraping Workshop Details from https://www.eversports.de/e/workshop/h6T780l...\n",
      "Scraping Workshop Details from https://www.eversports.de/e/workshop/HZmJGaW...\n"
     ]
    },
    {
     "name": "stderr",
     "output_type": "stream",
     "text": [
      "Processing URLs:  28%|██▊       | 93/330 [05:41<25:13,  6.39s/it]"
     ]
    },
    {
     "name": "stdout",
     "output_type": "stream",
     "text": [
      "\n",
      "Processing completed.\n",
      "-------------------------------- \n",
      "\n",
      "2024-02-21 13:47:12 - INFO - Scraping Data from: https://www.eversports.de/s/ramonas-tanzschmiede\n",
      "Pole Studio Data: 1 entries\n",
      "2024-02-21 13:47:12 - INFO - Scraping Data from: https://www.eversports.de/s/ramonas-tanzschmiede\n",
      "Workshops Data: 2 entries\n",
      "2024-02-21 13:47:12 - INFO - Scraping Data from: https://www.eversports.de/s/ramonas-tanzschmiede\n",
      "Workshop Details: 2 entries\n",
      "Starting URL reconstruction...\n"
     ]
    },
    {
     "name": "stderr",
     "output_type": "stream",
     "text": [
      "2024-02-21 13:47:14,858 - INFO - Processing URL 1/1: https://www.eversports.de/s/polestructions\n"
     ]
    },
    {
     "name": "stdout",
     "output_type": "stream",
     "text": [
      "Converting to DataFrame...\n",
      "Validating URLs...\n"
     ]
    },
    {
     "name": "stderr",
     "output_type": "stream",
     "text": [
      "2024-02-21 13:47:16,438 - INFO - URL https://www.eversports.de/s/polestructions is valid.\n"
     ]
    },
    {
     "name": "stdout",
     "output_type": "stream",
     "text": [
      "Scraping Pole Studio Data from https://www.eversports.de/s/polestructions...\n"
     ]
    },
    {
     "name": "stderr",
     "output_type": "stream",
     "text": [
      "Processing URLs:  28%|██▊       | 94/330 [05:45<22:17,  5.67s/it]"
     ]
    },
    {
     "name": "stdout",
     "output_type": "stream",
     "text": [
      "\n",
      "Processing completed.\n",
      "-------------------------------- \n",
      "\n",
      "2024-02-21 13:47:16 - INFO - Scraping Data from: https://www.eversports.de/s/polestructions\n",
      "Pole Studio Data: 1 entries\n",
      "Starting URL reconstruction...\n"
     ]
    },
    {
     "name": "stderr",
     "output_type": "stream",
     "text": [
      "Processing URLs:  29%|██▉       | 95/330 [05:46<17:01,  4.35s/it]"
     ]
    },
    {
     "name": "stdout",
     "output_type": "stream",
     "text": [
      "Error during HTTP request: 404 Client Error: Not Found for url: https://www.eversports.de/s/crazy-up-%26-pole\n",
      "Converting to DataFrame...\n",
      "Validating URLs...\n",
      "\n",
      "Processing completed.\n",
      "-------------------------------- \n",
      "\n",
      "Starting URL reconstruction...\n"
     ]
    },
    {
     "name": "stderr",
     "output_type": "stream",
     "text": [
      "Processing URLs:  29%|██▉       | 96/330 [05:47<13:14,  3.40s/it]"
     ]
    },
    {
     "name": "stdout",
     "output_type": "stream",
     "text": [
      "Error during HTTP request: 404 Client Error: Not Found for url: https://www.eversports.de/s/fanlin-studio---pole-%26-aerial-dance\n",
      "Converting to DataFrame...\n",
      "Validating URLs...\n",
      "\n",
      "Processing completed.\n",
      "-------------------------------- \n",
      "\n",
      "Starting URL reconstruction...\n"
     ]
    },
    {
     "name": "stderr",
     "output_type": "stream",
     "text": [
      "Processing URLs:  29%|██▉       | 97/330 [05:48<10:37,  2.74s/it]"
     ]
    },
    {
     "name": "stdout",
     "output_type": "stream",
     "text": [
      "Error during HTTP request: 404 Client Error: Not Found for url: https://www.eversports.de/s/femella-studio\n",
      "Converting to DataFrame...\n",
      "Validating URLs...\n",
      "\n",
      "Processing completed.\n",
      "-------------------------------- \n",
      "\n",
      "Starting URL reconstruction...\n"
     ]
    },
    {
     "name": "stderr",
     "output_type": "stream",
     "text": [
      "Processing URLs:  30%|██▉       | 98/330 [05:50<08:59,  2.32s/it]"
     ]
    },
    {
     "name": "stdout",
     "output_type": "stream",
     "text": [
      "Error during HTTP request: 404 Client Error: Not Found for url: https://www.eversports.de/s/infinity-polesports-burgkirchen\n",
      "Converting to DataFrame...\n",
      "Validating URLs...\n",
      "\n",
      "Processing completed.\n",
      "-------------------------------- \n",
      "\n",
      "Starting URL reconstruction...\n"
     ]
    },
    {
     "name": "stderr",
     "output_type": "stream",
     "text": [
      "Processing URLs:  30%|███       | 99/330 [05:51<07:37,  1.98s/it]"
     ]
    },
    {
     "name": "stdout",
     "output_type": "stream",
     "text": [
      "Error during HTTP request: 404 Client Error: Not Found for url: https://www.eversports.de/s/polea---pole-and-aerial-dance\n",
      "Converting to DataFrame...\n",
      "Validating URLs...\n",
      "\n",
      "Processing completed.\n",
      "-------------------------------- \n",
      "\n",
      "Starting URL reconstruction...\n"
     ]
    },
    {
     "name": "stderr",
     "output_type": "stream",
     "text": [
      "Processing URLs:  30%|███       | 100/330 [05:52<06:37,  1.73s/it]"
     ]
    },
    {
     "name": "stdout",
     "output_type": "stream",
     "text": [
      "Error during HTTP request: 404 Client Error: Not Found for url: https://www.eversports.de/s/vertical-ab\n",
      "Converting to DataFrame...\n",
      "Validating URLs...\n",
      "\n",
      "Processing completed.\n",
      "-------------------------------- \n",
      "\n",
      "Starting URL reconstruction...\n"
     ]
    },
    {
     "name": "stderr",
     "output_type": "stream",
     "text": [
      "Processing URLs:  31%|███       | 101/330 [05:53<06:05,  1.60s/it]"
     ]
    },
    {
     "name": "stdout",
     "output_type": "stream",
     "text": [
      "Error during HTTP request: 404 Client Error: Not Found for url: https://www.eversports.de/s/dance-in-the-city-remscheid\n",
      "Converting to DataFrame...\n",
      "Validating URLs...\n",
      "\n",
      "Processing completed.\n",
      "-------------------------------- \n",
      "\n",
      "Starting URL reconstruction...\n"
     ]
    },
    {
     "name": "stderr",
     "output_type": "stream",
     "text": [
      "Processing URLs:  31%|███       | 102/330 [05:56<07:26,  1.96s/it]"
     ]
    },
    {
     "name": "stdout",
     "output_type": "stream",
     "text": [
      "Error during HTTP request: 404 Client Error: Not Found for url: https://www.eversports.de/s/le-chat-noir-berlin\n",
      "Converting to DataFrame...\n",
      "Validating URLs...\n",
      "\n",
      "Processing completed.\n",
      "-------------------------------- \n",
      "\n",
      "Starting URL reconstruction...\n"
     ]
    },
    {
     "name": "stderr",
     "output_type": "stream",
     "text": [
      "Processing URLs:  31%|███       | 103/330 [05:58<07:22,  1.95s/it]"
     ]
    },
    {
     "name": "stdout",
     "output_type": "stream",
     "text": [
      "Error during HTTP request: 404 Client Error: Not Found for url: https://www.eversports.de/s/poleplace\n",
      "Converting to DataFrame...\n",
      "Validating URLs...\n",
      "\n",
      "Processing completed.\n",
      "-------------------------------- \n",
      "\n",
      "Starting URL reconstruction...\n"
     ]
    },
    {
     "name": "stderr",
     "output_type": "stream",
     "text": [
      "2024-02-21 13:47:31,953 - INFO - Processing URL 1/1: https://www.eversports.de/s/pure-motion-kiel\n"
     ]
    },
    {
     "name": "stdout",
     "output_type": "stream",
     "text": [
      "Converting to DataFrame...\n",
      "Validating URLs...\n"
     ]
    },
    {
     "name": "stderr",
     "output_type": "stream",
     "text": [
      "2024-02-21 13:47:33,432 - INFO - URL https://www.eversports.de/s/pure-motion-kiel is valid.\n"
     ]
    },
    {
     "name": "stdout",
     "output_type": "stream",
     "text": [
      "Scraping Pole Studio Data from https://www.eversports.de/s/pure-motion-kiel...\n"
     ]
    },
    {
     "name": "stderr",
     "output_type": "stream",
     "text": [
      "Processing URLs:  32%|███▏      | 104/330 [06:01<09:11,  2.44s/it]"
     ]
    },
    {
     "name": "stdout",
     "output_type": "stream",
     "text": [
      "\n",
      "Processing completed.\n",
      "-------------------------------- \n",
      "\n",
      "2024-02-21 13:47:33 - INFO - Scraping Data from: https://www.eversports.de/s/pure-motion-kiel\n",
      "Pole Studio Data: 1 entries\n",
      "Starting URL reconstruction...\n"
     ]
    },
    {
     "name": "stderr",
     "output_type": "stream",
     "text": [
      "Processing URLs:  32%|███▏      | 105/330 [06:03<07:57,  2.12s/it]"
     ]
    },
    {
     "name": "stdout",
     "output_type": "stream",
     "text": [
      "Error during HTTP request: 404 Client Error: Not Found for url: https://www.eversports.de/s/pole-dance-academy-neuburg\n",
      "Converting to DataFrame...\n",
      "Validating URLs...\n",
      "\n",
      "Processing completed.\n",
      "-------------------------------- \n",
      "\n",
      "Starting URL reconstruction...\n"
     ]
    },
    {
     "name": "stderr",
     "output_type": "stream",
     "text": [
      "Processing URLs:  32%|███▏      | 106/330 [06:04<07:14,  1.94s/it]"
     ]
    },
    {
     "name": "stdout",
     "output_type": "stream",
     "text": [
      "Error during HTTP request: 404 Client Error: Not Found for url: https://www.eversports.de/s/wonderpole\n",
      "Converting to DataFrame...\n",
      "Validating URLs...\n",
      "\n",
      "Processing completed.\n",
      "-------------------------------- \n",
      "\n",
      "Starting URL reconstruction...\n"
     ]
    },
    {
     "name": "stderr",
     "output_type": "stream",
     "text": [
      "Processing URLs:  32%|███▏      | 107/330 [06:05<06:20,  1.70s/it]"
     ]
    },
    {
     "name": "stdout",
     "output_type": "stream",
     "text": [
      "Error during HTTP request: 404 Client Error: Not Found for url: https://www.eversports.de/s/pole-dance-power\n",
      "Converting to DataFrame...\n",
      "Validating URLs...\n",
      "\n",
      "Processing completed.\n",
      "-------------------------------- \n",
      "\n",
      "Starting URL reconstruction...\n"
     ]
    },
    {
     "name": "stderr",
     "output_type": "stream",
     "text": [
      "Processing URLs:  33%|███▎      | 108/330 [06:07<05:50,  1.58s/it]"
     ]
    },
    {
     "name": "stdout",
     "output_type": "stream",
     "text": [
      "Error during HTTP request: 404 Client Error: Not Found for url: https://www.eversports.de/s/tanzstudio-redlightdance-berlin\n",
      "Converting to DataFrame...\n",
      "Validating URLs...\n",
      "\n",
      "Processing completed.\n",
      "-------------------------------- \n",
      "\n",
      "Starting URL reconstruction...\n"
     ]
    },
    {
     "name": "stderr",
     "output_type": "stream",
     "text": [
      "Processing URLs:  33%|███▎      | 109/330 [06:08<05:21,  1.45s/it]"
     ]
    },
    {
     "name": "stdout",
     "output_type": "stream",
     "text": [
      "Error during HTTP request: 404 Client Error: Not Found for url: https://www.eversports.de/s/polegarage-iserloh\n",
      "Converting to DataFrame...\n",
      "Validating URLs...\n",
      "\n",
      "Processing completed.\n",
      "-------------------------------- \n",
      "\n",
      "Starting URL reconstruction...\n"
     ]
    },
    {
     "name": "stderr",
     "output_type": "stream",
     "text": [
      "Processing URLs:  33%|███▎      | 110/330 [06:12<07:42,  2.10s/it]"
     ]
    },
    {
     "name": "stdout",
     "output_type": "stream",
     "text": [
      "Error during HTTP request: Exceeded 30 redirects.\n",
      "Converting to DataFrame...\n",
      "Validating URLs...\n",
      "\n",
      "Processing completed.\n",
      "-------------------------------- \n",
      "\n",
      "Starting URL reconstruction...\n"
     ]
    },
    {
     "name": "stderr",
     "output_type": "stream",
     "text": [
      "2024-02-21 13:47:45,428 - INFO - Processing URL 1/1: https://www.eversports.de/s/soul-flight\n"
     ]
    },
    {
     "name": "stdout",
     "output_type": "stream",
     "text": [
      "Converting to DataFrame...\n",
      "Validating URLs...\n"
     ]
    },
    {
     "name": "stderr",
     "output_type": "stream",
     "text": [
      "2024-02-21 13:47:46,809 - INFO - URL https://www.eversports.de/s/soul-flight is valid.\n"
     ]
    },
    {
     "name": "stdout",
     "output_type": "stream",
     "text": [
      "Scraping Pole Studio Data from https://www.eversports.de/s/soul-flight...\n"
     ]
    },
    {
     "name": "stderr",
     "output_type": "stream",
     "text": [
      "Processing URLs:  34%|███▎      | 111/330 [06:15<08:51,  2.43s/it]"
     ]
    },
    {
     "name": "stdout",
     "output_type": "stream",
     "text": [
      "\n",
      "Processing completed.\n",
      "-------------------------------- \n",
      "\n",
      "2024-02-21 13:47:47 - INFO - Scraping Data from: https://www.eversports.de/s/soul-flight\n",
      "Pole Studio Data: 1 entries\n",
      "Starting URL reconstruction...\n"
     ]
    },
    {
     "name": "stderr",
     "output_type": "stream",
     "text": [
      "Processing URLs:  34%|███▍      | 112/330 [06:18<09:21,  2.57s/it]"
     ]
    },
    {
     "name": "stdout",
     "output_type": "stream",
     "text": [
      "Error during HTTP request: Exceeded 30 redirects.\n",
      "Converting to DataFrame...\n",
      "Validating URLs...\n",
      "\n",
      "Processing completed.\n",
      "-------------------------------- \n",
      "\n",
      "Starting URL reconstruction...\n"
     ]
    },
    {
     "name": "stderr",
     "output_type": "stream",
     "text": [
      "Processing URLs:  34%|███▍      | 113/330 [06:21<09:44,  2.69s/it]"
     ]
    },
    {
     "name": "stdout",
     "output_type": "stream",
     "text": [
      "Error during HTTP request: Exceeded 30 redirects.\n",
      "Converting to DataFrame...\n",
      "Validating URLs...\n",
      "\n",
      "Processing completed.\n",
      "-------------------------------- \n",
      "\n",
      "Starting URL reconstruction...\n"
     ]
    },
    {
     "name": "stderr",
     "output_type": "stream",
     "text": [
      "Processing URLs:  35%|███▍      | 114/330 [06:24<10:18,  2.86s/it]"
     ]
    },
    {
     "name": "stdout",
     "output_type": "stream",
     "text": [
      "Error during HTTP request: Exceeded 30 redirects.\n",
      "Converting to DataFrame...\n",
      "Validating URLs...\n",
      "\n",
      "Processing completed.\n",
      "-------------------------------- \n",
      "\n",
      "Starting URL reconstruction...\n"
     ]
    },
    {
     "name": "stderr",
     "output_type": "stream",
     "text": [
      "Processing URLs:  35%|███▍      | 115/330 [06:25<08:45,  2.45s/it]"
     ]
    },
    {
     "name": "stdout",
     "output_type": "stream",
     "text": [
      "Error during HTTP request: 404 Client Error: Not Found for url: https://www.eversports.de/s/secret-moves---athletic-dance-studio\n",
      "Converting to DataFrame...\n",
      "Validating URLs...\n",
      "\n",
      "Processing completed.\n",
      "-------------------------------- \n",
      "\n",
      "Starting URL reconstruction...\n"
     ]
    },
    {
     "name": "stderr",
     "output_type": "stream",
     "text": [
      "2024-02-21 13:48:00,907 - INFO - Processing URL 1/1: https://www.eversports.de/s/pure-body-concepts\n"
     ]
    },
    {
     "name": "stdout",
     "output_type": "stream",
     "text": [
      "Converting to DataFrame...\n",
      "Validating URLs...\n"
     ]
    },
    {
     "name": "stderr",
     "output_type": "stream",
     "text": [
      "2024-02-21 13:48:02,203 - INFO - URL https://www.eversports.de/s/pure-body-concepts is valid.\n"
     ]
    },
    {
     "name": "stdout",
     "output_type": "stream",
     "text": [
      "Scraping Pole Studio Data from https://www.eversports.de/s/pure-body-concepts...\n"
     ]
    },
    {
     "name": "stderr",
     "output_type": "stream",
     "text": [
      "Processing URLs:  35%|███▌      | 116/330 [06:30<11:13,  3.15s/it]"
     ]
    },
    {
     "name": "stdout",
     "output_type": "stream",
     "text": [
      "\n",
      "Processing completed.\n",
      "-------------------------------- \n",
      "\n",
      "2024-02-21 13:48:02 - INFO - Scraping Data from: https://www.eversports.de/s/pure-body-concepts\n",
      "Pole Studio Data: 1 entries\n",
      "Starting URL reconstruction...\n"
     ]
    },
    {
     "name": "stderr",
     "output_type": "stream",
     "text": [
      "Processing URLs:  35%|███▌      | 117/330 [06:31<09:05,  2.56s/it]"
     ]
    },
    {
     "name": "stdout",
     "output_type": "stream",
     "text": [
      "Error during HTTP request: 404 Client Error: Not Found for url: https://www.eversports.de/s/papillon-pole-dance-studio\n",
      "Converting to DataFrame...\n",
      "Validating URLs...\n",
      "\n",
      "Processing completed.\n",
      "-------------------------------- \n",
      "\n",
      "Starting URL reconstruction...\n"
     ]
    },
    {
     "name": "stderr",
     "output_type": "stream",
     "text": [
      "2024-02-21 13:48:05,869 - INFO - Processing URL 1/1: https://www.eversports.de/s/poledance-area\n"
     ]
    },
    {
     "name": "stdout",
     "output_type": "stream",
     "text": [
      "Converting to DataFrame...\n",
      "Validating URLs...\n"
     ]
    },
    {
     "name": "stderr",
     "output_type": "stream",
     "text": [
      "2024-02-21 13:48:08,153 - INFO - URL https://www.eversports.de/s/poledance-area is valid.\n"
     ]
    },
    {
     "name": "stdout",
     "output_type": "stream",
     "text": [
      "Scraping Pole Studio Data from https://www.eversports.de/s/poledance-area...\n"
     ]
    },
    {
     "name": "stderr",
     "output_type": "stream",
     "text": [
      "Processing URLs:  36%|███▌      | 118/330 [06:36<11:16,  3.19s/it]"
     ]
    },
    {
     "name": "stdout",
     "output_type": "stream",
     "text": [
      "\n",
      "Processing completed.\n",
      "-------------------------------- \n",
      "\n",
      "2024-02-21 13:48:08 - INFO - Scraping Data from: https://www.eversports.de/s/poledance-area\n",
      "Pole Studio Data: 1 entries\n",
      "Starting URL reconstruction...\n"
     ]
    },
    {
     "name": "stderr",
     "output_type": "stream",
     "text": [
      "2024-02-21 13:48:09,814 - INFO - Processing URL 1/2: https://www.eversports.de/s/pole-faction-darmstadt\n"
     ]
    },
    {
     "name": "stdout",
     "output_type": "stream",
     "text": [
      "Converting to DataFrame...\n",
      "Validating URLs...\n"
     ]
    },
    {
     "name": "stderr",
     "output_type": "stream",
     "text": [
      "2024-02-21 13:48:11,349 - INFO - URL https://www.eversports.de/s/pole-faction-darmstadt is valid.\n",
      "2024-02-21 13:48:11,350 - INFO - Processing URL 2/2: https://www.eversports.de/sw/pole-faction-darmstadt\n",
      "2024-02-21 13:48:12,582 - INFO - URL https://www.eversports.de/sw/pole-faction-darmstadt is valid.\n"
     ]
    },
    {
     "name": "stdout",
     "output_type": "stream",
     "text": [
      "Scraping Pole Studio Data from https://www.eversports.de/s/pole-faction-darmstadt...\n",
      "Scraping Workshops Data from https://www.eversports.de/sw/pole-faction-darmstadt...\n",
      "Scraping Workshop Details from https://www.eversports.de/e/workshop/FP-cEyn...\n",
      "Scraping Workshop Details from https://www.eversports.de/e/workshop/R763nUE...\n"
     ]
    },
    {
     "name": "stderr",
     "output_type": "stream",
     "text": [
      "Processing URLs:  36%|███▌      | 119/330 [06:44<16:48,  4.78s/it]"
     ]
    },
    {
     "name": "stdout",
     "output_type": "stream",
     "text": [
      "\n",
      "Processing completed.\n",
      "-------------------------------- \n",
      "\n",
      "2024-02-21 13:48:16 - INFO - Scraping Data from: https://www.eversports.de/s/pole-faction-darmstadt\n",
      "Pole Studio Data: 1 entries\n",
      "2024-02-21 13:48:16 - INFO - Scraping Data from: https://www.eversports.de/s/pole-faction-darmstadt\n",
      "Workshops Data: 2 entries\n",
      "2024-02-21 13:48:16 - INFO - Scraping Data from: https://www.eversports.de/s/pole-faction-darmstadt\n",
      "Workshop Details: 2 entries\n",
      "Starting URL reconstruction...\n"
     ]
    },
    {
     "name": "stderr",
     "output_type": "stream",
     "text": [
      "2024-02-21 13:48:19,041 - INFO - Processing URL 1/2: https://www.eversports.de/s/polespirit\n"
     ]
    },
    {
     "name": "stdout",
     "output_type": "stream",
     "text": [
      "Converting to DataFrame...\n",
      "Validating URLs...\n"
     ]
    },
    {
     "name": "stderr",
     "output_type": "stream",
     "text": [
      "2024-02-21 13:48:20,422 - INFO - URL https://www.eversports.de/s/polespirit is valid.\n",
      "2024-02-21 13:48:20,423 - INFO - Processing URL 2/2: https://www.eversports.de/sw/polespirit\n",
      "2024-02-21 13:48:24,037 - INFO - URL https://www.eversports.de/sw/polespirit is valid.\n"
     ]
    },
    {
     "name": "stdout",
     "output_type": "stream",
     "text": [
      "Scraping Pole Studio Data from https://www.eversports.de/s/polespirit...\n",
      "Scraping Workshops Data from https://www.eversports.de/sw/polespirit...\n",
      "Scraping Workshop Details from https://www.eversports.de/e/workshop/xUH0CLo...\n",
      "Scraping Workshop Details from https://www.eversports.de/e/workshop/GpBpifi...\n"
     ]
    },
    {
     "name": "stderr",
     "output_type": "stream",
     "text": [
      "Processing URLs:  36%|███▋      | 120/330 [06:58<25:43,  7.35s/it]"
     ]
    },
    {
     "name": "stdout",
     "output_type": "stream",
     "text": [
      "\n",
      "Processing completed.\n",
      "-------------------------------- \n",
      "\n",
      "2024-02-21 13:48:30 - INFO - Scraping Data from: https://www.eversports.de/s/polespirit\n",
      "Pole Studio Data: 1 entries\n",
      "2024-02-21 13:48:30 - INFO - Scraping Data from: https://www.eversports.de/s/polespirit\n",
      "Workshops Data: 2 entries\n",
      "2024-02-21 13:48:30 - INFO - Scraping Data from: https://www.eversports.de/s/polespirit\n",
      "Workshop Details: 2 entries\n",
      "Starting URL reconstruction...\n"
     ]
    },
    {
     "name": "stderr",
     "output_type": "stream",
     "text": [
      "2024-02-21 13:48:31,679 - INFO - Processing URL 1/2: https://www.eversports.de/s/pole-and-move-mannheim\n"
     ]
    },
    {
     "name": "stdout",
     "output_type": "stream",
     "text": [
      "Converting to DataFrame...\n",
      "Validating URLs...\n"
     ]
    },
    {
     "name": "stderr",
     "output_type": "stream",
     "text": [
      "2024-02-21 13:48:33,312 - INFO - URL https://www.eversports.de/s/pole-and-move-mannheim is valid.\n",
      "2024-02-21 13:48:33,314 - INFO - Processing URL 2/2: https://www.eversports.de/sw/pole-and-move-mannheim\n",
      "2024-02-21 13:48:34,736 - INFO - URL https://www.eversports.de/sw/pole-and-move-mannheim is valid.\n"
     ]
    },
    {
     "name": "stdout",
     "output_type": "stream",
     "text": [
      "Scraping Pole Studio Data from https://www.eversports.de/s/pole-and-move-mannheim...\n",
      "Scraping Workshops Data from https://www.eversports.de/sw/pole-and-move-mannheim...\n",
      "Scraping Workshop Details from https://www.eversports.de/e/workshop/gbofUBp...\n",
      "Scraping Workshop Details from https://www.eversports.de/e/workshop/NFfn_y6...\n",
      "Scraping Workshop Details from https://www.eversports.de/e/workshop/miY7n0b...\n",
      "Scraping Workshop Details from https://www.eversports.de/e/workshop/C9b62JT...\n",
      "Scraping Workshop Details from https://www.eversports.de/e/workshop/0fonSE4...\n"
     ]
    },
    {
     "name": "stderr",
     "output_type": "stream",
     "text": [
      "Processing URLs:  37%|███▋      | 121/330 [07:12<32:21,  9.29s/it]"
     ]
    },
    {
     "name": "stdout",
     "output_type": "stream",
     "text": [
      "\n",
      "Processing completed.\n",
      "-------------------------------- \n",
      "\n",
      "2024-02-21 13:48:44 - INFO - Scraping Data from: https://www.eversports.de/s/pole-and-move-mannheim\n",
      "Pole Studio Data: 1 entries\n",
      "2024-02-21 13:48:44 - INFO - Scraping Data from: https://www.eversports.de/s/pole-and-move-mannheim\n",
      "Workshops Data: 5 entries\n",
      "2024-02-21 13:48:44 - INFO - Scraping Data from: https://www.eversports.de/s/pole-and-move-mannheim\n",
      "Workshop Details: 5 entries\n",
      "Starting URL reconstruction...\n"
     ]
    },
    {
     "name": "stderr",
     "output_type": "stream",
     "text": [
      "Processing URLs:  37%|███▋      | 122/330 [07:13<23:46,  6.86s/it]"
     ]
    },
    {
     "name": "stdout",
     "output_type": "stream",
     "text": [
      "Error during HTTP request: 404 Client Error: Not Found for url: https://www.eversports.de/s/pole-arts-saarland-\n",
      "Converting to DataFrame...\n",
      "Validating URLs...\n",
      "\n",
      "Processing completed.\n",
      "-------------------------------- \n",
      "\n",
      "Starting URL reconstruction...\n"
     ]
    },
    {
     "name": "stderr",
     "output_type": "stream",
     "text": [
      "2024-02-21 13:48:46,759 - INFO - Processing URL 1/2: https://www.eversports.de/s/soultide\n"
     ]
    },
    {
     "name": "stdout",
     "output_type": "stream",
     "text": [
      "Converting to DataFrame...\n",
      "Validating URLs...\n"
     ]
    },
    {
     "name": "stderr",
     "output_type": "stream",
     "text": [
      "2024-02-21 13:48:48,202 - INFO - URL https://www.eversports.de/s/soultide is valid.\n",
      "2024-02-21 13:48:48,204 - INFO - Processing URL 2/2: https://www.eversports.de/sw/soultide\n",
      "2024-02-21 13:48:49,518 - INFO - URL https://www.eversports.de/sw/soultide is valid.\n"
     ]
    },
    {
     "name": "stdout",
     "output_type": "stream",
     "text": [
      "Scraping Pole Studio Data from https://www.eversports.de/s/soultide...\n",
      "Scraping Workshops Data from https://www.eversports.de/sw/soultide...\n",
      "Scraping Workshop Details from https://www.eversports.de/e/workshop/U2ElOtm...\n",
      "Scraping Workshop Details from https://www.eversports.de/e/workshop/NqEFLYz...\n",
      "Scraping Workshop Details from https://www.eversports.de/e/workshop/B682STl...\n",
      "Scraping Workshop Details from https://www.eversports.de/e/workshop/npdGKjQ...\n"
     ]
    },
    {
     "name": "stderr",
     "output_type": "stream",
     "text": [
      "Processing URLs:  37%|███▋      | 123/330 [07:25<29:09,  8.45s/it]"
     ]
    },
    {
     "name": "stdout",
     "output_type": "stream",
     "text": [
      "\n",
      "Processing completed.\n",
      "-------------------------------- \n",
      "\n",
      "2024-02-21 13:48:57 - INFO - Scraping Data from: https://www.eversports.de/s/soultide\n",
      "Pole Studio Data: 1 entries\n",
      "2024-02-21 13:48:57 - INFO - Scraping Data from: https://www.eversports.de/s/soultide\n",
      "Workshops Data: 4 entries\n",
      "2024-02-21 13:48:57 - INFO - Scraping Data from: https://www.eversports.de/s/soultide\n",
      "Workshop Details: 4 entries\n",
      "Starting URL reconstruction...\n"
     ]
    },
    {
     "name": "stderr",
     "output_type": "stream",
     "text": [
      "Processing URLs:  38%|███▊      | 124/330 [07:26<21:41,  6.32s/it]"
     ]
    },
    {
     "name": "stdout",
     "output_type": "stream",
     "text": [
      "Error during HTTP request: 404 Client Error: Not Found for url: https://www.eversports.de/s/poleroom\n",
      "Converting to DataFrame...\n",
      "Validating URLs...\n",
      "\n",
      "Processing completed.\n",
      "-------------------------------- \n",
      "\n",
      "Starting URL reconstruction...\n"
     ]
    },
    {
     "name": "stderr",
     "output_type": "stream",
     "text": [
      "Processing URLs:  38%|███▊      | 125/330 [07:28<16:33,  4.84s/it]"
     ]
    },
    {
     "name": "stdout",
     "output_type": "stream",
     "text": [
      "Error during HTTP request: 404 Client Error: Not Found for url: https://www.eversports.de/s/ironx-\n",
      "Converting to DataFrame...\n",
      "Validating URLs...\n",
      "\n",
      "Processing completed.\n",
      "-------------------------------- \n",
      "\n",
      "Starting URL reconstruction...\n"
     ]
    },
    {
     "name": "stderr",
     "output_type": "stream",
     "text": [
      "Processing URLs:  38%|███▊      | 126/330 [07:29<12:42,  3.74s/it]"
     ]
    },
    {
     "name": "stdout",
     "output_type": "stream",
     "text": [
      "Error during HTTP request: 404 Client Error: Not Found for url: https://www.eversports.de/s/unique-pole-art\n",
      "Converting to DataFrame...\n",
      "Validating URLs...\n",
      "\n",
      "Processing completed.\n",
      "-------------------------------- \n",
      "\n",
      "Starting URL reconstruction...\n"
     ]
    },
    {
     "name": "stderr",
     "output_type": "stream",
     "text": [
      "2024-02-21 13:49:02,849 - INFO - Processing URL 1/1: https://www.eversports.de/s/loft1-basel-city\n"
     ]
    },
    {
     "name": "stdout",
     "output_type": "stream",
     "text": [
      "Converting to DataFrame...\n",
      "Validating URLs...\n"
     ]
    },
    {
     "name": "stderr",
     "output_type": "stream",
     "text": [
      "2024-02-21 13:49:04,236 - INFO - URL https://www.eversports.de/s/loft1-basel-city is valid.\n"
     ]
    },
    {
     "name": "stdout",
     "output_type": "stream",
     "text": [
      "Scraping Pole Studio Data from https://www.eversports.de/s/loft1-basel-city...\n"
     ]
    },
    {
     "name": "stderr",
     "output_type": "stream",
     "text": [
      "Processing URLs:  38%|███▊      | 127/330 [07:32<12:24,  3.67s/it]"
     ]
    },
    {
     "name": "stdout",
     "output_type": "stream",
     "text": [
      "\n",
      "Processing completed.\n",
      "-------------------------------- \n",
      "\n",
      "2024-02-21 13:49:04 - INFO - Scraping Data from: https://www.eversports.de/s/loft1-basel-city\n",
      "Pole Studio Data: 1 entries\n",
      "Starting URL reconstruction...\n"
     ]
    },
    {
     "name": "stderr",
     "output_type": "stream",
     "text": [
      "2024-02-21 13:49:06,707 - INFO - Processing URL 1/1: https://www.eversports.de/s/pole-and-art\n"
     ]
    },
    {
     "name": "stdout",
     "output_type": "stream",
     "text": [
      "Converting to DataFrame...\n",
      "Validating URLs...\n"
     ]
    },
    {
     "name": "stderr",
     "output_type": "stream",
     "text": [
      "2024-02-21 13:49:08,335 - INFO - URL https://www.eversports.de/s/pole-and-art is valid.\n"
     ]
    },
    {
     "name": "stdout",
     "output_type": "stream",
     "text": [
      "Scraping Pole Studio Data from https://www.eversports.de/s/pole-and-art...\n"
     ]
    },
    {
     "name": "stderr",
     "output_type": "stream",
     "text": [
      "Processing URLs:  39%|███▉      | 128/330 [07:36<12:27,  3.70s/it]"
     ]
    },
    {
     "name": "stdout",
     "output_type": "stream",
     "text": [
      "\n",
      "Processing completed.\n",
      "-------------------------------- \n",
      "\n",
      "2024-02-21 13:49:08 - INFO - Scraping Data from: https://www.eversports.de/s/pole-and-art\n",
      "Pole Studio Data: 1 entries\n",
      "Starting URL reconstruction...\n"
     ]
    },
    {
     "name": "stderr",
     "output_type": "stream",
     "text": [
      "Processing URLs:  39%|███▉      | 129/330 [07:37<09:55,  2.96s/it]"
     ]
    },
    {
     "name": "stdout",
     "output_type": "stream",
     "text": [
      "Error during HTTP request: 404 Client Error: Not Found for url: https://www.eversports.de/s/mstage-tanzart-bewegung\n",
      "Converting to DataFrame...\n",
      "Validating URLs...\n",
      "\n",
      "Processing completed.\n",
      "-------------------------------- \n",
      "\n",
      "Starting URL reconstruction...\n"
     ]
    },
    {
     "name": "stderr",
     "output_type": "stream",
     "text": [
      "2024-02-21 13:49:11,121 - INFO - Processing URL 1/1: https://www.eversports.de/s/poleart_inspiration\n"
     ]
    },
    {
     "name": "stdout",
     "output_type": "stream",
     "text": [
      "Converting to DataFrame...\n",
      "Validating URLs...\n"
     ]
    },
    {
     "name": "stderr",
     "output_type": "stream",
     "text": [
      "2024-02-21 13:49:12,490 - INFO - URL https://www.eversports.de/s/poleart_inspiration is valid.\n"
     ]
    },
    {
     "name": "stdout",
     "output_type": "stream",
     "text": [
      "Scraping Pole Studio Data from https://www.eversports.de/s/poleart_inspiration...\n"
     ]
    },
    {
     "name": "stderr",
     "output_type": "stream",
     "text": [
      "Processing URLs:  39%|███▉      | 130/330 [07:40<09:48,  2.94s/it]"
     ]
    },
    {
     "name": "stdout",
     "output_type": "stream",
     "text": [
      "\n",
      "Processing completed.\n",
      "-------------------------------- \n",
      "\n",
      "2024-02-21 13:49:12 - INFO - Scraping Data from: https://www.eversports.de/s/poleart_inspiration\n",
      "Pole Studio Data: 1 entries\n",
      "Starting URL reconstruction...\n"
     ]
    },
    {
     "name": "stderr",
     "output_type": "stream",
     "text": [
      "Processing URLs:  40%|███▉      | 131/330 [07:42<08:02,  2.42s/it]"
     ]
    },
    {
     "name": "stdout",
     "output_type": "stream",
     "text": [
      "Error during HTTP request: 404 Client Error: Not Found for url: https://www.eversports.de/s/la-familia-poleclub\n",
      "Converting to DataFrame...\n",
      "Validating URLs...\n",
      "\n",
      "Processing completed.\n",
      "-------------------------------- \n",
      "\n",
      "Starting URL reconstruction...\n"
     ]
    },
    {
     "name": "stderr",
     "output_type": "stream",
     "text": [
      "Processing URLs:  40%|████      | 132/330 [07:43<06:46,  2.05s/it]"
     ]
    },
    {
     "name": "stdout",
     "output_type": "stream",
     "text": [
      "Error during HTTP request: 404 Client Error: Not Found for url: https://www.eversports.de/s/mmc-dance-studio\n",
      "Converting to DataFrame...\n",
      "Validating URLs...\n",
      "\n",
      "Processing completed.\n",
      "-------------------------------- \n",
      "\n",
      "Starting URL reconstruction...\n"
     ]
    },
    {
     "name": "stderr",
     "output_type": "stream",
     "text": [
      "2024-02-21 13:49:16,608 - INFO - Processing URL 1/1: https://www.eversports.de/s/upsidedown-studio-friedrichsdorf\n"
     ]
    },
    {
     "name": "stdout",
     "output_type": "stream",
     "text": [
      "Converting to DataFrame...\n",
      "Validating URLs...\n"
     ]
    },
    {
     "name": "stderr",
     "output_type": "stream",
     "text": [
      "2024-02-21 13:49:18,015 - INFO - URL https://www.eversports.de/s/upsidedown-studio-friedrichsdorf is valid.\n"
     ]
    },
    {
     "name": "stdout",
     "output_type": "stream",
     "text": [
      "Scraping Pole Studio Data from https://www.eversports.de/s/upsidedown-studio-friedrichsdorf...\n"
     ]
    },
    {
     "name": "stderr",
     "output_type": "stream",
     "text": [
      "Processing URLs:  40%|████      | 133/330 [07:46<07:53,  2.40s/it]"
     ]
    },
    {
     "name": "stdout",
     "output_type": "stream",
     "text": [
      "\n",
      "Processing completed.\n",
      "-------------------------------- \n",
      "\n",
      "2024-02-21 13:49:18 - INFO - Scraping Data from: https://www.eversports.de/s/upsidedown-studio-friedrichsdorf\n",
      "Pole Studio Data: 1 entries\n",
      "Starting URL reconstruction...\n"
     ]
    },
    {
     "name": "stderr",
     "output_type": "stream",
     "text": [
      "2024-02-21 13:49:19,872 - INFO - Processing URL 1/1: https://www.eversports.de/s/spin-up\n"
     ]
    },
    {
     "name": "stdout",
     "output_type": "stream",
     "text": [
      "Converting to DataFrame...\n",
      "Validating URLs...\n"
     ]
    },
    {
     "name": "stderr",
     "output_type": "stream",
     "text": [
      "2024-02-21 13:49:21,200 - INFO - URL https://www.eversports.de/s/spin-up is valid.\n"
     ]
    },
    {
     "name": "stdout",
     "output_type": "stream",
     "text": [
      "Scraping Pole Studio Data from https://www.eversports.de/s/spin-up...\n"
     ]
    },
    {
     "name": "stderr",
     "output_type": "stream",
     "text": [
      "Processing URLs:  41%|████      | 134/330 [07:49<08:40,  2.66s/it]"
     ]
    },
    {
     "name": "stdout",
     "output_type": "stream",
     "text": [
      "\n",
      "Processing completed.\n",
      "-------------------------------- \n",
      "\n",
      "2024-02-21 13:49:21 - INFO - Scraping Data from: https://www.eversports.de/s/spin-up\n",
      "Pole Studio Data: 1 entries\n",
      "Starting URL reconstruction...\n"
     ]
    },
    {
     "name": "stderr",
     "output_type": "stream",
     "text": [
      "Processing URLs:  41%|████      | 135/330 [07:50<07:16,  2.24s/it]"
     ]
    },
    {
     "name": "stdout",
     "output_type": "stream",
     "text": [
      "Error during HTTP request: 404 Client Error: Not Found for url: https://www.eversports.de/s/poledance-schule-berlin\n",
      "Converting to DataFrame...\n",
      "Validating URLs...\n",
      "\n",
      "Processing completed.\n",
      "-------------------------------- \n",
      "\n",
      "Starting URL reconstruction...\n"
     ]
    },
    {
     "name": "stderr",
     "output_type": "stream",
     "text": [
      "Processing URLs:  41%|████      | 136/330 [07:52<06:14,  1.93s/it]"
     ]
    },
    {
     "name": "stdout",
     "output_type": "stream",
     "text": [
      "Error during HTTP request: 404 Client Error: Not Found for url: https://www.eversports.de/s/luftfabrik-dresden\n",
      "Converting to DataFrame...\n",
      "Validating URLs...\n",
      "\n",
      "Processing completed.\n",
      "-------------------------------- \n",
      "\n",
      "Starting URL reconstruction...\n"
     ]
    },
    {
     "name": "stderr",
     "output_type": "stream",
     "text": [
      "Processing URLs:  42%|████▏     | 137/330 [07:53<05:36,  1.74s/it]"
     ]
    },
    {
     "name": "stdout",
     "output_type": "stream",
     "text": [
      "Error during HTTP request: 404 Client Error: Not Found for url: https://www.eversports.de/s/polemagique\n",
      "Converting to DataFrame...\n",
      "Validating URLs...\n",
      "\n",
      "Processing completed.\n",
      "-------------------------------- \n",
      "\n",
      "Starting URL reconstruction...\n"
     ]
    },
    {
     "name": "stderr",
     "output_type": "stream",
     "text": [
      "2024-02-21 13:49:26,675 - INFO - Processing URL 1/1: https://www.eversports.de/s/pole-your-body\n"
     ]
    },
    {
     "name": "stdout",
     "output_type": "stream",
     "text": [
      "Converting to DataFrame...\n",
      "Validating URLs...\n"
     ]
    },
    {
     "name": "stderr",
     "output_type": "stream",
     "text": [
      "2024-02-21 13:49:27,962 - INFO - URL https://www.eversports.de/s/pole-your-body is valid.\n"
     ]
    },
    {
     "name": "stdout",
     "output_type": "stream",
     "text": [
      "Scraping Pole Studio Data from https://www.eversports.de/s/pole-your-body...\n",
      "\n",
      "Processing completed.\n",
      "-------------------------------- \n",
      "\n"
     ]
    },
    {
     "name": "stderr",
     "output_type": "stream",
     "text": [
      "Processing URLs:  42%|████▏     | 138/330 [07:56<06:34,  2.06s/it]"
     ]
    },
    {
     "name": "stdout",
     "output_type": "stream",
     "text": [
      "2024-02-21 13:49:28 - INFO - Scraping Data from: https://www.eversports.de/s/pole-your-body\n",
      "Pole Studio Data: 1 entries\n",
      "Starting URL reconstruction...\n"
     ]
    },
    {
     "name": "stderr",
     "output_type": "stream",
     "text": [
      "Processing URLs:  42%|████▏     | 139/330 [07:59<07:42,  2.42s/it]"
     ]
    },
    {
     "name": "stdout",
     "output_type": "stream",
     "text": [
      "Error during HTTP request: Exceeded 30 redirects.\n",
      "Converting to DataFrame...\n",
      "Validating URLs...\n",
      "\n",
      "Processing completed.\n",
      "-------------------------------- \n",
      "\n",
      "Starting URL reconstruction...\n"
     ]
    },
    {
     "name": "stderr",
     "output_type": "stream",
     "text": [
      "2024-02-21 13:49:33,391 - INFO - Processing URL 1/1: https://www.eversports.de/s/pole-oase\n"
     ]
    },
    {
     "name": "stdout",
     "output_type": "stream",
     "text": [
      "Converting to DataFrame...\n",
      "Validating URLs...\n"
     ]
    },
    {
     "name": "stderr",
     "output_type": "stream",
     "text": [
      "2024-02-21 13:49:34,720 - INFO - URL https://www.eversports.de/s/pole-oase is valid.\n"
     ]
    },
    {
     "name": "stdout",
     "output_type": "stream",
     "text": [
      "Scraping Pole Studio Data from https://www.eversports.de/s/pole-oase...\n"
     ]
    },
    {
     "name": "stderr",
     "output_type": "stream",
     "text": [
      "Processing URLs:  42%|████▏     | 140/330 [08:03<09:09,  2.89s/it]"
     ]
    },
    {
     "name": "stdout",
     "output_type": "stream",
     "text": [
      "\n",
      "Processing completed.\n",
      "-------------------------------- \n",
      "\n",
      "2024-02-21 13:49:35 - INFO - Scraping Data from: https://www.eversports.de/s/pole-oase\n",
      "Pole Studio Data: 1 entries\n",
      "Starting URL reconstruction...\n"
     ]
    },
    {
     "name": "stderr",
     "output_type": "stream",
     "text": [
      "2024-02-21 13:49:37,044 - INFO - Processing URL 1/2: https://www.eversports.de/s/aerialflow\n"
     ]
    },
    {
     "name": "stdout",
     "output_type": "stream",
     "text": [
      "Converting to DataFrame...\n",
      "Validating URLs...\n"
     ]
    },
    {
     "name": "stderr",
     "output_type": "stream",
     "text": [
      "2024-02-21 13:49:38,468 - INFO - URL https://www.eversports.de/s/aerialflow is valid.\n",
      "2024-02-21 13:49:38,469 - INFO - Processing URL 2/2: https://www.eversports.de/sw/aerialflow\n",
      "2024-02-21 13:49:39,659 - INFO - URL https://www.eversports.de/sw/aerialflow is valid.\n"
     ]
    },
    {
     "name": "stdout",
     "output_type": "stream",
     "text": [
      "Scraping Pole Studio Data from https://www.eversports.de/s/aerialflow...\n",
      "Scraping Workshops Data from https://www.eversports.de/sw/aerialflow...\n",
      "Scraping Workshop Details from https://www.eversports.de/e/workshop/OQN28ZD...\n"
     ]
    },
    {
     "name": "stderr",
     "output_type": "stream",
     "text": [
      "Processing URLs:  43%|████▎     | 141/330 [08:10<13:20,  4.24s/it]"
     ]
    },
    {
     "name": "stdout",
     "output_type": "stream",
     "text": [
      "\n",
      "Processing completed.\n",
      "-------------------------------- \n",
      "\n",
      "2024-02-21 13:49:42 - INFO - Scraping Data from: https://www.eversports.de/s/aerialflow\n",
      "Pole Studio Data: 1 entries\n",
      "2024-02-21 13:49:42 - INFO - Scraping Data from: https://www.eversports.de/s/aerialflow\n",
      "Workshops Data: 1 entries\n",
      "2024-02-21 13:49:42 - INFO - Scraping Data from: https://www.eversports.de/s/aerialflow\n",
      "Workshop Details: 1 entries\n",
      "Starting URL reconstruction...\n"
     ]
    },
    {
     "name": "stderr",
     "output_type": "stream",
     "text": [
      "Processing URLs:  43%|████▎     | 142/330 [08:12<10:53,  3.47s/it]"
     ]
    },
    {
     "name": "stdout",
     "output_type": "stream",
     "text": [
      "Error during HTTP request: 404 Client Error: Not Found for url: https://www.eversports.de/s/activo-polefitness\n",
      "Converting to DataFrame...\n",
      "Validating URLs...\n",
      "\n",
      "Processing completed.\n",
      "-------------------------------- \n",
      "\n",
      "Starting URL reconstruction...\n"
     ]
    },
    {
     "name": "stderr",
     "output_type": "stream",
     "text": [
      "Processing URLs:  43%|████▎     | 143/330 [08:13<08:46,  2.82s/it]"
     ]
    },
    {
     "name": "stdout",
     "output_type": "stream",
     "text": [
      "Error during HTTP request: 404 Client Error: Not Found for url: https://www.eversports.de/s/zero-gravity-pole-\n",
      "Converting to DataFrame...\n",
      "Validating URLs...\n",
      "\n",
      "Processing completed.\n",
      "-------------------------------- \n",
      "\n",
      "Starting URL reconstruction...\n"
     ]
    },
    {
     "name": "stderr",
     "output_type": "stream",
     "text": [
      "2024-02-21 13:49:47,391 - INFO - Processing URL 1/1: https://www.eversports.de/s/munich-poledance\n"
     ]
    },
    {
     "name": "stdout",
     "output_type": "stream",
     "text": [
      "Converting to DataFrame...\n",
      "Validating URLs...\n"
     ]
    },
    {
     "name": "stderr",
     "output_type": "stream",
     "text": [
      "2024-02-21 13:49:49,475 - INFO - URL https://www.eversports.de/s/munich-poledance is valid.\n"
     ]
    },
    {
     "name": "stdout",
     "output_type": "stream",
     "text": [
      "Scraping Pole Studio Data from https://www.eversports.de/s/munich-poledance...\n"
     ]
    },
    {
     "name": "stderr",
     "output_type": "stream",
     "text": [
      "Processing URLs:  44%|████▎     | 144/330 [08:17<09:56,  3.21s/it]"
     ]
    },
    {
     "name": "stdout",
     "output_type": "stream",
     "text": [
      "\n",
      "Processing completed.\n",
      "-------------------------------- \n",
      "\n",
      "2024-02-21 13:49:49 - INFO - Scraping Data from: https://www.eversports.de/s/munich-poledance\n",
      "Pole Studio Data: 1 entries\n",
      "Starting URL reconstruction...\n"
     ]
    },
    {
     "name": "stderr",
     "output_type": "stream",
     "text": [
      "2024-02-21 13:49:51,508 - INFO - Processing URL 1/2: https://www.eversports.de/s/stadtgazellen-bremen\n"
     ]
    },
    {
     "name": "stdout",
     "output_type": "stream",
     "text": [
      "Converting to DataFrame...\n",
      "Validating URLs...\n"
     ]
    },
    {
     "name": "stderr",
     "output_type": "stream",
     "text": [
      "2024-02-21 13:49:52,894 - INFO - URL https://www.eversports.de/s/stadtgazellen-bremen is valid.\n",
      "2024-02-21 13:49:52,895 - INFO - Processing URL 2/2: https://www.eversports.de/sw/stadtgazellen-bremen\n",
      "2024-02-21 13:49:54,108 - INFO - URL https://www.eversports.de/sw/stadtgazellen-bremen is valid.\n"
     ]
    },
    {
     "name": "stdout",
     "output_type": "stream",
     "text": [
      "Scraping Pole Studio Data from https://www.eversports.de/s/stadtgazellen-bremen...\n",
      "Scraping Workshops Data from https://www.eversports.de/sw/stadtgazellen-bremen...\n",
      "Scraping Workshop Details from https://www.eversports.de/e/workshop/KWx3LyO...\n",
      "Scraping Workshop Details from https://www.eversports.de/e/workshop/WRl24o5...\n",
      "Scraping Workshop Details from https://www.eversports.de/e/workshop/wrZkEQ3...\n"
     ]
    },
    {
     "name": "stderr",
     "output_type": "stream",
     "text": [
      "Processing URLs:  44%|████▍     | 145/330 [08:27<16:10,  5.24s/it]"
     ]
    },
    {
     "name": "stdout",
     "output_type": "stream",
     "text": [
      "\n",
      "Processing completed.\n",
      "-------------------------------- \n",
      "\n",
      "2024-02-21 13:49:59 - INFO - Scraping Data from: https://www.eversports.de/s/stadtgazellen-bremen\n",
      "Pole Studio Data: 1 entries\n",
      "2024-02-21 13:49:59 - INFO - Scraping Data from: https://www.eversports.de/s/stadtgazellen-bremen\n",
      "Workshops Data: 3 entries\n",
      "2024-02-21 13:49:59 - INFO - Scraping Data from: https://www.eversports.de/s/stadtgazellen-bremen\n",
      "Workshop Details: 3 entries\n",
      "Starting URL reconstruction...\n"
     ]
    },
    {
     "name": "stderr",
     "output_type": "stream",
     "text": [
      "Processing URLs:  44%|████▍     | 146/330 [08:29<12:23,  4.04s/it]"
     ]
    },
    {
     "name": "stdout",
     "output_type": "stream",
     "text": [
      "Error during HTTP request: 404 Client Error: Not Found for url: https://www.eversports.de/s/annaconda-pole-%26-aerial-sports\n",
      "Converting to DataFrame...\n",
      "Validating URLs...\n",
      "\n",
      "Processing completed.\n",
      "-------------------------------- \n",
      "\n",
      "Starting URL reconstruction...\n"
     ]
    },
    {
     "name": "stderr",
     "output_type": "stream",
     "text": [
      "Processing URLs:  45%|████▍     | 147/330 [08:30<09:43,  3.19s/it]"
     ]
    },
    {
     "name": "stdout",
     "output_type": "stream",
     "text": [
      "Error during HTTP request: 404 Client Error: Not Found for url: https://www.eversports.de/s/studio-yh-pole-(and)-sports-berlin\n",
      "Converting to DataFrame...\n",
      "Validating URLs...\n",
      "\n",
      "Processing completed.\n",
      "-------------------------------- \n",
      "\n",
      "Starting URL reconstruction...\n"
     ]
    },
    {
     "name": "stderr",
     "output_type": "stream",
     "text": [
      "Processing URLs:  45%|████▍     | 148/330 [08:31<07:59,  2.63s/it]"
     ]
    },
    {
     "name": "stdout",
     "output_type": "stream",
     "text": [
      "Error during HTTP request: 404 Client Error: Not Found for url: https://www.eversports.de/s/sky-move-pole-sport\n",
      "Converting to DataFrame...\n",
      "Validating URLs...\n",
      "\n",
      "Processing completed.\n",
      "-------------------------------- \n",
      "\n",
      "Starting URL reconstruction...\n"
     ]
    },
    {
     "name": "stderr",
     "output_type": "stream",
     "text": [
      "2024-02-21 13:50:05,539 - INFO - Processing URL 1/2: https://www.eversports.de/s/pole-and-move-heidelberg\n"
     ]
    },
    {
     "name": "stdout",
     "output_type": "stream",
     "text": [
      "Converting to DataFrame...\n",
      "Validating URLs...\n"
     ]
    },
    {
     "name": "stderr",
     "output_type": "stream",
     "text": [
      "2024-02-21 13:50:06,877 - INFO - URL https://www.eversports.de/s/pole-and-move-heidelberg is valid.\n",
      "2024-02-21 13:50:06,878 - INFO - Processing URL 2/2: https://www.eversports.de/sw/pole-and-move-heidelberg\n",
      "2024-02-21 13:50:08,268 - INFO - URL https://www.eversports.de/sw/pole-and-move-heidelberg is valid.\n"
     ]
    },
    {
     "name": "stdout",
     "output_type": "stream",
     "text": [
      "Scraping Pole Studio Data from https://www.eversports.de/s/pole-and-move-heidelberg...\n",
      "Scraping Workshops Data from https://www.eversports.de/sw/pole-and-move-heidelberg...\n",
      "Scraping Workshop Details from https://www.eversports.de/e/workshop/AnumKko...\n",
      "Scraping Workshop Details from https://www.eversports.de/e/workshop/aqDwRxt...\n",
      "Scraping Workshop Details from https://www.eversports.de/e/workshop/xpUUbAx...\n",
      "Scraping Workshop Details from https://www.eversports.de/e/workshop/yXAMy8l...\n",
      "Scraping Workshop Details from https://www.eversports.de/e/workshop/ioRS-mE...\n",
      "Scraping Workshop Details from https://www.eversports.de/e/workshop/mI91ydw...\n",
      "Error retrieving the webpage: 502 Server Error: Bad Gateway for url: https://www.eversports.de/e/workshop/mI91ydw\n",
      "Scraping Workshop Details from https://www.eversports.de/e/workshop/Ngcpd4l...\n",
      "Scraping Workshop Details from https://www.eversports.de/e/workshop/ij8VZCH...\n",
      "Scraping Workshop Details from https://www.eversports.de/e/workshop/Met7fdZ...\n"
     ]
    },
    {
     "name": "stderr",
     "output_type": "stream",
     "text": [
      "Processing URLs:  45%|████▌     | 149/330 [08:49<21:59,  7.29s/it]"
     ]
    },
    {
     "name": "stdout",
     "output_type": "stream",
     "text": [
      "\n",
      "Processing completed.\n",
      "-------------------------------- \n",
      "\n",
      "2024-02-21 13:50:21 - INFO - Scraping Data from: https://www.eversports.de/s/pole-and-move-heidelberg\n",
      "Pole Studio Data: 1 entries\n",
      "2024-02-21 13:50:21 - INFO - Scraping Data from: https://www.eversports.de/s/pole-and-move-heidelberg\n",
      "Workshops Data: 9 entries\n",
      "2024-02-21 13:50:21 - INFO - Scraping Data from: https://www.eversports.de/s/pole-and-move-heidelberg\n",
      "Workshop Details: 8 entries\n",
      "Starting URL reconstruction...\n"
     ]
    },
    {
     "name": "stderr",
     "output_type": "stream",
     "text": [
      "Processing URLs:  45%|████▌     | 150/330 [08:51<16:24,  5.47s/it]"
     ]
    },
    {
     "name": "stdout",
     "output_type": "stream",
     "text": [
      "Error during HTTP request: 404 Client Error: Not Found for url: https://www.eversports.de/s/incredipole---pole-%26-fitness-by-carolin\n",
      "Converting to DataFrame...\n",
      "Validating URLs...\n",
      "\n",
      "Processing completed.\n",
      "-------------------------------- \n",
      "\n",
      "Starting URL reconstruction...\n"
     ]
    },
    {
     "name": "stderr",
     "output_type": "stream",
     "text": [
      "Processing URLs:  46%|████▌     | 151/330 [08:52<12:49,  4.30s/it]"
     ]
    },
    {
     "name": "stdout",
     "output_type": "stream",
     "text": [
      "Error during HTTP request: 404 Client Error: Not Found for url: https://www.eversports.de/s/anni's-pole-dance-uetersen\n",
      "Converting to DataFrame...\n",
      "Validating URLs...\n",
      "\n",
      "Processing completed.\n",
      "-------------------------------- \n",
      "\n",
      "Starting URL reconstruction...\n"
     ]
    },
    {
     "name": "stderr",
     "output_type": "stream",
     "text": [
      "Processing URLs:  46%|████▌     | 152/330 [08:53<09:57,  3.36s/it]"
     ]
    },
    {
     "name": "stdout",
     "output_type": "stream",
     "text": [
      "Error during HTTP request: 404 Client Error: Not Found for url: https://www.eversports.de/s/pole-fit-britt\n",
      "Converting to DataFrame...\n",
      "Validating URLs...\n",
      "\n",
      "Processing completed.\n",
      "-------------------------------- \n",
      "\n",
      "Starting URL reconstruction...\n"
     ]
    },
    {
     "name": "stderr",
     "output_type": "stream",
     "text": [
      "Processing URLs:  46%|████▋     | 153/330 [08:55<08:01,  2.72s/it]"
     ]
    },
    {
     "name": "stdout",
     "output_type": "stream",
     "text": [
      "Error during HTTP request: 404 Client Error: Not Found for url: https://www.eversports.de/s/aerial-athletix-\n",
      "Converting to DataFrame...\n",
      "Validating URLs...\n",
      "\n",
      "Processing completed.\n",
      "-------------------------------- \n",
      "\n",
      "Starting URL reconstruction...\n"
     ]
    },
    {
     "name": "stderr",
     "output_type": "stream",
     "text": [
      "Processing URLs:  47%|████▋     | 154/330 [08:56<06:39,  2.27s/it]"
     ]
    },
    {
     "name": "stdout",
     "output_type": "stream",
     "text": [
      "Error during HTTP request: 404 Client Error: Not Found for url: https://www.eversports.de/s/lift-off---poledance-academy-frankfurt\n",
      "Converting to DataFrame...\n",
      "Validating URLs...\n",
      "\n",
      "Processing completed.\n",
      "-------------------------------- \n",
      "\n",
      "Starting URL reconstruction...\n"
     ]
    },
    {
     "name": "stderr",
     "output_type": "stream",
     "text": [
      "Processing URLs:  47%|████▋     | 155/330 [08:57<05:46,  1.98s/it]"
     ]
    },
    {
     "name": "stdout",
     "output_type": "stream",
     "text": [
      "Error during HTTP request: 404 Client Error: Not Found for url: https://www.eversports.de/s/metropole-dance---now1\n",
      "Converting to DataFrame...\n",
      "Validating URLs...\n",
      "\n",
      "Processing completed.\n",
      "-------------------------------- \n",
      "\n",
      "Starting URL reconstruction...\n"
     ]
    },
    {
     "name": "stderr",
     "output_type": "stream",
     "text": [
      "Processing URLs:  47%|████▋     | 156/330 [09:03<08:44,  3.01s/it]"
     ]
    },
    {
     "name": "stdout",
     "output_type": "stream",
     "text": [
      "Error during HTTP request: Exceeded 30 redirects.\n",
      "Converting to DataFrame...\n",
      "Validating URLs...\n",
      "\n",
      "Processing completed.\n",
      "-------------------------------- \n",
      "\n",
      "Starting URL reconstruction...\n"
     ]
    },
    {
     "name": "stderr",
     "output_type": "stream",
     "text": [
      "Processing URLs:  48%|████▊     | 157/330 [09:04<07:16,  2.52s/it]"
     ]
    },
    {
     "name": "stdout",
     "output_type": "stream",
     "text": [
      "Error during HTTP request: 404 Client Error: Not Found for url: https://www.eversports.de/s/aerial-art-poledance-city-base\n",
      "Converting to DataFrame...\n",
      "Validating URLs...\n",
      "\n",
      "Processing completed.\n",
      "-------------------------------- \n",
      "\n",
      "Starting URL reconstruction...\n"
     ]
    },
    {
     "name": "stderr",
     "output_type": "stream",
     "text": [
      "Processing URLs:  48%|████▊     | 158/330 [09:05<06:17,  2.19s/it]"
     ]
    },
    {
     "name": "stdout",
     "output_type": "stream",
     "text": [
      "Error during HTTP request: 404 Client Error: Not Found for url: https://www.eversports.de/s/gravity-arts-luzern\n",
      "Converting to DataFrame...\n",
      "Validating URLs...\n",
      "\n",
      "Processing completed.\n",
      "-------------------------------- \n",
      "\n",
      "Starting URL reconstruction...\n"
     ]
    },
    {
     "name": "stderr",
     "output_type": "stream",
     "text": [
      "Processing URLs:  48%|████▊     | 159/330 [09:08<07:00,  2.46s/it]"
     ]
    },
    {
     "name": "stdout",
     "output_type": "stream",
     "text": [
      "Error during HTTP request: Exceeded 30 redirects.\n",
      "Converting to DataFrame...\n",
      "Validating URLs...\n",
      "\n",
      "Processing completed.\n",
      "-------------------------------- \n",
      "\n",
      "Starting URL reconstruction...\n"
     ]
    },
    {
     "name": "stderr",
     "output_type": "stream",
     "text": [
      "Processing URLs:  48%|████▊     | 160/330 [09:10<06:03,  2.14s/it]"
     ]
    },
    {
     "name": "stdout",
     "output_type": "stream",
     "text": [
      "Error during HTTP request: 404 Client Error: Not Found for url: https://www.eversports.de/s/aerial-art-poledance-country-base\n",
      "Converting to DataFrame...\n",
      "Validating URLs...\n",
      "\n",
      "Processing completed.\n",
      "-------------------------------- \n",
      "\n",
      "Starting URL reconstruction...\n"
     ]
    },
    {
     "name": "stderr",
     "output_type": "stream",
     "text": [
      "Processing URLs:  49%|████▉     | 161/330 [09:11<05:15,  1.86s/it]"
     ]
    },
    {
     "name": "stdout",
     "output_type": "stream",
     "text": [
      "Error during HTTP request: 404 Client Error: Not Found for url: https://www.eversports.de/s/polesports-studio-buchholz\n",
      "Converting to DataFrame...\n",
      "Validating URLs...\n",
      "\n",
      "Processing completed.\n",
      "-------------------------------- \n",
      "\n",
      "Starting URL reconstruction...\n"
     ]
    },
    {
     "name": "stderr",
     "output_type": "stream",
     "text": [
      "Processing URLs:  49%|████▉     | 162/330 [09:12<04:38,  1.66s/it]"
     ]
    },
    {
     "name": "stdout",
     "output_type": "stream",
     "text": [
      "Error during HTTP request: 404 Client Error: Not Found for url: https://www.eversports.de/s/polepoint-dance-studio\n",
      "Converting to DataFrame...\n",
      "Validating URLs...\n",
      "\n",
      "Processing completed.\n",
      "-------------------------------- \n",
      "\n",
      "Starting URL reconstruction...\n"
     ]
    },
    {
     "name": "stderr",
     "output_type": "stream",
     "text": [
      "Processing URLs:  49%|████▉     | 163/330 [09:13<04:13,  1.52s/it]"
     ]
    },
    {
     "name": "stdout",
     "output_type": "stream",
     "text": [
      "Error during HTTP request: 404 Client Error: Not Found for url: https://www.eversports.de/s/slow-motion\n",
      "Converting to DataFrame...\n",
      "Validating URLs...\n",
      "\n",
      "Processing completed.\n",
      "-------------------------------- \n",
      "\n",
      "Starting URL reconstruction...\n"
     ]
    },
    {
     "name": "stderr",
     "output_type": "stream",
     "text": [
      "Processing URLs:  50%|████▉     | 164/330 [09:17<05:54,  2.14s/it]"
     ]
    },
    {
     "name": "stdout",
     "output_type": "stream",
     "text": [
      "Error during HTTP request: Exceeded 30 redirects.\n",
      "Converting to DataFrame...\n",
      "Validating URLs...\n",
      "\n",
      "Processing completed.\n",
      "-------------------------------- \n",
      "\n",
      "Starting URL reconstruction...\n"
     ]
    },
    {
     "name": "stderr",
     "output_type": "stream",
     "text": [
      "Processing URLs:  50%|█████     | 165/330 [09:18<05:02,  1.83s/it]"
     ]
    },
    {
     "name": "stdout",
     "output_type": "stream",
     "text": [
      "Error during HTTP request: 404 Client Error: Not Found for url: https://www.eversports.de/s/aerial-%26-vertikal-floor-of-art\n",
      "Converting to DataFrame...\n",
      "Validating URLs...\n",
      "\n",
      "Processing completed.\n",
      "-------------------------------- \n",
      "\n",
      "Starting URL reconstruction...\n"
     ]
    },
    {
     "name": "stderr",
     "output_type": "stream",
     "text": [
      "Processing URLs:  50%|█████     | 166/330 [09:19<04:27,  1.63s/it]"
     ]
    },
    {
     "name": "stdout",
     "output_type": "stream",
     "text": [
      "Error during HTTP request: 404 Client Error: Not Found for url: https://www.eversports.de/s/polefit-pirmasens\n",
      "Converting to DataFrame...\n",
      "Validating URLs...\n",
      "\n",
      "Processing completed.\n",
      "-------------------------------- \n",
      "\n",
      "Starting URL reconstruction...\n"
     ]
    },
    {
     "name": "stderr",
     "output_type": "stream",
     "text": [
      "Processing URLs:  51%|█████     | 167/330 [09:21<04:06,  1.51s/it]"
     ]
    },
    {
     "name": "stdout",
     "output_type": "stream",
     "text": [
      "Error during HTTP request: 404 Client Error: Not Found for url: https://www.eversports.de/s/polesition\n",
      "Converting to DataFrame...\n",
      "Validating URLs...\n",
      "\n",
      "Processing completed.\n",
      "-------------------------------- \n",
      "\n",
      "Starting URL reconstruction...\n"
     ]
    },
    {
     "name": "stderr",
     "output_type": "stream",
     "text": [
      "2024-02-21 13:50:54,420 - INFO - Processing URL 1/1: https://www.eversports.de/s/la-belle\n"
     ]
    },
    {
     "name": "stdout",
     "output_type": "stream",
     "text": [
      "Converting to DataFrame...\n",
      "Validating URLs...\n"
     ]
    },
    {
     "name": "stderr",
     "output_type": "stream",
     "text": [
      "2024-02-21 13:50:55,792 - INFO - URL https://www.eversports.de/s/la-belle is valid.\n"
     ]
    },
    {
     "name": "stdout",
     "output_type": "stream",
     "text": [
      "Scraping Pole Studio Data from https://www.eversports.de/s/la-belle...\n"
     ]
    },
    {
     "name": "stderr",
     "output_type": "stream",
     "text": [
      "Processing URLs:  51%|█████     | 168/330 [09:24<05:28,  2.03s/it]"
     ]
    },
    {
     "name": "stdout",
     "output_type": "stream",
     "text": [
      "\n",
      "Processing completed.\n",
      "-------------------------------- \n",
      "\n",
      "2024-02-21 13:50:56 - INFO - Scraping Data from: https://www.eversports.de/s/la-belle\n",
      "Pole Studio Data: 1 entries\n",
      "Starting URL reconstruction...\n"
     ]
    },
    {
     "name": "stderr",
     "output_type": "stream",
     "text": [
      "Processing URLs:  51%|█████     | 169/330 [09:25<04:44,  1.77s/it]"
     ]
    },
    {
     "name": "stdout",
     "output_type": "stream",
     "text": [
      "Error during HTTP request: 404 Client Error: Not Found for url: https://www.eversports.de/s/polestudio-neuss\n",
      "Converting to DataFrame...\n",
      "Validating URLs...\n",
      "\n",
      "Processing completed.\n",
      "-------------------------------- \n",
      "\n",
      "Starting URL reconstruction...\n"
     ]
    },
    {
     "name": "stderr",
     "output_type": "stream",
     "text": [
      "Processing URLs:  52%|█████▏    | 170/330 [09:26<04:11,  1.57s/it]"
     ]
    },
    {
     "name": "stdout",
     "output_type": "stream",
     "text": [
      "Error during HTTP request: 404 Client Error: Not Found for url: https://www.eversports.de/s/anni's-pole-dance-neum%C3%BCnster\n",
      "Converting to DataFrame...\n",
      "Validating URLs...\n",
      "\n",
      "Processing completed.\n",
      "-------------------------------- \n",
      "\n",
      "Starting URL reconstruction...\n"
     ]
    },
    {
     "name": "stderr",
     "output_type": "stream",
     "text": [
      "Processing URLs:  52%|█████▏    | 171/330 [09:27<03:52,  1.46s/it]"
     ]
    },
    {
     "name": "stdout",
     "output_type": "stream",
     "text": [
      "Error during HTTP request: 404 Client Error: Not Found for url: https://www.eversports.de/s/pole-dream\n",
      "Converting to DataFrame...\n",
      "Validating URLs...\n",
      "\n",
      "Processing completed.\n",
      "-------------------------------- \n",
      "\n",
      "Starting URL reconstruction...\n"
     ]
    },
    {
     "name": "stderr",
     "output_type": "stream",
     "text": [
      "2024-02-21 13:51:01,194 - INFO - Processing URL 1/2: https://www.eversports.de/s/polearize\n"
     ]
    },
    {
     "name": "stdout",
     "output_type": "stream",
     "text": [
      "Converting to DataFrame...\n",
      "Validating URLs...\n"
     ]
    },
    {
     "name": "stderr",
     "output_type": "stream",
     "text": [
      "2024-02-21 13:51:02,648 - INFO - URL https://www.eversports.de/s/polearize is valid.\n",
      "2024-02-21 13:51:02,649 - INFO - Processing URL 2/2: https://www.eversports.de/sw/polearize\n",
      "2024-02-21 13:51:03,970 - INFO - URL https://www.eversports.de/sw/polearize is valid.\n"
     ]
    },
    {
     "name": "stdout",
     "output_type": "stream",
     "text": [
      "Scraping Pole Studio Data from https://www.eversports.de/s/polearize...\n",
      "Scraping Workshops Data from https://www.eversports.de/sw/polearize...\n",
      "Scraping Workshop Details from https://www.eversports.de/e/workshop/516yIHG...\n",
      "Scraping Workshop Details from https://www.eversports.de/e/workshop/oGm0xhs...\n",
      "Scraping Workshop Details from https://www.eversports.de/e/workshop/7yGrljL...\n",
      "Scraping Workshop Details from https://www.eversports.de/e/workshop/vmkQFeK...\n",
      "Scraping Workshop Details from https://www.eversports.de/e/workshop/4gGolhi...\n"
     ]
    },
    {
     "name": "stderr",
     "output_type": "stream",
     "text": [
      "Processing URLs:  52%|█████▏    | 172/330 [09:41<13:51,  5.26s/it]"
     ]
    },
    {
     "name": "stdout",
     "output_type": "stream",
     "text": [
      "\n",
      "Processing completed.\n",
      "-------------------------------- \n",
      "\n",
      "2024-02-21 13:51:13 - INFO - Scraping Data from: https://www.eversports.de/s/polearize\n",
      "Pole Studio Data: 1 entries\n",
      "2024-02-21 13:51:13 - INFO - Scraping Data from: https://www.eversports.de/s/polearize\n",
      "Workshops Data: 5 entries\n",
      "2024-02-21 13:51:13 - INFO - Scraping Data from: https://www.eversports.de/s/polearize\n",
      "Workshop Details: 5 entries\n",
      "Starting URL reconstruction...\n"
     ]
    },
    {
     "name": "stderr",
     "output_type": "stream",
     "text": [
      "Processing URLs:  52%|█████▏    | 173/330 [09:42<10:31,  4.02s/it]"
     ]
    },
    {
     "name": "stdout",
     "output_type": "stream",
     "text": [
      "Error during HTTP request: 404 Client Error: Not Found for url: https://www.eversports.de/s/saltosandra\n",
      "Converting to DataFrame...\n",
      "Validating URLs...\n",
      "\n",
      "Processing completed.\n",
      "-------------------------------- \n",
      "\n",
      "Starting URL reconstruction...\n"
     ]
    },
    {
     "name": "stderr",
     "output_type": "stream",
     "text": [
      "Processing URLs:  53%|█████▎    | 174/330 [09:44<08:13,  3.16s/it]"
     ]
    },
    {
     "name": "stdout",
     "output_type": "stream",
     "text": [
      "Error during HTTP request: 404 Client Error: Not Found for url: https://www.eversports.de/s/pole-fit-nes\n",
      "Converting to DataFrame...\n",
      "Validating URLs...\n",
      "\n",
      "Processing completed.\n",
      "-------------------------------- \n",
      "\n",
      "Starting URL reconstruction...\n"
     ]
    },
    {
     "name": "stderr",
     "output_type": "stream",
     "text": [
      "2024-02-21 13:51:17,538 - INFO - Processing URL 1/2: https://www.eversports.de/s/pole-land\n"
     ]
    },
    {
     "name": "stdout",
     "output_type": "stream",
     "text": [
      "Converting to DataFrame...\n",
      "Validating URLs...\n"
     ]
    },
    {
     "name": "stderr",
     "output_type": "stream",
     "text": [
      "2024-02-21 13:51:18,861 - INFO - URL https://www.eversports.de/s/pole-land is valid.\n",
      "2024-02-21 13:51:18,862 - INFO - Processing URL 2/2: https://www.eversports.de/sw/pole-land\n",
      "2024-02-21 13:51:20,049 - INFO - URL https://www.eversports.de/sw/pole-land is valid.\n"
     ]
    },
    {
     "name": "stdout",
     "output_type": "stream",
     "text": [
      "Scraping Pole Studio Data from https://www.eversports.de/s/pole-land...\n",
      "Scraping Workshops Data from https://www.eversports.de/sw/pole-land...\n",
      "Scraping Workshop Details from https://www.eversports.de/e/workshop/ezegoNQ...\n",
      "Scraping Workshop Details from https://www.eversports.de/e/workshop/WccIM2q...\n",
      "Scraping Workshop Details from https://www.eversports.de/e/workshop/SqEYfO3...\n",
      "Scraping Workshop Details from https://www.eversports.de/e/workshop/OGUBUS8...\n",
      "Scraping Workshop Details from https://www.eversports.de/e/workshop/VVXdiD8...\n"
     ]
    },
    {
     "name": "stderr",
     "output_type": "stream",
     "text": [
      "Processing URLs:  53%|█████▎    | 175/330 [09:56<15:15,  5.91s/it]"
     ]
    },
    {
     "name": "stdout",
     "output_type": "stream",
     "text": [
      "\n",
      "Processing completed.\n",
      "-------------------------------- \n",
      "\n",
      "2024-02-21 13:51:28 - INFO - Scraping Data from: https://www.eversports.de/s/pole-land\n",
      "Pole Studio Data: 1 entries\n",
      "2024-02-21 13:51:28 - INFO - Scraping Data from: https://www.eversports.de/s/pole-land\n",
      "Workshops Data: 5 entries\n",
      "2024-02-21 13:51:28 - INFO - Scraping Data from: https://www.eversports.de/s/pole-land\n",
      "Workshop Details: 5 entries\n",
      "Starting URL reconstruction...\n"
     ]
    },
    {
     "name": "stderr",
     "output_type": "stream",
     "text": [
      "2024-02-21 13:51:29,773 - INFO - Processing URL 1/1: https://www.eversports.de/s/freaky-fitness\n"
     ]
    },
    {
     "name": "stdout",
     "output_type": "stream",
     "text": [
      "Converting to DataFrame...\n",
      "Validating URLs...\n"
     ]
    },
    {
     "name": "stderr",
     "output_type": "stream",
     "text": [
      "2024-02-21 13:51:31,135 - INFO - URL https://www.eversports.de/s/freaky-fitness is valid.\n"
     ]
    },
    {
     "name": "stdout",
     "output_type": "stream",
     "text": [
      "Scraping Pole Studio Data from https://www.eversports.de/s/freaky-fitness...\n"
     ]
    },
    {
     "name": "stderr",
     "output_type": "stream",
     "text": [
      "Processing URLs:  53%|█████▎    | 176/330 [09:59<13:00,  5.07s/it]"
     ]
    },
    {
     "name": "stdout",
     "output_type": "stream",
     "text": [
      "\n",
      "Processing completed.\n",
      "-------------------------------- \n",
      "\n",
      "2024-02-21 13:51:31 - INFO - Scraping Data from: https://www.eversports.de/s/freaky-fitness\n",
      "Pole Studio Data: 1 entries\n",
      "Starting URL reconstruction...\n"
     ]
    },
    {
     "name": "stderr",
     "output_type": "stream",
     "text": [
      "2024-02-21 13:51:32,793 - INFO - Processing URL 1/1: https://www.eversports.de/s/stories-in-motion\n"
     ]
    },
    {
     "name": "stdout",
     "output_type": "stream",
     "text": [
      "Converting to DataFrame...\n",
      "Validating URLs...\n"
     ]
    },
    {
     "name": "stderr",
     "output_type": "stream",
     "text": [
      "2024-02-21 13:51:34,272 - INFO - URL https://www.eversports.de/s/stories-in-motion is valid.\n"
     ]
    },
    {
     "name": "stdout",
     "output_type": "stream",
     "text": [
      "Scraping Pole Studio Data from https://www.eversports.de/s/stories-in-motion...\n"
     ]
    },
    {
     "name": "stderr",
     "output_type": "stream",
     "text": [
      "Processing URLs:  54%|█████▎    | 177/330 [10:03<12:02,  4.72s/it]"
     ]
    },
    {
     "name": "stdout",
     "output_type": "stream",
     "text": [
      "\n",
      "Processing completed.\n",
      "-------------------------------- \n",
      "\n",
      "2024-02-21 13:51:35 - INFO - Scraping Data from: https://www.eversports.de/s/stories-in-motion\n",
      "Pole Studio Data: 1 entries\n",
      "Starting URL reconstruction...\n"
     ]
    },
    {
     "name": "stderr",
     "output_type": "stream",
     "text": [
      "Processing URLs:  54%|█████▍    | 178/330 [10:04<09:18,  3.67s/it]"
     ]
    },
    {
     "name": "stdout",
     "output_type": "stream",
     "text": [
      "Error during HTTP request: 404 Client Error: Not Found for url: https://www.eversports.de/s/dalibravita\n",
      "Converting to DataFrame...\n",
      "Validating URLs...\n",
      "\n",
      "Processing completed.\n",
      "-------------------------------- \n",
      "\n",
      "Starting URL reconstruction...\n"
     ]
    },
    {
     "name": "stderr",
     "output_type": "stream",
     "text": [
      "Processing URLs:  54%|█████▍    | 179/330 [10:05<07:19,  2.91s/it]"
     ]
    },
    {
     "name": "stdout",
     "output_type": "stream",
     "text": [
      "Error during HTTP request: 404 Client Error: Not Found for url: https://www.eversports.de/s/move-with-ana\n",
      "Converting to DataFrame...\n",
      "Validating URLs...\n",
      "\n",
      "Processing completed.\n",
      "-------------------------------- \n",
      "\n",
      "Starting URL reconstruction...\n"
     ]
    },
    {
     "name": "stderr",
     "output_type": "stream",
     "text": [
      "Processing URLs:  55%|█████▍    | 180/330 [10:07<05:58,  2.39s/it]"
     ]
    },
    {
     "name": "stdout",
     "output_type": "stream",
     "text": [
      "Error during HTTP request: 404 Client Error: Not Found for url: https://www.eversports.de/s/open-aerial-dance-wiesbaden\n",
      "Converting to DataFrame...\n",
      "Validating URLs...\n",
      "\n",
      "Processing completed.\n",
      "-------------------------------- \n",
      "\n",
      "Starting URL reconstruction...\n"
     ]
    },
    {
     "name": "stderr",
     "output_type": "stream",
     "text": [
      "2024-02-21 13:52:14,238 - INFO - Processing URL 1/1: https://www.eversports.de/s/dancingstyle\n"
     ]
    },
    {
     "name": "stdout",
     "output_type": "stream",
     "text": [
      "Converting to DataFrame...\n",
      "Validating URLs...\n"
     ]
    },
    {
     "name": "stderr",
     "output_type": "stream",
     "text": [
      "2024-02-21 13:52:15,807 - INFO - URL https://www.eversports.de/s/dancingstyle is valid.\n"
     ]
    },
    {
     "name": "stdout",
     "output_type": "stream",
     "text": [
      "Scraping Pole Studio Data from https://www.eversports.de/s/dancingstyle...\n"
     ]
    },
    {
     "name": "stderr",
     "output_type": "stream",
     "text": [
      "Processing URLs:  55%|█████▍    | 181/330 [10:44<31:50, 12.82s/it]"
     ]
    },
    {
     "name": "stdout",
     "output_type": "stream",
     "text": [
      "\n",
      "Processing completed.\n",
      "-------------------------------- \n",
      "\n",
      "2024-02-21 13:52:16 - INFO - Scraping Data from: https://www.eversports.de/s/dancingstyle\n",
      "Pole Studio Data: 1 entries\n",
      "Starting URL reconstruction...\n"
     ]
    },
    {
     "name": "stderr",
     "output_type": "stream",
     "text": [
      "Processing URLs:  55%|█████▌    | 182/330 [10:45<23:14,  9.42s/it]"
     ]
    },
    {
     "name": "stdout",
     "output_type": "stream",
     "text": [
      "Error during HTTP request: 404 Client Error: Not Found for url: https://www.eversports.de/s/pole-for-soul\n",
      "Converting to DataFrame...\n",
      "Validating URLs...\n",
      "\n",
      "Processing completed.\n",
      "-------------------------------- \n",
      "\n",
      "Starting URL reconstruction...\n"
     ]
    },
    {
     "name": "stderr",
     "output_type": "stream",
     "text": [
      "2024-02-21 13:52:18,996 - INFO - Processing URL 1/1: https://www.eversports.de/s/polewirbel\n"
     ]
    },
    {
     "name": "stdout",
     "output_type": "stream",
     "text": [
      "Converting to DataFrame...\n",
      "Validating URLs...\n"
     ]
    },
    {
     "name": "stderr",
     "output_type": "stream",
     "text": [
      "2024-02-21 13:52:20,293 - INFO - URL https://www.eversports.de/s/polewirbel is valid.\n"
     ]
    },
    {
     "name": "stdout",
     "output_type": "stream",
     "text": [
      "Scraping Pole Studio Data from https://www.eversports.de/s/polewirbel...\n"
     ]
    },
    {
     "name": "stderr",
     "output_type": "stream",
     "text": [
      "Processing URLs:  55%|█████▌    | 183/330 [10:48<18:22,  7.50s/it]"
     ]
    },
    {
     "name": "stdout",
     "output_type": "stream",
     "text": [
      "\n",
      "Processing completed.\n",
      "-------------------------------- \n",
      "\n",
      "2024-02-21 13:52:20 - INFO - Scraping Data from: https://www.eversports.de/s/polewirbel\n",
      "Pole Studio Data: 1 entries\n",
      "Starting URL reconstruction...\n"
     ]
    },
    {
     "name": "stderr",
     "output_type": "stream",
     "text": [
      "2024-02-21 13:52:22,123 - INFO - Processing URL 1/1: https://www.eversports.de/s/pole-heaven\n"
     ]
    },
    {
     "name": "stdout",
     "output_type": "stream",
     "text": [
      "Converting to DataFrame...\n",
      "Validating URLs...\n"
     ]
    },
    {
     "name": "stderr",
     "output_type": "stream",
     "text": [
      "2024-02-21 13:52:23,363 - INFO - URL https://www.eversports.de/s/pole-heaven is valid.\n"
     ]
    },
    {
     "name": "stdout",
     "output_type": "stream",
     "text": [
      "Scraping Pole Studio Data from https://www.eversports.de/s/pole-heaven...\n"
     ]
    },
    {
     "name": "stderr",
     "output_type": "stream",
     "text": [
      "Processing URLs:  56%|█████▌    | 184/330 [10:51<14:58,  6.15s/it]"
     ]
    },
    {
     "name": "stdout",
     "output_type": "stream",
     "text": [
      "\n",
      "Processing completed.\n",
      "-------------------------------- \n",
      "\n",
      "2024-02-21 13:52:23 - INFO - Scraping Data from: https://www.eversports.de/s/pole-heaven\n",
      "Pole Studio Data: 1 entries\n",
      "Starting URL reconstruction...\n"
     ]
    },
    {
     "name": "stderr",
     "output_type": "stream",
     "text": [
      "Processing URLs:  56%|█████▌    | 185/330 [10:52<11:15,  4.66s/it]"
     ]
    },
    {
     "name": "stdout",
     "output_type": "stream",
     "text": [
      "Error during HTTP request: 404 Client Error: Not Found for url: https://www.eversports.de/s/les.pole\n",
      "Converting to DataFrame...\n",
      "Validating URLs...\n",
      "\n",
      "Processing completed.\n",
      "-------------------------------- \n",
      "\n",
      "Starting URL reconstruction...\n"
     ]
    },
    {
     "name": "stderr",
     "output_type": "stream",
     "text": [
      "2024-02-21 13:52:26,209 - INFO - Processing URL 1/1: https://www.eversports.de/s/polefriends-magdeburg\n"
     ]
    },
    {
     "name": "stdout",
     "output_type": "stream",
     "text": [
      "Converting to DataFrame...\n",
      "Validating URLs...\n"
     ]
    },
    {
     "name": "stderr",
     "output_type": "stream",
     "text": [
      "2024-02-21 13:52:27,603 - INFO - URL https://www.eversports.de/s/polefriends-magdeburg is valid.\n"
     ]
    },
    {
     "name": "stdout",
     "output_type": "stream",
     "text": [
      "Scraping Pole Studio Data from https://www.eversports.de/s/polefriends-magdeburg...\n"
     ]
    },
    {
     "name": "stderr",
     "output_type": "stream",
     "text": [
      "Processing URLs:  56%|█████▋    | 186/330 [10:55<10:04,  4.20s/it]"
     ]
    },
    {
     "name": "stdout",
     "output_type": "stream",
     "text": [
      "\n",
      "Processing completed.\n",
      "-------------------------------- \n",
      "\n",
      "2024-02-21 13:52:27 - INFO - Scraping Data from: https://www.eversports.de/s/polefriends-magdeburg\n",
      "Pole Studio Data: 1 entries\n",
      "Starting URL reconstruction...\n"
     ]
    },
    {
     "name": "stderr",
     "output_type": "stream",
     "text": [
      "Processing URLs:  57%|█████▋    | 187/330 [10:58<09:08,  3.84s/it]"
     ]
    },
    {
     "name": "stdout",
     "output_type": "stream",
     "text": [
      "Error during HTTP request: Exceeded 30 redirects.\n",
      "Converting to DataFrame...\n",
      "Validating URLs...\n",
      "\n",
      "Processing completed.\n",
      "-------------------------------- \n",
      "\n",
      "Starting URL reconstruction...\n"
     ]
    },
    {
     "name": "stderr",
     "output_type": "stream",
     "text": [
      "Processing URLs:  57%|█████▋    | 188/330 [11:02<08:37,  3.64s/it]"
     ]
    },
    {
     "name": "stdout",
     "output_type": "stream",
     "text": [
      "Error during HTTP request: Exceeded 30 redirects.\n",
      "Converting to DataFrame...\n",
      "Validating URLs...\n",
      "\n",
      "Processing completed.\n",
      "-------------------------------- \n",
      "\n",
      "Starting URL reconstruction...\n"
     ]
    },
    {
     "name": "stderr",
     "output_type": "stream",
     "text": [
      "Processing URLs:  57%|█████▋    | 189/330 [11:03<06:55,  2.95s/it]"
     ]
    },
    {
     "name": "stdout",
     "output_type": "stream",
     "text": [
      "Error during HTTP request: 404 Client Error: Not Found for url: https://www.eversports.de/s/polefitness-tituba-m%C3%B6nchengladbach!\n",
      "Converting to DataFrame...\n",
      "Validating URLs...\n",
      "\n",
      "Processing completed.\n",
      "-------------------------------- \n",
      "\n",
      "Starting URL reconstruction...\n"
     ]
    },
    {
     "name": "stderr",
     "output_type": "stream",
     "text": [
      "Processing URLs:  58%|█████▊    | 190/330 [11:04<05:46,  2.48s/it]"
     ]
    },
    {
     "name": "stdout",
     "output_type": "stream",
     "text": [
      "Error during HTTP request: 404 Client Error: Not Found for url: https://www.eversports.de/s/lioness-lodge\n",
      "Converting to DataFrame...\n",
      "Validating URLs...\n",
      "\n",
      "Processing completed.\n",
      "-------------------------------- \n",
      "\n",
      "Starting URL reconstruction...\n"
     ]
    },
    {
     "name": "stderr",
     "output_type": "stream",
     "text": [
      "Processing URLs:  58%|█████▊    | 191/330 [11:06<04:49,  2.08s/it]"
     ]
    },
    {
     "name": "stdout",
     "output_type": "stream",
     "text": [
      "Error during HTTP request: 404 Client Error: Not Found for url: https://www.eversports.de/s/rock'n'pole-regensburg\n",
      "Converting to DataFrame...\n",
      "Validating URLs...\n",
      "\n",
      "Processing completed.\n",
      "-------------------------------- \n",
      "\n",
      "Starting URL reconstruction...\n"
     ]
    },
    {
     "name": "stderr",
     "output_type": "stream",
     "text": [
      "Processing URLs:  58%|█████▊    | 192/330 [11:07<04:12,  1.83s/it]"
     ]
    },
    {
     "name": "stdout",
     "output_type": "stream",
     "text": [
      "Error during HTTP request: 404 Client Error: Not Found for url: https://www.eversports.de/s/flexx-arts-memmingen\n",
      "Converting to DataFrame...\n",
      "Validating URLs...\n",
      "\n",
      "Processing completed.\n",
      "-------------------------------- \n",
      "\n",
      "Starting URL reconstruction...\n"
     ]
    },
    {
     "name": "stderr",
     "output_type": "stream",
     "text": [
      "2024-02-21 13:52:40,744 - INFO - Processing URL 1/1: https://www.eversports.de/s/pole-dance-studio-passion-hannover\n"
     ]
    },
    {
     "name": "stdout",
     "output_type": "stream",
     "text": [
      "Converting to DataFrame...\n",
      "Validating URLs...\n"
     ]
    },
    {
     "name": "stderr",
     "output_type": "stream",
     "text": [
      "2024-02-21 13:52:42,127 - INFO - URL https://www.eversports.de/s/pole-dance-studio-passion-hannover is valid.\n"
     ]
    },
    {
     "name": "stdout",
     "output_type": "stream",
     "text": [
      "Scraping Pole Studio Data from https://www.eversports.de/s/pole-dance-studio-passion-hannover...\n"
     ]
    },
    {
     "name": "stderr",
     "output_type": "stream",
     "text": [
      "Processing URLs:  58%|█████▊    | 193/330 [11:10<05:09,  2.26s/it]"
     ]
    },
    {
     "name": "stdout",
     "output_type": "stream",
     "text": [
      "\n",
      "Processing completed.\n",
      "-------------------------------- \n",
      "\n",
      "2024-02-21 13:52:42 - INFO - Scraping Data from: https://www.eversports.de/s/pole-dance-studio-passion-hannover\n",
      "Pole Studio Data: 1 entries\n",
      "Starting URL reconstruction...\n"
     ]
    },
    {
     "name": "stderr",
     "output_type": "stream",
     "text": [
      "Processing URLs:  59%|█████▉    | 194/330 [11:11<04:31,  1.99s/it]"
     ]
    },
    {
     "name": "stdout",
     "output_type": "stream",
     "text": [
      "Error during HTTP request: 404 Client Error: Not Found for url: https://www.eversports.de/s/vanilla-sky-pole-atelier\n",
      "Converting to DataFrame...\n",
      "Validating URLs...\n",
      "\n",
      "Processing completed.\n",
      "-------------------------------- \n",
      "\n",
      "Starting URL reconstruction...\n"
     ]
    },
    {
     "name": "stderr",
     "output_type": "stream",
     "text": [
      "Processing URLs:  59%|█████▉    | 195/330 [11:13<04:00,  1.78s/it]"
     ]
    },
    {
     "name": "stdout",
     "output_type": "stream",
     "text": [
      "Error during HTTP request: 404 Client Error: Not Found for url: https://www.eversports.de/s/verticalspirit-chemnitz-e.-v.\n",
      "Converting to DataFrame...\n",
      "Validating URLs...\n",
      "\n",
      "Processing completed.\n",
      "-------------------------------- \n",
      "\n",
      "Starting URL reconstruction...\n"
     ]
    },
    {
     "name": "stderr",
     "output_type": "stream",
     "text": [
      "Processing URLs:  59%|█████▉    | 196/330 [11:15<04:33,  2.04s/it]"
     ]
    },
    {
     "name": "stdout",
     "output_type": "stream",
     "text": [
      "Error during HTTP request: 404 Client Error: Not Found for url: https://www.eversports.de/s/pole-fit-plauen\n",
      "Converting to DataFrame...\n",
      "Validating URLs...\n",
      "\n",
      "Processing completed.\n",
      "-------------------------------- \n",
      "\n",
      "Starting URL reconstruction...\n"
     ]
    },
    {
     "name": "stderr",
     "output_type": "stream",
     "text": [
      "Processing URLs:  60%|█████▉    | 197/330 [11:17<04:13,  1.91s/it]"
     ]
    },
    {
     "name": "stdout",
     "output_type": "stream",
     "text": [
      "Error during HTTP request: 404 Client Error: Not Found for url: https://www.eversports.de/s/flyhigh\n",
      "Converting to DataFrame...\n",
      "Validating URLs...\n",
      "\n",
      "Processing completed.\n",
      "-------------------------------- \n",
      "\n",
      "Starting URL reconstruction...\n"
     ]
    },
    {
     "name": "stderr",
     "output_type": "stream",
     "text": [
      "2024-02-21 13:52:50,904 - INFO - Processing URL 1/1: https://www.eversports.de/s/muse-pole-dance\n"
     ]
    },
    {
     "name": "stdout",
     "output_type": "stream",
     "text": [
      "Converting to DataFrame...\n",
      "Validating URLs...\n"
     ]
    },
    {
     "name": "stderr",
     "output_type": "stream",
     "text": [
      "2024-02-21 13:52:52,447 - INFO - URL https://www.eversports.de/s/muse-pole-dance is valid.\n"
     ]
    },
    {
     "name": "stdout",
     "output_type": "stream",
     "text": [
      "Scraping Pole Studio Data from https://www.eversports.de/s/muse-pole-dance...\n",
      "\n",
      "Processing completed.\n",
      "-------------------------------- \n",
      "\n"
     ]
    },
    {
     "name": "stderr",
     "output_type": "stream",
     "text": [
      "Processing URLs:  60%|██████    | 198/330 [11:20<05:08,  2.33s/it]"
     ]
    },
    {
     "name": "stdout",
     "output_type": "stream",
     "text": [
      "2024-02-21 13:52:52 - INFO - Scraping Data from: https://www.eversports.de/s/muse-pole-dance\n",
      "Pole Studio Data: 1 entries\n",
      "Starting URL reconstruction...\n"
     ]
    },
    {
     "name": "stderr",
     "output_type": "stream",
     "text": [
      "Processing URLs:  60%|██████    | 199/330 [11:24<05:42,  2.61s/it]"
     ]
    },
    {
     "name": "stdout",
     "output_type": "stream",
     "text": [
      "Error during HTTP request: Exceeded 30 redirects.\n",
      "Converting to DataFrame...\n",
      "Validating URLs...\n",
      "\n",
      "Processing completed.\n",
      "-------------------------------- \n",
      "\n",
      "Starting URL reconstruction...\n"
     ]
    },
    {
     "name": "stderr",
     "output_type": "stream",
     "text": [
      "Processing URLs:  61%|██████    | 200/330 [11:25<04:44,  2.19s/it]"
     ]
    },
    {
     "name": "stdout",
     "output_type": "stream",
     "text": [
      "Error during HTTP request: 404 Client Error: Not Found for url: https://www.eversports.de/s/pole-fun-wehr\n",
      "Converting to DataFrame...\n",
      "Validating URLs...\n",
      "\n",
      "Processing completed.\n",
      "-------------------------------- \n",
      "\n",
      "Starting URL reconstruction...\n"
     ]
    },
    {
     "name": "stderr",
     "output_type": "stream",
     "text": [
      "Processing URLs:  61%|██████    | 201/330 [11:26<04:03,  1.89s/it]"
     ]
    },
    {
     "name": "stdout",
     "output_type": "stream",
     "text": [
      "Error during HTTP request: 404 Client Error: Not Found for url: https://www.eversports.de/s/lift-off---poledance-academy-viersen\n",
      "Converting to DataFrame...\n",
      "Validating URLs...\n",
      "\n",
      "Processing completed.\n",
      "-------------------------------- \n",
      "\n",
      "Starting URL reconstruction...\n"
     ]
    },
    {
     "name": "stderr",
     "output_type": "stream",
     "text": [
      "Processing URLs:  61%|██████    | 202/330 [11:27<03:34,  1.67s/it]"
     ]
    },
    {
     "name": "stdout",
     "output_type": "stream",
     "text": [
      "Error during HTTP request: 404 Client Error: Not Found for url: https://www.eversports.de/s/fly-%26-flow-studio\n",
      "Converting to DataFrame...\n",
      "Validating URLs...\n",
      "\n",
      "Processing completed.\n",
      "-------------------------------- \n",
      "\n",
      "Starting URL reconstruction...\n"
     ]
    },
    {
     "name": "stderr",
     "output_type": "stream",
     "text": [
      "2024-02-21 13:53:00,855 - INFO - Processing URL 1/1: https://www.eversports.de/s/ima-intentional-movement-academy\n"
     ]
    },
    {
     "name": "stdout",
     "output_type": "stream",
     "text": [
      "Converting to DataFrame...\n",
      "Validating URLs...\n"
     ]
    },
    {
     "name": "stderr",
     "output_type": "stream",
     "text": [
      "2024-02-21 13:53:02,507 - INFO - URL https://www.eversports.de/s/ima-intentional-movement-academy is valid.\n"
     ]
    },
    {
     "name": "stdout",
     "output_type": "stream",
     "text": [
      "Scraping Pole Studio Data from https://www.eversports.de/s/ima-intentional-movement-academy...\n"
     ]
    },
    {
     "name": "stderr",
     "output_type": "stream",
     "text": [
      "Processing URLs:  62%|██████▏   | 203/330 [11:30<04:35,  2.17s/it]"
     ]
    },
    {
     "name": "stdout",
     "output_type": "stream",
     "text": [
      "\n",
      "Processing completed.\n",
      "-------------------------------- \n",
      "\n",
      "2024-02-21 13:53:02 - INFO - Scraping Data from: https://www.eversports.de/s/ima-intentional-movement-academy\n",
      "Pole Studio Data: 1 entries\n",
      "Starting URL reconstruction...\n"
     ]
    },
    {
     "name": "stderr",
     "output_type": "stream",
     "text": [
      "Processing URLs:  62%|██████▏   | 204/330 [11:32<03:55,  1.87s/it]"
     ]
    },
    {
     "name": "stdout",
     "output_type": "stream",
     "text": [
      "Error during HTTP request: 404 Client Error: Not Found for url: https://www.eversports.de/s/health-and-shape\n",
      "Converting to DataFrame...\n",
      "Validating URLs...\n",
      "\n",
      "Processing completed.\n",
      "-------------------------------- \n",
      "\n",
      "Starting URL reconstruction...\n"
     ]
    },
    {
     "name": "stderr",
     "output_type": "stream",
     "text": [
      "2024-02-21 13:53:05,345 - INFO - Processing URL 1/1: https://www.eversports.de/s/aerial-sportstudio\n"
     ]
    },
    {
     "name": "stdout",
     "output_type": "stream",
     "text": [
      "Converting to DataFrame...\n",
      "Validating URLs...\n"
     ]
    },
    {
     "name": "stderr",
     "output_type": "stream",
     "text": [
      "2024-02-21 13:53:06,709 - INFO - URL https://www.eversports.de/s/aerial-sportstudio is valid.\n"
     ]
    },
    {
     "name": "stdout",
     "output_type": "stream",
     "text": [
      "Scraping Pole Studio Data from https://www.eversports.de/s/aerial-sportstudio...\n"
     ]
    },
    {
     "name": "stderr",
     "output_type": "stream",
     "text": [
      "Processing URLs:  62%|██████▏   | 205/330 [11:35<04:39,  2.24s/it]"
     ]
    },
    {
     "name": "stdout",
     "output_type": "stream",
     "text": [
      "\n",
      "Processing completed.\n",
      "-------------------------------- \n",
      "\n",
      "2024-02-21 13:53:07 - INFO - Scraping Data from: https://www.eversports.de/s/aerial-sportstudio\n",
      "Pole Studio Data: 1 entries\n",
      "Starting URL reconstruction...\n"
     ]
    },
    {
     "name": "stderr",
     "output_type": "stream",
     "text": [
      "2024-02-21 13:53:08,533 - INFO - Processing URL 1/2: https://www.eversports.de/s/pura-studio\n"
     ]
    },
    {
     "name": "stdout",
     "output_type": "stream",
     "text": [
      "Converting to DataFrame...\n",
      "Validating URLs...\n"
     ]
    },
    {
     "name": "stderr",
     "output_type": "stream",
     "text": [
      "2024-02-21 13:53:09,858 - INFO - URL https://www.eversports.de/s/pura-studio is valid.\n",
      "2024-02-21 13:53:09,858 - INFO - Processing URL 2/2: https://www.eversports.de/sw/pura-studio\n",
      "2024-02-21 13:53:11,004 - INFO - URL https://www.eversports.de/sw/pura-studio is valid.\n"
     ]
    },
    {
     "name": "stdout",
     "output_type": "stream",
     "text": [
      "Scraping Pole Studio Data from https://www.eversports.de/s/pura-studio...\n",
      "Scraping Workshops Data from https://www.eversports.de/sw/pura-studio...\n",
      "Scraping Workshop Details from https://www.eversports.de/e/workshop/aaXFGLh...\n",
      "Scraping Workshop Details from https://www.eversports.de/e/workshop/LAlnDd-...\n",
      "Scraping Workshop Details from https://www.eversports.de/e/workshop/1sQFEoE...\n",
      "Scraping Workshop Details from https://www.eversports.de/e/workshop/qz-Llq1...\n",
      "Scraping Workshop Details from https://www.eversports.de/e/workshop/zjrAzNO...\n",
      "Scraping Workshop Details from https://www.eversports.de/e/workshop/827gEoq...\n"
     ]
    },
    {
     "name": "stderr",
     "output_type": "stream",
     "text": [
      "Processing URLs:  62%|██████▏   | 206/330 [12:04<21:19, 10.32s/it]"
     ]
    },
    {
     "name": "stdout",
     "output_type": "stream",
     "text": [
      "\n",
      "Processing completed.\n",
      "-------------------------------- \n",
      "\n",
      "2024-02-21 13:53:36 - INFO - Scraping Data from: https://www.eversports.de/s/pura-studio\n",
      "Pole Studio Data: 1 entries\n",
      "2024-02-21 13:53:36 - INFO - Scraping Data from: https://www.eversports.de/s/pura-studio\n",
      "Workshops Data: 6 entries\n",
      "2024-02-21 13:53:36 - INFO - Scraping Data from: https://www.eversports.de/s/pura-studio\n",
      "Workshop Details: 6 entries\n",
      "Starting URL reconstruction...\n"
     ]
    },
    {
     "name": "stderr",
     "output_type": "stream",
     "text": [
      "Processing URLs:  63%|██████▎   | 207/330 [12:05<15:36,  7.62s/it]"
     ]
    },
    {
     "name": "stdout",
     "output_type": "stream",
     "text": [
      "Error during HTTP request: 404 Client Error: Not Found for url: https://www.eversports.de/s/pole-dance-academy-hameln\n",
      "Converting to DataFrame...\n",
      "Validating URLs...\n",
      "\n",
      "Processing completed.\n",
      "-------------------------------- \n",
      "\n",
      "Starting URL reconstruction...\n"
     ]
    },
    {
     "name": "stderr",
     "output_type": "stream",
     "text": [
      "Processing URLs:  63%|██████▎   | 208/330 [12:06<11:38,  5.73s/it]"
     ]
    },
    {
     "name": "stdout",
     "output_type": "stream",
     "text": [
      "Error during HTTP request: 404 Client Error: Not Found for url: https://www.eversports.de/s/polefriends\n",
      "Converting to DataFrame...\n",
      "Validating URLs...\n",
      "\n",
      "Processing completed.\n",
      "-------------------------------- \n",
      "\n",
      "Starting URL reconstruction...\n"
     ]
    },
    {
     "name": "stderr",
     "output_type": "stream",
     "text": [
      "Processing URLs:  63%|██████▎   | 209/330 [12:08<08:45,  4.34s/it]"
     ]
    },
    {
     "name": "stdout",
     "output_type": "stream",
     "text": [
      "Error during HTTP request: 404 Client Error: Not Found for url: https://www.eversports.de/s/pole-%26-soul\n",
      "Converting to DataFrame...\n",
      "Validating URLs...\n",
      "\n",
      "Processing completed.\n",
      "-------------------------------- \n",
      "\n",
      "Starting URL reconstruction...\n"
     ]
    },
    {
     "name": "stderr",
     "output_type": "stream",
     "text": [
      "2024-02-21 13:53:41,477 - INFO - Processing URL 1/2: https://www.eversports.de/s/studio-aeris\n"
     ]
    },
    {
     "name": "stdout",
     "output_type": "stream",
     "text": [
      "Converting to DataFrame...\n",
      "Validating URLs...\n"
     ]
    },
    {
     "name": "stderr",
     "output_type": "stream",
     "text": [
      "2024-02-21 13:53:43,274 - INFO - URL https://www.eversports.de/s/studio-aeris is valid.\n",
      "2024-02-21 13:53:43,275 - INFO - Processing URL 2/2: https://www.eversports.de/sw/studio-aeris\n",
      "2024-02-21 13:53:44,475 - INFO - URL https://www.eversports.de/sw/studio-aeris is not valid.\n"
     ]
    },
    {
     "name": "stdout",
     "output_type": "stream",
     "text": [
      "Scraping Pole Studio Data from https://www.eversports.de/s/studio-aeris...\n"
     ]
    },
    {
     "name": "stderr",
     "output_type": "stream",
     "text": [
      "Processing URLs:  64%|██████▎   | 210/330 [12:13<09:03,  4.53s/it]"
     ]
    },
    {
     "name": "stdout",
     "output_type": "stream",
     "text": [
      "\n",
      "Processing completed.\n",
      "-------------------------------- \n",
      "\n",
      "2024-02-21 13:53:44 - INFO - Scraping Data from: https://www.eversports.de/s/studio-aeris\n",
      "Pole Studio Data: 1 entries\n",
      "Starting URL reconstruction...\n"
     ]
    },
    {
     "name": "stderr",
     "output_type": "stream",
     "text": [
      "Processing URLs:  64%|██████▍   | 211/330 [12:16<08:36,  4.34s/it]"
     ]
    },
    {
     "name": "stdout",
     "output_type": "stream",
     "text": [
      "Error during HTTP request: Exceeded 30 redirects.\n",
      "Converting to DataFrame...\n",
      "Validating URLs...\n",
      "\n",
      "Processing completed.\n",
      "-------------------------------- \n",
      "\n",
      "Starting URL reconstruction...\n"
     ]
    },
    {
     "name": "stderr",
     "output_type": "stream",
     "text": [
      "Processing URLs:  64%|██████▍   | 212/330 [12:18<06:40,  3.40s/it]"
     ]
    },
    {
     "name": "stdout",
     "output_type": "stream",
     "text": [
      "Error during HTTP request: 404 Client Error: Not Found for url: https://www.eversports.de/s/studio-aria-arte\n",
      "Converting to DataFrame...\n",
      "Validating URLs...\n",
      "\n",
      "Processing completed.\n",
      "-------------------------------- \n",
      "\n",
      "Starting URL reconstruction...\n"
     ]
    },
    {
     "name": "stderr",
     "output_type": "stream",
     "text": [
      "2024-02-21 13:53:51,477 - INFO - Processing URL 1/1: https://www.eversports.de/s/infinity-polesports-eggenfelden\n"
     ]
    },
    {
     "name": "stdout",
     "output_type": "stream",
     "text": [
      "Converting to DataFrame...\n",
      "Validating URLs...\n"
     ]
    },
    {
     "name": "stderr",
     "output_type": "stream",
     "text": [
      "2024-02-21 13:53:52,916 - INFO - URL https://www.eversports.de/s/infinity-polesports-eggenfelden is valid.\n"
     ]
    },
    {
     "name": "stdout",
     "output_type": "stream",
     "text": [
      "Scraping Pole Studio Data from https://www.eversports.de/s/infinity-polesports-eggenfelden...\n"
     ]
    },
    {
     "name": "stderr",
     "output_type": "stream",
     "text": [
      "Processing URLs:  65%|██████▍   | 213/330 [12:21<06:26,  3.31s/it]"
     ]
    },
    {
     "name": "stdout",
     "output_type": "stream",
     "text": [
      "\n",
      "Processing completed.\n",
      "-------------------------------- \n",
      "\n",
      "2024-02-21 13:53:53 - INFO - Scraping Data from: https://www.eversports.de/s/infinity-polesports-eggenfelden\n",
      "Pole Studio Data: 1 entries\n",
      "Starting URL reconstruction...\n"
     ]
    },
    {
     "name": "stderr",
     "output_type": "stream",
     "text": [
      "2024-02-21 13:53:55,398 - INFO - Processing URL 1/1: https://www.eversports.de/s/the-pole-lounge\n"
     ]
    },
    {
     "name": "stdout",
     "output_type": "stream",
     "text": [
      "Converting to DataFrame...\n",
      "Validating URLs...\n"
     ]
    },
    {
     "name": "stderr",
     "output_type": "stream",
     "text": [
      "2024-02-21 13:53:56,757 - INFO - URL https://www.eversports.de/s/the-pole-lounge is valid.\n"
     ]
    },
    {
     "name": "stdout",
     "output_type": "stream",
     "text": [
      "Scraping Pole Studio Data from https://www.eversports.de/s/the-pole-lounge...\n"
     ]
    },
    {
     "name": "stderr",
     "output_type": "stream",
     "text": [
      "Processing URLs:  65%|██████▍   | 214/330 [12:25<06:48,  3.53s/it]"
     ]
    },
    {
     "name": "stdout",
     "output_type": "stream",
     "text": [
      "\n",
      "Processing completed.\n",
      "-------------------------------- \n",
      "\n",
      "2024-02-21 13:53:57 - INFO - Scraping Data from: https://www.eversports.de/s/the-pole-lounge\n",
      "Pole Studio Data: 1 entries\n",
      "Starting URL reconstruction...\n"
     ]
    },
    {
     "name": "stderr",
     "output_type": "stream",
     "text": [
      "Processing URLs:  65%|██████▌   | 215/330 [12:26<05:25,  2.83s/it]"
     ]
    },
    {
     "name": "stdout",
     "output_type": "stream",
     "text": [
      "Error during HTTP request: 404 Client Error: Not Found for url: https://www.eversports.de/s/freaky-pole-cats-hengersberg\n",
      "Converting to DataFrame...\n",
      "Validating URLs...\n",
      "\n",
      "Processing completed.\n",
      "-------------------------------- \n",
      "\n",
      "Starting URL reconstruction...\n"
     ]
    },
    {
     "name": "stderr",
     "output_type": "stream",
     "text": [
      "Processing URLs:  65%|██████▌   | 216/330 [12:27<04:30,  2.37s/it]"
     ]
    },
    {
     "name": "stdout",
     "output_type": "stream",
     "text": [
      "Error during HTTP request: 404 Client Error: Not Found for url: https://www.eversports.de/s/freaky-pole-cats-cham\n",
      "Converting to DataFrame...\n",
      "Validating URLs...\n",
      "\n",
      "Processing completed.\n",
      "-------------------------------- \n",
      "\n",
      "Starting URL reconstruction...\n"
     ]
    },
    {
     "name": "stderr",
     "output_type": "stream",
     "text": [
      "Processing URLs:  66%|██████▌   | 217/330 [12:28<03:47,  2.01s/it]"
     ]
    },
    {
     "name": "stdout",
     "output_type": "stream",
     "text": [
      "Error during HTTP request: 404 Client Error: Not Found for url: https://www.eversports.de/s/vertical-kay-poledance-%26-aerialarts-education\n",
      "Converting to DataFrame...\n",
      "Validating URLs...\n",
      "\n",
      "Processing completed.\n",
      "-------------------------------- \n",
      "\n",
      "Starting URL reconstruction...\n"
     ]
    },
    {
     "name": "stderr",
     "output_type": "stream",
     "text": [
      "2024-02-21 13:54:02,206 - INFO - Processing URL 1/1: https://www.eversports.de/s/pole-statement\n"
     ]
    },
    {
     "name": "stdout",
     "output_type": "stream",
     "text": [
      "Converting to DataFrame...\n",
      "Validating URLs...\n"
     ]
    },
    {
     "name": "stderr",
     "output_type": "stream",
     "text": [
      "2024-02-21 13:54:03,606 - INFO - URL https://www.eversports.de/s/pole-statement is valid.\n"
     ]
    },
    {
     "name": "stdout",
     "output_type": "stream",
     "text": [
      "Scraping Pole Studio Data from https://www.eversports.de/s/pole-statement...\n"
     ]
    },
    {
     "name": "stderr",
     "output_type": "stream",
     "text": [
      "Processing URLs:  66%|██████▌   | 218/330 [12:32<04:23,  2.35s/it]"
     ]
    },
    {
     "name": "stdout",
     "output_type": "stream",
     "text": [
      "\n",
      "Processing completed.\n",
      "-------------------------------- \n",
      "\n",
      "2024-02-21 13:54:04 - INFO - Scraping Data from: https://www.eversports.de/s/pole-statement\n",
      "Pole Studio Data: 1 entries\n",
      "Starting URL reconstruction...\n"
     ]
    },
    {
     "name": "stderr",
     "output_type": "stream",
     "text": [
      "Processing URLs:  66%|██████▋   | 219/330 [12:33<03:42,  2.01s/it]"
     ]
    },
    {
     "name": "stdout",
     "output_type": "stream",
     "text": [
      "Error during HTTP request: 404 Client Error: Not Found for url: https://www.eversports.de/s/studio-elodie-tanzbewegung\n",
      "Converting to DataFrame...\n",
      "Validating URLs...\n",
      "\n",
      "Processing completed.\n",
      "-------------------------------- \n",
      "\n",
      "Starting URL reconstruction...\n"
     ]
    },
    {
     "name": "stderr",
     "output_type": "stream",
     "text": [
      "Processing URLs:  67%|██████▋   | 220/330 [12:36<04:20,  2.37s/it]"
     ]
    },
    {
     "name": "stdout",
     "output_type": "stream",
     "text": [
      "Error during HTTP request: Exceeded 30 redirects.\n",
      "Converting to DataFrame...\n",
      "Validating URLs...\n",
      "\n",
      "Processing completed.\n",
      "-------------------------------- \n",
      "\n",
      "Starting URL reconstruction...\n"
     ]
    },
    {
     "name": "stderr",
     "output_type": "stream",
     "text": [
      "Processing URLs:  67%|██████▋   | 221/330 [12:37<03:39,  2.02s/it]"
     ]
    },
    {
     "name": "stdout",
     "output_type": "stream",
     "text": [
      "Error during HTTP request: 404 Client Error: Not Found for url: https://www.eversports.de/s/tanzvisionen\n",
      "Converting to DataFrame...\n",
      "Validating URLs...\n",
      "\n",
      "Processing completed.\n",
      "-------------------------------- \n",
      "\n",
      "Starting URL reconstruction...\n"
     ]
    },
    {
     "name": "stderr",
     "output_type": "stream",
     "text": [
      "Processing URLs:  67%|██████▋   | 222/330 [12:38<03:13,  1.79s/it]"
     ]
    },
    {
     "name": "stdout",
     "output_type": "stream",
     "text": [
      "Error during HTTP request: 404 Client Error: Not Found for url: https://www.eversports.de/s/pole2dance---vertical-fitness-and-dance-company\n",
      "Converting to DataFrame...\n",
      "Validating URLs...\n",
      "\n",
      "Processing completed.\n",
      "-------------------------------- \n",
      "\n",
      "Starting URL reconstruction...\n"
     ]
    },
    {
     "name": "stderr",
     "output_type": "stream",
     "text": [
      "Processing URLs:  68%|██████▊   | 223/330 [12:41<03:37,  2.03s/it]"
     ]
    },
    {
     "name": "stdout",
     "output_type": "stream",
     "text": [
      "Error during HTTP request: 404 Client Error: Not Found for url: https://www.eversports.de/s/dayuma\n",
      "Converting to DataFrame...\n",
      "Validating URLs...\n",
      "\n",
      "Processing completed.\n",
      "-------------------------------- \n",
      "\n",
      "Starting URL reconstruction...\n"
     ]
    },
    {
     "name": "stderr",
     "output_type": "stream",
     "text": [
      "Processing URLs:  68%|██████▊   | 224/330 [12:46<05:08,  2.91s/it]"
     ]
    },
    {
     "name": "stdout",
     "output_type": "stream",
     "text": [
      "Error during HTTP request: Exceeded 30 redirects.\n",
      "Converting to DataFrame...\n",
      "Validating URLs...\n",
      "\n",
      "Processing completed.\n",
      "-------------------------------- \n",
      "\n",
      "Starting URL reconstruction...\n"
     ]
    },
    {
     "name": "stderr",
     "output_type": "stream",
     "text": [
      "Processing URLs:  68%|██████▊   | 225/330 [12:47<04:15,  2.43s/it]"
     ]
    },
    {
     "name": "stdout",
     "output_type": "stream",
     "text": [
      "Error during HTTP request: 404 Client Error: Not Found for url: https://www.eversports.de/s/studio-mohnblume\n",
      "Converting to DataFrame...\n",
      "Validating URLs...\n",
      "\n",
      "Processing completed.\n",
      "-------------------------------- \n",
      "\n",
      "Starting URL reconstruction...\n"
     ]
    },
    {
     "name": "stderr",
     "output_type": "stream",
     "text": [
      "Processing URLs:  68%|██████▊   | 226/330 [12:49<03:33,  2.05s/it]"
     ]
    },
    {
     "name": "stdout",
     "output_type": "stream",
     "text": [
      "Error during HTTP request: 404 Client Error: Not Found for url: https://www.eversports.de/s/tanzstudio-vi-dance-dortmund\n",
      "Converting to DataFrame...\n",
      "Validating URLs...\n",
      "\n",
      "Processing completed.\n",
      "-------------------------------- \n",
      "\n",
      "Starting URL reconstruction...\n"
     ]
    },
    {
     "name": "stderr",
     "output_type": "stream",
     "text": [
      "Processing URLs:  69%|██████▉   | 227/330 [12:50<03:03,  1.78s/it]"
     ]
    },
    {
     "name": "stdout",
     "output_type": "stream",
     "text": [
      "Error during HTTP request: 404 Client Error: Not Found for url: https://www.eversports.de/s/pole-passion-koblenz\n",
      "Converting to DataFrame...\n",
      "Validating URLs...\n",
      "\n",
      "Processing completed.\n",
      "-------------------------------- \n",
      "\n",
      "Starting URL reconstruction...\n"
     ]
    },
    {
     "name": "stderr",
     "output_type": "stream",
     "text": [
      "Processing URLs:  69%|██████▉   | 228/330 [12:51<02:43,  1.61s/it]"
     ]
    },
    {
     "name": "stdout",
     "output_type": "stream",
     "text": [
      "Error during HTTP request: 404 Client Error: Not Found for url: https://www.eversports.de/s/pole.physio-eppelheim\n",
      "Converting to DataFrame...\n",
      "Validating URLs...\n",
      "\n",
      "Processing completed.\n",
      "-------------------------------- \n",
      "\n",
      "Starting URL reconstruction...\n"
     ]
    },
    {
     "name": "stderr",
     "output_type": "stream",
     "text": [
      "Processing URLs:  69%|██████▉   | 229/330 [12:54<03:34,  2.12s/it]"
     ]
    },
    {
     "name": "stdout",
     "output_type": "stream",
     "text": [
      "Error during HTTP request: Exceeded 30 redirects.\n",
      "Converting to DataFrame...\n",
      "Validating URLs...\n",
      "\n",
      "Processing completed.\n",
      "-------------------------------- \n",
      "\n",
      "Starting URL reconstruction...\n"
     ]
    },
    {
     "name": "stderr",
     "output_type": "stream",
     "text": [
      "Processing URLs:  70%|██████▉   | 230/330 [12:56<03:08,  1.88s/it]"
     ]
    },
    {
     "name": "stdout",
     "output_type": "stream",
     "text": [
      "Error during HTTP request: 404 Client Error: Not Found for url: https://www.eversports.de/s/the-miss-filly-institute-of-pole\n",
      "Converting to DataFrame...\n",
      "Validating URLs...\n",
      "\n",
      "Processing completed.\n",
      "-------------------------------- \n",
      "\n",
      "Starting URL reconstruction...\n"
     ]
    },
    {
     "name": "stderr",
     "output_type": "stream",
     "text": [
      "Processing URLs:  70%|███████   | 231/330 [12:58<03:37,  2.20s/it]"
     ]
    },
    {
     "name": "stdout",
     "output_type": "stream",
     "text": [
      "Error during HTTP request: Exceeded 30 redirects.\n",
      "Converting to DataFrame...\n",
      "Validating URLs...\n",
      "\n",
      "Processing completed.\n",
      "-------------------------------- \n",
      "\n",
      "Starting URL reconstruction...\n"
     ]
    },
    {
     "name": "stderr",
     "output_type": "stream",
     "text": [
      "Processing URLs:  70%|███████   | 232/330 [13:07<06:36,  4.05s/it]"
     ]
    },
    {
     "name": "stdout",
     "output_type": "stream",
     "text": [
      "Error during HTTP request: 404 Client Error: Not Found for url: https://www.eversports.de/s/exotic-academy\n",
      "Converting to DataFrame...\n",
      "Validating URLs...\n",
      "\n",
      "Processing completed.\n",
      "-------------------------------- \n",
      "\n",
      "Starting URL reconstruction...\n"
     ]
    },
    {
     "name": "stderr",
     "output_type": "stream",
     "text": [
      "2024-02-21 13:54:40,661 - INFO - Processing URL 1/2: https://www.eversports.de/s/aerial-loft\n"
     ]
    },
    {
     "name": "stdout",
     "output_type": "stream",
     "text": [
      "Converting to DataFrame...\n",
      "Validating URLs...\n"
     ]
    },
    {
     "name": "stderr",
     "output_type": "stream",
     "text": [
      "2024-02-21 13:54:42,202 - INFO - URL https://www.eversports.de/s/aerial-loft is valid.\n",
      "2024-02-21 13:54:42,203 - INFO - Processing URL 2/2: https://www.eversports.de/sw/aerial-loft\n",
      "2024-02-21 13:54:43,444 - INFO - URL https://www.eversports.de/sw/aerial-loft is valid.\n"
     ]
    },
    {
     "name": "stdout",
     "output_type": "stream",
     "text": [
      "Scraping Pole Studio Data from https://www.eversports.de/s/aerial-loft...\n",
      "Scraping Workshops Data from https://www.eversports.de/sw/aerial-loft...\n",
      "Scraping Workshop Details from https://www.eversports.de/e/workshop/N4v8WV0...\n",
      "Scraping Workshop Details from https://www.eversports.de/e/workshop/onN7Doj...\n",
      "Scraping Workshop Details from https://www.eversports.de/e/workshop/rhsldmK...\n",
      "Scraping Workshop Details from https://www.eversports.de/e/workshop/H_FW2CU...\n",
      "Scraping Workshop Details from https://www.eversports.de/e/workshop/9jN2M0O...\n",
      "Scraping Workshop Details from https://www.eversports.de/e/workshop/arPk7c0...\n",
      "Scraping Workshop Details from https://www.eversports.de/e/workshop/r3elm4w...\n"
     ]
    },
    {
     "name": "stderr",
     "output_type": "stream",
     "text": [
      "Processing URLs:  71%|███████   | 233/330 [14:00<30:17, 18.73s/it]"
     ]
    },
    {
     "name": "stdout",
     "output_type": "stream",
     "text": [
      "\n",
      "Processing completed.\n",
      "-------------------------------- \n",
      "\n",
      "2024-02-21 13:55:32 - INFO - Scraping Data from: https://www.eversports.de/s/aerial-loft\n",
      "Pole Studio Data: 1 entries\n",
      "2024-02-21 13:55:32 - INFO - Scraping Data from: https://www.eversports.de/s/aerial-loft\n",
      "Workshops Data: 7 entries\n",
      "2024-02-21 13:55:32 - INFO - Scraping Data from: https://www.eversports.de/s/aerial-loft\n",
      "Workshop Details: 7 entries\n",
      "Starting URL reconstruction...\n"
     ]
    },
    {
     "name": "stderr",
     "output_type": "stream",
     "text": [
      "Processing URLs:  71%|███████   | 234/330 [14:01<21:32, 13.46s/it]"
     ]
    },
    {
     "name": "stdout",
     "output_type": "stream",
     "text": [
      "Error during HTTP request: 404 Client Error: Not Found for url: https://www.eversports.de/s/moving-art-studios\n",
      "Converting to DataFrame...\n",
      "Validating URLs...\n",
      "\n",
      "Processing completed.\n",
      "-------------------------------- \n",
      "\n",
      "Starting URL reconstruction...\n"
     ]
    },
    {
     "name": "stderr",
     "output_type": "stream",
     "text": [
      "Processing URLs:  71%|███████   | 235/330 [14:04<16:26, 10.39s/it]"
     ]
    },
    {
     "name": "stdout",
     "output_type": "stream",
     "text": [
      "Error during HTTP request: Exceeded 30 redirects.\n",
      "Converting to DataFrame...\n",
      "Validating URLs...\n",
      "\n",
      "Processing completed.\n",
      "-------------------------------- \n",
      "\n",
      "Starting URL reconstruction...\n"
     ]
    },
    {
     "name": "stderr",
     "output_type": "stream",
     "text": [
      "Processing URLs:  72%|███████▏  | 236/330 [14:05<11:56,  7.63s/it]"
     ]
    },
    {
     "name": "stdout",
     "output_type": "stream",
     "text": [
      "Error during HTTP request: 404 Client Error: Not Found for url: https://www.eversports.de/s/dance-%26-fitness-academy\n",
      "Converting to DataFrame...\n",
      "Validating URLs...\n",
      "\n",
      "Processing completed.\n",
      "-------------------------------- \n",
      "\n",
      "Starting URL reconstruction...\n"
     ]
    },
    {
     "name": "stderr",
     "output_type": "stream",
     "text": [
      "2024-02-21 13:55:39,157 - INFO - Processing URL 1/1: https://www.eversports.de/s/pole-and-move-online-studio\n"
     ]
    },
    {
     "name": "stdout",
     "output_type": "stream",
     "text": [
      "Converting to DataFrame...\n",
      "Validating URLs...\n"
     ]
    },
    {
     "name": "stderr",
     "output_type": "stream",
     "text": [
      "2024-02-21 13:55:40,510 - INFO - URL https://www.eversports.de/s/pole-and-move-online-studio is valid.\n"
     ]
    },
    {
     "name": "stdout",
     "output_type": "stream",
     "text": [
      "Scraping Pole Studio Data from https://www.eversports.de/s/pole-and-move-online-studio...\n"
     ]
    },
    {
     "name": "stderr",
     "output_type": "stream",
     "text": [
      "Processing URLs:  72%|███████▏  | 237/330 [14:09<09:44,  6.29s/it]"
     ]
    },
    {
     "name": "stdout",
     "output_type": "stream",
     "text": [
      "\n",
      "Processing completed.\n",
      "-------------------------------- \n",
      "\n",
      "2024-02-21 13:55:40 - INFO - Scraping Data from: https://www.eversports.de/s/pole-and-move-online-studio\n",
      "Pole Studio Data: 1 entries\n",
      "Starting URL reconstruction...\n"
     ]
    },
    {
     "name": "stderr",
     "output_type": "stream",
     "text": [
      "Processing URLs:  72%|███████▏  | 238/330 [14:10<07:27,  4.86s/it]"
     ]
    },
    {
     "name": "stdout",
     "output_type": "stream",
     "text": [
      "Error during HTTP request: 404 Client Error: Not Found for url: https://www.eversports.de/s/pole-box\n",
      "Converting to DataFrame...\n",
      "Validating URLs...\n",
      "\n",
      "Processing completed.\n",
      "-------------------------------- \n",
      "\n",
      "Starting URL reconstruction...\n"
     ]
    },
    {
     "name": "stderr",
     "output_type": "stream",
     "text": [
      "2024-02-21 13:55:43,842 - INFO - Processing URL 1/2: https://www.eversports.de/s/pole-plus\n"
     ]
    },
    {
     "name": "stdout",
     "output_type": "stream",
     "text": [
      "Converting to DataFrame...\n",
      "Validating URLs...\n"
     ]
    },
    {
     "name": "stderr",
     "output_type": "stream",
     "text": [
      "2024-02-21 13:55:48,169 - INFO - URL https://www.eversports.de/s/pole-plus is valid.\n",
      "2024-02-21 13:55:48,170 - INFO - Processing URL 2/2: https://www.eversports.de/sw/pole-plus\n",
      "2024-02-21 13:55:49,392 - INFO - URL https://www.eversports.de/sw/pole-plus is valid.\n"
     ]
    },
    {
     "name": "stdout",
     "output_type": "stream",
     "text": [
      "Scraping Pole Studio Data from https://www.eversports.de/s/pole-plus...\n",
      "Scraping Workshops Data from https://www.eversports.de/sw/pole-plus...\n",
      "Scraping Workshop Details from https://www.eversports.de/e/workshop/upSDQIA...\n",
      "Scraping Workshop Details from https://www.eversports.de/e/workshop/lBLI7xf...\n"
     ]
    },
    {
     "name": "stderr",
     "output_type": "stream",
     "text": [
      "Processing URLs:  72%|███████▏  | 239/330 [14:21<10:14,  6.75s/it]"
     ]
    },
    {
     "name": "stdout",
     "output_type": "stream",
     "text": [
      "\n",
      "Processing completed.\n",
      "-------------------------------- \n",
      "\n",
      "2024-02-21 13:55:53 - INFO - Scraping Data from: https://www.eversports.de/s/pole-plus\n",
      "Pole Studio Data: 1 entries\n",
      "2024-02-21 13:55:53 - INFO - Scraping Data from: https://www.eversports.de/s/pole-plus\n",
      "Workshops Data: 2 entries\n",
      "2024-02-21 13:55:53 - INFO - Scraping Data from: https://www.eversports.de/s/pole-plus\n",
      "Workshop Details: 2 entries\n",
      "Starting URL reconstruction...\n"
     ]
    },
    {
     "name": "stderr",
     "output_type": "stream",
     "text": [
      "2024-02-21 13:55:55,061 - INFO - Processing URL 1/1: https://www.eversports.de/s/the-pole-jungle\n"
     ]
    },
    {
     "name": "stdout",
     "output_type": "stream",
     "text": [
      "Converting to DataFrame...\n",
      "Validating URLs...\n"
     ]
    },
    {
     "name": "stderr",
     "output_type": "stream",
     "text": [
      "2024-02-21 13:55:56,386 - INFO - URL https://www.eversports.de/s/the-pole-jungle is valid.\n"
     ]
    },
    {
     "name": "stdout",
     "output_type": "stream",
     "text": [
      "Scraping Pole Studio Data from https://www.eversports.de/s/the-pole-jungle...\n"
     ]
    },
    {
     "name": "stderr",
     "output_type": "stream",
     "text": [
      "Processing URLs:  73%|███████▎  | 240/330 [14:24<08:30,  5.68s/it]"
     ]
    },
    {
     "name": "stdout",
     "output_type": "stream",
     "text": [
      "\n",
      "Processing completed.\n",
      "-------------------------------- \n",
      "\n",
      "2024-02-21 13:55:56 - INFO - Scraping Data from: https://www.eversports.de/s/the-pole-jungle\n",
      "Pole Studio Data: 1 entries\n",
      "Starting URL reconstruction...\n"
     ]
    },
    {
     "name": "stderr",
     "output_type": "stream",
     "text": [
      "2024-02-21 13:55:58,453 - INFO - Processing URL 1/2: https://www.eversports.de/s/balance-neumarkt\n"
     ]
    },
    {
     "name": "stdout",
     "output_type": "stream",
     "text": [
      "Converting to DataFrame...\n",
      "Validating URLs...\n"
     ]
    },
    {
     "name": "stderr",
     "output_type": "stream",
     "text": [
      "2024-02-21 13:55:59,820 - INFO - URL https://www.eversports.de/s/balance-neumarkt is valid.\n",
      "2024-02-21 13:55:59,821 - INFO - Processing URL 2/2: https://www.eversports.de/sw/balance-neumarkt\n",
      "2024-02-21 13:56:01,792 - INFO - URL https://www.eversports.de/sw/balance-neumarkt is valid.\n"
     ]
    },
    {
     "name": "stdout",
     "output_type": "stream",
     "text": [
      "Scraping Pole Studio Data from https://www.eversports.de/s/balance-neumarkt...\n",
      "Scraping Workshops Data from https://www.eversports.de/sw/balance-neumarkt...\n",
      "Scraping Workshop Details from https://www.eversports.de/e/workshop/s-CvYfY...\n",
      "Scraping Workshop Details from https://www.eversports.de/e/workshop/lIzIIH9...\n",
      "Scraping Workshop Details from https://www.eversports.de/e/workshop/1hwRppH...\n",
      "Scraping Workshop Details from https://www.eversports.de/e/workshop/FWO9nVb...\n",
      "Scraping Workshop Details from https://www.eversports.de/e/workshop/wHwtdS-...\n",
      "Scraping Workshop Details from https://www.eversports.de/e/workshop/D7_g8hU...\n",
      "Scraping Workshop Details from https://www.eversports.de/e/workshop/yXJE2Qf...\n",
      "Scraping Workshop Details from https://www.eversports.de/e/workshop/AL0d8uV...\n",
      "Scraping Workshop Details from https://www.eversports.de/e/workshop/WpCq6MN...\n",
      "Scraping Workshop Details from https://www.eversports.de/e/workshop/uE03gmT...\n",
      "Scraping Workshop Details from https://www.eversports.de/e/workshop/Nm33K4u...\n",
      "Scraping Workshop Details from https://www.eversports.de/e/workshop/DmdrEre...\n",
      "Scraping Workshop Details from https://www.eversports.de/e/workshop/U27XEmo...\n",
      "Scraping Workshop Details from https://www.eversports.de/e/workshop/DujyYDr...\n"
     ]
    },
    {
     "name": "stderr",
     "output_type": "stream",
     "text": [
      "Processing URLs:  73%|███████▎  | 241/330 [15:14<27:52, 18.79s/it]"
     ]
    },
    {
     "name": "stdout",
     "output_type": "stream",
     "text": [
      "\n",
      "Processing completed.\n",
      "-------------------------------- \n",
      "\n",
      "2024-02-21 13:56:46 - INFO - Scraping Data from: https://www.eversports.de/s/balance-neumarkt\n",
      "Pole Studio Data: 1 entries\n",
      "2024-02-21 13:56:46 - INFO - Scraping Data from: https://www.eversports.de/s/balance-neumarkt\n",
      "Workshops Data: 14 entries\n",
      "2024-02-21 13:56:46 - INFO - Scraping Data from: https://www.eversports.de/s/balance-neumarkt\n",
      "Workshop Details: 14 entries\n",
      "Starting URL reconstruction...\n"
     ]
    },
    {
     "name": "stderr",
     "output_type": "stream",
     "text": [
      "2024-02-21 13:56:47,586 - INFO - Processing URL 1/2: https://www.eversports.de/s/pole-dance-krefeld\n"
     ]
    },
    {
     "name": "stdout",
     "output_type": "stream",
     "text": [
      "Converting to DataFrame...\n",
      "Validating URLs...\n"
     ]
    },
    {
     "name": "stderr",
     "output_type": "stream",
     "text": [
      "2024-02-21 13:56:48,990 - INFO - URL https://www.eversports.de/s/pole-dance-krefeld is valid.\n",
      "2024-02-21 13:56:48,991 - INFO - Processing URL 2/2: https://www.eversports.de/sw/pole-dance-krefeld\n",
      "2024-02-21 13:56:50,245 - INFO - URL https://www.eversports.de/sw/pole-dance-krefeld is valid.\n"
     ]
    },
    {
     "name": "stdout",
     "output_type": "stream",
     "text": [
      "Scraping Pole Studio Data from https://www.eversports.de/s/pole-dance-krefeld...\n",
      "Scraping Workshops Data from https://www.eversports.de/sw/pole-dance-krefeld...\n",
      "Scraping Workshop Details from https://www.eversports.de/e/workshop/_LQRruK...\n",
      "Scraping Workshop Details from https://www.eversports.de/e/workshop/-vGIMzu...\n"
     ]
    },
    {
     "name": "stderr",
     "output_type": "stream",
     "text": [
      "Processing URLs:  73%|███████▎  | 242/330 [15:23<23:30, 16.03s/it]"
     ]
    },
    {
     "name": "stdout",
     "output_type": "stream",
     "text": [
      "\n",
      "Processing completed.\n",
      "-------------------------------- \n",
      "\n",
      "2024-02-21 13:56:55 - INFO - Scraping Data from: https://www.eversports.de/s/pole-dance-krefeld\n",
      "Pole Studio Data: 1 entries\n",
      "2024-02-21 13:56:55 - INFO - Scraping Data from: https://www.eversports.de/s/pole-dance-krefeld\n",
      "Workshops Data: 2 entries\n",
      "2024-02-21 13:56:55 - INFO - Scraping Data from: https://www.eversports.de/s/pole-dance-krefeld\n",
      "Workshop Details: 2 entries\n",
      "Starting URL reconstruction...\n"
     ]
    },
    {
     "name": "stderr",
     "output_type": "stream",
     "text": [
      "Processing URLs:  74%|███████▎  | 243/330 [15:25<16:52, 11.63s/it]"
     ]
    },
    {
     "name": "stdout",
     "output_type": "stream",
     "text": [
      "Error during HTTP request: 404 Client Error: Not Found for url: https://www.eversports.de/s/satori-pole-dance-potsdam\n",
      "Converting to DataFrame...\n",
      "Validating URLs...\n",
      "\n",
      "Processing completed.\n",
      "-------------------------------- \n",
      "\n",
      "Starting URL reconstruction...\n"
     ]
    },
    {
     "name": "stderr",
     "output_type": "stream",
     "text": [
      "Processing URLs:  74%|███████▍  | 244/330 [15:26<12:12,  8.51s/it]"
     ]
    },
    {
     "name": "stdout",
     "output_type": "stream",
     "text": [
      "Error during HTTP request: 404 Client Error: Not Found for url: https://www.eversports.de/s/vi-dance-hamm\n",
      "Converting to DataFrame...\n",
      "Validating URLs...\n",
      "\n",
      "Processing completed.\n",
      "-------------------------------- \n",
      "\n",
      "Starting URL reconstruction...\n"
     ]
    },
    {
     "name": "stderr",
     "output_type": "stream",
     "text": [
      "Processing URLs:  74%|███████▍  | 245/330 [15:28<09:05,  6.42s/it]"
     ]
    },
    {
     "name": "stdout",
     "output_type": "stream",
     "text": [
      "Error during HTTP request: 404 Client Error: Not Found for url: https://www.eversports.de/s/pole-sisters\n",
      "Converting to DataFrame...\n",
      "Validating URLs...\n",
      "\n",
      "Processing completed.\n",
      "-------------------------------- \n",
      "\n",
      "Starting URL reconstruction...\n"
     ]
    },
    {
     "name": "stderr",
     "output_type": "stream",
     "text": [
      "Processing URLs:  75%|███████▍  | 246/330 [15:29<07:01,  5.01s/it]"
     ]
    },
    {
     "name": "stdout",
     "output_type": "stream",
     "text": [
      "Error during HTTP request: 404 Client Error: Not Found for url: https://www.eversports.de/s/poledance-leipzig\n",
      "Converting to DataFrame...\n",
      "Validating URLs...\n",
      "\n",
      "Processing completed.\n",
      "-------------------------------- \n",
      "\n",
      "Starting URL reconstruction...\n"
     ]
    },
    {
     "name": "stderr",
     "output_type": "stream",
     "text": [
      "Processing URLs:  75%|███████▍  | 247/330 [15:31<05:28,  3.96s/it]"
     ]
    },
    {
     "name": "stdout",
     "output_type": "stream",
     "text": [
      "Error during HTTP request: 404 Client Error: Not Found for url: https://www.eversports.de/s/pole-acrobatics-deggingen\n",
      "Converting to DataFrame...\n",
      "Validating URLs...\n",
      "\n",
      "Processing completed.\n",
      "-------------------------------- \n",
      "\n",
      "Starting URL reconstruction...\n"
     ]
    },
    {
     "name": "stderr",
     "output_type": "stream",
     "text": [
      "Processing URLs:  75%|███████▌  | 248/330 [15:32<04:21,  3.19s/it]"
     ]
    },
    {
     "name": "stdout",
     "output_type": "stream",
     "text": [
      "Error during HTTP request: 404 Client Error: Not Found for url: https://www.eversports.de/s/crazysports-augsburg\n",
      "Converting to DataFrame...\n",
      "Validating URLs...\n",
      "\n",
      "Processing completed.\n",
      "-------------------------------- \n",
      "\n",
      "Starting URL reconstruction...\n"
     ]
    },
    {
     "name": "stderr",
     "output_type": "stream",
     "text": [
      "Processing URLs:  75%|███████▌  | 249/330 [15:35<04:18,  3.20s/it]"
     ]
    },
    {
     "name": "stdout",
     "output_type": "stream",
     "text": [
      "Error during HTTP request: Exceeded 30 redirects.\n",
      "Converting to DataFrame...\n",
      "Validating URLs...\n",
      "\n",
      "Processing completed.\n",
      "-------------------------------- \n",
      "\n",
      "Starting URL reconstruction...\n"
     ]
    },
    {
     "name": "stderr",
     "output_type": "stream",
     "text": [
      "Processing URLs:  76%|███████▌  | 250/330 [15:37<03:29,  2.62s/it]"
     ]
    },
    {
     "name": "stdout",
     "output_type": "stream",
     "text": [
      "Error during HTTP request: 404 Client Error: Not Found for url: https://www.eversports.de/s/pole-sport-coburg---akrobatik-%26-tanz-\n",
      "Converting to DataFrame...\n",
      "Validating URLs...\n",
      "\n",
      "Processing completed.\n",
      "-------------------------------- \n",
      "\n",
      "Starting URL reconstruction...\n"
     ]
    },
    {
     "name": "stderr",
     "output_type": "stream",
     "text": [
      "2024-02-21 13:57:10,500 - INFO - Processing URL 1/1: https://www.eversports.de/s/janine-hollung\n"
     ]
    },
    {
     "name": "stdout",
     "output_type": "stream",
     "text": [
      "Converting to DataFrame...\n",
      "Validating URLs...\n"
     ]
    },
    {
     "name": "stderr",
     "output_type": "stream",
     "text": [
      "2024-02-21 13:57:11,847 - INFO - URL https://www.eversports.de/s/janine-hollung is valid.\n"
     ]
    },
    {
     "name": "stdout",
     "output_type": "stream",
     "text": [
      "Scraping Pole Studio Data from https://www.eversports.de/s/janine-hollung...\n"
     ]
    },
    {
     "name": "stderr",
     "output_type": "stream",
     "text": [
      "Processing URLs:  76%|███████▌  | 251/330 [15:40<03:38,  2.77s/it]"
     ]
    },
    {
     "name": "stdout",
     "output_type": "stream",
     "text": [
      "\n",
      "Processing completed.\n",
      "-------------------------------- \n",
      "\n",
      "2024-02-21 13:57:12 - INFO - Scraping Data from: https://www.eversports.de/s/janine-hollung\n",
      "Pole Studio Data: 1 entries\n",
      "Starting URL reconstruction...\n"
     ]
    },
    {
     "name": "stderr",
     "output_type": "stream",
     "text": [
      "Processing URLs:  76%|███████▋  | 252/330 [15:41<03:00,  2.31s/it]"
     ]
    },
    {
     "name": "stdout",
     "output_type": "stream",
     "text": [
      "Error during HTTP request: 404 Client Error: Not Found for url: https://www.eversports.de/s/divas-dance-studio\n",
      "Converting to DataFrame...\n",
      "Validating URLs...\n",
      "\n",
      "Processing completed.\n",
      "-------------------------------- \n",
      "\n",
      "Starting URL reconstruction...\n"
     ]
    },
    {
     "name": "stderr",
     "output_type": "stream",
     "text": [
      "Processing URLs:  77%|███████▋  | 253/330 [15:43<02:45,  2.15s/it]"
     ]
    },
    {
     "name": "stdout",
     "output_type": "stream",
     "text": [
      "Error during HTTP request: 404 Client Error: Not Found for url: https://www.eversports.de/s/poledancestar-leipzig\n",
      "Converting to DataFrame...\n",
      "Validating URLs...\n",
      "\n",
      "Processing completed.\n",
      "-------------------------------- \n",
      "\n",
      "Starting URL reconstruction...\n"
     ]
    },
    {
     "name": "stderr",
     "output_type": "stream",
     "text": [
      "Processing URLs:  77%|███████▋  | 254/330 [15:46<03:08,  2.48s/it]"
     ]
    },
    {
     "name": "stdout",
     "output_type": "stream",
     "text": [
      "Error during HTTP request: Exceeded 30 redirects.\n",
      "Converting to DataFrame...\n",
      "Validating URLs...\n",
      "\n",
      "Processing completed.\n",
      "-------------------------------- \n",
      "\n",
      "Starting URL reconstruction...\n"
     ]
    },
    {
     "name": "stderr",
     "output_type": "stream",
     "text": [
      "Processing URLs:  77%|███████▋  | 255/330 [15:47<02:35,  2.08s/it]"
     ]
    },
    {
     "name": "stdout",
     "output_type": "stream",
     "text": [
      "Error during HTTP request: 404 Client Error: Not Found for url: https://www.eversports.de/s/das-tanz-center\n",
      "Converting to DataFrame...\n",
      "Validating URLs...\n",
      "\n",
      "Processing completed.\n",
      "-------------------------------- \n",
      "\n",
      "Starting URL reconstruction...\n"
     ]
    },
    {
     "name": "stderr",
     "output_type": "stream",
     "text": [
      "2024-02-21 13:57:20,954 - INFO - Processing URL 1/2: https://www.eversports.de/s/polecreation\n"
     ]
    },
    {
     "name": "stdout",
     "output_type": "stream",
     "text": [
      "Converting to DataFrame...\n",
      "Validating URLs...\n"
     ]
    },
    {
     "name": "stderr",
     "output_type": "stream",
     "text": [
      "2024-02-21 13:57:22,241 - INFO - URL https://www.eversports.de/s/polecreation is valid.\n",
      "2024-02-21 13:57:22,242 - INFO - Processing URL 2/2: https://www.eversports.de/sw/polecreation\n",
      "2024-02-21 13:57:23,673 - INFO - URL https://www.eversports.de/sw/polecreation is valid.\n"
     ]
    },
    {
     "name": "stdout",
     "output_type": "stream",
     "text": [
      "Scraping Pole Studio Data from https://www.eversports.de/s/polecreation...\n",
      "Scraping Workshops Data from https://www.eversports.de/sw/polecreation...\n",
      "Scraping Workshop Details from https://www.eversports.de/e/workshop/Zj0NETg...\n"
     ]
    },
    {
     "name": "stderr",
     "output_type": "stream",
     "text": [
      "Processing URLs:  78%|███████▊  | 256/330 [15:55<04:42,  3.81s/it]"
     ]
    },
    {
     "name": "stdout",
     "output_type": "stream",
     "text": [
      "\n",
      "Processing completed.\n",
      "-------------------------------- \n",
      "\n",
      "2024-02-21 13:57:27 - INFO - Scraping Data from: https://www.eversports.de/s/polecreation\n",
      "Pole Studio Data: 1 entries\n",
      "2024-02-21 13:57:27 - INFO - Scraping Data from: https://www.eversports.de/s/polecreation\n",
      "Workshops Data: 1 entries\n",
      "2024-02-21 13:57:27 - INFO - Scraping Data from: https://www.eversports.de/s/polecreation\n",
      "Workshop Details: 1 entries\n",
      "Starting URL reconstruction...\n"
     ]
    },
    {
     "name": "stderr",
     "output_type": "stream",
     "text": [
      "2024-02-21 13:57:29,066 - INFO - Processing URL 1/1: https://www.eversports.de/s/tanzschule-poledance-reutlingen\n"
     ]
    },
    {
     "name": "stdout",
     "output_type": "stream",
     "text": [
      "Converting to DataFrame...\n",
      "Validating URLs...\n"
     ]
    },
    {
     "name": "stderr",
     "output_type": "stream",
     "text": [
      "2024-02-21 13:57:30,419 - INFO - URL https://www.eversports.de/s/tanzschule-poledance-reutlingen is valid.\n"
     ]
    },
    {
     "name": "stdout",
     "output_type": "stream",
     "text": [
      "Scraping Pole Studio Data from https://www.eversports.de/s/tanzschule-poledance-reutlingen...\n"
     ]
    },
    {
     "name": "stderr",
     "output_type": "stream",
     "text": [
      "Processing URLs:  78%|███████▊  | 257/330 [15:58<04:27,  3.67s/it]"
     ]
    },
    {
     "name": "stdout",
     "output_type": "stream",
     "text": [
      "\n",
      "Processing completed.\n",
      "-------------------------------- \n",
      "\n",
      "2024-02-21 13:57:30 - INFO - Scraping Data from: https://www.eversports.de/s/tanzschule-poledance-reutlingen\n",
      "Pole Studio Data: 1 entries\n",
      "Starting URL reconstruction...\n"
     ]
    },
    {
     "name": "stderr",
     "output_type": "stream",
     "text": [
      "Processing URLs:  78%|███████▊  | 258/330 [15:59<03:29,  2.91s/it]"
     ]
    },
    {
     "name": "stdout",
     "output_type": "stream",
     "text": [
      "Error during HTTP request: 404 Client Error: Not Found for url: https://www.eversports.de/s/fl'air-studios-berlin\n",
      "Converting to DataFrame...\n",
      "Validating URLs...\n",
      "\n",
      "Processing completed.\n",
      "-------------------------------- \n",
      "\n",
      "Starting URL reconstruction...\n"
     ]
    },
    {
     "name": "stderr",
     "output_type": "stream",
     "text": [
      "Processing URLs:  78%|███████▊  | 259/330 [16:01<02:49,  2.38s/it]"
     ]
    },
    {
     "name": "stdout",
     "output_type": "stream",
     "text": [
      "Error during HTTP request: 404 Client Error: Not Found for url: https://www.eversports.de/s/pole-dance-%26-fitness\n",
      "Converting to DataFrame...\n",
      "Validating URLs...\n",
      "\n",
      "Processing completed.\n",
      "-------------------------------- \n",
      "\n",
      "Starting URL reconstruction...\n"
     ]
    },
    {
     "name": "stderr",
     "output_type": "stream",
     "text": [
      "Processing URLs:  79%|███████▉  | 260/330 [16:05<03:19,  2.85s/it]"
     ]
    },
    {
     "name": "stdout",
     "output_type": "stream",
     "text": [
      "Error during HTTP request: Exceeded 30 redirects.\n",
      "Converting to DataFrame...\n",
      "Validating URLs...\n",
      "\n",
      "Processing completed.\n",
      "-------------------------------- \n",
      "\n",
      "Starting URL reconstruction...\n"
     ]
    },
    {
     "name": "stderr",
     "output_type": "stream",
     "text": [
      "2024-02-21 13:57:38,810 - INFO - Processing URL 1/1: https://www.eversports.de/s/polefamily-koblenz\n"
     ]
    },
    {
     "name": "stdout",
     "output_type": "stream",
     "text": [
      "Converting to DataFrame...\n",
      "Validating URLs...\n"
     ]
    },
    {
     "name": "stderr",
     "output_type": "stream",
     "text": [
      "2024-02-21 13:57:40,108 - INFO - URL https://www.eversports.de/s/polefamily-koblenz is valid.\n"
     ]
    },
    {
     "name": "stdout",
     "output_type": "stream",
     "text": [
      "Scraping Pole Studio Data from https://www.eversports.de/s/polefamily-koblenz...\n"
     ]
    },
    {
     "name": "stderr",
     "output_type": "stream",
     "text": [
      "Processing URLs:  79%|███████▉  | 261/330 [16:08<03:28,  3.02s/it]"
     ]
    },
    {
     "name": "stdout",
     "output_type": "stream",
     "text": [
      "\n",
      "Processing completed.\n",
      "-------------------------------- \n",
      "\n",
      "2024-02-21 13:57:40 - INFO - Scraping Data from: https://www.eversports.de/s/polefamily-koblenz\n",
      "Pole Studio Data: 1 entries\n",
      "Starting URL reconstruction...\n"
     ]
    },
    {
     "name": "stderr",
     "output_type": "stream",
     "text": [
      "Processing URLs:  79%|███████▉  | 262/330 [16:09<02:47,  2.46s/it]"
     ]
    },
    {
     "name": "stdout",
     "output_type": "stream",
     "text": [
      "Error during HTTP request: 404 Client Error: Not Found for url: https://www.eversports.de/s/tanzteufel-denzlingen\n",
      "Converting to DataFrame...\n",
      "Validating URLs...\n",
      "\n",
      "Processing completed.\n",
      "-------------------------------- \n",
      "\n",
      "Starting URL reconstruction...\n"
     ]
    },
    {
     "name": "stderr",
     "output_type": "stream",
     "text": [
      "2024-02-21 13:57:42,969 - INFO - Processing URL 1/2: https://www.eversports.de/s/star-poledance\n"
     ]
    },
    {
     "name": "stdout",
     "output_type": "stream",
     "text": [
      "Converting to DataFrame...\n",
      "Validating URLs...\n"
     ]
    },
    {
     "name": "stderr",
     "output_type": "stream",
     "text": [
      "2024-02-21 13:57:44,889 - INFO - URL https://www.eversports.de/s/star-poledance is valid.\n",
      "2024-02-21 13:57:44,890 - INFO - Processing URL 2/2: https://www.eversports.de/sw/star-poledance\n",
      "2024-02-21 13:57:46,044 - INFO - URL https://www.eversports.de/sw/star-poledance is valid.\n"
     ]
    },
    {
     "name": "stdout",
     "output_type": "stream",
     "text": [
      "Scraping Pole Studio Data from https://www.eversports.de/s/star-poledance...\n",
      "Scraping Workshops Data from https://www.eversports.de/sw/star-poledance...\n",
      "Scraping Workshop Details from https://www.eversports.de/e/workshop/IVfDf6M...\n"
     ]
    },
    {
     "name": "stderr",
     "output_type": "stream",
     "text": [
      "Processing URLs:  80%|███████▉  | 263/330 [16:17<04:39,  4.18s/it]"
     ]
    },
    {
     "name": "stdout",
     "output_type": "stream",
     "text": [
      "\n",
      "Processing completed.\n",
      "-------------------------------- \n",
      "\n",
      "2024-02-21 13:57:49 - INFO - Scraping Data from: https://www.eversports.de/s/star-poledance\n",
      "Pole Studio Data: 1 entries\n",
      "2024-02-21 13:57:49 - INFO - Scraping Data from: https://www.eversports.de/s/star-poledance\n",
      "Workshops Data: 1 entries\n",
      "2024-02-21 13:57:49 - INFO - Scraping Data from: https://www.eversports.de/s/star-poledance\n",
      "Workshop Details: 1 entries\n",
      "Starting URL reconstruction...\n"
     ]
    },
    {
     "name": "stderr",
     "output_type": "stream",
     "text": [
      "2024-02-21 13:57:51,139 - INFO - Processing URL 1/2: https://www.eversports.de/s/poda-studio\n"
     ]
    },
    {
     "name": "stdout",
     "output_type": "stream",
     "text": [
      "Converting to DataFrame...\n",
      "Validating URLs...\n"
     ]
    },
    {
     "name": "stderr",
     "output_type": "stream",
     "text": [
      "2024-02-21 13:57:52,439 - INFO - URL https://www.eversports.de/s/poda-studio is valid.\n",
      "2024-02-21 13:57:52,440 - INFO - Processing URL 2/2: https://www.eversports.de/sw/poda-studio\n",
      "2024-02-21 13:57:53,673 - INFO - URL https://www.eversports.de/sw/poda-studio is valid.\n"
     ]
    },
    {
     "name": "stdout",
     "output_type": "stream",
     "text": [
      "Scraping Pole Studio Data from https://www.eversports.de/s/poda-studio...\n",
      "Scraping Workshops Data from https://www.eversports.de/sw/poda-studio...\n",
      "Scraping Workshop Details from https://www.eversports.de/e/workshop/JM68hgK...\n",
      "Scraping Workshop Details from https://www.eversports.de/e/workshop/9PbaXsNu8...\n",
      "Scraping Workshop Details from https://www.eversports.de/e/workshop/2f93D4_...\n"
     ]
    },
    {
     "name": "stderr",
     "output_type": "stream",
     "text": [
      "Processing URLs:  80%|████████  | 264/330 [16:28<06:34,  5.98s/it]"
     ]
    },
    {
     "name": "stdout",
     "output_type": "stream",
     "text": [
      "\n",
      "Processing completed.\n",
      "-------------------------------- \n",
      "\n",
      "2024-02-21 13:57:59 - INFO - Scraping Data from: https://www.eversports.de/s/poda-studio\n",
      "Pole Studio Data: 1 entries\n",
      "2024-02-21 13:57:59 - INFO - Scraping Data from: https://www.eversports.de/s/poda-studio\n",
      "Workshops Data: 3 entries\n",
      "2024-02-21 13:57:59 - INFO - Scraping Data from: https://www.eversports.de/s/poda-studio\n",
      "Workshop Details: 3 entries\n",
      "Starting URL reconstruction...\n"
     ]
    },
    {
     "name": "stderr",
     "output_type": "stream",
     "text": [
      "2024-02-21 13:58:06,759 - INFO - Processing URL 1/1: https://www.eversports.de/s/pole-dance-factory-amsterdam-noord\n"
     ]
    },
    {
     "name": "stdout",
     "output_type": "stream",
     "text": [
      "Converting to DataFrame...\n",
      "Validating URLs...\n"
     ]
    },
    {
     "name": "stderr",
     "output_type": "stream",
     "text": [
      "2024-02-21 13:58:14,222 - INFO - URL https://www.eversports.de/s/pole-dance-factory-amsterdam-noord is valid.\n"
     ]
    },
    {
     "name": "stdout",
     "output_type": "stream",
     "text": [
      "Scraping Pole Studio Data from https://www.eversports.de/s/pole-dance-factory-amsterdam-noord...\n"
     ]
    },
    {
     "name": "stderr",
     "output_type": "stream",
     "text": [
      "Processing URLs:  80%|████████  | 265/330 [16:42<09:17,  8.58s/it]"
     ]
    },
    {
     "name": "stdout",
     "output_type": "stream",
     "text": [
      "\n",
      "Processing completed.\n",
      "-------------------------------- \n",
      "\n",
      "2024-02-21 13:58:14 - INFO - Scraping Data from: https://www.eversports.de/s/pole-dance-factory-amsterdam-noord\n",
      "Pole Studio Data: 1 entries\n",
      "Starting URL reconstruction...\n"
     ]
    },
    {
     "name": "stderr",
     "output_type": "stream",
     "text": [
      "2024-02-21 13:58:16,121 - INFO - Processing URL 1/1: https://www.eversports.de/s/pole-loft\n"
     ]
    },
    {
     "name": "stdout",
     "output_type": "stream",
     "text": [
      "Converting to DataFrame...\n",
      "Validating URLs...\n"
     ]
    },
    {
     "name": "stderr",
     "output_type": "stream",
     "text": [
      "2024-02-21 13:58:17,842 - INFO - URL https://www.eversports.de/s/pole-loft is valid.\n"
     ]
    },
    {
     "name": "stdout",
     "output_type": "stream",
     "text": [
      "Scraping Pole Studio Data from https://www.eversports.de/s/pole-loft...\n"
     ]
    },
    {
     "name": "stderr",
     "output_type": "stream",
     "text": [
      "Processing URLs:  81%|████████  | 266/330 [16:46<07:37,  7.15s/it]"
     ]
    },
    {
     "name": "stdout",
     "output_type": "stream",
     "text": [
      "\n",
      "Processing completed.\n",
      "-------------------------------- \n",
      "\n",
      "2024-02-21 13:58:18 - INFO - Scraping Data from: https://www.eversports.de/s/pole-loft\n",
      "Pole Studio Data: 1 entries\n",
      "Starting URL reconstruction...\n"
     ]
    },
    {
     "name": "stderr",
     "output_type": "stream",
     "text": [
      "2024-02-21 13:58:19,819 - INFO - Processing URL 1/1: https://www.eversports.de/s/st-polestudio\n"
     ]
    },
    {
     "name": "stdout",
     "output_type": "stream",
     "text": [
      "Converting to DataFrame...\n",
      "Validating URLs...\n"
     ]
    },
    {
     "name": "stderr",
     "output_type": "stream",
     "text": [
      "2024-02-21 13:58:21,220 - INFO - URL https://www.eversports.de/s/st-polestudio is valid.\n"
     ]
    },
    {
     "name": "stdout",
     "output_type": "stream",
     "text": [
      "Scraping Pole Studio Data from https://www.eversports.de/s/st-polestudio...\n"
     ]
    },
    {
     "name": "stderr",
     "output_type": "stream",
     "text": [
      "Processing URLs:  81%|████████  | 267/330 [16:49<06:14,  5.94s/it]"
     ]
    },
    {
     "name": "stdout",
     "output_type": "stream",
     "text": [
      "\n",
      "Processing completed.\n",
      "-------------------------------- \n",
      "\n",
      "2024-02-21 13:58:21 - INFO - Scraping Data from: https://www.eversports.de/s/st-polestudio\n",
      "Pole Studio Data: 1 entries\n",
      "Starting URL reconstruction...\n"
     ]
    },
    {
     "name": "stderr",
     "output_type": "stream",
     "text": [
      "Processing URLs:  81%|████████  | 268/330 [16:50<04:40,  4.52s/it]"
     ]
    },
    {
     "name": "stdout",
     "output_type": "stream",
     "text": [
      "Error during HTTP request: 404 Client Error: Not Found for url: https://www.eversports.de/s/pole-dance-studio-karlsruhe\n",
      "Converting to DataFrame...\n",
      "Validating URLs...\n",
      "\n",
      "Processing completed.\n",
      "-------------------------------- \n",
      "\n",
      "Starting URL reconstruction...\n"
     ]
    },
    {
     "name": "stderr",
     "output_type": "stream",
     "text": [
      "Processing URLs:  82%|████████▏ | 269/330 [16:52<03:36,  3.55s/it]"
     ]
    },
    {
     "name": "stdout",
     "output_type": "stream",
     "text": [
      "Error during HTTP request: 404 Client Error: Not Found for url: https://www.eversports.de/s/dance-%26-fly-pole-studio\n",
      "Converting to DataFrame...\n",
      "Validating URLs...\n",
      "\n",
      "Processing completed.\n",
      "-------------------------------- \n",
      "\n",
      "Starting URL reconstruction...\n"
     ]
    },
    {
     "name": "stderr",
     "output_type": "stream",
     "text": [
      "Processing URLs:  82%|████████▏ | 270/330 [16:53<02:51,  2.86s/it]"
     ]
    },
    {
     "name": "stdout",
     "output_type": "stream",
     "text": [
      "Error during HTTP request: 404 Client Error: Not Found for url: https://www.eversports.de/s/die-dance-academy-by-wipper\n",
      "Converting to DataFrame...\n",
      "Validating URLs...\n",
      "\n",
      "Processing completed.\n",
      "-------------------------------- \n",
      "\n",
      "Starting URL reconstruction...\n"
     ]
    },
    {
     "name": "stderr",
     "output_type": "stream",
     "text": [
      "Processing URLs:  82%|████████▏ | 271/330 [16:54<02:18,  2.34s/it]"
     ]
    },
    {
     "name": "stdout",
     "output_type": "stream",
     "text": [
      "Error during HTTP request: 404 Client Error: Not Found for url: https://www.eversports.de/s/freaky-pole-cats-straubing\n",
      "Converting to DataFrame...\n",
      "Validating URLs...\n",
      "\n",
      "Processing completed.\n",
      "-------------------------------- \n",
      "\n",
      "Starting URL reconstruction...\n"
     ]
    },
    {
     "name": "stderr",
     "output_type": "stream",
     "text": [
      "2024-02-21 13:58:27,791 - INFO - Processing URL 1/2: https://www.eversports.de/s/poleside\n"
     ]
    },
    {
     "name": "stdout",
     "output_type": "stream",
     "text": [
      "Converting to DataFrame...\n",
      "Validating URLs...\n"
     ]
    },
    {
     "name": "stderr",
     "output_type": "stream",
     "text": [
      "2024-02-21 13:58:29,108 - INFO - URL https://www.eversports.de/s/poleside is valid.\n",
      "2024-02-21 13:58:29,109 - INFO - Processing URL 2/2: https://www.eversports.de/sw/poleside\n",
      "2024-02-21 13:58:31,089 - INFO - URL https://www.eversports.de/sw/poleside is valid.\n"
     ]
    },
    {
     "name": "stdout",
     "output_type": "stream",
     "text": [
      "Scraping Pole Studio Data from https://www.eversports.de/s/poleside...\n",
      "Scraping Workshops Data from https://www.eversports.de/sw/poleside...\n",
      "Scraping Workshop Details from https://www.eversports.de/e/workshop/llCPKoMLh...\n"
     ]
    },
    {
     "name": "stderr",
     "output_type": "stream",
     "text": [
      "Processing URLs:  82%|████████▏ | 272/330 [17:02<03:48,  3.94s/it]"
     ]
    },
    {
     "name": "stdout",
     "output_type": "stream",
     "text": [
      "\n",
      "Processing completed.\n",
      "-------------------------------- \n",
      "\n",
      "2024-02-21 13:58:34 - INFO - Scraping Data from: https://www.eversports.de/s/poleside\n",
      "Pole Studio Data: 1 entries\n",
      "2024-02-21 13:58:34 - INFO - Scraping Data from: https://www.eversports.de/s/poleside\n",
      "Workshops Data: 1 entries\n",
      "2024-02-21 13:58:34 - INFO - Scraping Data from: https://www.eversports.de/s/poleside\n",
      "Workshop Details: 1 entries\n",
      "Starting URL reconstruction...\n"
     ]
    },
    {
     "name": "stderr",
     "output_type": "stream",
     "text": [
      "2024-02-21 13:58:35,429 - INFO - Processing URL 1/1: https://www.eversports.de/s/pole-passion-bielefeld\n"
     ]
    },
    {
     "name": "stdout",
     "output_type": "stream",
     "text": [
      "Converting to DataFrame...\n",
      "Validating URLs...\n"
     ]
    },
    {
     "name": "stderr",
     "output_type": "stream",
     "text": [
      "2024-02-21 13:58:36,694 - INFO - URL https://www.eversports.de/s/pole-passion-bielefeld is valid.\n"
     ]
    },
    {
     "name": "stdout",
     "output_type": "stream",
     "text": [
      "Scraping Pole Studio Data from https://www.eversports.de/s/pole-passion-bielefeld...\n"
     ]
    },
    {
     "name": "stderr",
     "output_type": "stream",
     "text": [
      "Processing URLs:  83%|████████▎ | 273/330 [17:05<03:26,  3.62s/it]"
     ]
    },
    {
     "name": "stdout",
     "output_type": "stream",
     "text": [
      "\n",
      "Processing completed.\n",
      "-------------------------------- \n",
      "\n",
      "2024-02-21 13:58:36 - INFO - Scraping Data from: https://www.eversports.de/s/pole-passion-bielefeld\n",
      "Pole Studio Data: 1 entries\n",
      "Starting URL reconstruction...\n"
     ]
    },
    {
     "name": "stderr",
     "output_type": "stream",
     "text": [
      "2024-02-21 13:58:38,222 - INFO - Processing URL 1/1: https://www.eversports.de/s/a-heart-for-poledance\n"
     ]
    },
    {
     "name": "stdout",
     "output_type": "stream",
     "text": [
      "Converting to DataFrame...\n",
      "Validating URLs...\n"
     ]
    },
    {
     "name": "stderr",
     "output_type": "stream",
     "text": [
      "2024-02-21 13:58:39,515 - INFO - URL https://www.eversports.de/s/a-heart-for-poledance is valid.\n"
     ]
    },
    {
     "name": "stdout",
     "output_type": "stream",
     "text": [
      "Scraping Pole Studio Data from https://www.eversports.de/s/a-heart-for-poledance...\n"
     ]
    },
    {
     "name": "stderr",
     "output_type": "stream",
     "text": [
      "Processing URLs:  83%|████████▎ | 274/330 [17:07<03:08,  3.37s/it]"
     ]
    },
    {
     "name": "stdout",
     "output_type": "stream",
     "text": [
      "\n",
      "Processing completed.\n",
      "-------------------------------- \n",
      "\n",
      "2024-02-21 13:58:39 - INFO - Scraping Data from: https://www.eversports.de/s/a-heart-for-poledance\n",
      "Pole Studio Data: 1 entries\n",
      "Starting URL reconstruction...\n"
     ]
    },
    {
     "name": "stderr",
     "output_type": "stream",
     "text": [
      "Processing URLs:  83%|████████▎ | 275/330 [17:09<02:31,  2.75s/it]"
     ]
    },
    {
     "name": "stdout",
     "output_type": "stream",
     "text": [
      "Error during HTTP request: 404 Client Error: Not Found for url: https://www.eversports.de/s/aerial-amazons\n",
      "Converting to DataFrame...\n",
      "Validating URLs...\n",
      "\n",
      "Processing completed.\n",
      "-------------------------------- \n",
      "\n",
      "Starting URL reconstruction...\n"
     ]
    },
    {
     "name": "stderr",
     "output_type": "stream",
     "text": [
      "Processing URLs:  84%|████████▎ | 276/330 [17:10<02:03,  2.30s/it]"
     ]
    },
    {
     "name": "stdout",
     "output_type": "stream",
     "text": [
      "Error during HTTP request: 404 Client Error: Not Found for url: https://www.eversports.de/s/pole-studio-koblenz\n",
      "Converting to DataFrame...\n",
      "Validating URLs...\n",
      "\n",
      "Processing completed.\n",
      "-------------------------------- \n",
      "\n",
      "Starting URL reconstruction...\n"
     ]
    },
    {
     "name": "stderr",
     "output_type": "stream",
     "text": [
      "Processing URLs:  84%|████████▍ | 277/330 [17:11<01:43,  1.95s/it]"
     ]
    },
    {
     "name": "stdout",
     "output_type": "stream",
     "text": [
      "Error during HTTP request: 404 Client Error: Not Found for url: https://www.eversports.de/s/drehimpuls-aachen\n",
      "Converting to DataFrame...\n",
      "Validating URLs...\n",
      "\n",
      "Processing completed.\n",
      "-------------------------------- \n",
      "\n",
      "Starting URL reconstruction...\n"
     ]
    },
    {
     "name": "stderr",
     "output_type": "stream",
     "text": [
      "Processing URLs:  84%|████████▍ | 278/330 [17:14<01:53,  2.18s/it]"
     ]
    },
    {
     "name": "stdout",
     "output_type": "stream",
     "text": [
      "Error during HTTP request: Exceeded 30 redirects.\n",
      "Converting to DataFrame...\n",
      "Validating URLs...\n",
      "\n",
      "Processing completed.\n",
      "-------------------------------- \n",
      "\n",
      "Starting URL reconstruction...\n"
     ]
    },
    {
     "name": "stderr",
     "output_type": "stream",
     "text": [
      "2024-02-21 13:58:47,579 - INFO - Processing URL 1/1: https://www.eversports.de/s/poleworkx\n"
     ]
    },
    {
     "name": "stdout",
     "output_type": "stream",
     "text": [
      "Converting to DataFrame...\n",
      "Validating URLs...\n"
     ]
    },
    {
     "name": "stderr",
     "output_type": "stream",
     "text": [
      "2024-02-21 13:58:48,760 - INFO - URL https://www.eversports.de/s/poleworkx is valid.\n"
     ]
    },
    {
     "name": "stdout",
     "output_type": "stream",
     "text": [
      "Scraping Pole Studio Data from https://www.eversports.de/s/poleworkx...\n"
     ]
    },
    {
     "name": "stderr",
     "output_type": "stream",
     "text": [
      "Processing URLs:  85%|████████▍ | 279/330 [17:17<02:01,  2.39s/it]"
     ]
    },
    {
     "name": "stdout",
     "output_type": "stream",
     "text": [
      "\n",
      "Processing completed.\n",
      "-------------------------------- \n",
      "\n",
      "2024-02-21 13:58:49 - INFO - Scraping Data from: https://www.eversports.de/s/poleworkx\n",
      "Pole Studio Data: 1 entries\n",
      "Starting URL reconstruction...\n"
     ]
    },
    {
     "name": "stderr",
     "output_type": "stream",
     "text": [
      "Processing URLs:  85%|████████▍ | 280/330 [17:18<01:40,  2.02s/it]"
     ]
    },
    {
     "name": "stdout",
     "output_type": "stream",
     "text": [
      "Error during HTTP request: 404 Client Error: Not Found for url: https://www.eversports.de/s/360-grad-soulsports\n",
      "Converting to DataFrame...\n",
      "Validating URLs...\n",
      "\n",
      "Processing completed.\n",
      "-------------------------------- \n",
      "\n",
      "Starting URL reconstruction...\n"
     ]
    },
    {
     "name": "stderr",
     "output_type": "stream",
     "text": [
      "2024-02-21 13:58:51,460 - INFO - Processing URL 1/1: https://www.eversports.de/s/poleaddict\n"
     ]
    },
    {
     "name": "stdout",
     "output_type": "stream",
     "text": [
      "Converting to DataFrame...\n",
      "Validating URLs...\n"
     ]
    },
    {
     "name": "stderr",
     "output_type": "stream",
     "text": [
      "2024-02-21 13:58:52,685 - INFO - URL https://www.eversports.de/s/poleaddict is valid.\n"
     ]
    },
    {
     "name": "stdout",
     "output_type": "stream",
     "text": [
      "Scraping Pole Studio Data from https://www.eversports.de/s/poleaddict...\n"
     ]
    },
    {
     "name": "stderr",
     "output_type": "stream",
     "text": [
      "Processing URLs:  85%|████████▌ | 281/330 [17:21<01:50,  2.25s/it]"
     ]
    },
    {
     "name": "stdout",
     "output_type": "stream",
     "text": [
      "\n",
      "Processing completed.\n",
      "-------------------------------- \n",
      "\n",
      "2024-02-21 13:58:52 - INFO - Scraping Data from: https://www.eversports.de/s/poleaddict\n",
      "Pole Studio Data: 1 entries\n",
      "Starting URL reconstruction...\n"
     ]
    },
    {
     "name": "stderr",
     "output_type": "stream",
     "text": [
      "Processing URLs:  85%|████████▌ | 282/330 [17:22<01:32,  1.93s/it]"
     ]
    },
    {
     "name": "stdout",
     "output_type": "stream",
     "text": [
      "Error during HTTP request: 404 Client Error: Not Found for url: https://www.eversports.de/s/polelove-bremen\n",
      "Converting to DataFrame...\n",
      "Validating URLs...\n",
      "\n",
      "Processing completed.\n",
      "-------------------------------- \n",
      "\n",
      "Starting URL reconstruction...\n"
     ]
    },
    {
     "name": "stderr",
     "output_type": "stream",
     "text": [
      "Processing URLs:  86%|████████▌ | 283/330 [17:24<01:35,  2.03s/it]"
     ]
    },
    {
     "name": "stdout",
     "output_type": "stream",
     "text": [
      "Error during HTTP request: 404 Client Error: Not Found for url: https://www.eversports.de/s/b.fitness-pole%26body\n",
      "Converting to DataFrame...\n",
      "Validating URLs...\n",
      "\n",
      "Processing completed.\n",
      "-------------------------------- \n",
      "\n",
      "Starting URL reconstruction...\n"
     ]
    },
    {
     "name": "stderr",
     "output_type": "stream",
     "text": [
      "Processing URLs:  86%|████████▌ | 284/330 [17:25<01:24,  1.84s/it]"
     ]
    },
    {
     "name": "stdout",
     "output_type": "stream",
     "text": [
      "Error during HTTP request: 404 Client Error: Not Found for url: https://www.eversports.de/s/polevybe\n",
      "Converting to DataFrame...\n",
      "Validating URLs...\n",
      "\n",
      "Processing completed.\n",
      "-------------------------------- \n",
      "\n",
      "Starting URL reconstruction...\n"
     ]
    },
    {
     "name": "stderr",
     "output_type": "stream",
     "text": [
      "2024-02-21 13:58:59,142 - INFO - Processing URL 1/2: https://www.eversports.de/s/royal-pole\n"
     ]
    },
    {
     "name": "stdout",
     "output_type": "stream",
     "text": [
      "Converting to DataFrame...\n",
      "Validating URLs...\n"
     ]
    },
    {
     "name": "stderr",
     "output_type": "stream",
     "text": [
      "2024-02-21 13:59:00,502 - INFO - URL https://www.eversports.de/s/royal-pole is valid.\n",
      "2024-02-21 13:59:00,502 - INFO - Processing URL 2/2: https://www.eversports.de/sw/royal-pole\n",
      "2024-02-21 13:59:01,677 - INFO - URL https://www.eversports.de/sw/royal-pole is not valid.\n"
     ]
    },
    {
     "name": "stdout",
     "output_type": "stream",
     "text": [
      "Scraping Pole Studio Data from https://www.eversports.de/s/royal-pole...\n"
     ]
    },
    {
     "name": "stderr",
     "output_type": "stream",
     "text": [
      "Processing URLs:  86%|████████▋ | 285/330 [17:30<01:55,  2.56s/it]"
     ]
    },
    {
     "name": "stdout",
     "output_type": "stream",
     "text": [
      "\n",
      "Processing completed.\n",
      "-------------------------------- \n",
      "\n",
      "2024-02-21 13:59:02 - INFO - Scraping Data from: https://www.eversports.de/s/royal-pole\n",
      "Pole Studio Data: 1 entries\n",
      "Starting URL reconstruction...\n"
     ]
    },
    {
     "name": "stderr",
     "output_type": "stream",
     "text": [
      "Processing URLs:  87%|████████▋ | 286/330 [17:31<01:35,  2.18s/it]"
     ]
    },
    {
     "name": "stdout",
     "output_type": "stream",
     "text": [
      "Error during HTTP request: 404 Client Error: Not Found for url: https://www.eversports.de/s/dance-%26-pole-solingen\n",
      "Converting to DataFrame...\n",
      "Validating URLs...\n",
      "\n",
      "Processing completed.\n",
      "-------------------------------- \n",
      "\n",
      "Starting URL reconstruction...\n"
     ]
    },
    {
     "name": "stderr",
     "output_type": "stream",
     "text": [
      "2024-02-21 13:59:04,856 - INFO - Processing URL 1/1: https://www.eversports.de/s/lush-motion\n"
     ]
    },
    {
     "name": "stdout",
     "output_type": "stream",
     "text": [
      "Converting to DataFrame...\n",
      "Validating URLs...\n"
     ]
    },
    {
     "name": "stderr",
     "output_type": "stream",
     "text": [
      "2024-02-21 13:59:06,092 - INFO - URL https://www.eversports.de/s/lush-motion is valid.\n"
     ]
    },
    {
     "name": "stdout",
     "output_type": "stream",
     "text": [
      "Scraping Pole Studio Data from https://www.eversports.de/s/lush-motion...\n"
     ]
    },
    {
     "name": "stderr",
     "output_type": "stream",
     "text": [
      "Processing URLs:  87%|████████▋ | 287/330 [17:34<01:44,  2.43s/it]"
     ]
    },
    {
     "name": "stdout",
     "output_type": "stream",
     "text": [
      "\n",
      "Processing completed.\n",
      "-------------------------------- \n",
      "\n",
      "2024-02-21 13:59:06 - INFO - Scraping Data from: https://www.eversports.de/s/lush-motion\n",
      "Pole Studio Data: 1 entries\n",
      "Starting URL reconstruction...\n"
     ]
    },
    {
     "name": "stderr",
     "output_type": "stream",
     "text": [
      "Processing URLs:  87%|████████▋ | 288/330 [17:35<01:27,  2.09s/it]"
     ]
    },
    {
     "name": "stdout",
     "output_type": "stream",
     "text": [
      "Error during HTTP request: 404 Client Error: Not Found for url: https://www.eversports.de/s/jeds\n",
      "Converting to DataFrame...\n",
      "Validating URLs...\n",
      "\n",
      "Processing completed.\n",
      "-------------------------------- \n",
      "\n",
      "Starting URL reconstruction...\n"
     ]
    },
    {
     "name": "stderr",
     "output_type": "stream",
     "text": [
      "Processing URLs:  88%|████████▊ | 289/330 [17:36<01:13,  1.80s/it]"
     ]
    },
    {
     "name": "stdout",
     "output_type": "stream",
     "text": [
      "Error during HTTP request: 404 Client Error: Not Found for url: https://www.eversports.de/s/spirit'n-roses\n",
      "Converting to DataFrame...\n",
      "Validating URLs...\n",
      "\n",
      "Processing completed.\n",
      "-------------------------------- \n",
      "\n",
      "Starting URL reconstruction...\n"
     ]
    },
    {
     "name": "stderr",
     "output_type": "stream",
     "text": [
      "2024-02-21 13:59:10,513 - INFO - Processing URL 1/1: https://www.eversports.de/s/welovepoledance\n"
     ]
    },
    {
     "name": "stdout",
     "output_type": "stream",
     "text": [
      "Converting to DataFrame...\n",
      "Validating URLs...\n"
     ]
    },
    {
     "name": "stderr",
     "output_type": "stream",
     "text": [
      "2024-02-21 13:59:11,951 - INFO - URL https://www.eversports.de/s/welovepoledance is valid.\n"
     ]
    },
    {
     "name": "stdout",
     "output_type": "stream",
     "text": [
      "Scraping Pole Studio Data from https://www.eversports.de/s/welovepoledance...\n"
     ]
    },
    {
     "name": "stderr",
     "output_type": "stream",
     "text": [
      "Processing URLs:  88%|████████▊ | 290/330 [17:40<01:31,  2.28s/it]"
     ]
    },
    {
     "name": "stdout",
     "output_type": "stream",
     "text": [
      "\n",
      "Processing completed.\n",
      "-------------------------------- \n",
      "\n",
      "2024-02-21 13:59:12 - INFO - Scraping Data from: https://www.eversports.de/s/welovepoledance\n",
      "Pole Studio Data: 1 entries\n",
      "Starting URL reconstruction...\n"
     ]
    },
    {
     "name": "stderr",
     "output_type": "stream",
     "text": [
      "Processing URLs:  88%|████████▊ | 291/330 [17:41<01:21,  2.09s/it]"
     ]
    },
    {
     "name": "stdout",
     "output_type": "stream",
     "text": [
      "Error during HTTP request: 404 Client Error: Not Found for url: https://www.eversports.de/s/pole-dance-nrw\n",
      "Converting to DataFrame...\n",
      "Validating URLs...\n",
      "\n",
      "Processing completed.\n",
      "-------------------------------- \n",
      "\n",
      "Starting URL reconstruction...\n"
     ]
    },
    {
     "name": "stderr",
     "output_type": "stream",
     "text": [
      "Processing URLs:  88%|████████▊ | 292/330 [17:45<01:34,  2.48s/it]"
     ]
    },
    {
     "name": "stdout",
     "output_type": "stream",
     "text": [
      "Error during HTTP request: Exceeded 30 redirects.\n",
      "Converting to DataFrame...\n",
      "Validating URLs...\n",
      "\n",
      "Processing completed.\n",
      "-------------------------------- \n",
      "\n",
      "Starting URL reconstruction...\n"
     ]
    },
    {
     "name": "stderr",
     "output_type": "stream",
     "text": [
      "Processing URLs:  89%|████████▉ | 293/330 [17:46<01:17,  2.11s/it]"
     ]
    },
    {
     "name": "stdout",
     "output_type": "stream",
     "text": [
      "Error during HTTP request: 404 Client Error: Not Found for url: https://www.eversports.de/s/pole-bijou\n",
      "Converting to DataFrame...\n",
      "Validating URLs...\n",
      "\n",
      "Processing completed.\n",
      "-------------------------------- \n",
      "\n",
      "Starting URL reconstruction...\n"
     ]
    },
    {
     "name": "stderr",
     "output_type": "stream",
     "text": [
      "2024-02-21 13:59:20,156 - INFO - Processing URL 1/1: https://www.eversports.de/s/pole-werk-by-nelly\n"
     ]
    },
    {
     "name": "stdout",
     "output_type": "stream",
     "text": [
      "Converting to DataFrame...\n",
      "Validating URLs...\n"
     ]
    },
    {
     "name": "stderr",
     "output_type": "stream",
     "text": [
      "2024-02-21 13:59:21,469 - INFO - URL https://www.eversports.de/s/pole-werk-by-nelly is valid.\n"
     ]
    },
    {
     "name": "stdout",
     "output_type": "stream",
     "text": [
      "Scraping Pole Studio Data from https://www.eversports.de/s/pole-werk-by-nelly...\n"
     ]
    },
    {
     "name": "stderr",
     "output_type": "stream",
     "text": [
      "Processing URLs:  89%|████████▉ | 294/330 [17:49<01:29,  2.50s/it]"
     ]
    },
    {
     "name": "stdout",
     "output_type": "stream",
     "text": [
      "\n",
      "Processing completed.\n",
      "-------------------------------- \n",
      "\n",
      "2024-02-21 13:59:21 - INFO - Scraping Data from: https://www.eversports.de/s/pole-werk-by-nelly\n",
      "Pole Studio Data: 1 entries\n",
      "Starting URL reconstruction...\n"
     ]
    },
    {
     "name": "stderr",
     "output_type": "stream",
     "text": [
      "Processing URLs:  89%|████████▉ | 295/330 [17:52<01:24,  2.41s/it]"
     ]
    },
    {
     "name": "stdout",
     "output_type": "stream",
     "text": [
      "Error during HTTP request: 404 Client Error: Not Found for url: https://www.eversports.de/s/dancexotic\n",
      "Converting to DataFrame...\n",
      "Validating URLs...\n",
      "\n",
      "Processing completed.\n",
      "-------------------------------- \n",
      "\n",
      "Starting URL reconstruction...\n"
     ]
    },
    {
     "name": "stderr",
     "output_type": "stream",
     "text": [
      "Processing URLs:  90%|████████▉ | 296/330 [17:54<01:25,  2.50s/it]"
     ]
    },
    {
     "name": "stdout",
     "output_type": "stream",
     "text": [
      "Error during HTTP request: Exceeded 30 redirects.\n",
      "Converting to DataFrame...\n",
      "Validating URLs...\n",
      "\n",
      "Processing completed.\n",
      "-------------------------------- \n",
      "\n",
      "Starting URL reconstruction...\n"
     ]
    },
    {
     "name": "stderr",
     "output_type": "stream",
     "text": [
      "Processing URLs:  90%|█████████ | 297/330 [17:56<01:09,  2.11s/it]"
     ]
    },
    {
     "name": "stdout",
     "output_type": "stream",
     "text": [
      "Error during HTTP request: 404 Client Error: Not Found for url: https://www.eversports.de/s/pole-dance-trier\n",
      "Converting to DataFrame...\n",
      "Validating URLs...\n",
      "\n",
      "Processing completed.\n",
      "-------------------------------- \n",
      "\n",
      "Starting URL reconstruction...\n"
     ]
    },
    {
     "name": "stderr",
     "output_type": "stream",
     "text": [
      "Processing URLs:  90%|█████████ | 298/330 [17:57<00:59,  1.87s/it]"
     ]
    },
    {
     "name": "stdout",
     "output_type": "stream",
     "text": [
      "Error during HTTP request: 404 Client Error: Not Found for url: https://www.eversports.de/s/open-aerial-dance\n",
      "Converting to DataFrame...\n",
      "Validating URLs...\n",
      "\n",
      "Processing completed.\n",
      "-------------------------------- \n",
      "\n",
      "Starting URL reconstruction...\n"
     ]
    },
    {
     "name": "stderr",
     "output_type": "stream",
     "text": [
      "Processing URLs:  91%|█████████ | 299/330 [17:58<00:52,  1.69s/it]"
     ]
    },
    {
     "name": "stdout",
     "output_type": "stream",
     "text": [
      "Error during HTTP request: 404 Client Error: Not Found for url: https://www.eversports.de/s/studio-fitnessdarling\n",
      "Converting to DataFrame...\n",
      "Validating URLs...\n",
      "\n",
      "Processing completed.\n",
      "-------------------------------- \n",
      "\n",
      "Starting URL reconstruction...\n"
     ]
    },
    {
     "name": "stderr",
     "output_type": "stream",
     "text": [
      "Processing URLs:  91%|█████████ | 300/330 [17:59<00:46,  1.55s/it]"
     ]
    },
    {
     "name": "stdout",
     "output_type": "stream",
     "text": [
      "Error during HTTP request: 404 Client Error: Not Found for url: https://www.eversports.de/s/pole-shape-studio\n",
      "Converting to DataFrame...\n",
      "Validating URLs...\n",
      "\n",
      "Processing completed.\n",
      "-------------------------------- \n",
      "\n",
      "Starting URL reconstruction...\n"
     ]
    },
    {
     "name": "stderr",
     "output_type": "stream",
     "text": [
      "2024-02-21 13:59:33,521 - INFO - Processing URL 1/1: https://www.eversports.de/s/aerial-studio-arnhem\n"
     ]
    },
    {
     "name": "stdout",
     "output_type": "stream",
     "text": [
      "Converting to DataFrame...\n",
      "Validating URLs...\n"
     ]
    },
    {
     "name": "stderr",
     "output_type": "stream",
     "text": [
      "2024-02-21 13:59:34,890 - INFO - URL https://www.eversports.de/s/aerial-studio-arnhem is valid.\n"
     ]
    },
    {
     "name": "stdout",
     "output_type": "stream",
     "text": [
      "Scraping Pole Studio Data from https://www.eversports.de/s/aerial-studio-arnhem...\n"
     ]
    },
    {
     "name": "stderr",
     "output_type": "stream",
     "text": [
      "Processing URLs:  91%|█████████ | 301/330 [18:03<01:01,  2.11s/it]"
     ]
    },
    {
     "name": "stdout",
     "output_type": "stream",
     "text": [
      "\n",
      "Processing completed.\n",
      "-------------------------------- \n",
      "\n",
      "2024-02-21 13:59:35 - INFO - Scraping Data from: https://www.eversports.de/s/aerial-studio-arnhem\n",
      "Pole Studio Data: 1 entries\n",
      "Starting URL reconstruction...\n"
     ]
    },
    {
     "name": "stderr",
     "output_type": "stream",
     "text": [
      "Processing URLs:  92%|█████████▏| 302/330 [18:04<00:50,  1.81s/it]"
     ]
    },
    {
     "name": "stdout",
     "output_type": "stream",
     "text": [
      "Error during HTTP request: 404 Client Error: Not Found for url: https://www.eversports.de/s/pole-%26-tanzwelt\n",
      "Converting to DataFrame...\n",
      "Validating URLs...\n",
      "\n",
      "Processing completed.\n",
      "-------------------------------- \n",
      "\n",
      "Starting URL reconstruction...\n"
     ]
    },
    {
     "name": "stderr",
     "output_type": "stream",
     "text": [
      "Processing URLs:  92%|█████████▏| 303/330 [18:07<01:00,  2.23s/it]"
     ]
    },
    {
     "name": "stdout",
     "output_type": "stream",
     "text": [
      "Error during HTTP request: Exceeded 30 redirects.\n",
      "Converting to DataFrame...\n",
      "Validating URLs...\n",
      "\n",
      "Processing completed.\n",
      "-------------------------------- \n",
      "\n",
      "Starting URL reconstruction...\n"
     ]
    },
    {
     "name": "stderr",
     "output_type": "stream",
     "text": [
      "2024-02-21 13:59:41,055 - INFO - Processing URL 1/1: https://www.eversports.de/s/dunya-pole-dance-school\n"
     ]
    },
    {
     "name": "stdout",
     "output_type": "stream",
     "text": [
      "Converting to DataFrame...\n",
      "Validating URLs...\n"
     ]
    },
    {
     "name": "stderr",
     "output_type": "stream",
     "text": [
      "2024-02-21 13:59:42,684 - INFO - URL https://www.eversports.de/s/dunya-pole-dance-school is valid.\n"
     ]
    },
    {
     "name": "stdout",
     "output_type": "stream",
     "text": [
      "Scraping Pole Studio Data from https://www.eversports.de/s/dunya-pole-dance-school...\n"
     ]
    },
    {
     "name": "stderr",
     "output_type": "stream",
     "text": [
      "Processing URLs:  92%|█████████▏| 304/330 [18:11<01:07,  2.60s/it]"
     ]
    },
    {
     "name": "stdout",
     "output_type": "stream",
     "text": [
      "\n",
      "Processing completed.\n",
      "-------------------------------- \n",
      "\n",
      "2024-02-21 13:59:43 - INFO - Scraping Data from: https://www.eversports.de/s/dunya-pole-dance-school\n",
      "Pole Studio Data: 1 entries\n",
      "Starting URL reconstruction...\n"
     ]
    },
    {
     "name": "stderr",
     "output_type": "stream",
     "text": [
      "2024-02-21 13:59:44,396 - INFO - Processing URL 1/2: https://www.eversports.de/s/da-becca-flow-and-fit\n"
     ]
    },
    {
     "name": "stdout",
     "output_type": "stream",
     "text": [
      "Converting to DataFrame...\n",
      "Validating URLs...\n"
     ]
    },
    {
     "name": "stderr",
     "output_type": "stream",
     "text": [
      "2024-02-21 13:59:45,760 - INFO - URL https://www.eversports.de/s/da-becca-flow-and-fit is valid.\n",
      "2024-02-21 13:59:45,761 - INFO - Processing URL 2/2: https://www.eversports.de/sw/da-becca-flow-and-fit\n",
      "2024-02-21 13:59:47,634 - INFO - URL https://www.eversports.de/sw/da-becca-flow-and-fit is valid.\n"
     ]
    },
    {
     "name": "stdout",
     "output_type": "stream",
     "text": [
      "Scraping Pole Studio Data from https://www.eversports.de/s/da-becca-flow-and-fit...\n",
      "Scraping Workshops Data from https://www.eversports.de/sw/da-becca-flow-and-fit...\n",
      "Scraping Workshop Details from https://www.eversports.de/e/workshop/2z_srY0...\n",
      "Scraping Workshop Details from https://www.eversports.de/e/workshop/o5_MV7J...\n",
      "Scraping Workshop Details from https://www.eversports.de/e/workshop/0u01Mza...\n",
      "Scraping Workshop Details from https://www.eversports.de/e/workshop/DBxar8u...\n",
      "Scraping Workshop Details from https://www.eversports.de/e/workshop/GlPG304...\n",
      "Scraping Workshop Details from https://www.eversports.de/e/workshop/wj20M8W...\n",
      "Scraping Workshop Details from https://www.eversports.de/e/workshop/113IYbR...\n",
      "Scraping Workshop Details from https://www.eversports.de/e/workshop/vyTj8JR...\n",
      "Scraping Workshop Details from https://www.eversports.de/e/workshop/GMeuKSV...\n",
      "Scraping Workshop Details from https://www.eversports.de/e/workshop/461op6s...\n",
      "Scraping Workshop Details from https://www.eversports.de/e/workshop/NrFmto0...\n",
      "Scraping Workshop Details from https://www.eversports.de/e/workshop/km4K7Yv...\n",
      "Scraping Workshop Details from https://www.eversports.de/e/workshop/B2Sz3mv...\n",
      "Scraping Workshop Details from https://www.eversports.de/e/workshop/HhyMbSA...\n",
      "Scraping Workshop Details from https://www.eversports.de/e/workshop/WBlAegH...\n"
     ]
    },
    {
     "name": "stderr",
     "output_type": "stream",
     "text": [
      "Processing URLs:  92%|█████████▏| 305/330 [18:38<04:12, 10.08s/it]"
     ]
    },
    {
     "name": "stdout",
     "output_type": "stream",
     "text": [
      "\n",
      "Processing completed.\n",
      "-------------------------------- \n",
      "\n",
      "2024-02-21 14:00:10 - INFO - Scraping Data from: https://www.eversports.de/s/da-becca-flow-and-fit\n",
      "Pole Studio Data: 1 entries\n",
      "2024-02-21 14:00:10 - INFO - Scraping Data from: https://www.eversports.de/s/da-becca-flow-and-fit\n",
      "Workshops Data: 15 entries\n",
      "2024-02-21 14:00:10 - INFO - Scraping Data from: https://www.eversports.de/s/da-becca-flow-and-fit\n",
      "Workshop Details: 15 entries\n",
      "Starting URL reconstruction...\n"
     ]
    },
    {
     "name": "stderr",
     "output_type": "stream",
     "text": [
      "Processing URLs:  93%|█████████▎| 306/330 [18:39<02:57,  7.40s/it]"
     ]
    },
    {
     "name": "stdout",
     "output_type": "stream",
     "text": [
      "Error during HTTP request: 404 Client Error: Not Found for url: https://www.eversports.de/s/polesports-studio-bremen\n",
      "Converting to DataFrame...\n",
      "Validating URLs...\n",
      "\n",
      "Processing completed.\n",
      "-------------------------------- \n",
      "\n",
      "Starting URL reconstruction...\n"
     ]
    },
    {
     "name": "stderr",
     "output_type": "stream",
     "text": [
      "Processing URLs:  93%|█████████▎| 307/330 [18:42<02:20,  6.09s/it]"
     ]
    },
    {
     "name": "stdout",
     "output_type": "stream",
     "text": [
      "Error during HTTP request: Exceeded 30 redirects.\n",
      "Converting to DataFrame...\n",
      "Validating URLs...\n",
      "\n",
      "Processing completed.\n",
      "-------------------------------- \n",
      "\n",
      "Starting URL reconstruction...\n"
     ]
    },
    {
     "name": "stderr",
     "output_type": "stream",
     "text": [
      "2024-02-21 14:00:16,176 - INFO - Processing URL 1/1: https://www.eversports.de/s/pole-paradise\n"
     ]
    },
    {
     "name": "stdout",
     "output_type": "stream",
     "text": [
      "Converting to DataFrame...\n",
      "Validating URLs...\n"
     ]
    },
    {
     "name": "stderr",
     "output_type": "stream",
     "text": [
      "2024-02-21 14:00:18,618 - INFO - URL https://www.eversports.de/s/pole-paradise is valid.\n"
     ]
    },
    {
     "name": "stdout",
     "output_type": "stream",
     "text": [
      "Scraping Pole Studio Data from https://www.eversports.de/s/pole-paradise...\n"
     ]
    },
    {
     "name": "stderr",
     "output_type": "stream",
     "text": [
      "Processing URLs:  93%|█████████▎| 308/330 [18:47<02:05,  5.69s/it]"
     ]
    },
    {
     "name": "stdout",
     "output_type": "stream",
     "text": [
      "\n",
      "Processing completed.\n",
      "-------------------------------- \n",
      "\n",
      "2024-02-21 14:00:19 - INFO - Scraping Data from: https://www.eversports.de/s/pole-paradise\n",
      "Pole Studio Data: 1 entries\n",
      "Starting URL reconstruction...\n"
     ]
    },
    {
     "name": "stderr",
     "output_type": "stream",
     "text": [
      "Processing URLs:  94%|█████████▎| 309/330 [18:48<01:30,  4.33s/it]"
     ]
    },
    {
     "name": "stdout",
     "output_type": "stream",
     "text": [
      "Error during HTTP request: 404 Client Error: Not Found for url: https://www.eversports.de/s/poledance!-aerial-%26-fitness-flensburg-wees\n",
      "Converting to DataFrame...\n",
      "Validating URLs...\n",
      "\n",
      "Processing completed.\n",
      "-------------------------------- \n",
      "\n",
      "Starting URL reconstruction...\n"
     ]
    },
    {
     "name": "stderr",
     "output_type": "stream",
     "text": [
      "Processing URLs:  94%|█████████▍| 310/330 [18:49<01:07,  3.36s/it]"
     ]
    },
    {
     "name": "stdout",
     "output_type": "stream",
     "text": [
      "Error during HTTP request: 404 Client Error: Not Found for url: https://www.eversports.de/s/polemotion-freiburg\n",
      "Converting to DataFrame...\n",
      "Validating URLs...\n",
      "\n",
      "Processing completed.\n",
      "-------------------------------- \n",
      "\n",
      "Starting URL reconstruction...\n"
     ]
    },
    {
     "name": "stderr",
     "output_type": "stream",
     "text": [
      "Processing URLs:  94%|█████████▍| 311/330 [18:50<00:51,  2.70s/it]"
     ]
    },
    {
     "name": "stdout",
     "output_type": "stream",
     "text": [
      "Error during HTTP request: 404 Client Error: Not Found for url: https://www.eversports.de/s/passionate-pole-%26-sports\n",
      "Converting to DataFrame...\n",
      "Validating URLs...\n",
      "\n",
      "Processing completed.\n",
      "-------------------------------- \n",
      "\n",
      "Starting URL reconstruction...\n"
     ]
    },
    {
     "name": "stderr",
     "output_type": "stream",
     "text": [
      "Processing URLs:  95%|█████████▍| 312/330 [18:52<00:43,  2.40s/it]"
     ]
    },
    {
     "name": "stdout",
     "output_type": "stream",
     "text": [
      "Error during HTTP request: 404 Client Error: Not Found for url: https://www.eversports.de/s/dance-%26-pole-langenfeld\n",
      "Converting to DataFrame...\n",
      "Validating URLs...\n",
      "\n",
      "Processing completed.\n",
      "-------------------------------- \n",
      "\n",
      "Starting URL reconstruction...\n"
     ]
    },
    {
     "name": "stderr",
     "output_type": "stream",
     "text": [
      "2024-02-21 14:00:26,166 - INFO - Processing URL 1/1: https://www.eversports.de/s/the-basement-pole-dance-and-movement\n"
     ]
    },
    {
     "name": "stdout",
     "output_type": "stream",
     "text": [
      "Converting to DataFrame...\n",
      "Validating URLs...\n"
     ]
    },
    {
     "name": "stderr",
     "output_type": "stream",
     "text": [
      "2024-02-21 14:00:28,409 - INFO - URL https://www.eversports.de/s/the-basement-pole-dance-and-movement is valid.\n"
     ]
    },
    {
     "name": "stdout",
     "output_type": "stream",
     "text": [
      "Scraping Pole Studio Data from https://www.eversports.de/s/the-basement-pole-dance-and-movement...\n"
     ]
    },
    {
     "name": "stderr",
     "output_type": "stream",
     "text": [
      "Processing URLs:  95%|█████████▍| 313/330 [18:56<00:50,  2.94s/it]"
     ]
    },
    {
     "name": "stdout",
     "output_type": "stream",
     "text": [
      "\n",
      "Processing completed.\n",
      "-------------------------------- \n",
      "\n",
      "2024-02-21 14:00:28 - INFO - Scraping Data from: https://www.eversports.de/s/the-basement-pole-dance-and-movement\n",
      "Pole Studio Data: 1 entries\n",
      "Starting URL reconstruction...\n"
     ]
    },
    {
     "name": "stderr",
     "output_type": "stream",
     "text": [
      "Processing URLs:  95%|█████████▌| 314/330 [18:58<00:39,  2.47s/it]"
     ]
    },
    {
     "name": "stdout",
     "output_type": "stream",
     "text": [
      "Error during HTTP request: 404 Client Error: Not Found for url: https://www.eversports.de/s/crazypole-dresden\n",
      "Converting to DataFrame...\n",
      "Validating URLs...\n",
      "\n",
      "Processing completed.\n",
      "-------------------------------- \n",
      "\n",
      "Starting URL reconstruction...\n"
     ]
    },
    {
     "name": "stderr",
     "output_type": "stream",
     "text": [
      "Processing URLs:  95%|█████████▌| 315/330 [18:59<00:33,  2.20s/it]"
     ]
    },
    {
     "name": "stdout",
     "output_type": "stream",
     "text": [
      "Error during HTTP request: 404 Client Error: Not Found for url: https://www.eversports.de/s/poledreams\n",
      "Converting to DataFrame...\n",
      "Validating URLs...\n",
      "\n",
      "Processing completed.\n",
      "-------------------------------- \n",
      "\n",
      "Starting URL reconstruction...\n"
     ]
    },
    {
     "name": "stderr",
     "output_type": "stream",
     "text": [
      "Processing URLs:  96%|█████████▌| 316/330 [19:05<00:46,  3.35s/it]"
     ]
    },
    {
     "name": "stdout",
     "output_type": "stream",
     "text": [
      "Error during HTTP request: Exceeded 30 redirects.\n",
      "Converting to DataFrame...\n",
      "Validating URLs...\n",
      "\n",
      "Processing completed.\n",
      "-------------------------------- \n",
      "\n",
      "Starting URL reconstruction...\n"
     ]
    },
    {
     "name": "stderr",
     "output_type": "stream",
     "text": [
      "Processing URLs:  96%|█████████▌| 317/330 [19:07<00:35,  2.73s/it]"
     ]
    },
    {
     "name": "stdout",
     "output_type": "stream",
     "text": [
      "Error during HTTP request: 404 Client Error: Not Found for url: https://www.eversports.de/s/polemotions\n",
      "Converting to DataFrame...\n",
      "Validating URLs...\n",
      "\n",
      "Processing completed.\n",
      "-------------------------------- \n",
      "\n",
      "Starting URL reconstruction...\n"
     ]
    },
    {
     "name": "stderr",
     "output_type": "stream",
     "text": [
      "Processing URLs:  96%|█████████▋| 318/330 [19:08<00:27,  2.26s/it]"
     ]
    },
    {
     "name": "stdout",
     "output_type": "stream",
     "text": [
      "Error during HTTP request: 404 Client Error: Not Found for url: https://www.eversports.de/s/pole-dance-mettingen\n",
      "Converting to DataFrame...\n",
      "Validating URLs...\n",
      "\n",
      "Processing completed.\n",
      "-------------------------------- \n",
      "\n",
      "Starting URL reconstruction...\n"
     ]
    },
    {
     "name": "stderr",
     "output_type": "stream",
     "text": [
      "Processing URLs:  97%|█████████▋| 319/330 [19:11<00:27,  2.52s/it]"
     ]
    },
    {
     "name": "stdout",
     "output_type": "stream",
     "text": [
      "Error during HTTP request: Exceeded 30 redirects.\n",
      "Converting to DataFrame...\n",
      "Validating URLs...\n",
      "\n",
      "Processing completed.\n",
      "-------------------------------- \n",
      "\n",
      "Starting URL reconstruction...\n"
     ]
    },
    {
     "name": "stderr",
     "output_type": "stream",
     "text": [
      "Processing URLs:  97%|█████████▋| 320/330 [19:12<00:21,  2.13s/it]"
     ]
    },
    {
     "name": "stdout",
     "output_type": "stream",
     "text": [
      "Error during HTTP request: 404 Client Error: Not Found for url: https://www.eversports.de/s/schwerelos\n",
      "Converting to DataFrame...\n",
      "Validating URLs...\n",
      "\n",
      "Processing completed.\n",
      "-------------------------------- \n",
      "\n",
      "Starting URL reconstruction...\n"
     ]
    },
    {
     "name": "stderr",
     "output_type": "stream",
     "text": [
      "Processing URLs:  97%|█████████▋| 321/330 [19:14<00:17,  1.92s/it]"
     ]
    },
    {
     "name": "stdout",
     "output_type": "stream",
     "text": [
      "Error during HTTP request: 404 Client Error: Not Found for url: https://www.eversports.de/s/le-serpent-rouge\n",
      "Converting to DataFrame...\n",
      "Validating URLs...\n",
      "\n",
      "Processing completed.\n",
      "-------------------------------- \n",
      "\n",
      "Starting URL reconstruction...\n"
     ]
    },
    {
     "name": "stderr",
     "output_type": "stream",
     "text": [
      "2024-02-21 14:00:47,310 - INFO - Processing URL 1/1: https://www.eversports.de/s/aerial-studio\n"
     ]
    },
    {
     "name": "stdout",
     "output_type": "stream",
     "text": [
      "Converting to DataFrame...\n",
      "Validating URLs...\n"
     ]
    },
    {
     "name": "stderr",
     "output_type": "stream",
     "text": [
      "2024-02-21 14:00:48,684 - INFO - URL https://www.eversports.de/s/aerial-studio is valid.\n"
     ]
    },
    {
     "name": "stdout",
     "output_type": "stream",
     "text": [
      "Scraping Pole Studio Data from https://www.eversports.de/s/aerial-studio...\n"
     ]
    },
    {
     "name": "stderr",
     "output_type": "stream",
     "text": [
      "Processing URLs:  98%|█████████▊| 322/330 [19:17<00:18,  2.36s/it]"
     ]
    },
    {
     "name": "stdout",
     "output_type": "stream",
     "text": [
      "\n",
      "Processing completed.\n",
      "-------------------------------- \n",
      "\n",
      "2024-02-21 14:00:49 - INFO - Scraping Data from: https://www.eversports.de/s/aerial-studio\n",
      "Pole Studio Data: 1 entries\n",
      "Starting URL reconstruction...\n"
     ]
    },
    {
     "name": "stderr",
     "output_type": "stream",
     "text": [
      "Processing URLs:  98%|█████████▊| 323/330 [19:18<00:14,  2.01s/it]"
     ]
    },
    {
     "name": "stdout",
     "output_type": "stream",
     "text": [
      "Error during HTTP request: 404 Client Error: Not Found for url: https://www.eversports.de/s/airobics---pole-%26-aerial-dance-hamburg\n",
      "Converting to DataFrame...\n",
      "Validating URLs...\n",
      "\n",
      "Processing completed.\n",
      "-------------------------------- \n",
      "\n",
      "Starting URL reconstruction...\n"
     ]
    },
    {
     "name": "stderr",
     "output_type": "stream",
     "text": [
      "Processing URLs:  98%|█████████▊| 324/330 [19:19<00:10,  1.76s/it]"
     ]
    },
    {
     "name": "stdout",
     "output_type": "stream",
     "text": [
      "Error during HTTP request: 404 Client Error: Not Found for url: https://www.eversports.de/s/polefitness-premium\n",
      "Converting to DataFrame...\n",
      "Validating URLs...\n",
      "\n",
      "Processing completed.\n",
      "-------------------------------- \n",
      "\n",
      "Starting URL reconstruction...\n"
     ]
    },
    {
     "name": "stderr",
     "output_type": "stream",
     "text": [
      "Processing URLs:  98%|█████████▊| 325/330 [19:21<00:07,  1.60s/it]"
     ]
    },
    {
     "name": "stdout",
     "output_type": "stream",
     "text": [
      "Error during HTTP request: 404 Client Error: Not Found for url: https://www.eversports.de/s/monopole-dance\n",
      "Converting to DataFrame...\n",
      "Validating URLs...\n",
      "\n",
      "Processing completed.\n",
      "-------------------------------- \n",
      "\n",
      "Starting URL reconstruction...\n"
     ]
    },
    {
     "name": "stderr",
     "output_type": "stream",
     "text": [
      "2024-02-21 14:00:54,557 - INFO - Processing URL 1/1: https://www.eversports.de/s/delicate-pole\n"
     ]
    },
    {
     "name": "stdout",
     "output_type": "stream",
     "text": [
      "Converting to DataFrame...\n",
      "Validating URLs...\n"
     ]
    },
    {
     "name": "stderr",
     "output_type": "stream",
     "text": [
      "2024-02-21 14:00:56,415 - INFO - URL https://www.eversports.de/s/delicate-pole is valid.\n"
     ]
    },
    {
     "name": "stdout",
     "output_type": "stream",
     "text": [
      "Scraping Pole Studio Data from https://www.eversports.de/s/delicate-pole...\n"
     ]
    },
    {
     "name": "stderr",
     "output_type": "stream",
     "text": [
      "Processing URLs:  99%|█████████▉| 326/330 [19:24<00:09,  2.25s/it]"
     ]
    },
    {
     "name": "stdout",
     "output_type": "stream",
     "text": [
      "\n",
      "Processing completed.\n",
      "-------------------------------- \n",
      "\n",
      "2024-02-21 14:00:56 - INFO - Scraping Data from: https://www.eversports.de/s/delicate-pole\n",
      "Pole Studio Data: 1 entries\n",
      "Starting URL reconstruction...\n"
     ]
    },
    {
     "name": "stderr",
     "output_type": "stream",
     "text": [
      "2024-02-21 14:00:58,141 - INFO - Processing URL 1/1: https://www.eversports.de/s/polefitness-leipzig\n"
     ]
    },
    {
     "name": "stdout",
     "output_type": "stream",
     "text": [
      "Converting to DataFrame...\n",
      "Validating URLs...\n"
     ]
    },
    {
     "name": "stderr",
     "output_type": "stream",
     "text": [
      "2024-02-21 14:00:59,551 - INFO - URL https://www.eversports.de/s/polefitness-leipzig is valid.\n"
     ]
    },
    {
     "name": "stdout",
     "output_type": "stream",
     "text": [
      "Scraping Pole Studio Data from https://www.eversports.de/s/polefitness-leipzig...\n"
     ]
    },
    {
     "name": "stderr",
     "output_type": "stream",
     "text": [
      "Processing URLs:  99%|█████████▉| 327/330 [19:27<00:07,  2.51s/it]"
     ]
    },
    {
     "name": "stdout",
     "output_type": "stream",
     "text": [
      "\n",
      "Processing completed.\n",
      "-------------------------------- \n",
      "\n",
      "2024-02-21 14:00:59 - INFO - Scraping Data from: https://www.eversports.de/s/polefitness-leipzig\n",
      "Pole Studio Data: 1 entries\n",
      "Starting URL reconstruction...\n"
     ]
    },
    {
     "name": "stderr",
     "output_type": "stream",
     "text": [
      "Processing URLs:  99%|█████████▉| 328/330 [19:29<00:04,  2.12s/it]"
     ]
    },
    {
     "name": "stdout",
     "output_type": "stream",
     "text": [
      "Error during HTTP request: 404 Client Error: Not Found for url: https://www.eversports.de/s/souldance\n",
      "Converting to DataFrame...\n",
      "Validating URLs...\n",
      "\n",
      "Processing completed.\n",
      "-------------------------------- \n",
      "\n",
      "Starting URL reconstruction...\n"
     ]
    },
    {
     "name": "stderr",
     "output_type": "stream",
     "text": [
      "Processing URLs: 100%|█████████▉| 329/330 [19:30<00:01,  1.85s/it]"
     ]
    },
    {
     "name": "stdout",
     "output_type": "stream",
     "text": [
      "Error during HTTP request: 404 Client Error: Not Found for url: https://www.eversports.de/s/pole-heroes-pole-%26-aerial-dance-studio\n",
      "Converting to DataFrame...\n",
      "Validating URLs...\n",
      "\n",
      "Processing completed.\n",
      "-------------------------------- \n",
      "\n",
      "Starting URL reconstruction...\n"
     ]
    },
    {
     "name": "stderr",
     "output_type": "stream",
     "text": [
      "2024-02-21 14:01:03,808 - INFO - Processing URL 1/1: https://www.eversports.de/s/one8dance-studio\n"
     ]
    },
    {
     "name": "stdout",
     "output_type": "stream",
     "text": [
      "Converting to DataFrame...\n",
      "Validating URLs...\n"
     ]
    },
    {
     "name": "stderr",
     "output_type": "stream",
     "text": [
      "2024-02-21 14:01:05,155 - INFO - URL https://www.eversports.de/s/one8dance-studio is valid.\n"
     ]
    },
    {
     "name": "stdout",
     "output_type": "stream",
     "text": [
      "Scraping Pole Studio Data from https://www.eversports.de/s/one8dance-studio...\n"
     ]
    },
    {
     "name": "stderr",
     "output_type": "stream",
     "text": [
      "Processing URLs: 100%|██████████| 330/330 [19:33<00:00,  3.56s/it]"
     ]
    },
    {
     "name": "stdout",
     "output_type": "stream",
     "text": [
      "\n",
      "Processing completed.\n",
      "-------------------------------- \n",
      "\n",
      "2024-02-21 14:01:05 - INFO - Scraping Data from: https://www.eversports.de/s/one8dance-studio\n",
      "Pole Studio Data: 1 entries\n"
     ]
    },
    {
     "name": "stderr",
     "output_type": "stream",
     "text": [
      "\n"
     ]
    }
   ],
   "source": [
    "import pandas as pd\n",
    "from a_PyCaller import process_urls\n",
    "from tqdm import tqdm\n",
    "from datetime import datetime\n",
    "\n",
    "def process_and_print_results(url, all_pole_studio_data, all_workshops_data, all_workshop_details_data, all_urls_data):\n",
    "    data = process_urls([url])\n",
    "\n",
    "    if data:\n",
    "        for key, df in data.items():\n",
    "            if df is not None and not df.empty:\n",
    "                tqdm.write(f\"{datetime.now().strftime('%Y-%m-%d %H:%M:%S')} - INFO - Scraping Data from: {url}\")\n",
    "                tqdm.write(f\"{key.replace('_', ' ').title()}: {len(df)} entries\")\n",
    "\n",
    "                # Update the appropriate DataFrame\n",
    "                if key == 'pole_studio_data':\n",
    "                    all_pole_studio_data = pd.concat([all_pole_studio_data, df], ignore_index=True)\n",
    "                elif key == 'workshops_data':\n",
    "                    all_workshops_data = pd.concat([all_workshops_data, df], ignore_index=True)\n",
    "                elif key == 'workshop_details':\n",
    "                    all_workshop_details_data = pd.concat([all_workshop_details_data, df], ignore_index=True)\n",
    "\n",
    "    # Add URLs to DataFrame\n",
    "    all_urls_data = pd.concat([all_urls_data, pd.DataFrame({'URL': [url]})], ignore_index=True)\n",
    "\n",
    "    return all_pole_studio_data, all_workshops_data, all_workshop_details_data, all_urls_data\n",
    "\n",
    "def main():\n",
    "    # # Load initial URLs\n",
    "    # all_found_urls_s = pd.read_csv(\"your_output_file.csv\")\n",
    "    # initial_urls = list(set(all_found_urls_s[\"0\"])) # Delete \"[:3]\" to scrape all Urls\n",
    "\n",
    "    # Initialize DataFrames\n",
    "    all_pole_studio_data = pd.DataFrame()\n",
    "    all_workshops_data = pd.DataFrame()\n",
    "    all_workshop_details_data = pd.DataFrame()\n",
    "    all_urls_data = pd.DataFrame(columns=['URL'])\n",
    "\n",
    "    # Process each URL with tqdm\n",
    "    with tqdm(initial_urls, desc=\"Processing URLs\", dynamic_ncols=True) as pbar:\n",
    "        for url in pbar:\n",
    "            all_pole_studio_data, all_workshops_data, all_workshop_details_data, all_urls_data = process_and_print_results(\n",
    "                url, all_pole_studio_data, all_workshops_data, all_workshop_details_data, all_urls_data\n",
    "            )\n",
    "\n",
    "    # Export DataFrames to CSV files\n",
    "    # all_pole_studio_data.to_csv(\"Pole_Studio_Übersicht_S.csv\", index=False)\n",
    "    # all_workshops_data.to_csv(\"Workshop_Liste_SW.csv\", index=False)\n",
    "    # all_workshop_details_data.to_csv(\"Workshop_Übersicht_E.csv\", index=False)\n",
    "    # all_urls_data.to_csv(\"All_URLs.csv\", index=False)\n",
    "\n",
    "    # Return the final DataFrames\n",
    "    return all_pole_studio_data, all_workshops_data, all_workshop_details_data, all_urls_data\n",
    "\n",
    "# Run the main function and get the final DataFrames\n",
    "result_pole_studio, result_workshops, result_workshop_details, result_urls = main()\n"
   ]
  },
  {
   "cell_type": "code",
   "execution_count": 20,
   "metadata": {},
   "outputs": [
    {
     "data": {
      "text/html": [
       "<div>\n",
       "<style scoped>\n",
       "    .dataframe tbody tr th:only-of-type {\n",
       "        vertical-align: middle;\n",
       "    }\n",
       "\n",
       "    .dataframe tbody tr th {\n",
       "        vertical-align: top;\n",
       "    }\n",
       "\n",
       "    .dataframe thead th {\n",
       "        text-align: right;\n",
       "    }\n",
       "</style>\n",
       "<table border=\"1\" class=\"dataframe\">\n",
       "  <thead>\n",
       "    <tr style=\"text-align: right;\">\n",
       "      <th></th>\n",
       "      <th>PoleStudio_Name</th>\n",
       "      <th>Adresse</th>\n",
       "      <th>PLZ</th>\n",
       "      <th>Stadt</th>\n",
       "      <th>Straße</th>\n",
       "      <th>Buttons</th>\n",
       "      <th>Pole Studio Beschreibung</th>\n",
       "      <th>E-Mail</th>\n",
       "      <th>Homepage</th>\n",
       "      <th>Telefon</th>\n",
       "      <th>URL_S</th>\n",
       "      <th>Art</th>\n",
       "      <th>Angebot</th>\n",
       "      <th>Created Date</th>\n",
       "      <th>Updated Date</th>\n",
       "    </tr>\n",
       "  </thead>\n",
       "  <tbody>\n",
       "    <tr>\n",
       "      <th>0</th>\n",
       "      <td>Tanzstudio Michel</td>\n",
       "      <td>[Schmalweg 50 ,  55252 Wiesbaden]</td>\n",
       "      <td>55252</td>\n",
       "      <td>Wiesbaden</td>\n",
       "      <td>Schmalweg 50</td>\n",
       "      <td>[Übersicht, Klassen, Preise, Team]</td>\n",
       "      <td>Das etablierte Tanzstudio in Wiesbaden bietet ...</td>\n",
       "      <td>t.michel.9@gmx.de</td>\n",
       "      <td>https://www.tanzstudio-michel.de/</td>\n",
       "      <td>+49 15115125871</td>\n",
       "      <td>https://www.eversports.de/s/tanzstudio-michel</td>\n",
       "      <td>[1 Rezensionen, Fitness, Tanzen, Poledance, St...</td>\n",
       "      <td>Zum Stundenplan</td>\n",
       "      <td>2024-02-21 13:41:54</td>\n",
       "      <td>2024-02-21 13:41:54</td>\n",
       "    </tr>\n",
       "    <tr>\n",
       "      <th>1</th>\n",
       "      <td>Polestation Academy</td>\n",
       "      <td>[Marktstraße 20b ,  6971 Hard]</td>\n",
       "      <td>6971</td>\n",
       "      <td>Hard</td>\n",
       "      <td>Marktstraße 20b</td>\n",
       "      <td>[Übersicht, Klassen, Videos, Preise, Team]</td>\n",
       "      <td>Polestation Academy ist ein Ort für Pole und A...</td>\n",
       "      <td>blum.n@gmx.at</td>\n",
       "      <td>http://www.polestation.com</td>\n",
       "      <td>+43 6642006568</td>\n",
       "      <td>https://www.eversports.de/s/polestation-academy</td>\n",
       "      <td>[Poledance, Poledance, Poledance, Poledance, P...</td>\n",
       "      <td>Zum Stundenplan</td>\n",
       "      <td>2024-02-21 13:42:03</td>\n",
       "      <td>2024-02-21 13:42:03</td>\n",
       "    </tr>\n",
       "    <tr>\n",
       "      <th>2</th>\n",
       "      <td>Poledance 4 you</td>\n",
       "      <td>[Naugarder Straße 14,  10409 Berlin]</td>\n",
       "      <td>10409</td>\n",
       "      <td>Berlin</td>\n",
       "      <td>Naugarder Straße 14</td>\n",
       "      <td>[Übersicht]</td>\n",
       "      <td>Das Motto des Berliner Pole Dance Studios laut...</td>\n",
       "      <td>info@poledance4you.de</td>\n",
       "      <td>https://www.poledance4you.de/</td>\n",
       "      <td>None</td>\n",
       "      <td>https://www.eversports.de/s/poledance-4-you</td>\n",
       "      <td>[(Noch keine Bewertungen), Poledance]</td>\n",
       "      <td>None</td>\n",
       "      <td>2024-02-21 13:42:10</td>\n",
       "      <td>2024-02-21 13:42:10</td>\n",
       "    </tr>\n",
       "    <tr>\n",
       "      <th>3</th>\n",
       "      <td>Luftbonbon</td>\n",
       "      <td>[Königstraße 45 ,  32547 Bad Oeynhausen]</td>\n",
       "      <td>32547</td>\n",
       "      <td>Bad</td>\n",
       "      <td>Königstraße 45</td>\n",
       "      <td>[Übersicht, Klassen, Workshops, Preise, Team]</td>\n",
       "      <td>Entdecke mit uns die vielseitige Welt der Luft...</td>\n",
       "      <td>info@luftbonbon.com</td>\n",
       "      <td>https://www.luftbonbon.com/</td>\n",
       "      <td>01622572081</td>\n",
       "      <td>https://www.eversports.de/s/luftbonbon</td>\n",
       "      <td>[Poledance, Aerial Hoop, Poledance, Stärkung/F...</td>\n",
       "      <td>Zum Stundenplan</td>\n",
       "      <td>2024-02-21 13:42:14</td>\n",
       "      <td>2024-02-21 13:42:14</td>\n",
       "    </tr>\n",
       "    <tr>\n",
       "      <th>4</th>\n",
       "      <td>Pole Dance Beauties</td>\n",
       "      <td>[Edmund-von-Lippmann-Straße 9 ,  06112 Halle (...</td>\n",
       "      <td>06112</td>\n",
       "      <td>Halle</td>\n",
       "      <td>Edmund-von-Lippmann-Straße 9</td>\n",
       "      <td>[Übersicht, Klassen, Trainings, Videos, Preise...</td>\n",
       "      <td>Pole Dance Beauties - Dein Pole Dance Studio i...</td>\n",
       "      <td>kontakt@poledancebeauties.de</td>\n",
       "      <td>http://www.poledancebeauties.de</td>\n",
       "      <td>+49 1797553246</td>\n",
       "      <td>https://www.eversports.de/s/pole-dance-beauties</td>\n",
       "      <td>[Aerial Hoop, Pilates, Krafttraining, Stretchi...</td>\n",
       "      <td>1 Angebot für Neukund:innen</td>\n",
       "      <td>2024-02-21 13:42:27</td>\n",
       "      <td>2024-02-21 13:42:27</td>\n",
       "    </tr>\n",
       "    <tr>\n",
       "      <th>...</th>\n",
       "      <td>...</td>\n",
       "      <td>...</td>\n",
       "      <td>...</td>\n",
       "      <td>...</td>\n",
       "      <td>...</td>\n",
       "      <td>...</td>\n",
       "      <td>...</td>\n",
       "      <td>...</td>\n",
       "      <td>...</td>\n",
       "      <td>...</td>\n",
       "      <td>...</td>\n",
       "      <td>...</td>\n",
       "      <td>...</td>\n",
       "      <td>...</td>\n",
       "      <td>...</td>\n",
       "    </tr>\n",
       "    <tr>\n",
       "      <th>98</th>\n",
       "      <td>The Basement - Pole Dance and Movement</td>\n",
       "      <td>[Christian-Pleß-Straße 11-13,  63069 Offenbach]</td>\n",
       "      <td>63069</td>\n",
       "      <td>Offenbach</td>\n",
       "      <td>Christian-Pleß-Straße 11-13</td>\n",
       "      <td>[Übersicht]</td>\n",
       "      <td>Das Studio The Basement - Pole Dance and Movem...</td>\n",
       "      <td>info@the-basement.eu</td>\n",
       "      <td>http://the-basement.eu/</td>\n",
       "      <td>None</td>\n",
       "      <td>https://www.eversports.de/s/the-basement-pole-...</td>\n",
       "      <td>[36 Rezensionen, Tanzen, Poledance, Online Kla...</td>\n",
       "      <td>1 Angebot für Neukund:innen</td>\n",
       "      <td>2024-02-21 14:00:28</td>\n",
       "      <td>2024-02-21 14:00:28</td>\n",
       "    </tr>\n",
       "    <tr>\n",
       "      <th>99</th>\n",
       "      <td>Aerial Studio</td>\n",
       "      <td>[Mississippidreef 2 ,  3565 CG Utrecht]</td>\n",
       "      <td>3565</td>\n",
       "      <td>CG</td>\n",
       "      <td>Mississippidreef 2</td>\n",
       "      <td>[Übersicht, Klassen, Videos, Preise, Team]</td>\n",
       "      <td>Diese Sportanlage bietet eine Vielzahl an Spor...</td>\n",
       "      <td>info@aerial-studio.nl</td>\n",
       "      <td>https://www.aerial-studio.nl</td>\n",
       "      <td>+31 648539599</td>\n",
       "      <td>https://www.eversports.de/s/aerial-studio</td>\n",
       "      <td>[Poledance, Aerial Yoga, Aerial Dance, Aerial ...</td>\n",
       "      <td>2 Angebote für Neukund:innen</td>\n",
       "      <td>2024-02-21 14:00:49</td>\n",
       "      <td>2024-02-21 14:00:49</td>\n",
       "    </tr>\n",
       "    <tr>\n",
       "      <th>100</th>\n",
       "      <td>Delicate Pole</td>\n",
       "      <td>[Am Gorzberg 12 ,  17489 Greifswald]</td>\n",
       "      <td>17489</td>\n",
       "      <td>Greifswald</td>\n",
       "      <td>Am Gorzberg 12</td>\n",
       "      <td>[Übersicht, Klassen, Trainings, Preise, Team]</td>\n",
       "      <td>Im schönen Greifswald bieten wir in unserem St...</td>\n",
       "      <td>delicate_pole@gmx.de</td>\n",
       "      <td>None</td>\n",
       "      <td>+49 1724437767</td>\n",
       "      <td>https://www.eversports.de/s/delicate-pole</td>\n",
       "      <td>[18 Rezensionen, Tanzen, Poledance, Akrobatik,...</td>\n",
       "      <td>Zum Stundenplan</td>\n",
       "      <td>2024-02-21 14:00:56</td>\n",
       "      <td>2024-02-21 14:00:56</td>\n",
       "    </tr>\n",
       "    <tr>\n",
       "      <th>101</th>\n",
       "      <td>PoleFitness Leipzig</td>\n",
       "      <td>[Salomonstraße 18B ,  04103 Leipzig]</td>\n",
       "      <td>04103</td>\n",
       "      <td>Leipzig</td>\n",
       "      <td>Salomonstraße 18B</td>\n",
       "      <td>[Übersicht, Klassen, Preise, Team]</td>\n",
       "      <td>Du suchst ein ansprechendes Krafttraining? Du ...</td>\n",
       "      <td>info@polefitness-leipzig.de</td>\n",
       "      <td>https://polefitness-leipzig.de/</td>\n",
       "      <td>+49 1629269299</td>\n",
       "      <td>https://www.eversports.de/s/polefitness-leipzig</td>\n",
       "      <td>[Fitness, Poledance, Poledance, Stretching, St...</td>\n",
       "      <td>Zum Stundenplan</td>\n",
       "      <td>2024-02-21 14:00:59</td>\n",
       "      <td>2024-02-21 14:00:59</td>\n",
       "    </tr>\n",
       "    <tr>\n",
       "      <th>102</th>\n",
       "      <td>One8dance Studio</td>\n",
       "      <td>[Britanniahütte 10 ,  51469 Bergisch Gladbach]</td>\n",
       "      <td>51469</td>\n",
       "      <td>Bergisch</td>\n",
       "      <td>Britanniahütte 10</td>\n",
       "      <td>[Übersicht, Klassen, Kurse, Preise, Team]</td>\n",
       "      <td>PREISE für alle KINDER und ERWACHSENEN - KURSE...</td>\n",
       "      <td>one8dance@gmail.com</td>\n",
       "      <td>https://one8dance.de/</td>\n",
       "      <td>+49 01782996698</td>\n",
       "      <td>https://www.eversports.de/s/one8dance-studio</td>\n",
       "      <td>[Tanzen, Tanzen, Hip Hop, Tanzen, Zumba, Tanze...</td>\n",
       "      <td>Zum Stundenplan</td>\n",
       "      <td>2024-02-21 14:01:05</td>\n",
       "      <td>2024-02-21 14:01:05</td>\n",
       "    </tr>\n",
       "  </tbody>\n",
       "</table>\n",
       "<p>103 rows × 15 columns</p>\n",
       "</div>"
      ],
      "text/plain": [
       "                            PoleStudio_Name  \\\n",
       "0                         Tanzstudio Michel   \n",
       "1                       Polestation Academy   \n",
       "2                           Poledance 4 you   \n",
       "3                                Luftbonbon   \n",
       "4                       Pole Dance Beauties   \n",
       "..                                      ...   \n",
       "98   The Basement - Pole Dance and Movement   \n",
       "99                            Aerial Studio   \n",
       "100                           Delicate Pole   \n",
       "101                     PoleFitness Leipzig   \n",
       "102                        One8dance Studio   \n",
       "\n",
       "                                               Adresse    PLZ       Stadt  \\\n",
       "0                    [Schmalweg 50 ,  55252 Wiesbaden]  55252   Wiesbaden   \n",
       "1                       [Marktstraße 20b ,  6971 Hard]   6971        Hard   \n",
       "2                 [Naugarder Straße 14,  10409 Berlin]  10409      Berlin   \n",
       "3             [Königstraße 45 ,  32547 Bad Oeynhausen]  32547         Bad   \n",
       "4    [Edmund-von-Lippmann-Straße 9 ,  06112 Halle (...  06112       Halle   \n",
       "..                                                 ...    ...         ...   \n",
       "98     [Christian-Pleß-Straße 11-13,  63069 Offenbach]  63069   Offenbach   \n",
       "99             [Mississippidreef 2 ,  3565 CG Utrecht]   3565          CG   \n",
       "100               [Am Gorzberg 12 ,  17489 Greifswald]  17489  Greifswald   \n",
       "101               [Salomonstraße 18B ,  04103 Leipzig]  04103     Leipzig   \n",
       "102     [Britanniahütte 10 ,  51469 Bergisch Gladbach]  51469    Bergisch   \n",
       "\n",
       "                           Straße  \\\n",
       "0                    Schmalweg 50   \n",
       "1                 Marktstraße 20b   \n",
       "2             Naugarder Straße 14   \n",
       "3                  Königstraße 45   \n",
       "4    Edmund-von-Lippmann-Straße 9   \n",
       "..                            ...   \n",
       "98    Christian-Pleß-Straße 11-13   \n",
       "99             Mississippidreef 2   \n",
       "100                Am Gorzberg 12   \n",
       "101             Salomonstraße 18B   \n",
       "102             Britanniahütte 10   \n",
       "\n",
       "                                               Buttons  \\\n",
       "0                   [Übersicht, Klassen, Preise, Team]   \n",
       "1           [Übersicht, Klassen, Videos, Preise, Team]   \n",
       "2                                          [Übersicht]   \n",
       "3        [Übersicht, Klassen, Workshops, Preise, Team]   \n",
       "4    [Übersicht, Klassen, Trainings, Videos, Preise...   \n",
       "..                                                 ...   \n",
       "98                                         [Übersicht]   \n",
       "99          [Übersicht, Klassen, Videos, Preise, Team]   \n",
       "100      [Übersicht, Klassen, Trainings, Preise, Team]   \n",
       "101                 [Übersicht, Klassen, Preise, Team]   \n",
       "102          [Übersicht, Klassen, Kurse, Preise, Team]   \n",
       "\n",
       "                              Pole Studio Beschreibung  \\\n",
       "0    Das etablierte Tanzstudio in Wiesbaden bietet ...   \n",
       "1    Polestation Academy ist ein Ort für Pole und A...   \n",
       "2    Das Motto des Berliner Pole Dance Studios laut...   \n",
       "3    Entdecke mit uns die vielseitige Welt der Luft...   \n",
       "4    Pole Dance Beauties - Dein Pole Dance Studio i...   \n",
       "..                                                 ...   \n",
       "98   Das Studio The Basement - Pole Dance and Movem...   \n",
       "99   Diese Sportanlage bietet eine Vielzahl an Spor...   \n",
       "100  Im schönen Greifswald bieten wir in unserem St...   \n",
       "101  Du suchst ein ansprechendes Krafttraining? Du ...   \n",
       "102  PREISE für alle KINDER und ERWACHSENEN - KURSE...   \n",
       "\n",
       "                            E-Mail                           Homepage  \\\n",
       "0                t.michel.9@gmx.de  https://www.tanzstudio-michel.de/   \n",
       "1                    blum.n@gmx.at         http://www.polestation.com   \n",
       "2            info@poledance4you.de      https://www.poledance4you.de/   \n",
       "3              info@luftbonbon.com        https://www.luftbonbon.com/   \n",
       "4     kontakt@poledancebeauties.de    http://www.poledancebeauties.de   \n",
       "..                             ...                                ...   \n",
       "98            info@the-basement.eu            http://the-basement.eu/   \n",
       "99           info@aerial-studio.nl       https://www.aerial-studio.nl   \n",
       "100           delicate_pole@gmx.de                               None   \n",
       "101    info@polefitness-leipzig.de    https://polefitness-leipzig.de/   \n",
       "102            one8dance@gmail.com              https://one8dance.de/   \n",
       "\n",
       "             Telefon                                              URL_S  \\\n",
       "0    +49 15115125871      https://www.eversports.de/s/tanzstudio-michel   \n",
       "1     +43 6642006568    https://www.eversports.de/s/polestation-academy   \n",
       "2               None        https://www.eversports.de/s/poledance-4-you   \n",
       "3        01622572081             https://www.eversports.de/s/luftbonbon   \n",
       "4     +49 1797553246    https://www.eversports.de/s/pole-dance-beauties   \n",
       "..               ...                                                ...   \n",
       "98              None  https://www.eversports.de/s/the-basement-pole-...   \n",
       "99     +31 648539599          https://www.eversports.de/s/aerial-studio   \n",
       "100   +49 1724437767          https://www.eversports.de/s/delicate-pole   \n",
       "101   +49 1629269299    https://www.eversports.de/s/polefitness-leipzig   \n",
       "102  +49 01782996698       https://www.eversports.de/s/one8dance-studio   \n",
       "\n",
       "                                                   Art  \\\n",
       "0    [1 Rezensionen, Fitness, Tanzen, Poledance, St...   \n",
       "1    [Poledance, Poledance, Poledance, Poledance, P...   \n",
       "2                [(Noch keine Bewertungen), Poledance]   \n",
       "3    [Poledance, Aerial Hoop, Poledance, Stärkung/F...   \n",
       "4    [Aerial Hoop, Pilates, Krafttraining, Stretchi...   \n",
       "..                                                 ...   \n",
       "98   [36 Rezensionen, Tanzen, Poledance, Online Kla...   \n",
       "99   [Poledance, Aerial Yoga, Aerial Dance, Aerial ...   \n",
       "100  [18 Rezensionen, Tanzen, Poledance, Akrobatik,...   \n",
       "101  [Fitness, Poledance, Poledance, Stretching, St...   \n",
       "102  [Tanzen, Tanzen, Hip Hop, Tanzen, Zumba, Tanze...   \n",
       "\n",
       "                          Angebot         Created Date         Updated Date  \n",
       "0                 Zum Stundenplan  2024-02-21 13:41:54  2024-02-21 13:41:54  \n",
       "1                 Zum Stundenplan  2024-02-21 13:42:03  2024-02-21 13:42:03  \n",
       "2                            None  2024-02-21 13:42:10  2024-02-21 13:42:10  \n",
       "3                 Zum Stundenplan  2024-02-21 13:42:14  2024-02-21 13:42:14  \n",
       "4     1 Angebot für Neukund:innen  2024-02-21 13:42:27  2024-02-21 13:42:27  \n",
       "..                            ...                  ...                  ...  \n",
       "98    1 Angebot für Neukund:innen  2024-02-21 14:00:28  2024-02-21 14:00:28  \n",
       "99   2 Angebote für Neukund:innen  2024-02-21 14:00:49  2024-02-21 14:00:49  \n",
       "100               Zum Stundenplan  2024-02-21 14:00:56  2024-02-21 14:00:56  \n",
       "101               Zum Stundenplan  2024-02-21 14:00:59  2024-02-21 14:00:59  \n",
       "102               Zum Stundenplan  2024-02-21 14:01:05  2024-02-21 14:01:05  \n",
       "\n",
       "[103 rows x 15 columns]"
      ]
     },
     "execution_count": 20,
     "metadata": {},
     "output_type": "execute_result"
    }
   ],
   "source": [
    "result_pole_studio"
   ]
  },
  {
   "cell_type": "code",
   "execution_count": 21,
   "metadata": {},
   "outputs": [
    {
     "data": {
      "text/html": [
       "<div>\n",
       "<style scoped>\n",
       "    .dataframe tbody tr th:only-of-type {\n",
       "        vertical-align: middle;\n",
       "    }\n",
       "\n",
       "    .dataframe tbody tr th {\n",
       "        vertical-align: top;\n",
       "    }\n",
       "\n",
       "    .dataframe thead th {\n",
       "        text-align: right;\n",
       "    }\n",
       "</style>\n",
       "<table border=\"1\" class=\"dataframe\">\n",
       "  <thead>\n",
       "    <tr style=\"text-align: right;\">\n",
       "      <th></th>\n",
       "      <th>Workshop Name</th>\n",
       "      <th>Workshop Date</th>\n",
       "      <th>Workshop Price</th>\n",
       "      <th>Workshop Units</th>\n",
       "      <th>Workshop Studio</th>\n",
       "      <th>Workshop Address</th>\n",
       "      <th>URL_E</th>\n",
       "    </tr>\n",
       "  </thead>\n",
       "  <tbody>\n",
       "    <tr>\n",
       "      <th>0</th>\n",
       "      <td>Spagat</td>\n",
       "      <td>Feb05bis Feb 26</td>\n",
       "      <td>Ausgebucht</td>\n",
       "      <td>4 Einheiten</td>\n",
       "      <td>Luftbonbon</td>\n",
       "      <td>Königstraße 45, 32547 Bad Oeynhausen</td>\n",
       "      <td>https://www.eversports.de/e/workshop/60kU5cU</td>\n",
       "    </tr>\n",
       "    <tr>\n",
       "      <th>1</th>\n",
       "      <td>Kopfstand Technik Online Workshop</td>\n",
       "      <td>Feb24Samstag</td>\n",
       "      <td>ab 44,00 €</td>\n",
       "      <td>1 Einheit</td>\n",
       "      <td>Yoga and Pole Art by Selina</td>\n",
       "      <td>Online *, World Wide</td>\n",
       "      <td>https://www.eversports.de/e/workshop/p_eKWTW</td>\n",
       "    </tr>\n",
       "    <tr>\n",
       "      <th>2</th>\n",
       "      <td>Atemtechniken Online Workshop</td>\n",
       "      <td>März16Samstag</td>\n",
       "      <td>ab 44,00 €</td>\n",
       "      <td>1 Einheit</td>\n",
       "      <td>Yoga and Pole Art by Selina</td>\n",
       "      <td>Online *, World Wide</td>\n",
       "      <td>https://www.eversports.de/e/workshop/1PmB24I</td>\n",
       "    </tr>\n",
       "    <tr>\n",
       "      <th>3</th>\n",
       "      <td>Split &amp; Straddle Technik Online Workshop</td>\n",
       "      <td>März22Freitag</td>\n",
       "      <td>ab 44,00 €</td>\n",
       "      <td>1 Einheit</td>\n",
       "      <td>Yoga and Pole Art by Selina</td>\n",
       "      <td>Online *, World Wide</td>\n",
       "      <td>https://www.eversports.de/e/workshop/Zk4neM3</td>\n",
       "    </tr>\n",
       "    <tr>\n",
       "      <th>4</th>\n",
       "      <td>Split on Pole (Intermediate) Online Workshop</td>\n",
       "      <td>März29Freitag</td>\n",
       "      <td>ab 44,00 €</td>\n",
       "      <td>1 Einheit</td>\n",
       "      <td>Yoga and Pole Art by Selina</td>\n",
       "      <td>Online *, World Wide</td>\n",
       "      <td>https://www.eversports.de/e/workshop/VnmCBGD</td>\n",
       "    </tr>\n",
       "    <tr>\n",
       "      <th>...</th>\n",
       "      <td>...</td>\n",
       "      <td>...</td>\n",
       "      <td>...</td>\n",
       "      <td>...</td>\n",
       "      <td>...</td>\n",
       "      <td>...</td>\n",
       "      <td>...</td>\n",
       "    </tr>\n",
       "    <tr>\n",
       "      <th>135</th>\n",
       "      <td>Rock the Floor mit Emmy</td>\n",
       "      <td>Apr07Sonntag</td>\n",
       "      <td>Ausgebucht</td>\n",
       "      <td>1 Einheit</td>\n",
       "      <td>Da Becca Flow and Fit</td>\n",
       "      <td>Eickeler Markt 3A, 44651 Herne</td>\n",
       "      <td>https://www.eversports.de/e/workshop/NrFmto0</td>\n",
       "    </tr>\n",
       "    <tr>\n",
       "      <th>136</th>\n",
       "      <td>Get your Shoulderstand - Floorworktechnik mit ...</td>\n",
       "      <td>Apr28Sonntag</td>\n",
       "      <td>ab 25,00 €</td>\n",
       "      <td>1 Einheit</td>\n",
       "      <td>Da Becca Flow and Fit</td>\n",
       "      <td>Eickeler Markt 3A, 44651 Herne</td>\n",
       "      <td>https://www.eversports.de/e/workshop/km4K7Yv</td>\n",
       "    </tr>\n",
       "    <tr>\n",
       "      <th>137</th>\n",
       "      <td>\"Fummeln für Fortgeschrittene\" Pole choreo mit...</td>\n",
       "      <td>Mai26Sonntag</td>\n",
       "      <td>Ausgebucht</td>\n",
       "      <td>1 Einheit</td>\n",
       "      <td>Da Becca Flow and Fit</td>\n",
       "      <td>Eickeler Markt 3A, 44651 Herne</td>\n",
       "      <td>https://www.eversports.de/e/workshop/B2Sz3mv</td>\n",
       "    </tr>\n",
       "    <tr>\n",
       "      <th>138</th>\n",
       "      <td>\"Fummeln für Fortgeschrittene\"  Chairdance Cho...</td>\n",
       "      <td>Mai26Sonntag</td>\n",
       "      <td>ab 34,00 €</td>\n",
       "      <td>1 Einheit</td>\n",
       "      <td>Da Becca Flow and Fit</td>\n",
       "      <td>Eickeler Markt 3A, 44651 Herne</td>\n",
       "      <td>https://www.eversports.de/e/workshop/HhyMbSA</td>\n",
       "    </tr>\n",
       "    <tr>\n",
       "      <th>139</th>\n",
       "      <td>\"Fummeln für Fortgeschrittene\" Floorwork Chore...</td>\n",
       "      <td>Mai26Sonntag</td>\n",
       "      <td>ab 34,00 €</td>\n",
       "      <td>1 Einheit</td>\n",
       "      <td>Da Becca Flow and Fit</td>\n",
       "      <td>Eickeler Markt 3A, 44651 Herne</td>\n",
       "      <td>https://www.eversports.de/e/workshop/WBlAegH</td>\n",
       "    </tr>\n",
       "  </tbody>\n",
       "</table>\n",
       "<p>140 rows × 7 columns</p>\n",
       "</div>"
      ],
      "text/plain": [
       "                                         Workshop Name    Workshop Date  \\\n",
       "0                                               Spagat  Feb05bis Feb 26   \n",
       "1                   Kopfstand Technik Online Workshop      Feb24Samstag   \n",
       "2                       Atemtechniken Online Workshop     März16Samstag   \n",
       "3            Split & Straddle Technik Online Workshop     März22Freitag   \n",
       "4         Split on Pole (Intermediate) Online Workshop    März29Freitag   \n",
       "..                                                 ...              ...   \n",
       "135                           Rock the Floor mit Emmy      Apr07Sonntag   \n",
       "136  Get your Shoulderstand - Floorworktechnik mit ...     Apr28Sonntag   \n",
       "137  \"Fummeln für Fortgeschrittene\" Pole choreo mit...     Mai26Sonntag   \n",
       "138  \"Fummeln für Fortgeschrittene\"  Chairdance Cho...     Mai26Sonntag   \n",
       "139  \"Fummeln für Fortgeschrittene\" Floorwork Chore...     Mai26Sonntag   \n",
       "\n",
       "    Workshop Price Workshop Units              Workshop Studio  \\\n",
       "0       Ausgebucht    4 Einheiten                   Luftbonbon   \n",
       "1       ab 44,00 €      1 Einheit  Yoga and Pole Art by Selina   \n",
       "2       ab 44,00 €      1 Einheit  Yoga and Pole Art by Selina   \n",
       "3       ab 44,00 €      1 Einheit  Yoga and Pole Art by Selina   \n",
       "4       ab 44,00 €      1 Einheit  Yoga and Pole Art by Selina   \n",
       "..             ...            ...                          ...   \n",
       "135     Ausgebucht      1 Einheit        Da Becca Flow and Fit   \n",
       "136     ab 25,00 €      1 Einheit        Da Becca Flow and Fit   \n",
       "137     Ausgebucht      1 Einheit        Da Becca Flow and Fit   \n",
       "138     ab 34,00 €      1 Einheit        Da Becca Flow and Fit   \n",
       "139     ab 34,00 €      1 Einheit        Da Becca Flow and Fit   \n",
       "\n",
       "                         Workshop Address  \\\n",
       "0    Königstraße 45, 32547 Bad Oeynhausen   \n",
       "1                    Online *, World Wide   \n",
       "2                    Online *, World Wide   \n",
       "3                    Online *, World Wide   \n",
       "4                    Online *, World Wide   \n",
       "..                                    ...   \n",
       "135        Eickeler Markt 3A, 44651 Herne   \n",
       "136        Eickeler Markt 3A, 44651 Herne   \n",
       "137        Eickeler Markt 3A, 44651 Herne   \n",
       "138        Eickeler Markt 3A, 44651 Herne   \n",
       "139        Eickeler Markt 3A, 44651 Herne   \n",
       "\n",
       "                                            URL_E  \n",
       "0    https://www.eversports.de/e/workshop/60kU5cU  \n",
       "1    https://www.eversports.de/e/workshop/p_eKWTW  \n",
       "2    https://www.eversports.de/e/workshop/1PmB24I  \n",
       "3    https://www.eversports.de/e/workshop/Zk4neM3  \n",
       "4    https://www.eversports.de/e/workshop/VnmCBGD  \n",
       "..                                            ...  \n",
       "135  https://www.eversports.de/e/workshop/NrFmto0  \n",
       "136  https://www.eversports.de/e/workshop/km4K7Yv  \n",
       "137  https://www.eversports.de/e/workshop/B2Sz3mv  \n",
       "138  https://www.eversports.de/e/workshop/HhyMbSA  \n",
       "139  https://www.eversports.de/e/workshop/WBlAegH  \n",
       "\n",
       "[140 rows x 7 columns]"
      ]
     },
     "execution_count": 21,
     "metadata": {},
     "output_type": "execute_result"
    }
   ],
   "source": [
    "result_workshops"
   ]
  },
  {
   "cell_type": "code",
   "execution_count": 22,
   "metadata": {},
   "outputs": [
    {
     "data": {
      "text/html": [
       "<div>\n",
       "<style scoped>\n",
       "    .dataframe tbody tr th:only-of-type {\n",
       "        vertical-align: middle;\n",
       "    }\n",
       "\n",
       "    .dataframe tbody tr th {\n",
       "        vertical-align: top;\n",
       "    }\n",
       "\n",
       "    .dataframe thead th {\n",
       "        text-align: right;\n",
       "    }\n",
       "</style>\n",
       "<table border=\"1\" class=\"dataframe\">\n",
       "  <thead>\n",
       "    <tr style=\"text-align: right;\">\n",
       "      <th></th>\n",
       "      <th>Workshop Name</th>\n",
       "      <th>Description</th>\n",
       "      <th>Studio Name</th>\n",
       "      <th>Location</th>\n",
       "      <th>Art</th>\n",
       "      <th>Date</th>\n",
       "      <th>URL_E</th>\n",
       "      <th>Time</th>\n",
       "    </tr>\n",
       "  </thead>\n",
       "  <tbody>\n",
       "    <tr>\n",
       "      <th>0</th>\n",
       "      <td>Spagat</td>\n",
       "      <td>Straddle &amp; Middlesplit stehen ganz oben auf De...</td>\n",
       "      <td>Luftbonbon</td>\n",
       "      <td>20:20 - 21:20</td>\n",
       "      <td>Stärkung/Flexibilität</td>\n",
       "      <td>Begann am Montag, 5. Februar 2024</td>\n",
       "      <td>https://www.eversports.de/e/workshop/60kU5cU</td>\n",
       "      <td>Königstraße 45, 32547 Bad Oeynhausen</td>\n",
       "    </tr>\n",
       "    <tr>\n",
       "      <th>1</th>\n",
       "      <td>Kopfstand Technik Online Workshop</td>\n",
       "      <td>Der Kopfstand ist die erste Basis für viel wei...</td>\n",
       "      <td>Yoga and Pole Art by Selina</td>\n",
       "      <td>Diese Aktivität wird im Online Stream übertrag...</td>\n",
       "      <td>Vinyasa Yoga</td>\n",
       "      <td>Samstag, 24. Februar 2024</td>\n",
       "      <td>https://www.eversports.de/e/workshop/p_eKWTW</td>\n",
       "      <td>18:00 - 19:30</td>\n",
       "    </tr>\n",
       "    <tr>\n",
       "      <th>2</th>\n",
       "      <td>Atemtechniken Online Workshop</td>\n",
       "      <td>Inhalte des Workshops:  Aufbau des Workshops: ...</td>\n",
       "      <td>Yoga and Pole Art by Selina</td>\n",
       "      <td>Diese Aktivität wird im Online Stream übertrag...</td>\n",
       "      <td>Meditation</td>\n",
       "      <td>Samstag, 16. März 2024</td>\n",
       "      <td>https://www.eversports.de/e/workshop/1PmB24I</td>\n",
       "      <td>18:00 - 19:30</td>\n",
       "    </tr>\n",
       "    <tr>\n",
       "      <th>3</th>\n",
       "      <td>Split &amp; Straddle Technik Online Workshop</td>\n",
       "      <td>Du trainierst schon länger an deinem Spagat od...</td>\n",
       "      <td>Yoga and Pole Art by Selina</td>\n",
       "      <td>Diese Aktivität wird im Online Stream übertrag...</td>\n",
       "      <td>Vinyasa Yoga</td>\n",
       "      <td>Freitag, 22. März 2024</td>\n",
       "      <td>https://www.eversports.de/e/workshop/Zk4neM3</td>\n",
       "      <td>18:00 - 19:30</td>\n",
       "    </tr>\n",
       "    <tr>\n",
       "      <th>4</th>\n",
       "      <td>Split on Pole (Intermediate) Online Workshop</td>\n",
       "      <td>Du liebst Spagat Figuren und brauchst neue Var...</td>\n",
       "      <td>Yoga and Pole Art by Selina</td>\n",
       "      <td>Diese Aktivität wird im Online Stream übertrag...</td>\n",
       "      <td>Poledance</td>\n",
       "      <td>Freitag, 29. März 2024</td>\n",
       "      <td>https://www.eversports.de/e/workshop/VnmCBGD</td>\n",
       "      <td>12:00 - 13:30</td>\n",
       "    </tr>\n",
       "    <tr>\n",
       "      <th>...</th>\n",
       "      <td>...</td>\n",
       "      <td>...</td>\n",
       "      <td>...</td>\n",
       "      <td>...</td>\n",
       "      <td>...</td>\n",
       "      <td>...</td>\n",
       "      <td>...</td>\n",
       "      <td>...</td>\n",
       "    </tr>\n",
       "    <tr>\n",
       "      <th>134</th>\n",
       "      <td>Rock the Floor mit Emmy</td>\n",
       "      <td>Emmy bringt uns eine ihrer coolen Rockigen cho...</td>\n",
       "      <td>Da Becca Flow and Fit</td>\n",
       "      <td>Einzelticket</td>\n",
       "      <td>Floorwork</td>\n",
       "      <td>Sonntag, 7. April 2024</td>\n",
       "      <td>https://www.eversports.de/e/workshop/NrFmto0</td>\n",
       "      <td>16:00 - 17:30</td>\n",
       "    </tr>\n",
       "    <tr>\n",
       "      <th>135</th>\n",
       "      <td>Get your Shoulderstand - Floorworktechnik mit ...</td>\n",
       "      <td>Balance, Kraft; und ein ganz neues Körpergefüh...</td>\n",
       "      <td>Da Becca Flow and Fit</td>\n",
       "      <td>Einzelticket</td>\n",
       "      <td>Floorwork</td>\n",
       "      <td>Sonntag, 28. April 2024</td>\n",
       "      <td>https://www.eversports.de/e/workshop/km4K7Yv</td>\n",
       "      <td>13:30 - 15:00</td>\n",
       "    </tr>\n",
       "    <tr>\n",
       "      <th>136</th>\n",
       "      <td>\"Fummeln für Fortgeschrittene\" Pole choreo mit...</td>\n",
       "      <td>Flirtmodus on! Du hast Lust darauf dich sexy a...</td>\n",
       "      <td>Da Becca Flow and Fit</td>\n",
       "      <td>Einzelticket</td>\n",
       "      <td>Poledance</td>\n",
       "      <td>Sonntag, 26. Mai 2024</td>\n",
       "      <td>https://www.eversports.de/e/workshop/B2Sz3mv</td>\n",
       "      <td>12:00 - 13:30</td>\n",
       "    </tr>\n",
       "    <tr>\n",
       "      <th>137</th>\n",
       "      <td>\"Fummeln für Fortgeschrittene\"  Chairdance Cho...</td>\n",
       "      <td>Weil sitzen auch ultra sexy sein kann. Jannah ...</td>\n",
       "      <td>Da Becca Flow and Fit</td>\n",
       "      <td>Einzelticket</td>\n",
       "      <td>Chairdance</td>\n",
       "      <td>Sonntag, 26. Mai 2024</td>\n",
       "      <td>https://www.eversports.de/e/workshop/HhyMbSA</td>\n",
       "      <td>14:00 - 15:30</td>\n",
       "    </tr>\n",
       "    <tr>\n",
       "      <th>138</th>\n",
       "      <td>\"Fummeln für Fortgeschrittene\" Floorwork Chore...</td>\n",
       "      <td>Packt eure Knieschoner ein und freut euch auf ...</td>\n",
       "      <td>Da Becca Flow and Fit</td>\n",
       "      <td>Einzelticket</td>\n",
       "      <td>Floorwork</td>\n",
       "      <td>Sonntag, 26. Mai 2024</td>\n",
       "      <td>https://www.eversports.de/e/workshop/WBlAegH</td>\n",
       "      <td>16:00 - 17:30</td>\n",
       "    </tr>\n",
       "  </tbody>\n",
       "</table>\n",
       "<p>139 rows × 8 columns</p>\n",
       "</div>"
      ],
      "text/plain": [
       "                                         Workshop Name  \\\n",
       "0                                               Spagat   \n",
       "1                    Kopfstand Technik Online Workshop   \n",
       "2                        Atemtechniken Online Workshop   \n",
       "3             Split & Straddle Technik Online Workshop   \n",
       "4         Split on Pole (Intermediate) Online Workshop   \n",
       "..                                                 ...   \n",
       "134                            Rock the Floor mit Emmy   \n",
       "135  Get your Shoulderstand - Floorworktechnik mit ...   \n",
       "136  \"Fummeln für Fortgeschrittene\" Pole choreo mit...   \n",
       "137  \"Fummeln für Fortgeschrittene\"  Chairdance Cho...   \n",
       "138  \"Fummeln für Fortgeschrittene\" Floorwork Chore...   \n",
       "\n",
       "                                           Description  \\\n",
       "0    Straddle & Middlesplit stehen ganz oben auf De...   \n",
       "1    Der Kopfstand ist die erste Basis für viel wei...   \n",
       "2    Inhalte des Workshops:  Aufbau des Workshops: ...   \n",
       "3    Du trainierst schon länger an deinem Spagat od...   \n",
       "4    Du liebst Spagat Figuren und brauchst neue Var...   \n",
       "..                                                 ...   \n",
       "134  Emmy bringt uns eine ihrer coolen Rockigen cho...   \n",
       "135  Balance, Kraft; und ein ganz neues Körpergefüh...   \n",
       "136  Flirtmodus on! Du hast Lust darauf dich sexy a...   \n",
       "137  Weil sitzen auch ultra sexy sein kann. Jannah ...   \n",
       "138  Packt eure Knieschoner ein und freut euch auf ...   \n",
       "\n",
       "                     Studio Name  \\\n",
       "0                     Luftbonbon   \n",
       "1    Yoga and Pole Art by Selina   \n",
       "2    Yoga and Pole Art by Selina   \n",
       "3    Yoga and Pole Art by Selina   \n",
       "4    Yoga and Pole Art by Selina   \n",
       "..                           ...   \n",
       "134        Da Becca Flow and Fit   \n",
       "135        Da Becca Flow and Fit   \n",
       "136        Da Becca Flow and Fit   \n",
       "137        Da Becca Flow and Fit   \n",
       "138        Da Becca Flow and Fit   \n",
       "\n",
       "                                              Location                    Art  \\\n",
       "0                                        20:20 - 21:20  Stärkung/Flexibilität   \n",
       "1    Diese Aktivität wird im Online Stream übertrag...           Vinyasa Yoga   \n",
       "2    Diese Aktivität wird im Online Stream übertrag...             Meditation   \n",
       "3    Diese Aktivität wird im Online Stream übertrag...           Vinyasa Yoga   \n",
       "4    Diese Aktivität wird im Online Stream übertrag...              Poledance   \n",
       "..                                                 ...                    ...   \n",
       "134                                       Einzelticket              Floorwork   \n",
       "135                                       Einzelticket              Floorwork   \n",
       "136                                       Einzelticket              Poledance   \n",
       "137                                       Einzelticket             Chairdance   \n",
       "138                                       Einzelticket              Floorwork   \n",
       "\n",
       "                                  Date  \\\n",
       "0    Begann am Montag, 5. Februar 2024   \n",
       "1            Samstag, 24. Februar 2024   \n",
       "2               Samstag, 16. März 2024   \n",
       "3               Freitag, 22. März 2024   \n",
       "4               Freitag, 29. März 2024   \n",
       "..                                 ...   \n",
       "134             Sonntag, 7. April 2024   \n",
       "135            Sonntag, 28. April 2024   \n",
       "136              Sonntag, 26. Mai 2024   \n",
       "137              Sonntag, 26. Mai 2024   \n",
       "138              Sonntag, 26. Mai 2024   \n",
       "\n",
       "                                            URL_E  \\\n",
       "0    https://www.eversports.de/e/workshop/60kU5cU   \n",
       "1    https://www.eversports.de/e/workshop/p_eKWTW   \n",
       "2    https://www.eversports.de/e/workshop/1PmB24I   \n",
       "3    https://www.eversports.de/e/workshop/Zk4neM3   \n",
       "4    https://www.eversports.de/e/workshop/VnmCBGD   \n",
       "..                                            ...   \n",
       "134  https://www.eversports.de/e/workshop/NrFmto0   \n",
       "135  https://www.eversports.de/e/workshop/km4K7Yv   \n",
       "136  https://www.eversports.de/e/workshop/B2Sz3mv   \n",
       "137  https://www.eversports.de/e/workshop/HhyMbSA   \n",
       "138  https://www.eversports.de/e/workshop/WBlAegH   \n",
       "\n",
       "                                     Time  \n",
       "0    Königstraße 45, 32547 Bad Oeynhausen  \n",
       "1                           18:00 - 19:30  \n",
       "2                           18:00 - 19:30  \n",
       "3                           18:00 - 19:30  \n",
       "4                           12:00 - 13:30  \n",
       "..                                    ...  \n",
       "134                         16:00 - 17:30  \n",
       "135                         13:30 - 15:00  \n",
       "136                         12:00 - 13:30  \n",
       "137                         14:00 - 15:30  \n",
       "138                         16:00 - 17:30  \n",
       "\n",
       "[139 rows x 8 columns]"
      ]
     },
     "execution_count": 22,
     "metadata": {},
     "output_type": "execute_result"
    }
   ],
   "source": [
    "result_workshop_details"
   ]
  },
  {
   "cell_type": "code",
   "execution_count": 23,
   "metadata": {},
   "outputs": [
    {
     "data": {
      "text/html": [
       "<div>\n",
       "<style scoped>\n",
       "    .dataframe tbody tr th:only-of-type {\n",
       "        vertical-align: middle;\n",
       "    }\n",
       "\n",
       "    .dataframe tbody tr th {\n",
       "        vertical-align: top;\n",
       "    }\n",
       "\n",
       "    .dataframe thead th {\n",
       "        text-align: right;\n",
       "    }\n",
       "</style>\n",
       "<table border=\"1\" class=\"dataframe\">\n",
       "  <thead>\n",
       "    <tr style=\"text-align: right;\">\n",
       "      <th></th>\n",
       "      <th>URL</th>\n",
       "    </tr>\n",
       "  </thead>\n",
       "  <tbody>\n",
       "    <tr>\n",
       "      <th>0</th>\n",
       "      <td>https://www.eversports.de/s/seemannsbraut-pole...</td>\n",
       "    </tr>\n",
       "    <tr>\n",
       "      <th>1</th>\n",
       "      <td>https://www.eversports.de/s/tsg-blau-gold-ball...</td>\n",
       "    </tr>\n",
       "    <tr>\n",
       "      <th>2</th>\n",
       "      <td>https://www.eversports.de/s/pole-stars-osnabr%...</td>\n",
       "    </tr>\n",
       "    <tr>\n",
       "      <th>3</th>\n",
       "      <td>https://www.eversports.de/s/aerial-art-studio</td>\n",
       "    </tr>\n",
       "    <tr>\n",
       "      <th>4</th>\n",
       "      <td>https://www.eversports.de/s/k%C3%B6rpernah</td>\n",
       "    </tr>\n",
       "    <tr>\n",
       "      <th>...</th>\n",
       "      <td>...</td>\n",
       "    </tr>\n",
       "    <tr>\n",
       "      <th>325</th>\n",
       "      <td>https://www.eversports.de/s/delicate-pole</td>\n",
       "    </tr>\n",
       "    <tr>\n",
       "      <th>326</th>\n",
       "      <td>https://www.eversports.de/s/polefitness-leipzig</td>\n",
       "    </tr>\n",
       "    <tr>\n",
       "      <th>327</th>\n",
       "      <td>https://www.eversports.de/s/souldance</td>\n",
       "    </tr>\n",
       "    <tr>\n",
       "      <th>328</th>\n",
       "      <td>https://www.eversports.de/s/pole-heroes-pole-%...</td>\n",
       "    </tr>\n",
       "    <tr>\n",
       "      <th>329</th>\n",
       "      <td>https://www.eversports.de/s/one8dance-studio</td>\n",
       "    </tr>\n",
       "  </tbody>\n",
       "</table>\n",
       "<p>330 rows × 1 columns</p>\n",
       "</div>"
      ],
      "text/plain": [
       "                                                   URL\n",
       "0    https://www.eversports.de/s/seemannsbraut-pole...\n",
       "1    https://www.eversports.de/s/tsg-blau-gold-ball...\n",
       "2    https://www.eversports.de/s/pole-stars-osnabr%...\n",
       "3        https://www.eversports.de/s/aerial-art-studio\n",
       "4           https://www.eversports.de/s/k%C3%B6rpernah\n",
       "..                                                 ...\n",
       "325          https://www.eversports.de/s/delicate-pole\n",
       "326    https://www.eversports.de/s/polefitness-leipzig\n",
       "327              https://www.eversports.de/s/souldance\n",
       "328  https://www.eversports.de/s/pole-heroes-pole-%...\n",
       "329       https://www.eversports.de/s/one8dance-studio\n",
       "\n",
       "[330 rows x 1 columns]"
      ]
     },
     "execution_count": 23,
     "metadata": {},
     "output_type": "execute_result"
    }
   ],
   "source": [
    "result_urls"
   ]
  },
  {
   "cell_type": "markdown",
   "metadata": {},
   "source": [
    "---"
   ]
  },
  {
   "cell_type": "markdown",
   "metadata": {},
   "source": [
    "Test V7"
   ]
  },
  {
   "cell_type": "code",
   "execution_count": 24,
   "metadata": {},
   "outputs": [
    {
     "data": {
      "text/plain": [
       "(                            PoleStudio_Name  \\\n",
       " 0                         Tanzstudio Michel   \n",
       " 1                       Polestation Academy   \n",
       " 2                           Poledance 4 you   \n",
       " 3                                Luftbonbon   \n",
       " 4                       Pole Dance Beauties   \n",
       " ..                                      ...   \n",
       " 98   The Basement - Pole Dance and Movement   \n",
       " 99                            Aerial Studio   \n",
       " 100                           Delicate Pole   \n",
       " 101                     PoleFitness Leipzig   \n",
       " 102                        One8dance Studio   \n",
       " \n",
       "                                                Adresse    PLZ       Stadt  \\\n",
       " 0                    [Schmalweg 50 ,  55252 Wiesbaden]  55252   Wiesbaden   \n",
       " 1                       [Marktstraße 20b ,  6971 Hard]   6971        Hard   \n",
       " 2                 [Naugarder Straße 14,  10409 Berlin]  10409      Berlin   \n",
       " 3             [Königstraße 45 ,  32547 Bad Oeynhausen]  32547         Bad   \n",
       " 4    [Edmund-von-Lippmann-Straße 9 ,  06112 Halle (...  06112       Halle   \n",
       " ..                                                 ...    ...         ...   \n",
       " 98     [Christian-Pleß-Straße 11-13,  63069 Offenbach]  63069   Offenbach   \n",
       " 99             [Mississippidreef 2 ,  3565 CG Utrecht]   3565          CG   \n",
       " 100               [Am Gorzberg 12 ,  17489 Greifswald]  17489  Greifswald   \n",
       " 101               [Salomonstraße 18B ,  04103 Leipzig]  04103     Leipzig   \n",
       " 102     [Britanniahütte 10 ,  51469 Bergisch Gladbach]  51469    Bergisch   \n",
       " \n",
       "                            Straße  \\\n",
       " 0                    Schmalweg 50   \n",
       " 1                 Marktstraße 20b   \n",
       " 2             Naugarder Straße 14   \n",
       " 3                  Königstraße 45   \n",
       " 4    Edmund-von-Lippmann-Straße 9   \n",
       " ..                            ...   \n",
       " 98    Christian-Pleß-Straße 11-13   \n",
       " 99             Mississippidreef 2   \n",
       " 100                Am Gorzberg 12   \n",
       " 101             Salomonstraße 18B   \n",
       " 102             Britanniahütte 10   \n",
       " \n",
       "                                                Buttons  \\\n",
       " 0                   [Übersicht, Klassen, Preise, Team]   \n",
       " 1           [Übersicht, Klassen, Videos, Preise, Team]   \n",
       " 2                                          [Übersicht]   \n",
       " 3        [Übersicht, Klassen, Workshops, Preise, Team]   \n",
       " 4    [Übersicht, Klassen, Trainings, Videos, Preise...   \n",
       " ..                                                 ...   \n",
       " 98                                         [Übersicht]   \n",
       " 99          [Übersicht, Klassen, Videos, Preise, Team]   \n",
       " 100      [Übersicht, Klassen, Trainings, Preise, Team]   \n",
       " 101                 [Übersicht, Klassen, Preise, Team]   \n",
       " 102          [Übersicht, Klassen, Kurse, Preise, Team]   \n",
       " \n",
       "                               Pole Studio Beschreibung  \\\n",
       " 0    Das etablierte Tanzstudio in Wiesbaden bietet ...   \n",
       " 1    Polestation Academy ist ein Ort für Pole und A...   \n",
       " 2    Das Motto des Berliner Pole Dance Studios laut...   \n",
       " 3    Entdecke mit uns die vielseitige Welt der Luft...   \n",
       " 4    Pole Dance Beauties - Dein Pole Dance Studio i...   \n",
       " ..                                                 ...   \n",
       " 98   Das Studio The Basement - Pole Dance and Movem...   \n",
       " 99   Diese Sportanlage bietet eine Vielzahl an Spor...   \n",
       " 100  Im schönen Greifswald bieten wir in unserem St...   \n",
       " 101  Du suchst ein ansprechendes Krafttraining? Du ...   \n",
       " 102  PREISE für alle KINDER und ERWACHSENEN - KURSE...   \n",
       " \n",
       "                             E-Mail                           Homepage  \\\n",
       " 0                t.michel.9@gmx.de  https://www.tanzstudio-michel.de/   \n",
       " 1                    blum.n@gmx.at         http://www.polestation.com   \n",
       " 2            info@poledance4you.de      https://www.poledance4you.de/   \n",
       " 3              info@luftbonbon.com        https://www.luftbonbon.com/   \n",
       " 4     kontakt@poledancebeauties.de    http://www.poledancebeauties.de   \n",
       " ..                             ...                                ...   \n",
       " 98            info@the-basement.eu            http://the-basement.eu/   \n",
       " 99           info@aerial-studio.nl       https://www.aerial-studio.nl   \n",
       " 100           delicate_pole@gmx.de                               None   \n",
       " 101    info@polefitness-leipzig.de    https://polefitness-leipzig.de/   \n",
       " 102            one8dance@gmail.com              https://one8dance.de/   \n",
       " \n",
       "              Telefon                                              URL_S  \\\n",
       " 0    +49 15115125871      https://www.eversports.de/s/tanzstudio-michel   \n",
       " 1     +43 6642006568    https://www.eversports.de/s/polestation-academy   \n",
       " 2               None        https://www.eversports.de/s/poledance-4-you   \n",
       " 3        01622572081             https://www.eversports.de/s/luftbonbon   \n",
       " 4     +49 1797553246    https://www.eversports.de/s/pole-dance-beauties   \n",
       " ..               ...                                                ...   \n",
       " 98              None  https://www.eversports.de/s/the-basement-pole-...   \n",
       " 99     +31 648539599          https://www.eversports.de/s/aerial-studio   \n",
       " 100   +49 1724437767          https://www.eversports.de/s/delicate-pole   \n",
       " 101   +49 1629269299    https://www.eversports.de/s/polefitness-leipzig   \n",
       " 102  +49 01782996698       https://www.eversports.de/s/one8dance-studio   \n",
       " \n",
       "                                                    Art  \\\n",
       " 0    [1 Rezensionen, Fitness, Tanzen, Poledance, St...   \n",
       " 1    [Poledance, Poledance, Poledance, Poledance, P...   \n",
       " 2                [(Noch keine Bewertungen), Poledance]   \n",
       " 3    [Poledance, Aerial Hoop, Poledance, Stärkung/F...   \n",
       " 4    [Aerial Hoop, Pilates, Krafttraining, Stretchi...   \n",
       " ..                                                 ...   \n",
       " 98   [36 Rezensionen, Tanzen, Poledance, Online Kla...   \n",
       " 99   [Poledance, Aerial Yoga, Aerial Dance, Aerial ...   \n",
       " 100  [18 Rezensionen, Tanzen, Poledance, Akrobatik,...   \n",
       " 101  [Fitness, Poledance, Poledance, Stretching, St...   \n",
       " 102  [Tanzen, Tanzen, Hip Hop, Tanzen, Zumba, Tanze...   \n",
       " \n",
       "                           Angebot         Created Date         Updated Date  \n",
       " 0                 Zum Stundenplan  2024-02-21 13:41:54  2024-02-21 13:41:54  \n",
       " 1                 Zum Stundenplan  2024-02-21 13:42:03  2024-02-21 13:42:03  \n",
       " 2                            None  2024-02-21 13:42:10  2024-02-21 13:42:10  \n",
       " 3                 Zum Stundenplan  2024-02-21 13:42:14  2024-02-21 13:42:14  \n",
       " 4     1 Angebot für Neukund:innen  2024-02-21 13:42:27  2024-02-21 13:42:27  \n",
       " ..                            ...                  ...                  ...  \n",
       " 98    1 Angebot für Neukund:innen  2024-02-21 14:00:28  2024-02-21 14:00:28  \n",
       " 99   2 Angebote für Neukund:innen  2024-02-21 14:00:49  2024-02-21 14:00:49  \n",
       " 100               Zum Stundenplan  2024-02-21 14:00:56  2024-02-21 14:00:56  \n",
       " 101               Zum Stundenplan  2024-02-21 14:00:59  2024-02-21 14:00:59  \n",
       " 102               Zum Stundenplan  2024-02-21 14:01:05  2024-02-21 14:01:05  \n",
       " \n",
       " [103 rows x 15 columns],\n",
       "                                          Workshop Name    Workshop Date  \\\n",
       " 0                                               Spagat  Feb05bis Feb 26   \n",
       " 1                   Kopfstand Technik Online Workshop      Feb24Samstag   \n",
       " 2                       Atemtechniken Online Workshop     März16Samstag   \n",
       " 3            Split & Straddle Technik Online Workshop     März22Freitag   \n",
       " 4         Split on Pole (Intermediate) Online Workshop    März29Freitag   \n",
       " ..                                                 ...              ...   \n",
       " 135                           Rock the Floor mit Emmy      Apr07Sonntag   \n",
       " 136  Get your Shoulderstand - Floorworktechnik mit ...     Apr28Sonntag   \n",
       " 137  \"Fummeln für Fortgeschrittene\" Pole choreo mit...     Mai26Sonntag   \n",
       " 138  \"Fummeln für Fortgeschrittene\"  Chairdance Cho...     Mai26Sonntag   \n",
       " 139  \"Fummeln für Fortgeschrittene\" Floorwork Chore...     Mai26Sonntag   \n",
       " \n",
       "     Workshop Price Workshop Units              Workshop Studio  \\\n",
       " 0       Ausgebucht    4 Einheiten                   Luftbonbon   \n",
       " 1       ab 44,00 €      1 Einheit  Yoga and Pole Art by Selina   \n",
       " 2       ab 44,00 €      1 Einheit  Yoga and Pole Art by Selina   \n",
       " 3       ab 44,00 €      1 Einheit  Yoga and Pole Art by Selina   \n",
       " 4       ab 44,00 €      1 Einheit  Yoga and Pole Art by Selina   \n",
       " ..             ...            ...                          ...   \n",
       " 135     Ausgebucht      1 Einheit        Da Becca Flow and Fit   \n",
       " 136     ab 25,00 €      1 Einheit        Da Becca Flow and Fit   \n",
       " 137     Ausgebucht      1 Einheit        Da Becca Flow and Fit   \n",
       " 138     ab 34,00 €      1 Einheit        Da Becca Flow and Fit   \n",
       " 139     ab 34,00 €      1 Einheit        Da Becca Flow and Fit   \n",
       " \n",
       "                          Workshop Address  \\\n",
       " 0    Königstraße 45, 32547 Bad Oeynhausen   \n",
       " 1                    Online *, World Wide   \n",
       " 2                    Online *, World Wide   \n",
       " 3                    Online *, World Wide   \n",
       " 4                    Online *, World Wide   \n",
       " ..                                    ...   \n",
       " 135        Eickeler Markt 3A, 44651 Herne   \n",
       " 136        Eickeler Markt 3A, 44651 Herne   \n",
       " 137        Eickeler Markt 3A, 44651 Herne   \n",
       " 138        Eickeler Markt 3A, 44651 Herne   \n",
       " 139        Eickeler Markt 3A, 44651 Herne   \n",
       " \n",
       "                                             URL_E  \n",
       " 0    https://www.eversports.de/e/workshop/60kU5cU  \n",
       " 1    https://www.eversports.de/e/workshop/p_eKWTW  \n",
       " 2    https://www.eversports.de/e/workshop/1PmB24I  \n",
       " 3    https://www.eversports.de/e/workshop/Zk4neM3  \n",
       " 4    https://www.eversports.de/e/workshop/VnmCBGD  \n",
       " ..                                            ...  \n",
       " 135  https://www.eversports.de/e/workshop/NrFmto0  \n",
       " 136  https://www.eversports.de/e/workshop/km4K7Yv  \n",
       " 137  https://www.eversports.de/e/workshop/B2Sz3mv  \n",
       " 138  https://www.eversports.de/e/workshop/HhyMbSA  \n",
       " 139  https://www.eversports.de/e/workshop/WBlAegH  \n",
       " \n",
       " [140 rows x 7 columns],\n",
       "                                          Workshop Name  \\\n",
       " 0                                               Spagat   \n",
       " 1                    Kopfstand Technik Online Workshop   \n",
       " 2                        Atemtechniken Online Workshop   \n",
       " 3             Split & Straddle Technik Online Workshop   \n",
       " 4         Split on Pole (Intermediate) Online Workshop   \n",
       " ..                                                 ...   \n",
       " 134                            Rock the Floor mit Emmy   \n",
       " 135  Get your Shoulderstand - Floorworktechnik mit ...   \n",
       " 136  \"Fummeln für Fortgeschrittene\" Pole choreo mit...   \n",
       " 137  \"Fummeln für Fortgeschrittene\"  Chairdance Cho...   \n",
       " 138  \"Fummeln für Fortgeschrittene\" Floorwork Chore...   \n",
       " \n",
       "                                            Description  \\\n",
       " 0    Straddle & Middlesplit stehen ganz oben auf De...   \n",
       " 1    Der Kopfstand ist die erste Basis für viel wei...   \n",
       " 2    Inhalte des Workshops:  Aufbau des Workshops: ...   \n",
       " 3    Du trainierst schon länger an deinem Spagat od...   \n",
       " 4    Du liebst Spagat Figuren und brauchst neue Var...   \n",
       " ..                                                 ...   \n",
       " 134  Emmy bringt uns eine ihrer coolen Rockigen cho...   \n",
       " 135  Balance, Kraft; und ein ganz neues Körpergefüh...   \n",
       " 136  Flirtmodus on! Du hast Lust darauf dich sexy a...   \n",
       " 137  Weil sitzen auch ultra sexy sein kann. Jannah ...   \n",
       " 138  Packt eure Knieschoner ein und freut euch auf ...   \n",
       " \n",
       "                      Studio Name  \\\n",
       " 0                     Luftbonbon   \n",
       " 1    Yoga and Pole Art by Selina   \n",
       " 2    Yoga and Pole Art by Selina   \n",
       " 3    Yoga and Pole Art by Selina   \n",
       " 4    Yoga and Pole Art by Selina   \n",
       " ..                           ...   \n",
       " 134        Da Becca Flow and Fit   \n",
       " 135        Da Becca Flow and Fit   \n",
       " 136        Da Becca Flow and Fit   \n",
       " 137        Da Becca Flow and Fit   \n",
       " 138        Da Becca Flow and Fit   \n",
       " \n",
       "                                               Location                    Art  \\\n",
       " 0                                        20:20 - 21:20  Stärkung/Flexibilität   \n",
       " 1    Diese Aktivität wird im Online Stream übertrag...           Vinyasa Yoga   \n",
       " 2    Diese Aktivität wird im Online Stream übertrag...             Meditation   \n",
       " 3    Diese Aktivität wird im Online Stream übertrag...           Vinyasa Yoga   \n",
       " 4    Diese Aktivität wird im Online Stream übertrag...              Poledance   \n",
       " ..                                                 ...                    ...   \n",
       " 134                                       Einzelticket              Floorwork   \n",
       " 135                                       Einzelticket              Floorwork   \n",
       " 136                                       Einzelticket              Poledance   \n",
       " 137                                       Einzelticket             Chairdance   \n",
       " 138                                       Einzelticket              Floorwork   \n",
       " \n",
       "                                   Date  \\\n",
       " 0    Begann am Montag, 5. Februar 2024   \n",
       " 1            Samstag, 24. Februar 2024   \n",
       " 2               Samstag, 16. März 2024   \n",
       " 3               Freitag, 22. März 2024   \n",
       " 4               Freitag, 29. März 2024   \n",
       " ..                                 ...   \n",
       " 134             Sonntag, 7. April 2024   \n",
       " 135            Sonntag, 28. April 2024   \n",
       " 136              Sonntag, 26. Mai 2024   \n",
       " 137              Sonntag, 26. Mai 2024   \n",
       " 138              Sonntag, 26. Mai 2024   \n",
       " \n",
       "                                             URL_E  \\\n",
       " 0    https://www.eversports.de/e/workshop/60kU5cU   \n",
       " 1    https://www.eversports.de/e/workshop/p_eKWTW   \n",
       " 2    https://www.eversports.de/e/workshop/1PmB24I   \n",
       " 3    https://www.eversports.de/e/workshop/Zk4neM3   \n",
       " 4    https://www.eversports.de/e/workshop/VnmCBGD   \n",
       " ..                                            ...   \n",
       " 134  https://www.eversports.de/e/workshop/NrFmto0   \n",
       " 135  https://www.eversports.de/e/workshop/km4K7Yv   \n",
       " 136  https://www.eversports.de/e/workshop/B2Sz3mv   \n",
       " 137  https://www.eversports.de/e/workshop/HhyMbSA   \n",
       " 138  https://www.eversports.de/e/workshop/WBlAegH   \n",
       " \n",
       "                                      Time  \n",
       " 0    Königstraße 45, 32547 Bad Oeynhausen  \n",
       " 1                           18:00 - 19:30  \n",
       " 2                           18:00 - 19:30  \n",
       " 3                           18:00 - 19:30  \n",
       " 4                           12:00 - 13:30  \n",
       " ..                                    ...  \n",
       " 134                         16:00 - 17:30  \n",
       " 135                         13:30 - 15:00  \n",
       " 136                         12:00 - 13:30  \n",
       " 137                         14:00 - 15:30  \n",
       " 138                         16:00 - 17:30  \n",
       " \n",
       " [139 rows x 8 columns],\n",
       "                                                    URL\n",
       " 0    https://www.eversports.de/s/seemannsbraut-pole...\n",
       " 1    https://www.eversports.de/s/tsg-blau-gold-ball...\n",
       " 2    https://www.eversports.de/s/pole-stars-osnabr%...\n",
       " 3        https://www.eversports.de/s/aerial-art-studio\n",
       " 4           https://www.eversports.de/s/k%C3%B6rpernah\n",
       " ..                                                 ...\n",
       " 325          https://www.eversports.de/s/delicate-pole\n",
       " 326    https://www.eversports.de/s/polefitness-leipzig\n",
       " 327              https://www.eversports.de/s/souldance\n",
       " 328  https://www.eversports.de/s/pole-heroes-pole-%...\n",
       " 329       https://www.eversports.de/s/one8dance-studio\n",
       " \n",
       " [330 rows x 1 columns])"
      ]
     },
     "execution_count": 24,
     "metadata": {},
     "output_type": "execute_result"
    }
   ],
   "source": [
    "result_pole_studio, result_workshops, result_workshop_details, result_urls"
   ]
  },
  {
   "cell_type": "code",
   "execution_count": 25,
   "metadata": {},
   "outputs": [],
   "source": [
    "# import pandas as pd\n",
    "# from a_PyCaller import process_urls\n",
    "# from tqdm import tqdm\n",
    "# from datetime import datetime\n",
    "\n",
    "# def process_and_print_results(url, all_pole_studio_data, all_workshops_data, all_workshop_details_data):\n",
    "#     data = process_urls([url])\n",
    "\n",
    "#     if data:\n",
    "#         for key, df in data.items():\n",
    "#             if df is not None and not df.empty:\n",
    "#                 tqdm.write(f\"{datetime.now().strftime('%Y-%m-%d %H:%M:%S')} - INFO - Scraping Data from: {url}\")\n",
    "#                 tqdm.write(f\"{key.replace('_', ' ').title()}: {len(df)} entries\")\n",
    "\n",
    "#                 # Update the appropriate DataFrame\n",
    "#                 if key == 'pole_studio_data':\n",
    "#                     all_pole_studio_data = pd.concat([all_pole_studio_data, df], ignore_index=True)\n",
    "#                 elif key == 'workshops_data':\n",
    "#                     all_workshops_data = pd.concat([all_workshops_data, df], ignore_index=True)\n",
    "#                 elif key == 'workshop_details':\n",
    "#                     all_workshop_details_data = pd.concat([all_workshop_details_data, df], ignore_index=True)\n",
    "\n",
    "#     return all_pole_studio_data, all_workshops_data, all_workshop_details_data\n",
    "\n",
    "# def main():\n",
    "#     # # Load initial URLs\n",
    "#     # all_found_urls_s = pd.read_csv(\"your_output_file.csv\")\n",
    "#     # initial_urls = list(set(all_found_urls_s[\"0\"])) # Delete \"[:3]\" to scrape all Urls\n",
    "\n",
    "#     # Initialize DataFrames\n",
    "#     all_pole_studio_data = pd.DataFrame()\n",
    "#     all_workshops_data = pd.DataFrame()\n",
    "#     all_workshop_details_data = pd.DataFrame()\n",
    "\n",
    "#     # Process each URL with tqdm\n",
    "#     with tqdm(initial_urls, desc=\"Processing URLs\", dynamic_ncols=True) as pbar:\n",
    "#         for url in pbar:\n",
    "#             all_pole_studio_data, all_workshops_data, all_workshop_details_data = process_and_print_results(\n",
    "#                 url, all_pole_studio_data, all_workshops_data, all_workshop_details_data\n",
    "#             )\n",
    "\n",
    "#     # # Export DataFrames to CSV files\n",
    "#     all_pole_studio_data.to_csv(\"Pole_Studio_Übersicht_S.csv\", index=False)\n",
    "#     all_workshops_data.to_csv(\"Workshop_Liste_SW.csv\", index=False)\n",
    "#     all_workshop_details_data.to_csv(\"Workshop_Übersicht_E.csv\", index=False)\n",
    "\n",
    "#     # Return the final DataFrames\n",
    "#     return all_pole_studio_data, all_workshops_data, all_workshop_details_data\n",
    "\n",
    "# # Run the main function and get the final DataFrames\n",
    "# result_pole_studio, result_workshops, result_workshop_details = main()\n"
   ]
  },
  {
   "cell_type": "code",
   "execution_count": 26,
   "metadata": {},
   "outputs": [],
   "source": [
    "# result_pole_studio"
   ]
  },
  {
   "cell_type": "markdown",
   "metadata": {},
   "source": [
    "---"
   ]
  },
  {
   "cell_type": "code",
   "execution_count": 27,
   "metadata": {},
   "outputs": [],
   "source": [
    "# result_workshops"
   ]
  },
  {
   "cell_type": "code",
   "execution_count": 28,
   "metadata": {},
   "outputs": [],
   "source": [
    "# result_workshop_details"
   ]
  }
 ],
 "metadata": {
  "kernelspec": {
   "display_name": "Python 3",
   "language": "python",
   "name": "python3"
  },
  "language_info": {
   "codemirror_mode": {
    "name": "ipython",
    "version": 3
   },
   "file_extension": ".py",
   "mimetype": "text/x-python",
   "name": "python",
   "nbconvert_exporter": "python",
   "pygments_lexer": "ipython3",
   "version": "3.12.1"
  }
 },
 "nbformat": 4,
 "nbformat_minor": 2
}
