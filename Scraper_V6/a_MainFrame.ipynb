{
 "cells": [
  {
   "cell_type": "markdown",
   "metadata": {},
   "source": [
    "---"
   ]
  },
  {
   "cell_type": "markdown",
   "metadata": {},
   "source": [
    "Here use your CSV from WIX: Example! \"Pole Studios (2).csv\", replace the Name of the CSV inside the \"\", Run All Cells!"
   ]
  },
  {
   "cell_type": "code",
   "execution_count": 1,
   "metadata": {},
   "outputs": [
    {
     "data": {
      "text/html": [
       "<div>\n",
       "<style scoped>\n",
       "    .dataframe tbody tr th:only-of-type {\n",
       "        vertical-align: middle;\n",
       "    }\n",
       "\n",
       "    .dataframe tbody tr th {\n",
       "        vertical-align: top;\n",
       "    }\n",
       "\n",
       "    .dataframe thead th {\n",
       "        text-align: right;\n",
       "    }\n",
       "</style>\n",
       "<table border=\"1\" class=\"dataframe\">\n",
       "  <thead>\n",
       "    <tr style=\"text-align: right;\">\n",
       "      <th></th>\n",
       "      <th>Quelle</th>\n",
       "      <th>Pole Studio</th>\n",
       "      <th>PLZ</th>\n",
       "      <th>Stadt</th>\n",
       "      <th>Land</th>\n",
       "      <th>Adresse</th>\n",
       "      <th>Telefonnummer</th>\n",
       "      <th>E-Mail-Adresse</th>\n",
       "      <th>Webseite</th>\n",
       "      <th>Facebook</th>\n",
       "      <th>...</th>\n",
       "      <th>ID</th>\n",
       "      <th>Owner</th>\n",
       "      <th>Created Date</th>\n",
       "      <th>Updated Date</th>\n",
       "      <th>Bildergalerie</th>\n",
       "      <th>Richtigkeit der Angaben</th>\n",
       "      <th>Pole Studios (Pole Studio)</th>\n",
       "      <th>Online Studios (Pole Studio)</th>\n",
       "      <th>Inaktiv</th>\n",
       "      <th>Löschvermerk</th>\n",
       "    </tr>\n",
       "  </thead>\n",
       "  <tbody>\n",
       "    <tr>\n",
       "      <th>0</th>\n",
       "      <td>https://www.eversports.de/sw/seemannsbraut-pol...</td>\n",
       "      <td>Seemannsbraut Poledance Flensburg</td>\n",
       "      <td>24941</td>\n",
       "      <td>Flensburg</td>\n",
       "      <td>Deutschland</td>\n",
       "      <td>{\"subdivisions\":[{\"code\":\"SH\",\"name\":\"Schleswi...</td>\n",
       "      <td>15163300769</td>\n",
       "      <td>seemannsbraut-poledance@web.de</td>\n",
       "      <td>https://www.seemannsbraut-poledance.de/</td>\n",
       "      <td>https://www.facebook.com/SeemannsbrautPoledance</td>\n",
       "      <td>...</td>\n",
       "      <td>01df35bd-209a-4520-a7bc-d109b9aaf2f6</td>\n",
       "      <td>284241e1-0e53-4183-b67f-34edcfb7c8b1</td>\n",
       "      <td>2022-11-18T11:57:31Z</td>\n",
       "      <td>2024-02-04T18:00:48Z</td>\n",
       "      <td>NaN</td>\n",
       "      <td>NaN</td>\n",
       "      <td>/polestudio/seemannsbraut-poledance-flensburg</td>\n",
       "      <td>/onlinestudio/seemannsbraut-poledance-flensburg</td>\n",
       "      <td>NaN</td>\n",
       "      <td>NaN</td>\n",
       "    </tr>\n",
       "    <tr>\n",
       "      <th>1</th>\n",
       "      <td>https://www.eversports.de/sw/tsg-blau-gold-gie...</td>\n",
       "      <td>TSG Blau Gold Ballett- und Pole-dance- Studio</td>\n",
       "      <td>35390</td>\n",
       "      <td>Gießen</td>\n",
       "      <td>Deutschland</td>\n",
       "      <td>{\"subdivisions\":[{\"code\":\"HE\",\"name\":\"Hessen\",...</td>\n",
       "      <td>0491 621606468</td>\n",
       "      <td>tanz-giessen@gmx.de</td>\n",
       "      <td>https://www.tsg-giessen.de/angebote/tanz/poled...</td>\n",
       "      <td>https://www.facebook.com/poledancegiessen.de</td>\n",
       "      <td>...</td>\n",
       "      <td>0233997c-a277-4179-990a-347e1cea347e</td>\n",
       "      <td>284241e1-0e53-4183-b67f-34edcfb7c8b1</td>\n",
       "      <td>2022-11-18T11:57:31Z</td>\n",
       "      <td>2024-02-04T18:00:49Z</td>\n",
       "      <td>NaN</td>\n",
       "      <td>NaN</td>\n",
       "      <td>/polestudio/tsg-blau-gold-ballett--und-pole-da...</td>\n",
       "      <td>/onlinestudio/tsg-blau-gold-ballett--und-pole-...</td>\n",
       "      <td>NaN</td>\n",
       "      <td>NaN</td>\n",
       "    </tr>\n",
       "    <tr>\n",
       "      <th>2</th>\n",
       "      <td>NaN</td>\n",
       "      <td>Pole Stars Osnabrück</td>\n",
       "      <td>49080</td>\n",
       "      <td>Osnabrück</td>\n",
       "      <td>Deutschland</td>\n",
       "      <td>{\"subdivisions\":[{\"code\":\"NDS\",\"name\":\"Nieders...</td>\n",
       "      <td>01573 1810262</td>\n",
       "      <td>info@polestars-osnabrueck.de</td>\n",
       "      <td>http://www.polestars-osnabrueck.de/</td>\n",
       "      <td>https://www.facebook.com/PoleStarsOsnabrueck.de/</td>\n",
       "      <td>...</td>\n",
       "      <td>04673b9d-d8b2-4caf-8632-d349eab2cd4e</td>\n",
       "      <td>284241e1-0e53-4183-b67f-34edcfb7c8b1</td>\n",
       "      <td>2022-11-18T11:57:31Z</td>\n",
       "      <td>2024-02-04T18:00:48Z</td>\n",
       "      <td>NaN</td>\n",
       "      <td>NaN</td>\n",
       "      <td>/polestudio/pole-stars-osnabr%C3%BCck</td>\n",
       "      <td>/onlinestudio/pole-stars-osnabr%C3%BCck</td>\n",
       "      <td>NaN</td>\n",
       "      <td>NaN</td>\n",
       "    </tr>\n",
       "  </tbody>\n",
       "</table>\n",
       "<p>3 rows × 26 columns</p>\n",
       "</div>"
      ],
      "text/plain": [
       "                                              Quelle  \\\n",
       "0  https://www.eversports.de/sw/seemannsbraut-pol...   \n",
       "1  https://www.eversports.de/sw/tsg-blau-gold-gie...   \n",
       "2                                                NaN   \n",
       "\n",
       "                                     Pole Studio    PLZ      Stadt  \\\n",
       "0              Seemannsbraut Poledance Flensburg  24941  Flensburg   \n",
       "1  TSG Blau Gold Ballett- und Pole-dance- Studio  35390     Gießen   \n",
       "2                           Pole Stars Osnabrück  49080  Osnabrück   \n",
       "\n",
       "          Land                                            Adresse  \\\n",
       "0  Deutschland  {\"subdivisions\":[{\"code\":\"SH\",\"name\":\"Schleswi...   \n",
       "1  Deutschland  {\"subdivisions\":[{\"code\":\"HE\",\"name\":\"Hessen\",...   \n",
       "2  Deutschland  {\"subdivisions\":[{\"code\":\"NDS\",\"name\":\"Nieders...   \n",
       "\n",
       "    Telefonnummer                  E-Mail-Adresse  \\\n",
       "0     15163300769  seemannsbraut-poledance@web.de   \n",
       "1  0491 621606468             tanz-giessen@gmx.de   \n",
       "2   01573 1810262    info@polestars-osnabrueck.de   \n",
       "\n",
       "                                            Webseite  \\\n",
       "0            https://www.seemannsbraut-poledance.de/   \n",
       "1  https://www.tsg-giessen.de/angebote/tanz/poled...   \n",
       "2                http://www.polestars-osnabrueck.de/   \n",
       "\n",
       "                                           Facebook  ...  \\\n",
       "0   https://www.facebook.com/SeemannsbrautPoledance  ...   \n",
       "1      https://www.facebook.com/poledancegiessen.de  ...   \n",
       "2  https://www.facebook.com/PoleStarsOsnabrueck.de/  ...   \n",
       "\n",
       "                                     ID                                 Owner  \\\n",
       "0  01df35bd-209a-4520-a7bc-d109b9aaf2f6  284241e1-0e53-4183-b67f-34edcfb7c8b1   \n",
       "1  0233997c-a277-4179-990a-347e1cea347e  284241e1-0e53-4183-b67f-34edcfb7c8b1   \n",
       "2  04673b9d-d8b2-4caf-8632-d349eab2cd4e  284241e1-0e53-4183-b67f-34edcfb7c8b1   \n",
       "\n",
       "           Created Date          Updated Date Bildergalerie  \\\n",
       "0  2022-11-18T11:57:31Z  2024-02-04T18:00:48Z           NaN   \n",
       "1  2022-11-18T11:57:31Z  2024-02-04T18:00:49Z           NaN   \n",
       "2  2022-11-18T11:57:31Z  2024-02-04T18:00:48Z           NaN   \n",
       "\n",
       "  Richtigkeit der Angaben                         Pole Studios (Pole Studio)  \\\n",
       "0                     NaN      /polestudio/seemannsbraut-poledance-flensburg   \n",
       "1                     NaN  /polestudio/tsg-blau-gold-ballett--und-pole-da...   \n",
       "2                     NaN              /polestudio/pole-stars-osnabr%C3%BCck   \n",
       "\n",
       "                        Online Studios (Pole Studio) Inaktiv Löschvermerk  \n",
       "0    /onlinestudio/seemannsbraut-poledance-flensburg     NaN          NaN  \n",
       "1  /onlinestudio/tsg-blau-gold-ballett--und-pole-...     NaN          NaN  \n",
       "2            /onlinestudio/pole-stars-osnabr%C3%BCck     NaN          NaN  \n",
       "\n",
       "[3 rows x 26 columns]"
      ]
     },
     "execution_count": 1,
     "metadata": {},
     "output_type": "execute_result"
    }
   ],
   "source": [
    "import pandas as pd\n",
    "\n",
    "# Load initial URLs\n",
    "hop_dataframe = pd.read_csv(\"Pole Studios.csv\")\n",
    "hop_dataframe.head(3)"
   ]
  },
  {
   "cell_type": "markdown",
   "metadata": {},
   "source": [
    "---"
   ]
  },
  {
   "cell_type": "markdown",
   "metadata": {},
   "source": [
    "Url Reconstruction"
   ]
  },
  {
   "cell_type": "code",
   "execution_count": 2,
   "metadata": {},
   "outputs": [],
   "source": [
    "# hop_polestudios = hop_dataframe[\"Pole Studios (Pole Studio)\"].to_list()\n",
    "\n",
    "# initial_urls = hop_polestudios\n",
    "\n",
    "# base_url = \"https://www.eversports.de/s\"\n",
    "\n",
    "# #initial_urls = list(set(hop_dataframe[\"Pole Studios (Pole Studio)\"]))\n",
    "# len(initial_urls)"
   ]
  },
  {
   "cell_type": "code",
   "execution_count": 3,
   "metadata": {},
   "outputs": [],
   "source": [
    "# url = []\n",
    "# for url_part in initial_urls:\n",
    "#     url.append(base_url+url_part[11:])\n",
    "# url[:10]"
   ]
  },
  {
   "cell_type": "code",
   "execution_count": 4,
   "metadata": {},
   "outputs": [],
   "source": [
    "# initial_urls = url"
   ]
  },
  {
   "cell_type": "markdown",
   "metadata": {},
   "source": [
    "---"
   ]
  },
  {
   "cell_type": "code",
   "execution_count": 5,
   "metadata": {},
   "outputs": [
    {
     "data": {
      "text/html": [
       "<div>\n",
       "<style scoped>\n",
       "    .dataframe tbody tr th:only-of-type {\n",
       "        vertical-align: middle;\n",
       "    }\n",
       "\n",
       "    .dataframe tbody tr th {\n",
       "        vertical-align: top;\n",
       "    }\n",
       "\n",
       "    .dataframe thead th {\n",
       "        text-align: right;\n",
       "    }\n",
       "</style>\n",
       "<table border=\"1\" class=\"dataframe\">\n",
       "  <thead>\n",
       "    <tr style=\"text-align: right;\">\n",
       "      <th></th>\n",
       "      <th>0</th>\n",
       "    </tr>\n",
       "  </thead>\n",
       "  <tbody>\n",
       "    <tr>\n",
       "      <th>0</th>\n",
       "      <td>https://www.eversports.de/s/seemannsbraut-pole...</td>\n",
       "    </tr>\n",
       "    <tr>\n",
       "      <th>1</th>\n",
       "      <td>https://www.eversports.de/s/tsg-blau-gold-ball...</td>\n",
       "    </tr>\n",
       "    <tr>\n",
       "      <th>2</th>\n",
       "      <td>https://www.eversports.de/s/pole-stars-osnabr%...</td>\n",
       "    </tr>\n",
       "    <tr>\n",
       "      <th>3</th>\n",
       "      <td>https://www.eversports.de/s/aerial-art-studio</td>\n",
       "    </tr>\n",
       "    <tr>\n",
       "      <th>4</th>\n",
       "      <td>https://www.eversports.de/s/k%C3%B6rpernah</td>\n",
       "    </tr>\n",
       "    <tr>\n",
       "      <th>...</th>\n",
       "      <td>...</td>\n",
       "    </tr>\n",
       "    <tr>\n",
       "      <th>433</th>\n",
       "      <td>https://www.eversports.de/s/vertical-pole-aeri...</td>\n",
       "    </tr>\n",
       "    <tr>\n",
       "      <th>434</th>\n",
       "      <td>https://www.eversports.de/s/lift-off-poledance...</td>\n",
       "    </tr>\n",
       "    <tr>\n",
       "      <th>435</th>\n",
       "      <td>https://www.eversports.de/s/pole2dance-vertica...</td>\n",
       "    </tr>\n",
       "    <tr>\n",
       "      <th>436</th>\n",
       "      <td>https://www.eversports.de/s/unique-studios</td>\n",
       "    </tr>\n",
       "    <tr>\n",
       "      <th>437</th>\n",
       "      <td>https://www.eversports.de/s/pole-circus</td>\n",
       "    </tr>\n",
       "  </tbody>\n",
       "</table>\n",
       "<p>438 rows × 1 columns</p>\n",
       "</div>"
      ],
      "text/plain": [
       "                                                     0\n",
       "0    https://www.eversports.de/s/seemannsbraut-pole...\n",
       "1    https://www.eversports.de/s/tsg-blau-gold-ball...\n",
       "2    https://www.eversports.de/s/pole-stars-osnabr%...\n",
       "3        https://www.eversports.de/s/aerial-art-studio\n",
       "4           https://www.eversports.de/s/k%C3%B6rpernah\n",
       "..                                                 ...\n",
       "433  https://www.eversports.de/s/vertical-pole-aeri...\n",
       "434  https://www.eversports.de/s/lift-off-poledance...\n",
       "435  https://www.eversports.de/s/pole2dance-vertica...\n",
       "436         https://www.eversports.de/s/unique-studios\n",
       "437            https://www.eversports.de/s/pole-circus\n",
       "\n",
       "[438 rows x 1 columns]"
      ]
     },
     "execution_count": 5,
     "metadata": {},
     "output_type": "execute_result"
    }
   ],
   "source": [
    "hop_dataframe = pd.read_csv(\"merged_urls.csv\")\n",
    "hop_dataframe"
   ]
  },
  {
   "cell_type": "code",
   "execution_count": 6,
   "metadata": {},
   "outputs": [],
   "source": [
    "url= hop_dataframe[\"0\"].to_list()\n",
    "\n",
    "initial_urls = url"
   ]
  },
  {
   "cell_type": "markdown",
   "metadata": {},
   "source": [
    "Scraper Code"
   ]
  },
  {
   "cell_type": "code",
   "execution_count": 7,
   "metadata": {},
   "outputs": [
    {
     "name": "stderr",
     "output_type": "stream",
     "text": [
      "Processing URLs:   0%|          | 0/438 [00:00<?, ?it/s]"
     ]
    },
    {
     "name": "stdout",
     "output_type": "stream",
     "text": [
      "Starting URL reconstruction...\n"
     ]
    },
    {
     "name": "stderr",
     "output_type": "stream",
     "text": [
      "Processing URLs:   0%|          | 1/438 [00:03<26:40,  3.66s/it]"
     ]
    },
    {
     "name": "stdout",
     "output_type": "stream",
     "text": [
      "Error during HTTP request: 404 Client Error: Not Found for url: https://www.eversports.de/s/seemannsbraut-poledance-flensburg\n",
      "Converting to DataFrame...\n",
      "Validating URLs...\n",
      "\n",
      "Processing completed.\n",
      "-------------------------------- \n",
      "\n",
      "Starting URL reconstruction...\n"
     ]
    },
    {
     "name": "stderr",
     "output_type": "stream",
     "text": [
      "Processing URLs:   0%|          | 2/438 [00:05<17:36,  2.42s/it]"
     ]
    },
    {
     "name": "stdout",
     "output_type": "stream",
     "text": [
      "Error during HTTP request: 404 Client Error: Not Found for url: https://www.eversports.de/s/tsg-blau-gold-ballett--und-pole-dance--studio\n",
      "Converting to DataFrame...\n",
      "Validating URLs...\n",
      "\n",
      "Processing completed.\n",
      "-------------------------------- \n",
      "\n",
      "Starting URL reconstruction...\n"
     ]
    },
    {
     "name": "stderr",
     "output_type": "stream",
     "text": [
      "Processing URLs:   1%|          | 3/438 [00:08<19:38,  2.71s/it]"
     ]
    },
    {
     "name": "stdout",
     "output_type": "stream",
     "text": [
      "Error during HTTP request: Exceeded 30 redirects.\n",
      "Converting to DataFrame...\n",
      "Validating URLs...\n",
      "\n",
      "Processing completed.\n",
      "-------------------------------- \n",
      "\n",
      "Starting URL reconstruction...\n"
     ]
    },
    {
     "name": "stderr",
     "output_type": "stream",
     "text": [
      "Processing URLs:   1%|          | 4/438 [00:10<17:57,  2.48s/it]"
     ]
    },
    {
     "name": "stdout",
     "output_type": "stream",
     "text": [
      "Error during HTTP request: 404 Client Error: Not Found for url: https://www.eversports.de/s/aerial-art-studio\n",
      "Converting to DataFrame...\n",
      "Validating URLs...\n",
      "\n",
      "Processing completed.\n",
      "-------------------------------- \n",
      "\n",
      "Starting URL reconstruction...\n"
     ]
    },
    {
     "name": "stderr",
     "output_type": "stream",
     "text": [
      "Processing URLs:   1%|          | 5/438 [00:13<20:25,  2.83s/it]"
     ]
    },
    {
     "name": "stdout",
     "output_type": "stream",
     "text": [
      "Error during HTTP request: Exceeded 30 redirects.\n",
      "Converting to DataFrame...\n",
      "Validating URLs...\n",
      "\n",
      "Processing completed.\n",
      "-------------------------------- \n",
      "\n",
      "Starting URL reconstruction...\n"
     ]
    },
    {
     "name": "stderr",
     "output_type": "stream",
     "text": [
      "Processing URLs:   1%|▏         | 6/438 [00:17<22:47,  3.17s/it]"
     ]
    },
    {
     "name": "stdout",
     "output_type": "stream",
     "text": [
      "Error during HTTP request: Exceeded 30 redirects.\n",
      "Converting to DataFrame...\n",
      "Validating URLs...\n",
      "\n",
      "Processing completed.\n",
      "-------------------------------- \n",
      "\n",
      "Starting URL reconstruction...\n"
     ]
    },
    {
     "name": "stderr",
     "output_type": "stream",
     "text": [
      "Processing URLs:   2%|▏         | 7/438 [00:18<18:14,  2.54s/it]"
     ]
    },
    {
     "name": "stdout",
     "output_type": "stream",
     "text": [
      "Error during HTTP request: 404 Client Error: Not Found for url: https://www.eversports.de/s/mypole\n",
      "Converting to DataFrame...\n",
      "Validating URLs...\n",
      "\n",
      "Processing completed.\n",
      "-------------------------------- \n",
      "\n",
      "Starting URL reconstruction...\n"
     ]
    },
    {
     "name": "stderr",
     "output_type": "stream",
     "text": [
      "2024-02-21 15:12:15,383 - INFO - Processing URL 1/1: https://www.eversports.de/s/tanzstudio-michel\n"
     ]
    },
    {
     "name": "stdout",
     "output_type": "stream",
     "text": [
      "Converting to DataFrame...\n",
      "Validating URLs...\n"
     ]
    },
    {
     "name": "stderr",
     "output_type": "stream",
     "text": [
      "2024-02-21 15:12:16,645 - INFO - URL https://www.eversports.de/s/tanzstudio-michel is valid.\n"
     ]
    },
    {
     "name": "stdout",
     "output_type": "stream",
     "text": [
      "Scraping Pole Studio Data from https://www.eversports.de/s/tanzstudio-michel...\n"
     ]
    },
    {
     "name": "stderr",
     "output_type": "stream",
     "text": [
      "Processing URLs:   2%|▏         | 8/438 [00:23<23:18,  3.25s/it]"
     ]
    },
    {
     "name": "stdout",
     "output_type": "stream",
     "text": [
      "\n",
      "Processing completed.\n",
      "-------------------------------- \n",
      "\n",
      "2024-02-21 15:12:18 - INFO - Scraping Data from: https://www.eversports.de/s/tanzstudio-michel\n",
      "Pole Studio Data: 1 entries\n",
      "Starting URL reconstruction...\n"
     ]
    },
    {
     "name": "stderr",
     "output_type": "stream",
     "text": [
      "Processing URLs:   2%|▏         | 9/438 [00:24<18:51,  2.64s/it]"
     ]
    },
    {
     "name": "stdout",
     "output_type": "stream",
     "text": [
      "Error during HTTP request: 404 Client Error: Not Found for url: https://www.eversports.de/s/pole-sensation\n",
      "Converting to DataFrame...\n",
      "Validating URLs...\n",
      "\n",
      "Processing completed.\n",
      "-------------------------------- \n",
      "\n",
      "Starting URL reconstruction...\n"
     ]
    },
    {
     "name": "stderr",
     "output_type": "stream",
     "text": [
      "Processing URLs:   2%|▏         | 10/438 [00:26<16:25,  2.30s/it]"
     ]
    },
    {
     "name": "stdout",
     "output_type": "stream",
     "text": [
      "Error during HTTP request: 404 Client Error: Not Found for url: https://www.eversports.de/s/poledance-rostock\n",
      "Converting to DataFrame...\n",
      "Validating URLs...\n",
      "\n",
      "Processing completed.\n",
      "-------------------------------- \n",
      "\n",
      "Starting URL reconstruction...\n"
     ]
    },
    {
     "name": "stderr",
     "output_type": "stream",
     "text": [
      "Processing URLs:   3%|▎         | 11/438 [00:27<13:59,  1.97s/it]"
     ]
    },
    {
     "name": "stdout",
     "output_type": "stream",
     "text": [
      "Error during HTTP request: 404 Client Error: Not Found for url: https://www.eversports.de/s/wildheart-yoga-%26-pole-dance\n",
      "Converting to DataFrame...\n",
      "Validating URLs...\n",
      "\n",
      "Processing completed.\n",
      "-------------------------------- \n",
      "\n",
      "Starting URL reconstruction...\n"
     ]
    },
    {
     "name": "stderr",
     "output_type": "stream",
     "text": [
      "Processing URLs:   3%|▎         | 12/438 [00:28<12:15,  1.73s/it]"
     ]
    },
    {
     "name": "stdout",
     "output_type": "stream",
     "text": [
      "Error during HTTP request: 404 Client Error: Not Found for url: https://www.eversports.de/s/studio-beyou\n",
      "Converting to DataFrame...\n",
      "Validating URLs...\n",
      "\n",
      "Processing completed.\n",
      "-------------------------------- \n",
      "\n",
      "Starting URL reconstruction...\n"
     ]
    },
    {
     "name": "stderr",
     "output_type": "stream",
     "text": [
      "2024-02-21 15:12:24,584 - INFO - Processing URL 1/1: https://www.eversports.de/s/polestation-academy\n"
     ]
    },
    {
     "name": "stdout",
     "output_type": "stream",
     "text": [
      "Converting to DataFrame...\n",
      "Validating URLs...\n"
     ]
    },
    {
     "name": "stderr",
     "output_type": "stream",
     "text": [
      "2024-02-21 15:12:25,906 - INFO - URL https://www.eversports.de/s/polestation-academy is valid.\n"
     ]
    },
    {
     "name": "stdout",
     "output_type": "stream",
     "text": [
      "Scraping Pole Studio Data from https://www.eversports.de/s/polestation-academy...\n"
     ]
    },
    {
     "name": "stderr",
     "output_type": "stream",
     "text": [
      "Processing URLs:   3%|▎         | 13/438 [00:31<14:54,  2.10s/it]"
     ]
    },
    {
     "name": "stdout",
     "output_type": "stream",
     "text": [
      "\n",
      "Processing completed.\n",
      "-------------------------------- \n",
      "\n",
      "2024-02-21 15:12:26 - INFO - Scraping Data from: https://www.eversports.de/s/polestation-academy\n",
      "Pole Studio Data: 1 entries\n",
      "Starting URL reconstruction...\n"
     ]
    },
    {
     "name": "stderr",
     "output_type": "stream",
     "text": [
      "Processing URLs:   3%|▎         | 14/438 [00:33<13:25,  1.90s/it]"
     ]
    },
    {
     "name": "stdout",
     "output_type": "stream",
     "text": [
      "Error during HTTP request: 404 Client Error: Not Found for url: https://www.eversports.de/s/indeed-unique---studio-wien\n",
      "Converting to DataFrame...\n",
      "Validating URLs...\n",
      "\n",
      "Processing completed.\n",
      "-------------------------------- \n",
      "\n",
      "Starting URL reconstruction...\n"
     ]
    },
    {
     "name": "stderr",
     "output_type": "stream",
     "text": [
      "Processing URLs:   3%|▎         | 15/438 [00:34<12:05,  1.72s/it]"
     ]
    },
    {
     "name": "stdout",
     "output_type": "stream",
     "text": [
      "Error during HTTP request: 404 Client Error: Not Found for url: https://www.eversports.de/s/polefitness-by-sophie-m.\n",
      "Converting to DataFrame...\n",
      "Validating URLs...\n",
      "\n",
      "Processing completed.\n",
      "-------------------------------- \n",
      "\n",
      "Starting URL reconstruction...\n"
     ]
    },
    {
     "name": "stderr",
     "output_type": "stream",
     "text": [
      "Processing URLs:   4%|▎         | 16/438 [00:35<10:46,  1.53s/it]"
     ]
    },
    {
     "name": "stdout",
     "output_type": "stream",
     "text": [
      "Error during HTTP request: 404 Client Error: Not Found for url: https://www.eversports.de/s/unique-studios-schweinfurt\n",
      "Converting to DataFrame...\n",
      "Validating URLs...\n",
      "\n",
      "Processing completed.\n",
      "-------------------------------- \n",
      "\n",
      "Starting URL reconstruction...\n"
     ]
    },
    {
     "name": "stderr",
     "output_type": "stream",
     "text": [
      "2024-02-21 15:12:31,234 - INFO - Processing URL 1/1: https://www.eversports.de/s/poledance-4-you\n"
     ]
    },
    {
     "name": "stdout",
     "output_type": "stream",
     "text": [
      "Converting to DataFrame...\n",
      "Validating URLs...\n"
     ]
    },
    {
     "name": "stderr",
     "output_type": "stream",
     "text": [
      "2024-02-21 15:12:32,557 - INFO - URL https://www.eversports.de/s/poledance-4-you is valid.\n"
     ]
    },
    {
     "name": "stdout",
     "output_type": "stream",
     "text": [
      "Scraping Pole Studio Data from https://www.eversports.de/s/poledance-4-you...\n"
     ]
    },
    {
     "name": "stderr",
     "output_type": "stream",
     "text": [
      "Processing URLs:   4%|▍         | 17/438 [00:38<13:25,  1.91s/it]"
     ]
    },
    {
     "name": "stdout",
     "output_type": "stream",
     "text": [
      "\n",
      "Processing completed.\n",
      "-------------------------------- \n",
      "\n",
      "2024-02-21 15:12:32 - INFO - Scraping Data from: https://www.eversports.de/s/poledance-4-you\n",
      "Pole Studio Data: 1 entries\n",
      "Starting URL reconstruction...\n"
     ]
    },
    {
     "name": "stderr",
     "output_type": "stream",
     "text": [
      "2024-02-21 15:12:34,382 - INFO - Processing URL 1/2: https://www.eversports.de/s/luftbonbon\n"
     ]
    },
    {
     "name": "stdout",
     "output_type": "stream",
     "text": [
      "Converting to DataFrame...\n",
      "Validating URLs...\n"
     ]
    },
    {
     "name": "stderr",
     "output_type": "stream",
     "text": [
      "2024-02-21 15:12:37,881 - INFO - URL https://www.eversports.de/s/luftbonbon is valid.\n",
      "2024-02-21 15:12:37,882 - INFO - Processing URL 2/2: https://www.eversports.de/sw/luftbonbon\n",
      "2024-02-21 15:12:38,993 - INFO - URL https://www.eversports.de/sw/luftbonbon is valid.\n"
     ]
    },
    {
     "name": "stdout",
     "output_type": "stream",
     "text": [
      "Scraping Pole Studio Data from https://www.eversports.de/s/luftbonbon...\n",
      "Scraping Workshops Data from https://www.eversports.de/sw/luftbonbon...\n",
      "Scraping Workshop Details from https://www.eversports.de/e/workshop/60kU5cU...\n"
     ]
    },
    {
     "name": "stderr",
     "output_type": "stream",
     "text": [
      "Processing URLs:   4%|▍         | 18/438 [00:47<27:57,  3.99s/it]"
     ]
    },
    {
     "name": "stdout",
     "output_type": "stream",
     "text": [
      "\n",
      "Processing completed.\n",
      "-------------------------------- \n",
      "\n",
      "2024-02-21 15:12:41 - INFO - Scraping Data from: https://www.eversports.de/s/luftbonbon\n",
      "Pole Studio Data: 1 entries\n",
      "2024-02-21 15:12:41 - INFO - Scraping Data from: https://www.eversports.de/s/luftbonbon\n",
      "Workshops Data: 1 entries\n",
      "2024-02-21 15:12:41 - INFO - Scraping Data from: https://www.eversports.de/s/luftbonbon\n",
      "Workshop Details: 1 entries\n",
      "Starting URL reconstruction...\n"
     ]
    },
    {
     "name": "stderr",
     "output_type": "stream",
     "text": [
      "Processing URLs:   4%|▍         | 19/438 [00:48<22:08,  3.17s/it]"
     ]
    },
    {
     "name": "stdout",
     "output_type": "stream",
     "text": [
      "Error during HTTP request: 404 Client Error: Not Found for url: https://www.eversports.de/s/chromotion---aerial-dance-studio\n",
      "Converting to DataFrame...\n",
      "Validating URLs...\n",
      "\n",
      "Processing completed.\n",
      "-------------------------------- \n",
      "\n",
      "Starting URL reconstruction...\n"
     ]
    },
    {
     "name": "stderr",
     "output_type": "stream",
     "text": [
      "Processing URLs:   5%|▍         | 20/438 [00:49<18:03,  2.59s/it]"
     ]
    },
    {
     "name": "stdout",
     "output_type": "stream",
     "text": [
      "Error during HTTP request: 404 Client Error: Not Found for url: https://www.eversports.de/s/exquisuite\n",
      "Converting to DataFrame...\n",
      "Validating URLs...\n",
      "\n",
      "Processing completed.\n",
      "-------------------------------- \n",
      "\n",
      "Starting URL reconstruction...\n"
     ]
    },
    {
     "name": "stderr",
     "output_type": "stream",
     "text": [
      "Processing URLs:   5%|▍         | 21/438 [00:51<15:16,  2.20s/it]"
     ]
    },
    {
     "name": "stdout",
     "output_type": "stream",
     "text": [
      "Error during HTTP request: 404 Client Error: Not Found for url: https://www.eversports.de/s/pole-emotion-bremerhaven\n",
      "Converting to DataFrame...\n",
      "Validating URLs...\n",
      "\n",
      "Processing completed.\n",
      "-------------------------------- \n",
      "\n",
      "Starting URL reconstruction...\n"
     ]
    },
    {
     "name": "stderr",
     "output_type": "stream",
     "text": [
      "Processing URLs:   5%|▌         | 22/438 [00:52<13:10,  1.90s/it]"
     ]
    },
    {
     "name": "stdout",
     "output_type": "stream",
     "text": [
      "Error during HTTP request: 404 Client Error: Not Found for url: https://www.eversports.de/s/polegarage-hagen\n",
      "Converting to DataFrame...\n",
      "Validating URLs...\n",
      "\n",
      "Processing completed.\n",
      "-------------------------------- \n",
      "\n",
      "Starting URL reconstruction...\n"
     ]
    },
    {
     "name": "stderr",
     "output_type": "stream",
     "text": [
      "2024-02-21 15:12:48,131 - INFO - Processing URL 1/1: https://www.eversports.de/s/pole-dance-beauties\n"
     ]
    },
    {
     "name": "stdout",
     "output_type": "stream",
     "text": [
      "Converting to DataFrame...\n",
      "Validating URLs...\n"
     ]
    },
    {
     "name": "stderr",
     "output_type": "stream",
     "text": [
      "2024-02-21 15:12:49,545 - INFO - URL https://www.eversports.de/s/pole-dance-beauties is valid.\n"
     ]
    },
    {
     "name": "stdout",
     "output_type": "stream",
     "text": [
      "Scraping Pole Studio Data from https://www.eversports.de/s/pole-dance-beauties...\n"
     ]
    },
    {
     "name": "stderr",
     "output_type": "stream",
     "text": [
      "Processing URLs:   5%|▌         | 23/438 [00:55<15:51,  2.29s/it]"
     ]
    },
    {
     "name": "stdout",
     "output_type": "stream",
     "text": [
      "\n",
      "Processing completed.\n",
      "-------------------------------- \n",
      "\n",
      "2024-02-21 15:12:49 - INFO - Scraping Data from: https://www.eversports.de/s/pole-dance-beauties\n",
      "Pole Studio Data: 1 entries\n",
      "Starting URL reconstruction...\n"
     ]
    },
    {
     "name": "stderr",
     "output_type": "stream",
     "text": [
      "Processing URLs:   5%|▌         | 24/438 [00:56<13:33,  1.97s/it]"
     ]
    },
    {
     "name": "stdout",
     "output_type": "stream",
     "text": [
      "Error during HTTP request: 404 Client Error: Not Found for url: https://www.eversports.de/s/freaky-pole-cats-schwandorf\n",
      "Converting to DataFrame...\n",
      "Validating URLs...\n",
      "\n",
      "Processing completed.\n",
      "-------------------------------- \n",
      "\n",
      "Starting URL reconstruction...\n"
     ]
    },
    {
     "name": "stderr",
     "output_type": "stream",
     "text": [
      "2024-02-21 15:12:52,504 - INFO - Processing URL 1/1: https://www.eversports.de/s/glow-sports-club\n"
     ]
    },
    {
     "name": "stdout",
     "output_type": "stream",
     "text": [
      "Converting to DataFrame...\n",
      "Validating URLs...\n"
     ]
    },
    {
     "name": "stderr",
     "output_type": "stream",
     "text": [
      "2024-02-21 15:12:53,833 - INFO - URL https://www.eversports.de/s/glow-sports-club is valid.\n"
     ]
    },
    {
     "name": "stdout",
     "output_type": "stream",
     "text": [
      "Scraping Pole Studio Data from https://www.eversports.de/s/glow-sports-club...\n"
     ]
    },
    {
     "name": "stderr",
     "output_type": "stream",
     "text": [
      "Processing URLs:   6%|▌         | 25/438 [00:59<15:54,  2.31s/it]"
     ]
    },
    {
     "name": "stdout",
     "output_type": "stream",
     "text": [
      "\n",
      "Processing completed.\n",
      "-------------------------------- \n",
      "\n",
      "2024-02-21 15:12:54 - INFO - Scraping Data from: https://www.eversports.de/s/glow-sports-club\n",
      "Pole Studio Data: 1 entries\n",
      "Starting URL reconstruction...\n"
     ]
    },
    {
     "name": "stderr",
     "output_type": "stream",
     "text": [
      "2024-02-21 15:12:56,331 - INFO - Processing URL 1/1: https://www.eversports.de/s/aerial-circus\n"
     ]
    },
    {
     "name": "stdout",
     "output_type": "stream",
     "text": [
      "Converting to DataFrame...\n",
      "Validating URLs...\n"
     ]
    },
    {
     "name": "stderr",
     "output_type": "stream",
     "text": [
      "2024-02-21 15:12:57,638 - INFO - URL https://www.eversports.de/s/aerial-circus is valid.\n"
     ]
    },
    {
     "name": "stdout",
     "output_type": "stream",
     "text": [
      "Scraping Pole Studio Data from https://www.eversports.de/s/aerial-circus...\n"
     ]
    },
    {
     "name": "stderr",
     "output_type": "stream",
     "text": [
      "Processing URLs:   6%|▌         | 26/438 [01:04<20:20,  2.96s/it]"
     ]
    },
    {
     "name": "stdout",
     "output_type": "stream",
     "text": [
      "\n",
      "Processing completed.\n",
      "-------------------------------- \n",
      "\n",
      "2024-02-21 15:12:58 - INFO - Scraping Data from: https://www.eversports.de/s/aerial-circus\n",
      "Pole Studio Data: 1 entries\n",
      "Starting URL reconstruction...\n"
     ]
    },
    {
     "name": "stderr",
     "output_type": "stream",
     "text": [
      "2024-02-21 15:13:00,067 - INFO - Processing URL 1/2: https://www.eversports.de/s/yoga-and-pole-art-by-selina\n"
     ]
    },
    {
     "name": "stdout",
     "output_type": "stream",
     "text": [
      "Converting to DataFrame...\n",
      "Validating URLs...\n"
     ]
    },
    {
     "name": "stderr",
     "output_type": "stream",
     "text": [
      "2024-02-21 15:13:01,427 - INFO - URL https://www.eversports.de/s/yoga-and-pole-art-by-selina is valid.\n",
      "2024-02-21 15:13:01,428 - INFO - Processing URL 2/2: https://www.eversports.de/sw/yoga-and-pole-art-by-selina\n",
      "2024-02-21 15:13:02,795 - INFO - URL https://www.eversports.de/sw/yoga-and-pole-art-by-selina is valid.\n"
     ]
    },
    {
     "name": "stdout",
     "output_type": "stream",
     "text": [
      "Scraping Pole Studio Data from https://www.eversports.de/s/yoga-and-pole-art-by-selina...\n",
      "Scraping Workshops Data from https://www.eversports.de/sw/yoga-and-pole-art-by-selina...\n",
      "Scraping Workshop Details from https://www.eversports.de/e/workshop/p_eKWTW...\n",
      "Scraping Workshop Details from https://www.eversports.de/e/workshop/1PmB24I...\n",
      "Scraping Workshop Details from https://www.eversports.de/e/workshop/Zk4neM3...\n",
      "Scraping Workshop Details from https://www.eversports.de/e/workshop/VnmCBGD...\n",
      "Scraping Workshop Details from https://www.eversports.de/e/workshop/qdYG4WC...\n",
      "Scraping Workshop Details from https://www.eversports.de/e/workshop/M4MjCdo...\n",
      "Scraping Workshop Details from https://www.eversports.de/e/workshop/bi8m5zs...\n",
      "Scraping Workshop Details from https://www.eversports.de/e/workshop/B_H90J1...\n",
      "Scraping Workshop Details from https://www.eversports.de/e/workshop/ccLkJAE...\n"
     ]
    },
    {
     "name": "stderr",
     "output_type": "stream",
     "text": [
      "Processing URLs:   6%|▌         | 27/438 [01:22<51:43,  7.55s/it]"
     ]
    },
    {
     "name": "stdout",
     "output_type": "stream",
     "text": [
      "\n",
      "Processing completed.\n",
      "-------------------------------- \n",
      "\n",
      "2024-02-21 15:13:16 - INFO - Scraping Data from: https://www.eversports.de/s/yoga-and-pole-art-by-selina\n",
      "Pole Studio Data: 1 entries\n",
      "2024-02-21 15:13:16 - INFO - Scraping Data from: https://www.eversports.de/s/yoga-and-pole-art-by-selina\n",
      "Workshops Data: 9 entries\n",
      "2024-02-21 15:13:16 - INFO - Scraping Data from: https://www.eversports.de/s/yoga-and-pole-art-by-selina\n",
      "Workshop Details: 9 entries\n",
      "Starting URL reconstruction...\n"
     ]
    },
    {
     "name": "stderr",
     "output_type": "stream",
     "text": [
      "Processing URLs:   6%|▋         | 28/438 [01:23<38:44,  5.67s/it]"
     ]
    },
    {
     "name": "stdout",
     "output_type": "stream",
     "text": [
      "Error during HTTP request: 404 Client Error: Not Found for url: https://www.eversports.de/s/dance-department\n",
      "Converting to DataFrame...\n",
      "Validating URLs...\n",
      "\n",
      "Processing completed.\n",
      "-------------------------------- \n",
      "\n",
      "Starting URL reconstruction...\n"
     ]
    },
    {
     "name": "stderr",
     "output_type": "stream",
     "text": [
      "Processing URLs:   7%|▋         | 29/438 [01:25<29:44,  4.36s/it]"
     ]
    },
    {
     "name": "stdout",
     "output_type": "stream",
     "text": [
      "Error during HTTP request: 404 Client Error: Not Found for url: https://www.eversports.de/s/pole-position-studio\n",
      "Converting to DataFrame...\n",
      "Validating URLs...\n",
      "\n",
      "Processing completed.\n",
      "-------------------------------- \n",
      "\n",
      "Starting URL reconstruction...\n"
     ]
    },
    {
     "name": "stderr",
     "output_type": "stream",
     "text": [
      "2024-02-21 15:13:21,195 - INFO - Processing URL 1/1: https://www.eversports.de/s/the-supergirl-studio\n"
     ]
    },
    {
     "name": "stdout",
     "output_type": "stream",
     "text": [
      "Converting to DataFrame...\n",
      "Validating URLs...\n"
     ]
    },
    {
     "name": "stderr",
     "output_type": "stream",
     "text": [
      "2024-02-21 15:13:24,056 - INFO - URL https://www.eversports.de/s/the-supergirl-studio is valid.\n"
     ]
    },
    {
     "name": "stdout",
     "output_type": "stream",
     "text": [
      "Scraping Pole Studio Data from https://www.eversports.de/s/the-supergirl-studio...\n"
     ]
    },
    {
     "name": "stderr",
     "output_type": "stream",
     "text": [
      "Processing URLs:   7%|▋         | 30/438 [01:30<30:55,  4.55s/it]"
     ]
    },
    {
     "name": "stdout",
     "output_type": "stream",
     "text": [
      "\n",
      "Processing completed.\n",
      "-------------------------------- \n",
      "\n",
      "2024-02-21 15:13:24 - INFO - Scraping Data from: https://www.eversports.de/s/the-supergirl-studio\n",
      "Pole Studio Data: 1 entries\n",
      "Starting URL reconstruction...\n"
     ]
    },
    {
     "name": "stderr",
     "output_type": "stream",
     "text": [
      "Processing URLs:   7%|▋         | 31/438 [01:31<23:56,  3.53s/it]"
     ]
    },
    {
     "name": "stdout",
     "output_type": "stream",
     "text": [
      "Error during HTTP request: 404 Client Error: Not Found for url: https://www.eversports.de/s/pole-yourself\n",
      "Converting to DataFrame...\n",
      "Validating URLs...\n",
      "\n",
      "Processing completed.\n",
      "-------------------------------- \n",
      "\n",
      "Starting URL reconstruction...\n"
     ]
    },
    {
     "name": "stderr",
     "output_type": "stream",
     "text": [
      "2024-02-21 15:13:27,008 - INFO - Processing URL 1/1: https://www.eversports.de/s/flow-academy\n"
     ]
    },
    {
     "name": "stdout",
     "output_type": "stream",
     "text": [
      "Converting to DataFrame...\n",
      "Validating URLs...\n"
     ]
    },
    {
     "name": "stderr",
     "output_type": "stream",
     "text": [
      "2024-02-21 15:13:28,311 - INFO - URL https://www.eversports.de/s/flow-academy is valid.\n"
     ]
    },
    {
     "name": "stdout",
     "output_type": "stream",
     "text": [
      "Scraping Pole Studio Data from https://www.eversports.de/s/flow-academy...\n"
     ]
    },
    {
     "name": "stderr",
     "output_type": "stream",
     "text": [
      "Processing URLs:   7%|▋         | 32/438 [01:34<22:53,  3.38s/it]"
     ]
    },
    {
     "name": "stdout",
     "output_type": "stream",
     "text": [
      "\n",
      "Processing completed.\n",
      "-------------------------------- \n",
      "\n",
      "2024-02-21 15:13:28 - INFO - Scraping Data from: https://www.eversports.de/s/flow-academy\n",
      "Pole Studio Data: 1 entries\n",
      "Starting URL reconstruction...\n"
     ]
    },
    {
     "name": "stderr",
     "output_type": "stream",
     "text": [
      "Processing URLs:   8%|▊         | 33/438 [01:38<25:11,  3.73s/it]"
     ]
    },
    {
     "name": "stdout",
     "output_type": "stream",
     "text": [
      "Error during HTTP request: Exceeded 30 redirects.\n",
      "Converting to DataFrame...\n",
      "Validating URLs...\n",
      "\n",
      "Processing completed.\n",
      "-------------------------------- \n",
      "\n",
      "Starting URL reconstruction...\n"
     ]
    },
    {
     "name": "stderr",
     "output_type": "stream",
     "text": [
      "Processing URLs:   8%|▊         | 34/438 [01:40<20:02,  2.98s/it]"
     ]
    },
    {
     "name": "stdout",
     "output_type": "stream",
     "text": [
      "Error during HTTP request: 404 Client Error: Not Found for url: https://www.eversports.de/s/vertical-moves---pole-dance-%26-sports\n",
      "Converting to DataFrame...\n",
      "Validating URLs...\n",
      "\n",
      "Processing completed.\n",
      "-------------------------------- \n",
      "\n",
      "Starting URL reconstruction...\n"
     ]
    },
    {
     "name": "stderr",
     "output_type": "stream",
     "text": [
      "Processing URLs:   8%|▊         | 35/438 [01:41<16:29,  2.46s/it]"
     ]
    },
    {
     "name": "stdout",
     "output_type": "stream",
     "text": [
      "Error during HTTP request: 404 Client Error: Not Found for url: https://www.eversports.de/s/dance-%26-pole-leverkusen\n",
      "Converting to DataFrame...\n",
      "Validating URLs...\n",
      "\n",
      "Processing completed.\n",
      "-------------------------------- \n",
      "\n",
      "Starting URL reconstruction...\n"
     ]
    },
    {
     "name": "stderr",
     "output_type": "stream",
     "text": [
      "Processing URLs:   8%|▊         | 36/438 [01:45<19:23,  2.90s/it]"
     ]
    },
    {
     "name": "stdout",
     "output_type": "stream",
     "text": [
      "Error during HTTP request: Exceeded 30 redirects.\n",
      "Converting to DataFrame...\n",
      "Validating URLs...\n",
      "\n",
      "Processing completed.\n",
      "-------------------------------- \n",
      "\n",
      "Starting URL reconstruction...\n"
     ]
    },
    {
     "name": "stderr",
     "output_type": "stream",
     "text": [
      "2024-02-21 15:13:40,930 - INFO - Processing URL 1/1: https://www.eversports.de/s/pole-dance-balance\n"
     ]
    },
    {
     "name": "stdout",
     "output_type": "stream",
     "text": [
      "Converting to DataFrame...\n",
      "Validating URLs...\n"
     ]
    },
    {
     "name": "stderr",
     "output_type": "stream",
     "text": [
      "2024-02-21 15:13:42,261 - INFO - URL https://www.eversports.de/s/pole-dance-balance is valid.\n"
     ]
    },
    {
     "name": "stdout",
     "output_type": "stream",
     "text": [
      "Scraping Pole Studio Data from https://www.eversports.de/s/pole-dance-balance...\n",
      "\n",
      "Processing completed.\n",
      "-------------------------------- \n",
      "\n"
     ]
    },
    {
     "name": "stderr",
     "output_type": "stream",
     "text": [
      "Processing URLs:   8%|▊         | 37/438 [01:48<19:18,  2.89s/it]"
     ]
    },
    {
     "name": "stdout",
     "output_type": "stream",
     "text": [
      "2024-02-21 15:13:42 - INFO - Scraping Data from: https://www.eversports.de/s/pole-dance-balance\n",
      "Pole Studio Data: 1 entries\n",
      "Starting URL reconstruction...\n"
     ]
    },
    {
     "name": "stderr",
     "output_type": "stream",
     "text": [
      "2024-02-21 15:13:43,829 - INFO - Processing URL 1/2: https://www.eversports.de/s/cheesy-heaven\n"
     ]
    },
    {
     "name": "stdout",
     "output_type": "stream",
     "text": [
      "Converting to DataFrame...\n",
      "Validating URLs...\n"
     ]
    },
    {
     "name": "stderr",
     "output_type": "stream",
     "text": [
      "2024-02-21 15:13:45,230 - INFO - URL https://www.eversports.de/s/cheesy-heaven is valid.\n",
      "2024-02-21 15:13:45,231 - INFO - Processing URL 2/2: https://www.eversports.de/sw/cheesy-heaven\n",
      "2024-02-21 15:13:46,542 - INFO - URL https://www.eversports.de/sw/cheesy-heaven is valid.\n"
     ]
    },
    {
     "name": "stdout",
     "output_type": "stream",
     "text": [
      "Scraping Pole Studio Data from https://www.eversports.de/s/cheesy-heaven...\n",
      "Scraping Workshops Data from https://www.eversports.de/sw/cheesy-heaven...\n",
      "Scraping Workshop Details from https://www.eversports.de/e/workshop/GZK4IEa...\n",
      "Scraping Workshop Details from https://www.eversports.de/e/workshop/JPGCNnm...\n",
      "Scraping Workshop Details from https://www.eversports.de/e/workshop/Uh-BQlV...\n",
      "Scraping Workshop Details from https://www.eversports.de/e/workshop/ff2oqQO...\n",
      "Scraping Workshop Details from https://www.eversports.de/e/workshop/eHIKSwb...\n",
      "Scraping Workshop Details from https://www.eversports.de/e/workshop/nXOy05m...\n",
      "Scraping Workshop Details from https://www.eversports.de/e/workshop/-4WimeZ...\n"
     ]
    },
    {
     "name": "stderr",
     "output_type": "stream",
     "text": [
      "Processing URLs:   9%|▊         | 38/438 [02:04<46:06,  6.92s/it]"
     ]
    },
    {
     "name": "stdout",
     "output_type": "stream",
     "text": [
      "\n",
      "Processing completed.\n",
      "-------------------------------- \n",
      "\n",
      "2024-02-21 15:13:58 - INFO - Scraping Data from: https://www.eversports.de/s/cheesy-heaven\n",
      "Pole Studio Data: 1 entries\n",
      "2024-02-21 15:13:58 - INFO - Scraping Data from: https://www.eversports.de/s/cheesy-heaven\n",
      "Workshops Data: 7 entries\n",
      "2024-02-21 15:13:58 - INFO - Scraping Data from: https://www.eversports.de/s/cheesy-heaven\n",
      "Workshop Details: 7 entries\n",
      "Starting URL reconstruction...\n"
     ]
    },
    {
     "name": "stderr",
     "output_type": "stream",
     "text": [
      "2024-02-21 15:14:00,257 - INFO - Processing URL 1/1: https://www.eversports.de/s/polefly-academy\n"
     ]
    },
    {
     "name": "stdout",
     "output_type": "stream",
     "text": [
      "Converting to DataFrame...\n",
      "Validating URLs...\n"
     ]
    },
    {
     "name": "stderr",
     "output_type": "stream",
     "text": [
      "2024-02-21 15:14:15,795 - INFO - URL https://www.eversports.de/s/polefly-academy is valid.\n"
     ]
    },
    {
     "name": "stdout",
     "output_type": "stream",
     "text": [
      "Scraping Pole Studio Data from https://www.eversports.de/s/polefly-academy...\n"
     ]
    },
    {
     "name": "stderr",
     "output_type": "stream",
     "text": [
      "Processing URLs:   9%|▉         | 39/438 [02:22<1:08:35, 10.31s/it]"
     ]
    },
    {
     "name": "stdout",
     "output_type": "stream",
     "text": [
      "\n",
      "Processing completed.\n",
      "-------------------------------- \n",
      "\n",
      "2024-02-21 15:14:17 - INFO - Scraping Data from: https://www.eversports.de/s/polefly-academy\n",
      "Pole Studio Data: 1 entries\n",
      "Starting URL reconstruction...\n"
     ]
    },
    {
     "name": "stderr",
     "output_type": "stream",
     "text": [
      "Processing URLs:   9%|▉         | 40/438 [02:24<52:10,  7.86s/it]  "
     ]
    },
    {
     "name": "stdout",
     "output_type": "stream",
     "text": [
      "Error during HTTP request: 404 Client Error: Not Found for url: https://www.eversports.de/s/vi-dance-essen\n",
      "Converting to DataFrame...\n",
      "Validating URLs...\n",
      "\n",
      "Processing completed.\n",
      "-------------------------------- \n",
      "\n",
      "Starting URL reconstruction...\n"
     ]
    },
    {
     "name": "stderr",
     "output_type": "stream",
     "text": [
      "2024-02-21 15:14:20,645 - INFO - Processing URL 1/1: https://www.eversports.de/s/firstsports-polefitness\n"
     ]
    },
    {
     "name": "stdout",
     "output_type": "stream",
     "text": [
      "Converting to DataFrame...\n",
      "Validating URLs...\n"
     ]
    },
    {
     "name": "stderr",
     "output_type": "stream",
     "text": [
      "2024-02-21 15:14:22,218 - INFO - URL https://www.eversports.de/s/firstsports-polefitness is valid.\n"
     ]
    },
    {
     "name": "stdout",
     "output_type": "stream",
     "text": [
      "Scraping Pole Studio Data from https://www.eversports.de/s/firstsports-polefitness...\n"
     ]
    },
    {
     "name": "stderr",
     "output_type": "stream",
     "text": [
      "Processing URLs:   9%|▉         | 41/438 [02:28<43:18,  6.54s/it]"
     ]
    },
    {
     "name": "stdout",
     "output_type": "stream",
     "text": [
      "\n",
      "Processing completed.\n",
      "-------------------------------- \n",
      "\n",
      "2024-02-21 15:14:22 - INFO - Scraping Data from: https://www.eversports.de/s/firstsports-polefitness\n",
      "Pole Studio Data: 1 entries\n",
      "Starting URL reconstruction...\n"
     ]
    },
    {
     "name": "stderr",
     "output_type": "stream",
     "text": [
      "Processing URLs:  10%|▉         | 42/438 [02:31<37:20,  5.66s/it]"
     ]
    },
    {
     "name": "stdout",
     "output_type": "stream",
     "text": [
      "Error during HTTP request: Exceeded 30 redirects.\n",
      "Converting to DataFrame...\n",
      "Validating URLs...\n",
      "\n",
      "Processing completed.\n",
      "-------------------------------- \n",
      "\n",
      "Starting URL reconstruction...\n"
     ]
    },
    {
     "name": "stderr",
     "output_type": "stream",
     "text": [
      "Processing URLs:  10%|▉         | 43/438 [02:33<29:56,  4.55s/it]"
     ]
    },
    {
     "name": "stdout",
     "output_type": "stream",
     "text": [
      "Error during HTTP request: 404 Client Error: Not Found for url: https://www.eversports.de/s/move-on!-dance-studio-%26-polemotions\n",
      "Converting to DataFrame...\n",
      "Validating URLs...\n",
      "\n",
      "Processing completed.\n",
      "-------------------------------- \n",
      "\n",
      "Starting URL reconstruction...\n"
     ]
    },
    {
     "name": "stderr",
     "output_type": "stream",
     "text": [
      "2024-02-21 15:14:30,610 - INFO - Processing URL 1/1: https://www.eversports.de/s/divapole\n"
     ]
    },
    {
     "name": "stdout",
     "output_type": "stream",
     "text": [
      "Converting to DataFrame...\n",
      "Validating URLs...\n"
     ]
    },
    {
     "name": "stderr",
     "output_type": "stream",
     "text": [
      "2024-02-21 15:14:31,917 - INFO - URL https://www.eversports.de/s/divapole is valid.\n"
     ]
    },
    {
     "name": "stdout",
     "output_type": "stream",
     "text": [
      "Scraping Pole Studio Data from https://www.eversports.de/s/divapole...\n"
     ]
    },
    {
     "name": "stderr",
     "output_type": "stream",
     "text": [
      "Processing URLs:  10%|█         | 44/438 [02:37<28:51,  4.39s/it]"
     ]
    },
    {
     "name": "stdout",
     "output_type": "stream",
     "text": [
      "\n",
      "Processing completed.\n",
      "-------------------------------- \n",
      "\n",
      "2024-02-21 15:14:32 - INFO - Scraping Data from: https://www.eversports.de/s/divapole\n",
      "Pole Studio Data: 1 entries\n",
      "Starting URL reconstruction...\n"
     ]
    },
    {
     "name": "stderr",
     "output_type": "stream",
     "text": [
      "2024-02-21 15:14:34,098 - INFO - Processing URL 1/1: https://www.eversports.de/s/studio-nienke\n"
     ]
    },
    {
     "name": "stdout",
     "output_type": "stream",
     "text": [
      "Converting to DataFrame...\n",
      "Validating URLs...\n"
     ]
    },
    {
     "name": "stderr",
     "output_type": "stream",
     "text": [
      "2024-02-21 15:14:35,603 - INFO - URL https://www.eversports.de/s/studio-nienke is valid.\n"
     ]
    },
    {
     "name": "stdout",
     "output_type": "stream",
     "text": [
      "Scraping Pole Studio Data from https://www.eversports.de/s/studio-nienke...\n"
     ]
    },
    {
     "name": "stderr",
     "output_type": "stream",
     "text": [
      "Processing URLs:  10%|█         | 45/438 [02:41<27:29,  4.20s/it]"
     ]
    },
    {
     "name": "stdout",
     "output_type": "stream",
     "text": [
      "\n",
      "Processing completed.\n",
      "-------------------------------- \n",
      "\n",
      "2024-02-21 15:14:35 - INFO - Scraping Data from: https://www.eversports.de/s/studio-nienke\n",
      "Pole Studio Data: 1 entries\n",
      "Starting URL reconstruction...\n"
     ]
    },
    {
     "name": "stderr",
     "output_type": "stream",
     "text": [
      "Processing URLs:  11%|█         | 46/438 [02:42<21:33,  3.30s/it]"
     ]
    },
    {
     "name": "stdout",
     "output_type": "stream",
     "text": [
      "Error during HTTP request: 404 Client Error: Not Found for url: https://www.eversports.de/s/pole-dance-stuttgart\n",
      "Converting to DataFrame...\n",
      "Validating URLs...\n",
      "\n",
      "Processing completed.\n",
      "-------------------------------- \n",
      "\n",
      "Starting URL reconstruction...\n"
     ]
    },
    {
     "name": "stderr",
     "output_type": "stream",
     "text": [
      "Processing URLs:  11%|█         | 47/438 [02:44<17:49,  2.74s/it]"
     ]
    },
    {
     "name": "stdout",
     "output_type": "stream",
     "text": [
      "Error during HTTP request: 404 Client Error: Not Found for url: https://www.eversports.de/s/verticalarts-pole-%26-aerial-fitness\n",
      "Converting to DataFrame...\n",
      "Validating URLs...\n",
      "\n",
      "Processing completed.\n",
      "-------------------------------- \n",
      "\n",
      "Starting URL reconstruction...\n"
     ]
    },
    {
     "name": "stderr",
     "output_type": "stream",
     "text": [
      "2024-02-21 15:14:40,361 - INFO - Processing URL 1/2: https://www.eversports.de/s/pole-dance-factory-amsterdam-oost\n"
     ]
    },
    {
     "name": "stdout",
     "output_type": "stream",
     "text": [
      "Converting to DataFrame...\n",
      "Validating URLs...\n"
     ]
    },
    {
     "name": "stderr",
     "output_type": "stream",
     "text": [
      "2024-02-21 15:14:41,943 - INFO - URL https://www.eversports.de/s/pole-dance-factory-amsterdam-oost is valid.\n",
      "2024-02-21 15:14:41,943 - INFO - Processing URL 2/2: https://www.eversports.de/sw/pole-dance-factory-amsterdam-oost\n",
      "2024-02-21 15:14:44,246 - INFO - URL https://www.eversports.de/sw/pole-dance-factory-amsterdam-oost is not valid.\n"
     ]
    },
    {
     "name": "stdout",
     "output_type": "stream",
     "text": [
      "Scraping Pole Studio Data from https://www.eversports.de/s/pole-dance-factory-amsterdam-oost...\n"
     ]
    },
    {
     "name": "stderr",
     "output_type": "stream",
     "text": [
      "Processing URLs:  11%|█         | 48/438 [02:50<24:18,  3.74s/it]"
     ]
    },
    {
     "name": "stdout",
     "output_type": "stream",
     "text": [
      "\n",
      "Processing completed.\n",
      "-------------------------------- \n",
      "\n",
      "2024-02-21 15:14:44 - INFO - Scraping Data from: https://www.eversports.de/s/pole-dance-factory-amsterdam-oost\n",
      "Pole Studio Data: 1 entries\n",
      "Starting URL reconstruction...\n"
     ]
    },
    {
     "name": "stderr",
     "output_type": "stream",
     "text": [
      "Processing URLs:  11%|█         | 49/438 [02:51<19:29,  3.01s/it]"
     ]
    },
    {
     "name": "stdout",
     "output_type": "stream",
     "text": [
      "Error during HTTP request: 404 Client Error: Not Found for url: https://www.eversports.de/s/stretch-%26-pole\n",
      "Converting to DataFrame...\n",
      "Validating URLs...\n",
      "\n",
      "Processing completed.\n",
      "-------------------------------- \n",
      "\n",
      "Starting URL reconstruction...\n"
     ]
    },
    {
     "name": "stderr",
     "output_type": "stream",
     "text": [
      "Processing URLs:  11%|█▏        | 50/438 [02:53<16:23,  2.54s/it]"
     ]
    },
    {
     "name": "stdout",
     "output_type": "stream",
     "text": [
      "Error during HTTP request: 404 Client Error: Not Found for url: https://www.eversports.de/s/poledance-worms\n",
      "Converting to DataFrame...\n",
      "Validating URLs...\n",
      "\n",
      "Processing completed.\n",
      "-------------------------------- \n",
      "\n",
      "Starting URL reconstruction...\n"
     ]
    },
    {
     "name": "stderr",
     "output_type": "stream",
     "text": [
      "2024-02-21 15:14:49,445 - INFO - Processing URL 1/2: https://www.eversports.de/s/pole-formance\n"
     ]
    },
    {
     "name": "stdout",
     "output_type": "stream",
     "text": [
      "Converting to DataFrame...\n",
      "Validating URLs...\n"
     ]
    },
    {
     "name": "stderr",
     "output_type": "stream",
     "text": [
      "2024-02-21 15:14:50,699 - INFO - URL https://www.eversports.de/s/pole-formance is valid.\n",
      "2024-02-21 15:14:50,701 - INFO - Processing URL 2/2: https://www.eversports.de/sw/pole-formance\n",
      "2024-02-21 15:14:52,145 - INFO - URL https://www.eversports.de/sw/pole-formance is valid.\n"
     ]
    },
    {
     "name": "stdout",
     "output_type": "stream",
     "text": [
      "Scraping Pole Studio Data from https://www.eversports.de/s/pole-formance...\n",
      "Scraping Workshops Data from https://www.eversports.de/sw/pole-formance...\n",
      "Scraping Workshop Details from https://www.eversports.de/e/workshop/KDYKHQf...\n",
      "Scraping Workshop Details from https://www.eversports.de/e/workshop/BjFbe-z...\n",
      "Scraping Workshop Details from https://www.eversports.de/e/workshop/U58r9aD...\n"
     ]
    },
    {
     "name": "stderr",
     "output_type": "stream",
     "text": [
      "Processing URLs:  12%|█▏        | 51/438 [03:05<35:44,  5.54s/it]"
     ]
    },
    {
     "name": "stdout",
     "output_type": "stream",
     "text": [
      "\n",
      "Processing completed.\n",
      "-------------------------------- \n",
      "\n",
      "2024-02-21 15:14:59 - INFO - Scraping Data from: https://www.eversports.de/s/pole-formance\n",
      "Pole Studio Data: 1 entries\n",
      "2024-02-21 15:14:59 - INFO - Scraping Data from: https://www.eversports.de/s/pole-formance\n",
      "Workshops Data: 3 entries\n",
      "2024-02-21 15:14:59 - INFO - Scraping Data from: https://www.eversports.de/s/pole-formance\n",
      "Workshop Details: 3 entries\n",
      "Starting URL reconstruction...\n"
     ]
    },
    {
     "name": "stderr",
     "output_type": "stream",
     "text": [
      "Processing URLs:  12%|█▏        | 52/438 [03:06<27:31,  4.28s/it]"
     ]
    },
    {
     "name": "stdout",
     "output_type": "stream",
     "text": [
      "Error during HTTP request: 404 Client Error: Not Found for url: https://www.eversports.de/s/vertical-kay-poledance-%26-aerialarts-studio\n",
      "Converting to DataFrame...\n",
      "Validating URLs...\n",
      "\n",
      "Processing completed.\n",
      "-------------------------------- \n",
      "\n",
      "Starting URL reconstruction...\n"
     ]
    },
    {
     "name": "stderr",
     "output_type": "stream",
     "text": [
      "Processing URLs:  12%|█▏        | 53/438 [03:10<26:31,  4.13s/it]"
     ]
    },
    {
     "name": "stdout",
     "output_type": "stream",
     "text": [
      "Error during HTTP request: Exceeded 30 redirects.\n",
      "Converting to DataFrame...\n",
      "Validating URLs...\n",
      "\n",
      "Processing completed.\n",
      "-------------------------------- \n",
      "\n",
      "Starting URL reconstruction...\n"
     ]
    },
    {
     "name": "stderr",
     "output_type": "stream",
     "text": [
      "Processing URLs:  12%|█▏        | 54/438 [03:12<21:20,  3.34s/it]"
     ]
    },
    {
     "name": "stdout",
     "output_type": "stream",
     "text": [
      "Error during HTTP request: 404 Client Error: Not Found for url: https://www.eversports.de/s/home-of-pole\n",
      "Converting to DataFrame...\n",
      "Validating URLs...\n",
      "\n",
      "Processing completed.\n",
      "-------------------------------- \n",
      "\n",
      "Starting URL reconstruction...\n"
     ]
    },
    {
     "name": "stderr",
     "output_type": "stream",
     "text": [
      "Processing URLs:  13%|█▎        | 55/438 [03:13<17:18,  2.71s/it]"
     ]
    },
    {
     "name": "stdout",
     "output_type": "stream",
     "text": [
      "Error during HTTP request: 404 Client Error: Not Found for url: https://www.eversports.de/s/dance-%26-pole-deltawerk\n",
      "Converting to DataFrame...\n",
      "Validating URLs...\n",
      "\n",
      "Processing completed.\n",
      "-------------------------------- \n",
      "\n",
      "Starting URL reconstruction...\n"
     ]
    },
    {
     "name": "stderr",
     "output_type": "stream",
     "text": [
      "Processing URLs:  13%|█▎        | 56/438 [03:14<14:29,  2.28s/it]"
     ]
    },
    {
     "name": "stdout",
     "output_type": "stream",
     "text": [
      "Error during HTTP request: 404 Client Error: Not Found for url: https://www.eversports.de/s/pole-place-imst\n",
      "Converting to DataFrame...\n",
      "Validating URLs...\n",
      "\n",
      "Processing completed.\n",
      "-------------------------------- \n",
      "\n",
      "Starting URL reconstruction...\n"
     ]
    },
    {
     "name": "stderr",
     "output_type": "stream",
     "text": [
      "2024-02-21 15:15:10,550 - INFO - Processing URL 1/2: https://www.eversports.de/s/pole-and-move-ludwigshafen\n"
     ]
    },
    {
     "name": "stdout",
     "output_type": "stream",
     "text": [
      "Converting to DataFrame...\n",
      "Validating URLs...\n"
     ]
    },
    {
     "name": "stderr",
     "output_type": "stream",
     "text": [
      "2024-02-21 15:15:12,032 - INFO - URL https://www.eversports.de/s/pole-and-move-ludwigshafen is valid.\n",
      "2024-02-21 15:15:12,033 - INFO - Processing URL 2/2: https://www.eversports.de/sw/pole-and-move-ludwigshafen\n",
      "2024-02-21 15:15:15,498 - INFO - URL https://www.eversports.de/sw/pole-and-move-ludwigshafen is valid.\n"
     ]
    },
    {
     "name": "stdout",
     "output_type": "stream",
     "text": [
      "Scraping Pole Studio Data from https://www.eversports.de/s/pole-and-move-ludwigshafen...\n",
      "Scraping Workshops Data from https://www.eversports.de/sw/pole-and-move-ludwigshafen...\n",
      "Scraping Workshop Details from https://www.eversports.de/e/workshop/QSBryP0...\n",
      "Scraping Workshop Details from https://www.eversports.de/e/workshop/VBYd7ZF...\n",
      "Scraping Workshop Details from https://www.eversports.de/e/workshop/zTbGfLi...\n",
      "Scraping Workshop Details from https://www.eversports.de/e/workshop/fUoSQuY...\n",
      "Scraping Workshop Details from https://www.eversports.de/e/workshop/Bq8SWzC...\n",
      "Scraping Workshop Details from https://www.eversports.de/e/workshop/ePH29kU...\n",
      "Scraping Workshop Details from https://www.eversports.de/e/workshop/fMcJ4cb...\n",
      "Scraping Workshop Details from https://www.eversports.de/e/workshop/ixC-WNj...\n"
     ]
    },
    {
     "name": "stderr",
     "output_type": "stream",
     "text": [
      "Processing URLs:  13%|█▎        | 57/438 [03:37<53:04,  8.36s/it]"
     ]
    },
    {
     "name": "stdout",
     "output_type": "stream",
     "text": [
      "\n",
      "Processing completed.\n",
      "-------------------------------- \n",
      "\n",
      "2024-02-21 15:15:31 - INFO - Scraping Data from: https://www.eversports.de/s/pole-and-move-ludwigshafen\n",
      "Pole Studio Data: 1 entries\n",
      "2024-02-21 15:15:31 - INFO - Scraping Data from: https://www.eversports.de/s/pole-and-move-ludwigshafen\n",
      "Workshops Data: 8 entries\n",
      "2024-02-21 15:15:31 - INFO - Scraping Data from: https://www.eversports.de/s/pole-and-move-ludwigshafen\n",
      "Workshop Details: 8 entries\n",
      "Starting URL reconstruction...\n"
     ]
    },
    {
     "name": "stderr",
     "output_type": "stream",
     "text": [
      "Processing URLs:  13%|█▎        | 58/438 [03:38<39:35,  6.25s/it]"
     ]
    },
    {
     "name": "stdout",
     "output_type": "stream",
     "text": [
      "Error during HTTP request: 404 Client Error: Not Found for url: https://www.eversports.de/s/aerial-balance\n",
      "Converting to DataFrame...\n",
      "Validating URLs...\n",
      "\n",
      "Processing completed.\n",
      "-------------------------------- \n",
      "\n",
      "Starting URL reconstruction...\n"
     ]
    },
    {
     "name": "stderr",
     "output_type": "stream",
     "text": [
      "2024-02-21 15:15:34,459 - INFO - Processing URL 1/2: https://www.eversports.de/s/body-meets-soul-leipzig\n"
     ]
    },
    {
     "name": "stdout",
     "output_type": "stream",
     "text": [
      "Converting to DataFrame...\n",
      "Validating URLs...\n"
     ]
    },
    {
     "name": "stderr",
     "output_type": "stream",
     "text": [
      "2024-02-21 15:15:36,352 - INFO - URL https://www.eversports.de/s/body-meets-soul-leipzig is valid.\n",
      "2024-02-21 15:15:36,354 - INFO - Processing URL 2/2: https://www.eversports.de/sw/body-meets-soul-leipzig\n",
      "2024-02-21 15:15:37,868 - INFO - URL https://www.eversports.de/sw/body-meets-soul-leipzig is valid.\n"
     ]
    },
    {
     "name": "stdout",
     "output_type": "stream",
     "text": [
      "Scraping Pole Studio Data from https://www.eversports.de/s/body-meets-soul-leipzig...\n",
      "Scraping Workshops Data from https://www.eversports.de/sw/body-meets-soul-leipzig...\n",
      "Scraping Workshop Details from https://www.eversports.de/e/workshop/uO9N1VQ...\n"
     ]
    },
    {
     "name": "stderr",
     "output_type": "stream",
     "text": [
      "Processing URLs:  13%|█▎        | 59/438 [03:47<44:03,  6.98s/it]"
     ]
    },
    {
     "name": "stdout",
     "output_type": "stream",
     "text": [
      "\n",
      "Processing completed.\n",
      "-------------------------------- \n",
      "\n",
      "2024-02-21 15:15:41 - INFO - Scraping Data from: https://www.eversports.de/s/body-meets-soul-leipzig\n",
      "Pole Studio Data: 1 entries\n",
      "2024-02-21 15:15:41 - INFO - Scraping Data from: https://www.eversports.de/s/body-meets-soul-leipzig\n",
      "Workshops Data: 1 entries\n",
      "2024-02-21 15:15:41 - INFO - Scraping Data from: https://www.eversports.de/s/body-meets-soul-leipzig\n",
      "Workshop Details: 1 entries\n",
      "Starting URL reconstruction...\n"
     ]
    },
    {
     "name": "stderr",
     "output_type": "stream",
     "text": [
      "2024-02-21 15:15:43,328 - INFO - Processing URL 1/1: https://www.eversports.de/s/upsidedown-studio-bad-homburg\n"
     ]
    },
    {
     "name": "stdout",
     "output_type": "stream",
     "text": [
      "Converting to DataFrame...\n",
      "Validating URLs...\n"
     ]
    },
    {
     "name": "stderr",
     "output_type": "stream",
     "text": [
      "2024-02-21 15:15:45,468 - INFO - URL https://www.eversports.de/s/upsidedown-studio-bad-homburg is valid.\n"
     ]
    },
    {
     "name": "stdout",
     "output_type": "stream",
     "text": [
      "Scraping Pole Studio Data from https://www.eversports.de/s/upsidedown-studio-bad-homburg...\n"
     ]
    },
    {
     "name": "stderr",
     "output_type": "stream",
     "text": [
      "Processing URLs:  14%|█▎        | 60/438 [03:52<40:11,  6.38s/it]"
     ]
    },
    {
     "name": "stdout",
     "output_type": "stream",
     "text": [
      "\n",
      "Processing completed.\n",
      "-------------------------------- \n",
      "\n",
      "2024-02-21 15:15:46 - INFO - Scraping Data from: https://www.eversports.de/s/upsidedown-studio-bad-homburg\n",
      "Pole Studio Data: 1 entries\n",
      "Starting URL reconstruction...\n"
     ]
    },
    {
     "name": "stderr",
     "output_type": "stream",
     "text": [
      "Processing URLs:  14%|█▍        | 61/438 [03:53<30:26,  4.85s/it]"
     ]
    },
    {
     "name": "stdout",
     "output_type": "stream",
     "text": [
      "Error during HTTP request: 404 Client Error: Not Found for url: https://www.eversports.de/s/orbit-studio\n",
      "Converting to DataFrame...\n",
      "Validating URLs...\n",
      "\n",
      "Processing completed.\n",
      "-------------------------------- \n",
      "\n",
      "Starting URL reconstruction...\n"
     ]
    },
    {
     "name": "stderr",
     "output_type": "stream",
     "text": [
      "2024-02-21 15:15:49,335 - INFO - Processing URL 1/2: https://www.eversports.de/s/poleathletix\n"
     ]
    },
    {
     "name": "stdout",
     "output_type": "stream",
     "text": [
      "Converting to DataFrame...\n",
      "Validating URLs...\n"
     ]
    },
    {
     "name": "stderr",
     "output_type": "stream",
     "text": [
      "2024-02-21 15:15:50,656 - INFO - URL https://www.eversports.de/s/poleathletix is valid.\n",
      "2024-02-21 15:15:50,658 - INFO - Processing URL 2/2: https://www.eversports.de/sw/poleathletix\n",
      "2024-02-21 15:15:52,178 - INFO - URL https://www.eversports.de/sw/poleathletix is valid.\n"
     ]
    },
    {
     "name": "stdout",
     "output_type": "stream",
     "text": [
      "Scraping Pole Studio Data from https://www.eversports.de/s/poleathletix...\n",
      "Scraping Workshops Data from https://www.eversports.de/sw/poleathletix...\n",
      "Scraping Workshop Details from https://www.eversports.de/e/workshop/fWcLCKr...\n",
      "Scraping Workshop Details from https://www.eversports.de/e/workshop/wpcpX0U...\n",
      "Scraping Workshop Details from https://www.eversports.de/e/workshop/csrqGyT...\n",
      "Scraping Workshop Details from https://www.eversports.de/e/workshop/B5-Mkby...\n",
      "Scraping Workshop Details from https://www.eversports.de/e/workshop/U0ioQ4p...\n",
      "Scraping Workshop Details from https://www.eversports.de/e/workshop/GM0YnVC...\n",
      "Scraping Workshop Details from https://www.eversports.de/e/workshop/jad2gf2...\n",
      "Scraping Workshop Details from https://www.eversports.de/e/workshop/3qRUP97...\n",
      "Scraping Workshop Details from https://www.eversports.de/e/workshop/Q4B35ej...\n"
     ]
    },
    {
     "name": "stderr",
     "output_type": "stream",
     "text": [
      "Processing URLs:  14%|█▍        | 62/438 [04:13<58:02,  9.26s/it]"
     ]
    },
    {
     "name": "stdout",
     "output_type": "stream",
     "text": [
      "\n",
      "Processing completed.\n",
      "-------------------------------- \n",
      "\n",
      "2024-02-21 15:16:07 - INFO - Scraping Data from: https://www.eversports.de/s/poleathletix\n",
      "Pole Studio Data: 1 entries\n",
      "2024-02-21 15:16:07 - INFO - Scraping Data from: https://www.eversports.de/s/poleathletix\n",
      "Workshops Data: 9 entries\n",
      "2024-02-21 15:16:07 - INFO - Scraping Data from: https://www.eversports.de/s/poleathletix\n",
      "Workshop Details: 9 entries\n",
      "Starting URL reconstruction...\n"
     ]
    },
    {
     "name": "stderr",
     "output_type": "stream",
     "text": [
      "Processing URLs:  14%|█▍        | 63/438 [04:14<42:39,  6.83s/it]"
     ]
    },
    {
     "name": "stdout",
     "output_type": "stream",
     "text": [
      "Error during HTTP request: 404 Client Error: Not Found for url: https://www.eversports.de/s/drehmoment-pole.aerial.dance\n",
      "Converting to DataFrame...\n",
      "Validating URLs...\n",
      "\n",
      "Processing completed.\n",
      "-------------------------------- \n",
      "\n",
      "Starting URL reconstruction...\n"
     ]
    },
    {
     "name": "stderr",
     "output_type": "stream",
     "text": [
      "2024-02-21 15:16:10,296 - INFO - Processing URL 1/2: https://www.eversports.de/s/center-of-moving-arts\n"
     ]
    },
    {
     "name": "stdout",
     "output_type": "stream",
     "text": [
      "Converting to DataFrame...\n",
      "Validating URLs...\n"
     ]
    },
    {
     "name": "stderr",
     "output_type": "stream",
     "text": [
      "2024-02-21 15:16:11,780 - INFO - URL https://www.eversports.de/s/center-of-moving-arts is valid.\n",
      "2024-02-21 15:16:11,780 - INFO - Processing URL 2/2: https://www.eversports.de/sw/center-of-moving-arts\n",
      "2024-02-21 15:16:12,960 - INFO - URL https://www.eversports.de/sw/center-of-moving-arts is valid.\n"
     ]
    },
    {
     "name": "stdout",
     "output_type": "stream",
     "text": [
      "Scraping Pole Studio Data from https://www.eversports.de/s/center-of-moving-arts...\n",
      "Scraping Workshops Data from https://www.eversports.de/sw/center-of-moving-arts...\n",
      "Scraping Workshop Details from https://www.eversports.de/e/workshop/nXn3jc_...\n"
     ]
    },
    {
     "name": "stderr",
     "output_type": "stream",
     "text": [
      "Processing URLs:  15%|█▍        | 64/438 [04:21<43:35,  6.99s/it]"
     ]
    },
    {
     "name": "stdout",
     "output_type": "stream",
     "text": [
      "\n",
      "Processing completed.\n",
      "-------------------------------- \n",
      "\n",
      "2024-02-21 15:16:15 - INFO - Scraping Data from: https://www.eversports.de/s/center-of-moving-arts\n",
      "Pole Studio Data: 1 entries\n",
      "2024-02-21 15:16:15 - INFO - Scraping Data from: https://www.eversports.de/s/center-of-moving-arts\n",
      "Workshops Data: 1 entries\n",
      "2024-02-21 15:16:15 - INFO - Scraping Data from: https://www.eversports.de/s/center-of-moving-arts\n",
      "Workshop Details: 1 entries\n",
      "Starting URL reconstruction...\n"
     ]
    },
    {
     "name": "stderr",
     "output_type": "stream",
     "text": [
      "Processing URLs:  15%|█▍        | 65/438 [04:23<33:07,  5.33s/it]"
     ]
    },
    {
     "name": "stdout",
     "output_type": "stream",
     "text": [
      "Error during HTTP request: 404 Client Error: Not Found for url: https://www.eversports.de/s/pole-dance-hechingen\n",
      "Converting to DataFrame...\n",
      "Validating URLs...\n",
      "\n",
      "Processing completed.\n",
      "-------------------------------- \n",
      "\n",
      "Starting URL reconstruction...\n"
     ]
    },
    {
     "name": "stderr",
     "output_type": "stream",
     "text": [
      "Processing URLs:  15%|█▌        | 66/438 [04:24<25:34,  4.12s/it]"
     ]
    },
    {
     "name": "stdout",
     "output_type": "stream",
     "text": [
      "Error during HTTP request: 404 Client Error: Not Found for url: https://www.eversports.de/s/palazzo-sportivo\n",
      "Converting to DataFrame...\n",
      "Validating URLs...\n",
      "\n",
      "Processing completed.\n",
      "-------------------------------- \n",
      "\n",
      "Starting URL reconstruction...\n"
     ]
    },
    {
     "name": "stderr",
     "output_type": "stream",
     "text": [
      "Processing URLs:  15%|█▌        | 67/438 [04:27<23:34,  3.81s/it]"
     ]
    },
    {
     "name": "stdout",
     "output_type": "stream",
     "text": [
      "Error during HTTP request: Exceeded 30 redirects.\n",
      "Converting to DataFrame...\n",
      "Validating URLs...\n",
      "\n",
      "Processing completed.\n",
      "-------------------------------- \n",
      "\n",
      "Starting URL reconstruction...\n"
     ]
    },
    {
     "name": "stderr",
     "output_type": "stream",
     "text": [
      "Processing URLs:  16%|█▌        | 68/438 [04:28<18:53,  3.06s/it]"
     ]
    },
    {
     "name": "stdout",
     "output_type": "stream",
     "text": [
      "Error during HTTP request: 404 Client Error: Not Found for url: https://www.eversports.de/s/poledance!-aerial-%26-fitness-schleswig\n",
      "Converting to DataFrame...\n",
      "Validating URLs...\n",
      "\n",
      "Processing completed.\n",
      "-------------------------------- \n",
      "\n",
      "Starting URL reconstruction...\n"
     ]
    },
    {
     "name": "stderr",
     "output_type": "stream",
     "text": [
      "Processing URLs:  16%|█▌        | 69/438 [04:30<15:27,  2.51s/it]"
     ]
    },
    {
     "name": "stdout",
     "output_type": "stream",
     "text": [
      "Error during HTTP request: 404 Client Error: Not Found for url: https://www.eversports.de/s/poledance-zwickau-e.-v.\n",
      "Converting to DataFrame...\n",
      "Validating URLs...\n",
      "\n",
      "Processing completed.\n",
      "-------------------------------- \n",
      "\n",
      "Starting URL reconstruction...\n"
     ]
    },
    {
     "name": "stderr",
     "output_type": "stream",
     "text": [
      "Processing URLs:  16%|█▌        | 70/438 [04:31<13:36,  2.22s/it]"
     ]
    },
    {
     "name": "stdout",
     "output_type": "stream",
     "text": [
      "Error during HTTP request: 404 Client Error: Not Found for url: https://www.eversports.de/s/polerinas-art-pole-%26aerial-fitness\n",
      "Converting to DataFrame...\n",
      "Validating URLs...\n",
      "\n",
      "Processing completed.\n",
      "-------------------------------- \n",
      "\n",
      "Starting URL reconstruction...\n"
     ]
    },
    {
     "name": "stderr",
     "output_type": "stream",
     "text": [
      "Processing URLs:  16%|█▌        | 71/438 [04:32<11:58,  1.96s/it]"
     ]
    },
    {
     "name": "stdout",
     "output_type": "stream",
     "text": [
      "Error during HTTP request: 404 Client Error: Not Found for url: https://www.eversports.de/s/pole-dance-studio-waiblingen\n",
      "Converting to DataFrame...\n",
      "Validating URLs...\n",
      "\n",
      "Processing completed.\n",
      "-------------------------------- \n",
      "\n",
      "Starting URL reconstruction...\n"
     ]
    },
    {
     "name": "stderr",
     "output_type": "stream",
     "text": [
      "Processing URLs:  16%|█▋        | 72/438 [04:34<10:39,  1.75s/it]"
     ]
    },
    {
     "name": "stdout",
     "output_type": "stream",
     "text": [
      "Error during HTTP request: 404 Client Error: Not Found for url: https://www.eversports.de/s/lea-aqua\n",
      "Converting to DataFrame...\n",
      "Validating URLs...\n",
      "\n",
      "Processing completed.\n",
      "-------------------------------- \n",
      "\n",
      "Starting URL reconstruction...\n"
     ]
    },
    {
     "name": "stderr",
     "output_type": "stream",
     "text": [
      "2024-02-21 15:16:31,593 - INFO - Processing URL 1/1: https://www.eversports.de/s/polemotions-filderstadt\n"
     ]
    },
    {
     "name": "stdout",
     "output_type": "stream",
     "text": [
      "Converting to DataFrame...\n",
      "Validating URLs...\n"
     ]
    },
    {
     "name": "stderr",
     "output_type": "stream",
     "text": [
      "2024-02-21 15:16:33,046 - INFO - URL https://www.eversports.de/s/polemotions-filderstadt is valid.\n"
     ]
    },
    {
     "name": "stdout",
     "output_type": "stream",
     "text": [
      "Scraping Pole Studio Data from https://www.eversports.de/s/polemotions-filderstadt...\n"
     ]
    },
    {
     "name": "stderr",
     "output_type": "stream",
     "text": [
      "Processing URLs:  17%|█▋        | 73/438 [04:39<16:29,  2.71s/it]"
     ]
    },
    {
     "name": "stdout",
     "output_type": "stream",
     "text": [
      "\n",
      "Processing completed.\n",
      "-------------------------------- \n",
      "\n",
      "2024-02-21 15:16:33 - INFO - Scraping Data from: https://www.eversports.de/s/polemotions-filderstadt\n",
      "Pole Studio Data: 1 entries\n",
      "Starting URL reconstruction...\n"
     ]
    },
    {
     "name": "stderr",
     "output_type": "stream",
     "text": [
      "2024-02-21 15:16:35,177 - INFO - Processing URL 1/1: https://www.eversports.de/s/pole-flow-berlin\n"
     ]
    },
    {
     "name": "stdout",
     "output_type": "stream",
     "text": [
      "Converting to DataFrame...\n",
      "Validating URLs...\n"
     ]
    },
    {
     "name": "stderr",
     "output_type": "stream",
     "text": [
      "2024-02-21 15:16:37,093 - INFO - URL https://www.eversports.de/s/pole-flow-berlin is valid.\n"
     ]
    },
    {
     "name": "stdout",
     "output_type": "stream",
     "text": [
      "Scraping Pole Studio Data from https://www.eversports.de/s/pole-flow-berlin...\n"
     ]
    },
    {
     "name": "stderr",
     "output_type": "stream",
     "text": [
      "Processing URLs:  17%|█▋        | 74/438 [04:43<18:44,  3.09s/it]"
     ]
    },
    {
     "name": "stdout",
     "output_type": "stream",
     "text": [
      "\n",
      "Processing completed.\n",
      "-------------------------------- \n",
      "\n",
      "2024-02-21 15:16:37 - INFO - Scraping Data from: https://www.eversports.de/s/pole-flow-berlin\n",
      "Pole Studio Data: 1 entries\n",
      "Starting URL reconstruction...\n"
     ]
    },
    {
     "name": "stderr",
     "output_type": "stream",
     "text": [
      "2024-02-21 15:16:38,969 - INFO - Processing URL 1/1: https://www.eversports.de/s/artletik-ug-laufen-und-meer\n"
     ]
    },
    {
     "name": "stdout",
     "output_type": "stream",
     "text": [
      "Converting to DataFrame...\n",
      "Validating URLs...\n"
     ]
    },
    {
     "name": "stderr",
     "output_type": "stream",
     "text": [
      "2024-02-21 15:16:40,312 - INFO - URL https://www.eversports.de/s/artletik-ug-laufen-und-meer is valid.\n"
     ]
    },
    {
     "name": "stdout",
     "output_type": "stream",
     "text": [
      "Scraping Pole Studio Data from https://www.eversports.de/s/artletik-ug-laufen-und-meer...\n"
     ]
    },
    {
     "name": "stderr",
     "output_type": "stream",
     "text": [
      "Processing URLs:  17%|█▋        | 75/438 [04:46<18:44,  3.10s/it]"
     ]
    },
    {
     "name": "stdout",
     "output_type": "stream",
     "text": [
      "\n",
      "Processing completed.\n",
      "-------------------------------- \n",
      "\n",
      "2024-02-21 15:16:40 - INFO - Scraping Data from: https://www.eversports.de/s/artletik-ug-laufen-und-meer\n",
      "Pole Studio Data: 1 entries\n",
      "Starting URL reconstruction...\n"
     ]
    },
    {
     "name": "stderr",
     "output_type": "stream",
     "text": [
      "Processing URLs:  17%|█▋        | 76/438 [04:47<15:27,  2.56s/it]"
     ]
    },
    {
     "name": "stdout",
     "output_type": "stream",
     "text": [
      "Error during HTTP request: 404 Client Error: Not Found for url: https://www.eversports.de/s/tanzteufel-emmendingen\n",
      "Converting to DataFrame...\n",
      "Validating URLs...\n",
      "\n",
      "Processing completed.\n",
      "-------------------------------- \n",
      "\n",
      "Starting URL reconstruction...\n"
     ]
    },
    {
     "name": "stderr",
     "output_type": "stream",
     "text": [
      "Processing URLs:  18%|█▊        | 77/438 [04:48<12:52,  2.14s/it]"
     ]
    },
    {
     "name": "stdout",
     "output_type": "stream",
     "text": [
      "Error during HTTP request: 404 Client Error: Not Found for url: https://www.eversports.de/s/just-fly\n",
      "Converting to DataFrame...\n",
      "Validating URLs...\n",
      "\n",
      "Processing completed.\n",
      "-------------------------------- \n",
      "\n",
      "Starting URL reconstruction...\n"
     ]
    },
    {
     "name": "stderr",
     "output_type": "stream",
     "text": [
      "Processing URLs:  18%|█▊        | 78/438 [04:49<11:08,  1.86s/it]"
     ]
    },
    {
     "name": "stdout",
     "output_type": "stream",
     "text": [
      "Error during HTTP request: 404 Client Error: Not Found for url: https://www.eversports.de/s/pole-%40-bremerhaven\n",
      "Converting to DataFrame...\n",
      "Validating URLs...\n",
      "\n",
      "Processing completed.\n",
      "-------------------------------- \n",
      "\n",
      "Starting URL reconstruction...\n"
     ]
    },
    {
     "name": "stderr",
     "output_type": "stream",
     "text": [
      "Processing URLs:  18%|█▊        | 79/438 [04:51<10:37,  1.77s/it]"
     ]
    },
    {
     "name": "stdout",
     "output_type": "stream",
     "text": [
      "Error during HTTP request: 404 Client Error: Not Found for url: https://www.eversports.de/s/schwerelos-bochum\n",
      "Converting to DataFrame...\n",
      "Validating URLs...\n",
      "\n",
      "Processing completed.\n",
      "-------------------------------- \n",
      "\n",
      "Starting URL reconstruction...\n"
     ]
    },
    {
     "name": "stderr",
     "output_type": "stream",
     "text": [
      "2024-02-21 15:16:47,300 - INFO - Processing URL 1/1: https://www.eversports.de/s/nisa-verticals\n"
     ]
    },
    {
     "name": "stdout",
     "output_type": "stream",
     "text": [
      "Converting to DataFrame...\n",
      "Validating URLs...\n"
     ]
    },
    {
     "name": "stderr",
     "output_type": "stream",
     "text": [
      "2024-02-21 15:16:48,718 - INFO - URL https://www.eversports.de/s/nisa-verticals is valid.\n"
     ]
    },
    {
     "name": "stdout",
     "output_type": "stream",
     "text": [
      "Scraping Pole Studio Data from https://www.eversports.de/s/nisa-verticals...\n"
     ]
    },
    {
     "name": "stderr",
     "output_type": "stream",
     "text": [
      "Processing URLs:  18%|█▊        | 80/438 [04:54<13:13,  2.22s/it]"
     ]
    },
    {
     "name": "stdout",
     "output_type": "stream",
     "text": [
      "\n",
      "Processing completed.\n",
      "-------------------------------- \n",
      "\n",
      "2024-02-21 15:16:49 - INFO - Scraping Data from: https://www.eversports.de/s/nisa-verticals\n",
      "Pole Studio Data: 1 entries\n",
      "Starting URL reconstruction...\n"
     ]
    },
    {
     "name": "stderr",
     "output_type": "stream",
     "text": [
      "Processing URLs:  18%|█▊        | 81/438 [04:55<11:24,  1.92s/it]"
     ]
    },
    {
     "name": "stdout",
     "output_type": "stream",
     "text": [
      "Error during HTTP request: 404 Client Error: Not Found for url: https://www.eversports.de/s/tanzschule-step-up\n",
      "Converting to DataFrame...\n",
      "Validating URLs...\n",
      "\n",
      "Processing completed.\n",
      "-------------------------------- \n",
      "\n",
      "Starting URL reconstruction...\n"
     ]
    },
    {
     "name": "stderr",
     "output_type": "stream",
     "text": [
      "Processing URLs:  19%|█▊        | 82/438 [04:59<15:00,  2.53s/it]"
     ]
    },
    {
     "name": "stdout",
     "output_type": "stream",
     "text": [
      "Error during HTTP request: Exceeded 30 redirects.\n",
      "Converting to DataFrame...\n",
      "Validating URLs...\n",
      "\n",
      "Processing completed.\n",
      "-------------------------------- \n",
      "\n",
      "Starting URL reconstruction...\n"
     ]
    },
    {
     "name": "stderr",
     "output_type": "stream",
     "text": [
      "Processing URLs:  19%|█▉        | 83/438 [05:01<12:45,  2.15s/it]"
     ]
    },
    {
     "name": "stdout",
     "output_type": "stream",
     "text": [
      "Error during HTTP request: 404 Client Error: Not Found for url: https://www.eversports.de/s/nordpole-studio\n",
      "Converting to DataFrame...\n",
      "Validating URLs...\n",
      "\n",
      "Processing completed.\n",
      "-------------------------------- \n",
      "\n",
      "Starting URL reconstruction...\n"
     ]
    },
    {
     "name": "stderr",
     "output_type": "stream",
     "text": [
      "2024-02-21 15:16:56,967 - INFO - Processing URL 1/2: https://www.eversports.de/s/css-aerial-dance-studio\n"
     ]
    },
    {
     "name": "stdout",
     "output_type": "stream",
     "text": [
      "Converting to DataFrame...\n",
      "Validating URLs...\n"
     ]
    },
    {
     "name": "stderr",
     "output_type": "stream",
     "text": [
      "2024-02-21 15:16:58,531 - INFO - URL https://www.eversports.de/s/css-aerial-dance-studio is valid.\n",
      "2024-02-21 15:16:58,532 - INFO - Processing URL 2/2: https://www.eversports.de/sw/css-aerial-dance-studio\n",
      "2024-02-21 15:16:59,882 - INFO - URL https://www.eversports.de/sw/css-aerial-dance-studio is valid.\n"
     ]
    },
    {
     "name": "stdout",
     "output_type": "stream",
     "text": [
      "Scraping Pole Studio Data from https://www.eversports.de/s/css-aerial-dance-studio...\n",
      "Scraping Workshops Data from https://www.eversports.de/sw/css-aerial-dance-studio...\n",
      "Scraping Workshop Details from https://www.eversports.de/e/workshop/1nKl3tW...\n",
      "Scraping Workshop Details from https://www.eversports.de/e/workshop/T4W36_s...\n",
      "Scraping Workshop Details from https://www.eversports.de/e/workshop/4UBPXcv...\n",
      "Scraping Workshop Details from https://www.eversports.de/e/workshop/JIRXZ-d...\n",
      "Scraping Workshop Details from https://www.eversports.de/e/workshop/MZYsjj7...\n"
     ]
    },
    {
     "name": "stderr",
     "output_type": "stream",
     "text": [
      "Processing URLs:  19%|█▉        | 84/438 [05:15<34:44,  5.89s/it]"
     ]
    },
    {
     "name": "stdout",
     "output_type": "stream",
     "text": [
      "\n",
      "Processing completed.\n",
      "-------------------------------- \n",
      "\n",
      "2024-02-21 15:17:10 - INFO - Scraping Data from: https://www.eversports.de/s/css-aerial-dance-studio\n",
      "Pole Studio Data: 1 entries\n",
      "2024-02-21 15:17:10 - INFO - Scraping Data from: https://www.eversports.de/s/css-aerial-dance-studio\n",
      "Workshops Data: 5 entries\n",
      "2024-02-21 15:17:10 - INFO - Scraping Data from: https://www.eversports.de/s/css-aerial-dance-studio\n",
      "Workshop Details: 5 entries\n",
      "Starting URL reconstruction...\n"
     ]
    },
    {
     "name": "stderr",
     "output_type": "stream",
     "text": [
      "2024-02-21 15:17:11,977 - INFO - Processing URL 1/2: https://www.eversports.de/s/pole-and-move-ketsch\n"
     ]
    },
    {
     "name": "stdout",
     "output_type": "stream",
     "text": [
      "Converting to DataFrame...\n",
      "Validating URLs...\n"
     ]
    },
    {
     "name": "stderr",
     "output_type": "stream",
     "text": [
      "2024-02-21 15:17:13,359 - INFO - URL https://www.eversports.de/s/pole-and-move-ketsch is valid.\n",
      "2024-02-21 15:17:13,360 - INFO - Processing URL 2/2: https://www.eversports.de/sw/pole-and-move-ketsch\n",
      "2024-02-21 15:17:14,610 - INFO - URL https://www.eversports.de/sw/pole-and-move-ketsch is valid.\n"
     ]
    },
    {
     "name": "stdout",
     "output_type": "stream",
     "text": [
      "Scraping Pole Studio Data from https://www.eversports.de/s/pole-and-move-ketsch...\n",
      "Scraping Workshops Data from https://www.eversports.de/sw/pole-and-move-ketsch...\n",
      "Scraping Workshop Details from https://www.eversports.de/e/workshop/nZwqDWw...\n",
      "Scraping Workshop Details from https://www.eversports.de/e/workshop/NCNYd8p...\n",
      "Scraping Workshop Details from https://www.eversports.de/e/workshop/nz_DDh6...\n",
      "Scraping Workshop Details from https://www.eversports.de/e/workshop/DGu8Tq6...\n"
     ]
    },
    {
     "name": "stderr",
     "output_type": "stream",
     "text": [
      "Processing URLs:  19%|█▉        | 85/438 [05:27<45:28,  7.73s/it]"
     ]
    },
    {
     "name": "stdout",
     "output_type": "stream",
     "text": [
      "\n",
      "Processing completed.\n",
      "-------------------------------- \n",
      "\n",
      "2024-02-21 15:17:22 - INFO - Scraping Data from: https://www.eversports.de/s/pole-and-move-ketsch\n",
      "Pole Studio Data: 1 entries\n",
      "2024-02-21 15:17:22 - INFO - Scraping Data from: https://www.eversports.de/s/pole-and-move-ketsch\n",
      "Workshops Data: 4 entries\n",
      "2024-02-21 15:17:22 - INFO - Scraping Data from: https://www.eversports.de/s/pole-and-move-ketsch\n",
      "Workshop Details: 4 entries\n",
      "Starting URL reconstruction...\n"
     ]
    },
    {
     "name": "stderr",
     "output_type": "stream",
     "text": [
      "Processing URLs:  20%|█▉        | 86/438 [05:29<33:57,  5.79s/it]"
     ]
    },
    {
     "name": "stdout",
     "output_type": "stream",
     "text": [
      "Error during HTTP request: 404 Client Error: Not Found for url: https://www.eversports.de/s/poledance!-aerial-%26-fitness-kiel\n",
      "Converting to DataFrame...\n",
      "Validating URLs...\n",
      "\n",
      "Processing completed.\n",
      "-------------------------------- \n",
      "\n",
      "Starting URL reconstruction...\n"
     ]
    },
    {
     "name": "stderr",
     "output_type": "stream",
     "text": [
      "Processing URLs:  20%|█▉        | 87/438 [05:30<25:54,  4.43s/it]"
     ]
    },
    {
     "name": "stdout",
     "output_type": "stream",
     "text": [
      "Error during HTTP request: 404 Client Error: Not Found for url: https://www.eversports.de/s/empire-pole\n",
      "Converting to DataFrame...\n",
      "Validating URLs...\n",
      "\n",
      "Processing completed.\n",
      "-------------------------------- \n",
      "\n",
      "Starting URL reconstruction...\n"
     ]
    },
    {
     "name": "stderr",
     "output_type": "stream",
     "text": [
      "Processing URLs:  20%|██        | 88/438 [05:31<20:19,  3.48s/it]"
     ]
    },
    {
     "name": "stdout",
     "output_type": "stream",
     "text": [
      "Error during HTTP request: 404 Client Error: Not Found for url: https://www.eversports.de/s/poleria\n",
      "Converting to DataFrame...\n",
      "Validating URLs...\n",
      "\n",
      "Processing completed.\n",
      "-------------------------------- \n",
      "\n",
      "Starting URL reconstruction...\n"
     ]
    },
    {
     "name": "stderr",
     "output_type": "stream",
     "text": [
      "Processing URLs:  20%|██        | 89/438 [05:32<16:17,  2.80s/it]"
     ]
    },
    {
     "name": "stdout",
     "output_type": "stream",
     "text": [
      "Error during HTTP request: 404 Client Error: Not Found for url: https://www.eversports.de/s/happy-pole-place\n",
      "Converting to DataFrame...\n",
      "Validating URLs...\n",
      "\n",
      "Processing completed.\n",
      "-------------------------------- \n",
      "\n",
      "Starting URL reconstruction...\n"
     ]
    },
    {
     "name": "stderr",
     "output_type": "stream",
     "text": [
      "2024-02-21 15:17:28,518 - INFO - Processing URL 1/1: https://www.eversports.de/s/flow-fusion-pole-aerial-dance-studio\n"
     ]
    },
    {
     "name": "stdout",
     "output_type": "stream",
     "text": [
      "Converting to DataFrame...\n",
      "Validating URLs...\n"
     ]
    },
    {
     "name": "stderr",
     "output_type": "stream",
     "text": [
      "2024-02-21 15:17:29,997 - INFO - URL https://www.eversports.de/s/flow-fusion-pole-aerial-dance-studio is valid.\n"
     ]
    },
    {
     "name": "stdout",
     "output_type": "stream",
     "text": [
      "Scraping Pole Studio Data from https://www.eversports.de/s/flow-fusion-pole-aerial-dance-studio...\n"
     ]
    },
    {
     "name": "stderr",
     "output_type": "stream",
     "text": [
      "Processing URLs:  21%|██        | 90/438 [05:36<17:16,  2.98s/it]"
     ]
    },
    {
     "name": "stdout",
     "output_type": "stream",
     "text": [
      "\n",
      "Processing completed.\n",
      "-------------------------------- \n",
      "\n",
      "2024-02-21 15:17:30 - INFO - Scraping Data from: https://www.eversports.de/s/flow-fusion-pole-aerial-dance-studio\n",
      "Pole Studio Data: 1 entries\n",
      "Starting URL reconstruction...\n"
     ]
    },
    {
     "name": "stderr",
     "output_type": "stream",
     "text": [
      "Processing URLs:  21%|██        | 91/438 [05:37<14:12,  2.46s/it]"
     ]
    },
    {
     "name": "stdout",
     "output_type": "stream",
     "text": [
      "Error during HTTP request: 404 Client Error: Not Found for url: https://www.eversports.de/s/metropole-dance---now2\n",
      "Converting to DataFrame...\n",
      "Validating URLs...\n",
      "\n",
      "Processing completed.\n",
      "-------------------------------- \n",
      "\n",
      "Starting URL reconstruction...\n"
     ]
    },
    {
     "name": "stderr",
     "output_type": "stream",
     "text": [
      "2024-02-21 15:17:33,235 - INFO - Processing URL 1/2: https://www.eversports.de/s/pole-faction-rhein-neckar\n"
     ]
    },
    {
     "name": "stdout",
     "output_type": "stream",
     "text": [
      "Converting to DataFrame...\n",
      "Validating URLs...\n"
     ]
    },
    {
     "name": "stderr",
     "output_type": "stream",
     "text": [
      "2024-02-21 15:17:34,848 - INFO - URL https://www.eversports.de/s/pole-faction-rhein-neckar is valid.\n",
      "2024-02-21 15:17:34,850 - INFO - Processing URL 2/2: https://www.eversports.de/sw/pole-faction-rhein-neckar\n",
      "2024-02-21 15:17:36,223 - INFO - URL https://www.eversports.de/sw/pole-faction-rhein-neckar is valid.\n"
     ]
    },
    {
     "name": "stdout",
     "output_type": "stream",
     "text": [
      "Scraping Pole Studio Data from https://www.eversports.de/s/pole-faction-rhein-neckar...\n",
      "Scraping Workshops Data from https://www.eversports.de/sw/pole-faction-rhein-neckar...\n",
      "Scraping Workshop Details from https://www.eversports.de/e/workshop/VtQCbbh...\n",
      "Scraping Workshop Details from https://www.eversports.de/e/workshop/Pi9Ivxi...\n"
     ]
    },
    {
     "name": "stderr",
     "output_type": "stream",
     "text": [
      "Processing URLs:  21%|██        | 92/438 [05:47<27:58,  4.85s/it]"
     ]
    },
    {
     "name": "stdout",
     "output_type": "stream",
     "text": [
      "\n",
      "Processing completed.\n",
      "-------------------------------- \n",
      "\n",
      "2024-02-21 15:17:42 - INFO - Scraping Data from: https://www.eversports.de/s/pole-faction-rhein-neckar\n",
      "Pole Studio Data: 1 entries\n",
      "2024-02-21 15:17:42 - INFO - Scraping Data from: https://www.eversports.de/s/pole-faction-rhein-neckar\n",
      "Workshops Data: 2 entries\n",
      "2024-02-21 15:17:42 - INFO - Scraping Data from: https://www.eversports.de/s/pole-faction-rhein-neckar\n",
      "Workshop Details: 2 entries\n",
      "Starting URL reconstruction...\n"
     ]
    },
    {
     "name": "stderr",
     "output_type": "stream",
     "text": [
      "2024-02-21 15:17:43,925 - INFO - Processing URL 1/2: https://www.eversports.de/s/ramonas-tanzschmiede\n"
     ]
    },
    {
     "name": "stdout",
     "output_type": "stream",
     "text": [
      "Converting to DataFrame...\n",
      "Validating URLs...\n"
     ]
    },
    {
     "name": "stderr",
     "output_type": "stream",
     "text": [
      "2024-02-21 15:17:47,428 - INFO - URL https://www.eversports.de/s/ramonas-tanzschmiede is valid.\n",
      "2024-02-21 15:17:47,429 - INFO - Processing URL 2/2: https://www.eversports.de/sw/ramonas-tanzschmiede\n",
      "2024-02-21 15:17:48,915 - INFO - URL https://www.eversports.de/sw/ramonas-tanzschmiede is valid.\n"
     ]
    },
    {
     "name": "stdout",
     "output_type": "stream",
     "text": [
      "Scraping Pole Studio Data from https://www.eversports.de/s/ramonas-tanzschmiede...\n",
      "Scraping Workshops Data from https://www.eversports.de/sw/ramonas-tanzschmiede...\n",
      "Scraping Workshop Details from https://www.eversports.de/e/workshop/h6T780l...\n",
      "Scraping Workshop Details from https://www.eversports.de/e/workshop/HZmJGaW...\n"
     ]
    },
    {
     "name": "stderr",
     "output_type": "stream",
     "text": [
      "Processing URLs:  21%|██        | 93/438 [05:59<38:41,  6.73s/it]"
     ]
    },
    {
     "name": "stdout",
     "output_type": "stream",
     "text": [
      "\n",
      "Processing completed.\n",
      "-------------------------------- \n",
      "\n",
      "2024-02-21 15:17:53 - INFO - Scraping Data from: https://www.eversports.de/s/ramonas-tanzschmiede\n",
      "Pole Studio Data: 1 entries\n",
      "2024-02-21 15:17:53 - INFO - Scraping Data from: https://www.eversports.de/s/ramonas-tanzschmiede\n",
      "Workshops Data: 2 entries\n",
      "2024-02-21 15:17:53 - INFO - Scraping Data from: https://www.eversports.de/s/ramonas-tanzschmiede\n",
      "Workshop Details: 2 entries\n",
      "Starting URL reconstruction...\n"
     ]
    },
    {
     "name": "stderr",
     "output_type": "stream",
     "text": [
      "2024-02-21 15:17:54,908 - INFO - Processing URL 1/1: https://www.eversports.de/s/polestructions\n"
     ]
    },
    {
     "name": "stdout",
     "output_type": "stream",
     "text": [
      "Converting to DataFrame...\n",
      "Validating URLs...\n"
     ]
    },
    {
     "name": "stderr",
     "output_type": "stream",
     "text": [
      "2024-02-21 15:17:57,257 - INFO - URL https://www.eversports.de/s/polestructions is valid.\n"
     ]
    },
    {
     "name": "stdout",
     "output_type": "stream",
     "text": [
      "Scraping Pole Studio Data from https://www.eversports.de/s/polestructions...\n"
     ]
    },
    {
     "name": "stderr",
     "output_type": "stream",
     "text": [
      "Processing URLs:  21%|██▏       | 94/438 [06:03<34:32,  6.02s/it]"
     ]
    },
    {
     "name": "stdout",
     "output_type": "stream",
     "text": [
      "\n",
      "Processing completed.\n",
      "-------------------------------- \n",
      "\n",
      "2024-02-21 15:17:57 - INFO - Scraping Data from: https://www.eversports.de/s/polestructions\n",
      "Pole Studio Data: 1 entries\n",
      "Starting URL reconstruction...\n"
     ]
    },
    {
     "name": "stderr",
     "output_type": "stream",
     "text": [
      "Processing URLs:  22%|██▏       | 95/438 [06:04<26:42,  4.67s/it]"
     ]
    },
    {
     "name": "stdout",
     "output_type": "stream",
     "text": [
      "Error during HTTP request: 404 Client Error: Not Found for url: https://www.eversports.de/s/crazy-up-%26-pole\n",
      "Converting to DataFrame...\n",
      "Validating URLs...\n",
      "\n",
      "Processing completed.\n",
      "-------------------------------- \n",
      "\n",
      "Starting URL reconstruction...\n"
     ]
    },
    {
     "name": "stderr",
     "output_type": "stream",
     "text": [
      "Processing URLs:  22%|██▏       | 96/438 [06:06<20:36,  3.62s/it]"
     ]
    },
    {
     "name": "stdout",
     "output_type": "stream",
     "text": [
      "Error during HTTP request: 404 Client Error: Not Found for url: https://www.eversports.de/s/fanlin-studio---pole-%26-aerial-dance\n",
      "Converting to DataFrame...\n",
      "Validating URLs...\n",
      "\n",
      "Processing completed.\n",
      "-------------------------------- \n",
      "\n",
      "Starting URL reconstruction...\n"
     ]
    },
    {
     "name": "stderr",
     "output_type": "stream",
     "text": [
      "Processing URLs:  22%|██▏       | 97/438 [06:07<16:28,  2.90s/it]"
     ]
    },
    {
     "name": "stdout",
     "output_type": "stream",
     "text": [
      "Error during HTTP request: 404 Client Error: Not Found for url: https://www.eversports.de/s/femella-studio\n",
      "Converting to DataFrame...\n",
      "Validating URLs...\n",
      "\n",
      "Processing completed.\n",
      "-------------------------------- \n",
      "\n",
      "Starting URL reconstruction...\n"
     ]
    },
    {
     "name": "stderr",
     "output_type": "stream",
     "text": [
      "Processing URLs:  22%|██▏       | 98/438 [06:08<13:51,  2.45s/it]"
     ]
    },
    {
     "name": "stdout",
     "output_type": "stream",
     "text": [
      "Error during HTTP request: 404 Client Error: Not Found for url: https://www.eversports.de/s/infinity-polesports-burgkirchen\n",
      "Converting to DataFrame...\n",
      "Validating URLs...\n",
      "\n",
      "Processing completed.\n",
      "-------------------------------- \n",
      "\n",
      "Starting URL reconstruction...\n"
     ]
    },
    {
     "name": "stderr",
     "output_type": "stream",
     "text": [
      "Processing URLs:  23%|██▎       | 99/438 [06:10<12:43,  2.25s/it]"
     ]
    },
    {
     "name": "stdout",
     "output_type": "stream",
     "text": [
      "Error during HTTP request: 404 Client Error: Not Found for url: https://www.eversports.de/s/polea---pole-and-aerial-dance\n",
      "Converting to DataFrame...\n",
      "Validating URLs...\n",
      "\n",
      "Processing completed.\n",
      "-------------------------------- \n",
      "\n",
      "Starting URL reconstruction...\n"
     ]
    },
    {
     "name": "stderr",
     "output_type": "stream",
     "text": [
      "Processing URLs:  23%|██▎       | 100/438 [06:11<11:13,  1.99s/it]"
     ]
    },
    {
     "name": "stdout",
     "output_type": "stream",
     "text": [
      "Error during HTTP request: 404 Client Error: Not Found for url: https://www.eversports.de/s/vertical-ab\n",
      "Converting to DataFrame...\n",
      "Validating URLs...\n",
      "\n",
      "Processing completed.\n",
      "-------------------------------- \n",
      "\n",
      "Starting URL reconstruction...\n"
     ]
    },
    {
     "name": "stderr",
     "output_type": "stream",
     "text": [
      "Processing URLs:  23%|██▎       | 101/438 [06:14<11:52,  2.11s/it]"
     ]
    },
    {
     "name": "stdout",
     "output_type": "stream",
     "text": [
      "Error during HTTP request: 404 Client Error: Not Found for url: https://www.eversports.de/s/dance-in-the-city-remscheid\n",
      "Converting to DataFrame...\n",
      "Validating URLs...\n",
      "\n",
      "Processing completed.\n",
      "-------------------------------- \n",
      "\n",
      "Starting URL reconstruction...\n"
     ]
    },
    {
     "name": "stderr",
     "output_type": "stream",
     "text": [
      "Processing URLs:  23%|██▎       | 102/438 [06:16<11:32,  2.06s/it]"
     ]
    },
    {
     "name": "stdout",
     "output_type": "stream",
     "text": [
      "Error during HTTP request: 404 Client Error: Not Found for url: https://www.eversports.de/s/le-chat-noir-berlin\n",
      "Converting to DataFrame...\n",
      "Validating URLs...\n",
      "\n",
      "Processing completed.\n",
      "-------------------------------- \n",
      "\n",
      "Starting URL reconstruction...\n"
     ]
    },
    {
     "name": "stderr",
     "output_type": "stream",
     "text": [
      "Processing URLs:  24%|██▎       | 103/438 [06:17<10:28,  1.88s/it]"
     ]
    },
    {
     "name": "stdout",
     "output_type": "stream",
     "text": [
      "Error during HTTP request: 404 Client Error: Not Found for url: https://www.eversports.de/s/poleplace\n",
      "Converting to DataFrame...\n",
      "Validating URLs...\n",
      "\n",
      "Processing completed.\n",
      "-------------------------------- \n",
      "\n",
      "Starting URL reconstruction...\n"
     ]
    },
    {
     "name": "stderr",
     "output_type": "stream",
     "text": [
      "2024-02-21 15:18:19,382 - INFO - Processing URL 1/1: https://www.eversports.de/s/pure-motion-kiel\n"
     ]
    },
    {
     "name": "stdout",
     "output_type": "stream",
     "text": [
      "Converting to DataFrame...\n",
      "Validating URLs...\n"
     ]
    },
    {
     "name": "stderr",
     "output_type": "stream",
     "text": [
      "2024-02-21 15:18:21,314 - INFO - URL https://www.eversports.de/s/pure-motion-kiel is valid.\n"
     ]
    },
    {
     "name": "stdout",
     "output_type": "stream",
     "text": [
      "Scraping Pole Studio Data from https://www.eversports.de/s/pure-motion-kiel...\n"
     ]
    },
    {
     "name": "stderr",
     "output_type": "stream",
     "text": [
      "Processing URLs:  24%|██▎       | 104/438 [06:27<23:59,  4.31s/it]"
     ]
    },
    {
     "name": "stdout",
     "output_type": "stream",
     "text": [
      "\n",
      "Processing completed.\n",
      "-------------------------------- \n",
      "\n",
      "2024-02-21 15:18:21 - INFO - Scraping Data from: https://www.eversports.de/s/pure-motion-kiel\n",
      "Pole Studio Data: 1 entries\n",
      "Starting URL reconstruction...\n"
     ]
    },
    {
     "name": "stderr",
     "output_type": "stream",
     "text": [
      "Processing URLs:  24%|██▍       | 105/438 [06:29<20:23,  3.67s/it]"
     ]
    },
    {
     "name": "stdout",
     "output_type": "stream",
     "text": [
      "Error during HTTP request: 404 Client Error: Not Found for url: https://www.eversports.de/s/pole-dance-academy-neuburg\n",
      "Converting to DataFrame...\n",
      "Validating URLs...\n",
      "\n",
      "Processing completed.\n",
      "-------------------------------- \n",
      "\n",
      "Starting URL reconstruction...\n"
     ]
    },
    {
     "name": "stderr",
     "output_type": "stream",
     "text": [
      "Processing URLs:  24%|██▍       | 106/438 [06:31<17:33,  3.17s/it]"
     ]
    },
    {
     "name": "stdout",
     "output_type": "stream",
     "text": [
      "Error during HTTP request: 404 Client Error: Not Found for url: https://www.eversports.de/s/wonderpole\n",
      "Converting to DataFrame...\n",
      "Validating URLs...\n",
      "\n",
      "Processing completed.\n",
      "-------------------------------- \n",
      "\n",
      "Starting URL reconstruction...\n"
     ]
    },
    {
     "name": "stderr",
     "output_type": "stream",
     "text": [
      "Processing URLs:  24%|██▍       | 107/438 [06:33<14:35,  2.64s/it]"
     ]
    },
    {
     "name": "stdout",
     "output_type": "stream",
     "text": [
      "Error during HTTP request: 404 Client Error: Not Found for url: https://www.eversports.de/s/pole-dance-power\n",
      "Converting to DataFrame...\n",
      "Validating URLs...\n",
      "\n",
      "Processing completed.\n",
      "-------------------------------- \n",
      "\n",
      "Starting URL reconstruction...\n"
     ]
    },
    {
     "name": "stderr",
     "output_type": "stream",
     "text": [
      "Processing URLs:  25%|██▍       | 108/438 [06:34<12:49,  2.33s/it]"
     ]
    },
    {
     "name": "stdout",
     "output_type": "stream",
     "text": [
      "Error during HTTP request: 404 Client Error: Not Found for url: https://www.eversports.de/s/tanzstudio-redlightdance-berlin\n",
      "Converting to DataFrame...\n",
      "Validating URLs...\n",
      "\n",
      "Processing completed.\n",
      "-------------------------------- \n",
      "\n",
      "Starting URL reconstruction...\n"
     ]
    },
    {
     "name": "stderr",
     "output_type": "stream",
     "text": [
      "Processing URLs:  25%|██▍       | 109/438 [06:36<11:14,  2.05s/it]"
     ]
    },
    {
     "name": "stdout",
     "output_type": "stream",
     "text": [
      "Error during HTTP request: 404 Client Error: Not Found for url: https://www.eversports.de/s/polegarage-iserloh\n",
      "Converting to DataFrame...\n",
      "Validating URLs...\n",
      "\n",
      "Processing completed.\n",
      "-------------------------------- \n",
      "\n",
      "Starting URL reconstruction...\n"
     ]
    },
    {
     "name": "stderr",
     "output_type": "stream",
     "text": [
      "Processing URLs:  25%|██▌       | 110/438 [06:40<15:13,  2.78s/it]"
     ]
    },
    {
     "name": "stdout",
     "output_type": "stream",
     "text": [
      "Error during HTTP request: Exceeded 30 redirects.\n",
      "Converting to DataFrame...\n",
      "Validating URLs...\n",
      "\n",
      "Processing completed.\n",
      "-------------------------------- \n",
      "\n",
      "Starting URL reconstruction...\n"
     ]
    },
    {
     "name": "stderr",
     "output_type": "stream",
     "text": [
      "2024-02-21 15:18:36,897 - INFO - Processing URL 1/1: https://www.eversports.de/s/soul-flight\n"
     ]
    },
    {
     "name": "stdout",
     "output_type": "stream",
     "text": [
      "Converting to DataFrame...\n",
      "Validating URLs...\n"
     ]
    },
    {
     "name": "stderr",
     "output_type": "stream",
     "text": [
      "2024-02-21 15:18:39,308 - INFO - URL https://www.eversports.de/s/soul-flight is valid.\n"
     ]
    },
    {
     "name": "stdout",
     "output_type": "stream",
     "text": [
      "Scraping Pole Studio Data from https://www.eversports.de/s/soul-flight...\n"
     ]
    },
    {
     "name": "stderr",
     "output_type": "stream",
     "text": [
      "Processing URLs:  25%|██▌       | 111/438 [06:45<18:21,  3.37s/it]"
     ]
    },
    {
     "name": "stdout",
     "output_type": "stream",
     "text": [
      "\n",
      "Processing completed.\n",
      "-------------------------------- \n",
      "\n",
      "2024-02-21 15:18:39 - INFO - Scraping Data from: https://www.eversports.de/s/soul-flight\n",
      "Pole Studio Data: 1 entries\n",
      "Starting URL reconstruction...\n"
     ]
    },
    {
     "name": "stderr",
     "output_type": "stream",
     "text": [
      "Processing URLs:  26%|██▌       | 112/438 [06:53<26:34,  4.89s/it]"
     ]
    },
    {
     "name": "stdout",
     "output_type": "stream",
     "text": [
      "Error during HTTP request: Exceeded 30 redirects.\n",
      "Converting to DataFrame...\n",
      "Validating URLs...\n",
      "\n",
      "Processing completed.\n",
      "-------------------------------- \n",
      "\n",
      "Starting URL reconstruction...\n"
     ]
    },
    {
     "name": "stderr",
     "output_type": "stream",
     "text": [
      "Processing URLs:  26%|██▌       | 113/438 [06:58<26:30,  4.89s/it]"
     ]
    },
    {
     "name": "stdout",
     "output_type": "stream",
     "text": [
      "Error during HTTP request: Exceeded 30 redirects.\n",
      "Converting to DataFrame...\n",
      "Validating URLs...\n",
      "\n",
      "Processing completed.\n",
      "-------------------------------- \n",
      "\n",
      "Starting URL reconstruction...\n"
     ]
    },
    {
     "name": "stderr",
     "output_type": "stream",
     "text": [
      "Processing URLs:  26%|██▌       | 114/438 [07:03<26:05,  4.83s/it]"
     ]
    },
    {
     "name": "stdout",
     "output_type": "stream",
     "text": [
      "Error during HTTP request: Exceeded 30 redirects.\n",
      "Converting to DataFrame...\n",
      "Validating URLs...\n",
      "\n",
      "Processing completed.\n",
      "-------------------------------- \n",
      "\n",
      "Starting URL reconstruction...\n"
     ]
    },
    {
     "name": "stderr",
     "output_type": "stream",
     "text": [
      "Processing URLs:  26%|██▋       | 115/438 [07:04<20:37,  3.83s/it]"
     ]
    },
    {
     "name": "stdout",
     "output_type": "stream",
     "text": [
      "Error during HTTP request: 404 Client Error: Not Found for url: https://www.eversports.de/s/secret-moves---athletic-dance-studio\n",
      "Converting to DataFrame...\n",
      "Validating URLs...\n",
      "\n",
      "Processing completed.\n",
      "-------------------------------- \n",
      "\n",
      "Starting URL reconstruction...\n"
     ]
    },
    {
     "name": "stderr",
     "output_type": "stream",
     "text": [
      "2024-02-21 15:19:01,199 - INFO - Processing URL 1/1: https://www.eversports.de/s/pure-body-concepts\n"
     ]
    },
    {
     "name": "stdout",
     "output_type": "stream",
     "text": [
      "Converting to DataFrame...\n",
      "Validating URLs...\n"
     ]
    },
    {
     "name": "stderr",
     "output_type": "stream",
     "text": [
      "2024-02-21 15:19:02,636 - INFO - URL https://www.eversports.de/s/pure-body-concepts is valid.\n"
     ]
    },
    {
     "name": "stdout",
     "output_type": "stream",
     "text": [
      "Scraping Pole Studio Data from https://www.eversports.de/s/pure-body-concepts...\n"
     ]
    },
    {
     "name": "stderr",
     "output_type": "stream",
     "text": [
      "Processing URLs:  26%|██▋       | 116/438 [07:08<20:34,  3.83s/it]"
     ]
    },
    {
     "name": "stdout",
     "output_type": "stream",
     "text": [
      "\n",
      "Processing completed.\n",
      "-------------------------------- \n",
      "\n",
      "2024-02-21 15:19:03 - INFO - Scraping Data from: https://www.eversports.de/s/pure-body-concepts\n",
      "Pole Studio Data: 1 entries\n",
      "Starting URL reconstruction...\n"
     ]
    },
    {
     "name": "stderr",
     "output_type": "stream",
     "text": [
      "Processing URLs:  27%|██▋       | 117/438 [07:10<17:01,  3.18s/it]"
     ]
    },
    {
     "name": "stdout",
     "output_type": "stream",
     "text": [
      "Error during HTTP request: 404 Client Error: Not Found for url: https://www.eversports.de/s/papillon-pole-dance-studio\n",
      "Converting to DataFrame...\n",
      "Validating URLs...\n",
      "\n",
      "Processing completed.\n",
      "-------------------------------- \n",
      "\n",
      "Starting URL reconstruction...\n"
     ]
    },
    {
     "name": "stderr",
     "output_type": "stream",
     "text": [
      "2024-02-21 15:19:07,798 - INFO - Processing URL 1/1: https://www.eversports.de/s/poledance-area\n"
     ]
    },
    {
     "name": "stdout",
     "output_type": "stream",
     "text": [
      "Converting to DataFrame...\n",
      "Validating URLs...\n"
     ]
    },
    {
     "name": "stderr",
     "output_type": "stream",
     "text": [
      "2024-02-21 15:19:09,235 - INFO - URL https://www.eversports.de/s/poledance-area is valid.\n"
     ]
    },
    {
     "name": "stdout",
     "output_type": "stream",
     "text": [
      "Scraping Pole Studio Data from https://www.eversports.de/s/poledance-area...\n"
     ]
    },
    {
     "name": "stderr",
     "output_type": "stream",
     "text": [
      "Processing URLs:  27%|██▋       | 118/438 [07:15<19:38,  3.68s/it]"
     ]
    },
    {
     "name": "stdout",
     "output_type": "stream",
     "text": [
      "\n",
      "Processing completed.\n",
      "-------------------------------- \n",
      "\n",
      "2024-02-21 15:19:09 - INFO - Scraping Data from: https://www.eversports.de/s/poledance-area\n",
      "Pole Studio Data: 1 entries\n",
      "Starting URL reconstruction...\n"
     ]
    },
    {
     "name": "stderr",
     "output_type": "stream",
     "text": [
      "2024-02-21 15:19:11,326 - INFO - Processing URL 1/2: https://www.eversports.de/s/pole-faction-darmstadt\n"
     ]
    },
    {
     "name": "stdout",
     "output_type": "stream",
     "text": [
      "Converting to DataFrame...\n",
      "Validating URLs...\n"
     ]
    },
    {
     "name": "stderr",
     "output_type": "stream",
     "text": [
      "2024-02-21 15:19:13,012 - INFO - URL https://www.eversports.de/s/pole-faction-darmstadt is valid.\n",
      "2024-02-21 15:19:13,013 - INFO - Processing URL 2/2: https://www.eversports.de/sw/pole-faction-darmstadt\n",
      "2024-02-21 15:19:16,184 - INFO - URL https://www.eversports.de/sw/pole-faction-darmstadt is valid.\n"
     ]
    },
    {
     "name": "stdout",
     "output_type": "stream",
     "text": [
      "Scraping Pole Studio Data from https://www.eversports.de/s/pole-faction-darmstadt...\n",
      "Scraping Workshops Data from https://www.eversports.de/sw/pole-faction-darmstadt...\n",
      "Scraping Workshop Details from https://www.eversports.de/e/workshop/FP-cEyn...\n",
      "Scraping Workshop Details from https://www.eversports.de/e/workshop/R763nUE...\n"
     ]
    },
    {
     "name": "stderr",
     "output_type": "stream",
     "text": [
      "Processing URLs:  27%|██▋       | 119/438 [07:26<31:26,  5.91s/it]"
     ]
    },
    {
     "name": "stdout",
     "output_type": "stream",
     "text": [
      "\n",
      "Processing completed.\n",
      "-------------------------------- \n",
      "\n",
      "2024-02-21 15:19:20 - INFO - Scraping Data from: https://www.eversports.de/s/pole-faction-darmstadt\n",
      "Pole Studio Data: 1 entries\n",
      "2024-02-21 15:19:20 - INFO - Scraping Data from: https://www.eversports.de/s/pole-faction-darmstadt\n",
      "Workshops Data: 2 entries\n",
      "2024-02-21 15:19:20 - INFO - Scraping Data from: https://www.eversports.de/s/pole-faction-darmstadt\n",
      "Workshop Details: 2 entries\n",
      "Starting URL reconstruction...\n"
     ]
    },
    {
     "name": "stderr",
     "output_type": "stream",
     "text": [
      "2024-02-21 15:19:22,317 - INFO - Processing URL 1/2: https://www.eversports.de/s/polespirit\n"
     ]
    },
    {
     "name": "stdout",
     "output_type": "stream",
     "text": [
      "Converting to DataFrame...\n",
      "Validating URLs...\n"
     ]
    },
    {
     "name": "stderr",
     "output_type": "stream",
     "text": [
      "2024-02-21 15:19:23,597 - INFO - URL https://www.eversports.de/s/polespirit is valid.\n",
      "2024-02-21 15:19:23,599 - INFO - Processing URL 2/2: https://www.eversports.de/sw/polespirit\n",
      "2024-02-21 15:19:24,895 - INFO - URL https://www.eversports.de/sw/polespirit is valid.\n"
     ]
    },
    {
     "name": "stdout",
     "output_type": "stream",
     "text": [
      "Scraping Pole Studio Data from https://www.eversports.de/s/polespirit...\n",
      "Scraping Workshops Data from https://www.eversports.de/sw/polespirit...\n",
      "Scraping Workshop Details from https://www.eversports.de/e/workshop/xUH0CLo...\n",
      "Scraping Workshop Details from https://www.eversports.de/e/workshop/GpBpifi...\n"
     ]
    },
    {
     "name": "stderr",
     "output_type": "stream",
     "text": [
      "Processing URLs:  27%|██▋       | 120/438 [07:36<37:29,  7.07s/it]"
     ]
    },
    {
     "name": "stdout",
     "output_type": "stream",
     "text": [
      "\n",
      "Processing completed.\n",
      "-------------------------------- \n",
      "\n",
      "2024-02-21 15:19:30 - INFO - Scraping Data from: https://www.eversports.de/s/polespirit\n",
      "Pole Studio Data: 1 entries\n",
      "2024-02-21 15:19:30 - INFO - Scraping Data from: https://www.eversports.de/s/polespirit\n",
      "Workshops Data: 2 entries\n",
      "2024-02-21 15:19:30 - INFO - Scraping Data from: https://www.eversports.de/s/polespirit\n",
      "Workshop Details: 2 entries\n",
      "Starting URL reconstruction...\n"
     ]
    },
    {
     "name": "stderr",
     "output_type": "stream",
     "text": [
      "2024-02-21 15:19:32,113 - INFO - Processing URL 1/2: https://www.eversports.de/s/pole-and-move-mannheim\n"
     ]
    },
    {
     "name": "stdout",
     "output_type": "stream",
     "text": [
      "Converting to DataFrame...\n",
      "Validating URLs...\n"
     ]
    },
    {
     "name": "stderr",
     "output_type": "stream",
     "text": [
      "2024-02-21 15:19:33,553 - INFO - URL https://www.eversports.de/s/pole-and-move-mannheim is valid.\n",
      "2024-02-21 15:19:33,555 - INFO - Processing URL 2/2: https://www.eversports.de/sw/pole-and-move-mannheim\n",
      "2024-02-21 15:19:35,023 - INFO - URL https://www.eversports.de/sw/pole-and-move-mannheim is valid.\n"
     ]
    },
    {
     "name": "stdout",
     "output_type": "stream",
     "text": [
      "Scraping Pole Studio Data from https://www.eversports.de/s/pole-and-move-mannheim...\n",
      "Scraping Workshops Data from https://www.eversports.de/sw/pole-and-move-mannheim...\n",
      "Scraping Workshop Details from https://www.eversports.de/e/workshop/gbofUBp...\n",
      "Scraping Workshop Details from https://www.eversports.de/e/workshop/NFfn_y6...\n",
      "Scraping Workshop Details from https://www.eversports.de/e/workshop/miY7n0b...\n",
      "Scraping Workshop Details from https://www.eversports.de/e/workshop/C9b62JT...\n",
      "Scraping Workshop Details from https://www.eversports.de/e/workshop/0fonSE4...\n"
     ]
    },
    {
     "name": "stderr",
     "output_type": "stream",
     "text": [
      "Processing URLs:  28%|██▊       | 121/438 [07:50<48:01,  9.09s/it]"
     ]
    },
    {
     "name": "stdout",
     "output_type": "stream",
     "text": [
      "\n",
      "Processing completed.\n",
      "-------------------------------- \n",
      "\n",
      "2024-02-21 15:19:44 - INFO - Scraping Data from: https://www.eversports.de/s/pole-and-move-mannheim\n",
      "Pole Studio Data: 1 entries\n",
      "2024-02-21 15:19:44 - INFO - Scraping Data from: https://www.eversports.de/s/pole-and-move-mannheim\n",
      "Workshops Data: 5 entries\n",
      "2024-02-21 15:19:44 - INFO - Scraping Data from: https://www.eversports.de/s/pole-and-move-mannheim\n",
      "Workshop Details: 5 entries\n",
      "Starting URL reconstruction...\n"
     ]
    },
    {
     "name": "stderr",
     "output_type": "stream",
     "text": [
      "Processing URLs:  28%|██▊       | 122/438 [07:51<35:40,  6.77s/it]"
     ]
    },
    {
     "name": "stdout",
     "output_type": "stream",
     "text": [
      "Error during HTTP request: 404 Client Error: Not Found for url: https://www.eversports.de/s/pole-arts-saarland-\n",
      "Converting to DataFrame...\n",
      "Validating URLs...\n",
      "\n",
      "Processing completed.\n",
      "-------------------------------- \n",
      "\n",
      "Starting URL reconstruction...\n"
     ]
    },
    {
     "name": "stderr",
     "output_type": "stream",
     "text": [
      "2024-02-21 15:19:47,241 - INFO - Processing URL 1/2: https://www.eversports.de/s/soultide\n"
     ]
    },
    {
     "name": "stdout",
     "output_type": "stream",
     "text": [
      "Converting to DataFrame...\n",
      "Validating URLs...\n"
     ]
    },
    {
     "name": "stderr",
     "output_type": "stream",
     "text": [
      "2024-02-21 15:19:49,422 - INFO - URL https://www.eversports.de/s/soultide is valid.\n",
      "2024-02-21 15:19:49,423 - INFO - Processing URL 2/2: https://www.eversports.de/sw/soultide\n",
      "2024-02-21 15:19:51,270 - INFO - URL https://www.eversports.de/sw/soultide is valid.\n"
     ]
    },
    {
     "name": "stdout",
     "output_type": "stream",
     "text": [
      "Scraping Pole Studio Data from https://www.eversports.de/s/soultide...\n",
      "Scraping Workshops Data from https://www.eversports.de/sw/soultide...\n",
      "Scraping Workshop Details from https://www.eversports.de/e/workshop/U2ElOtm...\n",
      "Scraping Workshop Details from https://www.eversports.de/e/workshop/NqEFLYz...\n",
      "Scraping Workshop Details from https://www.eversports.de/e/workshop/B682STl...\n",
      "Scraping Workshop Details from https://www.eversports.de/e/workshop/npdGKjQ...\n"
     ]
    },
    {
     "name": "stderr",
     "output_type": "stream",
     "text": [
      "Processing URLs:  28%|██▊       | 123/438 [08:04<46:02,  8.77s/it]"
     ]
    },
    {
     "name": "stdout",
     "output_type": "stream",
     "text": [
      "\n",
      "Processing completed.\n",
      "-------------------------------- \n",
      "\n",
      "2024-02-21 15:19:59 - INFO - Scraping Data from: https://www.eversports.de/s/soultide\n",
      "Pole Studio Data: 1 entries\n",
      "2024-02-21 15:19:59 - INFO - Scraping Data from: https://www.eversports.de/s/soultide\n",
      "Workshops Data: 4 entries\n",
      "2024-02-21 15:19:59 - INFO - Scraping Data from: https://www.eversports.de/s/soultide\n",
      "Workshop Details: 4 entries\n",
      "Starting URL reconstruction...\n"
     ]
    },
    {
     "name": "stderr",
     "output_type": "stream",
     "text": [
      "Processing URLs:  28%|██▊       | 124/438 [08:06<35:06,  6.71s/it]"
     ]
    },
    {
     "name": "stdout",
     "output_type": "stream",
     "text": [
      "Error during HTTP request: 404 Client Error: Not Found for url: https://www.eversports.de/s/poleroom\n",
      "Converting to DataFrame...\n",
      "Validating URLs...\n",
      "\n",
      "Processing completed.\n",
      "-------------------------------- \n",
      "\n",
      "Starting URL reconstruction...\n"
     ]
    },
    {
     "name": "stderr",
     "output_type": "stream",
     "text": [
      "Processing URLs:  29%|██▊       | 125/438 [08:08<26:39,  5.11s/it]"
     ]
    },
    {
     "name": "stdout",
     "output_type": "stream",
     "text": [
      "Error during HTTP request: 404 Client Error: Not Found for url: https://www.eversports.de/s/ironx-\n",
      "Converting to DataFrame...\n",
      "Validating URLs...\n",
      "\n",
      "Processing completed.\n",
      "-------------------------------- \n",
      "\n",
      "Starting URL reconstruction...\n"
     ]
    },
    {
     "name": "stderr",
     "output_type": "stream",
     "text": [
      "Processing URLs:  29%|██▉       | 126/438 [08:09<20:31,  3.95s/it]"
     ]
    },
    {
     "name": "stdout",
     "output_type": "stream",
     "text": [
      "Error during HTTP request: 404 Client Error: Not Found for url: https://www.eversports.de/s/unique-pole-art\n",
      "Converting to DataFrame...\n",
      "Validating URLs...\n",
      "\n",
      "Processing completed.\n",
      "-------------------------------- \n",
      "\n",
      "Starting URL reconstruction...\n"
     ]
    },
    {
     "name": "stderr",
     "output_type": "stream",
     "text": [
      "2024-02-21 15:20:05,373 - INFO - Processing URL 1/1: https://www.eversports.de/s/loft1-basel-city\n"
     ]
    },
    {
     "name": "stdout",
     "output_type": "stream",
     "text": [
      "Converting to DataFrame...\n",
      "Validating URLs...\n"
     ]
    },
    {
     "name": "stderr",
     "output_type": "stream",
     "text": [
      "2024-02-21 15:20:07,268 - INFO - URL https://www.eversports.de/s/loft1-basel-city is valid.\n"
     ]
    },
    {
     "name": "stdout",
     "output_type": "stream",
     "text": [
      "Scraping Pole Studio Data from https://www.eversports.de/s/loft1-basel-city...\n"
     ]
    },
    {
     "name": "stderr",
     "output_type": "stream",
     "text": [
      "Processing URLs:  29%|██▉       | 127/438 [08:13<20:29,  3.95s/it]"
     ]
    },
    {
     "name": "stdout",
     "output_type": "stream",
     "text": [
      "\n",
      "Processing completed.\n",
      "-------------------------------- \n",
      "\n",
      "2024-02-21 15:20:07 - INFO - Scraping Data from: https://www.eversports.de/s/loft1-basel-city\n",
      "Pole Studio Data: 1 entries\n",
      "Starting URL reconstruction...\n"
     ]
    },
    {
     "name": "stderr",
     "output_type": "stream",
     "text": [
      "2024-02-21 15:20:08,983 - INFO - Processing URL 1/1: https://www.eversports.de/s/pole-and-art\n"
     ]
    },
    {
     "name": "stdout",
     "output_type": "stream",
     "text": [
      "Converting to DataFrame...\n",
      "Validating URLs...\n"
     ]
    },
    {
     "name": "stderr",
     "output_type": "stream",
     "text": [
      "2024-02-21 15:20:10,348 - INFO - URL https://www.eversports.de/s/pole-and-art is valid.\n"
     ]
    },
    {
     "name": "stdout",
     "output_type": "stream",
     "text": [
      "Scraping Pole Studio Data from https://www.eversports.de/s/pole-and-art...\n"
     ]
    },
    {
     "name": "stderr",
     "output_type": "stream",
     "text": [
      "Processing URLs:  29%|██▉       | 128/438 [08:16<18:58,  3.67s/it]"
     ]
    },
    {
     "name": "stdout",
     "output_type": "stream",
     "text": [
      "\n",
      "Processing completed.\n",
      "-------------------------------- \n",
      "\n",
      "2024-02-21 15:20:10 - INFO - Scraping Data from: https://www.eversports.de/s/pole-and-art\n",
      "Pole Studio Data: 1 entries\n",
      "Starting URL reconstruction...\n"
     ]
    },
    {
     "name": "stderr",
     "output_type": "stream",
     "text": [
      "Processing URLs:  29%|██▉       | 129/438 [08:17<15:13,  2.96s/it]"
     ]
    },
    {
     "name": "stdout",
     "output_type": "stream",
     "text": [
      "Error during HTTP request: 404 Client Error: Not Found for url: https://www.eversports.de/s/mstage-tanzart-bewegung\n",
      "Converting to DataFrame...\n",
      "Validating URLs...\n",
      "\n",
      "Processing completed.\n",
      "-------------------------------- \n",
      "\n",
      "Starting URL reconstruction...\n"
     ]
    },
    {
     "name": "stderr",
     "output_type": "stream",
     "text": [
      "2024-02-21 15:20:13,194 - INFO - Processing URL 1/1: https://www.eversports.de/s/poleart_inspiration\n"
     ]
    },
    {
     "name": "stdout",
     "output_type": "stream",
     "text": [
      "Converting to DataFrame...\n",
      "Validating URLs...\n"
     ]
    },
    {
     "name": "stderr",
     "output_type": "stream",
     "text": [
      "2024-02-21 15:20:14,903 - INFO - URL https://www.eversports.de/s/poleart_inspiration is valid.\n"
     ]
    },
    {
     "name": "stdout",
     "output_type": "stream",
     "text": [
      "Scraping Pole Studio Data from https://www.eversports.de/s/poleart_inspiration...\n",
      "\n",
      "Processing completed.\n",
      "-------------------------------- \n",
      "\n"
     ]
    },
    {
     "name": "stderr",
     "output_type": "stream",
     "text": [
      "Processing URLs:  30%|██▉       | 130/438 [08:20<15:34,  3.03s/it]"
     ]
    },
    {
     "name": "stdout",
     "output_type": "stream",
     "text": [
      "2024-02-21 15:20:15 - INFO - Scraping Data from: https://www.eversports.de/s/poleart_inspiration\n",
      "Pole Studio Data: 1 entries\n",
      "Starting URL reconstruction...\n"
     ]
    },
    {
     "name": "stderr",
     "output_type": "stream",
     "text": [
      "Processing URLs:  30%|██▉       | 131/438 [08:22<12:56,  2.53s/it]"
     ]
    },
    {
     "name": "stdout",
     "output_type": "stream",
     "text": [
      "Error during HTTP request: 404 Client Error: Not Found for url: https://www.eversports.de/s/la-familia-poleclub\n",
      "Converting to DataFrame...\n",
      "Validating URLs...\n",
      "\n",
      "Processing completed.\n",
      "-------------------------------- \n",
      "\n",
      "Starting URL reconstruction...\n"
     ]
    },
    {
     "name": "stderr",
     "output_type": "stream",
     "text": [
      "Processing URLs:  30%|███       | 132/438 [08:23<11:16,  2.21s/it]"
     ]
    },
    {
     "name": "stdout",
     "output_type": "stream",
     "text": [
      "Error during HTTP request: 404 Client Error: Not Found for url: https://www.eversports.de/s/mmc-dance-studio\n",
      "Converting to DataFrame...\n",
      "Validating URLs...\n",
      "\n",
      "Processing completed.\n",
      "-------------------------------- \n",
      "\n",
      "Starting URL reconstruction...\n"
     ]
    },
    {
     "name": "stderr",
     "output_type": "stream",
     "text": [
      "2024-02-21 15:20:19,562 - INFO - Processing URL 1/1: https://www.eversports.de/s/upsidedown-studio-friedrichsdorf\n"
     ]
    },
    {
     "name": "stdout",
     "output_type": "stream",
     "text": [
      "Converting to DataFrame...\n",
      "Validating URLs...\n"
     ]
    },
    {
     "name": "stderr",
     "output_type": "stream",
     "text": [
      "2024-02-21 15:20:21,045 - INFO - URL https://www.eversports.de/s/upsidedown-studio-friedrichsdorf is valid.\n"
     ]
    },
    {
     "name": "stdout",
     "output_type": "stream",
     "text": [
      "Scraping Pole Studio Data from https://www.eversports.de/s/upsidedown-studio-friedrichsdorf...\n"
     ]
    },
    {
     "name": "stderr",
     "output_type": "stream",
     "text": [
      "Processing URLs:  30%|███       | 133/438 [08:27<13:10,  2.59s/it]"
     ]
    },
    {
     "name": "stdout",
     "output_type": "stream",
     "text": [
      "\n",
      "Processing completed.\n",
      "-------------------------------- \n",
      "\n",
      "2024-02-21 15:20:21 - INFO - Scraping Data from: https://www.eversports.de/s/upsidedown-studio-friedrichsdorf\n",
      "Pole Studio Data: 1 entries\n",
      "Starting URL reconstruction...\n"
     ]
    },
    {
     "name": "stderr",
     "output_type": "stream",
     "text": [
      "2024-02-21 15:20:22,954 - INFO - Processing URL 1/1: https://www.eversports.de/s/spin-up\n"
     ]
    },
    {
     "name": "stdout",
     "output_type": "stream",
     "text": [
      "Converting to DataFrame...\n",
      "Validating URLs...\n"
     ]
    },
    {
     "name": "stderr",
     "output_type": "stream",
     "text": [
      "2024-02-21 15:20:24,558 - INFO - URL https://www.eversports.de/s/spin-up is valid.\n"
     ]
    },
    {
     "name": "stdout",
     "output_type": "stream",
     "text": [
      "Scraping Pole Studio Data from https://www.eversports.de/s/spin-up...\n"
     ]
    },
    {
     "name": "stderr",
     "output_type": "stream",
     "text": [
      "Processing URLs:  31%|███       | 134/438 [08:30<14:30,  2.86s/it]"
     ]
    },
    {
     "name": "stdout",
     "output_type": "stream",
     "text": [
      "\n",
      "Processing completed.\n",
      "-------------------------------- \n",
      "\n",
      "2024-02-21 15:20:24 - INFO - Scraping Data from: https://www.eversports.de/s/spin-up\n",
      "Pole Studio Data: 1 entries\n",
      "Starting URL reconstruction...\n"
     ]
    },
    {
     "name": "stderr",
     "output_type": "stream",
     "text": [
      "Processing URLs:  31%|███       | 135/438 [08:32<12:18,  2.44s/it]"
     ]
    },
    {
     "name": "stdout",
     "output_type": "stream",
     "text": [
      "Error during HTTP request: 404 Client Error: Not Found for url: https://www.eversports.de/s/poledance-schule-berlin\n",
      "Converting to DataFrame...\n",
      "Validating URLs...\n",
      "\n",
      "Processing completed.\n",
      "-------------------------------- \n",
      "\n",
      "Starting URL reconstruction...\n"
     ]
    },
    {
     "name": "stderr",
     "output_type": "stream",
     "text": [
      "Processing URLs:  31%|███       | 136/438 [08:33<10:58,  2.18s/it]"
     ]
    },
    {
     "name": "stdout",
     "output_type": "stream",
     "text": [
      "Error during HTTP request: 404 Client Error: Not Found for url: https://www.eversports.de/s/luftfabrik-dresden\n",
      "Converting to DataFrame...\n",
      "Validating URLs...\n",
      "\n",
      "Processing completed.\n",
      "-------------------------------- \n",
      "\n",
      "Starting URL reconstruction...\n"
     ]
    },
    {
     "name": "stderr",
     "output_type": "stream",
     "text": [
      "Processing URLs:  31%|███▏      | 137/438 [08:34<09:38,  1.92s/it]"
     ]
    },
    {
     "name": "stdout",
     "output_type": "stream",
     "text": [
      "Error during HTTP request: 404 Client Error: Not Found for url: https://www.eversports.de/s/polemagique\n",
      "Converting to DataFrame...\n",
      "Validating URLs...\n",
      "\n",
      "Processing completed.\n",
      "-------------------------------- \n",
      "\n",
      "Starting URL reconstruction...\n"
     ]
    },
    {
     "name": "stderr",
     "output_type": "stream",
     "text": [
      "2024-02-21 15:20:30,880 - INFO - Processing URL 1/1: https://www.eversports.de/s/pole-your-body\n"
     ]
    },
    {
     "name": "stdout",
     "output_type": "stream",
     "text": [
      "Converting to DataFrame...\n",
      "Validating URLs...\n"
     ]
    },
    {
     "name": "stderr",
     "output_type": "stream",
     "text": [
      "2024-02-21 15:20:32,402 - INFO - URL https://www.eversports.de/s/pole-your-body is valid.\n"
     ]
    },
    {
     "name": "stdout",
     "output_type": "stream",
     "text": [
      "Scraping Pole Studio Data from https://www.eversports.de/s/pole-your-body...\n"
     ]
    },
    {
     "name": "stderr",
     "output_type": "stream",
     "text": [
      "Processing URLs:  32%|███▏      | 138/438 [08:38<12:05,  2.42s/it]"
     ]
    },
    {
     "name": "stdout",
     "output_type": "stream",
     "text": [
      "\n",
      "Processing completed.\n",
      "-------------------------------- \n",
      "\n",
      "2024-02-21 15:20:32 - INFO - Scraping Data from: https://www.eversports.de/s/pole-your-body\n",
      "Pole Studio Data: 1 entries\n",
      "Starting URL reconstruction...\n"
     ]
    },
    {
     "name": "stderr",
     "output_type": "stream",
     "text": [
      "Processing URLs:  32%|███▏      | 139/438 [08:42<14:49,  2.97s/it]"
     ]
    },
    {
     "name": "stdout",
     "output_type": "stream",
     "text": [
      "Error during HTTP request: Exceeded 30 redirects.\n",
      "Converting to DataFrame...\n",
      "Validating URLs...\n",
      "\n",
      "Processing completed.\n",
      "-------------------------------- \n",
      "\n",
      "Starting URL reconstruction...\n"
     ]
    },
    {
     "name": "stderr",
     "output_type": "stream",
     "text": [
      "2024-02-21 15:20:38,463 - INFO - Processing URL 1/1: https://www.eversports.de/s/pole-oase\n"
     ]
    },
    {
     "name": "stdout",
     "output_type": "stream",
     "text": [
      "Converting to DataFrame...\n",
      "Validating URLs...\n"
     ]
    },
    {
     "name": "stderr",
     "output_type": "stream",
     "text": [
      "2024-02-21 15:20:39,813 - INFO - URL https://www.eversports.de/s/pole-oase is valid.\n"
     ]
    },
    {
     "name": "stdout",
     "output_type": "stream",
     "text": [
      "Scraping Pole Studio Data from https://www.eversports.de/s/pole-oase...\n"
     ]
    },
    {
     "name": "stderr",
     "output_type": "stream",
     "text": [
      "Processing URLs:  32%|███▏      | 140/438 [08:46<15:46,  3.18s/it]"
     ]
    },
    {
     "name": "stdout",
     "output_type": "stream",
     "text": [
      "\n",
      "Processing completed.\n",
      "-------------------------------- \n",
      "\n",
      "2024-02-21 15:20:40 - INFO - Scraping Data from: https://www.eversports.de/s/pole-oase\n",
      "Pole Studio Data: 1 entries\n",
      "Starting URL reconstruction...\n"
     ]
    },
    {
     "name": "stderr",
     "output_type": "stream",
     "text": [
      "2024-02-21 15:20:42,227 - INFO - Processing URL 1/2: https://www.eversports.de/s/aerialflow\n"
     ]
    },
    {
     "name": "stdout",
     "output_type": "stream",
     "text": [
      "Converting to DataFrame...\n",
      "Validating URLs...\n"
     ]
    },
    {
     "name": "stderr",
     "output_type": "stream",
     "text": [
      "2024-02-21 15:20:44,418 - INFO - URL https://www.eversports.de/s/aerialflow is valid.\n",
      "2024-02-21 15:20:44,419 - INFO - Processing URL 2/2: https://www.eversports.de/sw/aerialflow\n",
      "2024-02-21 15:20:45,549 - INFO - URL https://www.eversports.de/sw/aerialflow is valid.\n"
     ]
    },
    {
     "name": "stdout",
     "output_type": "stream",
     "text": [
      "Scraping Pole Studio Data from https://www.eversports.de/s/aerialflow...\n",
      "Scraping Workshops Data from https://www.eversports.de/sw/aerialflow...\n",
      "Scraping Workshop Details from https://www.eversports.de/e/workshop/OQN28ZD...\n"
     ]
    },
    {
     "name": "stderr",
     "output_type": "stream",
     "text": [
      "Processing URLs:  32%|███▏      | 141/438 [08:54<22:34,  4.56s/it]"
     ]
    },
    {
     "name": "stdout",
     "output_type": "stream",
     "text": [
      "\n",
      "Processing completed.\n",
      "-------------------------------- \n",
      "\n",
      "2024-02-21 15:20:48 - INFO - Scraping Data from: https://www.eversports.de/s/aerialflow\n",
      "Pole Studio Data: 1 entries\n",
      "2024-02-21 15:20:48 - INFO - Scraping Data from: https://www.eversports.de/s/aerialflow\n",
      "Workshops Data: 1 entries\n",
      "2024-02-21 15:20:48 - INFO - Scraping Data from: https://www.eversports.de/s/aerialflow\n",
      "Workshop Details: 1 entries\n",
      "Starting URL reconstruction...\n"
     ]
    },
    {
     "name": "stderr",
     "output_type": "stream",
     "text": [
      "Processing URLs:  32%|███▏      | 142/438 [08:55<17:29,  3.55s/it]"
     ]
    },
    {
     "name": "stdout",
     "output_type": "stream",
     "text": [
      "Error during HTTP request: 404 Client Error: Not Found for url: https://www.eversports.de/s/activo-polefitness\n",
      "Converting to DataFrame...\n",
      "Validating URLs...\n",
      "\n",
      "Processing completed.\n",
      "-------------------------------- \n",
      "\n",
      "Starting URL reconstruction...\n"
     ]
    },
    {
     "name": "stderr",
     "output_type": "stream",
     "text": [
      "Processing URLs:  33%|███▎      | 143/438 [08:56<13:59,  2.85s/it]"
     ]
    },
    {
     "name": "stdout",
     "output_type": "stream",
     "text": [
      "Error during HTTP request: 404 Client Error: Not Found for url: https://www.eversports.de/s/zero-gravity-pole-\n",
      "Converting to DataFrame...\n",
      "Validating URLs...\n",
      "\n",
      "Processing completed.\n",
      "-------------------------------- \n",
      "\n",
      "Starting URL reconstruction...\n"
     ]
    },
    {
     "name": "stderr",
     "output_type": "stream",
     "text": [
      "2024-02-21 15:20:52,423 - INFO - Processing URL 1/1: https://www.eversports.de/s/munich-poledance\n"
     ]
    },
    {
     "name": "stdout",
     "output_type": "stream",
     "text": [
      "Converting to DataFrame...\n",
      "Validating URLs...\n"
     ]
    },
    {
     "name": "stderr",
     "output_type": "stream",
     "text": [
      "2024-02-21 15:20:53,914 - INFO - URL https://www.eversports.de/s/munich-poledance is valid.\n"
     ]
    },
    {
     "name": "stdout",
     "output_type": "stream",
     "text": [
      "Scraping Pole Studio Data from https://www.eversports.de/s/munich-poledance...\n"
     ]
    },
    {
     "name": "stderr",
     "output_type": "stream",
     "text": [
      "Processing URLs:  33%|███▎      | 144/438 [09:00<15:57,  3.26s/it]"
     ]
    },
    {
     "name": "stdout",
     "output_type": "stream",
     "text": [
      "\n",
      "Processing completed.\n",
      "-------------------------------- \n",
      "\n",
      "2024-02-21 15:20:55 - INFO - Scraping Data from: https://www.eversports.de/s/munich-poledance\n",
      "Pole Studio Data: 1 entries\n",
      "Starting URL reconstruction...\n"
     ]
    },
    {
     "name": "stderr",
     "output_type": "stream",
     "text": [
      "2024-02-21 15:20:56,900 - INFO - Processing URL 1/2: https://www.eversports.de/s/stadtgazellen-bremen\n"
     ]
    },
    {
     "name": "stdout",
     "output_type": "stream",
     "text": [
      "Converting to DataFrame...\n",
      "Validating URLs...\n"
     ]
    },
    {
     "name": "stderr",
     "output_type": "stream",
     "text": [
      "2024-02-21 15:20:58,642 - INFO - URL https://www.eversports.de/s/stadtgazellen-bremen is valid.\n",
      "2024-02-21 15:20:58,643 - INFO - Processing URL 2/2: https://www.eversports.de/sw/stadtgazellen-bremen\n",
      "2024-02-21 15:20:59,855 - INFO - URL https://www.eversports.de/sw/stadtgazellen-bremen is valid.\n"
     ]
    },
    {
     "name": "stdout",
     "output_type": "stream",
     "text": [
      "Scraping Pole Studio Data from https://www.eversports.de/s/stadtgazellen-bremen...\n",
      "Scraping Workshops Data from https://www.eversports.de/sw/stadtgazellen-bremen...\n",
      "Scraping Workshop Details from https://www.eversports.de/e/workshop/KWx3LyO...\n",
      "Scraping Workshop Details from https://www.eversports.de/e/workshop/WRl24o5...\n",
      "Scraping Workshop Details from https://www.eversports.de/e/workshop/wrZkEQ3...\n"
     ]
    },
    {
     "name": "stderr",
     "output_type": "stream",
     "text": [
      "Processing URLs:  33%|███▎      | 145/438 [09:12<28:17,  5.79s/it]"
     ]
    },
    {
     "name": "stdout",
     "output_type": "stream",
     "text": [
      "\n",
      "Processing completed.\n",
      "-------------------------------- \n",
      "\n",
      "2024-02-21 15:21:06 - INFO - Scraping Data from: https://www.eversports.de/s/stadtgazellen-bremen\n",
      "Pole Studio Data: 1 entries\n",
      "2024-02-21 15:21:06 - INFO - Scraping Data from: https://www.eversports.de/s/stadtgazellen-bremen\n",
      "Workshops Data: 3 entries\n",
      "2024-02-21 15:21:06 - INFO - Scraping Data from: https://www.eversports.de/s/stadtgazellen-bremen\n",
      "Workshop Details: 3 entries\n",
      "Starting URL reconstruction...\n"
     ]
    },
    {
     "name": "stderr",
     "output_type": "stream",
     "text": [
      "Processing URLs:  33%|███▎      | 146/438 [09:14<22:05,  4.54s/it]"
     ]
    },
    {
     "name": "stdout",
     "output_type": "stream",
     "text": [
      "Error during HTTP request: 404 Client Error: Not Found for url: https://www.eversports.de/s/annaconda-pole-%26-aerial-sports\n",
      "Converting to DataFrame...\n",
      "Validating URLs...\n",
      "\n",
      "Processing completed.\n",
      "-------------------------------- \n",
      "\n",
      "Starting URL reconstruction...\n"
     ]
    },
    {
     "name": "stderr",
     "output_type": "stream",
     "text": [
      "Processing URLs:  34%|███▎      | 147/438 [09:16<18:15,  3.76s/it]"
     ]
    },
    {
     "name": "stdout",
     "output_type": "stream",
     "text": [
      "Error during HTTP request: 404 Client Error: Not Found for url: https://www.eversports.de/s/studio-yh-pole-(and)-sports-berlin\n",
      "Converting to DataFrame...\n",
      "Validating URLs...\n",
      "\n",
      "Processing completed.\n",
      "-------------------------------- \n",
      "\n",
      "Starting URL reconstruction...\n"
     ]
    },
    {
     "name": "stderr",
     "output_type": "stream",
     "text": [
      "Processing URLs:  34%|███▍      | 148/438 [09:18<15:38,  3.24s/it]"
     ]
    },
    {
     "name": "stdout",
     "output_type": "stream",
     "text": [
      "Error during HTTP request: 404 Client Error: Not Found for url: https://www.eversports.de/s/sky-move-pole-sport\n",
      "Converting to DataFrame...\n",
      "Validating URLs...\n",
      "\n",
      "Processing completed.\n",
      "-------------------------------- \n",
      "\n",
      "Starting URL reconstruction...\n"
     ]
    },
    {
     "name": "stderr",
     "output_type": "stream",
     "text": [
      "2024-02-21 15:21:14,298 - INFO - Processing URL 1/2: https://www.eversports.de/s/pole-and-move-heidelberg\n"
     ]
    },
    {
     "name": "stdout",
     "output_type": "stream",
     "text": [
      "Converting to DataFrame...\n",
      "Validating URLs...\n"
     ]
    },
    {
     "name": "stderr",
     "output_type": "stream",
     "text": [
      "2024-02-21 15:21:15,693 - INFO - URL https://www.eversports.de/s/pole-and-move-heidelberg is valid.\n",
      "2024-02-21 15:21:15,694 - INFO - Processing URL 2/2: https://www.eversports.de/sw/pole-and-move-heidelberg\n",
      "2024-02-21 15:21:17,277 - INFO - URL https://www.eversports.de/sw/pole-and-move-heidelberg is valid.\n"
     ]
    },
    {
     "name": "stdout",
     "output_type": "stream",
     "text": [
      "Scraping Pole Studio Data from https://www.eversports.de/s/pole-and-move-heidelberg...\n",
      "Scraping Workshops Data from https://www.eversports.de/sw/pole-and-move-heidelberg...\n",
      "Scraping Workshop Details from https://www.eversports.de/e/workshop/AnumKko...\n",
      "Scraping Workshop Details from https://www.eversports.de/e/workshop/aqDwRxt...\n",
      "Scraping Workshop Details from https://www.eversports.de/e/workshop/xpUUbAx...\n",
      "Scraping Workshop Details from https://www.eversports.de/e/workshop/yXAMy8l...\n",
      "Scraping Workshop Details from https://www.eversports.de/e/workshop/ioRS-mE...\n",
      "Scraping Workshop Details from https://www.eversports.de/e/workshop/mI91ydw...\n",
      "Scraping Workshop Details from https://www.eversports.de/e/workshop/Ngcpd4l...\n",
      "Scraping Workshop Details from https://www.eversports.de/e/workshop/ij8VZCH...\n",
      "Scraping Workshop Details from https://www.eversports.de/e/workshop/Met7fdZ...\n"
     ]
    },
    {
     "name": "stderr",
     "output_type": "stream",
     "text": [
      "Processing URLs:  34%|███▍      | 149/438 [09:37<38:45,  8.05s/it]"
     ]
    },
    {
     "name": "stdout",
     "output_type": "stream",
     "text": [
      "\n",
      "Processing completed.\n",
      "-------------------------------- \n",
      "\n",
      "2024-02-21 15:21:31 - INFO - Scraping Data from: https://www.eversports.de/s/pole-and-move-heidelberg\n",
      "Pole Studio Data: 1 entries\n",
      "2024-02-21 15:21:31 - INFO - Scraping Data from: https://www.eversports.de/s/pole-and-move-heidelberg\n",
      "Workshops Data: 9 entries\n",
      "2024-02-21 15:21:31 - INFO - Scraping Data from: https://www.eversports.de/s/pole-and-move-heidelberg\n",
      "Workshop Details: 9 entries\n",
      "Starting URL reconstruction...\n"
     ]
    },
    {
     "name": "stderr",
     "output_type": "stream",
     "text": [
      "Processing URLs:  34%|███▍      | 150/438 [09:38<28:48,  6.00s/it]"
     ]
    },
    {
     "name": "stdout",
     "output_type": "stream",
     "text": [
      "Error during HTTP request: 404 Client Error: Not Found for url: https://www.eversports.de/s/incredipole---pole-%26-fitness-by-carolin\n",
      "Converting to DataFrame...\n",
      "Validating URLs...\n",
      "\n",
      "Processing completed.\n",
      "-------------------------------- \n",
      "\n",
      "Starting URL reconstruction...\n"
     ]
    },
    {
     "name": "stderr",
     "output_type": "stream",
     "text": [
      "Processing URLs:  34%|███▍      | 151/438 [09:39<21:51,  4.57s/it]"
     ]
    },
    {
     "name": "stdout",
     "output_type": "stream",
     "text": [
      "Error during HTTP request: 404 Client Error: Not Found for url: https://www.eversports.de/s/anni's-pole-dance-uetersen\n",
      "Converting to DataFrame...\n",
      "Validating URLs...\n",
      "\n",
      "Processing completed.\n",
      "-------------------------------- \n",
      "\n",
      "Starting URL reconstruction...\n"
     ]
    },
    {
     "name": "stderr",
     "output_type": "stream",
     "text": [
      "Processing URLs:  35%|███▍      | 152/438 [09:41<16:59,  3.56s/it]"
     ]
    },
    {
     "name": "stdout",
     "output_type": "stream",
     "text": [
      "Error during HTTP request: 404 Client Error: Not Found for url: https://www.eversports.de/s/pole-fit-britt\n",
      "Converting to DataFrame...\n",
      "Validating URLs...\n",
      "\n",
      "Processing completed.\n",
      "-------------------------------- \n",
      "\n",
      "Starting URL reconstruction...\n"
     ]
    },
    {
     "name": "stderr",
     "output_type": "stream",
     "text": [
      "Processing URLs:  35%|███▍      | 153/438 [09:42<13:37,  2.87s/it]"
     ]
    },
    {
     "name": "stdout",
     "output_type": "stream",
     "text": [
      "Error during HTTP request: 404 Client Error: Not Found for url: https://www.eversports.de/s/aerial-athletix-\n",
      "Converting to DataFrame...\n",
      "Validating URLs...\n",
      "\n",
      "Processing completed.\n",
      "-------------------------------- \n",
      "\n",
      "Starting URL reconstruction...\n"
     ]
    },
    {
     "name": "stderr",
     "output_type": "stream",
     "text": [
      "Processing URLs:  35%|███▌      | 154/438 [09:43<11:16,  2.38s/it]"
     ]
    },
    {
     "name": "stdout",
     "output_type": "stream",
     "text": [
      "Error during HTTP request: 404 Client Error: Not Found for url: https://www.eversports.de/s/lift-off---poledance-academy-frankfurt\n",
      "Converting to DataFrame...\n",
      "Validating URLs...\n",
      "\n",
      "Processing completed.\n",
      "-------------------------------- \n",
      "\n",
      "Starting URL reconstruction...\n"
     ]
    },
    {
     "name": "stderr",
     "output_type": "stream",
     "text": [
      "Processing URLs:  35%|███▌      | 155/438 [09:44<09:48,  2.08s/it]"
     ]
    },
    {
     "name": "stdout",
     "output_type": "stream",
     "text": [
      "Error during HTTP request: 404 Client Error: Not Found for url: https://www.eversports.de/s/metropole-dance---now1\n",
      "Converting to DataFrame...\n",
      "Validating URLs...\n",
      "\n",
      "Processing completed.\n",
      "-------------------------------- \n",
      "\n",
      "Starting URL reconstruction...\n"
     ]
    },
    {
     "name": "stderr",
     "output_type": "stream",
     "text": [
      "Processing URLs:  36%|███▌      | 156/438 [09:48<12:03,  2.57s/it]"
     ]
    },
    {
     "name": "stdout",
     "output_type": "stream",
     "text": [
      "Error during HTTP request: Exceeded 30 redirects.\n",
      "Converting to DataFrame...\n",
      "Validating URLs...\n",
      "\n",
      "Processing completed.\n",
      "-------------------------------- \n",
      "\n",
      "Starting URL reconstruction...\n"
     ]
    },
    {
     "name": "stderr",
     "output_type": "stream",
     "text": [
      "Processing URLs:  36%|███▌      | 157/438 [09:49<10:09,  2.17s/it]"
     ]
    },
    {
     "name": "stdout",
     "output_type": "stream",
     "text": [
      "Error during HTTP request: 404 Client Error: Not Found for url: https://www.eversports.de/s/aerial-art-poledance-city-base\n",
      "Converting to DataFrame...\n",
      "Validating URLs...\n",
      "\n",
      "Processing completed.\n",
      "-------------------------------- \n",
      "\n",
      "Starting URL reconstruction...\n"
     ]
    },
    {
     "name": "stderr",
     "output_type": "stream",
     "text": [
      "Processing URLs:  36%|███▌      | 158/438 [09:51<08:43,  1.87s/it]"
     ]
    },
    {
     "name": "stdout",
     "output_type": "stream",
     "text": [
      "Error during HTTP request: 404 Client Error: Not Found for url: https://www.eversports.de/s/gravity-arts-luzern\n",
      "Converting to DataFrame...\n",
      "Validating URLs...\n",
      "\n",
      "Processing completed.\n",
      "-------------------------------- \n",
      "\n",
      "Starting URL reconstruction...\n"
     ]
    },
    {
     "name": "stderr",
     "output_type": "stream",
     "text": [
      "Processing URLs:  36%|███▋      | 159/438 [09:53<10:10,  2.19s/it]"
     ]
    },
    {
     "name": "stdout",
     "output_type": "stream",
     "text": [
      "Error during HTTP request: Exceeded 30 redirects.\n",
      "Converting to DataFrame...\n",
      "Validating URLs...\n",
      "\n",
      "Processing completed.\n",
      "-------------------------------- \n",
      "\n",
      "Starting URL reconstruction...\n"
     ]
    },
    {
     "name": "stderr",
     "output_type": "stream",
     "text": [
      "Processing URLs:  37%|███▋      | 160/438 [09:55<09:05,  1.96s/it]"
     ]
    },
    {
     "name": "stdout",
     "output_type": "stream",
     "text": [
      "Error during HTTP request: 404 Client Error: Not Found for url: https://www.eversports.de/s/aerial-art-poledance-country-base\n",
      "Converting to DataFrame...\n",
      "Validating URLs...\n",
      "\n",
      "Processing completed.\n",
      "-------------------------------- \n",
      "\n",
      "Starting URL reconstruction...\n"
     ]
    },
    {
     "name": "stderr",
     "output_type": "stream",
     "text": [
      "Processing URLs:  37%|███▋      | 161/438 [09:56<08:03,  1.74s/it]"
     ]
    },
    {
     "name": "stdout",
     "output_type": "stream",
     "text": [
      "Error during HTTP request: 404 Client Error: Not Found for url: https://www.eversports.de/s/polesports-studio-buchholz\n",
      "Converting to DataFrame...\n",
      "Validating URLs...\n",
      "\n",
      "Processing completed.\n",
      "-------------------------------- \n",
      "\n",
      "Starting URL reconstruction...\n"
     ]
    },
    {
     "name": "stderr",
     "output_type": "stream",
     "text": [
      "Processing URLs:  37%|███▋      | 162/438 [09:57<07:22,  1.60s/it]"
     ]
    },
    {
     "name": "stdout",
     "output_type": "stream",
     "text": [
      "Error during HTTP request: 404 Client Error: Not Found for url: https://www.eversports.de/s/polepoint-dance-studio\n",
      "Converting to DataFrame...\n",
      "Validating URLs...\n",
      "\n",
      "Processing completed.\n",
      "-------------------------------- \n",
      "\n",
      "Starting URL reconstruction...\n"
     ]
    },
    {
     "name": "stderr",
     "output_type": "stream",
     "text": [
      "Processing URLs:  37%|███▋      | 163/438 [09:59<06:45,  1.47s/it]"
     ]
    },
    {
     "name": "stdout",
     "output_type": "stream",
     "text": [
      "Error during HTTP request: 404 Client Error: Not Found for url: https://www.eversports.de/s/slow-motion\n",
      "Converting to DataFrame...\n",
      "Validating URLs...\n",
      "\n",
      "Processing completed.\n",
      "-------------------------------- \n",
      "\n",
      "Starting URL reconstruction...\n"
     ]
    },
    {
     "name": "stderr",
     "output_type": "stream",
     "text": [
      "Processing URLs:  37%|███▋      | 164/438 [10:02<09:32,  2.09s/it]"
     ]
    },
    {
     "name": "stdout",
     "output_type": "stream",
     "text": [
      "Error during HTTP request: Exceeded 30 redirects.\n",
      "Converting to DataFrame...\n",
      "Validating URLs...\n",
      "\n",
      "Processing completed.\n",
      "-------------------------------- \n",
      "\n",
      "Starting URL reconstruction...\n"
     ]
    },
    {
     "name": "stderr",
     "output_type": "stream",
     "text": [
      "Processing URLs:  38%|███▊      | 165/438 [10:03<08:16,  1.82s/it]"
     ]
    },
    {
     "name": "stdout",
     "output_type": "stream",
     "text": [
      "Error during HTTP request: 404 Client Error: Not Found for url: https://www.eversports.de/s/aerial-%26-vertikal-floor-of-art\n",
      "Converting to DataFrame...\n",
      "Validating URLs...\n",
      "\n",
      "Processing completed.\n",
      "-------------------------------- \n",
      "\n",
      "Starting URL reconstruction...\n"
     ]
    },
    {
     "name": "stderr",
     "output_type": "stream",
     "text": [
      "Processing URLs:  38%|███▊      | 166/438 [10:05<07:25,  1.64s/it]"
     ]
    },
    {
     "name": "stdout",
     "output_type": "stream",
     "text": [
      "Error during HTTP request: 404 Client Error: Not Found for url: https://www.eversports.de/s/polefit-pirmasens\n",
      "Converting to DataFrame...\n",
      "Validating URLs...\n",
      "\n",
      "Processing completed.\n",
      "-------------------------------- \n",
      "\n",
      "Starting URL reconstruction...\n"
     ]
    },
    {
     "name": "stderr",
     "output_type": "stream",
     "text": [
      "Processing URLs:  38%|███▊      | 167/438 [10:06<06:55,  1.53s/it]"
     ]
    },
    {
     "name": "stdout",
     "output_type": "stream",
     "text": [
      "Error during HTTP request: 404 Client Error: Not Found for url: https://www.eversports.de/s/polesition\n",
      "Converting to DataFrame...\n",
      "Validating URLs...\n",
      "\n",
      "Processing completed.\n",
      "-------------------------------- \n",
      "\n",
      "Starting URL reconstruction...\n"
     ]
    },
    {
     "name": "stderr",
     "output_type": "stream",
     "text": [
      "2024-02-21 15:22:02,262 - INFO - Processing URL 1/1: https://www.eversports.de/s/la-belle\n"
     ]
    },
    {
     "name": "stdout",
     "output_type": "stream",
     "text": [
      "Converting to DataFrame...\n",
      "Validating URLs...\n"
     ]
    },
    {
     "name": "stderr",
     "output_type": "stream",
     "text": [
      "2024-02-21 15:22:03,625 - INFO - URL https://www.eversports.de/s/la-belle is valid.\n"
     ]
    },
    {
     "name": "stdout",
     "output_type": "stream",
     "text": [
      "Scraping Pole Studio Data from https://www.eversports.de/s/la-belle...\n"
     ]
    },
    {
     "name": "stderr",
     "output_type": "stream",
     "text": [
      "Processing URLs:  38%|███▊      | 168/438 [10:09<09:28,  2.10s/it]"
     ]
    },
    {
     "name": "stdout",
     "output_type": "stream",
     "text": [
      "\n",
      "Processing completed.\n",
      "-------------------------------- \n",
      "\n",
      "2024-02-21 15:22:04 - INFO - Scraping Data from: https://www.eversports.de/s/la-belle\n",
      "Pole Studio Data: 1 entries\n",
      "Starting URL reconstruction...\n"
     ]
    },
    {
     "name": "stderr",
     "output_type": "stream",
     "text": [
      "Processing URLs:  39%|███▊      | 169/438 [10:11<08:18,  1.85s/it]"
     ]
    },
    {
     "name": "stdout",
     "output_type": "stream",
     "text": [
      "Error during HTTP request: 404 Client Error: Not Found for url: https://www.eversports.de/s/polestudio-neuss\n",
      "Converting to DataFrame...\n",
      "Validating URLs...\n",
      "\n",
      "Processing completed.\n",
      "-------------------------------- \n",
      "\n",
      "Starting URL reconstruction...\n"
     ]
    },
    {
     "name": "stderr",
     "output_type": "stream",
     "text": [
      "Processing URLs:  39%|███▉      | 170/438 [10:12<07:23,  1.65s/it]"
     ]
    },
    {
     "name": "stdout",
     "output_type": "stream",
     "text": [
      "Error during HTTP request: 404 Client Error: Not Found for url: https://www.eversports.de/s/anni's-pole-dance-neum%C3%BCnster\n",
      "Converting to DataFrame...\n",
      "Validating URLs...\n",
      "\n",
      "Processing completed.\n",
      "-------------------------------- \n",
      "\n",
      "Starting URL reconstruction...\n"
     ]
    },
    {
     "name": "stderr",
     "output_type": "stream",
     "text": [
      "Processing URLs:  39%|███▉      | 171/438 [10:13<06:44,  1.52s/it]"
     ]
    },
    {
     "name": "stdout",
     "output_type": "stream",
     "text": [
      "Error during HTTP request: 404 Client Error: Not Found for url: https://www.eversports.de/s/pole-dream\n",
      "Converting to DataFrame...\n",
      "Validating URLs...\n",
      "\n",
      "Processing completed.\n",
      "-------------------------------- \n",
      "\n",
      "Starting URL reconstruction...\n"
     ]
    },
    {
     "name": "stderr",
     "output_type": "stream",
     "text": [
      "2024-02-21 15:22:09,249 - INFO - Processing URL 1/2: https://www.eversports.de/s/polearize\n"
     ]
    },
    {
     "name": "stdout",
     "output_type": "stream",
     "text": [
      "Converting to DataFrame...\n",
      "Validating URLs...\n"
     ]
    },
    {
     "name": "stderr",
     "output_type": "stream",
     "text": [
      "2024-02-21 15:22:10,652 - INFO - URL https://www.eversports.de/s/polearize is valid.\n",
      "2024-02-21 15:22:10,656 - INFO - Processing URL 2/2: https://www.eversports.de/sw/polearize\n",
      "2024-02-21 15:22:12,033 - INFO - URL https://www.eversports.de/sw/polearize is valid.\n"
     ]
    },
    {
     "name": "stdout",
     "output_type": "stream",
     "text": [
      "Scraping Pole Studio Data from https://www.eversports.de/s/polearize...\n",
      "Scraping Workshops Data from https://www.eversports.de/sw/polearize...\n",
      "Scraping Workshop Details from https://www.eversports.de/e/workshop/516yIHG...\n",
      "Scraping Workshop Details from https://www.eversports.de/e/workshop/oGm0xhs...\n",
      "Scraping Workshop Details from https://www.eversports.de/e/workshop/7yGrljL...\n",
      "Scraping Workshop Details from https://www.eversports.de/e/workshop/vmkQFeK...\n",
      "Scraping Workshop Details from https://www.eversports.de/e/workshop/4gGolhi...\n"
     ]
    },
    {
     "name": "stderr",
     "output_type": "stream",
     "text": [
      "Processing URLs:  39%|███▉      | 172/438 [10:27<23:46,  5.36s/it]"
     ]
    },
    {
     "name": "stdout",
     "output_type": "stream",
     "text": [
      "\n",
      "Processing completed.\n",
      "-------------------------------- \n",
      "\n",
      "2024-02-21 15:22:22 - INFO - Scraping Data from: https://www.eversports.de/s/polearize\n",
      "Pole Studio Data: 1 entries\n",
      "2024-02-21 15:22:22 - INFO - Scraping Data from: https://www.eversports.de/s/polearize\n",
      "Workshops Data: 5 entries\n",
      "2024-02-21 15:22:22 - INFO - Scraping Data from: https://www.eversports.de/s/polearize\n",
      "Workshop Details: 5 entries\n",
      "Starting URL reconstruction...\n"
     ]
    },
    {
     "name": "stderr",
     "output_type": "stream",
     "text": [
      "Processing URLs:  39%|███▉      | 173/438 [10:30<20:13,  4.58s/it]"
     ]
    },
    {
     "name": "stdout",
     "output_type": "stream",
     "text": [
      "Error during HTTP request: 404 Client Error: Not Found for url: https://www.eversports.de/s/saltosandra\n",
      "Converting to DataFrame...\n",
      "Validating URLs...\n",
      "\n",
      "Processing completed.\n",
      "-------------------------------- \n",
      "\n",
      "Starting URL reconstruction...\n"
     ]
    },
    {
     "name": "stderr",
     "output_type": "stream",
     "text": [
      "Processing URLs:  40%|███▉      | 174/438 [10:31<15:41,  3.57s/it]"
     ]
    },
    {
     "name": "stdout",
     "output_type": "stream",
     "text": [
      "Error during HTTP request: 404 Client Error: Not Found for url: https://www.eversports.de/s/pole-fit-nes\n",
      "Converting to DataFrame...\n",
      "Validating URLs...\n",
      "\n",
      "Processing completed.\n",
      "-------------------------------- \n",
      "\n",
      "Starting URL reconstruction...\n"
     ]
    },
    {
     "name": "stderr",
     "output_type": "stream",
     "text": [
      "2024-02-21 15:22:27,737 - INFO - Processing URL 1/2: https://www.eversports.de/s/pole-land\n"
     ]
    },
    {
     "name": "stdout",
     "output_type": "stream",
     "text": [
      "Converting to DataFrame...\n",
      "Validating URLs...\n"
     ]
    },
    {
     "name": "stderr",
     "output_type": "stream",
     "text": [
      "2024-02-21 15:22:29,242 - INFO - URL https://www.eversports.de/s/pole-land is valid.\n",
      "2024-02-21 15:22:29,243 - INFO - Processing URL 2/2: https://www.eversports.de/sw/pole-land\n",
      "2024-02-21 15:22:30,591 - INFO - URL https://www.eversports.de/sw/pole-land is valid.\n"
     ]
    },
    {
     "name": "stdout",
     "output_type": "stream",
     "text": [
      "Scraping Pole Studio Data from https://www.eversports.de/s/pole-land...\n",
      "Scraping Workshops Data from https://www.eversports.de/sw/pole-land...\n",
      "Scraping Workshop Details from https://www.eversports.de/e/workshop/ezegoNQ...\n",
      "Scraping Workshop Details from https://www.eversports.de/e/workshop/WccIM2q...\n",
      "Scraping Workshop Details from https://www.eversports.de/e/workshop/SqEYfO3...\n",
      "Scraping Workshop Details from https://www.eversports.de/e/workshop/OGUBUS8...\n",
      "Scraping Workshop Details from https://www.eversports.de/e/workshop/VVXdiD8...\n"
     ]
    },
    {
     "name": "stderr",
     "output_type": "stream",
     "text": [
      "Processing URLs:  40%|███▉      | 175/438 [10:46<30:29,  6.96s/it]"
     ]
    },
    {
     "name": "stdout",
     "output_type": "stream",
     "text": [
      "\n",
      "Processing completed.\n",
      "-------------------------------- \n",
      "\n",
      "2024-02-21 15:22:40 - INFO - Scraping Data from: https://www.eversports.de/s/pole-land\n",
      "Pole Studio Data: 1 entries\n",
      "2024-02-21 15:22:40 - INFO - Scraping Data from: https://www.eversports.de/s/pole-land\n",
      "Workshops Data: 5 entries\n",
      "2024-02-21 15:22:40 - INFO - Scraping Data from: https://www.eversports.de/s/pole-land\n",
      "Workshop Details: 5 entries\n",
      "Starting URL reconstruction...\n"
     ]
    },
    {
     "name": "stderr",
     "output_type": "stream",
     "text": [
      "2024-02-21 15:22:42,451 - INFO - Processing URL 1/1: https://www.eversports.de/s/freaky-fitness\n"
     ]
    },
    {
     "name": "stdout",
     "output_type": "stream",
     "text": [
      "Converting to DataFrame...\n",
      "Validating URLs...\n"
     ]
    },
    {
     "name": "stderr",
     "output_type": "stream",
     "text": [
      "2024-02-21 15:22:44,102 - INFO - URL https://www.eversports.de/s/freaky-fitness is valid.\n"
     ]
    },
    {
     "name": "stdout",
     "output_type": "stream",
     "text": [
      "Scraping Pole Studio Data from https://www.eversports.de/s/freaky-fitness...\n"
     ]
    },
    {
     "name": "stderr",
     "output_type": "stream",
     "text": [
      "Processing URLs:  40%|████      | 176/438 [10:50<26:28,  6.06s/it]"
     ]
    },
    {
     "name": "stdout",
     "output_type": "stream",
     "text": [
      "\n",
      "Processing completed.\n",
      "-------------------------------- \n",
      "\n",
      "2024-02-21 15:22:44 - INFO - Scraping Data from: https://www.eversports.de/s/freaky-fitness\n",
      "Pole Studio Data: 1 entries\n",
      "Starting URL reconstruction...\n"
     ]
    },
    {
     "name": "stderr",
     "output_type": "stream",
     "text": [
      "2024-02-21 15:22:46,280 - INFO - Processing URL 1/1: https://www.eversports.de/s/stories-in-motion\n"
     ]
    },
    {
     "name": "stdout",
     "output_type": "stream",
     "text": [
      "Converting to DataFrame...\n",
      "Validating URLs...\n"
     ]
    },
    {
     "name": "stderr",
     "output_type": "stream",
     "text": [
      "2024-02-21 15:22:47,618 - INFO - URL https://www.eversports.de/s/stories-in-motion is valid.\n"
     ]
    },
    {
     "name": "stdout",
     "output_type": "stream",
     "text": [
      "Scraping Pole Studio Data from https://www.eversports.de/s/stories-in-motion...\n"
     ]
    },
    {
     "name": "stderr",
     "output_type": "stream",
     "text": [
      "Processing URLs:  40%|████      | 177/438 [10:53<22:25,  5.16s/it]"
     ]
    },
    {
     "name": "stdout",
     "output_type": "stream",
     "text": [
      "\n",
      "Processing completed.\n",
      "-------------------------------- \n",
      "\n",
      "2024-02-21 15:22:47 - INFO - Scraping Data from: https://www.eversports.de/s/stories-in-motion\n",
      "Pole Studio Data: 1 entries\n",
      "Starting URL reconstruction...\n"
     ]
    },
    {
     "name": "stderr",
     "output_type": "stream",
     "text": [
      "Processing URLs:  41%|████      | 178/438 [10:54<17:13,  3.98s/it]"
     ]
    },
    {
     "name": "stdout",
     "output_type": "stream",
     "text": [
      "Error during HTTP request: 404 Client Error: Not Found for url: https://www.eversports.de/s/dalibravita\n",
      "Converting to DataFrame...\n",
      "Validating URLs...\n",
      "\n",
      "Processing completed.\n",
      "-------------------------------- \n",
      "\n",
      "Starting URL reconstruction...\n"
     ]
    },
    {
     "name": "stderr",
     "output_type": "stream",
     "text": [
      "Processing URLs:  41%|████      | 179/438 [10:56<13:46,  3.19s/it]"
     ]
    },
    {
     "name": "stdout",
     "output_type": "stream",
     "text": [
      "Error during HTTP request: 404 Client Error: Not Found for url: https://www.eversports.de/s/move-with-ana\n",
      "Converting to DataFrame...\n",
      "Validating URLs...\n",
      "\n",
      "Processing completed.\n",
      "-------------------------------- \n",
      "\n",
      "Starting URL reconstruction...\n"
     ]
    },
    {
     "name": "stderr",
     "output_type": "stream",
     "text": [
      "Processing URLs:  41%|████      | 180/438 [10:57<11:09,  2.59s/it]"
     ]
    },
    {
     "name": "stdout",
     "output_type": "stream",
     "text": [
      "Error during HTTP request: 404 Client Error: Not Found for url: https://www.eversports.de/s/open-aerial-dance-wiesbaden\n",
      "Converting to DataFrame...\n",
      "Validating URLs...\n",
      "\n",
      "Processing completed.\n",
      "-------------------------------- \n",
      "\n",
      "Starting URL reconstruction...\n"
     ]
    },
    {
     "name": "stderr",
     "output_type": "stream",
     "text": [
      "2024-02-21 15:22:53,512 - INFO - Processing URL 1/1: https://www.eversports.de/s/dancingstyle\n"
     ]
    },
    {
     "name": "stdout",
     "output_type": "stream",
     "text": [
      "Converting to DataFrame...\n",
      "Validating URLs...\n"
     ]
    },
    {
     "name": "stderr",
     "output_type": "stream",
     "text": [
      "2024-02-21 15:22:54,842 - INFO - URL https://www.eversports.de/s/dancingstyle is valid.\n"
     ]
    },
    {
     "name": "stdout",
     "output_type": "stream",
     "text": [
      "Scraping Pole Studio Data from https://www.eversports.de/s/dancingstyle...\n"
     ]
    },
    {
     "name": "stderr",
     "output_type": "stream",
     "text": [
      "Processing URLs:  41%|████▏     | 181/438 [11:00<12:07,  2.83s/it]"
     ]
    },
    {
     "name": "stdout",
     "output_type": "stream",
     "text": [
      "\n",
      "Processing completed.\n",
      "-------------------------------- \n",
      "\n",
      "2024-02-21 15:22:55 - INFO - Scraping Data from: https://www.eversports.de/s/dancingstyle\n",
      "Pole Studio Data: 1 entries\n",
      "Starting URL reconstruction...\n"
     ]
    },
    {
     "name": "stderr",
     "output_type": "stream",
     "text": [
      "Processing URLs:  42%|████▏     | 182/438 [11:02<10:14,  2.40s/it]"
     ]
    },
    {
     "name": "stdout",
     "output_type": "stream",
     "text": [
      "Error during HTTP request: 404 Client Error: Not Found for url: https://www.eversports.de/s/pole-for-soul\n",
      "Converting to DataFrame...\n",
      "Validating URLs...\n",
      "\n",
      "Processing completed.\n",
      "-------------------------------- \n",
      "\n",
      "Starting URL reconstruction...\n"
     ]
    },
    {
     "name": "stderr",
     "output_type": "stream",
     "text": [
      "2024-02-21 15:22:58,084 - INFO - Processing URL 1/1: https://www.eversports.de/s/polewirbel\n"
     ]
    },
    {
     "name": "stdout",
     "output_type": "stream",
     "text": [
      "Converting to DataFrame...\n",
      "Validating URLs...\n"
     ]
    },
    {
     "name": "stderr",
     "output_type": "stream",
     "text": [
      "2024-02-21 15:22:59,375 - INFO - URL https://www.eversports.de/s/polewirbel is valid.\n"
     ]
    },
    {
     "name": "stdout",
     "output_type": "stream",
     "text": [
      "Scraping Pole Studio Data from https://www.eversports.de/s/polewirbel...\n"
     ]
    },
    {
     "name": "stderr",
     "output_type": "stream",
     "text": [
      "Processing URLs:  42%|████▏     | 183/438 [11:05<11:21,  2.67s/it]"
     ]
    },
    {
     "name": "stdout",
     "output_type": "stream",
     "text": [
      "\n",
      "Processing completed.\n",
      "-------------------------------- \n",
      "\n",
      "2024-02-21 15:22:59 - INFO - Scraping Data from: https://www.eversports.de/s/polewirbel\n",
      "Pole Studio Data: 1 entries\n",
      "Starting URL reconstruction...\n"
     ]
    },
    {
     "name": "stderr",
     "output_type": "stream",
     "text": [
      "2024-02-21 15:23:01,208 - INFO - Processing URL 1/1: https://www.eversports.de/s/pole-heaven\n"
     ]
    },
    {
     "name": "stdout",
     "output_type": "stream",
     "text": [
      "Converting to DataFrame...\n",
      "Validating URLs...\n"
     ]
    },
    {
     "name": "stderr",
     "output_type": "stream",
     "text": [
      "2024-02-21 15:23:02,698 - INFO - URL https://www.eversports.de/s/pole-heaven is valid.\n"
     ]
    },
    {
     "name": "stdout",
     "output_type": "stream",
     "text": [
      "Scraping Pole Studio Data from https://www.eversports.de/s/pole-heaven...\n"
     ]
    },
    {
     "name": "stderr",
     "output_type": "stream",
     "text": [
      "Processing URLs:  42%|████▏     | 184/438 [11:08<11:59,  2.83s/it]"
     ]
    },
    {
     "name": "stdout",
     "output_type": "stream",
     "text": [
      "\n",
      "Processing completed.\n",
      "-------------------------------- \n",
      "\n",
      "2024-02-21 15:23:02 - INFO - Scraping Data from: https://www.eversports.de/s/pole-heaven\n",
      "Pole Studio Data: 1 entries\n",
      "Starting URL reconstruction...\n"
     ]
    },
    {
     "name": "stderr",
     "output_type": "stream",
     "text": [
      "Processing URLs:  42%|████▏     | 185/438 [11:09<09:59,  2.37s/it]"
     ]
    },
    {
     "name": "stdout",
     "output_type": "stream",
     "text": [
      "Error during HTTP request: 404 Client Error: Not Found for url: https://www.eversports.de/s/les.pole\n",
      "Converting to DataFrame...\n",
      "Validating URLs...\n",
      "\n",
      "Processing completed.\n",
      "-------------------------------- \n",
      "\n",
      "Starting URL reconstruction...\n"
     ]
    },
    {
     "name": "stderr",
     "output_type": "stream",
     "text": [
      "2024-02-21 15:23:05,780 - INFO - Processing URL 1/1: https://www.eversports.de/s/polefriends-magdeburg\n"
     ]
    },
    {
     "name": "stdout",
     "output_type": "stream",
     "text": [
      "Converting to DataFrame...\n",
      "Validating URLs...\n"
     ]
    },
    {
     "name": "stderr",
     "output_type": "stream",
     "text": [
      "2024-02-21 15:23:07,268 - INFO - URL https://www.eversports.de/s/polefriends-magdeburg is valid.\n"
     ]
    },
    {
     "name": "stdout",
     "output_type": "stream",
     "text": [
      "Scraping Pole Studio Data from https://www.eversports.de/s/polefriends-magdeburg...\n"
     ]
    },
    {
     "name": "stderr",
     "output_type": "stream",
     "text": [
      "Processing URLs:  42%|████▏     | 186/438 [11:13<11:01,  2.63s/it]"
     ]
    },
    {
     "name": "stdout",
     "output_type": "stream",
     "text": [
      "\n",
      "Processing completed.\n",
      "-------------------------------- \n",
      "\n",
      "2024-02-21 15:23:07 - INFO - Scraping Data from: https://www.eversports.de/s/polefriends-magdeburg\n",
      "Pole Studio Data: 1 entries\n",
      "Starting URL reconstruction...\n"
     ]
    },
    {
     "name": "stderr",
     "output_type": "stream",
     "text": [
      "Processing URLs:  43%|████▎     | 187/438 [11:16<11:57,  2.86s/it]"
     ]
    },
    {
     "name": "stdout",
     "output_type": "stream",
     "text": [
      "Error during HTTP request: Exceeded 30 redirects.\n",
      "Converting to DataFrame...\n",
      "Validating URLs...\n",
      "\n",
      "Processing completed.\n",
      "-------------------------------- \n",
      "\n",
      "Starting URL reconstruction...\n"
     ]
    },
    {
     "name": "stderr",
     "output_type": "stream",
     "text": [
      "Processing URLs:  43%|████▎     | 188/438 [11:20<13:50,  3.32s/it]"
     ]
    },
    {
     "name": "stdout",
     "output_type": "stream",
     "text": [
      "Error during HTTP request: Exceeded 30 redirects.\n",
      "Converting to DataFrame...\n",
      "Validating URLs...\n",
      "\n",
      "Processing completed.\n",
      "-------------------------------- \n",
      "\n",
      "Starting URL reconstruction...\n"
     ]
    },
    {
     "name": "stderr",
     "output_type": "stream",
     "text": [
      "Processing URLs:  43%|████▎     | 189/438 [11:22<11:29,  2.77s/it]"
     ]
    },
    {
     "name": "stdout",
     "output_type": "stream",
     "text": [
      "Error during HTTP request: 404 Client Error: Not Found for url: https://www.eversports.de/s/polefitness-tituba-m%C3%B6nchengladbach!\n",
      "Converting to DataFrame...\n",
      "Validating URLs...\n",
      "\n",
      "Processing completed.\n",
      "-------------------------------- \n",
      "\n",
      "Starting URL reconstruction...\n"
     ]
    },
    {
     "name": "stderr",
     "output_type": "stream",
     "text": [
      "Processing URLs:  43%|████▎     | 190/438 [11:24<09:54,  2.40s/it]"
     ]
    },
    {
     "name": "stdout",
     "output_type": "stream",
     "text": [
      "Error during HTTP request: 404 Client Error: Not Found for url: https://www.eversports.de/s/lioness-lodge\n",
      "Converting to DataFrame...\n",
      "Validating URLs...\n",
      "\n",
      "Processing completed.\n",
      "-------------------------------- \n",
      "\n",
      "Starting URL reconstruction...\n"
     ]
    },
    {
     "name": "stderr",
     "output_type": "stream",
     "text": [
      "Processing URLs:  44%|████▎     | 191/438 [11:25<08:22,  2.04s/it]"
     ]
    },
    {
     "name": "stdout",
     "output_type": "stream",
     "text": [
      "Error during HTTP request: 404 Client Error: Not Found for url: https://www.eversports.de/s/rock'n'pole-regensburg\n",
      "Converting to DataFrame...\n",
      "Validating URLs...\n",
      "\n",
      "Processing completed.\n",
      "-------------------------------- \n",
      "\n",
      "Starting URL reconstruction...\n"
     ]
    },
    {
     "name": "stderr",
     "output_type": "stream",
     "text": [
      "Processing URLs:  44%|████▍     | 192/438 [11:26<07:27,  1.82s/it]"
     ]
    },
    {
     "name": "stdout",
     "output_type": "stream",
     "text": [
      "Error during HTTP request: 404 Client Error: Not Found for url: https://www.eversports.de/s/flexx-arts-memmingen\n",
      "Converting to DataFrame...\n",
      "Validating URLs...\n",
      "\n",
      "Processing completed.\n",
      "-------------------------------- \n",
      "\n",
      "Starting URL reconstruction...\n"
     ]
    },
    {
     "name": "stderr",
     "output_type": "stream",
     "text": [
      "2024-02-21 15:23:22,284 - INFO - Processing URL 1/1: https://www.eversports.de/s/pole-dance-studio-passion-hannover\n"
     ]
    },
    {
     "name": "stdout",
     "output_type": "stream",
     "text": [
      "Converting to DataFrame...\n",
      "Validating URLs...\n"
     ]
    },
    {
     "name": "stderr",
     "output_type": "stream",
     "text": [
      "2024-02-21 15:23:23,813 - INFO - URL https://www.eversports.de/s/pole-dance-studio-passion-hannover is valid.\n"
     ]
    },
    {
     "name": "stdout",
     "output_type": "stream",
     "text": [
      "Scraping Pole Studio Data from https://www.eversports.de/s/pole-dance-studio-passion-hannover...\n"
     ]
    },
    {
     "name": "stderr",
     "output_type": "stream",
     "text": [
      "Processing URLs:  44%|████▍     | 193/438 [11:29<09:13,  2.26s/it]"
     ]
    },
    {
     "name": "stdout",
     "output_type": "stream",
     "text": [
      "\n",
      "Processing completed.\n",
      "-------------------------------- \n",
      "\n",
      "2024-02-21 15:23:24 - INFO - Scraping Data from: https://www.eversports.de/s/pole-dance-studio-passion-hannover\n",
      "Pole Studio Data: 1 entries\n",
      "Starting URL reconstruction...\n"
     ]
    },
    {
     "name": "stderr",
     "output_type": "stream",
     "text": [
      "Processing URLs:  44%|████▍     | 194/438 [11:31<08:10,  2.01s/it]"
     ]
    },
    {
     "name": "stdout",
     "output_type": "stream",
     "text": [
      "Error during HTTP request: 404 Client Error: Not Found for url: https://www.eversports.de/s/vanilla-sky-pole-atelier\n",
      "Converting to DataFrame...\n",
      "Validating URLs...\n",
      "\n",
      "Processing completed.\n",
      "-------------------------------- \n",
      "\n",
      "Starting URL reconstruction...\n"
     ]
    },
    {
     "name": "stderr",
     "output_type": "stream",
     "text": [
      "Processing URLs:  45%|████▍     | 195/438 [11:32<07:08,  1.76s/it]"
     ]
    },
    {
     "name": "stdout",
     "output_type": "stream",
     "text": [
      "Error during HTTP request: 404 Client Error: Not Found for url: https://www.eversports.de/s/verticalspirit-chemnitz-e.-v.\n",
      "Converting to DataFrame...\n",
      "Validating URLs...\n",
      "\n",
      "Processing completed.\n",
      "-------------------------------- \n",
      "\n",
      "Starting URL reconstruction...\n"
     ]
    },
    {
     "name": "stderr",
     "output_type": "stream",
     "text": [
      "Processing URLs:  45%|████▍     | 196/438 [11:34<06:58,  1.73s/it]"
     ]
    },
    {
     "name": "stdout",
     "output_type": "stream",
     "text": [
      "Error during HTTP request: 404 Client Error: Not Found for url: https://www.eversports.de/s/pole-fit-plauen\n",
      "Converting to DataFrame...\n",
      "Validating URLs...\n",
      "\n",
      "Processing completed.\n",
      "-------------------------------- \n",
      "\n",
      "Starting URL reconstruction...\n"
     ]
    },
    {
     "name": "stderr",
     "output_type": "stream",
     "text": [
      "Processing URLs:  45%|████▍     | 197/438 [11:35<06:18,  1.57s/it]"
     ]
    },
    {
     "name": "stdout",
     "output_type": "stream",
     "text": [
      "Error during HTTP request: 404 Client Error: Not Found for url: https://www.eversports.de/s/flyhigh\n",
      "Converting to DataFrame...\n",
      "Validating URLs...\n",
      "\n",
      "Processing completed.\n",
      "-------------------------------- \n",
      "\n",
      "Starting URL reconstruction...\n"
     ]
    },
    {
     "name": "stderr",
     "output_type": "stream",
     "text": [
      "2024-02-21 15:23:31,043 - INFO - Processing URL 1/1: https://www.eversports.de/s/muse-pole-dance\n"
     ]
    },
    {
     "name": "stdout",
     "output_type": "stream",
     "text": [
      "Converting to DataFrame...\n",
      "Validating URLs...\n"
     ]
    },
    {
     "name": "stderr",
     "output_type": "stream",
     "text": [
      "2024-02-21 15:23:32,321 - INFO - URL https://www.eversports.de/s/muse-pole-dance is valid.\n"
     ]
    },
    {
     "name": "stdout",
     "output_type": "stream",
     "text": [
      "Scraping Pole Studio Data from https://www.eversports.de/s/muse-pole-dance...\n"
     ]
    },
    {
     "name": "stderr",
     "output_type": "stream",
     "text": [
      "Processing URLs:  45%|████▌     | 198/438 [11:38<07:58,  2.00s/it]"
     ]
    },
    {
     "name": "stdout",
     "output_type": "stream",
     "text": [
      "\n",
      "Processing completed.\n",
      "-------------------------------- \n",
      "\n",
      "2024-02-21 15:23:32 - INFO - Scraping Data from: https://www.eversports.de/s/muse-pole-dance\n",
      "Pole Studio Data: 1 entries\n",
      "Starting URL reconstruction...\n"
     ]
    },
    {
     "name": "stderr",
     "output_type": "stream",
     "text": [
      "Processing URLs:  45%|████▌     | 199/438 [11:42<10:13,  2.57s/it]"
     ]
    },
    {
     "name": "stdout",
     "output_type": "stream",
     "text": [
      "Error during HTTP request: Exceeded 30 redirects.\n",
      "Converting to DataFrame...\n",
      "Validating URLs...\n",
      "\n",
      "Processing completed.\n",
      "-------------------------------- \n",
      "\n",
      "Starting URL reconstruction...\n"
     ]
    },
    {
     "name": "stderr",
     "output_type": "stream",
     "text": [
      "Processing URLs:  46%|████▌     | 200/438 [11:43<08:32,  2.15s/it]"
     ]
    },
    {
     "name": "stdout",
     "output_type": "stream",
     "text": [
      "Error during HTTP request: 404 Client Error: Not Found for url: https://www.eversports.de/s/pole-fun-wehr\n",
      "Converting to DataFrame...\n",
      "Validating URLs...\n",
      "\n",
      "Processing completed.\n",
      "-------------------------------- \n",
      "\n",
      "Starting URL reconstruction...\n"
     ]
    },
    {
     "name": "stderr",
     "output_type": "stream",
     "text": [
      "Processing URLs:  46%|████▌     | 201/438 [11:44<07:27,  1.89s/it]"
     ]
    },
    {
     "name": "stdout",
     "output_type": "stream",
     "text": [
      "Error during HTTP request: 404 Client Error: Not Found for url: https://www.eversports.de/s/lift-off---poledance-academy-viersen\n",
      "Converting to DataFrame...\n",
      "Validating URLs...\n",
      "\n",
      "Processing completed.\n",
      "-------------------------------- \n",
      "\n",
      "Starting URL reconstruction...\n"
     ]
    },
    {
     "name": "stderr",
     "output_type": "stream",
     "text": [
      "Processing URLs:  46%|████▌     | 202/438 [11:46<07:01,  1.79s/it]"
     ]
    },
    {
     "name": "stdout",
     "output_type": "stream",
     "text": [
      "Error during HTTP request: 404 Client Error: Not Found for url: https://www.eversports.de/s/fly-%26-flow-studio\n",
      "Converting to DataFrame...\n",
      "Validating URLs...\n",
      "\n",
      "Processing completed.\n",
      "-------------------------------- \n",
      "\n",
      "Starting URL reconstruction...\n"
     ]
    },
    {
     "name": "stderr",
     "output_type": "stream",
     "text": [
      "2024-02-21 15:23:41,987 - INFO - Processing URL 1/1: https://www.eversports.de/s/ima-intentional-movement-academy\n"
     ]
    },
    {
     "name": "stdout",
     "output_type": "stream",
     "text": [
      "Converting to DataFrame...\n",
      "Validating URLs...\n"
     ]
    },
    {
     "name": "stderr",
     "output_type": "stream",
     "text": [
      "2024-02-21 15:23:43,421 - INFO - URL https://www.eversports.de/s/ima-intentional-movement-academy is valid.\n"
     ]
    },
    {
     "name": "stdout",
     "output_type": "stream",
     "text": [
      "Scraping Pole Studio Data from https://www.eversports.de/s/ima-intentional-movement-academy...\n"
     ]
    },
    {
     "name": "stderr",
     "output_type": "stream",
     "text": [
      "Processing URLs:  46%|████▋     | 203/438 [11:49<08:49,  2.25s/it]"
     ]
    },
    {
     "name": "stdout",
     "output_type": "stream",
     "text": [
      "\n",
      "Processing completed.\n",
      "-------------------------------- \n",
      "\n",
      "2024-02-21 15:23:43 - INFO - Scraping Data from: https://www.eversports.de/s/ima-intentional-movement-academy\n",
      "Pole Studio Data: 1 entries\n",
      "Starting URL reconstruction...\n"
     ]
    },
    {
     "name": "stderr",
     "output_type": "stream",
     "text": [
      "Processing URLs:  47%|████▋     | 204/438 [11:50<07:37,  1.95s/it]"
     ]
    },
    {
     "name": "stdout",
     "output_type": "stream",
     "text": [
      "Error during HTTP request: 404 Client Error: Not Found for url: https://www.eversports.de/s/health-and-shape\n",
      "Converting to DataFrame...\n",
      "Validating URLs...\n",
      "\n",
      "Processing completed.\n",
      "-------------------------------- \n",
      "\n",
      "Starting URL reconstruction...\n"
     ]
    },
    {
     "name": "stderr",
     "output_type": "stream",
     "text": [
      "2024-02-21 15:23:46,442 - INFO - Processing URL 1/1: https://www.eversports.de/s/aerial-sportstudio\n"
     ]
    },
    {
     "name": "stdout",
     "output_type": "stream",
     "text": [
      "Converting to DataFrame...\n",
      "Validating URLs...\n"
     ]
    },
    {
     "name": "stderr",
     "output_type": "stream",
     "text": [
      "2024-02-21 15:23:48,105 - INFO - URL https://www.eversports.de/s/aerial-sportstudio is valid.\n"
     ]
    },
    {
     "name": "stdout",
     "output_type": "stream",
     "text": [
      "Scraping Pole Studio Data from https://www.eversports.de/s/aerial-sportstudio...\n"
     ]
    },
    {
     "name": "stderr",
     "output_type": "stream",
     "text": [
      "Processing URLs:  47%|████▋     | 205/438 [11:55<10:38,  2.74s/it]"
     ]
    },
    {
     "name": "stdout",
     "output_type": "stream",
     "text": [
      "\n",
      "Processing completed.\n",
      "-------------------------------- \n",
      "\n",
      "2024-02-21 15:23:49 - INFO - Scraping Data from: https://www.eversports.de/s/aerial-sportstudio\n",
      "Pole Studio Data: 1 entries\n",
      "Starting URL reconstruction...\n"
     ]
    },
    {
     "name": "stderr",
     "output_type": "stream",
     "text": [
      "2024-02-21 15:23:51,098 - INFO - Processing URL 1/2: https://www.eversports.de/s/pura-studio\n"
     ]
    },
    {
     "name": "stdout",
     "output_type": "stream",
     "text": [
      "Converting to DataFrame...\n",
      "Validating URLs...\n"
     ]
    },
    {
     "name": "stderr",
     "output_type": "stream",
     "text": [
      "2024-02-21 15:23:52,499 - INFO - URL https://www.eversports.de/s/pura-studio is valid.\n",
      "2024-02-21 15:23:52,500 - INFO - Processing URL 2/2: https://www.eversports.de/sw/pura-studio\n",
      "2024-02-21 15:23:53,958 - INFO - URL https://www.eversports.de/sw/pura-studio is valid.\n"
     ]
    },
    {
     "name": "stdout",
     "output_type": "stream",
     "text": [
      "Scraping Pole Studio Data from https://www.eversports.de/s/pura-studio...\n",
      "Scraping Workshops Data from https://www.eversports.de/sw/pura-studio...\n",
      "Scraping Workshop Details from https://www.eversports.de/e/workshop/aaXFGLh...\n",
      "Scraping Workshop Details from https://www.eversports.de/e/workshop/LAlnDd-...\n",
      "Scraping Workshop Details from https://www.eversports.de/e/workshop/1sQFEoE...\n",
      "Scraping Workshop Details from https://www.eversports.de/e/workshop/qz-Llq1...\n",
      "Scraping Workshop Details from https://www.eversports.de/e/workshop/zjrAzNO...\n",
      "Scraping Workshop Details from https://www.eversports.de/e/workshop/827gEoq...\n"
     ]
    },
    {
     "name": "stderr",
     "output_type": "stream",
     "text": [
      "Processing URLs:  47%|████▋     | 206/438 [12:10<24:45,  6.40s/it]"
     ]
    },
    {
     "name": "stdout",
     "output_type": "stream",
     "text": [
      "\n",
      "Processing completed.\n",
      "-------------------------------- \n",
      "\n",
      "2024-02-21 15:24:04 - INFO - Scraping Data from: https://www.eversports.de/s/pura-studio\n",
      "Pole Studio Data: 1 entries\n",
      "2024-02-21 15:24:04 - INFO - Scraping Data from: https://www.eversports.de/s/pura-studio\n",
      "Workshops Data: 6 entries\n",
      "2024-02-21 15:24:04 - INFO - Scraping Data from: https://www.eversports.de/s/pura-studio\n",
      "Workshop Details: 6 entries\n",
      "Starting URL reconstruction...\n"
     ]
    },
    {
     "name": "stderr",
     "output_type": "stream",
     "text": [
      "Processing URLs:  47%|████▋     | 207/438 [12:11<18:40,  4.85s/it]"
     ]
    },
    {
     "name": "stdout",
     "output_type": "stream",
     "text": [
      "Error during HTTP request: 404 Client Error: Not Found for url: https://www.eversports.de/s/pole-dance-academy-hameln\n",
      "Converting to DataFrame...\n",
      "Validating URLs...\n",
      "\n",
      "Processing completed.\n",
      "-------------------------------- \n",
      "\n",
      "Starting URL reconstruction...\n"
     ]
    },
    {
     "name": "stderr",
     "output_type": "stream",
     "text": [
      "Processing URLs:  47%|████▋     | 208/438 [12:12<14:26,  3.77s/it]"
     ]
    },
    {
     "name": "stdout",
     "output_type": "stream",
     "text": [
      "Error during HTTP request: 404 Client Error: Not Found for url: https://www.eversports.de/s/polefriends\n",
      "Converting to DataFrame...\n",
      "Validating URLs...\n",
      "\n",
      "Processing completed.\n",
      "-------------------------------- \n",
      "\n",
      "Starting URL reconstruction...\n"
     ]
    },
    {
     "name": "stderr",
     "output_type": "stream",
     "text": [
      "Processing URLs:  48%|████▊     | 209/438 [12:13<11:24,  2.99s/it]"
     ]
    },
    {
     "name": "stdout",
     "output_type": "stream",
     "text": [
      "Error during HTTP request: 404 Client Error: Not Found for url: https://www.eversports.de/s/pole-%26-soul\n",
      "Converting to DataFrame...\n",
      "Validating URLs...\n",
      "\n",
      "Processing completed.\n",
      "-------------------------------- \n",
      "\n",
      "Starting URL reconstruction...\n"
     ]
    },
    {
     "name": "stderr",
     "output_type": "stream",
     "text": [
      "2024-02-21 15:24:09,833 - INFO - Processing URL 1/2: https://www.eversports.de/s/studio-aeris\n"
     ]
    },
    {
     "name": "stdout",
     "output_type": "stream",
     "text": [
      "Converting to DataFrame...\n",
      "Validating URLs...\n"
     ]
    },
    {
     "name": "stderr",
     "output_type": "stream",
     "text": [
      "2024-02-21 15:24:11,257 - INFO - URL https://www.eversports.de/s/studio-aeris is valid.\n",
      "2024-02-21 15:24:11,258 - INFO - Processing URL 2/2: https://www.eversports.de/sw/studio-aeris\n",
      "2024-02-21 15:24:12,495 - INFO - URL https://www.eversports.de/sw/studio-aeris is not valid.\n"
     ]
    },
    {
     "name": "stdout",
     "output_type": "stream",
     "text": [
      "Scraping Pole Studio Data from https://www.eversports.de/s/studio-aeris...\n"
     ]
    },
    {
     "name": "stderr",
     "output_type": "stream",
     "text": [
      "Processing URLs:  48%|████▊     | 210/438 [12:19<13:44,  3.62s/it]"
     ]
    },
    {
     "name": "stdout",
     "output_type": "stream",
     "text": [
      "\n",
      "Processing completed.\n",
      "-------------------------------- \n",
      "\n",
      "2024-02-21 15:24:13 - INFO - Scraping Data from: https://www.eversports.de/s/studio-aeris\n",
      "Pole Studio Data: 1 entries\n",
      "Starting URL reconstruction...\n"
     ]
    },
    {
     "name": "stderr",
     "output_type": "stream",
     "text": [
      "Processing URLs:  48%|████▊     | 211/438 [12:22<13:17,  3.51s/it]"
     ]
    },
    {
     "name": "stdout",
     "output_type": "stream",
     "text": [
      "Error during HTTP request: Exceeded 30 redirects.\n",
      "Converting to DataFrame...\n",
      "Validating URLs...\n",
      "\n",
      "Processing completed.\n",
      "-------------------------------- \n",
      "\n",
      "Starting URL reconstruction...\n"
     ]
    },
    {
     "name": "stderr",
     "output_type": "stream",
     "text": [
      "Processing URLs:  48%|████▊     | 212/438 [12:23<11:11,  2.97s/it]"
     ]
    },
    {
     "name": "stdout",
     "output_type": "stream",
     "text": [
      "Error during HTTP request: 404 Client Error: Not Found for url: https://www.eversports.de/s/studio-aria-arte\n",
      "Converting to DataFrame...\n",
      "Validating URLs...\n",
      "\n",
      "Processing completed.\n",
      "-------------------------------- \n",
      "\n",
      "Starting URL reconstruction...\n"
     ]
    },
    {
     "name": "stderr",
     "output_type": "stream",
     "text": [
      "2024-02-21 15:24:19,742 - INFO - Processing URL 1/1: https://www.eversports.de/s/infinity-polesports-eggenfelden\n"
     ]
    },
    {
     "name": "stdout",
     "output_type": "stream",
     "text": [
      "Converting to DataFrame...\n",
      "Validating URLs...\n"
     ]
    },
    {
     "name": "stderr",
     "output_type": "stream",
     "text": [
      "2024-02-21 15:24:21,246 - INFO - URL https://www.eversports.de/s/infinity-polesports-eggenfelden is valid.\n"
     ]
    },
    {
     "name": "stdout",
     "output_type": "stream",
     "text": [
      "Scraping Pole Studio Data from https://www.eversports.de/s/infinity-polesports-eggenfelden...\n"
     ]
    },
    {
     "name": "stderr",
     "output_type": "stream",
     "text": [
      "Processing URLs:  49%|████▊     | 213/438 [12:27<11:31,  3.08s/it]"
     ]
    },
    {
     "name": "stdout",
     "output_type": "stream",
     "text": [
      "\n",
      "Processing completed.\n",
      "-------------------------------- \n",
      "\n",
      "2024-02-21 15:24:21 - INFO - Scraping Data from: https://www.eversports.de/s/infinity-polesports-eggenfelden\n",
      "Pole Studio Data: 1 entries\n",
      "Starting URL reconstruction...\n"
     ]
    },
    {
     "name": "stderr",
     "output_type": "stream",
     "text": [
      "2024-02-21 15:24:23,113 - INFO - Processing URL 1/1: https://www.eversports.de/s/the-pole-lounge\n"
     ]
    },
    {
     "name": "stdout",
     "output_type": "stream",
     "text": [
      "Converting to DataFrame...\n",
      "Validating URLs...\n"
     ]
    },
    {
     "name": "stderr",
     "output_type": "stream",
     "text": [
      "2024-02-21 15:24:24,540 - INFO - URL https://www.eversports.de/s/the-pole-lounge is valid.\n"
     ]
    },
    {
     "name": "stdout",
     "output_type": "stream",
     "text": [
      "Scraping Pole Studio Data from https://www.eversports.de/s/the-pole-lounge...\n"
     ]
    },
    {
     "name": "stderr",
     "output_type": "stream",
     "text": [
      "Processing URLs:  49%|████▉     | 214/438 [12:30<11:42,  3.14s/it]"
     ]
    },
    {
     "name": "stdout",
     "output_type": "stream",
     "text": [
      "\n",
      "Processing completed.\n",
      "-------------------------------- \n",
      "\n",
      "2024-02-21 15:24:24 - INFO - Scraping Data from: https://www.eversports.de/s/the-pole-lounge\n",
      "Pole Studio Data: 1 entries\n",
      "Starting URL reconstruction...\n"
     ]
    },
    {
     "name": "stderr",
     "output_type": "stream",
     "text": [
      "Processing URLs:  49%|████▉     | 215/438 [12:31<09:32,  2.57s/it]"
     ]
    },
    {
     "name": "stdout",
     "output_type": "stream",
     "text": [
      "Error during HTTP request: 404 Client Error: Not Found for url: https://www.eversports.de/s/freaky-pole-cats-hengersberg\n",
      "Converting to DataFrame...\n",
      "Validating URLs...\n",
      "\n",
      "Processing completed.\n",
      "-------------------------------- \n",
      "\n",
      "Starting URL reconstruction...\n"
     ]
    },
    {
     "name": "stderr",
     "output_type": "stream",
     "text": [
      "Processing URLs:  49%|████▉     | 216/438 [12:33<07:59,  2.16s/it]"
     ]
    },
    {
     "name": "stdout",
     "output_type": "stream",
     "text": [
      "Error during HTTP request: 404 Client Error: Not Found for url: https://www.eversports.de/s/freaky-pole-cats-cham\n",
      "Converting to DataFrame...\n",
      "Validating URLs...\n",
      "\n",
      "Processing completed.\n",
      "-------------------------------- \n",
      "\n",
      "Starting URL reconstruction...\n"
     ]
    },
    {
     "name": "stderr",
     "output_type": "stream",
     "text": [
      "Processing URLs:  50%|████▉     | 217/438 [12:34<06:55,  1.88s/it]"
     ]
    },
    {
     "name": "stdout",
     "output_type": "stream",
     "text": [
      "Error during HTTP request: 404 Client Error: Not Found for url: https://www.eversports.de/s/vertical-kay-poledance-%26-aerialarts-education\n",
      "Converting to DataFrame...\n",
      "Validating URLs...\n",
      "\n",
      "Processing completed.\n",
      "-------------------------------- \n",
      "\n",
      "Starting URL reconstruction...\n"
     ]
    },
    {
     "name": "stderr",
     "output_type": "stream",
     "text": [
      "2024-02-21 15:24:30,014 - INFO - Processing URL 1/1: https://www.eversports.de/s/pole-statement\n"
     ]
    },
    {
     "name": "stdout",
     "output_type": "stream",
     "text": [
      "Converting to DataFrame...\n",
      "Validating URLs...\n"
     ]
    },
    {
     "name": "stderr",
     "output_type": "stream",
     "text": [
      "2024-02-21 15:24:31,400 - INFO - URL https://www.eversports.de/s/pole-statement is valid.\n"
     ]
    },
    {
     "name": "stdout",
     "output_type": "stream",
     "text": [
      "Scraping Pole Studio Data from https://www.eversports.de/s/pole-statement...\n"
     ]
    },
    {
     "name": "stderr",
     "output_type": "stream",
     "text": [
      "Processing URLs:  50%|████▉     | 218/438 [12:37<08:40,  2.37s/it]"
     ]
    },
    {
     "name": "stdout",
     "output_type": "stream",
     "text": [
      "\n",
      "Processing completed.\n",
      "-------------------------------- \n",
      "\n",
      "2024-02-21 15:24:32 - INFO - Scraping Data from: https://www.eversports.de/s/pole-statement\n",
      "Pole Studio Data: 1 entries\n",
      "Starting URL reconstruction...\n"
     ]
    },
    {
     "name": "stderr",
     "output_type": "stream",
     "text": [
      "Processing URLs:  50%|█████     | 219/438 [12:39<07:35,  2.08s/it]"
     ]
    },
    {
     "name": "stdout",
     "output_type": "stream",
     "text": [
      "Error during HTTP request: 404 Client Error: Not Found for url: https://www.eversports.de/s/studio-elodie-tanzbewegung\n",
      "Converting to DataFrame...\n",
      "Validating URLs...\n",
      "\n",
      "Processing completed.\n",
      "-------------------------------- \n",
      "\n",
      "Starting URL reconstruction...\n"
     ]
    },
    {
     "name": "stderr",
     "output_type": "stream",
     "text": [
      "Processing URLs:  50%|█████     | 220/438 [12:42<08:44,  2.41s/it]"
     ]
    },
    {
     "name": "stdout",
     "output_type": "stream",
     "text": [
      "Error during HTTP request: Exceeded 30 redirects.\n",
      "Converting to DataFrame...\n",
      "Validating URLs...\n",
      "\n",
      "Processing completed.\n",
      "-------------------------------- \n",
      "\n",
      "Starting URL reconstruction...\n"
     ]
    },
    {
     "name": "stderr",
     "output_type": "stream",
     "text": [
      "Processing URLs:  50%|█████     | 221/438 [12:43<07:31,  2.08s/it]"
     ]
    },
    {
     "name": "stdout",
     "output_type": "stream",
     "text": [
      "Error during HTTP request: 404 Client Error: Not Found for url: https://www.eversports.de/s/tanzvisionen\n",
      "Converting to DataFrame...\n",
      "Validating URLs...\n",
      "\n",
      "Processing completed.\n",
      "-------------------------------- \n",
      "\n",
      "Starting URL reconstruction...\n"
     ]
    },
    {
     "name": "stderr",
     "output_type": "stream",
     "text": [
      "Processing URLs:  51%|█████     | 222/438 [12:44<06:39,  1.85s/it]"
     ]
    },
    {
     "name": "stdout",
     "output_type": "stream",
     "text": [
      "Error during HTTP request: 404 Client Error: Not Found for url: https://www.eversports.de/s/pole2dance---vertical-fitness-and-dance-company\n",
      "Converting to DataFrame...\n",
      "Validating URLs...\n",
      "\n",
      "Processing completed.\n",
      "-------------------------------- \n",
      "\n",
      "Starting URL reconstruction...\n"
     ]
    },
    {
     "name": "stderr",
     "output_type": "stream",
     "text": [
      "Processing URLs:  51%|█████     | 223/438 [12:46<05:57,  1.66s/it]"
     ]
    },
    {
     "name": "stdout",
     "output_type": "stream",
     "text": [
      "Error during HTTP request: 404 Client Error: Not Found for url: https://www.eversports.de/s/dayuma\n",
      "Converting to DataFrame...\n",
      "Validating URLs...\n",
      "\n",
      "Processing completed.\n",
      "-------------------------------- \n",
      "\n",
      "Starting URL reconstruction...\n"
     ]
    },
    {
     "name": "stderr",
     "output_type": "stream",
     "text": [
      "Processing URLs:  51%|█████     | 224/438 [12:52<10:47,  3.02s/it]"
     ]
    },
    {
     "name": "stdout",
     "output_type": "stream",
     "text": [
      "Error during HTTP request: Exceeded 30 redirects.\n",
      "Converting to DataFrame...\n",
      "Validating URLs...\n",
      "\n",
      "Processing completed.\n",
      "-------------------------------- \n",
      "\n",
      "Starting URL reconstruction...\n"
     ]
    },
    {
     "name": "stderr",
     "output_type": "stream",
     "text": [
      "Processing URLs:  51%|█████▏    | 225/438 [12:55<10:53,  3.07s/it]"
     ]
    },
    {
     "name": "stdout",
     "output_type": "stream",
     "text": [
      "Error during HTTP request: 404 Client Error: Not Found for url: https://www.eversports.de/s/studio-mohnblume\n",
      "Converting to DataFrame...\n",
      "Validating URLs...\n",
      "\n",
      "Processing completed.\n",
      "-------------------------------- \n",
      "\n",
      "Starting URL reconstruction...\n"
     ]
    },
    {
     "name": "stderr",
     "output_type": "stream",
     "text": [
      "Processing URLs:  52%|█████▏    | 226/438 [12:56<08:56,  2.53s/it]"
     ]
    },
    {
     "name": "stdout",
     "output_type": "stream",
     "text": [
      "Error during HTTP request: 404 Client Error: Not Found for url: https://www.eversports.de/s/tanzstudio-vi-dance-dortmund\n",
      "Converting to DataFrame...\n",
      "Validating URLs...\n",
      "\n",
      "Processing completed.\n",
      "-------------------------------- \n",
      "\n",
      "Starting URL reconstruction...\n"
     ]
    },
    {
     "name": "stderr",
     "output_type": "stream",
     "text": [
      "Processing URLs:  52%|█████▏    | 227/438 [12:58<07:33,  2.15s/it]"
     ]
    },
    {
     "name": "stdout",
     "output_type": "stream",
     "text": [
      "Error during HTTP request: 404 Client Error: Not Found for url: https://www.eversports.de/s/pole-passion-koblenz\n",
      "Converting to DataFrame...\n",
      "Validating URLs...\n",
      "\n",
      "Processing completed.\n",
      "-------------------------------- \n",
      "\n",
      "Starting URL reconstruction...\n"
     ]
    },
    {
     "name": "stderr",
     "output_type": "stream",
     "text": [
      "Processing URLs:  52%|█████▏    | 228/438 [12:59<06:30,  1.86s/it]"
     ]
    },
    {
     "name": "stdout",
     "output_type": "stream",
     "text": [
      "Error during HTTP request: 404 Client Error: Not Found for url: https://www.eversports.de/s/pole.physio-eppelheim\n",
      "Converting to DataFrame...\n",
      "Validating URLs...\n",
      "\n",
      "Processing completed.\n",
      "-------------------------------- \n",
      "\n",
      "Starting URL reconstruction...\n"
     ]
    },
    {
     "name": "stderr",
     "output_type": "stream",
     "text": [
      "Processing URLs:  52%|█████▏    | 229/438 [13:02<07:44,  2.22s/it]"
     ]
    },
    {
     "name": "stdout",
     "output_type": "stream",
     "text": [
      "Error during HTTP request: Exceeded 30 redirects.\n",
      "Converting to DataFrame...\n",
      "Validating URLs...\n",
      "\n",
      "Processing completed.\n",
      "-------------------------------- \n",
      "\n",
      "Starting URL reconstruction...\n"
     ]
    },
    {
     "name": "stderr",
     "output_type": "stream",
     "text": [
      "Processing URLs:  53%|█████▎    | 230/438 [13:03<06:44,  1.94s/it]"
     ]
    },
    {
     "name": "stdout",
     "output_type": "stream",
     "text": [
      "Error during HTTP request: 404 Client Error: Not Found for url: https://www.eversports.de/s/the-miss-filly-institute-of-pole\n",
      "Converting to DataFrame...\n",
      "Validating URLs...\n",
      "\n",
      "Processing completed.\n",
      "-------------------------------- \n",
      "\n",
      "Starting URL reconstruction...\n"
     ]
    },
    {
     "name": "stderr",
     "output_type": "stream",
     "text": [
      "Processing URLs:  53%|█████▎    | 231/438 [13:07<08:22,  2.43s/it]"
     ]
    },
    {
     "name": "stdout",
     "output_type": "stream",
     "text": [
      "Error during HTTP request: Exceeded 30 redirects.\n",
      "Converting to DataFrame...\n",
      "Validating URLs...\n",
      "\n",
      "Processing completed.\n",
      "-------------------------------- \n",
      "\n",
      "Starting URL reconstruction...\n"
     ]
    },
    {
     "name": "stderr",
     "output_type": "stream",
     "text": [
      "Processing URLs:  53%|█████▎    | 232/438 [13:09<07:42,  2.25s/it]"
     ]
    },
    {
     "name": "stdout",
     "output_type": "stream",
     "text": [
      "Error during HTTP request: 404 Client Error: Not Found for url: https://www.eversports.de/s/exotic-academy\n",
      "Converting to DataFrame...\n",
      "Validating URLs...\n",
      "\n",
      "Processing completed.\n",
      "-------------------------------- \n",
      "\n",
      "Starting URL reconstruction...\n"
     ]
    },
    {
     "name": "stderr",
     "output_type": "stream",
     "text": [
      "2024-02-21 15:25:05,079 - INFO - Processing URL 1/2: https://www.eversports.de/s/aerial-loft\n"
     ]
    },
    {
     "name": "stdout",
     "output_type": "stream",
     "text": [
      "Converting to DataFrame...\n",
      "Validating URLs...\n"
     ]
    },
    {
     "name": "stderr",
     "output_type": "stream",
     "text": [
      "2024-02-21 15:25:06,624 - INFO - URL https://www.eversports.de/s/aerial-loft is valid.\n",
      "2024-02-21 15:25:06,626 - INFO - Processing URL 2/2: https://www.eversports.de/sw/aerial-loft\n",
      "2024-02-21 15:25:08,069 - INFO - URL https://www.eversports.de/sw/aerial-loft is valid.\n"
     ]
    },
    {
     "name": "stdout",
     "output_type": "stream",
     "text": [
      "Scraping Pole Studio Data from https://www.eversports.de/s/aerial-loft...\n",
      "Scraping Workshops Data from https://www.eversports.de/sw/aerial-loft...\n",
      "Scraping Workshop Details from https://www.eversports.de/e/workshop/N4v8WV0...\n",
      "Scraping Workshop Details from https://www.eversports.de/e/workshop/onN7Doj...\n",
      "Scraping Workshop Details from https://www.eversports.de/e/workshop/rhsldmK...\n",
      "Scraping Workshop Details from https://www.eversports.de/e/workshop/H_FW2CU...\n",
      "Scraping Workshop Details from https://www.eversports.de/e/workshop/9jN2M0O...\n",
      "Scraping Workshop Details from https://www.eversports.de/e/workshop/arPk7c0...\n",
      "Scraping Workshop Details from https://www.eversports.de/e/workshop/r3elm4w...\n"
     ]
    },
    {
     "name": "stderr",
     "output_type": "stream",
     "text": [
      "Processing URLs:  53%|█████▎    | 233/438 [13:27<23:48,  6.97s/it]"
     ]
    },
    {
     "name": "stdout",
     "output_type": "stream",
     "text": [
      "\n",
      "Processing completed.\n",
      "-------------------------------- \n",
      "\n",
      "2024-02-21 15:25:21 - INFO - Scraping Data from: https://www.eversports.de/s/aerial-loft\n",
      "Pole Studio Data: 1 entries\n",
      "2024-02-21 15:25:21 - INFO - Scraping Data from: https://www.eversports.de/s/aerial-loft\n",
      "Workshops Data: 7 entries\n",
      "2024-02-21 15:25:21 - INFO - Scraping Data from: https://www.eversports.de/s/aerial-loft\n",
      "Workshop Details: 7 entries\n",
      "Starting URL reconstruction...\n"
     ]
    },
    {
     "name": "stderr",
     "output_type": "stream",
     "text": [
      "Processing URLs:  53%|█████▎    | 234/438 [13:28<17:52,  5.26s/it]"
     ]
    },
    {
     "name": "stdout",
     "output_type": "stream",
     "text": [
      "Error during HTTP request: 404 Client Error: Not Found for url: https://www.eversports.de/s/moving-art-studios\n",
      "Converting to DataFrame...\n",
      "Validating URLs...\n",
      "\n",
      "Processing completed.\n",
      "-------------------------------- \n",
      "\n",
      "Starting URL reconstruction...\n"
     ]
    },
    {
     "name": "stderr",
     "output_type": "stream",
     "text": [
      "Processing URLs:  54%|█████▎    | 235/438 [13:31<16:08,  4.77s/it]"
     ]
    },
    {
     "name": "stdout",
     "output_type": "stream",
     "text": [
      "Error during HTTP request: Exceeded 30 redirects.\n",
      "Converting to DataFrame...\n",
      "Validating URLs...\n",
      "\n",
      "Processing completed.\n",
      "-------------------------------- \n",
      "\n",
      "Starting URL reconstruction...\n"
     ]
    },
    {
     "name": "stderr",
     "output_type": "stream",
     "text": [
      "Processing URLs:  54%|█████▍    | 236/438 [13:33<12:28,  3.71s/it]"
     ]
    },
    {
     "name": "stdout",
     "output_type": "stream",
     "text": [
      "Error during HTTP request: 404 Client Error: Not Found for url: https://www.eversports.de/s/dance-%26-fitness-academy\n",
      "Converting to DataFrame...\n",
      "Validating URLs...\n",
      "\n",
      "Processing completed.\n",
      "-------------------------------- \n",
      "\n",
      "Starting URL reconstruction...\n"
     ]
    },
    {
     "name": "stderr",
     "output_type": "stream",
     "text": [
      "2024-02-21 15:25:29,460 - INFO - Processing URL 1/1: https://www.eversports.de/s/pole-and-move-online-studio\n"
     ]
    },
    {
     "name": "stdout",
     "output_type": "stream",
     "text": [
      "Converting to DataFrame...\n",
      "Validating URLs...\n"
     ]
    },
    {
     "name": "stderr",
     "output_type": "stream",
     "text": [
      "2024-02-21 15:25:30,992 - INFO - URL https://www.eversports.de/s/pole-and-move-online-studio is valid.\n"
     ]
    },
    {
     "name": "stdout",
     "output_type": "stream",
     "text": [
      "Scraping Pole Studio Data from https://www.eversports.de/s/pole-and-move-online-studio...\n"
     ]
    },
    {
     "name": "stderr",
     "output_type": "stream",
     "text": [
      "Processing URLs:  54%|█████▍    | 237/438 [13:37<12:36,  3.76s/it]"
     ]
    },
    {
     "name": "stdout",
     "output_type": "stream",
     "text": [
      "\n",
      "Processing completed.\n",
      "-------------------------------- \n",
      "\n",
      "2024-02-21 15:25:31 - INFO - Scraping Data from: https://www.eversports.de/s/pole-and-move-online-studio\n",
      "Pole Studio Data: 1 entries\n",
      "Starting URL reconstruction...\n"
     ]
    },
    {
     "name": "stderr",
     "output_type": "stream",
     "text": [
      "Processing URLs:  54%|█████▍    | 238/438 [13:38<10:06,  3.03s/it]"
     ]
    },
    {
     "name": "stdout",
     "output_type": "stream",
     "text": [
      "Error during HTTP request: 404 Client Error: Not Found for url: https://www.eversports.de/s/pole-box\n",
      "Converting to DataFrame...\n",
      "Validating URLs...\n",
      "\n",
      "Processing completed.\n",
      "-------------------------------- \n",
      "\n",
      "Starting URL reconstruction...\n"
     ]
    },
    {
     "name": "stderr",
     "output_type": "stream",
     "text": [
      "2024-02-21 15:25:34,197 - INFO - Processing URL 1/2: https://www.eversports.de/s/pole-plus\n"
     ]
    },
    {
     "name": "stdout",
     "output_type": "stream",
     "text": [
      "Converting to DataFrame...\n",
      "Validating URLs...\n"
     ]
    },
    {
     "name": "stderr",
     "output_type": "stream",
     "text": [
      "2024-02-21 15:25:35,496 - INFO - URL https://www.eversports.de/s/pole-plus is valid.\n",
      "2024-02-21 15:25:35,498 - INFO - Processing URL 2/2: https://www.eversports.de/sw/pole-plus\n",
      "2024-02-21 15:25:36,808 - INFO - URL https://www.eversports.de/sw/pole-plus is valid.\n"
     ]
    },
    {
     "name": "stdout",
     "output_type": "stream",
     "text": [
      "Scraping Pole Studio Data from https://www.eversports.de/s/pole-plus...\n",
      "Scraping Workshops Data from https://www.eversports.de/sw/pole-plus...\n",
      "Scraping Workshop Details from https://www.eversports.de/e/workshop/upSDQIA...\n",
      "Scraping Workshop Details from https://www.eversports.de/e/workshop/lBLI7xf...\n"
     ]
    },
    {
     "name": "stderr",
     "output_type": "stream",
     "text": [
      "Processing URLs:  55%|█████▍    | 239/438 [13:46<15:26,  4.65s/it]"
     ]
    },
    {
     "name": "stdout",
     "output_type": "stream",
     "text": [
      "\n",
      "Processing completed.\n",
      "-------------------------------- \n",
      "\n",
      "2024-02-21 15:25:41 - INFO - Scraping Data from: https://www.eversports.de/s/pole-plus\n",
      "Pole Studio Data: 1 entries\n",
      "2024-02-21 15:25:41 - INFO - Scraping Data from: https://www.eversports.de/s/pole-plus\n",
      "Workshops Data: 2 entries\n",
      "2024-02-21 15:25:41 - INFO - Scraping Data from: https://www.eversports.de/s/pole-plus\n",
      "Workshop Details: 2 entries\n",
      "Starting URL reconstruction...\n"
     ]
    },
    {
     "name": "stderr",
     "output_type": "stream",
     "text": [
      "2024-02-21 15:25:42,558 - INFO - Processing URL 1/1: https://www.eversports.de/s/the-pole-jungle\n"
     ]
    },
    {
     "name": "stdout",
     "output_type": "stream",
     "text": [
      "Converting to DataFrame...\n",
      "Validating URLs...\n"
     ]
    },
    {
     "name": "stderr",
     "output_type": "stream",
     "text": [
      "2024-02-21 15:25:43,993 - INFO - URL https://www.eversports.de/s/the-pole-jungle is valid.\n"
     ]
    },
    {
     "name": "stdout",
     "output_type": "stream",
     "text": [
      "Scraping Pole Studio Data from https://www.eversports.de/s/the-pole-jungle...\n"
     ]
    },
    {
     "name": "stderr",
     "output_type": "stream",
     "text": [
      "Processing URLs:  55%|█████▍    | 240/438 [13:53<17:06,  5.18s/it]"
     ]
    },
    {
     "name": "stdout",
     "output_type": "stream",
     "text": [
      "\n",
      "Processing completed.\n",
      "-------------------------------- \n",
      "\n",
      "2024-02-21 15:25:47 - INFO - Scraping Data from: https://www.eversports.de/s/the-pole-jungle\n",
      "Pole Studio Data: 1 entries\n",
      "Starting URL reconstruction...\n"
     ]
    },
    {
     "name": "stderr",
     "output_type": "stream",
     "text": [
      "2024-02-21 15:25:49,072 - INFO - Processing URL 1/2: https://www.eversports.de/s/balance-neumarkt\n"
     ]
    },
    {
     "name": "stdout",
     "output_type": "stream",
     "text": [
      "Converting to DataFrame...\n",
      "Validating URLs...\n"
     ]
    },
    {
     "name": "stderr",
     "output_type": "stream",
     "text": [
      "2024-02-21 15:25:50,645 - INFO - URL https://www.eversports.de/s/balance-neumarkt is valid.\n",
      "2024-02-21 15:25:50,646 - INFO - Processing URL 2/2: https://www.eversports.de/sw/balance-neumarkt\n",
      "2024-02-21 15:25:53,115 - INFO - URL https://www.eversports.de/sw/balance-neumarkt is valid.\n"
     ]
    },
    {
     "name": "stdout",
     "output_type": "stream",
     "text": [
      "Scraping Pole Studio Data from https://www.eversports.de/s/balance-neumarkt...\n",
      "Scraping Workshops Data from https://www.eversports.de/sw/balance-neumarkt...\n",
      "Scraping Workshop Details from https://www.eversports.de/e/workshop/s-CvYfY...\n",
      "Scraping Workshop Details from https://www.eversports.de/e/workshop/lIzIIH9...\n",
      "Scraping Workshop Details from https://www.eversports.de/e/workshop/1hwRppH...\n",
      "Scraping Workshop Details from https://www.eversports.de/e/workshop/FWO9nVb...\n",
      "Scraping Workshop Details from https://www.eversports.de/e/workshop/wHwtdS-...\n",
      "Scraping Workshop Details from https://www.eversports.de/e/workshop/D7_g8hU...\n",
      "Scraping Workshop Details from https://www.eversports.de/e/workshop/yXJE2Qf...\n",
      "Scraping Workshop Details from https://www.eversports.de/e/workshop/AL0d8uV...\n",
      "Scraping Workshop Details from https://www.eversports.de/e/workshop/WpCq6MN...\n",
      "Scraping Workshop Details from https://www.eversports.de/e/workshop/uE03gmT...\n",
      "Scraping Workshop Details from https://www.eversports.de/e/workshop/Nm33K4u...\n",
      "Scraping Workshop Details from https://www.eversports.de/e/workshop/DmdrEre...\n",
      "Scraping Workshop Details from https://www.eversports.de/e/workshop/U27XEmo...\n",
      "Scraping Workshop Details from https://www.eversports.de/e/workshop/DujyYDr...\n"
     ]
    },
    {
     "name": "stderr",
     "output_type": "stream",
     "text": [
      "Processing URLs:  55%|█████▌    | 241/438 [14:27<45:14, 13.78s/it]"
     ]
    },
    {
     "name": "stdout",
     "output_type": "stream",
     "text": [
      "\n",
      "Processing completed.\n",
      "-------------------------------- \n",
      "\n",
      "2024-02-21 15:26:21 - INFO - Scraping Data from: https://www.eversports.de/s/balance-neumarkt\n",
      "Pole Studio Data: 1 entries\n",
      "2024-02-21 15:26:21 - INFO - Scraping Data from: https://www.eversports.de/s/balance-neumarkt\n",
      "Workshops Data: 14 entries\n",
      "2024-02-21 15:26:21 - INFO - Scraping Data from: https://www.eversports.de/s/balance-neumarkt\n",
      "Workshop Details: 14 entries\n",
      "Starting URL reconstruction...\n"
     ]
    },
    {
     "name": "stderr",
     "output_type": "stream",
     "text": [
      "2024-02-21 15:26:22,850 - INFO - Processing URL 1/2: https://www.eversports.de/s/pole-dance-krefeld\n"
     ]
    },
    {
     "name": "stdout",
     "output_type": "stream",
     "text": [
      "Converting to DataFrame...\n",
      "Validating URLs...\n"
     ]
    },
    {
     "name": "stderr",
     "output_type": "stream",
     "text": [
      "2024-02-21 15:26:24,269 - INFO - URL https://www.eversports.de/s/pole-dance-krefeld is valid.\n",
      "2024-02-21 15:26:24,271 - INFO - Processing URL 2/2: https://www.eversports.de/sw/pole-dance-krefeld\n",
      "2024-02-21 15:26:25,534 - INFO - URL https://www.eversports.de/sw/pole-dance-krefeld is valid.\n"
     ]
    },
    {
     "name": "stdout",
     "output_type": "stream",
     "text": [
      "Scraping Pole Studio Data from https://www.eversports.de/s/pole-dance-krefeld...\n",
      "Scraping Workshops Data from https://www.eversports.de/sw/pole-dance-krefeld...\n",
      "Scraping Workshop Details from https://www.eversports.de/e/workshop/_LQRruK...\n",
      "Scraping Workshop Details from https://www.eversports.de/e/workshop/-vGIMzu...\n"
     ]
    },
    {
     "name": "stderr",
     "output_type": "stream",
     "text": [
      "Processing URLs:  55%|█████▌    | 242/438 [14:35<40:05, 12.27s/it]"
     ]
    },
    {
     "name": "stdout",
     "output_type": "stream",
     "text": [
      "\n",
      "Processing completed.\n",
      "-------------------------------- \n",
      "\n",
      "2024-02-21 15:26:30 - INFO - Scraping Data from: https://www.eversports.de/s/pole-dance-krefeld\n",
      "Pole Studio Data: 1 entries\n",
      "2024-02-21 15:26:30 - INFO - Scraping Data from: https://www.eversports.de/s/pole-dance-krefeld\n",
      "Workshops Data: 2 entries\n",
      "2024-02-21 15:26:30 - INFO - Scraping Data from: https://www.eversports.de/s/pole-dance-krefeld\n",
      "Workshop Details: 2 entries\n",
      "Starting URL reconstruction...\n"
     ]
    },
    {
     "name": "stderr",
     "output_type": "stream",
     "text": [
      "Processing URLs:  55%|█████▌    | 243/438 [14:37<29:05,  8.95s/it]"
     ]
    },
    {
     "name": "stdout",
     "output_type": "stream",
     "text": [
      "Error during HTTP request: 404 Client Error: Not Found for url: https://www.eversports.de/s/satori-pole-dance-potsdam\n",
      "Converting to DataFrame...\n",
      "Validating URLs...\n",
      "\n",
      "Processing completed.\n",
      "-------------------------------- \n",
      "\n",
      "Starting URL reconstruction...\n"
     ]
    },
    {
     "name": "stderr",
     "output_type": "stream",
     "text": [
      "Processing URLs:  56%|█████▌    | 244/438 [14:38<21:28,  6.64s/it]"
     ]
    },
    {
     "name": "stdout",
     "output_type": "stream",
     "text": [
      "Error during HTTP request: 404 Client Error: Not Found for url: https://www.eversports.de/s/vi-dance-hamm\n",
      "Converting to DataFrame...\n",
      "Validating URLs...\n",
      "\n",
      "Processing completed.\n",
      "-------------------------------- \n",
      "\n",
      "Starting URL reconstruction...\n"
     ]
    },
    {
     "name": "stderr",
     "output_type": "stream",
     "text": [
      "Processing URLs:  56%|█████▌    | 245/438 [14:39<16:14,  5.05s/it]"
     ]
    },
    {
     "name": "stdout",
     "output_type": "stream",
     "text": [
      "Error during HTTP request: 404 Client Error: Not Found for url: https://www.eversports.de/s/pole-sisters\n",
      "Converting to DataFrame...\n",
      "Validating URLs...\n",
      "\n",
      "Processing completed.\n",
      "-------------------------------- \n",
      "\n",
      "Starting URL reconstruction...\n"
     ]
    },
    {
     "name": "stderr",
     "output_type": "stream",
     "text": [
      "Processing URLs:  56%|█████▌    | 246/438 [14:40<12:36,  3.94s/it]"
     ]
    },
    {
     "name": "stdout",
     "output_type": "stream",
     "text": [
      "Error during HTTP request: 404 Client Error: Not Found for url: https://www.eversports.de/s/poledance-leipzig\n",
      "Converting to DataFrame...\n",
      "Validating URLs...\n",
      "\n",
      "Processing completed.\n",
      "-------------------------------- \n",
      "\n",
      "Starting URL reconstruction...\n"
     ]
    },
    {
     "name": "stderr",
     "output_type": "stream",
     "text": [
      "Processing URLs:  56%|█████▋    | 247/438 [14:42<09:58,  3.13s/it]"
     ]
    },
    {
     "name": "stdout",
     "output_type": "stream",
     "text": [
      "Error during HTTP request: 404 Client Error: Not Found for url: https://www.eversports.de/s/pole-acrobatics-deggingen\n",
      "Converting to DataFrame...\n",
      "Validating URLs...\n",
      "\n",
      "Processing completed.\n",
      "-------------------------------- \n",
      "\n",
      "Starting URL reconstruction...\n"
     ]
    },
    {
     "name": "stderr",
     "output_type": "stream",
     "text": [
      "Processing URLs:  57%|█████▋    | 248/438 [14:43<08:07,  2.56s/it]"
     ]
    },
    {
     "name": "stdout",
     "output_type": "stream",
     "text": [
      "Error during HTTP request: 404 Client Error: Not Found for url: https://www.eversports.de/s/crazysports-augsburg\n",
      "Converting to DataFrame...\n",
      "Validating URLs...\n",
      "\n",
      "Processing completed.\n",
      "-------------------------------- \n",
      "\n",
      "Starting URL reconstruction...\n"
     ]
    },
    {
     "name": "stderr",
     "output_type": "stream",
     "text": [
      "Processing URLs:  57%|█████▋    | 249/438 [14:46<08:28,  2.69s/it]"
     ]
    },
    {
     "name": "stdout",
     "output_type": "stream",
     "text": [
      "Error during HTTP request: Exceeded 30 redirects.\n",
      "Converting to DataFrame...\n",
      "Validating URLs...\n",
      "\n",
      "Processing completed.\n",
      "-------------------------------- \n",
      "\n",
      "Starting URL reconstruction...\n"
     ]
    },
    {
     "name": "stderr",
     "output_type": "stream",
     "text": [
      "Processing URLs:  57%|█████▋    | 250/438 [14:47<07:05,  2.26s/it]"
     ]
    },
    {
     "name": "stdout",
     "output_type": "stream",
     "text": [
      "Error during HTTP request: 404 Client Error: Not Found for url: https://www.eversports.de/s/pole-sport-coburg---akrobatik-%26-tanz-\n",
      "Converting to DataFrame...\n",
      "Validating URLs...\n",
      "\n",
      "Processing completed.\n",
      "-------------------------------- \n",
      "\n",
      "Starting URL reconstruction...\n"
     ]
    },
    {
     "name": "stderr",
     "output_type": "stream",
     "text": [
      "2024-02-21 15:26:43,966 - INFO - Processing URL 1/1: https://www.eversports.de/s/janine-hollung\n"
     ]
    },
    {
     "name": "stdout",
     "output_type": "stream",
     "text": [
      "Converting to DataFrame...\n",
      "Validating URLs...\n"
     ]
    },
    {
     "name": "stderr",
     "output_type": "stream",
     "text": [
      "2024-02-21 15:26:45,368 - INFO - URL https://www.eversports.de/s/janine-hollung is valid.\n"
     ]
    },
    {
     "name": "stdout",
     "output_type": "stream",
     "text": [
      "Scraping Pole Studio Data from https://www.eversports.de/s/janine-hollung...\n"
     ]
    },
    {
     "name": "stderr",
     "output_type": "stream",
     "text": [
      "Processing URLs:  57%|█████▋    | 251/438 [14:51<08:23,  2.69s/it]"
     ]
    },
    {
     "name": "stdout",
     "output_type": "stream",
     "text": [
      "\n",
      "Processing completed.\n",
      "-------------------------------- \n",
      "\n",
      "2024-02-21 15:26:45 - INFO - Scraping Data from: https://www.eversports.de/s/janine-hollung\n",
      "Pole Studio Data: 1 entries\n",
      "Starting URL reconstruction...\n"
     ]
    },
    {
     "name": "stderr",
     "output_type": "stream",
     "text": [
      "Processing URLs:  58%|█████▊    | 252/438 [14:52<07:00,  2.26s/it]"
     ]
    },
    {
     "name": "stdout",
     "output_type": "stream",
     "text": [
      "Error during HTTP request: 404 Client Error: Not Found for url: https://www.eversports.de/s/divas-dance-studio\n",
      "Converting to DataFrame...\n",
      "Validating URLs...\n",
      "\n",
      "Processing completed.\n",
      "-------------------------------- \n",
      "\n",
      "Starting URL reconstruction...\n"
     ]
    },
    {
     "name": "stderr",
     "output_type": "stream",
     "text": [
      "Processing URLs:  58%|█████▊    | 253/438 [14:55<07:10,  2.33s/it]"
     ]
    },
    {
     "name": "stdout",
     "output_type": "stream",
     "text": [
      "Error during HTTP request: 404 Client Error: Not Found for url: https://www.eversports.de/s/poledancestar-leipzig\n",
      "Converting to DataFrame...\n",
      "Validating URLs...\n",
      "\n",
      "Processing completed.\n",
      "-------------------------------- \n",
      "\n",
      "Starting URL reconstruction...\n"
     ]
    },
    {
     "name": "stderr",
     "output_type": "stream",
     "text": [
      "Processing URLs:  58%|█████▊    | 254/438 [14:58<08:18,  2.71s/it]"
     ]
    },
    {
     "name": "stdout",
     "output_type": "stream",
     "text": [
      "Error during HTTP request: Exceeded 30 redirects.\n",
      "Converting to DataFrame...\n",
      "Validating URLs...\n",
      "\n",
      "Processing completed.\n",
      "-------------------------------- \n",
      "\n",
      "Starting URL reconstruction...\n"
     ]
    },
    {
     "name": "stderr",
     "output_type": "stream",
     "text": [
      "Processing URLs:  58%|█████▊    | 255/438 [14:59<06:55,  2.27s/it]"
     ]
    },
    {
     "name": "stdout",
     "output_type": "stream",
     "text": [
      "Error during HTTP request: 404 Client Error: Not Found for url: https://www.eversports.de/s/das-tanz-center\n",
      "Converting to DataFrame...\n",
      "Validating URLs...\n",
      "\n",
      "Processing completed.\n",
      "-------------------------------- \n",
      "\n",
      "Starting URL reconstruction...\n"
     ]
    },
    {
     "name": "stderr",
     "output_type": "stream",
     "text": [
      "2024-02-21 15:26:55,814 - INFO - Processing URL 1/2: https://www.eversports.de/s/polecreation\n"
     ]
    },
    {
     "name": "stdout",
     "output_type": "stream",
     "text": [
      "Converting to DataFrame...\n",
      "Validating URLs...\n"
     ]
    },
    {
     "name": "stderr",
     "output_type": "stream",
     "text": [
      "2024-02-21 15:26:57,227 - INFO - URL https://www.eversports.de/s/polecreation is valid.\n",
      "2024-02-21 15:26:57,228 - INFO - Processing URL 2/2: https://www.eversports.de/sw/polecreation\n",
      "2024-02-21 15:26:58,708 - INFO - URL https://www.eversports.de/sw/polecreation is valid.\n"
     ]
    },
    {
     "name": "stdout",
     "output_type": "stream",
     "text": [
      "Scraping Pole Studio Data from https://www.eversports.de/s/polecreation...\n",
      "Scraping Workshops Data from https://www.eversports.de/sw/polecreation...\n",
      "Scraping Workshop Details from https://www.eversports.de/e/workshop/Zj0NETg...\n"
     ]
    },
    {
     "name": "stderr",
     "output_type": "stream",
     "text": [
      "Processing URLs:  58%|█████▊    | 256/438 [15:08<12:16,  4.05s/it]"
     ]
    },
    {
     "name": "stdout",
     "output_type": "stream",
     "text": [
      "\n",
      "Processing completed.\n",
      "-------------------------------- \n",
      "\n",
      "2024-02-21 15:27:02 - INFO - Scraping Data from: https://www.eversports.de/s/polecreation\n",
      "Pole Studio Data: 1 entries\n",
      "2024-02-21 15:27:02 - INFO - Scraping Data from: https://www.eversports.de/s/polecreation\n",
      "Workshops Data: 1 entries\n",
      "2024-02-21 15:27:02 - INFO - Scraping Data from: https://www.eversports.de/s/polecreation\n",
      "Workshop Details: 1 entries\n",
      "Starting URL reconstruction...\n"
     ]
    },
    {
     "name": "stderr",
     "output_type": "stream",
     "text": [
      "2024-02-21 15:27:04,000 - INFO - Processing URL 1/1: https://www.eversports.de/s/tanzschule-poledance-reutlingen\n"
     ]
    },
    {
     "name": "stdout",
     "output_type": "stream",
     "text": [
      "Converting to DataFrame...\n",
      "Validating URLs...\n"
     ]
    },
    {
     "name": "stderr",
     "output_type": "stream",
     "text": [
      "2024-02-21 15:27:05,533 - INFO - URL https://www.eversports.de/s/tanzschule-poledance-reutlingen is valid.\n"
     ]
    },
    {
     "name": "stdout",
     "output_type": "stream",
     "text": [
      "Scraping Pole Studio Data from https://www.eversports.de/s/tanzschule-poledance-reutlingen...\n"
     ]
    },
    {
     "name": "stderr",
     "output_type": "stream",
     "text": [
      "Processing URLs:  59%|█████▊    | 257/438 [15:11<11:44,  3.89s/it]"
     ]
    },
    {
     "name": "stdout",
     "output_type": "stream",
     "text": [
      "\n",
      "Processing completed.\n",
      "-------------------------------- \n",
      "\n",
      "2024-02-21 15:27:05 - INFO - Scraping Data from: https://www.eversports.de/s/tanzschule-poledance-reutlingen\n",
      "Pole Studio Data: 1 entries\n",
      "Starting URL reconstruction...\n"
     ]
    },
    {
     "name": "stderr",
     "output_type": "stream",
     "text": [
      "Processing URLs:  59%|█████▉    | 258/438 [15:12<09:18,  3.10s/it]"
     ]
    },
    {
     "name": "stdout",
     "output_type": "stream",
     "text": [
      "Error during HTTP request: 404 Client Error: Not Found for url: https://www.eversports.de/s/fl'air-studios-berlin\n",
      "Converting to DataFrame...\n",
      "Validating URLs...\n",
      "\n",
      "Processing completed.\n",
      "-------------------------------- \n",
      "\n",
      "Starting URL reconstruction...\n"
     ]
    },
    {
     "name": "stderr",
     "output_type": "stream",
     "text": [
      "Processing URLs:  59%|█████▉    | 259/438 [15:14<07:37,  2.55s/it]"
     ]
    },
    {
     "name": "stdout",
     "output_type": "stream",
     "text": [
      "Error during HTTP request: 404 Client Error: Not Found for url: https://www.eversports.de/s/pole-dance-%26-fitness\n",
      "Converting to DataFrame...\n",
      "Validating URLs...\n",
      "\n",
      "Processing completed.\n",
      "-------------------------------- \n",
      "\n",
      "Starting URL reconstruction...\n"
     ]
    },
    {
     "name": "stderr",
     "output_type": "stream",
     "text": [
      "Processing URLs:  59%|█████▉    | 260/438 [15:17<08:01,  2.70s/it]"
     ]
    },
    {
     "name": "stdout",
     "output_type": "stream",
     "text": [
      "Error during HTTP request: Exceeded 30 redirects.\n",
      "Converting to DataFrame...\n",
      "Validating URLs...\n",
      "\n",
      "Processing completed.\n",
      "-------------------------------- \n",
      "\n",
      "Starting URL reconstruction...\n"
     ]
    },
    {
     "name": "stderr",
     "output_type": "stream",
     "text": [
      "2024-02-21 15:27:13,114 - INFO - Processing URL 1/1: https://www.eversports.de/s/polefamily-koblenz\n"
     ]
    },
    {
     "name": "stdout",
     "output_type": "stream",
     "text": [
      "Converting to DataFrame...\n",
      "Validating URLs...\n"
     ]
    },
    {
     "name": "stderr",
     "output_type": "stream",
     "text": [
      "2024-02-21 15:27:14,496 - INFO - URL https://www.eversports.de/s/polefamily-koblenz is valid.\n"
     ]
    },
    {
     "name": "stdout",
     "output_type": "stream",
     "text": [
      "Scraping Pole Studio Data from https://www.eversports.de/s/polefamily-koblenz...\n"
     ]
    },
    {
     "name": "stderr",
     "output_type": "stream",
     "text": [
      "Processing URLs:  60%|█████▉    | 261/438 [15:20<08:28,  2.87s/it]"
     ]
    },
    {
     "name": "stdout",
     "output_type": "stream",
     "text": [
      "\n",
      "Processing completed.\n",
      "-------------------------------- \n",
      "\n",
      "2024-02-21 15:27:14 - INFO - Scraping Data from: https://www.eversports.de/s/polefamily-koblenz\n",
      "Pole Studio Data: 1 entries\n",
      "Starting URL reconstruction...\n"
     ]
    },
    {
     "name": "stderr",
     "output_type": "stream",
     "text": [
      "Processing URLs:  60%|█████▉    | 262/438 [15:33<17:15,  5.88s/it]"
     ]
    },
    {
     "name": "stdout",
     "output_type": "stream",
     "text": [
      "Error during HTTP request: 404 Client Error: Not Found for url: https://www.eversports.de/s/tanzteufel-denzlingen\n",
      "Converting to DataFrame...\n",
      "Validating URLs...\n",
      "\n",
      "Processing completed.\n",
      "-------------------------------- \n",
      "\n",
      "Starting URL reconstruction...\n"
     ]
    },
    {
     "name": "stderr",
     "output_type": "stream",
     "text": [
      "2024-02-21 15:27:29,293 - INFO - Processing URL 1/2: https://www.eversports.de/s/star-poledance\n"
     ]
    },
    {
     "name": "stdout",
     "output_type": "stream",
     "text": [
      "Converting to DataFrame...\n",
      "Validating URLs...\n"
     ]
    },
    {
     "name": "stderr",
     "output_type": "stream",
     "text": [
      "2024-02-21 15:27:30,732 - INFO - URL https://www.eversports.de/s/star-poledance is valid.\n",
      "2024-02-21 15:27:30,733 - INFO - Processing URL 2/2: https://www.eversports.de/sw/star-poledance\n",
      "2024-02-21 15:27:31,995 - INFO - URL https://www.eversports.de/sw/star-poledance is valid.\n"
     ]
    },
    {
     "name": "stdout",
     "output_type": "stream",
     "text": [
      "Scraping Pole Studio Data from https://www.eversports.de/s/star-poledance...\n",
      "Scraping Workshops Data from https://www.eversports.de/sw/star-poledance...\n",
      "Scraping Workshop Details from https://www.eversports.de/e/workshop/IVfDf6M...\n"
     ]
    },
    {
     "name": "stderr",
     "output_type": "stream",
     "text": [
      "Processing URLs:  60%|██████    | 263/438 [15:40<18:32,  6.35s/it]"
     ]
    },
    {
     "name": "stdout",
     "output_type": "stream",
     "text": [
      "\n",
      "Processing completed.\n",
      "-------------------------------- \n",
      "\n",
      "2024-02-21 15:27:35 - INFO - Scraping Data from: https://www.eversports.de/s/star-poledance\n",
      "Pole Studio Data: 1 entries\n",
      "2024-02-21 15:27:35 - INFO - Scraping Data from: https://www.eversports.de/s/star-poledance\n",
      "Workshops Data: 1 entries\n",
      "2024-02-21 15:27:35 - INFO - Scraping Data from: https://www.eversports.de/s/star-poledance\n",
      "Workshop Details: 1 entries\n",
      "Starting URL reconstruction...\n"
     ]
    },
    {
     "name": "stderr",
     "output_type": "stream",
     "text": [
      "2024-02-21 15:27:36,731 - INFO - Processing URL 1/2: https://www.eversports.de/s/poda-studio\n"
     ]
    },
    {
     "name": "stdout",
     "output_type": "stream",
     "text": [
      "Converting to DataFrame...\n",
      "Validating URLs...\n"
     ]
    },
    {
     "name": "stderr",
     "output_type": "stream",
     "text": [
      "2024-02-21 15:27:38,251 - INFO - URL https://www.eversports.de/s/poda-studio is valid.\n",
      "2024-02-21 15:27:38,252 - INFO - Processing URL 2/2: https://www.eversports.de/sw/poda-studio\n",
      "2024-02-21 15:27:39,695 - INFO - URL https://www.eversports.de/sw/poda-studio is valid.\n"
     ]
    },
    {
     "name": "stdout",
     "output_type": "stream",
     "text": [
      "Scraping Pole Studio Data from https://www.eversports.de/s/poda-studio...\n",
      "Scraping Workshops Data from https://www.eversports.de/sw/poda-studio...\n",
      "Scraping Workshop Details from https://www.eversports.de/e/workshop/JM68hgK...\n",
      "Scraping Workshop Details from https://www.eversports.de/e/workshop/9PbaXsNu8...\n",
      "Scraping Workshop Details from https://www.eversports.de/e/workshop/2f93D4_...\n"
     ]
    },
    {
     "name": "stderr",
     "output_type": "stream",
     "text": [
      "Processing URLs:  60%|██████    | 264/438 [15:51<21:59,  7.58s/it]"
     ]
    },
    {
     "name": "stdout",
     "output_type": "stream",
     "text": [
      "\n",
      "Processing completed.\n",
      "-------------------------------- \n",
      "\n",
      "2024-02-21 15:27:45 - INFO - Scraping Data from: https://www.eversports.de/s/poda-studio\n",
      "Pole Studio Data: 1 entries\n",
      "2024-02-21 15:27:45 - INFO - Scraping Data from: https://www.eversports.de/s/poda-studio\n",
      "Workshops Data: 3 entries\n",
      "2024-02-21 15:27:45 - INFO - Scraping Data from: https://www.eversports.de/s/poda-studio\n",
      "Workshop Details: 3 entries\n",
      "Starting URL reconstruction...\n"
     ]
    },
    {
     "name": "stderr",
     "output_type": "stream",
     "text": [
      "2024-02-21 15:27:47,341 - INFO - Processing URL 1/1: https://www.eversports.de/s/pole-dance-factory-amsterdam-noord\n"
     ]
    },
    {
     "name": "stdout",
     "output_type": "stream",
     "text": [
      "Converting to DataFrame...\n",
      "Validating URLs...\n"
     ]
    },
    {
     "name": "stderr",
     "output_type": "stream",
     "text": [
      "2024-02-21 15:27:48,792 - INFO - URL https://www.eversports.de/s/pole-dance-factory-amsterdam-noord is valid.\n"
     ]
    },
    {
     "name": "stdout",
     "output_type": "stream",
     "text": [
      "Scraping Pole Studio Data from https://www.eversports.de/s/pole-dance-factory-amsterdam-noord...\n"
     ]
    },
    {
     "name": "stderr",
     "output_type": "stream",
     "text": [
      "Processing URLs:  61%|██████    | 265/438 [15:54<18:25,  6.39s/it]"
     ]
    },
    {
     "name": "stdout",
     "output_type": "stream",
     "text": [
      "\n",
      "Processing completed.\n",
      "-------------------------------- \n",
      "\n",
      "2024-02-21 15:27:49 - INFO - Scraping Data from: https://www.eversports.de/s/pole-dance-factory-amsterdam-noord\n",
      "Pole Studio Data: 1 entries\n",
      "Starting URL reconstruction...\n"
     ]
    },
    {
     "name": "stderr",
     "output_type": "stream",
     "text": [
      "2024-02-21 15:27:50,759 - INFO - Processing URL 1/1: https://www.eversports.de/s/pole-loft\n"
     ]
    },
    {
     "name": "stdout",
     "output_type": "stream",
     "text": [
      "Converting to DataFrame...\n",
      "Validating URLs...\n"
     ]
    },
    {
     "name": "stderr",
     "output_type": "stream",
     "text": [
      "2024-02-21 15:27:52,318 - INFO - URL https://www.eversports.de/s/pole-loft is valid.\n"
     ]
    },
    {
     "name": "stdout",
     "output_type": "stream",
     "text": [
      "Scraping Pole Studio Data from https://www.eversports.de/s/pole-loft...\n"
     ]
    },
    {
     "name": "stderr",
     "output_type": "stream",
     "text": [
      "Processing URLs:  61%|██████    | 266/438 [15:59<16:26,  5.74s/it]"
     ]
    },
    {
     "name": "stdout",
     "output_type": "stream",
     "text": [
      "\n",
      "Processing completed.\n",
      "-------------------------------- \n",
      "\n",
      "2024-02-21 15:27:53 - INFO - Scraping Data from: https://www.eversports.de/s/pole-loft\n",
      "Pole Studio Data: 1 entries\n",
      "Starting URL reconstruction...\n"
     ]
    },
    {
     "name": "stderr",
     "output_type": "stream",
     "text": [
      "2024-02-21 15:27:54,924 - INFO - Processing URL 1/1: https://www.eversports.de/s/st-polestudio\n"
     ]
    },
    {
     "name": "stdout",
     "output_type": "stream",
     "text": [
      "Converting to DataFrame...\n",
      "Validating URLs...\n"
     ]
    },
    {
     "name": "stderr",
     "output_type": "stream",
     "text": [
      "2024-02-21 15:27:56,649 - INFO - URL https://www.eversports.de/s/st-polestudio is valid.\n"
     ]
    },
    {
     "name": "stdout",
     "output_type": "stream",
     "text": [
      "Scraping Pole Studio Data from https://www.eversports.de/s/st-polestudio...\n"
     ]
    },
    {
     "name": "stderr",
     "output_type": "stream",
     "text": [
      "Processing URLs:  61%|██████    | 267/438 [16:03<15:00,  5.27s/it]"
     ]
    },
    {
     "name": "stdout",
     "output_type": "stream",
     "text": [
      "\n",
      "Processing completed.\n",
      "-------------------------------- \n",
      "\n",
      "2024-02-21 15:27:57 - INFO - Scraping Data from: https://www.eversports.de/s/st-polestudio\n",
      "Pole Studio Data: 1 entries\n",
      "Starting URL reconstruction...\n"
     ]
    },
    {
     "name": "stderr",
     "output_type": "stream",
     "text": [
      "Processing URLs:  61%|██████    | 268/438 [16:05<12:05,  4.27s/it]"
     ]
    },
    {
     "name": "stdout",
     "output_type": "stream",
     "text": [
      "Error during HTTP request: 404 Client Error: Not Found for url: https://www.eversports.de/s/pole-dance-studio-karlsruhe\n",
      "Converting to DataFrame...\n",
      "Validating URLs...\n",
      "\n",
      "Processing completed.\n",
      "-------------------------------- \n",
      "\n",
      "Starting URL reconstruction...\n"
     ]
    },
    {
     "name": "stderr",
     "output_type": "stream",
     "text": [
      "Processing URLs:  61%|██████▏   | 269/438 [16:06<09:26,  3.35s/it]"
     ]
    },
    {
     "name": "stdout",
     "output_type": "stream",
     "text": [
      "Error during HTTP request: 404 Client Error: Not Found for url: https://www.eversports.de/s/dance-%26-fly-pole-studio\n",
      "Converting to DataFrame...\n",
      "Validating URLs...\n",
      "\n",
      "Processing completed.\n",
      "-------------------------------- \n",
      "\n",
      "Starting URL reconstruction...\n"
     ]
    },
    {
     "name": "stderr",
     "output_type": "stream",
     "text": [
      "Processing URLs:  62%|██████▏   | 270/438 [16:07<07:43,  2.76s/it]"
     ]
    },
    {
     "name": "stdout",
     "output_type": "stream",
     "text": [
      "Error during HTTP request: 404 Client Error: Not Found for url: https://www.eversports.de/s/die-dance-academy-by-wipper\n",
      "Converting to DataFrame...\n",
      "Validating URLs...\n",
      "\n",
      "Processing completed.\n",
      "-------------------------------- \n",
      "\n",
      "Starting URL reconstruction...\n"
     ]
    },
    {
     "name": "stderr",
     "output_type": "stream",
     "text": [
      "Processing URLs:  62%|██████▏   | 271/438 [16:09<06:33,  2.35s/it]"
     ]
    },
    {
     "name": "stdout",
     "output_type": "stream",
     "text": [
      "Error during HTTP request: 404 Client Error: Not Found for url: https://www.eversports.de/s/freaky-pole-cats-straubing\n",
      "Converting to DataFrame...\n",
      "Validating URLs...\n",
      "\n",
      "Processing completed.\n",
      "-------------------------------- \n",
      "\n",
      "Starting URL reconstruction...\n"
     ]
    },
    {
     "name": "stderr",
     "output_type": "stream",
     "text": [
      "2024-02-21 15:28:05,103 - INFO - Processing URL 1/2: https://www.eversports.de/s/poleside\n"
     ]
    },
    {
     "name": "stdout",
     "output_type": "stream",
     "text": [
      "Converting to DataFrame...\n",
      "Validating URLs...\n"
     ]
    },
    {
     "name": "stderr",
     "output_type": "stream",
     "text": [
      "2024-02-21 15:28:06,462 - INFO - URL https://www.eversports.de/s/poleside is valid.\n",
      "2024-02-21 15:28:06,463 - INFO - Processing URL 2/2: https://www.eversports.de/sw/poleside\n",
      "2024-02-21 15:28:07,743 - INFO - URL https://www.eversports.de/sw/poleside is valid.\n"
     ]
    },
    {
     "name": "stdout",
     "output_type": "stream",
     "text": [
      "Scraping Pole Studio Data from https://www.eversports.de/s/poleside...\n",
      "Scraping Workshops Data from https://www.eversports.de/sw/poleside...\n",
      "Scraping Workshop Details from https://www.eversports.de/e/workshop/llCPKoMLh...\n"
     ]
    },
    {
     "name": "stderr",
     "output_type": "stream",
     "text": [
      "Processing URLs:  62%|██████▏   | 272/438 [16:16<10:30,  3.80s/it]"
     ]
    },
    {
     "name": "stdout",
     "output_type": "stream",
     "text": [
      "\n",
      "Processing completed.\n",
      "-------------------------------- \n",
      "\n",
      "2024-02-21 15:28:10 - INFO - Scraping Data from: https://www.eversports.de/s/poleside\n",
      "Pole Studio Data: 1 entries\n",
      "2024-02-21 15:28:10 - INFO - Scraping Data from: https://www.eversports.de/s/poleside\n",
      "Workshops Data: 1 entries\n",
      "2024-02-21 15:28:10 - INFO - Scraping Data from: https://www.eversports.de/s/poleside\n",
      "Workshop Details: 1 entries\n",
      "Starting URL reconstruction...\n"
     ]
    },
    {
     "name": "stderr",
     "output_type": "stream",
     "text": [
      "2024-02-21 15:28:12,241 - INFO - Processing URL 1/1: https://www.eversports.de/s/pole-passion-bielefeld\n"
     ]
    },
    {
     "name": "stdout",
     "output_type": "stream",
     "text": [
      "Converting to DataFrame...\n",
      "Validating URLs...\n"
     ]
    },
    {
     "name": "stderr",
     "output_type": "stream",
     "text": [
      "2024-02-21 15:28:13,899 - INFO - URL https://www.eversports.de/s/pole-passion-bielefeld is valid.\n"
     ]
    },
    {
     "name": "stdout",
     "output_type": "stream",
     "text": [
      "Scraping Pole Studio Data from https://www.eversports.de/s/pole-passion-bielefeld...\n"
     ]
    },
    {
     "name": "stderr",
     "output_type": "stream",
     "text": [
      "Processing URLs:  62%|██████▏   | 273/438 [16:20<10:15,  3.73s/it]"
     ]
    },
    {
     "name": "stdout",
     "output_type": "stream",
     "text": [
      "\n",
      "Processing completed.\n",
      "-------------------------------- \n",
      "\n",
      "2024-02-21 15:28:14 - INFO - Scraping Data from: https://www.eversports.de/s/pole-passion-bielefeld\n",
      "Pole Studio Data: 1 entries\n",
      "Starting URL reconstruction...\n"
     ]
    },
    {
     "name": "stderr",
     "output_type": "stream",
     "text": [
      "2024-02-21 15:28:15,841 - INFO - Processing URL 1/1: https://www.eversports.de/s/a-heart-for-poledance\n"
     ]
    },
    {
     "name": "stdout",
     "output_type": "stream",
     "text": [
      "Converting to DataFrame...\n",
      "Validating URLs...\n"
     ]
    },
    {
     "name": "stderr",
     "output_type": "stream",
     "text": [
      "2024-02-21 15:28:17,130 - INFO - URL https://www.eversports.de/s/a-heart-for-poledance is valid.\n"
     ]
    },
    {
     "name": "stdout",
     "output_type": "stream",
     "text": [
      "Scraping Pole Studio Data from https://www.eversports.de/s/a-heart-for-poledance...\n"
     ]
    },
    {
     "name": "stderr",
     "output_type": "stream",
     "text": [
      "Processing URLs:  63%|██████▎   | 274/438 [16:23<09:37,  3.52s/it]"
     ]
    },
    {
     "name": "stdout",
     "output_type": "stream",
     "text": [
      "\n",
      "Processing completed.\n",
      "-------------------------------- \n",
      "\n",
      "2024-02-21 15:28:17 - INFO - Scraping Data from: https://www.eversports.de/s/a-heart-for-poledance\n",
      "Pole Studio Data: 1 entries\n",
      "Starting URL reconstruction...\n"
     ]
    },
    {
     "name": "stderr",
     "output_type": "stream",
     "text": [
      "Processing URLs:  63%|██████▎   | 275/438 [16:24<07:41,  2.83s/it]"
     ]
    },
    {
     "name": "stdout",
     "output_type": "stream",
     "text": [
      "Error during HTTP request: 404 Client Error: Not Found for url: https://www.eversports.de/s/aerial-amazons\n",
      "Converting to DataFrame...\n",
      "Validating URLs...\n",
      "\n",
      "Processing completed.\n",
      "-------------------------------- \n",
      "\n",
      "Starting URL reconstruction...\n"
     ]
    },
    {
     "name": "stderr",
     "output_type": "stream",
     "text": [
      "Processing URLs:  63%|██████▎   | 276/438 [16:25<06:21,  2.36s/it]"
     ]
    },
    {
     "name": "stdout",
     "output_type": "stream",
     "text": [
      "Error during HTTP request: 404 Client Error: Not Found for url: https://www.eversports.de/s/pole-studio-koblenz\n",
      "Converting to DataFrame...\n",
      "Validating URLs...\n",
      "\n",
      "Processing completed.\n",
      "-------------------------------- \n",
      "\n",
      "Starting URL reconstruction...\n"
     ]
    },
    {
     "name": "stderr",
     "output_type": "stream",
     "text": [
      "Processing URLs:  63%|██████▎   | 277/438 [16:27<06:19,  2.36s/it]"
     ]
    },
    {
     "name": "stdout",
     "output_type": "stream",
     "text": [
      "Error during HTTP request: 404 Client Error: Not Found for url: https://www.eversports.de/s/drehimpuls-aachen\n",
      "Converting to DataFrame...\n",
      "Validating URLs...\n",
      "\n",
      "Processing completed.\n",
      "-------------------------------- \n",
      "\n",
      "Starting URL reconstruction...\n"
     ]
    },
    {
     "name": "stderr",
     "output_type": "stream",
     "text": [
      "Processing URLs:  63%|██████▎   | 278/438 [16:32<07:56,  2.98s/it]"
     ]
    },
    {
     "name": "stdout",
     "output_type": "stream",
     "text": [
      "Error during HTTP request: Exceeded 30 redirects.\n",
      "Converting to DataFrame...\n",
      "Validating URLs...\n",
      "\n",
      "Processing completed.\n",
      "-------------------------------- \n",
      "\n",
      "Starting URL reconstruction...\n"
     ]
    },
    {
     "name": "stderr",
     "output_type": "stream",
     "text": [
      "2024-02-21 15:28:27,963 - INFO - Processing URL 1/1: https://www.eversports.de/s/poleworkx\n"
     ]
    },
    {
     "name": "stdout",
     "output_type": "stream",
     "text": [
      "Converting to DataFrame...\n",
      "Validating URLs...\n"
     ]
    },
    {
     "name": "stderr",
     "output_type": "stream",
     "text": [
      "2024-02-21 15:28:29,266 - INFO - URL https://www.eversports.de/s/poleworkx is valid.\n"
     ]
    },
    {
     "name": "stdout",
     "output_type": "stream",
     "text": [
      "Scraping Pole Studio Data from https://www.eversports.de/s/poleworkx...\n"
     ]
    },
    {
     "name": "stderr",
     "output_type": "stream",
     "text": [
      "Processing URLs:  64%|██████▎   | 279/438 [16:35<07:48,  2.95s/it]"
     ]
    },
    {
     "name": "stdout",
     "output_type": "stream",
     "text": [
      "\n",
      "Processing completed.\n",
      "-------------------------------- \n",
      "\n",
      "2024-02-21 15:28:29 - INFO - Scraping Data from: https://www.eversports.de/s/poleworkx\n",
      "Pole Studio Data: 1 entries\n",
      "Starting URL reconstruction...\n"
     ]
    },
    {
     "name": "stderr",
     "output_type": "stream",
     "text": [
      "Processing URLs:  64%|██████▍   | 280/438 [16:36<06:26,  2.45s/it]"
     ]
    },
    {
     "name": "stdout",
     "output_type": "stream",
     "text": [
      "Error during HTTP request: 404 Client Error: Not Found for url: https://www.eversports.de/s/360-grad-soulsports\n",
      "Converting to DataFrame...\n",
      "Validating URLs...\n",
      "\n",
      "Processing completed.\n",
      "-------------------------------- \n",
      "\n",
      "Starting URL reconstruction...\n"
     ]
    },
    {
     "name": "stderr",
     "output_type": "stream",
     "text": [
      "2024-02-21 15:28:43,687 - INFO - Processing URL 1/1: https://www.eversports.de/s/poleaddict\n"
     ]
    },
    {
     "name": "stdout",
     "output_type": "stream",
     "text": [
      "Converting to DataFrame...\n",
      "Validating URLs...\n"
     ]
    },
    {
     "name": "stderr",
     "output_type": "stream",
     "text": [
      "2024-02-21 15:28:45,083 - INFO - URL https://www.eversports.de/s/poleaddict is valid.\n"
     ]
    },
    {
     "name": "stdout",
     "output_type": "stream",
     "text": [
      "Scraping Pole Studio Data from https://www.eversports.de/s/poleaddict...\n"
     ]
    },
    {
     "name": "stderr",
     "output_type": "stream",
     "text": [
      "Processing URLs:  64%|██████▍   | 281/438 [16:51<15:56,  6.09s/it]"
     ]
    },
    {
     "name": "stdout",
     "output_type": "stream",
     "text": [
      "\n",
      "Processing completed.\n",
      "-------------------------------- \n",
      "\n",
      "2024-02-21 15:28:45 - INFO - Scraping Data from: https://www.eversports.de/s/poleaddict\n",
      "Pole Studio Data: 1 entries\n",
      "Starting URL reconstruction...\n"
     ]
    },
    {
     "name": "stderr",
     "output_type": "stream",
     "text": [
      "Processing URLs:  64%|██████▍   | 282/438 [16:52<12:00,  4.62s/it]"
     ]
    },
    {
     "name": "stdout",
     "output_type": "stream",
     "text": [
      "Error during HTTP request: 404 Client Error: Not Found for url: https://www.eversports.de/s/polelove-bremen\n",
      "Converting to DataFrame...\n",
      "Validating URLs...\n",
      "\n",
      "Processing completed.\n",
      "-------------------------------- \n",
      "\n",
      "Starting URL reconstruction...\n"
     ]
    },
    {
     "name": "stderr",
     "output_type": "stream",
     "text": [
      "Processing URLs:  65%|██████▍   | 283/438 [16:53<09:18,  3.60s/it]"
     ]
    },
    {
     "name": "stdout",
     "output_type": "stream",
     "text": [
      "Error during HTTP request: 404 Client Error: Not Found for url: https://www.eversports.de/s/b.fitness-pole%26body\n",
      "Converting to DataFrame...\n",
      "Validating URLs...\n",
      "\n",
      "Processing completed.\n",
      "-------------------------------- \n",
      "\n",
      "Starting URL reconstruction...\n"
     ]
    },
    {
     "name": "stderr",
     "output_type": "stream",
     "text": [
      "Processing URLs:  65%|██████▍   | 284/438 [16:54<07:30,  2.92s/it]"
     ]
    },
    {
     "name": "stdout",
     "output_type": "stream",
     "text": [
      "Error during HTTP request: 404 Client Error: Not Found for url: https://www.eversports.de/s/polevybe\n",
      "Converting to DataFrame...\n",
      "Validating URLs...\n",
      "\n",
      "Processing completed.\n",
      "-------------------------------- \n",
      "\n",
      "Starting URL reconstruction...\n"
     ]
    },
    {
     "name": "stderr",
     "output_type": "stream",
     "text": [
      "2024-02-21 15:28:50,670 - INFO - Processing URL 1/2: https://www.eversports.de/s/royal-pole\n"
     ]
    },
    {
     "name": "stdout",
     "output_type": "stream",
     "text": [
      "Converting to DataFrame...\n",
      "Validating URLs...\n"
     ]
    },
    {
     "name": "stderr",
     "output_type": "stream",
     "text": [
      "2024-02-21 15:28:52,290 - INFO - URL https://www.eversports.de/s/royal-pole is valid.\n",
      "2024-02-21 15:28:52,291 - INFO - Processing URL 2/2: https://www.eversports.de/sw/royal-pole\n",
      "2024-02-21 15:28:53,592 - INFO - URL https://www.eversports.de/sw/royal-pole is not valid.\n"
     ]
    },
    {
     "name": "stdout",
     "output_type": "stream",
     "text": [
      "Scraping Pole Studio Data from https://www.eversports.de/s/royal-pole...\n"
     ]
    },
    {
     "name": "stderr",
     "output_type": "stream",
     "text": [
      "Processing URLs:  65%|██████▌   | 285/438 [16:59<08:55,  3.50s/it]"
     ]
    },
    {
     "name": "stdout",
     "output_type": "stream",
     "text": [
      "\n",
      "Processing completed.\n",
      "-------------------------------- \n",
      "\n",
      "2024-02-21 15:28:53 - INFO - Scraping Data from: https://www.eversports.de/s/royal-pole\n",
      "Pole Studio Data: 1 entries\n",
      "Starting URL reconstruction...\n"
     ]
    },
    {
     "name": "stderr",
     "output_type": "stream",
     "text": [
      "Processing URLs:  65%|██████▌   | 286/438 [17:00<07:10,  2.83s/it]"
     ]
    },
    {
     "name": "stdout",
     "output_type": "stream",
     "text": [
      "Error during HTTP request: 404 Client Error: Not Found for url: https://www.eversports.de/s/dance-%26-pole-solingen\n",
      "Converting to DataFrame...\n",
      "Validating URLs...\n",
      "\n",
      "Processing completed.\n",
      "-------------------------------- \n",
      "\n",
      "Starting URL reconstruction...\n"
     ]
    },
    {
     "name": "stderr",
     "output_type": "stream",
     "text": [
      "2024-02-21 15:28:56,961 - INFO - Processing URL 1/1: https://www.eversports.de/s/lush-motion\n"
     ]
    },
    {
     "name": "stdout",
     "output_type": "stream",
     "text": [
      "Converting to DataFrame...\n",
      "Validating URLs...\n"
     ]
    },
    {
     "name": "stderr",
     "output_type": "stream",
     "text": [
      "2024-02-21 15:28:58,450 - INFO - URL https://www.eversports.de/s/lush-motion is valid.\n"
     ]
    },
    {
     "name": "stdout",
     "output_type": "stream",
     "text": [
      "Scraping Pole Studio Data from https://www.eversports.de/s/lush-motion...\n"
     ]
    },
    {
     "name": "stderr",
     "output_type": "stream",
     "text": [
      "Processing URLs:  66%|██████▌   | 287/438 [17:04<07:45,  3.08s/it]"
     ]
    },
    {
     "name": "stdout",
     "output_type": "stream",
     "text": [
      "\n",
      "Processing completed.\n",
      "-------------------------------- \n",
      "\n",
      "2024-02-21 15:28:58 - INFO - Scraping Data from: https://www.eversports.de/s/lush-motion\n",
      "Pole Studio Data: 1 entries\n",
      "Starting URL reconstruction...\n"
     ]
    },
    {
     "name": "stderr",
     "output_type": "stream",
     "text": [
      "Processing URLs:  66%|██████▌   | 288/438 [17:05<06:20,  2.54s/it]"
     ]
    },
    {
     "name": "stdout",
     "output_type": "stream",
     "text": [
      "Error during HTTP request: 404 Client Error: Not Found for url: https://www.eversports.de/s/jeds\n",
      "Converting to DataFrame...\n",
      "Validating URLs...\n",
      "\n",
      "Processing completed.\n",
      "-------------------------------- \n",
      "\n",
      "Starting URL reconstruction...\n"
     ]
    },
    {
     "name": "stderr",
     "output_type": "stream",
     "text": [
      "Processing URLs:  66%|██████▌   | 289/438 [17:07<05:29,  2.21s/it]"
     ]
    },
    {
     "name": "stdout",
     "output_type": "stream",
     "text": [
      "Error during HTTP request: 404 Client Error: Not Found for url: https://www.eversports.de/s/spirit'n-roses\n",
      "Converting to DataFrame...\n",
      "Validating URLs...\n",
      "\n",
      "Processing completed.\n",
      "-------------------------------- \n",
      "\n",
      "Starting URL reconstruction...\n"
     ]
    },
    {
     "name": "stderr",
     "output_type": "stream",
     "text": [
      "2024-02-21 15:29:03,150 - INFO - Processing URL 1/1: https://www.eversports.de/s/welovepoledance\n"
     ]
    },
    {
     "name": "stdout",
     "output_type": "stream",
     "text": [
      "Converting to DataFrame...\n",
      "Validating URLs...\n"
     ]
    },
    {
     "name": "stderr",
     "output_type": "stream",
     "text": [
      "2024-02-21 15:29:04,499 - INFO - URL https://www.eversports.de/s/welovepoledance is valid.\n"
     ]
    },
    {
     "name": "stdout",
     "output_type": "stream",
     "text": [
      "Scraping Pole Studio Data from https://www.eversports.de/s/welovepoledance...\n"
     ]
    },
    {
     "name": "stderr",
     "output_type": "stream",
     "text": [
      "Processing URLs:  66%|██████▌   | 290/438 [17:10<06:13,  2.52s/it]"
     ]
    },
    {
     "name": "stdout",
     "output_type": "stream",
     "text": [
      "\n",
      "Processing completed.\n",
      "-------------------------------- \n",
      "\n",
      "2024-02-21 15:29:04 - INFO - Scraping Data from: https://www.eversports.de/s/welovepoledance\n",
      "Pole Studio Data: 1 entries\n",
      "Starting URL reconstruction...\n"
     ]
    },
    {
     "name": "stderr",
     "output_type": "stream",
     "text": [
      "Processing URLs:  66%|██████▋   | 291/438 [17:11<05:13,  2.13s/it]"
     ]
    },
    {
     "name": "stdout",
     "output_type": "stream",
     "text": [
      "Error during HTTP request: 404 Client Error: Not Found for url: https://www.eversports.de/s/pole-dance-nrw\n",
      "Converting to DataFrame...\n",
      "Validating URLs...\n",
      "\n",
      "Processing completed.\n",
      "-------------------------------- \n",
      "\n",
      "Starting URL reconstruction...\n"
     ]
    },
    {
     "name": "stderr",
     "output_type": "stream",
     "text": [
      "Processing URLs:  67%|██████▋   | 292/438 [17:15<06:30,  2.68s/it]"
     ]
    },
    {
     "name": "stdout",
     "output_type": "stream",
     "text": [
      "Error during HTTP request: Exceeded 30 redirects.\n",
      "Converting to DataFrame...\n",
      "Validating URLs...\n",
      "\n",
      "Processing completed.\n",
      "-------------------------------- \n",
      "\n",
      "Starting URL reconstruction...\n"
     ]
    },
    {
     "name": "stderr",
     "output_type": "stream",
     "text": [
      "Processing URLs:  67%|██████▋   | 293/438 [17:16<05:25,  2.25s/it]"
     ]
    },
    {
     "name": "stdout",
     "output_type": "stream",
     "text": [
      "Error during HTTP request: 404 Client Error: Not Found for url: https://www.eversports.de/s/pole-bijou\n",
      "Converting to DataFrame...\n",
      "Validating URLs...\n",
      "\n",
      "Processing completed.\n",
      "-------------------------------- \n",
      "\n",
      "Starting URL reconstruction...\n"
     ]
    },
    {
     "name": "stderr",
     "output_type": "stream",
     "text": [
      "2024-02-21 15:29:12,730 - INFO - Processing URL 1/1: https://www.eversports.de/s/pole-werk-by-nelly\n"
     ]
    },
    {
     "name": "stdout",
     "output_type": "stream",
     "text": [
      "Converting to DataFrame...\n",
      "Validating URLs...\n"
     ]
    },
    {
     "name": "stderr",
     "output_type": "stream",
     "text": [
      "2024-02-21 15:29:14,148 - INFO - URL https://www.eversports.de/s/pole-werk-by-nelly is valid.\n"
     ]
    },
    {
     "name": "stdout",
     "output_type": "stream",
     "text": [
      "Scraping Pole Studio Data from https://www.eversports.de/s/pole-werk-by-nelly...\n"
     ]
    },
    {
     "name": "stderr",
     "output_type": "stream",
     "text": [
      "Processing URLs:  67%|██████▋   | 294/438 [17:20<06:03,  2.52s/it]"
     ]
    },
    {
     "name": "stdout",
     "output_type": "stream",
     "text": [
      "\n",
      "Processing completed.\n",
      "-------------------------------- \n",
      "\n",
      "2024-02-21 15:29:14 - INFO - Scraping Data from: https://www.eversports.de/s/pole-werk-by-nelly\n",
      "Pole Studio Data: 1 entries\n",
      "Starting URL reconstruction...\n"
     ]
    },
    {
     "name": "stderr",
     "output_type": "stream",
     "text": [
      "Processing URLs:  67%|██████▋   | 295/438 [17:22<06:10,  2.59s/it]"
     ]
    },
    {
     "name": "stdout",
     "output_type": "stream",
     "text": [
      "Error during HTTP request: 404 Client Error: Not Found for url: https://www.eversports.de/s/dancexotic\n",
      "Converting to DataFrame...\n",
      "Validating URLs...\n",
      "\n",
      "Processing completed.\n",
      "-------------------------------- \n",
      "\n",
      "Starting URL reconstruction...\n"
     ]
    },
    {
     "name": "stderr",
     "output_type": "stream",
     "text": [
      "Processing URLs:  68%|██████▊   | 296/438 [17:27<07:17,  3.08s/it]"
     ]
    },
    {
     "name": "stdout",
     "output_type": "stream",
     "text": [
      "Error during HTTP request: Exceeded 30 redirects.\n",
      "Converting to DataFrame...\n",
      "Validating URLs...\n",
      "\n",
      "Processing completed.\n",
      "-------------------------------- \n",
      "\n",
      "Starting URL reconstruction...\n"
     ]
    },
    {
     "name": "stderr",
     "output_type": "stream",
     "text": [
      "Processing URLs:  68%|██████▊   | 297/438 [17:28<05:57,  2.53s/it]"
     ]
    },
    {
     "name": "stdout",
     "output_type": "stream",
     "text": [
      "Error during HTTP request: 404 Client Error: Not Found for url: https://www.eversports.de/s/pole-dance-trier\n",
      "Converting to DataFrame...\n",
      "Validating URLs...\n",
      "\n",
      "Processing completed.\n",
      "-------------------------------- \n",
      "\n",
      "Starting URL reconstruction...\n"
     ]
    },
    {
     "name": "stderr",
     "output_type": "stream",
     "text": [
      "Processing URLs:  68%|██████▊   | 298/438 [17:29<05:03,  2.17s/it]"
     ]
    },
    {
     "name": "stdout",
     "output_type": "stream",
     "text": [
      "Error during HTTP request: 404 Client Error: Not Found for url: https://www.eversports.de/s/open-aerial-dance\n",
      "Converting to DataFrame...\n",
      "Validating URLs...\n",
      "\n",
      "Processing completed.\n",
      "-------------------------------- \n",
      "\n",
      "Starting URL reconstruction...\n"
     ]
    },
    {
     "name": "stderr",
     "output_type": "stream",
     "text": [
      "Processing URLs:  68%|██████▊   | 299/438 [17:30<04:22,  1.89s/it]"
     ]
    },
    {
     "name": "stdout",
     "output_type": "stream",
     "text": [
      "Error during HTTP request: 404 Client Error: Not Found for url: https://www.eversports.de/s/studio-fitnessdarling\n",
      "Converting to DataFrame...\n",
      "Validating URLs...\n",
      "\n",
      "Processing completed.\n",
      "-------------------------------- \n",
      "\n",
      "Starting URL reconstruction...\n"
     ]
    },
    {
     "name": "stderr",
     "output_type": "stream",
     "text": [
      "Processing URLs:  68%|██████▊   | 300/438 [17:32<03:58,  1.73s/it]"
     ]
    },
    {
     "name": "stdout",
     "output_type": "stream",
     "text": [
      "Error during HTTP request: 404 Client Error: Not Found for url: https://www.eversports.de/s/pole-shape-studio\n",
      "Converting to DataFrame...\n",
      "Validating URLs...\n",
      "\n",
      "Processing completed.\n",
      "-------------------------------- \n",
      "\n",
      "Starting URL reconstruction...\n"
     ]
    },
    {
     "name": "stderr",
     "output_type": "stream",
     "text": [
      "2024-02-21 15:29:28,030 - INFO - Processing URL 1/1: https://www.eversports.de/s/aerial-studio-arnhem\n"
     ]
    },
    {
     "name": "stdout",
     "output_type": "stream",
     "text": [
      "Converting to DataFrame...\n",
      "Validating URLs...\n"
     ]
    },
    {
     "name": "stderr",
     "output_type": "stream",
     "text": [
      "2024-02-21 15:29:29,693 - INFO - URL https://www.eversports.de/s/aerial-studio-arnhem is valid.\n"
     ]
    },
    {
     "name": "stdout",
     "output_type": "stream",
     "text": [
      "Scraping Pole Studio Data from https://www.eversports.de/s/aerial-studio-arnhem...\n"
     ]
    },
    {
     "name": "stderr",
     "output_type": "stream",
     "text": [
      "Processing URLs:  69%|██████▊   | 301/438 [17:35<05:10,  2.27s/it]"
     ]
    },
    {
     "name": "stdout",
     "output_type": "stream",
     "text": [
      "\n",
      "Processing completed.\n",
      "-------------------------------- \n",
      "\n",
      "2024-02-21 15:29:30 - INFO - Scraping Data from: https://www.eversports.de/s/aerial-studio-arnhem\n",
      "Pole Studio Data: 1 entries\n",
      "Starting URL reconstruction...\n"
     ]
    },
    {
     "name": "stderr",
     "output_type": "stream",
     "text": [
      "Processing URLs:  69%|██████▉   | 302/438 [17:37<04:24,  1.95s/it]"
     ]
    },
    {
     "name": "stdout",
     "output_type": "stream",
     "text": [
      "Error during HTTP request: 404 Client Error: Not Found for url: https://www.eversports.de/s/pole-%26-tanzwelt\n",
      "Converting to DataFrame...\n",
      "Validating URLs...\n",
      "\n",
      "Processing completed.\n",
      "-------------------------------- \n",
      "\n",
      "Starting URL reconstruction...\n"
     ]
    },
    {
     "name": "stderr",
     "output_type": "stream",
     "text": [
      "Processing URLs:  69%|██████▉   | 303/438 [17:40<05:26,  2.42s/it]"
     ]
    },
    {
     "name": "stdout",
     "output_type": "stream",
     "text": [
      "Error during HTTP request: Exceeded 30 redirects.\n",
      "Converting to DataFrame...\n",
      "Validating URLs...\n",
      "\n",
      "Processing completed.\n",
      "-------------------------------- \n",
      "\n",
      "Starting URL reconstruction...\n"
     ]
    },
    {
     "name": "stderr",
     "output_type": "stream",
     "text": [
      "2024-02-21 15:29:36,363 - INFO - Processing URL 1/1: https://www.eversports.de/s/dunya-pole-dance-school\n"
     ]
    },
    {
     "name": "stdout",
     "output_type": "stream",
     "text": [
      "Converting to DataFrame...\n",
      "Validating URLs...\n"
     ]
    },
    {
     "name": "stderr",
     "output_type": "stream",
     "text": [
      "2024-02-21 15:29:37,849 - INFO - URL https://www.eversports.de/s/dunya-pole-dance-school is valid.\n"
     ]
    },
    {
     "name": "stdout",
     "output_type": "stream",
     "text": [
      "Scraping Pole Studio Data from https://www.eversports.de/s/dunya-pole-dance-school...\n"
     ]
    },
    {
     "name": "stderr",
     "output_type": "stream",
     "text": [
      "Processing URLs:  69%|██████▉   | 304/438 [17:43<06:03,  2.71s/it]"
     ]
    },
    {
     "name": "stdout",
     "output_type": "stream",
     "text": [
      "\n",
      "Processing completed.\n",
      "-------------------------------- \n",
      "\n",
      "2024-02-21 15:29:38 - INFO - Scraping Data from: https://www.eversports.de/s/dunya-pole-dance-school\n",
      "Pole Studio Data: 1 entries\n",
      "Starting URL reconstruction...\n"
     ]
    },
    {
     "name": "stderr",
     "output_type": "stream",
     "text": [
      "2024-02-21 15:29:39,694 - INFO - Processing URL 1/2: https://www.eversports.de/s/da-becca-flow-and-fit\n"
     ]
    },
    {
     "name": "stdout",
     "output_type": "stream",
     "text": [
      "Converting to DataFrame...\n",
      "Validating URLs...\n"
     ]
    },
    {
     "name": "stderr",
     "output_type": "stream",
     "text": [
      "2024-02-21 15:29:41,088 - INFO - URL https://www.eversports.de/s/da-becca-flow-and-fit is valid.\n",
      "2024-02-21 15:29:41,089 - INFO - Processing URL 2/2: https://www.eversports.de/sw/da-becca-flow-and-fit\n",
      "2024-02-21 15:29:42,776 - INFO - URL https://www.eversports.de/sw/da-becca-flow-and-fit is valid.\n"
     ]
    },
    {
     "name": "stdout",
     "output_type": "stream",
     "text": [
      "Scraping Pole Studio Data from https://www.eversports.de/s/da-becca-flow-and-fit...\n",
      "Scraping Workshops Data from https://www.eversports.de/sw/da-becca-flow-and-fit...\n",
      "Scraping Workshop Details from https://www.eversports.de/e/workshop/2z_srY0...\n",
      "Scraping Workshop Details from https://www.eversports.de/e/workshop/o5_MV7J...\n",
      "Scraping Workshop Details from https://www.eversports.de/e/workshop/0u01Mza...\n",
      "Scraping Workshop Details from https://www.eversports.de/e/workshop/DBxar8u...\n",
      "Scraping Workshop Details from https://www.eversports.de/e/workshop/GlPG304...\n",
      "Scraping Workshop Details from https://www.eversports.de/e/workshop/wj20M8W...\n",
      "Scraping Workshop Details from https://www.eversports.de/e/workshop/113IYbR...\n",
      "Scraping Workshop Details from https://www.eversports.de/e/workshop/vyTj8JR...\n",
      "Scraping Workshop Details from https://www.eversports.de/e/workshop/GMeuKSV...\n",
      "Scraping Workshop Details from https://www.eversports.de/e/workshop/461op6s...\n",
      "Scraping Workshop Details from https://www.eversports.de/e/workshop/NrFmto0...\n",
      "Scraping Workshop Details from https://www.eversports.de/e/workshop/km4K7Yv...\n",
      "Scraping Workshop Details from https://www.eversports.de/e/workshop/B2Sz3mv...\n",
      "Scraping Workshop Details from https://www.eversports.de/e/workshop/HhyMbSA...\n",
      "Scraping Workshop Details from https://www.eversports.de/e/workshop/WBlAegH...\n"
     ]
    },
    {
     "name": "stderr",
     "output_type": "stream",
     "text": [
      "Processing URLs:  70%|██████▉   | 305/438 [18:12<23:15, 10.49s/it]"
     ]
    },
    {
     "name": "stdout",
     "output_type": "stream",
     "text": [
      "\n",
      "Processing completed.\n",
      "-------------------------------- \n",
      "\n",
      "2024-02-21 15:30:06 - INFO - Scraping Data from: https://www.eversports.de/s/da-becca-flow-and-fit\n",
      "Pole Studio Data: 1 entries\n",
      "2024-02-21 15:30:06 - INFO - Scraping Data from: https://www.eversports.de/s/da-becca-flow-and-fit\n",
      "Workshops Data: 15 entries\n",
      "2024-02-21 15:30:06 - INFO - Scraping Data from: https://www.eversports.de/s/da-becca-flow-and-fit\n",
      "Workshop Details: 15 entries\n",
      "Starting URL reconstruction...\n"
     ]
    },
    {
     "name": "stderr",
     "output_type": "stream",
     "text": [
      "Processing URLs:  70%|██████▉   | 306/438 [18:13<16:56,  7.70s/it]"
     ]
    },
    {
     "name": "stdout",
     "output_type": "stream",
     "text": [
      "Error during HTTP request: 404 Client Error: Not Found for url: https://www.eversports.de/s/polesports-studio-bremen\n",
      "Converting to DataFrame...\n",
      "Validating URLs...\n",
      "\n",
      "Processing completed.\n",
      "-------------------------------- \n",
      "\n",
      "Starting URL reconstruction...\n"
     ]
    },
    {
     "name": "stderr",
     "output_type": "stream",
     "text": [
      "Processing URLs:  70%|███████   | 307/438 [18:17<14:06,  6.46s/it]"
     ]
    },
    {
     "name": "stdout",
     "output_type": "stream",
     "text": [
      "Error during HTTP request: Exceeded 30 redirects.\n",
      "Converting to DataFrame...\n",
      "Validating URLs...\n",
      "\n",
      "Processing completed.\n",
      "-------------------------------- \n",
      "\n",
      "Starting URL reconstruction...\n"
     ]
    },
    {
     "name": "stderr",
     "output_type": "stream",
     "text": [
      "2024-02-21 15:30:13,483 - INFO - Processing URL 1/1: https://www.eversports.de/s/pole-paradise\n"
     ]
    },
    {
     "name": "stdout",
     "output_type": "stream",
     "text": [
      "Converting to DataFrame...\n",
      "Validating URLs...\n"
     ]
    },
    {
     "name": "stderr",
     "output_type": "stream",
     "text": [
      "2024-02-21 15:30:14,954 - INFO - URL https://www.eversports.de/s/pole-paradise is valid.\n"
     ]
    },
    {
     "name": "stdout",
     "output_type": "stream",
     "text": [
      "Scraping Pole Studio Data from https://www.eversports.de/s/pole-paradise...\n"
     ]
    },
    {
     "name": "stderr",
     "output_type": "stream",
     "text": [
      "Processing URLs:  70%|███████   | 308/438 [18:21<12:33,  5.79s/it]"
     ]
    },
    {
     "name": "stdout",
     "output_type": "stream",
     "text": [
      "\n",
      "Processing completed.\n",
      "-------------------------------- \n",
      "\n",
      "2024-02-21 15:30:15 - INFO - Scraping Data from: https://www.eversports.de/s/pole-paradise\n",
      "Pole Studio Data: 1 entries\n",
      "Starting URL reconstruction...\n"
     ]
    },
    {
     "name": "stderr",
     "output_type": "stream",
     "text": [
      "Processing URLs:  71%|███████   | 309/438 [18:22<09:29,  4.42s/it]"
     ]
    },
    {
     "name": "stdout",
     "output_type": "stream",
     "text": [
      "Error during HTTP request: 404 Client Error: Not Found for url: https://www.eversports.de/s/poledance!-aerial-%26-fitness-flensburg-wees\n",
      "Converting to DataFrame...\n",
      "Validating URLs...\n",
      "\n",
      "Processing completed.\n",
      "-------------------------------- \n",
      "\n",
      "Starting URL reconstruction...\n"
     ]
    },
    {
     "name": "stderr",
     "output_type": "stream",
     "text": [
      "Processing URLs:  71%|███████   | 310/438 [18:26<08:45,  4.11s/it]"
     ]
    },
    {
     "name": "stdout",
     "output_type": "stream",
     "text": [
      "Error during HTTP request: 404 Client Error: Not Found for url: https://www.eversports.de/s/polemotion-freiburg\n",
      "Converting to DataFrame...\n",
      "Validating URLs...\n",
      "\n",
      "Processing completed.\n",
      "-------------------------------- \n",
      "\n",
      "Starting URL reconstruction...\n"
     ]
    },
    {
     "name": "stderr",
     "output_type": "stream",
     "text": [
      "Processing URLs:  71%|███████   | 311/438 [18:27<06:54,  3.26s/it]"
     ]
    },
    {
     "name": "stdout",
     "output_type": "stream",
     "text": [
      "Error during HTTP request: 404 Client Error: Not Found for url: https://www.eversports.de/s/passionate-pole-%26-sports\n",
      "Converting to DataFrame...\n",
      "Validating URLs...\n",
      "\n",
      "Processing completed.\n",
      "-------------------------------- \n",
      "\n",
      "Starting URL reconstruction...\n"
     ]
    },
    {
     "name": "stderr",
     "output_type": "stream",
     "text": [
      "Processing URLs:  71%|███████   | 312/438 [18:28<05:35,  2.66s/it]"
     ]
    },
    {
     "name": "stdout",
     "output_type": "stream",
     "text": [
      "Error during HTTP request: 404 Client Error: Not Found for url: https://www.eversports.de/s/dance-%26-pole-langenfeld\n",
      "Converting to DataFrame...\n",
      "Validating URLs...\n",
      "\n",
      "Processing completed.\n",
      "-------------------------------- \n",
      "\n",
      "Starting URL reconstruction...\n"
     ]
    },
    {
     "name": "stderr",
     "output_type": "stream",
     "text": [
      "2024-02-21 15:30:24,469 - INFO - Processing URL 1/1: https://www.eversports.de/s/the-basement-pole-dance-and-movement\n"
     ]
    },
    {
     "name": "stdout",
     "output_type": "stream",
     "text": [
      "Converting to DataFrame...\n",
      "Validating URLs...\n"
     ]
    },
    {
     "name": "stderr",
     "output_type": "stream",
     "text": [
      "2024-02-21 15:30:26,441 - INFO - URL https://www.eversports.de/s/the-basement-pole-dance-and-movement is valid.\n"
     ]
    },
    {
     "name": "stdout",
     "output_type": "stream",
     "text": [
      "Scraping Pole Studio Data from https://www.eversports.de/s/the-basement-pole-dance-and-movement...\n"
     ]
    },
    {
     "name": "stderr",
     "output_type": "stream",
     "text": [
      "Processing URLs:  71%|███████▏  | 313/438 [18:32<06:17,  3.02s/it]"
     ]
    },
    {
     "name": "stdout",
     "output_type": "stream",
     "text": [
      "\n",
      "Processing completed.\n",
      "-------------------------------- \n",
      "\n",
      "2024-02-21 15:30:26 - INFO - Scraping Data from: https://www.eversports.de/s/the-basement-pole-dance-and-movement\n",
      "Pole Studio Data: 1 entries\n",
      "Starting URL reconstruction...\n"
     ]
    },
    {
     "name": "stderr",
     "output_type": "stream",
     "text": [
      "Processing URLs:  72%|███████▏  | 314/438 [18:33<05:09,  2.49s/it]"
     ]
    },
    {
     "name": "stdout",
     "output_type": "stream",
     "text": [
      "Error during HTTP request: 404 Client Error: Not Found for url: https://www.eversports.de/s/crazypole-dresden\n",
      "Converting to DataFrame...\n",
      "Validating URLs...\n",
      "\n",
      "Processing completed.\n",
      "-------------------------------- \n",
      "\n",
      "Starting URL reconstruction...\n"
     ]
    },
    {
     "name": "stderr",
     "output_type": "stream",
     "text": [
      "Processing URLs:  72%|███████▏  | 315/438 [18:35<04:19,  2.11s/it]"
     ]
    },
    {
     "name": "stdout",
     "output_type": "stream",
     "text": [
      "Error during HTTP request: 404 Client Error: Not Found for url: https://www.eversports.de/s/poledreams\n",
      "Converting to DataFrame...\n",
      "Validating URLs...\n",
      "\n",
      "Processing completed.\n",
      "-------------------------------- \n",
      "\n",
      "Starting URL reconstruction...\n"
     ]
    },
    {
     "name": "stderr",
     "output_type": "stream",
     "text": [
      "Processing URLs:  72%|███████▏  | 316/438 [18:39<05:48,  2.86s/it]"
     ]
    },
    {
     "name": "stdout",
     "output_type": "stream",
     "text": [
      "Error during HTTP request: Exceeded 30 redirects.\n",
      "Converting to DataFrame...\n",
      "Validating URLs...\n",
      "\n",
      "Processing completed.\n",
      "-------------------------------- \n",
      "\n",
      "Starting URL reconstruction...\n"
     ]
    },
    {
     "name": "stderr",
     "output_type": "stream",
     "text": [
      "Processing URLs:  72%|███████▏  | 317/438 [18:41<04:54,  2.43s/it]"
     ]
    },
    {
     "name": "stdout",
     "output_type": "stream",
     "text": [
      "Error during HTTP request: 404 Client Error: Not Found for url: https://www.eversports.de/s/polemotions\n",
      "Converting to DataFrame...\n",
      "Validating URLs...\n",
      "\n",
      "Processing completed.\n",
      "-------------------------------- \n",
      "\n",
      "Starting URL reconstruction...\n"
     ]
    },
    {
     "name": "stderr",
     "output_type": "stream",
     "text": [
      "Processing URLs:  73%|███████▎  | 318/438 [18:42<04:10,  2.09s/it]"
     ]
    },
    {
     "name": "stdout",
     "output_type": "stream",
     "text": [
      "Error during HTTP request: 404 Client Error: Not Found for url: https://www.eversports.de/s/pole-dance-mettingen\n",
      "Converting to DataFrame...\n",
      "Validating URLs...\n",
      "\n",
      "Processing completed.\n",
      "-------------------------------- \n",
      "\n",
      "Starting URL reconstruction...\n"
     ]
    },
    {
     "name": "stderr",
     "output_type": "stream",
     "text": [
      "Processing URLs:  73%|███████▎  | 319/438 [18:43<03:38,  1.83s/it]"
     ]
    },
    {
     "name": "stdout",
     "output_type": "stream",
     "text": [
      "Error during HTTP request: 502 Server Error: Bad Gateway for url: https://www.eversports.de/s/feel-good-factory%3A-pole-%E2%80%A2-stretch-%E2%80%A2-fly\n",
      "Converting to DataFrame...\n",
      "Validating URLs...\n",
      "\n",
      "Processing completed.\n",
      "-------------------------------- \n",
      "\n",
      "Starting URL reconstruction...\n"
     ]
    },
    {
     "name": "stderr",
     "output_type": "stream",
     "text": [
      "Processing URLs:  73%|███████▎  | 320/438 [18:44<03:15,  1.65s/it]"
     ]
    },
    {
     "name": "stdout",
     "output_type": "stream",
     "text": [
      "Error during HTTP request: 404 Client Error: Not Found for url: https://www.eversports.de/s/schwerelos\n",
      "Converting to DataFrame...\n",
      "Validating URLs...\n",
      "\n",
      "Processing completed.\n",
      "-------------------------------- \n",
      "\n",
      "Starting URL reconstruction...\n"
     ]
    },
    {
     "name": "stderr",
     "output_type": "stream",
     "text": [
      "Processing URLs:  73%|███████▎  | 321/438 [18:46<02:57,  1.52s/it]"
     ]
    },
    {
     "name": "stdout",
     "output_type": "stream",
     "text": [
      "Error during HTTP request: 404 Client Error: Not Found for url: https://www.eversports.de/s/le-serpent-rouge\n",
      "Converting to DataFrame...\n",
      "Validating URLs...\n",
      "\n",
      "Processing completed.\n",
      "-------------------------------- \n",
      "\n",
      "Starting URL reconstruction...\n"
     ]
    },
    {
     "name": "stderr",
     "output_type": "stream",
     "text": [
      "2024-02-21 15:30:41,863 - INFO - Processing URL 1/1: https://www.eversports.de/s/aerial-studio\n"
     ]
    },
    {
     "name": "stdout",
     "output_type": "stream",
     "text": [
      "Converting to DataFrame...\n",
      "Validating URLs...\n"
     ]
    },
    {
     "name": "stderr",
     "output_type": "stream",
     "text": [
      "2024-02-21 15:30:43,351 - INFO - URL https://www.eversports.de/s/aerial-studio is valid.\n"
     ]
    },
    {
     "name": "stdout",
     "output_type": "stream",
     "text": [
      "Scraping Pole Studio Data from https://www.eversports.de/s/aerial-studio...\n"
     ]
    },
    {
     "name": "stderr",
     "output_type": "stream",
     "text": [
      "Processing URLs:  74%|███████▎  | 322/438 [18:49<04:02,  2.09s/it]"
     ]
    },
    {
     "name": "stdout",
     "output_type": "stream",
     "text": [
      "\n",
      "Processing completed.\n",
      "-------------------------------- \n",
      "\n",
      "2024-02-21 15:30:43 - INFO - Scraping Data from: https://www.eversports.de/s/aerial-studio\n",
      "Pole Studio Data: 1 entries\n",
      "Starting URL reconstruction...\n"
     ]
    },
    {
     "name": "stderr",
     "output_type": "stream",
     "text": [
      "Processing URLs:  74%|███████▎  | 323/438 [18:50<03:32,  1.85s/it]"
     ]
    },
    {
     "name": "stdout",
     "output_type": "stream",
     "text": [
      "Error during HTTP request: 404 Client Error: Not Found for url: https://www.eversports.de/s/airobics---pole-%26-aerial-dance-hamburg\n",
      "Converting to DataFrame...\n",
      "Validating URLs...\n",
      "\n",
      "Processing completed.\n",
      "-------------------------------- \n",
      "\n",
      "Starting URL reconstruction...\n"
     ]
    },
    {
     "name": "stderr",
     "output_type": "stream",
     "text": [
      "Processing URLs:  74%|███████▍  | 324/438 [18:52<03:10,  1.67s/it]"
     ]
    },
    {
     "name": "stdout",
     "output_type": "stream",
     "text": [
      "Error during HTTP request: 404 Client Error: Not Found for url: https://www.eversports.de/s/polefitness-premium\n",
      "Converting to DataFrame...\n",
      "Validating URLs...\n",
      "\n",
      "Processing completed.\n",
      "-------------------------------- \n",
      "\n",
      "Starting URL reconstruction...\n"
     ]
    },
    {
     "name": "stderr",
     "output_type": "stream",
     "text": [
      "Processing URLs:  74%|███████▍  | 325/438 [18:53<02:57,  1.57s/it]"
     ]
    },
    {
     "name": "stdout",
     "output_type": "stream",
     "text": [
      "Error during HTTP request: 404 Client Error: Not Found for url: https://www.eversports.de/s/monopole-dance\n",
      "Converting to DataFrame...\n",
      "Validating URLs...\n",
      "\n",
      "Processing completed.\n",
      "-------------------------------- \n",
      "\n",
      "Starting URL reconstruction...\n"
     ]
    },
    {
     "name": "stderr",
     "output_type": "stream",
     "text": [
      "2024-02-21 15:30:49,902 - INFO - Processing URL 1/1: https://www.eversports.de/s/delicate-pole\n"
     ]
    },
    {
     "name": "stdout",
     "output_type": "stream",
     "text": [
      "Converting to DataFrame...\n",
      "Validating URLs...\n"
     ]
    },
    {
     "name": "stderr",
     "output_type": "stream",
     "text": [
      "2024-02-21 15:30:51,246 - INFO - URL https://www.eversports.de/s/delicate-pole is valid.\n"
     ]
    },
    {
     "name": "stdout",
     "output_type": "stream",
     "text": [
      "Scraping Pole Studio Data from https://www.eversports.de/s/delicate-pole...\n"
     ]
    },
    {
     "name": "stderr",
     "output_type": "stream",
     "text": [
      "Processing URLs:  74%|███████▍  | 326/438 [18:57<04:15,  2.28s/it]"
     ]
    },
    {
     "name": "stdout",
     "output_type": "stream",
     "text": [
      "\n",
      "Processing completed.\n",
      "-------------------------------- \n",
      "\n",
      "2024-02-21 15:30:51 - INFO - Scraping Data from: https://www.eversports.de/s/delicate-pole\n",
      "Pole Studio Data: 1 entries\n",
      "Starting URL reconstruction...\n"
     ]
    },
    {
     "name": "stderr",
     "output_type": "stream",
     "text": [
      "2024-02-21 15:30:53,462 - INFO - Processing URL 1/1: https://www.eversports.de/s/polefitness-leipzig\n"
     ]
    },
    {
     "name": "stdout",
     "output_type": "stream",
     "text": [
      "Converting to DataFrame...\n",
      "Validating URLs...\n"
     ]
    },
    {
     "name": "stderr",
     "output_type": "stream",
     "text": [
      "2024-02-21 15:30:54,808 - INFO - URL https://www.eversports.de/s/polefitness-leipzig is valid.\n"
     ]
    },
    {
     "name": "stdout",
     "output_type": "stream",
     "text": [
      "Scraping Pole Studio Data from https://www.eversports.de/s/polefitness-leipzig...\n"
     ]
    },
    {
     "name": "stderr",
     "output_type": "stream",
     "text": [
      "Processing URLs:  75%|███████▍  | 327/438 [19:00<04:58,  2.69s/it]"
     ]
    },
    {
     "name": "stdout",
     "output_type": "stream",
     "text": [
      "\n",
      "Processing completed.\n",
      "-------------------------------- \n",
      "\n",
      "2024-02-21 15:30:55 - INFO - Scraping Data from: https://www.eversports.de/s/polefitness-leipzig\n",
      "Pole Studio Data: 1 entries\n",
      "Starting URL reconstruction...\n"
     ]
    },
    {
     "name": "stderr",
     "output_type": "stream",
     "text": [
      "Processing URLs:  75%|███████▍  | 328/438 [19:02<04:08,  2.26s/it]"
     ]
    },
    {
     "name": "stdout",
     "output_type": "stream",
     "text": [
      "Error during HTTP request: 404 Client Error: Not Found for url: https://www.eversports.de/s/souldance\n",
      "Converting to DataFrame...\n",
      "Validating URLs...\n",
      "\n",
      "Processing completed.\n",
      "-------------------------------- \n",
      "\n",
      "Starting URL reconstruction...\n"
     ]
    },
    {
     "name": "stderr",
     "output_type": "stream",
     "text": [
      "Processing URLs:  75%|███████▌  | 329/438 [19:03<03:39,  2.02s/it]"
     ]
    },
    {
     "name": "stdout",
     "output_type": "stream",
     "text": [
      "Error during HTTP request: 404 Client Error: Not Found for url: https://www.eversports.de/s/pole-heroes-pole-%26-aerial-dance-studio\n",
      "Converting to DataFrame...\n",
      "Validating URLs...\n",
      "\n",
      "Processing completed.\n",
      "-------------------------------- \n",
      "\n",
      "Starting URL reconstruction...\n"
     ]
    },
    {
     "name": "stderr",
     "output_type": "stream",
     "text": [
      "2024-02-21 15:30:59,389 - INFO - Processing URL 1/1: https://www.eversports.de/s/one8dance-studio\n"
     ]
    },
    {
     "name": "stdout",
     "output_type": "stream",
     "text": [
      "Converting to DataFrame...\n",
      "Validating URLs...\n"
     ]
    },
    {
     "name": "stderr",
     "output_type": "stream",
     "text": [
      "2024-02-21 15:31:00,746 - INFO - URL https://www.eversports.de/s/one8dance-studio is valid.\n"
     ]
    },
    {
     "name": "stdout",
     "output_type": "stream",
     "text": [
      "Scraping Pole Studio Data from https://www.eversports.de/s/one8dance-studio...\n"
     ]
    },
    {
     "name": "stderr",
     "output_type": "stream",
     "text": [
      "Processing URLs:  75%|███████▌  | 330/438 [19:06<04:13,  2.34s/it]"
     ]
    },
    {
     "name": "stdout",
     "output_type": "stream",
     "text": [
      "\n",
      "Processing completed.\n",
      "-------------------------------- \n",
      "\n",
      "2024-02-21 15:31:01 - INFO - Scraping Data from: https://www.eversports.de/s/one8dance-studio\n",
      "Pole Studio Data: 1 entries\n",
      "Starting URL reconstruction...\n"
     ]
    },
    {
     "name": "stderr",
     "output_type": "stream",
     "text": [
      "Processing URLs:  76%|███████▌  | 331/438 [19:07<03:35,  2.01s/it]"
     ]
    },
    {
     "name": "stdout",
     "output_type": "stream",
     "text": [
      "Error during HTTP request: 404 Client Error: Not Found for url: https://www.eversports.de/s/pole-faction-pole-dance-and-fitness\n",
      "Converting to DataFrame...\n",
      "Validating URLs...\n",
      "\n",
      "Processing completed.\n",
      "-------------------------------- \n",
      "\n",
      "Starting URL reconstruction...\n"
     ]
    },
    {
     "name": "stderr",
     "output_type": "stream",
     "text": [
      "2024-02-21 15:31:04,348 - INFO - Processing URL 1/1: https://www.eversports.de/s/pole-dance-palazzo-sportivo\n"
     ]
    },
    {
     "name": "stdout",
     "output_type": "stream",
     "text": [
      "Converting to DataFrame...\n",
      "Validating URLs...\n"
     ]
    },
    {
     "name": "stderr",
     "output_type": "stream",
     "text": [
      "2024-02-21 15:31:05,709 - INFO - URL https://www.eversports.de/s/pole-dance-palazzo-sportivo is valid.\n"
     ]
    },
    {
     "name": "stdout",
     "output_type": "stream",
     "text": [
      "Scraping Pole Studio Data from https://www.eversports.de/s/pole-dance-palazzo-sportivo...\n"
     ]
    },
    {
     "name": "stderr",
     "output_type": "stream",
     "text": [
      "Processing URLs:  76%|███████▌  | 332/438 [19:11<04:32,  2.57s/it]"
     ]
    },
    {
     "name": "stdout",
     "output_type": "stream",
     "text": [
      "\n",
      "Processing completed.\n",
      "-------------------------------- \n",
      "\n",
      "2024-02-21 15:31:06 - INFO - Scraping Data from: https://www.eversports.de/s/pole-dance-palazzo-sportivo\n",
      "Pole Studio Data: 1 entries\n",
      "Starting URL reconstruction...\n"
     ]
    },
    {
     "name": "stderr",
     "output_type": "stream",
     "text": [
      "2024-02-21 15:31:07,679 - INFO - Processing URL 1/2: https://www.eversports.de/s/seemannsbraut-poledance\n"
     ]
    },
    {
     "name": "stdout",
     "output_type": "stream",
     "text": [
      "Converting to DataFrame...\n",
      "Validating URLs...\n"
     ]
    },
    {
     "name": "stderr",
     "output_type": "stream",
     "text": [
      "2024-02-21 15:31:10,064 - INFO - URL https://www.eversports.de/s/seemannsbraut-poledance is valid.\n",
      "2024-02-21 15:31:10,065 - INFO - Processing URL 2/2: https://www.eversports.de/sw/seemannsbraut-poledance\n",
      "2024-02-21 15:31:11,538 - INFO - URL https://www.eversports.de/sw/seemannsbraut-poledance is valid.\n"
     ]
    },
    {
     "name": "stdout",
     "output_type": "stream",
     "text": [
      "Scraping Pole Studio Data from https://www.eversports.de/s/seemannsbraut-poledance...\n",
      "Scraping Workshops Data from https://www.eversports.de/sw/seemannsbraut-poledance...\n",
      "Scraping Workshop Details from https://www.eversports.de/e/workshop/tjSmCEx...\n",
      "Scraping Workshop Details from https://www.eversports.de/e/workshop/ziaHmeW...\n",
      "Scraping Workshop Details from https://www.eversports.de/e/workshop/zBoJPTa...\n"
     ]
    },
    {
     "name": "stderr",
     "output_type": "stream",
     "text": [
      "Processing URLs:  76%|███████▌  | 333/438 [19:23<09:12,  5.26s/it]"
     ]
    },
    {
     "name": "stdout",
     "output_type": "stream",
     "text": [
      "\n",
      "Processing completed.\n",
      "-------------------------------- \n",
      "\n",
      "2024-02-21 15:31:17 - INFO - Scraping Data from: https://www.eversports.de/s/seemannsbraut-poledance\n",
      "Pole Studio Data: 1 entries\n",
      "2024-02-21 15:31:17 - INFO - Scraping Data from: https://www.eversports.de/s/seemannsbraut-poledance\n",
      "Workshops Data: 3 entries\n",
      "2024-02-21 15:31:17 - INFO - Scraping Data from: https://www.eversports.de/s/seemannsbraut-poledance\n",
      "Workshop Details: 3 entries\n",
      "Starting URL reconstruction...\n"
     ]
    },
    {
     "name": "stderr",
     "output_type": "stream",
     "text": [
      "2024-02-21 15:31:19,166 - INFO - Processing URL 1/2: https://www.eversports.de/s/schwerelos-muenster\n"
     ]
    },
    {
     "name": "stdout",
     "output_type": "stream",
     "text": [
      "Converting to DataFrame...\n",
      "Validating URLs...\n"
     ]
    },
    {
     "name": "stderr",
     "output_type": "stream",
     "text": [
      "2024-02-21 15:31:20,656 - INFO - URL https://www.eversports.de/s/schwerelos-muenster is valid.\n",
      "2024-02-21 15:31:20,658 - INFO - Processing URL 2/2: https://www.eversports.de/sw/schwerelos-muenster\n",
      "2024-02-21 15:31:22,216 - INFO - URL https://www.eversports.de/sw/schwerelos-muenster is valid.\n"
     ]
    },
    {
     "name": "stdout",
     "output_type": "stream",
     "text": [
      "Scraping Pole Studio Data from https://www.eversports.de/s/schwerelos-muenster...\n",
      "Scraping Workshops Data from https://www.eversports.de/sw/schwerelos-muenster...\n",
      "Scraping Workshop Details from https://www.eversports.de/e/workshop/sJO5aQ1...\n",
      "Scraping Workshop Details from https://www.eversports.de/e/workshop/ZP_skji...\n",
      "Scraping Workshop Details from https://www.eversports.de/e/workshop/T2iJuZb...\n",
      "Scraping Workshop Details from https://www.eversports.de/e/workshop/JKD4cQ5...\n",
      "Scraping Workshop Details from https://www.eversports.de/e/workshop/wLPlcwb...\n",
      "Scraping Workshop Details from https://www.eversports.de/e/workshop/fVM0ULF...\n",
      "Scraping Workshop Details from https://www.eversports.de/e/workshop/9fkoAyU...\n",
      "Scraping Workshop Details from https://www.eversports.de/e/workshop/leDNfNr...\n",
      "Scraping Workshop Details from https://www.eversports.de/e/workshop/ahCVYvh...\n",
      "Scraping Workshop Details from https://www.eversports.de/e/workshop/RjsCf5S...\n",
      "Scraping Workshop Details from https://www.eversports.de/e/workshop/ZOxKKrM...\n",
      "Scraping Workshop Details from https://www.eversports.de/e/workshop/Zq0GQNB...\n",
      "Scraping Workshop Details from https://www.eversports.de/e/workshop/xPGUjbS...\n"
     ]
    },
    {
     "name": "stderr",
     "output_type": "stream",
     "text": [
      "Processing URLs:  76%|███████▋  | 334/438 [19:48<19:27, 11.23s/it]"
     ]
    },
    {
     "name": "stdout",
     "output_type": "stream",
     "text": [
      "\n",
      "Processing completed.\n",
      "-------------------------------- \n",
      "\n",
      "2024-02-21 15:31:42 - INFO - Scraping Data from: https://www.eversports.de/s/schwerelos-muenster\n",
      "Pole Studio Data: 1 entries\n",
      "2024-02-21 15:31:42 - INFO - Scraping Data from: https://www.eversports.de/s/schwerelos-muenster\n",
      "Workshops Data: 13 entries\n",
      "2024-02-21 15:31:42 - INFO - Scraping Data from: https://www.eversports.de/s/schwerelos-muenster\n",
      "Workshop Details: 13 entries\n",
      "Starting URL reconstruction...\n"
     ]
    },
    {
     "name": "stderr",
     "output_type": "stream",
     "text": [
      "2024-02-21 15:31:44,462 - INFO - Processing URL 1/2: https://www.eversports.de/s/schoenheitstanz-studio\n"
     ]
    },
    {
     "name": "stdout",
     "output_type": "stream",
     "text": [
      "Converting to DataFrame...\n",
      "Validating URLs...\n"
     ]
    },
    {
     "name": "stderr",
     "output_type": "stream",
     "text": [
      "2024-02-21 15:31:46,124 - INFO - URL https://www.eversports.de/s/schoenheitstanz-studio is valid.\n",
      "2024-02-21 15:31:46,126 - INFO - Processing URL 2/2: https://www.eversports.de/sw/schoenheitstanz-studio\n",
      "2024-02-21 15:31:48,927 - INFO - URL https://www.eversports.de/sw/schoenheitstanz-studio is valid.\n"
     ]
    },
    {
     "name": "stdout",
     "output_type": "stream",
     "text": [
      "Scraping Pole Studio Data from https://www.eversports.de/s/schoenheitstanz-studio...\n",
      "Scraping Workshops Data from https://www.eversports.de/sw/schoenheitstanz-studio...\n",
      "Scraping Workshop Details from https://www.eversports.de/e/workshop/HEIImah...\n",
      "Scraping Workshop Details from https://www.eversports.de/e/workshop/OrUcdCr...\n",
      "Scraping Workshop Details from https://www.eversports.de/e/workshop/6p_z1vi...\n",
      "Scraping Workshop Details from https://www.eversports.de/e/workshop/ygw2_TL...\n",
      "Scraping Workshop Details from https://www.eversports.de/e/workshop/eUwVt-l...\n",
      "Scraping Workshop Details from https://www.eversports.de/e/workshop/nFNmoj_...\n",
      "Scraping Workshop Details from https://www.eversports.de/e/workshop/hYh8ik3...\n",
      "Scraping Workshop Details from https://www.eversports.de/e/workshop/EBZuEA1...\n",
      "Scraping Workshop Details from https://www.eversports.de/e/workshop/Tqtzdzb...\n",
      "Scraping Workshop Details from https://www.eversports.de/e/workshop/bkSlugn...\n",
      "Scraping Workshop Details from https://www.eversports.de/e/workshop/LAN7VDW...\n",
      "Scraping Workshop Details from https://www.eversports.de/e/workshop/cZFAAgA...\n",
      "Scraping Workshop Details from https://www.eversports.de/e/workshop/Nv15_mw...\n",
      "Scraping Workshop Details from https://www.eversports.de/e/workshop/SLy-s_i...\n",
      "Scraping Workshop Details from https://www.eversports.de/e/workshop/dcD4Lin...\n",
      "Scraping Workshop Details from https://www.eversports.de/e/workshop/I09unU9...\n",
      "Scraping Workshop Details from https://www.eversports.de/e/workshop/wTDOHkH...\n",
      "Scraping Workshop Details from https://www.eversports.de/e/workshop/uHk1KUg...\n",
      "Scraping Workshop Details from https://www.eversports.de/e/workshop/1GkBeDT...\n",
      "Scraping Workshop Details from https://www.eversports.de/e/workshop/kYpFiaE...\n",
      "Scraping Workshop Details from https://www.eversports.de/e/workshop/J_WWezC...\n",
      "Scraping Workshop Details from https://www.eversports.de/e/workshop/hW3O71v...\n",
      "Scraping Workshop Details from https://www.eversports.de/e/workshop/EDBeHyX...\n",
      "Scraping Workshop Details from https://www.eversports.de/e/workshop/54itEaz...\n",
      "Scraping Workshop Details from https://www.eversports.de/e/workshop/z4rC1sa...\n",
      "Scraping Workshop Details from https://www.eversports.de/e/workshop/rvq2QWJ...\n",
      "Scraping Workshop Details from https://www.eversports.de/e/workshop/_kWyZFK...\n",
      "Scraping Workshop Details from https://www.eversports.de/e/workshop/AN_9D9F...\n",
      "Scraping Workshop Details from https://www.eversports.de/e/workshop/QPoxv4i...\n",
      "Scraping Workshop Details from https://www.eversports.de/e/workshop/3yk1t8C...\n",
      "Scraping Workshop Details from https://www.eversports.de/e/workshop/kVDtH76...\n",
      "Scraping Workshop Details from https://www.eversports.de/e/workshop/4egslRX...\n",
      "Scraping Workshop Details from https://www.eversports.de/e/workshop/UYgHVwy...\n",
      "Scraping Workshop Details from https://www.eversports.de/e/workshop/E4i5NUb...\n",
      "Scraping Workshop Details from https://www.eversports.de/e/workshop/YpJqTDS...\n",
      "Scraping Workshop Details from https://www.eversports.de/e/workshop/SX0FzGK...\n",
      "Scraping Workshop Details from https://www.eversports.de/e/workshop/7uJPxgC...\n",
      "Scraping Workshop Details from https://www.eversports.de/e/workshop/82dGR1f...\n",
      "Scraping Workshop Details from https://www.eversports.de/e/workshop/pDjMaOI...\n",
      "Scraping Workshop Details from https://www.eversports.de/e/workshop/xUJF8zC...\n",
      "Scraping Workshop Details from https://www.eversports.de/e/workshop/oCv_Dwa...\n",
      "Scraping Workshop Details from https://www.eversports.de/e/workshop/ot643qA...\n",
      "Scraping Workshop Details from https://www.eversports.de/e/workshop/drIG2eI...\n",
      "Scraping Workshop Details from https://www.eversports.de/e/workshop/iuE5Wsa...\n",
      "Scraping Workshop Details from https://www.eversports.de/e/workshop/nT2TC19...\n",
      "Scraping Workshop Details from https://www.eversports.de/e/workshop/n6KRMjB...\n",
      "Scraping Workshop Details from https://www.eversports.de/e/workshop/qNpxqi5...\n",
      "Scraping Workshop Details from https://www.eversports.de/e/workshop/i2UXxMl...\n",
      "Scraping Workshop Details from https://www.eversports.de/e/workshop/GaGNoGx...\n",
      "Scraping Workshop Details from https://www.eversports.de/e/workshop/gOdtqrR...\n"
     ]
    },
    {
     "name": "stderr",
     "output_type": "stream",
     "text": [
      "Processing URLs:  76%|███████▋  | 335/438 [21:40<1:11:03, 41.39s/it]"
     ]
    },
    {
     "name": "stdout",
     "output_type": "stream",
     "text": [
      "\n",
      "Processing completed.\n",
      "-------------------------------- \n",
      "\n",
      "2024-02-21 15:33:34 - INFO - Scraping Data from: https://www.eversports.de/s/schoenheitstanz-studio\n",
      "Pole Studio Data: 1 entries\n",
      "2024-02-21 15:33:34 - INFO - Scraping Data from: https://www.eversports.de/s/schoenheitstanz-studio\n",
      "Workshops Data: 50 entries\n",
      "2024-02-21 15:33:34 - INFO - Scraping Data from: https://www.eversports.de/s/schoenheitstanz-studio\n",
      "Workshop Details: 50 entries\n",
      "Starting URL reconstruction...\n"
     ]
    },
    {
     "name": "stderr",
     "output_type": "stream",
     "text": [
      "2024-02-21 15:33:36,421 - INFO - Processing URL 1/2: https://www.eversports.de/s/niyaha-yoga-susann-kind\n"
     ]
    },
    {
     "name": "stdout",
     "output_type": "stream",
     "text": [
      "Converting to DataFrame...\n",
      "Validating URLs...\n"
     ]
    },
    {
     "name": "stderr",
     "output_type": "stream",
     "text": [
      "2024-02-21 15:33:37,876 - INFO - URL https://www.eversports.de/s/niyaha-yoga-susann-kind is valid.\n",
      "2024-02-21 15:33:37,877 - INFO - Processing URL 2/2: https://www.eversports.de/sw/niyaha-yoga-susann-kind\n",
      "2024-02-21 15:33:39,146 - INFO - URL https://www.eversports.de/sw/niyaha-yoga-susann-kind is valid.\n"
     ]
    },
    {
     "name": "stdout",
     "output_type": "stream",
     "text": [
      "Scraping Pole Studio Data from https://www.eversports.de/s/niyaha-yoga-susann-kind...\n",
      "Scraping Workshops Data from https://www.eversports.de/sw/niyaha-yoga-susann-kind...\n",
      "Scraping Workshop Details from https://www.eversports.de/e/workshop/u0m4PpJ...\n",
      "Scraping Workshop Details from https://www.eversports.de/e/workshop/Qph3Nhi...\n"
     ]
    },
    {
     "name": "stderr",
     "output_type": "stream",
     "text": [
      "Processing URLs:  77%|███████▋  | 336/438 [21:49<53:55, 31.72s/it]  "
     ]
    },
    {
     "name": "stdout",
     "output_type": "stream",
     "text": [
      "\n",
      "Processing completed.\n",
      "-------------------------------- \n",
      "\n",
      "2024-02-21 15:33:43 - INFO - Scraping Data from: https://www.eversports.de/s/niyaha-yoga-susann-kind\n",
      "Pole Studio Data: 1 entries\n",
      "2024-02-21 15:33:43 - INFO - Scraping Data from: https://www.eversports.de/s/niyaha-yoga-susann-kind\n",
      "Workshops Data: 2 entries\n",
      "2024-02-21 15:33:43 - INFO - Scraping Data from: https://www.eversports.de/s/niyaha-yoga-susann-kind\n",
      "Workshop Details: 2 entries\n",
      "Starting URL reconstruction...\n"
     ]
    },
    {
     "name": "stderr",
     "output_type": "stream",
     "text": [
      "2024-02-21 15:33:45,299 - INFO - Processing URL 1/2: https://www.eversports.de/s/poleroom-braunschweig\n"
     ]
    },
    {
     "name": "stdout",
     "output_type": "stream",
     "text": [
      "Converting to DataFrame...\n",
      "Validating URLs...\n"
     ]
    },
    {
     "name": "stderr",
     "output_type": "stream",
     "text": [
      "2024-02-21 15:33:46,761 - INFO - URL https://www.eversports.de/s/poleroom-braunschweig is valid.\n",
      "2024-02-21 15:33:46,762 - INFO - Processing URL 2/2: https://www.eversports.de/sw/poleroom-braunschweig\n",
      "2024-02-21 15:33:48,023 - INFO - URL https://www.eversports.de/sw/poleroom-braunschweig is valid.\n"
     ]
    },
    {
     "name": "stdout",
     "output_type": "stream",
     "text": [
      "Scraping Pole Studio Data from https://www.eversports.de/s/poleroom-braunschweig...\n",
      "Scraping Workshops Data from https://www.eversports.de/sw/poleroom-braunschweig...\n",
      "Scraping Workshop Details from https://www.eversports.de/e/workshop/GB5CNr0...\n",
      "Scraping Workshop Details from https://www.eversports.de/e/workshop/1pzXUtZ...\n",
      "Scraping Workshop Details from https://www.eversports.de/e/workshop/fx6DrZ8...\n",
      "Scraping Workshop Details from https://www.eversports.de/e/workshop/0oN3kSH...\n"
     ]
    },
    {
     "name": "stderr",
     "output_type": "stream",
     "text": [
      "Processing URLs:  77%|███████▋  | 337/438 [22:01<43:16, 25.71s/it]"
     ]
    },
    {
     "name": "stdout",
     "output_type": "stream",
     "text": [
      "\n",
      "Processing completed.\n",
      "-------------------------------- \n",
      "\n",
      "2024-02-21 15:33:55 - INFO - Scraping Data from: https://www.eversports.de/s/poleroom-braunschweig\n",
      "Pole Studio Data: 1 entries\n",
      "2024-02-21 15:33:55 - INFO - Scraping Data from: https://www.eversports.de/s/poleroom-braunschweig\n",
      "Workshops Data: 4 entries\n",
      "2024-02-21 15:33:55 - INFO - Scraping Data from: https://www.eversports.de/s/poleroom-braunschweig\n",
      "Workshop Details: 4 entries\n",
      "Starting URL reconstruction...\n"
     ]
    },
    {
     "name": "stderr",
     "output_type": "stream",
     "text": [
      "2024-02-21 15:33:58,121 - INFO - Processing URL 1/1: https://www.eversports.de/s/airobics\n"
     ]
    },
    {
     "name": "stdout",
     "output_type": "stream",
     "text": [
      "Converting to DataFrame...\n",
      "Validating URLs...\n"
     ]
    },
    {
     "name": "stderr",
     "output_type": "stream",
     "text": [
      "2024-02-21 15:33:59,771 - INFO - URL https://www.eversports.de/s/airobics is valid.\n"
     ]
    },
    {
     "name": "stdout",
     "output_type": "stream",
     "text": [
      "Scraping Pole Studio Data from https://www.eversports.de/s/airobics...\n"
     ]
    },
    {
     "name": "stderr",
     "output_type": "stream",
     "text": [
      "Processing URLs:  77%|███████▋  | 338/438 [22:06<32:35, 19.55s/it]"
     ]
    },
    {
     "name": "stdout",
     "output_type": "stream",
     "text": [
      "\n",
      "Processing completed.\n",
      "-------------------------------- \n",
      "\n",
      "2024-02-21 15:34:00 - INFO - Scraping Data from: https://www.eversports.de/s/airobics\n",
      "Pole Studio Data: 1 entries\n",
      "Starting URL reconstruction...\n"
     ]
    },
    {
     "name": "stderr",
     "output_type": "stream",
     "text": [
      "2024-02-21 15:34:02,304 - INFO - Processing URL 1/2: https://www.eversports.de/s/polemotions-tuebingen\n"
     ]
    },
    {
     "name": "stdout",
     "output_type": "stream",
     "text": [
      "Converting to DataFrame...\n",
      "Validating URLs...\n"
     ]
    },
    {
     "name": "stderr",
     "output_type": "stream",
     "text": [
      "2024-02-21 15:34:08,665 - INFO - URL https://www.eversports.de/s/polemotions-tuebingen is valid.\n",
      "2024-02-21 15:34:08,666 - INFO - Processing URL 2/2: https://www.eversports.de/sw/polemotions-tuebingen\n",
      "2024-02-21 15:34:10,058 - INFO - URL https://www.eversports.de/sw/polemotions-tuebingen is valid.\n"
     ]
    },
    {
     "name": "stdout",
     "output_type": "stream",
     "text": [
      "Scraping Pole Studio Data from https://www.eversports.de/s/polemotions-tuebingen...\n",
      "Scraping Workshops Data from https://www.eversports.de/sw/polemotions-tuebingen...\n",
      "Scraping Workshop Details from https://www.eversports.de/e/workshop/vXi2jGj...\n",
      "Scraping Workshop Details from https://www.eversports.de/e/workshop/woXQI80...\n",
      "Scraping Workshop Details from https://www.eversports.de/e/workshop/CFxNSNG...\n"
     ]
    },
    {
     "name": "stderr",
     "output_type": "stream",
     "text": [
      "Processing URLs:  77%|███████▋  | 339/438 [22:22<30:26, 18.45s/it]"
     ]
    },
    {
     "name": "stdout",
     "output_type": "stream",
     "text": [
      "\n",
      "Processing completed.\n",
      "-------------------------------- \n",
      "\n",
      "2024-02-21 15:34:16 - INFO - Scraping Data from: https://www.eversports.de/s/polemotions-tuebingen\n",
      "Pole Studio Data: 1 entries\n",
      "2024-02-21 15:34:16 - INFO - Scraping Data from: https://www.eversports.de/s/polemotions-tuebingen\n",
      "Workshops Data: 3 entries\n",
      "2024-02-21 15:34:16 - INFO - Scraping Data from: https://www.eversports.de/s/polemotions-tuebingen\n",
      "Workshop Details: 3 entries\n",
      "Starting URL reconstruction...\n"
     ]
    },
    {
     "name": "stderr",
     "output_type": "stream",
     "text": [
      "2024-02-21 15:34:18,035 - INFO - Processing URL 1/2: https://www.eversports.de/s/polea-pole-and-aerial-dance\n"
     ]
    },
    {
     "name": "stdout",
     "output_type": "stream",
     "text": [
      "Converting to DataFrame...\n",
      "Validating URLs...\n"
     ]
    },
    {
     "name": "stderr",
     "output_type": "stream",
     "text": [
      "2024-02-21 15:34:19,505 - INFO - URL https://www.eversports.de/s/polea-pole-and-aerial-dance is valid.\n",
      "2024-02-21 15:34:19,507 - INFO - Processing URL 2/2: https://www.eversports.de/sw/polea-pole-and-aerial-dance\n",
      "2024-02-21 15:34:20,843 - INFO - URL https://www.eversports.de/sw/polea-pole-and-aerial-dance is valid.\n"
     ]
    },
    {
     "name": "stdout",
     "output_type": "stream",
     "text": [
      "Scraping Pole Studio Data from https://www.eversports.de/s/polea-pole-and-aerial-dance...\n",
      "Scraping Workshops Data from https://www.eversports.de/sw/polea-pole-and-aerial-dance...\n",
      "Scraping Workshop Details from https://www.eversports.de/e/workshop/uE26VcH...\n",
      "Scraping Workshop Details from https://www.eversports.de/e/workshop/xXl3mKf...\n"
     ]
    },
    {
     "name": "stderr",
     "output_type": "stream",
     "text": [
      "Processing URLs:  78%|███████▊  | 340/438 [22:31<25:28, 15.59s/it]"
     ]
    },
    {
     "name": "stdout",
     "output_type": "stream",
     "text": [
      "\n",
      "Processing completed.\n",
      "-------------------------------- \n",
      "\n",
      "2024-02-21 15:34:25 - INFO - Scraping Data from: https://www.eversports.de/s/polea-pole-and-aerial-dance\n",
      "Pole Studio Data: 1 entries\n",
      "2024-02-21 15:34:25 - INFO - Scraping Data from: https://www.eversports.de/s/polea-pole-and-aerial-dance\n",
      "Workshops Data: 2 entries\n",
      "2024-02-21 15:34:25 - INFO - Scraping Data from: https://www.eversports.de/s/polea-pole-and-aerial-dance\n",
      "Workshop Details: 2 entries\n",
      "Starting URL reconstruction...\n"
     ]
    },
    {
     "name": "stderr",
     "output_type": "stream",
     "text": [
      "2024-02-21 15:34:26,924 - INFO - Processing URL 1/2: https://www.eversports.de/s/vertical-pole-aerial-dance-1\n"
     ]
    },
    {
     "name": "stdout",
     "output_type": "stream",
     "text": [
      "Converting to DataFrame...\n",
      "Validating URLs...\n"
     ]
    },
    {
     "name": "stderr",
     "output_type": "stream",
     "text": [
      "2024-02-21 15:34:28,326 - INFO - URL https://www.eversports.de/s/vertical-pole-aerial-dance-1 is valid.\n",
      "2024-02-21 15:34:28,328 - INFO - Processing URL 2/2: https://www.eversports.de/sw/vertical-pole-aerial-dance-1\n",
      "2024-02-21 15:34:29,648 - INFO - URL https://www.eversports.de/sw/vertical-pole-aerial-dance-1 is valid.\n"
     ]
    },
    {
     "name": "stdout",
     "output_type": "stream",
     "text": [
      "Scraping Pole Studio Data from https://www.eversports.de/s/vertical-pole-aerial-dance-1...\n",
      "Scraping Workshops Data from https://www.eversports.de/sw/vertical-pole-aerial-dance-1...\n",
      "Scraping Workshop Details from https://www.eversports.de/e/workshop/wxLGaOO...\n",
      "Scraping Workshop Details from https://www.eversports.de/e/workshop/j_dm47B...\n",
      "Scraping Workshop Details from https://www.eversports.de/e/workshop/oZL9Vcu...\n",
      "Scraping Workshop Details from https://www.eversports.de/e/workshop/VJq5Njd...\n"
     ]
    },
    {
     "name": "stderr",
     "output_type": "stream",
     "text": [
      "Processing URLs:  78%|███████▊  | 341/438 [22:42<23:14, 14.37s/it]"
     ]
    },
    {
     "name": "stdout",
     "output_type": "stream",
     "text": [
      "\n",
      "Processing completed.\n",
      "-------------------------------- \n",
      "\n",
      "2024-02-21 15:34:36 - INFO - Scraping Data from: https://www.eversports.de/s/vertical-pole-aerial-dance-1\n",
      "Pole Studio Data: 1 entries\n",
      "2024-02-21 15:34:36 - INFO - Scraping Data from: https://www.eversports.de/s/vertical-pole-aerial-dance-1\n",
      "Workshops Data: 4 entries\n",
      "2024-02-21 15:34:36 - INFO - Scraping Data from: https://www.eversports.de/s/vertical-pole-aerial-dance-1\n",
      "Workshop Details: 4 entries\n",
      "Starting URL reconstruction...\n"
     ]
    },
    {
     "name": "stderr",
     "output_type": "stream",
     "text": [
      "2024-02-21 15:34:38,430 - INFO - Processing URL 1/1: https://www.eversports.de/s/polefriends-halle\n"
     ]
    },
    {
     "name": "stdout",
     "output_type": "stream",
     "text": [
      "Converting to DataFrame...\n",
      "Validating URLs...\n"
     ]
    },
    {
     "name": "stderr",
     "output_type": "stream",
     "text": [
      "2024-02-21 15:34:39,919 - INFO - URL https://www.eversports.de/s/polefriends-halle is valid.\n"
     ]
    },
    {
     "name": "stdout",
     "output_type": "stream",
     "text": [
      "Scraping Pole Studio Data from https://www.eversports.de/s/polefriends-halle...\n"
     ]
    },
    {
     "name": "stderr",
     "output_type": "stream",
     "text": [
      "Processing URLs:  78%|███████▊  | 342/438 [22:45<17:39, 11.04s/it]"
     ]
    },
    {
     "name": "stdout",
     "output_type": "stream",
     "text": [
      "\n",
      "Processing completed.\n",
      "-------------------------------- \n",
      "\n",
      "2024-02-21 15:34:40 - INFO - Scraping Data from: https://www.eversports.de/s/polefriends-halle\n",
      "Pole Studio Data: 1 entries\n",
      "Starting URL reconstruction...\n"
     ]
    },
    {
     "name": "stderr",
     "output_type": "stream",
     "text": [
      "2024-02-21 15:34:41,697 - INFO - Processing URL 1/2: https://www.eversports.de/s/flexx-arts-aerial-dance-and-fitness\n"
     ]
    },
    {
     "name": "stdout",
     "output_type": "stream",
     "text": [
      "Converting to DataFrame...\n",
      "Validating URLs...\n"
     ]
    },
    {
     "name": "stderr",
     "output_type": "stream",
     "text": [
      "2024-02-21 15:34:43,530 - INFO - URL https://www.eversports.de/s/flexx-arts-aerial-dance-and-fitness is valid.\n",
      "2024-02-21 15:34:43,531 - INFO - Processing URL 2/2: https://www.eversports.de/sw/flexx-arts-aerial-dance-and-fitness\n",
      "2024-02-21 15:34:44,838 - INFO - URL https://www.eversports.de/sw/flexx-arts-aerial-dance-and-fitness is valid.\n"
     ]
    },
    {
     "name": "stdout",
     "output_type": "stream",
     "text": [
      "Scraping Pole Studio Data from https://www.eversports.de/s/flexx-arts-aerial-dance-and-fitness...\n",
      "Scraping Workshops Data from https://www.eversports.de/sw/flexx-arts-aerial-dance-and-fitness...\n",
      "Scraping Workshop Details from https://www.eversports.de/e/workshop/BOoVP_a...\n",
      "Scraping Workshop Details from https://www.eversports.de/e/workshop/M_fy619...\n"
     ]
    },
    {
     "name": "stderr",
     "output_type": "stream",
     "text": [
      "Processing URLs:  78%|███████▊  | 343/438 [22:56<17:04, 10.79s/it]"
     ]
    },
    {
     "name": "stdout",
     "output_type": "stream",
     "text": [
      "\n",
      "Processing completed.\n",
      "-------------------------------- \n",
      "\n",
      "2024-02-21 15:34:50 - INFO - Scraping Data from: https://www.eversports.de/s/flexx-arts-aerial-dance-and-fitness\n",
      "Pole Studio Data: 1 entries\n",
      "2024-02-21 15:34:50 - INFO - Scraping Data from: https://www.eversports.de/s/flexx-arts-aerial-dance-and-fitness\n",
      "Workshops Data: 2 entries\n",
      "2024-02-21 15:34:50 - INFO - Scraping Data from: https://www.eversports.de/s/flexx-arts-aerial-dance-and-fitness\n",
      "Workshop Details: 2 entries\n",
      "Starting URL reconstruction...\n"
     ]
    },
    {
     "name": "stderr",
     "output_type": "stream",
     "text": [
      "2024-02-21 15:34:51,898 - INFO - Processing URL 1/2: https://www.eversports.de/s/pole-for-soul-gbr\n"
     ]
    },
    {
     "name": "stdout",
     "output_type": "stream",
     "text": [
      "Converting to DataFrame...\n",
      "Validating URLs...\n"
     ]
    },
    {
     "name": "stderr",
     "output_type": "stream",
     "text": [
      "2024-02-21 15:34:53,308 - INFO - URL https://www.eversports.de/s/pole-for-soul-gbr is valid.\n",
      "2024-02-21 15:34:53,310 - INFO - Processing URL 2/2: https://www.eversports.de/sw/pole-for-soul-gbr\n",
      "2024-02-21 15:34:55,340 - INFO - URL https://www.eversports.de/sw/pole-for-soul-gbr is valid.\n"
     ]
    },
    {
     "name": "stdout",
     "output_type": "stream",
     "text": [
      "Scraping Pole Studio Data from https://www.eversports.de/s/pole-for-soul-gbr...\n",
      "Scraping Workshops Data from https://www.eversports.de/sw/pole-for-soul-gbr...\n",
      "Scraping Workshop Details from https://www.eversports.de/e/workshop/rnbGVfh...\n",
      "Scraping Workshop Details from https://www.eversports.de/e/workshop/CehT5V7...\n"
     ]
    },
    {
     "name": "stderr",
     "output_type": "stream",
     "text": [
      "Processing URLs:  79%|███████▊  | 344/438 [23:06<16:52, 10.77s/it]"
     ]
    },
    {
     "name": "stdout",
     "output_type": "stream",
     "text": [
      "\n",
      "Processing completed.\n",
      "-------------------------------- \n",
      "\n",
      "2024-02-21 15:35:01 - INFO - Scraping Data from: https://www.eversports.de/s/pole-for-soul-gbr\n",
      "Pole Studio Data: 1 entries\n",
      "2024-02-21 15:35:01 - INFO - Scraping Data from: https://www.eversports.de/s/pole-for-soul-gbr\n",
      "Workshops Data: 2 entries\n",
      "2024-02-21 15:35:01 - INFO - Scraping Data from: https://www.eversports.de/s/pole-for-soul-gbr\n",
      "Workshop Details: 2 entries\n",
      "Starting URL reconstruction...\n"
     ]
    },
    {
     "name": "stderr",
     "output_type": "stream",
     "text": [
      "2024-02-21 15:35:03,690 - INFO - Processing URL 1/1: https://www.eversports.de/s/poledance-nrw\n"
     ]
    },
    {
     "name": "stdout",
     "output_type": "stream",
     "text": [
      "Converting to DataFrame...\n",
      "Validating URLs...\n"
     ]
    },
    {
     "name": "stderr",
     "output_type": "stream",
     "text": [
      "2024-02-21 15:35:05,204 - INFO - URL https://www.eversports.de/s/poledance-nrw is valid.\n"
     ]
    },
    {
     "name": "stdout",
     "output_type": "stream",
     "text": [
      "Scraping Pole Studio Data from https://www.eversports.de/s/poledance-nrw...\n"
     ]
    },
    {
     "name": "stderr",
     "output_type": "stream",
     "text": [
      "Processing URLs:  79%|███████▉  | 345/438 [23:11<13:43,  8.86s/it]"
     ]
    },
    {
     "name": "stdout",
     "output_type": "stream",
     "text": [
      "\n",
      "Processing completed.\n",
      "-------------------------------- \n",
      "\n",
      "2024-02-21 15:35:05 - INFO - Scraping Data from: https://www.eversports.de/s/poledance-nrw\n",
      "Pole Studio Data: 1 entries\n",
      "Starting URL reconstruction...\n"
     ]
    },
    {
     "name": "stderr",
     "output_type": "stream",
     "text": [
      "2024-02-21 15:35:07,280 - INFO - Processing URL 1/2: https://www.eversports.de/s/aerial-art-poledance\n"
     ]
    },
    {
     "name": "stdout",
     "output_type": "stream",
     "text": [
      "Converting to DataFrame...\n",
      "Validating URLs...\n"
     ]
    },
    {
     "name": "stderr",
     "output_type": "stream",
     "text": [
      "2024-02-21 15:35:08,763 - INFO - URL https://www.eversports.de/s/aerial-art-poledance is valid.\n",
      "2024-02-21 15:35:08,765 - INFO - Processing URL 2/2: https://www.eversports.de/sw/aerial-art-poledance\n",
      "2024-02-21 15:35:10,186 - INFO - URL https://www.eversports.de/sw/aerial-art-poledance is valid.\n"
     ]
    },
    {
     "name": "stdout",
     "output_type": "stream",
     "text": [
      "Scraping Pole Studio Data from https://www.eversports.de/s/aerial-art-poledance...\n",
      "Scraping Workshops Data from https://www.eversports.de/sw/aerial-art-poledance...\n",
      "Scraping Workshop Details from https://www.eversports.de/e/workshop/HLSPtEf...\n",
      "Scraping Workshop Details from https://www.eversports.de/e/workshop/r4YFhr5...\n",
      "Scraping Workshop Details from https://www.eversports.de/e/workshop/reesqNy...\n",
      "Scraping Workshop Details from https://www.eversports.de/e/workshop/fQcgKaY...\n",
      "Scraping Workshop Details from https://www.eversports.de/e/workshop/y8LqNM9...\n",
      "Scraping Workshop Details from https://www.eversports.de/e/workshop/-xFs2y7...\n",
      "Scraping Workshop Details from https://www.eversports.de/e/workshop/XIjmMIv...\n"
     ]
    },
    {
     "name": "stderr",
     "output_type": "stream",
     "text": [
      "Processing URLs:  79%|███████▉  | 346/438 [23:29<17:44, 11.57s/it]"
     ]
    },
    {
     "name": "stdout",
     "output_type": "stream",
     "text": [
      "\n",
      "Processing completed.\n",
      "-------------------------------- \n",
      "\n",
      "2024-02-21 15:35:23 - INFO - Scraping Data from: https://www.eversports.de/s/aerial-art-poledance\n",
      "Pole Studio Data: 1 entries\n",
      "2024-02-21 15:35:23 - INFO - Scraping Data from: https://www.eversports.de/s/aerial-art-poledance\n",
      "Workshops Data: 7 entries\n",
      "2024-02-21 15:35:23 - INFO - Scraping Data from: https://www.eversports.de/s/aerial-art-poledance\n",
      "Workshop Details: 7 entries\n",
      "Starting URL reconstruction...\n"
     ]
    },
    {
     "name": "stderr",
     "output_type": "stream",
     "text": [
      "2024-02-21 15:35:24,913 - INFO - Processing URL 1/1: https://www.eversports.de/s/nordpole\n"
     ]
    },
    {
     "name": "stdout",
     "output_type": "stream",
     "text": [
      "Converting to DataFrame...\n",
      "Validating URLs...\n"
     ]
    },
    {
     "name": "stderr",
     "output_type": "stream",
     "text": [
      "2024-02-21 15:35:26,580 - INFO - URL https://www.eversports.de/s/nordpole is valid.\n"
     ]
    },
    {
     "name": "stdout",
     "output_type": "stream",
     "text": [
      "Scraping Pole Studio Data from https://www.eversports.de/s/nordpole...\n"
     ]
    },
    {
     "name": "stderr",
     "output_type": "stream",
     "text": [
      "Processing URLs:  79%|███████▉  | 347/438 [23:32<13:54,  9.18s/it]"
     ]
    },
    {
     "name": "stdout",
     "output_type": "stream",
     "text": [
      "\n",
      "Processing completed.\n",
      "-------------------------------- \n",
      "\n",
      "2024-02-21 15:35:27 - INFO - Scraping Data from: https://www.eversports.de/s/nordpole\n",
      "Pole Studio Data: 1 entries\n",
      "Starting URL reconstruction...\n"
     ]
    },
    {
     "name": "stderr",
     "output_type": "stream",
     "text": [
      "2024-02-21 15:35:28,433 - INFO - Processing URL 1/2: https://www.eversports.de/s/polefit-aline-sustrath\n"
     ]
    },
    {
     "name": "stdout",
     "output_type": "stream",
     "text": [
      "Converting to DataFrame...\n",
      "Validating URLs...\n"
     ]
    },
    {
     "name": "stderr",
     "output_type": "stream",
     "text": [
      "2024-02-21 15:35:29,864 - INFO - URL https://www.eversports.de/s/polefit-aline-sustrath is valid.\n",
      "2024-02-21 15:35:29,865 - INFO - Processing URL 2/2: https://www.eversports.de/sw/polefit-aline-sustrath\n",
      "2024-02-21 15:35:31,096 - INFO - URL https://www.eversports.de/sw/polefit-aline-sustrath is valid.\n"
     ]
    },
    {
     "name": "stdout",
     "output_type": "stream",
     "text": [
      "Scraping Pole Studio Data from https://www.eversports.de/s/polefit-aline-sustrath...\n",
      "Scraping Workshops Data from https://www.eversports.de/sw/polefit-aline-sustrath...\n",
      "Scraping Workshop Details from https://www.eversports.de/e/workshop/F0nh2br...\n"
     ]
    },
    {
     "name": "stderr",
     "output_type": "stream",
     "text": [
      "Processing URLs:  79%|███████▉  | 348/438 [23:39<12:51,  8.58s/it]"
     ]
    },
    {
     "name": "stdout",
     "output_type": "stream",
     "text": [
      "\n",
      "Processing completed.\n",
      "-------------------------------- \n",
      "\n",
      "2024-02-21 15:35:34 - INFO - Scraping Data from: https://www.eversports.de/s/polefit-aline-sustrath\n",
      "Pole Studio Data: 1 entries\n",
      "2024-02-21 15:35:34 - INFO - Scraping Data from: https://www.eversports.de/s/polefit-aline-sustrath\n",
      "Workshops Data: 1 entries\n",
      "2024-02-21 15:35:34 - INFO - Scraping Data from: https://www.eversports.de/s/polefit-aline-sustrath\n",
      "Workshop Details: 1 entries\n",
      "Starting URL reconstruction...\n"
     ]
    },
    {
     "name": "stderr",
     "output_type": "stream",
     "text": [
      "2024-02-21 15:35:35,672 - INFO - Processing URL 1/1: https://www.eversports.de/s/papillon-dance-and-sport-academy\n"
     ]
    },
    {
     "name": "stdout",
     "output_type": "stream",
     "text": [
      "Converting to DataFrame...\n",
      "Validating URLs...\n"
     ]
    },
    {
     "name": "stderr",
     "output_type": "stream",
     "text": [
      "2024-02-21 15:35:37,388 - INFO - URL https://www.eversports.de/s/papillon-dance-and-sport-academy is valid.\n"
     ]
    },
    {
     "name": "stdout",
     "output_type": "stream",
     "text": [
      "Scraping Pole Studio Data from https://www.eversports.de/s/papillon-dance-and-sport-academy...\n"
     ]
    },
    {
     "name": "stderr",
     "output_type": "stream",
     "text": [
      "Processing URLs:  80%|███████▉  | 349/438 [23:43<10:30,  7.08s/it]"
     ]
    },
    {
     "name": "stdout",
     "output_type": "stream",
     "text": [
      "\n",
      "Processing completed.\n",
      "-------------------------------- \n",
      "\n",
      "2024-02-21 15:35:37 - INFO - Scraping Data from: https://www.eversports.de/s/papillon-dance-and-sport-academy\n",
      "Pole Studio Data: 1 entries\n",
      "Starting URL reconstruction...\n"
     ]
    },
    {
     "name": "stderr",
     "output_type": "stream",
     "text": [
      "2024-02-21 15:35:39,313 - INFO - Processing URL 1/1: https://www.eversports.de/s/janardana-yoga\n"
     ]
    },
    {
     "name": "stdout",
     "output_type": "stream",
     "text": [
      "Converting to DataFrame...\n",
      "Validating URLs...\n"
     ]
    },
    {
     "name": "stderr",
     "output_type": "stream",
     "text": [
      "2024-02-21 15:35:40,700 - INFO - URL https://www.eversports.de/s/janardana-yoga is valid.\n"
     ]
    },
    {
     "name": "stdout",
     "output_type": "stream",
     "text": [
      "Scraping Pole Studio Data from https://www.eversports.de/s/janardana-yoga...\n"
     ]
    },
    {
     "name": "stderr",
     "output_type": "stream",
     "text": [
      "Processing URLs:  80%|███████▉  | 350/438 [23:47<08:49,  6.02s/it]"
     ]
    },
    {
     "name": "stdout",
     "output_type": "stream",
     "text": [
      "\n",
      "Processing completed.\n",
      "-------------------------------- \n",
      "\n",
      "2024-02-21 15:35:41 - INFO - Scraping Data from: https://www.eversports.de/s/janardana-yoga\n",
      "Pole Studio Data: 1 entries\n",
      "Starting URL reconstruction...\n"
     ]
    },
    {
     "name": "stderr",
     "output_type": "stream",
     "text": [
      "2024-02-21 15:35:42,889 - INFO - Processing URL 1/1: https://www.eversports.de/s/pure-body-concepts-1\n"
     ]
    },
    {
     "name": "stdout",
     "output_type": "stream",
     "text": [
      "Converting to DataFrame...\n",
      "Validating URLs...\n"
     ]
    },
    {
     "name": "stderr",
     "output_type": "stream",
     "text": [
      "2024-02-21 15:35:44,360 - INFO - URL https://www.eversports.de/s/pure-body-concepts-1 is valid.\n"
     ]
    },
    {
     "name": "stdout",
     "output_type": "stream",
     "text": [
      "Scraping Pole Studio Data from https://www.eversports.de/s/pure-body-concepts-1...\n"
     ]
    },
    {
     "name": "stderr",
     "output_type": "stream",
     "text": [
      "Processing URLs:  80%|████████  | 351/438 [23:50<07:36,  5.24s/it]"
     ]
    },
    {
     "name": "stdout",
     "output_type": "stream",
     "text": [
      "\n",
      "Processing completed.\n",
      "-------------------------------- \n",
      "\n",
      "2024-02-21 15:35:44 - INFO - Scraping Data from: https://www.eversports.de/s/pure-body-concepts-1\n",
      "Pole Studio Data: 1 entries\n",
      "Starting URL reconstruction...\n"
     ]
    },
    {
     "name": "stderr",
     "output_type": "stream",
     "text": [
      "Processing URLs:  80%|████████  | 352/438 [23:51<05:46,  4.03s/it]"
     ]
    },
    {
     "name": "stdout",
     "output_type": "stream",
     "text": [
      "Error during HTTP request: 404 Client Error: Not Found for url: https://www.eversports.de/s/polemotions-gp\n",
      "Converting to DataFrame...\n",
      "Validating URLs...\n",
      "\n",
      "Processing completed.\n",
      "-------------------------------- \n",
      "\n",
      "Starting URL reconstruction...\n"
     ]
    },
    {
     "name": "stderr",
     "output_type": "stream",
     "text": [
      "2024-02-21 15:35:47,529 - INFO - Processing URL 1/1: https://www.eversports.de/s/tanzteufel\n"
     ]
    },
    {
     "name": "stdout",
     "output_type": "stream",
     "text": [
      "Converting to DataFrame...\n",
      "Validating URLs...\n"
     ]
    },
    {
     "name": "stderr",
     "output_type": "stream",
     "text": [
      "2024-02-21 15:35:49,172 - INFO - URL https://www.eversports.de/s/tanzteufel is valid.\n"
     ]
    },
    {
     "name": "stdout",
     "output_type": "stream",
     "text": [
      "Scraping Pole Studio Data from https://www.eversports.de/s/tanzteufel...\n"
     ]
    },
    {
     "name": "stderr",
     "output_type": "stream",
     "text": [
      "Processing URLs:  81%|████████  | 353/438 [23:55<05:33,  3.92s/it]"
     ]
    },
    {
     "name": "stdout",
     "output_type": "stream",
     "text": [
      "\n",
      "Processing completed.\n",
      "-------------------------------- \n",
      "\n",
      "2024-02-21 15:35:49 - INFO - Scraping Data from: https://www.eversports.de/s/tanzteufel\n",
      "Pole Studio Data: 1 entries\n",
      "Starting URL reconstruction...\n"
     ]
    },
    {
     "name": "stderr",
     "output_type": "stream",
     "text": [
      "2024-02-21 15:35:51,465 - INFO - Processing URL 1/1: https://www.eversports.de/s/polesition-regensburg\n"
     ]
    },
    {
     "name": "stdout",
     "output_type": "stream",
     "text": [
      "Converting to DataFrame...\n",
      "Validating URLs...\n"
     ]
    },
    {
     "name": "stderr",
     "output_type": "stream",
     "text": [
      "2024-02-21 15:35:52,893 - INFO - URL https://www.eversports.de/s/polesition-regensburg is valid.\n"
     ]
    },
    {
     "name": "stdout",
     "output_type": "stream",
     "text": [
      "Scraping Pole Studio Data from https://www.eversports.de/s/polesition-regensburg...\n"
     ]
    },
    {
     "name": "stderr",
     "output_type": "stream",
     "text": [
      "Processing URLs:  81%|████████  | 354/438 [23:58<05:19,  3.81s/it]"
     ]
    },
    {
     "name": "stdout",
     "output_type": "stream",
     "text": [
      "\n",
      "Processing completed.\n",
      "-------------------------------- \n",
      "\n",
      "2024-02-21 15:35:53 - INFO - Scraping Data from: https://www.eversports.de/s/polesition-regensburg\n",
      "Pole Studio Data: 1 entries\n",
      "Starting URL reconstruction...\n"
     ]
    },
    {
     "name": "stderr",
     "output_type": "stream",
     "text": [
      "2024-02-21 15:35:55,600 - INFO - Processing URL 1/2: https://www.eversports.de/s/pole-heroes\n"
     ]
    },
    {
     "name": "stdout",
     "output_type": "stream",
     "text": [
      "Converting to DataFrame...\n",
      "Validating URLs...\n"
     ]
    },
    {
     "name": "stderr",
     "output_type": "stream",
     "text": [
      "2024-02-21 15:35:57,063 - INFO - URL https://www.eversports.de/s/pole-heroes is valid.\n",
      "2024-02-21 15:35:57,063 - INFO - Processing URL 2/2: https://www.eversports.de/sw/pole-heroes\n",
      "2024-02-21 15:35:58,410 - INFO - URL https://www.eversports.de/sw/pole-heroes is valid.\n"
     ]
    },
    {
     "name": "stdout",
     "output_type": "stream",
     "text": [
      "Scraping Pole Studio Data from https://www.eversports.de/s/pole-heroes...\n",
      "Scraping Workshops Data from https://www.eversports.de/sw/pole-heroes...\n",
      "Scraping Workshop Details from https://www.eversports.de/e/workshop/_cVfx28...\n",
      "Scraping Workshop Details from https://www.eversports.de/e/workshop/vPqMS0U...\n"
     ]
    },
    {
     "name": "stderr",
     "output_type": "stream",
     "text": [
      "Processing URLs:  81%|████████  | 355/438 [24:09<08:05,  5.85s/it]"
     ]
    },
    {
     "name": "stdout",
     "output_type": "stream",
     "text": [
      "\n",
      "Processing completed.\n",
      "-------------------------------- \n",
      "\n",
      "2024-02-21 15:36:03 - INFO - Scraping Data from: https://www.eversports.de/s/pole-heroes\n",
      "Pole Studio Data: 1 entries\n",
      "2024-02-21 15:36:03 - INFO - Scraping Data from: https://www.eversports.de/s/pole-heroes\n",
      "Workshops Data: 2 entries\n",
      "2024-02-21 15:36:03 - INFO - Scraping Data from: https://www.eversports.de/s/pole-heroes\n",
      "Workshop Details: 2 entries\n",
      "Starting URL reconstruction...\n"
     ]
    },
    {
     "name": "stderr",
     "output_type": "stream",
     "text": [
      "Processing URLs:  81%|████████▏ | 356/438 [24:10<06:06,  4.47s/it]"
     ]
    },
    {
     "name": "stdout",
     "output_type": "stream",
     "text": [
      "Error during HTTP request: 404 Client Error: Not Found for url: https://www.eversports.de/s/pole-circus-a-k\n",
      "Converting to DataFrame...\n",
      "Validating URLs...\n",
      "\n",
      "Processing completed.\n",
      "-------------------------------- \n",
      "\n",
      "Starting URL reconstruction...\n"
     ]
    },
    {
     "name": "stderr",
     "output_type": "stream",
     "text": [
      "2024-02-21 15:36:07,510 - INFO - Processing URL 1/1: https://www.eversports.de/s/calipso-studio\n"
     ]
    },
    {
     "name": "stdout",
     "output_type": "stream",
     "text": [
      "Converting to DataFrame...\n",
      "Validating URLs...\n"
     ]
    },
    {
     "name": "stderr",
     "output_type": "stream",
     "text": [
      "2024-02-21 15:36:08,960 - INFO - URL https://www.eversports.de/s/calipso-studio is valid.\n"
     ]
    },
    {
     "name": "stdout",
     "output_type": "stream",
     "text": [
      "Scraping Pole Studio Data from https://www.eversports.de/s/calipso-studio...\n"
     ]
    },
    {
     "name": "stderr",
     "output_type": "stream",
     "text": [
      "Processing URLs:  82%|████████▏ | 357/438 [24:16<06:40,  4.95s/it]"
     ]
    },
    {
     "name": "stdout",
     "output_type": "stream",
     "text": [
      "\n",
      "Processing completed.\n",
      "-------------------------------- \n",
      "\n",
      "2024-02-21 15:36:11 - INFO - Scraping Data from: https://www.eversports.de/s/calipso-studio\n",
      "Pole Studio Data: 1 entries\n",
      "Starting URL reconstruction...\n"
     ]
    },
    {
     "name": "stderr",
     "output_type": "stream",
     "text": [
      "2024-02-21 15:36:12,699 - INFO - Processing URL 1/2: https://www.eversports.de/s/yoga-vidya-burgdorf\n"
     ]
    },
    {
     "name": "stdout",
     "output_type": "stream",
     "text": [
      "Converting to DataFrame...\n",
      "Validating URLs...\n"
     ]
    },
    {
     "name": "stderr",
     "output_type": "stream",
     "text": [
      "2024-02-21 15:36:14,194 - INFO - URL https://www.eversports.de/s/yoga-vidya-burgdorf is valid.\n",
      "2024-02-21 15:36:14,195 - INFO - Processing URL 2/2: https://www.eversports.de/sw/yoga-vidya-burgdorf\n",
      "2024-02-21 15:36:15,561 - INFO - URL https://www.eversports.de/sw/yoga-vidya-burgdorf is valid.\n"
     ]
    },
    {
     "name": "stdout",
     "output_type": "stream",
     "text": [
      "Scraping Pole Studio Data from https://www.eversports.de/s/yoga-vidya-burgdorf...\n",
      "Scraping Workshops Data from https://www.eversports.de/sw/yoga-vidya-burgdorf...\n",
      "Scraping Workshop Details from https://www.eversports.de/e/workshop/0E9ASI_...\n"
     ]
    },
    {
     "name": "stderr",
     "output_type": "stream",
     "text": [
      "Processing URLs:  82%|████████▏ | 358/438 [24:24<07:38,  5.73s/it]"
     ]
    },
    {
     "name": "stdout",
     "output_type": "stream",
     "text": [
      "\n",
      "Processing completed.\n",
      "-------------------------------- \n",
      "\n",
      "2024-02-21 15:36:18 - INFO - Scraping Data from: https://www.eversports.de/s/yoga-vidya-burgdorf\n",
      "Pole Studio Data: 1 entries\n",
      "2024-02-21 15:36:18 - INFO - Scraping Data from: https://www.eversports.de/s/yoga-vidya-burgdorf\n",
      "Workshops Data: 1 entries\n",
      "2024-02-21 15:36:18 - INFO - Scraping Data from: https://www.eversports.de/s/yoga-vidya-burgdorf\n",
      "Workshop Details: 1 entries\n",
      "Starting URL reconstruction...\n"
     ]
    },
    {
     "name": "stderr",
     "output_type": "stream",
     "text": [
      "2024-02-21 15:36:21,004 - INFO - Processing URL 1/1: https://www.eversports.de/s/annis-pole-dance-uetersen\n"
     ]
    },
    {
     "name": "stdout",
     "output_type": "stream",
     "text": [
      "Converting to DataFrame...\n",
      "Validating URLs...\n"
     ]
    },
    {
     "name": "stderr",
     "output_type": "stream",
     "text": [
      "2024-02-21 15:36:22,407 - INFO - URL https://www.eversports.de/s/annis-pole-dance-uetersen is valid.\n"
     ]
    },
    {
     "name": "stdout",
     "output_type": "stream",
     "text": [
      "Scraping Pole Studio Data from https://www.eversports.de/s/annis-pole-dance-uetersen...\n"
     ]
    },
    {
     "name": "stderr",
     "output_type": "stream",
     "text": [
      "Processing URLs:  82%|████████▏ | 359/438 [24:28<06:52,  5.22s/it]"
     ]
    },
    {
     "name": "stdout",
     "output_type": "stream",
     "text": [
      "\n",
      "Processing completed.\n",
      "-------------------------------- \n",
      "\n",
      "2024-02-21 15:36:22 - INFO - Scraping Data from: https://www.eversports.de/s/annis-pole-dance-uetersen\n",
      "Pole Studio Data: 1 entries\n",
      "Starting URL reconstruction...\n"
     ]
    },
    {
     "name": "stderr",
     "output_type": "stream",
     "text": [
      "2024-02-21 15:36:24,182 - INFO - Processing URL 1/1: https://www.eversports.de/s/infinity-polesports\n"
     ]
    },
    {
     "name": "stdout",
     "output_type": "stream",
     "text": [
      "Converting to DataFrame...\n",
      "Validating URLs...\n"
     ]
    },
    {
     "name": "stderr",
     "output_type": "stream",
     "text": [
      "2024-02-21 15:36:25,581 - INFO - URL https://www.eversports.de/s/infinity-polesports is valid.\n"
     ]
    },
    {
     "name": "stdout",
     "output_type": "stream",
     "text": [
      "Scraping Pole Studio Data from https://www.eversports.de/s/infinity-polesports...\n"
     ]
    },
    {
     "name": "stderr",
     "output_type": "stream",
     "text": [
      "Processing URLs:  82%|████████▏ | 360/438 [24:33<06:55,  5.33s/it]"
     ]
    },
    {
     "name": "stdout",
     "output_type": "stream",
     "text": [
      "\n",
      "Processing completed.\n",
      "-------------------------------- \n",
      "\n",
      "2024-02-21 15:36:28 - INFO - Scraping Data from: https://www.eversports.de/s/infinity-polesports\n",
      "Pole Studio Data: 1 entries\n",
      "Starting URL reconstruction...\n"
     ]
    },
    {
     "name": "stderr",
     "output_type": "stream",
     "text": [
      "2024-02-21 15:36:29,631 - INFO - Processing URL 1/1: https://www.eversports.de/s/polesensation\n"
     ]
    },
    {
     "name": "stdout",
     "output_type": "stream",
     "text": [
      "Converting to DataFrame...\n",
      "Validating URLs...\n"
     ]
    },
    {
     "name": "stderr",
     "output_type": "stream",
     "text": [
      "2024-02-21 15:36:31,062 - INFO - URL https://www.eversports.de/s/polesensation is valid.\n"
     ]
    },
    {
     "name": "stdout",
     "output_type": "stream",
     "text": [
      "Scraping Pole Studio Data from https://www.eversports.de/s/polesensation...\n"
     ]
    },
    {
     "name": "stderr",
     "output_type": "stream",
     "text": [
      "Processing URLs:  82%|████████▏ | 361/438 [24:37<06:04,  4.73s/it]"
     ]
    },
    {
     "name": "stdout",
     "output_type": "stream",
     "text": [
      "\n",
      "Processing completed.\n",
      "-------------------------------- \n",
      "\n",
      "2024-02-21 15:36:31 - INFO - Scraping Data from: https://www.eversports.de/s/polesensation\n",
      "Pole Studio Data: 1 entries\n",
      "Starting URL reconstruction...\n"
     ]
    },
    {
     "name": "stderr",
     "output_type": "stream",
     "text": [
      "2024-02-21 15:36:33,185 - INFO - Processing URL 1/1: https://www.eversports.de/s/bodysoul-studio-duesseldorf\n"
     ]
    },
    {
     "name": "stdout",
     "output_type": "stream",
     "text": [
      "Converting to DataFrame...\n",
      "Validating URLs...\n"
     ]
    },
    {
     "name": "stderr",
     "output_type": "stream",
     "text": [
      "2024-02-21 15:36:34,578 - INFO - URL https://www.eversports.de/s/bodysoul-studio-duesseldorf is valid.\n"
     ]
    },
    {
     "name": "stdout",
     "output_type": "stream",
     "text": [
      "Scraping Pole Studio Data from https://www.eversports.de/s/bodysoul-studio-duesseldorf...\n"
     ]
    },
    {
     "name": "stderr",
     "output_type": "stream",
     "text": [
      "Processing URLs:  83%|████████▎ | 362/438 [24:40<05:26,  4.30s/it]"
     ]
    },
    {
     "name": "stdout",
     "output_type": "stream",
     "text": [
      "\n",
      "Processing completed.\n",
      "-------------------------------- \n",
      "\n",
      "2024-02-21 15:36:34 - INFO - Scraping Data from: https://www.eversports.de/s/bodysoul-studio-duesseldorf\n",
      "Pole Studio Data: 1 entries\n",
      "Starting URL reconstruction...\n"
     ]
    },
    {
     "name": "stderr",
     "output_type": "stream",
     "text": [
      "2024-02-21 15:36:36,813 - INFO - Processing URL 1/1: https://www.eversports.de/s/dance-and-pole-langenfeld\n"
     ]
    },
    {
     "name": "stdout",
     "output_type": "stream",
     "text": [
      "Converting to DataFrame...\n",
      "Validating URLs...\n"
     ]
    },
    {
     "name": "stderr",
     "output_type": "stream",
     "text": [
      "2024-02-21 15:36:38,212 - INFO - URL https://www.eversports.de/s/dance-and-pole-langenfeld is valid.\n"
     ]
    },
    {
     "name": "stdout",
     "output_type": "stream",
     "text": [
      "Scraping Pole Studio Data from https://www.eversports.de/s/dance-and-pole-langenfeld...\n"
     ]
    },
    {
     "name": "stderr",
     "output_type": "stream",
     "text": [
      "Processing URLs:  83%|████████▎ | 363/438 [24:44<05:07,  4.10s/it]"
     ]
    },
    {
     "name": "stdout",
     "output_type": "stream",
     "text": [
      "\n",
      "Processing completed.\n",
      "-------------------------------- \n",
      "\n",
      "2024-02-21 15:36:38 - INFO - Scraping Data from: https://www.eversports.de/s/dance-and-pole-langenfeld\n",
      "Pole Studio Data: 1 entries\n",
      "Starting URL reconstruction...\n"
     ]
    },
    {
     "name": "stderr",
     "output_type": "stream",
     "text": [
      "2024-02-21 15:36:39,957 - INFO - Processing URL 1/1: https://www.eversports.de/s/kaifu-lodge\n"
     ]
    },
    {
     "name": "stdout",
     "output_type": "stream",
     "text": [
      "Converting to DataFrame...\n",
      "Validating URLs...\n"
     ]
    },
    {
     "name": "stderr",
     "output_type": "stream",
     "text": [
      "2024-02-21 15:36:41,326 - INFO - URL https://www.eversports.de/s/kaifu-lodge is valid.\n"
     ]
    },
    {
     "name": "stdout",
     "output_type": "stream",
     "text": [
      "Scraping Pole Studio Data from https://www.eversports.de/s/kaifu-lodge...\n"
     ]
    },
    {
     "name": "stderr",
     "output_type": "stream",
     "text": [
      "Processing URLs:  83%|████████▎ | 364/438 [24:47<04:39,  3.78s/it]"
     ]
    },
    {
     "name": "stdout",
     "output_type": "stream",
     "text": [
      "\n",
      "Processing completed.\n",
      "-------------------------------- \n",
      "\n",
      "2024-02-21 15:36:41 - INFO - Scraping Data from: https://www.eversports.de/s/kaifu-lodge\n",
      "Pole Studio Data: 1 entries\n",
      "Starting URL reconstruction...\n"
     ]
    },
    {
     "name": "stderr",
     "output_type": "stream",
     "text": [
      "2024-02-21 15:36:43,166 - INFO - Processing URL 1/1: https://www.eversports.de/s/poledancestar\n"
     ]
    },
    {
     "name": "stdout",
     "output_type": "stream",
     "text": [
      "Converting to DataFrame...\n",
      "Validating URLs...\n"
     ]
    },
    {
     "name": "stderr",
     "output_type": "stream",
     "text": [
      "2024-02-21 15:36:44,657 - INFO - URL https://www.eversports.de/s/poledancestar is valid.\n"
     ]
    },
    {
     "name": "stdout",
     "output_type": "stream",
     "text": [
      "Scraping Pole Studio Data from https://www.eversports.de/s/poledancestar...\n"
     ]
    },
    {
     "name": "stderr",
     "output_type": "stream",
     "text": [
      "Processing URLs:  83%|████████▎ | 365/438 [24:50<04:29,  3.69s/it]"
     ]
    },
    {
     "name": "stdout",
     "output_type": "stream",
     "text": [
      "\n",
      "Processing completed.\n",
      "-------------------------------- \n",
      "\n",
      "2024-02-21 15:36:45 - INFO - Scraping Data from: https://www.eversports.de/s/poledancestar\n",
      "Pole Studio Data: 1 entries\n",
      "Starting URL reconstruction...\n"
     ]
    },
    {
     "name": "stderr",
     "output_type": "stream",
     "text": [
      "2024-02-21 15:36:46,599 - INFO - Processing URL 1/1: https://www.eversports.de/s/passionate-pole-and-sports\n"
     ]
    },
    {
     "name": "stdout",
     "output_type": "stream",
     "text": [
      "Converting to DataFrame...\n",
      "Validating URLs...\n"
     ]
    },
    {
     "name": "stderr",
     "output_type": "stream",
     "text": [
      "2024-02-21 15:36:48,219 - INFO - URL https://www.eversports.de/s/passionate-pole-and-sports is valid.\n"
     ]
    },
    {
     "name": "stdout",
     "output_type": "stream",
     "text": [
      "Scraping Pole Studio Data from https://www.eversports.de/s/passionate-pole-and-sports...\n"
     ]
    },
    {
     "name": "stderr",
     "output_type": "stream",
     "text": [
      "Processing URLs:  84%|████████▎ | 366/438 [24:54<04:21,  3.63s/it]"
     ]
    },
    {
     "name": "stdout",
     "output_type": "stream",
     "text": [
      "\n",
      "Processing completed.\n",
      "-------------------------------- \n",
      "\n",
      "2024-02-21 15:36:48 - INFO - Scraping Data from: https://www.eversports.de/s/passionate-pole-and-sports\n",
      "Pole Studio Data: 1 entries\n",
      "Starting URL reconstruction...\n"
     ]
    },
    {
     "name": "stderr",
     "output_type": "stream",
     "text": [
      "2024-02-21 15:36:50,258 - INFO - Processing URL 1/2: https://www.eversports.de/s/yoga-at-lobe-block\n"
     ]
    },
    {
     "name": "stdout",
     "output_type": "stream",
     "text": [
      "Converting to DataFrame...\n",
      "Validating URLs...\n"
     ]
    },
    {
     "name": "stderr",
     "output_type": "stream",
     "text": [
      "2024-02-21 15:36:52,414 - INFO - URL https://www.eversports.de/s/yoga-at-lobe-block is valid.\n",
      "2024-02-21 15:36:52,415 - INFO - Processing URL 2/2: https://www.eversports.de/sw/yoga-at-lobe-block\n",
      "2024-02-21 15:36:53,943 - INFO - URL https://www.eversports.de/sw/yoga-at-lobe-block is valid.\n"
     ]
    },
    {
     "name": "stdout",
     "output_type": "stream",
     "text": [
      "Scraping Pole Studio Data from https://www.eversports.de/s/yoga-at-lobe-block...\n",
      "Scraping Workshops Data from https://www.eversports.de/sw/yoga-at-lobe-block...\n",
      "Scraping Workshop Details from https://www.eversports.de/e/workshop/rCwCWqT...\n",
      "Scraping Workshop Details from https://www.eversports.de/e/workshop/5WFQ4Sn...\n",
      "Scraping Workshop Details from https://www.eversports.de/e/workshop/qg_IBGe...\n",
      "Scraping Workshop Details from https://www.eversports.de/e/workshop/RTbWXKh...\n",
      "Scraping Workshop Details from https://www.eversports.de/e/workshop/OUz8GEH...\n",
      "Scraping Workshop Details from https://www.eversports.de/e/workshop/BjV3WGc...\n",
      "Scraping Workshop Details from https://www.eversports.de/e/workshop/XBkvMd1...\n",
      "Scraping Workshop Details from https://www.eversports.de/e/workshop/QaklFLB...\n"
     ]
    },
    {
     "name": "stderr",
     "output_type": "stream",
     "text": [
      "Processing URLs:  84%|████████▍ | 367/438 [25:15<10:34,  8.93s/it]"
     ]
    },
    {
     "name": "stdout",
     "output_type": "stream",
     "text": [
      "\n",
      "Processing completed.\n",
      "-------------------------------- \n",
      "\n",
      "2024-02-21 15:37:09 - INFO - Scraping Data from: https://www.eversports.de/s/yoga-at-lobe-block\n",
      "Pole Studio Data: 1 entries\n",
      "2024-02-21 15:37:09 - INFO - Scraping Data from: https://www.eversports.de/s/yoga-at-lobe-block\n",
      "Workshops Data: 8 entries\n",
      "2024-02-21 15:37:09 - INFO - Scraping Data from: https://www.eversports.de/s/yoga-at-lobe-block\n",
      "Workshop Details: 8 entries\n",
      "Starting URL reconstruction...\n"
     ]
    },
    {
     "name": "stderr",
     "output_type": "stream",
     "text": [
      "2024-02-21 15:37:11,414 - INFO - Processing URL 1/1: https://www.eversports.de/s/swiss-mega-park\n"
     ]
    },
    {
     "name": "stdout",
     "output_type": "stream",
     "text": [
      "Converting to DataFrame...\n",
      "Validating URLs...\n"
     ]
    },
    {
     "name": "stderr",
     "output_type": "stream",
     "text": [
      "2024-02-21 15:37:12,809 - INFO - URL https://www.eversports.de/s/swiss-mega-park is valid.\n"
     ]
    },
    {
     "name": "stdout",
     "output_type": "stream",
     "text": [
      "Scraping Pole Studio Data from https://www.eversports.de/s/swiss-mega-park...\n"
     ]
    },
    {
     "name": "stderr",
     "output_type": "stream",
     "text": [
      "Processing URLs:  84%|████████▍ | 368/438 [25:18<08:28,  7.26s/it]"
     ]
    },
    {
     "name": "stdout",
     "output_type": "stream",
     "text": [
      "\n",
      "Processing completed.\n",
      "-------------------------------- \n",
      "\n",
      "2024-02-21 15:37:13 - INFO - Scraping Data from: https://www.eversports.de/s/swiss-mega-park\n",
      "Pole Studio Data: 1 entries\n",
      "Starting URL reconstruction...\n"
     ]
    },
    {
     "name": "stderr",
     "output_type": "stream",
     "text": [
      "2024-02-21 15:37:14,850 - INFO - Processing URL 1/1: https://www.eversports.de/s/sportheim-abensberg\n"
     ]
    },
    {
     "name": "stdout",
     "output_type": "stream",
     "text": [
      "Converting to DataFrame...\n",
      "Validating URLs...\n"
     ]
    },
    {
     "name": "stderr",
     "output_type": "stream",
     "text": [
      "2024-02-21 15:37:16,391 - INFO - URL https://www.eversports.de/s/sportheim-abensberg is valid.\n"
     ]
    },
    {
     "name": "stdout",
     "output_type": "stream",
     "text": [
      "Scraping Pole Studio Data from https://www.eversports.de/s/sportheim-abensberg...\n"
     ]
    },
    {
     "name": "stderr",
     "output_type": "stream",
     "text": [
      "Processing URLs:  84%|████████▍ | 369/438 [25:22<07:03,  6.14s/it]"
     ]
    },
    {
     "name": "stdout",
     "output_type": "stream",
     "text": [
      "\n",
      "Processing completed.\n",
      "-------------------------------- \n",
      "\n",
      "2024-02-21 15:37:16 - INFO - Scraping Data from: https://www.eversports.de/s/sportheim-abensberg\n",
      "Pole Studio Data: 1 entries\n",
      "Starting URL reconstruction...\n"
     ]
    },
    {
     "name": "stderr",
     "output_type": "stream",
     "text": [
      "2024-02-21 15:37:18,882 - INFO - Processing URL 1/1: https://www.eversports.de/s/dance-and-pole-deltawerk\n"
     ]
    },
    {
     "name": "stdout",
     "output_type": "stream",
     "text": [
      "Converting to DataFrame...\n",
      "Validating URLs...\n"
     ]
    },
    {
     "name": "stderr",
     "output_type": "stream",
     "text": [
      "2024-02-21 15:37:20,306 - INFO - URL https://www.eversports.de/s/dance-and-pole-deltawerk is valid.\n"
     ]
    },
    {
     "name": "stdout",
     "output_type": "stream",
     "text": [
      "Scraping Pole Studio Data from https://www.eversports.de/s/dance-and-pole-deltawerk...\n"
     ]
    },
    {
     "name": "stderr",
     "output_type": "stream",
     "text": [
      "Processing URLs:  84%|████████▍ | 370/438 [25:26<06:12,  5.48s/it]"
     ]
    },
    {
     "name": "stdout",
     "output_type": "stream",
     "text": [
      "\n",
      "Processing completed.\n",
      "-------------------------------- \n",
      "\n",
      "2024-02-21 15:37:20 - INFO - Scraping Data from: https://www.eversports.de/s/dance-and-pole-deltawerk\n",
      "Pole Studio Data: 1 entries\n",
      "Starting URL reconstruction...\n"
     ]
    },
    {
     "name": "stderr",
     "output_type": "stream",
     "text": [
      "2024-02-21 15:37:22,167 - INFO - Processing URL 1/1: https://www.eversports.de/s/secret-moves-athletic-dance-studio\n"
     ]
    },
    {
     "name": "stdout",
     "output_type": "stream",
     "text": [
      "Converting to DataFrame...\n",
      "Validating URLs...\n"
     ]
    },
    {
     "name": "stderr",
     "output_type": "stream",
     "text": [
      "2024-02-21 15:37:23,710 - INFO - URL https://www.eversports.de/s/secret-moves-athletic-dance-studio is valid.\n"
     ]
    },
    {
     "name": "stdout",
     "output_type": "stream",
     "text": [
      "Scraping Pole Studio Data from https://www.eversports.de/s/secret-moves-athletic-dance-studio...\n"
     ]
    },
    {
     "name": "stderr",
     "output_type": "stream",
     "text": [
      "Processing URLs:  85%|████████▍ | 371/438 [25:29<05:25,  4.86s/it]"
     ]
    },
    {
     "name": "stdout",
     "output_type": "stream",
     "text": [
      "\n",
      "Processing completed.\n",
      "-------------------------------- \n",
      "\n",
      "2024-02-21 15:37:24 - INFO - Scraping Data from: https://www.eversports.de/s/secret-moves-athletic-dance-studio\n",
      "Pole Studio Data: 1 entries\n",
      "Starting URL reconstruction...\n"
     ]
    },
    {
     "name": "stderr",
     "output_type": "stream",
     "text": [
      "2024-02-21 15:37:26,008 - INFO - Processing URL 1/1: https://www.eversports.de/s/stadtgazellen-studio\n"
     ]
    },
    {
     "name": "stdout",
     "output_type": "stream",
     "text": [
      "Converting to DataFrame...\n",
      "Validating URLs...\n"
     ]
    },
    {
     "name": "stderr",
     "output_type": "stream",
     "text": [
      "2024-02-21 15:37:27,496 - INFO - URL https://www.eversports.de/s/stadtgazellen-studio is valid.\n"
     ]
    },
    {
     "name": "stdout",
     "output_type": "stream",
     "text": [
      "Scraping Pole Studio Data from https://www.eversports.de/s/stadtgazellen-studio...\n"
     ]
    },
    {
     "name": "stderr",
     "output_type": "stream",
     "text": [
      "Processing URLs:  85%|████████▍ | 372/438 [25:33<05:01,  4.57s/it]"
     ]
    },
    {
     "name": "stdout",
     "output_type": "stream",
     "text": [
      "\n",
      "Processing completed.\n",
      "-------------------------------- \n",
      "\n",
      "2024-02-21 15:37:28 - INFO - Scraping Data from: https://www.eversports.de/s/stadtgazellen-studio\n",
      "Pole Studio Data: 1 entries\n",
      "Starting URL reconstruction...\n"
     ]
    },
    {
     "name": "stderr",
     "output_type": "stream",
     "text": [
      "2024-02-21 15:37:29,567 - INFO - Processing URL 1/1: https://www.eversports.de/s/annis-pole-dance-neumuenster\n"
     ]
    },
    {
     "name": "stdout",
     "output_type": "stream",
     "text": [
      "Converting to DataFrame...\n",
      "Validating URLs...\n"
     ]
    },
    {
     "name": "stderr",
     "output_type": "stream",
     "text": [
      "2024-02-21 15:37:31,083 - INFO - URL https://www.eversports.de/s/annis-pole-dance-neumuenster is valid.\n"
     ]
    },
    {
     "name": "stdout",
     "output_type": "stream",
     "text": [
      "Scraping Pole Studio Data from https://www.eversports.de/s/annis-pole-dance-neumuenster...\n"
     ]
    },
    {
     "name": "stderr",
     "output_type": "stream",
     "text": [
      "Processing URLs:  85%|████████▌ | 373/438 [25:37<04:34,  4.23s/it]"
     ]
    },
    {
     "name": "stdout",
     "output_type": "stream",
     "text": [
      "\n",
      "Processing completed.\n",
      "-------------------------------- \n",
      "\n",
      "2024-02-21 15:37:31 - INFO - Scraping Data from: https://www.eversports.de/s/annis-pole-dance-neumuenster\n",
      "Pole Studio Data: 1 entries\n",
      "Starting URL reconstruction...\n"
     ]
    },
    {
     "name": "stderr",
     "output_type": "stream",
     "text": [
      "2024-02-21 15:37:33,051 - INFO - Processing URL 1/1: https://www.eversports.de/s/pole-arts\n"
     ]
    },
    {
     "name": "stdout",
     "output_type": "stream",
     "text": [
      "Converting to DataFrame...\n",
      "Validating URLs...\n"
     ]
    },
    {
     "name": "stderr",
     "output_type": "stream",
     "text": [
      "2024-02-21 15:37:34,956 - INFO - URL https://www.eversports.de/s/pole-arts is valid.\n"
     ]
    },
    {
     "name": "stdout",
     "output_type": "stream",
     "text": [
      "Scraping Pole Studio Data from https://www.eversports.de/s/pole-arts...\n"
     ]
    },
    {
     "name": "stderr",
     "output_type": "stream",
     "text": [
      "Processing URLs:  85%|████████▌ | 374/438 [25:42<04:44,  4.44s/it]"
     ]
    },
    {
     "name": "stdout",
     "output_type": "stream",
     "text": [
      "\n",
      "Processing completed.\n",
      "-------------------------------- \n",
      "\n",
      "2024-02-21 15:37:36 - INFO - Scraping Data from: https://www.eversports.de/s/pole-arts\n",
      "Pole Studio Data: 1 entries\n",
      "Starting URL reconstruction...\n"
     ]
    },
    {
     "name": "stderr",
     "output_type": "stream",
     "text": [
      "2024-02-21 15:37:38,140 - INFO - Processing URL 1/1: https://www.eversports.de/s/mmc-dance-and-event-studio\n"
     ]
    },
    {
     "name": "stdout",
     "output_type": "stream",
     "text": [
      "Converting to DataFrame...\n",
      "Validating URLs...\n"
     ]
    },
    {
     "name": "stderr",
     "output_type": "stream",
     "text": [
      "2024-02-21 15:37:40,155 - INFO - URL https://www.eversports.de/s/mmc-dance-and-event-studio is valid.\n"
     ]
    },
    {
     "name": "stdout",
     "output_type": "stream",
     "text": [
      "Scraping Pole Studio Data from https://www.eversports.de/s/mmc-dance-and-event-studio...\n"
     ]
    },
    {
     "name": "stderr",
     "output_type": "stream",
     "text": [
      "Processing URLs:  86%|████████▌ | 375/438 [25:46<04:34,  4.35s/it]"
     ]
    },
    {
     "name": "stdout",
     "output_type": "stream",
     "text": [
      "\n",
      "Processing completed.\n",
      "-------------------------------- \n",
      "\n",
      "2024-02-21 15:37:40 - INFO - Scraping Data from: https://www.eversports.de/s/mmc-dance-and-event-studio\n",
      "Pole Studio Data: 1 entries\n",
      "Starting URL reconstruction...\n"
     ]
    },
    {
     "name": "stderr",
     "output_type": "stream",
     "text": [
      "2024-02-21 15:37:42,029 - INFO - Processing URL 1/1: https://www.eversports.de/s/yh-pole-and-sports-berlin\n"
     ]
    },
    {
     "name": "stdout",
     "output_type": "stream",
     "text": [
      "Converting to DataFrame...\n",
      "Validating URLs...\n"
     ]
    },
    {
     "name": "stderr",
     "output_type": "stream",
     "text": [
      "2024-02-21 15:37:43,455 - INFO - URL https://www.eversports.de/s/yh-pole-and-sports-berlin is valid.\n"
     ]
    },
    {
     "name": "stdout",
     "output_type": "stream",
     "text": [
      "Scraping Pole Studio Data from https://www.eversports.de/s/yh-pole-and-sports-berlin...\n"
     ]
    },
    {
     "name": "stderr",
     "output_type": "stream",
     "text": [
      "Processing URLs:  86%|████████▌ | 376/438 [25:49<04:10,  4.04s/it]"
     ]
    },
    {
     "name": "stdout",
     "output_type": "stream",
     "text": [
      "\n",
      "Processing completed.\n",
      "-------------------------------- \n",
      "\n",
      "2024-02-21 15:37:43 - INFO - Scraping Data from: https://www.eversports.de/s/yh-pole-and-sports-berlin\n",
      "Pole Studio Data: 1 entries\n",
      "Starting URL reconstruction...\n"
     ]
    },
    {
     "name": "stderr",
     "output_type": "stream",
     "text": [
      "2024-02-21 15:37:45,493 - INFO - Processing URL 1/1: https://www.eversports.de/s/pole-acrobatics\n"
     ]
    },
    {
     "name": "stdout",
     "output_type": "stream",
     "text": [
      "Converting to DataFrame...\n",
      "Validating URLs...\n"
     ]
    },
    {
     "name": "stderr",
     "output_type": "stream",
     "text": [
      "2024-02-21 15:37:46,930 - INFO - URL https://www.eversports.de/s/pole-acrobatics is valid.\n"
     ]
    },
    {
     "name": "stdout",
     "output_type": "stream",
     "text": [
      "Scraping Pole Studio Data from https://www.eversports.de/s/pole-acrobatics...\n"
     ]
    },
    {
     "name": "stderr",
     "output_type": "stream",
     "text": [
      "Processing URLs:  86%|████████▌ | 377/438 [25:53<03:58,  3.90s/it]"
     ]
    },
    {
     "name": "stdout",
     "output_type": "stream",
     "text": [
      "\n",
      "Processing completed.\n",
      "-------------------------------- \n",
      "\n",
      "2024-02-21 15:37:47 - INFO - Scraping Data from: https://www.eversports.de/s/pole-acrobatics\n",
      "Pole Studio Data: 1 entries\n",
      "Starting URL reconstruction...\n"
     ]
    },
    {
     "name": "stderr",
     "output_type": "stream",
     "text": [
      "2024-02-21 15:37:48,858 - INFO - Processing URL 1/2: https://www.eversports.de/s/a-heart-for-poledance-1\n"
     ]
    },
    {
     "name": "stdout",
     "output_type": "stream",
     "text": [
      "Converting to DataFrame...\n",
      "Validating URLs...\n"
     ]
    },
    {
     "name": "stderr",
     "output_type": "stream",
     "text": [
      "2024-02-21 15:37:50,200 - INFO - URL https://www.eversports.de/s/a-heart-for-poledance-1 is valid.\n",
      "2024-02-21 15:37:50,203 - INFO - Processing URL 2/2: https://www.eversports.de/sw/a-heart-for-poledance-1\n",
      "2024-02-21 15:37:51,507 - INFO - URL https://www.eversports.de/sw/a-heart-for-poledance-1 is valid.\n"
     ]
    },
    {
     "name": "stdout",
     "output_type": "stream",
     "text": [
      "Scraping Pole Studio Data from https://www.eversports.de/s/a-heart-for-poledance-1...\n",
      "Scraping Workshops Data from https://www.eversports.de/sw/a-heart-for-poledance-1...\n",
      "Scraping Workshop Details from https://www.eversports.de/e/workshop/5VJvMXI...\n",
      "Scraping Workshop Details from https://www.eversports.de/e/workshop/jQOaOC3...\n",
      "Scraping Workshop Details from https://www.eversports.de/e/workshop/H4Qz_fT...\n",
      "Scraping Workshop Details from https://www.eversports.de/e/workshop/nOac6zt...\n",
      "Scraping Workshop Details from https://www.eversports.de/e/workshop/yMiXoIi...\n"
     ]
    },
    {
     "name": "stderr",
     "output_type": "stream",
     "text": [
      "Processing URLs:  86%|████████▋ | 378/438 [26:05<06:32,  6.55s/it]"
     ]
    },
    {
     "name": "stdout",
     "output_type": "stream",
     "text": [
      "\n",
      "Processing completed.\n",
      "-------------------------------- \n",
      "\n",
      "2024-02-21 15:38:00 - INFO - Scraping Data from: https://www.eversports.de/s/a-heart-for-poledance-1\n",
      "Pole Studio Data: 1 entries\n",
      "2024-02-21 15:38:00 - INFO - Scraping Data from: https://www.eversports.de/s/a-heart-for-poledance-1\n",
      "Workshops Data: 5 entries\n",
      "2024-02-21 15:38:00 - INFO - Scraping Data from: https://www.eversports.de/s/a-heart-for-poledance-1\n",
      "Workshop Details: 5 entries\n",
      "Starting URL reconstruction...\n"
     ]
    },
    {
     "name": "stderr",
     "output_type": "stream",
     "text": [
      "2024-02-21 15:38:01,594 - INFO - Processing URL 1/1: https://www.eversports.de/s/x-step-berlin\n"
     ]
    },
    {
     "name": "stdout",
     "output_type": "stream",
     "text": [
      "Converting to DataFrame...\n",
      "Validating URLs...\n"
     ]
    },
    {
     "name": "stderr",
     "output_type": "stream",
     "text": [
      "2024-02-21 15:38:02,958 - INFO - URL https://www.eversports.de/s/x-step-berlin is valid.\n"
     ]
    },
    {
     "name": "stdout",
     "output_type": "stream",
     "text": [
      "Scraping Pole Studio Data from https://www.eversports.de/s/x-step-berlin...\n"
     ]
    },
    {
     "name": "stderr",
     "output_type": "stream",
     "text": [
      "Processing URLs:  87%|████████▋ | 379/438 [26:09<05:27,  5.56s/it]"
     ]
    },
    {
     "name": "stdout",
     "output_type": "stream",
     "text": [
      "\n",
      "Processing completed.\n",
      "-------------------------------- \n",
      "\n",
      "2024-02-21 15:38:03 - INFO - Scraping Data from: https://www.eversports.de/s/x-step-berlin\n",
      "Pole Studio Data: 1 entries\n",
      "Starting URL reconstruction...\n"
     ]
    },
    {
     "name": "stderr",
     "output_type": "stream",
     "text": [
      "2024-02-21 15:38:05,024 - INFO - Processing URL 1/1: https://www.eversports.de/s/sweatndance\n"
     ]
    },
    {
     "name": "stdout",
     "output_type": "stream",
     "text": [
      "Converting to DataFrame...\n",
      "Validating URLs...\n"
     ]
    },
    {
     "name": "stderr",
     "output_type": "stream",
     "text": [
      "2024-02-21 15:38:06,362 - INFO - URL https://www.eversports.de/s/sweatndance is valid.\n"
     ]
    },
    {
     "name": "stdout",
     "output_type": "stream",
     "text": [
      "Scraping Pole Studio Data from https://www.eversports.de/s/sweatndance...\n"
     ]
    },
    {
     "name": "stderr",
     "output_type": "stream",
     "text": [
      "Processing URLs:  87%|████████▋ | 380/438 [26:12<04:43,  4.89s/it]"
     ]
    },
    {
     "name": "stdout",
     "output_type": "stream",
     "text": [
      "\n",
      "Processing completed.\n",
      "-------------------------------- \n",
      "\n",
      "2024-02-21 15:38:06 - INFO - Scraping Data from: https://www.eversports.de/s/sweatndance\n",
      "Pole Studio Data: 1 entries\n",
      "Starting URL reconstruction...\n"
     ]
    },
    {
     "name": "stderr",
     "output_type": "stream",
     "text": [
      "Processing URLs:  87%|████████▋ | 381/438 [26:13<03:41,  3.89s/it]"
     ]
    },
    {
     "name": "stdout",
     "output_type": "stream",
     "text": [
      "Error during HTTP request: 404 Client Error: Not Found for url: https://www.eversports.de/s/lift-off-poledance-academy\n",
      "Converting to DataFrame...\n",
      "Validating URLs...\n",
      "\n",
      "Processing completed.\n",
      "-------------------------------- \n",
      "\n",
      "Starting URL reconstruction...\n"
     ]
    },
    {
     "name": "stderr",
     "output_type": "stream",
     "text": [
      "2024-02-21 15:38:10,064 - INFO - Processing URL 1/2: https://www.eversports.de/s/koerpernah\n"
     ]
    },
    {
     "name": "stdout",
     "output_type": "stream",
     "text": [
      "Converting to DataFrame...\n",
      "Validating URLs...\n"
     ]
    },
    {
     "name": "stderr",
     "output_type": "stream",
     "text": [
      "2024-02-21 15:38:11,807 - INFO - URL https://www.eversports.de/s/koerpernah is valid.\n",
      "2024-02-21 15:38:11,808 - INFO - Processing URL 2/2: https://www.eversports.de/sw/koerpernah\n",
      "2024-02-21 15:38:13,300 - INFO - URL https://www.eversports.de/sw/koerpernah is valid.\n"
     ]
    },
    {
     "name": "stdout",
     "output_type": "stream",
     "text": [
      "Scraping Pole Studio Data from https://www.eversports.de/s/koerpernah...\n",
      "Scraping Workshops Data from https://www.eversports.de/sw/koerpernah...\n",
      "Scraping Workshop Details from https://www.eversports.de/e/workshop/MfhCem5...\n",
      "Scraping Workshop Details from https://www.eversports.de/e/workshop/ETuGX5O...\n",
      "Scraping Workshop Details from https://www.eversports.de/e/workshop/Js7a_FB...\n"
     ]
    },
    {
     "name": "stderr",
     "output_type": "stream",
     "text": [
      "Processing URLs:  87%|████████▋ | 382/438 [26:24<05:30,  5.90s/it]"
     ]
    },
    {
     "name": "stdout",
     "output_type": "stream",
     "text": [
      "\n",
      "Processing completed.\n",
      "-------------------------------- \n",
      "\n",
      "2024-02-21 15:38:18 - INFO - Scraping Data from: https://www.eversports.de/s/koerpernah\n",
      "Pole Studio Data: 1 entries\n",
      "2024-02-21 15:38:18 - INFO - Scraping Data from: https://www.eversports.de/s/koerpernah\n",
      "Workshops Data: 3 entries\n",
      "2024-02-21 15:38:18 - INFO - Scraping Data from: https://www.eversports.de/s/koerpernah\n",
      "Workshop Details: 3 entries\n",
      "Starting URL reconstruction...\n"
     ]
    },
    {
     "name": "stderr",
     "output_type": "stream",
     "text": [
      "2024-02-21 15:38:20,088 - INFO - Processing URL 1/1: https://www.eversports.de/s/cindys-pole-dance\n"
     ]
    },
    {
     "name": "stdout",
     "output_type": "stream",
     "text": [
      "Converting to DataFrame...\n",
      "Validating URLs...\n"
     ]
    },
    {
     "name": "stderr",
     "output_type": "stream",
     "text": [
      "2024-02-21 15:38:21,441 - INFO - URL https://www.eversports.de/s/cindys-pole-dance is valid.\n"
     ]
    },
    {
     "name": "stdout",
     "output_type": "stream",
     "text": [
      "Scraping Pole Studio Data from https://www.eversports.de/s/cindys-pole-dance...\n"
     ]
    },
    {
     "name": "stderr",
     "output_type": "stream",
     "text": [
      "Processing URLs:  87%|████████▋ | 383/438 [26:27<04:33,  4.98s/it]"
     ]
    },
    {
     "name": "stdout",
     "output_type": "stream",
     "text": [
      "\n",
      "Processing completed.\n",
      "-------------------------------- \n",
      "\n",
      "2024-02-21 15:38:21 - INFO - Scraping Data from: https://www.eversports.de/s/cindys-pole-dance\n",
      "Pole Studio Data: 1 entries\n",
      "Starting URL reconstruction...\n"
     ]
    },
    {
     "name": "stderr",
     "output_type": "stream",
     "text": [
      "2024-02-21 15:38:23,249 - INFO - Processing URL 1/1: https://www.eversports.de/s/vertical-pole-aerial-dance\n"
     ]
    },
    {
     "name": "stdout",
     "output_type": "stream",
     "text": [
      "Converting to DataFrame...\n",
      "Validating URLs...\n"
     ]
    },
    {
     "name": "stderr",
     "output_type": "stream",
     "text": [
      "2024-02-21 15:38:25,740 - INFO - URL https://www.eversports.de/s/vertical-pole-aerial-dance is valid.\n"
     ]
    },
    {
     "name": "stdout",
     "output_type": "stream",
     "text": [
      "Scraping Pole Studio Data from https://www.eversports.de/s/vertical-pole-aerial-dance...\n"
     ]
    },
    {
     "name": "stderr",
     "output_type": "stream",
     "text": [
      "Processing URLs:  88%|████████▊ | 384/438 [26:31<04:20,  4.83s/it]"
     ]
    },
    {
     "name": "stdout",
     "output_type": "stream",
     "text": [
      "\n",
      "Processing completed.\n",
      "-------------------------------- \n",
      "\n",
      "2024-02-21 15:38:26 - INFO - Scraping Data from: https://www.eversports.de/s/vertical-pole-aerial-dance\n",
      "Pole Studio Data: 1 entries\n",
      "Starting URL reconstruction...\n"
     ]
    },
    {
     "name": "stderr",
     "output_type": "stream",
     "text": [
      "2024-02-21 15:38:28,279 - INFO - Processing URL 1/2: https://www.eversports.de/s/dayuma-pole-and-acrobatics\n"
     ]
    },
    {
     "name": "stdout",
     "output_type": "stream",
     "text": [
      "Converting to DataFrame...\n",
      "Validating URLs...\n"
     ]
    },
    {
     "name": "stderr",
     "output_type": "stream",
     "text": [
      "2024-02-21 15:38:29,701 - INFO - URL https://www.eversports.de/s/dayuma-pole-and-acrobatics is valid.\n",
      "2024-02-21 15:38:29,704 - INFO - Processing URL 2/2: https://www.eversports.de/sw/dayuma-pole-and-acrobatics\n",
      "2024-02-21 15:38:30,894 - INFO - URL https://www.eversports.de/sw/dayuma-pole-and-acrobatics is not valid.\n"
     ]
    },
    {
     "name": "stdout",
     "output_type": "stream",
     "text": [
      "Scraping Pole Studio Data from https://www.eversports.de/s/dayuma-pole-and-acrobatics...\n"
     ]
    },
    {
     "name": "stderr",
     "output_type": "stream",
     "text": [
      "Processing URLs:  88%|████████▊ | 385/438 [26:36<04:20,  4.92s/it]"
     ]
    },
    {
     "name": "stdout",
     "output_type": "stream",
     "text": [
      "\n",
      "Processing completed.\n",
      "-------------------------------- \n",
      "\n",
      "2024-02-21 15:38:31 - INFO - Scraping Data from: https://www.eversports.de/s/dayuma-pole-and-acrobatics\n",
      "Pole Studio Data: 1 entries\n",
      "Starting URL reconstruction...\n"
     ]
    },
    {
     "name": "stderr",
     "output_type": "stream",
     "text": [
      "2024-02-21 15:38:32,917 - INFO - Processing URL 1/2: https://www.eversports.de/s/tsg-blau-gold-giessen-ev\n"
     ]
    },
    {
     "name": "stdout",
     "output_type": "stream",
     "text": [
      "Converting to DataFrame...\n",
      "Validating URLs...\n"
     ]
    },
    {
     "name": "stderr",
     "output_type": "stream",
     "text": [
      "2024-02-21 15:38:34,588 - INFO - URL https://www.eversports.de/s/tsg-blau-gold-giessen-ev is valid.\n",
      "2024-02-21 15:38:34,589 - INFO - Processing URL 2/2: https://www.eversports.de/sw/tsg-blau-gold-giessen-ev\n",
      "2024-02-21 15:38:36,158 - INFO - URL https://www.eversports.de/sw/tsg-blau-gold-giessen-ev is valid.\n"
     ]
    },
    {
     "name": "stdout",
     "output_type": "stream",
     "text": [
      "Scraping Pole Studio Data from https://www.eversports.de/s/tsg-blau-gold-giessen-ev...\n",
      "Scraping Workshops Data from https://www.eversports.de/sw/tsg-blau-gold-giessen-ev...\n",
      "Scraping Workshop Details from https://www.eversports.de/e/workshop/dYSdw7b...\n",
      "Scraping Workshop Details from https://www.eversports.de/e/workshop/1LJamzo...\n",
      "Scraping Workshop Details from https://www.eversports.de/e/workshop/tFkZ7tt...\n",
      "Scraping Workshop Details from https://www.eversports.de/e/workshop/kTY0ERN...\n",
      "Scraping Workshop Details from https://www.eversports.de/e/workshop/r_s8Xmg...\n"
     ]
    },
    {
     "name": "stderr",
     "output_type": "stream",
     "text": [
      "Processing URLs:  88%|████████▊ | 386/438 [26:54<07:37,  8.80s/it]"
     ]
    },
    {
     "name": "stdout",
     "output_type": "stream",
     "text": [
      "\n",
      "Processing completed.\n",
      "-------------------------------- \n",
      "\n",
      "2024-02-21 15:38:49 - INFO - Scraping Data from: https://www.eversports.de/s/tsg-blau-gold-giessen-ev\n",
      "Pole Studio Data: 1 entries\n",
      "2024-02-21 15:38:49 - INFO - Scraping Data from: https://www.eversports.de/s/tsg-blau-gold-giessen-ev\n",
      "Workshops Data: 5 entries\n",
      "2024-02-21 15:38:49 - INFO - Scraping Data from: https://www.eversports.de/s/tsg-blau-gold-giessen-ev\n",
      "Workshop Details: 5 entries\n",
      "Starting URL reconstruction...\n"
     ]
    },
    {
     "name": "stderr",
     "output_type": "stream",
     "text": [
      "2024-02-21 15:38:50,882 - INFO - Processing URL 1/2: https://www.eversports.de/s/t-tanzstueck-braunschweig\n"
     ]
    },
    {
     "name": "stdout",
     "output_type": "stream",
     "text": [
      "Converting to DataFrame...\n",
      "Validating URLs...\n"
     ]
    },
    {
     "name": "stderr",
     "output_type": "stream",
     "text": [
      "2024-02-21 15:38:52,465 - INFO - URL https://www.eversports.de/s/t-tanzstueck-braunschweig is valid.\n",
      "2024-02-21 15:38:52,466 - INFO - Processing URL 2/2: https://www.eversports.de/sw/t-tanzstueck-braunschweig\n",
      "2024-02-21 15:38:53,863 - INFO - URL https://www.eversports.de/sw/t-tanzstueck-braunschweig is valid.\n"
     ]
    },
    {
     "name": "stdout",
     "output_type": "stream",
     "text": [
      "Scraping Pole Studio Data from https://www.eversports.de/s/t-tanzstueck-braunschweig...\n",
      "Scraping Workshops Data from https://www.eversports.de/sw/t-tanzstueck-braunschweig...\n",
      "Scraping Workshop Details from https://www.eversports.de/e/workshop/itCOcd3...\n"
     ]
    },
    {
     "name": "stderr",
     "output_type": "stream",
     "text": [
      "Processing URLs:  88%|████████▊ | 387/438 [27:02<07:13,  8.51s/it]"
     ]
    },
    {
     "name": "stdout",
     "output_type": "stream",
     "text": [
      "\n",
      "Processing completed.\n",
      "-------------------------------- \n",
      "\n",
      "2024-02-21 15:38:56 - INFO - Scraping Data from: https://www.eversports.de/s/t-tanzstueck-braunschweig\n",
      "Pole Studio Data: 1 entries\n",
      "2024-02-21 15:38:56 - INFO - Scraping Data from: https://www.eversports.de/s/t-tanzstueck-braunschweig\n",
      "Workshops Data: 1 entries\n",
      "2024-02-21 15:38:56 - INFO - Scraping Data from: https://www.eversports.de/s/t-tanzstueck-braunschweig\n",
      "Workshop Details: 1 entries\n",
      "Starting URL reconstruction...\n"
     ]
    },
    {
     "name": "stderr",
     "output_type": "stream",
     "text": [
      "2024-02-21 15:38:58,793 - INFO - Processing URL 1/1: https://www.eversports.de/s/health-and-shape-muenchen\n"
     ]
    },
    {
     "name": "stdout",
     "output_type": "stream",
     "text": [
      "Converting to DataFrame...\n",
      "Validating URLs...\n"
     ]
    },
    {
     "name": "stderr",
     "output_type": "stream",
     "text": [
      "2024-02-21 15:39:00,267 - INFO - URL https://www.eversports.de/s/health-and-shape-muenchen is valid.\n"
     ]
    },
    {
     "name": "stdout",
     "output_type": "stream",
     "text": [
      "Scraping Pole Studio Data from https://www.eversports.de/s/health-and-shape-muenchen...\n"
     ]
    },
    {
     "name": "stderr",
     "output_type": "stream",
     "text": [
      "Processing URLs:  89%|████████▊ | 388/438 [27:06<05:53,  7.06s/it]"
     ]
    },
    {
     "name": "stdout",
     "output_type": "stream",
     "text": [
      "\n",
      "Processing completed.\n",
      "-------------------------------- \n",
      "\n",
      "2024-02-21 15:39:00 - INFO - Scraping Data from: https://www.eversports.de/s/health-and-shape-muenchen\n",
      "Pole Studio Data: 1 entries\n",
      "Starting URL reconstruction...\n"
     ]
    },
    {
     "name": "stderr",
     "output_type": "stream",
     "text": [
      "2024-02-21 15:39:02,416 - INFO - Processing URL 1/1: https://www.eversports.de/s/feel-good-factory-pole-stretch-fly\n"
     ]
    },
    {
     "name": "stdout",
     "output_type": "stream",
     "text": [
      "Converting to DataFrame...\n",
      "Validating URLs...\n"
     ]
    },
    {
     "name": "stderr",
     "output_type": "stream",
     "text": [
      "2024-02-21 15:39:03,708 - INFO - URL https://www.eversports.de/s/feel-good-factory-pole-stretch-fly is valid.\n"
     ]
    },
    {
     "name": "stdout",
     "output_type": "stream",
     "text": [
      "Scraping Pole Studio Data from https://www.eversports.de/s/feel-good-factory-pole-stretch-fly...\n"
     ]
    },
    {
     "name": "stderr",
     "output_type": "stream",
     "text": [
      "Processing URLs:  89%|████████▉ | 389/438 [27:09<04:53,  5.99s/it]"
     ]
    },
    {
     "name": "stdout",
     "output_type": "stream",
     "text": [
      "\n",
      "Processing completed.\n",
      "-------------------------------- \n",
      "\n",
      "2024-02-21 15:39:04 - INFO - Scraping Data from: https://www.eversports.de/s/feel-good-factory-pole-stretch-fly\n",
      "Pole Studio Data: 1 entries\n",
      "Starting URL reconstruction...\n"
     ]
    },
    {
     "name": "stderr",
     "output_type": "stream",
     "text": [
      "2024-02-21 15:39:05,592 - INFO - Processing URL 1/2: https://www.eversports.de/s/dance-and-pole-leverkusen\n"
     ]
    },
    {
     "name": "stdout",
     "output_type": "stream",
     "text": [
      "Converting to DataFrame...\n",
      "Validating URLs...\n"
     ]
    },
    {
     "name": "stderr",
     "output_type": "stream",
     "text": [
      "2024-02-21 15:39:06,984 - INFO - URL https://www.eversports.de/s/dance-and-pole-leverkusen is valid.\n",
      "2024-02-21 15:39:06,986 - INFO - Processing URL 2/2: https://www.eversports.de/sw/dance-and-pole-leverkusen\n",
      "2024-02-21 15:39:08,713 - INFO - URL https://www.eversports.de/sw/dance-and-pole-leverkusen is valid.\n"
     ]
    },
    {
     "name": "stdout",
     "output_type": "stream",
     "text": [
      "Scraping Pole Studio Data from https://www.eversports.de/s/dance-and-pole-leverkusen...\n",
      "Scraping Workshops Data from https://www.eversports.de/sw/dance-and-pole-leverkusen...\n",
      "Scraping Workshop Details from https://www.eversports.de/e/workshop/II-gWEL...\n"
     ]
    },
    {
     "name": "stderr",
     "output_type": "stream",
     "text": [
      "Processing URLs:  89%|████████▉ | 390/438 [27:17<05:11,  6.48s/it]"
     ]
    },
    {
     "name": "stdout",
     "output_type": "stream",
     "text": [
      "\n",
      "Processing completed.\n",
      "-------------------------------- \n",
      "\n",
      "2024-02-21 15:39:11 - INFO - Scraping Data from: https://www.eversports.de/s/dance-and-pole-leverkusen\n",
      "Pole Studio Data: 1 entries\n",
      "2024-02-21 15:39:11 - INFO - Scraping Data from: https://www.eversports.de/s/dance-and-pole-leverkusen\n",
      "Workshops Data: 1 entries\n",
      "2024-02-21 15:39:11 - INFO - Scraping Data from: https://www.eversports.de/s/dance-and-pole-leverkusen\n",
      "Workshop Details: 1 entries\n",
      "Starting URL reconstruction...\n"
     ]
    },
    {
     "name": "stderr",
     "output_type": "stream",
     "text": [
      "Processing URLs:  89%|████████▉ | 391/438 [27:27<06:00,  7.66s/it]"
     ]
    },
    {
     "name": "stdout",
     "output_type": "stream",
     "text": [
      "Error during HTTP request: Exceeded 30 redirects.\n",
      "Converting to DataFrame...\n",
      "Validating URLs...\n",
      "\n",
      "Processing completed.\n",
      "-------------------------------- \n",
      "\n",
      "Starting URL reconstruction...\n"
     ]
    },
    {
     "name": "stderr",
     "output_type": "stream",
     "text": [
      "Processing URLs:  89%|████████▉ | 392/438 [27:29<04:29,  5.85s/it]"
     ]
    },
    {
     "name": "stdout",
     "output_type": "stream",
     "text": [
      "Error during HTTP request: 404 Client Error: Not Found for url: https://www.eversports.de/s/pole-faction-pole-dance-&-fitness\n",
      "Converting to DataFrame...\n",
      "Validating URLs...\n",
      "\n",
      "Processing completed.\n",
      "-------------------------------- \n",
      "\n",
      "Starting URL reconstruction...\n"
     ]
    },
    {
     "name": "stderr",
     "output_type": "stream",
     "text": [
      "Processing URLs:  90%|████████▉ | 393/438 [27:36<04:40,  6.22s/it]"
     ]
    },
    {
     "name": "stdout",
     "output_type": "stream",
     "text": [
      "Error during HTTP request: Exceeded 30 redirects.\n",
      "Converting to DataFrame...\n",
      "Validating URLs...\n",
      "\n",
      "Processing completed.\n",
      "-------------------------------- \n",
      "\n",
      "Starting URL reconstruction...\n"
     ]
    },
    {
     "name": "stderr",
     "output_type": "stream",
     "text": [
      "Processing URLs:  90%|████████▉ | 394/438 [27:37<03:25,  4.68s/it]"
     ]
    },
    {
     "name": "stdout",
     "output_type": "stream",
     "text": [
      "Error during HTTP request: 404 Client Error: Not Found for url: https://www.eversports.de/s/health-&-shape-m%C3%BCnchen\n",
      "Converting to DataFrame...\n",
      "Validating URLs...\n",
      "\n",
      "Processing completed.\n",
      "-------------------------------- \n",
      "\n",
      "Starting URL reconstruction...\n"
     ]
    },
    {
     "name": "stderr",
     "output_type": "stream",
     "text": [
      "Processing URLs:  90%|█████████ | 395/438 [27:40<02:57,  4.13s/it]"
     ]
    },
    {
     "name": "stdout",
     "output_type": "stream",
     "text": [
      "Error during HTTP request: Exceeded 30 redirects.\n",
      "Converting to DataFrame...\n",
      "Validating URLs...\n",
      "\n",
      "Processing completed.\n",
      "-------------------------------- \n",
      "\n",
      "Starting URL reconstruction...\n"
     ]
    },
    {
     "name": "stderr",
     "output_type": "stream",
     "text": [
      "Processing URLs:  90%|█████████ | 396/438 [27:41<02:15,  3.23s/it]"
     ]
    },
    {
     "name": "stdout",
     "output_type": "stream",
     "text": [
      "Error during HTTP request: 404 Client Error: Not Found for url: https://www.eversports.de/s/flexx-arts-aerial-dance-&-fitness\n",
      "Converting to DataFrame...\n",
      "Validating URLs...\n",
      "\n",
      "Processing completed.\n",
      "-------------------------------- \n",
      "\n",
      "Starting URL reconstruction...\n"
     ]
    },
    {
     "name": "stderr",
     "output_type": "stream",
     "text": [
      "Processing URLs:  91%|█████████ | 397/438 [27:45<02:15,  3.30s/it]"
     ]
    },
    {
     "name": "stdout",
     "output_type": "stream",
     "text": [
      "Error during HTTP request: Exceeded 30 redirects.\n",
      "Converting to DataFrame...\n",
      "Validating URLs...\n",
      "\n",
      "Processing completed.\n",
      "-------------------------------- \n",
      "\n",
      "Starting URL reconstruction...\n"
     ]
    },
    {
     "name": "stderr",
     "output_type": "stream",
     "text": [
      "Processing URLs:  91%|█████████ | 398/438 [27:48<02:11,  3.29s/it]"
     ]
    },
    {
     "name": "stdout",
     "output_type": "stream",
     "text": [
      "Error during HTTP request: Exceeded 30 redirects.\n",
      "Converting to DataFrame...\n",
      "Validating URLs...\n",
      "\n",
      "Processing completed.\n",
      "-------------------------------- \n",
      "\n",
      "Starting URL reconstruction...\n"
     ]
    },
    {
     "name": "stderr",
     "output_type": "stream",
     "text": [
      "Processing URLs:  91%|█████████ | 399/438 [27:51<02:04,  3.20s/it]"
     ]
    },
    {
     "name": "stdout",
     "output_type": "stream",
     "text": [
      "Error during HTTP request: Exceeded 30 redirects.\n",
      "Converting to DataFrame...\n",
      "Validating URLs...\n",
      "\n",
      "Processing completed.\n",
      "-------------------------------- \n",
      "\n",
      "Starting URL reconstruction...\n"
     ]
    },
    {
     "name": "stderr",
     "output_type": "stream",
     "text": [
      "Processing URLs:  91%|█████████▏| 400/438 [27:52<01:38,  2.58s/it]"
     ]
    },
    {
     "name": "stdout",
     "output_type": "stream",
     "text": [
      "Error during HTTP request: 404 Client Error: Not Found for url: https://www.eversports.de/s/pole-circus-a-+-k\n",
      "Converting to DataFrame...\n",
      "Validating URLs...\n",
      "\n",
      "Processing completed.\n",
      "-------------------------------- \n",
      "\n",
      "Starting URL reconstruction...\n"
     ]
    },
    {
     "name": "stderr",
     "output_type": "stream",
     "text": [
      "Processing URLs:  92%|█████████▏| 401/438 [27:55<01:43,  2.80s/it]"
     ]
    },
    {
     "name": "stdout",
     "output_type": "stream",
     "text": [
      "Error during HTTP request: Exceeded 30 redirects.\n",
      "Converting to DataFrame...\n",
      "Validating URLs...\n",
      "\n",
      "Processing completed.\n",
      "-------------------------------- \n",
      "\n",
      "Starting URL reconstruction...\n"
     ]
    },
    {
     "name": "stderr",
     "output_type": "stream",
     "text": [
      "Processing URLs:  92%|█████████▏| 402/438 [27:59<01:45,  2.93s/it]"
     ]
    },
    {
     "name": "stdout",
     "output_type": "stream",
     "text": [
      "Error during HTTP request: Exceeded 30 redirects.\n",
      "Converting to DataFrame...\n",
      "Validating URLs...\n",
      "\n",
      "Processing completed.\n",
      "-------------------------------- \n",
      "\n",
      "Starting URL reconstruction...\n"
     ]
    },
    {
     "name": "stderr",
     "output_type": "stream",
     "text": [
      "Processing URLs:  92%|█████████▏| 403/438 [28:04<02:09,  3.70s/it]"
     ]
    },
    {
     "name": "stdout",
     "output_type": "stream",
     "text": [
      "Error during HTTP request: Exceeded 30 redirects.\n",
      "Converting to DataFrame...\n",
      "Validating URLs...\n",
      "\n",
      "Processing completed.\n",
      "-------------------------------- \n",
      "\n",
      "Starting URL reconstruction...\n"
     ]
    },
    {
     "name": "stderr",
     "output_type": "stream",
     "text": [
      "Processing URLs:  92%|█████████▏| 404/438 [28:08<02:08,  3.77s/it]"
     ]
    },
    {
     "name": "stdout",
     "output_type": "stream",
     "text": [
      "Error during HTTP request: Exceeded 30 redirects.\n",
      "Converting to DataFrame...\n",
      "Validating URLs...\n",
      "\n",
      "Processing completed.\n",
      "-------------------------------- \n",
      "\n",
      "Starting URL reconstruction...\n"
     ]
    },
    {
     "name": "stderr",
     "output_type": "stream",
     "text": [
      "2024-02-21 15:40:04,217 - INFO - Processing URL 1/1: https://www.eversports.de/s/-pole-aerial-dance-souldance\n"
     ]
    },
    {
     "name": "stdout",
     "output_type": "stream",
     "text": [
      "Converting to DataFrame...\n",
      "Validating URLs...\n"
     ]
    },
    {
     "name": "stderr",
     "output_type": "stream",
     "text": [
      "2024-02-21 15:40:05,574 - INFO - URL https://www.eversports.de/s/-pole-aerial-dance-souldance is valid.\n"
     ]
    },
    {
     "name": "stdout",
     "output_type": "stream",
     "text": [
      "Scraping Pole Studio Data from https://www.eversports.de/s/-pole-aerial-dance-souldance...\n"
     ]
    },
    {
     "name": "stderr",
     "output_type": "stream",
     "text": [
      "Processing URLs:  92%|█████████▏| 405/438 [28:11<01:59,  3.61s/it]"
     ]
    },
    {
     "name": "stdout",
     "output_type": "stream",
     "text": [
      "\n",
      "Processing completed.\n",
      "-------------------------------- \n",
      "\n",
      "2024-02-21 15:40:06 - INFO - Scraping Data from: https://www.eversports.de/s/-pole-aerial-dance-souldance\n",
      "Pole Studio Data: 1 entries\n",
      "Starting URL reconstruction...\n"
     ]
    },
    {
     "name": "stderr",
     "output_type": "stream",
     "text": [
      "Processing URLs:  93%|█████████▎| 406/438 [28:12<01:31,  2.86s/it]"
     ]
    },
    {
     "name": "stdout",
     "output_type": "stream",
     "text": [
      "Error during HTTP request: 404 Client Error: Not Found for url: https://www.eversports.de/s/lustforlife.studio\n",
      "Converting to DataFrame...\n",
      "Validating URLs...\n",
      "\n",
      "Processing completed.\n",
      "-------------------------------- \n",
      "\n",
      "Starting URL reconstruction...\n"
     ]
    },
    {
     "name": "stderr",
     "output_type": "stream",
     "text": [
      "Processing URLs:  93%|█████████▎| 407/438 [28:13<01:12,  2.34s/it]"
     ]
    },
    {
     "name": "stdout",
     "output_type": "stream",
     "text": [
      "Error during HTTP request: 404 Client Error: Not Found for url: https://www.eversports.de/s/passionate-pole-&-sports\n",
      "Converting to DataFrame...\n",
      "Validating URLs...\n",
      "\n",
      "Processing completed.\n",
      "-------------------------------- \n",
      "\n",
      "Starting URL reconstruction...\n"
     ]
    },
    {
     "name": "stderr",
     "output_type": "stream",
     "text": [
      "Processing URLs:  93%|█████████▎| 408/438 [28:15<00:59,  1.99s/it]"
     ]
    },
    {
     "name": "stdout",
     "output_type": "stream",
     "text": [
      "Error during HTTP request: 404 Client Error: Not Found for url: https://www.eversports.de/s/yh-pole-(and)-sports-berlin\n",
      "Converting to DataFrame...\n",
      "Validating URLs...\n",
      "\n",
      "Processing completed.\n",
      "-------------------------------- \n",
      "\n",
      "Starting URL reconstruction...\n"
     ]
    },
    {
     "name": "stderr",
     "output_type": "stream",
     "text": [
      "Processing URLs:  93%|█████████▎| 409/438 [28:16<00:50,  1.74s/it]"
     ]
    },
    {
     "name": "stdout",
     "output_type": "stream",
     "text": [
      "Error during HTTP request: 404 Client Error: Not Found for url: https://www.eversports.de/s/annaconda-pole-&-fitness\n",
      "Converting to DataFrame...\n",
      "Validating URLs...\n",
      "\n",
      "Processing completed.\n",
      "-------------------------------- \n",
      "\n",
      "Starting URL reconstruction...\n"
     ]
    },
    {
     "name": "stderr",
     "output_type": "stream",
     "text": [
      "Processing URLs:  94%|█████████▎| 410/438 [28:17<00:43,  1.55s/it]"
     ]
    },
    {
     "name": "stdout",
     "output_type": "stream",
     "text": [
      "Error during HTTP request: 404 Client Error: Not Found for url: https://www.eversports.de/s/dance-&-pole-leverkusen\n",
      "Converting to DataFrame...\n",
      "Validating URLs...\n",
      "\n",
      "Processing completed.\n",
      "-------------------------------- \n",
      "\n",
      "Starting URL reconstruction...\n"
     ]
    },
    {
     "name": "stderr",
     "output_type": "stream",
     "text": [
      "Processing URLs:  94%|█████████▍| 411/438 [28:18<00:37,  1.40s/it]"
     ]
    },
    {
     "name": "stdout",
     "output_type": "stream",
     "text": [
      "Error during HTTP request: 404 Client Error: Not Found for url: https://www.eversports.de/s/dance-&-pole-langenfeld\n",
      "Converting to DataFrame...\n",
      "Validating URLs...\n",
      "\n",
      "Processing completed.\n",
      "-------------------------------- \n",
      "\n",
      "Starting URL reconstruction...\n"
     ]
    },
    {
     "name": "stderr",
     "output_type": "stream",
     "text": [
      "Processing URLs:  94%|█████████▍| 412/438 [28:19<00:34,  1.32s/it]"
     ]
    },
    {
     "name": "stdout",
     "output_type": "stream",
     "text": [
      "Error during HTTP request: 404 Client Error: Not Found for url: https://www.eversports.de/s/dance-&-pole-deltawerk\n",
      "Converting to DataFrame...\n",
      "Validating URLs...\n",
      "\n",
      "Processing completed.\n",
      "-------------------------------- \n",
      "\n",
      "Starting URL reconstruction...\n"
     ]
    },
    {
     "name": "stderr",
     "output_type": "stream",
     "text": [
      "Processing URLs:  94%|█████████▍| 413/438 [28:20<00:30,  1.23s/it]"
     ]
    },
    {
     "name": "stdout",
     "output_type": "stream",
     "text": [
      "Error during HTTP request: 404 Client Error: Not Found for url: https://www.eversports.de/s/verticalarts-pole-&-aerial-fitness\n",
      "Converting to DataFrame...\n",
      "Validating URLs...\n",
      "\n",
      "Processing completed.\n",
      "-------------------------------- \n",
      "\n",
      "Starting URL reconstruction...\n"
     ]
    },
    {
     "name": "stderr",
     "output_type": "stream",
     "text": [
      "Processing URLs:  95%|█████████▍| 414/438 [28:21<00:29,  1.23s/it]"
     ]
    },
    {
     "name": "stdout",
     "output_type": "stream",
     "text": [
      "Error during HTTP request: 404 Client Error: Not Found for url: https://www.eversports.de/s/move-lounge-pilates,-powerplate,-trx,-personaltraining\n",
      "Converting to DataFrame...\n",
      "Validating URLs...\n",
      "\n",
      "Processing completed.\n",
      "-------------------------------- \n",
      "\n",
      "Starting URL reconstruction...\n"
     ]
    },
    {
     "name": "stderr",
     "output_type": "stream",
     "text": [
      "Processing URLs:  95%|█████████▍| 415/438 [28:23<00:27,  1.22s/it]"
     ]
    },
    {
     "name": "stdout",
     "output_type": "stream",
     "text": [
      "Error during HTTP request: 404 Client Error: Not Found for url: https://www.eversports.de/s/polerina's-poledance\n",
      "Converting to DataFrame...\n",
      "Validating URLs...\n",
      "\n",
      "Processing completed.\n",
      "-------------------------------- \n",
      "\n",
      "Starting URL reconstruction...\n"
     ]
    },
    {
     "name": "stderr",
     "output_type": "stream",
     "text": [
      "Processing URLs:  95%|█████████▍| 416/438 [28:24<00:25,  1.16s/it]"
     ]
    },
    {
     "name": "stdout",
     "output_type": "stream",
     "text": [
      "Error during HTTP request: 404 Client Error: Not Found for url: https://www.eversports.de/s/move-on!-dance-studio-&-polemotions\n",
      "Converting to DataFrame...\n",
      "Validating URLs...\n",
      "\n",
      "Processing completed.\n",
      "-------------------------------- \n",
      "\n",
      "Starting URL reconstruction...\n"
     ]
    },
    {
     "name": "stderr",
     "output_type": "stream",
     "text": [
      "Processing URLs:  95%|█████████▌| 417/438 [28:25<00:24,  1.17s/it]"
     ]
    },
    {
     "name": "stdout",
     "output_type": "stream",
     "text": [
      "Error during HTTP request: 404 Client Error: Not Found for url: https://www.eversports.de/s/mmc-dance-&-event-studio\n",
      "Converting to DataFrame...\n",
      "Validating URLs...\n",
      "\n",
      "Processing completed.\n",
      "-------------------------------- \n",
      "\n",
      "Starting URL reconstruction...\n"
     ]
    },
    {
     "name": "stderr",
     "output_type": "stream",
     "text": [
      "Processing URLs:  95%|█████████▌| 418/438 [28:26<00:22,  1.14s/it]"
     ]
    },
    {
     "name": "stdout",
     "output_type": "stream",
     "text": [
      "Error during HTTP request: 404 Client Error: Not Found for url: https://www.eversports.de/s/anni's-pole-dance-neum%C3%BCnster\n",
      "Converting to DataFrame...\n",
      "Validating URLs...\n",
      "\n",
      "Processing completed.\n",
      "-------------------------------- \n",
      "\n",
      "Starting URL reconstruction...\n"
     ]
    },
    {
     "name": "stderr",
     "output_type": "stream",
     "text": [
      "Processing URLs:  96%|█████████▌| 419/438 [28:27<00:21,  1.13s/it]"
     ]
    },
    {
     "name": "stdout",
     "output_type": "stream",
     "text": [
      "Error during HTTP request: 404 Client Error: Not Found for url: https://www.eversports.de/s/dayuma-pole-&-acrobatics\n",
      "Converting to DataFrame...\n",
      "Validating URLs...\n",
      "\n",
      "Processing completed.\n",
      "-------------------------------- \n",
      "\n",
      "Starting URL reconstruction...\n"
     ]
    },
    {
     "name": "stderr",
     "output_type": "stream",
     "text": [
      "2024-02-21 15:40:23,097 - INFO - Processing URL 1/1: https://www.eversports.de/s/koerperformfabrik-gbr\n"
     ]
    },
    {
     "name": "stdout",
     "output_type": "stream",
     "text": [
      "Converting to DataFrame...\n",
      "Validating URLs...\n"
     ]
    },
    {
     "name": "stderr",
     "output_type": "stream",
     "text": [
      "2024-02-21 15:40:25,641 - INFO - URL https://www.eversports.de/s/koerperformfabrik-gbr is valid.\n"
     ]
    },
    {
     "name": "stdout",
     "output_type": "stream",
     "text": [
      "Scraping Pole Studio Data from https://www.eversports.de/s/koerperformfabrik-gbr...\n"
     ]
    },
    {
     "name": "stderr",
     "output_type": "stream",
     "text": [
      "Processing URLs:  96%|█████████▌| 420/438 [28:31<00:37,  2.08s/it]"
     ]
    },
    {
     "name": "stdout",
     "output_type": "stream",
     "text": [
      "\n",
      "Processing completed.\n",
      "-------------------------------- \n",
      "\n",
      "2024-02-21 15:40:26 - INFO - Scraping Data from: https://www.eversports.de/s/koerperformfabrik-gbr\n",
      "Pole Studio Data: 1 entries\n",
      "Starting URL reconstruction...\n"
     ]
    },
    {
     "name": "stderr",
     "output_type": "stream",
     "text": [
      "Processing URLs:  96%|█████████▌| 421/438 [28:33<00:31,  1.87s/it]"
     ]
    },
    {
     "name": "stdout",
     "output_type": "stream",
     "text": [
      "Error during HTTP request: 404 Client Error: Not Found for url: https://www.eversports.de/s/verticalarts-pole-and-aerial-fitness\n",
      "Converting to DataFrame...\n",
      "Validating URLs...\n",
      "\n",
      "Processing completed.\n",
      "-------------------------------- \n",
      "\n",
      "Starting URL reconstruction...\n"
     ]
    },
    {
     "name": "stderr",
     "output_type": "stream",
     "text": [
      "2024-02-21 15:40:28,726 - INFO - Processing URL 1/2: https://www.eversports.de/s/lespole\n"
     ]
    },
    {
     "name": "stdout",
     "output_type": "stream",
     "text": [
      "Converting to DataFrame...\n",
      "Validating URLs...\n"
     ]
    },
    {
     "name": "stderr",
     "output_type": "stream",
     "text": [
      "2024-02-21 15:40:30,114 - INFO - URL https://www.eversports.de/s/lespole is valid.\n",
      "2024-02-21 15:40:30,115 - INFO - Processing URL 2/2: https://www.eversports.de/sw/lespole\n",
      "2024-02-21 15:40:31,842 - INFO - URL https://www.eversports.de/sw/lespole is valid.\n"
     ]
    },
    {
     "name": "stdout",
     "output_type": "stream",
     "text": [
      "Scraping Pole Studio Data from https://www.eversports.de/s/lespole...\n",
      "Scraping Workshops Data from https://www.eversports.de/sw/lespole...\n",
      "Scraping Workshop Details from https://www.eversports.de/e/workshop/ph8TlfO...\n",
      "Scraping Workshop Details from https://www.eversports.de/e/workshop/4lKTG4R...\n",
      "Scraping Workshop Details from https://www.eversports.de/e/workshop/lByHwWr...\n",
      "Scraping Workshop Details from https://www.eversports.de/e/workshop/VC_twiJ...\n",
      "Scraping Workshop Details from https://www.eversports.de/e/workshop/L-VuR9j...\n"
     ]
    },
    {
     "name": "stderr",
     "output_type": "stream",
     "text": [
      "Processing URLs:  96%|█████████▋| 422/438 [28:46<01:23,  5.23s/it]"
     ]
    },
    {
     "name": "stdout",
     "output_type": "stream",
     "text": [
      "\n",
      "Processing completed.\n",
      "-------------------------------- \n",
      "\n",
      "2024-02-21 15:40:40 - INFO - Scraping Data from: https://www.eversports.de/s/lespole\n",
      "Pole Studio Data: 1 entries\n",
      "2024-02-21 15:40:40 - INFO - Scraping Data from: https://www.eversports.de/s/lespole\n",
      "Workshops Data: 5 entries\n",
      "2024-02-21 15:40:40 - INFO - Scraping Data from: https://www.eversports.de/s/lespole\n",
      "Workshop Details: 5 entries\n",
      "Starting URL reconstruction...\n"
     ]
    },
    {
     "name": "stderr",
     "output_type": "stream",
     "text": [
      "2024-02-21 15:40:42,103 - INFO - Processing URL 1/1: https://www.eversports.de/s/t-tanzstueck-wolfsburg\n"
     ]
    },
    {
     "name": "stdout",
     "output_type": "stream",
     "text": [
      "Converting to DataFrame...\n",
      "Validating URLs...\n"
     ]
    },
    {
     "name": "stderr",
     "output_type": "stream",
     "text": [
      "2024-02-21 15:40:43,441 - INFO - URL https://www.eversports.de/s/t-tanzstueck-wolfsburg is valid.\n"
     ]
    },
    {
     "name": "stdout",
     "output_type": "stream",
     "text": [
      "Scraping Pole Studio Data from https://www.eversports.de/s/t-tanzstueck-wolfsburg...\n"
     ]
    },
    {
     "name": "stderr",
     "output_type": "stream",
     "text": [
      "Processing URLs:  97%|█████████▋| 423/438 [28:49<01:11,  4.76s/it]"
     ]
    },
    {
     "name": "stdout",
     "output_type": "stream",
     "text": [
      "\n",
      "Processing completed.\n",
      "-------------------------------- \n",
      "\n",
      "2024-02-21 15:40:44 - INFO - Scraping Data from: https://www.eversports.de/s/t-tanzstueck-wolfsburg\n",
      "Pole Studio Data: 1 entries\n",
      "Starting URL reconstruction...\n"
     ]
    },
    {
     "name": "stderr",
     "output_type": "stream",
     "text": [
      "2024-02-21 15:40:45,846 - INFO - Processing URL 1/1: https://www.eversports.de/s/move-on-dance-studio-and-polemotions\n"
     ]
    },
    {
     "name": "stdout",
     "output_type": "stream",
     "text": [
      "Converting to DataFrame...\n",
      "Validating URLs...\n"
     ]
    },
    {
     "name": "stderr",
     "output_type": "stream",
     "text": [
      "2024-02-21 15:40:47,300 - INFO - URL https://www.eversports.de/s/move-on-dance-studio-and-polemotions is valid.\n"
     ]
    },
    {
     "name": "stdout",
     "output_type": "stream",
     "text": [
      "Scraping Pole Studio Data from https://www.eversports.de/s/move-on-dance-studio-and-polemotions...\n"
     ]
    },
    {
     "name": "stderr",
     "output_type": "stream",
     "text": [
      "Processing URLs:  97%|█████████▋| 424/438 [28:54<01:04,  4.60s/it]"
     ]
    },
    {
     "name": "stdout",
     "output_type": "stream",
     "text": [
      "\n",
      "Processing completed.\n",
      "-------------------------------- \n",
      "\n",
      "2024-02-21 15:40:48 - INFO - Scraping Data from: https://www.eversports.de/s/move-on-dance-studio-and-polemotions\n",
      "Pole Studio Data: 1 entries\n",
      "Starting URL reconstruction...\n"
     ]
    },
    {
     "name": "stderr",
     "output_type": "stream",
     "text": [
      "Processing URLs:  97%|█████████▋| 425/438 [28:55<00:47,  3.62s/it]"
     ]
    },
    {
     "name": "stdout",
     "output_type": "stream",
     "text": [
      "Error during HTTP request: 404 Client Error: Not Found for url: https://www.eversports.de/s/tsg-blau-gold-ballett-und-pole-dance-studio\n",
      "Converting to DataFrame...\n",
      "Validating URLs...\n",
      "\n",
      "Processing completed.\n",
      "-------------------------------- \n",
      "\n",
      "Starting URL reconstruction...\n"
     ]
    },
    {
     "name": "stderr",
     "output_type": "stream",
     "text": [
      "2024-02-21 15:40:52,209 - INFO - Processing URL 1/1: https://www.eversports.de/s/indeed-unique-studio-wien\n"
     ]
    },
    {
     "name": "stdout",
     "output_type": "stream",
     "text": [
      "Converting to DataFrame...\n",
      "Validating URLs...\n"
     ]
    },
    {
     "name": "stderr",
     "output_type": "stream",
     "text": [
      "2024-02-21 15:40:53,543 - INFO - URL https://www.eversports.de/s/indeed-unique-studio-wien is valid.\n"
     ]
    },
    {
     "name": "stdout",
     "output_type": "stream",
     "text": [
      "Scraping Pole Studio Data from https://www.eversports.de/s/indeed-unique-studio-wien...\n"
     ]
    },
    {
     "name": "stderr",
     "output_type": "stream",
     "text": [
      "Processing URLs:  97%|█████████▋| 426/438 [28:59<00:46,  3.88s/it]"
     ]
    },
    {
     "name": "stdout",
     "output_type": "stream",
     "text": [
      "\n",
      "Processing completed.\n",
      "-------------------------------- \n",
      "\n",
      "2024-02-21 15:40:54 - INFO - Scraping Data from: https://www.eversports.de/s/indeed-unique-studio-wien\n",
      "Pole Studio Data: 1 entries\n",
      "Starting URL reconstruction...\n"
     ]
    },
    {
     "name": "stderr",
     "output_type": "stream",
     "text": [
      "Processing URLs:  97%|█████████▋| 427/438 [29:01<00:33,  3.06s/it]"
     ]
    },
    {
     "name": "stdout",
     "output_type": "stream",
     "text": [
      "Error during HTTP request: 404 Client Error: Not Found for url: https://www.eversports.de/s/metropole-dance-now2\n",
      "Converting to DataFrame...\n",
      "Validating URLs...\n",
      "\n",
      "Processing completed.\n",
      "-------------------------------- \n",
      "\n",
      "Starting URL reconstruction...\n"
     ]
    },
    {
     "name": "stderr",
     "output_type": "stream",
     "text": [
      "Processing URLs:  98%|█████████▊| 428/438 [29:02<00:24,  2.49s/it]"
     ]
    },
    {
     "name": "stdout",
     "output_type": "stream",
     "text": [
      "Error during HTTP request: 404 Client Error: Not Found for url: https://www.eversports.de/s/pole-arts-saarland\n",
      "Converting to DataFrame...\n",
      "Validating URLs...\n",
      "\n",
      "Processing completed.\n",
      "-------------------------------- \n",
      "\n",
      "Starting URL reconstruction...\n"
     ]
    },
    {
     "name": "stderr",
     "output_type": "stream",
     "text": [
      "Processing URLs:  98%|█████████▊| 429/438 [29:03<00:19,  2.11s/it]"
     ]
    },
    {
     "name": "stdout",
     "output_type": "stream",
     "text": [
      "Error during HTTP request: 404 Client Error: Not Found for url: https://www.eversports.de/s/ironx\n",
      "Converting to DataFrame...\n",
      "Validating URLs...\n",
      "\n",
      "Processing completed.\n",
      "-------------------------------- \n",
      "\n",
      "Starting URL reconstruction...\n"
     ]
    },
    {
     "name": "stderr",
     "output_type": "stream",
     "text": [
      "Processing URLs:  98%|█████████▊| 430/438 [29:04<00:14,  1.83s/it]"
     ]
    },
    {
     "name": "stdout",
     "output_type": "stream",
     "text": [
      "Error during HTTP request: 404 Client Error: Not Found for url: https://www.eversports.de/s/zero-gravity-pole\n",
      "Converting to DataFrame...\n",
      "Validating URLs...\n",
      "\n",
      "Processing completed.\n",
      "-------------------------------- \n",
      "\n",
      "Starting URL reconstruction...\n"
     ]
    },
    {
     "name": "stderr",
     "output_type": "stream",
     "text": [
      "Processing URLs:  98%|█████████▊| 431/438 [29:05<00:11,  1.62s/it]"
     ]
    },
    {
     "name": "stdout",
     "output_type": "stream",
     "text": [
      "Error during HTTP request: 404 Client Error: Not Found for url: https://www.eversports.de/s/aerial-athletix\n",
      "Converting to DataFrame...\n",
      "Validating URLs...\n",
      "\n",
      "Processing completed.\n",
      "-------------------------------- \n",
      "\n",
      "Starting URL reconstruction...\n"
     ]
    },
    {
     "name": "stderr",
     "output_type": "stream",
     "text": [
      "Processing URLs:  99%|█████████▊| 432/438 [29:06<00:08,  1.47s/it]"
     ]
    },
    {
     "name": "stdout",
     "output_type": "stream",
     "text": [
      "Error during HTTP request: 404 Client Error: Not Found for url: https://www.eversports.de/s/lift-off-poledance-academy-frankfurt\n",
      "Converting to DataFrame...\n",
      "Validating URLs...\n",
      "\n",
      "Processing completed.\n",
      "-------------------------------- \n",
      "\n",
      "Starting URL reconstruction...\n"
     ]
    },
    {
     "name": "stderr",
     "output_type": "stream",
     "text": [
      "Processing URLs:  99%|█████████▉| 433/438 [29:08<00:07,  1.41s/it]"
     ]
    },
    {
     "name": "stdout",
     "output_type": "stream",
     "text": [
      "Error during HTTP request: 404 Client Error: Not Found for url: https://www.eversports.de/s/metropole-dance-now1\n",
      "Converting to DataFrame...\n",
      "Validating URLs...\n",
      "\n",
      "Processing completed.\n",
      "-------------------------------- \n",
      "\n",
      "Starting URL reconstruction...\n"
     ]
    },
    {
     "name": "stderr",
     "output_type": "stream",
     "text": [
      "Processing URLs:  99%|█████████▉| 434/438 [29:09<00:05,  1.34s/it]"
     ]
    },
    {
     "name": "stdout",
     "output_type": "stream",
     "text": [
      "Error during HTTP request: 404 Client Error: Not Found for url: https://www.eversports.de/s/vertical-pole-aerial-dance-aschaffenburg\n",
      "Converting to DataFrame...\n",
      "Validating URLs...\n",
      "\n",
      "Processing completed.\n",
      "-------------------------------- \n",
      "\n",
      "Starting URL reconstruction...\n"
     ]
    },
    {
     "name": "stderr",
     "output_type": "stream",
     "text": [
      "Processing URLs:  99%|█████████▉| 435/438 [29:10<00:03,  1.32s/it]"
     ]
    },
    {
     "name": "stdout",
     "output_type": "stream",
     "text": [
      "Error during HTTP request: 404 Client Error: Not Found for url: https://www.eversports.de/s/lift-off-poledance-academy-viersen\n",
      "Converting to DataFrame...\n",
      "Validating URLs...\n",
      "\n",
      "Processing completed.\n",
      "-------------------------------- \n",
      "\n",
      "Starting URL reconstruction...\n"
     ]
    },
    {
     "name": "stderr",
     "output_type": "stream",
     "text": [
      "Processing URLs: 100%|█████████▉| 436/438 [29:11<00:02,  1.29s/it]"
     ]
    },
    {
     "name": "stdout",
     "output_type": "stream",
     "text": [
      "Error during HTTP request: 404 Client Error: Not Found for url: https://www.eversports.de/s/pole2dance-vertical-fitness-and-dance-company\n",
      "Converting to DataFrame...\n",
      "Validating URLs...\n",
      "\n",
      "Processing completed.\n",
      "-------------------------------- \n",
      "\n",
      "Starting URL reconstruction...\n"
     ]
    },
    {
     "name": "stderr",
     "output_type": "stream",
     "text": [
      "Processing URLs: 100%|█████████▉| 437/438 [29:12<00:01,  1.23s/it]"
     ]
    },
    {
     "name": "stdout",
     "output_type": "stream",
     "text": [
      "Error during HTTP request: 404 Client Error: Not Found for url: https://www.eversports.de/s/unique-studios\n",
      "Converting to DataFrame...\n",
      "Validating URLs...\n",
      "\n",
      "Processing completed.\n",
      "-------------------------------- \n",
      "\n",
      "Starting URL reconstruction...\n"
     ]
    },
    {
     "name": "stderr",
     "output_type": "stream",
     "text": [
      "2024-02-21 15:41:08,457 - INFO - Processing URL 1/1: https://www.eversports.de/s/pole-circus\n"
     ]
    },
    {
     "name": "stdout",
     "output_type": "stream",
     "text": [
      "Converting to DataFrame...\n",
      "Validating URLs...\n"
     ]
    },
    {
     "name": "stderr",
     "output_type": "stream",
     "text": [
      "2024-02-21 15:41:09,844 - INFO - URL https://www.eversports.de/s/pole-circus is valid.\n"
     ]
    },
    {
     "name": "stdout",
     "output_type": "stream",
     "text": [
      "Scraping Pole Studio Data from https://www.eversports.de/s/pole-circus...\n"
     ]
    },
    {
     "name": "stderr",
     "output_type": "stream",
     "text": [
      "Processing URLs: 100%|██████████| 438/438 [29:15<00:00,  4.01s/it]"
     ]
    },
    {
     "name": "stdout",
     "output_type": "stream",
     "text": [
      "\n",
      "Processing completed.\n",
      "-------------------------------- \n",
      "\n",
      "2024-02-21 15:41:10 - INFO - Scraping Data from: https://www.eversports.de/s/pole-circus\n",
      "Pole Studio Data: 1 entries\n"
     ]
    },
    {
     "name": "stderr",
     "output_type": "stream",
     "text": [
      "\n"
     ]
    }
   ],
   "source": [
    "import pandas as pd\n",
    "from a_PyCaller import process_urls\n",
    "from tqdm import tqdm\n",
    "from datetime import datetime\n",
    "\n",
    "def process_and_print_results(url, all_pole_studio_data, all_workshops_data, all_workshop_details_data, all_urls_data):\n",
    "    data = process_urls([url])\n",
    "\n",
    "    if data:\n",
    "        for key, df in data.items():\n",
    "            if df is not None and not df.empty:\n",
    "                tqdm.write(f\"{datetime.now().strftime('%Y-%m-%d %H:%M:%S')} - INFO - Scraping Data from: {url}\")\n",
    "                tqdm.write(f\"{key.replace('_', ' ').title()}: {len(df)} entries\")\n",
    "\n",
    "                # Update the appropriate DataFrame\n",
    "                if key == 'pole_studio_data':\n",
    "                    all_pole_studio_data = pd.concat([all_pole_studio_data, df], ignore_index=True)\n",
    "                elif key == 'workshops_data':\n",
    "                    all_workshops_data = pd.concat([all_workshops_data, df], ignore_index=True)\n",
    "                elif key == 'workshop_details':\n",
    "                    all_workshop_details_data = pd.concat([all_workshop_details_data, df], ignore_index=True)\n",
    "\n",
    "    # Add URLs to DataFrame\n",
    "    all_urls_data = pd.concat([all_urls_data, pd.DataFrame({'URL': [url]})], ignore_index=True)\n",
    "\n",
    "    return all_pole_studio_data, all_workshops_data, all_workshop_details_data, all_urls_data\n",
    "\n",
    "def main():\n",
    "    # # Load initial URLs\n",
    "    # all_found_urls_s = pd.read_csv(\"your_output_file.csv\")\n",
    "    # initial_urls = list(set(all_found_urls_s[\"0\"])) # Delete \"[:3]\" to scrape all Urls\n",
    "\n",
    "    # Initialize DataFrames\n",
    "    all_pole_studio_data = pd.DataFrame()\n",
    "    all_workshops_data = pd.DataFrame()\n",
    "    all_workshop_details_data = pd.DataFrame()\n",
    "    all_urls_data = pd.DataFrame(columns=['URL'])\n",
    "\n",
    "    # Process each URL with tqdm\n",
    "    with tqdm(initial_urls, desc=\"Processing URLs\", dynamic_ncols=True) as pbar:\n",
    "        for url in pbar:\n",
    "            all_pole_studio_data, all_workshops_data, all_workshop_details_data, all_urls_data = process_and_print_results(\n",
    "                url, all_pole_studio_data, all_workshops_data, all_workshop_details_data, all_urls_data\n",
    "            )\n",
    "\n",
    "    # Export DataFrames to CSV files\n",
    "    all_pole_studio_data.to_csv(\"Pole_Studio_Übersicht_S.csv\", index=False)\n",
    "    all_workshops_data.to_csv(\"Workshop_Liste_SW.csv\", index=False)\n",
    "    all_workshop_details_data.to_csv(\"Workshop_Übersicht_E.csv\", index=False)\n",
    "    all_urls_data.to_csv(\"All_URLs.csv\", index=False)\n",
    "\n",
    "    # Return the final DataFrames\n",
    "    return all_pole_studio_data, all_workshops_data, all_workshop_details_data, all_urls_data\n",
    "\n",
    "# Run the main function and get the final DataFrames\n",
    "result_pole_studio, result_workshops, result_workshop_details, result_urls = main()\n"
   ]
  },
  {
   "cell_type": "code",
   "execution_count": 8,
   "metadata": {},
   "outputs": [
    {
     "data": {
      "text/html": [
       "<div>\n",
       "<style scoped>\n",
       "    .dataframe tbody tr th:only-of-type {\n",
       "        vertical-align: middle;\n",
       "    }\n",
       "\n",
       "    .dataframe tbody tr th {\n",
       "        vertical-align: top;\n",
       "    }\n",
       "\n",
       "    .dataframe thead th {\n",
       "        text-align: right;\n",
       "    }\n",
       "</style>\n",
       "<table border=\"1\" class=\"dataframe\">\n",
       "  <thead>\n",
       "    <tr style=\"text-align: right;\">\n",
       "      <th></th>\n",
       "      <th>PoleStudio_Name</th>\n",
       "      <th>Adresse</th>\n",
       "      <th>PLZ</th>\n",
       "      <th>Stadt</th>\n",
       "      <th>Straße</th>\n",
       "      <th>Buttons</th>\n",
       "      <th>Pole Studio Beschreibung</th>\n",
       "      <th>E-Mail</th>\n",
       "      <th>Homepage</th>\n",
       "      <th>Telefon</th>\n",
       "      <th>URL_S</th>\n",
       "      <th>Art</th>\n",
       "      <th>Angebot</th>\n",
       "      <th>Created Date</th>\n",
       "      <th>Updated Date</th>\n",
       "    </tr>\n",
       "  </thead>\n",
       "  <tbody>\n",
       "    <tr>\n",
       "      <th>0</th>\n",
       "      <td>Tanzstudio Michel</td>\n",
       "      <td>[Schmalweg 50 ,  55252 Wiesbaden]</td>\n",
       "      <td>55252</td>\n",
       "      <td>Wiesbaden</td>\n",
       "      <td>Schmalweg 50</td>\n",
       "      <td>[Übersicht, Klassen, Preise, Team]</td>\n",
       "      <td>Das etablierte Tanzstudio in Wiesbaden bietet ...</td>\n",
       "      <td>t.michel.9@gmx.de</td>\n",
       "      <td>https://www.tanzstudio-michel.de/</td>\n",
       "      <td>+49 15115125871</td>\n",
       "      <td>https://www.eversports.de/s/tanzstudio-michel</td>\n",
       "      <td>[1 Rezensionen, Fitness, Tanzen, Poledance, St...</td>\n",
       "      <td>Zum Stundenplan</td>\n",
       "      <td>2024-02-21 15:12:18</td>\n",
       "      <td>2024-02-21 15:12:18</td>\n",
       "    </tr>\n",
       "    <tr>\n",
       "      <th>1</th>\n",
       "      <td>Polestation Academy</td>\n",
       "      <td>[Marktstraße 20b ,  6971 Hard]</td>\n",
       "      <td>6971</td>\n",
       "      <td>Hard</td>\n",
       "      <td>Marktstraße 20b</td>\n",
       "      <td>[Übersicht, Klassen, Videos, Preise, Team]</td>\n",
       "      <td>Polestation Academy ist ein Ort für Pole und A...</td>\n",
       "      <td>blum.n@gmx.at</td>\n",
       "      <td>http://www.polestation.com</td>\n",
       "      <td>+43 6642006568</td>\n",
       "      <td>https://www.eversports.de/s/polestation-academy</td>\n",
       "      <td>[Poledance, Poledance, Poledance, Poledance, P...</td>\n",
       "      <td>Zum Stundenplan</td>\n",
       "      <td>2024-02-21 15:12:26</td>\n",
       "      <td>2024-02-21 15:12:26</td>\n",
       "    </tr>\n",
       "    <tr>\n",
       "      <th>2</th>\n",
       "      <td>Poledance 4 you</td>\n",
       "      <td>[Naugarder Straße 14,  10409 Berlin]</td>\n",
       "      <td>10409</td>\n",
       "      <td>Berlin</td>\n",
       "      <td>Naugarder Straße 14</td>\n",
       "      <td>[Übersicht]</td>\n",
       "      <td>Das Motto des Berliner Pole Dance Studios laut...</td>\n",
       "      <td>info@poledance4you.de</td>\n",
       "      <td>https://www.poledance4you.de/</td>\n",
       "      <td>None</td>\n",
       "      <td>https://www.eversports.de/s/poledance-4-you</td>\n",
       "      <td>[(Noch keine Bewertungen), Poledance]</td>\n",
       "      <td>None</td>\n",
       "      <td>2024-02-21 15:12:32</td>\n",
       "      <td>2024-02-21 15:12:32</td>\n",
       "    </tr>\n",
       "    <tr>\n",
       "      <th>3</th>\n",
       "      <td>Luftbonbon</td>\n",
       "      <td>[Königstraße 45 ,  32547 Bad Oeynhausen]</td>\n",
       "      <td>32547</td>\n",
       "      <td>Bad</td>\n",
       "      <td>Königstraße 45</td>\n",
       "      <td>[Übersicht, Klassen, Workshops, Preise, Team]</td>\n",
       "      <td>Entdecke mit uns die vielseitige Welt der Luft...</td>\n",
       "      <td>info@luftbonbon.com</td>\n",
       "      <td>https://www.luftbonbon.com/</td>\n",
       "      <td>01622572081</td>\n",
       "      <td>https://www.eversports.de/s/luftbonbon</td>\n",
       "      <td>[Poledance, Aerial Hoop, Poledance, Stärkung/F...</td>\n",
       "      <td>Zum Stundenplan</td>\n",
       "      <td>2024-02-21 15:12:39</td>\n",
       "      <td>2024-02-21 15:12:39</td>\n",
       "    </tr>\n",
       "    <tr>\n",
       "      <th>4</th>\n",
       "      <td>Pole Dance Beauties</td>\n",
       "      <td>[Edmund-von-Lippmann-Straße 9 ,  06112 Halle (...</td>\n",
       "      <td>06112</td>\n",
       "      <td>Halle</td>\n",
       "      <td>Edmund-von-Lippmann-Straße 9</td>\n",
       "      <td>[Übersicht, Klassen, Trainings, Videos, Preise...</td>\n",
       "      <td>Pole Dance Beauties - Dein Pole Dance Studio i...</td>\n",
       "      <td>kontakt@poledancebeauties.de</td>\n",
       "      <td>http://www.poledancebeauties.de</td>\n",
       "      <td>+49 1797553246</td>\n",
       "      <td>https://www.eversports.de/s/pole-dance-beauties</td>\n",
       "      <td>[Aerial Hoop, Pilates, Krafttraining, Stretchi...</td>\n",
       "      <td>1 Angebot für Neukund:innen</td>\n",
       "      <td>2024-02-21 15:12:49</td>\n",
       "      <td>2024-02-21 15:12:49</td>\n",
       "    </tr>\n",
       "    <tr>\n",
       "      <th>...</th>\n",
       "      <td>...</td>\n",
       "      <td>...</td>\n",
       "      <td>...</td>\n",
       "      <td>...</td>\n",
       "      <td>...</td>\n",
       "      <td>...</td>\n",
       "      <td>...</td>\n",
       "      <td>...</td>\n",
       "      <td>...</td>\n",
       "      <td>...</td>\n",
       "      <td>...</td>\n",
       "      <td>...</td>\n",
       "      <td>...</td>\n",
       "      <td>...</td>\n",
       "      <td>...</td>\n",
       "    </tr>\n",
       "    <tr>\n",
       "      <th>161</th>\n",
       "      <td>Les.Pole</td>\n",
       "      <td>[Bellingerstraße 12 ,  36043 Fulda]</td>\n",
       "      <td>36043</td>\n",
       "      <td>Fulda</td>\n",
       "      <td>Bellingerstraße 12</td>\n",
       "      <td>[Übersicht, Klassen, Workshops, Preise, Team]</td>\n",
       "      <td>Poledance, Chairdance, Exotic, Floorwork.........</td>\n",
       "      <td>info@les-pole.de</td>\n",
       "      <td>https://www.instagram.com/les.pole</td>\n",
       "      <td>+49 15730850054</td>\n",
       "      <td>https://www.eversports.de/s/lespole</td>\n",
       "      <td>[Poledance, Power Pole, Yoga, Akrobatik, Poled...</td>\n",
       "      <td>1 Angebot für Neukund:innen</td>\n",
       "      <td>2024-02-21 15:40:32</td>\n",
       "      <td>2024-02-21 15:40:32</td>\n",
       "    </tr>\n",
       "    <tr>\n",
       "      <th>162</th>\n",
       "      <td>T-Tanzstück Wolfsburg</td>\n",
       "      <td>[Borsigstraße 41,  38446 Wolfsburg]</td>\n",
       "      <td>38446</td>\n",
       "      <td>Wolfsburg</td>\n",
       "      <td>Borsigstraße 41</td>\n",
       "      <td>[Übersicht, Klassen, Kurse, Preise, Team]</td>\n",
       "      <td>Das T-Tanzstück Wolfsburg im Gewerbegebiet Ost...</td>\n",
       "      <td>ttanzstueck@gmail.com</td>\n",
       "      <td>https://t-tanzstueck.de/</td>\n",
       "      <td>+491781697900</td>\n",
       "      <td>https://www.eversports.de/s/t-tanzstueck-wolfs...</td>\n",
       "      <td>[Poledance, Personal Training, Aerial Hoop, Ae...</td>\n",
       "      <td>4 Angebote für Neukund:innen</td>\n",
       "      <td>2024-02-21 15:40:44</td>\n",
       "      <td>2024-02-21 15:40:44</td>\n",
       "    </tr>\n",
       "    <tr>\n",
       "      <th>163</th>\n",
       "      <td>Move On! Dance Studio &amp; Polemotions</td>\n",
       "      <td>[Pachtener Straße 32 ,  66763 Dillingen/Saar]</td>\n",
       "      <td>66763</td>\n",
       "      <td>Dillingen/Saar</td>\n",
       "      <td>Pachtener Straße 32</td>\n",
       "      <td>[Übersicht, Klassen, Kurse, Preise, Team]</td>\n",
       "      <td>Das Tanzstudio in Dillingen/Saar für Jung und ...</td>\n",
       "      <td>info@move-on-dance.de</td>\n",
       "      <td>http://www.move-on-dance.de</td>\n",
       "      <td>+49 17655262699</td>\n",
       "      <td>https://www.eversports.de/s/move-on-dance-stud...</td>\n",
       "      <td>[Fitness, Tanzen, Fitness, Tanzen, Fitness, Ta...</td>\n",
       "      <td>Zum Stundenplan</td>\n",
       "      <td>2024-02-21 15:40:48</td>\n",
       "      <td>2024-02-21 15:40:48</td>\n",
       "    </tr>\n",
       "    <tr>\n",
       "      <th>164</th>\n",
       "      <td>INDEED UNIQUE - Studio Wien</td>\n",
       "      <td>[Kranzgasse 9 ,  1150 Wien]</td>\n",
       "      <td>1150</td>\n",
       "      <td>Wien</td>\n",
       "      <td>Kranzgasse 9</td>\n",
       "      <td>[Übersicht, Klassen, Kurse, Preise, Team]</td>\n",
       "      <td>Unser Tanzstudio verfügt über 2 Tanzsäle, eine...</td>\n",
       "      <td>indeed.unique@gmail.com</td>\n",
       "      <td>https://www.indeedunique.com/</td>\n",
       "      <td>+43 677 64391543</td>\n",
       "      <td>https://www.eversports.de/s/indeed-unique-stud...</td>\n",
       "      <td>[Tanzen, Tanzen, Tanzen, Tanzen, Tanzen, 2 Rez...</td>\n",
       "      <td>Zum Stundenplan</td>\n",
       "      <td>2024-02-21 15:40:54</td>\n",
       "      <td>2024-02-21 15:40:54</td>\n",
       "    </tr>\n",
       "    <tr>\n",
       "      <th>165</th>\n",
       "      <td>(INACTIVE) POLE CIRCUS Augsburg</td>\n",
       "      <td>[Rehmstraße 4,  86161 Augsburg]</td>\n",
       "      <td>86161</td>\n",
       "      <td>Augsburg</td>\n",
       "      <td>Rehmstraße 4</td>\n",
       "      <td>[Übersicht]</td>\n",
       "      <td>Diese Sportanlage bietet eine Vielzahl an Spor...</td>\n",
       "      <td>info@polecircus.de</td>\n",
       "      <td>https://www.polecircus.de</td>\n",
       "      <td>+4917670153933</td>\n",
       "      <td>https://www.eversports.de/s/pole-circus</td>\n",
       "      <td>[1 Rezensionen, Poledance, Barre-Training, Str...</td>\n",
       "      <td>None</td>\n",
       "      <td>2024-02-21 15:41:10</td>\n",
       "      <td>2024-02-21 15:41:10</td>\n",
       "    </tr>\n",
       "  </tbody>\n",
       "</table>\n",
       "<p>166 rows × 15 columns</p>\n",
       "</div>"
      ],
      "text/plain": [
       "                         PoleStudio_Name  \\\n",
       "0                      Tanzstudio Michel   \n",
       "1                    Polestation Academy   \n",
       "2                        Poledance 4 you   \n",
       "3                             Luftbonbon   \n",
       "4                    Pole Dance Beauties   \n",
       "..                                   ...   \n",
       "161                             Les.Pole   \n",
       "162                T-Tanzstück Wolfsburg   \n",
       "163  Move On! Dance Studio & Polemotions   \n",
       "164          INDEED UNIQUE - Studio Wien   \n",
       "165      (INACTIVE) POLE CIRCUS Augsburg   \n",
       "\n",
       "                                               Adresse    PLZ           Stadt  \\\n",
       "0                    [Schmalweg 50 ,  55252 Wiesbaden]  55252       Wiesbaden   \n",
       "1                       [Marktstraße 20b ,  6971 Hard]   6971            Hard   \n",
       "2                 [Naugarder Straße 14,  10409 Berlin]  10409          Berlin   \n",
       "3             [Königstraße 45 ,  32547 Bad Oeynhausen]  32547             Bad   \n",
       "4    [Edmund-von-Lippmann-Straße 9 ,  06112 Halle (...  06112           Halle   \n",
       "..                                                 ...    ...             ...   \n",
       "161                [Bellingerstraße 12 ,  36043 Fulda]  36043           Fulda   \n",
       "162                [Borsigstraße 41,  38446 Wolfsburg]  38446       Wolfsburg   \n",
       "163      [Pachtener Straße 32 ,  66763 Dillingen/Saar]  66763  Dillingen/Saar   \n",
       "164                        [Kranzgasse 9 ,  1150 Wien]   1150            Wien   \n",
       "165                    [Rehmstraße 4,  86161 Augsburg]  86161        Augsburg   \n",
       "\n",
       "                           Straße  \\\n",
       "0                    Schmalweg 50   \n",
       "1                 Marktstraße 20b   \n",
       "2             Naugarder Straße 14   \n",
       "3                  Königstraße 45   \n",
       "4    Edmund-von-Lippmann-Straße 9   \n",
       "..                            ...   \n",
       "161            Bellingerstraße 12   \n",
       "162               Borsigstraße 41   \n",
       "163           Pachtener Straße 32   \n",
       "164                  Kranzgasse 9   \n",
       "165                  Rehmstraße 4   \n",
       "\n",
       "                                               Buttons  \\\n",
       "0                   [Übersicht, Klassen, Preise, Team]   \n",
       "1           [Übersicht, Klassen, Videos, Preise, Team]   \n",
       "2                                          [Übersicht]   \n",
       "3        [Übersicht, Klassen, Workshops, Preise, Team]   \n",
       "4    [Übersicht, Klassen, Trainings, Videos, Preise...   \n",
       "..                                                 ...   \n",
       "161      [Übersicht, Klassen, Workshops, Preise, Team]   \n",
       "162          [Übersicht, Klassen, Kurse, Preise, Team]   \n",
       "163          [Übersicht, Klassen, Kurse, Preise, Team]   \n",
       "164          [Übersicht, Klassen, Kurse, Preise, Team]   \n",
       "165                                        [Übersicht]   \n",
       "\n",
       "                              Pole Studio Beschreibung  \\\n",
       "0    Das etablierte Tanzstudio in Wiesbaden bietet ...   \n",
       "1    Polestation Academy ist ein Ort für Pole und A...   \n",
       "2    Das Motto des Berliner Pole Dance Studios laut...   \n",
       "3    Entdecke mit uns die vielseitige Welt der Luft...   \n",
       "4    Pole Dance Beauties - Dein Pole Dance Studio i...   \n",
       "..                                                 ...   \n",
       "161  Poledance, Chairdance, Exotic, Floorwork.........   \n",
       "162  Das T-Tanzstück Wolfsburg im Gewerbegebiet Ost...   \n",
       "163  Das Tanzstudio in Dillingen/Saar für Jung und ...   \n",
       "164  Unser Tanzstudio verfügt über 2 Tanzsäle, eine...   \n",
       "165  Diese Sportanlage bietet eine Vielzahl an Spor...   \n",
       "\n",
       "                            E-Mail                            Homepage  \\\n",
       "0                t.michel.9@gmx.de   https://www.tanzstudio-michel.de/   \n",
       "1                    blum.n@gmx.at          http://www.polestation.com   \n",
       "2            info@poledance4you.de       https://www.poledance4you.de/   \n",
       "3              info@luftbonbon.com         https://www.luftbonbon.com/   \n",
       "4     kontakt@poledancebeauties.de     http://www.poledancebeauties.de   \n",
       "..                             ...                                 ...   \n",
       "161               info@les-pole.de  https://www.instagram.com/les.pole   \n",
       "162          ttanzstueck@gmail.com            https://t-tanzstueck.de/   \n",
       "163          info@move-on-dance.de         http://www.move-on-dance.de   \n",
       "164        indeed.unique@gmail.com       https://www.indeedunique.com/   \n",
       "165             info@polecircus.de           https://www.polecircus.de   \n",
       "\n",
       "              Telefon                                              URL_S  \\\n",
       "0     +49 15115125871      https://www.eversports.de/s/tanzstudio-michel   \n",
       "1      +43 6642006568    https://www.eversports.de/s/polestation-academy   \n",
       "2                None        https://www.eversports.de/s/poledance-4-you   \n",
       "3         01622572081             https://www.eversports.de/s/luftbonbon   \n",
       "4      +49 1797553246    https://www.eversports.de/s/pole-dance-beauties   \n",
       "..                ...                                                ...   \n",
       "161   +49 15730850054                https://www.eversports.de/s/lespole   \n",
       "162     +491781697900  https://www.eversports.de/s/t-tanzstueck-wolfs...   \n",
       "163   +49 17655262699  https://www.eversports.de/s/move-on-dance-stud...   \n",
       "164  +43 677 64391543  https://www.eversports.de/s/indeed-unique-stud...   \n",
       "165    +4917670153933            https://www.eversports.de/s/pole-circus   \n",
       "\n",
       "                                                   Art  \\\n",
       "0    [1 Rezensionen, Fitness, Tanzen, Poledance, St...   \n",
       "1    [Poledance, Poledance, Poledance, Poledance, P...   \n",
       "2                [(Noch keine Bewertungen), Poledance]   \n",
       "3    [Poledance, Aerial Hoop, Poledance, Stärkung/F...   \n",
       "4    [Aerial Hoop, Pilates, Krafttraining, Stretchi...   \n",
       "..                                                 ...   \n",
       "161  [Poledance, Power Pole, Yoga, Akrobatik, Poled...   \n",
       "162  [Poledance, Personal Training, Aerial Hoop, Ae...   \n",
       "163  [Fitness, Tanzen, Fitness, Tanzen, Fitness, Ta...   \n",
       "164  [Tanzen, Tanzen, Tanzen, Tanzen, Tanzen, 2 Rez...   \n",
       "165  [1 Rezensionen, Poledance, Barre-Training, Str...   \n",
       "\n",
       "                          Angebot         Created Date         Updated Date  \n",
       "0                 Zum Stundenplan  2024-02-21 15:12:18  2024-02-21 15:12:18  \n",
       "1                 Zum Stundenplan  2024-02-21 15:12:26  2024-02-21 15:12:26  \n",
       "2                            None  2024-02-21 15:12:32  2024-02-21 15:12:32  \n",
       "3                 Zum Stundenplan  2024-02-21 15:12:39  2024-02-21 15:12:39  \n",
       "4     1 Angebot für Neukund:innen  2024-02-21 15:12:49  2024-02-21 15:12:49  \n",
       "..                            ...                  ...                  ...  \n",
       "161   1 Angebot für Neukund:innen  2024-02-21 15:40:32  2024-02-21 15:40:32  \n",
       "162  4 Angebote für Neukund:innen  2024-02-21 15:40:44  2024-02-21 15:40:44  \n",
       "163               Zum Stundenplan  2024-02-21 15:40:48  2024-02-21 15:40:48  \n",
       "164               Zum Stundenplan  2024-02-21 15:40:54  2024-02-21 15:40:54  \n",
       "165                          None  2024-02-21 15:41:10  2024-02-21 15:41:10  \n",
       "\n",
       "[166 rows x 15 columns]"
      ]
     },
     "execution_count": 8,
     "metadata": {},
     "output_type": "execute_result"
    }
   ],
   "source": [
    "result_pole_studio"
   ]
  },
  {
   "cell_type": "code",
   "execution_count": 9,
   "metadata": {},
   "outputs": [
    {
     "data": {
      "text/html": [
       "<div>\n",
       "<style scoped>\n",
       "    .dataframe tbody tr th:only-of-type {\n",
       "        vertical-align: middle;\n",
       "    }\n",
       "\n",
       "    .dataframe tbody tr th {\n",
       "        vertical-align: top;\n",
       "    }\n",
       "\n",
       "    .dataframe thead th {\n",
       "        text-align: right;\n",
       "    }\n",
       "</style>\n",
       "<table border=\"1\" class=\"dataframe\">\n",
       "  <thead>\n",
       "    <tr style=\"text-align: right;\">\n",
       "      <th></th>\n",
       "      <th>Workshop Name</th>\n",
       "      <th>Workshop Date</th>\n",
       "      <th>Workshop Price</th>\n",
       "      <th>Workshop Units</th>\n",
       "      <th>Workshop Studio</th>\n",
       "      <th>Workshop Address</th>\n",
       "      <th>URL_E</th>\n",
       "    </tr>\n",
       "  </thead>\n",
       "  <tbody>\n",
       "    <tr>\n",
       "      <th>0</th>\n",
       "      <td>Spagat</td>\n",
       "      <td>Feb05bis Feb 26</td>\n",
       "      <td>Ausgebucht</td>\n",
       "      <td>4 Einheiten</td>\n",
       "      <td>Luftbonbon</td>\n",
       "      <td>Königstraße 45, 32547 Bad Oeynhausen</td>\n",
       "      <td>https://www.eversports.de/e/workshop/60kU5cU</td>\n",
       "    </tr>\n",
       "    <tr>\n",
       "      <th>1</th>\n",
       "      <td>Kopfstand Technik Online Workshop</td>\n",
       "      <td>Feb24Samstag</td>\n",
       "      <td>ab 44,00 €</td>\n",
       "      <td>1 Einheit</td>\n",
       "      <td>Yoga and Pole Art by Selina</td>\n",
       "      <td>Online *, World Wide</td>\n",
       "      <td>https://www.eversports.de/e/workshop/p_eKWTW</td>\n",
       "    </tr>\n",
       "    <tr>\n",
       "      <th>2</th>\n",
       "      <td>Atemtechniken Online Workshop</td>\n",
       "      <td>März16Samstag</td>\n",
       "      <td>ab 44,00 €</td>\n",
       "      <td>1 Einheit</td>\n",
       "      <td>Yoga and Pole Art by Selina</td>\n",
       "      <td>Online *, World Wide</td>\n",
       "      <td>https://www.eversports.de/e/workshop/1PmB24I</td>\n",
       "    </tr>\n",
       "    <tr>\n",
       "      <th>3</th>\n",
       "      <td>Split &amp; Straddle Technik Online Workshop</td>\n",
       "      <td>März22Freitag</td>\n",
       "      <td>ab 44,00 €</td>\n",
       "      <td>1 Einheit</td>\n",
       "      <td>Yoga and Pole Art by Selina</td>\n",
       "      <td>Online *, World Wide</td>\n",
       "      <td>https://www.eversports.de/e/workshop/Zk4neM3</td>\n",
       "    </tr>\n",
       "    <tr>\n",
       "      <th>4</th>\n",
       "      <td>Split on Pole (Intermediate) Online Workshop</td>\n",
       "      <td>März29Freitag</td>\n",
       "      <td>ab 44,00 €</td>\n",
       "      <td>1 Einheit</td>\n",
       "      <td>Yoga and Pole Art by Selina</td>\n",
       "      <td>Online *, World Wide</td>\n",
       "      <td>https://www.eversports.de/e/workshop/VnmCBGD</td>\n",
       "    </tr>\n",
       "    <tr>\n",
       "      <th>...</th>\n",
       "      <td>...</td>\n",
       "      <td>...</td>\n",
       "      <td>...</td>\n",
       "      <td>...</td>\n",
       "      <td>...</td>\n",
       "      <td>...</td>\n",
       "      <td>...</td>\n",
       "    </tr>\n",
       "    <tr>\n",
       "      <th>259</th>\n",
       "      <td>ONLINE Heels Flow | Pole Workshop</td>\n",
       "      <td>Feb24Samstag</td>\n",
       "      <td>ab 25,00 €</td>\n",
       "      <td>1 Einheit</td>\n",
       "      <td>Les.Pole</td>\n",
       "      <td>Neue Fahrt 3, 34117 Kassel</td>\n",
       "      <td>https://www.eversports.de/e/workshop/ph8TlfO</td>\n",
       "    </tr>\n",
       "    <tr>\n",
       "      <th>260</th>\n",
       "      <td>ONLINE Perfect Pictures  | Pole Workshop</td>\n",
       "      <td>Apr26Freitag</td>\n",
       "      <td>ab 25,00 €</td>\n",
       "      <td>1 Einheit</td>\n",
       "      <td>Les.Pole</td>\n",
       "      <td>Neue Fahrt 3, 34117 Kassel</td>\n",
       "      <td>https://www.eversports.de/e/workshop/4lKTG4R</td>\n",
       "    </tr>\n",
       "    <tr>\n",
       "      <th>261</th>\n",
       "      <td>KASSEL+ONLINE Chairdance Perfect Pictures Work...</td>\n",
       "      <td>Mai04Samstag</td>\n",
       "      <td>ab 25,00 €</td>\n",
       "      <td>1 Einheit</td>\n",
       "      <td>Les.Pole</td>\n",
       "      <td>Schönfelder Straße 39, 34121 Kassel</td>\n",
       "      <td>https://www.eversports.de/e/workshop/lByHwWr</td>\n",
       "    </tr>\n",
       "    <tr>\n",
       "      <th>262</th>\n",
       "      <td>BREMEN Pole X Heels</td>\n",
       "      <td>Mai18Samstag</td>\n",
       "      <td>ab 45,00 €</td>\n",
       "      <td>1 Einheit</td>\n",
       "      <td>Les.Pole</td>\n",
       "      <td>Am Tabakquartier 62, 28197 Bremen</td>\n",
       "      <td>https://www.eversports.de/e/workshop/VC_twiJ</td>\n",
       "    </tr>\n",
       "    <tr>\n",
       "      <th>263</th>\n",
       "      <td>BREMEN Handbalance Essentials Pole Edition</td>\n",
       "      <td>Mai18Samstag</td>\n",
       "      <td>ab 45,00 €</td>\n",
       "      <td>1 Einheit</td>\n",
       "      <td>Les.Pole</td>\n",
       "      <td>Am Tabakquartier 62, 28197 Bremen</td>\n",
       "      <td>https://www.eversports.de/e/workshop/L-VuR9j</td>\n",
       "    </tr>\n",
       "  </tbody>\n",
       "</table>\n",
       "<p>264 rows × 7 columns</p>\n",
       "</div>"
      ],
      "text/plain": [
       "                                         Workshop Name    Workshop Date  \\\n",
       "0                                               Spagat  Feb05bis Feb 26   \n",
       "1                   Kopfstand Technik Online Workshop      Feb24Samstag   \n",
       "2                       Atemtechniken Online Workshop     März16Samstag   \n",
       "3            Split & Straddle Technik Online Workshop     März22Freitag   \n",
       "4         Split on Pole (Intermediate) Online Workshop    März29Freitag   \n",
       "..                                                 ...              ...   \n",
       "259                 ONLINE Heels Flow | Pole Workshop      Feb24Samstag   \n",
       "260           ONLINE Perfect Pictures  | Pole Workshop     Apr26Freitag   \n",
       "261  KASSEL+ONLINE Chairdance Perfect Pictures Work...     Mai04Samstag   \n",
       "262                                BREMEN Pole X Heels     Mai18Samstag   \n",
       "263         BREMEN Handbalance Essentials Pole Edition     Mai18Samstag   \n",
       "\n",
       "    Workshop Price Workshop Units              Workshop Studio  \\\n",
       "0       Ausgebucht    4 Einheiten                   Luftbonbon   \n",
       "1       ab 44,00 €      1 Einheit  Yoga and Pole Art by Selina   \n",
       "2       ab 44,00 €      1 Einheit  Yoga and Pole Art by Selina   \n",
       "3       ab 44,00 €      1 Einheit  Yoga and Pole Art by Selina   \n",
       "4       ab 44,00 €      1 Einheit  Yoga and Pole Art by Selina   \n",
       "..             ...            ...                          ...   \n",
       "259     ab 25,00 €      1 Einheit                     Les.Pole   \n",
       "260     ab 25,00 €      1 Einheit                     Les.Pole   \n",
       "261     ab 25,00 €      1 Einheit                     Les.Pole   \n",
       "262     ab 45,00 €      1 Einheit                     Les.Pole   \n",
       "263     ab 45,00 €      1 Einheit                     Les.Pole   \n",
       "\n",
       "                         Workshop Address  \\\n",
       "0    Königstraße 45, 32547 Bad Oeynhausen   \n",
       "1                    Online *, World Wide   \n",
       "2                    Online *, World Wide   \n",
       "3                    Online *, World Wide   \n",
       "4                    Online *, World Wide   \n",
       "..                                    ...   \n",
       "259            Neue Fahrt 3, 34117 Kassel   \n",
       "260            Neue Fahrt 3, 34117 Kassel   \n",
       "261   Schönfelder Straße 39, 34121 Kassel   \n",
       "262     Am Tabakquartier 62, 28197 Bremen   \n",
       "263     Am Tabakquartier 62, 28197 Bremen   \n",
       "\n",
       "                                            URL_E  \n",
       "0    https://www.eversports.de/e/workshop/60kU5cU  \n",
       "1    https://www.eversports.de/e/workshop/p_eKWTW  \n",
       "2    https://www.eversports.de/e/workshop/1PmB24I  \n",
       "3    https://www.eversports.de/e/workshop/Zk4neM3  \n",
       "4    https://www.eversports.de/e/workshop/VnmCBGD  \n",
       "..                                            ...  \n",
       "259  https://www.eversports.de/e/workshop/ph8TlfO  \n",
       "260  https://www.eversports.de/e/workshop/4lKTG4R  \n",
       "261  https://www.eversports.de/e/workshop/lByHwWr  \n",
       "262  https://www.eversports.de/e/workshop/VC_twiJ  \n",
       "263  https://www.eversports.de/e/workshop/L-VuR9j  \n",
       "\n",
       "[264 rows x 7 columns]"
      ]
     },
     "execution_count": 9,
     "metadata": {},
     "output_type": "execute_result"
    }
   ],
   "source": [
    "result_workshops"
   ]
  },
  {
   "cell_type": "code",
   "execution_count": 10,
   "metadata": {},
   "outputs": [
    {
     "data": {
      "text/html": [
       "<div>\n",
       "<style scoped>\n",
       "    .dataframe tbody tr th:only-of-type {\n",
       "        vertical-align: middle;\n",
       "    }\n",
       "\n",
       "    .dataframe tbody tr th {\n",
       "        vertical-align: top;\n",
       "    }\n",
       "\n",
       "    .dataframe thead th {\n",
       "        text-align: right;\n",
       "    }\n",
       "</style>\n",
       "<table border=\"1\" class=\"dataframe\">\n",
       "  <thead>\n",
       "    <tr style=\"text-align: right;\">\n",
       "      <th></th>\n",
       "      <th>Workshop Name</th>\n",
       "      <th>Description</th>\n",
       "      <th>Studio Name</th>\n",
       "      <th>Location</th>\n",
       "      <th>Art</th>\n",
       "      <th>Date</th>\n",
       "      <th>URL_E</th>\n",
       "      <th>Time</th>\n",
       "    </tr>\n",
       "  </thead>\n",
       "  <tbody>\n",
       "    <tr>\n",
       "      <th>0</th>\n",
       "      <td>Spagat</td>\n",
       "      <td>Straddle &amp; Middlesplit stehen ganz oben auf De...</td>\n",
       "      <td>Luftbonbon</td>\n",
       "      <td>20:20 - 21:20</td>\n",
       "      <td>Stärkung/Flexibilität</td>\n",
       "      <td>Begann am Montag, 5. Februar 2024</td>\n",
       "      <td>https://www.eversports.de/e/workshop/60kU5cU</td>\n",
       "      <td>Königstraße 45, 32547 Bad Oeynhausen</td>\n",
       "    </tr>\n",
       "    <tr>\n",
       "      <th>1</th>\n",
       "      <td>Kopfstand Technik Online Workshop</td>\n",
       "      <td>Der Kopfstand ist die erste Basis für viel wei...</td>\n",
       "      <td>Yoga and Pole Art by Selina</td>\n",
       "      <td>Diese Aktivität wird im Online Stream übertrag...</td>\n",
       "      <td>Vinyasa Yoga</td>\n",
       "      <td>Samstag, 24. Februar 2024</td>\n",
       "      <td>https://www.eversports.de/e/workshop/p_eKWTW</td>\n",
       "      <td>18:00 - 19:30</td>\n",
       "    </tr>\n",
       "    <tr>\n",
       "      <th>2</th>\n",
       "      <td>Atemtechniken Online Workshop</td>\n",
       "      <td>Inhalte des Workshops:  Aufbau des Workshops: ...</td>\n",
       "      <td>Yoga and Pole Art by Selina</td>\n",
       "      <td>Diese Aktivität wird im Online Stream übertrag...</td>\n",
       "      <td>Meditation</td>\n",
       "      <td>Samstag, 16. März 2024</td>\n",
       "      <td>https://www.eversports.de/e/workshop/1PmB24I</td>\n",
       "      <td>18:00 - 19:30</td>\n",
       "    </tr>\n",
       "    <tr>\n",
       "      <th>3</th>\n",
       "      <td>Split &amp; Straddle Technik Online Workshop</td>\n",
       "      <td>Du trainierst schon länger an deinem Spagat od...</td>\n",
       "      <td>Yoga and Pole Art by Selina</td>\n",
       "      <td>Diese Aktivität wird im Online Stream übertrag...</td>\n",
       "      <td>Vinyasa Yoga</td>\n",
       "      <td>Freitag, 22. März 2024</td>\n",
       "      <td>https://www.eversports.de/e/workshop/Zk4neM3</td>\n",
       "      <td>18:00 - 19:30</td>\n",
       "    </tr>\n",
       "    <tr>\n",
       "      <th>4</th>\n",
       "      <td>Split on Pole (Intermediate) Online Workshop</td>\n",
       "      <td>Du liebst Spagat Figuren und brauchst neue Var...</td>\n",
       "      <td>Yoga and Pole Art by Selina</td>\n",
       "      <td>Diese Aktivität wird im Online Stream übertrag...</td>\n",
       "      <td>Poledance</td>\n",
       "      <td>Freitag, 29. März 2024</td>\n",
       "      <td>https://www.eversports.de/e/workshop/VnmCBGD</td>\n",
       "      <td>12:00 - 13:30</td>\n",
       "    </tr>\n",
       "    <tr>\n",
       "      <th>...</th>\n",
       "      <td>...</td>\n",
       "      <td>...</td>\n",
       "      <td>...</td>\n",
       "      <td>...</td>\n",
       "      <td>...</td>\n",
       "      <td>...</td>\n",
       "      <td>...</td>\n",
       "      <td>...</td>\n",
       "    </tr>\n",
       "    <tr>\n",
       "      <th>259</th>\n",
       "      <td>ONLINE Heels Flow | Pole Workshop</td>\n",
       "      <td>Tauche ein in die sinnliche Welt des Pole Danc...</td>\n",
       "      <td>Les.Pole</td>\n",
       "      <td>Online</td>\n",
       "      <td>Poledance</td>\n",
       "      <td>Samstag, 24. Februar 2024</td>\n",
       "      <td>https://www.eversports.de/e/workshop/ph8TlfO</td>\n",
       "      <td>12:00 - 13:30</td>\n",
       "    </tr>\n",
       "    <tr>\n",
       "      <th>260</th>\n",
       "      <td>ONLINE Perfect Pictures  | Pole Workshop</td>\n",
       "      <td>Bei dir steht ein Fotoshooting an, aber dir fe...</td>\n",
       "      <td>Les.Pole</td>\n",
       "      <td>Online</td>\n",
       "      <td>Poledance</td>\n",
       "      <td>Freitag, 26. April 2024</td>\n",
       "      <td>https://www.eversports.de/e/workshop/4lKTG4R</td>\n",
       "      <td>19:00 - 20:30</td>\n",
       "    </tr>\n",
       "    <tr>\n",
       "      <th>261</th>\n",
       "      <td>KASSEL+ONLINE Chairdance Perfect Pictures Work...</td>\n",
       "      <td>Bei dir steht ein Fotoshooting an, aber dir fe...</td>\n",
       "      <td>Les.Pole</td>\n",
       "      <td>Online</td>\n",
       "      <td>Poledance</td>\n",
       "      <td>Samstag, 4. Mai 2024</td>\n",
       "      <td>https://www.eversports.de/e/workshop/lByHwWr</td>\n",
       "      <td>12:00 - 13:30</td>\n",
       "    </tr>\n",
       "    <tr>\n",
       "      <th>262</th>\n",
       "      <td>BREMEN Pole X Heels</td>\n",
       "      <td>Musik an, jetzt wird getanzt!... Leg Swirls, B...</td>\n",
       "      <td>Les.Pole</td>\n",
       "      <td>Einzelticket</td>\n",
       "      <td>Poledance</td>\n",
       "      <td>Samstag, 18. Mai 2024</td>\n",
       "      <td>https://www.eversports.de/e/workshop/VC_twiJ</td>\n",
       "      <td>15:00 - 16:30</td>\n",
       "    </tr>\n",
       "    <tr>\n",
       "      <th>263</th>\n",
       "      <td>BREMEN Handbalance Essentials Pole Edition</td>\n",
       "      <td>Wir lernen gemeinsam die Grundlagen zu den The...</td>\n",
       "      <td>Les.Pole</td>\n",
       "      <td>Einzelticket</td>\n",
       "      <td>Akrobatik</td>\n",
       "      <td>Samstag, 18. Mai 2024</td>\n",
       "      <td>https://www.eversports.de/e/workshop/L-VuR9j</td>\n",
       "      <td>16:45 - 18:15</td>\n",
       "    </tr>\n",
       "  </tbody>\n",
       "</table>\n",
       "<p>264 rows × 8 columns</p>\n",
       "</div>"
      ],
      "text/plain": [
       "                                         Workshop Name  \\\n",
       "0                                               Spagat   \n",
       "1                    Kopfstand Technik Online Workshop   \n",
       "2                        Atemtechniken Online Workshop   \n",
       "3             Split & Straddle Technik Online Workshop   \n",
       "4         Split on Pole (Intermediate) Online Workshop   \n",
       "..                                                 ...   \n",
       "259                  ONLINE Heels Flow | Pole Workshop   \n",
       "260           ONLINE Perfect Pictures  | Pole Workshop   \n",
       "261  KASSEL+ONLINE Chairdance Perfect Pictures Work...   \n",
       "262                                BREMEN Pole X Heels   \n",
       "263         BREMEN Handbalance Essentials Pole Edition   \n",
       "\n",
       "                                           Description  \\\n",
       "0    Straddle & Middlesplit stehen ganz oben auf De...   \n",
       "1    Der Kopfstand ist die erste Basis für viel wei...   \n",
       "2    Inhalte des Workshops:  Aufbau des Workshops: ...   \n",
       "3    Du trainierst schon länger an deinem Spagat od...   \n",
       "4    Du liebst Spagat Figuren und brauchst neue Var...   \n",
       "..                                                 ...   \n",
       "259  Tauche ein in die sinnliche Welt des Pole Danc...   \n",
       "260  Bei dir steht ein Fotoshooting an, aber dir fe...   \n",
       "261  Bei dir steht ein Fotoshooting an, aber dir fe...   \n",
       "262  Musik an, jetzt wird getanzt!... Leg Swirls, B...   \n",
       "263  Wir lernen gemeinsam die Grundlagen zu den The...   \n",
       "\n",
       "                     Studio Name  \\\n",
       "0                     Luftbonbon   \n",
       "1    Yoga and Pole Art by Selina   \n",
       "2    Yoga and Pole Art by Selina   \n",
       "3    Yoga and Pole Art by Selina   \n",
       "4    Yoga and Pole Art by Selina   \n",
       "..                           ...   \n",
       "259                     Les.Pole   \n",
       "260                     Les.Pole   \n",
       "261                     Les.Pole   \n",
       "262                     Les.Pole   \n",
       "263                     Les.Pole   \n",
       "\n",
       "                                              Location                    Art  \\\n",
       "0                                        20:20 - 21:20  Stärkung/Flexibilität   \n",
       "1    Diese Aktivität wird im Online Stream übertrag...           Vinyasa Yoga   \n",
       "2    Diese Aktivität wird im Online Stream übertrag...             Meditation   \n",
       "3    Diese Aktivität wird im Online Stream übertrag...           Vinyasa Yoga   \n",
       "4    Diese Aktivität wird im Online Stream übertrag...              Poledance   \n",
       "..                                                 ...                    ...   \n",
       "259                                             Online              Poledance   \n",
       "260                                             Online              Poledance   \n",
       "261                                             Online              Poledance   \n",
       "262                                       Einzelticket              Poledance   \n",
       "263                                       Einzelticket              Akrobatik   \n",
       "\n",
       "                                  Date  \\\n",
       "0    Begann am Montag, 5. Februar 2024   \n",
       "1            Samstag, 24. Februar 2024   \n",
       "2               Samstag, 16. März 2024   \n",
       "3               Freitag, 22. März 2024   \n",
       "4               Freitag, 29. März 2024   \n",
       "..                                 ...   \n",
       "259          Samstag, 24. Februar 2024   \n",
       "260            Freitag, 26. April 2024   \n",
       "261               Samstag, 4. Mai 2024   \n",
       "262              Samstag, 18. Mai 2024   \n",
       "263              Samstag, 18. Mai 2024   \n",
       "\n",
       "                                            URL_E  \\\n",
       "0    https://www.eversports.de/e/workshop/60kU5cU   \n",
       "1    https://www.eversports.de/e/workshop/p_eKWTW   \n",
       "2    https://www.eversports.de/e/workshop/1PmB24I   \n",
       "3    https://www.eversports.de/e/workshop/Zk4neM3   \n",
       "4    https://www.eversports.de/e/workshop/VnmCBGD   \n",
       "..                                            ...   \n",
       "259  https://www.eversports.de/e/workshop/ph8TlfO   \n",
       "260  https://www.eversports.de/e/workshop/4lKTG4R   \n",
       "261  https://www.eversports.de/e/workshop/lByHwWr   \n",
       "262  https://www.eversports.de/e/workshop/VC_twiJ   \n",
       "263  https://www.eversports.de/e/workshop/L-VuR9j   \n",
       "\n",
       "                                     Time  \n",
       "0    Königstraße 45, 32547 Bad Oeynhausen  \n",
       "1                           18:00 - 19:30  \n",
       "2                           18:00 - 19:30  \n",
       "3                           18:00 - 19:30  \n",
       "4                           12:00 - 13:30  \n",
       "..                                    ...  \n",
       "259                         12:00 - 13:30  \n",
       "260                         19:00 - 20:30  \n",
       "261                         12:00 - 13:30  \n",
       "262                         15:00 - 16:30  \n",
       "263                         16:45 - 18:15  \n",
       "\n",
       "[264 rows x 8 columns]"
      ]
     },
     "execution_count": 10,
     "metadata": {},
     "output_type": "execute_result"
    }
   ],
   "source": [
    "result_workshop_details"
   ]
  },
  {
   "cell_type": "code",
   "execution_count": 19,
   "metadata": {},
   "outputs": [
    {
     "data": {
      "text/html": [
       "<div>\n",
       "<style scoped>\n",
       "    .dataframe tbody tr th:only-of-type {\n",
       "        vertical-align: middle;\n",
       "    }\n",
       "\n",
       "    .dataframe tbody tr th {\n",
       "        vertical-align: top;\n",
       "    }\n",
       "\n",
       "    .dataframe thead th {\n",
       "        text-align: right;\n",
       "    }\n",
       "</style>\n",
       "<table border=\"1\" class=\"dataframe\">\n",
       "  <thead>\n",
       "    <tr style=\"text-align: right;\">\n",
       "      <th></th>\n",
       "      <th>URL</th>\n",
       "    </tr>\n",
       "  </thead>\n",
       "  <tbody>\n",
       "    <tr>\n",
       "      <th>4</th>\n",
       "      <td>https://www.eversports.de/s/k%C3%B6rpernah</td>\n",
       "    </tr>\n",
       "    <tr>\n",
       "      <th>5</th>\n",
       "      <td>https://www.eversports.de/s/dance-moves-wolfen...</td>\n",
       "    </tr>\n",
       "    <tr>\n",
       "      <th>6</th>\n",
       "      <td>https://www.eversports.de/s/mypole</td>\n",
       "    </tr>\n",
       "    <tr>\n",
       "      <th>7</th>\n",
       "      <td>https://www.eversports.de/s/tanzstudio-michel</td>\n",
       "    </tr>\n",
       "    <tr>\n",
       "      <th>8</th>\n",
       "      <td>https://www.eversports.de/s/pole-sensation</td>\n",
       "    </tr>\n",
       "    <tr>\n",
       "      <th>9</th>\n",
       "      <td>https://www.eversports.de/s/poledance-rostock</td>\n",
       "    </tr>\n",
       "    <tr>\n",
       "      <th>10</th>\n",
       "      <td>https://www.eversports.de/s/wildheart-yoga-%26...</td>\n",
       "    </tr>\n",
       "    <tr>\n",
       "      <th>11</th>\n",
       "      <td>https://www.eversports.de/s/studio-beyou</td>\n",
       "    </tr>\n",
       "    <tr>\n",
       "      <th>12</th>\n",
       "      <td>https://www.eversports.de/s/polestation-academy</td>\n",
       "    </tr>\n",
       "    <tr>\n",
       "      <th>13</th>\n",
       "      <td>https://www.eversports.de/s/indeed-unique---st...</td>\n",
       "    </tr>\n",
       "    <tr>\n",
       "      <th>14</th>\n",
       "      <td>https://www.eversports.de/s/polefitness-by-sop...</td>\n",
       "    </tr>\n",
       "    <tr>\n",
       "      <th>15</th>\n",
       "      <td>https://www.eversports.de/s/unique-studios-sch...</td>\n",
       "    </tr>\n",
       "    <tr>\n",
       "      <th>16</th>\n",
       "      <td>https://www.eversports.de/s/poledance-4-you</td>\n",
       "    </tr>\n",
       "    <tr>\n",
       "      <th>17</th>\n",
       "      <td>https://www.eversports.de/s/luftbonbon</td>\n",
       "    </tr>\n",
       "    <tr>\n",
       "      <th>18</th>\n",
       "      <td>https://www.eversports.de/s/chromotion---aeria...</td>\n",
       "    </tr>\n",
       "    <tr>\n",
       "      <th>19</th>\n",
       "      <td>https://www.eversports.de/s/exquisuite</td>\n",
       "    </tr>\n",
       "    <tr>\n",
       "      <th>20</th>\n",
       "      <td>https://www.eversports.de/s/pole-emotion-breme...</td>\n",
       "    </tr>\n",
       "  </tbody>\n",
       "</table>\n",
       "</div>"
      ],
      "text/plain": [
       "                                                  URL\n",
       "4          https://www.eversports.de/s/k%C3%B6rpernah\n",
       "5   https://www.eversports.de/s/dance-moves-wolfen...\n",
       "6                  https://www.eversports.de/s/mypole\n",
       "7       https://www.eversports.de/s/tanzstudio-michel\n",
       "8          https://www.eversports.de/s/pole-sensation\n",
       "9       https://www.eversports.de/s/poledance-rostock\n",
       "10  https://www.eversports.de/s/wildheart-yoga-%26...\n",
       "11           https://www.eversports.de/s/studio-beyou\n",
       "12    https://www.eversports.de/s/polestation-academy\n",
       "13  https://www.eversports.de/s/indeed-unique---st...\n",
       "14  https://www.eversports.de/s/polefitness-by-sop...\n",
       "15  https://www.eversports.de/s/unique-studios-sch...\n",
       "16        https://www.eversports.de/s/poledance-4-you\n",
       "17             https://www.eversports.de/s/luftbonbon\n",
       "18  https://www.eversports.de/s/chromotion---aeria...\n",
       "19             https://www.eversports.de/s/exquisuite\n",
       "20  https://www.eversports.de/s/pole-emotion-breme..."
      ]
     },
     "execution_count": 19,
     "metadata": {},
     "output_type": "execute_result"
    }
   ],
   "source": [
    "result_urls.loc[4:20]"
   ]
  },
  {
   "cell_type": "markdown",
   "metadata": {},
   "source": [
    "---"
   ]
  },
  {
   "cell_type": "markdown",
   "metadata": {},
   "source": [
    "Test V7"
   ]
  },
  {
   "cell_type": "code",
   "execution_count": 12,
   "metadata": {},
   "outputs": [],
   "source": [
    "# import pandas as pd\n",
    "# from a_PyCaller import process_urls\n",
    "# from tqdm import tqdm\n",
    "# from datetime import datetime\n",
    "\n",
    "# def process_and_print_results(url, all_pole_studio_data, all_workshops_data, all_workshop_details_data):\n",
    "#     data = process_urls([url])\n",
    "\n",
    "#     if data:\n",
    "#         for key, df in data.items():\n",
    "#             if df is not None and not df.empty:\n",
    "#                 tqdm.write(f\"{datetime.now().strftime('%Y-%m-%d %H:%M:%S')} - INFO - Scraping Data from: {url}\")\n",
    "#                 tqdm.write(f\"{key.replace('_', ' ').title()}: {len(df)} entries\")\n",
    "\n",
    "#                 # Update the appropriate DataFrame\n",
    "#                 if key == 'pole_studio_data':\n",
    "#                     all_pole_studio_data = pd.concat([all_pole_studio_data, df], ignore_index=True)\n",
    "#                 elif key == 'workshops_data':\n",
    "#                     all_workshops_data = pd.concat([all_workshops_data, df], ignore_index=True)\n",
    "#                 elif key == 'workshop_details':\n",
    "#                     all_workshop_details_data = pd.concat([all_workshop_details_data, df], ignore_index=True)\n",
    "\n",
    "#     return all_pole_studio_data, all_workshops_data, all_workshop_details_data\n",
    "\n",
    "# def main():\n",
    "#     # # Load initial URLs\n",
    "#     # all_found_urls_s = pd.read_csv(\"your_output_file.csv\")\n",
    "#     # initial_urls = list(set(all_found_urls_s[\"0\"])) # Delete \"[:3]\" to scrape all Urls\n",
    "\n",
    "#     # Initialize DataFrames\n",
    "#     all_pole_studio_data = pd.DataFrame()\n",
    "#     all_workshops_data = pd.DataFrame()\n",
    "#     all_workshop_details_data = pd.DataFrame()\n",
    "\n",
    "#     # Process each URL with tqdm\n",
    "#     with tqdm(initial_urls, desc=\"Processing URLs\", dynamic_ncols=True) as pbar:\n",
    "#         for url in pbar:\n",
    "#             all_pole_studio_data, all_workshops_data, all_workshop_details_data = process_and_print_results(\n",
    "#                 url, all_pole_studio_data, all_workshops_data, all_workshop_details_data\n",
    "#             )\n",
    "\n",
    "#     # # Export DataFrames to CSV files\n",
    "#     all_pole_studio_data.to_csv(\"Pole_Studio_Übersicht_S.csv\", index=False)\n",
    "#     all_workshops_data.to_csv(\"Workshop_Liste_SW.csv\", index=False)\n",
    "#     all_workshop_details_data.to_csv(\"Workshop_Übersicht_E.csv\", index=False)\n",
    "\n",
    "#     # Return the final DataFrames\n",
    "#     return all_pole_studio_data, all_workshops_data, all_workshop_details_data\n",
    "\n",
    "# # Run the main function and get the final DataFrames\n",
    "# result_pole_studio, result_workshops, result_workshop_details = main()\n"
   ]
  },
  {
   "cell_type": "code",
   "execution_count": 13,
   "metadata": {},
   "outputs": [],
   "source": [
    "# result_pole_studio"
   ]
  },
  {
   "cell_type": "markdown",
   "metadata": {},
   "source": [
    "---"
   ]
  },
  {
   "cell_type": "code",
   "execution_count": 14,
   "metadata": {},
   "outputs": [],
   "source": [
    "# result_workshops"
   ]
  },
  {
   "cell_type": "code",
   "execution_count": 15,
   "metadata": {},
   "outputs": [],
   "source": [
    "# result_workshop_details"
   ]
  }
 ],
 "metadata": {
  "kernelspec": {
   "display_name": "Python 3",
   "language": "python",
   "name": "python3"
  },
  "language_info": {
   "codemirror_mode": {
    "name": "ipython",
    "version": 3
   },
   "file_extension": ".py",
   "mimetype": "text/x-python",
   "name": "python",
   "nbconvert_exporter": "python",
   "pygments_lexer": "ipython3",
   "version": "3.12.1"
  }
 },
 "nbformat": 4,
 "nbformat_minor": 2
}
