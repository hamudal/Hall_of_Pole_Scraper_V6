{
 "cells": [
  {
   "cell_type": "markdown",
   "metadata": {},
   "source": [
    "V6"
   ]
  },
  {
   "cell_type": "code",
   "execution_count": 4,
   "metadata": {},
   "outputs": [
    {
     "name": "stderr",
     "output_type": "stream",
     "text": [
      "Processing URLs:   0%|          | 0/7 [00:00<?, ?it/s]"
     ]
    },
    {
     "name": "stdout",
     "output_type": "stream",
     "text": [
      "Starting URL reconstruction...\n"
     ]
    },
    {
     "name": "stderr",
     "output_type": "stream",
     "text": [
      "2024-02-03 16:01:05,926 - INFO - Processing URL 1/1: https://www.eversports.de/s/infinity-polesports-eggenfelden\n"
     ]
    },
    {
     "name": "stdout",
     "output_type": "stream",
     "text": [
      "Converting to DataFrame...\n",
      "Validating URLs...\n"
     ]
    },
    {
     "name": "stderr",
     "output_type": "stream",
     "text": [
      "2024-02-03 16:01:07,100 - INFO - URL https://www.eversports.de/s/infinity-polesports-eggenfelden is valid.\n"
     ]
    },
    {
     "name": "stdout",
     "output_type": "stream",
     "text": [
      "Scraping Pole Studio Data from https://www.eversports.de/s/infinity-polesports-eggenfelden...\n"
     ]
    },
    {
     "name": "stderr",
     "output_type": "stream",
     "text": [
      "Processing URLs:  14%|█▍        | 1/7 [00:02<00:16,  2.72s/it, Current URL: https://www.eversports.de/s/infinity-polesports-eggenfelden]"
     ]
    },
    {
     "name": "stdout",
     "output_type": "stream",
     "text": [
      "Processing completed.\n",
      "Pole Studio Data: 1 entries\n",
      "Starting URL reconstruction...\n"
     ]
    },
    {
     "name": "stderr",
     "output_type": "stream",
     "text": [
      "2024-02-03 16:01:08,799 - INFO - Processing URL 1/3: https://www.eversports.de/s/indeed-unique-studio-wien\n"
     ]
    },
    {
     "name": "stdout",
     "output_type": "stream",
     "text": [
      "Error reconstructing URL for 'Kurse': Unrecognized text: 'Kurse'\n",
      "Converting to DataFrame...\n",
      "Validating URLs...\n"
     ]
    },
    {
     "name": "stderr",
     "output_type": "stream",
     "text": [
      "2024-02-03 16:01:10,113 - INFO - URL https://www.eversports.de/s/indeed-unique-studio-wien is valid.\n",
      "2024-02-03 16:01:10,115 - INFO - Processing URL 2/3: https://www.eversports.de/sp/indeed-unique-studio-wien\n",
      "2024-02-03 16:01:11,295 - INFO - URL https://www.eversports.de/sp/indeed-unique-studio-wien is not valid.\n",
      "2024-02-03 16:01:11,295 - INFO - Processing URL 3/3: https://www.eversports.de/s/indeed-unique-studio-wien/team\n",
      "2024-02-03 16:01:12,457 - INFO - URL https://www.eversports.de/s/indeed-unique-studio-wien/team is valid.\n"
     ]
    },
    {
     "name": "stdout",
     "output_type": "stream",
     "text": [
      "Scraping Pole Studio Data from https://www.eversports.de/s/indeed-unique-studio-wien...\n"
     ]
    },
    {
     "name": "stderr",
     "output_type": "stream",
     "text": [
      "Processing URLs:  29%|██▊       | 2/7 [00:20<00:57, 11.57s/it, Current URL: https://www.eversports.de/s/indeed-unique-studio-wien]      "
     ]
    },
    {
     "name": "stdout",
     "output_type": "stream",
     "text": [
      "Processing completed.\n",
      "Pole Studio Data: 1 entries\n",
      "Starting URL reconstruction...\n"
     ]
    },
    {
     "name": "stderr",
     "output_type": "stream",
     "text": [
      "Processing URLs:  43%|████▎     | 3/7 [00:21<00:27,  6.87s/it, Current URL: https://www.eversports.de/s/aerial-balance]           "
     ]
    },
    {
     "name": "stdout",
     "output_type": "stream",
     "text": [
      "Error during HTTP request: 404 Client Error: Not Found for url: https://www.eversports.de/s/aerial-balance\n",
      "Converting to DataFrame...\n",
      "Validating URLs...\n",
      "Processing completed.\n",
      "Starting URL reconstruction...\n"
     ]
    },
    {
     "name": "stderr",
     "output_type": "stream",
     "text": [
      "Processing URLs:  57%|█████▋    | 4/7 [00:23<00:13,  4.66s/it, Current URL: https://www.eversports.de/s/lea-aqua]      "
     ]
    },
    {
     "name": "stdout",
     "output_type": "stream",
     "text": [
      "Error during HTTP request: 404 Client Error: Not Found for url: https://www.eversports.de/s/lea-aqua\n",
      "Converting to DataFrame...\n",
      "Validating URLs...\n",
      "Processing completed.\n",
      "Starting URL reconstruction...\n"
     ]
    },
    {
     "name": "stderr",
     "output_type": "stream",
     "text": [
      "Processing URLs:  71%|███████▏  | 5/7 [00:24<00:06,  3.46s/it, Current URL: https://www.eversports.de/s/mypole]  "
     ]
    },
    {
     "name": "stdout",
     "output_type": "stream",
     "text": [
      "Error during HTTP request: 404 Client Error: Not Found for url: https://www.eversports.de/s/mypole\n",
      "Converting to DataFrame...\n",
      "Validating URLs...\n",
      "Processing completed.\n",
      "Starting URL reconstruction...\n"
     ]
    },
    {
     "name": "stderr",
     "output_type": "stream",
     "text": [
      "Processing URLs:  86%|████████▌ | 6/7 [00:25<00:02,  2.73s/it, Current URL: https://www.eversports.de/s/tanzteufel-emmendingen]"
     ]
    },
    {
     "name": "stdout",
     "output_type": "stream",
     "text": [
      "Error during HTTP request: 404 Client Error: Not Found for url: https://www.eversports.de/s/tanzteufel-emmendingen\n",
      "Converting to DataFrame...\n",
      "Validating URLs...\n",
      "Processing completed.\n",
      "Starting URL reconstruction...\n"
     ]
    },
    {
     "name": "stderr",
     "output_type": "stream",
     "text": [
      "2024-02-03 16:01:33,233 - INFO - Processing URL 1/4: https://www.eversports.de/s/polecreation\n"
     ]
    },
    {
     "name": "stdout",
     "output_type": "stream",
     "text": [
      "Converting to DataFrame...\n",
      "Validating URLs...\n"
     ]
    },
    {
     "name": "stderr",
     "output_type": "stream",
     "text": [
      "2024-02-03 16:01:34,657 - INFO - URL https://www.eversports.de/s/polecreation is valid.\n",
      "2024-02-03 16:01:34,658 - INFO - Processing URL 2/4: https://www.eversports.de/sw/polecreation\n",
      "2024-02-03 16:01:35,774 - INFO - URL https://www.eversports.de/sw/polecreation is valid.\n",
      "2024-02-03 16:01:35,775 - INFO - Processing URL 3/4: https://www.eversports.de/sp/polecreation\n",
      "2024-02-03 16:01:36,872 - INFO - URL https://www.eversports.de/sp/polecreation is valid.\n",
      "2024-02-03 16:01:36,873 - INFO - Processing URL 4/4: https://www.eversports.de/s/polecreation/team\n",
      "2024-02-03 16:01:38,213 - INFO - URL https://www.eversports.de/s/polecreation/team is valid.\n"
     ]
    },
    {
     "name": "stdout",
     "output_type": "stream",
     "text": [
      "Scraping Pole Studio Data from https://www.eversports.de/s/polecreation...\n",
      "Scraping Workshops Data from https://www.eversports.de/sw/polecreation...\n",
      "Scraping Workshop Details from https://www.eversports.de/e/workshop/bmZxua4...\n",
      "Scraping Workshop Details from https://www.eversports.de/e/workshop/qcRMhzd...\n",
      "Scraping Workshop Details from https://www.eversports.de/e/workshop/Zj0NETg...\n"
     ]
    },
    {
     "name": "stderr",
     "output_type": "stream",
     "text": [
      "Processing URLs: 100%|██████████| 7/7 [00:40<00:00,  5.77s/it, Current URL: https://www.eversports.de/s/polecreation]          "
     ]
    },
    {
     "name": "stdout",
     "output_type": "stream",
     "text": [
      "Processing completed.\n",
      "Pole Studio Data: 1 entries\n",
      "Workshops Data: 3 entries\n",
      "Workshop Details: 3 entries\n"
     ]
    },
    {
     "name": "stderr",
     "output_type": "stream",
     "text": [
      "\n"
     ]
    }
   ],
   "source": [
    "import pandas as pd\n",
    "from a_PyCaller import process_urls\n",
    "from tqdm import tqdm\n",
    "\n",
    "def process_and_print_results(url, all_pole_studio_data, all_workshops_data, all_workshop_details_data):\n",
    "    data = process_urls([url])\n",
    "\n",
    "    if data:\n",
    "        for key, df in data.items():\n",
    "            if df is not None and not df.empty:\n",
    "                print(f\"{key.replace('_', ' ').title()}: {len(df)} entries\")\n",
    "\n",
    "                # Update the appropriate DataFrame\n",
    "                if key == 'pole_studio_data':\n",
    "                    all_pole_studio_data = pd.concat([all_pole_studio_data, df], ignore_index=True)\n",
    "                elif key == 'workshops_data':\n",
    "                    all_workshops_data = pd.concat([all_workshops_data, df], ignore_index=True)\n",
    "                elif key == 'workshop_details':\n",
    "                    all_workshop_details_data = pd.concat([all_workshop_details_data, df], ignore_index=True)\n",
    "\n",
    "    return all_pole_studio_data, all_workshops_data, all_workshop_details_data\n",
    "\n",
    "def main():\n",
    "    # Load initial URLs\n",
    "    all_found_urls_s = pd.read_csv(\"your_output_file.csv\")\n",
    "    initial_urls = list(set(all_found_urls_s[\"0\"]))[:7] # Delete \"[:3]\" to scrape all Urls\n",
    "\n",
    "    # Initialize DataFrames\n",
    "    all_pole_studio_data = pd.DataFrame()\n",
    "    all_workshops_data = pd.DataFrame()\n",
    "    all_workshop_details_data = pd.DataFrame()\n",
    "\n",
    "    # Process each URL with tqdm\n",
    "    with tqdm(total=len(initial_urls), desc=\"Processing URLs\", dynamic_ncols=True) as pbar:\n",
    "        for url in initial_urls:\n",
    "            all_pole_studio_data, all_workshops_data, all_workshop_details_data = process_and_print_results(\n",
    "                url, all_pole_studio_data, all_workshops_data, all_workshop_details_data\n",
    "            )\n",
    "            pbar.update(1)\n",
    "            pbar.set_postfix_str(f\"Current URL: {url}\", refresh=True)\n",
    "\n",
    "    # # Export DataFrames to CSV files\n",
    "    all_pole_studio_data.to_csv(\"Pole_Studio_Übersicht_S.csv\", index=False)\n",
    "    all_workshops_data.to_csv(\"Workshop_Liste_SW.csv\", index=False)\n",
    "    all_workshop_details_data.to_csv(\"Workshop_Übersicht_E.csv\", index=False)\n",
    "\n",
    "    # Return the final DataFrames\n",
    "    return all_pole_studio_data, all_workshops_data, all_workshop_details_data\n",
    "\n",
    "# Run the main function and get the final DataFrames\n",
    "result_pole_studio, result_workshops, result_workshop_details = main()\n",
    "\n",
    "# Now you can access result_pole_studio, result_workshops, and result_workshop_details outside the function\n",
    "# print(result_pole_studio)\n",
    "# print(result_workshops)\n",
    "# print(result_workshop_details)\n"
   ]
  },
  {
   "cell_type": "code",
   "execution_count": 5,
   "metadata": {},
   "outputs": [
    {
     "data": {
      "text/html": [
       "<div>\n",
       "<style scoped>\n",
       "    .dataframe tbody tr th:only-of-type {\n",
       "        vertical-align: middle;\n",
       "    }\n",
       "\n",
       "    .dataframe tbody tr th {\n",
       "        vertical-align: top;\n",
       "    }\n",
       "\n",
       "    .dataframe thead th {\n",
       "        text-align: right;\n",
       "    }\n",
       "</style>\n",
       "<table border=\"1\" class=\"dataframe\">\n",
       "  <thead>\n",
       "    <tr style=\"text-align: right;\">\n",
       "      <th></th>\n",
       "      <th>PoleStudio_Name</th>\n",
       "      <th>Adresse</th>\n",
       "      <th>PLZ</th>\n",
       "      <th>Stadt</th>\n",
       "      <th>Straße</th>\n",
       "      <th>Buttons</th>\n",
       "      <th>Pole Studio Beschreibung</th>\n",
       "      <th>E-Mail</th>\n",
       "      <th>Homepage</th>\n",
       "      <th>Telefon</th>\n",
       "      <th>URL_S</th>\n",
       "      <th>Art</th>\n",
       "      <th>Angebot</th>\n",
       "      <th>Created Date</th>\n",
       "      <th>Updated Date</th>\n",
       "    </tr>\n",
       "  </thead>\n",
       "  <tbody>\n",
       "    <tr>\n",
       "      <th>0</th>\n",
       "      <td>Infinity Polesports Eggenfelden</td>\n",
       "      <td>[Landshuter Straße 65,  84307 Eggenfelden]</td>\n",
       "      <td>84307</td>\n",
       "      <td>Eggenfelden</td>\n",
       "      <td>Landshuter Straße 65</td>\n",
       "      <td>[Übersicht]</td>\n",
       "      <td>Infinity Polesports Eggenfelden ist das erste ...</td>\n",
       "      <td>info@infinity-polesports.de</td>\n",
       "      <td>https://www.infinity-polesports.de</td>\n",
       "      <td>+431721642077</td>\n",
       "      <td>https://www.eversports.de/s/infinity-polesport...</td>\n",
       "      <td>[11 Rezensionen, Poledance]</td>\n",
       "      <td>1 Angebot für Neukund:innen</td>\n",
       "      <td>2024-02-03 16:01:07</td>\n",
       "      <td>2024-02-03 16:01:07</td>\n",
       "    </tr>\n",
       "    <tr>\n",
       "      <th>1</th>\n",
       "      <td>INDEED UNIQUE - Studio Wien</td>\n",
       "      <td>[Kranzgasse 9 ,  1150 Wien]</td>\n",
       "      <td>1150</td>\n",
       "      <td>Wien</td>\n",
       "      <td>Kranzgasse 9</td>\n",
       "      <td>[Übersicht, Klassen, Kurse, Preise, Team]</td>\n",
       "      <td>Unser Tanzstudio verfügt über 2 Tanzsäle, eine...</td>\n",
       "      <td>indeed.unique@gmail.com</td>\n",
       "      <td>https://www.indeedunique.com/</td>\n",
       "      <td>+43 677 64391543</td>\n",
       "      <td>https://www.eversports.de/s/indeed-unique-stud...</td>\n",
       "      <td>[Tanzen, Tanzen, Tanzen, Tanzen, Tanzen, 1 Rez...</td>\n",
       "      <td>Zum Stundenplan</td>\n",
       "      <td>2024-02-03 16:01:25</td>\n",
       "      <td>2024-02-03 16:01:25</td>\n",
       "    </tr>\n",
       "    <tr>\n",
       "      <th>2</th>\n",
       "      <td>PoleCreation</td>\n",
       "      <td>[Immenstädter Straße 11 ,  87435 Kempten (Allg...</td>\n",
       "      <td>87435</td>\n",
       "      <td>Kempten</td>\n",
       "      <td>Immenstädter Straße 11</td>\n",
       "      <td>[Übersicht, Klassen, Workshops, Preise, Team]</td>\n",
       "      <td>Du bist neu hier? Melde dich bitte ausschließl...</td>\n",
       "      <td>polecreationstudio@gmail.com</td>\n",
       "      <td>http://www.polecreation.de</td>\n",
       "      <td>None</td>\n",
       "      <td>https://www.eversports.de/s/polecreation</td>\n",
       "      <td>[Fitness, Personal Training, Poledance, Person...</td>\n",
       "      <td>Zum Stundenplan</td>\n",
       "      <td>2024-02-03 16:01:38</td>\n",
       "      <td>2024-02-03 16:01:38</td>\n",
       "    </tr>\n",
       "  </tbody>\n",
       "</table>\n",
       "</div>"
      ],
      "text/plain": [
       "                   PoleStudio_Name  \\\n",
       "0  Infinity Polesports Eggenfelden   \n",
       "1      INDEED UNIQUE - Studio Wien   \n",
       "2                     PoleCreation   \n",
       "\n",
       "                                             Adresse    PLZ        Stadt  \\\n",
       "0         [Landshuter Straße 65,  84307 Eggenfelden]  84307  Eggenfelden   \n",
       "1                        [Kranzgasse 9 ,  1150 Wien]   1150         Wien   \n",
       "2  [Immenstädter Straße 11 ,  87435 Kempten (Allg...  87435      Kempten   \n",
       "\n",
       "                    Straße                                        Buttons  \\\n",
       "0     Landshuter Straße 65                                    [Übersicht]   \n",
       "1            Kranzgasse 9       [Übersicht, Klassen, Kurse, Preise, Team]   \n",
       "2  Immenstädter Straße 11   [Übersicht, Klassen, Workshops, Preise, Team]   \n",
       "\n",
       "                            Pole Studio Beschreibung  \\\n",
       "0  Infinity Polesports Eggenfelden ist das erste ...   \n",
       "1  Unser Tanzstudio verfügt über 2 Tanzsäle, eine...   \n",
       "2  Du bist neu hier? Melde dich bitte ausschließl...   \n",
       "\n",
       "                          E-Mail                            Homepage  \\\n",
       "0    info@infinity-polesports.de  https://www.infinity-polesports.de   \n",
       "1        indeed.unique@gmail.com       https://www.indeedunique.com/   \n",
       "2   polecreationstudio@gmail.com          http://www.polecreation.de   \n",
       "\n",
       "            Telefon                                              URL_S  \\\n",
       "0     +431721642077  https://www.eversports.de/s/infinity-polesport...   \n",
       "1  +43 677 64391543  https://www.eversports.de/s/indeed-unique-stud...   \n",
       "2              None           https://www.eversports.de/s/polecreation   \n",
       "\n",
       "                                                 Art  \\\n",
       "0                        [11 Rezensionen, Poledance]   \n",
       "1  [Tanzen, Tanzen, Tanzen, Tanzen, Tanzen, 1 Rez...   \n",
       "2  [Fitness, Personal Training, Poledance, Person...   \n",
       "\n",
       "                       Angebot         Created Date         Updated Date  \n",
       "0  1 Angebot für Neukund:innen  2024-02-03 16:01:07  2024-02-03 16:01:07  \n",
       "1              Zum Stundenplan  2024-02-03 16:01:25  2024-02-03 16:01:25  \n",
       "2              Zum Stundenplan  2024-02-03 16:01:38  2024-02-03 16:01:38  "
      ]
     },
     "execution_count": 5,
     "metadata": {},
     "output_type": "execute_result"
    }
   ],
   "source": [
    "result_pole_studio"
   ]
  },
  {
   "cell_type": "code",
   "execution_count": 6,
   "metadata": {},
   "outputs": [
    {
     "data": {
      "text/html": [
       "<div>\n",
       "<style scoped>\n",
       "    .dataframe tbody tr th:only-of-type {\n",
       "        vertical-align: middle;\n",
       "    }\n",
       "\n",
       "    .dataframe tbody tr th {\n",
       "        vertical-align: top;\n",
       "    }\n",
       "\n",
       "    .dataframe thead th {\n",
       "        text-align: right;\n",
       "    }\n",
       "</style>\n",
       "<table border=\"1\" class=\"dataframe\">\n",
       "  <thead>\n",
       "    <tr style=\"text-align: right;\">\n",
       "      <th></th>\n",
       "      <th>Workshop Name</th>\n",
       "      <th>Description</th>\n",
       "      <th>Studio Name</th>\n",
       "      <th>Location</th>\n",
       "      <th>Level</th>\n",
       "      <th>Date</th>\n",
       "      <th>URL_E</th>\n",
       "      <th>Time</th>\n",
       "    </tr>\n",
       "  </thead>\n",
       "  <tbody>\n",
       "    <tr>\n",
       "      <th>0</th>\n",
       "      <td>Lapdance Valentine's Special</td>\n",
       "      <td>Woman only Valentins Special! It's getting hot...</td>\n",
       "      <td>PoleCreation</td>\n",
       "      <td>Einzelticket</td>\n",
       "      <td>Fitness</td>\n",
       "      <td>Samstag, 17. Februar 2024</td>\n",
       "      <td>https://www.eversports.de/e/workshop/bmZxua4</td>\n",
       "      <td>17:00 - 18:30</td>\n",
       "    </tr>\n",
       "    <tr>\n",
       "      <th>1</th>\n",
       "      <td>Lapdance Valentine's Special</td>\n",
       "      <td>Woman only Valentins Special! It's getting hot...</td>\n",
       "      <td>PoleCreation</td>\n",
       "      <td>Einzelticket</td>\n",
       "      <td>Fitness</td>\n",
       "      <td>Samstag, 17. Februar 2024</td>\n",
       "      <td>https://www.eversports.de/e/workshop/qcRMhzd</td>\n",
       "      <td>18:45 - 20:15</td>\n",
       "    </tr>\n",
       "    <tr>\n",
       "      <th>2</th>\n",
       "      <td>Lapdance Valentine's Special</td>\n",
       "      <td>Woman only Valentins Special! It's getting hot...</td>\n",
       "      <td>PoleCreation</td>\n",
       "      <td>Einzelticket</td>\n",
       "      <td>Fitness</td>\n",
       "      <td>Samstag, 24. Februar 2024</td>\n",
       "      <td>https://www.eversports.de/e/workshop/Zj0NETg</td>\n",
       "      <td>15:30 - 17:00</td>\n",
       "    </tr>\n",
       "  </tbody>\n",
       "</table>\n",
       "</div>"
      ],
      "text/plain": [
       "                  Workshop Name  \\\n",
       "0  Lapdance Valentine's Special   \n",
       "1  Lapdance Valentine's Special   \n",
       "2  Lapdance Valentine's Special   \n",
       "\n",
       "                                         Description   Studio Name  \\\n",
       "0  Woman only Valentins Special! It's getting hot...  PoleCreation   \n",
       "1  Woman only Valentins Special! It's getting hot...  PoleCreation   \n",
       "2  Woman only Valentins Special! It's getting hot...  PoleCreation   \n",
       "\n",
       "       Location    Level                       Date  \\\n",
       "0  Einzelticket  Fitness  Samstag, 17. Februar 2024   \n",
       "1  Einzelticket  Fitness  Samstag, 17. Februar 2024   \n",
       "2  Einzelticket  Fitness  Samstag, 24. Februar 2024   \n",
       "\n",
       "                                          URL_E           Time  \n",
       "0  https://www.eversports.de/e/workshop/bmZxua4  17:00 - 18:30  \n",
       "1  https://www.eversports.de/e/workshop/qcRMhzd  18:45 - 20:15  \n",
       "2  https://www.eversports.de/e/workshop/Zj0NETg  15:30 - 17:00  "
      ]
     },
     "execution_count": 6,
     "metadata": {},
     "output_type": "execute_result"
    }
   ],
   "source": [
    "result_workshop_details"
   ]
  }
 ],
 "metadata": {
  "kernelspec": {
   "display_name": "Python 3",
   "language": "python",
   "name": "python3"
  },
  "language_info": {
   "codemirror_mode": {
    "name": "ipython",
    "version": 3
   },
   "file_extension": ".py",
   "mimetype": "text/x-python",
   "name": "python",
   "nbconvert_exporter": "python",
   "pygments_lexer": "ipython3",
   "version": "3.12.1"
  }
 },
 "nbformat": 4,
 "nbformat_minor": 2
}
