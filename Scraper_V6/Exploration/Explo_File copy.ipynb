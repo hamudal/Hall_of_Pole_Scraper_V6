{
 "cells": [
  {
   "cell_type": "code",
   "execution_count": null,
   "metadata": {},
   "outputs": [],
   "source": [
    "import geopandas as gpd\n",
    "import matplotlib.pyplot as plt\n",
    "\n",
    "# Load Bundeslandgrenzen data for Germany\n",
    "bundeslaender = gpd.read_file(\"path/to/your/Bundeslaender.geojson\")\n",
    "\n",
    "# List of cities and their coordinates\n",
    "cities = {'Berlin': (13.4050, 52.5200),\n",
    "          'Hamburg': (9.9937, 53.5511),\n",
    "          'Munich': (11.5819, 48.1351),\n",
    "          'Cologne': (6.9603, 50.9375),\n",
    "          'Frankfurt': (8.6821, 50.1109),\n",
    "          'Stuttgart': (9.1829, 48.7758)}\n",
    "\n",
    "# Create a GeoDataFrame for cities\n",
    "geometry = gpd.points_from_xy(*zip(*cities.values()))\n",
    "gdf_cities = gpd.GeoDataFrame(geometry=geometry, index=cities.keys(), crs=\"EPSG:4326\")\n",
    "\n",
    "# Plotting\n",
    "fig, ax = plt.subplots(figsize=(10, 10))\n",
    "\n",
    "# Plot Bundeslandgrenzen\n",
    "bundeslaender.plot(ax=ax, edgecolor='black', linewidth=1, alpha=0.5)\n",
    "\n",
    "# Plot cities\n",
    "gdf_cities.plot(ax=ax, color='red', marker='o', markersize=50)\n",
    "\n",
    "# Set labels for cities\n",
    "for city, (x, y) in cities.items():\n",
    "    ax.text(x, y, city, fontsize=8)\n",
    "\n",
    "# Set title and show the plot\n",
    "plt.title('Germany with Cities')\n",
    "plt.show()\n"
   ]
  }
 ],
 "metadata": {
  "language_info": {
   "name": "python"
  }
 },
 "nbformat": 4,
 "nbformat_minor": 2
}
