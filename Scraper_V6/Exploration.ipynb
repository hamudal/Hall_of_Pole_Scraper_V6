{
 "cells": [
  {
   "cell_type": "code",
   "execution_count": 1,
   "metadata": {},
   "outputs": [],
   "source": [
    "import pandas as pd"
   ]
  },
  {
   "cell_type": "code",
   "execution_count": 2,
   "metadata": {},
   "outputs": [],
   "source": [
    "polestudios_url_S = pd.read_csv('Pole_Studio_Übersicht_S.csv')\n",
    "workshop_liste_SW = pd.read_csv('Workshop_Liste_SW.csv')\n",
    "workshop_übersicht_E = pd.read_csv('Workshop_Übersicht_E.csv')"
   ]
  },
  {
   "cell_type": "code",
   "execution_count": 5,
   "metadata": {},
   "outputs": [
    {
     "data": {
      "text/html": [
       "<div>\n",
       "<style scoped>\n",
       "    .dataframe tbody tr th:only-of-type {\n",
       "        vertical-align: middle;\n",
       "    }\n",
       "\n",
       "    .dataframe tbody tr th {\n",
       "        vertical-align: top;\n",
       "    }\n",
       "\n",
       "    .dataframe thead th {\n",
       "        text-align: right;\n",
       "    }\n",
       "</style>\n",
       "<table border=\"1\" class=\"dataframe\">\n",
       "  <thead>\n",
       "    <tr style=\"text-align: right;\">\n",
       "      <th></th>\n",
       "      <th>PoleStudio_Name</th>\n",
       "      <th>Adresse</th>\n",
       "      <th>PLZ</th>\n",
       "      <th>Stadt</th>\n",
       "      <th>Straße</th>\n",
       "      <th>Buttons</th>\n",
       "      <th>Pole Studio Beschreibung</th>\n",
       "      <th>E-Mail</th>\n",
       "      <th>Homepage</th>\n",
       "      <th>Telefon</th>\n",
       "      <th>URL_S</th>\n",
       "      <th>Art</th>\n",
       "      <th>Angebot</th>\n",
       "      <th>Created Date</th>\n",
       "      <th>Updated Date</th>\n",
       "    </tr>\n",
       "  </thead>\n",
       "  <tbody>\n",
       "    <tr>\n",
       "      <th>0</th>\n",
       "      <td>Les.Pole</td>\n",
       "      <td>['Bellingerstraße 12 ', ' 36043 Fulda']</td>\n",
       "      <td>36043</td>\n",
       "      <td>Fulda</td>\n",
       "      <td>Bellingerstraße 12</td>\n",
       "      <td>['Übersicht', 'Klassen', 'Workshops', 'Preise'...</td>\n",
       "      <td>Poledance, Chairdance, Exotic, Floorwork.........</td>\n",
       "      <td>info@les-pole.de</td>\n",
       "      <td>https://www.instagram.com/les.pole</td>\n",
       "      <td>+49 15730850054</td>\n",
       "      <td>https://www.eversports.de/s/lespole</td>\n",
       "      <td>['Poledance', 'Power Pole', 'Yoga', 'Akrobatik...</td>\n",
       "      <td>1 Angebot für Neukund:innen</td>\n",
       "      <td>2024-02-17 18:24:20</td>\n",
       "      <td>2024-02-17 18:24:20</td>\n",
       "    </tr>\n",
       "    <tr>\n",
       "      <th>1</th>\n",
       "      <td>Ramonas Tanzschmiede</td>\n",
       "      <td>['Ückendorfer Straße 121 ', ' 45886 Gelsenkirc...</td>\n",
       "      <td>45886</td>\n",
       "      <td>Gelsenkirchen</td>\n",
       "      <td>Ückendorfer Straße 121</td>\n",
       "      <td>['Übersicht', 'Klassen', 'Workshops', 'Preise'...</td>\n",
       "      <td>Herzlich Willkommen bei Ramonas Tanzschmiede!S...</td>\n",
       "      <td>kontakt@ramonas-tanzschmiede.de</td>\n",
       "      <td>http://www.ramonas-tanzschmiede.de</td>\n",
       "      <td>+49 209 - 366 556 28</td>\n",
       "      <td>https://www.eversports.de/s/ramonas-tanzschmiede</td>\n",
       "      <td>['Tanzen', 'Zumba', 'Tanzen', 'Hip Hop', 'Tanz...</td>\n",
       "      <td>Zum Stundenplan</td>\n",
       "      <td>2024-02-17 18:24:34</td>\n",
       "      <td>2024-02-17 18:24:34</td>\n",
       "    </tr>\n",
       "    <tr>\n",
       "      <th>2</th>\n",
       "      <td>Polefamily-Koblenz</td>\n",
       "      <td>['Löhrstraße 48 ', ' 56068 Koblenz']</td>\n",
       "      <td>56068</td>\n",
       "      <td>Koblenz</td>\n",
       "      <td>Löhrstraße 48</td>\n",
       "      <td>['Übersicht', 'Klassen', 'Preise', 'Team']</td>\n",
       "      <td>Das kleine familiäre Poledance und Kurs Studio...</td>\n",
       "      <td>Info@polefamily-koblenz.de</td>\n",
       "      <td>http://www.Polefamily-Koblenz.de</td>\n",
       "      <td>+4917662680953</td>\n",
       "      <td>https://www.eversports.de/s/polefamily-koblenz</td>\n",
       "      <td>['Poledance', 'Flexibles Training', 'Tanzen', ...</td>\n",
       "      <td>1 Angebot für Neukund:innen</td>\n",
       "      <td>2024-02-17 18:24:41</td>\n",
       "      <td>2024-02-17 18:24:41</td>\n",
       "    </tr>\n",
       "  </tbody>\n",
       "</table>\n",
       "</div>"
      ],
      "text/plain": [
       "        PoleStudio_Name                                            Adresse  \\\n",
       "0              Les.Pole            ['Bellingerstraße 12 ', ' 36043 Fulda']   \n",
       "1  Ramonas Tanzschmiede  ['Ückendorfer Straße 121 ', ' 45886 Gelsenkirc...   \n",
       "2    Polefamily-Koblenz               ['Löhrstraße 48 ', ' 56068 Koblenz']   \n",
       "\n",
       "     PLZ          Stadt                  Straße  \\\n",
       "0  36043          Fulda      Bellingerstraße 12   \n",
       "1  45886  Gelsenkirchen  Ückendorfer Straße 121   \n",
       "2  56068        Koblenz           Löhrstraße 48   \n",
       "\n",
       "                                             Buttons  \\\n",
       "0  ['Übersicht', 'Klassen', 'Workshops', 'Preise'...   \n",
       "1  ['Übersicht', 'Klassen', 'Workshops', 'Preise'...   \n",
       "2         ['Übersicht', 'Klassen', 'Preise', 'Team']   \n",
       "\n",
       "                            Pole Studio Beschreibung  \\\n",
       "0  Poledance, Chairdance, Exotic, Floorwork.........   \n",
       "1  Herzlich Willkommen bei Ramonas Tanzschmiede!S...   \n",
       "2  Das kleine familiäre Poledance und Kurs Studio...   \n",
       "\n",
       "                             E-Mail                            Homepage  \\\n",
       "0                  info@les-pole.de  https://www.instagram.com/les.pole   \n",
       "1   kontakt@ramonas-tanzschmiede.de  http://www.ramonas-tanzschmiede.de   \n",
       "2        Info@polefamily-koblenz.de    http://www.Polefamily-Koblenz.de   \n",
       "\n",
       "                Telefon                                             URL_S  \\\n",
       "0       +49 15730850054               https://www.eversports.de/s/lespole   \n",
       "1  +49 209 - 366 556 28  https://www.eversports.de/s/ramonas-tanzschmiede   \n",
       "2        +4917662680953    https://www.eversports.de/s/polefamily-koblenz   \n",
       "\n",
       "                                                 Art  \\\n",
       "0  ['Poledance', 'Power Pole', 'Yoga', 'Akrobatik...   \n",
       "1  ['Tanzen', 'Zumba', 'Tanzen', 'Hip Hop', 'Tanz...   \n",
       "2  ['Poledance', 'Flexibles Training', 'Tanzen', ...   \n",
       "\n",
       "                       Angebot         Created Date         Updated Date  \n",
       "0  1 Angebot für Neukund:innen  2024-02-17 18:24:20  2024-02-17 18:24:20  \n",
       "1              Zum Stundenplan  2024-02-17 18:24:34  2024-02-17 18:24:34  \n",
       "2  1 Angebot für Neukund:innen  2024-02-17 18:24:41  2024-02-17 18:24:41  "
      ]
     },
     "execution_count": 5,
     "metadata": {},
     "output_type": "execute_result"
    }
   ],
   "source": [
    "polestudios_url_S.head(3)"
   ]
  },
  {
   "cell_type": "code",
   "execution_count": 21,
   "metadata": {},
   "outputs": [
    {
     "data": {
      "text/plain": [
       "Art\n",
       "['(Noch keine Bewertungen)', 'Poledance']                                                                                                                                                                                                                                                                                                                                                                                                                                                                                                                                                                                                                                                                                                                                                                                                                                                                                                                                                                                                                                                                                                                                                                                                                                                                                                                                                                                                                                                                13\n",
       "['(Noch keine Bewertungen)', 'Fitness']                                                                                                                                                                                                                                                                                                                                                                                                                                                                                                                                                                                                                                                                                                                                                                                                                                                                                                                                                                                                                                                                                                                                                                                                                                                                                                                                                                                                                                                                   2\n",
       "['Poledance', 'Power Pole', 'Yoga', 'Akrobatik', 'Poledance', 'Poledance', 'Polesport', 'Power Pole', 'Poledance', '13 Rezensionen', 'Yoga', 'Poledance', 'Akrobatik', 'Power Pole', 'Stretching', 'Floorwork', 'Lapdance', 'Chairdance', 'Aerial Akrobatik', 'Polesport', 'Coaching', 'Training', 'Workout', 'Dehnung/Flexibilität', 'Exotic', 'Couch Flow']                                                                                                                                                                                                                                                                                                                                                                                                                                                                                                                                                                                                                                                                                                                                                                                                                                                                                                                                                                                                                                                                                                                                             1\n",
       "['Poledance', '9 Rezensionen', 'Yoga', 'Poledance']                                                                                                                                                                                                                                                                                                                                                                                                                                                                                                                                                                                                                                                                                                                                                                                                                                                                                                                                                                                                                                                                                                                                                                                                                                                                                                                                                                                                                                                       1\n",
       "['Yoga', 'Schwimmen', 'Yoga', 'Acroyoga', '20 Rezensionen', 'Schwimmen', 'Yoga', 'Wandern', 'Personal Training', 'Sauna', 'Acroyoga', 'Wellness', 'Meditation', 'Persönlichkeitsentwicklung', 'Iyengar Yoga', 'Vinyasa Yoga', 'Hatha Yoga', 'Kundalini Yoga', 'Yin Yoga', 'Ashtanga Yoga', 'Power Yoga', 'Kinderyoga', 'Therapie', 'Hatha Flow Yoga', 'Hormonyoga', 'Pranayama', 'Dreamy Yin Yoga', 'Atemübungen', 'Online Klasse', 'Gesichtsyoga', 'Yoga und Klänge', 'Yoga für Männer', 'Yoga für Teenager', 'Jivamukti Yoga', 'Faszienyoga', 'Präventionskurs', 'Fitness und Yoga', 'Breathwork', 'Atemsessions', 'Atemarbeit', 'Yoga für die Familie', 'Alignment Yoga', 'Corona Kleingruppentraining', 'Postnatal Yoga', 'Probetraining', 'Corona Plätze', 'Ganzheitliches Yoga', 'Seniorenyoga', 'Yoga für Mamis', 'Yogatherapie', 'Therapeutisches Yoga', 'Hatha-Vinyasa', 'Medizinisches Yoga', 'Mantra Yoga', 'Yoga Flow', 'Fat Friendly Yoga', 'Yoga-Basics', 'Kinder-Yoga', 'Ashtanga led', 'Persönliches Coaching', 'Yogalehrer Ausbildung', 'Yin Yoga Ausbildung', 'Hatha Yoga Ausbildung', 'Yoga für Frauen', 'Stärkung/Flexibilität', 'Core Yoga', 'Deep Flow Yoga', 'Faszien- & Yin Yoga', 'Morning Yoga Flow', 'Yoga und Krebs', 'Vinyasa Flow', 'Outdoor Yoga', 'Warrior Yoga', 'Privates Training', 'Retreats', 'Schwangerschaftsyoga Online', 'Schwangerschaftsyoga', 'Firmenyoga', 'Chakrayoga', 'WORKOUT & YOGA', 'Traumasensibles Yoga für Erwachsene', 'Yoga und Depression']     1\n",
       "                                                                                                                                                                                                                                                                                                                                                                                                                                                                                                                                                                                                                                                                                                                                                                                                                                                                                                                                                                                                                                                                                                                                                                                                                                                                                                                                                                                                                                                                                                         ..\n",
       "['Aerial Hoop', 'Poledance', 'Polesport', 'Poledance', 'Polesport', 'Poledance', 'Poledance', 'Aerial Hoop', 'Poledance', 'Aerial Hoop', '1 Rezensionen', 'Poledance', 'Stretching', 'Floorwork', 'Chairdance', 'Aerial Hoop', 'Polesport', 'Heels', 'Choreographie']                                                                                                                                                                                                                                                                                                                                                                                                                                                                                                                                                                                                                                                                                                                                                                                                                                                                                                                                                                                                                                                                                                                                                                                                                                     1\n",
       "['Fitness', 'Personal Training', 'Poledance', 'Personal Training', 'Personal Training', 'Poledance', '29 Rezensionen', 'Fitness', 'Yoga', 'Poledance', 'Personal Training', 'Akrobatik', 'Dehnung/Flexibilität']                                                                                                                                                                                                                                                                                                                                                                                                                                                                                                                                                                                                                                                                                                                                                                                                                                                                                                                                                                                                                                                                                                                                                                                                                                                                                          1\n",
       "['Poledance', 'Poledance', 'Poledance', 'Poledance', '11 Rezensionen', 'Poledance']                                                                                                                                                                                                                                                                                                                                                                                                                                                                                                                                                                                                                                                                                                                                                                                                                                                                                                                                                                                                                                                                                                                                                                                                                                                                                                                                                                                                                       1\n",
       "['Flexibles Training', 'Poledance', 'Poledance', 'Poledance', 'Aerial Yoga', 'Poledance', 'Online Klasse', 'Aerial Yoga', 'Poledance', '52 Rezensionen', 'Poledance', 'Aerial Yoga', 'Rückenfit', 'Funktionelles Training', 'Flexibles Training', 'Gruppenangebote', 'Events', 'Acroyoga', 'Bodywork', 'Stretching', 'Handstand', 'Vinyasa Yoga', 'Aerial Hoop', 'Hatha Yoga', 'Yin Yoga', 'Ashtanga Yoga', 'Polesport', 'twerXout®', 'Gruppentraining', 'Hatha Flow Yoga', 'Dreamy Yin Yoga', 'Yin Yang Yoga', 'Online Klasse', 'Prenatal Yoga', 'Dehnung/Flexibilität', 'Twerken', 'Acro Flow', 'Dehnbarkeit und Beweglichkeit', 'Magic Morning', 'Ganzheitliches Yoga', 'Ausbildung', 'Stretch yoga', 'Leichtes Yoga', 'Stretch Flow', 'Morning Yoga Flow', 'Vinyasa Flow', 'Mindful Yoga', 'Privates Training', 'Firmenyoga', 'Partner Yoga', 'Nachhaltigkeit']                                                                                                                                                                                                                                                                                                                                                                                                                                                                                                                                                                                                                                       1\n",
       "['Poledance', 'Akrobatik', 'Poledance', 'Aerial Yoga', 'Akrobatik', 'Poledance', 'Power Pole', 'Poledance', '62 Rezensionen', 'Poledance', 'Aerial Yoga', 'Akrobatik', 'Acroyoga', 'Power Pole', 'Floorwork', 'Lapdance', 'Chairdance', 'Aerial Silk', 'Aerial Dance', 'Aerial Hoop', 'Aerial Akrobatik', 'Polesport', 'Streetdance', 'Dehnung/Flexibilität', 'Exotic', 'Frame Up', 'Aerial Hammock']                                                                                                                                                                                                                                                                                                                                                                                                                                                                                                                                                                                                                                                                                                                                                                                                                                                                                                                                                                                                                                                                                                     1\n",
       "Name: count, Length: 147, dtype: int64"
      ]
     },
     "execution_count": 21,
     "metadata": {},
     "output_type": "execute_result"
    }
   ],
   "source": [
    "arten = polestudios_url_S['Art']\n",
    "arten.value_counts()"
   ]
  },
  {
   "cell_type": "code",
   "execution_count": 22,
   "metadata": {},
   "outputs": [
    {
     "data": {
      "text/plain": [
       "\"['Tanzen', 'Zumba', 'Tanzen', 'Hip Hop', 'Tanzen', 'Kindergeburtstag', 'Tanzen', 'Hip Hop', 'Poledance', 'Tanzen', '11 Rezensionen', 'Fitness', 'Gymnastik', 'Tanzen', 'Zumba', 'Hip Hop', 'Poledance', 'Salsa', 'Ballett', 'Bootcamp', 'Kindergeburtstag', 'Floorwork', 'Lapdance', 'Chairdance', 'Kindersport', 'Eltern und Kind', 'twerXout®', 'Kindertanz', 'Moderner Tanz', 'Streetdance', 'Bachata', 'Heels', 'Online Klasse', 'Bachata Dominicana', 'Strong Nation®', 'Kindertraining', 'Tanz-Fitness', 'Contemporary Dance', 'Twerken', 'Gr. Kindergeburtstag', 'Dancehall', 'Line Dance', 'Körperarbeit', 'Kindergeburtstag HipHop', 'Kinderballett', 'Ganzkörpertraining', 'Jazztanz', 'Contemporary Dance', 'Bühnentanz', 'Dance Fitness', 'Hochzeitstanz', 'Kraft', 'Ganzkörpertraining', 'Aktivitäten für Kinder', 'Aktivitäten für Erwachsene', 'Aktivitäten für Kinder und Erwachsene', 'Arbeit', 'Female Dance']\""
      ]
     },
     "execution_count": 22,
     "metadata": {},
     "output_type": "execute_result"
    }
   ],
   "source": [
    "arten_liste = []\n",
    "\n",
    "for items in arten:\n",
    "    arten_liste.append(items)\n",
    "\n",
    "arten_liste[1]"
   ]
  },
  {
   "cell_type": "code",
   "execution_count": 28,
   "metadata": {},
   "outputs": [
    {
     "data": {
      "text/plain": [
       "[\"['Tanzen'\",\n",
       " \" 'Zumba'\",\n",
       " \" 'Tanzen'\",\n",
       " \" 'Hip Hop'\",\n",
       " \" 'Tanzen'\",\n",
       " \" 'Kindergeburtstag'\",\n",
       " \" 'Tanzen'\",\n",
       " \" 'Hip Hop'\",\n",
       " \" 'Poledance'\",\n",
       " \" 'Tanzen'\",\n",
       " \" '11 Rezensionen'\",\n",
       " \" 'Fitness'\",\n",
       " \" 'Gymnastik'\",\n",
       " \" 'Tanzen'\",\n",
       " \" 'Zumba'\",\n",
       " \" 'Hip Hop'\",\n",
       " \" 'Poledance'\",\n",
       " \" 'Salsa'\",\n",
       " \" 'Ballett'\",\n",
       " \" 'Bootcamp'\",\n",
       " \" 'Kindergeburtstag'\",\n",
       " \" 'Floorwork'\",\n",
       " \" 'Lapdance'\",\n",
       " \" 'Chairdance'\",\n",
       " \" 'Kindersport'\",\n",
       " \" 'Eltern und Kind'\",\n",
       " \" 'twerXout®'\",\n",
       " \" 'Kindertanz'\",\n",
       " \" 'Moderner Tanz'\",\n",
       " \" 'Streetdance'\",\n",
       " \" 'Bachata'\",\n",
       " \" 'Heels'\",\n",
       " \" 'Online Klasse'\",\n",
       " \" 'Bachata Dominicana'\",\n",
       " \" 'Strong Nation®'\",\n",
       " \" 'Kindertraining'\",\n",
       " \" 'Tanz-Fitness'\",\n",
       " \" 'Contemporary Dance'\",\n",
       " \" 'Twerken'\",\n",
       " \" 'Gr. Kindergeburtstag'\",\n",
       " \" 'Dancehall'\",\n",
       " \" 'Line Dance'\",\n",
       " \" 'Körperarbeit'\",\n",
       " \" 'Kindergeburtstag HipHop'\",\n",
       " \" 'Kinderballett'\",\n",
       " \" 'Ganzkörpertraining'\",\n",
       " \" 'Jazztanz'\",\n",
       " \" 'Contemporary Dance'\",\n",
       " \" 'Bühnentanz'\",\n",
       " \" 'Dance Fitness'\",\n",
       " \" 'Hochzeitstanz'\",\n",
       " \" 'Kraft'\",\n",
       " \" 'Ganzkörpertraining'\",\n",
       " \" 'Aktivitäten für Kinder'\",\n",
       " \" 'Aktivitäten für Erwachsene'\",\n",
       " \" 'Aktivitäten für Kinder und Erwachsene'\",\n",
       " \" 'Arbeit'\",\n",
       " \" 'Female Dance']\"]"
      ]
     },
     "execution_count": 28,
     "metadata": {},
     "output_type": "execute_result"
    }
   ],
   "source": [
    "arten_liste[1].split(\",\")"
   ]
  },
  {
   "cell_type": "code",
   "execution_count": 29,
   "metadata": {},
   "outputs": [
    {
     "name": "stdout",
     "output_type": "stream",
     "text": [
      "   ID  Name  Alter\n",
      "0   1  John     25\n",
      "1   2  Jane     30\n",
      "2   3  John     25\n"
     ]
    }
   ],
   "source": [
    "import pandas as pd\n",
    "\n",
    "# Beispiel-Datensatz\n",
    "data = {\n",
    "    'ID': [1, 2, 3, 1, 2],\n",
    "    'Name': ['John', 'Jane', 'John', 'John', 'Jane'],\n",
    "    'Alter': [25, 30, 25, 26, 30]\n",
    "}\n",
    "\n",
    "# DataFrame erstellen\n",
    "df = pd.DataFrame(data)\n",
    "\n",
    "# Gruppierung nach ID und Aggregation der anderen Spalten\n",
    "unique_rows = df.groupby('ID').agg({'Name': 'first', 'Alter': 'first'}).reset_index()\n",
    "\n",
    "print(unique_rows)\n"
   ]
  },
  {
   "cell_type": "code",
   "execution_count": 30,
   "metadata": {},
   "outputs": [
    {
     "data": {
      "text/html": [
       "<div>\n",
       "<style scoped>\n",
       "    .dataframe tbody tr th:only-of-type {\n",
       "        vertical-align: middle;\n",
       "    }\n",
       "\n",
       "    .dataframe tbody tr th {\n",
       "        vertical-align: top;\n",
       "    }\n",
       "\n",
       "    .dataframe thead th {\n",
       "        text-align: right;\n",
       "    }\n",
       "</style>\n",
       "<table border=\"1\" class=\"dataframe\">\n",
       "  <thead>\n",
       "    <tr style=\"text-align: right;\">\n",
       "      <th></th>\n",
       "      <th>ID</th>\n",
       "      <th>Name</th>\n",
       "      <th>Alter</th>\n",
       "    </tr>\n",
       "  </thead>\n",
       "  <tbody>\n",
       "    <tr>\n",
       "      <th>0</th>\n",
       "      <td>1</td>\n",
       "      <td>John</td>\n",
       "      <td>25</td>\n",
       "    </tr>\n",
       "    <tr>\n",
       "      <th>1</th>\n",
       "      <td>2</td>\n",
       "      <td>Jane</td>\n",
       "      <td>30</td>\n",
       "    </tr>\n",
       "    <tr>\n",
       "      <th>2</th>\n",
       "      <td>3</td>\n",
       "      <td>John</td>\n",
       "      <td>25</td>\n",
       "    </tr>\n",
       "    <tr>\n",
       "      <th>3</th>\n",
       "      <td>1</td>\n",
       "      <td>John</td>\n",
       "      <td>26</td>\n",
       "    </tr>\n",
       "    <tr>\n",
       "      <th>4</th>\n",
       "      <td>2</td>\n",
       "      <td>Jane</td>\n",
       "      <td>30</td>\n",
       "    </tr>\n",
       "  </tbody>\n",
       "</table>\n",
       "</div>"
      ],
      "text/plain": [
       "   ID  Name  Alter\n",
       "0   1  John     25\n",
       "1   2  Jane     30\n",
       "2   3  John     25\n",
       "3   1  John     26\n",
       "4   2  Jane     30"
      ]
     },
     "execution_count": 30,
     "metadata": {},
     "output_type": "execute_result"
    }
   ],
   "source": [
    "df"
   ]
  }
 ],
 "metadata": {
  "kernelspec": {
   "display_name": "Python 3",
   "language": "python",
   "name": "python3"
  },
  "language_info": {
   "codemirror_mode": {
    "name": "ipython",
    "version": 3
   },
   "file_extension": ".py",
   "mimetype": "text/x-python",
   "name": "python",
   "nbconvert_exporter": "python",
   "pygments_lexer": "ipython3",
   "version": "3.12.1"
  }
 },
 "nbformat": 4,
 "nbformat_minor": 2
}
